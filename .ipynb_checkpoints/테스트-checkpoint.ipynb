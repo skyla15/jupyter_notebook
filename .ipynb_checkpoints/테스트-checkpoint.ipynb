{
 "cells": [
  {
   "cell_type": "code",
   "execution_count": 1,
   "metadata": {},
   "outputs": [
    {
     "ename": "NameError",
     "evalue": "name 'CCBDE' is not defined",
     "output_type": "error",
     "traceback": [
      "\u001b[0;31m---------------------------------------------------------------------------\u001b[0m",
      "\u001b[0;31mNameError\u001b[0m                                 Traceback (most recent call last)",
      "\u001b[0;32m<ipython-input-1-4d7e9e68afae>\u001b[0m in \u001b[0;36m<module>\u001b[0;34m\u001b[0m\n\u001b[1;32m     27\u001b[0m     \u001b[0msolution\u001b[0m\u001b[0;34m(\u001b[0m\u001b[0mlen\u001b[0m\u001b[0;34m(\u001b[0m\u001b[0mboard\u001b[0m\u001b[0;34m)\u001b[0m\u001b[0;34m,\u001b[0m \u001b[0mlen\u001b[0m\u001b[0;34m(\u001b[0m\u001b[0mboard\u001b[0m\u001b[0;34m[\u001b[0m\u001b[0;36m0\u001b[0m\u001b[0;34m]\u001b[0m\u001b[0;34m)\u001b[0m\u001b[0;34m,\u001b[0m \u001b[0mboard1\u001b[0m\u001b[0;34m)\u001b[0m\u001b[0;34m\u001b[0m\u001b[0;34m\u001b[0m\u001b[0m\n\u001b[1;32m     28\u001b[0m \u001b[0;34m\u001b[0m\u001b[0m\n\u001b[0;32m---> 29\u001b[0;31m \u001b[0mmain\u001b[0m\u001b[0;34m(\u001b[0m\u001b[0;34m)\u001b[0m\u001b[0;34m\u001b[0m\u001b[0;34m\u001b[0m\u001b[0m\n\u001b[0m\u001b[1;32m     30\u001b[0m \u001b[0;34m\u001b[0m\u001b[0m\n",
      "\u001b[0;32m<ipython-input-1-4d7e9e68afae>\u001b[0m in \u001b[0;36mmain\u001b[0;34m()\u001b[0m\n\u001b[1;32m     22\u001b[0m \u001b[0;34m\u001b[0m\u001b[0m\n\u001b[1;32m     23\u001b[0m \u001b[0;32mdef\u001b[0m \u001b[0mmain\u001b[0m\u001b[0;34m(\u001b[0m\u001b[0;34m)\u001b[0m\u001b[0;34m:\u001b[0m\u001b[0;34m\u001b[0m\u001b[0;34m\u001b[0m\u001b[0m\n\u001b[0;32m---> 24\u001b[0;31m     \u001b[0mboard1\u001b[0m \u001b[0;34m=\u001b[0m \u001b[0;34m[\u001b[0m\u001b[0mCCBDE\u001b[0m\u001b[0;34m,\u001b[0m \u001b[0mAAADE\u001b[0m\u001b[0;34m,\u001b[0m \u001b[0mAAABF\u001b[0m\u001b[0;34m,\u001b[0m \u001b[0mCCBBF\u001b[0m\u001b[0;34m]\u001b[0m\u001b[0;34m\u001b[0m\u001b[0;34m\u001b[0m\u001b[0m\n\u001b[0m\u001b[1;32m     25\u001b[0m     \u001b[0mboard2\u001b[0m \u001b[0;34m=\u001b[0m \u001b[0;34m[\u001b[0m\u001b[0mCCBDE\u001b[0m\u001b[0;34m,\u001b[0m \u001b[0mAAADE\u001b[0m\u001b[0;34m,\u001b[0m \u001b[0mAAABF\u001b[0m\u001b[0;34m,\u001b[0m \u001b[0mCCBBF\u001b[0m\u001b[0;34m]\u001b[0m\u001b[0;34m\u001b[0m\u001b[0;34m\u001b[0m\u001b[0m\n\u001b[1;32m     26\u001b[0m \u001b[0;34m\u001b[0m\u001b[0m\n",
      "\u001b[0;31mNameError\u001b[0m: name 'CCBDE' is not defined"
     ]
    }
   ],
   "source": [
    "def solution(m, n, board):\n",
    "    answer = 0\n",
    "    '''\n",
    "       012345    \n",
    "    0 [TTTANT, \n",
    "    1  RRFACC, \n",
    "    2  RRRFCC, \n",
    "    3  TRRRAA, \n",
    "    4  TTMMMF, \n",
    "    5  TMMTTJ]\n",
    "    '''\n",
    "    '''\n",
    "      [m][n]     [m][n+1]\n",
    "    [m+1][n]   [m+1][n+1]\n",
    "    '''\n",
    "    \n",
    "\n",
    "    return answer\n",
    "\n",
    "\n",
    "\n",
    "\n",
    "def main():\n",
    "    board1 = [CCBDE, AAADE, AAABF, CCBBF]\n",
    "    board2 = [CCBDE, AAADE, AAABF, CCBBF]\n",
    "    \n",
    "    solution(len(board), len(board[0]), board1) \n",
    "    \n",
    "main() \n",
    "    "
   ]
  },
  {
   "cell_type": "code",
   "execution_count": 56,
   "metadata": {},
   "outputs": [
    {
     "name": "stdout",
     "output_type": "stream",
     "text": [
      "위:  RR \n",
      "아래:  RR \n",
      "위:  CC \n",
      "아래:  CC \n",
      "위:  RR \n",
      "아래:  RR \n",
      "['TTTANT', 'RRFACC', 'RRRFCC', 'TRRRAA', 'TTMMMF', 'TMMTTJ']\n"
     ]
    }
   ],
   "source": [
    "a = ['TTTANT',\n",
    "     'RRFACC', \n",
    "     'RRRFCC', \n",
    "     'TRRRAA', \n",
    "     'TTMMMF', \n",
    "     'TMMTTJ']\n",
    "\n",
    "\n",
    "for i in range(len(a)-1): # 현재 줄 \n",
    "    for j in range(0,len(a[0])):\n",
    "        if a[i][j:j+2] == a[i+1][j:j+2] and len(a[i][j:j+2]) != 1:\n",
    "            print('위: ', a[i][j:j+2], end=' ')\n",
    "            print()\n",
    "            print('아래: ', a[i+1][j:j+2], end=' ')\n",
    "            print()\n",
    "            upper = a[i][j:j+2]\n",
    "            down = a[i+1][j:j+2]\n",
    "            upper.replace(a[i][j:j+2], '00')\n",
    "            down.replace(a[i+1][j:j+2], '00')\n",
    "\n",
    "print(a)a\n",
    "\n",
    "\n"
   ]
  },
  {
   "cell_type": "code",
   "execution_count": null,
   "metadata": {},
   "outputs": [],
   "source": []
  }
 ],
 "metadata": {
  "kernelspec": {
   "display_name": "Python 3",
   "language": "python",
   "name": "python3"
  },
  "language_info": {
   "codemirror_mode": {
    "name": "ipython",
    "version": 3
   },
   "file_extension": ".py",
   "mimetype": "text/x-python",
   "name": "python",
   "nbconvert_exporter": "python",
   "pygments_lexer": "ipython3",
   "version": "3.7.6"
  }
 },
 "nbformat": 4,
 "nbformat_minor": 4
}
