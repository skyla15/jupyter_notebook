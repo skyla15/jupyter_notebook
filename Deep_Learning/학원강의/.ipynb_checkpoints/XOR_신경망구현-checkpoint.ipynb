{
 "cells": [
  {
   "cell_type": "markdown",
   "metadata": {},
   "source": [
    "# 딥러닝 2일차"
   ]
  },
  {
   "cell_type": "markdown",
   "metadata": {},
   "source": [
    "## XOR 신경망 구현하기"
   ]
  },
  {
   "cell_type": "code",
   "execution_count": 1,
   "metadata": {},
   "outputs": [],
   "source": [
    "import numpy as np\n",
    "import random"
   ]
  },
  {
   "cell_type": "code",
   "execution_count": 2,
   "metadata": {},
   "outputs": [],
   "source": [
    "random.seed(0)"
   ]
  },
  {
   "cell_type": "markdown",
   "metadata": {},
   "source": [
    "### 환경 변수 지정"
   ]
  },
  {
   "cell_type": "code",
   "execution_count": 3,
   "metadata": {},
   "outputs": [
    {
     "data": {
      "text/plain": [
       "[[[0, 0], [0]], [[0, 1], [1]], [[1, 0], [1]], [[1, 1], [0]]]"
      ]
     },
     "execution_count": 3,
     "metadata": {},
     "output_type": "execute_result"
    }
   ],
   "source": [
    "# x, y 값 입력\n",
    "data =[[[0,0], [0]],\n",
    "       [[0,1], [1]],\n",
    "       [[1,0], [1]],\n",
    "       [[1,1], [0]]]\n",
    "data"
   ]
  },
  {
   "cell_type": "code",
   "execution_count": 4,
   "metadata": {},
   "outputs": [],
   "source": [
    "# sigmoid 함수\n",
    "def sigmoid(x, derivative=False):\n",
    "    if (derivative == True):\n",
    "        return x * (1-x)\n",
    "    return 1 / (1+np.exp(-x))    "
   ]
  },
  {
   "cell_type": "code",
   "execution_count": 10,
   "metadata": {},
   "outputs": [],
   "source": [
    "# tanH 함수\n",
    "def tanh(x, derivative=False):\n",
    "    if (derivative == True):\n",
    "        return 1-x**2\n",
    "    return np.tanh(x)"
   ]
  },
  {
   "cell_type": "markdown",
   "metadata": {},
   "source": [
    "## 가중치 함수"
   ]
  },
  {
   "cell_type": "code",
   "execution_count": 16,
   "metadata": {},
   "outputs": [],
   "source": [
    "def makeMatrix(i, j, fill=0.0):\n",
    "    mat = []\n",
    "    for i in range(i):\n",
    "        mat.append([fill] * j)\n",
    "    return mat"
   ]
  },
  {
   "cell_type": "markdown",
   "metadata": {},
   "source": [
    "## 신경망 구현"
   ]
  },
  {
   "cell_type": "code",
   "execution_count": 28,
   "metadata": {},
   "outputs": [],
   "source": [
    "# 실행횟수(iteraions), 학습률(learning rate), 모멘텀(momenterm) 설정\n",
    "iterations=5000\n",
    "lr=0.1\n",
    "mo=0.4"
   ]
  },
  {
   "cell_type": "code",
   "execution_count": 43,
   "metadata": {},
   "outputs": [
    {
     "name": "stdout",
     "output_type": "stream",
     "text": [
      "error: 0.72263\n",
      "error: 0.26551\n",
      "error: 0.02119\n",
      "error: 0.00710\n",
      "error: 0.00381\n",
      "error: 0.00251\n",
      "error: 0.00184\n",
      "error: 0.00145\n",
      "error: 0.00118\n",
      "error: 0.00100\n",
      "error: 0.00086\n",
      "error: 0.00076\n",
      "error: 0.00067\n",
      "error: 0.00061\n",
      "error: 0.00055\n",
      "error: 0.00051\n",
      "error: 0.00047\n",
      "error: 0.00043\n",
      "error: 0.00040\n",
      "error: 0.00038\n",
      "error: 0.00035\n",
      "error: 0.00033\n",
      "error: 0.00032\n",
      "error: 0.00030\n",
      "error: 0.00029\n",
      "error: 0.00027\n",
      "error: 0.00026\n",
      "error: 0.00025\n",
      "error: 0.00024\n",
      "error: 0.00023\n",
      "error: 0.00022\n",
      "error: 0.00021\n",
      "error: 0.00020\n",
      "error: 0.00020\n",
      "error: 0.00019\n",
      "error: 0.00018\n",
      "error: 0.00018\n",
      "error: 0.00017\n",
      "error: 0.00017\n",
      "error: 0.00016\n",
      "error: 0.00016\n",
      "error: 0.00015\n",
      "error: 0.00015\n",
      "error: 0.00015\n",
      "error: 0.00014\n",
      "error: 0.00014\n",
      "error: 0.00014\n",
      "error: 0.00013\n",
      "error: 0.00013\n",
      "error: 0.00013\n",
      "Input: [0, 0], Predict: [0.0005940778458137488]\n",
      "Input: [0, 1], Predict: [0.9889714567853399]\n",
      "Input: [1, 0], Predict: [0.9890004851192029]\n",
      "Input: [1, 1], Predict: [0.0021678199033020704]\n"
     ]
    }
   ],
   "source": [
    "class NeuralNetwork:\n",
    "    \n",
    "    # 입력값(num_x), 은닉층초깃값(num_yh), 출력층초깃값(num_yo), 바이어스(bias)\n",
    "    # 초깃값을 지정\n",
    "    def __init__(self, num_x, num_yh, num_yo, bias=1):\n",
    "        \n",
    "        self.num_x = num_x + bias\n",
    "        self.num_yh = num_yh\n",
    "        self.num_yo = num_yo\n",
    "        \n",
    "        # 활성화 함수 초깃값\n",
    "        self.activation_input = [1.0] * self.num_x\n",
    "        self.activation_hidden = [1.0] * self.num_yh\n",
    "        self.activation_out = [1.0] * self.num_yo\n",
    "        \n",
    "        # 가중치 입력 초깃값\n",
    "        self.weight_in = makeMatrix(self.num_x, self.num_yh)\n",
    "        for i in range(self.num_x):\n",
    "            for j in range(self.num_yh):\n",
    "                self.weight_in[i][j] = random.random()\n",
    "                \n",
    "        # 가중치 출력 초깃값\n",
    "        self.weight_out = makeMatrix(self.num_yh, self.num_yo)\n",
    "        for j in range(self.num_yh):\n",
    "            for k in range(self.num_yo):\n",
    "                self.weight_out[j][k] = random.random()\n",
    "                \n",
    "        # SGD를 위한 초깃값\n",
    "        self.gradient_in = makeMatrix(self.num_x, self.num_yh)\n",
    "        self.gradient_out = makeMatrix(self.num_yh, self.num_yo)\n",
    "        \n",
    "    def update(self, inputs):\n",
    "        \n",
    "        # 입력 레이어의 활성화 함수\n",
    "        for i in range(self.num_x - 1):\n",
    "            self.activation_input[i] = inputs[i]\n",
    "            \n",
    "        # 은닉층의 활성화 함수\n",
    "        for j in range(self.num_yh):\n",
    "            sum=0.0\n",
    "            for i in range(self.num_x):\n",
    "                sum = sum + self.activation_input[i] * self.weight_in[i][j]\n",
    "                self.activation_hidden[j] = tanh(sum, False)\n",
    "    \n",
    "        # 출력층의 활성화 함수\n",
    "        for k in range(self.num_yo):\n",
    "            sum=0.0\n",
    "            for j in range(self.num_yh):\n",
    "                sum = sum + self.activation_hidden[j] * self.weight_out[j][k]\n",
    "                self.activation_out[k] = tanh(sum, False)\n",
    "                \n",
    "        return self.activation_out[:]\n",
    "                \n",
    "                \n",
    "    # Back-propagation 실행\n",
    "    def backPropagate(self, targets):\n",
    "        \n",
    "        # 델타 출력 계산\n",
    "        output_deltas = [0.0] * self.num_yo\n",
    "        for k in range(self.num_yo):\n",
    "            error = targets[k] - self.activation_out[k]\n",
    "            # 활성화 함수 미분 적용\n",
    "            output_deltas[k] = tanh(self.activation_out[k], True) * error\n",
    "        \n",
    "        # 은닉 노드의 오차함수(Loss Function)\n",
    "        hidden_deltas = [0.0] * self.num_yh\n",
    "        for j in range(self.num_yh):\n",
    "            error = 0.0\n",
    "            for k in range(self.num_yo):\n",
    "                error = error + output_deltas[k] * self.weight_out[j][k]\n",
    "            hidden_deltas[j] = tanh(self.activation_hidden[j], True) * error\n",
    "        \n",
    "        # 출력 가중치 업데이트\n",
    "        for j in range(self.num_yh):\n",
    "            for k in range(self.num_yo):\n",
    "                gradient = output_deltas[k] * self.activation_hidden[j]\n",
    "                v = mo * self.gradient_out[j][k] - lr * gradient\n",
    "                self.weight_out[j][k] += v\n",
    "                self.gradient_out[j][k] = gradient\n",
    "                \n",
    "        # 입력 가중치 업데이트\n",
    "        for i in range(self.num_x):\n",
    "            for j in range(self.num_yh):\n",
    "                gradient = hidden_deltas[j] * self.activation_input[i]\n",
    "                v = mo * self.gradient_in[i][j] - lr * gradient\n",
    "                self.weight_in[i][j] += v\n",
    "                self.gradient_in[i][j] = gradient\n",
    "                \n",
    "        # 최소 제곱법으로 오차 계산\n",
    "        error = 0.0\n",
    "        for k in range(len(targets)):\n",
    "            error = error + 0.5 * (targets[k] - self.activation_out[k])**2\n",
    "        return error\n",
    "    \n",
    "    \n",
    "    # 학습 실행\n",
    "    def train(self, patterns):\n",
    "        for i in range(iterations):\n",
    "            error = 0.0\n",
    "            for p in patterns:\n",
    "                inputs = p[0]\n",
    "                targets = p[1]\n",
    "                self.update(inputs)\n",
    "                error = error + self.backPropagate(targets)\n",
    "            if i % 100 ==0:\n",
    "                print('error: %-.5f' % error)\n",
    "                \n",
    "    # 결괏값\n",
    "    def result(self, patterns):\n",
    "        for p in patterns:\n",
    "            print('Input: %s, Predict: %s' % (p[0], self.update(p[0])))            \n",
    "\n",
    "if __name__ == '__main__':  \n",
    "    \n",
    "    n = NeuralNetwork(2, 2, 1)\n",
    "    n.train(data)\n",
    "    n.result(data)"
   ]
  },
  {
   "cell_type": "code",
   "execution_count": 39,
   "metadata": {},
   "outputs": [],
   "source": [
    "n = NeuralNetwork(2, 2, 1)"
   ]
  },
  {
   "cell_type": "code",
   "execution_count": 40,
   "metadata": {},
   "outputs": [
    {
     "name": "stdout",
     "output_type": "stream",
     "text": [
      "error: 0.50934\n",
      "error: 0.50749\n",
      "error: 0.50306\n",
      "error: 0.43495\n",
      "error: 0.23661\n",
      "error: 0.10160\n",
      "error: 0.05938\n",
      "error: 0.04035\n",
      "error: 0.03003\n",
      "error: 0.02369\n"
     ]
    }
   ],
   "source": [
    "n.train(data)"
   ]
  },
  {
   "cell_type": "code",
   "execution_count": null,
   "metadata": {},
   "outputs": [],
   "source": []
  }
 ],
 "metadata": {
  "kernelspec": {
   "display_name": "Python 3",
   "language": "python",
   "name": "python3"
  },
  "language_info": {
   "codemirror_mode": {
    "name": "ipython",
    "version": 3
   },
   "file_extension": ".py",
   "mimetype": "text/x-python",
   "name": "python",
   "nbconvert_exporter": "python",
   "pygments_lexer": "ipython3",
   "version": "3.7.6"
  }
 },
 "nbformat": 4,
 "nbformat_minor": 4
}
