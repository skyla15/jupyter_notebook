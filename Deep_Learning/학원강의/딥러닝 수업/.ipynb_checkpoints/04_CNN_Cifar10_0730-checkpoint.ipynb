{
 "cells": [
  {
   "cell_type": "markdown",
   "metadata": {},
   "source": [
    "## CNN-cifa10"
   ]
  },
  {
   "cell_type": "code",
   "execution_count": 13,
   "metadata": {},
   "outputs": [],
   "source": [
    "import tensorflow as tf\n",
    "import numpy as np"
   ]
  },
  {
   "cell_type": "markdown",
   "metadata": {},
   "source": [
    "### 데이터 불러오기"
   ]
  },
  {
   "cell_type": "code",
   "execution_count": 21,
   "metadata": {},
   "outputs": [],
   "source": [
    "from tensorflow.keras.datasets import cifar10\n",
    "\n",
    "(X_train, y_train), (X_test, y_test) = cifar10.load_data()"
   ]
  },
  {
   "cell_type": "code",
   "execution_count": 22,
   "metadata": {},
   "outputs": [
    {
     "name": "stdout",
     "output_type": "stream",
     "text": [
      "(50000, 32, 32, 3)\n",
      "(50000, 1)\n",
      "(10000, 32, 32, 3)\n",
      "(10000, 1)\n"
     ]
    }
   ],
   "source": [
    "print(X_train.shape)\n",
    "print(y_train.shape)\n",
    "print(X_test.shape)\n",
    "print(y_test.shape)"
   ]
  },
  {
   "cell_type": "code",
   "execution_count": 23,
   "metadata": {},
   "outputs": [
    {
     "data": {
      "image/png": "[encoded data removed]",
      "text/plain": [
       "<Figure size 432x288 with 1 Axes>"
      ]
     },
     "metadata": {
      "needs_background": "light"
     },
     "output_type": "display_data"
    }
   ],
   "source": [
    "import matplotlib.pyplot as plt\n",
    "\n",
    "plt.imshow(X_train[15])\n",
    "plt.show()"
   ]
  },
  {
   "cell_type": "code",
   "execution_count": 24,
   "metadata": {},
   "outputs": [],
   "source": [
    "# X_train = X_train / 255.0\n",
    "# X_test = X_test / 255.0"
   ]
  },
  {
   "cell_type": "code",
   "execution_count": 32,
   "metadata": {},
   "outputs": [],
   "source": [
    "X_mean = np.mean(X_train, axis=(0, 1, 2))\n",
    "X_std = np.std(X_train, axis=(0, 1, 2))\n",
    "\n",
    "X_train = (X_train - X_mean) / X_std\n",
    "X_test = (X_test - X_mean) / X_std"
   ]
  },
  {
   "cell_type": "code",
   "execution_count": 44,
   "metadata": {},
   "outputs": [],
   "source": [
    "from tensorflow.keras.models import Sequential\n",
    "from tensorflow.keras.layers import Conv2D, MaxPool2D, Dense, Flatten, Dropout\n",
    "from tensorflow.keras.optimizers import Adam\n",
    "from tensorflow.keras.regularizers import l2\n",
    "\n",
    "model = Sequential([\n",
    "    Conv2D(32, 3, padding='same', activation='relu', input_shape=(32, 32, 3)),\n",
    "    Conv2D(32, 3, padding='same', activation='relu', kernel_regularizer=l2(0.001)),\n",
    "    MaxPool2D(pool_size=(2, 2), strides=2, padding='same',),\n",
    "    Conv2D(64, 3, activation='relu', padding='same',),\n",
    "    Conv2D(64, 3, activation='relu', padding='same', kernel_regularizer=l2(0.001)),\n",
    "    MaxPool2D(pool_size=(2, 2), strides=2, padding='same',),\n",
    "    Conv2D(128, 3, activation='relu', padding='same',),\n",
    "    Conv2D(128, 3, activation='relu', padding='same',kernel_regularizer=l2(0.001)),\n",
    "    MaxPool2D(pool_size=(2, 2), strides=2, padding='same',),\n",
    "    Flatten(),\n",
    "    Dense(256, activation='relu', kernel_regularizer=l2(0.001)),\n",
    "    Dense(10, activation='softmax')\n",
    "])"
   ]
  },
  {
   "cell_type": "code",
   "execution_count": 45,
   "metadata": {},
   "outputs": [
    {
     "name": "stdout",
     "output_type": "stream",
     "text": [
      "Train on 40000 samples, validate on 10000 samples\n",
      "Epoch 1/20\n",
      "40000/40000 [==============================] - 10s 244us/sample - loss: 1.7892 - acc: 0.4047 - val_loss: 1.4239 - val_acc: 0.5308\n",
      "Epoch 2/20\n",
      "40000/40000 [==============================] - 8s 211us/sample - loss: 1.2997 - acc: 0.5860 - val_loss: 1.1099 - val_acc: 0.6524\n",
      "Epoch 3/20\n",
      "40000/40000 [==============================] - 8s 211us/sample - loss: 1.0890 - acc: 0.6697 - val_loss: 1.2467 - val_acc: 0.6353\n",
      "Epoch 4/20\n",
      "40000/40000 [==============================] - 8s 208us/sample - loss: 0.9678 - acc: 0.7179 - val_loss: 0.9594 - val_acc: 0.7252\n",
      "Epoch 5/20\n",
      "40000/40000 [==============================] - 8s 209us/sample - loss: 0.8775 - acc: 0.7554 - val_loss: 1.0032 - val_acc: 0.7190\n",
      "Epoch 6/20\n",
      "40000/40000 [==============================] - 8s 211us/sample - loss: 0.8172 - acc: 0.7782 - val_loss: 0.8614 - val_acc: 0.7724\n",
      "Epoch 7/20\n",
      "40000/40000 [==============================] - 9s 213us/sample - loss: 0.7640 - acc: 0.7975 - val_loss: 0.9239 - val_acc: 0.7540\n",
      "Epoch 8/20\n",
      "40000/40000 [==============================] - 8s 211us/sample - loss: 0.7216 - acc: 0.8160 - val_loss: 0.8903 - val_acc: 0.7652\n",
      "Epoch 9/20\n",
      "40000/40000 [==============================] - 8s 207us/sample - loss: 0.6895 - acc: 0.8302 - val_loss: 0.9031 - val_acc: 0.7580\n",
      "Epoch 10/20\n",
      "40000/40000 [==============================] - 8s 210us/sample - loss: 0.6589 - acc: 0.8420 - val_loss: 0.9072 - val_acc: 0.7735\n",
      "Epoch 11/20\n",
      "40000/40000 [==============================] - 9s 215us/sample - loss: 0.6282 - acc: 0.8546 - val_loss: 0.8735 - val_acc: 0.7841\n",
      "Epoch 12/20\n",
      "40000/40000 [==============================] - 9s 216us/sample - loss: 0.6074 - acc: 0.8640 - val_loss: 0.8771 - val_acc: 0.7893\n",
      "Epoch 13/20\n",
      "40000/40000 [==============================] - 9s 214us/sample - loss: 0.5872 - acc: 0.8725 - val_loss: 0.9599 - val_acc: 0.7706\n",
      "Epoch 14/20\n",
      "40000/40000 [==============================] - 8s 207us/sample - loss: 0.5635 - acc: 0.8816 - val_loss: 0.9649 - val_acc: 0.7823\n",
      "Epoch 15/20\n",
      "40000/40000 [==============================] - 8s 211us/sample - loss: 0.5467 - acc: 0.8880 - val_loss: 1.0865 - val_acc: 0.7600\n",
      "Epoch 16/20\n",
      "40000/40000 [==============================] - 8s 209us/sample - loss: 0.5347 - acc: 0.8922 - val_loss: 1.0977 - val_acc: 0.7698\n",
      "Epoch 17/20\n",
      "40000/40000 [==============================] - 8s 209us/sample - loss: 0.5240 - acc: 0.8978 - val_loss: 0.9859 - val_acc: 0.7851\n",
      "Epoch 18/20\n",
      "40000/40000 [==============================] - 8s 209us/sample - loss: 0.5086 - acc: 0.9047 - val_loss: 1.0182 - val_acc: 0.7818\n",
      "Epoch 19/20\n",
      "40000/40000 [==============================] - 8s 210us/sample - loss: 0.5025 - acc: 0.9064 - val_loss: 1.0807 - val_acc: 0.7759\n",
      "Epoch 20/20\n",
      "40000/40000 [==============================] - 8s 206us/sample - loss: 0.4904 - acc: 0.9107 - val_loss: 0.9446 - val_acc: 0.7951\n"
     ]
    }
   ],
   "source": [
    "model.compile(optimizers=Adam(1e-4),\n",
    "             loss='sparse_categorical_crossentropy',\n",
    "             metrics=['acc'])\n",
    "\n",
    "history = model.fit(X_train, y_train,\n",
    "                    epochs=20,\n",
    "                    batch_size=64,\n",
    "                    validation_split=0.2\n",
    "                    )"
   ]
  },
  {
   "cell_type": "code",
   "execution_count": 46,
   "metadata": {},
   "outputs": [
    {
     "name": "stdout",
     "output_type": "stream",
     "text": [
      "10000/1 - 2s - loss: 1.0965 - acc: 0.7921\n"
     ]
    },
    {
     "data": {
      "text/plain": [
       "[0.9658236358642578, 0.7921]"
      ]
     },
     "execution_count": 46,
     "metadata": {},
     "output_type": "execute_result"
    }
   ],
   "source": [
    "model.evaluate(X_test, y_test, verbose=2)"
   ]
  },
  {
   "cell_type": "code",
   "execution_count": null,
   "metadata": {},
   "outputs": [],
   "source": []
  }
 ],
 "metadata": {
  "kernelspec": {
   "display_name": "Python 3",
   "language": "python",
   "name": "python3"
  },
  "language_info": {
   "codemirror_mode": {
    "name": "ipython",
    "version": 3
   },
   "file_extension": ".py",
   "mimetype": "text/x-python",
   "name": "python",
   "nbconvert_exporter": "python",
   "pygments_lexer": "ipython3",
   "version": "3.7.6"
  }
 },
 "nbformat": 4,
 "nbformat_minor": 4
}
