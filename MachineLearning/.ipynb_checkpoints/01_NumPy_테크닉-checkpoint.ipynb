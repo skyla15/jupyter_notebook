{
 "cells": [
  {
   "cell_type": "markdown",
   "metadata": {},
   "source": [
    "# 1. NumPy 기본 테크닉"
   ]
  },
  {
   "cell_type": "markdown",
   "metadata": {},
   "source": [
    "## NumPy 버전 확인"
   ]
  },
  {
   "cell_type": "code",
   "execution_count": 3,
   "metadata": {},
   "outputs": [
    {
     "data": {
      "text/plain": [
       "'1.19.0'"
      ]
     },
     "execution_count": 3,
     "metadata": {},
     "output_type": "execute_result"
    }
   ],
   "source": [
    "import numpy as np\n",
    "np.__version__"
   ]
  },
  {
   "cell_type": "markdown",
   "metadata": {},
   "source": [
    "## 배열을 arange()로 생성"
   ]
  },
  {
   "cell_type": "code",
   "execution_count": 4,
   "metadata": {},
   "outputs": [
    {
     "name": "stdout",
     "output_type": "stream",
     "text": [
      "[0 1 2 3 4 5 6 7 8 9]\n"
     ]
    },
    {
     "data": {
      "text/plain": [
       "numpy.ndarray"
      ]
     },
     "execution_count": 4,
     "metadata": {},
     "output_type": "execute_result"
    }
   ],
   "source": [
    "x = np.arange(10)\n",
    "print(x)\n",
    "type(x)"
   ]
  },
  {
   "cell_type": "markdown",
   "metadata": {},
   "source": [
    "## 파이썬 리스트 기반 연산"
   ]
  },
  {
   "cell_type": "code",
   "execution_count": 5,
   "metadata": {},
   "outputs": [
    {
     "data": {
      "text/plain": [
       "array([           0,            1,            4, ..., 999994000009,\n",
       "       999996000004, 999998000001])"
      ]
     },
     "execution_count": 5,
     "metadata": {},
     "output_type": "execute_result"
    }
   ],
   "source": [
    "y = np.arange(1000000)\n",
    "y = y ** 2\n",
    "y"
   ]
  },
  {
   "cell_type": "markdown",
   "metadata": {},
   "source": [
    "###### 파이썬 배열에서는 오류"
   ]
  },
  {
   "cell_type": "code",
   "execution_count": 7,
   "metadata": {},
   "outputs": [
    {
     "ename": "TypeError",
     "evalue": "unsupported operand type(s) for ** or pow(): 'list' and 'int'",
     "output_type": "error",
     "traceback": [
      "\u001b[0;31m---------------------------------------------------------------------------\u001b[0m",
      "\u001b[0;31mTypeError\u001b[0m                                 Traceback (most recent call last)",
      "\u001b[0;32m<ipython-input-7-fea4876d541b>\u001b[0m in \u001b[0;36m<module>\u001b[0;34m\u001b[0m\n\u001b[1;32m      1\u001b[0m \u001b[0mz\u001b[0m \u001b[0;34m=\u001b[0m \u001b[0mlist\u001b[0m\u001b[0;34m(\u001b[0m\u001b[0mrange\u001b[0m\u001b[0;34m(\u001b[0m\u001b[0;36m1000000\u001b[0m\u001b[0;34m)\u001b[0m\u001b[0;34m)\u001b[0m\u001b[0;34m\u001b[0m\u001b[0;34m\u001b[0m\u001b[0m\n\u001b[0;32m----> 2\u001b[0;31m \u001b[0mz\u001b[0m \u001b[0;34m=\u001b[0m \u001b[0mz\u001b[0m \u001b[0;34m**\u001b[0m \u001b[0;36m2\u001b[0m\u001b[0;34m\u001b[0m\u001b[0;34m\u001b[0m\u001b[0m\n\u001b[0m\u001b[1;32m      3\u001b[0m \u001b[0mz\u001b[0m\u001b[0;34m\u001b[0m\u001b[0;34m\u001b[0m\u001b[0m\n",
      "\u001b[0;31mTypeError\u001b[0m: unsupported operand type(s) for ** or pow(): 'list' and 'int'"
     ]
    }
   ],
   "source": [
    "z = list(range(1000000))\n",
    "z = z ** 2\n",
    "z"
   ]
  },
  {
   "cell_type": "markdown",
   "metadata": {},
   "source": [
    "###### 파이썬 배열 -> NumPy 배열 "
   ]
  },
  {
   "cell_type": "markdown",
   "metadata": {},
   "source": [
    "animal = ['Dog', 'Mammal', 45, 7]\n",
    "print(animal)"
   ]
  },
  {
   "cell_type": "code",
   "execution_count": 9,
   "metadata": {},
   "outputs": [
    {
     "data": {
      "text/plain": [
       "array(['Dog', 'Mammal', '45', '7'], dtype='<U6')"
      ]
     },
     "execution_count": 9,
     "metadata": {},
     "output_type": "execute_result"
    }
   ],
   "source": [
    "np.array(animal)"
   ]
  },
  {
   "cell_type": "markdown",
   "metadata": {},
   "source": [
    "## 배열의 차원 변경 : np.array.reshape( 차원 )"
   ]
  },
  {
   "cell_type": "code",
   "execution_count": 11,
   "metadata": {},
   "outputs": [
    {
     "name": "stdout",
     "output_type": "stream",
     "text": [
      "[[[ 0  1  2]\n",
      "  [ 3  4  5]\n",
      "  [ 6  7  8]]\n",
      "\n",
      " [[ 9 10 11]\n",
      "  [12 13 14]\n",
      "  [15 16 17]]\n",
      "\n",
      " [[18 19 20]\n",
      "  [21 22 23]\n",
      "  [24 25 26]]]\n"
     ]
    }
   ],
   "source": [
    "ndim = np.arange(27).reshape(3,3,3)\n",
    "print(ndim)"
   ]
  },
  {
   "cell_type": "code",
   "execution_count": 12,
   "metadata": {},
   "outputs": [
    {
     "name": "stdout",
     "output_type": "stream",
     "text": [
      "[[[[ 0  1]\n",
      "   [ 2  3]]\n",
      "\n",
      "  [[ 4  5]\n",
      "   [ 6  7]]]\n",
      "\n",
      "\n",
      " [[[ 8  9]\n",
      "   [10 11]]\n",
      "\n",
      "  [[12 13]\n",
      "   [14 15]]]]\n"
     ]
    }
   ],
   "source": [
    "twos = np.arange(16).reshape(2,2,2,2)\n",
    "print(twos)"
   ]
  },
  {
   "cell_type": "markdown",
   "metadata": {},
   "source": [
    "### 차원 인덱스 및 변경"
   ]
  },
  {
   "cell_type": "code",
   "execution_count": 9,
   "metadata": {},
   "outputs": [
    {
     "name": "stdout",
     "output_type": "stream",
     "text": [
      "[4 8 6 2 0 7 3 4 3 9 1 6 4 0 4]\n"
     ]
    },
    {
     "data": {
      "text/plain": [
       "15"
      ]
     },
     "execution_count": 9,
     "metadata": {},
     "output_type": "execute_result"
    }
   ],
   "source": [
    "data = np.random.randint(10, size=15) # 0 ~ 9 사이 값 \n",
    "print(data)\n",
    "len(data)"
   ]
  },
  {
   "cell_type": "code",
   "execution_count": 20,
   "metadata": {},
   "outputs": [
    {
     "data": {
      "text/plain": [
       "array([1, 3, 6, 2])"
      ]
     },
     "execution_count": 20,
     "metadata": {},
     "output_type": "execute_result"
    }
   ],
   "source": [
    "data[4:8]"
   ]
  },
  {
   "cell_type": "code",
   "execution_count": 21,
   "metadata": {},
   "outputs": [
    {
     "data": {
      "text/plain": [
       "array([[6, 2, 9, 8, 1],\n",
       "       [3, 6, 2, 5, 5],\n",
       "       [1, 6, 0, 4, 4]])"
      ]
     },
     "execution_count": 21,
     "metadata": {},
     "output_type": "execute_result"
    }
   ],
   "source": [
    "data = data.reshape(3,5)\n",
    "data"
   ]
  },
  {
   "cell_type": "code",
   "execution_count": 24,
   "metadata": {},
   "outputs": [
    {
     "data": {
      "text/plain": [
       "6"
      ]
     },
     "execution_count": 24,
     "metadata": {},
     "output_type": "execute_result"
    }
   ],
   "source": [
    "data[0,0]"
   ]
  },
  {
   "cell_type": "markdown",
   "metadata": {},
   "source": [
    "# 2. Arg를 이용한 Sorting"
   ]
  },
  {
   "cell_type": "code",
   "execution_count": 7,
   "metadata": {},
   "outputs": [
    {
     "name": "stdout",
     "output_type": "stream",
     "text": [
      "[2 4 0 1 3 5]\n",
      "[1 2 3 5 6 7]\n",
      "[3 5 1 6 2 7]\n"
     ]
    }
   ],
   "source": [
    "x = np.array([3,5,1,6,2,7])\n",
    "print(np.argsort(x))\n",
    "print(x[x.argsort()])\n",
    "print(x)"
   ]
  },
  {
   "cell_type": "code",
   "execution_count": 13,
   "metadata": {},
   "outputs": [],
   "source": [
    "grade = np.array([3, 5, 1, 6, 2, 7])\n",
    "ages = np.array([8, 10, 6, 11, 7, 12])\n",
    "\n",
    "sort_index = np.argsort(ages)"
   ]
  },
  {
   "cell_type": "code",
   "execution_count": 14,
   "metadata": {},
   "outputs": [
    {
     "name": "stdout",
     "output_type": "stream",
     "text": [
      "[1 2 3 5 6 7]\n",
      "[ 6  7  8 10 11 12]\n"
     ]
    }
   ],
   "source": [
    "print(grade[sort_index])\n",
    "print(ages[sort_index])"
   ]
  },
  {
   "cell_type": "code",
   "execution_count": 15,
   "metadata": {},
   "outputs": [
    {
     "name": "stdout",
     "output_type": "stream",
     "text": [
      "[1, 2, 3, 5, 6, 7]\n"
     ]
    }
   ],
   "source": [
    "print(list(grade[sort_index]))"
   ]
  },
  {
   "cell_type": "code",
   "execution_count": 16,
   "metadata": {},
   "outputs": [
    {
     "name": "stdout",
     "output_type": "stream",
     "text": [
      "[12, 11, 10, 8, 7, 6]\n"
     ]
    }
   ],
   "source": [
    "print(list(ages[sort_index])[::-1])"
   ]
  },
  {
   "cell_type": "markdown",
   "metadata": {},
   "source": [
    "# 3. Random 난수 생성"
   ]
  },
  {
   "cell_type": "code",
   "execution_count": 2,
   "metadata": {},
   "outputs": [],
   "source": [
    "import numpy.random as npr\n",
    "import matplotlib.pyplot as plt"
   ]
  },
  {
   "cell_type": "code",
   "execution_count": 21,
   "metadata": {},
   "outputs": [
    {
     "name": "stdout",
     "output_type": "stream",
     "text": [
      "{'   0.0100012204'}\n",
      "{'   0.9960799959'}\n"
     ]
    }
   ],
   "source": [
    "x = npr.standard_normal(10000)\n",
    "print({\"{:15.10f}\".format(x.mean())})\n",
    "print({\"{:15.10f}\".format(x.std())})"
   ]
  },
  {
   "cell_type": "code",
   "execution_count": 23,
   "metadata": {},
   "outputs": [
    {
     "data": {
      "image/png": "[encoded data removed]",
      "text/plain": [
       "<Figure size 432x288 with 1 Axes>"
      ]
     },
     "metadata": {
      "needs_background": "light"
     },
     "output_type": "display_data"
    }
   ],
   "source": [
    "plt.hist(x,bins=50)\n",
    "plt.show()"
   ]
  },
  {
   "cell_type": "code",
   "execution_count": 24,
   "metadata": {},
   "outputs": [
    {
     "name": "stdout",
     "output_type": "stream",
     "text": [
      "  -0.0000000000\n",
      "   0.9961302036\n"
     ]
    }
   ],
   "source": [
    "y = np.concatenate([x, -x])\n",
    "print(\"{:15.10f}\".format(y.mean()))\n",
    "print(\"{:15.10f}\".format(y.std()))"
   ]
  },
  {
   "cell_type": "code",
   "execution_count": 25,
   "metadata": {},
   "outputs": [
    {
     "data": {
      "image/png": "[encoded data removed]",
      "text/plain": [
       "<Figure size 432x288 with 1 Axes>"
      ]
     },
     "metadata": {
      "needs_background": "light"
     },
     "output_type": "display_data"
    }
   ],
   "source": [
    "plt.hist(y,bins=50)\n",
    "plt.show()"
   ]
  },
  {
   "cell_type": "markdown",
   "metadata": {},
   "source": [
    "## 분산이 1인 값으로 정규화(Normalization) 하기"
   ]
  },
  {
   "cell_type": "code",
   "execution_count": 26,
   "metadata": {},
   "outputs": [],
   "source": [
    "z = (y-y.mean()) / y.std()"
   ]
  },
  {
   "cell_type": "code",
   "execution_count": 27,
   "metadata": {},
   "outputs": [
    {
     "name": "stdout",
     "output_type": "stream",
     "text": [
      "   0.9961302036\n",
      "   1.0000000000\n",
      "   0.0000000000\n"
     ]
    }
   ],
   "source": [
    "print(\"{:15.10f}\".format(y.std()))\n",
    "print(\"{:15.10f}\".format(z.std()))\n",
    "print(\"{:15.10f}\".format(z.mean()))"
   ]
  },
  {
   "cell_type": "markdown",
   "metadata": {},
   "source": [
    "## Seed()로 난수생성 고정"
   ]
  },
  {
   "cell_type": "code",
   "execution_count": 28,
   "metadata": {},
   "outputs": [
    {
     "data": {
      "text/plain": [
       "array([0.87754172, 0.92964232, 0.88070396, 0.092461  , 0.22387657,\n",
       "       0.09444315, 0.22501612, 0.37560032, 0.090563  , 0.95233663])"
      ]
     },
     "execution_count": 28,
     "metadata": {},
     "output_type": "execute_result"
    }
   ],
   "source": [
    "c = npr.random(10)\n",
    "c"
   ]
  },
  {
   "cell_type": "code",
   "execution_count": 29,
   "metadata": {},
   "outputs": [
    {
     "data": {
      "text/plain": [
       "array([0.37454012, 0.95071431, 0.73199394, 0.59865848, 0.15601864,\n",
       "       0.15599452, 0.05808361, 0.86617615, 0.60111501, 0.70807258])"
      ]
     },
     "execution_count": 29,
     "metadata": {},
     "output_type": "execute_result"
    }
   ],
   "source": [
    "npr.seed(42)\n",
    "d = npr.random(10)\n",
    "d"
   ]
  },
  {
   "cell_type": "markdown",
   "metadata": {},
   "source": [
    "# 4. Clipping & Sampling"
   ]
  },
  {
   "cell_type": "code",
   "execution_count": 3,
   "metadata": {},
   "outputs": [
    {
     "name": "stdout",
     "output_type": "stream",
     "text": [
      "[ -6  -2   9 -10  -5  -8   3  -9  -1  -7   9  -2   6   4   2  -9  -8   0\n",
      "   0  -4  -1   2   2   1  -1  -3  -1   2  -5   6 -10   0  -3  -8  -2  -9\n",
      "   0 -10   1   1  -9 -10  -9  -7   6   0   0   7   5 -10   0  -3   7  -1\n",
      " -10   2   9  -7 -10   5   6   9   9   0  -8   3   5   1   7  -1   7   7\n",
      "   4   5  -3   8  -1  -4  -7  -5   0  -5   0   2  -8  -6  -3  -2  -6   1\n",
      "   0  -9   0   2   6 -10  -3  -9  -7   1]\n"
     ]
    }
   ],
   "source": [
    "x = npr.randint(-10,10, size=100)\n",
    "print(x)"
   ]
  },
  {
   "cell_type": "markdown",
   "metadata": {},
   "source": [
    "## 범위 지정 값만 탐색하기"
   ]
  },
  {
   "cell_type": "code",
   "execution_count": 8,
   "metadata": {},
   "outputs": [
    {
     "data": {
      "text/plain": [
       "array([-4, -2,  0, -4, -4, -4,  0, -4, -1, -4,  0, -2,  0,  0,  0, -4, -4,\n",
       "        0,  0, -4, -1,  0,  0,  0, -1, -3, -1,  0, -4,  0, -4,  0, -3, -4,\n",
       "       -2, -4,  0, -4,  0,  0, -4, -4, -4, -4,  0,  0,  0,  0,  0, -4,  0,\n",
       "       -3,  0, -1, -4,  0,  0, -4, -4,  0,  0,  0,  0,  0, -4,  0,  0,  0,\n",
       "        0, -1,  0,  0,  0,  0, -3,  0, -1, -4, -4, -4,  0, -4,  0,  0, -4,\n",
       "       -4, -3, -2, -4,  0,  0, -4,  0,  0,  0, -4, -3, -4, -4,  0])"
      ]
     },
     "execution_count": 8,
     "metadata": {},
     "output_type": "execute_result"
    }
   ],
   "source": [
    "# -4부터 0까지\n",
    "np.clip(x, -4, 0)"
   ]
  },
  {
   "cell_type": "code",
   "execution_count": 12,
   "metadata": {},
   "outputs": [
    {
     "data": {
      "text/plain": [
       "array([0, 0, 9, 0, 0, 0, 3, 0, 0, 0, 9, 0, 6, 4, 2, 0, 0, 0, 0, 0, 0, 2,\n",
       "       2, 1, 0, 0, 0, 2, 0, 6, 0, 0, 0, 0, 0, 0, 0, 0, 1, 1, 0, 0, 0, 0,\n",
       "       6, 0, 0, 7, 5, 0, 0, 0, 7, 0, 0, 2, 9, 0, 0, 5, 6, 9, 9, 0, 0, 3,\n",
       "       5, 1, 7, 0, 7, 7, 4, 5, 0, 8, 0, 0, 0, 0, 0, 0, 0, 2, 0, 0, 0, 0,\n",
       "       0, 1, 0, 0, 0, 2, 6, 0, 0, 0, 0, 1])"
      ]
     },
     "execution_count": 12,
     "metadata": {},
     "output_type": "execute_result"
    }
   ],
   "source": [
    "# 0 이상만 Threshshold = 0\n",
    "x.clip(0)"
   ]
  },
  {
   "cell_type": "markdown",
   "metadata": {},
   "source": [
    "## 랜덤 샘플링"
   ]
  },
  {
   "cell_type": "code",
   "execution_count": 13,
   "metadata": {},
   "outputs": [
    {
     "name": "stdout",
     "output_type": "stream",
     "text": [
      "[191 900 107 324  26 916 321 199 222 817 396 287 704 622 535 120 694 753\n",
      " 132 395 493 974 500 308 659 176 886 388 644 649 711  74 262 830 895 496\n",
      " 502 350 863 701  16 300  54 884 893 628 555 891 678 723 167 837 136   9\n",
      " 618 768 614 448 430 391 788 629 525 702 600 514 675 223 950 693 586 668\n",
      " 359 662 648 234 949 169 960 327 366 804 366 359  58 201 110 251 173 522\n",
      " 428 464 177 597 762 161 364 700 207 920]\n"
     ]
    }
   ],
   "source": [
    "y = npr.randint(1000, size=100)\n",
    "print(y)"
   ]
  },
  {
   "cell_type": "markdown",
   "metadata": {},
   "source": [
    "- 비복원 추출"
   ]
  },
  {
   "cell_type": "code",
   "execution_count": 8,
   "metadata": {},
   "outputs": [
    {
     "ename": "NameError",
     "evalue": "name 'npr' is not defined",
     "output_type": "error",
     "traceback": [
      "\u001b[0;31m---------------------------------------------------------------------------\u001b[0m",
      "\u001b[0;31mNameError\u001b[0m                                 Traceback (most recent call last)",
      "\u001b[0;32m<ipython-input-8-b5edc095b1e8>\u001b[0m in \u001b[0;36m<module>\u001b[0;34m\u001b[0m\n\u001b[0;32m----> 1\u001b[0;31m \u001b[0mnpr\u001b[0m\u001b[0;34m.\u001b[0m\u001b[0mchoice\u001b[0m\u001b[0;34m(\u001b[0m\u001b[0my\u001b[0m\u001b[0;34m,\u001b[0m \u001b[0;36m20\u001b[0m\u001b[0;34m,\u001b[0m \u001b[0mreplace\u001b[0m\u001b[0;34m=\u001b[0m\u001b[0;32mFalse\u001b[0m\u001b[0;34m)\u001b[0m\u001b[0;34m\u001b[0m\u001b[0;34m\u001b[0m\u001b[0m\n\u001b[0m",
      "\u001b[0;31mNameError\u001b[0m: name 'npr' is not defined"
     ]
    }
   ],
   "source": [
    "npr.choice(y, 20, replace=False)"
   ]
  },
  {
   "cell_type": "markdown",
   "metadata": {},
   "source": [
    "## 안정적 샘플 (Stable sample) "
   ]
  },
  {
   "cell_type": "code",
   "execution_count": 17,
   "metadata": {},
   "outputs": [],
   "source": [
    "z = npr.random(100)\n",
    "sample = np.argsort(z)"
   ]
  },
  {
   "cell_type": "code",
   "execution_count": 18,
   "metadata": {},
   "outputs": [
    {
     "data": {
      "text/plain": [
       "array([71, 80, 52, 92, 55, 70, 89, 50, 44, 40, 11, 82, 27, 54, 75, 93, 61,\n",
       "       19,  3, 32, 21, 18, 98, 46,  5, 84, 37,  0, 63, 17,  1, 58, 41, 33,\n",
       "       72, 45, 51, 36, 66,  7, 24, 88, 67, 38, 35, 85, 26, 25, 68, 99, 30,\n",
       "       12, 81, 60, 13, 31, 10, 83, 73, 47, 69,  8, 20, 86, 49, 42, 77, 74,\n",
       "       95, 65,  2, 90, 28, 94, 59, 16, 14, 76, 34, 91, 48, 78, 87, 15, 23,\n",
       "       39, 97, 62, 56, 57, 29, 43, 64,  9, 22, 53, 96,  6, 79,  4])"
      ]
     },
     "execution_count": 18,
     "metadata": {},
     "output_type": "execute_result"
    }
   ],
   "source": [
    "sample"
   ]
  },
  {
   "cell_type": "code",
   "execution_count": 19,
   "metadata": {},
   "outputs": [
    {
     "data": {
      "text/plain": [
       "array([0.00309088, 0.00530174, 0.0078276 , 0.00837669, 0.02817714,\n",
       "       0.03981818, 0.07497544, 0.07797718, 0.08096873, 0.08929127,\n",
       "       0.09418046, 0.11067367, 0.11374052, 0.12189837, 0.13069079,\n",
       "       0.13279935, 0.13390927, 0.16478538, 0.17711179, 0.17872999])"
      ]
     },
     "execution_count": 19,
     "metadata": {},
     "output_type": "execute_result"
    }
   ],
   "source": [
    "z[sample][:20]"
   ]
  },
  {
   "cell_type": "code",
   "execution_count": 20,
   "metadata": {},
   "outputs": [
    {
     "data": {
      "text/plain": [
       "array([668, 366, 136, 177, 768, 586, 522, 167, 893,  16, 287, 366, 388,\n",
       "       618, 234, 597, 629, 395, 324, 262])"
      ]
     },
     "execution_count": 20,
     "metadata": {},
     "output_type": "execute_result"
    }
   ],
   "source": [
    "y[sample][:20]"
   ]
  },
  {
   "cell_type": "markdown",
   "metadata": {},
   "source": [
    "# 5. Unique 값과 핵심 포인트 찾기"
   ]
  },
  {
   "cell_type": "code",
   "execution_count": 21,
   "metadata": {},
   "outputs": [],
   "source": [
    "from itertools import combinations"
   ]
  },
  {
   "cell_type": "code",
   "execution_count": 22,
   "metadata": {},
   "outputs": [
    {
     "data": {
      "text/plain": [
       "array(['HKM', 'BHL', 'CEG', 'DHM', 'BDF', 'AEJ', 'CDF', 'BKM', 'JKM',\n",
       "       'BCF', 'BHM', 'AJK', 'AEF', 'GKM', 'DFK', 'EHK', 'BHK', 'CKL',\n",
       "       'CEG', 'AKL', 'BDJ', 'DGM', 'FHK', 'AGL', 'EHM', 'AFG', 'CDE',\n",
       "       'HKM', 'BFL', 'ABJ', 'DHJ', 'DGK', 'BGM', 'CFG', 'CDG', 'FJK',\n",
       "       'CDG', 'DEM', 'FJK', 'ADE', 'CJL', 'EFL', 'DHL', 'CFM', 'AGH',\n",
       "       'ABJ', 'BCL', 'BFM', 'CEH', 'BHK', 'CDL', 'BCD', 'EJL', 'CFM',\n",
       "       'BDM', 'AKL', 'BDH', 'EFM', 'DEM', 'AHL'], dtype='<U3')"
      ]
     },
     "execution_count": 22,
     "metadata": {},
     "output_type": "execute_result"
    }
   ],
   "source": [
    "available = [x[0] + x[1] + x[2] for x in combinations(\"ABCDEFGHJKLM\", 3)]\n",
    "symbols = npr.choice(available, 60)\n",
    "symbols"
   ]
  },
  {
   "cell_type": "markdown",
   "metadata": {},
   "source": [
    "## Sort Unique 값으로 Sort 하기"
   ]
  },
  {
   "cell_type": "code",
   "execution_count": 23,
   "metadata": {},
   "outputs": [
    {
     "data": {
      "text/plain": [
       "array(['ABJ', 'ADE', 'AEF', 'AEJ', 'AFG', 'AGH', 'AGL', 'AHL', 'AJK',\n",
       "       'AKL', 'BCD', 'BCF', 'BCL', 'BDF', 'BDH', 'BDJ', 'BDM', 'BFL',\n",
       "       'BFM', 'BGM', 'BHK', 'BHL', 'BHM', 'BKM', 'CDE', 'CDF', 'CDG',\n",
       "       'CDL', 'CEG', 'CEH', 'CFG', 'CFM', 'CJL', 'CKL', 'DEM', 'DFK',\n",
       "       'DGK', 'DGM', 'DHJ', 'DHL', 'DHM', 'EFL', 'EFM', 'EHK', 'EHM',\n",
       "       'EJL', 'FHK', 'FJK', 'GKM', 'HKM', 'JKM'], dtype='<U3')"
      ]
     },
     "execution_count": 23,
     "metadata": {},
     "output_type": "execute_result"
    }
   ],
   "source": [
    "np.unique(symbols)"
   ]
  },
  {
   "cell_type": "code",
   "execution_count": 24,
   "metadata": {},
   "outputs": [
    {
     "data": {
      "text/plain": [
       "51"
      ]
     },
     "execution_count": 24,
     "metadata": {},
     "output_type": "execute_result"
    }
   ],
   "source": [
    "len(np.unique(symbols))"
   ]
  }
 ],
 "metadata": {
  "kernelspec": {
   "display_name": "Python 3",
   "language": "python",
   "name": "python3"
  },
  "language_info": {
   "codemirror_mode": {
    "name": "ipython",
    "version": 3
   },
   "file_extension": ".py",
   "mimetype": "text/x-python",
   "name": "python",
   "nbconvert_exporter": "python",
   "pygments_lexer": "ipython3",
   "version": "3.7.6"
  }
 },
 "nbformat": 4,
 "nbformat_minor": 4
}
