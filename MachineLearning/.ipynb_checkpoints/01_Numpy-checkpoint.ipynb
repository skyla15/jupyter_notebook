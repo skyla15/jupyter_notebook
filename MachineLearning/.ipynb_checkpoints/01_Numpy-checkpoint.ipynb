{
 "cells": [
  {
   "cell_type": "markdown",
   "metadata": {},
   "source": [
    "# (함수) shift + tap  -> 설명 나옴 "
   ]
  },
  {
   "cell_type": "code",
   "execution_count": 2,
   "metadata": {
    "scrolled": true
   },
   "outputs": [],
   "source": [
    "# numpy 라이브러리 설치 \n",
    "import numpy as np\n",
    "\n",
    "# IPython 패키지에 이미지 사용하기\n",
    "# 주피터 노트북에 이미지 넣기 위함 \n",
    "from IPython.display import Image"
   ]
  },
  {
   "cell_type": "markdown",
   "metadata": {},
   "source": [
    "# 0. 데이터 형식 \n",
    "### 실제로 연산이 될 때는 자료형이 알아서 연산됨, 출력시 참고\n",
    "<img src=\"images/datatype_1.jpg\" width=\"60%\" height=\"60%\" align=\"left\">\n",
    "string -> s 데이터타입 더 이상 없음   \n",
    "string -> u"
   ]
  },
  {
   "cell_type": "markdown",
   "metadata": {},
   "source": [
    "\n",
    "<img src=\"images/datatype_2.jpg\" width=\"60%\" height=\"60%\" align=\"left\">  \n",
    "\n",
    "\n",
    "- int, float 등 : i, f로 줄여서 사용 \n",
    "~~~python3\n",
    "np.array( data, dtype = np.float63 )\n",
    "np.array( data, dtype = 'i' )\n",
    "~~~"
   ]
  },
  {
   "cell_type": "markdown",
   "metadata": {},
   "source": [
    "- 문자열과 숫자형이 연산될 경우 -> string, but u1 형\n",
    "현재 버전에서 S형 더 이상 없음"
   ]
  },
  {
   "cell_type": "markdown",
   "metadata": {},
   "source": [
    "### 배열 내 데이터 타입 지정 "
   ]
  },
  {
   "cell_type": "code",
   "execution_count": 3,
   "metadata": {},
   "outputs": [
    {
     "name": "stdout",
     "output_type": "stream",
     "text": [
      "float64 [1. 2. 3. 4. 5.]\n",
      "float64 [1. 2. 3. 4. 5.]\n"
     ]
    }
   ],
   "source": [
    "data = [1,2,3,4,5]\n",
    "arr_dtype_float64 = np.array( data, dtype=np.float64 )\n",
    "arr_dtype_f8 = np.array( data, dtype = 'f8')\n",
    "print( arr_dtype_float64.dtype, arr_dtype_float64 )\n",
    "print( arr_dtype_f8.dtype, arr_dtype_f8)"
   ]
  },
  {
   "cell_type": "markdown",
   "metadata": {},
   "source": [
    "# 1. ndarray\n",
    "- ndarray 클래스\n",
    "    - __같은 자료형__으로 묶인 배열\n",
    "- 배열  \n",
    "    - 선언\n",
    "        - np.array( data )  \n",
    "        - np.aaray( data, dtype=np.int32 )\n",
    "\n",
    "    - 타입\n",
    "        - dtype : int8/uint8, int16,uint16.... \n",
    "        - 배열.dtype    : 배열 내부의 타입 확인   \n",
    "    \n",
    "    - 행렬 구조/차원 확인\n",
    "        - __배열.shape__     : 배열의 행의 갯수, 열의 갯수 확인 ★\n",
    "        - 배열.ndim     : 배열의 차원 확인\n",
    "    \n",
    "    - 함수 및 메소드\n",
    "        - np.arange(#) : range(#)를 __ndarray로 반환__\n",
    "        - len(배열)     : 배열의 행/열 확인\n",
    "        - 배열.reshape(row, column) : \n",
    "  \n",
    "    - 배열 생성 함수 ( 자주 사용되는 것 )\n",
    "        - np.zeros(), np.ones()\n",
    "            - 기본 dtype = 'float64' \n",
    "        - np.arange(#)\n",
    "        - random.rand()    : 0 ~ 1 균일 분포   / 실수\n",
    "        - random.randn()   : Gaussian RD     / 실수 \n",
    "        - random.randint() : ( 시작, 끝, 배열 차원/크기 ) : 균일 분포 정수 난수\n",
    "     \n",
    "       \n",
    "    - 배열 생성 함수 ( 자주 사용 안하는 것 ) \n",
    "        - zeros_like, ones_like\n",
    "        - empty \n",
    "        - linspace, logspace\n",
    "        \n",
    "    - NumPy 통계함수 \n",
    "        - len(배열) : 배열갯수\n",
    "        - np.sum(배열)\n",
    "        - np.mean(배열)\n",
    "        - np.std(배열) : 표준편차 \n",
    "        - np.var(배열  : 분산 \n",
    "        - np.min(배열)\n",
    "        - np.max(배열) \n",
    "        - np.argmin(배열)\n",
    "        - np.argmax(배열)\n",
    "        - np.cumsum(배열)   : 원소의 누적 합 \n",
    "        - np.cumprod(배열)  : 원소의 누적 곱 \n",
    "        - np.count(배열)\n",
    "        - np.sum(배열)\n",
    "        - np.abs(배열) : 각 원소의 절댓값 \n",
    "        - 배열.t \n",
    "        - np.sqrt(배열)\n",
    "        - np.exp(배열) \n",
    "        - np.log(배열) : base = e \n",
    "            - cf) np.log10, log2 ... \n",
    "        - 스칼라 ** 배열 : 배열 원소에 스칼라 제곱        \n",
    "            - ex) 3 ** 배열 \n",
    "        - 배열.T\n",
    "        - np.dot(배열.T, 배열)  # dot product\n",
    "        - np.ceil(배열)  : 올림 \n",
    "        - np.floor(배열) : 내림\n",
    "    - NumPy 난수생성\n",
    "        - 데이터를 무작위로 섞거나, 임의의수, 난수를 발생시키는 random 서브패키지 사용 명령 \n",
    "        - random.rand    : 0 ~ 1 균일 분포   / 실수\n",
    "        - random.randn   : Gaussian RD     / 실수 \n",
    "        - random.randint( 시작, 끝, 배열 차원/크기 ) : 균일 분포 정수 난수"
   ]
  },
  {
   "cell_type": "code",
   "execution_count": 4,
   "metadata": {},
   "outputs": [
    {
     "name": "stdout",
     "output_type": "stream",
     "text": [
      "[1 2 3 4 5]\n"
     ]
    }
   ],
   "source": [
    "a = np.array([1,2,3,4,5])\n",
    "print(np.abs(a))"
   ]
  },
  {
   "cell_type": "markdown",
   "metadata": {},
   "source": [
    "###  1.1. 1차원 배열"
   ]
  },
  {
   "cell_type": "code",
   "execution_count": 5,
   "metadata": {},
   "outputs": [
    {
     "data": {
      "text/plain": [
       "array([1, 2, 3, 4, 5])"
      ]
     },
     "execution_count": 5,
     "metadata": {},
     "output_type": "execute_result"
    }
   ],
   "source": [
    "# 벡터화 연산 \n",
    "# 1차원 배열 선언 \n",
    "data1 = [1,2,3,4,5]\n",
    "arr1 = np.array( data1 )\n",
    "arr1"
   ]
  },
  {
   "cell_type": "markdown",
   "metadata": {},
   "source": [
    "### 1.2. 2차원 배열\n",
    "- 선언 시, 행, 렬 맞춰서 입력 ( Readiblity ) "
   ]
  },
  {
   "cell_type": "code",
   "execution_count": 6,
   "metadata": {},
   "outputs": [
    {
     "data": {
      "text/plain": [
       "array([[1, 2, 3, 4],\n",
       "       [5, 6, 7, 8]])"
      ]
     },
     "execution_count": 6,
     "metadata": {},
     "output_type": "execute_result"
    }
   ],
   "source": [
    "data2 = [[1,2,3,4],\n",
    "         [5,6,7,8]]\n",
    "arr2 = np.array( data2 )\n",
    "arr2"
   ]
  },
  {
   "cell_type": "markdown",
   "metadata": {},
   "source": [
    "### 1.3. 3차원 배열  ( Layer, Row, Column ) "
   ]
  },
  {
   "cell_type": "code",
   "execution_count": 7,
   "metadata": {},
   "outputs": [
    {
     "name": "stdout",
     "output_type": "stream",
     "text": [
      "[[[ 1  2  3  4]\n",
      "  [ 5  6  7  8]\n",
      "  [ 9 10 11 12]]\n",
      "\n",
      " [[13 14 15 16]\n",
      "  [17 18 19 20]\n",
      "  [21 22 23 24]]]\n",
      "\n",
      "(2, 3, 4)\n",
      "2\n",
      "\n"
     ]
    }
   ],
   "source": [
    "#  2 x 3 x 4 배열 \n",
    "# 행 x 열 x 깊이 \n",
    "d = np.array([\n",
    "    [\n",
    "        [1,2,3,4],\n",
    "        [5,6,7,8,],\n",
    "        [9,10,11,12]\n",
    "    ],\n",
    "    [\n",
    "        [13,14,15,16],\n",
    "        [17,18,19,20],\n",
    "        [21,22,23,24]\n",
    "    ]\n",
    "])\n",
    "print(d, d.shape, sep='\\n\\n')\n",
    "print(len(d)) \n",
    "print()"
   ]
  },
  {
   "cell_type": "markdown",
   "metadata": {},
   "source": [
    "### 1.4. 배열.reshape(행, 열) \n",
    "- 배열 선언하고 reshape를 통해 행과 열에 맞게 변환  "
   ]
  },
  {
   "cell_type": "code",
   "execution_count": 8,
   "metadata": {},
   "outputs": [
    {
     "data": {
      "text/plain": [
       "array([[ 0,  1,  2,  3,  4],\n",
       "       [ 5,  6,  7,  8,  9],\n",
       "       [10, 11, 12, 13, 14]])"
      ]
     },
     "execution_count": 8,
     "metadata": {},
     "output_type": "execute_result"
    }
   ],
   "source": [
    "arr = np.arange(15).reshape(3,5)\n",
    "arr"
   ]
  },
  {
   "cell_type": "markdown",
   "metadata": {},
   "source": [
    "### 1.5. shape, ndim 속성 배열의 차원과 크기 \n",
    "- ndim : 배열의 차원 반환 \n",
    "- shape : 행의 갯수, 열의 갯수 확인할 때 굉장히 많이 사용"
   ]
  },
  {
   "cell_type": "code",
   "execution_count": 9,
   "metadata": {},
   "outputs": [
    {
     "name": "stdout",
     "output_type": "stream",
     "text": [
      "1\n",
      "(3,)\n"
     ]
    }
   ],
   "source": [
    "ab = np.array([1,2,3])\n",
    "print(ab.ndim)\n",
    "print(ab.shape)"
   ]
  },
  {
   "cell_type": "code",
   "execution_count": 10,
   "metadata": {},
   "outputs": [
    {
     "name": "stdout",
     "output_type": "stream",
     "text": [
      "2\n",
      "(2, 3)\n"
     ]
    }
   ],
   "source": [
    "abc = np.array([[1,2,3,],\n",
    "                [4,5,6]])\n",
    "print(abc.ndim)\n",
    "print(abc.shape)"
   ]
  },
  {
   "cell_type": "markdown",
   "metadata": {},
   "source": [
    "### 1.6. len : 해당 배열 원소의 갯수 \n",
    "- shape가 더 직관적으로 확인 가능  "
   ]
  },
  {
   "cell_type": "code",
   "execution_count": 11,
   "metadata": {},
   "outputs": [
    {
     "data": {
      "text/plain": [
       "2"
      ]
     },
     "execution_count": 11,
     "metadata": {},
     "output_type": "execute_result"
    }
   ],
   "source": [
    "arr2 = np.array([[1,2,3],\n",
    "                 [3,4,6]])\n",
    "len(arr2)"
   ]
  },
  {
   "cell_type": "code",
   "execution_count": 12,
   "metadata": {},
   "outputs": [
    {
     "data": {
      "text/plain": [
       "3"
      ]
     },
     "execution_count": 12,
     "metadata": {},
     "output_type": "execute_result"
    }
   ],
   "source": [
    "len(arr2[0])"
   ]
  },
  {
   "cell_type": "code",
   "execution_count": 13,
   "metadata": {},
   "outputs": [
    {
     "data": {
      "text/plain": [
       "(2, 3)"
      ]
     },
     "execution_count": 13,
     "metadata": {},
     "output_type": "execute_result"
    }
   ],
   "source": [
    "arr2.shape"
   ]
  },
  {
   "cell_type": "markdown",
   "metadata": {},
   "source": [
    "### 1.7. np.array( data, dtype=type ) "
   ]
  },
  {
   "cell_type": "markdown",
   "metadata": {},
   "source": [
    "data3 = [1.3, 1.5, 1.7]\n",
    "arr_dtype_int8 = np.array( data3, dtype=np.int8 )\n",
    "arr_dtype_int8"
   ]
  },
  {
   "cell_type": "markdown",
   "metadata": {},
   "source": [
    "### 1.8. 배열의 데이터 타입 확인 "
   ]
  },
  {
   "cell_type": "code",
   "execution_count": 14,
   "metadata": {},
   "outputs": [
    {
     "data": {
      "text/plain": [
       "dtype('int64')"
      ]
     },
     "execution_count": 14,
     "metadata": {},
     "output_type": "execute_result"
    }
   ],
   "source": [
    "arr1.dtype "
   ]
  },
  {
   "cell_type": "markdown",
   "metadata": {},
   "source": [
    "### 1.9. 배열의 차원 확인 : 1차원 배열"
   ]
  },
  {
   "cell_type": "code",
   "execution_count": 15,
   "metadata": {},
   "outputs": [
    {
     "data": {
      "text/plain": [
       "(5,)"
      ]
     },
     "execution_count": 15,
     "metadata": {},
     "output_type": "execute_result"
    }
   ],
   "source": [
    "arr1.shape"
   ]
  },
  {
   "cell_type": "markdown",
   "metadata": {},
   "source": [
    "### 1.10. 배열의 차원 확인 : 2차원 배열"
   ]
  },
  {
   "cell_type": "code",
   "execution_count": 16,
   "metadata": {},
   "outputs": [
    {
     "data": {
      "text/plain": [
       "(2, 3)"
      ]
     },
     "execution_count": 16,
     "metadata": {},
     "output_type": "execute_result"
    }
   ],
   "source": [
    "arr2.shape"
   ]
  },
  {
   "cell_type": "markdown",
   "metadata": {},
   "source": [
    "### 1.11. 배열의 벡터화 연산 "
   ]
  },
  {
   "cell_type": "code",
   "execution_count": 17,
   "metadata": {
    "scrolled": true
   },
   "outputs": [
    {
     "data": {
      "text/plain": [
       "array([12, 24, 36])"
      ]
     },
     "execution_count": 17,
     "metadata": {},
     "output_type": "execute_result"
    }
   ],
   "source": [
    "# Broadcasting :Scalar * Vector \n",
    "a = np.array([1,2,3])\n",
    "b = np.array([10,20,30])\n",
    "2 * a + b"
   ]
  },
  {
   "cell_type": "markdown",
   "metadata": {},
   "source": [
    "### 1.12. np.arange로 배열 만들기 "
   ]
  },
  {
   "cell_type": "code",
   "execution_count": 18,
   "metadata": {},
   "outputs": [
    {
     "data": {
      "text/plain": [
       "array([0, 1, 2, 3, 4, 5, 6, 7, 8, 9])"
      ]
     },
     "execution_count": 18,
     "metadata": {},
     "output_type": "execute_result"
    }
   ],
   "source": [
    "# arange(#) : range(0,#) 을 \n",
    "c = np.arange(10)\n",
    "c"
   ]
  },
  {
   "cell_type": "markdown",
   "metadata": {},
   "source": [
    "# 2. Bollean Indexing ( 불리안 마스크 ) \n",
    "- and 연산 : &\n",
    "- or  연산 : |"
   ]
  },
  {
   "cell_type": "code",
   "execution_count": 19,
   "metadata": {},
   "outputs": [
    {
     "data": {
      "text/plain": [
       "array([False,  True, False])"
      ]
     },
     "execution_count": 19,
     "metadata": {},
     "output_type": "execute_result"
    }
   ],
   "source": [
    "arr1 = np.array([1,2,3])\n",
    "arr1 == 2"
   ]
  },
  {
   "cell_type": "code",
   "execution_count": 20,
   "metadata": {},
   "outputs": [
    {
     "data": {
      "text/plain": [
       "array([False,  True,  True])"
      ]
     },
     "execution_count": 20,
     "metadata": {},
     "output_type": "execute_result"
    }
   ],
   "source": [
    "arr2 = np.array([10,11,12])\n",
    "arr2 > 10"
   ]
  },
  {
   "cell_type": "code",
   "execution_count": 21,
   "metadata": {},
   "outputs": [
    {
     "data": {
      "text/plain": [
       "array([False,  True, False])"
      ]
     },
     "execution_count": 21,
     "metadata": {},
     "output_type": "execute_result"
    }
   ],
   "source": [
    "( arr1 == 2 ) & ( arr2 > 10 ) \n",
    "\n",
    "#    결과값                  ∇∇\n",
    "#    arr1 == 2 : [ False, True, False ] \n",
    "#    arr2 > 10 : [ False, True, True  ]\n",
    "#                [ False, True ,False ]"
   ]
  },
  {
   "cell_type": "markdown",
   "metadata": {},
   "source": [
    "# 3. 슬라이싱 \n",
    "- numpy에서 슬라이스 객체는 원본 객체를 참조\n",
    "    + 슬라이스 객체에 값 할당 시 원본 변화 ★\n",
    "- 파이썬 슬라이스 객체 : 반복 가능한 객체만 할당 가능 "
   ]
  },
  {
   "cell_type": "markdown",
   "metadata": {},
   "source": [
    "### 3.1. NumPy 슬라이스 객체 : 1차원 배열\n",
    "- 슬라이스 해온 배열 객체 계속 참조"
   ]
  },
  {
   "cell_type": "code",
   "execution_count": 22,
   "metadata": {
    "scrolled": true
   },
   "outputs": [
    {
     "data": {
      "text/plain": [
       "array([0, 1, 2, 3, 4, 5, 6, 7, 8, 9])"
      ]
     },
     "execution_count": 22,
     "metadata": {},
     "output_type": "execute_result"
    }
   ],
   "source": [
    "arr = np.arange(10)\n",
    "arr_slice = arr[0:3] # 슬라이스 객체 생성 \n",
    "arr"
   ]
  },
  {
   "cell_type": "code",
   "execution_count": 23,
   "metadata": {},
   "outputs": [
    {
     "data": {
      "text/plain": [
       "array([1234,    1,    2,    3,    4,    5,    6,    7,    8,    9])"
      ]
     },
     "execution_count": 23,
     "metadata": {},
     "output_type": "execute_result"
    }
   ],
   "source": [
    "arr_slice[0] = 1234\n",
    "arr"
   ]
  },
  {
   "cell_type": "code",
   "execution_count": 24,
   "metadata": {},
   "outputs": [
    {
     "data": {
      "text/plain": [
       "array([-10, -10, -10,   3,   4,   5,   6,   7,   8,   9])"
      ]
     },
     "execution_count": 24,
     "metadata": {},
     "output_type": "execute_result"
    }
   ],
   "source": [
    "arr_slice[:] = -10\n",
    "arr"
   ]
  },
  {
   "cell_type": "markdown",
   "metadata": {},
   "source": [
    "### 3.2. NumPy 슬라이스 객체 : 2차원 배열"
   ]
  },
  {
   "cell_type": "markdown",
   "metadata": {},
   "source": [
    "<img src=\"images/2dslice.jpg\" width=\"50%\" height=\"50%\" align=\"left\">"
   ]
  },
  {
   "cell_type": "code",
   "execution_count": 25,
   "metadata": {},
   "outputs": [
    {
     "data": {
      "text/plain": [
       "array([[0, 1, 2, 3],\n",
       "       [4, 5, 6, 7]])"
      ]
     },
     "execution_count": 25,
     "metadata": {},
     "output_type": "execute_result"
    }
   ],
   "source": [
    "arr = np.arange(8).reshape(2,4)\n",
    "arr"
   ]
  },
  {
   "cell_type": "markdown",
   "metadata": {},
   "source": [
    "### 3.3. 첫번째 행 전체"
   ]
  },
  {
   "cell_type": "code",
   "execution_count": 26,
   "metadata": {},
   "outputs": [
    {
     "data": {
      "text/plain": [
       "array([0, 1, 2, 3])"
      ]
     },
     "execution_count": 26,
     "metadata": {},
     "output_type": "execute_result"
    }
   ],
   "source": [
    "arr[0,:] "
   ]
  },
  {
   "cell_type": "markdown",
   "metadata": {},
   "source": [
    "### 3.4. 두번째 '열' 전체"
   ]
  },
  {
   "cell_type": "code",
   "execution_count": 27,
   "metadata": {},
   "outputs": [
    {
     "data": {
      "text/plain": [
       "array([1, 5])"
      ]
     },
     "execution_count": 27,
     "metadata": {},
     "output_type": "execute_result"
    }
   ],
   "source": [
    "arr[:,1]  # arr[ 전체행, 1열 ]"
   ]
  },
  {
   "cell_type": "markdown",
   "metadata": {},
   "source": [
    "### 3.5. 첫번째 행 2열, 두번째 행 2열 "
   ]
  },
  {
   "cell_type": "code",
   "execution_count": 28,
   "metadata": {},
   "outputs": [
    {
     "data": {
      "text/plain": [
       "array([[0, 1],\n",
       "       [4, 5]])"
      ]
     },
     "execution_count": 28,
     "metadata": {},
     "output_type": "execute_result"
    }
   ],
   "source": [
    "arr[:2,:2] # arr[ ~ 2번째 행 , ~2번째 열]"
   ]
  },
  {
   "cell_type": "markdown",
   "metadata": {},
   "source": [
    "# 4. 불리언 인덱싱 "
   ]
  },
  {
   "cell_type": "markdown",
   "metadata": {},
   "source": [
    "### 4.1. 배열의 불리언 인덱싱  #1 "
   ]
  },
  {
   "cell_type": "code",
   "execution_count": 29,
   "metadata": {
    "scrolled": true
   },
   "outputs": [
    {
     "data": {
      "text/plain": [
       "array([0, 2, 4])"
      ]
     },
     "execution_count": 29,
     "metadata": {},
     "output_type": "execute_result"
    }
   ],
   "source": [
    "a = np.array([0,1,2,3,4])\n",
    "idx = np.array([True, False, True, False, True])\n",
    "a[idx]"
   ]
  },
  {
   "cell_type": "markdown",
   "metadata": {},
   "source": [
    "### 4.2. 배열의 불리언 인덱싱 #2"
   ]
  },
  {
   "cell_type": "code",
   "execution_count": 30,
   "metadata": {},
   "outputs": [
    {
     "data": {
      "text/plain": [
       "array([0, 2, 4])"
      ]
     },
     "execution_count": 30,
     "metadata": {},
     "output_type": "execute_result"
    }
   ],
   "source": [
    "a % 2        # array([0, 1, 0, 1, 0])\n",
    "a % 2 == 0   # array([ True, False,  True, False,  True])\n",
    "a[a % 2 == 0]#array([0, 2, 4])"
   ]
  },
  {
   "cell_type": "markdown",
   "metadata": {},
   "source": [
    "# 5. Transposing Arrays and Swapping Axes\n",
    "- 배열.T\n",
    "- np.dot(배열.T, 배열) "
   ]
  },
  {
   "cell_type": "markdown",
   "metadata": {},
   "source": [
    "### 5.1. 1차원 배열\n",
    "- 배열.T : MｘN ➤ NｘM"
   ]
  },
  {
   "cell_type": "code",
   "execution_count": 31,
   "metadata": {},
   "outputs": [
    {
     "name": "stdout",
     "output_type": "stream",
     "text": [
      "(3, 2)\n",
      "\n",
      "[[0 1]\n",
      " [2 3]\n",
      " [4 5]]\n"
     ]
    }
   ],
   "source": [
    "arr = np.arange(6).reshape(3,2)\n",
    "print( arr.shape, arr, sep = '\\n\\n')"
   ]
  },
  {
   "cell_type": "code",
   "execution_count": 32,
   "metadata": {},
   "outputs": [
    {
     "name": "stdout",
     "output_type": "stream",
     "text": [
      "(2, 3)\n",
      "\n",
      "[[0 2 4]\n",
      " [1 3 5]]\n"
     ]
    }
   ],
   "source": [
    "print( arr.T.shape, arr.T, sep = '\\n\\n')"
   ]
  },
  {
   "cell_type": "markdown",
   "metadata": {},
   "source": [
    "### 5.2. 2차원 배열 "
   ]
  },
  {
   "cell_type": "code",
   "execution_count": 33,
   "metadata": {},
   "outputs": [
    {
     "data": {
      "text/plain": [
       "array([[ 0,  1,  2,  3,  4],\n",
       "       [ 5,  6,  7,  8,  9],\n",
       "       [10, 11, 12, 13, 14]])"
      ]
     },
     "execution_count": 33,
     "metadata": {},
     "output_type": "execute_result"
    }
   ],
   "source": [
    "arr = np.arange(15).reshape(3,5)\n",
    "arr"
   ]
  },
  {
   "cell_type": "code",
   "execution_count": 34,
   "metadata": {},
   "outputs": [
    {
     "data": {
      "text/plain": [
       "array([[ 0,  5, 10],\n",
       "       [ 1,  6, 11],\n",
       "       [ 2,  7, 12],\n",
       "       [ 3,  8, 13],\n",
       "       [ 4,  9, 14]])"
      ]
     },
     "execution_count": 34,
     "metadata": {},
     "output_type": "execute_result"
    }
   ],
   "source": [
    "arr.T"
   ]
  },
  {
   "cell_type": "markdown",
   "metadata": {},
   "source": [
    "### 5.3. N- Dimensional Tensor Transpose\n",
    "- np.transpose( array, (axes) )\n",
    "- ex) ( i, j, k ) -> axes(1, 2, 0) -> ( j, k, i ) "
   ]
  },
  {
   "cell_type": "code",
   "execution_count": 35,
   "metadata": {},
   "outputs": [
    {
     "data": {
      "text/plain": [
       "array([[[ 0,  1,  2],\n",
       "        [ 3,  4,  5]],\n",
       "\n",
       "       [[ 6,  7,  8],\n",
       "        [ 9, 10, 11]]])"
      ]
     },
     "execution_count": 35,
     "metadata": {},
     "output_type": "execute_result"
    }
   ],
   "source": [
    "arr3 = np.arange(12).reshape(2,2,3)\n",
    "arr3"
   ]
  },
  {
   "cell_type": "code",
   "execution_count": 36,
   "metadata": {},
   "outputs": [
    {
     "data": {
      "text/plain": [
       "array([[[ 0,  6],\n",
       "        [ 1,  7],\n",
       "        [ 2,  8]],\n",
       "\n",
       "       [[ 3,  9],\n",
       "        [ 4, 10],\n",
       "        [ 5, 11]]])"
      ]
     },
     "execution_count": 36,
     "metadata": {},
     "output_type": "execute_result"
    }
   ],
   "source": [
    "arr4 = np.transpose(arr3, (1,2,0))\n",
    "arr4"
   ]
  },
  {
   "cell_type": "markdown",
   "metadata": {},
   "source": [
    "<img src = \"images/nd_tensor_transpose.jpg\" width=\"60%\" height=\"60%\" align =\"left\">"
   ]
  },
  {
   "cell_type": "markdown",
   "metadata": {},
   "source": [
    "### 5.4. Dot Product : inner Matrix Product - XᵀX\n",
    "- XᵀX"
   ]
  },
  {
   "cell_type": "markdown",
   "metadata": {},
   "source": [
    "### 5.4.1. random m x n matrix 생성\n",
    "- np.random.randn( m, n )"
   ]
  },
  {
   "cell_type": "code",
   "execution_count": 64,
   "metadata": {},
   "outputs": [
    {
     "name": "stdout",
     "output_type": "stream",
     "text": [
      "[[ 1.91382039  0.33079713  1.14194252]\n",
      " [-1.12959516 -0.85005238  0.96082   ]\n",
      " [-0.21741818  0.15851488  0.87341823]\n",
      " [-0.11138337 -1.03803876 -1.00947983]\n",
      " [-1.05825656  0.65628408 -0.06249159]\n",
      " [-1.73865429  0.103163   -0.62166685]]\n"
     ]
    }
   ],
   "source": [
    "arr = np.random.randn(6, 3)   # 6 x 3 random matrix generater\n",
    "print( arr ) "
   ]
  },
  {
   "cell_type": "markdown",
   "metadata": {},
   "source": [
    "#### 5.4.2. XᵀX\n",
    "- np.dot(Xᵀ, X) "
   ]
  },
  {
   "cell_type": "code",
   "execution_count": 65,
   "metadata": {},
   "outputs": [
    {
     "name": "stdout",
     "output_type": "stream",
     "text": [
      "[[9.14119633 0.80057586 2.16967339]\n",
      " [0.80057586 2.37601863 0.64218771]\n",
      " [2.16967339 0.64218771 4.3994916 ]]\n"
     ]
    }
   ],
   "source": [
    "print( np.dot(arr.T, arr) )"
   ]
  },
  {
   "cell_type": "markdown",
   "metadata": {},
   "source": [
    "# 6. 배열 생성 함수 \n",
    "- 자주 사용되는 것 \n",
    "    - zeros, ones\n",
    "        - 기본 dtype = 'float64' \n",
    "    - arange\n",
    "    - rand, randn \n",
    "    - np.sqrt(np.array)\n",
    "    - np.exp(np.array) \n",
    "     \n",
    "- 잘 사용 안하는 것\n",
    "    - zeros_like, ones_like\n",
    "    - empty \n",
    "    - linspace, logspace"
   ]
  },
  {
   "cell_type": "markdown",
   "metadata": {},
   "source": [
    "### 6.1. np.zeros"
   ]
  },
  {
   "cell_type": "code",
   "execution_count": 39,
   "metadata": {
    "scrolled": true
   },
   "outputs": [
    {
     "name": "stdout",
     "output_type": "stream",
     "text": [
      "[0 0 0]\n",
      "\n",
      "[[0. 0. 0.]\n",
      " [0. 0. 0.]]\n"
     ]
    }
   ],
   "source": [
    "z1 = np.zeros(3, dtype = 'i') # 정수형\n",
    "z2 = np.zeros((2,3))          # default : 실수형\n",
    "print(z1, z2, sep='\\n\\n')"
   ]
  },
  {
   "cell_type": "markdown",
   "metadata": {},
   "source": [
    "### 6.2. np.ones"
   ]
  },
  {
   "cell_type": "code",
   "execution_count": 40,
   "metadata": {},
   "outputs": [
    {
     "name": "stdout",
     "output_type": "stream",
     "text": [
      "[1 1 1]\n",
      "\n",
      "[[1. 1. 1.]\n",
      " [1. 1. 1.]]\n"
     ]
    }
   ],
   "source": [
    "o1 = np.ones(3, dtype = 'i') # 정수형\n",
    "o2 = np.ones((2,3))          # default : 실수형\n",
    "print(o1, o2, sep='\\n\\n')"
   ]
  },
  {
   "cell_type": "markdown",
   "metadata": {},
   "source": [
    "### 6.3. np.arange( # )  / np.arange(start, end, stride)"
   ]
  },
  {
   "cell_type": "code",
   "execution_count": 41,
   "metadata": {},
   "outputs": [
    {
     "data": {
      "text/plain": [
       "array([0, 1, 2, 3, 4, 5, 6, 7, 8, 9])"
      ]
     },
     "execution_count": 41,
     "metadata": {},
     "output_type": "execute_result"
    }
   ],
   "source": [
    "np.arange(10)"
   ]
  },
  {
   "cell_type": "code",
   "execution_count": 42,
   "metadata": {},
   "outputs": [
    {
     "data": {
      "text/plain": [
       "array([0, 2, 4, 6, 8])"
      ]
     },
     "execution_count": 42,
     "metadata": {},
     "output_type": "execute_result"
    }
   ],
   "source": [
    "np.arange(0,10,2)"
   ]
  },
  {
   "cell_type": "markdown",
   "metadata": {},
   "source": [
    "# 7. 벡터 연산 함수"
   ]
  },
  {
   "cell_type": "markdown",
   "metadata": {},
   "source": [
    "<img src=\"images/unary_func_1.jpg\" height=\"50%\" width=\"50%\" align=\"left\">\n",
    "<img src=\"images/unary_func_2.jpg\" height=\"50%\" width=\"50%\" align=\"left\">"
   ]
  },
  {
   "cell_type": "markdown",
   "metadata": {},
   "source": [
    "### 7.1 덧셈"
   ]
  },
  {
   "cell_type": "code",
   "execution_count": 43,
   "metadata": {},
   "outputs": [
    {
     "data": {
      "text/plain": [
       "(array([    1,     2,     3, ...,  9998,  9999, 10000]),\n",
       " array([10001, 10002, 10003, ..., 19998, 19999, 20000]))"
      ]
     },
     "execution_count": 43,
     "metadata": {},
     "output_type": "execute_result"
    }
   ],
   "source": [
    "x = np.arange(1, 10001)\n",
    "y = np.arange(10001, 20001)\n",
    "x, y"
   ]
  },
  {
   "cell_type": "code",
   "execution_count": 44,
   "metadata": {},
   "outputs": [
    {
     "data": {
      "text/plain": [
       "array([10002, 10004, 10006, ..., 29996, 29998, 30000])"
      ]
     },
     "execution_count": 44,
     "metadata": {},
     "output_type": "execute_result"
    }
   ],
   "source": [
    "z = x + y\n",
    "z"
   ]
  },
  {
   "cell_type": "markdown",
   "metadata": {},
   "source": [
    "### 7.2 지수, 제곱, 로그함수 \n",
    "- np.exp(array)\n",
    "- 스칼라 값 ** 배열 \n",
    "- np.log(array) : base = e\n",
    "    - np.log2(array) / np.log10(array) ...."
   ]
  },
  {
   "cell_type": "markdown",
   "metadata": {},
   "source": [
    "# 8. 브로드캐스팅 개념 \n",
    "- 서로 다른 크기를 가진 두 배열의 \"사칙 연산\"에서, 크기가 작은 배열이 큰 배열에 맞춤 \n",
    "~~~python\n",
    "'''              ∇ broadcasting    \n",
    "[[0 1 2]           \n",
    " [1 2 3]    +    [0 1 2]    \n",
    " [2 3 4]         \n",
    " [4 5 6]]        \n",
    "                   ∇ broadcasting    \n",
    "[[0 1 2]       [0 1 2]   \n",
    " [1 2 3]        [0 1 2]    \n",
    " [2 3 4]        [0 1 2]       \n",
    " [4 5 6]]       [0 1 2]    \n",
    "'''\n",
    "~~~"
   ]
  },
  {
   "cell_type": "markdown",
   "metadata": {},
   "source": [
    "### 8.1. Broadcasting 연산    \n"
   ]
  },
  {
   "cell_type": "code",
   "execution_count": 45,
   "metadata": {},
   "outputs": [
    {
     "data": {
      "text/plain": [
       "array([[0, 1, 2],\n",
       "       [1, 2, 3],\n",
       "       [2, 3, 4],\n",
       "       [4, 5, 6]])"
      ]
     },
     "execution_count": 45,
     "metadata": {},
     "output_type": "execute_result"
    }
   ],
   "source": [
    "x = np.array([\n",
    "    [0,1,2],\n",
    "    [1,2,3],\n",
    "    [2,3,4],\n",
    "    [4,5,6]\n",
    "])\n",
    "\n",
    "y = np.arange(3)\n",
    "\n",
    "x"
   ]
  },
  {
   "cell_type": "code",
   "execution_count": 46,
   "metadata": {},
   "outputs": [
    {
     "data": {
      "text/plain": [
       "array([0, 1, 2])"
      ]
     },
     "execution_count": 46,
     "metadata": {},
     "output_type": "execute_result"
    }
   ],
   "source": [
    "y"
   ]
  },
  {
   "cell_type": "code",
   "execution_count": 47,
   "metadata": {},
   "outputs": [],
   "source": [
    "# '''                ∇ broadcasting    \n",
    "# [[0 1 2]        [0 1 2]   \n",
    "#  [1 2 3]   +    [0 1 2]    \n",
    "#  [2 3 4]        [0 1 2]       \n",
    "#  [4 5 6]]       [0 1 2]    \n",
    "# '''"
   ]
  },
  {
   "cell_type": "markdown",
   "metadata": {},
   "source": [
    "# 9. 1차원 배열의 차원축소 연산 \n",
    "- 하나의 행에 있는 원소들을 하나의 데이터 집합으로, 그 집합의 평균을 구하여 1차원 벡터로 반환 \n",
    "- NumPy 차원 축소 연산 메서드 \n",
    "    - 배열.sum() / np.sum(배열)\n",
    "    - 배열.mean()/ np.mean(배열) \n",
    "    - 최대/최소      : max min \n",
    "    - 최대/최소 인덱스 : argmin / argmax \n",
    "    - np.median(배열) \n",
    "- 2차원 이상인 경우, axis를 인자로 사용 가능  \n",
    "\n",
    "<img src=\"images/stastical_methods.jpg\" height=\"60%\" width=\"60%\" align=\"left\" marging-left=\"50\">"
   ]
  },
  {
   "cell_type": "markdown",
   "metadata": {},
   "source": [
    "### 9.1. 중앙값 "
   ]
  },
  {
   "cell_type": "code",
   "execution_count": 48,
   "metadata": {},
   "outputs": [
    {
     "data": {
      "text/plain": [
       "array([3., 4., 5., 6.])"
      ]
     },
     "execution_count": 48,
     "metadata": {},
     "output_type": "execute_result"
    }
   ],
   "source": [
    "a = np.array([[1,2,3,4],\n",
    "              [5,6,7,8]])\n",
    "np.median(a, axis=0)"
   ]
  },
  {
   "cell_type": "markdown",
   "metadata": {},
   "source": [
    "### 9.2. 합 .."
   ]
  },
  {
   "cell_type": "code",
   "execution_count": 49,
   "metadata": {},
   "outputs": [
    {
     "data": {
      "text/plain": [
       "33"
      ]
     },
     "execution_count": 49,
     "metadata": {},
     "output_type": "execute_result"
    }
   ],
   "source": [
    "np.sum(x)"
   ]
  },
  {
   "cell_type": "markdown",
   "metadata": {},
   "source": [
    "### 9.3. 최소(argmin), 최대(argmax) 인덱스 반환 "
   ]
  },
  {
   "cell_type": "code",
   "execution_count": 50,
   "metadata": {},
   "outputs": [
    {
     "data": {
      "text/plain": [
       "array([[0, 1, 2],\n",
       "       [1, 2, 3],\n",
       "       [2, 3, 4],\n",
       "       [4, 5, 6]])"
      ]
     },
     "execution_count": 50,
     "metadata": {},
     "output_type": "execute_result"
    }
   ],
   "source": [
    "x"
   ]
  },
  {
   "cell_type": "code",
   "execution_count": 51,
   "metadata": {
    "scrolled": true
   },
   "outputs": [
    {
     "data": {
      "text/plain": [
       "0"
      ]
     },
     "execution_count": 51,
     "metadata": {},
     "output_type": "execute_result"
    }
   ],
   "source": [
    "np.argmin(x)"
   ]
  },
  {
   "cell_type": "code",
   "execution_count": 52,
   "metadata": {},
   "outputs": [
    {
     "data": {
      "text/plain": [
       "11"
      ]
     },
     "execution_count": 52,
     "metadata": {},
     "output_type": "execute_result"
    }
   ],
   "source": [
    "np.argmax(x)"
   ]
  },
  {
   "cell_type": "markdown",
   "metadata": {},
   "source": [
    "# 10. 2차원 배열의 차원축소 연산 \n",
    "- 연산의 대상이 2차원 이상인 경우, 어느 차원으로 계산을 할 지 axis인수 이용 \n",
    "- axis = 0 : 열 연산 \n",
    "- axis = 1 : 행 연산 \n",
    "- default : axis = 0 "
   ]
  },
  {
   "cell_type": "code",
   "execution_count": 53,
   "metadata": {},
   "outputs": [
    {
     "data": {
      "text/plain": [
       "array([[1, 3],\n",
       "       [2, 4]])"
      ]
     },
     "execution_count": 53,
     "metadata": {},
     "output_type": "execute_result"
    }
   ],
   "source": [
    "x = np.array([\n",
    "    [1,3],\n",
    "    [2,4]\n",
    "])\n",
    "x"
   ]
  },
  {
   "cell_type": "code",
   "execution_count": 54,
   "metadata": {},
   "outputs": [
    {
     "name": "stdout",
     "output_type": "stream",
     "text": [
      "[1.5 3.5]\n"
     ]
    }
   ],
   "source": [
    "print(x.mean(axis = 0))  # 열 기준 계산"
   ]
  },
  {
   "cell_type": "code",
   "execution_count": 55,
   "metadata": {},
   "outputs": [
    {
     "name": "stdout",
     "output_type": "stream",
     "text": [
      "[2. 3.]\n"
     ]
    }
   ],
   "source": [
    "print(x.mean(axis = 1))  # 행 기준 계산"
   ]
  },
  {
   "cell_type": "markdown",
   "metadata": {},
   "source": [
    "# 10.1. NumPy 통계함수 \n",
    "- len(배열) : 배열갯수\n",
    "- np.sum(배열)\n",
    "- np.mean(배열)\n",
    "- np.std(배열) : 표준편차 \n",
    "- np.var(배열  : 분산 \n",
    "- np.min(배열)\n",
    "- np.max(배열) \n",
    "- np.argmin(배열)\n",
    "- np.argmax(배열)\n",
    "- np.cumsum(배열)   : 원소의 누적 합 \n",
    "- np.cumprod(배열)  : 원소의 누적 곱 "
   ]
  },
  {
   "cell_type": "code",
   "execution_count": 56,
   "metadata": {},
   "outputs": [
    {
     "data": {
      "text/plain": [
       "array([ 0.4179261 ,  0.76111678, -0.27872852,  0.25414537, -1.71715061,\n",
       "       -0.04550265,  0.23579545, -0.06382069, -0.36427533,  0.3922232 ])"
      ]
     },
     "execution_count": 56,
     "metadata": {},
     "output_type": "execute_result"
    }
   ],
   "source": [
    "x = np.random.randn(10)\n",
    "x"
   ]
  },
  {
   "cell_type": "code",
   "execution_count": 57,
   "metadata": {},
   "outputs": [
    {
     "data": {
      "text/plain": [
       "10"
      ]
     },
     "execution_count": 57,
     "metadata": {},
     "output_type": "execute_result"
    }
   ],
   "source": [
    "len(x)        # 데이터 갯수 "
   ]
  },
  {
   "cell_type": "code",
   "execution_count": 58,
   "metadata": {},
   "outputs": [
    {
     "data": {
      "text/plain": [
       "-0.0408270906475313"
      ]
     },
     "execution_count": 58,
     "metadata": {},
     "output_type": "execute_result"
    }
   ],
   "source": [
    "np.mean(x)    # 평균 "
   ]
  },
  {
   "cell_type": "code",
   "execution_count": 59,
   "metadata": {},
   "outputs": [
    {
     "data": {
      "text/plain": [
       "0.4176456771384192"
      ]
     },
     "execution_count": 59,
     "metadata": {},
     "output_type": "execute_result"
    }
   ],
   "source": [
    "np.var(x)"
   ]
  },
  {
   "cell_type": "markdown",
   "metadata": {},
   "source": [
    "# 11. NumPy 난수생성\n",
    "- 데이터를 무작위로 섞거나, 임의의수, 난수를 발생시키는 random 서브패키지 사용 명령 \n",
    "    - random.rand    : 0 ~ 1 균일 분포   / 실수\n",
    "    - random.randn   : Gaussian RD     / 실수 \n",
    "    - random.randint( 시작, 끝, 배열 차원/크기 ) : 균일 분포 정수 난수"
   ]
  },
  {
   "cell_type": "code",
   "execution_count": 60,
   "metadata": {},
   "outputs": [
    {
     "data": {
      "text/plain": [
       "array([4.17022005e-01, 7.20324493e-01, 1.14374817e-04, 3.02332573e-01,\n",
       "       1.46755891e-01, 9.23385948e-02, 1.86260211e-01, 3.45560727e-01,\n",
       "       3.96767474e-01, 5.38816734e-01])"
      ]
     },
     "execution_count": 60,
     "metadata": {},
     "output_type": "execute_result"
    }
   ],
   "source": [
    "np.random.seed(1)   \n",
    "np.random.rand(10)   # seed를 이용한 배열 "
   ]
  },
  {
   "cell_type": "code",
   "execution_count": 61,
   "metadata": {},
   "outputs": [
    {
     "data": {
      "text/plain": [
       "array([[0.41919451, 0.6852195 ],\n",
       "       [0.20445225, 0.87811744],\n",
       "       [0.02738759, 0.67046751]])"
      ]
     },
     "execution_count": 61,
     "metadata": {},
     "output_type": "execute_result"
    }
   ],
   "source": [
    "np.random.rand(3,2)  # m x n 난수 배열 생성"
   ]
  },
  {
   "cell_type": "code",
   "execution_count": 62,
   "metadata": {},
   "outputs": [
    {
     "data": {
      "text/plain": [
       "array([17, 17, 19, 11, 17, 10, 16, 19, 19, 17])"
      ]
     },
     "execution_count": 62,
     "metadata": {},
     "output_type": "execute_result"
    }
   ],
   "source": [
    "np.random.randint(10, 20, size = 10)   "
   ]
  },
  {
   "cell_type": "code",
   "execution_count": 1,
   "metadata": {},
   "outputs": [
    {
     "ename": "NameError",
     "evalue": "name 'np' is not defined",
     "output_type": "error",
     "traceback": [
      "\u001b[0;31m---------------------------------------------------------------------------\u001b[0m",
      "\u001b[0;31mNameError\u001b[0m                                 Traceback (most recent call last)",
      "\u001b[0;32m<ipython-input-1-95621c29fe98>\u001b[0m in \u001b[0;36m<module>\u001b[0;34m\u001b[0m\n\u001b[0;32m----> 1\u001b[0;31m \u001b[0mnp\u001b[0m\u001b[0;34m.\u001b[0m\u001b[0mrandom\u001b[0m\u001b[0;34m.\u001b[0m\u001b[0mrandint\u001b[0m\u001b[0;34m(\u001b[0m\u001b[0;36m10\u001b[0m\u001b[0;34m,\u001b[0m \u001b[0;36m20\u001b[0m\u001b[0;34m,\u001b[0m \u001b[0msize\u001b[0m \u001b[0;34m=\u001b[0m \u001b[0;34m(\u001b[0m\u001b[0;36m3\u001b[0m\u001b[0;34m,\u001b[0m\u001b[0;36m5\u001b[0m\u001b[0;34m)\u001b[0m\u001b[0;34m)\u001b[0m\u001b[0;34m\u001b[0m\u001b[0;34m\u001b[0m\u001b[0m\n\u001b[0m",
      "\u001b[0;31mNameError\u001b[0m: name 'np' is not defined"
     ]
    }
   ],
   "source": [
    "np.random.randint(10, 20, size = (3,5))   "
   ]
  }
 ],
 "metadata": {
  "kernelspec": {
   "display_name": "Python 3",
   "language": "python",
   "name": "python3"
  },
  "language_info": {
   "codemirror_mode": {
    "name": "ipython",
    "version": 3
   },
   "file_extension": ".py",
   "mimetype": "text/x-python",
   "name": "python",
   "nbconvert_exporter": "python",
   "pygments_lexer": "ipython3",
   "version": "3.7.6"
  }
 },
 "nbformat": 4,
 "nbformat_minor": 4
}
