{
 "cells": [
  {
   "cell_type": "code",
   "execution_count": 2,
   "metadata": {},
   "outputs": [],
   "source": [
    "import numpy as np\n",
    "import pandas as pd"
   ]
  },
  {
   "cell_type": "markdown",
   "metadata": {},
   "source": [
    "①②③"
   ]
  },
  {
   "cell_type": "markdown",
   "metadata": {},
   "source": [
    "# 1. 외부파일 가져오기  \n",
    "- 파일 읽기 \n",
    "    - pd.read_csv('파일경로')\n",
    "    - pd.read_excel('파일경로')\n",
    "    - pd.read_json('파일경로')\n",
    "    - pd.read_html('웹 주소') "
   ]
  },
  {
   "cell_type": "markdown",
   "metadata": {},
   "source": [
    "- pd.read_파일형식(path, header=None, index_col = None, sep=None, names=None..... )\n",
    "    - 옵션   \n",
    "       <img src = '../images/read_파일_옵션1.jpg' height = '60%' width='60%' align='left'><br/>\n",
    "       <img src = '../images/read_파일_옵션2.jpg' height = '61%' width='61%' align='left'>"
   ]
  },
  {
   "cell_type": "code",
   "execution_count": 3,
   "metadata": {},
   "outputs": [
    {
     "data": {
      "text/html": [
       "<div>\n",
       "<style scoped>\n",
       "    .dataframe tbody tr th:only-of-type {\n",
       "        vertical-align: middle;\n",
       "    }\n",
       "\n",
       "    .dataframe tbody tr th {\n",
       "        vertical-align: top;\n",
       "    }\n",
       "\n",
       "    .dataframe thead th {\n",
       "        text-align: right;\n",
       "    }\n",
       "</style>\n",
       "<table border=\"1\" class=\"dataframe\">\n",
       "  <thead>\n",
       "    <tr style=\"text-align: right;\">\n",
       "      <th></th>\n",
       "      <th>Unnamed: 0</th>\n",
       "      <th>name</th>\n",
       "      <th>algol</th>\n",
       "      <th>basic</th>\n",
       "      <th>c++</th>\n",
       "    </tr>\n",
       "  </thead>\n",
       "  <tbody>\n",
       "    <tr>\n",
       "      <th>0</th>\n",
       "      <td>0</td>\n",
       "      <td>Jerry</td>\n",
       "      <td>A</td>\n",
       "      <td>C</td>\n",
       "      <td>B+</td>\n",
       "    </tr>\n",
       "    <tr>\n",
       "      <th>1</th>\n",
       "      <td>1</td>\n",
       "      <td>Riah</td>\n",
       "      <td>A+</td>\n",
       "      <td>B</td>\n",
       "      <td>C</td>\n",
       "    </tr>\n",
       "    <tr>\n",
       "      <th>2</th>\n",
       "      <td>2</td>\n",
       "      <td>Paul</td>\n",
       "      <td>B</td>\n",
       "      <td>B+</td>\n",
       "      <td>C+</td>\n",
       "    </tr>\n",
       "  </tbody>\n",
       "</table>\n",
       "</div>"
      ],
      "text/plain": [
       "   Unnamed: 0   name algol basic c++\n",
       "0           0  Jerry     A     C  B+\n",
       "1           1   Riah    A+     B   C\n",
       "2           2   Paul     B    B+  C+"
      ]
     },
     "execution_count": 3,
     "metadata": {},
     "output_type": "execute_result"
    }
   ],
   "source": [
    "csv = pd.read_csv('../pandas_data/df_sample2.csv')\n",
    "csv"
   ]
  },
  {
   "cell_type": "markdown",
   "metadata": {},
   "source": [
    "###### 옵션 -  index_col = 'name'   /  csv.drop( [컬럼], axis = 1 )"
   ]
  },
  {
   "cell_type": "code",
   "execution_count": 4,
   "metadata": {},
   "outputs": [
    {
     "data": {
      "text/html": [
       "<div>\n",
       "<style scoped>\n",
       "    .dataframe tbody tr th:only-of-type {\n",
       "        vertical-align: middle;\n",
       "    }\n",
       "\n",
       "    .dataframe tbody tr th {\n",
       "        vertical-align: top;\n",
       "    }\n",
       "\n",
       "    .dataframe thead th {\n",
       "        text-align: right;\n",
       "    }\n",
       "</style>\n",
       "<table border=\"1\" class=\"dataframe\">\n",
       "  <thead>\n",
       "    <tr style=\"text-align: right;\">\n",
       "      <th></th>\n",
       "      <th>algol</th>\n",
       "      <th>basic</th>\n",
       "      <th>c++</th>\n",
       "    </tr>\n",
       "    <tr>\n",
       "      <th>name</th>\n",
       "      <th></th>\n",
       "      <th></th>\n",
       "      <th></th>\n",
       "    </tr>\n",
       "  </thead>\n",
       "  <tbody>\n",
       "    <tr>\n",
       "      <th>Jerry</th>\n",
       "      <td>A</td>\n",
       "      <td>C</td>\n",
       "      <td>B+</td>\n",
       "    </tr>\n",
       "    <tr>\n",
       "      <th>Riah</th>\n",
       "      <td>A+</td>\n",
       "      <td>B</td>\n",
       "      <td>C</td>\n",
       "    </tr>\n",
       "    <tr>\n",
       "      <th>Paul</th>\n",
       "      <td>B</td>\n",
       "      <td>B+</td>\n",
       "      <td>C+</td>\n",
       "    </tr>\n",
       "  </tbody>\n",
       "</table>\n",
       "</div>"
      ],
      "text/plain": [
       "      algol basic c++\n",
       "name                 \n",
       "Jerry     A     C  B+\n",
       "Riah     A+     B   C\n",
       "Paul      B    B+  C+"
      ]
     },
     "execution_count": 4,
     "metadata": {},
     "output_type": "execute_result"
    }
   ],
   "source": [
    "csv = pd.read_csv('../pandas_data/df_sample2.csv', index_col ='name')\n",
    "csv.drop(['Unnamed: 0'], axis = 1, inplace = True)\n",
    "csv"
   ]
  },
  {
   "cell_type": "markdown",
   "metadata": {},
   "source": [
    "###### option - skip_footer = 5"
   ]
  },
  {
   "cell_type": "code",
   "execution_count": 5,
   "metadata": {},
   "outputs": [
    {
     "data": {
      "text/html": [
       "<div>\n",
       "<style scoped>\n",
       "    .dataframe tbody tr th:only-of-type {\n",
       "        vertical-align: middle;\n",
       "    }\n",
       "\n",
       "    .dataframe tbody tr th {\n",
       "        vertical-align: top;\n",
       "    }\n",
       "\n",
       "    .dataframe thead th {\n",
       "        text-align: right;\n",
       "    }\n",
       "</style>\n",
       "<table border=\"1\" class=\"dataframe\">\n",
       "  <thead>\n",
       "    <tr style=\"text-align: right;\">\n",
       "      <th></th>\n",
       "      <th>전력량 (억㎾h)</th>\n",
       "      <th>발전 전력별</th>\n",
       "      <th>1990</th>\n",
       "      <th>1991</th>\n",
       "      <th>1992</th>\n",
       "      <th>1993</th>\n",
       "      <th>1994</th>\n",
       "    </tr>\n",
       "  </thead>\n",
       "  <tbody>\n",
       "    <tr>\n",
       "      <th>0</th>\n",
       "      <td>남한</td>\n",
       "      <td>합계</td>\n",
       "      <td>1077</td>\n",
       "      <td>1186</td>\n",
       "      <td>1310</td>\n",
       "      <td>1444</td>\n",
       "      <td>1650</td>\n",
       "    </tr>\n",
       "    <tr>\n",
       "      <th>1</th>\n",
       "      <td>NaN</td>\n",
       "      <td>수력</td>\n",
       "      <td>64</td>\n",
       "      <td>51</td>\n",
       "      <td>49</td>\n",
       "      <td>60</td>\n",
       "      <td>41</td>\n",
       "    </tr>\n",
       "    <tr>\n",
       "      <th>2</th>\n",
       "      <td>NaN</td>\n",
       "      <td>화력</td>\n",
       "      <td>484</td>\n",
       "      <td>573</td>\n",
       "      <td>696</td>\n",
       "      <td>803</td>\n",
       "      <td>1022</td>\n",
       "    </tr>\n",
       "  </tbody>\n",
       "</table>\n",
       "</div>"
      ],
      "text/plain": [
       "  전력량 (억㎾h) 발전 전력별  1990  1991  1992  1993  1994\n",
       "0        남한     합계  1077  1186  1310  1444  1650\n",
       "1       NaN     수력    64    51    49    60    41\n",
       "2       NaN     화력   484   573   696   803  1022"
      ]
     },
     "execution_count": 5,
     "metadata": {},
     "output_type": "execute_result"
    }
   ],
   "source": [
    "xlsx = pd.read_excel('../pandas_data/남북한발전전력량.xlsx', skip_footer=10, encoding='euc-kr')\n",
    "xlsx = xlsx.iloc[0:3,[0,1,2,3,4,5,6]]\n",
    "xlsx"
   ]
  },
  {
   "cell_type": "markdown",
   "metadata": {},
   "source": [
    "# 2. 데이터 저장하기\n",
    "- 파일 저장\n",
    "    - pd.to_csv('파일경로')\n",
    "    - pd.to_excel('파일경로')\n",
    "    - pd.to_json('파일경로')"
   ]
  },
  {
   "cell_type": "markdown",
   "metadata": {},
   "source": [
    "- 여러 개의 데이터프레임을 하나의 Excel 파일로 저장 \n",
    "    - pd.ExcelWrite('파일경로')\n",
    "        - df.to_excel(pd.ExcelWriter('경로'), sheet_name='시트 이름')\n",
    "            - pd.ExcelWriter.save()"
   ]
  },
  {
   "cell_type": "markdown",
   "metadata": {},
   "source": [
    "###### 여러 개의 데이터프레임을 엑셀 파일로 저장 "
   ]
  },
  {
   "cell_type": "code",
   "execution_count": 6,
   "metadata": {},
   "outputs": [],
   "source": [
    "data1 = {'name' : [ 'Jerry', 'Riah', 'Paul'],\n",
    "         'algol' : [ \"A\", \"A+\", \"B\"], \n",
    "         'basic' : [ \"C\", \"B\", \"B+\"], \n",
    "         'c++' : [ \"B+\", \"C\", \"C+\"]}\n",
    "\n",
    "data2 = {'c0':[1,2,3], \n",
    "         'c1':[4,5,6], \n",
    "         'c2':[7,8,9],\n",
    "         'c3':[10,11,12], \n",
    "         'c4':[13,14,15]}\n",
    "\n",
    "df1 = pd.DataFrame(data1)\n",
    "df1.set_index('name', inplace = True)\n",
    "\n",
    "df2 = pd.DataFrame(data2)\n",
    "df2.set_index('c0', inplace = True)\n",
    "\n",
    "writer = pd.ExcelWriter(\"./엑셀에여러파일쓰기.xlsx\")\n",
    "df1.to_excel(writer, sheet_name=\"sheet1\") # df1은 sheet1\n",
    "df2.to_excel(writer, sheet_name=\"sheet2\") # df2는 sheet2 \n",
    "writer.save()\n",
    "\n",
    "confirm1 = pd.read_excel('./엑셀에여러파일쓰기.xlsx', sheet_name='sheet2', index_col = 'c0')\n",
    "confirm2 = pd.read_excel('./엑셀에여러파일쓰기.xlsx', sheet_name='sheet1', index_col = 'name')"
   ]
  }
 ],
 "metadata": {
  "kernelspec": {
   "display_name": "Python 3",
   "language": "python",
   "name": "python3"
  },
  "language_info": {
   "codemirror_mode": {
    "name": "ipython",
    "version": 3
   },
   "file_extension": ".py",
   "mimetype": "text/x-python",
   "name": "python",
   "nbconvert_exporter": "python",
   "pygments_lexer": "ipython3",
   "version": "3.7.6"
  }
 },
 "nbformat": 4,
 "nbformat_minor": 4
}
