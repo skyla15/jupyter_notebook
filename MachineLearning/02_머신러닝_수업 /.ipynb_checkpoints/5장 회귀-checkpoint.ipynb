{
 "cells": [
  {
   "cell_type": "markdown",
   "metadata": {},
   "source": [
    "# 경사하강법 \n",
    "### __RSS : Residual Sum of Square__ ( 회귀 )\n",
    "\n",
    "$$ J = Cost(w) = RSS = {1 \\over m}{\\sum_{i=1}^m}{(Wx^{(i)} - y^{(i)})}^2 $$\n",
    "\n",
    "### Gradient Descent Algorithm \n",
    "\n",
    "$ 1)\\quad \\hat y = wX $\n",
    "\n",
    "$ 2)\\quad 위의 식에서 W값을 기울기로 취급하고, 기존의 상수 {1 \\over m}을 {1 \\over 2m}으로 변경하여 미분을 쉽게 해준다 $\n",
    "\n",
    "$ 3)\\quad Cost(w) = RSS = {(wX - y)}{(wX - y)}^t $\n",
    "\n",
    "$ 4)\\quad W\\;미분 진행 $\n",
    "\n",
    "$ 5)\\quad w := w - \\eta{\\partial \\over \\partial w}cost(w) = w - \\eta{\\partial \\over \\partial w}{(wX - y)}{(wX - y)}^t $\n",
    "\n",
    "$ 6)\\quad W := W - ( 2X^tXw - 2X^ty )  $\n",
    "\n",
    "\n",
    "$ \\alpha는\\; 수정이\\; 반복될\\; 때,\\; 다음 \\; 점을\\; 어느정도\\; 옮길\\; 지\\; 결정하는\\; 상수 $\n",
    "\n",
    "$ 최소점\\; 0에서\\; 우측에\\; 점이\\; 위치한다면\\; 기울기는\\; 양수,\\; 우측에\\; 있다면\\; 기울기는\\; 음수가\\; 된다.\\;즉,\\;0을\\; 기준으로\\; 우측에\\; 있다면\\; 작은\\; 곳으로 움직이고,\\; 좌측에\\; 있다면\\; 큰\\; 쪽으로\\; W를\\; 이동시키기\\; 위해,\\; 음수를\\; 곱하여\\; 이동시킨다$\n",
    "\n",
    "$$W := W - \\eta{1 \\over m}{\\sum_{i=1}^m}{(Wx^{(i)} - y^{(i)})}x^{(i)} $$\n",
    "\n",
    "$$  w := w - \\eta( 2X^tXw - 2X^ty )  $$\n",
    "\n",
    "$$ where \\; \\eta \\; is\\; the\\; learning \\; rate $$"
   ]
  },
  {
   "cell_type": "markdown",
   "metadata": {},
   "source": [
    "######  경사하강법 \n",
    "<img src = './img/05_경사하강법.jpg' width = '60%' height = '60%' >"
   ]
  },
  {
   "cell_type": "markdown",
   "metadata": {},
   "source": [
    "import numpy as np\n",
    "import matplotlib.pyplot as plt\n",
    "%matplotlib inline"
   ]
  },
  {
   "cell_type": "code",
   "execution_count": 37,
   "metadata": {},
   "outputs": [],
   "source": [
    "# w1 과 w0 를 업데이트 할 w1_update, w0_update를 반환. \n",
    "def get_weight_updates(w1, w0, X, y, learning_rate=0.01):\n",
    "    N = len(y)\n",
    "    # 먼저 w1_update, w0_update를 각각 w1, w0의 shape와 동일한 크기를 가진 0 값으로 초기화\n",
    "    w1_update = np.zeros_like(w1)\n",
    "    w0_update = np.zeros_like(w0)\n",
    "    \n",
    "    # 예측 배열 계산하고 예측과 실제 값의 차이 계산\n",
    "    y_pred = np.dot(X, w1.T) + w0\n",
    "    diff = y - y_pred\n",
    "         \n",
    "    # w0_update를 dot 행렬 연산으로 구하기 위해 모두 1값을 가진 행렬 생성 \n",
    "    w0_factors = np.ones((N,1))\n",
    "\n",
    "    # w1과 w0을 업데이트할 w1_update와 w0_update 계산\n",
    "    w1_update = -(2/N)*learning_rate*(np.dot(X.T, diff)) # xi * (실제값 - 예측값 / diff)\n",
    "    w0_update = -(2/N)*learning_rate*(np.dot(w0_factors.T, diff))    \n",
    "    \n",
    "    return w1_update, w0_update"
   ]
  },
  {
   "cell_type": "code",
   "execution_count": 34,
   "metadata": {},
   "outputs": [],
   "source": [
    "# 입력 인자 iters로 주어진 횟수만큼 반복적으로 w1과 w0를 업데이트 적용함. \n",
    "def gradient_descent_steps(X, y, iters=10000):\n",
    "    # w0와 w1을 모두 0으로 초기화. \n",
    "    w0 = np.zeros((1,1))\n",
    "    w1 = np.zeros((1,1))\n",
    "    \n",
    "    # 인자로 주어진 iters 만큼 반복적으로 get_weight_updates() 호출하여 w1, w0 업데이트 수행. \n",
    "    for ind in range(iters):\n",
    "        w1_update, w0_update = get_weight_updates(w1, w0, X, y, learning_rate=0.01)\n",
    "        w1 = w1 - w1_update\n",
    "        w0 = w0 - w0_update\n",
    "              \n",
    "    return w1, w0"
   ]
  },
  {
   "cell_type": "code",
   "execution_count": 35,
   "metadata": {},
   "outputs": [
    {
     "name": "stdout",
     "output_type": "stream",
     "text": [
      "w1:4.022 w0:6.162\n",
      "Gradient Descent Total Cost:0.9935\n"
     ]
    }
   ],
   "source": [
    "def get_cost(y, y_pred):\n",
    "    N = len(y) \n",
    "    cost = np.sum(np.square(y - y_pred))/N\n",
    "    return cost\n",
    "\n",
    "np.random.seed(0)\n",
    "# y = 4X + 6 식을 근사(w1=4, w0=6). random 값은 Noise를 위해 만듬\n",
    "X = 2 * np.random.rand(100,1) # r, c\n",
    "y = 6 + 4 * X + np.random.randn(100,1)\n",
    "\n",
    "w1, w0 = gradient_descent_steps(X, y, iters=1000)\n",
    "\n",
    "print(\"w1:{0:.3f} w0:{1:.3f}\".format(w1[0,0], w0[0,0]))\n",
    "y_pred = w1[0,0] * X + w0\n",
    "print('Gradient Descent Total Cost:{0:.4f}'.format(get_cost(y, y_pred)))"
   ]
  },
  {
   "cell_type": "code",
   "execution_count": 36,
   "metadata": {},
   "outputs": [
    {
     "data": {
      "text/plain": [
       "[<matplotlib.lines.Line2D at 0x7fd004935310>]"
      ]
     },
     "execution_count": 36,
     "metadata": {},
     "output_type": "execute_result"
    },
    {
     "data": {
      "image/png": "[encoded data removed]",
      "text/plain": [
       "<Figure size 432x288 with 1 Axes>"
      ]
     },
     "metadata": {
      "needs_background": "light"
     },
     "output_type": "display_data"
    }
   ],
   "source": [
    "# X, y 데이터 셋 scatter plot으로 시각화\n",
    "plt.scatter(X, y)\n",
    "plt.plot(X,y_pred)"
   ]
  },
  {
   "cell_type": "code",
   "execution_count": null,
   "metadata": {},
   "outputs": [],
   "source": []
  },
  {
   "cell_type": "code",
   "execution_count": null,
   "metadata": {},
   "outputs": [],
   "source": []
  },
  {
   "cell_type": "code",
   "execution_count": null,
   "metadata": {},
   "outputs": [],
   "source": []
  }
 ],
 "metadata": {
  "kernelspec": {
   "display_name": "Python 3",
   "language": "python",
   "name": "python3"
  },
  "language_info": {
   "codemirror_mode": {
    "name": "ipython",
    "version": 3
   },
   "file_extension": ".py",
   "mimetype": "text/x-python",
   "name": "python",
   "nbconvert_exporter": "python",
   "pygments_lexer": "ipython3",
   "version": "3.7.6"
  }
 },
 "nbformat": 4,
 "nbformat_minor": 4
}
