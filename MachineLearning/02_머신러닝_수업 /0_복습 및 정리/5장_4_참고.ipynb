{
 "cells": [
  {
   "cell_type": "markdown",
   "metadata": {
    "heading_collapsed": true
   },
   "source": [
    "# 회귀평가지표 ( ANOVA ) \n",
    "- 종속변수의 분산과 독립변수의 분산간의 관계 "
   ]
  },
  {
   "cell_type": "markdown",
   "metadata": {
    "hidden": true
   },
   "source": [
    "### MAE ( Mean Absolute Error ) "
   ]
  },
  {
   "cell_type": "markdown",
   "metadata": {
    "hidden": true
   },
   "source": [
    "### MSE ( Mean Squared Error )"
   ]
  },
  {
   "cell_type": "markdown",
   "metadata": {
    "hidden": true
   },
   "source": [
    "### RMSE ( Root Mean Squared Error "
   ]
  },
  {
   "cell_type": "markdown",
   "metadata": {
    "heading_collapsed": true,
    "hidden": true
   },
   "source": [
    "### $ R^2 $( 결정 계수, 설명력 ) = $ 1 - {{\\sum (y_i - \\hat y)}^2 \\over {\\sum (y_i - \\bar y)}^2}  = 1 - {\\sum (오차^2) \\over \\sum (편차^2) }$\n",
    "- 평균값 예측보다 못할 경우 음수 \n",
    "- 0일 경우 평균값으로 예측"
   ]
  },
  {
   "cell_type": "markdown",
   "metadata": {
    "hidden": true
   },
   "source": [
    "### TSS ( Total Sum of Square) \n",
    "**TSS는 종속변수값의 움직이는 범위, 실제 종속변수 값의 $편차^2$ 합**\n",
    "$$\\text{TSS} = \\sum_{i=1}^N (y_i-\\bar{y})^2 = (y - \\bar{y}_N)^T(y - \\bar{y}_N)$$"
   ]
  },
  {
   "cell_type": "markdown",
   "metadata": {},
   "source": [
    "# Linear Regression"
   ]
  },
  {
   "cell_type": "markdown",
   "metadata": {},
   "source": [
    "회귀분석은 독립변수 $x$에 대응하는 종속변수 $y$와 가장 비슷한 값 $\\hat{y}$를 출력하는 함수 $f(x)$를 찾는 과정이다. \n",
    "\n",
    "$$ \n",
    "\\hat{y} = f \\left( x \\right) \\approx y \n",
    "$$\n",
    "\n",
    "만약 $f(x)$가 다음과 같은 선형함수면 이 함수를 **선형회귀모형(linear regression model)**이라고 한다. 선형회귀모형을 사용하는 회귀분석은 선형회귀분석이라고 한다.\n",
    "\n",
    "$$ \n",
    "\\hat{y} = w_0 + w_1 x_1 + w_2 x_2 + \\cdots + w_D x_D = w_0 + w^Tx \n",
    "$$\n",
    "\n",
    "위 식에서 독립변수 $x=(x_1, x_2, \\ldots, x_D)$는 $D$차원 벡터다. 가중치 벡터 $w=(w_0, \\cdots, w_D)$는 함수 $f(x)$의 계수(coefficient)이자 이 선형회귀모형의 **모수(parameter)**라고 한다. "
   ]
  },
  {
   "cell_type": "markdown",
   "metadata": {},
   "source": [
    "$ w_0 : Bias ( 편향 ) /  w_1, w_2, w_3, ... w_n : Variance $ \n"
   ]
  },
  {
   "cell_type": "markdown",
   "metadata": {
    "heading_collapsed": true
   },
   "source": [
    "### OLS (OLS: Ordinary Least Squares)"
   ]
  },
  {
   "cell_type": "markdown",
   "metadata": {
    "hidden": true
   },
   "source": [
    "최소자승법(OLS: Ordinary Least Squares)는 잔차제곱합(RSS: Residual Sum of Squares)를 최소화하는 가중치 벡터를 구하는 방법이다. \n",
    "\n",
    "우리가 사용하는 예측 모형은 다음과 같이 상수항이 결합된 선형모형이다.\n",
    "\n",
    "$$ \\hat{y} = Xw $$\n",
    "\n",
    "이때 잔차 벡터(residual vector) $e$는 \n",
    "\n",
    "$$ e = {y} - \\hat{y} = y - Xw $$\n",
    "\n",
    "이고 잔차 제곱합(RSS:residual sum of squares)은\n",
    "\n",
    "$$\n",
    "\\begin{aligned}\n",
    "\\text{RSS}\n",
    "&=  e^Te \\\\\n",
    "&= (y - Xw)^T(y - Xw) \\\\\n",
    "&= y^Ty - 2y^T X w + w^TX^TXw  \n",
    "\\end{aligned}\n",
    "$$\n",
    "\n",
    "이다. 잔차의 크기(잔차 제곱합)를 가장 작게 하는 가중치 벡터를 구하기 위해 이 식을 미분하여 잔차 제곱합의 그레디언트(gradient) 벡터를 구하면 다음과 같다.\n",
    "\n",
    "$$ \n",
    "\\dfrac{d \\text{RSS}}{d w} = -2 X^T y + 2 X^TX w \n",
    "$$\n",
    "\n",
    "잔차가 최소가 되는 최적화 조건은 그레디언트 벡터가 0벡터이어야 하므로 다음 식이 성립한다.\n",
    "\n",
    "$$ \n",
    "\\dfrac{d \\text{RSS}}{d w} = 0 \n",
    "$$\n",
    "\n",
    "$$ \n",
    "X^TX w^{\\ast} = X^T y \n",
    "$$\n",
    "\n",
    "만약 $X^TX$ 행렬의 역행렬이 존재한다면 다음처럼 최적 가중치 벡터 $w^{\\ast}$를 구할 수 있다.\n",
    "\n",
    "$$ \n",
    "w^{\\ast} = (X^TX)^{-1} X^T y \n",
    "$$\n",
    "\n",
    "$X^TX$ 행렬의 역행렬이 존재하고 위에서 구한 값이 최저값이 되려면 잔차 제곱합의 헤시안 행렬인 $X^TX$가 양의 정부호(positive definite)이어야 한다.\n",
    "( 아래로 볼록 )\n",
    "\n",
    "$$ \n",
    "\\frac{d^2 \\text{RSS}}{dw^2} = 2X^TX > 0 \n",
    "$$\n",
    "\n",
    "> $X$의 각 행렬이 서로 독립($X$가 풀랭크)이 아니면 $X^TX$가 양의 정부호가 > 아니고 역행렬이 존재하지 않으므로 위와 같은 해를 구할 수 없다.\n",
    "> ➤ 각 피쳐들간의 상관관계가 있으면 줄이던가 처리해야함 "
   ]
  },
  {
   "cell_type": "markdown",
   "metadata": {
    "heading_collapsed": true
   },
   "source": [
    "# 선형 하강법 ( Gradient Descent )"
   ]
  },
  {
   "cell_type": "markdown",
   "metadata": {
    "heading_collapsed": true,
    "hidden": true
   },
   "source": [
    "### __RSS : Residual Sum of Square__ ( 회귀 )\n",
    "\n",
    "$$ J = Cost(w) = RSS = {1 \\over m}{\\sum_{i=1}^m}{(Wx^{(i)} - y^{(i)})}^2 $$\n",
    "\n",
    "### Gradient Descent Algorithm \n",
    "\n",
    "$ 1)\\quad \\hat y = wX $\n",
    "\n",
    "$ 2)\\quad 위의 식에서 W값을 기울기로 취급하고, 기존의 상수 {1 \\over m}을 {1 \\over 2m}으로 변경하여 미분을 쉽게 해준다 $\n",
    "\n",
    "$ 3)\\quad Cost(w) = RSS = {(wX - y)}{(wX - y)}^t $\n",
    "\n",
    "$ 4)\\quad W\\;미분 진행 $\n",
    "\n",
    "$ 5)\\quad w := w - \\eta{\\partial \\over \\partial w}cost(w) = w - {\\partial \\over \\partial w}{(wX - y)}{(wX - y)}^t $\n",
    "\n",
    "$ 6)\\quad W := W - ( 2X^tXw - 2X^ty )  $\n",
    "\n",
    "\n",
    "$ \\alpha는\\; 수정이\\; 반복될\\; 때,\\; 다음 \\; 점을\\; 어느정도\\; 옮길\\; 지\\; 결정하는\\; 상수 $\n",
    "\n",
    "$ 최소점\\; 0에서\\; 우측에\\; 점이\\; 위치한다면\\; 기울기는\\; 양수,\\; 우측에\\; 있다면\\; 기울기는\\; 음수가\\; 된다.\\;즉,\\;0을\\; 기준으로\\; 우측에\\; 있다면\\; 작은\\; 곳으로 움직이고,\\; 좌측에\\; 있다면\\; 큰\\; 쪽으로\\; W를\\; 이동시키기\\; 위해,\\; 음수를\\; 곱하여\\; 이동시킨다$\n",
    "\n",
    "$$W := W - \\alpha{1 \\over m}{\\sum_{i=1}^m}{(Wx^{(i)} - y^{(i)})}x^{(i)} $$\n",
    "$$  W := W - ( 2X^tXw - 2X^ty )  $$\n",
    "<img src = './img/07_Matrix_공식.jpg' width = '50%' height = '50%'>"
   ]
  },
  {
   "cell_type": "markdown",
   "metadata": {
    "heading_collapsed": true
   },
   "source": [
    "# 다중공선성과 VIF "
   ]
  },
  {
   "cell_type": "markdown",
   "metadata": {
    "hidden": true
   },
   "source": [
    "다중공선성(multicollinearity)란 독립 변수의 일부가 다른 독립 변수의 조합으로 표현될 수 있는 경우이다. 독립 변수들이 서로 독립이 아니라 상호상관관계가 강한 경우에 발생한다. 이는 독립 변수의 공분산 행렬이 full rank 이어야 한다는 조건을 침해한다.\n",
    "\n",
    "다음 데이터는 미국의 거시경제지표를 나타낸 것이다. \n",
    "\n",
    "* TOTEMP - Total Employment\n",
    "* GNPDEFL - GNP deflator\n",
    "* GNP - GNP\n",
    "* UNEMP - Number of unemployed\n",
    "* ARMED - Size of armed forces\n",
    "* POP - Population\n",
    "* YEAR - Year (1947 - 1962)\n",
    "\n",
    "스캐터 플롯에서 보듯이 독립변수간의 상관관계가 강하다."
   ]
  },
  {
   "cell_type": "code",
   "execution_count": 7,
   "metadata": {
    "hidden": true
   },
   "outputs": [
    {
     "data": {
      "image/png": "[encoded data removed]",
      "text/plain": [
       "<Figure size 1080x1080 with 42 Axes>"
      ]
     },
     "metadata": {
      "needs_background": "light"
     },
     "output_type": "display_data"
    }
   ],
   "source": [
    "from statsmodels.datasets.longley import load_pandas\n",
    "import pandas as pd\n",
    "import seaborn as sns\n",
    "import matplotlib.pyplot as plt\n",
    "\n",
    "dfy = load_pandas().endog\n",
    "dfX = load_pandas().exog\n",
    "df = pd.concat([dfy, dfX], axis=1)\n",
    "sns.pairplot(dfX)\n",
    "plt.show()"
   ]
  },
  {
   "cell_type": "code",
   "execution_count": 10,
   "metadata": {
    "hidden": true
   },
   "outputs": [],
   "source": [
    "dfX = load_pandas().exog"
   ]
  },
  {
   "cell_type": "code",
   "execution_count": 11,
   "metadata": {
    "hidden": true
   },
   "outputs": [
    {
     "data": {
      "image/png": "[encoded data removed]",
      "text/plain": [
       "<Figure size 432x288 with 2 Axes>"
      ]
     },
     "metadata": {
      "needs_background": "light"
     },
     "output_type": "display_data"
    }
   ],
   "source": [
    "cmap = sns.light_palette(\"darkgray\", as_cmap=True)\n",
    "sns.heatmap(dfX.corr(), annot=True, cmap=cmap)\n",
    "plt.show()"
   ]
  },
  {
   "cell_type": "markdown",
   "metadata": {
    "hidden": true
   },
   "source": [
    "다중 공선성이 있으면 독립변수의 공분산 행렬의 조건수(conditional number)가 증가한다.  "
   ]
  },
  {
   "cell_type": "code",
   "execution_count": 14,
   "metadata": {
    "hidden": true
   },
   "outputs": [
    {
     "name": "stdout",
     "output_type": "stream",
     "text": [
      "                            OLS Regression Results                            \n",
      "==============================================================================\n",
      "Dep. Variable:                 TOTEMP   R-squared:                       1.000\n",
      "Model:                            OLS   Adj. R-squared:                  0.997\n",
      "Method:                 Least Squares   F-statistic:                     437.5\n",
      "Date:                Tue, 21 Jul 2020   Prob (F-statistic):             0.0366\n",
      "Time:                        00:28:02   Log-Likelihood:                -44.199\n",
      "No. Observations:                   8   AIC:                             102.4\n",
      "Df Residuals:                       1   BIC:                             103.0\n",
      "Df Model:                           6                                         \n",
      "Covariance Type:            nonrobust                                         \n",
      "==============================================================================\n",
      "                 coef    std err          t      P>|t|      [0.025      0.975]\n",
      "------------------------------------------------------------------------------\n",
      "Intercept  -1.235e+07   2.97e+06     -4.165      0.150      -5e+07    2.53e+07\n",
      "GNPDEFL      106.2620     75.709      1.404      0.394    -855.708    1068.232\n",
      "POP            2.2959      0.725      3.167      0.195      -6.915      11.506\n",
      "GNP           -0.3997      0.120     -3.339      0.185      -1.920       1.121\n",
      "YEAR        6300.6231   1498.900      4.203      0.149   -1.27e+04    2.53e+04\n",
      "ARMED         -0.2450      0.402     -0.609      0.652      -5.354       4.864\n",
      "UNEMP         -6.3311      1.324     -4.782      0.131     -23.153      10.491\n",
      "==============================================================================\n",
      "Omnibus:                        0.258   Durbin-Watson:                   1.713\n",
      "Prob(Omnibus):                  0.879   Jarque-Bera (JB):                0.304\n",
      "Skew:                           0.300   Prob(JB):                        0.859\n",
      "Kurtosis:                       2.258   Cond. No.                     2.01e+10\n",
      "==============================================================================\n",
      "\n",
      "Warnings:\n",
      "[1] Standard Errors assume that the covariance matrix of the errors is correctly specified.\n",
      "[2] The condition number is large, 2.01e+10. This might indicate that there are\n",
      "strong multicollinearity or other numerical problems.\n"
     ]
    },
    {
     "name": "stderr",
     "output_type": "stream",
     "text": [
      "/Users/jaeyeopchung/opt/anaconda3/lib/python3.7/site-packages/scipy/stats/stats.py:1535: UserWarning: kurtosistest only valid for n>=20 ... continuing anyway, n=8\n",
      "  \"anyway, n=%i\" % int(n))\n"
     ]
    }
   ],
   "source": [
    "from sklearn.model_selection import train_test_split\n",
    "import statsmodels.api as sm\n",
    "\n",
    "def get_model1(seed):\n",
    "    df_train, df_test = train_test_split(df, test_size=0.5, random_state=seed)\n",
    "    model = sm.OLS.from_formula(\"TOTEMP ~ GNPDEFL + POP + GNP + YEAR + ARMED + UNEMP\", data=df_train)\n",
    "    return df_train, df_test, model.fit()\n",
    "\n",
    "\n",
    "df_train, df_test, result1 = get_model1(3)\n",
    "print(result1.summary())"
   ]
  },
  {
   "cell_type": "markdown",
   "metadata": {
    "hidden": true
   },
   "source": [
    "또한 다음처럼 학습용 데이터와 검증용 데이터로 나누어 회귀분석 성능을 비교하면 과최적화가 발생하였음을 알 수 있다."
   ]
  },
  {
   "cell_type": "markdown",
   "metadata": {
    "hidden": true
   },
   "source": [
    "def calc_r2(df_test, result):\n",
    "    target = df.loc[df_test.index].TOTEMP\n",
    "    predict_test = result.predict(df_test)\n",
    "    RSS = ((predict_test - target)**2).sum()\n",
    "    TSS = ((target - target.mean())**2).sum()\n",
    "    return 1 - RSS / TSS\n",
    "\n",
    "\n",
    "test1 = []\n",
    "for i in range(10):\n",
    "    df_train, df_test, result = get_model1(i)\n",
    "    test1.append(calc_r2(df_test, result))\n",
    "\n",
    "test1"
   ]
  },
  {
   "cell_type": "markdown",
   "metadata": {
    "hidden": true
   },
   "source": [
    "###### 다중공선성 방지방법 "
   ]
  },
  {
   "cell_type": "markdown",
   "metadata": {
    "hidden": true
   },
   "source": [
    "독립변수가 서로 의존하게 되면 이렇게 과최적화(over-fitting) 문제가 발생하여 회귀 결과의 안정성을 해칠 가능성이 높아진다. 이를 방지하는 방법들은 다음과 같다.\n",
    "\n",
    "* 변수 선택법으로 의존적인 변수 삭제\n",
    "* PCA(principal component analysis) 방법으로 의존적인 성분 삭제\n",
    "* 정규화(regularized) 방법 사용"
   ]
  },
  {
   "cell_type": "markdown",
   "metadata": {
    "hidden": true
   },
   "source": [
    "### VIF "
   ]
  },
  {
   "cell_type": "markdown",
   "metadata": {
    "hidden": true
   },
   "source": [
    "다중 공선성을 없애는 가장 기본적인 방법은 다른 독립변수에 의존하는 변수를 없애는 것이다. 가장 의존적인 독립변수를 선택하는 방법으로는 VIF(Variance Inflation Factor)를 사용할 수 있다. VIF는 독립변수를 다른 독립변수로 선형회귀한 성능을 나타낸 것이다. $i$번째 변수의 VIF는 다음과 같이 계산한다.\n",
    "\n",
    "$$ \\text{VIF}_i = \\frac{\\sigma^2}{(n-1)\\text{Var}[X_i]}\\cdot \\frac{1}{1-R_i^2} $$\n",
    "\n",
    "여기에서 $R^2_i$는 다른 변수로 $i$번째 변수를 선형회귀한 성능(결정 계수)이다. 다른 변수에 의존적일 수록 VIF가 커진다."
   ]
  },
  {
   "cell_type": "markdown",
   "metadata": {
    "hidden": true
   },
   "source": [
    "StatsModels에서는 `variance_inflation_factor` 명령으로 VIF를 계산한다."
   ]
  },
  {
   "cell_type": "code",
   "execution_count": 17,
   "metadata": {
    "hidden": true
   },
   "outputs": [
    {
     "data": {
      "text/html": [
       "<div>\n",
       "<style scoped>\n",
       "    .dataframe tbody tr th:only-of-type {\n",
       "        vertical-align: middle;\n",
       "    }\n",
       "\n",
       "    .dataframe tbody tr th {\n",
       "        vertical-align: top;\n",
       "    }\n",
       "\n",
       "    .dataframe thead th {\n",
       "        text-align: right;\n",
       "    }\n",
       "</style>\n",
       "<table border=\"1\" class=\"dataframe\">\n",
       "  <thead>\n",
       "    <tr style=\"text-align: right;\">\n",
       "      <th></th>\n",
       "      <th>VIF Factor</th>\n",
       "      <th>features</th>\n",
       "    </tr>\n",
       "  </thead>\n",
       "  <tbody>\n",
       "    <tr>\n",
       "      <th>0</th>\n",
       "      <td>12425.514335</td>\n",
       "      <td>GNPDEFL</td>\n",
       "    </tr>\n",
       "    <tr>\n",
       "      <th>1</th>\n",
       "      <td>10290.435437</td>\n",
       "      <td>GNP</td>\n",
       "    </tr>\n",
       "    <tr>\n",
       "      <th>2</th>\n",
       "      <td>136.224354</td>\n",
       "      <td>UNEMP</td>\n",
       "    </tr>\n",
       "    <tr>\n",
       "      <th>3</th>\n",
       "      <td>39.983386</td>\n",
       "      <td>ARMED</td>\n",
       "    </tr>\n",
       "    <tr>\n",
       "      <th>4</th>\n",
       "      <td>101193.161993</td>\n",
       "      <td>POP</td>\n",
       "    </tr>\n",
       "    <tr>\n",
       "      <th>5</th>\n",
       "      <td>84709.950443</td>\n",
       "      <td>YEAR</td>\n",
       "    </tr>\n",
       "  </tbody>\n",
       "</table>\n",
       "</div>"
      ],
      "text/plain": [
       "      VIF Factor features\n",
       "0   12425.514335  GNPDEFL\n",
       "1   10290.435437      GNP\n",
       "2     136.224354    UNEMP\n",
       "3      39.983386    ARMED\n",
       "4  101193.161993      POP\n",
       "5   84709.950443     YEAR"
      ]
     },
     "execution_count": 17,
     "metadata": {},
     "output_type": "execute_result"
    }
   ],
   "source": [
    "from statsmodels.stats.outliers_influence import variance_inflation_factor\n",
    "\n",
    "vif = pd.DataFrame()\n",
    "vif[\"VIF Factor\"] = [variance_inflation_factor(\n",
    "    dfX.values, i) for i in range(dfX.shape[1])]\n",
    "vif[\"features\"] = dfX.columns\n",
    "vif"
   ]
  },
  {
   "cell_type": "markdown",
   "metadata": {
    "hidden": true
   },
   "source": [
    "상관계수와 VIF를 사용하여 독립 변수를 선택하면 GNP, ARMED, UNEMP 세가지 변수만으로도 비슷한 수준의 성능이 나온다는 것을 알 수 있다."
   ]
  },
  {
   "cell_type": "code",
   "execution_count": 19,
   "metadata": {
    "hidden": true
   },
   "outputs": [
    {
     "name": "stdout",
     "output_type": "stream",
     "text": [
      "                            OLS Regression Results                            \n",
      "==============================================================================\n",
      "Dep. Variable:                 TOTEMP   R-squared:                       0.989\n",
      "Model:                            OLS   Adj. R-squared:                  0.981\n",
      "Method:                 Least Squares   F-statistic:                     118.6\n",
      "Date:                Tue, 21 Jul 2020   Prob (F-statistic):           0.000231\n",
      "Time:                        00:30:02   Log-Likelihood:                -57.695\n",
      "No. Observations:                   8   AIC:                             123.4\n",
      "Df Residuals:                       4   BIC:                             123.7\n",
      "Df Model:                           3                                         \n",
      "Covariance Type:            nonrobust                                         \n",
      "================================================================================\n",
      "                   coef    std err          t      P>|t|      [0.025      0.975]\n",
      "--------------------------------------------------------------------------------\n",
      "Intercept     6.538e+04    163.988    398.686      0.000    6.49e+04    6.58e+04\n",
      "scale(GNP)    4338.7051    406.683     10.669      0.000    3209.571    5467.839\n",
      "scale(ARMED)  -812.1407    315.538     -2.574      0.062   -1688.215      63.933\n",
      "scale(UNEMP) -1373.0426    349.316     -3.931      0.017   -2342.898    -403.187\n",
      "==============================================================================\n",
      "Omnibus:                        0.628   Durbin-Watson:                   2.032\n",
      "Prob(Omnibus):                  0.731   Jarque-Bera (JB):                0.565\n",
      "Skew:                           0.390   Prob(JB):                        0.754\n",
      "Kurtosis:                       1.958   Cond. No.                         4.77\n",
      "==============================================================================\n",
      "\n",
      "Warnings:\n",
      "[1] Standard Errors assume that the covariance matrix of the errors is correctly specified.\n"
     ]
    },
    {
     "name": "stderr",
     "output_type": "stream",
     "text": [
      "/Users/jaeyeopchung/opt/anaconda3/lib/python3.7/site-packages/scipy/stats/stats.py:1535: UserWarning: kurtosistest only valid for n>=20 ... continuing anyway, n=8\n",
      "  \"anyway, n=%i\" % int(n))\n"
     ]
    }
   ],
   "source": [
    "def get_model2(seed):\n",
    "    df_train, df_test = train_test_split(df, test_size=0.5, random_state=seed)\n",
    "    model = sm.OLS.from_formula(\"TOTEMP ~ scale(GNP) + scale(ARMED) + scale(UNEMP)\", data=df_train)\n",
    "    return df_train, df_test, model.fit()\n",
    "\n",
    "\n",
    "df_train, df_test, result2 = get_model2(3)\n",
    "print(result2.summary())"
   ]
  },
  {
   "cell_type": "markdown",
   "metadata": {
    "hidden": true
   },
   "source": [
    "다중공선성을 제거한 경우에는 학습 성능과 검증 성능간의 차이가 줄어들었음을 확인할 수 있다. 즉, 과최적화가 발생하지 않는다."
   ]
  },
  {
   "cell_type": "code",
   "execution_count": null,
   "metadata": {
    "hidden": true
   },
   "outputs": [],
   "source": [
    "test2 = []\n",
    "for i in range(10):\n",
    "    df_train, df_test, result = get_model2(i)\n",
    "    test2.append(calc_r2(df_test, result))\n",
    "\n",
    "test2"
   ]
  },
  {
   "cell_type": "code",
   "execution_count": 21,
   "metadata": {
    "hidden": true
   },
   "outputs": [
    {
     "name": "stderr",
     "output_type": "stream",
     "text": [
      "/Users/jaeyeopchung/opt/anaconda3/lib/python3.7/site-packages/matplotlib/backends/backend_agg.py:211: RuntimeWarning: Glyph 49884 missing from current font.\n",
      "  font.set_text(s, 0.0, flags=flags)\n",
      "/Users/jaeyeopchung/opt/anaconda3/lib/python3.7/site-packages/matplotlib/backends/backend_agg.py:211: RuntimeWarning: Glyph 46300 missing from current font.\n",
      "  font.set_text(s, 0.0, flags=flags)\n",
      "/Users/jaeyeopchung/opt/anaconda3/lib/python3.7/site-packages/matplotlib/backends/backend_agg.py:211: RuntimeWarning: Glyph 44050 missing from current font.\n",
      "  font.set_text(s, 0.0, flags=flags)\n",
      "/Users/jaeyeopchung/opt/anaconda3/lib/python3.7/site-packages/matplotlib/backends/backend_agg.py:211: RuntimeWarning: Glyph 49457 missing from current font.\n",
      "  font.set_text(s, 0.0, flags=flags)\n",
      "/Users/jaeyeopchung/opt/anaconda3/lib/python3.7/site-packages/matplotlib/backends/backend_agg.py:211: RuntimeWarning: Glyph 45733 missing from current font.\n",
      "  font.set_text(s, 0.0, flags=flags)\n",
      "/Users/jaeyeopchung/opt/anaconda3/lib/python3.7/site-packages/matplotlib/backends/backend_agg.py:211: RuntimeWarning: Glyph 44208 missing from current font.\n",
      "  font.set_text(s, 0.0, flags=flags)\n",
      "/Users/jaeyeopchung/opt/anaconda3/lib/python3.7/site-packages/matplotlib/backends/backend_agg.py:211: RuntimeWarning: Glyph 51221 missing from current font.\n",
      "  font.set_text(s, 0.0, flags=flags)\n",
      "/Users/jaeyeopchung/opt/anaconda3/lib/python3.7/site-packages/matplotlib/backends/backend_agg.py:211: RuntimeWarning: Glyph 44228 missing from current font.\n",
      "  font.set_text(s, 0.0, flags=flags)\n",
      "/Users/jaeyeopchung/opt/anaconda3/lib/python3.7/site-packages/matplotlib/backends/backend_agg.py:211: RuntimeWarning: Glyph 49688 missing from current font.\n",
      "  font.set_text(s, 0.0, flags=flags)\n",
      "/Users/jaeyeopchung/opt/anaconda3/lib/python3.7/site-packages/matplotlib/backends/backend_agg.py:211: RuntimeWarning: Glyph 45796 missing from current font.\n",
      "  font.set_text(s, 0.0, flags=flags)\n",
      "/Users/jaeyeopchung/opt/anaconda3/lib/python3.7/site-packages/matplotlib/backends/backend_agg.py:211: RuntimeWarning: Glyph 51473 missing from current font.\n",
      "  font.set_text(s, 0.0, flags=flags)\n",
      "/Users/jaeyeopchung/opt/anaconda3/lib/python3.7/site-packages/matplotlib/backends/backend_agg.py:211: RuntimeWarning: Glyph 44277 missing from current font.\n",
      "  font.set_text(s, 0.0, flags=flags)\n",
      "/Users/jaeyeopchung/opt/anaconda3/lib/python3.7/site-packages/matplotlib/backends/backend_agg.py:211: RuntimeWarning: Glyph 49440 missing from current font.\n",
      "  font.set_text(s, 0.0, flags=flags)\n",
      "/Users/jaeyeopchung/opt/anaconda3/lib/python3.7/site-packages/matplotlib/backends/backend_agg.py:211: RuntimeWarning: Glyph 51228 missing from current font.\n",
      "  font.set_text(s, 0.0, flags=flags)\n",
      "/Users/jaeyeopchung/opt/anaconda3/lib/python3.7/site-packages/matplotlib/backends/backend_agg.py:211: RuntimeWarning: Glyph 44144 missing from current font.\n",
      "  font.set_text(s, 0.0, flags=flags)\n",
      "/Users/jaeyeopchung/opt/anaconda3/lib/python3.7/site-packages/matplotlib/backends/backend_agg.py:211: RuntimeWarning: Glyph 51204 missing from current font.\n",
      "  font.set_text(s, 0.0, flags=flags)\n",
      "/Users/jaeyeopchung/opt/anaconda3/lib/python3.7/site-packages/matplotlib/backends/backend_agg.py:211: RuntimeWarning: Glyph 44160 missing from current font.\n",
      "  font.set_text(s, 0.0, flags=flags)\n",
      "/Users/jaeyeopchung/opt/anaconda3/lib/python3.7/site-packages/matplotlib/backends/backend_agg.py:211: RuntimeWarning: Glyph 51613 missing from current font.\n",
      "  font.set_text(s, 0.0, flags=flags)\n",
      "/Users/jaeyeopchung/opt/anaconda3/lib/python3.7/site-packages/matplotlib/backends/backend_agg.py:211: RuntimeWarning: Glyph 54617 missing from current font.\n",
      "  font.set_text(s, 0.0, flags=flags)\n",
      "/Users/jaeyeopchung/opt/anaconda3/lib/python3.7/site-packages/matplotlib/backends/backend_agg.py:211: RuntimeWarning: Glyph 49845 missing from current font.\n",
      "  font.set_text(s, 0.0, flags=flags)\n",
      "/Users/jaeyeopchung/opt/anaconda3/lib/python3.7/site-packages/matplotlib/backends/backend_agg.py:211: RuntimeWarning: Glyph 54980 missing from current font.\n",
      "  font.set_text(s, 0.0, flags=flags)\n",
      "/Users/jaeyeopchung/opt/anaconda3/lib/python3.7/site-packages/matplotlib/backends/backend_agg.py:180: RuntimeWarning: Glyph 49884 missing from current font.\n",
      "  font.set_text(s, 0, flags=flags)\n",
      "/Users/jaeyeopchung/opt/anaconda3/lib/python3.7/site-packages/matplotlib/backends/backend_agg.py:180: RuntimeWarning: Glyph 46300 missing from current font.\n",
      "  font.set_text(s, 0, flags=flags)\n",
      "/Users/jaeyeopchung/opt/anaconda3/lib/python3.7/site-packages/matplotlib/backends/backend_agg.py:180: RuntimeWarning: Glyph 44050 missing from current font.\n",
      "  font.set_text(s, 0, flags=flags)\n",
      "/Users/jaeyeopchung/opt/anaconda3/lib/python3.7/site-packages/matplotlib/backends/backend_agg.py:180: RuntimeWarning: Glyph 49457 missing from current font.\n",
      "  font.set_text(s, 0, flags=flags)\n",
      "/Users/jaeyeopchung/opt/anaconda3/lib/python3.7/site-packages/matplotlib/backends/backend_agg.py:180: RuntimeWarning: Glyph 45733 missing from current font.\n",
      "  font.set_text(s, 0, flags=flags)\n",
      "/Users/jaeyeopchung/opt/anaconda3/lib/python3.7/site-packages/matplotlib/backends/backend_agg.py:180: RuntimeWarning: Glyph 44208 missing from current font.\n",
      "  font.set_text(s, 0, flags=flags)\n",
      "/Users/jaeyeopchung/opt/anaconda3/lib/python3.7/site-packages/matplotlib/backends/backend_agg.py:180: RuntimeWarning: Glyph 51221 missing from current font.\n",
      "  font.set_text(s, 0, flags=flags)\n",
      "/Users/jaeyeopchung/opt/anaconda3/lib/python3.7/site-packages/matplotlib/backends/backend_agg.py:180: RuntimeWarning: Glyph 44228 missing from current font.\n",
      "  font.set_text(s, 0, flags=flags)\n",
      "/Users/jaeyeopchung/opt/anaconda3/lib/python3.7/site-packages/matplotlib/backends/backend_agg.py:180: RuntimeWarning: Glyph 49688 missing from current font.\n",
      "  font.set_text(s, 0, flags=flags)\n",
      "/Users/jaeyeopchung/opt/anaconda3/lib/python3.7/site-packages/matplotlib/backends/backend_agg.py:180: RuntimeWarning: Glyph 45796 missing from current font.\n",
      "  font.set_text(s, 0, flags=flags)\n",
      "/Users/jaeyeopchung/opt/anaconda3/lib/python3.7/site-packages/matplotlib/backends/backend_agg.py:180: RuntimeWarning: Glyph 51473 missing from current font.\n",
      "  font.set_text(s, 0, flags=flags)\n",
      "/Users/jaeyeopchung/opt/anaconda3/lib/python3.7/site-packages/matplotlib/backends/backend_agg.py:180: RuntimeWarning: Glyph 44277 missing from current font.\n",
      "  font.set_text(s, 0, flags=flags)\n",
      "/Users/jaeyeopchung/opt/anaconda3/lib/python3.7/site-packages/matplotlib/backends/backend_agg.py:180: RuntimeWarning: Glyph 49440 missing from current font.\n",
      "  font.set_text(s, 0, flags=flags)\n",
      "/Users/jaeyeopchung/opt/anaconda3/lib/python3.7/site-packages/matplotlib/backends/backend_agg.py:180: RuntimeWarning: Glyph 51228 missing from current font.\n",
      "  font.set_text(s, 0, flags=flags)\n",
      "/Users/jaeyeopchung/opt/anaconda3/lib/python3.7/site-packages/matplotlib/backends/backend_agg.py:180: RuntimeWarning: Glyph 44144 missing from current font.\n",
      "  font.set_text(s, 0, flags=flags)\n",
      "/Users/jaeyeopchung/opt/anaconda3/lib/python3.7/site-packages/matplotlib/backends/backend_agg.py:180: RuntimeWarning: Glyph 51204 missing from current font.\n",
      "  font.set_text(s, 0, flags=flags)\n",
      "/Users/jaeyeopchung/opt/anaconda3/lib/python3.7/site-packages/matplotlib/backends/backend_agg.py:180: RuntimeWarning: Glyph 44160 missing from current font.\n",
      "  font.set_text(s, 0, flags=flags)\n",
      "/Users/jaeyeopchung/opt/anaconda3/lib/python3.7/site-packages/matplotlib/backends/backend_agg.py:180: RuntimeWarning: Glyph 51613 missing from current font.\n",
      "  font.set_text(s, 0, flags=flags)\n",
      "/Users/jaeyeopchung/opt/anaconda3/lib/python3.7/site-packages/matplotlib/backends/backend_agg.py:180: RuntimeWarning: Glyph 54617 missing from current font.\n",
      "  font.set_text(s, 0, flags=flags)\n",
      "/Users/jaeyeopchung/opt/anaconda3/lib/python3.7/site-packages/matplotlib/backends/backend_agg.py:180: RuntimeWarning: Glyph 49845 missing from current font.\n",
      "  font.set_text(s, 0, flags=flags)\n",
      "/Users/jaeyeopchung/opt/anaconda3/lib/python3.7/site-packages/matplotlib/backends/backend_agg.py:180: RuntimeWarning: Glyph 54980 missing from current font.\n",
      "  font.set_text(s, 0, flags=flags)\n",
      "/Users/jaeyeopchung/opt/anaconda3/lib/python3.7/site-packages/matplotlib/backends/backend_agg.py:211: RuntimeWarning: Glyph 44284 missing from current font.\n",
      "  font.set_text(s, 0.0, flags=flags)\n",
      "/Users/jaeyeopchung/opt/anaconda3/lib/python3.7/site-packages/matplotlib/backends/backend_agg.py:211: RuntimeWarning: Glyph 51032 missing from current font.\n",
      "  font.set_text(s, 0.0, flags=flags)\n",
      "/Users/jaeyeopchung/opt/anaconda3/lib/python3.7/site-packages/matplotlib/backends/backend_agg.py:211: RuntimeWarning: Glyph 48708 missing from current font.\n",
      "  font.set_text(s, 0.0, flags=flags)\n",
      "/Users/jaeyeopchung/opt/anaconda3/lib/python3.7/site-packages/matplotlib/backends/backend_agg.py:211: RuntimeWarning: Glyph 44368 missing from current font.\n",
      "  font.set_text(s, 0.0, flags=flags)\n",
      "/Users/jaeyeopchung/opt/anaconda3/lib/python3.7/site-packages/matplotlib/backends/backend_agg.py:180: RuntimeWarning: Glyph 44284 missing from current font.\n",
      "  font.set_text(s, 0, flags=flags)\n",
      "/Users/jaeyeopchung/opt/anaconda3/lib/python3.7/site-packages/matplotlib/backends/backend_agg.py:180: RuntimeWarning: Glyph 51032 missing from current font.\n",
      "  font.set_text(s, 0, flags=flags)\n",
      "/Users/jaeyeopchung/opt/anaconda3/lib/python3.7/site-packages/matplotlib/backends/backend_agg.py:180: RuntimeWarning: Glyph 48708 missing from current font.\n",
      "  font.set_text(s, 0, flags=flags)\n",
      "/Users/jaeyeopchung/opt/anaconda3/lib/python3.7/site-packages/matplotlib/backends/backend_agg.py:180: RuntimeWarning: Glyph 44368 missing from current font.\n",
      "  font.set_text(s, 0, flags=flags)\n"
     ]
    },
    {
     "data": {
      "image/png": "[encoded data removed]",
      "text/plain": [
       "<Figure size 432x288 with 2 Axes>"
      ]
     },
     "metadata": {
      "needs_background": "light"
     },
     "output_type": "display_data"
    }
   ],
   "source": [
    "plt.subplot(121)\n",
    "plt.plot(test1, 'ro', label=\"검증 성능\")\n",
    "plt.hlines(result1.rsquared, 0, 9, label=\"학습 성능\")\n",
    "plt.legend()\n",
    "plt.xlabel(\"시드값\")\n",
    "plt.ylabel(\"성능(결정계수)\")\n",
    "plt.title(\"다중공선성 제거 전\")\n",
    "plt.ylim(0.5, 1.2)\n",
    "\n",
    "plt.subplot(122)\n",
    "plt.plot(test2, 'ro', label=\"검증 성능\")\n",
    "plt.hlines(result2.rsquared, 0, 9, label=\"학습 성능\")\n",
    "plt.legend()\n",
    "plt.xlabel(\"시드값\")\n",
    "plt.ylabel(\"성능(결정계수)\")\n",
    "plt.title(\"다중공선성 제거 후\")\n",
    "plt.ylim(0.5, 1.2)\n",
    "\n",
    "plt.suptitle(\"다중공선성 제거 전과 제거 후의 성능 비교\", y=1.04)\n",
    "plt.tight_layout()\n",
    "plt.show()"
   ]
  },
  {
   "cell_type": "code",
   "execution_count": null,
   "metadata": {
    "hidden": true
   },
   "outputs": [],
   "source": []
  }
 ],
 "metadata": {
  "kernelspec": {
   "display_name": "Python 3",
   "language": "python",
   "name": "python3"
  },
  "language_info": {
   "codemirror_mode": {
    "name": "ipython",
    "version": 3
   },
   "file_extension": ".py",
   "mimetype": "text/x-python",
   "name": "python",
   "nbconvert_exporter": "python",
   "pygments_lexer": "ipython3",
   "version": "3.7.6"
  }
 },
 "nbformat": 4,
 "nbformat_minor": 4
}
