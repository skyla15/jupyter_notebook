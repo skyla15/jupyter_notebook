{
 "cells": [
  {
   "cell_type": "markdown",
   "metadata": {},
   "source": [
    "##### 데이터 불러오기"
   ]
  },
  {
   "cell_type": "code",
   "execution_count": 51,
   "metadata": {},
   "outputs": [],
   "source": [
    "import numpy as np\n",
    "import matplotlib.pyplot as plt\n",
    "import seaborn as sns\n",
    "import pandas as pd\n",
    "\n",
    "df_train = pd.read_csv('./diabetes.csv')\n",
    "df_test = df_train.drop('Outcome', axis = 1)"
   ]
  },
  {
   "cell_type": "markdown",
   "metadata": {
    "heading_collapsed": true
   },
   "source": [
    "##### 이상치 처리 \n",
    "- 각 컬럼별 이상값을 처리 후, 상관관계를 보도록 한다.\n",
    "- 이상치 처리 <-> 상관 관계 확인\n",
    "    - 변수 선택 \n",
    "    - https://freshrimpsushi.tistory.com/821?category=763106"
   ]
  },
  {
   "cell_type": "code",
   "execution_count": 52,
   "metadata": {
    "hidden": true
   },
   "outputs": [
    {
     "name": "stdout",
     "output_type": "stream",
     "text": [
      "<class 'pandas.core.frame.DataFrame'>\n",
      "RangeIndex: 768 entries, 0 to 767\n",
      "Data columns (total 9 columns):\n",
      " #   Column                    Non-Null Count  Dtype  \n",
      "---  ------                    --------------  -----  \n",
      " 0   Pregnancies               768 non-null    int64  \n",
      " 1   Glucose                   768 non-null    int64  \n",
      " 2   BloodPressure             768 non-null    int64  \n",
      " 3   SkinThickness             768 non-null    int64  \n",
      " 4   Insulin                   768 non-null    int64  \n",
      " 5   BMI                       768 non-null    float64\n",
      " 6   DiabetesPedigreeFunction  768 non-null    float64\n",
      " 7   Age                       768 non-null    int64  \n",
      " 8   Outcome                   768 non-null    int64  \n",
      "dtypes: float64(2), int64(7)\n",
      "memory usage: 54.1 KB\n"
     ]
    }
   ],
   "source": [
    "df_train.info()"
   ]
  },
  {
   "cell_type": "markdown",
   "metadata": {
    "hidden": true
   },
   "source": [
    "1. 결측치 확인 안됨 \n",
    "2. 텍스트 타입 없음 \n",
    "3. 시계열 데이터 없음 "
   ]
  },
  {
   "cell_type": "code",
   "execution_count": 53,
   "metadata": {
    "hidden": true
   },
   "outputs": [
    {
     "data": {
      "text/html": [
       "<div>\n",
       "<style scoped>\n",
       "    .dataframe tbody tr th:only-of-type {\n",
       "        vertical-align: middle;\n",
       "    }\n",
       "\n",
       "    .dataframe tbody tr th {\n",
       "        vertical-align: top;\n",
       "    }\n",
       "\n",
       "    .dataframe thead th {\n",
       "        text-align: right;\n",
       "    }\n",
       "</style>\n",
       "<table border=\"1\" class=\"dataframe\">\n",
       "  <thead>\n",
       "    <tr style=\"text-align: right;\">\n",
       "      <th></th>\n",
       "      <th>Pregnancies</th>\n",
       "      <th>Glucose</th>\n",
       "      <th>BloodPressure</th>\n",
       "      <th>SkinThickness</th>\n",
       "      <th>Insulin</th>\n",
       "      <th>BMI</th>\n",
       "      <th>DiabetesPedigreeFunction</th>\n",
       "      <th>Age</th>\n",
       "      <th>Outcome</th>\n",
       "    </tr>\n",
       "  </thead>\n",
       "  <tbody>\n",
       "    <tr>\n",
       "      <th>0</th>\n",
       "      <td>6</td>\n",
       "      <td>148</td>\n",
       "      <td>72</td>\n",
       "      <td>35</td>\n",
       "      <td>0</td>\n",
       "      <td>33.6</td>\n",
       "      <td>0.627</td>\n",
       "      <td>50</td>\n",
       "      <td>1</td>\n",
       "    </tr>\n",
       "    <tr>\n",
       "      <th>1</th>\n",
       "      <td>1</td>\n",
       "      <td>85</td>\n",
       "      <td>66</td>\n",
       "      <td>29</td>\n",
       "      <td>0</td>\n",
       "      <td>26.6</td>\n",
       "      <td>0.351</td>\n",
       "      <td>31</td>\n",
       "      <td>0</td>\n",
       "    </tr>\n",
       "    <tr>\n",
       "      <th>2</th>\n",
       "      <td>8</td>\n",
       "      <td>183</td>\n",
       "      <td>64</td>\n",
       "      <td>0</td>\n",
       "      <td>0</td>\n",
       "      <td>23.3</td>\n",
       "      <td>0.672</td>\n",
       "      <td>32</td>\n",
       "      <td>1</td>\n",
       "    </tr>\n",
       "    <tr>\n",
       "      <th>3</th>\n",
       "      <td>1</td>\n",
       "      <td>89</td>\n",
       "      <td>66</td>\n",
       "      <td>23</td>\n",
       "      <td>94</td>\n",
       "      <td>28.1</td>\n",
       "      <td>0.167</td>\n",
       "      <td>21</td>\n",
       "      <td>0</td>\n",
       "    </tr>\n",
       "    <tr>\n",
       "      <th>4</th>\n",
       "      <td>0</td>\n",
       "      <td>137</td>\n",
       "      <td>40</td>\n",
       "      <td>35</td>\n",
       "      <td>168</td>\n",
       "      <td>43.1</td>\n",
       "      <td>2.288</td>\n",
       "      <td>33</td>\n",
       "      <td>1</td>\n",
       "    </tr>\n",
       "  </tbody>\n",
       "</table>\n",
       "</div>"
      ],
      "text/plain": [
       "   Pregnancies  Glucose  BloodPressure  SkinThickness  Insulin   BMI  \\\n",
       "0            6      148             72             35        0  33.6   \n",
       "1            1       85             66             29        0  26.6   \n",
       "2            8      183             64              0        0  23.3   \n",
       "3            1       89             66             23       94  28.1   \n",
       "4            0      137             40             35      168  43.1   \n",
       "\n",
       "   DiabetesPedigreeFunction  Age  Outcome  \n",
       "0                     0.627   50        1  \n",
       "1                     0.351   31        0  \n",
       "2                     0.672   32        1  \n",
       "3                     0.167   21        0  \n",
       "4                     2.288   33        1  "
      ]
     },
     "execution_count": 53,
     "metadata": {},
     "output_type": "execute_result"
    }
   ],
   "source": [
    "df_train.head()"
   ]
  },
  {
   "cell_type": "code",
   "execution_count": 54,
   "metadata": {
    "hidden": true
   },
   "outputs": [
    {
     "data": {
      "text/html": [
       "<div>\n",
       "<style scoped>\n",
       "    .dataframe tbody tr th:only-of-type {\n",
       "        vertical-align: middle;\n",
       "    }\n",
       "\n",
       "    .dataframe tbody tr th {\n",
       "        vertical-align: top;\n",
       "    }\n",
       "\n",
       "    .dataframe thead th {\n",
       "        text-align: right;\n",
       "    }\n",
       "</style>\n",
       "<table border=\"1\" class=\"dataframe\">\n",
       "  <thead>\n",
       "    <tr style=\"text-align: right;\">\n",
       "      <th></th>\n",
       "      <th>Pregnancies</th>\n",
       "      <th>Glucose</th>\n",
       "      <th>BloodPressure</th>\n",
       "      <th>SkinThickness</th>\n",
       "      <th>Insulin</th>\n",
       "      <th>BMI</th>\n",
       "      <th>DiabetesPedigreeFunction</th>\n",
       "      <th>Age</th>\n",
       "      <th>Outcome</th>\n",
       "    </tr>\n",
       "  </thead>\n",
       "  <tbody>\n",
       "    <tr>\n",
       "      <th>count</th>\n",
       "      <td>768.000000</td>\n",
       "      <td>768.000000</td>\n",
       "      <td>768.000000</td>\n",
       "      <td>768.000000</td>\n",
       "      <td>768.000000</td>\n",
       "      <td>768.000000</td>\n",
       "      <td>768.000000</td>\n",
       "      <td>768.000000</td>\n",
       "      <td>768.000000</td>\n",
       "    </tr>\n",
       "    <tr>\n",
       "      <th>mean</th>\n",
       "      <td>3.845052</td>\n",
       "      <td>120.894531</td>\n",
       "      <td>69.105469</td>\n",
       "      <td>20.536458</td>\n",
       "      <td>79.799479</td>\n",
       "      <td>31.992578</td>\n",
       "      <td>0.471876</td>\n",
       "      <td>33.240885</td>\n",
       "      <td>0.348958</td>\n",
       "    </tr>\n",
       "    <tr>\n",
       "      <th>std</th>\n",
       "      <td>3.369578</td>\n",
       "      <td>31.972618</td>\n",
       "      <td>19.355807</td>\n",
       "      <td>15.952218</td>\n",
       "      <td>115.244002</td>\n",
       "      <td>7.884160</td>\n",
       "      <td>0.331329</td>\n",
       "      <td>11.760232</td>\n",
       "      <td>0.476951</td>\n",
       "    </tr>\n",
       "    <tr>\n",
       "      <th>min</th>\n",
       "      <td>0.000000</td>\n",
       "      <td>0.000000</td>\n",
       "      <td>0.000000</td>\n",
       "      <td>0.000000</td>\n",
       "      <td>0.000000</td>\n",
       "      <td>0.000000</td>\n",
       "      <td>0.078000</td>\n",
       "      <td>21.000000</td>\n",
       "      <td>0.000000</td>\n",
       "    </tr>\n",
       "    <tr>\n",
       "      <th>25%</th>\n",
       "      <td>1.000000</td>\n",
       "      <td>99.000000</td>\n",
       "      <td>62.000000</td>\n",
       "      <td>0.000000</td>\n",
       "      <td>0.000000</td>\n",
       "      <td>27.300000</td>\n",
       "      <td>0.243750</td>\n",
       "      <td>24.000000</td>\n",
       "      <td>0.000000</td>\n",
       "    </tr>\n",
       "    <tr>\n",
       "      <th>50%</th>\n",
       "      <td>3.000000</td>\n",
       "      <td>117.000000</td>\n",
       "      <td>72.000000</td>\n",
       "      <td>23.000000</td>\n",
       "      <td>30.500000</td>\n",
       "      <td>32.000000</td>\n",
       "      <td>0.372500</td>\n",
       "      <td>29.000000</td>\n",
       "      <td>0.000000</td>\n",
       "    </tr>\n",
       "    <tr>\n",
       "      <th>75%</th>\n",
       "      <td>6.000000</td>\n",
       "      <td>140.250000</td>\n",
       "      <td>80.000000</td>\n",
       "      <td>32.000000</td>\n",
       "      <td>127.250000</td>\n",
       "      <td>36.600000</td>\n",
       "      <td>0.626250</td>\n",
       "      <td>41.000000</td>\n",
       "      <td>1.000000</td>\n",
       "    </tr>\n",
       "    <tr>\n",
       "      <th>max</th>\n",
       "      <td>17.000000</td>\n",
       "      <td>199.000000</td>\n",
       "      <td>122.000000</td>\n",
       "      <td>99.000000</td>\n",
       "      <td>846.000000</td>\n",
       "      <td>67.100000</td>\n",
       "      <td>2.420000</td>\n",
       "      <td>81.000000</td>\n",
       "      <td>1.000000</td>\n",
       "    </tr>\n",
       "  </tbody>\n",
       "</table>\n",
       "</div>"
      ],
      "text/plain": [
       "       Pregnancies     Glucose  BloodPressure  SkinThickness     Insulin  \\\n",
       "count   768.000000  768.000000     768.000000     768.000000  768.000000   \n",
       "mean      3.845052  120.894531      69.105469      20.536458   79.799479   \n",
       "std       3.369578   31.972618      19.355807      15.952218  115.244002   \n",
       "min       0.000000    0.000000       0.000000       0.000000    0.000000   \n",
       "25%       1.000000   99.000000      62.000000       0.000000    0.000000   \n",
       "50%       3.000000  117.000000      72.000000      23.000000   30.500000   \n",
       "75%       6.000000  140.250000      80.000000      32.000000  127.250000   \n",
       "max      17.000000  199.000000     122.000000      99.000000  846.000000   \n",
       "\n",
       "              BMI  DiabetesPedigreeFunction         Age     Outcome  \n",
       "count  768.000000                768.000000  768.000000  768.000000  \n",
       "mean    31.992578                  0.471876   33.240885    0.348958  \n",
       "std      7.884160                  0.331329   11.760232    0.476951  \n",
       "min      0.000000                  0.078000   21.000000    0.000000  \n",
       "25%     27.300000                  0.243750   24.000000    0.000000  \n",
       "50%     32.000000                  0.372500   29.000000    0.000000  \n",
       "75%     36.600000                  0.626250   41.000000    1.000000  \n",
       "max     67.100000                  2.420000   81.000000    1.000000  "
      ]
     },
     "execution_count": 54,
     "metadata": {},
     "output_type": "execute_result"
    }
   ],
   "source": [
    "df_train.describe()"
   ]
  },
  {
   "cell_type": "markdown",
   "metadata": {
    "heading_collapsed": true
   },
   "source": [
    "##### 1. Pregnancies \n",
    "    - 4분위 수  \n",
    "        - 75% 값 = 6, max=17\n",
    "        - 3시그마 값을 넘어가는 값들이 있는 것처럼 보이므로 확인 필요 \n",
    "    - 아래 데이터를 보면, 이상치라고 하기에는 어렵다고 판단됨.  "
   ]
  },
  {
   "cell_type": "markdown",
   "metadata": {
    "hidden": true
   },
   "source": [
    "__결론:데이터 정상__"
   ]
  },
  {
   "cell_type": "code",
   "execution_count": 96,
   "metadata": {
    "hidden": true
   },
   "outputs": [
    {
     "name": "stdout",
     "output_type": "stream",
     "text": [
      "[(0, 111), (1, 135), (2, 103), (3, 75), (4, 68), (5, 57), (6, 50), (7, 45), (8, 38), (9, 28), (10, 24), (11, 11), (12, 9), (13, 10), (14, 2), (15, 1), (17, 1)]\n"
     ]
    },
    {
     "data": {
      "image/png": "[encoded data removed]",
      "text/plain": [
       "<Figure size 432x288 with 2 Axes>"
      ]
     },
     "metadata": {
      "needs_background": "light"
     },
     "output_type": "display_data"
    }
   ],
   "source": [
    "# 임신 분포 확인 \n",
    "pregnancy = df_train['Pregnancies']\n",
    "plt.subplot(211)\n",
    "sns.distplot(pregnancy)\n",
    "plt.subplot(212)\n",
    "sns.boxplot(pregnancy)\n",
    "p_index = pregnancy.value_counts().index.tolist()\n",
    "p_values = pregnancy.value_counts().values.tolist()\n",
    "p_list = list(zip(p_index, p_values))\n",
    "print(sorted(p_list))"
   ]
  },
  {
   "cell_type": "code",
   "execution_count": 79,
   "metadata": {
    "hidden": true
   },
   "outputs": [
    {
     "name": "stdout",
     "output_type": "stream",
     "text": [
      "80분위 : 7.0\n",
      "0.16145833333333334 80분위 밖의 수 :  124\n"
     ]
    }
   ],
   "source": [
    "print('80분위 :', np.percentile(pregnancy, 80) )\n",
    "cnt = df_train[pregnancy > np.percentile(pregnancy, 80)]['Pregnancies'].count()\n",
    "print(cnt / len(pregnancy),'80분위 밖의 수 : ', cnt)"
   ]
  },
  {
   "cell_type": "markdown",
   "metadata": {
    "heading_collapsed": true
   },
   "source": [
    "##### 2. Age\n",
    "    - 81세의 경우, 데이터의 이상치로 분류할 수 있지만, 결과와, 다른 요소들과의 관계를 알아봐야할 것 같음 \n",
    "    "
   ]
  },
  {
   "cell_type": "markdown",
   "metadata": {},
   "source": [
    "##### 3. Insulin\n",
    "    - 좌편향된 분포를 보여주고 있음 \n",
    "    - 1IQR까지 값이 0.. 미친 것 같음 \n",
    "    - max 또한 846.. 3시그마에서 벗어나도 엄청 벗어남 "
   ]
  },
  {
   "cell_type": "markdown",
   "metadata": {},
   "source": [
    "- 분포 분석\n",
    "    - 80분위 : 150.0\n",
    "    - 80분위 밖의 숫자 : 153\n",
    "    - 인슐린 = 0 비율 : 0.4869791666666667    "
   ]
  },
  {
   "cell_type": "code",
   "execution_count": 107,
   "metadata": {},
   "outputs": [
    {
     "name": "stdout",
     "output_type": "stream",
     "text": [
      "[(0, 374), (14, 1), (15, 1), (16, 1), (18, 2), (22, 1), (23, 2), (25, 1), (29, 1), (32, 1), (36, 3), (37, 2), (38, 1), (40, 2), (41, 1), (42, 1), (43, 1), (44, 3), (45, 3), (46, 1), (48, 3), (49, 5), (50, 3), (51, 1), (52, 1), (53, 2), (54, 4), (55, 2), (56, 5), (57, 2), (58, 2), (59, 1), (60, 2), (61, 1), (63, 3), (64, 4), (65, 1), (66, 5), (67, 2), (68, 1), (70, 3), (71, 4), (72, 1), (73, 1), (74, 3), (75, 3), (76, 5), (77, 2), (78, 2), (79, 2), (81, 1), (82, 3), (83, 3), (84, 1), (85, 2), (86, 1), (87, 2), (88, 4), (89, 1), (90, 4), (91, 1), (92, 3), (94, 7), (95, 2), (96, 2), (99, 2), (100, 7), (105, 11), (106, 3), (108, 1), (110, 6), (112, 1), (114, 2), (115, 6), (116, 2), (119, 1), (120, 8), (122, 2), (125, 4), (126, 3), (127, 1), (128, 1), (129, 1), (130, 9), (132, 2), (135, 6), (140, 9), (142, 1), (144, 2), (145, 3), (146, 1), (148, 2), (150, 2), (152, 2), (155, 4), (156, 3), (158, 2), (159, 1), (160, 4), (165, 4), (166, 1), (167, 2), (168, 4), (170, 2), (171, 1), (175, 3), (176, 3), (178, 1), (180, 7), (182, 3), (183, 1), (184, 1), (185, 2), (188, 1), (190, 4), (191, 1), (192, 2), (193, 1), (194, 3), (196, 1), (200, 4), (204, 1), (205, 2), (207, 2), (210, 5), (215, 3), (220, 2), (225, 2), (228, 1), (230, 2), (231, 2), (235, 1), (237, 1), (240, 2), (245, 1), (249, 1), (250, 1), (255, 1), (258, 1), (265, 2), (270, 1), (271, 1), (272, 1), (274, 1), (275, 1), (277, 1), (278, 1), (280, 1), (284, 1), (285, 2), (291, 1), (293, 2), (300, 1), (304, 1), (310, 1), (318, 1), (321, 1), (325, 3), (326, 1), (328, 1), (330, 1), (335, 1), (342, 1), (360, 1), (370, 1), (375, 1), (387, 1), (392, 1), (402, 1), (415, 1), (440, 1), (465, 1), (474, 1), (478, 1), (480, 2), (485, 1), (495, 2), (510, 1), (540, 1), (543, 1), (545, 1), (579, 1), (600, 1), (680, 1), (744, 1), (846, 1)]\n",
      "80분위 : 150.0\n",
      "80분위 밖의 숫자 : 153\n",
      "인슐린 없는 초인들 : 0.4869791666666667\n"
     ]
    },
    {
     "data": {
      "image/png": "[encoded data removed]",
      "text/plain": [
       "<Figure size 432x288 with 2 Axes>"
      ]
     },
     "metadata": {
      "needs_background": "light"
     },
     "output_type": "display_data"
    }
   ],
   "source": [
    "# 인슐린 분포 확인 \n",
    "insulin = df_train['Insulin']\n",
    "insulin.value_counts().tolist()\n",
    "insulin.value_counts().tolist()\n",
    "plt.subplot(211)\n",
    "sns.distplot(insulin)\n",
    "plt.subplot(212)\n",
    "sns.boxplot(insulin)\n",
    "\n",
    "i_index = insulin.value_counts().index.tolist()\n",
    "i_values = insulin.value_counts().values.tolist()\n",
    "i_list = list(zip(i_index, i_values))\n",
    "print(sorted(i_list))\n",
    "print('80분위 :', np.percentile(insulin, 80) )\n",
    "cnt = df_train[insulin > np.percentile(insulin, 80)]['Insulin'].count()\n",
    "print('80분위 밖의 숫자 :', cnt)\n",
    "print('인슐린 없는 초인들 :',len(df_train[insulin == 0]) / len(insulin) )"
   ]
  },
  {
   "cell_type": "markdown",
   "metadata": {},
   "source": [
    "- 0이 차지하는 비율이 대략 전체 데이터 셋의 반이상 \n",
    "    - 이 데이터를 어떻게 처리를 해야할까 ?\n",
    "        - 1) 평균으로 채운다\n",
    "        - 2) 0을 제외한 데이터와 인슐린과 관계가 있을만한 데이터와의 상관관계를 분석한다\n",
    "                - 혈당량과 인슐린의 상관관계를 분석 후, 회귀 모형을 구하여 채운다 \n",
    "                    - 선형회귀로 해보자... 다른 건 할 줄 몰라 힝 \n",
    "                - 혈당량이 높고 당뇨가 없을 경우 \n",
    "                    - 인슐린 분비 잘됨 => 당뇨 없고, 인슐린이 평균 이상인 사람들과 혈당량 모델 확인  \n",
    "                - 혈당량이 낮은 데 당뇨가 있다\n",
    "                    - 인슐린 분비 고장 => 당뇨 있고, 인슐린이 평균 이하인 사람들과 혈당량 모델 확인\n",
    "                    \n"
   ]
  },
  {
   "cell_type": "markdown",
   "metadata": {},
   "source": [
    "3. BMI \n",
    "    - min = 0?\n",
    "    - 몇 개의 이상값을 제외하면 데이터는 정상적인 것 같음 "
   ]
  },
  {
   "cell_type": "markdown",
   "metadata": {},
   "source": [
    "4. Diabetes Pedigree Function ( 가족력에 따라 당뇨 걸릴 확률 ) "
   ]
  },
  {
   "cell_type": "markdown",
   "metadata": {},
   "source": [
    "### 상관관계 확인 및 결측치 처리 \n",
    "- 정규화 및 표준화\n",
    "    - http://hleecaster.com/ml-normalization-concept/"
   ]
  },
  {
   "cell_type": "code",
   "execution_count": null,
   "metadata": {},
   "outputs": [],
   "source": []
  }
 ],
 "metadata": {
  "kernelspec": {
   "display_name": "Python 3",
   "language": "python",
   "name": "python3"
  },
  "language_info": {
   "codemirror_mode": {
    "name": "ipython",
    "version": 3
   },
   "file_extension": ".py",
   "mimetype": "text/x-python",
   "name": "python",
   "nbconvert_exporter": "python",
   "pygments_lexer": "ipython3",
   "version": "3.7.6"
  }
 },
 "nbformat": 4,
 "nbformat_minor": 4
}
