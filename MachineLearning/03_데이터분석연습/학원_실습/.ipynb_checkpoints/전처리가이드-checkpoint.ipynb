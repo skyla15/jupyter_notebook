{
 "cells": [
  {
   "cell_type": "code",
   "execution_count": 1,
   "metadata": {},
   "outputs": [],
   "source": [
    "import numpy as np\n",
    "import seaborn as sns\n",
    "import pandas as pd"
   ]
  },
  {
   "cell_type": "markdown",
   "metadata": {},
   "source": [
    "# 데이터 시각적으로 둘러보기 \n",
    "- seaborn 사용 : https://datascienceschool.net/view-notebook/4c2d5ff1caab4b21a708cc662137bc65/\n",
    "- https://wikidocs.net/13582\n"
   ]
  },
  {
   "cell_type": "markdown",
   "metadata": {},
   "source": [
    "###### "
   ]
  },
  {
   "cell_type": "markdown",
   "metadata": {},
   "source": [
    "###### 1차원 데이터의 분포 : 기술통계, 히스토그램, 커널 밀도 "
   ]
  },
  {
   "cell_type": "markdown",
   "metadata": {
    "heading_collapsed": true
   },
   "source": [
    "###### 다차원 데이터의 분포 \n",
    "    - 2차원, 연속적인 실수값 : 스캐터 플롯 ( seaborn - jointplot )\n",
    "    - 3차원 이상 : sns의 pairplot \n",
    "    - 모든 값이 카테고리값 : sns의 heatmap "
   ]
  },
  {
   "cell_type": "markdown",
   "metadata": {},
   "source": [
    "###### 2개의 자료 ( 연속적인 값과 이산/카페고리값 )\n",
    "    - boxplot\n",
    "    - violinplot\n",
    "    - stripplot\n",
    "    - swarmplot\n",
    "    - pointplot\n",
    "    - factorplot"
   ]
  },
  {
   "cell_type": "markdown",
   "metadata": {},
   "source": [
    "# 1. 전처리를 합시다"
   ]
  },
  {
   "cell_type": "markdown",
   "metadata": {},
   "source": [
    "###### -- 전처리 가이드 --"
   ]
  },
  {
   "cell_type": "markdown",
   "metadata": {},
   "source": [
    "1. 데이터 Type, Label 등이 일관적이지 않은 경우  \n",
    "    - 프로그램에서 제공하는 함수를 통해 일괄적으로 변경 (예, SQL: Cast, Python: astype())\n",
    "    - 날짜 : pandas datetime으로 변환"
   ]
  },
  {
   "cell_type": "markdown",
   "metadata": {},
   "source": [
    "2. 데이터 Type, Label 등이 일관적이지 않은 경우  \n",
    "프로그램에서 제공하는 함수를 통해 일괄적으로 변경 (예, SQL: Cast, Python: astype())"
   ]
  },
  {
   "cell_type": "markdown",
   "metadata": {},
   "source": [
    "3. Missing Value\n",
    "    - 샘플이 많은 경우 : 삭제해도 무관\n",
    "    - 샘플이 적은 경우 \n",
    "        - 카테고리형인 경우 Mode로 채우거나 분류 예측 모델링 활용 (예, Logistic Regression)\n",
    "        - 수치형인 경우 Mean, Median 등 대푯값으로 채우거나 실수 예측 모델링 활용 (예, Linear Regression)\n",
    "    - 회귀 및 분류 예측 모델 이용 가능 "
   ]
  },
  {
   "cell_type": "markdown",
   "metadata": {},
   "source": [
    "4. 텍스트 처리\n",
    "    - Errors, Typo 발생의 경우 : 텍스트 처리 함수 활용 (예, Python: str.replace())\n",
    "    - 같은 의미를 갖는 카테고리들 또한 동일하게 맞춰줄 필요 있음 "
   ]
  },
  {
   "cell_type": "markdown",
   "metadata": {},
   "source": [
    "5. 이상치(outlier)  \n",
    "IQR, Z-score, MAD 등 방식으로 이상치 제거"
   ]
  },
  {
   "cell_type": "markdown",
   "metadata": {},
   "source": [
    "6. 변수가 많은 경우(20개 이상)  \n",
    "PCA 등으로 차원 축소하거나 변수 중요도 파악후 불필요 변수 제거"
   ]
  },
  {
   "cell_type": "markdown",
   "metadata": {},
   "source": [
    "7. 편향된 분포의 변수가 존재하는 경우  \n",
    "log, sqrt 등 함수로 분포 변환\n",
    "측정 단위(scale)이 차이가 클 경우"
   ]
  },
  {
   "cell_type": "markdown",
   "metadata": {},
   "source": [
    "8. StarndardScale or MinMaxScaler 통해 스케일링"
   ]
  },
  {
   "cell_type": "markdown",
   "metadata": {},
   "source": [
    "9. 다중공선성 데이터 확인 \n",
    "    - 독립변수끼리 강한 상관관계를 가지면 다중공선성Multicollinearity이 있다고 함 \n",
    "    - 독립변수끼리 종속적인 것 자체가 회귀분석에 위배되고, 수치적인 문제 야기 \n",
    "    - 다중공선성이 있을 가능성이 높은 경우\n",
    "        1. F검정은 통과했으나 각각의 회귀계수가 t검정을 통과하지 못하는 경우\n",
    "        2. 예상하던 것과 달리 회귀계수의 부호가 반대일 정도로 괴리가 큰 경우\n",
    "        3. 데이터를 추가하거나 제거할 때 기존의 회귀계수가 극심하게 많이 변하는 경우"
   ]
  },
  {
   "cell_type": "markdown",
   "metadata": {},
   "source": [
    "### 1.1. 데이터 결측치 처리\n",
    "\n",
    "결측값 즉 비어있는 값이 있는 상태로 모델을 만들게 될 경우 변수간의 관계가 왜곡될 수 있기 때문에 모델의 정확성이 떨어지게 됩니다. 결측치 처리는 결측치 제거, 수치형의 경우 평균이나 중앙치로 대체하거나 범주형인 경우 mode 값으로 대체, 간단한 예측 모델로 대체하는 방식이 일반적으로 이용됩니다."
   ]
  },
  {
   "cell_type": "markdown",
   "metadata": {},
   "source": [
    "###### 데이터 결측치 처리방법1 - 삭제\n",
    "결측값이 발생한 모든 관측치를 삭제하거나 데이터 중 모델에 포함시킬 변수 들 중 관측값이 발생한 모든 관측치를 삭제하는 방법이 있습니다. 그러나 전체삭제 또는 부분삭제는 실제 예측에 영향을 주는 데이터일 경우 Cost에 영향을 미칠 수 있습니다.\n",
    "\n",
    "그렇기 때문에 삭제는 결측값이 무작위로 발생한 경우에 사용합니다. 결측값이 무작위로 발생한 것이 아닌데 삭제할 경우 왜곡된 모델이 생성될 수 있습니다."
   ]
  },
  {
   "cell_type": "markdown",
   "metadata": {},
   "source": [
    "###### 데이터 결측치 처리방법2 - 다른 값으로 대체\n",
    "결측값이 발생한 경우 다른 관측치의 평균, 최빈값, 중간값으로 대체할 수 있습니다. 결측 값이 발생이 다른 변수와 관계가 있는 경우 유용하짐나 그렇지 않은 경우 모델이 왜곡될 가능성이 존재합니다."
   ]
  },
  {
   "cell_type": "markdown",
   "metadata": {},
   "source": [
    "###### 데이터 결측치 처리방법3 - 예측값 삽입\n",
    "결측값이 없는 관측치를 트레이닝 데이터로 사용해서 예측모델을 만드는 방법입니다. 예측하는 방법은 Regression이나 Logistic Regression을 주로 사용합니다."
   ]
  },
  {
   "cell_type": "markdown",
   "metadata": {
    "heading_collapsed": true
   },
   "source": [
    "### 1.2. 이상 데이터 처리\n",
    "\n",
    "이상 데이터란 기존 데이터와 동떨어진 관측치로, 모델을 왜곡할 가능성이 많은 데이터들입니다."
   ]
  },
  {
   "cell_type": "markdown",
   "metadata": {
    "hidden": true
   },
   "source": [
    "###### 이상 데이터 처리방법1 - 단순삭제\n",
    "이상데이터가 실수로 발생한 경우에는 해당 값을 삭제하면 됩니다. 예를 들어 단순 오타나 비현실적인 응답 등입니다."
   ]
  },
  {
   "cell_type": "markdown",
   "metadata": {
    "hidden": true
   },
   "source": [
    "###### 이상 데이터 처리방법2 - 다른 값으로 대체\n",
    "    1) 표준점수로 변환 후 -3 이하 및 +3 제거 \n",
    "    2) IQR 방식 \n",
    "    3) 도메인 지식 이용하거나 Binning 처리하는 방식 "
   ]
  },
  {
   "cell_type": "markdown",
   "metadata": {
    "heading_collapsed": true
   },
   "source": [
    "# 2. Feature Engineering을 합시다\n",
    "\n",
    "\n",
    "Feature Engineering이란, 기존 변수를 사용해서 데이터에 정보를 추가하는 과정입니다. 새로 관측치나 변수를 추가하지 않고도 기존의 데이터를 보다 유용하게 만드는 방법입니다."
   ]
  },
  {
   "cell_type": "markdown",
   "metadata": {
    "heading_collapsed": true,
    "hidden": true
   },
   "source": [
    "###### Feature Engineering 방법1 - SCALING\n",
    "변수의 단위를 변경하고 싶거나, 변수의 분포가 편향되어 있을 경우, 변수 간의 관계가 잘 드러나지 않는 경우에는 변수 변환의 방법을 사용합니다. 방법으로는 Log 함수를 사용하거나 Square root를 사용하는 방법이 있습니다."
   ]
  },
  {
   "cell_type": "markdown",
   "metadata": {
    "hidden": true
   },
   "source": [
    "###### Feature Engineering 방법2 - BINNING\n",
    "연속형 범주를 범주형 변수로 만드는 방법입니다. 예를 들어 시간 데이터가 수치로 존재하는 경우, 이를 3시간 미만, 4시간~5시간 식으로 범주형으로 변환하는 것입니다. 특별히 정해진 방법이 있는 것이 아니라 분석하는 사람에 따라 다르게 할 수 있습니다."
   ]
  },
  {
   "cell_type": "markdown",
   "metadata": {
    "hidden": true
   },
   "source": [
    "###### Feature Engineering 방법3 - DUMMY\n",
    "마지막으로 Binning과 반대로 범주형 변수를 연속형 변수로 변환하기 위해 사용하는 것입니다. "
   ]
  }
 ],
 "metadata": {
  "kernelspec": {
   "display_name": "Python 3",
   "language": "python",
   "name": "python3"
  },
  "language_info": {
   "codemirror_mode": {
    "name": "ipython",
    "version": 3
   },
   "file_extension": ".py",
   "mimetype": "text/x-python",
   "name": "python",
   "nbconvert_exporter": "python",
   "pygments_lexer": "ipython3",
   "version": "3.7.6"
  }
 },
 "nbformat": 4,
 "nbformat_minor": 4
}
