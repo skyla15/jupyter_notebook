{
 "cells": [
  {
   "cell_type": "markdown",
   "metadata": {},
   "source": [
    "송장 번호 : 송장 번호. 각 거래에 고유하게 지정된 6 자리 정수입니다. 이 코드가 문자 'c'로 시작하면 취소를 나타냅니다.  \n",
    "StockCode : 제품 (항목) 코드 각 제품에 고유하게 지정된 5 자리 정수입니다.  \n",
    "설명 : 제품 (항목) 이름입니다. 명사 같은.  \n",
    "수량 : 거래 당 각 제품 (항목)의 수량입니다. 숫자  \n",
    "송장 날짜 : Invice 날짜 및 시간. 숫자, 각 거래가 생성 된 날짜 및 시간입니다.  \n",
    "단가 : 단가. 스털링 단위당 숫자, 제품 가격입니다.  \n",
    "CustomerID : 고객 번호 각 고객에게 고유하게 지정된 5 자리 정수입니다.  \n",
    "국가 : 국가 이름. 명목, 각 고객이 거주하는 국가의 이름. \n",
    "\n",
    "https://blog.naver.com/wideeyed/221603778414"
   ]
  },
  {
   "cell_type": "markdown",
   "metadata": {},
   "source": [
    "###### import "
   ]
  },
  {
   "cell_type": "code",
   "execution_count": 369,
   "metadata": {},
   "outputs": [],
   "source": [
    "from datetime import datetime\n",
    "import pandas as pd \n",
    "import numpy as np\n",
    "import seaborn as sns\n",
    "import matplotlib.pyplot as plt\n",
    "import seaborn as sns \n",
    "\n",
    "from sklearn.cluster import DBSCAN \n",
    "%matplotlib inline \n",
    "\n",
    "# pd.options.mode.chained_assignment = None"
   ]
  },
  {
   "cell_type": "code",
   "execution_count": 816,
   "metadata": {},
   "outputs": [],
   "source": [
    "df_data = pd.read_excel('Online Retail.xlsx')"
   ]
  },
  {
   "cell_type": "code",
   "execution_count": 1094,
   "metadata": {},
   "outputs": [],
   "source": [
    "germany = df_data[df_data['Country'] == 'Germany'].copy()"
   ]
  },
  {
   "cell_type": "code",
   "execution_count": 1095,
   "metadata": {},
   "outputs": [
    {
     "data": {
      "text/plain": [
       "Int64Index([ 1109,  1110,  1111,  1112,  1113,  1114,  1115,  1116,  1117,\n",
       "             1118,\n",
       "            ...\n",
       "            34551, 34552, 34553, 34554, 34555, 34556, 34557, 34558, 34559,\n",
       "            34560],\n",
       "           dtype='int64', length=383)"
      ]
     },
     "execution_count": 1095,
     "metadata": {},
     "output_type": "execute_result"
    }
   ],
   "source": [
    "germany[germany['StockCode'] == 'POST'].index"
   ]
  },
  {
   "cell_type": "code",
   "execution_count": 1096,
   "metadata": {},
   "outputs": [
    {
     "data": {
      "text/html": [
       "<div>\n",
       "<style scoped>\n",
       "    .dataframe tbody tr th:only-of-type {\n",
       "        vertical-align: middle;\n",
       "    }\n",
       "\n",
       "    .dataframe tbody tr th {\n",
       "        vertical-align: top;\n",
       "    }\n",
       "\n",
       "    .dataframe thead th {\n",
       "        text-align: right;\n",
       "    }\n",
       "</style>\n",
       "<table border=\"1\" class=\"dataframe\">\n",
       "  <thead>\n",
       "    <tr style=\"text-align: right;\">\n",
       "      <th></th>\n",
       "      <th>InvoiceNo</th>\n",
       "      <th>StockCode</th>\n",
       "      <th>Description</th>\n",
       "      <th>Quantity</th>\n",
       "      <th>InvoiceDate</th>\n",
       "      <th>UnitPrice</th>\n",
       "      <th>CustomerID</th>\n",
       "      <th>Country</th>\n",
       "    </tr>\n",
       "  </thead>\n",
       "  <tbody>\n",
       "    <tr>\n",
       "      <th>1109</th>\n",
       "      <td>536527</td>\n",
       "      <td>POST</td>\n",
       "      <td>POSTAGE</td>\n",
       "      <td>1</td>\n",
       "      <td>2010-12-01 13:04:00</td>\n",
       "      <td>18.0</td>\n",
       "      <td>12662.0</td>\n",
       "      <td>Germany</td>\n",
       "    </tr>\n",
       "    <tr>\n",
       "      <th>1110</th>\n",
       "      <td>536840</td>\n",
       "      <td>POST</td>\n",
       "      <td>POSTAGE</td>\n",
       "      <td>1</td>\n",
       "      <td>2010-12-02 18:27:00</td>\n",
       "      <td>18.0</td>\n",
       "      <td>12738.0</td>\n",
       "      <td>Germany</td>\n",
       "    </tr>\n",
       "    <tr>\n",
       "      <th>1111</th>\n",
       "      <td>536861</td>\n",
       "      <td>POST</td>\n",
       "      <td>POSTAGE</td>\n",
       "      <td>3</td>\n",
       "      <td>2010-12-03 10:44:00</td>\n",
       "      <td>18.0</td>\n",
       "      <td>12427.0</td>\n",
       "      <td>Germany</td>\n",
       "    </tr>\n",
       "    <tr>\n",
       "      <th>1112</th>\n",
       "      <td>536967</td>\n",
       "      <td>POST</td>\n",
       "      <td>POSTAGE</td>\n",
       "      <td>1</td>\n",
       "      <td>2010-12-03 12:57:00</td>\n",
       "      <td>18.0</td>\n",
       "      <td>12600.0</td>\n",
       "      <td>Germany</td>\n",
       "    </tr>\n",
       "    <tr>\n",
       "      <th>1113</th>\n",
       "      <td>536983</td>\n",
       "      <td>POST</td>\n",
       "      <td>POSTAGE</td>\n",
       "      <td>1</td>\n",
       "      <td>2010-12-03 14:30:00</td>\n",
       "      <td>18.0</td>\n",
       "      <td>12712.0</td>\n",
       "      <td>Germany</td>\n",
       "    </tr>\n",
       "  </tbody>\n",
       "</table>\n",
       "</div>"
      ],
      "text/plain": [
       "     InvoiceNo StockCode Description  Quantity         InvoiceDate  UnitPrice  \\\n",
       "1109    536527      POST     POSTAGE         1 2010-12-01 13:04:00       18.0   \n",
       "1110    536840      POST     POSTAGE         1 2010-12-02 18:27:00       18.0   \n",
       "1111    536861      POST     POSTAGE         3 2010-12-03 10:44:00       18.0   \n",
       "1112    536967      POST     POSTAGE         1 2010-12-03 12:57:00       18.0   \n",
       "1113    536983      POST     POSTAGE         1 2010-12-03 14:30:00       18.0   \n",
       "\n",
       "      CustomerID  Country  \n",
       "1109     12662.0  Germany  \n",
       "1110     12738.0  Germany  \n",
       "1111     12427.0  Germany  \n",
       "1112     12600.0  Germany  \n",
       "1113     12712.0  Germany  "
      ]
     },
     "execution_count": 1096,
     "metadata": {},
     "output_type": "execute_result"
    }
   ],
   "source": [
    "germany.head()"
   ]
  },
  {
   "cell_type": "markdown",
   "metadata": {},
   "source": [
    "###### POST 행, POSTAGE 삭제 "
   ]
  },
  {
   "cell_type": "code",
   "execution_count": 1097,
   "metadata": {},
   "outputs": [],
   "source": [
    "germany.drop(germany[germany['StockCode'] == 'POST'].index, inplace = True)"
   ]
  },
  {
   "cell_type": "code",
   "execution_count": 1098,
   "metadata": {},
   "outputs": [
    {
     "name": "stdout",
     "output_type": "stream",
     "text": [
      "<class 'pandas.core.frame.DataFrame'>\n",
      "Int64Index: 9112 entries, 34561 to 541805\n",
      "Data columns (total 8 columns):\n",
      " #   Column       Non-Null Count  Dtype         \n",
      "---  ------       --------------  -----         \n",
      " 0   InvoiceNo    9112 non-null   object        \n",
      " 1   StockCode    9112 non-null   object        \n",
      " 2   Description  9112 non-null   object        \n",
      " 3   Quantity     9112 non-null   int64         \n",
      " 4   InvoiceDate  9112 non-null   datetime64[ns]\n",
      " 5   UnitPrice    9112 non-null   float64       \n",
      " 6   CustomerID   9112 non-null   float64       \n",
      " 7   Country      9112 non-null   object        \n",
      "dtypes: datetime64[ns](1), float64(2), int64(1), object(4)\n",
      "memory usage: 640.7+ KB\n"
     ]
    }
   ],
   "source": [
    "germany.info()"
   ]
  },
  {
   "cell_type": "markdown",
   "metadata": {},
   "source": [
    "###### 파생 컬럼 생성 : 물건 가격 * 물건 갯수 "
   ]
  },
  {
   "cell_type": "code",
   "execution_count": 1099,
   "metadata": {
    "scrolled": true
   },
   "outputs": [],
   "source": [
    "germany = germany[germany['Quantity'] > 0]"
   ]
  },
  {
   "cell_type": "code",
   "execution_count": 1100,
   "metadata": {},
   "outputs": [],
   "source": [
    "germany['total'] = germany['Quantity'] * germany['UnitPrice']"
   ]
  },
  {
   "cell_type": "code",
   "execution_count": 1101,
   "metadata": {},
   "outputs": [
    {
     "data": {
      "text/html": [
       "<div>\n",
       "<style scoped>\n",
       "    .dataframe tbody tr th:only-of-type {\n",
       "        vertical-align: middle;\n",
       "    }\n",
       "\n",
       "    .dataframe tbody tr th {\n",
       "        vertical-align: top;\n",
       "    }\n",
       "\n",
       "    .dataframe thead th {\n",
       "        text-align: right;\n",
       "    }\n",
       "</style>\n",
       "<table border=\"1\" class=\"dataframe\">\n",
       "  <thead>\n",
       "    <tr style=\"text-align: right;\">\n",
       "      <th></th>\n",
       "      <th>InvoiceNo</th>\n",
       "      <th>StockCode</th>\n",
       "      <th>Description</th>\n",
       "      <th>Quantity</th>\n",
       "      <th>InvoiceDate</th>\n",
       "      <th>UnitPrice</th>\n",
       "      <th>CustomerID</th>\n",
       "      <th>Country</th>\n",
       "      <th>total</th>\n",
       "    </tr>\n",
       "  </thead>\n",
       "  <tbody>\n",
       "    <tr>\n",
       "      <th>34561</th>\n",
       "      <td>550354</td>\n",
       "      <td>M</td>\n",
       "      <td>Manual</td>\n",
       "      <td>1</td>\n",
       "      <td>2011-04-18 10:28:00</td>\n",
       "      <td>222.75</td>\n",
       "      <td>13811.0</td>\n",
       "      <td>Germany</td>\n",
       "      <td>222.75</td>\n",
       "    </tr>\n",
       "    <tr>\n",
       "      <th>34563</th>\n",
       "      <td>558841</td>\n",
       "      <td>M</td>\n",
       "      <td>Manual</td>\n",
       "      <td>1</td>\n",
       "      <td>2011-07-04 11:59:00</td>\n",
       "      <td>30.00</td>\n",
       "      <td>12471.0</td>\n",
       "      <td>Germany</td>\n",
       "      <td>30.00</td>\n",
       "    </tr>\n",
       "    <tr>\n",
       "      <th>34564</th>\n",
       "      <td>558895</td>\n",
       "      <td>M</td>\n",
       "      <td>Manual</td>\n",
       "      <td>1</td>\n",
       "      <td>2011-07-04 15:54:00</td>\n",
       "      <td>389.68</td>\n",
       "      <td>12619.0</td>\n",
       "      <td>Germany</td>\n",
       "      <td>389.68</td>\n",
       "    </tr>\n",
       "    <tr>\n",
       "      <th>34568</th>\n",
       "      <td>571223</td>\n",
       "      <td>M</td>\n",
       "      <td>Manual</td>\n",
       "      <td>1</td>\n",
       "      <td>2011-10-14 13:36:00</td>\n",
       "      <td>599.50</td>\n",
       "      <td>13810.0</td>\n",
       "      <td>Germany</td>\n",
       "      <td>599.50</td>\n",
       "    </tr>\n",
       "    <tr>\n",
       "      <th>34576</th>\n",
       "      <td>575632</td>\n",
       "      <td>M</td>\n",
       "      <td>Manual</td>\n",
       "      <td>1</td>\n",
       "      <td>2011-11-10 13:44:00</td>\n",
       "      <td>40.46</td>\n",
       "      <td>12473.0</td>\n",
       "      <td>Germany</td>\n",
       "      <td>40.46</td>\n",
       "    </tr>\n",
       "  </tbody>\n",
       "</table>\n",
       "</div>"
      ],
      "text/plain": [
       "      InvoiceNo StockCode Description  Quantity         InvoiceDate  \\\n",
       "34561    550354         M      Manual         1 2011-04-18 10:28:00   \n",
       "34563    558841         M      Manual         1 2011-07-04 11:59:00   \n",
       "34564    558895         M      Manual         1 2011-07-04 15:54:00   \n",
       "34568    571223         M      Manual         1 2011-10-14 13:36:00   \n",
       "34576    575632         M      Manual         1 2011-11-10 13:44:00   \n",
       "\n",
       "       UnitPrice  CustomerID  Country   total  \n",
       "34561     222.75     13811.0  Germany  222.75  \n",
       "34563      30.00     12471.0  Germany   30.00  \n",
       "34564     389.68     12619.0  Germany  389.68  \n",
       "34568     599.50     13810.0  Germany  599.50  \n",
       "34576      40.46     12473.0  Germany   40.46  "
      ]
     },
     "execution_count": 1101,
     "metadata": {},
     "output_type": "execute_result"
    }
   ],
   "source": [
    "germany.head()"
   ]
  },
  {
   "cell_type": "markdown",
   "metadata": {},
   "source": [
    "###### Frequency 추가 "
   ]
  },
  {
   "cell_type": "code",
   "execution_count": 1102,
   "metadata": {},
   "outputs": [
    {
     "data": {
      "text/html": [
       "<div>\n",
       "<style scoped>\n",
       "    .dataframe tbody tr th:only-of-type {\n",
       "        vertical-align: middle;\n",
       "    }\n",
       "\n",
       "    .dataframe tbody tr th {\n",
       "        vertical-align: top;\n",
       "    }\n",
       "\n",
       "    .dataframe thead th {\n",
       "        text-align: right;\n",
       "    }\n",
       "</style>\n",
       "<table border=\"1\" class=\"dataframe\">\n",
       "  <thead>\n",
       "    <tr style=\"text-align: right;\">\n",
       "      <th></th>\n",
       "      <th>CustomerID</th>\n",
       "      <th>Frequency</th>\n",
       "    </tr>\n",
       "  </thead>\n",
       "  <tbody>\n",
       "    <tr>\n",
       "      <th>0</th>\n",
       "      <td>12621.0</td>\n",
       "      <td>449</td>\n",
       "    </tr>\n",
       "    <tr>\n",
       "      <th>1</th>\n",
       "      <td>12471.0</td>\n",
       "      <td>440</td>\n",
       "    </tr>\n",
       "    <tr>\n",
       "      <th>2</th>\n",
       "      <td>12474.0</td>\n",
       "      <td>408</td>\n",
       "    </tr>\n",
       "    <tr>\n",
       "      <th>3</th>\n",
       "      <td>12720.0</td>\n",
       "      <td>342</td>\n",
       "    </tr>\n",
       "    <tr>\n",
       "      <th>4</th>\n",
       "      <td>12472.0</td>\n",
       "      <td>332</td>\n",
       "    </tr>\n",
       "    <tr>\n",
       "      <th>...</th>\n",
       "      <td>...</td>\n",
       "      <td>...</td>\n",
       "    </tr>\n",
       "    <tr>\n",
       "      <th>89</th>\n",
       "      <td>12522.0</td>\n",
       "      <td>10</td>\n",
       "    </tr>\n",
       "    <tr>\n",
       "      <th>90</th>\n",
       "      <td>12622.0</td>\n",
       "      <td>10</td>\n",
       "    </tr>\n",
       "    <tr>\n",
       "      <th>91</th>\n",
       "      <td>12504.0</td>\n",
       "      <td>8</td>\n",
       "    </tr>\n",
       "    <tr>\n",
       "      <th>92</th>\n",
       "      <td>12603.0</td>\n",
       "      <td>2</td>\n",
       "    </tr>\n",
       "    <tr>\n",
       "      <th>93</th>\n",
       "      <td>12665.0</td>\n",
       "      <td>2</td>\n",
       "    </tr>\n",
       "  </tbody>\n",
       "</table>\n",
       "<p>94 rows × 2 columns</p>\n",
       "</div>"
      ],
      "text/plain": [
       "    CustomerID  Frequency\n",
       "0      12621.0        449\n",
       "1      12471.0        440\n",
       "2      12474.0        408\n",
       "3      12720.0        342\n",
       "4      12472.0        332\n",
       "..         ...        ...\n",
       "89     12522.0         10\n",
       "90     12622.0         10\n",
       "91     12504.0          8\n",
       "92     12603.0          2\n",
       "93     12665.0          2\n",
       "\n",
       "[94 rows x 2 columns]"
      ]
     },
     "execution_count": 1102,
     "metadata": {},
     "output_type": "execute_result"
    }
   ],
   "source": [
    "import collections\n",
    "counter = collections.Counter(germany['CustomerID'])\n",
    "type(counter.keys())\n",
    "frequency = pd.DataFrame({'CustomerID':list(counter.keys()), 'Frequency':list(counter.values())}, columns=['CustomerID','Frequency'])\n",
    "frequency.sort_values(by='Frequency', ascending = False, inplace = True)\n",
    "frequency.index = range(len(frequency))\n",
    "frequency"
   ]
  },
  {
   "cell_type": "markdown",
   "metadata": {},
   "source": [
    "###### frequency에 따라 등급 분류 \n",
    "0 ~ 50 : 0\n",
    "51 ~ 100 : 1\n",
    "101 ~ 150 : 2\n",
    "151 ~ 250 : 3\n",
    "200 ~ : 4"
   ]
  },
  {
   "cell_type": "code",
   "execution_count": 1103,
   "metadata": {},
   "outputs": [
    {
     "data": {
      "text/html": [
       "<div>\n",
       "<style scoped>\n",
       "    .dataframe tbody tr th:only-of-type {\n",
       "        vertical-align: middle;\n",
       "    }\n",
       "\n",
       "    .dataframe tbody tr th {\n",
       "        vertical-align: top;\n",
       "    }\n",
       "\n",
       "    .dataframe thead th {\n",
       "        text-align: right;\n",
       "    }\n",
       "</style>\n",
       "<table border=\"1\" class=\"dataframe\">\n",
       "  <thead>\n",
       "    <tr style=\"text-align: right;\">\n",
       "      <th></th>\n",
       "      <th>InvoiceNo</th>\n",
       "      <th>StockCode</th>\n",
       "      <th>Description</th>\n",
       "      <th>Quantity</th>\n",
       "      <th>InvoiceDate</th>\n",
       "      <th>UnitPrice</th>\n",
       "      <th>CustomerID</th>\n",
       "      <th>Country</th>\n",
       "      <th>total</th>\n",
       "      <th>Frequency</th>\n",
       "    </tr>\n",
       "  </thead>\n",
       "  <tbody>\n",
       "    <tr>\n",
       "      <th>0</th>\n",
       "      <td>550354</td>\n",
       "      <td>M</td>\n",
       "      <td>Manual</td>\n",
       "      <td>1</td>\n",
       "      <td>2011-04-18 10:28:00</td>\n",
       "      <td>222.75</td>\n",
       "      <td>13811.0</td>\n",
       "      <td>Germany</td>\n",
       "      <td>222.75</td>\n",
       "      <td>0</td>\n",
       "    </tr>\n",
       "    <tr>\n",
       "      <th>1</th>\n",
       "      <td>558841</td>\n",
       "      <td>M</td>\n",
       "      <td>Manual</td>\n",
       "      <td>1</td>\n",
       "      <td>2011-07-04 11:59:00</td>\n",
       "      <td>30.00</td>\n",
       "      <td>12471.0</td>\n",
       "      <td>Germany</td>\n",
       "      <td>30.00</td>\n",
       "      <td>4</td>\n",
       "    </tr>\n",
       "    <tr>\n",
       "      <th>2</th>\n",
       "      <td>558895</td>\n",
       "      <td>M</td>\n",
       "      <td>Manual</td>\n",
       "      <td>1</td>\n",
       "      <td>2011-07-04 15:54:00</td>\n",
       "      <td>389.68</td>\n",
       "      <td>12619.0</td>\n",
       "      <td>Germany</td>\n",
       "      <td>389.68</td>\n",
       "      <td>1</td>\n",
       "    </tr>\n",
       "    <tr>\n",
       "      <th>3</th>\n",
       "      <td>571223</td>\n",
       "      <td>M</td>\n",
       "      <td>Manual</td>\n",
       "      <td>1</td>\n",
       "      <td>2011-10-14 13:36:00</td>\n",
       "      <td>599.50</td>\n",
       "      <td>13810.0</td>\n",
       "      <td>Germany</td>\n",
       "      <td>599.50</td>\n",
       "      <td>0</td>\n",
       "    </tr>\n",
       "    <tr>\n",
       "      <th>4</th>\n",
       "      <td>575632</td>\n",
       "      <td>M</td>\n",
       "      <td>Manual</td>\n",
       "      <td>1</td>\n",
       "      <td>2011-11-10 13:44:00</td>\n",
       "      <td>40.46</td>\n",
       "      <td>12473.0</td>\n",
       "      <td>Germany</td>\n",
       "      <td>40.46</td>\n",
       "      <td>3</td>\n",
       "    </tr>\n",
       "    <tr>\n",
       "      <th>...</th>\n",
       "      <td>...</td>\n",
       "      <td>...</td>\n",
       "      <td>...</td>\n",
       "      <td>...</td>\n",
       "      <td>...</td>\n",
       "      <td>...</td>\n",
       "      <td>...</td>\n",
       "      <td>...</td>\n",
       "      <td>...</td>\n",
       "      <td>...</td>\n",
       "    </tr>\n",
       "    <tr>\n",
       "      <th>8663</th>\n",
       "      <td>549193</td>\n",
       "      <td>10125</td>\n",
       "      <td>MINI FUNKY DESIGN TAPES</td>\n",
       "      <td>20</td>\n",
       "      <td>2011-04-07 10:24:00</td>\n",
       "      <td>0.85</td>\n",
       "      <td>12580.0</td>\n",
       "      <td>Germany</td>\n",
       "      <td>17.00</td>\n",
       "      <td>0</td>\n",
       "    </tr>\n",
       "    <tr>\n",
       "      <th>8664</th>\n",
       "      <td>564337</td>\n",
       "      <td>10125</td>\n",
       "      <td>MINI FUNKY DESIGN TAPES</td>\n",
       "      <td>20</td>\n",
       "      <td>2011-08-24 14:40:00</td>\n",
       "      <td>0.85</td>\n",
       "      <td>12649.0</td>\n",
       "      <td>Germany</td>\n",
       "      <td>17.00</td>\n",
       "      <td>0</td>\n",
       "    </tr>\n",
       "    <tr>\n",
       "      <th>8665</th>\n",
       "      <td>571328</td>\n",
       "      <td>10125</td>\n",
       "      <td>MINI FUNKY DESIGN TAPES</td>\n",
       "      <td>20</td>\n",
       "      <td>2011-10-17 11:27:00</td>\n",
       "      <td>0.85</td>\n",
       "      <td>12473.0</td>\n",
       "      <td>Germany</td>\n",
       "      <td>17.00</td>\n",
       "      <td>3</td>\n",
       "    </tr>\n",
       "    <tr>\n",
       "      <th>8666</th>\n",
       "      <td>581494</td>\n",
       "      <td>10125</td>\n",
       "      <td>MINI FUNKY DESIGN TAPES</td>\n",
       "      <td>20</td>\n",
       "      <td>2011-12-09 10:13:00</td>\n",
       "      <td>0.85</td>\n",
       "      <td>12518.0</td>\n",
       "      <td>Germany</td>\n",
       "      <td>17.00</td>\n",
       "      <td>2</td>\n",
       "    </tr>\n",
       "    <tr>\n",
       "      <th>8667</th>\n",
       "      <td>541277</td>\n",
       "      <td>10002</td>\n",
       "      <td>INFLATABLE POLITICAL GLOBE</td>\n",
       "      <td>1</td>\n",
       "      <td>2011-01-17 11:46:00</td>\n",
       "      <td>0.85</td>\n",
       "      <td>12673.0</td>\n",
       "      <td>Germany</td>\n",
       "      <td>0.85</td>\n",
       "      <td>0</td>\n",
       "    </tr>\n",
       "  </tbody>\n",
       "</table>\n",
       "<p>8668 rows × 10 columns</p>\n",
       "</div>"
      ],
      "text/plain": [
       "     InvoiceNo StockCode                  Description  Quantity  \\\n",
       "0       550354         M                       Manual         1   \n",
       "1       558841         M                       Manual         1   \n",
       "2       558895         M                       Manual         1   \n",
       "3       571223         M                       Manual         1   \n",
       "4       575632         M                       Manual         1   \n",
       "...        ...       ...                          ...       ...   \n",
       "8663    549193     10125      MINI FUNKY DESIGN TAPES        20   \n",
       "8664    564337     10125      MINI FUNKY DESIGN TAPES        20   \n",
       "8665    571328     10125      MINI FUNKY DESIGN TAPES        20   \n",
       "8666    581494     10125      MINI FUNKY DESIGN TAPES        20   \n",
       "8667    541277     10002  INFLATABLE POLITICAL GLOBE          1   \n",
       "\n",
       "             InvoiceDate  UnitPrice  CustomerID  Country   total  Frequency  \n",
       "0    2011-04-18 10:28:00     222.75     13811.0  Germany  222.75          0  \n",
       "1    2011-07-04 11:59:00      30.00     12471.0  Germany   30.00          4  \n",
       "2    2011-07-04 15:54:00     389.68     12619.0  Germany  389.68          1  \n",
       "3    2011-10-14 13:36:00     599.50     13810.0  Germany  599.50          0  \n",
       "4    2011-11-10 13:44:00      40.46     12473.0  Germany   40.46          3  \n",
       "...                  ...        ...         ...      ...     ...        ...  \n",
       "8663 2011-04-07 10:24:00       0.85     12580.0  Germany   17.00          0  \n",
       "8664 2011-08-24 14:40:00       0.85     12649.0  Germany   17.00          0  \n",
       "8665 2011-10-17 11:27:00       0.85     12473.0  Germany   17.00          3  \n",
       "8666 2011-12-09 10:13:00       0.85     12518.0  Germany   17.00          2  \n",
       "8667 2011-01-17 11:46:00       0.85     12673.0  Germany    0.85          0  \n",
       "\n",
       "[8668 rows x 10 columns]"
      ]
     },
     "execution_count": 1103,
     "metadata": {},
     "output_type": "execute_result"
    }
   ],
   "source": [
    "freq = frequency['Frequency'].tolist()\n",
    "for i,f in enumerate(freq) :\n",
    "    if f < 51 :\n",
    "        freq[i] = 0\n",
    "    elif f < 101 and f > 51:\n",
    "        freq[i] = 1\n",
    "    elif f < 150 and f > 101 :\n",
    "        freq[i] = 2\n",
    "    elif f < 250 and f > 150 : \n",
    "        freq[i] = 3\n",
    "    else:\n",
    "        freq[i] = 4\n",
    "    \n",
    "    frequency['Frequency'] = freq\n",
    "\n",
    "# germany 데이터프레임에 해당 데이터 추가 \n",
    "pd.merge(germany, frequency, how='left')"
   ]
  },
  {
   "cell_type": "code",
   "execution_count": 1104,
   "metadata": {},
   "outputs": [
    {
     "data": {
      "text/html": [
       "<div>\n",
       "<style scoped>\n",
       "    .dataframe tbody tr th:only-of-type {\n",
       "        vertical-align: middle;\n",
       "    }\n",
       "\n",
       "    .dataframe tbody tr th {\n",
       "        vertical-align: top;\n",
       "    }\n",
       "\n",
       "    .dataframe thead th {\n",
       "        text-align: right;\n",
       "    }\n",
       "</style>\n",
       "<table border=\"1\" class=\"dataframe\">\n",
       "  <thead>\n",
       "    <tr style=\"text-align: right;\">\n",
       "      <th></th>\n",
       "      <th>InvoiceNo</th>\n",
       "      <th>StockCode</th>\n",
       "      <th>Description</th>\n",
       "      <th>Quantity</th>\n",
       "      <th>InvoiceDate</th>\n",
       "      <th>UnitPrice</th>\n",
       "      <th>CustomerID</th>\n",
       "      <th>Country</th>\n",
       "      <th>total</th>\n",
       "      <th>Frequency</th>\n",
       "    </tr>\n",
       "  </thead>\n",
       "  <tbody>\n",
       "    <tr>\n",
       "      <th>0</th>\n",
       "      <td>550354</td>\n",
       "      <td>M</td>\n",
       "      <td>Manual</td>\n",
       "      <td>1</td>\n",
       "      <td>2011-04-18 10:28:00</td>\n",
       "      <td>222.75</td>\n",
       "      <td>13811.0</td>\n",
       "      <td>Germany</td>\n",
       "      <td>222.75</td>\n",
       "      <td>0</td>\n",
       "    </tr>\n",
       "    <tr>\n",
       "      <th>1</th>\n",
       "      <td>558841</td>\n",
       "      <td>M</td>\n",
       "      <td>Manual</td>\n",
       "      <td>1</td>\n",
       "      <td>2011-07-04 11:59:00</td>\n",
       "      <td>30.00</td>\n",
       "      <td>12471.0</td>\n",
       "      <td>Germany</td>\n",
       "      <td>30.00</td>\n",
       "      <td>4</td>\n",
       "    </tr>\n",
       "    <tr>\n",
       "      <th>2</th>\n",
       "      <td>558895</td>\n",
       "      <td>M</td>\n",
       "      <td>Manual</td>\n",
       "      <td>1</td>\n",
       "      <td>2011-07-04 15:54:00</td>\n",
       "      <td>389.68</td>\n",
       "      <td>12619.0</td>\n",
       "      <td>Germany</td>\n",
       "      <td>389.68</td>\n",
       "      <td>1</td>\n",
       "    </tr>\n",
       "    <tr>\n",
       "      <th>3</th>\n",
       "      <td>571223</td>\n",
       "      <td>M</td>\n",
       "      <td>Manual</td>\n",
       "      <td>1</td>\n",
       "      <td>2011-10-14 13:36:00</td>\n",
       "      <td>599.50</td>\n",
       "      <td>13810.0</td>\n",
       "      <td>Germany</td>\n",
       "      <td>599.50</td>\n",
       "      <td>0</td>\n",
       "    </tr>\n",
       "    <tr>\n",
       "      <th>4</th>\n",
       "      <td>575632</td>\n",
       "      <td>M</td>\n",
       "      <td>Manual</td>\n",
       "      <td>1</td>\n",
       "      <td>2011-11-10 13:44:00</td>\n",
       "      <td>40.46</td>\n",
       "      <td>12473.0</td>\n",
       "      <td>Germany</td>\n",
       "      <td>40.46</td>\n",
       "      <td>3</td>\n",
       "    </tr>\n",
       "    <tr>\n",
       "      <th>...</th>\n",
       "      <td>...</td>\n",
       "      <td>...</td>\n",
       "      <td>...</td>\n",
       "      <td>...</td>\n",
       "      <td>...</td>\n",
       "      <td>...</td>\n",
       "      <td>...</td>\n",
       "      <td>...</td>\n",
       "      <td>...</td>\n",
       "      <td>...</td>\n",
       "    </tr>\n",
       "    <tr>\n",
       "      <th>8663</th>\n",
       "      <td>549193</td>\n",
       "      <td>10125</td>\n",
       "      <td>MINI FUNKY DESIGN TAPES</td>\n",
       "      <td>20</td>\n",
       "      <td>2011-04-07 10:24:00</td>\n",
       "      <td>0.85</td>\n",
       "      <td>12580.0</td>\n",
       "      <td>Germany</td>\n",
       "      <td>17.00</td>\n",
       "      <td>0</td>\n",
       "    </tr>\n",
       "    <tr>\n",
       "      <th>8664</th>\n",
       "      <td>564337</td>\n",
       "      <td>10125</td>\n",
       "      <td>MINI FUNKY DESIGN TAPES</td>\n",
       "      <td>20</td>\n",
       "      <td>2011-08-24 14:40:00</td>\n",
       "      <td>0.85</td>\n",
       "      <td>12649.0</td>\n",
       "      <td>Germany</td>\n",
       "      <td>17.00</td>\n",
       "      <td>0</td>\n",
       "    </tr>\n",
       "    <tr>\n",
       "      <th>8665</th>\n",
       "      <td>571328</td>\n",
       "      <td>10125</td>\n",
       "      <td>MINI FUNKY DESIGN TAPES</td>\n",
       "      <td>20</td>\n",
       "      <td>2011-10-17 11:27:00</td>\n",
       "      <td>0.85</td>\n",
       "      <td>12473.0</td>\n",
       "      <td>Germany</td>\n",
       "      <td>17.00</td>\n",
       "      <td>3</td>\n",
       "    </tr>\n",
       "    <tr>\n",
       "      <th>8666</th>\n",
       "      <td>581494</td>\n",
       "      <td>10125</td>\n",
       "      <td>MINI FUNKY DESIGN TAPES</td>\n",
       "      <td>20</td>\n",
       "      <td>2011-12-09 10:13:00</td>\n",
       "      <td>0.85</td>\n",
       "      <td>12518.0</td>\n",
       "      <td>Germany</td>\n",
       "      <td>17.00</td>\n",
       "      <td>2</td>\n",
       "    </tr>\n",
       "    <tr>\n",
       "      <th>8667</th>\n",
       "      <td>541277</td>\n",
       "      <td>10002</td>\n",
       "      <td>INFLATABLE POLITICAL GLOBE</td>\n",
       "      <td>1</td>\n",
       "      <td>2011-01-17 11:46:00</td>\n",
       "      <td>0.85</td>\n",
       "      <td>12673.0</td>\n",
       "      <td>Germany</td>\n",
       "      <td>0.85</td>\n",
       "      <td>0</td>\n",
       "    </tr>\n",
       "  </tbody>\n",
       "</table>\n",
       "<p>8668 rows × 10 columns</p>\n",
       "</div>"
      ],
      "text/plain": [
       "     InvoiceNo StockCode                  Description  Quantity  \\\n",
       "0       550354         M                       Manual         1   \n",
       "1       558841         M                       Manual         1   \n",
       "2       558895         M                       Manual         1   \n",
       "3       571223         M                       Manual         1   \n",
       "4       575632         M                       Manual         1   \n",
       "...        ...       ...                          ...       ...   \n",
       "8663    549193     10125      MINI FUNKY DESIGN TAPES        20   \n",
       "8664    564337     10125      MINI FUNKY DESIGN TAPES        20   \n",
       "8665    571328     10125      MINI FUNKY DESIGN TAPES        20   \n",
       "8666    581494     10125      MINI FUNKY DESIGN TAPES        20   \n",
       "8667    541277     10002  INFLATABLE POLITICAL GLOBE          1   \n",
       "\n",
       "             InvoiceDate  UnitPrice  CustomerID  Country   total  Frequency  \n",
       "0    2011-04-18 10:28:00     222.75     13811.0  Germany  222.75          0  \n",
       "1    2011-07-04 11:59:00      30.00     12471.0  Germany   30.00          4  \n",
       "2    2011-07-04 15:54:00     389.68     12619.0  Germany  389.68          1  \n",
       "3    2011-10-14 13:36:00     599.50     13810.0  Germany  599.50          0  \n",
       "4    2011-11-10 13:44:00      40.46     12473.0  Germany   40.46          3  \n",
       "...                  ...        ...         ...      ...     ...        ...  \n",
       "8663 2011-04-07 10:24:00       0.85     12580.0  Germany   17.00          0  \n",
       "8664 2011-08-24 14:40:00       0.85     12649.0  Germany   17.00          0  \n",
       "8665 2011-10-17 11:27:00       0.85     12473.0  Germany   17.00          3  \n",
       "8666 2011-12-09 10:13:00       0.85     12518.0  Germany   17.00          2  \n",
       "8667 2011-01-17 11:46:00       0.85     12673.0  Germany    0.85          0  \n",
       "\n",
       "[8668 rows x 10 columns]"
      ]
     },
     "execution_count": 1104,
     "metadata": {},
     "output_type": "execute_result"
    }
   ],
   "source": [
    "germany = pd.merge(germany, frequency, how = 'left')\n",
    "germany"
   ]
  },
  {
   "cell_type": "markdown",
   "metadata": {},
   "source": [
    "###### StockCode 확인 "
   ]
  },
  {
   "cell_type": "code",
   "execution_count": 1105,
   "metadata": {
    "scrolled": false
   },
   "outputs": [
    {
     "data": {
      "text/plain": [
       "0           M\n",
       "1           M\n",
       "2           M\n",
       "3           M\n",
       "4           M\n",
       "        ...  \n",
       "8663    10125\n",
       "8664    10125\n",
       "8665    10125\n",
       "8666    10125\n",
       "8667    10002\n",
       "Name: StockCode, Length: 8668, dtype: object"
      ]
     },
     "execution_count": 1105,
     "metadata": {},
     "output_type": "execute_result"
    }
   ],
   "source": [
    "# M 값 -> 10000으로 변경, 버리기에는 의미가 있는 데이터 \n",
    "germany['StockCode']"
   ]
  },
  {
   "cell_type": "code",
   "execution_count": 1106,
   "metadata": {},
   "outputs": [
    {
     "data": {
      "text/plain": [
       "Series([], Name: CustomerID, dtype: int64)"
      ]
     },
     "execution_count": 1106,
     "metadata": {},
     "output_type": "execute_result"
    }
   ],
   "source": [
    "# 문자열으로 치환\n",
    "germany.loc[germany['StockCode'] == 'M','StockCode'] = '10000'\n",
    "germany['StockCode']\n",
    "germany[germany['StockCode'] == 'M']['CustomerID'].value_counts()"
   ]
  },
  {
   "cell_type": "code",
   "execution_count": 1107,
   "metadata": {},
   "outputs": [
    {
     "name": "stdout",
     "output_type": "stream",
     "text": [
      "<class 'pandas.core.frame.DataFrame'>\n",
      "Int64Index: 8668 entries, 0 to 8667\n",
      "Data columns (total 10 columns):\n",
      " #   Column       Non-Null Count  Dtype         \n",
      "---  ------       --------------  -----         \n",
      " 0   InvoiceNo    8668 non-null   object        \n",
      " 1   StockCode    8668 non-null   object        \n",
      " 2   Description  8668 non-null   object        \n",
      " 3   Quantity     8668 non-null   int64         \n",
      " 4   InvoiceDate  8668 non-null   datetime64[ns]\n",
      " 5   UnitPrice    8668 non-null   float64       \n",
      " 6   CustomerID   8668 non-null   float64       \n",
      " 7   Country      8668 non-null   object        \n",
      " 8   total        8668 non-null   float64       \n",
      " 9   Frequency    8668 non-null   int64         \n",
      "dtypes: datetime64[ns](1), float64(3), int64(2), object(4)\n",
      "memory usage: 744.9+ KB\n"
     ]
    }
   ],
   "source": [
    "germany.info()"
   ]
  },
  {
   "cell_type": "code",
   "execution_count": 1108,
   "metadata": {},
   "outputs": [
    {
     "data": {
      "text/plain": [
       "0       10000\n",
       "1       10000\n",
       "2       10000\n",
       "3       10000\n",
       "4       10000\n",
       "        ...  \n",
       "555    15044A\n",
       "556    15044A\n",
       "557    15044A\n",
       "558    15044A\n",
       "559    15044A\n",
       "Name: StockCode, Length: 560, dtype: object"
      ]
     },
     "execution_count": 1108,
     "metadata": {},
     "output_type": "execute_result"
    }
   ],
   "source": [
    "germany[germany['StockCode'].apply(lambda x: isinstance(x, str))]['StockCode']"
   ]
  },
  {
   "cell_type": "markdown",
   "metadata": {},
   "source": [
    "###### 간단한 패턴매칭 연습"
   ]
  },
  {
   "cell_type": "code",
   "execution_count": 1109,
   "metadata": {},
   "outputs": [
    {
     "data": {
      "text/plain": [
       "0      True\n",
       "1      True\n",
       "2      True\n",
       "3      True\n",
       "4      True\n",
       "       ... \n",
       "555    True\n",
       "556    True\n",
       "557    True\n",
       "558    True\n",
       "559    True\n",
       "Name: StockCode, Length: 560, dtype: bool"
      ]
     },
     "execution_count": 1109,
     "metadata": {},
     "output_type": "execute_result"
    }
   ],
   "source": [
    "import re\n",
    "germany[germany['StockCode'].apply(lambda x: isinstance(x, str))]['StockCode'].str.match(pat='[0-9a-zA-Z]')"
   ]
  },
  {
   "cell_type": "markdown",
   "metadata": {},
   "source": [
    "###### 간단한 패턴매칭 연습"
   ]
  },
  {
   "cell_type": "code",
   "execution_count": 1110,
   "metadata": {},
   "outputs": [
    {
     "data": {
      "text/plain": [
       "0       10000\n",
       "1       10000\n",
       "2       10000\n",
       "3       10000\n",
       "4       10000\n",
       "        ...  \n",
       "8663    10125\n",
       "8664    10125\n",
       "8665    10125\n",
       "8666    10125\n",
       "8667    10002\n",
       "Name: StockCode, Length: 8668, dtype: object"
      ]
     },
     "execution_count": 1110,
     "metadata": {},
     "output_type": "execute_result"
    }
   ],
   "source": [
    "germany['StockCode'] = germany['StockCode'].astype('str').apply(lambda x : x[0:5] ) \n",
    "germany[germany['StockCode'].apply(lambda x: isinstance(x, str))]['StockCode']"
   ]
  },
  {
   "cell_type": "code",
   "execution_count": 1111,
   "metadata": {},
   "outputs": [],
   "source": [
    "germany['StockCode'] = germany['StockCode'].astype('int')"
   ]
  },
  {
   "cell_type": "code",
   "execution_count": 1112,
   "metadata": {},
   "outputs": [],
   "source": [
    "# StockCode 있으니 Description은 삭제\n",
    "germany.drop('Description', axis = 1, inplace = True)"
   ]
  },
  {
   "cell_type": "code",
   "execution_count": 1113,
   "metadata": {},
   "outputs": [
    {
     "name": "stdout",
     "output_type": "stream",
     "text": [
      "<class 'pandas.core.frame.DataFrame'>\n",
      "Int64Index: 8668 entries, 0 to 8667\n",
      "Data columns (total 9 columns):\n",
      " #   Column       Non-Null Count  Dtype         \n",
      "---  ------       --------------  -----         \n",
      " 0   InvoiceNo    8668 non-null   object        \n",
      " 1   StockCode    8668 non-null   int64         \n",
      " 2   Quantity     8668 non-null   int64         \n",
      " 3   InvoiceDate  8668 non-null   datetime64[ns]\n",
      " 4   UnitPrice    8668 non-null   float64       \n",
      " 5   CustomerID   8668 non-null   float64       \n",
      " 6   Country      8668 non-null   object        \n",
      " 7   total        8668 non-null   float64       \n",
      " 8   Frequency    8668 non-null   int64         \n",
      "dtypes: datetime64[ns](1), float64(3), int64(3), object(2)\n",
      "memory usage: 677.2+ KB\n"
     ]
    }
   ],
   "source": [
    "germany.info()"
   ]
  },
  {
   "cell_type": "markdown",
   "metadata": {},
   "source": [
    "###### 인덱스 보기 불편 -> 인덱스 조정 "
   ]
  },
  {
   "cell_type": "code",
   "execution_count": 1114,
   "metadata": {},
   "outputs": [],
   "source": [
    "germany.index = range(len(germany))"
   ]
  },
  {
   "cell_type": "code",
   "execution_count": 1115,
   "metadata": {},
   "outputs": [
    {
     "data": {
      "text/plain": [
       "0      2011-04-18 10:28:00\n",
       "1      2011-07-04 11:59:00\n",
       "2      2011-07-04 15:54:00\n",
       "3      2011-10-14 13:36:00\n",
       "4      2011-11-10 13:44:00\n",
       "               ...        \n",
       "8663   2011-04-07 10:24:00\n",
       "8664   2011-08-24 14:40:00\n",
       "8665   2011-10-17 11:27:00\n",
       "8666   2011-12-09 10:13:00\n",
       "8667   2011-01-17 11:46:00\n",
       "Name: InvoiceDate, Length: 8668, dtype: datetime64[ns]"
      ]
     },
     "execution_count": 1115,
     "metadata": {},
     "output_type": "execute_result"
    }
   ],
   "source": [
    "# 데이트타임 타입 확인 \n",
    "germany['InvoiceDate']"
   ]
  },
  {
   "cell_type": "code",
   "execution_count": 1116,
   "metadata": {},
   "outputs": [
    {
     "name": "stdout",
     "output_type": "stream",
     "text": [
      "<class 'pandas.core.frame.DataFrame'>\n",
      "RangeIndex: 8668 entries, 0 to 8667\n",
      "Data columns (total 9 columns):\n",
      " #   Column       Non-Null Count  Dtype         \n",
      "---  ------       --------------  -----         \n",
      " 0   InvoiceNo    8668 non-null   object        \n",
      " 1   StockCode    8668 non-null   int64         \n",
      " 2   Quantity     8668 non-null   int64         \n",
      " 3   InvoiceDate  8668 non-null   datetime64[ns]\n",
      " 4   UnitPrice    8668 non-null   float64       \n",
      " 5   CustomerID   8668 non-null   float64       \n",
      " 6   Country      8668 non-null   object        \n",
      " 7   total        8668 non-null   float64       \n",
      " 8   Frequency    8668 non-null   int64         \n",
      "dtypes: datetime64[ns](1), float64(3), int64(3), object(2)\n",
      "memory usage: 609.6+ KB\n"
     ]
    }
   ],
   "source": [
    "germany.info()"
   ]
  },
  {
   "cell_type": "markdown",
   "metadata": {},
   "source": [
    "###### invoiceNo 드랍"
   ]
  },
  {
   "cell_type": "code",
   "execution_count": 1117,
   "metadata": {},
   "outputs": [
    {
     "data": {
      "text/html": [
       "<div>\n",
       "<style scoped>\n",
       "    .dataframe tbody tr th:only-of-type {\n",
       "        vertical-align: middle;\n",
       "    }\n",
       "\n",
       "    .dataframe tbody tr th {\n",
       "        vertical-align: top;\n",
       "    }\n",
       "\n",
       "    .dataframe thead th {\n",
       "        text-align: right;\n",
       "    }\n",
       "</style>\n",
       "<table border=\"1\" class=\"dataframe\">\n",
       "  <thead>\n",
       "    <tr style=\"text-align: right;\">\n",
       "      <th></th>\n",
       "      <th>InvoiceNo</th>\n",
       "      <th>StockCode</th>\n",
       "      <th>Quantity</th>\n",
       "      <th>InvoiceDate</th>\n",
       "      <th>UnitPrice</th>\n",
       "      <th>CustomerID</th>\n",
       "      <th>Country</th>\n",
       "      <th>total</th>\n",
       "      <th>Frequency</th>\n",
       "    </tr>\n",
       "  </thead>\n",
       "  <tbody>\n",
       "    <tr>\n",
       "      <th>0</th>\n",
       "      <td>550354</td>\n",
       "      <td>10000</td>\n",
       "      <td>1</td>\n",
       "      <td>2011-04-18 10:28:00</td>\n",
       "      <td>222.75</td>\n",
       "      <td>13811.0</td>\n",
       "      <td>Germany</td>\n",
       "      <td>222.75</td>\n",
       "      <td>0</td>\n",
       "    </tr>\n",
       "    <tr>\n",
       "      <th>1</th>\n",
       "      <td>558841</td>\n",
       "      <td>10000</td>\n",
       "      <td>1</td>\n",
       "      <td>2011-07-04 11:59:00</td>\n",
       "      <td>30.00</td>\n",
       "      <td>12471.0</td>\n",
       "      <td>Germany</td>\n",
       "      <td>30.00</td>\n",
       "      <td>4</td>\n",
       "    </tr>\n",
       "    <tr>\n",
       "      <th>2</th>\n",
       "      <td>558895</td>\n",
       "      <td>10000</td>\n",
       "      <td>1</td>\n",
       "      <td>2011-07-04 15:54:00</td>\n",
       "      <td>389.68</td>\n",
       "      <td>12619.0</td>\n",
       "      <td>Germany</td>\n",
       "      <td>389.68</td>\n",
       "      <td>1</td>\n",
       "    </tr>\n",
       "    <tr>\n",
       "      <th>3</th>\n",
       "      <td>571223</td>\n",
       "      <td>10000</td>\n",
       "      <td>1</td>\n",
       "      <td>2011-10-14 13:36:00</td>\n",
       "      <td>599.50</td>\n",
       "      <td>13810.0</td>\n",
       "      <td>Germany</td>\n",
       "      <td>599.50</td>\n",
       "      <td>0</td>\n",
       "    </tr>\n",
       "    <tr>\n",
       "      <th>4</th>\n",
       "      <td>575632</td>\n",
       "      <td>10000</td>\n",
       "      <td>1</td>\n",
       "      <td>2011-11-10 13:44:00</td>\n",
       "      <td>40.46</td>\n",
       "      <td>12473.0</td>\n",
       "      <td>Germany</td>\n",
       "      <td>40.46</td>\n",
       "      <td>3</td>\n",
       "    </tr>\n",
       "    <tr>\n",
       "      <th>...</th>\n",
       "      <td>...</td>\n",
       "      <td>...</td>\n",
       "      <td>...</td>\n",
       "      <td>...</td>\n",
       "      <td>...</td>\n",
       "      <td>...</td>\n",
       "      <td>...</td>\n",
       "      <td>...</td>\n",
       "      <td>...</td>\n",
       "    </tr>\n",
       "    <tr>\n",
       "      <th>8663</th>\n",
       "      <td>549193</td>\n",
       "      <td>10125</td>\n",
       "      <td>20</td>\n",
       "      <td>2011-04-07 10:24:00</td>\n",
       "      <td>0.85</td>\n",
       "      <td>12580.0</td>\n",
       "      <td>Germany</td>\n",
       "      <td>17.00</td>\n",
       "      <td>0</td>\n",
       "    </tr>\n",
       "    <tr>\n",
       "      <th>8664</th>\n",
       "      <td>564337</td>\n",
       "      <td>10125</td>\n",
       "      <td>20</td>\n",
       "      <td>2011-08-24 14:40:00</td>\n",
       "      <td>0.85</td>\n",
       "      <td>12649.0</td>\n",
       "      <td>Germany</td>\n",
       "      <td>17.00</td>\n",
       "      <td>0</td>\n",
       "    </tr>\n",
       "    <tr>\n",
       "      <th>8665</th>\n",
       "      <td>571328</td>\n",
       "      <td>10125</td>\n",
       "      <td>20</td>\n",
       "      <td>2011-10-17 11:27:00</td>\n",
       "      <td>0.85</td>\n",
       "      <td>12473.0</td>\n",
       "      <td>Germany</td>\n",
       "      <td>17.00</td>\n",
       "      <td>3</td>\n",
       "    </tr>\n",
       "    <tr>\n",
       "      <th>8666</th>\n",
       "      <td>581494</td>\n",
       "      <td>10125</td>\n",
       "      <td>20</td>\n",
       "      <td>2011-12-09 10:13:00</td>\n",
       "      <td>0.85</td>\n",
       "      <td>12518.0</td>\n",
       "      <td>Germany</td>\n",
       "      <td>17.00</td>\n",
       "      <td>2</td>\n",
       "    </tr>\n",
       "    <tr>\n",
       "      <th>8667</th>\n",
       "      <td>541277</td>\n",
       "      <td>10002</td>\n",
       "      <td>1</td>\n",
       "      <td>2011-01-17 11:46:00</td>\n",
       "      <td>0.85</td>\n",
       "      <td>12673.0</td>\n",
       "      <td>Germany</td>\n",
       "      <td>0.85</td>\n",
       "      <td>0</td>\n",
       "    </tr>\n",
       "  </tbody>\n",
       "</table>\n",
       "<p>8668 rows × 9 columns</p>\n",
       "</div>"
      ],
      "text/plain": [
       "     InvoiceNo  StockCode  Quantity         InvoiceDate  UnitPrice  \\\n",
       "0       550354      10000         1 2011-04-18 10:28:00     222.75   \n",
       "1       558841      10000         1 2011-07-04 11:59:00      30.00   \n",
       "2       558895      10000         1 2011-07-04 15:54:00     389.68   \n",
       "3       571223      10000         1 2011-10-14 13:36:00     599.50   \n",
       "4       575632      10000         1 2011-11-10 13:44:00      40.46   \n",
       "...        ...        ...       ...                 ...        ...   \n",
       "8663    549193      10125        20 2011-04-07 10:24:00       0.85   \n",
       "8664    564337      10125        20 2011-08-24 14:40:00       0.85   \n",
       "8665    571328      10125        20 2011-10-17 11:27:00       0.85   \n",
       "8666    581494      10125        20 2011-12-09 10:13:00       0.85   \n",
       "8667    541277      10002         1 2011-01-17 11:46:00       0.85   \n",
       "\n",
       "      CustomerID  Country   total  Frequency  \n",
       "0        13811.0  Germany  222.75          0  \n",
       "1        12471.0  Germany   30.00          4  \n",
       "2        12619.0  Germany  389.68          1  \n",
       "3        13810.0  Germany  599.50          0  \n",
       "4        12473.0  Germany   40.46          3  \n",
       "...          ...      ...     ...        ...  \n",
       "8663     12580.0  Germany   17.00          0  \n",
       "8664     12649.0  Germany   17.00          0  \n",
       "8665     12473.0  Germany   17.00          3  \n",
       "8666     12518.0  Germany   17.00          2  \n",
       "8667     12673.0  Germany    0.85          0  \n",
       "\n",
       "[8668 rows x 9 columns]"
      ]
     },
     "execution_count": 1117,
     "metadata": {},
     "output_type": "execute_result"
    }
   ],
   "source": [
    "germany[germany['InvoiceNo'].apply(lambda x: isinstance(x, int))]"
   ]
  },
  {
   "cell_type": "code",
   "execution_count": 1118,
   "metadata": {},
   "outputs": [],
   "source": [
    "germany = germany.drop('InvoiceNo', axis = 1)"
   ]
  },
  {
   "cell_type": "code",
   "execution_count": 1119,
   "metadata": {},
   "outputs": [
    {
     "name": "stdout",
     "output_type": "stream",
     "text": [
      "<class 'pandas.core.frame.DataFrame'>\n",
      "RangeIndex: 8668 entries, 0 to 8667\n",
      "Data columns (total 8 columns):\n",
      " #   Column       Non-Null Count  Dtype         \n",
      "---  ------       --------------  -----         \n",
      " 0   StockCode    8668 non-null   int64         \n",
      " 1   Quantity     8668 non-null   int64         \n",
      " 2   InvoiceDate  8668 non-null   datetime64[ns]\n",
      " 3   UnitPrice    8668 non-null   float64       \n",
      " 4   CustomerID   8668 non-null   float64       \n",
      " 5   Country      8668 non-null   object        \n",
      " 6   total        8668 non-null   float64       \n",
      " 7   Frequency    8668 non-null   int64         \n",
      "dtypes: datetime64[ns](1), float64(3), int64(3), object(1)\n",
      "memory usage: 541.9+ KB\n"
     ]
    }
   ],
   "source": [
    "germany.info()"
   ]
  },
  {
   "cell_type": "markdown",
   "metadata": {},
   "source": [
    "###### 시간 분류 \n",
    "- 시각화 툴 : https://plotly.com/python/time-series/"
   ]
  },
  {
   "cell_type": "markdown",
   "metadata": {},
   "source": [
    "주중 오전 : 0\n",
    "주중 오후 : 1\n",
    "주말 오전 : 2\n",
    "주말 오후 : 3"
   ]
  },
  {
   "cell_type": "code",
   "execution_count": 1120,
   "metadata": {},
   "outputs": [],
   "source": [
    "germany['InvoiceTime'] = germany['InvoiceDate'].dt.time\n",
    "germany['InvoiceDay'] = germany['InvoiceDate'].dt.dayofweek"
   ]
  },
  {
   "cell_type": "code",
   "execution_count": 1121,
   "metadata": {},
   "outputs": [],
   "source": [
    "import plotly.express as px"
   ]
  },
  {
   "cell_type": "code",
   "execution_count": 1122,
   "metadata": {},
   "outputs": [
    {
     "data": {
      "application/vnd.plotly.v1+json": {
       "config": {
        "plotlyServerURL": "https://plot.ly"
       },
       "data": [
        {
         "hovertemplate": "x=%{x}<br>y=%{y}<extra></extra>",
         "legendgroup": "",
         "line": {
          "color": "#636efa",
          "dash": "solid"
         },
         "mode": "lines",
         "name": "",
         "orientation": "v",
         "showlegend": false,
         "type": "scatter",
         "x": [
          "08:03:00",
          "08:10:00",
          "08:11:00",
          "08:15:00",
          "08:19:00",
          "08:20:00",
          "08:26:00",
          "08:27:00",
          "08:29:00",
          "08:33:00",
          "08:34:00",
          "08:35:00",
          "08:37:00",
          "08:38:00",
          "08:43:00",
          "08:44:00",
          "08:45:00",
          "08:50:00",
          "08:51:00",
          "08:52:00",
          "08:56:00",
          "09:00:00",
          "09:04:00",
          "09:05:00",
          "09:10:00",
          "09:11:00",
          "09:13:00",
          "09:16:00",
          "09:17:00",
          "09:18:00",
          "09:20:00",
          "09:22:00",
          "09:23:00",
          "09:24:00",
          "09:26:00",
          "09:28:00",
          "09:29:00",
          "09:30:00",
          "09:31:00",
          "09:35:00",
          "09:36:00",
          "09:37:00",
          "09:40:00",
          "09:41:00",
          "09:43:00",
          "09:46:00",
          "09:48:00",
          "09:49:00",
          "09:51:00",
          "09:52:00",
          "09:54:00",
          "09:55:00",
          "09:56:00",
          "09:57:00",
          "09:58:00",
          "10:00:00",
          "10:02:00",
          "10:04:00",
          "10:05:00",
          "10:06:00",
          "10:09:00",
          "10:10:00",
          "10:12:00",
          "10:13:00",
          "10:15:00",
          "10:16:00",
          "10:17:00",
          "10:18:00",
          "10:19:00",
          "10:22:00",
          "10:24:00",
          "10:25:00",
          "10:26:00",
          "10:28:00",
          "10:29:00",
          "10:32:00",
          "10:33:00",
          "10:35:00",
          "10:36:00",
          "10:38:00",
          "10:39:00",
          "10:41:00",
          "10:42:00",
          "10:43:00",
          "10:44:00",
          "10:46:00",
          "10:47:00",
          "10:48:00",
          "10:51:00",
          "10:52:00",
          "10:53:00",
          "10:56:00",
          "10:59:00",
          "11:01:00",
          "11:03:00",
          "11:04:00",
          "11:12:00",
          "11:18:00",
          "11:19:00",
          "11:23:00",
          "11:25:00",
          "11:27:00",
          "11:30:00",
          "11:34:00",
          "11:35:00",
          "11:36:00",
          "11:37:00",
          "11:38:00",
          "11:39:00",
          "11:40:00",
          "11:46:00",
          "11:47:00",
          "11:49:00",
          "11:50:00",
          "11:52:00",
          "11:53:00",
          "11:55:00",
          "11:57:00",
          "11:59:00",
          "12:00:00",
          "12:01:00",
          "12:02:00",
          "12:04:00",
          "12:05:00",
          "12:07:00",
          "12:09:00",
          "12:10:00",
          "12:11:00",
          "12:12:00",
          "12:16:00",
          "12:21:00",
          "12:23:00",
          "12:24:00",
          "12:25:00",
          "12:26:00",
          "12:27:00",
          "12:28:00",
          "12:29:00",
          "12:30:00",
          "12:31:00",
          "12:32:00",
          "12:34:00",
          "12:36:00",
          "12:37:00",
          "12:38:00",
          "12:39:00",
          "12:40:00",
          "12:41:00",
          "12:44:00",
          "12:45:00",
          "12:46:00",
          "12:48:00",
          "12:50:00",
          "12:52:00",
          "12:53:00",
          "12:54:00",
          "12:55:00",
          "12:56:00",
          "12:57:00",
          "12:58:00",
          "13:00:00",
          "13:01:00",
          "13:02:00",
          "13:04:00",
          "13:07:00",
          "13:08:00",
          "13:10:00",
          "13:15:00",
          "13:16:00",
          "13:17:00",
          "13:18:00",
          "13:21:00",
          "13:22:00",
          "13:23:00",
          "13:26:00",
          "13:27:00",
          "13:28:00",
          "13:29:00",
          "13:30:00",
          "13:31:00",
          "13:32:00",
          "13:36:00",
          "13:37:00",
          "13:38:00",
          "13:39:00",
          "13:40:00",
          "13:41:00",
          "13:42:00",
          "13:44:00",
          "13:45:00",
          "13:46:00",
          "13:47:00",
          "13:48:00",
          "13:49:00",
          "13:50:00",
          "13:54:00",
          "13:55:00",
          "13:56:00",
          "13:57:00",
          "13:58:00",
          "13:59:00",
          "14:01:00",
          "14:02:00",
          "14:03:00",
          "14:04:00",
          "14:05:00",
          "14:06:00",
          "14:07:00",
          "14:08:00",
          "14:09:00",
          "14:13:00",
          "14:19:00",
          "14:20:00",
          "14:23:00",
          "14:26:00",
          "14:27:00",
          "14:30:00",
          "14:34:00",
          "14:36:00",
          "14:37:00",
          "14:38:00",
          "14:39:00",
          "14:40:00",
          "14:41:00",
          "14:44:00",
          "14:45:00",
          "14:46:00",
          "14:50:00",
          "14:51:00",
          "14:52:00",
          "14:53:00",
          "14:54:00",
          "14:56:00",
          "14:57:00",
          "14:59:00",
          "15:01:00",
          "15:02:00",
          "15:03:00",
          "15:04:00",
          "15:05:00",
          "15:13:00",
          "15:14:00",
          "15:15:00",
          "15:19:00",
          "15:20:00",
          "15:21:00",
          "15:22:00",
          "15:23:00",
          "15:27:00",
          "15:28:00",
          "15:30:00",
          "15:31:00",
          "15:35:00",
          "15:36:00",
          "15:38:00",
          "15:41:00",
          "15:42:00",
          "15:43:00",
          "15:45:00",
          "15:47:00",
          "15:48:00",
          "15:51:00",
          "15:52:00",
          "15:53:00",
          "15:54:00",
          "15:55:00",
          "15:58:00",
          "16:02:00",
          "16:06:00",
          "16:13:00",
          "16:20:00",
          "16:23:00",
          "16:24:00",
          "16:34:00",
          "16:39:00",
          "16:41:00",
          "17:00:00",
          "17:13:00",
          "17:14:00",
          "17:25:00",
          "17:26:00",
          "17:34:00",
          "17:39:00",
          "17:49:00",
          "17:51:00",
          "17:52:00",
          "17:59:00",
          "18:27:00",
          "18:40:00"
         ],
         "xaxis": "x",
         "y": [
          177,
          164,
          140,
          137,
          117,
          117,
          111,
          103,
          101,
          100,
          98,
          97,
          95,
          95,
          90,
          89,
          86,
          85,
          83,
          83,
          80,
          78,
          72,
          69,
          67,
          65,
          64,
          64,
          63,
          63,
          62,
          61,
          60,
          60,
          60,
          59,
          59,
          59,
          58,
          58,
          57,
          56,
          56,
          55,
          55,
          55,
          53,
          52,
          52,
          52,
          52,
          51,
          50,
          49,
          49,
          47,
          47,
          46,
          46,
          45,
          44,
          43,
          43,
          42,
          42,
          41,
          41,
          41,
          41,
          41,
          40,
          39,
          39,
          39,
          38,
          38,
          37,
          37,
          37,
          37,
          37,
          36,
          36,
          36,
          35,
          35,
          35,
          35,
          35,
          35,
          34,
          34,
          34,
          33,
          32,
          32,
          31,
          30,
          30,
          30,
          30,
          30,
          29,
          29,
          29,
          29,
          29,
          29,
          29,
          28,
          28,
          28,
          28,
          27,
          27,
          27,
          27,
          26,
          26,
          26,
          26,
          26,
          26,
          26,
          25,
          25,
          24,
          24,
          24,
          23,
          23,
          23,
          23,
          23,
          23,
          23,
          22,
          22,
          22,
          21,
          21,
          21,
          21,
          21,
          21,
          21,
          21,
          21,
          21,
          20,
          20,
          20,
          20,
          20,
          20,
          20,
          19,
          19,
          19,
          19,
          19,
          19,
          19,
          19,
          18,
          18,
          18,
          18,
          17,
          17,
          17,
          17,
          17,
          16,
          16,
          16,
          16,
          16,
          16,
          16,
          15,
          15,
          15,
          15,
          14,
          14,
          14,
          14,
          14,
          14,
          14,
          14,
          14,
          13,
          13,
          13,
          13,
          13,
          13,
          13,
          13,
          13,
          13,
          13,
          12,
          12,
          12,
          12,
          12,
          12,
          12,
          12,
          12,
          11,
          11,
          11,
          11,
          11,
          10,
          10,
          10,
          10,
          10,
          10,
          10,
          10,
          10,
          10,
          10,
          10,
          10,
          9,
          9,
          9,
          9,
          9,
          9,
          9,
          9,
          9,
          9,
          8,
          8,
          8,
          8,
          8,
          8,
          8,
          8,
          7,
          7,
          7,
          7,
          6,
          6,
          6,
          6,
          6,
          6,
          6,
          5,
          5,
          5,
          5,
          5,
          5,
          4,
          4,
          4,
          4,
          4,
          4,
          4,
          3,
          3,
          3,
          3,
          2,
          2,
          2,
          2,
          2,
          2,
          1,
          1,
          1,
          1,
          1,
          1
         ],
         "yaxis": "y"
        }
       ],
       "layout": {
        "legend": {
         "tracegroupgap": 0
        },
        "margin": {
         "t": 60
        },
        "template": {
         "data": {
          "bar": [
           {
            "error_x": {
             "color": "#2a3f5f"
            },
            "error_y": {
             "color": "#2a3f5f"
            },
            "marker": {
             "line": {
              "color": "#E5ECF6",
              "width": 0.5
             }
            },
            "type": "bar"
           }
          ],
          "barpolar": [
           {
            "marker": {
             "line": {
              "color": "#E5ECF6",
              "width": 0.5
             }
            },
            "type": "barpolar"
           }
          ],
          "carpet": [
           {
            "aaxis": {
             "endlinecolor": "#2a3f5f",
             "gridcolor": "white",
             "linecolor": "white",
             "minorgridcolor": "white",
             "startlinecolor": "#2a3f5f"
            },
            "baxis": {
             "endlinecolor": "#2a3f5f",
             "gridcolor": "white",
             "linecolor": "white",
             "minorgridcolor": "white",
             "startlinecolor": "#2a3f5f"
            },
            "type": "carpet"
           }
          ],
          "choropleth": [
           {
            "colorbar": {
             "outlinewidth": 0,
             "ticks": ""
            },
            "type": "choropleth"
           }
          ],
          "contour": [
           {
            "colorbar": {
             "outlinewidth": 0,
             "ticks": ""
            },
            "colorscale": [
             [
              0,
              "#0d0887"
             ],
             [
              0.1111111111111111,
              "#46039f"
             ],
             [
              0.2222222222222222,
              "#7201a8"
             ],
             [
              0.3333333333333333,
              "#9c179e"
             ],
             [
              0.4444444444444444,
              "#bd3786"
             ],
             [
              0.5555555555555556,
              "#d8576b"
             ],
             [
              0.6666666666666666,
              "#ed7953"
             ],
             [
              0.7777777777777778,
              "#fb9f3a"
             ],
             [
              0.8888888888888888,
              "#fdca26"
             ],
             [
              1,
              "#f0f921"
             ]
            ],
            "type": "contour"
           }
          ],
          "contourcarpet": [
           {
            "colorbar": {
             "outlinewidth": 0,
             "ticks": ""
            },
            "type": "contourcarpet"
           }
          ],
          "heatmap": [
           {
            "colorbar": {
             "outlinewidth": 0,
             "ticks": ""
            },
            "colorscale": [
             [
              0,
              "#0d0887"
             ],
             [
              0.1111111111111111,
              "#46039f"
             ],
             [
              0.2222222222222222,
              "#7201a8"
             ],
             [
              0.3333333333333333,
              "#9c179e"
             ],
             [
              0.4444444444444444,
              "#bd3786"
             ],
             [
              0.5555555555555556,
              "#d8576b"
             ],
             [
              0.6666666666666666,
              "#ed7953"
             ],
             [
              0.7777777777777778,
              "#fb9f3a"
             ],
             [
              0.8888888888888888,
              "#fdca26"
             ],
             [
              1,
              "#f0f921"
             ]
            ],
            "type": "heatmap"
           }
          ],
          "heatmapgl": [
           {
            "colorbar": {
             "outlinewidth": 0,
             "ticks": ""
            },
            "colorscale": [
             [
              0,
              "#0d0887"
             ],
             [
              0.1111111111111111,
              "#46039f"
             ],
             [
              0.2222222222222222,
              "#7201a8"
             ],
             [
              0.3333333333333333,
              "#9c179e"
             ],
             [
              0.4444444444444444,
              "#bd3786"
             ],
             [
              0.5555555555555556,
              "#d8576b"
             ],
             [
              0.6666666666666666,
              "#ed7953"
             ],
             [
              0.7777777777777778,
              "#fb9f3a"
             ],
             [
              0.8888888888888888,
              "#fdca26"
             ],
             [
              1,
              "#f0f921"
             ]
            ],
            "type": "heatmapgl"
           }
          ],
          "histogram": [
           {
            "marker": {
             "colorbar": {
              "outlinewidth": 0,
              "ticks": ""
             }
            },
            "type": "histogram"
           }
          ],
          "histogram2d": [
           {
            "colorbar": {
             "outlinewidth": 0,
             "ticks": ""
            },
            "colorscale": [
             [
              0,
              "#0d0887"
             ],
             [
              0.1111111111111111,
              "#46039f"
             ],
             [
              0.2222222222222222,
              "#7201a8"
             ],
             [
              0.3333333333333333,
              "#9c179e"
             ],
             [
              0.4444444444444444,
              "#bd3786"
             ],
             [
              0.5555555555555556,
              "#d8576b"
             ],
             [
              0.6666666666666666,
              "#ed7953"
             ],
             [
              0.7777777777777778,
              "#fb9f3a"
             ],
             [
              0.8888888888888888,
              "#fdca26"
             ],
             [
              1,
              "#f0f921"
             ]
            ],
            "type": "histogram2d"
           }
          ],
          "histogram2dcontour": [
           {
            "colorbar": {
             "outlinewidth": 0,
             "ticks": ""
            },
            "colorscale": [
             [
              0,
              "#0d0887"
             ],
             [
              0.1111111111111111,
              "#46039f"
             ],
             [
              0.2222222222222222,
              "#7201a8"
             ],
             [
              0.3333333333333333,
              "#9c179e"
             ],
             [
              0.4444444444444444,
              "#bd3786"
             ],
             [
              0.5555555555555556,
              "#d8576b"
             ],
             [
              0.6666666666666666,
              "#ed7953"
             ],
             [
              0.7777777777777778,
              "#fb9f3a"
             ],
             [
              0.8888888888888888,
              "#fdca26"
             ],
             [
              1,
              "#f0f921"
             ]
            ],
            "type": "histogram2dcontour"
           }
          ],
          "mesh3d": [
           {
            "colorbar": {
             "outlinewidth": 0,
             "ticks": ""
            },
            "type": "mesh3d"
           }
          ],
          "parcoords": [
           {
            "line": {
             "colorbar": {
              "outlinewidth": 0,
              "ticks": ""
             }
            },
            "type": "parcoords"
           }
          ],
          "pie": [
           {
            "automargin": true,
            "type": "pie"
           }
          ],
          "scatter": [
           {
            "marker": {
             "colorbar": {
              "outlinewidth": 0,
              "ticks": ""
             }
            },
            "type": "scatter"
           }
          ],
          "scatter3d": [
           {
            "line": {
             "colorbar": {
              "outlinewidth": 0,
              "ticks": ""
             }
            },
            "marker": {
             "colorbar": {
              "outlinewidth": 0,
              "ticks": ""
             }
            },
            "type": "scatter3d"
           }
          ],
          "scattercarpet": [
           {
            "marker": {
             "colorbar": {
              "outlinewidth": 0,
              "ticks": ""
             }
            },
            "type": "scattercarpet"
           }
          ],
          "scattergeo": [
           {
            "marker": {
             "colorbar": {
              "outlinewidth": 0,
              "ticks": ""
             }
            },
            "type": "scattergeo"
           }
          ],
          "scattergl": [
           {
            "marker": {
             "colorbar": {
              "outlinewidth": 0,
              "ticks": ""
             }
            },
            "type": "scattergl"
           }
          ],
          "scattermapbox": [
           {
            "marker": {
             "colorbar": {
              "outlinewidth": 0,
              "ticks": ""
             }
            },
            "type": "scattermapbox"
           }
          ],
          "scatterpolar": [
           {
            "marker": {
             "colorbar": {
              "outlinewidth": 0,
              "ticks": ""
             }
            },
            "type": "scatterpolar"
           }
          ],
          "scatterpolargl": [
           {
            "marker": {
             "colorbar": {
              "outlinewidth": 0,
              "ticks": ""
             }
            },
            "type": "scatterpolargl"
           }
          ],
          "scatterternary": [
           {
            "marker": {
             "colorbar": {
              "outlinewidth": 0,
              "ticks": ""
             }
            },
            "type": "scatterternary"
           }
          ],
          "surface": [
           {
            "colorbar": {
             "outlinewidth": 0,
             "ticks": ""
            },
            "colorscale": [
             [
              0,
              "#0d0887"
             ],
             [
              0.1111111111111111,
              "#46039f"
             ],
             [
              0.2222222222222222,
              "#7201a8"
             ],
             [
              0.3333333333333333,
              "#9c179e"
             ],
             [
              0.4444444444444444,
              "#bd3786"
             ],
             [
              0.5555555555555556,
              "#d8576b"
             ],
             [
              0.6666666666666666,
              "#ed7953"
             ],
             [
              0.7777777777777778,
              "#fb9f3a"
             ],
             [
              0.8888888888888888,
              "#fdca26"
             ],
             [
              1,
              "#f0f921"
             ]
            ],
            "type": "surface"
           }
          ],
          "table": [
           {
            "cells": {
             "fill": {
              "color": "#EBF0F8"
             },
             "line": {
              "color": "white"
             }
            },
            "header": {
             "fill": {
              "color": "#C8D4E3"
             },
             "line": {
              "color": "white"
             }
            },
            "type": "table"
           }
          ]
         },
         "layout": {
          "annotationdefaults": {
           "arrowcolor": "#2a3f5f",
           "arrowhead": 0,
           "arrowwidth": 1
          },
          "coloraxis": {
           "colorbar": {
            "outlinewidth": 0,
            "ticks": ""
           }
          },
          "colorscale": {
           "diverging": [
            [
             0,
             "#8e0152"
            ],
            [
             0.1,
             "#c51b7d"
            ],
            [
             0.2,
             "#de77ae"
            ],
            [
             0.3,
             "#f1b6da"
            ],
            [
             0.4,
             "#fde0ef"
            ],
            [
             0.5,
             "#f7f7f7"
            ],
            [
             0.6,
             "#e6f5d0"
            ],
            [
             0.7,
             "#b8e186"
            ],
            [
             0.8,
             "#7fbc41"
            ],
            [
             0.9,
             "#4d9221"
            ],
            [
             1,
             "#276419"
            ]
           ],
           "sequential": [
            [
             0,
             "#0d0887"
            ],
            [
             0.1111111111111111,
             "#46039f"
            ],
            [
             0.2222222222222222,
             "#7201a8"
            ],
            [
             0.3333333333333333,
             "#9c179e"
            ],
            [
             0.4444444444444444,
             "#bd3786"
            ],
            [
             0.5555555555555556,
             "#d8576b"
            ],
            [
             0.6666666666666666,
             "#ed7953"
            ],
            [
             0.7777777777777778,
             "#fb9f3a"
            ],
            [
             0.8888888888888888,
             "#fdca26"
            ],
            [
             1,
             "#f0f921"
            ]
           ],
           "sequentialminus": [
            [
             0,
             "#0d0887"
            ],
            [
             0.1111111111111111,
             "#46039f"
            ],
            [
             0.2222222222222222,
             "#7201a8"
            ],
            [
             0.3333333333333333,
             "#9c179e"
            ],
            [
             0.4444444444444444,
             "#bd3786"
            ],
            [
             0.5555555555555556,
             "#d8576b"
            ],
            [
             0.6666666666666666,
             "#ed7953"
            ],
            [
             0.7777777777777778,
             "#fb9f3a"
            ],
            [
             0.8888888888888888,
             "#fdca26"
            ],
            [
             1,
             "#f0f921"
            ]
           ]
          },
          "colorway": [
           "#636efa",
           "#EF553B",
           "#00cc96",
           "#ab63fa",
           "#FFA15A",
           "#19d3f3",
           "#FF6692",
           "#B6E880",
           "#FF97FF",
           "#FECB52"
          ],
          "font": {
           "color": "#2a3f5f"
          },
          "geo": {
           "bgcolor": "white",
           "lakecolor": "white",
           "landcolor": "#E5ECF6",
           "showlakes": true,
           "showland": true,
           "subunitcolor": "white"
          },
          "hoverlabel": {
           "align": "left"
          },
          "hovermode": "closest",
          "mapbox": {
           "style": "light"
          },
          "paper_bgcolor": "white",
          "plot_bgcolor": "#E5ECF6",
          "polar": {
           "angularaxis": {
            "gridcolor": "white",
            "linecolor": "white",
            "ticks": ""
           },
           "bgcolor": "#E5ECF6",
           "radialaxis": {
            "gridcolor": "white",
            "linecolor": "white",
            "ticks": ""
           }
          },
          "scene": {
           "xaxis": {
            "backgroundcolor": "#E5ECF6",
            "gridcolor": "white",
            "gridwidth": 2,
            "linecolor": "white",
            "showbackground": true,
            "ticks": "",
            "zerolinecolor": "white"
           },
           "yaxis": {
            "backgroundcolor": "#E5ECF6",
            "gridcolor": "white",
            "gridwidth": 2,
            "linecolor": "white",
            "showbackground": true,
            "ticks": "",
            "zerolinecolor": "white"
           },
           "zaxis": {
            "backgroundcolor": "#E5ECF6",
            "gridcolor": "white",
            "gridwidth": 2,
            "linecolor": "white",
            "showbackground": true,
            "ticks": "",
            "zerolinecolor": "white"
           }
          },
          "shapedefaults": {
           "line": {
            "color": "#2a3f5f"
           }
          },
          "ternary": {
           "aaxis": {
            "gridcolor": "white",
            "linecolor": "white",
            "ticks": ""
           },
           "baxis": {
            "gridcolor": "white",
            "linecolor": "white",
            "ticks": ""
           },
           "bgcolor": "#E5ECF6",
           "caxis": {
            "gridcolor": "white",
            "linecolor": "white",
            "ticks": ""
           }
          },
          "title": {
           "x": 0.05
          },
          "xaxis": {
           "automargin": true,
           "gridcolor": "white",
           "linecolor": "white",
           "ticks": "",
           "title": {
            "standoff": 15
           },
           "zerolinecolor": "white",
           "zerolinewidth": 2
          },
          "yaxis": {
           "automargin": true,
           "gridcolor": "white",
           "linecolor": "white",
           "ticks": "",
           "title": {
            "standoff": 15
           },
           "zerolinecolor": "white",
           "zerolinewidth": 2
          }
         }
        },
        "xaxis": {
         "anchor": "y",
         "domain": [
          0,
          1
         ],
         "title": {
          "text": "x"
         }
        },
        "yaxis": {
         "anchor": "x",
         "domain": [
          0,
          1
         ],
         "title": {
          "text": "y"
         }
        }
       }
      },
      "text/html": [
       "<div>\n",
       "        \n",
       "        \n",
       "            <div id=\"109f1531-8048-4f79-b7f6-ab50694d683f\" class=\"plotly-graph-div\" style=\"height:525px; width:100%;\"></div>\n",
       "            <script type=\"text/javascript\">\n",
       "                require([\"plotly\"], function(Plotly) {\n",
       "                    window.PLOTLYENV=window.PLOTLYENV || {};\n",
       "                    \n",
       "                if (document.getElementById(\"109f1531-8048-4f79-b7f6-ab50694d683f\")) {\n",
       "                    Plotly.newPlot(\n",
       "                        '109f1531-8048-4f79-b7f6-ab50694d683f',\n",
       "                        [{\"hovertemplate\": \"x=%{x}<br>y=%{y}<extra></extra>\", \"legendgroup\": \"\", \"line\": {\"color\": \"#636efa\", \"dash\": \"solid\"}, \"mode\": \"lines\", \"name\": \"\", \"orientation\": \"v\", \"showlegend\": false, \"type\": \"scatter\", \"x\": [\"08:03:00\", \"08:10:00\", \"08:11:00\", \"08:15:00\", \"08:19:00\", \"08:20:00\", \"08:26:00\", \"08:27:00\", \"08:29:00\", \"08:33:00\", \"08:34:00\", \"08:35:00\", \"08:37:00\", \"08:38:00\", \"08:43:00\", \"08:44:00\", \"08:45:00\", \"08:50:00\", \"08:51:00\", \"08:52:00\", \"08:56:00\", \"09:00:00\", \"09:04:00\", \"09:05:00\", \"09:10:00\", \"09:11:00\", \"09:13:00\", \"09:16:00\", \"09:17:00\", \"09:18:00\", \"09:20:00\", \"09:22:00\", \"09:23:00\", \"09:24:00\", \"09:26:00\", \"09:28:00\", \"09:29:00\", \"09:30:00\", \"09:31:00\", \"09:35:00\", \"09:36:00\", \"09:37:00\", \"09:40:00\", \"09:41:00\", \"09:43:00\", \"09:46:00\", \"09:48:00\", \"09:49:00\", \"09:51:00\", \"09:52:00\", \"09:54:00\", \"09:55:00\", \"09:56:00\", \"09:57:00\", \"09:58:00\", \"10:00:00\", \"10:02:00\", \"10:04:00\", \"10:05:00\", \"10:06:00\", \"10:09:00\", \"10:10:00\", \"10:12:00\", \"10:13:00\", \"10:15:00\", \"10:16:00\", \"10:17:00\", \"10:18:00\", \"10:19:00\", \"10:22:00\", \"10:24:00\", \"10:25:00\", \"10:26:00\", \"10:28:00\", \"10:29:00\", \"10:32:00\", \"10:33:00\", \"10:35:00\", \"10:36:00\", \"10:38:00\", \"10:39:00\", \"10:41:00\", \"10:42:00\", \"10:43:00\", \"10:44:00\", \"10:46:00\", \"10:47:00\", \"10:48:00\", \"10:51:00\", \"10:52:00\", \"10:53:00\", \"10:56:00\", \"10:59:00\", \"11:01:00\", \"11:03:00\", \"11:04:00\", \"11:12:00\", \"11:18:00\", \"11:19:00\", \"11:23:00\", \"11:25:00\", \"11:27:00\", \"11:30:00\", \"11:34:00\", \"11:35:00\", \"11:36:00\", \"11:37:00\", \"11:38:00\", \"11:39:00\", \"11:40:00\", \"11:46:00\", \"11:47:00\", \"11:49:00\", \"11:50:00\", \"11:52:00\", \"11:53:00\", \"11:55:00\", \"11:57:00\", \"11:59:00\", \"12:00:00\", \"12:01:00\", \"12:02:00\", \"12:04:00\", \"12:05:00\", \"12:07:00\", \"12:09:00\", \"12:10:00\", \"12:11:00\", \"12:12:00\", \"12:16:00\", \"12:21:00\", \"12:23:00\", \"12:24:00\", \"12:25:00\", \"12:26:00\", \"12:27:00\", \"12:28:00\", \"12:29:00\", \"12:30:00\", \"12:31:00\", \"12:32:00\", \"12:34:00\", \"12:36:00\", \"12:37:00\", \"12:38:00\", \"12:39:00\", \"12:40:00\", \"12:41:00\", \"12:44:00\", \"12:45:00\", \"12:46:00\", \"12:48:00\", \"12:50:00\", \"12:52:00\", \"12:53:00\", \"12:54:00\", \"12:55:00\", \"12:56:00\", \"12:57:00\", \"12:58:00\", \"13:00:00\", \"13:01:00\", \"13:02:00\", \"13:04:00\", \"13:07:00\", \"13:08:00\", \"13:10:00\", \"13:15:00\", \"13:16:00\", \"13:17:00\", \"13:18:00\", \"13:21:00\", \"13:22:00\", \"13:23:00\", \"13:26:00\", \"13:27:00\", \"13:28:00\", \"13:29:00\", \"13:30:00\", \"13:31:00\", \"13:32:00\", \"13:36:00\", \"13:37:00\", \"13:38:00\", \"13:39:00\", \"13:40:00\", \"13:41:00\", \"13:42:00\", \"13:44:00\", \"13:45:00\", \"13:46:00\", \"13:47:00\", \"13:48:00\", \"13:49:00\", \"13:50:00\", \"13:54:00\", \"13:55:00\", \"13:56:00\", \"13:57:00\", \"13:58:00\", \"13:59:00\", \"14:01:00\", \"14:02:00\", \"14:03:00\", \"14:04:00\", \"14:05:00\", \"14:06:00\", \"14:07:00\", \"14:08:00\", \"14:09:00\", \"14:13:00\", \"14:19:00\", \"14:20:00\", \"14:23:00\", \"14:26:00\", \"14:27:00\", \"14:30:00\", \"14:34:00\", \"14:36:00\", \"14:37:00\", \"14:38:00\", \"14:39:00\", \"14:40:00\", \"14:41:00\", \"14:44:00\", \"14:45:00\", \"14:46:00\", \"14:50:00\", \"14:51:00\", \"14:52:00\", \"14:53:00\", \"14:54:00\", \"14:56:00\", \"14:57:00\", \"14:59:00\", \"15:01:00\", \"15:02:00\", \"15:03:00\", \"15:04:00\", \"15:05:00\", \"15:13:00\", \"15:14:00\", \"15:15:00\", \"15:19:00\", \"15:20:00\", \"15:21:00\", \"15:22:00\", \"15:23:00\", \"15:27:00\", \"15:28:00\", \"15:30:00\", \"15:31:00\", \"15:35:00\", \"15:36:00\", \"15:38:00\", \"15:41:00\", \"15:42:00\", \"15:43:00\", \"15:45:00\", \"15:47:00\", \"15:48:00\", \"15:51:00\", \"15:52:00\", \"15:53:00\", \"15:54:00\", \"15:55:00\", \"15:58:00\", \"16:02:00\", \"16:06:00\", \"16:13:00\", \"16:20:00\", \"16:23:00\", \"16:24:00\", \"16:34:00\", \"16:39:00\", \"16:41:00\", \"17:00:00\", \"17:13:00\", \"17:14:00\", \"17:25:00\", \"17:26:00\", \"17:34:00\", \"17:39:00\", \"17:49:00\", \"17:51:00\", \"17:52:00\", \"17:59:00\", \"18:27:00\", \"18:40:00\"], \"xaxis\": \"x\", \"y\": [177, 164, 140, 137, 117, 117, 111, 103, 101, 100, 98, 97, 95, 95, 90, 89, 86, 85, 83, 83, 80, 78, 72, 69, 67, 65, 64, 64, 63, 63, 62, 61, 60, 60, 60, 59, 59, 59, 58, 58, 57, 56, 56, 55, 55, 55, 53, 52, 52, 52, 52, 51, 50, 49, 49, 47, 47, 46, 46, 45, 44, 43, 43, 42, 42, 41, 41, 41, 41, 41, 40, 39, 39, 39, 38, 38, 37, 37, 37, 37, 37, 36, 36, 36, 35, 35, 35, 35, 35, 35, 34, 34, 34, 33, 32, 32, 31, 30, 30, 30, 30, 30, 29, 29, 29, 29, 29, 29, 29, 28, 28, 28, 28, 27, 27, 27, 27, 26, 26, 26, 26, 26, 26, 26, 25, 25, 24, 24, 24, 23, 23, 23, 23, 23, 23, 23, 22, 22, 22, 21, 21, 21, 21, 21, 21, 21, 21, 21, 21, 20, 20, 20, 20, 20, 20, 20, 19, 19, 19, 19, 19, 19, 19, 19, 18, 18, 18, 18, 17, 17, 17, 17, 17, 16, 16, 16, 16, 16, 16, 16, 15, 15, 15, 15, 14, 14, 14, 14, 14, 14, 14, 14, 14, 13, 13, 13, 13, 13, 13, 13, 13, 13, 13, 13, 12, 12, 12, 12, 12, 12, 12, 12, 12, 11, 11, 11, 11, 11, 10, 10, 10, 10, 10, 10, 10, 10, 10, 10, 10, 10, 10, 9, 9, 9, 9, 9, 9, 9, 9, 9, 9, 8, 8, 8, 8, 8, 8, 8, 8, 7, 7, 7, 7, 6, 6, 6, 6, 6, 6, 6, 5, 5, 5, 5, 5, 5, 4, 4, 4, 4, 4, 4, 4, 3, 3, 3, 3, 2, 2, 2, 2, 2, 2, 1, 1, 1, 1, 1, 1], \"yaxis\": \"y\"}],\n",
       "                        {\"legend\": {\"tracegroupgap\": 0}, \"margin\": {\"t\": 60}, \"template\": {\"data\": {\"bar\": [{\"error_x\": {\"color\": \"#2a3f5f\"}, \"error_y\": {\"color\": \"#2a3f5f\"}, \"marker\": {\"line\": {\"color\": \"#E5ECF6\", \"width\": 0.5}}, \"type\": \"bar\"}], \"barpolar\": [{\"marker\": {\"line\": {\"color\": \"#E5ECF6\", \"width\": 0.5}}, \"type\": \"barpolar\"}], \"carpet\": [{\"aaxis\": {\"endlinecolor\": \"#2a3f5f\", \"gridcolor\": \"white\", \"linecolor\": \"white\", \"minorgridcolor\": \"white\", \"startlinecolor\": \"#2a3f5f\"}, \"baxis\": {\"endlinecolor\": \"#2a3f5f\", \"gridcolor\": \"white\", \"linecolor\": \"white\", \"minorgridcolor\": \"white\", \"startlinecolor\": \"#2a3f5f\"}, \"type\": \"carpet\"}], \"choropleth\": [{\"colorbar\": {\"outlinewidth\": 0, \"ticks\": \"\"}, \"type\": \"choropleth\"}], \"contour\": [{\"colorbar\": {\"outlinewidth\": 0, \"ticks\": \"\"}, \"colorscale\": [[0.0, \"#0d0887\"], [0.1111111111111111, \"#46039f\"], [0.2222222222222222, \"#7201a8\"], [0.3333333333333333, \"#9c179e\"], [0.4444444444444444, \"#bd3786\"], [0.5555555555555556, \"#d8576b\"], [0.6666666666666666, \"#ed7953\"], [0.7777777777777778, \"#fb9f3a\"], [0.8888888888888888, \"#fdca26\"], [1.0, \"#f0f921\"]], \"type\": \"contour\"}], \"contourcarpet\": [{\"colorbar\": {\"outlinewidth\": 0, \"ticks\": \"\"}, \"type\": \"contourcarpet\"}], \"heatmap\": [{\"colorbar\": {\"outlinewidth\": 0, \"ticks\": \"\"}, \"colorscale\": [[0.0, \"#0d0887\"], [0.1111111111111111, \"#46039f\"], [0.2222222222222222, \"#7201a8\"], [0.3333333333333333, \"#9c179e\"], [0.4444444444444444, \"#bd3786\"], [0.5555555555555556, \"#d8576b\"], [0.6666666666666666, \"#ed7953\"], [0.7777777777777778, \"#fb9f3a\"], [0.8888888888888888, \"#fdca26\"], [1.0, \"#f0f921\"]], \"type\": \"heatmap\"}], \"heatmapgl\": [{\"colorbar\": {\"outlinewidth\": 0, \"ticks\": \"\"}, \"colorscale\": [[0.0, \"#0d0887\"], [0.1111111111111111, \"#46039f\"], [0.2222222222222222, \"#7201a8\"], [0.3333333333333333, \"#9c179e\"], [0.4444444444444444, \"#bd3786\"], [0.5555555555555556, \"#d8576b\"], [0.6666666666666666, \"#ed7953\"], [0.7777777777777778, \"#fb9f3a\"], [0.8888888888888888, \"#fdca26\"], [1.0, \"#f0f921\"]], \"type\": \"heatmapgl\"}], \"histogram\": [{\"marker\": {\"colorbar\": {\"outlinewidth\": 0, \"ticks\": \"\"}}, \"type\": \"histogram\"}], \"histogram2d\": [{\"colorbar\": {\"outlinewidth\": 0, \"ticks\": \"\"}, \"colorscale\": [[0.0, \"#0d0887\"], [0.1111111111111111, \"#46039f\"], [0.2222222222222222, \"#7201a8\"], [0.3333333333333333, \"#9c179e\"], [0.4444444444444444, \"#bd3786\"], [0.5555555555555556, \"#d8576b\"], [0.6666666666666666, \"#ed7953\"], [0.7777777777777778, \"#fb9f3a\"], [0.8888888888888888, \"#fdca26\"], [1.0, \"#f0f921\"]], \"type\": \"histogram2d\"}], \"histogram2dcontour\": [{\"colorbar\": {\"outlinewidth\": 0, \"ticks\": \"\"}, \"colorscale\": [[0.0, \"#0d0887\"], [0.1111111111111111, \"#46039f\"], [0.2222222222222222, \"#7201a8\"], [0.3333333333333333, \"#9c179e\"], [0.4444444444444444, \"#bd3786\"], [0.5555555555555556, \"#d8576b\"], [0.6666666666666666, \"#ed7953\"], [0.7777777777777778, \"#fb9f3a\"], [0.8888888888888888, \"#fdca26\"], [1.0, \"#f0f921\"]], \"type\": \"histogram2dcontour\"}], \"mesh3d\": [{\"colorbar\": {\"outlinewidth\": 0, \"ticks\": \"\"}, \"type\": \"mesh3d\"}], \"parcoords\": [{\"line\": {\"colorbar\": {\"outlinewidth\": 0, \"ticks\": \"\"}}, \"type\": \"parcoords\"}], \"pie\": [{\"automargin\": true, \"type\": \"pie\"}], \"scatter\": [{\"marker\": {\"colorbar\": {\"outlinewidth\": 0, \"ticks\": \"\"}}, \"type\": \"scatter\"}], \"scatter3d\": [{\"line\": {\"colorbar\": {\"outlinewidth\": 0, \"ticks\": \"\"}}, \"marker\": {\"colorbar\": {\"outlinewidth\": 0, \"ticks\": \"\"}}, \"type\": \"scatter3d\"}], \"scattercarpet\": [{\"marker\": {\"colorbar\": {\"outlinewidth\": 0, \"ticks\": \"\"}}, \"type\": \"scattercarpet\"}], \"scattergeo\": [{\"marker\": {\"colorbar\": {\"outlinewidth\": 0, \"ticks\": \"\"}}, \"type\": \"scattergeo\"}], \"scattergl\": [{\"marker\": {\"colorbar\": {\"outlinewidth\": 0, \"ticks\": \"\"}}, \"type\": \"scattergl\"}], \"scattermapbox\": [{\"marker\": {\"colorbar\": {\"outlinewidth\": 0, \"ticks\": \"\"}}, \"type\": \"scattermapbox\"}], \"scatterpolar\": [{\"marker\": {\"colorbar\": {\"outlinewidth\": 0, \"ticks\": \"\"}}, \"type\": \"scatterpolar\"}], \"scatterpolargl\": [{\"marker\": {\"colorbar\": {\"outlinewidth\": 0, \"ticks\": \"\"}}, \"type\": \"scatterpolargl\"}], \"scatterternary\": [{\"marker\": {\"colorbar\": {\"outlinewidth\": 0, \"ticks\": \"\"}}, \"type\": \"scatterternary\"}], \"surface\": [{\"colorbar\": {\"outlinewidth\": 0, \"ticks\": \"\"}, \"colorscale\": [[0.0, \"#0d0887\"], [0.1111111111111111, \"#46039f\"], [0.2222222222222222, \"#7201a8\"], [0.3333333333333333, \"#9c179e\"], [0.4444444444444444, \"#bd3786\"], [0.5555555555555556, \"#d8576b\"], [0.6666666666666666, \"#ed7953\"], [0.7777777777777778, \"#fb9f3a\"], [0.8888888888888888, \"#fdca26\"], [1.0, \"#f0f921\"]], \"type\": \"surface\"}], \"table\": [{\"cells\": {\"fill\": {\"color\": \"#EBF0F8\"}, \"line\": {\"color\": \"white\"}}, \"header\": {\"fill\": {\"color\": \"#C8D4E3\"}, \"line\": {\"color\": \"white\"}}, \"type\": \"table\"}]}, \"layout\": {\"annotationdefaults\": {\"arrowcolor\": \"#2a3f5f\", \"arrowhead\": 0, \"arrowwidth\": 1}, \"coloraxis\": {\"colorbar\": {\"outlinewidth\": 0, \"ticks\": \"\"}}, \"colorscale\": {\"diverging\": [[0, \"#8e0152\"], [0.1, \"#c51b7d\"], [0.2, \"#de77ae\"], [0.3, \"#f1b6da\"], [0.4, \"#fde0ef\"], [0.5, \"#f7f7f7\"], [0.6, \"#e6f5d0\"], [0.7, \"#b8e186\"], [0.8, \"#7fbc41\"], [0.9, \"#4d9221\"], [1, \"#276419\"]], \"sequential\": [[0.0, \"#0d0887\"], [0.1111111111111111, \"#46039f\"], [0.2222222222222222, \"#7201a8\"], [0.3333333333333333, \"#9c179e\"], [0.4444444444444444, \"#bd3786\"], [0.5555555555555556, \"#d8576b\"], [0.6666666666666666, \"#ed7953\"], [0.7777777777777778, \"#fb9f3a\"], [0.8888888888888888, \"#fdca26\"], [1.0, \"#f0f921\"]], \"sequentialminus\": [[0.0, \"#0d0887\"], [0.1111111111111111, \"#46039f\"], [0.2222222222222222, \"#7201a8\"], [0.3333333333333333, \"#9c179e\"], [0.4444444444444444, \"#bd3786\"], [0.5555555555555556, \"#d8576b\"], [0.6666666666666666, \"#ed7953\"], [0.7777777777777778, \"#fb9f3a\"], [0.8888888888888888, \"#fdca26\"], [1.0, \"#f0f921\"]]}, \"colorway\": [\"#636efa\", \"#EF553B\", \"#00cc96\", \"#ab63fa\", \"#FFA15A\", \"#19d3f3\", \"#FF6692\", \"#B6E880\", \"#FF97FF\", \"#FECB52\"], \"font\": {\"color\": \"#2a3f5f\"}, \"geo\": {\"bgcolor\": \"white\", \"lakecolor\": \"white\", \"landcolor\": \"#E5ECF6\", \"showlakes\": true, \"showland\": true, \"subunitcolor\": \"white\"}, \"hoverlabel\": {\"align\": \"left\"}, \"hovermode\": \"closest\", \"mapbox\": {\"style\": \"light\"}, \"paper_bgcolor\": \"white\", \"plot_bgcolor\": \"#E5ECF6\", \"polar\": {\"angularaxis\": {\"gridcolor\": \"white\", \"linecolor\": \"white\", \"ticks\": \"\"}, \"bgcolor\": \"#E5ECF6\", \"radialaxis\": {\"gridcolor\": \"white\", \"linecolor\": \"white\", \"ticks\": \"\"}}, \"scene\": {\"xaxis\": {\"backgroundcolor\": \"#E5ECF6\", \"gridcolor\": \"white\", \"gridwidth\": 2, \"linecolor\": \"white\", \"showbackground\": true, \"ticks\": \"\", \"zerolinecolor\": \"white\"}, \"yaxis\": {\"backgroundcolor\": \"#E5ECF6\", \"gridcolor\": \"white\", \"gridwidth\": 2, \"linecolor\": \"white\", \"showbackground\": true, \"ticks\": \"\", \"zerolinecolor\": \"white\"}, \"zaxis\": {\"backgroundcolor\": \"#E5ECF6\", \"gridcolor\": \"white\", \"gridwidth\": 2, \"linecolor\": \"white\", \"showbackground\": true, \"ticks\": \"\", \"zerolinecolor\": \"white\"}}, \"shapedefaults\": {\"line\": {\"color\": \"#2a3f5f\"}}, \"ternary\": {\"aaxis\": {\"gridcolor\": \"white\", \"linecolor\": \"white\", \"ticks\": \"\"}, \"baxis\": {\"gridcolor\": \"white\", \"linecolor\": \"white\", \"ticks\": \"\"}, \"bgcolor\": \"#E5ECF6\", \"caxis\": {\"gridcolor\": \"white\", \"linecolor\": \"white\", \"ticks\": \"\"}}, \"title\": {\"x\": 0.05}, \"xaxis\": {\"automargin\": true, \"gridcolor\": \"white\", \"linecolor\": \"white\", \"ticks\": \"\", \"title\": {\"standoff\": 15}, \"zerolinecolor\": \"white\", \"zerolinewidth\": 2}, \"yaxis\": {\"automargin\": true, \"gridcolor\": \"white\", \"linecolor\": \"white\", \"ticks\": \"\", \"title\": {\"standoff\": 15}, \"zerolinecolor\": \"white\", \"zerolinewidth\": 2}}}, \"xaxis\": {\"anchor\": \"y\", \"domain\": [0.0, 1.0], \"title\": {\"text\": \"x\"}}, \"yaxis\": {\"anchor\": \"x\", \"domain\": [0.0, 1.0], \"title\": {\"text\": \"y\"}}},\n",
       "                        {\"responsive\": true}\n",
       "                    ).then(function(){\n",
       "                            \n",
       "var gd = document.getElementById('109f1531-8048-4f79-b7f6-ab50694d683f');\n",
       "var x = new MutationObserver(function (mutations, observer) {{\n",
       "        var display = window.getComputedStyle(gd).display;\n",
       "        if (!display || display === 'none') {{\n",
       "            console.log([gd, 'removed!']);\n",
       "            Plotly.purge(gd);\n",
       "            observer.disconnect();\n",
       "        }}\n",
       "}});\n",
       "\n",
       "// Listen for the removal of the full notebook cells\n",
       "var notebookContainer = gd.closest('#notebook-container');\n",
       "if (notebookContainer) {{\n",
       "    x.observe(notebookContainer, {childList: true});\n",
       "}}\n",
       "\n",
       "// Listen for the clearing of the current output cell\n",
       "var outputEl = gd.closest('.output');\n",
       "if (outputEl) {{\n",
       "    x.observe(outputEl, {childList: true});\n",
       "}}\n",
       "\n",
       "                        })\n",
       "                };\n",
       "                });\n",
       "            </script>\n",
       "        </div>"
      ]
     },
     "metadata": {},
     "output_type": "display_data"
    }
   ],
   "source": [
    "time_series = pd.DataFrame(germany['InvoiceTime'].sort_values().value_counts().reset_index())\n",
    "time_series.columns = ['date', 'count']\n",
    "\n",
    "x_ = time_series['date']\n",
    "y_ = time_series['count'].tolist()\n",
    "fig = px.line(germany, x = x_.sort_values(), y=y_)\n",
    "fig.show()"
   ]
  },
  {
   "cell_type": "code",
   "execution_count": 1123,
   "metadata": {},
   "outputs": [
    {
     "data": {
      "text/html": [
       "<div>\n",
       "<style scoped>\n",
       "    .dataframe tbody tr th:only-of-type {\n",
       "        vertical-align: middle;\n",
       "    }\n",
       "\n",
       "    .dataframe tbody tr th {\n",
       "        vertical-align: top;\n",
       "    }\n",
       "\n",
       "    .dataframe thead th {\n",
       "        text-align: right;\n",
       "    }\n",
       "</style>\n",
       "<table border=\"1\" class=\"dataframe\">\n",
       "  <thead>\n",
       "    <tr style=\"text-align: right;\">\n",
       "      <th></th>\n",
       "      <th>StockCode</th>\n",
       "      <th>Quantity</th>\n",
       "      <th>InvoiceDate</th>\n",
       "      <th>UnitPrice</th>\n",
       "      <th>CustomerID</th>\n",
       "      <th>Country</th>\n",
       "      <th>total</th>\n",
       "      <th>Frequency</th>\n",
       "      <th>InvoiceTime</th>\n",
       "      <th>InvoiceDay</th>\n",
       "    </tr>\n",
       "  </thead>\n",
       "  <tbody>\n",
       "    <tr>\n",
       "      <th>0</th>\n",
       "      <td>10000</td>\n",
       "      <td>1</td>\n",
       "      <td>2011-04-18 10:28:00</td>\n",
       "      <td>222.75</td>\n",
       "      <td>13811.0</td>\n",
       "      <td>Germany</td>\n",
       "      <td>222.75</td>\n",
       "      <td>0</td>\n",
       "      <td>10:28:00</td>\n",
       "      <td>0</td>\n",
       "    </tr>\n",
       "    <tr>\n",
       "      <th>1</th>\n",
       "      <td>10000</td>\n",
       "      <td>1</td>\n",
       "      <td>2011-07-04 11:59:00</td>\n",
       "      <td>30.00</td>\n",
       "      <td>12471.0</td>\n",
       "      <td>Germany</td>\n",
       "      <td>30.00</td>\n",
       "      <td>4</td>\n",
       "      <td>11:59:00</td>\n",
       "      <td>0</td>\n",
       "    </tr>\n",
       "    <tr>\n",
       "      <th>2</th>\n",
       "      <td>10000</td>\n",
       "      <td>1</td>\n",
       "      <td>2011-07-04 15:54:00</td>\n",
       "      <td>389.68</td>\n",
       "      <td>12619.0</td>\n",
       "      <td>Germany</td>\n",
       "      <td>389.68</td>\n",
       "      <td>1</td>\n",
       "      <td>15:54:00</td>\n",
       "      <td>0</td>\n",
       "    </tr>\n",
       "  </tbody>\n",
       "</table>\n",
       "</div>"
      ],
      "text/plain": [
       "   StockCode  Quantity         InvoiceDate  UnitPrice  CustomerID  Country  \\\n",
       "0      10000         1 2011-04-18 10:28:00     222.75     13811.0  Germany   \n",
       "1      10000         1 2011-07-04 11:59:00      30.00     12471.0  Germany   \n",
       "2      10000         1 2011-07-04 15:54:00     389.68     12619.0  Germany   \n",
       "\n",
       "    total  Frequency InvoiceTime  InvoiceDay  \n",
       "0  222.75          0    10:28:00           0  \n",
       "1   30.00          4    11:59:00           0  \n",
       "2  389.68          1    15:54:00           0  "
      ]
     },
     "execution_count": 1123,
     "metadata": {},
     "output_type": "execute_result"
    }
   ],
   "source": [
    "germany.head(3)"
   ]
  },
  {
   "cell_type": "code",
   "execution_count": 1124,
   "metadata": {},
   "outputs": [
    {
     "name": "stdout",
     "output_type": "stream",
     "text": [
      "2911    08:03:00\n",
      "1501    08:03:00\n",
      "4129    08:03:00\n",
      "677     08:03:00\n",
      "675     08:03:00\n",
      "          ...   \n",
      "2523    18:40:00\n",
      "2514    18:40:00\n",
      "2538    18:40:00\n",
      "2503    18:40:00\n",
      "2529    18:40:00\n",
      "Name: InvoiceDate, Length: 8668, dtype: object\n",
      "23:00:00\n"
     ]
    }
   ],
   "source": [
    "import datetime\n",
    "a = germany['InvoiceDate'].dt.time.sort_values()\n",
    "\n",
    "print(a)\n",
    "print(datetime.time(23,0))"
   ]
  },
  {
   "cell_type": "code",
   "execution_count": 1125,
   "metadata": {},
   "outputs": [
    {
     "data": {
      "text/html": [
       "<div>\n",
       "<style scoped>\n",
       "    .dataframe tbody tr th:only-of-type {\n",
       "        vertical-align: middle;\n",
       "    }\n",
       "\n",
       "    .dataframe tbody tr th {\n",
       "        vertical-align: top;\n",
       "    }\n",
       "\n",
       "    .dataframe thead th {\n",
       "        text-align: right;\n",
       "    }\n",
       "</style>\n",
       "<table border=\"1\" class=\"dataframe\">\n",
       "  <thead>\n",
       "    <tr style=\"text-align: right;\">\n",
       "      <th></th>\n",
       "      <th>StockCode</th>\n",
       "      <th>Quantity</th>\n",
       "      <th>InvoiceDate</th>\n",
       "      <th>UnitPrice</th>\n",
       "      <th>CustomerID</th>\n",
       "      <th>Country</th>\n",
       "      <th>total</th>\n",
       "      <th>Frequency</th>\n",
       "      <th>InvoiceTime</th>\n",
       "      <th>InvoiceDay</th>\n",
       "      <th>timeC</th>\n",
       "    </tr>\n",
       "  </thead>\n",
       "  <tbody>\n",
       "    <tr>\n",
       "      <th>0</th>\n",
       "      <td>10000</td>\n",
       "      <td>1</td>\n",
       "      <td>2011-04-18 10:28:00</td>\n",
       "      <td>222.75</td>\n",
       "      <td>13811.0</td>\n",
       "      <td>Germany</td>\n",
       "      <td>222.75</td>\n",
       "      <td>0</td>\n",
       "      <td>10:28:00</td>\n",
       "      <td>0</td>\n",
       "      <td>0.0</td>\n",
       "    </tr>\n",
       "    <tr>\n",
       "      <th>1</th>\n",
       "      <td>10000</td>\n",
       "      <td>1</td>\n",
       "      <td>2011-07-04 11:59:00</td>\n",
       "      <td>30.00</td>\n",
       "      <td>12471.0</td>\n",
       "      <td>Germany</td>\n",
       "      <td>30.00</td>\n",
       "      <td>4</td>\n",
       "      <td>11:59:00</td>\n",
       "      <td>0</td>\n",
       "      <td>0.0</td>\n",
       "    </tr>\n",
       "    <tr>\n",
       "      <th>2</th>\n",
       "      <td>10000</td>\n",
       "      <td>1</td>\n",
       "      <td>2011-07-04 15:54:00</td>\n",
       "      <td>389.68</td>\n",
       "      <td>12619.0</td>\n",
       "      <td>Germany</td>\n",
       "      <td>389.68</td>\n",
       "      <td>1</td>\n",
       "      <td>15:54:00</td>\n",
       "      <td>0</td>\n",
       "      <td>0.0</td>\n",
       "    </tr>\n",
       "    <tr>\n",
       "      <th>3</th>\n",
       "      <td>10000</td>\n",
       "      <td>1</td>\n",
       "      <td>2011-10-14 13:36:00</td>\n",
       "      <td>599.50</td>\n",
       "      <td>13810.0</td>\n",
       "      <td>Germany</td>\n",
       "      <td>599.50</td>\n",
       "      <td>0</td>\n",
       "      <td>13:36:00</td>\n",
       "      <td>4</td>\n",
       "      <td>0.0</td>\n",
       "    </tr>\n",
       "    <tr>\n",
       "      <th>4</th>\n",
       "      <td>10000</td>\n",
       "      <td>1</td>\n",
       "      <td>2011-11-10 13:44:00</td>\n",
       "      <td>40.46</td>\n",
       "      <td>12473.0</td>\n",
       "      <td>Germany</td>\n",
       "      <td>40.46</td>\n",
       "      <td>3</td>\n",
       "      <td>13:44:00</td>\n",
       "      <td>3</td>\n",
       "      <td>0.0</td>\n",
       "    </tr>\n",
       "  </tbody>\n",
       "</table>\n",
       "</div>"
      ],
      "text/plain": [
       "   StockCode  Quantity         InvoiceDate  UnitPrice  CustomerID  Country  \\\n",
       "0      10000         1 2011-04-18 10:28:00     222.75     13811.0  Germany   \n",
       "1      10000         1 2011-07-04 11:59:00      30.00     12471.0  Germany   \n",
       "2      10000         1 2011-07-04 15:54:00     389.68     12619.0  Germany   \n",
       "3      10000         1 2011-10-14 13:36:00     599.50     13810.0  Germany   \n",
       "4      10000         1 2011-11-10 13:44:00      40.46     12473.0  Germany   \n",
       "\n",
       "    total  Frequency InvoiceTime  InvoiceDay  timeC  \n",
       "0  222.75          0    10:28:00           0    0.0  \n",
       "1   30.00          4    11:59:00           0    0.0  \n",
       "2  389.68          1    15:54:00           0    0.0  \n",
       "3  599.50          0    13:36:00           4    0.0  \n",
       "4   40.46          3    13:44:00           3    0.0  "
      ]
     },
     "execution_count": 1125,
     "metadata": {},
     "output_type": "execute_result"
    }
   ],
   "source": [
    "germany['timeC'] = np.zeros(len(germany))\n",
    "germany.head()"
   ]
  },
  {
   "cell_type": "code",
   "execution_count": 1126,
   "metadata": {},
   "outputs": [],
   "source": [
    "# 주중 오전\n",
    "germany.loc[(germany['InvoiceDate'].dt.time < datetime.time(12,0)) & (germany['InvoiceDay'] < 5),'timeC'] = 0\n",
    "# 주중 오후\n",
    "germany.loc[(germany['InvoiceDate'].dt.time > datetime.time(12,0)) & (germany['InvoiceDay'] < 5),'timeC'] = 1\n",
    "# 주말 오전\n",
    "germany.loc[(germany['InvoiceDate'].dt.time < datetime.time(12,0)) & (germany['InvoiceDay'] > 5),'timeC'] = 2\n",
    "# 주말 오후\n",
    "germany.loc[(germany['InvoiceDate'].dt.time > datetime.time(12,0)) & (germany['InvoiceDay'] > 5),'timeC'] = 3"
   ]
  },
  {
   "cell_type": "code",
   "execution_count": 1127,
   "metadata": {},
   "outputs": [
    {
     "data": {
      "text/plain": [
       "1.0    4673\n",
       "0.0    3259\n",
       "3.0     559\n",
       "2.0     177\n",
       "Name: timeC, dtype: int64"
      ]
     },
     "execution_count": 1127,
     "metadata": {},
     "output_type": "execute_result"
    }
   ],
   "source": [
    "germany['timeC'].value_counts()"
   ]
  },
  {
   "cell_type": "code",
   "execution_count": 1128,
   "metadata": {},
   "outputs": [
    {
     "data": {
      "text/html": [
       "<div>\n",
       "<style scoped>\n",
       "    .dataframe tbody tr th:only-of-type {\n",
       "        vertical-align: middle;\n",
       "    }\n",
       "\n",
       "    .dataframe tbody tr th {\n",
       "        vertical-align: top;\n",
       "    }\n",
       "\n",
       "    .dataframe thead th {\n",
       "        text-align: right;\n",
       "    }\n",
       "</style>\n",
       "<table border=\"1\" class=\"dataframe\">\n",
       "  <thead>\n",
       "    <tr style=\"text-align: right;\">\n",
       "      <th></th>\n",
       "      <th>StockCode</th>\n",
       "      <th>Quantity</th>\n",
       "      <th>InvoiceDate</th>\n",
       "      <th>UnitPrice</th>\n",
       "      <th>CustomerID</th>\n",
       "      <th>Country</th>\n",
       "      <th>total</th>\n",
       "      <th>Frequency</th>\n",
       "      <th>InvoiceTime</th>\n",
       "      <th>InvoiceDay</th>\n",
       "      <th>timeC</th>\n",
       "    </tr>\n",
       "  </thead>\n",
       "  <tbody>\n",
       "    <tr>\n",
       "      <th>0</th>\n",
       "      <td>10000</td>\n",
       "      <td>1</td>\n",
       "      <td>2011-04-18 10:28:00</td>\n",
       "      <td>222.75</td>\n",
       "      <td>13811.0</td>\n",
       "      <td>Germany</td>\n",
       "      <td>222.75</td>\n",
       "      <td>0</td>\n",
       "      <td>10:28:00</td>\n",
       "      <td>0</td>\n",
       "      <td>0.0</td>\n",
       "    </tr>\n",
       "    <tr>\n",
       "      <th>1</th>\n",
       "      <td>10000</td>\n",
       "      <td>1</td>\n",
       "      <td>2011-07-04 11:59:00</td>\n",
       "      <td>30.00</td>\n",
       "      <td>12471.0</td>\n",
       "      <td>Germany</td>\n",
       "      <td>30.00</td>\n",
       "      <td>4</td>\n",
       "      <td>11:59:00</td>\n",
       "      <td>0</td>\n",
       "      <td>0.0</td>\n",
       "    </tr>\n",
       "    <tr>\n",
       "      <th>2</th>\n",
       "      <td>10000</td>\n",
       "      <td>1</td>\n",
       "      <td>2011-07-04 15:54:00</td>\n",
       "      <td>389.68</td>\n",
       "      <td>12619.0</td>\n",
       "      <td>Germany</td>\n",
       "      <td>389.68</td>\n",
       "      <td>1</td>\n",
       "      <td>15:54:00</td>\n",
       "      <td>0</td>\n",
       "      <td>1.0</td>\n",
       "    </tr>\n",
       "    <tr>\n",
       "      <th>3</th>\n",
       "      <td>10000</td>\n",
       "      <td>1</td>\n",
       "      <td>2011-10-14 13:36:00</td>\n",
       "      <td>599.50</td>\n",
       "      <td>13810.0</td>\n",
       "      <td>Germany</td>\n",
       "      <td>599.50</td>\n",
       "      <td>0</td>\n",
       "      <td>13:36:00</td>\n",
       "      <td>4</td>\n",
       "      <td>1.0</td>\n",
       "    </tr>\n",
       "    <tr>\n",
       "      <th>4</th>\n",
       "      <td>10000</td>\n",
       "      <td>1</td>\n",
       "      <td>2011-11-10 13:44:00</td>\n",
       "      <td>40.46</td>\n",
       "      <td>12473.0</td>\n",
       "      <td>Germany</td>\n",
       "      <td>40.46</td>\n",
       "      <td>3</td>\n",
       "      <td>13:44:00</td>\n",
       "      <td>3</td>\n",
       "      <td>1.0</td>\n",
       "    </tr>\n",
       "  </tbody>\n",
       "</table>\n",
       "</div>"
      ],
      "text/plain": [
       "   StockCode  Quantity         InvoiceDate  UnitPrice  CustomerID  Country  \\\n",
       "0      10000         1 2011-04-18 10:28:00     222.75     13811.0  Germany   \n",
       "1      10000         1 2011-07-04 11:59:00      30.00     12471.0  Germany   \n",
       "2      10000         1 2011-07-04 15:54:00     389.68     12619.0  Germany   \n",
       "3      10000         1 2011-10-14 13:36:00     599.50     13810.0  Germany   \n",
       "4      10000         1 2011-11-10 13:44:00      40.46     12473.0  Germany   \n",
       "\n",
       "    total  Frequency InvoiceTime  InvoiceDay  timeC  \n",
       "0  222.75          0    10:28:00           0    0.0  \n",
       "1   30.00          4    11:59:00           0    0.0  \n",
       "2  389.68          1    15:54:00           0    1.0  \n",
       "3  599.50          0    13:36:00           4    1.0  \n",
       "4   40.46          3    13:44:00           3    1.0  "
      ]
     },
     "execution_count": 1128,
     "metadata": {},
     "output_type": "execute_result"
    }
   ],
   "source": [
    "germany.head()"
   ]
  },
  {
   "cell_type": "markdown",
   "metadata": {},
   "source": [
    "###### total price "
   ]
  },
  {
   "cell_type": "code",
   "execution_count": 1129,
   "metadata": {},
   "outputs": [],
   "source": [
    "germany['TotalInvoice'] = germany['Quantity'] * germany['UnitPrice']"
   ]
  },
  {
   "cell_type": "code",
   "execution_count": 1304,
   "metadata": {},
   "outputs": [],
   "source": [
    "germany = germany.drop(germany[germany['StockCode'] == 10000].index)"
   ]
  },
  {
   "cell_type": "code",
   "execution_count": 1305,
   "metadata": {},
   "outputs": [
    {
     "data": {
      "text/html": [
       "<div>\n",
       "<style scoped>\n",
       "    .dataframe tbody tr th:only-of-type {\n",
       "        vertical-align: middle;\n",
       "    }\n",
       "\n",
       "    .dataframe tbody tr th {\n",
       "        vertical-align: top;\n",
       "    }\n",
       "\n",
       "    .dataframe thead th {\n",
       "        text-align: right;\n",
       "    }\n",
       "</style>\n",
       "<table border=\"1\" class=\"dataframe\">\n",
       "  <thead>\n",
       "    <tr style=\"text-align: right;\">\n",
       "      <th></th>\n",
       "      <th>StockCode</th>\n",
       "      <th>Quantity</th>\n",
       "      <th>InvoiceDate</th>\n",
       "      <th>UnitPrice</th>\n",
       "      <th>CustomerID</th>\n",
       "      <th>Country</th>\n",
       "      <th>total</th>\n",
       "      <th>Frequency</th>\n",
       "      <th>InvoiceTime</th>\n",
       "      <th>InvoiceDay</th>\n",
       "      <th>timeC</th>\n",
       "      <th>TotalInvoice</th>\n",
       "    </tr>\n",
       "  </thead>\n",
       "  <tbody>\n",
       "    <tr>\n",
       "      <th>9</th>\n",
       "      <td>90202</td>\n",
       "      <td>6</td>\n",
       "      <td>2011-05-19 12:24:00</td>\n",
       "      <td>2.95</td>\n",
       "      <td>12524.0</td>\n",
       "      <td>Germany</td>\n",
       "      <td>17.7</td>\n",
       "      <td>2</td>\n",
       "      <td>12:24:00</td>\n",
       "      <td>3</td>\n",
       "      <td>1.0</td>\n",
       "      <td>17.7</td>\n",
       "    </tr>\n",
       "    <tr>\n",
       "      <th>10</th>\n",
       "      <td>90201</td>\n",
       "      <td>18</td>\n",
       "      <td>2011-09-26 15:35:00</td>\n",
       "      <td>2.95</td>\n",
       "      <td>12612.0</td>\n",
       "      <td>Germany</td>\n",
       "      <td>53.1</td>\n",
       "      <td>0</td>\n",
       "      <td>15:35:00</td>\n",
       "      <td>0</td>\n",
       "      <td>1.0</td>\n",
       "      <td>53.1</td>\n",
       "    </tr>\n",
       "    <tr>\n",
       "      <th>11</th>\n",
       "      <td>90201</td>\n",
       "      <td>12</td>\n",
       "      <td>2011-09-26 15:35:00</td>\n",
       "      <td>2.95</td>\n",
       "      <td>12612.0</td>\n",
       "      <td>Germany</td>\n",
       "      <td>35.4</td>\n",
       "      <td>0</td>\n",
       "      <td>15:35:00</td>\n",
       "      <td>0</td>\n",
       "      <td>1.0</td>\n",
       "      <td>35.4</td>\n",
       "    </tr>\n",
       "    <tr>\n",
       "      <th>12</th>\n",
       "      <td>90201</td>\n",
       "      <td>18</td>\n",
       "      <td>2011-09-26 15:35:00</td>\n",
       "      <td>2.95</td>\n",
       "      <td>12612.0</td>\n",
       "      <td>Germany</td>\n",
       "      <td>53.1</td>\n",
       "      <td>0</td>\n",
       "      <td>15:35:00</td>\n",
       "      <td>0</td>\n",
       "      <td>1.0</td>\n",
       "      <td>53.1</td>\n",
       "    </tr>\n",
       "    <tr>\n",
       "      <th>13</th>\n",
       "      <td>90201</td>\n",
       "      <td>18</td>\n",
       "      <td>2011-09-26 15:35:00</td>\n",
       "      <td>2.95</td>\n",
       "      <td>12612.0</td>\n",
       "      <td>Germany</td>\n",
       "      <td>53.1</td>\n",
       "      <td>0</td>\n",
       "      <td>15:35:00</td>\n",
       "      <td>0</td>\n",
       "      <td>1.0</td>\n",
       "      <td>53.1</td>\n",
       "    </tr>\n",
       "  </tbody>\n",
       "</table>\n",
       "</div>"
      ],
      "text/plain": [
       "    StockCode  Quantity         InvoiceDate  UnitPrice  CustomerID  Country  \\\n",
       "9       90202         6 2011-05-19 12:24:00       2.95     12524.0  Germany   \n",
       "10      90201        18 2011-09-26 15:35:00       2.95     12612.0  Germany   \n",
       "11      90201        12 2011-09-26 15:35:00       2.95     12612.0  Germany   \n",
       "12      90201        18 2011-09-26 15:35:00       2.95     12612.0  Germany   \n",
       "13      90201        18 2011-09-26 15:35:00       2.95     12612.0  Germany   \n",
       "\n",
       "    total  Frequency InvoiceTime  InvoiceDay  timeC  TotalInvoice  \n",
       "9    17.7          2    12:24:00           3    1.0          17.7  \n",
       "10   53.1          0    15:35:00           0    1.0          53.1  \n",
       "11   35.4          0    15:35:00           0    1.0          35.4  \n",
       "12   53.1          0    15:35:00           0    1.0          53.1  \n",
       "13   53.1          0    15:35:00           0    1.0          53.1  "
      ]
     },
     "execution_count": 1305,
     "metadata": {},
     "output_type": "execute_result"
    }
   ],
   "source": [
    "germany.head()\n"
   ]
  },
  {
   "cell_type": "code",
   "execution_count": 1620,
   "metadata": {},
   "outputs": [],
   "source": [
    "# data = germany[['StockCode', 'TotalInvoice', 'Frequency', 'timeC']]\n",
    "data = germany[['StockCode', 'TotalInvoice', 'Frequency', 'InvoiceDay']]"
   ]
  },
  {
   "cell_type": "code",
   "execution_count": 1621,
   "metadata": {},
   "outputs": [
    {
     "name": "stdout",
     "output_type": "stream",
     "text": [
      "<class 'pandas.core.frame.DataFrame'>\n",
      "Int64Index: 8659 entries, 9 to 8667\n",
      "Data columns (total 4 columns):\n",
      " #   Column        Non-Null Count  Dtype  \n",
      "---  ------        --------------  -----  \n",
      " 0   StockCode     8659 non-null   int64  \n",
      " 1   TotalInvoice  8659 non-null   float64\n",
      " 2   Frequency     8659 non-null   int64  \n",
      " 3   InvoiceDay    8659 non-null   int64  \n",
      "dtypes: float64(1), int64(3)\n",
      "memory usage: 658.2 KB\n"
     ]
    }
   ],
   "source": [
    "data.info()"
   ]
  },
  {
   "cell_type": "markdown",
   "metadata": {},
   "source": [
    "###### 스케일링 "
   ]
  },
  {
   "cell_type": "code",
   "execution_count": 1622,
   "metadata": {},
   "outputs": [],
   "source": [
    "from sklearn.preprocessing import StandardScaler, MinMaxScaler"
   ]
  },
  {
   "cell_type": "code",
   "execution_count": 1623,
   "metadata": {},
   "outputs": [],
   "source": [
    "scaler = StandardScaler()"
   ]
  },
  {
   "cell_type": "code",
   "execution_count": 1624,
   "metadata": {},
   "outputs": [],
   "source": [
    "scaler.fit(data)\n",
    "data_scaled = scaler.transform(data)"
   ]
  },
  {
   "cell_type": "markdown",
   "metadata": {},
   "source": [
    "###### 군집화"
   ]
  },
  {
   "cell_type": "code",
   "execution_count": 1625,
   "metadata": {},
   "outputs": [],
   "source": [
    "from sklearn.cluster import DBSCAN\n",
    "\n",
    "dbscan = DBSCAN(eps = 0.7, min_samples=20, metric = 'euclidean')\n",
    "dbscan_labels = dbscan.fit_predict(data_scaled)\n",
    "data['dbscan_labels'] = dbscan_labels"
   ]
  },
  {
   "cell_type": "code",
   "execution_count": 1626,
   "metadata": {},
   "outputs": [
    {
     "data": {
      "text/plain": [
       " 3    7033\n",
       " 2     697\n",
       " 0     480\n",
       "-1     380\n",
       " 1      49\n",
       " 4      20\n",
       "Name: dbscan_labels, dtype: int64"
      ]
     },
     "execution_count": 1626,
     "metadata": {},
     "output_type": "execute_result"
    }
   ],
   "source": [
    "data['dbscan_labels'].value_counts()"
   ]
  },
  {
   "cell_type": "code",
   "execution_count": 1627,
   "metadata": {},
   "outputs": [
    {
     "data": {
      "text/html": [
       "<div>\n",
       "<style scoped>\n",
       "    .dataframe tbody tr th:only-of-type {\n",
       "        vertical-align: middle;\n",
       "    }\n",
       "\n",
       "    .dataframe tbody tr th {\n",
       "        vertical-align: top;\n",
       "    }\n",
       "\n",
       "    .dataframe thead th {\n",
       "        text-align: right;\n",
       "    }\n",
       "</style>\n",
       "<table border=\"1\" class=\"dataframe\">\n",
       "  <thead>\n",
       "    <tr style=\"text-align: right;\">\n",
       "      <th></th>\n",
       "      <th>StockCode</th>\n",
       "      <th>TotalInvoice</th>\n",
       "      <th>Frequency</th>\n",
       "      <th>InvoiceDay</th>\n",
       "      <th>dbscan_labels</th>\n",
       "    </tr>\n",
       "  </thead>\n",
       "  <tbody>\n",
       "    <tr>\n",
       "      <th>count</th>\n",
       "      <td>8659.000000</td>\n",
       "      <td>8659.000000</td>\n",
       "      <td>8659.000000</td>\n",
       "      <td>8659.000000</td>\n",
       "      <td>8659.000000</td>\n",
       "    </tr>\n",
       "    <tr>\n",
       "      <th>mean</th>\n",
       "      <td>26887.140085</td>\n",
       "      <td>23.740604</td>\n",
       "      <td>2.580321</td>\n",
       "      <td>2.507911</td>\n",
       "      <td>2.568657</td>\n",
       "    </tr>\n",
       "    <tr>\n",
       "      <th>std</th>\n",
       "      <td>15811.177791</td>\n",
       "      <td>32.418743</td>\n",
       "      <td>1.433716</td>\n",
       "      <td>1.759645</td>\n",
       "      <td>1.058572</td>\n",
       "    </tr>\n",
       "    <tr>\n",
       "      <th>min</th>\n",
       "      <td>10002.000000</td>\n",
       "      <td>0.000000</td>\n",
       "      <td>0.000000</td>\n",
       "      <td>0.000000</td>\n",
       "      <td>-1.000000</td>\n",
       "    </tr>\n",
       "    <tr>\n",
       "      <th>25%</th>\n",
       "      <td>21905.500000</td>\n",
       "      <td>12.600000</td>\n",
       "      <td>1.000000</td>\n",
       "      <td>1.000000</td>\n",
       "      <td>3.000000</td>\n",
       "    </tr>\n",
       "    <tr>\n",
       "      <th>50%</th>\n",
       "      <td>22555.000000</td>\n",
       "      <td>16.800000</td>\n",
       "      <td>3.000000</td>\n",
       "      <td>3.000000</td>\n",
       "      <td>3.000000</td>\n",
       "    </tr>\n",
       "    <tr>\n",
       "      <th>75%</th>\n",
       "      <td>23179.000000</td>\n",
       "      <td>21.000000</td>\n",
       "      <td>4.000000</td>\n",
       "      <td>4.000000</td>\n",
       "      <td>3.000000</td>\n",
       "    </tr>\n",
       "    <tr>\n",
       "      <th>max</th>\n",
       "      <td>90204.000000</td>\n",
       "      <td>876.000000</td>\n",
       "      <td>4.000000</td>\n",
       "      <td>6.000000</td>\n",
       "      <td>4.000000</td>\n",
       "    </tr>\n",
       "  </tbody>\n",
       "</table>\n",
       "</div>"
      ],
      "text/plain": [
       "          StockCode  TotalInvoice    Frequency   InvoiceDay  dbscan_labels\n",
       "count   8659.000000   8659.000000  8659.000000  8659.000000    8659.000000\n",
       "mean   26887.140085     23.740604     2.580321     2.507911       2.568657\n",
       "std    15811.177791     32.418743     1.433716     1.759645       1.058572\n",
       "min    10002.000000      0.000000     0.000000     0.000000      -1.000000\n",
       "25%    21905.500000     12.600000     1.000000     1.000000       3.000000\n",
       "50%    22555.000000     16.800000     3.000000     3.000000       3.000000\n",
       "75%    23179.000000     21.000000     4.000000     4.000000       3.000000\n",
       "max    90204.000000    876.000000     4.000000     6.000000       4.000000"
      ]
     },
     "execution_count": 1627,
     "metadata": {},
     "output_type": "execute_result"
    }
   ],
   "source": [
    "data.describe()"
   ]
  },
  {
   "cell_type": "code",
   "execution_count": 1628,
   "metadata": {},
   "outputs": [
    {
     "data": {
      "text/plain": [
       "3    7033\n",
       "2     697\n",
       "0     480\n",
       "1      49\n",
       "4      20\n",
       "Name: dbscan_labels, dtype: int64"
      ]
     },
     "execution_count": 1628,
     "metadata": {},
     "output_type": "execute_result"
    }
   ],
   "source": [
    "data = data.drop(data[data['dbscan_labels'] == -1].index)\n",
    "data['dbscan_labels'].value_counts()"
   ]
  },
  {
   "cell_type": "markdown",
   "metadata": {},
   "source": [
    "###### 군집시각화 "
   ]
  },
  {
   "cell_type": "code",
   "execution_count": 1629,
   "metadata": {},
   "outputs": [],
   "source": [
    "### 클러스터 결과를 담은 DataFrame과 사이킷런의 Cluster 객체등을 인자로 받아 클러스터링 결과를 시각화하는 함수  \n",
    "def visualize_cluster_plot(clusterobj, dataframe, label_name, iscenter=True):\n",
    "    if iscenter :\n",
    "        centers = clusterobj.cluster_centers_\n",
    "        \n",
    "    unique_labels = np.unique(dataframe[label_name].values)\n",
    "    markers=['o', 'v', '^', 'X', 'D', 'd', 's', 'p', 'H', '*']\n",
    "    \n",
    "#     ('o', 'v', '^', '<', '>', '8', 's', 'p', '*', 'h', 'H', 'D', 'd', 'P', 'X')\n",
    "    isNoise=False\n",
    "\n",
    "    for label in unique_labels:\n",
    "        label_cluster = dataframe[dataframe[label_name]==label]\n",
    "#         if label == 2 :\n",
    "#             continue\n",
    "        if label == -1:\n",
    "            cluster_legend = 'Noise' \n",
    "            isNoise=True\n",
    "        else:\n",
    "            cluster_legend = 'Cluster '+str(label)\n",
    "            \n",
    "        \n",
    "        plt.scatter(x=label_cluster['ftr1'], y=label_cluster['ftr2'], s=70,\\\n",
    "                    edgecolor='k', marker=markers[label], label=cluster_legend)\n",
    "        \n",
    "        if iscenter:\n",
    "            center_x_y = centers[label]\n",
    "            plt.scatter(x=center_x_y[0], y=center_x_y[1], s=250, color='white',\n",
    "                        alpha=0.9, edgecolor='k', marker=markers[label])\n",
    "            plt.scatter(x=center_x_y[0], y=center_x_y[1], s=70, color='k',\\\n",
    "                        edgecolor='k', marker='$%d$' % label)\n",
    "    if isNoise:\n",
    "        legend_loc='upper center'\n",
    "    else: legend_loc='upper right'\n",
    "    \n",
    "    plt.legend(loc=legend_loc)\n",
    "    plt.show()"
   ]
  },
  {
   "cell_type": "code",
   "execution_count": 1630,
   "metadata": {},
   "outputs": [
    {
     "data": {
      "image/png": "[encoded data removed]",
      "text/plain": [
       "<Figure size 432x288 with 1 Axes>"
      ]
     },
     "metadata": {
      "needs_background": "light"
     },
     "output_type": "display_data"
    }
   ],
   "source": [
    "from sklearn.decomposition import PCA\n",
    "# 2차원으로 시각화하기 위해 PCA n_componets=2로 피처 데이터 세트 변환\n",
    "pca = PCA(n_components=2, random_state=0)\n",
    "pca_transformed = pca.fit_transform(data)\n",
    "# visualize_cluster_2d( ) 함수는 ftr1, ftr2 컬럼을 좌표에 표현하므로 PCA 변환값을 해당 컬럼으로 생성\n",
    "data['ftr1'] = pca_transformed[:,0]\n",
    "data['ftr2'] = pca_transformed[:,1]\n",
    "\n",
    "visualize_cluster_plot(dbscan, data, 'dbscan_labels', iscenter=False)"
   ]
  },
  {
   "cell_type": "code",
   "execution_count": 1632,
   "metadata": {},
   "outputs": [
    {
     "name": "stdout",
     "output_type": "stream",
     "text": [
      "480\n",
      "49\n",
      "697\n",
      "7033\n",
      "20\n",
      "0\n"
     ]
    }
   ],
   "source": [
    "print(len(data[data['dbscan_labels'] == 0]))\n",
    "print(len(data[data['dbscan_labels'] == 1]))\n",
    "print(len(data[data['dbscan_labels'] == 2]))\n",
    "print(len(data[data['dbscan_labels'] == 3]))\n",
    "print(len(data[data['dbscan_labels'] == 4]))\n",
    "print(len(data[data['dbscan_labels'] == -1]))\n"
   ]
  },
  {
   "cell_type": "code",
   "execution_count": 1541,
   "metadata": {},
   "outputs": [
    {
     "data": {
      "text/plain": [
       "<seaborn.axisgrid.PairGrid at 0x7f7ef8649fd0>"
      ]
     },
     "execution_count": 1541,
     "metadata": {},
     "output_type": "execute_result"
    },
    {
     "data": {
      "image/png": "[encoded data removed]",
      "text/plain": [
       "<Figure size 720x720 with 20 Axes>"
      ]
     },
     "metadata": {
      "needs_background": "light"
     },
     "output_type": "display_data"
    }
   ],
   "source": [
    "sns.pairplot(data[data['dbscan_labels']==0][['StockCode','TotalInvoice','Frequency','InvoiceDay']])"
   ]
  },
  {
   "cell_type": "code",
   "execution_count": 1542,
   "metadata": {},
   "outputs": [
    {
     "data": {
      "text/plain": [
       "<seaborn.axisgrid.PairGrid at 0x7f7e88ad7650>"
      ]
     },
     "execution_count": 1542,
     "metadata": {},
     "output_type": "execute_result"
    },
    {
     "data": {
      "image/png": "[encoded data removed]",
      "text/plain": [
       "<Figure size 720x720 with 20 Axes>"
      ]
     },
     "metadata": {
      "needs_background": "light"
     },
     "output_type": "display_data"
    }
   ],
   "source": [
    "sns.pairplot(data[data['dbscan_labels']==1][['StockCode','TotalInvoice','Frequency','InvoiceDay']])"
   ]
  },
  {
   "cell_type": "code",
   "execution_count": 1543,
   "metadata": {},
   "outputs": [
    {
     "data": {
      "text/plain": [
       "<seaborn.axisgrid.PairGrid at 0x7f7f113b71d0>"
      ]
     },
     "execution_count": 1543,
     "metadata": {},
     "output_type": "execute_result"
    },
    {
     "data": {
      "image/png": "[encoded data removed]",
      "text/plain": [
       "<Figure size 720x720 with 20 Axes>"
      ]
     },
     "metadata": {
      "needs_background": "light"
     },
     "output_type": "display_data"
    }
   ],
   "source": [
    "sns.pairplot(data[data['dbscan_labels']==2][['StockCode','TotalInvoice','Frequency','InvoiceDay']])"
   ]
  },
  {
   "cell_type": "code",
   "execution_count": 1633,
   "metadata": {},
   "outputs": [
    {
     "data": {
      "text/plain": [
       "<seaborn.axisgrid.PairGrid at 0x7f7f10e46fd0>"
      ]
     },
     "execution_count": 1633,
     "metadata": {},
     "output_type": "execute_result"
    },
    {
     "data": {
      "image/png": "[encoded data removed]",
      "text/plain": [
       "<Figure size 720x720 with 20 Axes>"
      ]
     },
     "metadata": {
      "needs_background": "light"
     },
     "output_type": "display_data"
    }
   ],
   "source": [
    "sns.pairplot(data[data['dbscan_labels']==3][['StockCode','TotalInvoice','Frequency','InvoiceDay']])\n"
   ]
  },
  {
   "cell_type": "code",
   "execution_count": null,
   "metadata": {},
   "outputs": [],
   "source": []
  },
  {
   "cell_type": "code",
   "execution_count": null,
   "metadata": {},
   "outputs": [],
   "source": []
  }
 ],
 "metadata": {
  "kernelspec": {
   "display_name": "Python 3",
   "language": "python",
   "name": "python3"
  },
  "language_info": {
   "codemirror_mode": {
    "name": "ipython",
    "version": 3
   },
   "file_extension": ".py",
   "mimetype": "text/x-python",
   "name": "python",
   "nbconvert_exporter": "python",
   "pygments_lexer": "ipython3",
   "version": "3.7.6"
  }
 },
 "nbformat": 4,
 "nbformat_minor": 4
}
