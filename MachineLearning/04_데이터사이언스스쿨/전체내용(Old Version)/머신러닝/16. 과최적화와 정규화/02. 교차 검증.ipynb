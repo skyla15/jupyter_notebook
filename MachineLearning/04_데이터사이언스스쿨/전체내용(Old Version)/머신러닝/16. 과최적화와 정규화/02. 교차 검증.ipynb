{
 "cells": [
  {
   "cell_type": "markdown",
   "metadata": {
    "school_cell_uuid": "055ab3178a6042cd8c1b1bed67bfde5b"
   },
   "source": [
    "# 교차 검증"
   ]
  },
  {
   "cell_type": "markdown",
   "metadata": {
    "school_cell_uuid": "5cf508ad9cfd4b0cb2e234c79e3cd000"
   },
   "source": [
    "## 모형 검증"
   ]
  },
  {
   "cell_type": "markdown",
   "metadata": {
    "school_cell_uuid": "8a837fee3c654352998622ac3153f539"
   },
   "source": [
    "예측 모형의 최종 성능을 객관적으로 측정하려면 모수 추정(parameter fitting) 즉 트레이닝(training)에 사용되지 않은 새로운 데이터, 즉 테스트 데이터를 사용해야 한다. 모형의 모수 갯수를 증가시킨다든가 커널 모형, 신경망 모형과 같은 비선형 모형을 사용하게 되면 트레이닝 데이터에 대한 예측 성능을 얼마든지 높일 수 있기 때문이다. 이러한 방법에 의해 과최적화(overfitting)가 일어나면 트레이닝 데이터에 대해서는 예측이 잘되지만 테스트 데이터에 대해서는 예측 성능이 급격히 떨어지는 현상이 발생한다."
   ]
  },
  {
   "cell_type": "markdown",
   "metadata": {
    "school_cell_uuid": "5177fe7d5a7b4b88bd3155e6b69c4e54"
   },
   "source": [
    "## 교차 검증"
   ]
  },
  {
   "cell_type": "markdown",
   "metadata": {
    "school_cell_uuid": "32072beaf81e49579d871d9dc88edf0a"
   },
   "source": [
    "위에서 지적한 바와 같이 모형 성능을 정상적으로 검사하려면 테스트 데이터가 별도로 있어야 하기 때문에 현실에서는 확보한 데이터 중 일부를 떼어내어 테스트 데이터로 사용한다. 그런데 테스트 데이터를 어떻게 골라내느냐에 따라 모형의 성능이 달라지므로 한 개의 테스트 데이터만 사용하는 것이 아니라 각기 다른 방법으로 서로 다른 테스트 데이터를 여러번 골라내서 복수의 테스트를 실시하는 것이 일반적이다.\n",
    "\n",
    "이러한 테스트 방법을 교차 검증(cross validation)이라고 한다. 교차 검증을 통한 모형 성능은 보통 다음과 같은 두 가지 값으로 나타난다.\n",
    "\n",
    "* 오차 평균(mean performance): 트레이닝에 사용되지 않은 테스트 데이터(test data)에 대해서 평균 오차의 크기가 얼마나 작은가?\n",
    "* 오차 분산(variance): 트레이닝에 사용되지 않은 테스트 데이터(test data)에 대해 오차의 크기가 얼마나 달라지는가?\n",
    "\n",
    "이 중에서 오차 분산을 계산하려면 테스트 데이터 셋이 최소한 세 개 세트가 있어야 한다."
   ]
  },
  {
   "cell_type": "markdown",
   "metadata": {
    "school_cell_uuid": "46326e3027fc4652870b2aeec56375b1"
   },
   "source": [
    "## Scikit-Learn의 교차 검증 기능"
   ]
  },
  {
   "cell_type": "markdown",
   "metadata": {
    "school_cell_uuid": "c4083e1d7f8e462f999da9bcf7fc65d1"
   },
   "source": [
    "Scikit-Learn에서는 교차 검증을 위해 전체 데이터 셋에서 트레이닝용 데이터나 테스트용 데이터를 분리해 내는 여러가지 방법을 제공한다."
   ]
  },
  {
   "cell_type": "markdown",
   "metadata": {
    "school_cell_uuid": "60dfe864a00d4ba58f9ff0cddd4cb7bc"
   },
   "source": [
    "* data를 train set과 test set으로 단순 분리\n",
    " * data splitter\n",
    "   * `train_test_split()` 명령\n",
    "\n",
    "\n",
    "* 복수의 test set 준비\n",
    " * cross validation iterator\n",
    "   * `KFold`\n",
    "   * `StratifiedKFold`\n",
    "   * `LabelKFold`\n",
    "   * `LeaveOneOut`\n",
    "   * `LeavePOut`\n",
    "   * `LeaveOneLabelOut`\n",
    "   * `LeavePLabelOut`\n",
    "   * `ShuffleSplit`\n",
    "   * `LabelShuffleSplit`\n",
    " \n",
    " \n",
    "* 복수의 test set 사용하여 평가 과정 반복\n",
    " * cross validation calculator\n",
    "   * `cross_val_score()` \n"
   ]
  },
  {
   "cell_type": "markdown",
   "metadata": {
    "school_cell_uuid": "f734e1ca3289467890c30c34b3a5b22c"
   },
   "source": [
    "### 단순 데이터 분리"
   ]
  },
  {
   "cell_type": "markdown",
   "metadata": {
    "school_cell_uuid": "0b0203e7ddc9457994e7e6b859109b75"
   },
   "source": [
    "`train_test_split()` 명령은 데이터를 단순히 트레이닝 데이터와 테스트 데이터로 분리한다.\n",
    "\n",
    "\n",
    "* 인수\n",
    " * arrays : 데이터\n",
    " * test_size : 테스트 데이터 사이즈\n",
    " * train_size :  사이즈\n",
    " * random_state : 난수 시드\n",
    "\n",
    "* 반환값\n",
    " * 배열 리스트"
   ]
  },
  {
   "cell_type": "code",
   "execution_count": 1,
   "metadata": {
    "collapsed": false,
    "school_cell_uuid": "4c3832e557984aee8852ee4abbb8fa2e"
   },
   "outputs": [
    {
     "data": {
      "text/plain": [
       "array([[0, 1],\n",
       "       [2, 3],\n",
       "       [4, 5],\n",
       "       [6, 7],\n",
       "       [8, 9]])"
      ]
     },
     "execution_count": 1,
     "metadata": {},
     "output_type": "execute_result"
    }
   ],
   "source": [
    "X = np.arange(10).reshape((5, 2))\n",
    "X"
   ]
  },
  {
   "cell_type": "code",
   "execution_count": 2,
   "metadata": {
    "collapsed": false,
    "school_cell_uuid": "070f95ebcf5d4879b71441a044ed9509"
   },
   "outputs": [
    {
     "data": {
      "text/plain": [
       "array([0, 1, 2, 3, 4])"
      ]
     },
     "execution_count": 2,
     "metadata": {},
     "output_type": "execute_result"
    }
   ],
   "source": [
    "y = np.arange(5)\n",
    "y"
   ]
  },
  {
   "cell_type": "code",
   "execution_count": 3,
   "metadata": {
    "collapsed": true,
    "school_cell_uuid": "90e72c84142a4fc290d08e8989af57da"
   },
   "outputs": [],
   "source": [
    "from sklearn.cross_validation import train_test_split\n",
    "X_train, X_test, y_train, y_test = train_test_split(X, y, test_size=0.33, random_state=42)"
   ]
  },
  {
   "cell_type": "code",
   "execution_count": 4,
   "metadata": {
    "collapsed": false,
    "school_cell_uuid": "338f2ee3049747cdaa037b26852a29fd"
   },
   "outputs": [
    {
     "data": {
      "text/plain": [
       "array([[4, 5],\n",
       "       [0, 1],\n",
       "       [6, 7]])"
      ]
     },
     "execution_count": 4,
     "metadata": {},
     "output_type": "execute_result"
    }
   ],
   "source": [
    "X_train"
   ]
  },
  {
   "cell_type": "code",
   "execution_count": 5,
   "metadata": {
    "collapsed": false,
    "school_cell_uuid": "028786d2784b4a68ab1fd7994e0d1e66"
   },
   "outputs": [
    {
     "data": {
      "text/plain": [
       "array([2, 0, 3])"
      ]
     },
     "execution_count": 5,
     "metadata": {},
     "output_type": "execute_result"
    }
   ],
   "source": [
    "y_train"
   ]
  },
  {
   "cell_type": "code",
   "execution_count": 6,
   "metadata": {
    "collapsed": false,
    "school_cell_uuid": "474efafa7f624560ba21016b9acb15fb"
   },
   "outputs": [
    {
     "data": {
      "text/plain": [
       "array([[2, 3],\n",
       "       [8, 9]])"
      ]
     },
     "execution_count": 6,
     "metadata": {},
     "output_type": "execute_result"
    }
   ],
   "source": [
    "X_test"
   ]
  },
  {
   "cell_type": "code",
   "execution_count": 7,
   "metadata": {
    "collapsed": false,
    "school_cell_uuid": "89629adfb6b24c51baa49a4dd2690747"
   },
   "outputs": [
    {
     "data": {
      "text/plain": [
       "array([1, 4])"
      ]
     },
     "execution_count": 7,
     "metadata": {},
     "output_type": "execute_result"
    }
   ],
   "source": [
    "y_test"
   ]
  },
  {
   "cell_type": "markdown",
   "metadata": {
    "school_cell_uuid": "443b4419f68e4706a530e5682a5884b0"
   },
   "source": [
    "### K-fold CV"
   ]
  },
  {
   "cell_type": "markdown",
   "metadata": {
    "school_cell_uuid": "22487434c26f4088a9a7f156e8c447d5"
   },
   "source": [
    "K-fold CV(cross-validation) 방법은 데이터 셋을 K개의 sub-set로 분리하는 방법이다. 분리된 K개의 sub-set 중 하나만 제외한 K-1개의 sub-sets를 training set으로 이용하여 K개의 모형 추정한다. \n",
    " \n",
    "<img src=\"https://docs.google.com/drawings/d/1JdgUDzuE75LBxqT5sKOhlPgP6umEkvD3Sm-gKnu-jqA/pub?w=762&h=651\" style=\"margin: 0 auto 0 auto;\">"
   ]
  },
  {
   "cell_type": "markdown",
   "metadata": {
    "school_cell_uuid": "4b72b8e8fe234b1aab94d86459d72c62"
   },
   "source": [
    "Scikit-Learn 의 cross_validation 서브 패키지는 K-Fold를 위한 `KFold` 클래스를 제공한다."
   ]
  },
  {
   "cell_type": "code",
   "execution_count": 8,
   "metadata": {
    "collapsed": false,
    "school_cell_uuid": "92a46e5d49074eeca371b639dd7296b8"
   },
   "outputs": [
    {
     "name": "stdout",
     "output_type": "stream",
     "text": [
      "X:\n",
      "[[  0  10]\n",
      " [ 20  30]\n",
      " [ 40  50]\n",
      " [ 60  70]\n",
      " [ 80  90]\n",
      " [100 110]\n",
      " [120 130]\n",
      " [140 150]\n",
      " [160 170]\n",
      " [180 190]\n",
      " [200 210]\n",
      " [220 230]\n",
      " [240 250]\n",
      " [260 270]\n",
      " [280 290]\n",
      " [300 310]\n",
      " [320 330]\n",
      " [340 350]\n",
      " [360 370]\n",
      " [380 390]]\n",
      "y:\n",
      "[ 1.  1.  1.  1.  1.  2.  2.  2.  2.  2.  3.  3.  3.  3.  3.  4.  4.  4.\n",
      "  4.  4.]\n"
     ]
    }
   ],
   "source": [
    "N = 5\n",
    "X = np.arange(8 * N).reshape(-1, 2) * 10\n",
    "y = np.hstack([np.ones(N), np.ones(N) * 2, np.ones(N) * 3, np.ones(N) * 4])\n",
    "print(\"X:\\n\", X, sep=\"\")\n",
    "print(\"y:\\n\", y, sep=\"\")"
   ]
  },
  {
   "cell_type": "code",
   "execution_count": 9,
   "metadata": {
    "collapsed": false,
    "school_cell_uuid": "556dab2a12f4433088c4a56d7cade7c1"
   },
   "outputs": [
    {
     "name": "stdout",
     "output_type": "stream",
     "text": [
      "test  y: [ 1.  1.  1.  1.  1.  2.  2.]\n",
      "................................................................................\n",
      "train y: [ 2.  2.  2.  3.  3.  3.  3.  3.  4.  4.  4.  4.  4.]\n",
      "================================================================================\n",
      "test  y: [ 2.  2.  2.  3.  3.  3.  3.]\n",
      "................................................................................\n",
      "train y: [ 1.  1.  1.  1.  1.  2.  2.  3.  4.  4.  4.  4.  4.]\n",
      "================================================================================\n",
      "test  y: [ 3.  4.  4.  4.  4.  4.]\n",
      "................................................................................\n",
      "train y: [ 1.  1.  1.  1.  1.  2.  2.  2.  2.  2.  3.  3.  3.  3.]\n",
      "================================================================================\n"
     ]
    }
   ],
   "source": [
    "from sklearn.cross_validation import KFold\n",
    "cv = KFold(len(X), n_folds=3, random_state=0)\n",
    "for train_index, test_index in cv:\n",
    "    print(\"test  y:\", y[test_index])\n",
    "    print(\".\" * 80 )        \n",
    "    print(\"train y:\", y[train_index])\n",
    "    print(\"=\" * 80 )"
   ]
  },
  {
   "cell_type": "markdown",
   "metadata": {
    "school_cell_uuid": "dbc25e3141ff45df8d288b3a0f5f143a"
   },
   "source": [
    "### Stratified K-Fold\n",
    "\n",
    "* target class가 어느 한 data set에 몰리지 않도록 한다\n"
   ]
  },
  {
   "cell_type": "code",
   "execution_count": 11,
   "metadata": {
    "collapsed": false,
    "school_cell_uuid": "e98009c7f37b40cd9e4bb8aa1a25869d"
   },
   "outputs": [
    {
     "name": "stdout",
     "output_type": "stream",
     "text": [
      "test X:\n",
      " [[  0  10]\n",
      " [ 20  30]\n",
      " [100 110]\n",
      " [120 130]\n",
      " [200 210]\n",
      " [220 230]\n",
      " [300 310]\n",
      " [320 330]]\n",
      "................................................................................\n",
      "test y: [ 1.  1.  2.  2.  3.  3.  4.  4.]\n",
      "================================================================================\n",
      "test X:\n",
      " [[ 40  50]\n",
      " [ 60  70]\n",
      " [140 150]\n",
      " [160 170]\n",
      " [240 250]\n",
      " [260 270]\n",
      " [340 350]\n",
      " [360 370]]\n",
      "................................................................................\n",
      "test y: [ 1.  1.  2.  2.  3.  3.  4.  4.]\n",
      "================================================================================\n",
      "test X:\n",
      " [[ 80  90]\n",
      " [180 190]\n",
      " [280 290]\n",
      " [380 390]]\n",
      "................................................................................\n",
      "test y: [ 1.  2.  3.  4.]\n",
      "================================================================================\n"
     ]
    }
   ],
   "source": [
    "from sklearn.cross_validation import StratifiedKFold\n",
    "cv = StratifiedKFold(y, n_folds=3, random_state=0)\n",
    "for train_index, test_index in cv:\n",
    "    print(\"test X:\\n\", X[test_index])\n",
    "    print(\".\" * 80 )        \n",
    "    print(\"test y:\", y[test_index])\n",
    "    print(\"=\" * 80 )"
   ]
  },
  {
   "cell_type": "markdown",
   "metadata": {
    "school_cell_uuid": "e389cca9f65a4c6a95c5936d83d26e43"
   },
   "source": [
    "### Leave-One-Out (LOO)\n",
    "\n",
    "* 하나의 sample만을 test set으로 남긴다."
   ]
  },
  {
   "cell_type": "code",
   "execution_count": 10,
   "metadata": {
    "collapsed": false,
    "school_cell_uuid": "0325efaf66ad4b478286b903af2fbd18"
   },
   "outputs": [
    {
     "name": "stdout",
     "output_type": "stream",
     "text": [
      "test X: [[ 0 10]]\n",
      "................................................................................\n",
      "test y: [ 1.]\n",
      "================================================================================\n",
      "test X: [[20 30]]\n",
      "................................................................................\n",
      "test y: [ 1.]\n",
      "================================================================================\n",
      "test X: [[40 50]]\n",
      "................................................................................\n",
      "test y: [ 1.]\n",
      "================================================================================\n",
      "test X: [[60 70]]\n",
      "................................................................................\n",
      "test y: [ 1.]\n",
      "================================================================================\n",
      "test X: [[80 90]]\n",
      "................................................................................\n",
      "test y: [ 1.]\n",
      "================================================================================\n"
     ]
    }
   ],
   "source": [
    "from sklearn.cross_validation import LeaveOneOut\n",
    "cv = LeaveOneOut(5)\n",
    "for train_index, test_index in cv:\n",
    "    print(\"test X:\", X[test_index])\n",
    "    print(\".\" * 80 )        \n",
    "    print(\"test y:\", y[test_index])\n",
    "    print(\"=\" * 80 )"
   ]
  },
  {
   "cell_type": "markdown",
   "metadata": {
    "school_cell_uuid": "7e06bb87256c4d2fb47e49b495e02347"
   },
   "source": [
    "### Label K-Fold\n",
    "\n",
    "* 같은 label이 test와 train에 동시에 들어가지 않게 조절\n",
    "* label에 의한 영향을 최소화\n"
   ]
  },
  {
   "cell_type": "code",
   "execution_count": 12,
   "metadata": {
    "collapsed": false,
    "school_cell_uuid": "8be593f50b424978b911ba57ea98cb82"
   },
   "outputs": [
    {
     "name": "stdout",
     "output_type": "stream",
     "text": [
      "test  y: [ 1.  1.  1.  1.  1.  4.  4.  4.  4.  4.]\n",
      "................................................................................\n",
      "train y: [ 2.  2.  2.  2.  2.  3.  3.  3.  3.  3.]\n",
      "================================================================================\n",
      "test  y: [ 3.  3.  3.  3.  3.]\n",
      "................................................................................\n",
      "train y: [ 1.  1.  1.  1.  1.  2.  2.  2.  2.  2.  4.  4.  4.  4.  4.]\n",
      "================================================================================\n",
      "test  y: [ 2.  2.  2.  2.  2.]\n",
      "................................................................................\n",
      "train y: [ 1.  1.  1.  1.  1.  3.  3.  3.  3.  3.  4.  4.  4.  4.  4.]\n",
      "================================================================================\n"
     ]
    }
   ],
   "source": [
    "from sklearn.cross_validation import LabelKFold\n",
    "cv = LabelKFold(y, n_folds=3)\n",
    "for train_index, test_index in cv:\n",
    "    print(\"test  y:\", y[test_index])\n",
    "    print(\".\" * 80 )        \n",
    "    print(\"train y:\", y[train_index])\n",
    "    print(\"=\" * 80 )"
   ]
  },
  {
   "cell_type": "markdown",
   "metadata": {
    "school_cell_uuid": "a7f299b590f64ab6a6ebb210030e6172"
   },
   "source": [
    "### ShuffleSplit\n",
    "\n",
    "* 중복된 데이터를 허용"
   ]
  },
  {
   "cell_type": "code",
   "execution_count": 13,
   "metadata": {
    "collapsed": false,
    "school_cell_uuid": "7643b1bcf3b749c2b8103ae803bdf9cc"
   },
   "outputs": [
    {
     "name": "stdout",
     "output_type": "stream",
     "text": [
      "test X: [[80 90]]\n",
      "====================\n",
      "test X: [[ 0 10]]\n",
      "====================\n",
      "test X: [[ 0 10]]\n",
      "====================\n",
      "test X: [[60 70]]\n",
      "====================\n",
      "test X: [[60 70]]\n",
      "====================\n",
      "test X: [[80 90]]\n",
      "====================\n",
      "test X: [[40 50]]\n",
      "====================\n",
      "test X: [[20 30]]\n",
      "====================\n",
      "test X: [[ 0 10]]\n",
      "====================\n",
      "test X: [[40 50]]\n",
      "====================\n"
     ]
    }
   ],
   "source": [
    "from sklearn.cross_validation import ShuffleSplit\n",
    "cv = ShuffleSplit(5)\n",
    "for train_index, test_index in cv:\n",
    "    print(\"test X:\", X[test_index])\n",
    "    print(\"=\" * 20 )        "
   ]
  },
  {
   "cell_type": "markdown",
   "metadata": {
    "school_cell_uuid": "a4974220558345148bbc4fcc897a5c7e"
   },
   "source": [
    "## 교차 평가 시행 \n",
    "\n",
    "CV는 단순히 데이터 셋을 나누는 역할을 수행할 뿐이다. 실제로 모형의 성능(편향 오차 및 분산)을 구하려면 이렇게 나누어진 데이터셋을 사용하여 평가를 반복하여야 한다. 이 과정을 자동화하는 명령이 `cross_val_score()` 이다.\n",
    "\n",
    "\n",
    "* `cross_val_score(estimator, X, y=None, scoring=None, cv=None)` \n",
    " * cross validation iterator `cv`를 이용하여 `X`, `y` data 를 분할하고 `estimator`에 넣어서 `scoring` metric을 구하는 과정을 반복\n",
    "\n",
    "\n",
    "* 인수\n",
    " * estimator : ‘fit’메서드가 제공되는 모형\n",
    " * X : 배열\n",
    "   * 독립 변수 데이터\n",
    " * y : 배열\n",
    "   * 종속 변수 데이터\n",
    " * scoring : 문자열\n",
    "   * 성능 검증에 사용할 함수\n",
    " * cv : Cross Validator\n",
    "   * None 이면 디폴트인  3-폴드 CV\n",
    "   * 숫자 K  이면 K-폴드 CV\n",
    "   * Cross Validator 클래스 객체\n",
    "\n",
    "* 반환값\n",
    "  * scores \n",
    "      * 계산된 성능 값의 리스트"
   ]
  },
  {
   "cell_type": "code",
   "execution_count": 14,
   "metadata": {
    "collapsed": false,
    "school_cell_uuid": "baa8622e9ef042e5bf0088551b72fab8"
   },
   "outputs": [
    {
     "data": {
      "text/plain": [
       "array([ 301.58271911,  341.91498985,  410.58098438,  499.68109613,\n",
       "        461.00979825,  384.106544  ,  434.90159273,  377.65506997,\n",
       "        366.60959935,  371.14031438])"
      ]
     },
     "execution_count": 14,
     "metadata": {},
     "output_type": "execute_result"
    }
   ],
   "source": [
    "from sklearn.datasets import make_regression\n",
    "from sklearn.linear_model import LinearRegression\n",
    "from sklearn.metrics import mean_squared_error\n",
    "X, y, coef = make_regression(n_samples=1000, n_features=1, noise=20, coef=True, random_state=0)\n",
    "model = LinearRegression()\n",
    "cv = KFold(1000, 10)\n",
    "\n",
    "scores = np.zeros(10)\n",
    "for i, (train_index, test_index) in enumerate(cv):\n",
    "    X_train = X[train_index]\n",
    "    y_train = y[train_index]\n",
    "    X_test = X[test_index]\n",
    "    y_test = y[test_index]\n",
    "    model.fit(X_train, y_train)\n",
    "    y_pred = model.predict(X_test)\n",
    "    scores[i] = mean_squared_error(y_test, y_pred)\n",
    "\n",
    "scores"
   ]
  },
  {
   "cell_type": "code",
   "execution_count": 15,
   "metadata": {
    "collapsed": false,
    "school_cell_uuid": "3b69e154c0fa4e42a800c9b799bf6aa5"
   },
   "outputs": [
    {
     "data": {
      "text/plain": [
       "array([-301.58271911, -341.91498985, -410.58098438, -499.68109613,\n",
       "       -461.00979825, -384.106544  , -434.90159273, -377.65506997,\n",
       "       -366.60959935, -371.14031438])"
      ]
     },
     "execution_count": 15,
     "metadata": {},
     "output_type": "execute_result"
    }
   ],
   "source": [
    "from sklearn.cross_validation import cross_val_score\n",
    "cross_val_score(model, X, y, \"mean_squared_error\", cv)"
   ]
  },
  {
   "cell_type": "markdown",
   "metadata": {
    "school_cell_uuid": "9902d917f85242f1949582aa8daa5c04"
   },
   "source": [
    "### 회귀 분석에 사용되는 성능 함수들"
   ]
  },
  {
   "cell_type": "markdown",
   "metadata": {
    "school_cell_uuid": "609ee1e16a88478681dc0754f979da46"
   },
   "source": [
    "* `r2_score(y_true, y_pred[, ...])`:\tR^2 (coefficient of determination) regression score function.\n",
    "* `explained_variance_score(y_true, y_pred)`:\tExplained variance regression score function\n",
    "* `mean_squared_error(y_true, y_pred[, ...])`:\tMean squared error regression loss\n",
    "* `mean_absolute_error(y_true, y_pred)`:\tMean absolute error regression loss\n",
    "* `median_absolute_error(y_true, y_pred)`:\tMedian absolute error regression loss"
   ]
  }
 ],
 "metadata": {
  "kernelspec": {
   "display_name": "Python [Root]",
   "language": "python",
   "name": "Python [Root]"
  },
  "language_info": {
   "codemirror_mode": {
    "name": "ipython",
    "version": 2
   },
   "file_extension": ".py",
   "mimetype": "text/x-python",
   "name": "python",
   "nbconvert_exporter": "python",
   "pygments_lexer": "ipython2",
   "version": "2.7.12"
  }
 },
 "nbformat": 4,
 "nbformat_minor": 0
}