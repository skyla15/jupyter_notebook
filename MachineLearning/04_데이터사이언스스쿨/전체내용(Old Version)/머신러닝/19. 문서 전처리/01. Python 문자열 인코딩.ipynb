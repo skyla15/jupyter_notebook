{
 "cells": [
  {
   "cell_type": "markdown",
   "metadata": {
    "school_cell_uuid": "d49b243a6a8042c391d1c13d36ecf2af"
   },
   "source": [
    "# Python 문자열 인코딩"
   ]
  },
  {
   "cell_type": "markdown",
   "metadata": {
    "school_cell_uuid": "45d00d1fcf574bec8b22ca5920438212"
   },
   "source": [
    "## 문자와 인코딩"
   ]
  },
  {
   "cell_type": "markdown",
   "metadata": {
    "school_cell_uuid": "802664b0d3734526af8319f6e914b87f"
   },
   "source": [
    "* 문자의 구성\n",
    " * 바이트 열 Byte Sequence: 컴퓨터에 저장되는 자료. 각 글자에 바이트 열을 지정\n",
    " * 글리프 Glyph: 눈에 보이는 그림\n",
    " * http://www.asciitable.com/\n",
    " * http://www.kreativekorp.com/charset/encoding.php?name=CP949\n",
    " * 코드 포인트 Code Point: 각 글자에 바이트 열과는 독립적인 숫자를 지정 (유니코드)\n",
    " \n",
    "* 인코딩 (방식)\n",
    " * 바이트 열을 지정하는 방식\n",
    " * 기본 Ascii 인코딩\n",
    "* 한글 인코딩\n",
    " * euc-kr\n",
    " * cp949\n",
    " * utf-8\n",
    " * 참고\n",
    "   * http://d2.naver.com/helloworld/19187\n",
    "   * http://d2.naver.com/helloworld/76650"
   ]
  },
  {
   "cell_type": "markdown",
   "metadata": {
    "school_cell_uuid": "2569dab78523445b9954037b4e5efeb7"
   },
   "source": [
    "## Python 2 문자열"
   ]
  },
  {
   "cell_type": "markdown",
   "metadata": {
    "school_cell_uuid": "fbfaecbdc0f64bb78d31cb64405c5b1a"
   },
   "source": [
    "* string 타입 (기본)\n",
    " * 컴퓨터 환경에서 지정한 인코딩을 사용한 byte string\n",
    "* unicode 타입\n",
    " * 유니코드 코드 포인트(Unicode Code Point)를 사용한 내부 저장\n",
    " * string(byte string)과의 변환을 위해 `encode`(인코딩)/`decode`(디코딩) 명령 사용\n",
    "\n",
    "* Python 3에서는 unicode 타입이 기본"
   ]
  },
  {
   "cell_type": "markdown",
   "metadata": {
    "school_cell_uuid": "e03f8d4addcf4d0abdf660cdea3c0791"
   },
   "source": [
    "### Python의 문자열 표시"
   ]
  },
  {
   "cell_type": "markdown",
   "metadata": {
    "school_cell_uuid": "ffe4e349c2f04403ac783c6b731c6b06"
   },
   "source": [
    "* `__repr__()`\n",
    " * 그냥 변수이름을 쳤을 때 나오는 표시\n",
    " * 다른 객체의 원소인 경우\n",
    " * 아스키 테이블로 표시할 수 없는 문자는 string 포맷으로 표시\n",
    "* `print()` 명령\n",
    " * 가능한 글리프(폰트)를 찾아서 출력"
   ]
  },
  {
   "cell_type": "code",
   "execution_count": 1,
   "metadata": {
    "collapsed": false,
    "school_cell_uuid": "4775568d0faa48b1870a1ea1e504528c"
   },
   "outputs": [
    {
     "data": {
      "text/plain": [
       "'a'"
      ]
     },
     "execution_count": 1,
     "metadata": {},
     "output_type": "execute_result"
    }
   ],
   "source": [
    "c = \"a\"\n",
    "c"
   ]
  },
  {
   "cell_type": "code",
   "execution_count": 2,
   "metadata": {
    "collapsed": false,
    "school_cell_uuid": "0ffcda76243343f6b353a41ac8677784"
   },
   "outputs": [
    {
     "name": "stdout",
     "output_type": "stream",
     "text": [
      "a\n"
     ]
    }
   ],
   "source": [
    "print(c)"
   ]
  },
  {
   "cell_type": "code",
   "execution_count": 3,
   "metadata": {
    "collapsed": false,
    "school_cell_uuid": "aab224464b294ca59c3618a19620217b"
   },
   "outputs": [
    {
     "data": {
      "text/plain": [
       "'\\xea\\xb0\\x80'"
      ]
     },
     "execution_count": 3,
     "metadata": {},
     "output_type": "execute_result"
    }
   ],
   "source": [
    "x = \"가\"\n",
    "x"
   ]
  },
  {
   "cell_type": "code",
   "execution_count": 4,
   "metadata": {
    "collapsed": false,
    "school_cell_uuid": "64abbfe4a3b648cc8223f5c521a15971"
   },
   "outputs": [
    {
     "name": "stdout",
     "output_type": "stream",
     "text": [
      "가\n"
     ]
    }
   ],
   "source": [
    "print(x)"
   ]
  },
  {
   "cell_type": "code",
   "execution_count": 5,
   "metadata": {
    "collapsed": false,
    "school_cell_uuid": "722a7fe16a844d3cb1d9421969108bf4"
   },
   "outputs": [
    {
     "name": "stdout",
     "output_type": "stream",
     "text": [
      "'\\xea\\xb0\\x80'\n"
     ]
    }
   ],
   "source": [
    "print(x.__repr__())"
   ]
  },
  {
   "cell_type": "code",
   "execution_count": 6,
   "metadata": {
    "collapsed": false,
    "school_cell_uuid": "9021ff286f994275a95f3041f12cb703"
   },
   "outputs": [
    {
     "name": "stdout",
     "output_type": "stream",
     "text": [
      "['\\xea\\xb0\\x80']\n"
     ]
    }
   ],
   "source": [
    "x = [\"가\"]\n",
    "print(x)"
   ]
  },
  {
   "cell_type": "code",
   "execution_count": 7,
   "metadata": {
    "collapsed": false,
    "school_cell_uuid": "36fb8ac935cb4ea1803622a0be6da910"
   },
   "outputs": [
    {
     "data": {
      "text/plain": [
       "3"
      ]
     },
     "execution_count": 7,
     "metadata": {},
     "output_type": "execute_result"
    }
   ],
   "source": [
    "x = \"가\"\n",
    "len(x)"
   ]
  },
  {
   "cell_type": "code",
   "execution_count": 14,
   "metadata": {
    "collapsed": false,
    "school_cell_uuid": "3c36966c1d6c4a89896b49f780e6c118"
   },
   "outputs": [
    {
     "name": "stdout",
     "output_type": "stream",
     "text": [
      "3 9\n",
      "A B C\n",
      "� � �\n",
      "� � � �\n"
     ]
    }
   ],
   "source": [
    "x = \"ABC\"\n",
    "y = \"가나다\"\n",
    "print(len(x), len(y))\n",
    "print(x[0], x[1], x[2])\n",
    "print(y[0], y[1], y[2])\n",
    "print(y[0], y[1], y[2], y[3])"
   ]
  },
  {
   "cell_type": "markdown",
   "metadata": {
    "school_cell_uuid": "971bf68974594ff9913ffbc1d336d1d2"
   },
   "source": [
    "### 유니코드 리터럴(Literal)"
   ]
  },
  {
   "cell_type": "markdown",
   "metadata": {
    "school_cell_uuid": "fd00c686fb014674a20769e2d29bd3fe"
   },
   "source": [
    "* 따옴표 앞에 u자를 붙이면 unicode 문자열로 인식\n",
    "* 내부적으로 유니코드 포인트로 저장"
   ]
  },
  {
   "cell_type": "code",
   "execution_count": 9,
   "metadata": {
    "collapsed": false,
    "school_cell_uuid": "53510e3a103d473fa18e49f057c25e98"
   },
   "outputs": [
    {
     "data": {
      "text/plain": [
       "u'\\uac00'"
      ]
     },
     "execution_count": 9,
     "metadata": {},
     "output_type": "execute_result"
    }
   ],
   "source": [
    "y = u\"가\"\n",
    "y"
   ]
  },
  {
   "cell_type": "code",
   "execution_count": 10,
   "metadata": {
    "collapsed": false,
    "school_cell_uuid": "e73ea1734af943d294f64aabc9666168"
   },
   "outputs": [
    {
     "name": "stdout",
     "output_type": "stream",
     "text": [
      "가\n"
     ]
    }
   ],
   "source": [
    "print(y)"
   ]
  },
  {
   "cell_type": "code",
   "execution_count": 17,
   "metadata": {
    "collapsed": false,
    "school_cell_uuid": "ee7d406e3383412c9f1a59f58d9ac6eb"
   },
   "outputs": [
    {
     "name": "stdout",
     "output_type": "stream",
     "text": [
      "가 나 다\n"
     ]
    }
   ],
   "source": [
    "y = u\"가나다\"\n",
    "print(y[0], y[1], y[2])"
   ]
  },
  {
   "cell_type": "markdown",
   "metadata": {
    "school_cell_uuid": "4b704c853b2b43d7a836b9d548c4a506"
   },
   "source": [
    "### 유니코드 인코딩(Encoding) / 디코딩(Decoding)"
   ]
  },
  {
   "cell_type": "markdown",
   "metadata": {
    "school_cell_uuid": "571b101e568d46778ec5c1bcb83674a0"
   },
   "source": [
    "* encode\n",
    " * unicode 타입의 메소드\n",
    " * unicode -> string (byte sequence)\n",
    "* decode \n",
    " * str 타입의 메소드\n",
    " * str -> unicode"
   ]
  },
  {
   "cell_type": "code",
   "execution_count": 26,
   "metadata": {
    "collapsed": false,
    "school_cell_uuid": "76486e40c75c419cbe6d6a20814be808"
   },
   "outputs": [
    {
     "name": "stdout",
     "output_type": "stream",
     "text": [
      "<type 'unicode'>\n",
      "<type 'str'>\n",
      "������\n"
     ]
    }
   ],
   "source": [
    "print(type(y))\n",
    "z1 = y.encode(\"cp949\")\n",
    "print(type(z1))\n",
    "print(z1)"
   ]
  },
  {
   "cell_type": "code",
   "execution_count": 27,
   "metadata": {
    "collapsed": false,
    "school_cell_uuid": "e24e5fe2479d4e6f878851551760c292"
   },
   "outputs": [
    {
     "name": "stdout",
     "output_type": "stream",
     "text": [
      "<type 'unicode'>\n",
      "<type 'str'>\n",
      "가나다\n"
     ]
    }
   ],
   "source": [
    "print(type(y))\n",
    "z2 = y.encode(\"utf-8\")\n",
    "print(type(z2))\n",
    "print(z2)"
   ]
  },
  {
   "cell_type": "code",
   "execution_count": 28,
   "metadata": {
    "collapsed": false,
    "school_cell_uuid": "9f83697b153e46b2a846b07787fc347c"
   },
   "outputs": [
    {
     "name": "stdout",
     "output_type": "stream",
     "text": [
      "<type 'str'>\n",
      "<type 'unicode'>\n",
      "가나다\n"
     ]
    }
   ],
   "source": [
    "print(type(z1))\n",
    "y1 = z1.decode(\"cp949\")\n",
    "print(type(y1))\n",
    "print(y1)"
   ]
  },
  {
   "cell_type": "code",
   "execution_count": 29,
   "metadata": {
    "collapsed": false,
    "school_cell_uuid": "a6daaf9a614b4c8b8ec5b5cd0446ec7c"
   },
   "outputs": [
    {
     "name": "stdout",
     "output_type": "stream",
     "text": [
      "<type 'str'>\n",
      "<type 'unicode'>\n",
      "가나다\n"
     ]
    }
   ],
   "source": [
    "print(type(z2))\n",
    "y2 = z2.decode(\"utf-8\")\n",
    "print(type(y2))\n",
    "print(y2)"
   ]
  },
  {
   "cell_type": "markdown",
   "metadata": {
    "school_cell_uuid": "9cab2d49cdb44730867ce46ca7c5df01"
   },
   "source": [
    "## str에 encode 메소드를 적용하면 또는 unicode에 decode 메소드를 적용하면?"
   ]
  },
  {
   "cell_type": "code",
   "execution_count": 33,
   "metadata": {
    "collapsed": false,
    "school_cell_uuid": "5758fa8b5a964a38ac2b4be22513ed0f"
   },
   "outputs": [
    {
     "ename": "UnicodeDecodeError",
     "evalue": "'ascii' codec can't decode byte 0xea in position 0: ordinal not in range(128)",
     "output_type": "error",
     "traceback": [
      "\u001b[1;31m\u001b[0m",
      "\u001b[1;31mUnicodeDecodeError\u001b[0mTraceback (most recent call last)",
      "\u001b[1;32m<ipython-input-33-92305fa44153>\u001b[0m in \u001b[0;36m<module>\u001b[1;34m()\u001b[0m\n\u001b[1;32m----> 1\u001b[1;33m \u001b[1;34m\"가\"\u001b[0m\u001b[1;33m.\u001b[0m\u001b[0mencode\u001b[0m\u001b[1;33m(\u001b[0m\u001b[1;34m\"utf-8\"\u001b[0m\u001b[1;33m)\u001b[0m\u001b[1;33m\u001b[0m\u001b[0m\n\u001b[0m",
      "\u001b[1;31mUnicodeDecodeError\u001b[0m: 'ascii' codec can't decode byte 0xea in position 0: ordinal not in range(128)"
     ]
    }
   ],
   "source": [
    "\"가\".encode(\"utf-8\")"
   ]
  },
  {
   "cell_type": "code",
   "execution_count": 34,
   "metadata": {
    "collapsed": false,
    "school_cell_uuid": "370d9d36f8524e4b870add6123894672"
   },
   "outputs": [
    {
     "ename": "UnicodeDecodeError",
     "evalue": "'ascii' codec can't decode byte 0xea in position 0: ordinal not in range(128)",
     "output_type": "error",
     "traceback": [
      "\u001b[1;31m\u001b[0m",
      "\u001b[1;31mUnicodeDecodeError\u001b[0mTraceback (most recent call last)",
      "\u001b[1;32m<ipython-input-34-c07f24263d81>\u001b[0m in \u001b[0;36m<module>\u001b[1;34m()\u001b[0m\n\u001b[1;32m----> 1\u001b[1;33m \u001b[0municode\u001b[0m\u001b[1;33m(\u001b[0m\u001b[1;34m\"가\"\u001b[0m\u001b[1;33m,\u001b[0m \u001b[1;34m\"ascii\"\u001b[0m\u001b[1;33m)\u001b[0m\u001b[1;33m.\u001b[0m\u001b[0mencode\u001b[0m\u001b[1;33m(\u001b[0m\u001b[1;34m\"utf-8\"\u001b[0m\u001b[1;33m)\u001b[0m\u001b[1;33m\u001b[0m\u001b[0m\n\u001b[0m",
      "\u001b[1;31mUnicodeDecodeError\u001b[0m: 'ascii' codec can't decode byte 0xea in position 0: ordinal not in range(128)"
     ]
    }
   ],
   "source": [
    "unicode(\"가\", \"ascii\").encode(\"utf-8\")"
   ]
  },
  {
   "cell_type": "code",
   "execution_count": 37,
   "metadata": {
    "collapsed": false,
    "school_cell_uuid": "cd62833ed15945c6bbfeedd9d6cfebd7"
   },
   "outputs": [
    {
     "ename": "UnicodeEncodeError",
     "evalue": "'ascii' codec can't encode character u'\\uac00' in position 0: ordinal not in range(128)",
     "output_type": "error",
     "traceback": [
      "\u001b[1;31m\u001b[0m",
      "\u001b[1;31mUnicodeEncodeError\u001b[0mTraceback (most recent call last)",
      "\u001b[1;32m<ipython-input-37-e1c95bb5b4e2>\u001b[0m in \u001b[0;36m<module>\u001b[1;34m()\u001b[0m\n\u001b[1;32m----> 1\u001b[1;33m \u001b[1;34mu\"가\"\u001b[0m\u001b[1;33m.\u001b[0m\u001b[0mdecode\u001b[0m\u001b[1;33m(\u001b[0m\u001b[1;34m\"utf-8\"\u001b[0m\u001b[1;33m)\u001b[0m\u001b[1;33m\u001b[0m\u001b[0m\n\u001b[0m",
      "\u001b[1;32m/home/joel/anaconda2/lib/python2.7/encodings/utf_8.pyc\u001b[0m in \u001b[0;36mdecode\u001b[1;34m(input, errors)\u001b[0m\n\u001b[0;32m     14\u001b[0m \u001b[1;33m\u001b[0m\u001b[0m\n\u001b[0;32m     15\u001b[0m \u001b[1;32mdef\u001b[0m \u001b[0mdecode\u001b[0m\u001b[1;33m(\u001b[0m\u001b[0minput\u001b[0m\u001b[1;33m,\u001b[0m \u001b[0merrors\u001b[0m\u001b[1;33m=\u001b[0m\u001b[1;34m'strict'\u001b[0m\u001b[1;33m)\u001b[0m\u001b[1;33m:\u001b[0m\u001b[1;33m\u001b[0m\u001b[0m\n\u001b[1;32m---> 16\u001b[1;33m     \u001b[1;32mreturn\u001b[0m \u001b[0mcodecs\u001b[0m\u001b[1;33m.\u001b[0m\u001b[0mutf_8_decode\u001b[0m\u001b[1;33m(\u001b[0m\u001b[0minput\u001b[0m\u001b[1;33m,\u001b[0m \u001b[0merrors\u001b[0m\u001b[1;33m,\u001b[0m \u001b[0mTrue\u001b[0m\u001b[1;33m)\u001b[0m\u001b[1;33m\u001b[0m\u001b[0m\n\u001b[0m\u001b[0;32m     17\u001b[0m \u001b[1;33m\u001b[0m\u001b[0m\n\u001b[0;32m     18\u001b[0m \u001b[1;32mclass\u001b[0m \u001b[0mIncrementalEncoder\u001b[0m\u001b[1;33m(\u001b[0m\u001b[0mcodecs\u001b[0m\u001b[1;33m.\u001b[0m\u001b[0mIncrementalEncoder\u001b[0m\u001b[1;33m)\u001b[0m\u001b[1;33m:\u001b[0m\u001b[1;33m\u001b[0m\u001b[0m\n",
      "\u001b[1;31mUnicodeEncodeError\u001b[0m: 'ascii' codec can't encode character u'\\uac00' in position 0: ordinal not in range(128)"
     ]
    }
   ],
   "source": [
    "u\"가\".decode(\"utf-8\")"
   ]
  },
  {
   "cell_type": "code",
   "execution_count": 38,
   "metadata": {
    "collapsed": false,
    "school_cell_uuid": "a35a359592f84f0397223193d0520587"
   },
   "outputs": [
    {
     "ename": "UnicodeEncodeError",
     "evalue": "'ascii' codec can't encode character u'\\uac00' in position 0: ordinal not in range(128)",
     "output_type": "error",
     "traceback": [
      "\u001b[1;31m\u001b[0m",
      "\u001b[1;31mUnicodeEncodeError\u001b[0mTraceback (most recent call last)",
      "\u001b[1;32m<ipython-input-38-99ffe5d7c928>\u001b[0m in \u001b[0;36m<module>\u001b[1;34m()\u001b[0m\n\u001b[1;32m----> 1\u001b[1;33m \u001b[1;34mu\"가\"\u001b[0m\u001b[1;33m.\u001b[0m\u001b[0mencode\u001b[0m\u001b[1;33m(\u001b[0m\u001b[1;34m\"ascii\"\u001b[0m\u001b[1;33m)\u001b[0m\u001b[1;33m.\u001b[0m\u001b[0mdecode\u001b[0m\u001b[1;33m(\u001b[0m\u001b[1;34m\"utf-8\"\u001b[0m\u001b[1;33m)\u001b[0m\u001b[1;33m\u001b[0m\u001b[0m\n\u001b[0m",
      "\u001b[1;31mUnicodeEncodeError\u001b[0m: 'ascii' codec can't encode character u'\\uac00' in position 0: ordinal not in range(128)"
     ]
    }
   ],
   "source": [
    "u\"가\".encode(\"ascii\").decode(\"utf-8\")"
   ]
  },
  {
   "cell_type": "markdown",
   "metadata": {
    "school_cell_uuid": "91c89092c8214f298cac675bef18ec9a"
   },
   "source": [
    "* str에 encode 메소드를 적용:\n",
    " * 내부적으로 유니코드로 변환 시도\n",
    "* unicode에 decode 메소드를 적용:\n",
    " * 바이트열이 스트링이라고 가정해 버린다."
   ]
  },
  {
   "cell_type": "markdown",
   "metadata": {
    "school_cell_uuid": "c68ab0f9896d418a9884190ca4d51233"
   },
   "source": [
    "### 디폴트 인코딩"
   ]
  },
  {
   "cell_type": "code",
   "execution_count": 39,
   "metadata": {
    "collapsed": false,
    "school_cell_uuid": "4a55df0eedcc4ae785ee92cc843778e4"
   },
   "outputs": [
    {
     "data": {
      "text/plain": [
       "('\\xea\\xb0\\x80', '\\xb0\\xa1', '\\xea\\xb0\\x80')"
      ]
     },
     "execution_count": 39,
     "metadata": {},
     "output_type": "execute_result"
    }
   ],
   "source": [
    "u\"가\".encode(\"utf-8\"), u\"가\".encode(\"cp949\"), \"가\""
   ]
  },
  {
   "cell_type": "code",
   "execution_count": 40,
   "metadata": {
    "collapsed": false,
    "school_cell_uuid": "554a6ff6f2224066b5c68a08ea7419e2"
   },
   "outputs": [
    {
     "name": "stdout",
     "output_type": "stream",
     "text": [
      "ascii\n",
      "None\n",
      "UTF-8\n",
      "UTF-8\n"
     ]
    }
   ],
   "source": [
    "import sys\n",
    "print(sys.getdefaultencoding())\n",
    "print(sys.stdin.encoding)\n",
    "print(sys.stdout.encoding)\n",
    "import locale\n",
    "print(locale.getpreferredencoding())"
   ]
  },
  {
   "cell_type": "markdown",
   "metadata": {
    "school_cell_uuid": "1ead0c585ff44f35bb8926bb759ec31e"
   },
   "source": [
    "### 인코딩 설정"
   ]
  },
  {
   "cell_type": "markdown",
   "metadata": {
    "school_cell_uuid": "411e24c872f144d487654c77ce95cc89"
   },
   "source": [
    "\n",
    "* 콘솔(console) 입력의 경우\n",
    " * 지정하지 않을 경우 windows는 CP949, linux/mac은 LOCALE 설정에 따른다.\n",
    " * 환경변수 `PYTHONIOENCODING` 로 지정가능\n",
    "\n",
    "\n",
    "* 파일 입력의 경우\n",
    " * 첫줄에 다음과 같이 인코딩 설정\n",
    "```\n",
    "#-*- coding: utf-8 -*-\n",
    "```"
   ]
  }
 ],
 "metadata": {
  "kernelspec": {
   "display_name": "Python 2",
   "language": "python",
   "name": "python2"
  },
  "language_info": {
   "codemirror_mode": {
    "name": "ipython",
    "version": 2
   },
   "file_extension": ".py",
   "mimetype": "text/x-python",
   "name": "python",
   "nbconvert_exporter": "python",
   "pygments_lexer": "ipython2",
   "version": "2.7.11"
  }
 },
 "nbformat": 4,
 "nbformat_minor": 0
}