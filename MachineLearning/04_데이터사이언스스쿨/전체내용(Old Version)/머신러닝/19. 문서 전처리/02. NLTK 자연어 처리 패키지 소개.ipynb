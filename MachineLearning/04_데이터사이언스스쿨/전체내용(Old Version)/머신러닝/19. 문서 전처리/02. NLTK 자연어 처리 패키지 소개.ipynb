{
 "cells": [
  {
   "cell_type": "markdown",
   "metadata": {
    "school_cell_uuid": "cefaae3010444fccafdfa84a355ca511"
   },
   "source": [
    "# NLTK 자연어 처리 패키지 소개"
   ]
  },
  {
   "cell_type": "markdown",
   "metadata": {
    "school_cell_uuid": "3c24a3d6746e41a4b6cf785a611ac4bf"
   },
   "source": [
    "NLTK(Natural Language Toolkit) 패키지는 교육용으로 개발된 자연어 처리 및 문서 분석용 파이썬 패키지다. 다양한 기능 및 예제를 가지고 있으며 실무 및 연구에서도 많이 사용된다."
   ]
  },
  {
   "cell_type": "markdown",
   "metadata": {
    "school_cell_uuid": "a18f99f386ed4abc87eb79a0b75f4714"
   },
   "source": [
    "NLTK 패키지가 제공하는 주요 기능은 다음과 같다.\n",
    "\n",
    "* 샘플 corpus 및 사전\n",
    "* 토큰 생성(tokenizing)\n",
    "* 형태소 분석(stemming/lemmatizing)\n",
    "* 품사 태깅(part-of-speech tagging)\n",
    "* 구문 분석(syntax parsing)"
   ]
  },
  {
   "cell_type": "markdown",
   "metadata": {
    "school_cell_uuid": "1ef7eefc1c444359b768dad26942a68f"
   },
   "source": [
    "## 샘플 corpus"
   ]
  },
  {
   "cell_type": "markdown",
   "metadata": {
    "school_cell_uuid": "e9b2856185ce4973b862c5ae9a15bea9"
   },
   "source": [
    "corpus는 분석 작업을 위한 샘플 문서 집합을 말한다. 단순히 소설, 신문 등의 문서를 모아놓은 것도 있지만 대부분 품사. 형태소, 등의 보조적 의미를 추가하고 쉬운 분석을 위해 구조적인 형태로 정리해 놓은 것이 많다."
   ]
  },
  {
   "cell_type": "markdown",
   "metadata": {
    "school_cell_uuid": "1df65896b486415d842a9cd769eab67f"
   },
   "source": [
    "NLTK 패키지의 corpus 서브패키지에서는 다음과 같은 다양한 연구용 corpus를 제공한다. 이 목록은 전체 corpus의 일부일 뿐이다.\n",
    "\n",
    "* averaged_perceptron_tagger Averaged Perceptron Tagger\n",
    "* book_grammars:  Grammars from NLTK Book\n",
    "* brown:  Brown Corpus\n",
    "* chat80:  Chat-80 Data Files\n",
    "* city_database:  City Database\n",
    "* comparative_sentences Comparative Sentence Dataset\n",
    "* dependency_treebank. Dependency Parsed Treebank\n",
    "* gutenberg:  Project Gutenberg Selections\n",
    "* hmm_treebank_pos_tagger Treebank Part of Speech Tagger (HMM)\n",
    "* inaugural:  C-Span Inaugural Address Corpus\n",
    "* large_grammars:  Large context-free and feature-based grammars for parser comparison\n",
    "* mac_morpho:  MAC-MORPHO: Brazilian Portuguese news text with part-of-speech tags\n",
    "* masc_tagged:  MASC Tagged Corpus\n",
    "* maxent_ne_chunker:  ACE Named Entity Chunker (Maximum entropy)\n",
    "* maxent_treebank_pos_tagger Treebank Part of Speech Tagger (Maximum entropy)\n",
    "* movie_reviews:  Sentiment Polarity Dataset Version 2.0\n",
    "* names:  Names Corpus, Version 1.3 (1994-03-29)\n",
    "* nps_chat:  NPS Chat\n",
    "* omw:  Open Multilingual Wordnet\n",
    "* opinion_lexicon:  Opinion Lexicon\n",
    "* pros_cons:  Pros and Cons\n",
    "* ptb:  Penn Treebank\n",
    "* punkt:  Punkt Tokenizer Models\n",
    "* reuters:  The Reuters-21578 benchmark corpus, ApteMod version\n",
    "* sample_grammars:  Sample Grammars\n",
    "* sentence_polarity:  Sentence Polarity Dataset v1.0\n",
    "* sentiwordnet:  SentiWordNet\n",
    "* snowball_data:  Snowball Data\n",
    "* stopwords:  Stopwords Corpus\n",
    "* subjectivity:  Subjectivity Dataset v1.0\n",
    "* tagsets:  Help on Tagsets\n",
    "* treebank:  Penn Treebank Sample\n",
    "* twitter_samples:  Twitter Samples\n",
    "* unicode_samples:  Unicode Samples\n",
    "* universal_tagset:  Mappings to the Universal Part-of-Speech Tagset\n",
    "* universal_treebanks_v20 Universal Treebanks Version 2.0\n",
    "* verbnet:  VerbNet Lexicon, Version 2.1\n",
    "* webtext:  Web Text Corpus\n",
    "* word2vec_sample:  Word2Vec Sample\n",
    "* wordnet:  WordNet\n",
    "* words:  Word Lists"
   ]
  },
  {
   "cell_type": "markdown",
   "metadata": {
    "school_cell_uuid": "2463c3d89c0a4730bdd448ccb95298de"
   },
   "source": [
    "이러한 corpus 자료는 설치시에 제공되는 것이 아니라 `download` 명령으로 사용자가 다운로드 받아야 한다."
   ]
  },
  {
   "cell_type": "code",
   "execution_count": 173,
   "metadata": {
    "collapsed": false,
    "school_cell_uuid": "1b400429bc3c45299985cfec98f9ebc1",
    "scrolled": false
   },
   "outputs": [
    {
     "name": "stdout",
     "output_type": "stream",
     "text": [
      "[nltk_data] Downloading package averaged_perceptron_tagger to\n",
      "[nltk_data]     /home/joel/nltk_data...\n",
      "[nltk_data]   Package averaged_perceptron_tagger is already up-to-\n",
      "[nltk_data]       date!\n",
      "[nltk_data] Downloading package gutenberg to /home/joel/nltk_data...\n",
      "[nltk_data]   Package gutenberg is already up-to-date!\n",
      "[nltk_data] Downloading package punkt to /home/joel/nltk_data...\n",
      "[nltk_data]   Package punkt is already up-to-date!\n",
      "[nltk_data] Downloading package reuters to /home/joel/nltk_data...\n",
      "[nltk_data]   Package reuters is already up-to-date!\n",
      "[nltk_data] Downloading package stopwords to /home/joel/nltk_data...\n",
      "[nltk_data]   Unzipping corpora/stopwords.zip.\n",
      "[nltk_data] Error loading taggers: Package 'taggers' not found in\n",
      "[nltk_data]     index\n",
      "[nltk_data] Downloading package webtext to /home/joel/nltk_data...\n",
      "[nltk_data]   Package webtext is already up-to-date!\n",
      "[nltk_data] Downloading package wordnet to /home/joel/nltk_data...\n",
      "[nltk_data]   Package wordnet is already up-to-date!\n"
     ]
    },
    {
     "data": {
      "text/plain": [
       "True"
      ]
     },
     "execution_count": 173,
     "metadata": {},
     "output_type": "execute_result"
    }
   ],
   "source": [
    "nltk.download('averaged_perceptron_tagger')\n",
    "nltk.download(\"gutenberg\")\n",
    "nltk.download('punkt')\n",
    "nltk.download('reuters')\n",
    "nltk.download(\"stopwords\")\n",
    "nltk.download(\"taggers\")\n",
    "nltk.download(\"webtext\")\n",
    "nltk.download(\"wordnet\")"
   ]
  },
  {
   "cell_type": "code",
   "execution_count": 9,
   "metadata": {
    "collapsed": false,
    "school_cell_uuid": "ad3bcfd416fc42d89d249d9785bf0856"
   },
   "outputs": [
    {
     "data": {
      "text/plain": [
       "[u'austen-emma.txt',\n",
       " u'austen-persuasion.txt',\n",
       " u'austen-sense.txt',\n",
       " u'bible-kjv.txt',\n",
       " u'blake-poems.txt',\n",
       " u'bryant-stories.txt',\n",
       " u'burgess-busterbrown.txt',\n",
       " u'carroll-alice.txt',\n",
       " u'chesterton-ball.txt',\n",
       " u'chesterton-brown.txt',\n",
       " u'chesterton-thursday.txt',\n",
       " u'edgeworth-parents.txt',\n",
       " u'melville-moby_dick.txt',\n",
       " u'milton-paradise.txt',\n",
       " u'shakespeare-caesar.txt',\n",
       " u'shakespeare-hamlet.txt',\n",
       " u'shakespeare-macbeth.txt',\n",
       " u'whitman-leaves.txt']"
      ]
     },
     "execution_count": 9,
     "metadata": {},
     "output_type": "execute_result"
    }
   ],
   "source": [
    "nltk.corpus.gutenberg.fileids()"
   ]
  },
  {
   "cell_type": "code",
   "execution_count": 142,
   "metadata": {
    "collapsed": false,
    "school_cell_uuid": "aef015a5f388443694f902e4fdc6da1f"
   },
   "outputs": [
    {
     "name": "stdout",
     "output_type": "stream",
     "text": [
      "[Emma by Jane Austen 1816]\n",
      "\n",
      "VOLUME I\n",
      "\n",
      "CHAPTER I\n",
      "\n",
      "\n",
      "Emma Woodhouse, handsome, clever, and rich, with a comfortable home\n",
      "and happy disposition, seemed to unite some of the best blessings\n",
      "of existence; and had lived nearly twenty-one years in the world\n",
      "with very little to distress or vex her.\n",
      "\n",
      "She was the youngest of the two daughters of a most affectionate,\n",
      "indulgent father; and had, in consequence of her sister's marriage,\n",
      "been mistress of his house from a very early period.  Her mother\n",
      "had died too long ago for her to have more than an indistinct\n",
      "remembrance of her caresses; and her place had been supplied\n",
      "by an excellent woman as governess, who had fallen little short\n",
      "of a mother in affection.\n",
      "\n",
      "Sixteen years had Miss Taylor been in Mr. Woodhouse's family,\n",
      "less as a governess than a friend, very fond of both daughters,\n",
      "but particularly of Emma.  Between _them_ it was more the intimacy\n",
      "of sisters.  Even before Miss Taylor had ceased to hold the nominal\n",
      "office of governess, the mildness of her temper had hardly allowed\n",
      "her to impose any restraint; and the shadow of authority being\n",
      "now long passed away, they had been living together as friend and\n",
      "friend very mutually attached, and Emma doing just what she liked;\n",
      "highly esteeming Miss Taylor's judgment, but directed chiefly by\n",
      "her own.\n",
      "\n"
     ]
    }
   ],
   "source": [
    "emma_raw = nltk.corpus.gutenberg.raw(\"austen-emma.txt\")\n",
    "print(emma_raw[:1302])"
   ]
  },
  {
   "cell_type": "markdown",
   "metadata": {
    "school_cell_uuid": "f129565fb1e443fe937ae2bf85fac634"
   },
   "source": [
    "## 토큰 생성(tokenizing)"
   ]
  },
  {
   "cell_type": "markdown",
   "metadata": {
    "school_cell_uuid": "f122c3e0b2e7490a872ceecaacb19422"
   },
   "source": [
    "문서를 분석하기 위해서는 우선 긴 문자열을 분석을 위한 작은 단위로 나누어야 한다. 이 문자열 단위를 토큰(token)이라고 한다. "
   ]
  },
  {
   "cell_type": "code",
   "execution_count": 73,
   "metadata": {
    "collapsed": false,
    "school_cell_uuid": "1e4375058a99499baa1f109bf0c7a637",
    "scrolled": false
   },
   "outputs": [
    {
     "data": {
      "text/plain": [
       "[u'Emma',\n",
       " u'Woodhouse',\n",
       " u',',\n",
       " u'handsome',\n",
       " u',',\n",
       " u'clever',\n",
       " u',',\n",
       " u'and',\n",
       " u'rich',\n",
       " u',',\n",
       " u'with',\n",
       " u'a']"
      ]
     },
     "execution_count": 73,
     "metadata": {},
     "output_type": "execute_result"
    }
   ],
   "source": [
    "from nltk.tokenize import word_tokenize\n",
    "word_tokenize(emma_raw[50:100])"
   ]
  },
  {
   "cell_type": "code",
   "execution_count": 81,
   "metadata": {
    "collapsed": false,
    "school_cell_uuid": "eebd21a3f9d2455689f8371085e5049b"
   },
   "outputs": [
    {
     "data": {
      "text/plain": [
       "[u'Emma', u'Woodhouse', u'handsome', u'clever', u'and', u'rich', u'with', u'a']"
      ]
     },
     "execution_count": 81,
     "metadata": {},
     "output_type": "execute_result"
    }
   ],
   "source": [
    "from nltk.tokenize import RegexpTokenizer\n",
    "t = RegexpTokenizer(\"[\\w]+\")\n",
    "t.tokenize(emma_raw[50:100])"
   ]
  },
  {
   "cell_type": "code",
   "execution_count": 154,
   "metadata": {
    "collapsed": false,
    "school_cell_uuid": "5322ce1a0c3a4a7db0906719d5884a86"
   },
   "outputs": [
    {
     "name": "stdout",
     "output_type": "stream",
     "text": [
      "Sixteen years had Miss Taylor been in Mr. Woodhouse's family,\n",
      "less as a governess than a friend, very fond of both daughters,\n",
      "but particularly of Emma.\n"
     ]
    }
   ],
   "source": [
    "from nltk.tokenize import sent_tokenize\n",
    "print(sent_tokenize(emma_raw[:1000])[3])"
   ]
  },
  {
   "cell_type": "markdown",
   "metadata": {
    "school_cell_uuid": "ec81f06972024f0a9c65e9b88fa2c96e"
   },
   "source": [
    "## 형태소 분석"
   ]
  },
  {
   "cell_type": "markdown",
   "metadata": {
    "school_cell_uuid": "0ee8b0e66a694a26a14aec4cf8fc66f2"
   },
   "source": [
    "형태소 분석이란 어근, 접두사/접미사, 품사(POS, part-of-speech) 등 다양한 언어적 속성의 구조를 파악하는 작업이다. 구체적으로는 다음과 같은 작업으로 나뉜다.\n",
    "\n",
    "* stemming (어근 추출)\n",
    "* lemmatizing (원형 복원)\n",
    "* POS tagging (품사 태깅)"
   ]
  },
  {
   "cell_type": "markdown",
   "metadata": {
    "school_cell_uuid": "1749e8ed4ebe46a593d94348b28b49c9"
   },
   "source": [
    " ### Stemming and lemmatizing"
   ]
  },
  {
   "cell_type": "code",
   "execution_count": 82,
   "metadata": {
    "collapsed": false,
    "school_cell_uuid": "f6b74cbddc1e4be0bf3e7dd99e644b55"
   },
   "outputs": [
    {
     "data": {
      "text/plain": [
       "u'eat'"
      ]
     },
     "execution_count": 82,
     "metadata": {},
     "output_type": "execute_result"
    }
   ],
   "source": [
    "from nltk.stem import PorterStemmer\n",
    "st = PorterStemmer()\n",
    "st.stem(\"eating\")"
   ]
  },
  {
   "cell_type": "code",
   "execution_count": 89,
   "metadata": {
    "collapsed": false,
    "school_cell_uuid": "6b6c67f912814d6c8885262239dec81a"
   },
   "outputs": [
    {
     "data": {
      "text/plain": [
       "'shop'"
      ]
     },
     "execution_count": 89,
     "metadata": {},
     "output_type": "execute_result"
    }
   ],
   "source": [
    "from nltk.stem import LancasterStemmer\n",
    "st = LancasterStemmer()\n",
    "st.stem(\"shopping\")"
   ]
  },
  {
   "cell_type": "code",
   "execution_count": 90,
   "metadata": {
    "collapsed": false,
    "school_cell_uuid": "4689ab9de8794ab2b19ac0d1b4ab0e00"
   },
   "outputs": [
    {
     "data": {
      "text/plain": [
       "u'cook'"
      ]
     },
     "execution_count": 90,
     "metadata": {},
     "output_type": "execute_result"
    }
   ],
   "source": [
    "from nltk.stem import RegexpStemmer\n",
    "st = RegexpStemmer(\"ing\")\n",
    "st.stem(\"cooking\")"
   ]
  },
  {
   "cell_type": "code",
   "execution_count": 95,
   "metadata": {
    "collapsed": false,
    "school_cell_uuid": "944d15f623024c52a533819cb7072fe9"
   },
   "outputs": [
    {
     "name": "stdout",
     "output_type": "stream",
     "text": [
      "cooking\n",
      "cook\n",
      "cookbook\n"
     ]
    }
   ],
   "source": [
    "from nltk.stem import WordNetLemmatizer\n",
    "lm = WordNetLemmatizer()\n",
    "print(lm.lemmatize(\"cooking\"))\n",
    "print(lm.lemmatize(\"cooking\", pos=\"v\"))\n",
    "print(lm.lemmatize(\"cookbooks\"))"
   ]
  },
  {
   "cell_type": "code",
   "execution_count": 99,
   "metadata": {
    "collapsed": false,
    "school_cell_uuid": "a11e9a109d244e708ef124c9bff8db10"
   },
   "outputs": [
    {
     "name": "stdout",
     "output_type": "stream",
     "text": [
      "belief\n",
      "believ\n"
     ]
    }
   ],
   "source": [
    "print(WordNetLemmatizer().lemmatize(\"believes\"))\n",
    "print(LancasterStemmer().stem(\"believes\"))"
   ]
  },
  {
   "cell_type": "markdown",
   "metadata": {
    "school_cell_uuid": "6371fb991d394427a372b321894d88bb"
   },
   "source": [
    "## POS tagging"
   ]
  },
  {
   "cell_type": "markdown",
   "metadata": {
    "school_cell_uuid": "4523460e575440178db54d697a55b42b"
   },
   "source": [
    "POS(part-of-speech)는 품사를 말한다. \n",
    "\n",
    "* Part-of-Speech Tagset\n",
    " * https://www.ling.upenn.edu/courses/Fall_2003/ling001/penn_treebank_pos.htm\n",
    " * http://www.ibm.com/support/knowledgecenter/ko/SS5RWK_3.5.0/com.ibm.discovery.es.ta.doc/iiysspostagset.htm"
   ]
  },
  {
   "cell_type": "code",
   "execution_count": 171,
   "metadata": {
    "collapsed": false,
    "school_cell_uuid": "2dbbbfe32abe4bdaaa8dc86a195aab2d",
    "scrolled": false
   },
   "outputs": [
    {
     "data": {
      "text/plain": [
       "[(u'[', 'NNS'),\n",
       " (u'Emma', 'NNP'),\n",
       " (u'by', 'IN'),\n",
       " (u'Jane', 'NNP'),\n",
       " (u'Austen', 'NNP'),\n",
       " (u'1816', 'CD'),\n",
       " (u']', 'NNP'),\n",
       " (u'VOLUME', 'NNP'),\n",
       " (u'I', 'PRP'),\n",
       " (u'CHAPTER', 'VBP'),\n",
       " (u'I', 'PRP'),\n",
       " (u'Emma', 'NNP'),\n",
       " (u'Woodhouse', 'NNP'),\n",
       " (u',', ','),\n",
       " (u'handsome', 'NN'),\n",
       " (u',', ','),\n",
       " (u'clever', 'NN'),\n",
       " (u',', ','),\n",
       " (u'and', 'CC'),\n",
       " (u'rich', 'JJ'),\n",
       " (u',', ','),\n",
       " (u'with', 'IN'),\n",
       " (u'a', 'DT')]"
      ]
     },
     "execution_count": 171,
     "metadata": {},
     "output_type": "execute_result"
    }
   ],
   "source": [
    "from nltk.tag import pos_tag\n",
    "tagged_list = pos_tag(word_tokenize(emma_raw[:100]))\n",
    "tagged_list"
   ]
  },
  {
   "cell_type": "code",
   "execution_count": 172,
   "metadata": {
    "collapsed": false,
    "school_cell_uuid": "5f9b852e99c4416f808e8f3375c0e9fa"
   },
   "outputs": [
    {
     "data": {
      "text/plain": [
       "[u'[',\n",
       " u'Emma',\n",
       " u'by',\n",
       " u'Jane',\n",
       " u'Austen',\n",
       " u'1816',\n",
       " u']',\n",
       " u'VOLUME',\n",
       " u'I',\n",
       " u'CHAPTER',\n",
       " u'I',\n",
       " u'Emma',\n",
       " u'Woodhouse',\n",
       " u',',\n",
       " u'handsome',\n",
       " u',',\n",
       " u'clever',\n",
       " u',',\n",
       " u'and',\n",
       " u'rich',\n",
       " u',',\n",
       " u'with',\n",
       " u'a']"
      ]
     },
     "execution_count": 172,
     "metadata": {},
     "output_type": "execute_result"
    }
   ],
   "source": [
    "from nltk.tag import untag\n",
    "untag(tagged_list)"
   ]
  }
 ],
 "metadata": {
  "kernelspec": {
   "display_name": "Python 2",
   "language": "python",
   "name": "python2"
  },
  "language_info": {
   "codemirror_mode": {
    "name": "ipython",
    "version": 2
   },
   "file_extension": ".py",
   "mimetype": "text/x-python",
   "name": "python",
   "nbconvert_exporter": "python",
   "pygments_lexer": "ipython2",
   "version": "2.7.11"
  }
 },
 "nbformat": 4,
 "nbformat_minor": 0
}