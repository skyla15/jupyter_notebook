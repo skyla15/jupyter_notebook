{
 "cells": [
  {
   "cell_type": "markdown",
   "metadata": {
    "school_cell_uuid": "0e4c08e3a79e4b1e8f0744218c2b070d"
   },
   "source": [
    "# konlpy 한국어 처리 패키지 소개"
   ]
  },
  {
   "cell_type": "markdown",
   "metadata": {
    "school_cell_uuid": "143ed59c3e9e4786b58c52996198dfcf"
   },
   "source": [
    "konlpy는 한국어 정보처리를 위한 파이썬 패키지이다. \n",
    "\n",
    "* http://konlpy.org/ko/v0.4.4/\n",
    "* https://github.com/konlpy/konlpy"
   ]
  },
  {
   "cell_type": "markdown",
   "metadata": {
    "school_cell_uuid": "ab1539cc28a240ceb304e9e256573219"
   },
   "source": [
    "konlpy는 다음과 같은 다양한 형태소 분석, 태깅 라이브러리를 파이썬에서 쉽게 사용할 수 있도록 모아놓았다.\n",
    "\n",
    "* Kkma\n",
    " * http://kkma.snu.ac.kr/\n",
    "* Hannanum\n",
    " * http://semanticweb.kaist.ac.kr/hannanum/\n",
    "* Twitter\n",
    " * https://github.com/twitter/twitter-korean-text/\n",
    "* Komoran\n",
    " * http://www.shineware.co.kr/?page_id=835\n",
    "* Mecab\n",
    " * https://bitbucket.org/eunjeon/mecab-ko-dic"
   ]
  },
  {
   "cell_type": "markdown",
   "metadata": {
    "school_cell_uuid": "244f5a14ddd44fdd805bdb534b669d00"
   },
   "source": [
    "konlpy 는 다음과 같은 기능을 제공한다.\n",
    "\n",
    "* 한국어 corpus\n",
    "* 한국어 처리 유틸리티\n",
    "* 형태소 분석 및 품사 태깅"
   ]
  },
  {
   "cell_type": "markdown",
   "metadata": {
    "school_cell_uuid": "240ff9b1ad014f91b179335673cc2005"
   },
   "source": [
    "## 한국어 corpus"
   ]
  },
  {
   "cell_type": "code",
   "execution_count": 4,
   "metadata": {
    "collapsed": false,
    "school_cell_uuid": "7f80a49dfe8b46d486f0db8fe011e301"
   },
   "outputs": [
    {
     "data": {
      "text/plain": [
       "['constitution.txt']"
      ]
     },
     "execution_count": 4,
     "metadata": {},
     "output_type": "execute_result"
    }
   ],
   "source": [
    "from konlpy.corpus import kolaw\n",
    "kolaw.fileids()"
   ]
  },
  {
   "cell_type": "code",
   "execution_count": 6,
   "metadata": {
    "collapsed": false,
    "school_cell_uuid": "e1d24940656f4f9f9e6032f7a14056da"
   },
   "outputs": [
    {
     "name": "stdout",
     "output_type": "stream",
     "text": [
      "대한민국헌법\n",
      "\n",
      "유구한 역사와 전통에 빛나는 우리 대한국민은 3·1운동으로 건립된 대한민국임시정부의 법통과 불의에 항거한 4·19민주이념을 계승하고, 조국의 민주개혁과 평화적 통일의\n"
     ]
    }
   ],
   "source": [
    "c = kolaw.open('constitution.txt').read()\n",
    "print(c[:100])"
   ]
  },
  {
   "cell_type": "code",
   "execution_count": 9,
   "metadata": {
    "collapsed": false,
    "school_cell_uuid": "34851c3c80d344688cdcb98a3826f325"
   },
   "outputs": [
    {
     "data": {
      "text/plain": [
       "['1809895.txt',\n",
       " '1809894.txt',\n",
       " '1809898.txt',\n",
       " '1809896.txt',\n",
       " '1809890.txt',\n",
       " '1809899.txt',\n",
       " '1809891.txt',\n",
       " '1809892.txt',\n",
       " '1809893.txt',\n",
       " '1809897.txt']"
      ]
     },
     "execution_count": 9,
     "metadata": {},
     "output_type": "execute_result"
    }
   ],
   "source": [
    "from konlpy.corpus import kobill\n",
    "kobill.fileids()"
   ]
  },
  {
   "cell_type": "code",
   "execution_count": 11,
   "metadata": {
    "collapsed": false,
    "school_cell_uuid": "ab2c5be9e19646e8a8cfb97681a115e3"
   },
   "outputs": [
    {
     "name": "stdout",
     "output_type": "stream",
     "text": [
      "지방공무원법 일부개정법률안\n",
      "\n",
      "(정의화의원 대표발의 )\n",
      "\n",
      " 의 안\n",
      " 번 호\n",
      "\n",
      "9890\n",
      "\n",
      "발의연월일 : 2010.  11.  12.  \n",
      "\n",
      "발  의  자 : 정의화․이명수․김을동 \n",
      "\n",
      "이\n"
     ]
    }
   ],
   "source": [
    "d = kobill.open('1809890.txt').read()\n",
    "print(d[:100])"
   ]
  },
  {
   "cell_type": "markdown",
   "metadata": {
    "school_cell_uuid": "75aee6f9c32440399a9ecebccd7bad2e"
   },
   "source": [
    "## 한국어 처리 유틸리티"
   ]
  },
  {
   "cell_type": "code",
   "execution_count": 7,
   "metadata": {
    "collapsed": false,
    "school_cell_uuid": "2a342ab3e626469ba414fbb84dfa3eda"
   },
   "outputs": [
    {
     "name": "stdout",
     "output_type": "stream",
     "text": [
      "[u'\\ud55c\\uae00', {u'\\ud55c\\uae00 \\ud0a4': [u'\\ud55c\\uae00 \\ubc38\\ub9581', u'\\ud55c\\uae00 \\ubc38\\ub9582']}]\n"
     ]
    }
   ],
   "source": [
    "x = [u\"한글\", {u\"한글 키\": [u\"한글 밸류1\", u\"한글 밸류2\"]}]\n",
    "print(x)"
   ]
  },
  {
   "cell_type": "code",
   "execution_count": 8,
   "metadata": {
    "collapsed": false,
    "school_cell_uuid": "a44a178fbe0b42018412156a5e6d3af4"
   },
   "outputs": [
    {
     "name": "stdout",
     "output_type": "stream",
     "text": [
      "[한글,\n",
      " {한글 키: [한글 밸류1, 한글 밸류2]}]\n"
     ]
    }
   ],
   "source": [
    "from konlpy.utils import pprint\n",
    "pprint(x)"
   ]
  },
  {
   "cell_type": "code",
   "execution_count": 14,
   "metadata": {
    "collapsed": false,
    "school_cell_uuid": "f76b02f3cddc4909800416e2bab9d0c0"
   },
   "outputs": [
    {
     "name": "stdout",
     "output_type": "stream",
     "text": [
      "0\t대한민국헌법 유구한 역사와\n",
      "9\t대한국민은 3·1운동으로 건립된 대한민국임시정부의 법통과 불의에\n",
      "98\t총강 제1조 ① 대한민국은 민주공화국이다. ②대한민국의\n",
      "100\t① 대한민국은 민주공화국이다. ②대한민국의 주권은 국민에게\n",
      "110\t나온다. 제2조 ① 대한민국의 국민이 되는\n",
      "126\t의무를 진다. 제3조 대한민국의 영토는 한반도와\n",
      "133\t부속도서로 한다. 제4조 대한민국은 통일을 지향하며,\n",
      "147\t추진한다. 제5조 ① 대한민국은 국제평화의 유지에\n",
      "787\t군무원이 아닌 국민은 대한민국의 영역안에서는 중대한\n",
      "1836\t파견 또는 외국군대의 대한민국 영역안에서의 주류에\n",
      "3620\t경제 제119조 ① 대한민국의 경제질서는 개인과\n"
     ]
    }
   ],
   "source": [
    "from konlpy.utils import concordance\n",
    "idx = concordance(u'대한민국', c, show=True)"
   ]
  },
  {
   "cell_type": "code",
   "execution_count": 15,
   "metadata": {
    "collapsed": false,
    "school_cell_uuid": "22b6670688f54ec288c090fcb97e29b4"
   },
   "outputs": [
    {
     "data": {
      "text/plain": [
       "[0, 9, 98, 100, 110, 126, 133, 147, 787, 1836, 3620]"
      ]
     },
     "execution_count": 15,
     "metadata": {},
     "output_type": "execute_result"
    }
   ],
   "source": [
    "idx"
   ]
  },
  {
   "cell_type": "markdown",
   "metadata": {
    "school_cell_uuid": "97879e3ed2f34d72b34d1ca880bd6aef"
   },
   "source": [
    "## 형태소 분석"
   ]
  },
  {
   "cell_type": "markdown",
   "metadata": {
    "school_cell_uuid": "64f3dca5edac4f9085eb91993e846246"
   },
   "source": [
    "konlpy는 tag 서브패키지에서 형태소 분석을 위한 5개의 클래스를 제공한다.\n",
    "\n",
    "* `Kkma`\n",
    "* `Hannanum`\n",
    "* `Twitter`\n",
    "* `Komoran`\n",
    "* `Mecab`\n",
    "\n",
    "이 클래스는 다음과 같은 메서드를 대부분 제공한다.\n",
    "\n",
    "* `morphs` : 형태소 추출\n",
    "* `nouns` : 명사 추출\n",
    "* `pos` : pos 태깅"
   ]
  },
  {
   "cell_type": "code",
   "execution_count": 41,
   "metadata": {
    "collapsed": false,
    "school_cell_uuid": "9f10ef1f00f942499939fd3ea672c27f",
    "scrolled": false
   },
   "outputs": [],
   "source": [
    "from konlpy.tag import *\n",
    "hannanum = Hannanum()\n",
    "kkma = Kkma()\n",
    "twitter = Twitter()"
   ]
  },
  {
   "cell_type": "markdown",
   "metadata": {
    "school_cell_uuid": "fd522673d75e4e7cb5d5f0d340a0d6a5"
   },
   "source": [
    "### 명사 추출"
   ]
  },
  {
   "cell_type": "code",
   "execution_count": 27,
   "metadata": {
    "collapsed": false,
    "school_cell_uuid": "d187899ebc5640368a6d33effb710e1d"
   },
   "outputs": [
    {
     "name": "stdout",
     "output_type": "stream",
     "text": [
      "[대한민국헌법,\n",
      " 유구,\n",
      " 역사,\n",
      " 전통,\n",
      " 빛,\n",
      " 우리,\n",
      " 대한국민,\n",
      " 3·1운동,\n",
      " 건립,\n",
      " 대한민국임시정부,\n",
      " 법통,\n",
      " 불의,\n",
      " 항거]\n"
     ]
    }
   ],
   "source": [
    "pprint(hannanum.nouns(c[:65]))"
   ]
  },
  {
   "cell_type": "code",
   "execution_count": 33,
   "metadata": {
    "collapsed": false,
    "school_cell_uuid": "8828336032f44002af47390b09442426"
   },
   "outputs": [
    {
     "name": "stdout",
     "output_type": "stream",
     "text": [
      "[대한,\n",
      " 대한민국,\n",
      " 대한민국헌법,\n",
      " 민국,\n",
      " 헌법,\n",
      " 유구,\n",
      " 역사,\n",
      " 전통,\n",
      " 우리,\n",
      " 국민,\n",
      " 3,\n",
      " 1,\n",
      " 1운동,\n",
      " 운동,\n",
      " 건립,\n",
      " 대한민국임시정부,\n",
      " 임시,\n",
      " 정부,\n",
      " 법통,\n",
      " 불의,\n",
      " 항거]\n"
     ]
    }
   ],
   "source": [
    "pprint(kkma.nouns(c[:65]))"
   ]
  },
  {
   "cell_type": "code",
   "execution_count": 38,
   "metadata": {
    "collapsed": false,
    "school_cell_uuid": "c40e74f66b3b46f9a3ef73caeea7c641"
   },
   "outputs": [
    {
     "name": "stdout",
     "output_type": "stream",
     "text": [
      "[대한민국,\n",
      " 헌법,\n",
      " 유구,\n",
      " 역사,\n",
      " 전통,\n",
      " 우리,\n",
      " 대한,\n",
      " 국민,\n",
      " 운동,\n",
      " 건립,\n",
      " 대한민국,\n",
      " 임시정부,\n",
      " 법,\n",
      " 통과,\n",
      " 불의,\n",
      " 항거]\n"
     ]
    }
   ],
   "source": [
    "pprint(twitter.nouns(c[:65]))"
   ]
  },
  {
   "cell_type": "markdown",
   "metadata": {
    "school_cell_uuid": "ee183964b2094d64ad17673fe835b0ac"
   },
   "source": [
    "### 형태소 추출"
   ]
  },
  {
   "cell_type": "code",
   "execution_count": 29,
   "metadata": {
    "collapsed": false,
    "school_cell_uuid": "6626659da2234af89ac5b0d5cf9040f1"
   },
   "outputs": [
    {
     "name": "stdout",
     "output_type": "stream",
     "text": [
      "[대한민국헌법,\n",
      " 유구,\n",
      " 하,\n",
      " ㄴ,\n",
      " 역사,\n",
      " 와,\n",
      " 전통,\n",
      " 에,\n",
      " 빛,\n",
      " 나는,\n",
      " 우리,\n",
      " 대한국민,\n",
      " 은,\n",
      " 3·1운동,\n",
      " 으로,\n",
      " 건립,\n",
      " 되,\n",
      " ㄴ,\n",
      " 대한민국임시정부,\n",
      " 의,\n",
      " 법통,\n",
      " 과,\n",
      " 불의,\n",
      " 에,\n",
      " 항거]\n"
     ]
    }
   ],
   "source": [
    "pprint(hannanum.morphs(c[:65]))"
   ]
  },
  {
   "cell_type": "code",
   "execution_count": 39,
   "metadata": {
    "collapsed": false,
    "school_cell_uuid": "e54ef02c9ad4433caee92c401ab78965"
   },
   "outputs": [
    {
     "name": "stdout",
     "output_type": "stream",
     "text": [
      "[대한민국,\n",
      " 헌법,\n",
      " 유구,\n",
      " 하,\n",
      " ㄴ,\n",
      " 역사,\n",
      " 와,\n",
      " 전통,\n",
      " 에,\n",
      " 빛나,\n",
      " 는,\n",
      " 우리,\n",
      " 대하,\n",
      " ㄴ,\n",
      " 국민,\n",
      " 은,\n",
      " 3,\n",
      " ·,\n",
      " 1,\n",
      " 운동,\n",
      " 으로,\n",
      " 건립,\n",
      " 되,\n",
      " ㄴ,\n",
      " 대한민국,\n",
      " 임시,\n",
      " 정부,\n",
      " 의,\n",
      " 법통,\n",
      " 과,\n",
      " 불의,\n",
      " 에,\n",
      " 항거]\n"
     ]
    }
   ],
   "source": [
    "pprint(kkma.morphs(c[:65]))"
   ]
  },
  {
   "cell_type": "code",
   "execution_count": 42,
   "metadata": {
    "collapsed": false,
    "school_cell_uuid": "bd4bb9aecf334af5a8bf9c80cbc31d41"
   },
   "outputs": [
    {
     "name": "stdout",
     "output_type": "stream",
     "text": [
      "[대한민국,\n",
      " 헌법,\n",
      " 유구,\n",
      " 한,\n",
      " 역사,\n",
      " 와,\n",
      " 전통,\n",
      " 에,\n",
      " 빛나는,\n",
      " 우리,\n",
      " 대한,\n",
      " 국민,\n",
      " 은,\n",
      " 3,\n",
      " ·,\n",
      " 1,\n",
      " 운동,\n",
      " 으로,\n",
      " 건립,\n",
      " 된,\n",
      " 대한민국,\n",
      " 임시정부,\n",
      " 의,\n",
      " 법,\n",
      " 통과,\n",
      " 불의,\n",
      " 에,\n",
      " 항거]\n"
     ]
    }
   ],
   "source": [
    "pprint(twitter.morphs(c[:65]))"
   ]
  },
  {
   "cell_type": "markdown",
   "metadata": {
    "school_cell_uuid": "ea7e1c31c110485f9016f6f29fbf4148"
   },
   "source": [
    "### 품사 태깅"
   ]
  },
  {
   "cell_type": "markdown",
   "metadata": {
    "school_cell_uuid": "babc095b565549e3b9ba71766746f8f6"
   },
   "source": [
    "품사 태그표\n",
    "\n",
    "* https://docs.google.com/spreadsheets/d/1OGAjUvalBuX-oZvZ_-9tEfYD2gQe7hTGsgUpiiBSXI8/edit#gid=0"
   ]
  },
  {
   "cell_type": "code",
   "execution_count": 28,
   "metadata": {
    "collapsed": false,
    "school_cell_uuid": "45070e395aa64359b661f7edd2c5de45"
   },
   "outputs": [
    {
     "name": "stdout",
     "output_type": "stream",
     "text": [
      "[(대한민국헌법, N),\n",
      " (유구, N),\n",
      " (하, X),\n",
      " (ㄴ, E),\n",
      " (역사, N),\n",
      " (와, J),\n",
      " (전통, N),\n",
      " (에, J),\n",
      " (빛, N),\n",
      " (나는, J),\n",
      " (우리, N),\n",
      " (대한국민, N),\n",
      " (은, J),\n",
      " (3·1운동, N),\n",
      " (으로, J),\n",
      " (건립, N),\n",
      " (되, X),\n",
      " (ㄴ, E),\n",
      " (대한민국임시정부, N),\n",
      " (의, J),\n",
      " (법통, N),\n",
      " (과, J),\n",
      " (불의, N),\n",
      " (에, J),\n",
      " (항거, N)]\n"
     ]
    }
   ],
   "source": [
    "pprint(hannanum.pos(c[:65]))"
   ]
  },
  {
   "cell_type": "code",
   "execution_count": 43,
   "metadata": {
    "collapsed": false,
    "school_cell_uuid": "e6501f0aeae14c1cbc9eb562fda0ae94"
   },
   "outputs": [
    {
     "name": "stdout",
     "output_type": "stream",
     "text": [
      "[(대한민국, NNG),\n",
      " (헌법, NNG),\n",
      " (유구, NNG),\n",
      " (하, XSV),\n",
      " (ㄴ, ETD),\n",
      " (역사, NNG),\n",
      " (와, JC),\n",
      " (전통, NNG),\n",
      " (에, JKM),\n",
      " (빛나, VV),\n",
      " (는, ETD),\n",
      " (우리, NNM),\n",
      " (대하, VV),\n",
      " (ㄴ, ETD),\n",
      " (국민, NNG),\n",
      " (은, JX),\n",
      " (3, NR),\n",
      " (·, SP),\n",
      " (1, NR),\n",
      " (운동, NNG),\n",
      " (으로, JKM),\n",
      " (건립, NNG),\n",
      " (되, XSV),\n",
      " (ㄴ, ETD),\n",
      " (대한민국, NNG),\n",
      " (임시, NNG),\n",
      " (정부, NNG),\n",
      " (의, JKG),\n",
      " (법통, NNG),\n",
      " (과, JC),\n",
      " (불의, NNG),\n",
      " (에, JKM),\n",
      " (항거, NNG)]\n"
     ]
    }
   ],
   "source": [
    "pprint(kkma.pos(c[:65]))"
   ]
  },
  {
   "cell_type": "code",
   "execution_count": 44,
   "metadata": {
    "collapsed": false,
    "school_cell_uuid": "8c9ae7e5dc0d4083bc9a230788d8a967"
   },
   "outputs": [
    {
     "name": "stdout",
     "output_type": "stream",
     "text": [
      "[(대한민국, Noun),\n",
      " (헌법, Noun),\n",
      " (유구, Noun),\n",
      " (한, Josa),\n",
      " (역사, Noun),\n",
      " (와, Josa),\n",
      " (전통, Noun),\n",
      " (에, Josa),\n",
      " (빛나는, Verb),\n",
      " (우리, Noun),\n",
      " (대한, Noun),\n",
      " (국민, Noun),\n",
      " (은, Josa),\n",
      " (3, Number),\n",
      " (·, Foreign),\n",
      " (1, Number),\n",
      " (운동, Noun),\n",
      " (으로, Josa),\n",
      " (건립, Noun),\n",
      " (된, Verb),\n",
      " (대한민국, Noun),\n",
      " (임시정부, Noun),\n",
      " (의, Josa),\n",
      " (법, Noun),\n",
      " (통과, Noun),\n",
      " (불의, Noun),\n",
      " (에, Josa),\n",
      " (항거, Noun)]\n"
     ]
    }
   ],
   "source": [
    "pprint(twitter.pos(c[:65]))"
   ]
  }
 ],
 "metadata": {
  "kernelspec": {
   "display_name": "Python 2",
   "language": "python",
   "name": "python2"
  },
  "language_info": {
   "codemirror_mode": {
    "name": "ipython",
    "version": 2
   },
   "file_extension": ".py",
   "mimetype": "text/x-python",
   "name": "python",
   "nbconvert_exporter": "python",
   "pygments_lexer": "ipython2",
   "version": "2.7.11"
  }
 },
 "nbformat": 4,
 "nbformat_minor": 0
}