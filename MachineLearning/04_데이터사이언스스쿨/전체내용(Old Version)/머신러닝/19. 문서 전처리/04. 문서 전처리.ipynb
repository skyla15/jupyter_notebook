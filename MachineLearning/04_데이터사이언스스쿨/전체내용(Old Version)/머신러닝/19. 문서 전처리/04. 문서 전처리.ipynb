{
 "cells": [
  {
   "cell_type": "markdown",
   "metadata": {
    "school_cell_uuid": "aecf57ef3f9b4c4481e838841b97d1d3"
   },
   "source": [
    "# 문서 전처리"
   ]
  },
  {
   "cell_type": "markdown",
   "metadata": {
    "school_cell_uuid": "be175997ec674309a0ef2184e17df704"
   },
   "source": [
    "모든 데이터 분석 모형은 숫자로 구성된 고정 차원 벡터를 독립 변수로 하고 있으므로 문서(document)를 분석을 하는 경우에도 숫자로 구성된 특징 벡터(feature vector)를 문서로부터 추출하는 과정이 필요하다. 이러한 과정을 문서 전처리(document preprocessing)라고 한다."
   ]
  },
  {
   "cell_type": "markdown",
   "metadata": {
    "school_cell_uuid": "e1c0b662aec34c26a468e487fb34e270"
   },
   "source": [
    "## BOW (Bag of Words)\n",
    "\n",
    "문서를 숫자 벡터로 변환하는 가장 기본적인 방법은 BOW (Bag of Words) 이다. BOW 방법에서는 전체 문서 $\\{D_1, D_2, \\ldots, D_n\\}$ 들를 구성하는 고정된 단어장(vocabulary) $\\{W_1, W_2, \\ldots, W_m\\}$ 를  만들고 $D_i$라는 개별 문서에 단어장에 해당하는 단어들이 포함되어 있는지를 표시하는 방법이다.\n",
    "\n",
    "$$ \\text{ if word $W_j$ in document $D_i$ }, \\;\\; \\rightarrow x_{ij} = 1 $$ "
   ]
  },
  {
   "cell_type": "markdown",
   "metadata": {
    "school_cell_uuid": "c6cf0143119a4cb8accc4d518c48ebd0"
   },
   "source": [
    "## Scikit-Learn 의 문서 전처리 기능"
   ]
  },
  {
   "cell_type": "markdown",
   "metadata": {
    "school_cell_uuid": "7be95ff7ab9343de904fc3a306c0c5d2"
   },
   "source": [
    "Scikit-Learn 의 feature_extraction.text 서브 패키지는 다음과 같은 문서 전처리용 클래스를 제공한다.\n",
    "\n",
    "* [`CountVectorizer`](http://scikit-learn.org/stable/modules/generated/sklearn.feature_extraction.text.CountVectorizer.html): \n",
    " * 문서 집합으로부터 단어의 수를 세어 카운트 행렬을 만든다.\n",
    "* [`TfidfVectorizer`](http://scikit-learn.org/stable/modules/generated/sklearn.feature_extraction.text.TfidfVectorizer.html): \n",
    " * 문서 집합으로부터 단어의 수를 세고 TF-IDF 방식으로 단어의 가중치를 조정한 카운트 행렬을 만든다.\n",
    "* [`HashingVectorizer`](http://scikit-learn.org/stable/modules/generated/sklearn.feature_extraction.text.HashingVectorizer.html): \n",
    " * hashing trick 을 사용하여 빠르게 카운트 행렬을 만든다.\n",
    " "
   ]
  },
  {
   "cell_type": "code",
   "execution_count": 2,
   "metadata": {
    "collapsed": false,
    "school_cell_uuid": "3e709d78662e4d5aaf4222f7ec748ca8"
   },
   "outputs": [
    {
     "data": {
      "text/plain": [
       "{u'and': 0,\n",
       " u'document': 1,\n",
       " u'first': 2,\n",
       " u'is': 3,\n",
       " u'last': 4,\n",
       " u'one': 5,\n",
       " u'second': 6,\n",
       " u'the': 7,\n",
       " u'third': 8,\n",
       " u'this': 9}"
      ]
     },
     "execution_count": 2,
     "metadata": {},
     "output_type": "execute_result"
    }
   ],
   "source": [
    "from sklearn.feature_extraction.text import CountVectorizer\n",
    "corpus = [\n",
    "    'This is the first document.',\n",
    "    'This is the second second document.',\n",
    "    'And the third one.',\n",
    "    'Is this the first document?',\n",
    "    'The last document?',    \n",
    "]\n",
    "vect = CountVectorizer()\n",
    "vect.fit(corpus)\n",
    "vect.vocabulary_"
   ]
  },
  {
   "cell_type": "code",
   "execution_count": 3,
   "metadata": {
    "collapsed": false,
    "school_cell_uuid": "070145846ec14965b9a119d727892539"
   },
   "outputs": [
    {
     "data": {
      "text/plain": [
       "array([[0, 1, 0, 1, 0, 0, 1, 1, 0, 1]])"
      ]
     },
     "execution_count": 3,
     "metadata": {},
     "output_type": "execute_result"
    }
   ],
   "source": [
    "vect.transform(['This is the second document.']).toarray()"
   ]
  },
  {
   "cell_type": "code",
   "execution_count": 4,
   "metadata": {
    "collapsed": false,
    "school_cell_uuid": "33b0491b593c43cca2a79fab3e560f91"
   },
   "outputs": [
    {
     "data": {
      "text/plain": [
       "array([[0, 0, 0, 0, 0, 0, 0, 0, 0, 0]])"
      ]
     },
     "execution_count": 4,
     "metadata": {},
     "output_type": "execute_result"
    }
   ],
   "source": [
    "vect.transform(['Something completely new.']).toarray()"
   ]
  },
  {
   "cell_type": "code",
   "execution_count": 5,
   "metadata": {
    "collapsed": false,
    "school_cell_uuid": "3ec4492b57d04eb7ace34fb644734f42"
   },
   "outputs": [
    {
     "data": {
      "text/plain": [
       "array([[0, 1, 1, 1, 0, 0, 0, 1, 0, 1],\n",
       "       [0, 1, 0, 1, 0, 0, 2, 1, 0, 1],\n",
       "       [1, 0, 0, 0, 0, 1, 0, 1, 1, 0],\n",
       "       [0, 1, 1, 1, 0, 0, 0, 1, 0, 1],\n",
       "       [0, 1, 0, 0, 1, 0, 0, 1, 0, 0]])"
      ]
     },
     "execution_count": 5,
     "metadata": {},
     "output_type": "execute_result"
    }
   ],
   "source": [
    "vect.transform(corpus).toarray()"
   ]
  },
  {
   "cell_type": "markdown",
   "metadata": {
    "school_cell_uuid": "e2659efcd5594984ac0c8689f410ba82"
   },
   "source": [
    "## 문서 처리 옵션"
   ]
  },
  {
   "cell_type": "markdown",
   "metadata": {
    "school_cell_uuid": "6a9258a3bfce410e8f0e38392528ec54"
   },
   "source": [
    "`CountVectorizer`는 다양한 인수를 가진다. 그 중 중요한 것들은 다음과 같다.\n",
    "\n",
    "* `stop_words` : 문자열 {‘english’}, 리스트 또는 None (디폴트)\n",
    " * stop words 목록.‘english’이면 영어용 스탑 워드 사용.\n",
    "* `analyzer` : 문자열 {‘word’, ‘char’, ‘char_wb’} 또는 함수\n",
    " * 단어 n-그램, 문자 n-그램, 단어 내의 문자 n-그램 \n",
    "* `tokenizer` : 함수 또는 None (디폴트)\n",
    " * 토큰 생성 함수 .\n",
    "* `token_pattern` : string\n",
    " * 토큰 정의용 정규 표현식 \n",
    "* `ngram_range` : (min_n, max_n) 튜플\n",
    " * n-그램 범위 \n",
    "* `max_df` : 정수 또는 [0.0, 1.0] 사이의 실수. 디폴트 1\n",
    " * 단어장에 포함되기 위한 최대 빈도\n",
    "* `min_df` : 정수 또는 [0.0, 1.0] 사이의 실수.  디폴트 1\n",
    " * 단어장에 포함되기 위한 최소 빈도 \n",
    "* `vocabulary` : 사전이나 리스트\n",
    " * 단어장"
   ]
  },
  {
   "cell_type": "markdown",
   "metadata": {
    "school_cell_uuid": "cd8d9eb7fb894be3a225a96b7b08a48d"
   },
   "source": [
    "## Stop Words"
   ]
  },
  {
   "cell_type": "markdown",
   "metadata": {
    "school_cell_uuid": "674007db62ab4614a1e83af613767fc9"
   },
   "source": [
    "Stop Words 는 문서에서 단어장을 생성할 때 무시할 수 있는 단어를 말한다. 보통 영어의 관사나 접속사, 한국어의 조사 등이 여기에 해당한다. `stop_words` 인수로 조절할 수 있다."
   ]
  },
  {
   "cell_type": "code",
   "execution_count": 6,
   "metadata": {
    "collapsed": false,
    "school_cell_uuid": "c19c707f5b7e4f03bd16047c41b5fe2e"
   },
   "outputs": [
    {
     "data": {
      "text/plain": [
       "{u'document': 0, u'first': 1, u'last': 2, u'one': 3, u'second': 4, u'third': 5}"
      ]
     },
     "execution_count": 6,
     "metadata": {},
     "output_type": "execute_result"
    }
   ],
   "source": [
    "vect = CountVectorizer(stop_words=[\"and\", \"is\", \"the\", \"this\"]).fit(corpus)\n",
    "vect.vocabulary_"
   ]
  },
  {
   "cell_type": "code",
   "execution_count": 7,
   "metadata": {
    "collapsed": false,
    "school_cell_uuid": "a8f818489aed4d329b1cef167a4a5f2a"
   },
   "outputs": [
    {
     "data": {
      "text/plain": [
       "{u'document': 0, u'second': 1}"
      ]
     },
     "execution_count": 7,
     "metadata": {},
     "output_type": "execute_result"
    }
   ],
   "source": [
    "vect = CountVectorizer(stop_words=\"english\").fit(corpus)\n",
    "vect.vocabulary_"
   ]
  },
  {
   "cell_type": "markdown",
   "metadata": {
    "school_cell_uuid": "e36de7d0c9754b768e50921b97163bb0"
   },
   "source": [
    "## 토큰(token)"
   ]
  },
  {
   "cell_type": "markdown",
   "metadata": {
    "school_cell_uuid": "0e5d729a6d8845daa5b7812c2653ac4e"
   },
   "source": [
    "토큰은 문서에서 단어장을 생성할 때 하나의 단어가 되는 단위를 말한다. `analyzer`, `tokenizer`, `token_pattern` 등의 인수로 조절할 수 있다."
   ]
  },
  {
   "cell_type": "code",
   "execution_count": 8,
   "metadata": {
    "collapsed": false,
    "school_cell_uuid": "adad581e44824a3d99124d794d8ff6cb"
   },
   "outputs": [
    {
     "data": {
      "text/plain": [
       "{u' ': 0,\n",
       " u'.': 1,\n",
       " u'?': 2,\n",
       " u'a': 3,\n",
       " u'c': 4,\n",
       " u'd': 5,\n",
       " u'e': 6,\n",
       " u'f': 7,\n",
       " u'h': 8,\n",
       " u'i': 9,\n",
       " u'l': 10,\n",
       " u'm': 11,\n",
       " u'n': 12,\n",
       " u'o': 13,\n",
       " u'r': 14,\n",
       " u's': 15,\n",
       " u't': 16,\n",
       " u'u': 17}"
      ]
     },
     "execution_count": 8,
     "metadata": {},
     "output_type": "execute_result"
    }
   ],
   "source": [
    "vect = CountVectorizer(analyzer=\"char\").fit(corpus)\n",
    "vect.vocabulary_"
   ]
  },
  {
   "cell_type": "code",
   "execution_count": 9,
   "metadata": {
    "collapsed": false,
    "school_cell_uuid": "67bb95b158cc4e8ea86b98de62aa9276"
   },
   "outputs": [
    {
     "name": "stdout",
     "output_type": "stream",
     "text": [
      "[nltk_data] Downloading package punkt to /home/joel/nltk_data...\n",
      "[nltk_data]   Package punkt is already up-to-date!\n"
     ]
    },
    {
     "data": {
      "text/plain": [
       "{u'.': 0,\n",
       " u'?': 1,\n",
       " u'and': 2,\n",
       " u'document': 3,\n",
       " u'first': 4,\n",
       " u'is': 5,\n",
       " u'last': 6,\n",
       " u'one': 7,\n",
       " u'second': 8,\n",
       " u'the': 9,\n",
       " u'third': 10,\n",
       " u'this': 11}"
      ]
     },
     "execution_count": 9,
     "metadata": {},
     "output_type": "execute_result"
    }
   ],
   "source": [
    "import nltk\n",
    "nltk.download(\"punkt\")\n",
    "vect = CountVectorizer(tokenizer=nltk.word_tokenize).fit(corpus)\n",
    "vect.vocabulary_"
   ]
  },
  {
   "cell_type": "code",
   "execution_count": 10,
   "metadata": {
    "collapsed": false,
    "school_cell_uuid": "fb8a5de3db2a4fa5a5bcbe0c481f2c1d"
   },
   "outputs": [
    {
     "data": {
      "text/plain": [
       "{u'the': 0, u'third': 1, u'this': 2}"
      ]
     },
     "execution_count": 10,
     "metadata": {},
     "output_type": "execute_result"
    }
   ],
   "source": [
    "vect = CountVectorizer(token_pattern=\"t\\w+\").fit(corpus)\n",
    "vect.vocabulary_"
   ]
  },
  {
   "cell_type": "markdown",
   "metadata": {
    "school_cell_uuid": "792d8a8be7c74d3199ee6f396e4dca8d"
   },
   "source": [
    "## n-그램"
   ]
  },
  {
   "cell_type": "markdown",
   "metadata": {
    "collapsed": true,
    "school_cell_uuid": "ce471098be3944c99b774b92427aa8b6"
   },
   "source": [
    "n-그램은 단어장 생성에 사용할 토큰의 크기를 결정한다. 1-그램은 토큰 하나만 단어로 사용하며 2-그램은 두 개의 연결된 토큰을 하나의 단어로 사용한다."
   ]
  },
  {
   "cell_type": "code",
   "execution_count": 11,
   "metadata": {
    "collapsed": false,
    "school_cell_uuid": "16377ccb9f3f4eb48a75ec3f578ba006"
   },
   "outputs": [
    {
     "data": {
      "text/plain": [
       "{u'and the': 0,\n",
       " u'first document': 1,\n",
       " u'is the': 2,\n",
       " u'is this': 3,\n",
       " u'last document': 4,\n",
       " u'second document': 5,\n",
       " u'second second': 6,\n",
       " u'the first': 7,\n",
       " u'the last': 8,\n",
       " u'the second': 9,\n",
       " u'the third': 10,\n",
       " u'third one': 11,\n",
       " u'this is': 12,\n",
       " u'this the': 13}"
      ]
     },
     "execution_count": 11,
     "metadata": {},
     "output_type": "execute_result"
    }
   ],
   "source": [
    "vect = CountVectorizer(ngram_range=(2,2)).fit(corpus)\n",
    "vect.vocabulary_"
   ]
  },
  {
   "cell_type": "code",
   "execution_count": 12,
   "metadata": {
    "collapsed": false,
    "school_cell_uuid": "cfb6d9eb76cf447da36031a6d30b266e"
   },
   "outputs": [
    {
     "data": {
      "text/plain": [
       "{u'the': 0, u'the third': 1, u'third': 2, u'this': 3, u'this the': 4}"
      ]
     },
     "execution_count": 12,
     "metadata": {},
     "output_type": "execute_result"
    }
   ],
   "source": [
    "vect = CountVectorizer(ngram_range=(1,2), token_pattern=\"t\\w+\").fit(corpus)\n",
    "vect.vocabulary_"
   ]
  },
  {
   "cell_type": "markdown",
   "metadata": {
    "school_cell_uuid": "26692f9b92884fa992ac62776fecb56e"
   },
   "source": [
    "## 빈도수"
   ]
  },
  {
   "cell_type": "markdown",
   "metadata": {
    "school_cell_uuid": "0bf059b319ec4f91b24cc57b14258524"
   },
   "source": [
    "`max_df`, `min_df` 인수를 사용하여 문서에서 토큰이 나타난 횟수를 기준으로 단어장을 구성할 수도 있다. 토큰의 빈도가 `max_df`로 지정한 값을 초과 하거나 `min_df`로 지정한 값보다 작은 경우에는 무시한다. 인수 값은 정수인 경우 횟수, 부동소수점인 경우 비중을 뜻한다. "
   ]
  },
  {
   "cell_type": "code",
   "execution_count": 13,
   "metadata": {
    "collapsed": false,
    "school_cell_uuid": "44a67b98b54d4eb2a85c1b513bca6fef"
   },
   "outputs": [
    {
     "data": {
      "text/plain": [
       "({u'document': 0, u'first': 1, u'is': 2, u'this': 3},\n",
       " {u'and', u'last', u'one', u'second', u'the', u'third'})"
      ]
     },
     "execution_count": 13,
     "metadata": {},
     "output_type": "execute_result"
    }
   ],
   "source": [
    "vect = CountVectorizer(max_df=4, min_df=2).fit(corpus)\n",
    "vect.vocabulary_, vect.stop_words_"
   ]
  },
  {
   "cell_type": "code",
   "execution_count": 14,
   "metadata": {
    "collapsed": false,
    "school_cell_uuid": "e8058587c97949c8a95362af3c12893c"
   },
   "outputs": [
    {
     "data": {
      "text/plain": [
       "array([4, 2, 3, 3])"
      ]
     },
     "execution_count": 14,
     "metadata": {},
     "output_type": "execute_result"
    }
   ],
   "source": [
    "vect.transform(corpus).toarray().sum(axis=0)"
   ]
  },
  {
   "cell_type": "markdown",
   "metadata": {
    "school_cell_uuid": "65e8556f8bce4860be040ae0fffb3768"
   },
   "source": [
    "## TF-IDF"
   ]
  },
  {
   "cell_type": "markdown",
   "metadata": {
    "school_cell_uuid": "e937920a0d87431581826d6cf30ea2a1"
   },
   "source": [
    "TF-IDF(Term Frequency – Inverse Document Frequency) 인코딩은 단어를 갯수 그대로 카운트하지 않고 모든 문서에 공통적으로 들어있는 단어의 경우 문서 구별 능력이 떨어진다고 보아 가중치를 축소하는 방법이다. \n",
    "\n",
    "\n",
    "구제적으로는 문서 $d$(document)와 단어 $t$ 에 대해 다음과 같이 계산한다.\n",
    "\n",
    "$$ \\text{tf-idf}(d, t) = \\text{tf}(d, t) \\cdot \\text{idf}(d, t) $$\n",
    "\n",
    "\n",
    "여기에서\n",
    "\n",
    "* $\\text{tf}(d, t)$: 단어의 빈도수\n",
    "* $\\text{idf}(d, t)$ : inverse document frequency \n",
    " \n",
    " $$ \\text{idf}(d, t) = \\log \\dfrac{n_d}{1 + \\text{df}(t)} $$\n",
    " \n",
    "* $n_d$ : 전체 문서의 수\n",
    "* $\\text{df}(t)$:  단어 $t$를 가진 문서의 수"
   ]
  },
  {
   "cell_type": "code",
   "execution_count": 15,
   "metadata": {
    "collapsed": true,
    "school_cell_uuid": "3292542e3194487e9208ca1fb3671d4e"
   },
   "outputs": [],
   "source": [
    "from sklearn.feature_extraction.text import TfidfVectorizer"
   ]
  },
  {
   "cell_type": "code",
   "execution_count": 16,
   "metadata": {
    "collapsed": false,
    "school_cell_uuid": "c4bb72733a504c558e5c61c245d62a63"
   },
   "outputs": [
    {
     "data": {
      "text/plain": [
       "array([[ 0.        ,  0.38947624,  0.55775063,  0.4629834 ,  0.        ,\n",
       "         0.        ,  0.        ,  0.32941651,  0.        ,  0.4629834 ],\n",
       "       [ 0.        ,  0.24151532,  0.        ,  0.28709733,  0.        ,\n",
       "         0.        ,  0.85737594,  0.20427211,  0.        ,  0.28709733],\n",
       "       [ 0.55666851,  0.        ,  0.        ,  0.        ,  0.        ,\n",
       "         0.55666851,  0.        ,  0.26525553,  0.55666851,  0.        ],\n",
       "       [ 0.        ,  0.38947624,  0.55775063,  0.4629834 ,  0.        ,\n",
       "         0.        ,  0.        ,  0.32941651,  0.        ,  0.4629834 ],\n",
       "       [ 0.        ,  0.45333103,  0.        ,  0.        ,  0.80465933,\n",
       "         0.        ,  0.        ,  0.38342448,  0.        ,  0.        ]])"
      ]
     },
     "execution_count": 16,
     "metadata": {},
     "output_type": "execute_result"
    }
   ],
   "source": [
    "tfidv = TfidfVectorizer().fit(corpus)\n",
    "tfidv.transform(corpus).toarray()"
   ]
  },
  {
   "cell_type": "markdown",
   "metadata": {
    "school_cell_uuid": "071c8034b0ad4ba49879832c487592ec"
   },
   "source": [
    "## Hashing Trick"
   ]
  },
  {
   "cell_type": "markdown",
   "metadata": {
    "school_cell_uuid": "ae25f3c0e0dc480496dfe0cba85b23bb"
   },
   "source": [
    "`CountVectorizer`는 모든 작업을 in-memory 상에서 수행하므로 데이터 양이 커지면 속도가 느려지거나 실행이 불가능해진다. 이 때 \n",
    "`HashingVectorizer`를 사용하면 Hashing Trick을 사용하여 메모리 및 실행 시간을 줄일 수 있다."
   ]
  },
  {
   "cell_type": "code",
   "execution_count": 17,
   "metadata": {
    "collapsed": false,
    "school_cell_uuid": "44975509dd7d41bc9a0163faa36ff4ac"
   },
   "outputs": [
    {
     "data": {
      "text/plain": [
       "11314"
      ]
     },
     "execution_count": 17,
     "metadata": {},
     "output_type": "execute_result"
    }
   ],
   "source": [
    "from sklearn.datasets import fetch_20newsgroups\n",
    "twenty = fetch_20newsgroups()\n",
    "len(twenty.data)"
   ]
  },
  {
   "cell_type": "code",
   "execution_count": 18,
   "metadata": {
    "collapsed": false,
    "school_cell_uuid": "81e28a59c9ca4747959ae4bba434b95d"
   },
   "outputs": [
    {
     "name": "stdout",
     "output_type": "stream",
     "text": [
      "CPU times: user 8.93 s, sys: 70.4 ms, total: 9 s\n",
      "Wall time: 8.91 s\n"
     ]
    },
    {
     "data": {
      "text/plain": [
       "<11314x130107 sparse matrix of type '<type 'numpy.int64'>'\n",
       "\twith 1787565 stored elements in Compressed Sparse Row format>"
      ]
     },
     "execution_count": 18,
     "metadata": {},
     "output_type": "execute_result"
    }
   ],
   "source": [
    "%time CountVectorizer().fit(twenty.data).transform(twenty.data)"
   ]
  },
  {
   "cell_type": "code",
   "execution_count": 19,
   "metadata": {
    "collapsed": true,
    "school_cell_uuid": "baf82c040ffd4710a455eabfb2686251"
   },
   "outputs": [],
   "source": [
    "from sklearn.feature_extraction.text import HashingVectorizer\n",
    "hv = HashingVectorizer(n_features=10)"
   ]
  },
  {
   "cell_type": "code",
   "execution_count": 20,
   "metadata": {
    "collapsed": false,
    "school_cell_uuid": "f14946419c1f482bbad18c1afe78cec8"
   },
   "outputs": [
    {
     "name": "stdout",
     "output_type": "stream",
     "text": [
      "CPU times: user 6.05 s, sys: 18.5 ms, total: 6.07 s\n",
      "Wall time: 6.03 s\n"
     ]
    },
    {
     "data": {
      "text/plain": [
       "<11314x10 sparse matrix of type '<type 'numpy.float64'>'\n",
       "\twith 112863 stored elements in Compressed Sparse Row format>"
      ]
     },
     "execution_count": 20,
     "metadata": {},
     "output_type": "execute_result"
    }
   ],
   "source": [
    "%time hv.transform(twenty.data)"
   ]
  },
  {
   "cell_type": "markdown",
   "metadata": {
    "school_cell_uuid": "d36e9b0bb24745a4906cf0ebeb7a50d5"
   },
   "source": [
    "## 형태소 분석기 이용"
   ]
  },
  {
   "cell_type": "code",
   "execution_count": 21,
   "metadata": {
    "collapsed": false,
    "school_cell_uuid": "51360cd8571a46549c68c1ce6f1ff193"
   },
   "outputs": [
    {
     "data": {
      "text/plain": [
       "{u'bought': 0,\n",
       " u'buying': 1,\n",
       " u'buys': 2,\n",
       " u'image': 3,\n",
       " u'imagination': 4,\n",
       " u'imagine': 5,\n",
       " u'imaging': 6}"
      ]
     },
     "execution_count": 21,
     "metadata": {},
     "output_type": "execute_result"
    }
   ],
   "source": [
    "corpus = [\"imaging\", \"image\", \"imagination\", \"imagine\", \"buys\", \"buying\", \"bought\"]\n",
    "vect = CountVectorizer().fit(corpus)\n",
    "vect.vocabulary_"
   ]
  },
  {
   "cell_type": "code",
   "execution_count": 22,
   "metadata": {
    "collapsed": false,
    "school_cell_uuid": "1e34cef8c3354fbaa25e4d3312fd1803"
   },
   "outputs": [],
   "source": [
    "from sklearn.datasets import fetch_20newsgroups\n",
    "twenty = fetch_20newsgroups()\n",
    "docs = twenty.data[:100]"
   ]
  },
  {
   "cell_type": "code",
   "execution_count": 23,
   "metadata": {
    "collapsed": false,
    "school_cell_uuid": "31fac8608bb14d6db9d679b19d121243"
   },
   "outputs": [
    {
     "data": {
      "text/plain": [
       "{u'write': 0,\n",
       " u'writer': 1,\n",
       " u'writers': 2,\n",
       " u'writes': 3,\n",
       " u'writing': 4,\n",
       " u'writing_': 5,\n",
       " u'written': 6}"
      ]
     },
     "execution_count": 23,
     "metadata": {},
     "output_type": "execute_result"
    }
   ],
   "source": [
    "vect = CountVectorizer(stop_words=\"english\", token_pattern=\"wri\\w+\").fit(docs)\n",
    "vect.vocabulary_"
   ]
  },
  {
   "cell_type": "code",
   "execution_count": 27,
   "metadata": {
    "collapsed": false,
    "school_cell_uuid": "fda4801e668e456baf2a6636d6afe52d",
    "scrolled": false
   },
   "outputs": [
    {
     "data": {
      "text/plain": [
       "{u'write': 0, u'writer': 1, u'writing_': 2, u'written': 3}"
      ]
     },
     "execution_count": 27,
     "metadata": {},
     "output_type": "execute_result"
    }
   ],
   "source": [
    "from nltk.stem import SnowballStemmer\n",
    "\n",
    "class StemTokenizer(object):\n",
    "    def __init__(self):\n",
    "        self.s = SnowballStemmer('english')\n",
    "        self.t = CountVectorizer(stop_words=\"english\", token_pattern=\"wri\\w+\").build_tokenizer()\n",
    "    def __call__(self, doc):\n",
    "        return [self.s.stem(t) for t in self.t(doc)]\n",
    "\n",
    "vect = CountVectorizer(tokenizer=StemTokenizer()).fit(docs)\n",
    "vect.vocabulary_"
   ]
  },
  {
   "cell_type": "markdown",
   "metadata": {
    "school_cell_uuid": "04161b97391745468b05afb74dab094a"
   },
   "source": [
    "## 예"
   ]
  },
  {
   "cell_type": "code",
   "execution_count": 31,
   "metadata": {
    "collapsed": false,
    "school_cell_uuid": "4933b282691247e0b7d38815c215e14e",
    "scrolled": false
   },
   "outputs": [],
   "source": [
    "import urllib2\n",
    "import json\n",
    "import string\n",
    "from konlpy.utils import pprint\n",
    "from konlpy.tag import Hannanum\n",
    "hannanum = Hannanum()\n",
    "\n",
    "req = urllib2.Request(\"https://www.datascienceschool.net/download-notebook/708e711429a646818b9dcbb581e0c10a/\")\n",
    "opener = urllib2.build_opener()\n",
    "f = opener.open(req)\n",
    "json = json.loads(f.read())\n",
    "cell = [\"\\n\".join(c[\"source\"]) for c in json[\"cells\"] if c[\"cell_type\"] == u\"markdown\"]\n",
    "docs = [w for w in hannanum.nouns(\" \".join(cell)) if ((not w[0].isnumeric()) and (w[0] not in string.punctuation))]"
   ]
  },
  {
   "cell_type": "code",
   "execution_count": 37,
   "metadata": {
    "collapsed": false,
    "school_cell_uuid": "be5e453cb5374529b225bed083657781"
   },
   "outputs": [
    {
     "data": {
      "image/svg+xml": [
       "<?xml version=\"1.0\" encoding=\"utf-8\" standalone=\"no\"?>\n",
       "<!DOCTYPE svg PUBLIC \"-//W3C//DTD SVG 1.1//EN\"\n",
       "  \"http://www.w3.org/Graphics/SVG/1.1/DTD/svg11.dtd\">\n",
       "<!-- Created with matplotlib (http://matplotlib.org/) -->\n",
       "<svg height=\"342pt\" version=\"1.1\" viewBox=\"0 0 487 342\" width=\"487pt\" xmlns=\"http://www.w3.org/2000/svg\" xmlns:xlink=\"http://www.w3.org/1999/xlink\">\n",
       " <defs>\n",
       "  <style type=\"text/css\">\n",
       "*{stroke-linecap:butt;stroke-linejoin:round;stroke-miterlimit:100000;}\n",
       "  </style>\n",
       " </defs>\n",
       " <g id=\"figure_1\">\n",
       "  <g id=\"patch_1\">\n",
       "   <path d=\"M 0 342.017969 \n",
       "L 487.263281 342.017969 \n",
       "L 487.263281 0 \n",
       "L 0 0 \n",
       "z\n",
       "\" style=\"fill:#ffffff;\"/>\n",
       "  </g>\n",
       "  <g id=\"axes_1\">\n",
       "   <g id=\"patch_2\">\n",
       "    <path d=\"M 25.321875 318.672656 \n",
       "L 471.721875 318.672656 \n",
       "L 471.721875 11.772656 \n",
       "L 25.321875 11.772656 \n",
       "z\n",
       "\" style=\"fill:#eaeaf2;\"/>\n",
       "   </g>\n",
       "   <g id=\"matplotlib.axis_1\">\n",
       "    <g id=\"xtick_1\">\n",
       "     <g id=\"line2d_1\">\n",
       "      <path clip-path=\"url(#p7dad69dd55)\" d=\"M 25.321875 318.672656 \n",
       "L 25.321875 11.772656 \n",
       "\" style=\"fill:none;stroke:#ffffff;stroke-linecap:round;\"/>\n",
       "     </g>\n",
       "     <g id=\"line2d_2\">\n",
       "      <defs>\n",
       "       <path d=\"M 0 0 \n",
       "L 0 0 \n",
       "\" id=\"ma2888506c7\" style=\"stroke:#262626;\"/>\n",
       "      </defs>\n",
       "      <g>\n",
       "       <use style=\"fill:#262626;stroke:#262626;\" x=\"25.321875\" xlink:href=\"#ma2888506c7\" y=\"318.67265625\"/>\n",
       "      </g>\n",
       "     </g>\n",
       "     <g id=\"line2d_3\">\n",
       "      <g>\n",
       "       <use style=\"fill:#262626;stroke:#262626;\" x=\"25.321875\" xlink:href=\"#ma2888506c7\" y=\"11.77265625\"/>\n",
       "      </g>\n",
       "     </g>\n",
       "     <g id=\"text_1\">\n",
       "      <!-- 0 -->\n",
       "      <defs>\n",
       "       <path d=\"M 4.15625 35.296875 \n",
       "Q 4.15625 48 6.765625 55.734375 \n",
       "Q 9.375 63.484375 14.515625 67.671875 \n",
       "Q 19.671875 71.875 27.484375 71.875 \n",
       "Q 33.25 71.875 37.59375 69.546875 \n",
       "Q 41.9375 67.234375 44.765625 62.859375 \n",
       "Q 47.609375 58.5 49.21875 52.21875 \n",
       "Q 50.828125 45.953125 50.828125 35.296875 \n",
       "Q 50.828125 22.703125 48.234375 14.96875 \n",
       "Q 45.65625 7.234375 40.5 3 \n",
       "Q 35.359375 -1.21875 27.484375 -1.21875 \n",
       "Q 17.140625 -1.21875 11.234375 6.203125 \n",
       "Q 4.15625 15.140625 4.15625 35.296875 \n",
       "M 13.1875 35.296875 \n",
       "Q 13.1875 17.671875 17.3125 11.828125 \n",
       "Q 21.4375 6 27.484375 6 \n",
       "Q 33.546875 6 37.671875 11.859375 \n",
       "Q 41.796875 17.71875 41.796875 35.296875 \n",
       "Q 41.796875 52.984375 37.671875 58.78125 \n",
       "Q 33.546875 64.59375 27.390625 64.59375 \n",
       "Q 21.34375 64.59375 17.71875 59.46875 \n",
       "Q 13.1875 52.9375 13.1875 35.296875 \n",
       "\" id=\"ArialMT-30\"/>\n",
       "      </defs>\n",
       "      <g style=\"fill:#262626;\" transform=\"translate(22.54140625 332.83046875)scale(0.1 -0.1)\">\n",
       "       <use xlink:href=\"#ArialMT-30\"/>\n",
       "      </g>\n",
       "     </g>\n",
       "    </g>\n",
       "    <g id=\"xtick_2\">\n",
       "     <g id=\"line2d_4\">\n",
       "      <path clip-path=\"url(#p7dad69dd55)\" d=\"M 114.601875 318.672656 \n",
       "L 114.601875 11.772656 \n",
       "\" style=\"fill:none;stroke:#ffffff;stroke-linecap:round;\"/>\n",
       "     </g>\n",
       "     <g id=\"line2d_5\">\n",
       "      <g>\n",
       "       <use style=\"fill:#262626;stroke:#262626;\" x=\"114.601875\" xlink:href=\"#ma2888506c7\" y=\"318.67265625\"/>\n",
       "      </g>\n",
       "     </g>\n",
       "     <g id=\"line2d_6\">\n",
       "      <g>\n",
       "       <use style=\"fill:#262626;stroke:#262626;\" x=\"114.601875\" xlink:href=\"#ma2888506c7\" y=\"11.77265625\"/>\n",
       "      </g>\n",
       "     </g>\n",
       "     <g id=\"text_2\">\n",
       "      <!-- 20 -->\n",
       "      <defs>\n",
       "       <path d=\"M 50.34375 8.453125 \n",
       "L 50.34375 0 \n",
       "L 3.03125 0 \n",
       "Q 2.9375 3.171875 4.046875 6.109375 \n",
       "Q 5.859375 10.9375 9.828125 15.625 \n",
       "Q 13.8125 20.3125 21.34375 26.46875 \n",
       "Q 33.015625 36.03125 37.109375 41.625 \n",
       "Q 41.21875 47.21875 41.21875 52.203125 \n",
       "Q 41.21875 57.421875 37.46875 61 \n",
       "Q 33.734375 64.59375 27.734375 64.59375 \n",
       "Q 21.390625 64.59375 17.578125 60.78125 \n",
       "Q 13.765625 56.984375 13.71875 50.25 \n",
       "L 4.6875 51.171875 \n",
       "Q 5.609375 61.28125 11.65625 66.578125 \n",
       "Q 17.71875 71.875 27.9375 71.875 \n",
       "Q 38.234375 71.875 44.234375 66.15625 \n",
       "Q 50.25 60.453125 50.25 52 \n",
       "Q 50.25 47.703125 48.484375 43.546875 \n",
       "Q 46.734375 39.40625 42.65625 34.8125 \n",
       "Q 38.578125 30.21875 29.109375 22.21875 \n",
       "Q 21.1875 15.578125 18.9375 13.203125 \n",
       "Q 16.703125 10.84375 15.234375 8.453125 \n",
       "z\n",
       "\" id=\"ArialMT-32\"/>\n",
       "      </defs>\n",
       "      <g style=\"fill:#262626;\" transform=\"translate(109.0409375 332.83046875)scale(0.1 -0.1)\">\n",
       "       <use xlink:href=\"#ArialMT-32\"/>\n",
       "       <use x=\"55.615234375\" xlink:href=\"#ArialMT-30\"/>\n",
       "      </g>\n",
       "     </g>\n",
       "    </g>\n",
       "    <g id=\"xtick_3\">\n",
       "     <g id=\"line2d_7\">\n",
       "      <path clip-path=\"url(#p7dad69dd55)\" d=\"M 203.881875 318.672656 \n",
       "L 203.881875 11.772656 \n",
       "\" style=\"fill:none;stroke:#ffffff;stroke-linecap:round;\"/>\n",
       "     </g>\n",
       "     <g id=\"line2d_8\">\n",
       "      <g>\n",
       "       <use style=\"fill:#262626;stroke:#262626;\" x=\"203.881875\" xlink:href=\"#ma2888506c7\" y=\"318.67265625\"/>\n",
       "      </g>\n",
       "     </g>\n",
       "     <g id=\"line2d_9\">\n",
       "      <g>\n",
       "       <use style=\"fill:#262626;stroke:#262626;\" x=\"203.881875\" xlink:href=\"#ma2888506c7\" y=\"11.77265625\"/>\n",
       "      </g>\n",
       "     </g>\n",
       "     <g id=\"text_3\">\n",
       "      <!-- 40 -->\n",
       "      <defs>\n",
       "       <path d=\"M 32.328125 0 \n",
       "L 32.328125 17.140625 \n",
       "L 1.265625 17.140625 \n",
       "L 1.265625 25.203125 \n",
       "L 33.9375 71.578125 \n",
       "L 41.109375 71.578125 \n",
       "L 41.109375 25.203125 \n",
       "L 50.78125 25.203125 \n",
       "L 50.78125 17.140625 \n",
       "L 41.109375 17.140625 \n",
       "L 41.109375 0 \n",
       "z\n",
       "M 32.328125 25.203125 \n",
       "L 32.328125 57.46875 \n",
       "L 9.90625 25.203125 \n",
       "z\n",
       "\" id=\"ArialMT-34\"/>\n",
       "      </defs>\n",
       "      <g style=\"fill:#262626;\" transform=\"translate(198.3209375 332.83046875)scale(0.1 -0.1)\">\n",
       "       <use xlink:href=\"#ArialMT-34\"/>\n",
       "       <use x=\"55.615234375\" xlink:href=\"#ArialMT-30\"/>\n",
       "      </g>\n",
       "     </g>\n",
       "    </g>\n",
       "    <g id=\"xtick_4\">\n",
       "     <g id=\"line2d_10\">\n",
       "      <path clip-path=\"url(#p7dad69dd55)\" d=\"M 293.161875 318.672656 \n",
       "L 293.161875 11.772656 \n",
       "\" style=\"fill:none;stroke:#ffffff;stroke-linecap:round;\"/>\n",
       "     </g>\n",
       "     <g id=\"line2d_11\">\n",
       "      <g>\n",
       "       <use style=\"fill:#262626;stroke:#262626;\" x=\"293.161875\" xlink:href=\"#ma2888506c7\" y=\"318.67265625\"/>\n",
       "      </g>\n",
       "     </g>\n",
       "     <g id=\"line2d_12\">\n",
       "      <g>\n",
       "       <use style=\"fill:#262626;stroke:#262626;\" x=\"293.161875\" xlink:href=\"#ma2888506c7\" y=\"11.77265625\"/>\n",
       "      </g>\n",
       "     </g>\n",
       "     <g id=\"text_4\">\n",
       "      <!-- 60 -->\n",
       "      <defs>\n",
       "       <path d=\"M 49.75 54.046875 \n",
       "L 41.015625 53.375 \n",
       "Q 39.84375 58.546875 37.703125 60.890625 \n",
       "Q 34.125 64.65625 28.90625 64.65625 \n",
       "Q 24.703125 64.65625 21.53125 62.3125 \n",
       "Q 17.390625 59.28125 14.984375 53.46875 \n",
       "Q 12.59375 47.65625 12.5 36.921875 \n",
       "Q 15.671875 41.75 20.265625 44.09375 \n",
       "Q 24.859375 46.4375 29.890625 46.4375 \n",
       "Q 38.671875 46.4375 44.84375 39.96875 \n",
       "Q 51.03125 33.5 51.03125 23.25 \n",
       "Q 51.03125 16.5 48.125 10.71875 \n",
       "Q 45.21875 4.9375 40.140625 1.859375 \n",
       "Q 35.0625 -1.21875 28.609375 -1.21875 \n",
       "Q 17.625 -1.21875 10.6875 6.859375 \n",
       "Q 3.765625 14.9375 3.765625 33.5 \n",
       "Q 3.765625 54.25 11.421875 63.671875 \n",
       "Q 18.109375 71.875 29.4375 71.875 \n",
       "Q 37.890625 71.875 43.28125 67.140625 \n",
       "Q 48.6875 62.40625 49.75 54.046875 \n",
       "M 13.875 23.1875 \n",
       "Q 13.875 18.65625 15.796875 14.5 \n",
       "Q 17.71875 10.359375 21.1875 8.171875 \n",
       "Q 24.65625 6 28.46875 6 \n",
       "Q 34.03125 6 38.03125 10.484375 \n",
       "Q 42.046875 14.984375 42.046875 22.703125 \n",
       "Q 42.046875 30.125 38.078125 34.390625 \n",
       "Q 34.125 38.671875 28.125 38.671875 \n",
       "Q 22.171875 38.671875 18.015625 34.390625 \n",
       "Q 13.875 30.125 13.875 23.1875 \n",
       "\" id=\"ArialMT-36\"/>\n",
       "      </defs>\n",
       "      <g style=\"fill:#262626;\" transform=\"translate(287.6009375 332.83046875)scale(0.1 -0.1)\">\n",
       "       <use xlink:href=\"#ArialMT-36\"/>\n",
       "       <use x=\"55.615234375\" xlink:href=\"#ArialMT-30\"/>\n",
       "      </g>\n",
       "     </g>\n",
       "    </g>\n",
       "    <g id=\"xtick_5\">\n",
       "     <g id=\"line2d_13\">\n",
       "      <path clip-path=\"url(#p7dad69dd55)\" d=\"M 382.441875 318.672656 \n",
       "L 382.441875 11.772656 \n",
       "\" style=\"fill:none;stroke:#ffffff;stroke-linecap:round;\"/>\n",
       "     </g>\n",
       "     <g id=\"line2d_14\">\n",
       "      <g>\n",
       "       <use style=\"fill:#262626;stroke:#262626;\" x=\"382.441875\" xlink:href=\"#ma2888506c7\" y=\"318.67265625\"/>\n",
       "      </g>\n",
       "     </g>\n",
       "     <g id=\"line2d_15\">\n",
       "      <g>\n",
       "       <use style=\"fill:#262626;stroke:#262626;\" x=\"382.441875\" xlink:href=\"#ma2888506c7\" y=\"11.77265625\"/>\n",
       "      </g>\n",
       "     </g>\n",
       "     <g id=\"text_5\">\n",
       "      <!-- 80 -->\n",
       "      <defs>\n",
       "       <path d=\"M 17.671875 38.8125 \n",
       "Q 12.203125 40.828125 9.5625 44.53125 \n",
       "Q 6.9375 48.25 6.9375 53.421875 \n",
       "Q 6.9375 61.234375 12.546875 66.546875 \n",
       "Q 18.171875 71.875 27.484375 71.875 \n",
       "Q 36.859375 71.875 42.578125 66.421875 \n",
       "Q 48.296875 60.984375 48.296875 53.171875 \n",
       "Q 48.296875 48.1875 45.671875 44.5 \n",
       "Q 43.0625 40.828125 37.75 38.8125 \n",
       "Q 44.34375 36.671875 47.78125 31.875 \n",
       "Q 51.21875 27.09375 51.21875 20.453125 \n",
       "Q 51.21875 11.28125 44.71875 5.03125 \n",
       "Q 38.234375 -1.21875 27.640625 -1.21875 \n",
       "Q 17.046875 -1.21875 10.546875 5.046875 \n",
       "Q 4.046875 11.328125 4.046875 20.703125 \n",
       "Q 4.046875 27.6875 7.59375 32.390625 \n",
       "Q 11.140625 37.109375 17.671875 38.8125 \n",
       "M 15.921875 53.71875 \n",
       "Q 15.921875 48.640625 19.1875 45.40625 \n",
       "Q 22.46875 42.1875 27.6875 42.1875 \n",
       "Q 32.765625 42.1875 36.015625 45.375 \n",
       "Q 39.265625 48.578125 39.265625 53.21875 \n",
       "Q 39.265625 58.0625 35.90625 61.359375 \n",
       "Q 32.5625 64.65625 27.59375 64.65625 \n",
       "Q 22.5625 64.65625 19.234375 61.421875 \n",
       "Q 15.921875 58.203125 15.921875 53.71875 \n",
       "M 13.09375 20.65625 \n",
       "Q 13.09375 16.890625 14.875 13.375 \n",
       "Q 16.65625 9.859375 20.171875 7.921875 \n",
       "Q 23.6875 6 27.734375 6 \n",
       "Q 34.03125 6 38.125 10.046875 \n",
       "Q 42.234375 14.109375 42.234375 20.359375 \n",
       "Q 42.234375 26.703125 38.015625 30.859375 \n",
       "Q 33.796875 35.015625 27.4375 35.015625 \n",
       "Q 21.234375 35.015625 17.15625 30.90625 \n",
       "Q 13.09375 26.8125 13.09375 20.65625 \n",
       "\" id=\"ArialMT-38\"/>\n",
       "      </defs>\n",
       "      <g style=\"fill:#262626;\" transform=\"translate(376.8809375 332.83046875)scale(0.1 -0.1)\">\n",
       "       <use xlink:href=\"#ArialMT-38\"/>\n",
       "       <use x=\"55.615234375\" xlink:href=\"#ArialMT-30\"/>\n",
       "      </g>\n",
       "     </g>\n",
       "    </g>\n",
       "    <g id=\"xtick_6\">\n",
       "     <g id=\"line2d_16\">\n",
       "      <path clip-path=\"url(#p7dad69dd55)\" d=\"M 471.721875 318.672656 \n",
       "L 471.721875 11.772656 \n",
       "\" style=\"fill:none;stroke:#ffffff;stroke-linecap:round;\"/>\n",
       "     </g>\n",
       "     <g id=\"line2d_17\">\n",
       "      <g>\n",
       "       <use style=\"fill:#262626;stroke:#262626;\" x=\"471.721875\" xlink:href=\"#ma2888506c7\" y=\"318.67265625\"/>\n",
       "      </g>\n",
       "     </g>\n",
       "     <g id=\"line2d_18\">\n",
       "      <g>\n",
       "       <use style=\"fill:#262626;stroke:#262626;\" x=\"471.721875\" xlink:href=\"#ma2888506c7\" y=\"11.77265625\"/>\n",
       "      </g>\n",
       "     </g>\n",
       "     <g id=\"text_6\">\n",
       "      <!-- 100 -->\n",
       "      <defs>\n",
       "       <path d=\"M 37.25 0 \n",
       "L 28.46875 0 \n",
       "L 28.46875 56 \n",
       "Q 25.296875 52.984375 20.140625 49.953125 \n",
       "Q 14.984375 46.921875 10.890625 45.40625 \n",
       "L 10.890625 53.90625 \n",
       "Q 18.265625 57.375 23.78125 62.296875 \n",
       "Q 29.296875 67.234375 31.59375 71.875 \n",
       "L 37.25 71.875 \n",
       "z\n",
       "\" id=\"ArialMT-31\"/>\n",
       "      </defs>\n",
       "      <g style=\"fill:#262626;\" transform=\"translate(463.38046875 332.83046875)scale(0.1 -0.1)\">\n",
       "       <use xlink:href=\"#ArialMT-31\"/>\n",
       "       <use x=\"55.615234375\" xlink:href=\"#ArialMT-30\"/>\n",
       "       <use x=\"111.23046875\" xlink:href=\"#ArialMT-30\"/>\n",
       "      </g>\n",
       "     </g>\n",
       "    </g>\n",
       "   </g>\n",
       "   <g id=\"matplotlib.axis_2\">\n",
       "    <g id=\"ytick_1\">\n",
       "     <g id=\"line2d_19\">\n",
       "      <path clip-path=\"url(#p7dad69dd55)\" d=\"M 25.321875 318.672656 \n",
       "L 471.721875 318.672656 \n",
       "\" style=\"fill:none;stroke:#ffffff;stroke-linecap:round;\"/>\n",
       "     </g>\n",
       "     <g id=\"line2d_20\">\n",
       "      <g>\n",
       "       <use style=\"fill:#262626;stroke:#262626;\" x=\"25.321875\" xlink:href=\"#ma2888506c7\" y=\"318.67265625\"/>\n",
       "      </g>\n",
       "     </g>\n",
       "     <g id=\"line2d_21\">\n",
       "      <g>\n",
       "       <use style=\"fill:#262626;stroke:#262626;\" x=\"471.721875\" xlink:href=\"#ma2888506c7\" y=\"318.67265625\"/>\n",
       "      </g>\n",
       "     </g>\n",
       "     <g id=\"text_7\">\n",
       "      <!-- 0 -->\n",
       "      <g style=\"fill:#262626;\" transform=\"translate(12.7609375 321.2578125)scale(0.1 -0.1)\">\n",
       "       <use xlink:href=\"#ArialMT-30\"/>\n",
       "      </g>\n",
       "     </g>\n",
       "    </g>\n",
       "    <g id=\"ytick_2\">\n",
       "     <g id=\"line2d_22\">\n",
       "      <path clip-path=\"url(#p7dad69dd55)\" d=\"M 25.321875 257.292656 \n",
       "L 471.721875 257.292656 \n",
       "\" style=\"fill:none;stroke:#ffffff;stroke-linecap:round;\"/>\n",
       "     </g>\n",
       "     <g id=\"line2d_23\">\n",
       "      <g>\n",
       "       <use style=\"fill:#262626;stroke:#262626;\" x=\"25.321875\" xlink:href=\"#ma2888506c7\" y=\"257.29265625\"/>\n",
       "      </g>\n",
       "     </g>\n",
       "     <g id=\"line2d_24\">\n",
       "      <g>\n",
       "       <use style=\"fill:#262626;stroke:#262626;\" x=\"471.721875\" xlink:href=\"#ma2888506c7\" y=\"257.29265625\"/>\n",
       "      </g>\n",
       "     </g>\n",
       "     <g id=\"text_8\">\n",
       "      <!-- 10 -->\n",
       "      <g style=\"fill:#262626;\" transform=\"translate(7.2 259.8778125)scale(0.1 -0.1)\">\n",
       "       <use xlink:href=\"#ArialMT-31\"/>\n",
       "       <use x=\"55.615234375\" xlink:href=\"#ArialMT-30\"/>\n",
       "      </g>\n",
       "     </g>\n",
       "    </g>\n",
       "    <g id=\"ytick_3\">\n",
       "     <g id=\"line2d_25\">\n",
       "      <path clip-path=\"url(#p7dad69dd55)\" d=\"M 25.321875 195.912656 \n",
       "L 471.721875 195.912656 \n",
       "\" style=\"fill:none;stroke:#ffffff;stroke-linecap:round;\"/>\n",
       "     </g>\n",
       "     <g id=\"line2d_26\">\n",
       "      <g>\n",
       "       <use style=\"fill:#262626;stroke:#262626;\" x=\"25.321875\" xlink:href=\"#ma2888506c7\" y=\"195.91265625\"/>\n",
       "      </g>\n",
       "     </g>\n",
       "     <g id=\"line2d_27\">\n",
       "      <g>\n",
       "       <use style=\"fill:#262626;stroke:#262626;\" x=\"471.721875\" xlink:href=\"#ma2888506c7\" y=\"195.91265625\"/>\n",
       "      </g>\n",
       "     </g>\n",
       "     <g id=\"text_9\">\n",
       "      <!-- 20 -->\n",
       "      <g style=\"fill:#262626;\" transform=\"translate(7.2 198.4978125)scale(0.1 -0.1)\">\n",
       "       <use xlink:href=\"#ArialMT-32\"/>\n",
       "       <use x=\"55.615234375\" xlink:href=\"#ArialMT-30\"/>\n",
       "      </g>\n",
       "     </g>\n",
       "    </g>\n",
       "    <g id=\"ytick_4\">\n",
       "     <g id=\"line2d_28\">\n",
       "      <path clip-path=\"url(#p7dad69dd55)\" d=\"M 25.321875 134.532656 \n",
       "L 471.721875 134.532656 \n",
       "\" style=\"fill:none;stroke:#ffffff;stroke-linecap:round;\"/>\n",
       "     </g>\n",
       "     <g id=\"line2d_29\">\n",
       "      <g>\n",
       "       <use style=\"fill:#262626;stroke:#262626;\" x=\"25.321875\" xlink:href=\"#ma2888506c7\" y=\"134.53265625\"/>\n",
       "      </g>\n",
       "     </g>\n",
       "     <g id=\"line2d_30\">\n",
       "      <g>\n",
       "       <use style=\"fill:#262626;stroke:#262626;\" x=\"471.721875\" xlink:href=\"#ma2888506c7\" y=\"134.53265625\"/>\n",
       "      </g>\n",
       "     </g>\n",
       "     <g id=\"text_10\">\n",
       "      <!-- 30 -->\n",
       "      <defs>\n",
       "       <path d=\"M 4.203125 18.890625 \n",
       "L 12.984375 20.0625 \n",
       "Q 14.5 12.59375 18.140625 9.296875 \n",
       "Q 21.78125 6 27 6 \n",
       "Q 33.203125 6 37.46875 10.296875 \n",
       "Q 41.75 14.59375 41.75 20.953125 \n",
       "Q 41.75 27 37.796875 30.921875 \n",
       "Q 33.84375 34.859375 27.734375 34.859375 \n",
       "Q 25.25 34.859375 21.53125 33.890625 \n",
       "L 22.515625 41.609375 \n",
       "Q 23.390625 41.5 23.921875 41.5 \n",
       "Q 29.546875 41.5 34.03125 44.421875 \n",
       "Q 38.53125 47.359375 38.53125 53.46875 \n",
       "Q 38.53125 58.296875 35.25 61.46875 \n",
       "Q 31.984375 64.65625 26.8125 64.65625 \n",
       "Q 21.6875 64.65625 18.265625 61.421875 \n",
       "Q 14.84375 58.203125 13.875 51.765625 \n",
       "L 5.078125 53.328125 \n",
       "Q 6.6875 62.15625 12.390625 67.015625 \n",
       "Q 18.109375 71.875 26.609375 71.875 \n",
       "Q 32.46875 71.875 37.390625 69.359375 \n",
       "Q 42.328125 66.84375 44.9375 62.5 \n",
       "Q 47.5625 58.15625 47.5625 53.265625 \n",
       "Q 47.5625 48.640625 45.0625 44.828125 \n",
       "Q 42.578125 41.015625 37.703125 38.765625 \n",
       "Q 44.046875 37.3125 47.5625 32.6875 \n",
       "Q 51.078125 28.078125 51.078125 21.140625 \n",
       "Q 51.078125 11.765625 44.234375 5.25 \n",
       "Q 37.40625 -1.265625 26.953125 -1.265625 \n",
       "Q 17.53125 -1.265625 11.296875 4.34375 \n",
       "Q 5.078125 9.96875 4.203125 18.890625 \n",
       "\" id=\"ArialMT-33\"/>\n",
       "      </defs>\n",
       "      <g style=\"fill:#262626;\" transform=\"translate(7.2 137.1178125)scale(0.1 -0.1)\">\n",
       "       <use xlink:href=\"#ArialMT-33\"/>\n",
       "       <use x=\"55.615234375\" xlink:href=\"#ArialMT-30\"/>\n",
       "      </g>\n",
       "     </g>\n",
       "    </g>\n",
       "    <g id=\"ytick_5\">\n",
       "     <g id=\"line2d_31\">\n",
       "      <path clip-path=\"url(#p7dad69dd55)\" d=\"M 25.321875 73.152656 \n",
       "L 471.721875 73.152656 \n",
       "\" style=\"fill:none;stroke:#ffffff;stroke-linecap:round;\"/>\n",
       "     </g>\n",
       "     <g id=\"line2d_32\">\n",
       "      <g>\n",
       "       <use style=\"fill:#262626;stroke:#262626;\" x=\"25.321875\" xlink:href=\"#ma2888506c7\" y=\"73.15265625\"/>\n",
       "      </g>\n",
       "     </g>\n",
       "     <g id=\"line2d_33\">\n",
       "      <g>\n",
       "       <use style=\"fill:#262626;stroke:#262626;\" x=\"471.721875\" xlink:href=\"#ma2888506c7\" y=\"73.15265625\"/>\n",
       "      </g>\n",
       "     </g>\n",
       "     <g id=\"text_11\">\n",
       "      <!-- 40 -->\n",
       "      <g style=\"fill:#262626;\" transform=\"translate(7.2 75.7378125)scale(0.1 -0.1)\">\n",
       "       <use xlink:href=\"#ArialMT-34\"/>\n",
       "       <use x=\"55.615234375\" xlink:href=\"#ArialMT-30\"/>\n",
       "      </g>\n",
       "     </g>\n",
       "    </g>\n",
       "    <g id=\"ytick_6\">\n",
       "     <g id=\"line2d_34\">\n",
       "      <path clip-path=\"url(#p7dad69dd55)\" d=\"M 25.321875 11.772656 \n",
       "L 471.721875 11.772656 \n",
       "\" style=\"fill:none;stroke:#ffffff;stroke-linecap:round;\"/>\n",
       "     </g>\n",
       "     <g id=\"line2d_35\">\n",
       "      <g>\n",
       "       <use style=\"fill:#262626;stroke:#262626;\" x=\"25.321875\" xlink:href=\"#ma2888506c7\" y=\"11.77265625\"/>\n",
       "      </g>\n",
       "     </g>\n",
       "     <g id=\"line2d_36\">\n",
       "      <g>\n",
       "       <use style=\"fill:#262626;stroke:#262626;\" x=\"471.721875\" xlink:href=\"#ma2888506c7\" y=\"11.77265625\"/>\n",
       "      </g>\n",
       "     </g>\n",
       "     <g id=\"text_12\">\n",
       "      <!-- 50 -->\n",
       "      <defs>\n",
       "       <path d=\"M 4.15625 18.75 \n",
       "L 13.375 19.53125 \n",
       "Q 14.40625 12.796875 18.140625 9.390625 \n",
       "Q 21.875 6 27.15625 6 \n",
       "Q 33.5 6 37.890625 10.78125 \n",
       "Q 42.28125 15.578125 42.28125 23.484375 \n",
       "Q 42.28125 31 38.0625 35.34375 \n",
       "Q 33.84375 39.703125 27 39.703125 \n",
       "Q 22.75 39.703125 19.328125 37.765625 \n",
       "Q 15.921875 35.84375 13.96875 32.765625 \n",
       "L 5.71875 33.84375 \n",
       "L 12.640625 70.609375 \n",
       "L 48.25 70.609375 \n",
       "L 48.25 62.203125 \n",
       "L 19.671875 62.203125 \n",
       "L 15.828125 42.96875 \n",
       "Q 22.265625 47.46875 29.34375 47.46875 \n",
       "Q 38.71875 47.46875 45.15625 40.96875 \n",
       "Q 51.609375 34.46875 51.609375 24.265625 \n",
       "Q 51.609375 14.546875 45.953125 7.46875 \n",
       "Q 39.0625 -1.21875 27.15625 -1.21875 \n",
       "Q 17.390625 -1.21875 11.203125 4.25 \n",
       "Q 5.03125 9.71875 4.15625 18.75 \n",
       "\" id=\"ArialMT-35\"/>\n",
       "      </defs>\n",
       "      <g style=\"fill:#262626;\" transform=\"translate(7.2 14.3578125)scale(0.1 -0.1)\">\n",
       "       <use xlink:href=\"#ArialMT-35\"/>\n",
       "       <use x=\"55.615234375\" xlink:href=\"#ArialMT-30\"/>\n",
       "      </g>\n",
       "     </g>\n",
       "    </g>\n",
       "   </g>\n",
       "   <g id=\"patch_3\">\n",
       "    <path clip-path=\"url(#p7dad69dd55)\" d=\"M 25.321875 318.672656 \n",
       "L 28.893075 318.672656 \n",
       "L 28.893075 300.258656 \n",
       "L 25.321875 300.258656 \n",
       "z\n",
       "\" style=\"fill:#4c72b0;stroke:#1a1a1a;stroke-linejoin:miter;stroke-width:0.3;\"/>\n",
       "   </g>\n",
       "   <g id=\"patch_4\">\n",
       "    <path clip-path=\"url(#p7dad69dd55)\" d=\"M 29.785875 318.672656 \n",
       "L 33.357075 318.672656 \n",
       "L 33.357075 306.396656 \n",
       "L 29.785875 306.396656 \n",
       "z\n",
       "\" style=\"fill:#4c72b0;stroke:#1a1a1a;stroke-linejoin:miter;stroke-width:0.3;\"/>\n",
       "   </g>\n",
       "   <g id=\"patch_5\">\n",
       "    <path clip-path=\"url(#p7dad69dd55)\" d=\"M 34.249875 318.672656 \n",
       "L 37.821075 318.672656 \n",
       "L 37.821075 312.534656 \n",
       "L 34.249875 312.534656 \n",
       "z\n",
       "\" style=\"fill:#4c72b0;stroke:#1a1a1a;stroke-linejoin:miter;stroke-width:0.3;\"/>\n",
       "   </g>\n",
       "   <g id=\"patch_6\">\n",
       "    <path clip-path=\"url(#p7dad69dd55)\" d=\"M 38.713875 318.672656 \n",
       "L 42.285075 318.672656 \n",
       "L 42.285075 312.534656 \n",
       "L 38.713875 312.534656 \n",
       "z\n",
       "\" style=\"fill:#4c72b0;stroke:#1a1a1a;stroke-linejoin:miter;stroke-width:0.3;\"/>\n",
       "   </g>\n",
       "   <g id=\"patch_7\">\n",
       "    <path clip-path=\"url(#p7dad69dd55)\" d=\"M 43.177875 318.672656 \n",
       "L 46.749075 318.672656 \n",
       "L 46.749075 312.534656 \n",
       "L 43.177875 312.534656 \n",
       "z\n",
       "\" style=\"fill:#4c72b0;stroke:#1a1a1a;stroke-linejoin:miter;stroke-width:0.3;\"/>\n",
       "   </g>\n",
       "   <g id=\"patch_8\">\n",
       "    <path clip-path=\"url(#p7dad69dd55)\" d=\"M 47.641875 318.672656 \n",
       "L 51.213075 318.672656 \n",
       "L 51.213075 312.534656 \n",
       "L 47.641875 312.534656 \n",
       "z\n",
       "\" style=\"fill:#4c72b0;stroke:#1a1a1a;stroke-linejoin:miter;stroke-width:0.3;\"/>\n",
       "   </g>\n",
       "   <g id=\"patch_9\">\n",
       "    <path clip-path=\"url(#p7dad69dd55)\" d=\"M 52.105875 318.672656 \n",
       "L 55.677075 318.672656 \n",
       "L 55.677075 300.258656 \n",
       "L 52.105875 300.258656 \n",
       "z\n",
       "\" style=\"fill:#4c72b0;stroke:#1a1a1a;stroke-linejoin:miter;stroke-width:0.3;\"/>\n",
       "   </g>\n",
       "   <g id=\"patch_10\">\n",
       "    <path clip-path=\"url(#p7dad69dd55)\" d=\"M 56.569875 318.672656 \n",
       "L 60.141075 318.672656 \n",
       "L 60.141075 312.534656 \n",
       "L 56.569875 312.534656 \n",
       "z\n",
       "\" style=\"fill:#4c72b0;stroke:#1a1a1a;stroke-linejoin:miter;stroke-width:0.3;\"/>\n",
       "   </g>\n",
       "   <g id=\"patch_11\">\n",
       "    <path clip-path=\"url(#p7dad69dd55)\" d=\"M 61.033875 318.672656 \n",
       "L 64.605075 318.672656 \n",
       "L 64.605075 275.706656 \n",
       "L 61.033875 275.706656 \n",
       "z\n",
       "\" style=\"fill:#4c72b0;stroke:#1a1a1a;stroke-linejoin:miter;stroke-width:0.3;\"/>\n",
       "   </g>\n",
       "   <g id=\"patch_12\">\n",
       "    <path clip-path=\"url(#p7dad69dd55)\" d=\"M 65.497875 318.672656 \n",
       "L 69.069075 318.672656 \n",
       "L 69.069075 269.568656 \n",
       "L 65.497875 269.568656 \n",
       "z\n",
       "\" style=\"fill:#4c72b0;stroke:#1a1a1a;stroke-linejoin:miter;stroke-width:0.3;\"/>\n",
       "   </g>\n",
       "   <g id=\"patch_13\">\n",
       "    <path clip-path=\"url(#p7dad69dd55)\" d=\"M 69.961875 318.672656 \n",
       "L 73.533075 318.672656 \n",
       "L 73.533075 306.396656 \n",
       "L 69.961875 306.396656 \n",
       "z\n",
       "\" style=\"fill:#4c72b0;stroke:#1a1a1a;stroke-linejoin:miter;stroke-width:0.3;\"/>\n",
       "   </g>\n",
       "   <g id=\"patch_14\">\n",
       "    <path clip-path=\"url(#p7dad69dd55)\" d=\"M 74.425875 318.672656 \n",
       "L 77.997075 318.672656 \n",
       "L 77.997075 312.534656 \n",
       "L 74.425875 312.534656 \n",
       "z\n",
       "\" style=\"fill:#4c72b0;stroke:#1a1a1a;stroke-linejoin:miter;stroke-width:0.3;\"/>\n",
       "   </g>\n",
       "   <g id=\"patch_15\">\n",
       "    <path clip-path=\"url(#p7dad69dd55)\" d=\"M 78.889875 318.672656 \n",
       "L 82.461075 318.672656 \n",
       "L 82.461075 312.534656 \n",
       "L 78.889875 312.534656 \n",
       "z\n",
       "\" style=\"fill:#4c72b0;stroke:#1a1a1a;stroke-linejoin:miter;stroke-width:0.3;\"/>\n",
       "   </g>\n",
       "   <g id=\"patch_16\">\n",
       "    <path clip-path=\"url(#p7dad69dd55)\" d=\"M 83.353875 318.672656 \n",
       "L 86.925075 318.672656 \n",
       "L 86.925075 245.016656 \n",
       "L 83.353875 245.016656 \n",
       "z\n",
       "\" style=\"fill:#4c72b0;stroke:#1a1a1a;stroke-linejoin:miter;stroke-width:0.3;\"/>\n",
       "   </g>\n",
       "   <g id=\"patch_17\">\n",
       "    <path clip-path=\"url(#p7dad69dd55)\" d=\"M 87.817875 318.672656 \n",
       "L 91.389075 318.672656 \n",
       "L 91.389075 312.534656 \n",
       "L 87.817875 312.534656 \n",
       "z\n",
       "\" style=\"fill:#4c72b0;stroke:#1a1a1a;stroke-linejoin:miter;stroke-width:0.3;\"/>\n",
       "   </g>\n",
       "   <g id=\"patch_18\">\n",
       "    <path clip-path=\"url(#p7dad69dd55)\" d=\"M 92.281875 318.672656 \n",
       "L 95.853075 318.672656 \n",
       "L 95.853075 306.396656 \n",
       "L 92.281875 306.396656 \n",
       "z\n",
       "\" style=\"fill:#4c72b0;stroke:#1a1a1a;stroke-linejoin:miter;stroke-width:0.3;\"/>\n",
       "   </g>\n",
       "   <g id=\"patch_19\">\n",
       "    <path clip-path=\"url(#p7dad69dd55)\" d=\"M 96.745875 318.672656 \n",
       "L 100.317075 318.672656 \n",
       "L 100.317075 312.534656 \n",
       "L 96.745875 312.534656 \n",
       "z\n",
       "\" style=\"fill:#4c72b0;stroke:#1a1a1a;stroke-linejoin:miter;stroke-width:0.3;\"/>\n",
       "   </g>\n",
       "   <g id=\"patch_20\">\n",
       "    <path clip-path=\"url(#p7dad69dd55)\" d=\"M 101.209875 318.672656 \n",
       "L 104.781075 318.672656 \n",
       "L 104.781075 312.534656 \n",
       "L 101.209875 312.534656 \n",
       "z\n",
       "\" style=\"fill:#4c72b0;stroke:#1a1a1a;stroke-linejoin:miter;stroke-width:0.3;\"/>\n",
       "   </g>\n",
       "   <g id=\"patch_21\">\n",
       "    <path clip-path=\"url(#p7dad69dd55)\" d=\"M 105.673875 318.672656 \n",
       "L 109.245075 318.672656 \n",
       "L 109.245075 275.706656 \n",
       "L 105.673875 275.706656 \n",
       "z\n",
       "\" style=\"fill:#4c72b0;stroke:#1a1a1a;stroke-linejoin:miter;stroke-width:0.3;\"/>\n",
       "   </g>\n",
       "   <g id=\"patch_22\">\n",
       "    <path clip-path=\"url(#p7dad69dd55)\" d=\"M 110.137875 318.672656 \n",
       "L 113.709075 318.672656 \n",
       "L 113.709075 312.534656 \n",
       "L 110.137875 312.534656 \n",
       "z\n",
       "\" style=\"fill:#4c72b0;stroke:#1a1a1a;stroke-linejoin:miter;stroke-width:0.3;\"/>\n",
       "   </g>\n",
       "   <g id=\"patch_23\">\n",
       "    <path clip-path=\"url(#p7dad69dd55)\" d=\"M 114.601875 318.672656 \n",
       "L 118.173075 318.672656 \n",
       "L 118.173075 300.258656 \n",
       "L 114.601875 300.258656 \n",
       "z\n",
       "\" style=\"fill:#4c72b0;stroke:#1a1a1a;stroke-linejoin:miter;stroke-width:0.3;\"/>\n",
       "   </g>\n",
       "   <g id=\"patch_24\">\n",
       "    <path clip-path=\"url(#p7dad69dd55)\" d=\"M 119.065875 318.672656 \n",
       "L 122.637075 318.672656 \n",
       "L 122.637075 312.534656 \n",
       "L 119.065875 312.534656 \n",
       "z\n",
       "\" style=\"fill:#4c72b0;stroke:#1a1a1a;stroke-linejoin:miter;stroke-width:0.3;\"/>\n",
       "   </g>\n",
       "   <g id=\"patch_25\">\n",
       "    <path clip-path=\"url(#p7dad69dd55)\" d=\"M 123.529875 318.672656 \n",
       "L 127.101075 318.672656 \n",
       "L 127.101075 122.256656 \n",
       "L 123.529875 122.256656 \n",
       "z\n",
       "\" style=\"fill:#4c72b0;stroke:#1a1a1a;stroke-linejoin:miter;stroke-width:0.3;\"/>\n",
       "   </g>\n",
       "   <g id=\"patch_26\">\n",
       "    <path clip-path=\"url(#p7dad69dd55)\" d=\"M 127.993875 318.672656 \n",
       "L 131.565075 318.672656 \n",
       "L 131.565075 312.534656 \n",
       "L 127.993875 312.534656 \n",
       "z\n",
       "\" style=\"fill:#4c72b0;stroke:#1a1a1a;stroke-linejoin:miter;stroke-width:0.3;\"/>\n",
       "   </g>\n",
       "   <g id=\"patch_27\">\n",
       "    <path clip-path=\"url(#p7dad69dd55)\" d=\"M 132.457875 318.672656 \n",
       "L 136.029075 318.672656 \n",
       "L 136.029075 312.534656 \n",
       "L 132.457875 312.534656 \n",
       "z\n",
       "\" style=\"fill:#4c72b0;stroke:#1a1a1a;stroke-linejoin:miter;stroke-width:0.3;\"/>\n",
       "   </g>\n",
       "   <g id=\"patch_28\">\n",
       "    <path clip-path=\"url(#p7dad69dd55)\" d=\"M 136.921875 318.672656 \n",
       "L 140.493075 318.672656 \n",
       "L 140.493075 312.534656 \n",
       "L 136.921875 312.534656 \n",
       "z\n",
       "\" style=\"fill:#4c72b0;stroke:#1a1a1a;stroke-linejoin:miter;stroke-width:0.3;\"/>\n",
       "   </g>\n",
       "   <g id=\"patch_29\">\n",
       "    <path clip-path=\"url(#p7dad69dd55)\" d=\"M 141.385875 318.672656 \n",
       "L 144.957075 318.672656 \n",
       "L 144.957075 300.258656 \n",
       "L 141.385875 300.258656 \n",
       "z\n",
       "\" style=\"fill:#4c72b0;stroke:#1a1a1a;stroke-linejoin:miter;stroke-width:0.3;\"/>\n",
       "   </g>\n",
       "   <g id=\"patch_30\">\n",
       "    <path clip-path=\"url(#p7dad69dd55)\" d=\"M 145.849875 318.672656 \n",
       "L 149.421075 318.672656 \n",
       "L 149.421075 312.534656 \n",
       "L 145.849875 312.534656 \n",
       "z\n",
       "\" style=\"fill:#4c72b0;stroke:#1a1a1a;stroke-linejoin:miter;stroke-width:0.3;\"/>\n",
       "   </g>\n",
       "   <g id=\"patch_31\">\n",
       "    <path clip-path=\"url(#p7dad69dd55)\" d=\"M 150.313875 318.672656 \n",
       "L 153.885075 318.672656 \n",
       "L 153.885075 312.534656 \n",
       "L 150.313875 312.534656 \n",
       "z\n",
       "\" style=\"fill:#4c72b0;stroke:#1a1a1a;stroke-linejoin:miter;stroke-width:0.3;\"/>\n",
       "   </g>\n",
       "   <g id=\"patch_32\">\n",
       "    <path clip-path=\"url(#p7dad69dd55)\" d=\"M 154.777875 318.672656 \n",
       "L 158.349075 318.672656 \n",
       "L 158.349075 232.740656 \n",
       "L 154.777875 232.740656 \n",
       "z\n",
       "\" style=\"fill:#4c72b0;stroke:#1a1a1a;stroke-linejoin:miter;stroke-width:0.3;\"/>\n",
       "   </g>\n",
       "   <g id=\"patch_33\">\n",
       "    <path clip-path=\"url(#p7dad69dd55)\" d=\"M 159.241875 318.672656 \n",
       "L 162.813075 318.672656 \n",
       "L 162.813075 300.258656 \n",
       "L 159.241875 300.258656 \n",
       "z\n",
       "\" style=\"fill:#4c72b0;stroke:#1a1a1a;stroke-linejoin:miter;stroke-width:0.3;\"/>\n",
       "   </g>\n",
       "   <g id=\"patch_34\">\n",
       "    <path clip-path=\"url(#p7dad69dd55)\" d=\"M 163.705875 318.672656 \n",
       "L 167.277075 318.672656 \n",
       "L 167.277075 287.982656 \n",
       "L 163.705875 287.982656 \n",
       "z\n",
       "\" style=\"fill:#4c72b0;stroke:#1a1a1a;stroke-linejoin:miter;stroke-width:0.3;\"/>\n",
       "   </g>\n",
       "   <g id=\"patch_35\">\n",
       "    <path clip-path=\"url(#p7dad69dd55)\" d=\"M 168.169875 318.672656 \n",
       "L 171.741075 318.672656 \n",
       "L 171.741075 312.534656 \n",
       "L 168.169875 312.534656 \n",
       "z\n",
       "\" style=\"fill:#4c72b0;stroke:#1a1a1a;stroke-linejoin:miter;stroke-width:0.3;\"/>\n",
       "   </g>\n",
       "   <g id=\"patch_36\">\n",
       "    <path clip-path=\"url(#p7dad69dd55)\" d=\"M 172.633875 318.672656 \n",
       "L 176.205075 318.672656 \n",
       "L 176.205075 300.258656 \n",
       "L 172.633875 300.258656 \n",
       "z\n",
       "\" style=\"fill:#4c72b0;stroke:#1a1a1a;stroke-linejoin:miter;stroke-width:0.3;\"/>\n",
       "   </g>\n",
       "   <g id=\"patch_37\">\n",
       "    <path clip-path=\"url(#p7dad69dd55)\" d=\"M 177.097875 318.672656 \n",
       "L 180.669075 318.672656 \n",
       "L 180.669075 312.534656 \n",
       "L 177.097875 312.534656 \n",
       "z\n",
       "\" style=\"fill:#4c72b0;stroke:#1a1a1a;stroke-linejoin:miter;stroke-width:0.3;\"/>\n",
       "   </g>\n",
       "   <g id=\"patch_38\">\n",
       "    <path clip-path=\"url(#p7dad69dd55)\" d=\"M 181.561875 318.672656 \n",
       "L 185.133075 318.672656 \n",
       "L 185.133075 312.534656 \n",
       "L 181.561875 312.534656 \n",
       "z\n",
       "\" style=\"fill:#4c72b0;stroke:#1a1a1a;stroke-linejoin:miter;stroke-width:0.3;\"/>\n",
       "   </g>\n",
       "   <g id=\"patch_39\">\n",
       "    <path clip-path=\"url(#p7dad69dd55)\" d=\"M 186.025875 318.672656 \n",
       "L 189.597075 318.672656 \n",
       "L 189.597075 312.534656 \n",
       "L 186.025875 312.534656 \n",
       "z\n",
       "\" style=\"fill:#4c72b0;stroke:#1a1a1a;stroke-linejoin:miter;stroke-width:0.3;\"/>\n",
       "   </g>\n",
       "   <g id=\"patch_40\">\n",
       "    <path clip-path=\"url(#p7dad69dd55)\" d=\"M 190.489875 318.672656 \n",
       "L 194.061075 318.672656 \n",
       "L 194.061075 312.534656 \n",
       "L 190.489875 312.534656 \n",
       "z\n",
       "\" style=\"fill:#4c72b0;stroke:#1a1a1a;stroke-linejoin:miter;stroke-width:0.3;\"/>\n",
       "   </g>\n",
       "   <g id=\"patch_41\">\n",
       "    <path clip-path=\"url(#p7dad69dd55)\" d=\"M 194.953875 318.672656 \n",
       "L 198.525075 318.672656 \n",
       "L 198.525075 214.326656 \n",
       "L 194.953875 214.326656 \n",
       "z\n",
       "\" style=\"fill:#4c72b0;stroke:#1a1a1a;stroke-linejoin:miter;stroke-width:0.3;\"/>\n",
       "   </g>\n",
       "   <g id=\"patch_42\">\n",
       "    <path clip-path=\"url(#p7dad69dd55)\" d=\"M 199.417875 318.672656 \n",
       "L 202.989075 318.672656 \n",
       "L 202.989075 312.534656 \n",
       "L 199.417875 312.534656 \n",
       "z\n",
       "\" style=\"fill:#4c72b0;stroke:#1a1a1a;stroke-linejoin:miter;stroke-width:0.3;\"/>\n",
       "   </g>\n",
       "   <g id=\"patch_43\">\n",
       "    <path clip-path=\"url(#p7dad69dd55)\" d=\"M 203.881875 318.672656 \n",
       "L 207.453075 318.672656 \n",
       "L 207.453075 312.534656 \n",
       "L 203.881875 312.534656 \n",
       "z\n",
       "\" style=\"fill:#4c72b0;stroke:#1a1a1a;stroke-linejoin:miter;stroke-width:0.3;\"/>\n",
       "   </g>\n",
       "   <g id=\"patch_44\">\n",
       "    <path clip-path=\"url(#p7dad69dd55)\" d=\"M 208.345875 318.672656 \n",
       "L 211.917075 318.672656 \n",
       "L 211.917075 269.568656 \n",
       "L 208.345875 269.568656 \n",
       "z\n",
       "\" style=\"fill:#4c72b0;stroke:#1a1a1a;stroke-linejoin:miter;stroke-width:0.3;\"/>\n",
       "   </g>\n",
       "   <g id=\"patch_45\">\n",
       "    <path clip-path=\"url(#p7dad69dd55)\" d=\"M 212.809875 318.672656 \n",
       "L 216.381075 318.672656 \n",
       "L 216.381075 306.396656 \n",
       "L 212.809875 306.396656 \n",
       "z\n",
       "\" style=\"fill:#4c72b0;stroke:#1a1a1a;stroke-linejoin:miter;stroke-width:0.3;\"/>\n",
       "   </g>\n",
       "   <g id=\"patch_46\">\n",
       "    <path clip-path=\"url(#p7dad69dd55)\" d=\"M 217.273875 318.672656 \n",
       "L 220.845075 318.672656 \n",
       "L 220.845075 312.534656 \n",
       "L 217.273875 312.534656 \n",
       "z\n",
       "\" style=\"fill:#4c72b0;stroke:#1a1a1a;stroke-linejoin:miter;stroke-width:0.3;\"/>\n",
       "   </g>\n",
       "   <g id=\"patch_47\">\n",
       "    <path clip-path=\"url(#p7dad69dd55)\" d=\"M 221.737875 318.672656 \n",
       "L 225.309075 318.672656 \n",
       "L 225.309075 300.258656 \n",
       "L 221.737875 300.258656 \n",
       "z\n",
       "\" style=\"fill:#4c72b0;stroke:#1a1a1a;stroke-linejoin:miter;stroke-width:0.3;\"/>\n",
       "   </g>\n",
       "   <g id=\"patch_48\">\n",
       "    <path clip-path=\"url(#p7dad69dd55)\" d=\"M 226.201875 318.672656 \n",
       "L 229.773075 318.672656 \n",
       "L 229.773075 306.396656 \n",
       "L 226.201875 306.396656 \n",
       "z\n",
       "\" style=\"fill:#4c72b0;stroke:#1a1a1a;stroke-linejoin:miter;stroke-width:0.3;\"/>\n",
       "   </g>\n",
       "   <g id=\"patch_49\">\n",
       "    <path clip-path=\"url(#p7dad69dd55)\" d=\"M 230.665875 318.672656 \n",
       "L 234.237075 318.672656 \n",
       "L 234.237075 281.844656 \n",
       "L 230.665875 281.844656 \n",
       "z\n",
       "\" style=\"fill:#4c72b0;stroke:#1a1a1a;stroke-linejoin:miter;stroke-width:0.3;\"/>\n",
       "   </g>\n",
       "   <g id=\"patch_50\">\n",
       "    <path clip-path=\"url(#p7dad69dd55)\" d=\"M 235.129875 318.672656 \n",
       "L 238.701075 318.672656 \n",
       "L 238.701075 312.534656 \n",
       "L 235.129875 312.534656 \n",
       "z\n",
       "\" style=\"fill:#4c72b0;stroke:#1a1a1a;stroke-linejoin:miter;stroke-width:0.3;\"/>\n",
       "   </g>\n",
       "   <g id=\"patch_51\">\n",
       "    <path clip-path=\"url(#p7dad69dd55)\" d=\"M 239.593875 318.672656 \n",
       "L 243.165075 318.672656 \n",
       "L 243.165075 263.430656 \n",
       "L 239.593875 263.430656 \n",
       "z\n",
       "\" style=\"fill:#4c72b0;stroke:#1a1a1a;stroke-linejoin:miter;stroke-width:0.3;\"/>\n",
       "   </g>\n",
       "   <g id=\"patch_52\">\n",
       "    <path clip-path=\"url(#p7dad69dd55)\" d=\"M 244.057875 318.672656 \n",
       "L 247.629075 318.672656 \n",
       "L 247.629075 312.534656 \n",
       "L 244.057875 312.534656 \n",
       "z\n",
       "\" style=\"fill:#4c72b0;stroke:#1a1a1a;stroke-linejoin:miter;stroke-width:0.3;\"/>\n",
       "   </g>\n",
       "   <g id=\"patch_53\">\n",
       "    <path clip-path=\"url(#p7dad69dd55)\" d=\"M 248.521875 318.672656 \n",
       "L 252.093075 318.672656 \n",
       "L 252.093075 312.534656 \n",
       "L 248.521875 312.534656 \n",
       "z\n",
       "\" style=\"fill:#4c72b0;stroke:#1a1a1a;stroke-linejoin:miter;stroke-width:0.3;\"/>\n",
       "   </g>\n",
       "   <g id=\"patch_54\">\n",
       "    <path clip-path=\"url(#p7dad69dd55)\" d=\"M 252.985875 318.672656 \n",
       "L 256.557075 318.672656 \n",
       "L 256.557075 312.534656 \n",
       "L 252.985875 312.534656 \n",
       "z\n",
       "\" style=\"fill:#4c72b0;stroke:#1a1a1a;stroke-linejoin:miter;stroke-width:0.3;\"/>\n",
       "   </g>\n",
       "   <g id=\"patch_55\">\n",
       "    <path clip-path=\"url(#p7dad69dd55)\" d=\"M 257.449875 318.672656 \n",
       "L 261.021075 318.672656 \n",
       "L 261.021075 294.120656 \n",
       "L 257.449875 294.120656 \n",
       "z\n",
       "\" style=\"fill:#4c72b0;stroke:#1a1a1a;stroke-linejoin:miter;stroke-width:0.3;\"/>\n",
       "   </g>\n",
       "   <g id=\"patch_56\">\n",
       "    <path clip-path=\"url(#p7dad69dd55)\" d=\"M 261.913875 318.672656 \n",
       "L 265.485075 318.672656 \n",
       "L 265.485075 306.396656 \n",
       "L 261.913875 306.396656 \n",
       "z\n",
       "\" style=\"fill:#4c72b0;stroke:#1a1a1a;stroke-linejoin:miter;stroke-width:0.3;\"/>\n",
       "   </g>\n",
       "   <g id=\"patch_57\">\n",
       "    <path clip-path=\"url(#p7dad69dd55)\" d=\"M 266.377875 318.672656 \n",
       "L 269.949075 318.672656 \n",
       "L 269.949075 312.534656 \n",
       "L 266.377875 312.534656 \n",
       "z\n",
       "\" style=\"fill:#4c72b0;stroke:#1a1a1a;stroke-linejoin:miter;stroke-width:0.3;\"/>\n",
       "   </g>\n",
       "   <g id=\"patch_58\">\n",
       "    <path clip-path=\"url(#p7dad69dd55)\" d=\"M 270.841875 318.672656 \n",
       "L 274.413075 318.672656 \n",
       "L 274.413075 312.534656 \n",
       "L 270.841875 312.534656 \n",
       "z\n",
       "\" style=\"fill:#4c72b0;stroke:#1a1a1a;stroke-linejoin:miter;stroke-width:0.3;\"/>\n",
       "   </g>\n",
       "   <g id=\"patch_59\">\n",
       "    <path clip-path=\"url(#p7dad69dd55)\" d=\"M 275.305875 318.672656 \n",
       "L 278.877075 318.672656 \n",
       "L 278.877075 312.534656 \n",
       "L 275.305875 312.534656 \n",
       "z\n",
       "\" style=\"fill:#4c72b0;stroke:#1a1a1a;stroke-linejoin:miter;stroke-width:0.3;\"/>\n",
       "   </g>\n",
       "   <g id=\"patch_60\">\n",
       "    <path clip-path=\"url(#p7dad69dd55)\" d=\"M 279.769875 318.672656 \n",
       "L 283.341075 318.672656 \n",
       "L 283.341075 312.534656 \n",
       "L 279.769875 312.534656 \n",
       "z\n",
       "\" style=\"fill:#4c72b0;stroke:#1a1a1a;stroke-linejoin:miter;stroke-width:0.3;\"/>\n",
       "   </g>\n",
       "   <g id=\"patch_61\">\n",
       "    <path clip-path=\"url(#p7dad69dd55)\" d=\"M 284.233875 318.672656 \n",
       "L 287.805075 318.672656 \n",
       "L 287.805075 312.534656 \n",
       "L 284.233875 312.534656 \n",
       "z\n",
       "\" style=\"fill:#4c72b0;stroke:#1a1a1a;stroke-linejoin:miter;stroke-width:0.3;\"/>\n",
       "   </g>\n",
       "   <g id=\"patch_62\">\n",
       "    <path clip-path=\"url(#p7dad69dd55)\" d=\"M 288.697875 318.672656 \n",
       "L 292.269075 318.672656 \n",
       "L 292.269075 263.430656 \n",
       "L 288.697875 263.430656 \n",
       "z\n",
       "\" style=\"fill:#4c72b0;stroke:#1a1a1a;stroke-linejoin:miter;stroke-width:0.3;\"/>\n",
       "   </g>\n",
       "   <g id=\"patch_63\">\n",
       "    <path clip-path=\"url(#p7dad69dd55)\" d=\"M 293.161875 318.672656 \n",
       "L 296.733075 318.672656 \n",
       "L 296.733075 134.532656 \n",
       "L 293.161875 134.532656 \n",
       "z\n",
       "\" style=\"fill:#4c72b0;stroke:#1a1a1a;stroke-linejoin:miter;stroke-width:0.3;\"/>\n",
       "   </g>\n",
       "   <g id=\"patch_64\">\n",
       "    <path clip-path=\"url(#p7dad69dd55)\" d=\"M 297.625875 318.672656 \n",
       "L 301.197075 318.672656 \n",
       "L 301.197075 312.534656 \n",
       "L 297.625875 312.534656 \n",
       "z\n",
       "\" style=\"fill:#4c72b0;stroke:#1a1a1a;stroke-linejoin:miter;stroke-width:0.3;\"/>\n",
       "   </g>\n",
       "   <g id=\"patch_65\">\n",
       "    <path clip-path=\"url(#p7dad69dd55)\" d=\"M 302.089875 318.672656 \n",
       "L 305.661075 318.672656 \n",
       "L 305.661075 312.534656 \n",
       "L 302.089875 312.534656 \n",
       "z\n",
       "\" style=\"fill:#4c72b0;stroke:#1a1a1a;stroke-linejoin:miter;stroke-width:0.3;\"/>\n",
       "   </g>\n",
       "   <g id=\"patch_66\">\n",
       "    <path clip-path=\"url(#p7dad69dd55)\" d=\"M 306.553875 318.672656 \n",
       "L 310.125075 318.672656 \n",
       "L 310.125075 281.844656 \n",
       "L 306.553875 281.844656 \n",
       "z\n",
       "\" style=\"fill:#4c72b0;stroke:#1a1a1a;stroke-linejoin:miter;stroke-width:0.3;\"/>\n",
       "   </g>\n",
       "   <g id=\"patch_67\">\n",
       "    <path clip-path=\"url(#p7dad69dd55)\" d=\"M 311.017875 318.672656 \n",
       "L 314.589075 318.672656 \n",
       "L 314.589075 312.534656 \n",
       "L 311.017875 312.534656 \n",
       "z\n",
       "\" style=\"fill:#4c72b0;stroke:#1a1a1a;stroke-linejoin:miter;stroke-width:0.3;\"/>\n",
       "   </g>\n",
       "   <g id=\"patch_68\">\n",
       "    <path clip-path=\"url(#p7dad69dd55)\" d=\"M 315.481875 318.672656 \n",
       "L 319.053075 318.672656 \n",
       "L 319.053075 312.534656 \n",
       "L 315.481875 312.534656 \n",
       "z\n",
       "\" style=\"fill:#4c72b0;stroke:#1a1a1a;stroke-linejoin:miter;stroke-width:0.3;\"/>\n",
       "   </g>\n",
       "   <g id=\"patch_69\">\n",
       "    <path clip-path=\"url(#p7dad69dd55)\" d=\"M 319.945875 318.672656 \n",
       "L 323.517075 318.672656 \n",
       "L 323.517075 306.396656 \n",
       "L 319.945875 306.396656 \n",
       "z\n",
       "\" style=\"fill:#4c72b0;stroke:#1a1a1a;stroke-linejoin:miter;stroke-width:0.3;\"/>\n",
       "   </g>\n",
       "   <g id=\"patch_70\">\n",
       "    <path clip-path=\"url(#p7dad69dd55)\" d=\"M 324.409875 318.672656 \n",
       "L 327.981075 318.672656 \n",
       "L 327.981075 306.396656 \n",
       "L 324.409875 306.396656 \n",
       "z\n",
       "\" style=\"fill:#4c72b0;stroke:#1a1a1a;stroke-linejoin:miter;stroke-width:0.3;\"/>\n",
       "   </g>\n",
       "   <g id=\"patch_71\">\n",
       "    <path clip-path=\"url(#p7dad69dd55)\" d=\"M 328.873875 318.672656 \n",
       "L 332.445075 318.672656 \n",
       "L 332.445075 312.534656 \n",
       "L 328.873875 312.534656 \n",
       "z\n",
       "\" style=\"fill:#4c72b0;stroke:#1a1a1a;stroke-linejoin:miter;stroke-width:0.3;\"/>\n",
       "   </g>\n",
       "   <g id=\"patch_72\">\n",
       "    <path clip-path=\"url(#p7dad69dd55)\" d=\"M 333.337875 318.672656 \n",
       "L 336.909075 318.672656 \n",
       "L 336.909075 312.534656 \n",
       "L 333.337875 312.534656 \n",
       "z\n",
       "\" style=\"fill:#4c72b0;stroke:#1a1a1a;stroke-linejoin:miter;stroke-width:0.3;\"/>\n",
       "   </g>\n",
       "   <g id=\"patch_73\">\n",
       "    <path clip-path=\"url(#p7dad69dd55)\" d=\"M 337.801875 318.672656 \n",
       "L 341.373075 318.672656 \n",
       "L 341.373075 294.120656 \n",
       "L 337.801875 294.120656 \n",
       "z\n",
       "\" style=\"fill:#4c72b0;stroke:#1a1a1a;stroke-linejoin:miter;stroke-width:0.3;\"/>\n",
       "   </g>\n",
       "   <g id=\"patch_74\">\n",
       "    <path clip-path=\"url(#p7dad69dd55)\" d=\"M 342.265875 318.672656 \n",
       "L 345.837075 318.672656 \n",
       "L 345.837075 312.534656 \n",
       "L 342.265875 312.534656 \n",
       "z\n",
       "\" style=\"fill:#4c72b0;stroke:#1a1a1a;stroke-linejoin:miter;stroke-width:0.3;\"/>\n",
       "   </g>\n",
       "   <g id=\"patch_75\">\n",
       "    <path clip-path=\"url(#p7dad69dd55)\" d=\"M 346.729875 318.672656 \n",
       "L 350.301075 318.672656 \n",
       "L 350.301075 281.844656 \n",
       "L 346.729875 281.844656 \n",
       "z\n",
       "\" style=\"fill:#4c72b0;stroke:#1a1a1a;stroke-linejoin:miter;stroke-width:0.3;\"/>\n",
       "   </g>\n",
       "   <g id=\"patch_76\">\n",
       "    <path clip-path=\"url(#p7dad69dd55)\" d=\"M 351.193875 318.672656 \n",
       "L 354.765075 318.672656 \n",
       "L 354.765075 300.258656 \n",
       "L 351.193875 300.258656 \n",
       "z\n",
       "\" style=\"fill:#4c72b0;stroke:#1a1a1a;stroke-linejoin:miter;stroke-width:0.3;\"/>\n",
       "   </g>\n",
       "   <g id=\"patch_77\">\n",
       "    <path clip-path=\"url(#p7dad69dd55)\" d=\"M 355.657875 318.672656 \n",
       "L 359.229075 318.672656 \n",
       "L 359.229075 312.534656 \n",
       "L 355.657875 312.534656 \n",
       "z\n",
       "\" style=\"fill:#4c72b0;stroke:#1a1a1a;stroke-linejoin:miter;stroke-width:0.3;\"/>\n",
       "   </g>\n",
       "   <g id=\"patch_78\">\n",
       "    <path clip-path=\"url(#p7dad69dd55)\" d=\"M 360.121875 318.672656 \n",
       "L 363.693075 318.672656 \n",
       "L 363.693075 306.396656 \n",
       "L 360.121875 306.396656 \n",
       "z\n",
       "\" style=\"fill:#4c72b0;stroke:#1a1a1a;stroke-linejoin:miter;stroke-width:0.3;\"/>\n",
       "   </g>\n",
       "   <g id=\"patch_79\">\n",
       "    <path clip-path=\"url(#p7dad69dd55)\" d=\"M 364.585875 318.672656 \n",
       "L 368.157075 318.672656 \n",
       "L 368.157075 300.258656 \n",
       "L 364.585875 300.258656 \n",
       "z\n",
       "\" style=\"fill:#4c72b0;stroke:#1a1a1a;stroke-linejoin:miter;stroke-width:0.3;\"/>\n",
       "   </g>\n",
       "   <g id=\"patch_80\">\n",
       "    <path clip-path=\"url(#p7dad69dd55)\" d=\"M 369.049875 318.672656 \n",
       "L 372.621075 318.672656 \n",
       "L 372.621075 312.534656 \n",
       "L 369.049875 312.534656 \n",
       "z\n",
       "\" style=\"fill:#4c72b0;stroke:#1a1a1a;stroke-linejoin:miter;stroke-width:0.3;\"/>\n",
       "   </g>\n",
       "   <g id=\"patch_81\">\n",
       "    <path clip-path=\"url(#p7dad69dd55)\" d=\"M 373.513875 318.672656 \n",
       "L 377.085075 318.672656 \n",
       "L 377.085075 17.910656 \n",
       "L 373.513875 17.910656 \n",
       "z\n",
       "\" style=\"fill:#4c72b0;stroke:#1a1a1a;stroke-linejoin:miter;stroke-width:0.3;\"/>\n",
       "   </g>\n",
       "   <g id=\"patch_82\">\n",
       "    <path clip-path=\"url(#p7dad69dd55)\" d=\"M 377.977875 318.672656 \n",
       "L 381.549075 318.672656 \n",
       "L 381.549075 312.534656 \n",
       "L 377.977875 312.534656 \n",
       "z\n",
       "\" style=\"fill:#4c72b0;stroke:#1a1a1a;stroke-linejoin:miter;stroke-width:0.3;\"/>\n",
       "   </g>\n",
       "   <g id=\"patch_83\">\n",
       "    <path clip-path=\"url(#p7dad69dd55)\" d=\"M 382.441875 318.672656 \n",
       "L 386.013075 318.672656 \n",
       "L 386.013075 294.120656 \n",
       "L 382.441875 294.120656 \n",
       "z\n",
       "\" style=\"fill:#4c72b0;stroke:#1a1a1a;stroke-linejoin:miter;stroke-width:0.3;\"/>\n",
       "   </g>\n",
       "   <g id=\"patch_84\">\n",
       "    <path clip-path=\"url(#p7dad69dd55)\" d=\"M 386.905875 318.672656 \n",
       "L 390.477075 318.672656 \n",
       "L 390.477075 312.534656 \n",
       "L 386.905875 312.534656 \n",
       "z\n",
       "\" style=\"fill:#4c72b0;stroke:#1a1a1a;stroke-linejoin:miter;stroke-width:0.3;\"/>\n",
       "   </g>\n",
       "   <g id=\"patch_85\">\n",
       "    <path clip-path=\"url(#p7dad69dd55)\" d=\"M 391.369875 318.672656 \n",
       "L 394.941075 318.672656 \n",
       "L 394.941075 300.258656 \n",
       "L 391.369875 300.258656 \n",
       "z\n",
       "\" style=\"fill:#4c72b0;stroke:#1a1a1a;stroke-linejoin:miter;stroke-width:0.3;\"/>\n",
       "   </g>\n",
       "   <g id=\"patch_86\">\n",
       "    <path clip-path=\"url(#p7dad69dd55)\" d=\"M 395.833875 318.672656 \n",
       "L 399.405075 318.672656 \n",
       "L 399.405075 312.534656 \n",
       "L 395.833875 312.534656 \n",
       "z\n",
       "\" style=\"fill:#4c72b0;stroke:#1a1a1a;stroke-linejoin:miter;stroke-width:0.3;\"/>\n",
       "   </g>\n",
       "   <g id=\"patch_87\">\n",
       "    <path clip-path=\"url(#p7dad69dd55)\" d=\"M 400.297875 318.672656 \n",
       "L 403.869075 318.672656 \n",
       "L 403.869075 300.258656 \n",
       "L 400.297875 300.258656 \n",
       "z\n",
       "\" style=\"fill:#4c72b0;stroke:#1a1a1a;stroke-linejoin:miter;stroke-width:0.3;\"/>\n",
       "   </g>\n",
       "   <g id=\"patch_88\">\n",
       "    <path clip-path=\"url(#p7dad69dd55)\" d=\"M 404.761875 318.672656 \n",
       "L 408.333075 318.672656 \n",
       "L 408.333075 312.534656 \n",
       "L 404.761875 312.534656 \n",
       "z\n",
       "\" style=\"fill:#4c72b0;stroke:#1a1a1a;stroke-linejoin:miter;stroke-width:0.3;\"/>\n",
       "   </g>\n",
       "   <g id=\"patch_89\">\n",
       "    <path clip-path=\"url(#p7dad69dd55)\" d=\"M 409.225875 318.672656 \n",
       "L 412.797075 318.672656 \n",
       "L 412.797075 312.534656 \n",
       "L 409.225875 312.534656 \n",
       "z\n",
       "\" style=\"fill:#4c72b0;stroke:#1a1a1a;stroke-linejoin:miter;stroke-width:0.3;\"/>\n",
       "   </g>\n",
       "   <g id=\"patch_90\">\n",
       "    <path clip-path=\"url(#p7dad69dd55)\" d=\"M 413.689875 318.672656 \n",
       "L 417.261075 318.672656 \n",
       "L 417.261075 294.120656 \n",
       "L 413.689875 294.120656 \n",
       "z\n",
       "\" style=\"fill:#4c72b0;stroke:#1a1a1a;stroke-linejoin:miter;stroke-width:0.3;\"/>\n",
       "   </g>\n",
       "   <g id=\"patch_91\">\n",
       "    <path clip-path=\"url(#p7dad69dd55)\" d=\"M 418.153875 318.672656 \n",
       "L 421.725075 318.672656 \n",
       "L 421.725075 312.534656 \n",
       "L 418.153875 312.534656 \n",
       "z\n",
       "\" style=\"fill:#4c72b0;stroke:#1a1a1a;stroke-linejoin:miter;stroke-width:0.3;\"/>\n",
       "   </g>\n",
       "   <g id=\"patch_92\">\n",
       "    <path clip-path=\"url(#p7dad69dd55)\" d=\"M 422.617875 318.672656 \n",
       "L 426.189075 318.672656 \n",
       "L 426.189075 312.534656 \n",
       "L 422.617875 312.534656 \n",
       "z\n",
       "\" style=\"fill:#4c72b0;stroke:#1a1a1a;stroke-linejoin:miter;stroke-width:0.3;\"/>\n",
       "   </g>\n",
       "   <g id=\"patch_93\">\n",
       "    <path clip-path=\"url(#p7dad69dd55)\" d=\"M 427.081875 318.672656 \n",
       "L 430.653075 318.672656 \n",
       "L 430.653075 294.120656 \n",
       "L 427.081875 294.120656 \n",
       "z\n",
       "\" style=\"fill:#4c72b0;stroke:#1a1a1a;stroke-linejoin:miter;stroke-width:0.3;\"/>\n",
       "   </g>\n",
       "   <g id=\"patch_94\">\n",
       "    <path clip-path=\"url(#p7dad69dd55)\" d=\"M 431.545875 318.672656 \n",
       "L 435.117075 318.672656 \n",
       "L 435.117075 312.534656 \n",
       "L 431.545875 312.534656 \n",
       "z\n",
       "\" style=\"fill:#4c72b0;stroke:#1a1a1a;stroke-linejoin:miter;stroke-width:0.3;\"/>\n",
       "   </g>\n",
       "   <g id=\"patch_95\">\n",
       "    <path clip-path=\"url(#p7dad69dd55)\" d=\"M 436.009875 318.672656 \n",
       "L 439.581075 318.672656 \n",
       "L 439.581075 294.120656 \n",
       "L 436.009875 294.120656 \n",
       "z\n",
       "\" style=\"fill:#4c72b0;stroke:#1a1a1a;stroke-linejoin:miter;stroke-width:0.3;\"/>\n",
       "   </g>\n",
       "   <g id=\"patch_96\">\n",
       "    <path clip-path=\"url(#p7dad69dd55)\" d=\"M 440.473875 318.672656 \n",
       "L 444.045075 318.672656 \n",
       "L 444.045075 287.982656 \n",
       "L 440.473875 287.982656 \n",
       "z\n",
       "\" style=\"fill:#4c72b0;stroke:#1a1a1a;stroke-linejoin:miter;stroke-width:0.3;\"/>\n",
       "   </g>\n",
       "   <g id=\"patch_97\">\n",
       "    <path clip-path=\"url(#p7dad69dd55)\" d=\"M 444.937875 318.672656 \n",
       "L 448.509075 318.672656 \n",
       "L 448.509075 306.396656 \n",
       "L 444.937875 306.396656 \n",
       "z\n",
       "\" style=\"fill:#4c72b0;stroke:#1a1a1a;stroke-linejoin:miter;stroke-width:0.3;\"/>\n",
       "   </g>\n",
       "   <g id=\"patch_98\">\n",
       "    <path d=\"M 25.321875 11.772656 \n",
       "L 471.721875 11.772656 \n",
       "\" style=\"fill:none;\"/>\n",
       "   </g>\n",
       "   <g id=\"patch_99\">\n",
       "    <path d=\"M 471.721875 318.672656 \n",
       "L 471.721875 11.772656 \n",
       "\" style=\"fill:none;\"/>\n",
       "   </g>\n",
       "   <g id=\"patch_100\">\n",
       "    <path d=\"M 25.321875 318.672656 \n",
       "L 471.721875 318.672656 \n",
       "\" style=\"fill:none;\"/>\n",
       "   </g>\n",
       "   <g id=\"patch_101\">\n",
       "    <path d=\"M 25.321875 318.672656 \n",
       "L 25.321875 11.772656 \n",
       "\" style=\"fill:none;\"/>\n",
       "   </g>\n",
       "  </g>\n",
       " </g>\n",
       " <defs>\n",
       "  <clipPath id=\"p7dad69dd55\">\n",
       "   <rect height=\"306.9\" width=\"446.4\" x=\"25.321875\" y=\"11.77265625\"/>\n",
       "  </clipPath>\n",
       " </defs>\n",
       "</svg>\n"
      ],
      "text/plain": [
       "<matplotlib.figure.Figure at 0x7f38e8dba6d0>"
      ]
     },
     "metadata": {},
     "output_type": "display_data"
    }
   ],
   "source": [
    "vect = CountVectorizer().fit(docs)\n",
    "count = vect.transform(docs).toarray().sum(axis=0)\n",
    "plt.bar(range(len(count)), count)\n",
    "plt.show()"
   ]
  },
  {
   "cell_type": "code",
   "execution_count": 38,
   "metadata": {
    "collapsed": false,
    "school_cell_uuid": "b03184406e9b444398f9cbc07055bbbc"
   },
   "outputs": [
    {
     "name": "stdout",
     "output_type": "stream",
     "text": [
      "[(377ad03459bf, 3),\n",
      " (a181562ac4d8, 2),\n",
      " (a1e4ed2ac65b, 1),\n",
      " (container, 1),\n",
      " (daemon, 1),\n",
      " (docker, 1),\n",
      " (dockeruser, 3),\n",
      " (image, 1),\n",
      " (mingw64, 7),\n",
      " (가동, 8),\n",
      " (가상, 2),\n",
      " (가지, 1),\n",
      " (개념, 1),\n",
      " (경우, 12),\n",
      " (공유, 1),\n",
      " (관련하, 2),\n",
      " (나오기, 1),\n",
      " (내부, 1),\n",
      " (다음, 7),\n",
      " (대표적, 1),\n",
      " (대화형, 3),\n",
      " (데몬, 1),\n",
      " (도커, 32),\n",
      " (때문, 1),\n",
      " (리눅스, 1),\n",
      " (마지막, 1),\n",
      " (마찬가지, 3),\n",
      " (머신, 1),\n",
      " (메모리, 1),\n",
      " (명령, 14),\n",
      " (명령어, 3),\n",
      " (목록, 5),\n",
      " (문자, 1),\n",
      " (문자열, 3),\n",
      " (버튼, 1),\n",
      " (복사, 1),\n",
      " (복수, 1),\n",
      " (복수개의, 1),\n",
      " (사용, 17),\n",
      " (사용자, 1),\n",
      " (사용해, 1),\n",
      " (삭제, 8),\n",
      " (생각, 2),\n",
      " (생성, 1),\n",
      " (수행, 3),\n",
      " (시스템, 2),\n",
      " (시작, 6),\n",
      " (아래, 1),\n",
      " (아이디, 9),\n",
      " (여기, 1),\n",
      " (연결, 1),\n",
      " (오류, 1),\n",
      " (옵션, 4),\n",
      " (외부, 2),\n",
      " (원본, 1),\n",
      " (윈도우즈, 1),\n",
      " (으로, 1),\n",
      " (의미, 1),\n",
      " (의존, 1),\n",
      " (이름, 9),\n",
      " (이미지, 30),\n",
      " (이해, 1),\n",
      " (일부분, 1),\n",
      " (입력, 6),\n",
      " (자동, 1),\n",
      " (자체, 1),\n",
      " (작업, 2),\n",
      " (저장, 2),\n",
      " (정지, 1),\n",
      " (조합, 1),\n",
      " (존재, 4),\n",
      " (중복, 1),\n",
      " (중지, 6),\n",
      " (지정, 3),\n",
      " (첫번, 1),\n",
      " (추가, 2),\n",
      " (출력, 3),\n",
      " (컨테이, 1),\n",
      " (컨테이너, 49),\n",
      " (컨테이너상, 1),\n",
      " (컴퓨터, 4),\n",
      " (콜론, 1),\n",
      " (터미널, 3),\n",
      " (툴박스, 1),\n",
      " (특정, 3),\n",
      " (파일, 1),\n",
      " (포워딩, 1),\n",
      " (포트, 4),\n",
      " (폴더, 1),\n",
      " (표시, 1),\n",
      " (프롬프트, 4),\n",
      " (하나, 1),\n",
      " (해당, 4),\n",
      " (호스트, 5),\n",
      " (호스트간, 2)]\n"
     ]
    }
   ],
   "source": [
    "pprint(zip(vect.get_feature_names(), count))"
   ]
  }
 ],
 "metadata": {
  "kernelspec": {
   "display_name": "Python 2",
   "language": "python",
   "name": "python2"
  },
  "language_info": {
   "codemirror_mode": {
    "name": "ipython",
    "version": 2
   },
   "file_extension": ".py",
   "mimetype": "text/x-python",
   "name": "python",
   "nbconvert_exporter": "python",
   "pygments_lexer": "ipython2",
   "version": "2.7.11"
  }
 },
 "nbformat": 4,
 "nbformat_minor": 0
}