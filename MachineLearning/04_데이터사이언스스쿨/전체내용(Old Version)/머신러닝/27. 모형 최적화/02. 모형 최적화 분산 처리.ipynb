{
 "cells": [
  {
   "cell_type": "markdown",
   "metadata": {
    "school_cell_uuid": "1e42423d976b417f9a63d92e35cd4bd8"
   },
   "source": [
    "# 모형 최적화 분산 처리"
   ]
  },
  {
   "cell_type": "markdown",
   "metadata": {
    "school_cell_uuid": "8c8d9b7095b84f0f9bc68697e4a56347"
   },
   "source": [
    "## ipyparallel\n",
    "\n",
    "* http://ipyparallel.readthedocs.org/en/latest/index.html\n",
    "\n",
    "\n",
    "* Engine <-> Client\n",
    " * Engine: 실제 계산이 실행되는 프로세스\n",
    " * Client: 엔진을 제어하기 위한 인터페이스\n"
   ]
  },
  {
   "cell_type": "markdown",
   "metadata": {
    "school_cell_uuid": "c133fbdd3e0a4dfdb0236dd1b25e03c9"
   },
   "source": [
    "```\n",
    "$ conda install ipyparallel\n",
    "```"
   ]
  },
  {
   "cell_type": "markdown",
   "metadata": {
    "school_cell_uuid": "133e9e166cbd4e129e9aff20527e5997"
   },
   "source": [
    "### Engine 가동/중지\n",
    "\n",
    "* 가동\n",
    "```\n",
    "$ ipcluster start -n 4\n",
    "```\n",
    "\n",
    "* 중지\n",
    " * Control-C"
   ]
  },
  {
   "cell_type": "markdown",
   "metadata": {
    "school_cell_uuid": "dc3e0bafaa5b44e3b2d51d4c158323f1"
   },
   "source": [
    "### Client"
   ]
  },
  {
   "cell_type": "code",
   "execution_count": 4,
   "metadata": {
    "collapsed": false,
    "school_cell_uuid": "c23b67ea80094ba383569ac300c32b23"
   },
   "outputs": [
    {
     "data": {
      "text/plain": [
       "[0, 1]"
      ]
     },
     "execution_count": 4,
     "metadata": {},
     "output_type": "execute_result"
    }
   ],
   "source": [
    "from ipyparallel import Client\n",
    "c = Client()\n",
    "c.ids"
   ]
  },
  {
   "cell_type": "code",
   "execution_count": 5,
   "metadata": {
    "collapsed": false,
    "school_cell_uuid": "3ee4feb1d7ff474a82e9438dde753c22"
   },
   "outputs": [
    {
     "data": {
      "text/plain": [
       "<DirectView [0, 1]>"
      ]
     },
     "execution_count": 5,
     "metadata": {},
     "output_type": "execute_result"
    }
   ],
   "source": [
    "dview = c[:]\n",
    "dview"
   ]
  },
  {
   "cell_type": "markdown",
   "metadata": {
    "school_cell_uuid": "14ae1397651e46eb8e1a034e69c4559c"
   },
   "source": [
    "### Map / Reduce\n",
    "\n",
    "* `map(function, data)`: data 각각에 function을 실행하여 결과 출력\n",
    "* `reduce(function, data)`: function을 실행할 때 마다 결과의 수가 감소. 최종적으로 하나의 수가 남는다."
   ]
  },
  {
   "cell_type": "code",
   "execution_count": 6,
   "metadata": {
    "collapsed": false,
    "school_cell_uuid": "4683753c1426446ba5db0f4ee91f3997"
   },
   "outputs": [
    {
     "data": {
      "text/plain": [
       "array([  0,  10,  20,  30,  40,  50,  60,  70,  80,  90, 100])"
      ]
     },
     "execution_count": 6,
     "metadata": {},
     "output_type": "execute_result"
    }
   ],
   "source": [
    "def fahrenheit(T):\n",
    "    return 9 / 5 * T + 32\n",
    "\n",
    "temp = np.arange(0, 110, 10)\n",
    "temp"
   ]
  },
  {
   "cell_type": "code",
   "execution_count": 7,
   "metadata": {
    "collapsed": false,
    "school_cell_uuid": "c098a7aacb3548879f76f3be2bae6212"
   },
   "outputs": [
    {
     "data": {
      "text/plain": [
       "[32.0, 50.0, 68.0, 86.0, 104.0, 122.0, 140.0, 158.0, 176.0, 194.0, 212.0]"
      ]
     },
     "execution_count": 7,
     "metadata": {},
     "output_type": "execute_result"
    }
   ],
   "source": [
    "F = map(fahrenheit, temp)\n",
    "F"
   ]
  },
  {
   "cell_type": "code",
   "execution_count": 8,
   "metadata": {
    "collapsed": true,
    "school_cell_uuid": "2efe18ba192a4f22acf4f786ca770b70"
   },
   "outputs": [],
   "source": [
    "def create_prime(primes, n):\n",
    "    for p in primes:\n",
    "        if n % p == 0:\n",
    "            return primes\n",
    "    primes.append(n)\n",
    "    return primes"
   ]
  },
  {
   "cell_type": "code",
   "execution_count": 9,
   "metadata": {
    "collapsed": false,
    "school_cell_uuid": "b665e285375d4a5888def9b1e7afc641"
   },
   "outputs": [
    {
     "data": {
      "text/plain": [
       "[2,\n",
       " 3,\n",
       " 5,\n",
       " 7,\n",
       " 11,\n",
       " 13,\n",
       " 17,\n",
       " 19,\n",
       " 23,\n",
       " 29,\n",
       " 31,\n",
       " 37,\n",
       " 41,\n",
       " 43,\n",
       " 47,\n",
       " 53,\n",
       " 59,\n",
       " 61,\n",
       " 67,\n",
       " 71,\n",
       " 73,\n",
       " 79,\n",
       " 83,\n",
       " 89,\n",
       " 97]"
      ]
     },
     "execution_count": 9,
     "metadata": {},
     "output_type": "execute_result"
    }
   ],
   "source": [
    "reduce(create_prime, np.arange(2, 100), [2])"
   ]
  },
  {
   "cell_type": "markdown",
   "metadata": {
    "school_cell_uuid": "b9c2a3804a994afb92fe4fa85db5649c"
   },
   "source": [
    "### Parallel Map \n",
    "\n",
    "* map/reduce 연산을 engine process들에게 맏겨서 동시 실행"
   ]
  },
  {
   "cell_type": "code",
   "execution_count": 12,
   "metadata": {
    "collapsed": true,
    "school_cell_uuid": "14651e14c921461cb2e45750909fb565"
   },
   "outputs": [],
   "source": [
    "def pyprimes(kmax):\n",
    "    p = np.zeros(1000)\n",
    "    result = []\n",
    "    if kmax > 1000:\n",
    "        kmax = 1000\n",
    "    k = 0\n",
    "    n = 2\n",
    "    while k < kmax:\n",
    "        i = 0\n",
    "        while i < k and n % p[i] != 0:\n",
    "            i = i + 1\n",
    "        if i == k:\n",
    "            p[k] = n\n",
    "            k = k + 1\n",
    "            result.append(n)\n",
    "        n = n + 1\n",
    "    return result"
   ]
  },
  {
   "cell_type": "code",
   "execution_count": 13,
   "metadata": {
    "collapsed": false,
    "school_cell_uuid": "d89f487f93c447608c76202d1b0a73d1"
   },
   "outputs": [
    {
     "name": "stdout",
     "output_type": "stream",
     "text": [
      "CPU times: user 40.5 s, sys: 0 ns, total: 40.5 s\n",
      "Wall time: 41.2 s\n"
     ]
    }
   ],
   "source": [
    "%time result = map(pyprimes, range(700, 1000))"
   ]
  },
  {
   "cell_type": "code",
   "execution_count": 14,
   "metadata": {
    "collapsed": false,
    "school_cell_uuid": "c71df4bde9164db5a86858031a1c3361"
   },
   "outputs": [
    {
     "name": "stdout",
     "output_type": "stream",
     "text": [
      "CPU times: user 20 ms, sys: 0 ns, total: 20 ms\n",
      "Wall time: 41.1 s\n"
     ]
    }
   ],
   "source": [
    "%time parallel_result = dview.map_sync(pyprimes, range(700, 1000))"
   ]
  },
  {
   "cell_type": "code",
   "execution_count": 15,
   "metadata": {
    "collapsed": false,
    "school_cell_uuid": "dd216ed86cb94eacba44591c110d6ecb"
   },
   "outputs": [
    {
     "data": {
      "text/plain": [
       "True"
      ]
     },
     "execution_count": 15,
     "metadata": {},
     "output_type": "execute_result"
    }
   ],
   "source": [
    "parallel_result == result"
   ]
  },
  {
   "cell_type": "code",
   "execution_count": 16,
   "metadata": {
    "collapsed": true,
    "school_cell_uuid": "c7b74bde261a41619bcfa08da8a2c00f"
   },
   "outputs": [],
   "source": [
    "async_result = dview.map_async(pyprimes, range(700, 1000))"
   ]
  },
  {
   "cell_type": "code",
   "execution_count": 21,
   "metadata": {
    "collapsed": false,
    "school_cell_uuid": "8e5e39d5f172424fadb7890c93d10ca2"
   },
   "outputs": [
    {
     "data": {
      "text/plain": [
       "2"
      ]
     },
     "execution_count": 21,
     "metadata": {},
     "output_type": "execute_result"
    }
   ],
   "source": [
    "async_result.progress"
   ]
  },
  {
   "cell_type": "code",
   "execution_count": 24,
   "metadata": {
    "collapsed": false,
    "school_cell_uuid": "1587d4e32d1d48c29f67e4881e27e19a",
    "scrolled": true
   },
   "outputs": [
    {
     "data": {
      "text/plain": [
       "[5189, 5197, 5209, 5227, 5231, 5233, 5237, 5261, 5273, 5279]"
      ]
     },
     "execution_count": 24,
     "metadata": {},
     "output_type": "execute_result"
    }
   ],
   "source": [
    "async_result.get()[0][-10:]"
   ]
  },
  {
   "cell_type": "markdown",
   "metadata": {
    "school_cell_uuid": "ecea3cf71578457c8b6ed4d6f3ba1b08"
   },
   "source": [
    "## 모형 저장"
   ]
  },
  {
   "cell_type": "markdown",
   "metadata": {
    "school_cell_uuid": "f8f3b68a41b347bb85c2495ab4587706"
   },
   "source": [
    "모형을 분산처리하기 위해서는 sklearn.externals 서브패키지의 `joblib.dump` 명령과 `joblib.load` 명령 사용"
   ]
  },
  {
   "cell_type": "markdown",
   "metadata": {
    "school_cell_uuid": "887e040f64c742b79bb5fd87649a26b3"
   },
   "source": [
    "## ipyparalle 을 사용한 분산 모형 최적화"
   ]
  },
  {
   "cell_type": "code",
   "execution_count": 36,
   "metadata": {
    "collapsed": false,
    "school_cell_uuid": "4a7805b3a99b40b5845c639ff78b9f8d"
   },
   "outputs": [],
   "source": [
    "from sklearn.datasets import fetch_20newsgroups\n",
    "from sklearn.feature_extraction.text import TfidfVectorizer\n",
    "from sklearn.svm import SVC\n",
    "from sklearn.pipeline import Pipeline\n",
    "\n",
    "news = fetch_20newsgroups(subset=\"all\")\n",
    "n_samples = 3000\n",
    "X_train = news.data[:n_samples]\n",
    "y_train = news.target[:n_samples]\n",
    "\n",
    "model = Pipeline([\n",
    "        ('vect', TfidfVectorizer(stop_words=\"english\", token_pattern=ur\"\\b[a-z0-9_\\-\\.]+[a-z][a-z0-9_\\-\\.]+\\b\")),\n",
    "        ('svc', SVC()),\n",
    "    ])"
   ]
  },
  {
   "cell_type": "code",
   "execution_count": 28,
   "metadata": {
    "collapsed": false,
    "school_cell_uuid": "f49d54059c91471bb9d403a5ea266a87"
   },
   "outputs": [
    {
     "data": {
      "text/plain": [
       "['/home/dockeruser/notebooks/ml/news_cv_000.pkl',\n",
       " '/home/dockeruser/notebooks/ml/news_cv_001.pkl',\n",
       " '/home/dockeruser/notebooks/ml/news_cv_002.pkl']"
      ]
     },
     "execution_count": 28,
     "metadata": {},
     "output_type": "execute_result"
    }
   ],
   "source": [
    "from sklearn.externals import joblib\n",
    "import os\n",
    "from sklearn.cross_validation import KFold, cross_val_score\n",
    "\n",
    "def persist_cv_splits(X, y, K=3, name=\"data\", suffix=\"_cv_%03d.pkl\"):\n",
    "    cv_split_filenames = []\n",
    "    cv = KFold(n_samples, K, shuffle=True, random_state=0)\n",
    "    for i, (train, test) in enumerate(cv):\n",
    "        cv_fold = ([X[k] for k in train], y[train], \n",
    "                   [X[k] for k in test], y[test])\n",
    "        cv_split_filename = name + suffix % i\n",
    "        cv_split_filename = os.path.abspath(cv_split_filename)\n",
    "        joblib.dump(cv_fold, cv_split_filename)\n",
    "        cv_split_filenames.append(cv_split_filename)\n",
    "    return cv_split_filenames\n",
    "\n",
    "cv_filenames = persist_cv_splits(X_train, y_train, name=\"news\")\n",
    "cv_filenames"
   ]
  },
  {
   "cell_type": "code",
   "execution_count": 29,
   "metadata": {
    "collapsed": true,
    "school_cell_uuid": "eebd9a005660420d8564fdc9aa67ba74"
   },
   "outputs": [],
   "source": [
    "def compute_evaluation(cv_split_filename, model, params):\n",
    "    from sklearn.externals import joblib\n",
    "    X_train_, y_train_, X_test_, y_test_ = joblib.load(cv_split_filename, mmap_mode=\"c\")\n",
    "    model.set_params(**params)\n",
    "    model.fit(X_train_, y_train_)\n",
    "    test_scores = model.score(X_test_, y_test_)\n",
    "    return test_scores"
   ]
  },
  {
   "cell_type": "code",
   "execution_count": 30,
   "metadata": {
    "collapsed": true,
    "school_cell_uuid": "617ef501a2924215aeffca26e9fa9f44"
   },
   "outputs": [],
   "source": [
    "from sklearn.grid_search import ParameterGrid\n",
    "def parallel_grid_search(lb_view, model, cv_split_filenames, param_grid):\n",
    "    all_tasks = []\n",
    "    all_parameters = list(ParameterGrid(param_grid))\n",
    "    for i, params in enumerate(all_parameters):\n",
    "        task_for_params = []\n",
    "        for j, cv_split_filename in enumerate(cv_split_filenames):\n",
    "            t = lb_view.apply(compute_evaluation, cv_split_filename, model, params)\n",
    "            task_for_params.append(t)\n",
    "        all_tasks.append(task_for_params)\n",
    "    return all_parameters, all_tasks"
   ]
  },
  {
   "cell_type": "code",
   "execution_count": 31,
   "metadata": {
    "collapsed": true,
    "school_cell_uuid": "82334e11a3084e3f81cd11e8c8e56a99"
   },
   "outputs": [],
   "source": [
    "import datetime\n",
    "def print_progress(tasks):\n",
    "    progress = np.mean([task.ready() for task_group in tasks for task in task_group])\n",
    "    print(\"{0}:{1}%\".format(datetime.datetime.now(), progress * 100.0))\n",
    "    return int(progress * 100.0)"
   ]
  },
  {
   "cell_type": "code",
   "execution_count": 32,
   "metadata": {
    "collapsed": false,
    "school_cell_uuid": "e5cee3fd16a84f45acf1c74c8ce0ceaa"
   },
   "outputs": [
    {
     "name": "stdout",
     "output_type": "stream",
     "text": [
      "[0, 1]\n"
     ]
    }
   ],
   "source": [
    "from ipyparallel import Client\n",
    "client = Client()\n",
    "print(client.ids)\n",
    "lb_view = client.load_balanced_view()"
   ]
  },
  {
   "cell_type": "code",
   "execution_count": 40,
   "metadata": {
    "collapsed": true,
    "school_cell_uuid": "bf6498369b2b4b76946eb797c72a16dd"
   },
   "outputs": [],
   "source": [
    "from sklearn.grid_search import GridSearchCV\n",
    "parameters = {\n",
    "    \"svc__gamma\": np.logspace(-2, 1, 4),\n",
    "    \"svc__C\": np.logspace(-1, 1, 3),\n",
    "}"
   ]
  },
  {
   "cell_type": "code",
   "execution_count": 41,
   "metadata": {
    "collapsed": false,
    "school_cell_uuid": "a047c11646634ef6b4d7153ecd0efe43"
   },
   "outputs": [],
   "source": [
    "all_parameters, all_tasks = parallel_grid_search(lb_view, model, cv_filenames, parameters)"
   ]
  },
  {
   "cell_type": "code",
   "execution_count": null,
   "metadata": {
    "collapsed": false,
    "school_cell_uuid": "d4a9c68b87114bd183b150ab0409502e"
   },
   "outputs": [],
   "source": [
    "import time\n",
    "start_time = datetime.datetime.now()\n",
    "while True:\n",
    "    progress = print_progress(all_tasks)\n",
    "    if progress >= 100:\n",
    "        break\n",
    "    time.sleep(1)\n",
    "print(\"finish\")\n",
    "end_time = datetime.datetime.now()\n",
    "print((end_time - start_time).total_seconds())"
   ]
  }
 ],
 "metadata": {
  "celltoolbar": "Edit Metadata",
  "kernelspec": {
   "display_name": "Python 2",
   "language": "python",
   "name": "python2"
  },
  "language_info": {
   "codemirror_mode": {
    "name": "ipython",
    "version": 2
   },
   "file_extension": ".py",
   "mimetype": "text/x-python",
   "name": "python",
   "nbconvert_exporter": "python",
   "pygments_lexer": "ipython2",
   "version": "2.7.11"
  }
 },
 "nbformat": 4,
 "nbformat_minor": 0
}