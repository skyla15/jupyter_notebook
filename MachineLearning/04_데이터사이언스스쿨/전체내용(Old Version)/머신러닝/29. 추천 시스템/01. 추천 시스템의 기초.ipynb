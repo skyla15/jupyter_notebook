{
 "cells": [
  {
   "cell_type": "markdown",
   "metadata": {
    "school_cell_uuid": "8ae9ead7d82b40a3840ec748edaab7d0"
   },
   "source": [
    "# 추천 시스템의 기초"
   ]
  },
  {
   "cell_type": "markdown",
   "metadata": {
    "school_cell_uuid": "64e0b3887a694f81ae8b2fd7cef8d6ea"
   },
   "source": [
    "추천 시스템(recommender system)이란 사용자(user)가 상품(item)에 대해 어떻게 평가하는지를 예측하는 예측 시스템의 일종이다.\n",
    "\n",
    "Amazon과 같은 인터넷 쇼핑 사이트나 Netflix 등의 온라인 비디오 콘텐츠 제공 사이트는 사용자가 각각의 상품에 대해 평가한 평점(rate)을 가지고 있다. 이 기록을 기반으로 해서 사용자가 아직 평가하지 않은 상품에 대한 점수를 예측함으로써 그 사용자에게 어떤 상품을 추천할 지 결정할 수 있다."
   ]
  },
  {
   "cell_type": "markdown",
   "metadata": {
    "school_cell_uuid": "635a2c173704477c965b03577b508efd"
   },
   "source": [
    "## Surprise 패키지"
   ]
  },
  {
   "cell_type": "markdown",
   "metadata": {
    "school_cell_uuid": "f7d5d4db7411423d8c1e63002e534a65"
   },
   "source": [
    "여기에서는 파이썬의 Surprise패키지를 사용하여 추천 시스템을 구현해 본다. Surprise 패키지는 Nicolas Hug 가 만든 오픈 소스 추천 시스템 패키지로 문서화가 잘 되어 있다, \n",
    "* https://github.com/NicolasHug/Surprise\n",
    "* http://surprise.readthedocs.io/en/latest/index.html\n",
    "\n",
    "Surprise 패키지는 다음 논문들을 기반으로 하여 작성되었으며 세부적인 파라미터 설정 및 수식은 논문 내용을 참고한다.\n",
    "* `Koren2010`: \"Factor in the Neighbors: Scalable and Accurate Collaborative Filtering\",  YEHUDA KOREN. 2010\n",
    "  * http://courses.ischool.berkeley.edu/i290-dm/s11/SECURE/a1-koren.pdf\n",
    "* `Koren2011`: \"Collaborative Filtering on Ordinal User Feedback\", Yehuda Koren and Joseph Sill, 2011\n",
    "  * http://www.ijcai.org/Proceedings/13/Papers/449.pdf"
   ]
  },
  {
   "cell_type": "markdown",
   "metadata": {
    "school_cell_uuid": "ede89bd8e6284274a153b0514e6ed9c3"
   },
   "source": [
    "Surprise 패키지는 콘솔에서 `pip install surprise` 명령으로 설치하거나 다음과 같이 github에서 repository를 clone하여 직접 설치한다. (SVD 모형은 최신 버전의 master branch에만 있으므로 git clone해야 사용할 수 있다.)\n"
   ]
  },
  {
   "cell_type": "markdown",
   "metadata": {
    "school_cell_uuid": "1098a46d51354ae7b7ba65ea99dfbe48"
   },
   "source": [
    "```\n",
    "$ git clone https://github.com/NicolasHug/Surprise.git\n",
    "$ cd Surprise\n",
    "$ python setup.py install\n",
    "```"
   ]
  },
  {
   "cell_type": "markdown",
   "metadata": {
    "school_cell_uuid": "4906ac27ebd44264a3bde728e77a1fb8"
   },
   "source": [
    "실습을 위해 다음과 같이 Surprise 패키지를 임포트한다."
   ]
  },
  {
   "cell_type": "code",
   "execution_count": 1,
   "metadata": {
    "collapsed": false,
    "school_cell_uuid": "8604c828df5346cabe12bb55d186cc6f"
   },
   "outputs": [],
   "source": [
    "import surprise"
   ]
  },
  {
   "cell_type": "markdown",
   "metadata": {
    "school_cell_uuid": "c625b53a1dbd470d841724d8f3f5fb25"
   },
   "source": [
    "## 평점 데이터"
   ]
  },
  {
   "cell_type": "markdown",
   "metadata": {
    "school_cell_uuid": "3a5e0bccd2f6429c93b4703672e189e9"
   },
   "source": [
    "surprise 패키지에서는 MovieLense라는 영화 추천 웹사이트의 데이터를 샘플 평점 데이터로 제공한다. MovieLense 데이터 중 10만개의 샘플 데이터세트는 다음과 같이 로드한다."
   ]
  },
  {
   "cell_type": "code",
   "execution_count": 2,
   "metadata": {
    "collapsed": false,
    "school_cell_uuid": "e530892466ef4916ab29badb88eda332"
   },
   "outputs": [],
   "source": [
    "data = surprise.Dataset.load_builtin('ml-100k')"
   ]
  },
  {
   "cell_type": "markdown",
   "metadata": {
    "school_cell_uuid": "080cd17341f14202a0674bb94e4d8591"
   },
   "source": [
    "이 데이터는 다음과 같이 데이터프레임으로 변환할 수 있다."
   ]
  },
  {
   "cell_type": "code",
   "execution_count": 3,
   "metadata": {
    "collapsed": false,
    "school_cell_uuid": "1182d404c68a459c98660d6c190f1f93"
   },
   "outputs": [
    {
     "data": {
      "text/html": [
       "<div>\n",
       "<table border=\"1\" class=\"dataframe\">\n",
       "  <thead>\n",
       "    <tr style=\"text-align: right;\">\n",
       "      <th></th>\n",
       "      <th>user</th>\n",
       "      <th>item</th>\n",
       "      <th>rate</th>\n",
       "    </tr>\n",
       "  </thead>\n",
       "  <tbody>\n",
       "    <tr>\n",
       "      <th>0</th>\n",
       "      <td>196</td>\n",
       "      <td>242</td>\n",
       "      <td>3.0</td>\n",
       "    </tr>\n",
       "    <tr>\n",
       "      <th>1</th>\n",
       "      <td>186</td>\n",
       "      <td>302</td>\n",
       "      <td>3.0</td>\n",
       "    </tr>\n",
       "    <tr>\n",
       "      <th>2</th>\n",
       "      <td>22</td>\n",
       "      <td>377</td>\n",
       "      <td>1.0</td>\n",
       "    </tr>\n",
       "    <tr>\n",
       "      <th>3</th>\n",
       "      <td>244</td>\n",
       "      <td>51</td>\n",
       "      <td>2.0</td>\n",
       "    </tr>\n",
       "    <tr>\n",
       "      <th>4</th>\n",
       "      <td>166</td>\n",
       "      <td>346</td>\n",
       "      <td>1.0</td>\n",
       "    </tr>\n",
       "    <tr>\n",
       "      <th>5</th>\n",
       "      <td>298</td>\n",
       "      <td>474</td>\n",
       "      <td>4.0</td>\n",
       "    </tr>\n",
       "    <tr>\n",
       "      <th>6</th>\n",
       "      <td>115</td>\n",
       "      <td>265</td>\n",
       "      <td>2.0</td>\n",
       "    </tr>\n",
       "    <tr>\n",
       "      <th>7</th>\n",
       "      <td>253</td>\n",
       "      <td>465</td>\n",
       "      <td>5.0</td>\n",
       "    </tr>\n",
       "    <tr>\n",
       "      <th>8</th>\n",
       "      <td>305</td>\n",
       "      <td>451</td>\n",
       "      <td>3.0</td>\n",
       "    </tr>\n",
       "    <tr>\n",
       "      <th>9</th>\n",
       "      <td>6</td>\n",
       "      <td>86</td>\n",
       "      <td>3.0</td>\n",
       "    </tr>\n",
       "  </tbody>\n",
       "</table>\n",
       "</div>"
      ],
      "text/plain": [
       "  user item  rate\n",
       "0  196  242   3.0\n",
       "1  186  302   3.0\n",
       "2   22  377   1.0\n",
       "3  244   51   2.0\n",
       "4  166  346   1.0\n",
       "5  298  474   4.0\n",
       "6  115  265   2.0\n",
       "7  253  465   5.0\n",
       "8  305  451   3.0\n",
       "9    6   86   3.0"
      ]
     },
     "execution_count": 3,
     "metadata": {},
     "output_type": "execute_result"
    }
   ],
   "source": [
    "df = pd.DataFrame(data.raw_ratings, columns=[\"user\", \"item\", \"rate\", \"id\"])\n",
    "del df[\"id\"]\n",
    "df.head(10)"
   ]
  },
  {
   "cell_type": "markdown",
   "metadata": {
    "school_cell_uuid": "e8c4aced69e34b1cb52eb9b25b39b423"
   },
   "source": [
    "여기에서 user 열은 사용자 아이디, item 열은 상품 아이디, rate 열은 평점이다. 즉, 196번 사용자는 242번 영화에 대해 평점 3점을 주었음을 알 수 있다."
   ]
  },
  {
   "cell_type": "markdown",
   "metadata": {
    "school_cell_uuid": "7fd109a3ab74481183c4e9fc453d513c"
   },
   "source": [
    "이 데이터프레임에서 볼 수 있듯이 \n",
    "\n",
    "> **추천 시스템은 사용자 아이디와 상품 아이디라는 두 개의 카테고리 입력과 평점 출력을 가지는 예측 시스템**\n",
    "\n",
    "이다."
   ]
  },
  {
   "cell_type": "markdown",
   "metadata": {
    "school_cell_uuid": "16bdfa5a398a4387b3a479384ac1c448"
   },
   "source": [
    "이 데이터를 다음과 같이 피봇테이블(pivot table) 형태로 만들면 x축이 상품, y축이 사용자 아이디인 평점 행렬(rate matrix) $R$ 이 된다.\n",
    "\n",
    "평점 행렬 $R$의 행은 특정 사용자의 평점이고 평점 행렬 $R$의 열은 특정 상품의 평점이다."
   ]
  },
  {
   "cell_type": "code",
   "execution_count": 4,
   "metadata": {
    "collapsed": false,
    "school_cell_uuid": "ddcce331685047339e66e67de7951513"
   },
   "outputs": [],
   "source": [
    "df_table = df.set_index([\"user\", \"item\"]).unstack()"
   ]
  },
  {
   "cell_type": "markdown",
   "metadata": {
    "school_cell_uuid": "4e6a0e7a063d49ae82154efa9f49c7e2"
   },
   "source": [
    "이 평점 행렬의 일부만 살펴보면 다음과 같이 평점 데이터가 일부 위치에만 존재하는 sparse 행렬임을 알 수 있다."
   ]
  },
  {
   "cell_type": "code",
   "execution_count": 5,
   "metadata": {
    "collapsed": false,
    "school_cell_uuid": "2fdce3db5b7849709f30b3c0d1d12ecb"
   },
   "outputs": [
    {
     "data": {
      "text/html": [
       "<div>\n",
       "<table border=\"1\" class=\"dataframe\">\n",
       "  <thead>\n",
       "    <tr>\n",
       "      <th></th>\n",
       "      <th colspan=\"9\" halign=\"left\">rate</th>\n",
       "    </tr>\n",
       "    <tr>\n",
       "      <th>item</th>\n",
       "      <th>211</th>\n",
       "      <th>212</th>\n",
       "      <th>213</th>\n",
       "      <th>214</th>\n",
       "      <th>215</th>\n",
       "      <th>216</th>\n",
       "      <th>217</th>\n",
       "      <th>218</th>\n",
       "      <th>219</th>\n",
       "    </tr>\n",
       "    <tr>\n",
       "      <th>user</th>\n",
       "      <th></th>\n",
       "      <th></th>\n",
       "      <th></th>\n",
       "      <th></th>\n",
       "      <th></th>\n",
       "      <th></th>\n",
       "      <th></th>\n",
       "      <th></th>\n",
       "      <th></th>\n",
       "    </tr>\n",
       "  </thead>\n",
       "  <tbody>\n",
       "    <tr>\n",
       "      <th>290</th>\n",
       "      <td>3</td>\n",
       "      <td></td>\n",
       "      <td></td>\n",
       "      <td></td>\n",
       "      <td></td>\n",
       "      <td>4</td>\n",
       "      <td></td>\n",
       "      <td>2</td>\n",
       "      <td></td>\n",
       "    </tr>\n",
       "    <tr>\n",
       "      <th>291</th>\n",
       "      <td></td>\n",
       "      <td>4</td>\n",
       "      <td></td>\n",
       "      <td>4</td>\n",
       "      <td>4</td>\n",
       "      <td></td>\n",
       "      <td></td>\n",
       "      <td>4</td>\n",
       "      <td>4</td>\n",
       "    </tr>\n",
       "    <tr>\n",
       "      <th>292</th>\n",
       "      <td></td>\n",
       "      <td></td>\n",
       "      <td></td>\n",
       "      <td>3</td>\n",
       "      <td></td>\n",
       "      <td></td>\n",
       "      <td></td>\n",
       "      <td></td>\n",
       "      <td></td>\n",
       "    </tr>\n",
       "    <tr>\n",
       "      <th>293</th>\n",
       "      <td>4</td>\n",
       "      <td></td>\n",
       "      <td>3</td>\n",
       "      <td></td>\n",
       "      <td>4</td>\n",
       "      <td>4</td>\n",
       "      <td>3</td>\n",
       "      <td>2</td>\n",
       "      <td></td>\n",
       "    </tr>\n",
       "    <tr>\n",
       "      <th>294</th>\n",
       "      <td></td>\n",
       "      <td></td>\n",
       "      <td></td>\n",
       "      <td></td>\n",
       "      <td></td>\n",
       "      <td></td>\n",
       "      <td></td>\n",
       "      <td></td>\n",
       "      <td></td>\n",
       "    </tr>\n",
       "    <tr>\n",
       "      <th>295</th>\n",
       "      <td></td>\n",
       "      <td></td>\n",
       "      <td>5</td>\n",
       "      <td></td>\n",
       "      <td>5</td>\n",
       "      <td>5</td>\n",
       "      <td>4</td>\n",
       "      <td>5</td>\n",
       "      <td></td>\n",
       "    </tr>\n",
       "    <tr>\n",
       "      <th>296</th>\n",
       "      <td>4</td>\n",
       "      <td></td>\n",
       "      <td></td>\n",
       "      <td></td>\n",
       "      <td></td>\n",
       "      <td></td>\n",
       "      <td></td>\n",
       "      <td></td>\n",
       "      <td></td>\n",
       "    </tr>\n",
       "    <tr>\n",
       "      <th>297</th>\n",
       "      <td>4</td>\n",
       "      <td></td>\n",
       "      <td>3</td>\n",
       "      <td></td>\n",
       "      <td>2</td>\n",
       "      <td>4</td>\n",
       "      <td></td>\n",
       "      <td>3</td>\n",
       "      <td></td>\n",
       "    </tr>\n",
       "    <tr>\n",
       "      <th>298</th>\n",
       "      <td>5</td>\n",
       "      <td></td>\n",
       "      <td>3</td>\n",
       "      <td></td>\n",
       "      <td>5</td>\n",
       "      <td></td>\n",
       "      <td></td>\n",
       "      <td></td>\n",
       "      <td></td>\n",
       "    </tr>\n",
       "    <tr>\n",
       "      <th>299</th>\n",
       "      <td>4</td>\n",
       "      <td>4</td>\n",
       "      <td>5</td>\n",
       "      <td></td>\n",
       "      <td></td>\n",
       "      <td>5</td>\n",
       "      <td></td>\n",
       "      <td></td>\n",
       "      <td></td>\n",
       "    </tr>\n",
       "  </tbody>\n",
       "</table>\n",
       "</div>"
      ],
      "text/plain": [
       "     rate                                \n",
       "item  211 212 213 214 215 216 217 218 219\n",
       "user                                     \n",
       "290     3                   4       2    \n",
       "291         4       4   4           4   4\n",
       "292                 3                    \n",
       "293     4       3       4   4   3   2    \n",
       "294                                      \n",
       "295             5       5   5   4   5    \n",
       "296     4                                \n",
       "297     4       3       2   4       3    \n",
       "298     5       3       5                \n",
       "299     4   4   5           5            "
      ]
     },
     "execution_count": 5,
     "metadata": {},
     "output_type": "execute_result"
    }
   ],
   "source": [
    "df_table.fillna(\"\").ix[212:222, 808:817]"
   ]
  },
  {
   "cell_type": "markdown",
   "metadata": {
    "school_cell_uuid": "4d634f50b083436b86525103106632de"
   },
   "source": [
    "평점 행렬의 빈칸을 흰색, 점수를 검은색으로 시각화 하면 다음과 같다."
   ]
  },
  {
   "cell_type": "code",
   "execution_count": 6,
   "metadata": {
    "collapsed": false,
    "school_cell_uuid": "e8f791532c1c4382b0cf0d9ca36ae73e"
   },
   "outputs": [
    {
     "data": {
      "image/png": "[encoded data removed]",
      "text/plain": [
       "<matplotlib.figure.Figure at 0xe2927b8>"
      ]
     },
     "metadata": {},
     "output_type": "display_data"
    }
   ],
   "source": [
    "plt.imshow(df_table)\n",
    "plt.grid(False)\n",
    "plt.xlabel(\"item\")\n",
    "plt.ylabel(\"user\")\n",
    "plt.title(\"Rate Matrix\")\n",
    "plt.show()"
   ]
  },
  {
   "cell_type": "markdown",
   "metadata": {
    "school_cell_uuid": "2b6cfb27f15a4f8695271a6ef6641b63"
   },
   "source": [
    "## 추천 시스템 알고리즘"
   ]
  },
  {
   "cell_type": "markdown",
   "metadata": {
    "school_cell_uuid": "3ecc8f255e544629b4b23914ad3d5f7b"
   },
   "source": [
    "추천 시스템은 두 개의 카테고리 값 입력에서 하나의 실수 값 출력을 예측하는 회귀 모형이지만 여러가지 방법으로 예측 성능을 향상시키고 있다. 추천 시스템에서 사용되는 알고리즘은 다음과 같다.\n",
    "\n",
    "1. 베이스라인 모형\n",
    "2. Collaborative Filtering\n",
    "  * 2-1. Neighborhood Models\n",
    "    * User-based CF\n",
    "    * Item-based CF\n",
    "  * 2-2. Latent Factor Models \n",
    "    * Matrix Factorization\n",
    "    * SVD \n",
    "3. Content-Based Recommendation"
   ]
  },
  {
   "cell_type": "markdown",
   "metadata": {
    "school_cell_uuid": "4431446ea9b8430194241ef00d231b09"
   },
   "source": [
    "## 베이스라인 모형"
   ]
  },
  {
   "cell_type": "markdown",
   "metadata": {
    "school_cell_uuid": "641a0482846649478a5e98d14fad1492"
   },
   "source": [
    "베이스라인 모형(baseline model)은 사용자 아이디 $u$, 상품 아이디 $i$, 두 개의 카테고리 값 입력에서 평점 $r_{ui}$의 예측치 $\\hat{r}_{ui}$  을 예측하는 가장 단순한 모형으로 다음과 같이 사용자와 상품 특성에 의한 평균 평점의 합으로 나타난다.\n",
    "\n",
    "$$ \\hat{r}_{ui} = \\mu + b_u + b_i $$\n",
    "\n",
    "이 식에서 $\\mu$는 전체 평점의 평균이고, $b_u$는 동일한 사용자에 의한 평점 조정값,  $b_i$는 동일한 상품에 대한 평점 조정값이다."
   ]
  },
  {
   "cell_type": "markdown",
   "metadata": {
    "school_cell_uuid": "b6d6f85185994e1fa6a7e4ee343f659b"
   },
   "source": [
    "베이스라인 모형은 오차 함수를 최소화하도록 구해진다.\n",
    "\n",
    "$$ \\sum_{r_{ui} \\in R_{train}} \\left(r_{ui} - (\\mu + b_u + b_i)\\right)^2 $$\n",
    "\n",
    "여기에서 $R_{train}$는 트레이닝을 위한 데이터셋을 말한다.\n",
    "\n",
    "과최적화를 피하기 위해 다음과 같이 정규화(regulaization) 항을 추가할 수 있다.\n",
    "\n",
    "$$ \\sum_{r_{ui} \\in R_{train}} \\left(r_{ui} - (\\mu + b_u + b_i)\\right)^2 + \\lambda \\left(b_u^2 + b_i^2 \\right) $$"
   ]
  },
  {
   "cell_type": "markdown",
   "metadata": {
    "school_cell_uuid": "bcebd7aea948447a8e18cb96c0e0aa40"
   },
   "source": [
    "## 최적화 알고리즘"
   ]
  },
  {
   "cell_type": "markdown",
   "metadata": {
    "school_cell_uuid": "36c7f188dffd438a95079c81f559c4f9"
   },
   "source": [
    "surprise 패키지는 오차 함수를 최소화하기 위해 다음과 같은 두 가지 최적화 알고리즘을 제공한다. 알고리즘의 선택은 `method` 인수를 사용한다. 최적화 알고리즘에 따라 나머지 최적화 인수가 달라진다. 최적화 인수에 대한 자세한 설명은 `Koren2010` 논문을 참조한다. \n",
    "\n",
    "* ALS (Alternating Least Squares)의 인수\n",
    "  * `reg_i`: 상품에 대한 정규화 가중치. 디폴트는 10.\n",
    "  * `reg_u`: 사용자에 대한 정규화 가중치. 디폴트는 15.\n",
    "  * `n_epochs`: 최적화 반복 횟수. 디폴트는 10.\n",
    "  \n",
    "\n",
    "* SGD (Stochastic Gradient Descent)의 인수\n",
    "  * `reg`: 정규화 가중치. 디폴트는 0.02.\n",
    "  * `learning_rate`: 최적화 스텝 사이즈. 디폴트는 0.005.\n",
    "  * `n_epochs`: 최적화 반복 횟수. 디폴트는  20."
   ]
  },
  {
   "cell_type": "markdown",
   "metadata": {
    "school_cell_uuid": "d16f360233dc40e28b9813bfda4bdcc9"
   },
   "source": [
    "## 모형 사용법"
   ]
  },
  {
   "cell_type": "markdown",
   "metadata": {
    "school_cell_uuid": "87f4a077585e46008d5e58ea3b43efe9"
   },
   "source": [
    "베이스라인 모형을 비롯한 surprise 패키지 모형을 사용하기 위해서는 다음과 같은 순서를 거친다.\n",
    "\n",
    "1. 데이터세트의 `split`,  `folds` 메소드를 사용하여 K-Fold 트레이닝 데이터셋과 테스트 데이터셋을 만든다.\n",
    "2. 모형 알고리즘 객체를 생성한다.\n",
    "3. 모형 알고리즘 객체의 `train` 메서드와 트레이닝 데이터셋으로 모수를 추정한 후, `test` 메서드로 테스트 데이터셋에 대한 예측을 실시한다. \n",
    "5. `accuracy` 서브패키지의 성능평가 함수를 사용하여 예측 성능을 계산한다.\n",
    "\n",
    "이 과정은 `evaluate` 명령으로 단축할 수도 있다."
   ]
  },
  {
   "cell_type": "markdown",
   "metadata": {
    "school_cell_uuid": "3a52c1fa1330492796873941298f9ed1"
   },
   "source": [
    "surprise 패키지는 베이스라인 모형을 위한 `BaselineOnly` 클래스를 제공한다.\n",
    "\n",
    "우선 베이스라인 모형으로 다음과 같이 MovieLens 데이터를 처리해 보자. FCP(Fraction of Concordant Pairs)로 계산한 평가 점수는 약 0.70점이다."
   ]
  },
  {
   "cell_type": "code",
   "execution_count": 7,
   "metadata": {
    "collapsed": false,
    "school_cell_uuid": "814c41512ed843a990cdc4f01e96f71a"
   },
   "outputs": [
    {
     "name": "stdout",
     "output_type": "stream",
     "text": [
      "Estimating biases using als...\n",
      "FCP:  0.7010\n",
      "Estimating biases using als...\n",
      "FCP:  0.7038\n",
      "Estimating biases using als...\n",
      "FCP:  0.7008\n"
     ]
    },
    {
     "data": {
      "text/plain": [
       "0.70186270476415069"
      ]
     },
     "execution_count": 7,
     "metadata": {},
     "output_type": "execute_result"
    }
   ],
   "source": [
    "data.split(n_folds=3)\n",
    "\n",
    "bsl_options = {'method': 'als',\n",
    "               'n_epochs': 5,\n",
    "               'reg_u': 12,\n",
    "               'reg_i': 5\n",
    "               }\n",
    "algo = surprise.BaselineOnly(bsl_options=bsl_options)\n",
    "\n",
    "np.random.seed(0)\n",
    "acc = np.zeros(3)\n",
    "for i, (trainset, testset) in enumerate(data.folds()):\n",
    "    algo.train(trainset)\n",
    "    predictions = algo.test(testset)\n",
    "    acc[i] = surprise.accuracy.fcp(predictions, verbose=True)\n",
    "acc.mean()"
   ]
  },
  {
   "cell_type": "markdown",
   "metadata": {
    "school_cell_uuid": "7064a49cd11348349704a30a24d8efb5"
   },
   "source": [
    "## 추천성능 평가기준"
   ]
  },
  {
   "cell_type": "markdown",
   "metadata": {
    "school_cell_uuid": "e2e5ca1f5b7c48e69259724b922eaab1"
   },
   "source": [
    "`accuracy` 서브패키지에서는 다음과 같은 추천성능 평가기준을 제공한다.\n",
    "\n",
    "* RMSE (Root Mean Squared Error)\n",
    "$$ \\text{RMSE} = \\sqrt{\\frac{1}{|\\hat{R}|} \\sum_{\\hat{r}_{ui} \\in \\hat{R}}(r_{ui} - \\hat{r}_{ui})^2} $$\n",
    "\n",
    "이 식에서 $\\hat{R}$은 테스트 데이터셋을 뜻한다.\n",
    "\n",
    "* MAE (Mean Absolute Error)\n",
    "$$ \\text{MAE} = \\frac{1}{|\\hat{R}|} \\sum_{\\hat{r}_{ui} \\in \\hat{R}}|r_{ui} - \\hat{r}_{ui}| $$\n",
    "\n",
    "* FCP (Fraction of Concordant Pairs)\n",
    "\n",
    "\n",
    "위 평가기준 중에서 FCP는 `Karen2011` 에서 제안된 것으로 평점 자체가 아닌 평점에 의한 순위를 기준으로 하는 방법이다.\n"
   ]
  },
  {
   "cell_type": "markdown",
   "metadata": {
    "school_cell_uuid": "cf561f1e18254ee8b33a9de8b3391802"
   },
   "source": [
    " `evaluate` 명령을 사용하면 위 코드를 다음과 같이 짧게 만들면서 여러가지 평가기준을 사용할 수 있다."
   ]
  },
  {
   "cell_type": "code",
   "execution_count": 8,
   "metadata": {
    "collapsed": false,
    "school_cell_uuid": "f7fb0481b210453e86c2505bca254da1"
   },
   "outputs": [
    {
     "name": "stdout",
     "output_type": "stream",
     "text": [
      "Evaluating RMSE, MAE of algorithm BaselineOnly.\n",
      "\n",
      "------------\n",
      "Fold 1\n",
      "Estimating biases using als...\n",
      "RMSE: 0.9439\n",
      "MAE:  0.7488\n",
      "------------\n",
      "Fold 2\n",
      "Estimating biases using als...\n",
      "RMSE: 0.9440\n",
      "MAE:  0.7475\n",
      "------------\n",
      "Fold 3\n",
      "Estimating biases using als...\n",
      "RMSE: 0.9449\n",
      "MAE:  0.7480\n",
      "------------\n",
      "------------\n",
      "Mean RMSE: 0.9443\n",
      "Mean MAE : 0.7481\n",
      "------------\n",
      "------------\n"
     ]
    },
    {
     "data": {
      "text/plain": [
       "CaseInsensitiveDefaultDict(list,\n",
       "                           {u'mae': [0.74877436042115419,\n",
       "                             0.7475158131916525,\n",
       "                             0.74802494525249719],\n",
       "                            u'rmse': [0.94387769024153145,\n",
       "                             0.94397117401035036,\n",
       "                             0.94491534012801126]})"
      ]
     },
     "execution_count": 8,
     "metadata": {},
     "output_type": "execute_result"
    }
   ],
   "source": [
    "surprise.evaluate(algo, data)"
   ]
  },
  {
   "cell_type": "markdown",
   "metadata": {
    "school_cell_uuid": "c13df1ce9ff6459eb45580decbc19d1e"
   },
   "source": [
    "## Collaborative Filter"
   ]
  },
  {
   "cell_type": "markdown",
   "metadata": {
    "school_cell_uuid": "c221c06a8e59484e876284289b79d57b"
   },
   "source": [
    "CF(Collaborative Filter) 방법은 모든 사용자의 데이터를 균일하게 사용하는 것이 아니라 평점 행렬이 가진 특정한 패턴을 찾아서 이를 평점 예측에 사용하는 방법이다. CF 방법도 사용자나 상품 기준으로 평점의 유사성을 살피는 Neighborhood 모형과 행렬의 수치적 특징을 이용하는 Latent Factor 모형이 있다.\n"
   ]
  },
  {
   "cell_type": "markdown",
   "metadata": {
    "school_cell_uuid": "1116987f50f846538b1b3aa7231619fc"
   },
   "source": [
    "## Neighborhood 모형"
   ]
  },
  {
   "cell_type": "markdown",
   "metadata": {
    "school_cell_uuid": "bebc1df3c7ab49b8911e63cc53409acf"
   },
   "source": [
    "Neighborhood 모형은 Memory-based CF라고도 한다. 이 방법은 특정 사용자의 평점을 예측하기 위해 사용하는 것이아니라 해당 사용자와 유사한(similar) 사용자에 대해 가중치를 준다.\n",
    "\n",
    "특히 해당 사용자와 유사한 사용자를 찾는 방법 즉, 평점 행렬에서 유사한 사용자 행 벡터를 찾아서 이를 기반으로 빈 데이터를 계산하는 방법을 **사용자 기반 (User-based) CF**라고 한다.\n",
    "\n",
    "이와 달리 특정한 상품에 대해 사용자가 준 점수 즉, 평점 행렬의 상품 열 벡터의 유사성을 찾고 특정 상품과 유사한 평점 정보를 가지는 상품들로 해당 상품의 빈 데이터를 예측하는 방법을 **상품 기반 (Item-based) CF**라고 한다."
   ]
  },
  {
   "cell_type": "markdown",
   "metadata": {
    "school_cell_uuid": "0c4ab46440354127bfa081c84efa1684"
   },
   "source": [
    "## 유사도 계산"
   ]
  },
  {
   "cell_type": "markdown",
   "metadata": {
    "collapsed": true,
    "school_cell_uuid": "3385b78dfc8943b8ae4e6be14985b555"
   },
   "source": [
    "사용자 특성 벡터(평점 행렬의 행 벡터)이나 상품 특성 벡터(평점 행렬의 열 벡터)의 유사도(similarity)을 비교하기 위한 기준도 여러가지가 있을 수 있다. \n",
    "\n",
    "surprise 패키지에서는 다음과 같은 유사도 기준을 제공한다.\n",
    "\n",
    "* 평균제곱차이 유사도 (Mean Squared Difference Similarity)\n",
    "* 코사인 유사도 (Cosine Similarity)\n",
    "* 피어슨 유사도 (Pearson Similarity)\n",
    "* 피어슨-베이스라인 유사도 (Pearson-Baseline Similarity)"
   ]
  },
  {
   "cell_type": "markdown",
   "metadata": {
    "collapsed": true,
    "school_cell_uuid": "44e186c59dd444a9b08539e38f08a37c"
   },
   "source": [
    "## 평균제곱차이 유사도 (Mean Squared Difference Similarity)"
   ]
  },
  {
   "cell_type": "markdown",
   "metadata": {
    "collapsed": true,
    "school_cell_uuid": "9fbc1475d4154fa08f114e987d715ca4"
   },
   "source": [
    "일단 다음과 같이 msd(Mean Squared Difference)값을 계산한다. msd는 유클리드 공간에서의 거리 제곱에 비례하는 값이다.  \n",
    "\n",
    "* 사용자 $u$와 사용자 $v$간의 msd\n",
    "$$ \\text{msd}(u, v) = \\frac{1}{|I_{uv}|} \\cdot \\sum\\limits_{i \\in I_{uv}} (r_{ui} - r_{vi})^2 $$\n",
    "위 식에서 $I_{uv}$는 사용자 $u$와 사용자 $v$ 모두에 의해 평가된 상품의 집합이고 $|I_{uv}|$는 사용자 $u$와 사용자 $v$ 모두에 의해 평가된 상품의 수 \n",
    "\n",
    "\n",
    "* 상품 $i$와 상품 $j$간의 msd\n",
    "$$ \\text{msd}(i, j) = \\frac{1}{|U_{ij}|} \\cdot \\sum\\limits_{u \\in U_{ij}} (r_{ui} - r_{uj})^2 $$\n",
    "위 식에서 $U_{ij}$는 상품 $i$와 상품 $j$ 모두를 평가한 사용자의 집합이고 $|U_{ij}|$는 상품 $i$와 상품 $j$ 모두를 평가한 사용자의 수 \n",
    "\n",
    "유사도는 msd 값의 역수로 계산한다. 즉 거리가 멀수록 유사도는 떨어진다. msd값이 0이 되는 경우를 대비하여 1을 더해준다.\n",
    "$$ \\begin{split}\\text{msd_sim}(u, v) &= \\frac{1}{\\text{msd}(u, v) + 1}\\\\\n",
    "\\text{msd_sim}(i, j) &= \\frac{1}{\\text{msd}(i, j) + 1}\\end{split} $$"
   ]
  },
  {
   "cell_type": "markdown",
   "metadata": {
    "collapsed": true,
    "school_cell_uuid": "1c15dcffba78451e81e9f38463e2aa09"
   },
   "source": [
    "## 코사인 유사도 (Cosine Similarity)"
   ]
  },
  {
   "cell_type": "markdown",
   "metadata": {
    "school_cell_uuid": "b865a97c56f3411aa082c7a088da7ea9"
   },
   "source": [
    "코사인 유사도(Cosine Similarity)는 두 특성 벡터의 각도에 대한 코사인 값을 말한다. 벡터 $x$와 벡터 $y$ 사이의 각도 $\\theta$ 는 두 벡터의 내적 $x \\cdot y$와 다음과 같은 관계가 있다. 각도 $\\theta$가 0도이면 코사인 유사도는 1이다. 반대로 각도 $\\theta$가 90도이면 코사인 유사도는 0이다.\n",
    "\n",
    "$$ x \\cdot y = |x| |y| \\cos\\theta $$\n",
    "\n",
    "$$ \\cos\\theta = \\dfrac{x \\cdot y}{|x| |y|}$$"
   ]
  },
  {
   "cell_type": "markdown",
   "metadata": {
    "collapsed": true,
    "school_cell_uuid": "c0437f3685ef4edabba14a1294ad02b7"
   },
   "source": [
    "* 사용자 $u$와 사용자 $v$간의 msd\n",
    "\n",
    "$$ \\text{cosine_sim}(u, v) = \\frac{\n",
    "\\sum\\limits_{i \\in I_{uv}} r_{ui} \\cdot r_{vi}}\n",
    "{\\sqrt{\\sum\\limits_{i \\in I_{uv}} r_{ui}^2} \\cdot\n",
    "\\sqrt{\\sum\\limits_{i \\in I_{uv}} r_{vi}^2}\n",
    "}$$\n",
    "\n",
    "\n",
    "* 상품 $i$와 상품 $j$간의 msd\n",
    "\n",
    "$$ \\text{cosine_sim}(i, j) = \\frac{\n",
    "\\sum\\limits_{u \\in U_{ij}} r_{ui} \\cdot r_{uj}}\n",
    "{\\sqrt{\\sum\\limits_{u \\in U_{ij}} r_{ui}^2} \\cdot\n",
    "\\sqrt{\\sum\\limits_{u \\in U_{ij}} r_{uj}^2}\n",
    "} $$"
   ]
  },
  {
   "cell_type": "markdown",
   "metadata": {
    "collapsed": true,
    "school_cell_uuid": "14c7bc3420914b7a9e972c8bc94e7c85"
   },
   "source": [
    "## 피어슨 유사도 (Pearson Similarity)"
   ]
  },
  {
   "cell_type": "markdown",
   "metadata": {
    "collapsed": true,
    "school_cell_uuid": "007c17a692fd498cac20a8293a9073ac"
   },
   "source": [
    "피어슨 유사도는 두 벡터의 상관계수(Pearson correlation coefficient)를 말하며 다음과 같이 정의한다.\n",
    "\n",
    "* 사용자 $u$와 사용자 $v$간의 msd\n",
    "\n",
    "$$ \\text{pearson_sim}(u, v) = \\frac{\n",
    "\\sum\\limits_{i \\in I_{uv}} (r_{ui} -  \\mu_u) \\cdot (r_{vi} - \\mu_{v})}\n",
    "{\\sqrt{\\sum\\limits_{i \\in I_{uv}} (r_{ui} -  \\mu_u)^2} \\cdot\n",
    "\\sqrt{\\sum\\limits_{i \\in I_{uv}} (r_{vi} -  \\mu_{v})^2}\n",
    "} $$\n",
    "\n",
    "위 식에서 $\\mu_u$는 사용자 $u$의 평균 평점이다.\n",
    "\n",
    "* 상품 $i$와 상품 $j$간의 msd\n",
    "\n",
    "$$\n",
    "\\text{pearson_sim}(i, j) = \\frac{\n",
    "\\sum\\limits_{u \\in U_{ij}} (r_{ui} -  \\mu_i) \\cdot (r_{uj} - \\mu_{j})}\n",
    "{\\sqrt{\\sum\\limits_{u \\in U_{ij}} (r_{ui} -  \\mu_i)^2} \\cdot\n",
    "\\sqrt{\\sum\\limits_{u \\in U_{ij}} (r_{uj} -  \\mu_{j})^2}\n",
    "}\n",
    "$$\n",
    "\n",
    "위 식에서 $\\mu_i$는 상품 $i$의 평균 평점이다.\n",
    "\n",
    "상관계수는 가장 높은 경우의 값이 1이고 무상관인 경우에는 0이다."
   ]
  },
  {
   "cell_type": "markdown",
   "metadata": {
    "collapsed": true,
    "school_cell_uuid": "79fd8d5fac3641af957ac923b307726b"
   },
   "source": [
    "## 피어슨-베이스라인 유사도 (Pearson-Baseline Similarity)"
   ]
  },
  {
   "cell_type": "markdown",
   "metadata": {
    "collapsed": true,
    "school_cell_uuid": "655c34d1492147c8a202bde609af3cbd"
   },
   "source": [
    "피어슨-베이스라인 유사도는 피어슨-베이스라인 유사도와 같이 상관계수를 구하지만 각 벡터의 기댓값을 단순 평균이 아니라 베이스라인 모형에서 예측한 값을 사용한다.\n",
    "\n",
    "* 사용자 $u$와 사용자 $v$간의 msd\n",
    "\n",
    "$$ \\text{pearson_baseline_sim}(u, v) = \\hat{\\rho}_{uv} = \\frac{\n",
    "\\sum\\limits_{i \\in I_{uv}} (r_{ui} -  b_{ui}) \\cdot (r_{vi} - b_{vi})}\n",
    "{\\sqrt{\\sum\\limits_{i \\in I_{uv}} (r_{ui} -  b_{ui})^2} \\cdot\n",
    "\\sqrt{\\sum\\limits_{i \\in I_{uv}} (r_{vi} -  b_{vi})^2}} $$\n",
    "\n",
    "* 상품 $i$와 상품 $j$간의 msd\n",
    "\n",
    "$$\\text{pearson_baseline_sim}(i, j) = \\hat{\\rho}_{ij} = \\frac{\n",
    "\\sum\\limits_{u \\in U_{ij}} (r_{ui} -  b_{ui}) \\cdot (r_{uj} - b_{uj})}\n",
    "{\\sqrt{\\sum\\limits_{u \\in U_{ij}} (r_{ui} -  b_{ui})^2} \\cdot\n",
    "\\sqrt{\\sum\\limits_{u \\in U_{ij}} (r_{uj} -  b_{uj})^2}}$$\n",
    "\n",
    "피어슨-베이스라인 유사도는 벡터의 차원 즉, 두 사용자나 상품에 공통적으로 있는 평점 원소의 갯수를 이용하여 정규화를 하는 shrinkage를 추가하여 사용한다.\n",
    "\n",
    "$$ \\begin{split}\\text{pearson_baseline_shrunk_sim}(u, v) &= \\frac{|I_{uv}| - 1}\n",
    "{|I_{uv}| - 1 + \\text{shrinkage}} \\cdot \\hat{\\rho}_{uv}\\end{split} $$\n",
    "\n",
    "$$ \\begin{split}\\text{pearson_baseline_shrunk_sim}(i, j) &= \\frac{|U_{ij}| - 1}\n",
    "{|U_{ij}| - 1 + \\text{shrinkage}} \\cdot \\hat{\\rho}_{ij}\\end{split} $$"
   ]
  },
  {
   "cell_type": "markdown",
   "metadata": {
    "collapsed": true,
    "school_cell_uuid": "1ea6b8d56899479ba91abab7ca1d4631"
   },
   "source": [
    "surprise 패키지의 유사도 설정 옵션은 다음과 같다.\n",
    "\n",
    "* `name`: 사용할 유사도의 종류를 나타내는 문자열. 디폴트는 `'MSD'`.\n",
    "* `user_based`: `True`면 사용자 기반, `False`면 상품 기반.\n",
    "* `min_support`: 두 사용자나, 상품에서 공통적으로 있는 평점 원소의 수의 최솟값. 공통 평점 원소의 수가 이 값보다 적으면 해당 벡터는 사용하지 않는다. 디폴트는 \n",
    "* `shrinkage`: Shrinkage 가중치. 디폴트는 100."
   ]
  },
  {
   "cell_type": "markdown",
   "metadata": {
    "school_cell_uuid": "0e50b1ca145542d89f29e629a5377995"
   },
   "source": [
    "## KNN 가중치 예측 방법"
   ]
  },
  {
   "cell_type": "markdown",
   "metadata": {
    "collapsed": true,
    "school_cell_uuid": "a73747217d87427993a437e23c5d0fc8"
   },
   "source": [
    "일단 유사도가 구해지면 평점을 예측하고자 하는 사용자(또는 상품)와 유사도가 큰 $k$개의 사용자(또는 상품) 벡터를 사용하여 가중 평균을 구해서 가중치를 예측한다. 이러한 방법을 KNN(K Nearest Neighbors) 기반 예측 방법이라고 한다.\n",
    "\n",
    "surprise 패키지에서는 다음과 같은 3가지의 KNN 기반 가중치 예측 알고리즘 클래스를 제공한다.\n"
   ]
  },
  {
   "cell_type": "markdown",
   "metadata": {
    "collapsed": true,
    "school_cell_uuid": "7790c249c54949f3b7595d56e6266099"
   },
   "source": [
    "\n",
    "* `KNNBasic`\n",
    "  * 평점들을 단순히 가중 평균한다. 다음 식에서 $N^k$는 $k$개의 가장 유사도가 큰 벡터의 집합이다.\n",
    "  \n",
    "$$  \n",
    "\\hat{r}_{ui} = \\frac{\n",
    "        \\sum\\limits_{v \\in N^k_i(u)} \\text{sim}(u, v) \\cdot r_{vi}}\n",
    "        {\\sum\\limits_{v \\in N^k_i(u)} \\text{sim}(u, v)}\n",
    "$$\n",
    "또는\n",
    "$$\n",
    "\\hat{r}_{ui} = \\frac{\n",
    "        \\sum\\limits_{j \\in N^k_u(i)} \\text{sim}(i, j) \\cdot r_{uj}}\n",
    "        {\\sum\\limits_{j \\in N^k_u(j)} \\text{sim}(i, j)}\n",
    "$$\n"
   ]
  },
  {
   "cell_type": "markdown",
   "metadata": {
    "collapsed": true,
    "school_cell_uuid": "6bec2aa5234b484c8d301f5f4946cf64"
   },
   "source": [
    "* `KNNWithMeans`\n",
    "  * 평점들을 평균값 기준으로 가중 평균한다.\n",
    "  \n",
    "$$  \n",
    "\\hat{r}_{ui} = \\mu_u + \\frac{ \\sum\\limits_{v \\in N^k_i(u)}\n",
    "\\text{sim}(u, v) \\cdot (r_{vi} - \\mu_v)} {\\sum\\limits_{v \\in\n",
    "N^k_i(u)} \\text{sim}(u, v)}\n",
    "$$\n",
    "또는\n",
    "$$\n",
    "\\hat{r}_{ui} = \\mu_i + \\frac{ \\sum\\limits_{j \\in N^k_u(i)}\n",
    "\\text{sim}(i, j) \\cdot (r_{uj} - \\mu_j)} {\\sum\\limits_{j \\in\n",
    "N^k_u(i)} \\text{sim}(i, j)}\n",
    "$$"
   ]
  },
  {
   "cell_type": "markdown",
   "metadata": {
    "collapsed": true,
    "school_cell_uuid": "0743b8102ff0491aae5fd8dd07562e58"
   },
   "source": [
    "* `KNNBaseline`\n",
    "  * 평점들을 베이스라인 모형의 값 기준으로 가중 평균한다.\n",
    "  \n",
    "$$  \n",
    "\\hat{r}_{ui} = b_{ui} + \\frac{ \\sum\\limits_{v \\in N^k_i(u)}\n",
    "\\text{sim}(u, v) \\cdot (r_{vi} - b_{vi})} {\\sum\\limits_{v \\in\n",
    "N^k_i(u)} \\text{sim}(u, v)}\n",
    "$$\n",
    "또는\n",
    "$$\n",
    "\\hat{r}_{ui} = b_{ui} + \\frac{ \\sum\\limits_{j \\in N^k_u(i)}\n",
    "\\text{sim}(i, j) \\cdot (r_{uj} - b_{uj})} {\\sum\\limits_{j \\in\n",
    "N^k_u(j)} \\text{sim}(i, j)}\n",
    "$$\n",
    "\n"
   ]
  },
  {
   "cell_type": "markdown",
   "metadata": {
    "collapsed": true,
    "school_cell_uuid": "948d5ca35db348babed98f49ea102e5f"
   },
   "source": [
    "Neighborhood 모형을 사용하여 추천 시스템을 만들고 평가하는 코드는 아래와 같다."
   ]
  },
  {
   "cell_type": "code",
   "execution_count": 9,
   "metadata": {
    "collapsed": false,
    "school_cell_uuid": "e11637f9a4e248b481a920144da63d24"
   },
   "outputs": [
    {
     "name": "stdout",
     "output_type": "stream",
     "text": [
      "Evaluating RMSE, MAE of algorithm KNNBasic.\n",
      "\n",
      "------------\n",
      "Fold 1\n",
      "Computing the msd similarity matrix...\n",
      "RMSE: 0.9893\n",
      "MAE:  0.7821\n",
      "------------\n",
      "Fold 2\n",
      "Computing the msd similarity matrix...\n",
      "RMSE: 0.9908\n",
      "MAE:  0.7817\n",
      "------------\n",
      "Fold 3\n",
      "Computing the msd similarity matrix...\n",
      "RMSE: 0.9867\n",
      "MAE:  0.7806\n",
      "------------\n",
      "------------\n",
      "Mean RMSE: 0.9889\n",
      "Mean MAE : 0.7815\n",
      "------------\n",
      "------------\n"
     ]
    },
    {
     "data": {
      "text/plain": [
       "CaseInsensitiveDefaultDict(list,\n",
       "                           {u'mae': [0.78212522862419931,\n",
       "                             0.78173361748562897,\n",
       "                             0.78056499596673945],\n",
       "                            u'rmse': [0.9893067600511265,\n",
       "                             0.99077015637605736,\n",
       "                             0.98670772506597582]})"
      ]
     },
     "execution_count": 9,
     "metadata": {},
     "output_type": "execute_result"
    }
   ],
   "source": [
    "sim_options = {'name': 'msd'}\n",
    "algo = surprise.KNNBasic(sim_options=sim_options)\n",
    "surprise.evaluate(algo, data)"
   ]
  },
  {
   "cell_type": "code",
   "execution_count": 10,
   "metadata": {
    "collapsed": false,
    "school_cell_uuid": "64c0940e9b7f4b3fb93d5298d2dd600f"
   },
   "outputs": [
    {
     "name": "stdout",
     "output_type": "stream",
     "text": [
      "Evaluating RMSE, MAE of algorithm KNNBasic.\n",
      "\n",
      "------------\n",
      "Fold 1\n",
      "Computing the cosine similarity matrix...\n",
      "RMSE: 1.0218\n",
      "MAE:  0.8089\n",
      "------------\n",
      "Fold 2\n",
      "Computing the cosine similarity matrix...\n",
      "RMSE: 1.0228\n",
      "MAE:  0.8082\n",
      "------------\n",
      "Fold 3\n",
      "Computing the cosine similarity matrix...\n",
      "RMSE: 1.0203\n",
      "MAE:  0.8088\n",
      "------------\n",
      "------------\n",
      "Mean RMSE: 1.0216\n",
      "Mean MAE : 0.8087\n",
      "------------\n",
      "------------\n"
     ]
    },
    {
     "data": {
      "text/plain": [
       "CaseInsensitiveDefaultDict(list,\n",
       "                           {u'mae': [0.80892906472462045,\n",
       "                             0.80821605662032892,\n",
       "                             0.80882300320054845],\n",
       "                            u'rmse': [1.0218263150037061,\n",
       "                             1.0227518120810739,\n",
       "                             1.020329242955903]})"
      ]
     },
     "execution_count": 10,
     "metadata": {},
     "output_type": "execute_result"
    }
   ],
   "source": [
    "sim_options = {'name': 'cosine'}\n",
    "algo = surprise.KNNBasic(sim_options=sim_options)\n",
    "surprise.evaluate(algo, data)"
   ]
  },
  {
   "cell_type": "code",
   "execution_count": 11,
   "metadata": {
    "collapsed": false,
    "school_cell_uuid": "fcb316ae97274e6ba24e28237f787104"
   },
   "outputs": [
    {
     "name": "stdout",
     "output_type": "stream",
     "text": [
      "Evaluating RMSE, MAE of algorithm KNNBasic.\n",
      "\n",
      "------------\n",
      "Fold 1\n",
      "Computing the pearson similarity matrix...\n",
      "RMSE: 1.0195\n",
      "MAE:  0.8091\n",
      "------------\n",
      "Fold 2\n",
      "Computing the pearson similarity matrix...\n",
      "RMSE: 1.0219\n",
      "MAE:  0.8106\n",
      "------------\n",
      "Fold 3\n",
      "Computing the pearson similarity matrix...\n",
      "RMSE: 1.0187\n",
      "MAE:  0.8102\n",
      "------------\n",
      "------------\n",
      "Mean RMSE: 1.0200\n",
      "Mean MAE : 0.8100\n",
      "------------\n",
      "------------\n"
     ]
    },
    {
     "data": {
      "text/plain": [
       "CaseInsensitiveDefaultDict(list,\n",
       "                           {u'mae': [0.80909638948187268,\n",
       "                             0.8105507767046003,\n",
       "                             0.81021136353227119],\n",
       "                            u'rmse': [1.0195030472782824,\n",
       "                             1.0219307299729137,\n",
       "                             1.0186699580603649]})"
      ]
     },
     "execution_count": 11,
     "metadata": {},
     "output_type": "execute_result"
    }
   ],
   "source": [
    "sim_options = {'name': 'pearson'}\n",
    "algo = surprise.KNNBasic(sim_options=sim_options)\n",
    "surprise.evaluate(algo, data)"
   ]
  },
  {
   "cell_type": "code",
   "execution_count": 12,
   "metadata": {
    "collapsed": false,
    "school_cell_uuid": "66e5753bf2f24289ac72f34b26200806"
   },
   "outputs": [
    {
     "name": "stdout",
     "output_type": "stream",
     "text": [
      "Evaluating RMSE, MAE of algorithm KNNBasic.\n",
      "\n",
      "------------\n",
      "Fold 1\n",
      "Estimating biases using als...\n",
      "Computing the pearson_baseline similarity matrix...\n",
      "RMSE: 1.0119\n",
      "MAE:  0.8005\n",
      "------------\n",
      "Fold 2\n",
      "Estimating biases using als...\n",
      "Computing the pearson_baseline similarity matrix...\n",
      "RMSE: 1.0117\n",
      "MAE:  0.8008\n",
      "------------\n",
      "Fold 3\n",
      "Estimating biases using als...\n",
      "Computing the pearson_baseline similarity matrix...\n",
      "RMSE: 1.0078\n",
      "MAE:  0.7985\n",
      "------------\n",
      "------------\n",
      "Mean RMSE: 1.0105\n",
      "Mean MAE : 0.7999\n",
      "------------\n",
      "------------\n"
     ]
    },
    {
     "data": {
      "text/plain": [
       "CaseInsensitiveDefaultDict(list,\n",
       "                           {u'mae': [0.80050733265713159,\n",
       "                             0.80080101053990893,\n",
       "                             0.79852560656258065],\n",
       "                            u'rmse': [1.0118764698809986,\n",
       "                             1.0117227623185956,\n",
       "                             1.0078162527249992]})"
      ]
     },
     "execution_count": 12,
     "metadata": {},
     "output_type": "execute_result"
    }
   ],
   "source": [
    "sim_options = {'name': 'pearson_baseline'}\n",
    "algo = surprise.KNNBasic(sim_options=sim_options)\n",
    "surprise.evaluate(algo, data)"
   ]
  },
  {
   "cell_type": "code",
   "execution_count": 13,
   "metadata": {
    "collapsed": false,
    "school_cell_uuid": "30a2708788434a4d9a95c0ea64ee9b52"
   },
   "outputs": [
    {
     "name": "stdout",
     "output_type": "stream",
     "text": [
      "Evaluating RMSE, MAE of algorithm KNNWithMeans.\n",
      "\n",
      "------------\n",
      "Fold 1\n",
      "Estimating biases using als...\n",
      "Computing the pearson_baseline similarity matrix...\n",
      "RMSE: 0.9510\n",
      "MAE:  0.7409\n",
      "------------\n",
      "Fold 2\n",
      "Estimating biases using als...\n",
      "Computing the pearson_baseline similarity matrix...\n",
      "RMSE: 0.9462\n",
      "MAE:  0.7379\n",
      "------------\n",
      "Fold 3\n",
      "Estimating biases using als...\n",
      "Computing the pearson_baseline similarity matrix...\n",
      "RMSE: 0.9475\n",
      "MAE:  0.7390\n",
      "------------\n",
      "------------\n",
      "Mean RMSE: 0.9482\n",
      "Mean MAE : 0.7393\n",
      "------------\n",
      "------------\n"
     ]
    },
    {
     "data": {
      "text/plain": [
       "CaseInsensitiveDefaultDict(list,\n",
       "                           {u'mae': [0.74091102180990298,\n",
       "                             0.73794022233308665,\n",
       "                             0.73899751244298817],\n",
       "                            u'rmse': [0.9509565883015525,\n",
       "                             0.94622895780880623,\n",
       "                             0.94751753386748694]})"
      ]
     },
     "execution_count": 13,
     "metadata": {},
     "output_type": "execute_result"
    }
   ],
   "source": [
    "sim_options = {'name': 'pearson_baseline'}\n",
    "algo = surprise.KNNWithMeans(sim_options=sim_options)\n",
    "surprise.evaluate(algo, data)"
   ]
  },
  {
   "cell_type": "code",
   "execution_count": 14,
   "metadata": {
    "collapsed": false,
    "school_cell_uuid": "a65e137ee4eb45f5bfa6779df7c22337"
   },
   "outputs": [
    {
     "name": "stdout",
     "output_type": "stream",
     "text": [
      "Evaluating RMSE, MAE of algorithm KNNBaseline.\n",
      "\n",
      "------------\n",
      "Fold 1\n",
      "Estimating biases using als...\n",
      "Computing the pearson_baseline similarity matrix...\n",
      "RMSE: 0.9338\n",
      "MAE:  0.7325\n",
      "------------\n",
      "Fold 2\n",
      "Estimating biases using als...\n",
      "Computing the pearson_baseline similarity matrix...\n",
      "RMSE: 0.9310\n",
      "MAE:  0.7295\n",
      "------------\n",
      "Fold 3\n",
      "Estimating biases using als...\n",
      "Computing the pearson_baseline similarity matrix...\n",
      "RMSE: 0.9300\n",
      "MAE:  0.7286\n",
      "------------\n",
      "------------\n",
      "Mean RMSE: 0.9316\n",
      "Mean MAE : 0.7302\n",
      "------------\n",
      "------------\n"
     ]
    },
    {
     "data": {
      "text/plain": [
       "CaseInsensitiveDefaultDict(list,\n",
       "                           {u'mae': [0.73246141583385205,\n",
       "                             0.72947254001202178,\n",
       "                             0.72855006485968088],\n",
       "                            u'rmse': [0.93378711521557267,\n",
       "                             0.93104739699939765,\n",
       "                             0.92998032640159434]})"
      ]
     },
     "execution_count": 14,
     "metadata": {},
     "output_type": "execute_result"
    }
   ],
   "source": [
    "sim_options = {'name': 'pearson_baseline'}\n",
    "algo = surprise.KNNBaseline(sim_options=sim_options)\n",
    "surprise.evaluate(algo, data)"
   ]
  },
  {
   "cell_type": "markdown",
   "metadata": {
    "school_cell_uuid": "7429d42999b64a9380914e5c87f76d4d"
   },
   "source": [
    "## Latent Factor 모형"
   ]
  },
  {
   "cell_type": "markdown",
   "metadata": {
    "school_cell_uuid": "8f54c8201e0442ef9e0d29b90d21b413"
   },
   "source": [
    "사용자의 특성 벡터나 상품의 특성 벡터의 길이는 수천에서 수십억에 달하는 긴 크기가 될 수도 있다. \n",
    "\n",
    "Latent Factor 모형은 이렇게 긴 사용자 특성이나 상품 특성을 몇 개의 요인 벡터로 간략화(approximate)할 수 있다는 가정에서 출발한 모형이다.  \n",
    "PCA(Principle Component Analysis)를 사용하면 긴 특성 벡터를 소수의 차원으로 차원 축소할 수 있듯이 사용자의 특성도 차원 축소 할 수 있다. "
   ]
  },
  {
   "cell_type": "markdown",
   "metadata": {
    "school_cell_uuid": "167d8844f89446178aed9482ad98d5f5"
   },
   "source": [
    "영화에 대한 평점을 주는 경우, 코미디, 액션, 드라마 등 몇개의 장르 요인이 있어서 사용자는 특정한 장르 요소에 대해 더 점수를 많이 주거나 적게 줄 수 있다. 그리고 영화 자체도 이러한 장르 요인을 가지고 있다면 해당 사용자의 그 영화에 대한 평점은 사용자의 장르 요인 벡터와 영화의 장르 요인 벡터의 내적으로 표시할 수 있다. \n",
    "\n",
    "예를 들어 액션을 싫어하고(-1) 코미디(2)나 드라마(3)를 좋아하는 사용자의 요인 벡터는 다음과 같다.\n",
    "\n",
    "$$ p_u^T = (-1, 2, 3) $$\n",
    "\n",
    "\n",
    "어떤 영화가 액션 요소가 2이고 코미디 요소가 1이고, 드라마 요소가 1이라면 \n",
    "\n",
    "$$ q_i^T = (2, 1, 1) $$\n",
    "\n",
    "\n",
    "평점은 다음과 같을 것이다. \n",
    "\n",
    "$$ r_{ui} = q_i^Tp_u = -1 \\cdot 2 + 2 \\cdot 1 + 3 \\cdot 1 = 3$$"
   ]
  },
  {
   "cell_type": "markdown",
   "metadata": {
    "school_cell_uuid": "86af9a2d1ae24fdca5c2a045f0e6c052"
   },
   "source": [
    "## Matrix Factorization"
   ]
  },
  {
   "cell_type": "markdown",
   "metadata": {
    "school_cell_uuid": "894e0dcccc424e61a83db62cc08dd91e"
   },
   "source": [
    "Matrix Factorization 방법은 모든 사용자와 상품에 대해 다음 오차 함수를 최소화하는 요인 벡터를 찾아낸다. 즉 다음과 같은 행렬 $P$, $Q$를 찾는다.\n",
    "\n",
    "$$ R \\approx PQ^T  $$\n",
    "\n",
    "여기에서 \n",
    "* $R \\in \\mathbf{R}^{m \\times n}$ : $m$ 사용자와 $n$ 상품의 평점 행렬\n",
    "* $P \\in \\mathbf{R}^{m \\times k}$ : $m$ 사용자와 $k$ 요인의 관계 행렬\n",
    "* $Q \\in \\mathbf{R}^{n \\times k}$ : $n$ 상품의와 $k$ 요인의 관계 행렬"
   ]
  },
  {
   "cell_type": "markdown",
   "metadata": {
    "school_cell_uuid": "63128a63be90465984369ba00a1de101"
   },
   "source": [
    "## SVD (Singular Value Decomposition) "
   ]
  },
  {
   "cell_type": "markdown",
   "metadata": {
    "school_cell_uuid": "7a0d7eef334d4ffe85be5849ff4ac797"
   },
   "source": [
    "SVD (Singular Value Decomposition) 는 Matrix Factorization 문제를 푸는 방법 중 하나이다. \n",
    "\n",
    "$m \\times n$ 크기의 행렬 $R$은 다음과 같이 세 행렬의 곱으로 나타낼 수 있다. 이를 특이치 분해(Singular Value Decomposition) 라고 한닫. \n",
    "\n",
    "$$ R =  U \\Sigma V^T $$\n",
    "\n",
    "이 식에서 \n",
    "* $U$ 는 $m \\times m$ 크기의 행렬로 역행렬이 대칭 행렬 \n",
    "* $\\Sigma$ 는 $m \\times n$ 크기의 행렬로 비대각 성분이 0\n",
    "* $V$ 는 $n \\times n$ 크기의 행렬로 역행렬이 대칭 행렬"
   ]
  },
  {
   "cell_type": "markdown",
   "metadata": {
    "school_cell_uuid": "392d89f83bde4c63afe6052a7c3b0fc7"
   },
   "source": [
    "$\\Sigma$의 대각 성분은 특이치라고 하며 전체 특이치 중에서 가장 값이 큰 $k$개의 특이치만을 사용하여 (Truncated SVD), 다음과 같은 행렬을 만들수 있다.\n",
    "\n",
    "* $\\hat{U}$ 는 $U$에서 가장 값이 큰 $k$개의 특이치에 대응하는 $k$개의 성분만을 남긴 $m \\times k$ 크기의 행렬 \n",
    "* $\\hat{\\Sigma}$ 는 가장 값이 큰 $k$개의 특이치에 대응하는 $k$개의 성분만을 남긴 $k \\times k$ 크기의 대각 행렬 \n",
    "* $\\hat{V}$ 는 $V$에서 가장 값이 큰 $k$개의 특이치에 대응하는 $k$개의 성분만을 남긴 $k \\times n$ 크기의 행렬\n",
    "\n",
    "이 행렬을 다시 조합하면 원래의 행렬과 같은 크기를 가지고 유사한 원소를 가지는 행렬을 만들 수 있다. \n",
    "\n",
    "$$ \\hat{U} \\hat{\\Sigma} \\hat{V}^T =  \\hat{R} \\approx R $$\n"
   ]
  },
  {
   "cell_type": "markdown",
   "metadata": {
    "school_cell_uuid": "8017ee3688d240a8a70186fd0993e289"
   },
   "source": [
    "하지만 실제로 평점 행렬은 빈 원소가 많은 sparse 행렬로서 SVD를 바로 적용하기 힘들기 때문에  행렬 $P$, $Q$는  다음과 같은 모형에 대해  오차 함수를 최소화하여 구한다.\n",
    "\n",
    "\n",
    "$$ \\hat{r}_{ui} = \\mu + b_u + b_i + q_i^Tp_u $$\n",
    "\n",
    "$$ \\sum_{r_{ui} \\in R_{train}} \\left(r_{ui} - \\hat{r}_{ui} \\right)^2 +\n",
    "\\lambda\\left(b_i^2 + b_u^2 + ||q_i||^2 + ||p_u||^2\\right) $$\n"
   ]
  },
  {
   "cell_type": "markdown",
   "metadata": {
    "school_cell_uuid": "5d68bf2e64134075beedcc2b5bb34711"
   },
   "source": [
    "surprise 패키지에서는 `matrix_factorization` 서브패키지에서 `SVD` 와 `SVDpp`라는 클래스를 제공한다. 자세한 사용법은 다음 웹사이트를 참조한다.\n",
    "\n",
    "* http://surprise.readthedocs.io/en/latest/matrix_factorization.html"
   ]
  },
  {
   "cell_type": "code",
   "execution_count": 15,
   "metadata": {
    "collapsed": false,
    "school_cell_uuid": "c564190ab0fd46feabec3842f9e62cf9"
   },
   "outputs": [
    {
     "name": "stdout",
     "output_type": "stream",
     "text": [
      "Evaluating RMSE, MAE of algorithm SVD.\n",
      "\n",
      "------------\n",
      "Fold 1\n",
      "RMSE: 0.9435\n",
      "MAE:  0.7432\n",
      "------------\n",
      "Fold 2\n",
      "RMSE: 0.9422\n",
      "MAE:  0.7407\n",
      "------------\n",
      "Fold 3\n",
      "RMSE: 0.9444\n",
      "MAE:  0.7423\n",
      "------------\n",
      "------------\n",
      "Mean RMSE: 0.9434\n",
      "Mean MAE : 0.7421\n",
      "------------\n",
      "------------\n"
     ]
    },
    {
     "data": {
      "text/plain": [
       "CaseInsensitiveDefaultDict(list,\n",
       "                           {u'mae': [0.74321439367599096,\n",
       "                             0.74072913467145007,\n",
       "                             0.74226408739996619],\n",
       "                            u'rmse': [0.94349520371102147,\n",
       "                             0.9421524762400173,\n",
       "                             0.94444409655615691]})"
      ]
     },
     "execution_count": 15,
     "metadata": {},
     "output_type": "execute_result"
    }
   ],
   "source": [
    "algo = surprise.SVD(n_factors=200, n_epochs=30)\n",
    "surprise.evaluate(algo, data)"
   ]
  }
 ],
 "metadata": {
  "anaconda-cloud": {},
  "kernelspec": {
   "display_name": "Python [conda root]",
   "language": "python",
   "name": "conda-root-py"
  },
  "language_info": {
   "codemirror_mode": {
    "name": "ipython",
    "version": 2
   },
   "file_extension": ".py",
   "mimetype": "text/x-python",
   "name": "python",
   "nbconvert_exporter": "python",
   "pygments_lexer": "ipython2",
   "version": "2.7.12"
  }
 },
 "nbformat": 4,
 "nbformat_minor": 1
}