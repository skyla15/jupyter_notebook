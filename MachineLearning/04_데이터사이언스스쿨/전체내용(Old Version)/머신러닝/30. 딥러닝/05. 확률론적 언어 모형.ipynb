{
 "cells": [
  {
   "cell_type": "markdown",
   "metadata": {
    "school_cell_uuid": "bf55b1ccd93d455b96ef4935ae5ce8f7"
   },
   "source": [
    "# 확률론적 언어 모형"
   ]
  },
  {
   "cell_type": "markdown",
   "metadata": {
    "school_cell_uuid": "eca6a27f0cfb456f9c6739bba770cc77"
   },
   "source": [
    "확률론적 언어 모형(Probabilistic Language Model)은 $m$개의 단어 $w_1, w_2, \\ldots, w_m$ 열(word sequence)이 주어졌을 때 문장으로써 성립될 확률 $P(w_1, w_2, \\ldots, w_m)$ 을 출력함으로써 이 단어 열이 실제로 현실에서 사용될 수 있는 문장(sentence)인지를 판별하는 모형이다.\n"
   ]
  },
  {
   "cell_type": "markdown",
   "metadata": {
    "school_cell_uuid": "e29531311ac34e6eba0d4227fc3eb14b"
   },
   "source": [
    "이 확률은 각 단어의 확률과 단어들의 조건부 확률을 이용하여 다음과 같이 계산할 수 있다.\n",
    "\n",
    "$$\n",
    "\\begin{eqnarray}\n",
    "P(w_1, w_2, \\ldots, w_m) &=& P(w_1, w_2, \\ldots, w_{m-1}) \\cdot P(w_m\\;|\\; w_1, w_2, \\ldots, w_{m-1}) \\\\\n",
    "&=& P(w_1, w_2, \\ldots, w_{m-2}) \\cdot P(w_{m-1}\\;|\\; w_1, w_2, \\ldots, w_{m-2}) \\cdot P(w_m\\;|\\; w_1, w_2, \\ldots, w_{m-1}) \\\\\n",
    "&=& P(w_1) \\cdot P(w_2 \\;|\\; w_1) \\cdot  P(w_3 \\;|\\; w_1, w_2) P(w_4 \\;|\\; w_1, w_2, w_3) \\cdots P(w_m\\;|\\; w_1, w_2, \\ldots, w_{m-1})\n",
    "\\end{eqnarray}\n",
    "$$\n",
    "\n",
    "여기에서 $P(w_m\\;|\\; w_1, w_2, \\ldots, w_{m-1})$ 은 지금까지 $w_1, w_2, \\ldots, w_{m-1}$라는 단어 열이 나왔을 때, 그 다음 단어로 $w_m$이 나올 조건부 확률을 말한다. 여기에서 지금까지 나온 단어를 **문맥(context)** 정보라고 한다.\n",
    "\n",
    "이 때 조건부 확률을 어떻게 모형화하는냐에 따라 \n",
    "* 유니그램 모형 (Unigram Model)\n",
    "* 바이그램 모형 (Bigram Model)\n",
    "* N-그램 모형 (N-gram Model)\n",
    "\n",
    "등으로 나뉘어 진다."
   ]
  },
  {
   "cell_type": "markdown",
   "metadata": {
    "school_cell_uuid": "b2114670ba754f5f98b95b58fa4a02d3"
   },
   "source": [
    "## 유니그램 모형 (Unigram  Model)\n",
    "\n",
    "만약 모든 단어의 활용이 완전히 서로 독립이라면 단어 열의 확률은 다음과 같이 각 단어의 확률의 곱이 된다. 이러한 모형을 유니그램 모형 (Unigram  Model)이라고 한다.\n",
    "\n",
    "$$ P(w_1, w_2, \\ldots, w_m) = \\prod_{i=1}^m P(w_i) $$"
   ]
  },
  {
   "cell_type": "markdown",
   "metadata": {
    "school_cell_uuid": "657f733b6e924e30a8a64575182f480b"
   },
   "source": [
    "## 바이그램 모형 (Bigram Model)\n",
    "\n",
    "만약 단어의 활용이 바로 전 단어에만 의존한다면 단어 열의 확률은 다음과 같다. 이러한 모형을 Bigram 모형 또는 마코프 모형(Markov Model)이라고 한다.\n",
    "\n",
    "$$ P(w_1, w_2, \\ldots, w_m) = P(w_1) \\prod_{i=2}^{m} P(w_{i}\\;|\\; w_{i-1}) $$"
   ]
  },
  {
   "cell_type": "markdown",
   "metadata": {
    "school_cell_uuid": "5523c981bdf64e78ad2438a51f53bf4d"
   },
   "source": [
    "## N-그램 모형 (N-gram Model)\n",
    "\n",
    "만약 단어의 활용이 바로 전 $n$개의 단어에만 의존한다면 단어 열의 확률은 다음과 같다. 이러한 모형을 N-gram 모형이라고 한다.\n",
    "\n",
    "$$ P(w_1, w_2, \\ldots, w_m) = P(w_1) \\prod_{i=n}^{m} P(w_{i}\\;|\\; w_{i-1}, \\ldots, w_{i-n}) $$"
   ]
  },
  {
   "cell_type": "markdown",
   "metadata": {
    "school_cell_uuid": "2ebfcf9cc8334977a10227880b4fe044"
   },
   "source": [
    "## 확률 추정 방법"
   ]
  },
  {
   "cell_type": "markdown",
   "metadata": {
    "school_cell_uuid": "f8d74e7acdf74dd2b61edc394f1d378c"
   },
   "source": [
    "실제 텍스트 코퍼스(corpus)에서 확률을 추정하는 방법은 다음과 같다. 여기에서는 바이그램의 경우를 살펴본다.\n",
    "\n",
    "일단 모든 문장에 문장의 시작과 끝을 나타내는 특별 토큰을 추가한다. 예를 들어 문장의 시작은 `SS`, 문장의 끝은 `SE` 이라는 토큰을 사용할 수 있다.  \n",
    "\n",
    "바이그램 모형에서는 전체 문장의 확률은 다음과 같이 조건부 확률의 곱으로 나타난다.\n",
    "\n",
    "$$ P(\\text{SS I am a boy SE}) = P(\\text{I}\\;|\\; \\text{SS}) \\cdot P(\\text{am}\\;|\\; \\text{I}) \\cdot P(\\text{a}\\;|\\; \\text{am}) \\cdot P(\\text{boy}\\;|\\; \\text{a}) \\cdot P(\\text{SE}\\;|\\; \\text{boy}) $$\n",
    "\n",
    "조건부 확률은 다음과 같이 추정한다.\n",
    "\n",
    "$$ P(w_{i}\\;|\\; w_{i-1}) = \\dfrac{C(w_{i}, w_{i-1})}{C(w_{i-1})} $$\n",
    "\n",
    "위 식에서 $C(w_{i}, w_{i-1})$은 전체 코퍼스에서 $(w_{i}, w_{i-1})$라는 바이그램이 나타나는 횟수이고 $C(w_{i-1})$은 전체 코퍼스에서 $(w_{i-1})$라는 유니그램(단어)이 나타나는 횟수이다."
   ]
  },
  {
   "cell_type": "markdown",
   "metadata": {
    "school_cell_uuid": "cdc1ac402c1347aabb68e02d48863c15"
   },
   "source": [
    "## 예제\n",
    "\n",
    "다음은 nltk 패키지의 샘플 코퍼스인 movie_reviews의 텍스트를 기반으로 N-그램 모형을 추정하고 모형 확률로부터 랜덤하게 문장을 생성하는 예제이다. 다음 문헌을 참고하여 일부 수정하였다.\n",
    "\n",
    "* Roger Levy, Linguistics 165: Computational Linguistics (Winter 2015), University of California, San Diego\n",
    "* http://idiom.ucsd.edu/~rlevy/teaching/2015winter/lign165/code/NgramModel.py"
   ]
  },
  {
   "cell_type": "markdown",
   "metadata": {
    "school_cell_uuid": "41f42fc50f544f358d3440b47a7788b8"
   },
   "source": [
    "우선 다음과 같이 문장(단어 리스트)의 리스트를 만든다."
   ]
  },
  {
   "cell_type": "code",
   "execution_count": 7,
   "metadata": {
    "collapsed": false,
    "school_cell_uuid": "6e78bdf4121b4a2eb33abee2f3615cdd",
    "scrolled": true
   },
   "outputs": [],
   "source": [
    "from nltk.corpus import movie_reviews\n",
    "\n",
    "# 문서를 문장으로 분리\n",
    "sentences = list(movie_reviews.sents())\n",
    "\n",
    "import random\n",
    "# 섞는다.\n",
    "random.seed(1)\n",
    "random.shuffle(sentences)"
   ]
  },
  {
   "cell_type": "code",
   "execution_count": 8,
   "metadata": {
    "collapsed": false,
    "school_cell_uuid": "4c4cdfd991754e9bb1780f9fa86d2b71"
   },
   "outputs": [
    {
     "data": {
      "text/plain": [
       "[u'we',\n",
       " u'never',\n",
       " u'get',\n",
       " u'any',\n",
       " u'significant',\n",
       " u'insight',\n",
       " u'into',\n",
       " u'the',\n",
       " u'girls',\n",
       " u'and',\n",
       " u'why',\n",
       " u'they',\n",
       " u'might',\n",
       " u'be',\n",
       " u'feeling',\n",
       " u'what',\n",
       " u'they',\n",
       " u\"'\",\n",
       " u're',\n",
       " u'feeling',\n",
       " u'.']"
      ]
     },
     "execution_count": 8,
     "metadata": {},
     "output_type": "execute_result"
    }
   ],
   "source": [
    "sentences[0]"
   ]
  },
  {
   "cell_type": "markdown",
   "metadata": {
    "school_cell_uuid": "2c8faad6f13d482ba8c9e3ad21299f42"
   },
   "source": [
    "이제 이 입력으로부터 확률값을 추정한다."
   ]
  },
  {
   "cell_type": "code",
   "execution_count": 9,
   "metadata": {
    "collapsed": true,
    "school_cell_uuid": "30e414b0667f403fb851ef4bb8c35ea5"
   },
   "outputs": [],
   "source": [
    "import collections, math\n",
    "from math import log\n",
    "from collections import Counter\n",
    "from konlpy.utils import pprint\n",
    "\n",
    "\n",
    "def stringify_context(context):\n",
    "    return(\" \".join(context))\n",
    "\n",
    "\n",
    "boundaryToken = \"</s>\"\n",
    "def ngrams(n, sentences, boundaryToken=boundaryToken, verbose=False):\n",
    "    c = {}\n",
    "    q = []\n",
    "    for i in range(n-1):\n",
    "        q.append(boundaryToken)\n",
    "    for sentence in sentences:\n",
    "        for w in sentence + [boundaryToken]:\n",
    "            context_gram = stringify_context(q)\n",
    "            if verbose:\n",
    "                print(q)\n",
    "                print(context_gram)\n",
    "                print(w)\n",
    "            if not context_gram in c:\n",
    "                c[context_gram] = Counter()\n",
    "            c[context_gram][w] += 1\n",
    "            q.pop(0)\n",
    "            q.append(w)\n",
    "    return(c)"
   ]
  },
  {
   "cell_type": "code",
   "execution_count": 15,
   "metadata": {
    "collapsed": false,
    "school_cell_uuid": "760989c06bdc4837b0649eb10d4c7043"
   },
   "outputs": [
    {
     "data": {
      "text/plain": [
       "Counter({u\"'\": 4,\n",
       "         u'all': 1,\n",
       "         u'are': 1,\n",
       "         u'can': 3,\n",
       "         u'don': 2,\n",
       "         u'expect': 1,\n",
       "         u'feel': 3,\n",
       "         u'first': 1,\n",
       "         u'follow': 1,\n",
       "         u'get': 3,\n",
       "         u'have': 1,\n",
       "         u'know': 1,\n",
       "         u'learn': 1,\n",
       "         u'meet': 1,\n",
       "         u'men': 1,\n",
       "         u'might': 1,\n",
       "         u'never': 1,\n",
       "         u'observe': 1,\n",
       "         u'probably': 1,\n",
       "         u'see': 2,\n",
       "         u'sit': 1,\n",
       "         u'thought': 1,\n",
       "         u'understand': 1,\n",
       "         u'were': 1})"
      ]
     },
     "execution_count": 15,
     "metadata": {},
     "output_type": "execute_result"
    }
   ],
   "source": [
    "ngrams(2, sentences[:1000])[\"we\"]"
   ]
  },
  {
   "cell_type": "code",
   "execution_count": 47,
   "metadata": {
    "collapsed": true,
    "school_cell_uuid": "5d3c2144875c498b8caf79da84e5f244"
   },
   "outputs": [],
   "source": [
    "class BigramModel:\n",
    "    \n",
    "    def __init__(self, training_sentences, smoothing='none'):\n",
    "        train = ngrams(2, training_sentences)\n",
    "        self.probs = {}\n",
    "        if smoothing == 'none':\n",
    "            for context_gram in train.keys():\n",
    "                N = sum(train[context_gram].values())\n",
    "                self.probs[context_gram] = Counter({k:v/N for k,v in train[context_gram].items()})\n",
    "\n",
    "    def prob(self, word, context):\n",
    "        \"\"\"takes a word string and a context which is a list of word strings, and returns the probability of the word\"\"\"\n",
    "        c = stringify_context(context)\n",
    "        return(self.probs[c][word])\n",
    "\n",
    "    def scoreSentence(self, sentence, verbose=False):\n",
    "        context = [boundaryToken]\n",
    "        result = 0\n",
    "        for w in sentence + [boundaryToken]:\n",
    "            lp = log(self.prob(w, context))\n",
    "            result = result + lp\n",
    "            if verbose:\n",
    "                pprint([context, w, lp])\n",
    "            context = [w]\n",
    "        return result\n",
    "\n",
    "    def generateSentence(self, verbose=False, goryDetails=False):\n",
    "        context = [boundaryToken]\n",
    "        result = []\n",
    "        w = None\n",
    "        while not w == boundaryToken:\n",
    "            r = random.random() # returns a random float between 0 and 1\n",
    "            x = 0\n",
    "            c = self.probs[stringify_context(context)] # this will be a Counter\n",
    "            w = c.keys()[np.argmax(np.random.multinomial(1, c.values(), (1,))[0])]\n",
    "            result.append(w)\n",
    "            context = [w]\n",
    "            if verbose:\n",
    "                print(w)\n",
    "        result.pop() # drop the boundary token\n",
    "        return result"
   ]
  },
  {
   "cell_type": "code",
   "execution_count": 46,
   "metadata": {
    "collapsed": true,
    "school_cell_uuid": "3d7a47d4671b40c087b0ee8f4e23045a"
   },
   "outputs": [],
   "source": [
    "m = BigramModel(sentences)"
   ]
  },
  {
   "cell_type": "markdown",
   "metadata": {
    "school_cell_uuid": "b57264a7f65f4b03ae3fe3791844863b"
   },
   "source": [
    "트레이닝이 끝나면 조건부 확률의 값을 보거나 샘플 문장을 입력해서 문장의 로그 확률을 구할 수 있다."
   ]
  },
  {
   "cell_type": "markdown",
   "metadata": {
    "school_cell_uuid": "43e11fdddeae472fbbe2fdcaab43d5c1"
   },
   "source": [
    "\"i\" 라는 단어가 나온 뒤에 \"am\"이라는 단어가 나올 확률을 계산하면"
   ]
  },
  {
   "cell_type": "code",
   "execution_count": 24,
   "metadata": {
    "collapsed": false,
    "school_cell_uuid": "d29e0cc6a9c84313a7aca0504750bd64",
    "scrolled": false
   },
   "outputs": [
    {
     "data": {
      "text/plain": [
       "0.018562267971650354"
      ]
     },
     "execution_count": 24,
     "metadata": {},
     "output_type": "execute_result"
    }
   ],
   "source": [
    "m.prob(\"am\", [\"i\"])"
   ]
  },
  {
   "cell_type": "code",
   "execution_count": 6,
   "metadata": {
    "collapsed": false,
    "school_cell_uuid": "46b3d8cc202444d680ba2ec81591d72a"
   },
   "outputs": [
    {
     "data": {
      "text/plain": [
       "0.9624749529418908"
      ]
     },
     "execution_count": 6,
     "metadata": {},
     "output_type": "execute_result"
    }
   ],
   "source": [
    "m.prob(\"</s>\", [\".\"])  # .(마침표) 뒤에 문장이 끝날 확률"
   ]
  },
  {
   "cell_type": "code",
   "execution_count": 23,
   "metadata": {
    "collapsed": false,
    "school_cell_uuid": "dda6e5963e7a4176bc74cdd105591868"
   },
   "outputs": [
    {
     "data": {
      "text/plain": [
       "Counter({u'\"': 0.028143785293581882,\n",
       "         u\"'\": 0.0010626024652377194,\n",
       "         u\"''\": 4.554010565304512e-05,\n",
       "         u')': 0.008121318841459712,\n",
       "         '</s>': 0.9624749529418908,\n",
       "         u']': 0.00015180035217681706})"
      ]
     },
     "execution_count": 23,
     "metadata": {},
     "output_type": "execute_result"
    }
   ],
   "source": [
    "m.probs[\".\"]"
   ]
  },
  {
   "cell_type": "code",
   "execution_count": 6,
   "metadata": {
    "collapsed": false,
    "school_cell_uuid": "85a33c2207e54f8b8515c0f878c825db"
   },
   "outputs": [
    {
     "data": {
      "text/plain": [
       "0.26083768673815416"
      ]
     },
     "execution_count": 6,
     "metadata": {},
     "output_type": "execute_result"
    }
   ],
   "source": [
    "m.prob(\"the\", [\"in\"])  # in 뒤에 the 가 올 확률"
   ]
  },
  {
   "cell_type": "code",
   "execution_count": 7,
   "metadata": {
    "collapsed": false,
    "school_cell_uuid": "d2f0376e27304d90be1bda5ebc02fd59"
   },
   "outputs": [
    {
     "data": {
      "text/plain": [
       "0.0001437363613793464"
      ]
     },
     "execution_count": 7,
     "metadata": {},
     "output_type": "execute_result"
    }
   ],
   "source": [
    "m.prob(\"in\", [\"the\"])  # the 뒤에 in 이 올 확률"
   ]
  },
  {
   "cell_type": "code",
   "execution_count": 25,
   "metadata": {
    "collapsed": false,
    "school_cell_uuid": "c3af3a02edaf4e24a400498b1677dab2"
   },
   "outputs": [
    {
     "name": "stdout",
     "output_type": "stream",
     "text": [
      "[['</s>'], 'in', -3.7639298908174825]\n",
      "[['in'], 'the', -1.343856955005301]\n",
      "[['the'], '1970s', -9.45366556371934]\n",
      "[['1970s'], '.', -1.413693335308005]\n",
      "[['.'], '</s>', -0.038247236076315826]\n"
     ]
    },
    {
     "data": {
      "text/plain": [
       "-16.013392980926444"
      ]
     },
     "execution_count": 25,
     "metadata": {},
     "output_type": "execute_result"
    }
   ],
   "source": [
    "test_sentence = ['in', 'the', '1970s', '.']\n",
    "m.scoreSentence(test_sentence, verbose=True)"
   ]
  },
  {
   "cell_type": "code",
   "execution_count": 26,
   "metadata": {
    "collapsed": false,
    "school_cell_uuid": "6cabfc3016eb4e16bed09f79863e6aa9"
   },
   "outputs": [
    {
     "name": "stdout",
     "output_type": "stream",
     "text": [
      "[['</s>'], 'i', -3.3655219750193166]\n",
      "[['i'], 'am', -3.9866243623410944]\n",
      "[['am'], 'a', -2.6441463991227296]\n",
      "[['a'], 'boy', -7.370073198683084]\n",
      "[['boy'], '.', -2.4904468301636156]\n",
      "[['.'], '</s>', -0.038247236076315826]\n"
     ]
    },
    {
     "data": {
      "text/plain": [
       "-19.895060001406158"
      ]
     },
     "execution_count": 26,
     "metadata": {},
     "output_type": "execute_result"
    }
   ],
   "source": [
    "m.scoreSentence([\"i\", \"am\", \"a\", \"boy\", \".\"], verbose=True)"
   ]
  },
  {
   "cell_type": "markdown",
   "metadata": {
    "school_cell_uuid": "e2391827dcd348cd9b4ef80aa457a3b8"
   },
   "source": [
    "이 모형을 기반으로 임의의 랜덤한 샘플 즉, 문장을 생성해 보면 다음과 같다. \n",
    "\n",
    "여기에서는 하나의 단어부터 시작하여 문장의 확률이 난수값보다 크게 만드는 첫번째 단어를 찾아서 이어붙이는 방식을 취했다. \n",
    "만약 최저 확률을 높이면 올바른 단어를 찾는 시간이 더 오래 걸리게 된다."
   ]
  },
  {
   "cell_type": "code",
   "execution_count": 44,
   "metadata": {
    "collapsed": false,
    "school_cell_uuid": "5a63bd33f3bd4badb107b4249f433aaa",
    "scrolled": false
   },
   "outputs": [
    {
     "name": "stdout",
     "output_type": "stream",
     "text": [
      "basically is a little more meaningful contribution is essentially the decrease the film is nearly incoherent narrative arc ' is his plays the airport .\n"
     ]
    }
   ],
   "source": [
    "random.seed(1)\n",
    "print(\" \".join(m.generateSentence()))"
   ]
  },
  {
   "cell_type": "markdown",
   "metadata": {
    "school_cell_uuid": "9724b0639ce0426982305478040fed0a"
   },
   "source": [
    "이번에는 한글 자료를 이용해보자 코퍼스로는 아래의 웹사이트에 공개된 Naver sentiment movie corpus 자료를 사용한다.\n",
    "* https://github.com/e9t/nsmc\n"
   ]
  },
  {
   "cell_type": "code",
   "execution_count": 48,
   "metadata": {
    "collapsed": true,
    "school_cell_uuid": "a9bce2d286394d06a63b89dfd222341f"
   },
   "outputs": [],
   "source": [
    "import codecs\n",
    "def read_data(filename):\n",
    "    with codecs.open(filename, encoding='utf-8', mode='r') as f:\n",
    "        data = [line.split('\\t') for line in f.read().splitlines()]\n",
    "        data = data[1:]   # header 제외\n",
    "    return data\n",
    "\n",
    "train_data = read_data('/home/dockeruser/data/nsmc/ratings_train.txt')"
   ]
  },
  {
   "cell_type": "code",
   "execution_count": 49,
   "metadata": {
    "collapsed": false,
    "school_cell_uuid": "06bc1e03b2224525b197bebf77efeb08"
   },
   "outputs": [],
   "source": [
    "from konlpy.tag import Twitter\n",
    "tagger = Twitter()\n",
    "\n",
    "def tokenize(doc):\n",
    "    return ['/'.join(t) for t in tagger.pos(doc, norm=True, stem=True)]\n",
    "\n",
    "train_docs = [row[1] for row in train_data]\n",
    "sentences = [tokenize(d) for d in train_docs]"
   ]
  },
  {
   "cell_type": "code",
   "execution_count": 50,
   "metadata": {
    "collapsed": false,
    "school_cell_uuid": "e32cd61bb7234390b2cbb08c8b088d88"
   },
   "outputs": [],
   "source": [
    "m = BigramModel(sentences)"
   ]
  },
  {
   "cell_type": "code",
   "execution_count": 51,
   "metadata": {
    "collapsed": false,
    "school_cell_uuid": "05d0f65860fd4e599c89e7f56646e281"
   },
   "outputs": [
    {
     "data": {
      "text/plain": [
       "0.37915638585360123"
      ]
     },
     "execution_count": 51,
     "metadata": {},
     "output_type": "execute_result"
    }
   ],
   "source": [
    "m.prob(tokenize(u\"영화\")[0], tokenize(u\"이\"))"
   ]
  },
  {
   "cell_type": "code",
   "execution_count": 52,
   "metadata": {
    "collapsed": false,
    "school_cell_uuid": "0d777e8528514d6188f64a4e59e50b46"
   },
   "outputs": [
    {
     "name": "stdout",
     "output_type": "stream",
     "text": [
      "[['</s>'], 이/Noun, -4.085583056553528]\n",
      "[[이/Noun], 영화/Noun, -0.9698065314249992]\n",
      "[[영화/Noun], 정말/Noun, -6.034527930277947]\n",
      "[[정말/Noun], 좋다/Adjective, -3.0795102003451427]\n",
      "[[좋다/Adjective], '</s>', -2.165842581899055]\n"
     ]
    },
    {
     "data": {
      "text/plain": [
       "-16.33527030050067"
      ]
     },
     "execution_count": 52,
     "metadata": {},
     "output_type": "execute_result"
    }
   ],
   "source": [
    "m.scoreSentence(tokenize(u\"이 영화 정말 좋네\"), verbose=True)"
   ]
  },
  {
   "cell_type": "code",
   "execution_count": 54,
   "metadata": {
    "collapsed": false,
    "school_cell_uuid": "5b1d79da7cb04c2b921cbfa3ed702b0e"
   },
   "outputs": [
    {
     "name": "stdout",
     "output_type": "stream",
     "text": [
      "[['</s>'], 좋다/Adjective, -5.171978444505019]\n",
      "[[좋다/Adjective], 영화/Noun, -2.1764847539952]\n",
      "[[영화/Noun], 이/Noun, -8.361805635862364]\n",
      "[[이/Noun], 정말/Noun, -8.355967542917016]\n",
      "[[정말/Noun], '</s>', -4.955827057601261]\n"
     ]
    },
    {
     "data": {
      "text/plain": [
       "-29.022063434880863"
      ]
     },
     "execution_count": 54,
     "metadata": {},
     "output_type": "execute_result"
    }
   ],
   "source": [
    "m.scoreSentence(tokenize(u\"좋네 영화 이 정말\"), verbose=True)"
   ]
  },
  {
   "cell_type": "code",
   "execution_count": 98,
   "metadata": {
    "collapsed": false,
    "school_cell_uuid": "e22987e826ff4cd998ae0531ecd5a377"
   },
   "outputs": [
    {
     "name": "stdout",
     "output_type": "stream",
     "text": [
      " 주제 넘다 오글거리다 못 하다 모든 재난은 신의 퀴즈의 연기\n"
     ]
    }
   ],
   "source": [
    "random.seed(24)\n",
    "print(\"\".join([w.split(\"/\")[0] if w.split(\"/\")[1] == \"Josa\" else \" \" + w.split(\"/\")[0] for w in m.generateSentence()]))"
   ]
  },
  {
   "cell_type": "markdown",
   "metadata": {
    "school_cell_uuid": "974f69b35d204567af08c3d91434b4d6"
   },
   "source": [
    "## 확률론적 언어 모형의 활용"
   ]
  },
  {
   "cell_type": "markdown",
   "metadata": {
    "school_cell_uuid": "dd8625a8f9fc451684f0595c2a6564c8"
   },
   "source": [
    "확률론적 언어 모형은 다음과 같은 분야에 광범위하게 활용할 수 있다.\n",
    "\n",
    "* 철자 및 문법 교정(Spell Correction)\n",
    "* 음성 인식(Speech Recognition)\n",
    "* 자동 번역(Machine Translation)\n",
    "* 자동 요약(Summarization)\n",
    "* 챗봇(Question-Answering)"
   ]
  }
 ],
 "metadata": {
  "anaconda-cloud": {},
  "kernelspec": {
   "display_name": "Python [conda root]",
   "language": "python",
   "name": "conda-root-py"
  },
  "language_info": {
   "codemirror_mode": {
    "name": "ipython",
    "version": 2
   },
   "file_extension": ".py",
   "mimetype": "text/x-python",
   "name": "python",
   "nbconvert_exporter": "python",
   "pygments_lexer": "ipython2",
   "version": "2.7.12"
  }
 },
 "nbformat": 4,
 "nbformat_minor": 1
}