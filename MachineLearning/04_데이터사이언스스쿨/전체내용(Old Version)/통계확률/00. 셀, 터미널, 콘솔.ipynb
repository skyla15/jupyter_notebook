{
 "cells": [
  {
   "cell_type": "markdown",
   "metadata": {
    "school_cell_uuid": "4c231b9112844f9f8d0d9bbb219501d1"
   },
   "source": [
    "# 셀, 터미널, 콘솔"
   ]
  },
  {
   "cell_type": "markdown",
   "metadata": {
    "school_cell_uuid": "1c306cb3d9404cb383f376acabda3935"
   },
   "source": [
    "프로그래밍을 시작하기 전에 반드시 알아야 하는 몇 가지 기초 개념들이 있다. 바로 셸(shell)과 터미널(terminal), 그리고 콘솔(console)이다. 윈도우즈에서는 커맨드 프롬프트 라인(command prompt line), 우리말로 번역하여 명령줄이라고도 한다."
   ]
  },
  {
   "cell_type": "markdown",
   "metadata": {
    "school_cell_uuid": "f1e970bdcd504c29ae6d9bd6347a924a"
   },
   "source": [
    "사실 정확히 따지자면 이 단어들은 서로 같은 뜻이 아니지만 프로그램을 처음으로 시작하는 초보자는 일단 다음과 같이 생각하면 된다. "
   ]
  },
  {
   "cell_type": "markdown",
   "metadata": {
    "school_cell_uuid": "8b39a8d92aa14af8af071025ab9caf9d"
   },
   "source": [
    "> 검은 바탕에 글자만 하얗게 나오는 화면. \n",
    "\n",
    "> 커서가 반짝거리고 키보드를 타이핑하면 글자가 써진다."
   ]
  },
  {
   "cell_type": "markdown",
   "metadata": {
    "school_cell_uuid": "0ef033232e3e480bbc2f4797a4b6d296"
   },
   "source": [
    "예를 들어 다음과 같은 화면을 말한다."
   ]
  },
  {
   "cell_type": "markdown",
   "metadata": {
    "school_cell_uuid": "10d02d2d02644c048c0f970e007288a0"
   },
   "source": [
    "<img src=\"https://datascienceschool.net/upfiles/37f81435110145efb578bbb5ba7d4c63.png\" style=\"width:100%;\">"
   ]
  },
  {
   "cell_type": "markdown",
   "metadata": {
    "collapsed": true,
    "school_cell_uuid": "b83840a579a642e8aee65ecad3b971f3"
   },
   "source": [
    "## 셀 시작하기"
   ]
  },
  {
   "cell_type": "markdown",
   "metadata": {
    "school_cell_uuid": "ebdfc46f4a3841b2b6e6044e10418900"
   },
   "source": [
    "### 윈도우즈에서 셸 시작하기"
   ]
  },
  {
   "cell_type": "markdown",
   "metadata": {
    "school_cell_uuid": "def1b01a98cc4cdcaf11432c9de490f4"
   },
   "source": [
    "윈도우즈 운영체제를 사용하는 경우에는 다음과 같이 셸을 시작할 수 있다.\n",
    "\n",
    "* 시작 버튼 > 검색창에 \"cmd\" 라고 친다. > 검색되어 나오는 \"cmd.exe\" 프로그램이나 \"명령 프롬프트\" 프로그램을 선택\n",
    "* 시작 버튼 > 모든 프로그램 > 보조 프로그램 > 명령 프롬프트 프로그램을 선택"
   ]
  },
  {
   "cell_type": "markdown",
   "metadata": {
    "school_cell_uuid": "92bc8c4e8b4b4ac6a81772e7ec778cfa"
   },
   "source": [
    "<img src=\"https://datascienceschool.net/upfiles/2e84a4fe369849899e1317e027a32c86.png\" style=\"width:50%;\">"
   ]
  },
  {
   "cell_type": "markdown",
   "metadata": {
    "school_cell_uuid": "08b4d0e8501744418bcd293abeb99943"
   },
   "source": [
    "### 맥 OS X 에서 셸 시작하기"
   ]
  },
  {
   "cell_type": "markdown",
   "metadata": {
    "school_cell_uuid": "ae1ef46fe471461292481cca2ef59446"
   },
   "source": [
    "맥 OS X 운영체제를 사용하는 경우에는 다음과 같이 셸을 시작할 수 있다.\n",
    "\n",
    "* Spotlight 검색 > 검색창에 \"Terminal\" 또는 \"터미널\" 이라고 친다. > 검색되어 나오는 \"Terminal\" 혹은 \"터미널\" 앱 실행\n",
    "* 파인더 > 응용 프로그램 > 유틸리티 > 터미널"
   ]
  },
  {
   "cell_type": "markdown",
   "metadata": {
    "school_cell_uuid": "8b041b48728e47b5929287eff491c333"
   },
   "source": [
    "## 프롬프트"
   ]
  },
  {
   "cell_type": "markdown",
   "metadata": {
    "school_cell_uuid": "81952e3c68d94f35aecdfda394812134"
   },
   "source": [
    "셸 화면에서는 항상 새로운 줄이 시작할 때마다 무언가 글씨가 출력되어 있다. 가장 일반적으로 나오는 것이 `$`(달러 표시) 기호이다.  경우에 따라 `$`(달러 표시) 기호 앞에 다른 글자가 있을 수도 있다.\n",
    "\n",
    "이 글자와 기호를 프롬프트(prompt)라고 한다. \n",
    "\n",
    "프롬프트는 셸이 사용자의 명령을 받을 수 있는 상태가 되었음을 알려준다. 프롬프트가 나오면 키보드로 명령을 입력할 수 있다."
   ]
  },
  {
   "cell_type": "markdown",
   "metadata": {
    "school_cell_uuid": "a5ea7cf03cec43138ba09e22b3af660d"
   },
   "source": [
    "## 셸 명령"
   ]
  },
  {
   "cell_type": "markdown",
   "metadata": {
    "school_cell_uuid": "dad2e04967a44a01875b14fe6dbefafd"
   },
   "source": [
    "아까 셸과 터미널/콘솔은 각각 의미가 다르다고 했는데 정확하게 말하면 \n",
    "\n",
    "* 셀은 글자를 타이핑하여 컴퓨터에게 명령하는 프로그램을 뜻하고\n",
    "* 터미널/콘솔은 셸을 실행하기 위해 글자 입력을 받아 컴퓨터에게 전달하거나 컴퓨터의 출력을 글자 화면에 쓰는 프로그램을 말한다.\n",
    "\n",
    "따라서 셸과 터미널/콘솔은 항상 같이 실행할 수 밖에 없기 때문에 일반적으로 같은 의미로 사용된다."
   ]
  },
  {
   "cell_type": "markdown",
   "metadata": {
    "school_cell_uuid": "3d5d612335fa4bf08e8ade56fe3ce970"
   },
   "source": [
    "셸 화면에서는  컴퓨터에게 글자를 타이핑하여 간단한 명령을 할 수 있다. 주로 파일이나 폴더(디렉토리)와 관련된 명령이다. 이 명령어는 윈도우즈와 맥 OS X 에서 다르다."
   ]
  },
  {
   "cell_type": "markdown",
   "metadata": {
    "school_cell_uuid": "198dbf3f5b8146b0a6bf3f67b998bd2a"
   },
   "source": [
    " ### 기본 셸 명령"
   ]
  },
  {
   "cell_type": "markdown",
   "metadata": {
    "school_cell_uuid": "be643bc731ae418795cab715e1bb74d8"
   },
   "source": [
    "| 명령 |  윈도우즈 셸  | 맥/리눅스 셸 |\n",
    "|-|-|-|\n",
    "| 화면 지우기 | `cls` | `ctrl+l` |\n",
    "| 현재 디렉토리 | `cd` | `pwd` |\n",
    "| 현재 디렉토리의 파일 목록 | `dir` | `ls -Fcal` |\n",
    "| 한 칸 위로 디렉토리 이동  | `cd ..`| `cd ..` |\n",
    "| 한 칸 아래로 디렉토리 이동  | `cd 디렉토리이름`| `cd 디렉토리이름` |\n",
    "| 파일 지우기  | `del 파일이름`| `rm 파일이름` |\n",
    "| 디렉토리 만들기  | `mkdir 디렉토리이름`| `mkdir 디렉토리이름` |\n",
    "| 디렉토리 지우기  | `rmdir 디렉토리이름`| `rmdir 디렉토리이름` |\n",
    "| 셸 나가기  | `exit`| `exit` |\n"
   ]
  }
 ],
 "metadata": {
  "kernelspec": {
   "display_name": "Python [Root]",
   "language": "python",
   "name": "Python [Root]"
  },
  "language_info": {
   "codemirror_mode": {
    "name": "ipython",
    "version": 2
   },
   "file_extension": ".py",
   "mimetype": "text/x-python",
   "name": "python",
   "nbconvert_exporter": "python",
   "pygments_lexer": "ipython2",
   "version": "2.7.12"
  }
 },
 "nbformat": 4,
 "nbformat_minor": 0
}