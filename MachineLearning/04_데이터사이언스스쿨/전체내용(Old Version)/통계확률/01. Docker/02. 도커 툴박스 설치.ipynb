{
 "cells": [
  {
   "cell_type": "markdown",
   "metadata": {
    "school_cell_uuid": "4506fe55da464ad6a8ca75bd3f338089"
   },
   "source": [
    "# 도커 툴박스 설치"
   ]
  },
  {
   "cell_type": "markdown",
   "metadata": {
    "school_cell_uuid": "196d540a03114a97bc3af2400ec0f5ce"
   },
   "source": [
    "데이터 분석을 위해서는 리눅스 운영체제를 사용하는 것이 가장 이상적이다. 하지만 반드시 윈도우즈나 맥 OS를 사용해야 하는 경우에는 다음과 같이 도커 툴박스(Docker Toolbox)를 사용하여 리눅스를 사용하기를 권장한다."
   ]
  },
  {
   "cell_type": "markdown",
   "metadata": {
    "school_cell_uuid": "1d75f8366e704299ac0f475e6fe0ecdd"
   },
   "source": [
    "도커는 원래 리눅스 기반의 가상화 컨테이너이다. 따라서 윈도우즈나 맥 OS를 사용하는 경우에는 오라클 버추얼박스(VirtualBox) 등의 저수준 가상화 소프트웨어로 리눅스 운영체제를 가진 가상 컴퓨터를 만들어야지만 도커를 쓸 수 있다. 도커 툴박스는 윈도우즈나 맥 OS에서 버추얼박스와 부팅용 OS, 도커 서비스 등을 한꺼번에 설치하여 도커를 쉽게 사용할 수 있도록 해주는 도구이다. 도커 툴박스의 설치 방법은 다음과 같다."
   ]
  },
  {
   "cell_type": "markdown",
   "metadata": {
    "school_cell_uuid": "fc335a5e25ad4811b4ef79a8b0d4420b"
   },
   "source": [
    "도커를 사용하기를 권장하는 이유 데이터 분석에 필요한 각종 프로그램 설치나 환경 설정을 일일이 직접 할 필요없기 때문이다. 인터넷에서 제공하는 다양한 도커 이미지를 사용하면 모든 데이터 분석이 완벽하게 구비된 리눅스 환경을 간단히 설치할 수 있다."
   ]
  },
  {
   "cell_type": "markdown",
   "metadata": {
    "school_cell_uuid": "ba4e0526417c4dbdb6725dab9815d70e"
   },
   "source": [
    "## 하드웨어 사양"
   ]
  },
  {
   "cell_type": "markdown",
   "metadata": {
    "school_cell_uuid": "2974312717454da7a2e2c63099448b85"
   },
   "source": [
    "도커 툴박스를 설치하고 `datascienceschool_rpython` 이미지를 실행하려면 다음과 같은 하드웨어 사양이 필요하다.\n",
    "\n",
    "* 64 bit Windows 또는 OS X 운영체제\n",
    "* 4GB 이상의 메모리\n",
    "* 20GB 이상의 저장 공간 (홈 디렉토리가 있는 드라이브)"
   ]
  },
  {
   "cell_type": "markdown",
   "metadata": {
    "school_cell_uuid": "df4609ee6050407c9541437f4458fc51"
   },
   "source": [
    "## 하드웨어 가상화를 위한 BIOS 설정"
   ]
  },
  {
   "cell_type": "markdown",
   "metadata": {
    "school_cell_uuid": "604ac14a5f04421594d6c8bd053eb11a"
   },
   "source": [
    "도커 툴박스의 VirtualBox를 사용하려면 우선 컴퓨터 하드웨어가 가상화를 지원하도록 BIOS를 설정하여야 한다. 만약 뒤에 나오는 지시에 따라 도커 툴박스를 설치했는데 다음과 비슷한 메세지가 출력된다면 BIOS 설정이 제대로 되지 않은 것이다."
   ]
  },
  {
   "cell_type": "markdown",
   "metadata": {
    "school_cell_uuid": "a4dbd41747a346adbe0becccdaea6633"
   },
   "source": [
    "<div class=\"well well-sm\">\n",
    "VT-x/AMD-V 하드웨어 가속 기능이 활성화되었지만, 현재 작동하지 않습니다. 64비트 게스트 운영 체제에서 64비트 CPU를 인식할 수 없어서 부팅할 수 없습니다. 컴퓨터 바이오스에서 VT-x/AMD-V를 활성화했는지 확인해 보십시오.\n",
    "</div>"
   ]
  },
  {
   "cell_type": "markdown",
   "metadata": {
    "school_cell_uuid": "8c102587d6e7424b9da73127811a1289"
   },
   "source": [
    "이 때는 컴퓨터를 재부팅하여 BISO 설정 화면으로 들어간 뒤, CPU 등의 항목에서 다음 항목들을 Enable 시킨다. BIOS에 따라 세부적인 항목 이름은 다를 수 있다.\n",
    "\n",
    "* Virtualization\n",
    "* Secure Virtualization\n",
    "* Vt-d"
   ]
  },
  {
   "cell_type": "markdown",
   "metadata": {
    "school_cell_uuid": "f41f44085dd249cc8e4c3bce63dc10fd"
   },
   "source": [
    "이 부분에 대해서는 다음 웹사이트들을 참조할 수 있다.\n",
    "\n",
    "* http://amiduos.com/support/knowledge-base/article/enabling-virtualization-in-lenovo-systems\n",
    "* http://amiduos.com/support/knowledge-base/article/enabling-virtualization-in-bios\n",
    "* https://software.intel.com/en-us/blogs/2009/02/24/step-by-step-guide-on-how-to-enable-vt-d-and-perform-direct-device-assignment/\n"
   ]
  },
  {
   "cell_type": "markdown",
   "metadata": {
    "school_cell_uuid": "1da6af9fa53b42c7ac24576ddd843478"
   },
   "source": [
    "## 도커 툴박스 다운로드"
   ]
  },
  {
   "cell_type": "markdown",
   "metadata": {
    "school_cell_uuid": "b89ca576bc5c473f9ab545c3da2825eb"
   },
   "source": [
    "우선 인터넷에서 도커 툴박스를 다운로드 받는다. 웹사이트 주소는 아래와 같다.\n",
    "\n",
    "* https://www.docker.com/products/docker-toolbox\n",
    "\n",
    "윈도우즈 버전과 애플 맥 버전이 별도로 있으므로 잘 구분하여 다운로드 받아야 한다."
   ]
  },
  {
   "cell_type": "markdown",
   "metadata": {
    "school_cell_uuid": "4a5e0fc502c54257a97e13ee7af2361d",
    "sidetitle": true
   },
   "source": [
    "그림: Docker Toolbox 웹사이트"
   ]
  },
  {
   "cell_type": "markdown",
   "metadata": {
    "school_cell_uuid": "f7ac1872d4ac4d2e96f433a461c22686"
   },
   "source": [
    "<img src=\"https://datascienceschool.net/upfiles/f5c1650d95e3445a98cd2604c320184a.png\" style=\"width: 100%;\"/>"
   ]
  },
  {
   "cell_type": "markdown",
   "metadata": {
    "school_cell_uuid": "1d87ea9676714143852873ce8660e18b"
   },
   "source": [
    "## Docker Toolbox 설치"
   ]
  },
  {
   "cell_type": "markdown",
   "metadata": {
    "school_cell_uuid": "8ddf063e1f7b47e9a6e2ee2d3f5da6a0"
   },
   "source": [
    "다운로드가 완료되면 다운로드 받은 설치파일을 실행하여 Docker Toolbox을 설치한다. 설치 과정에서 나오는 설정에 대해서는 모두 기본 설정으로 진행해도 무방하다."
   ]
  },
  {
   "cell_type": "markdown",
   "metadata": {
    "school_cell_uuid": "9690b04f52604aaf9053a9b874df4a55",
    "sidetitle": true
   },
   "source": [
    "그림: Docker Toolbox 설치 과정 1"
   ]
  },
  {
   "cell_type": "markdown",
   "metadata": {
    "school_cell_uuid": "ce45768c5c024367b68b640dc9bf2970"
   },
   "source": [
    "<img src=\"https://datascienceschool.net/upfiles/b97b656cd2f34ceb8d867c2bdac1307b.png\" style=\"width: 50%;\"/>"
   ]
  },
  {
   "cell_type": "markdown",
   "metadata": {
    "school_cell_uuid": "f8f21098982b4fa18685457f47d44b6d",
    "sidetitle": true
   },
   "source": [
    "그림: Docker Toolbox 설치 과정 2"
   ]
  },
  {
   "cell_type": "markdown",
   "metadata": {
    "school_cell_uuid": "1fed780505374d81a63a2f5d8bd7c8a5"
   },
   "source": [
    "<img src=\"https://datascienceschool.net/upfiles/bdaf533fde9f4958a2ae2c4756c95e76.png\" style=\"width: 50%;\"/>"
   ]
  },
  {
   "cell_type": "markdown",
   "metadata": {
    "school_cell_uuid": "af8d96655db349ee927c304fddd2c2cb",
    "sidetitle": true
   },
   "source": [
    "그림: Docker Toolbox 설치 과정 3"
   ]
  },
  {
   "cell_type": "markdown",
   "metadata": {
    "school_cell_uuid": "6f3a41e93deb4e66b0ef6949e70e978d"
   },
   "source": [
    "<img src=\"https://datascienceschool.net/upfiles/16747076b4c34661ba1d39433e0369e6.png\" style=\"width: 50%;\"/>"
   ]
  },
  {
   "cell_type": "markdown",
   "metadata": {
    "school_cell_uuid": "abe67452ff864ac29efd609a8e71ab79",
    "sidetitle": true
   },
   "source": [
    "그림: Docker Toolbox 설치 과정 4"
   ]
  },
  {
   "cell_type": "markdown",
   "metadata": {
    "school_cell_uuid": "aaaab7ca26964cef8c7b9d2ba1a9dbb9"
   },
   "source": [
    "<img src=\"https://datascienceschool.net/upfiles/8919294c414c4a66a2f13393d0355085.png\" style=\"width: 50%;\"/>"
   ]
  },
  {
   "cell_type": "markdown",
   "metadata": {
    "school_cell_uuid": "fad72ee94ec0461daf4cfe15f26fccd8"
   },
   "source": [
    "## 도커 툴박스 설치 확인"
   ]
  },
  {
   "cell_type": "markdown",
   "metadata": {
    "school_cell_uuid": "931d2afd4c4f45048a59b162ef1ac2d7"
   },
   "source": [
    "도커 툴박스 설치가 완료되면 \"시작 메뉴 > 프로그램 > Docker \"에 다음과 같은 두 개의 바로가기가 나타난다\n",
    "\n",
    "* Docker Quickstart Terminal\n",
    "* Kitematic (Alpha)\n"
   ]
  },
  {
   "cell_type": "markdown",
   "metadata": {
    "school_cell_uuid": "99c1be011adf47169c9956d72e3dbe3a",
    "sidetitle": true
   },
   "source": [
    "그림: 도커 툴박스 설치가 완료되었을 때"
   ]
  },
  {
   "cell_type": "markdown",
   "metadata": {
    "school_cell_uuid": "96bd33f52c2a47b283c065e839112c2f"
   },
   "source": [
    "<img src=\"https://datascienceschool.net/upfiles/4586aafcc51f4ba99f61ec593f293fb9.png\" style=\"width: 100%;\"/>"
   ]
  },
  {
   "cell_type": "markdown",
   "metadata": {
    "school_cell_uuid": "201522bcdc234831818d712e33641ff2"
   },
   "source": [
    "여기에는 나타나지 않지만 Oracle VirtualBox도 설치된다. 윈도우즈의 \"시작 > 모든 프로그램 > Oracle VM VirtualBox\" 에서 이를 확인 할 수 있다."
   ]
  },
  {
   "cell_type": "markdown",
   "metadata": {
    "school_cell_uuid": "92c245a8f6e54bb6a211e326cbdde21b",
    "sidetitle": true
   },
   "source": [
    "그림: Oracle VM VirtualBox 설치 확인"
   ]
  },
  {
   "cell_type": "markdown",
   "metadata": {
    "school_cell_uuid": "4fb0ba5b5b3346ae990bffec08b1b162"
   },
   "source": [
    "<img src=\"https://datascienceschool.net/upfiles/9e19fb260bc84190b12b03e18a437b58.png\" style=\"width: 50%;\"/>"
   ]
  },
  {
   "cell_type": "markdown",
   "metadata": {
    "school_cell_uuid": "f1d6400dbf7044bf9788a78f663c1327"
   },
   "source": [
    "## 가상머신 생성"
   ]
  },
  {
   "cell_type": "markdown",
   "metadata": {
    "school_cell_uuid": "6f12bf98fa1c46f7b817d41a4e4080a8"
   },
   "source": [
    "도커 툴박스는 설치했지만 아직 도커를 사용할 수 있는 단계는 아니다. 도커는 리눅스에서만 실행할 수 있는 컨테이너 서비스이므로 리눅스 운영체제가 깔려 있는 가상머신(가상 컴퓨터)이 필요한데 아직 가상머신이 설치되지 않았기 때문이다.\n",
    "\n",
    "시작메뉴에서 \"Docker Quickstart Terminal\"을 선택하여 실행하면 다음과 같이 가상머신을 자동으로 생성해 준다. 가상머신을 생성하는 작업은 최초 한 번만 실행되며 컴퓨터의 성능에 따라 몇 분 가량 걸릴 수 있다. 일단 가상머신이 생성된 다음에는 \"Docker Quickstart Terminal\"을 실행해도 기존의 가상머신을 가동시키기만 하고 다시 생성하지는 않으므로 최초 생성시보다는 빠르게 실행된다. \n",
    "\n",
    "가상머신이 생성되면 다음과 같이 도커를 뜻하는 고래 모양의 그림과 함께 도커 터미널이 실행된다."
   ]
  },
  {
   "cell_type": "markdown",
   "metadata": {
    "school_cell_uuid": "a5c7b0d642e640238644ff26cf55ec4e",
    "sidetitle": true
   },
   "source": [
    "그림: 도커 툴박스를 처음으로 실행시킨 화면"
   ]
  },
  {
   "cell_type": "markdown",
   "metadata": {
    "school_cell_uuid": "5b86b04c3a964321b09128f30c958630"
   },
   "source": [
    "<img src=\"https://datascienceschool.net/upfiles/77dc542e32b54ddc81a2f4ec3f8d30b7.png\" style=\"width: 100%;\"/>"
   ]
  },
  {
   "cell_type": "markdown",
   "metadata": {
    "school_cell_uuid": "6aec10d59bcb4dba9697e898a5219ee0"
   },
   "source": [
    "이 화면에 나타난 IP 주소를 꼭 기억해 놓아야 한다. Oracle VirtualBox는 NAT(Network Address Translation)와 사설 IP 주소를 사용하여 호스트 컴퓨터(윈도우즈)와 게스트 가상 머신(리눅스)를 연결하는데 \"Docker Quickstart Terminal\" 실행시 나타나는 `192.168.99.100`이라는 사설 IP 주소가 게스트 가상 머신의 주소가 된다. 가상 머신을 두 대 이상 생성하지 않았다면 기본적으로 사설 IP 주소는 `192.168.99.100`이 된다.\n",
    "\n",
    "\"Docker Quickstart Terminal\"을 사용할 때에는 이 주소를 환경변수로 저장해 놓았기 때문에 신경쓰지 않고 사용할 수 있지만 putty 등의 다른 방법으로 가상 머신을 연결하거나 가상 머신에서 작동하는 Jupyter Notebook을 웹 브라우저에서 실행할 대는 이 사설 IP 주소를 사용해야 하므로 주의하자."
   ]
  },
  {
   "cell_type": "markdown",
   "metadata": {
    "school_cell_uuid": "6b490ccef80844728469916e0fa6f865"
   },
   "source": [
    "## 도커 동작 확인"
   ]
  },
  {
   "cell_type": "markdown",
   "metadata": {
    "school_cell_uuid": "0b5579c085a7471a90f1973ae5cdcf9d"
   },
   "source": [
    "이 상태에서 도커가 정상적으로 동작하는지 확인하기 위해서는 `docker` 라는 명령어를 입력한다. 다음과 같은 출력이 나온다면 정상적으로 설치된 것이다."
   ]
  },
  {
   "cell_type": "markdown",
   "metadata": {
    "school_cell_uuid": "f03ba1e53b944eb093974897fa9c0401",
    "sidetitle": true
   },
   "source": [
    "그림: ``docker`` 명령어를 입력한 경우"
   ]
  },
  {
   "cell_type": "markdown",
   "metadata": {
    "school_cell_uuid": "535bec657abc450fa4437685859d544c"
   },
   "source": [
    "<img src=\"https://datascienceschool.net/upfiles/31969ef18e254a2aa92a12bac0fea000.png\" style=\"width: 100%;\"/>"
   ]
  },
  {
   "cell_type": "markdown",
   "metadata": {
    "school_cell_uuid": "0df78353db8d4a65b3fdb1ec3beb883d"
   },
   "source": [
    "## Oracle VirtualBox 확인"
   ]
  },
  {
   "cell_type": "markdown",
   "metadata": {
    "school_cell_uuid": "328a5f7b5c1c4774a8293d38368f66bc"
   },
   "source": [
    "\"Docker Quickstart Terminal\"을 실행하면 가상머신이 생성되고 가동된다고 하였는데, Oracle VirtualBox에서 실제로 이를 확인할 수 있다.\n",
    "\n",
    "\"시작 > 모든 프로그램 > Oracle VM VirtualBox > Oracle VM VirtualBox\" 를 실행하면 다음과 같이 `default`라는 이름의 가상 머신이 동작하고 있음을 확인 할 수 있다."
   ]
  },
  {
   "cell_type": "markdown",
   "metadata": {
    "school_cell_uuid": "75a4eb7b3ceb4f9a88db6f99a71b8757",
    "sidetitle": true
   },
   "source": [
    "그림: Oracle VirtualBox 를 통한 가상 머신 확인"
   ]
  },
  {
   "cell_type": "markdown",
   "metadata": {
    "school_cell_uuid": "c9118c458ba44d31910858d4a601d781"
   },
   "source": [
    "<img src=\"https://datascienceschool.net/upfiles/0db5da35242a486f8915c05c4fe3bf51.png\" style=\"width: 100%;\"/>"
   ]
  },
  {
   "cell_type": "markdown",
   "metadata": {
    "school_cell_uuid": "04524feddf8249cb8bbb60ee3ae5f22e"
   },
   "source": [
    "## 설치 문제 해결"
   ]
  },
  {
   "cell_type": "markdown",
   "metadata": {
    "school_cell_uuid": "b817d102126640529b03f79e7df6e45b"
   },
   "source": [
    "도커를 설치하고 Docker Quickstart Terminal을 실행 시킨 후, 오류 메세지가 나타나거나 `docker` 명령을 인식하지 못하는 경우에는  다음과 같은 사항을 순서대로 조치해 본다. \n",
    "\n",
    "1. Docker Quickstart Terminal 윈도우를 닫고 다시 Docker Quickstart Terminal 을 실행해 본다.\n",
    "2. 컴퓨터에 설치된 백신/Malware 탐지 프로그램 혹은 방화벽을 끄고 다시 Docker Quickstart Terminal 을 실행해 본다.\n",
    "3. Oracle VirtualBox에서 `default` 가상 머신을 \"모든 파일 완전 삭제\"한 후에 다시 Docker Quickstart Terminal 을 실행해 본다.\n",
    "4. 도커 툴박스를 완전 삭제한 후 다시 리부팅하여 Docker Quickstart Terminal 을 실행해 본다."
   ]
  }
 ],
 "metadata": {
  "celltoolbar": "Edit Metadata",
  "kernelspec": {
   "display_name": "Python 2",
   "language": "python",
   "name": "python2"
  },
  "language_info": {
   "codemirror_mode": {
    "name": "ipython",
    "version": 2
   },
   "file_extension": ".py",
   "mimetype": "text/x-python",
   "name": "python",
   "nbconvert_exporter": "python",
   "pygments_lexer": "ipython2",
   "version": "2.7.11"
  }
 },
 "nbformat": 4,
 "nbformat_minor": 0
}