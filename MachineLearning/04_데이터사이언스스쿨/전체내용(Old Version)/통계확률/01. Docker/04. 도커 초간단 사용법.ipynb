{
 "cells": [
  {
   "cell_type": "markdown",
   "metadata": {
    "school_cell_uuid": "0594321f28a747eb855ffe35b7578bff"
   },
   "source": [
    "# 도커 초간단 사용법"
   ]
  },
  {
   "cell_type": "markdown",
   "metadata": {
    "school_cell_uuid": "03b0db4add074be9bc4836fbd330884d"
   },
   "source": [
    "도커를 사용하기 위한 핵심 명령어를 간단히 소개한다."
   ]
  },
  {
   "cell_type": "markdown",
   "metadata": {
    "school_cell_uuid": "f9906a0b03e849fabfbc3f659f5a05f6"
   },
   "source": [
    "도커를 사용하기 위해서는 우선 이미지(Image)와 컨테이너(container)의 개념을 알아야 한다."
   ]
  },
  {
   "cell_type": "markdown",
   "metadata": {
    "school_cell_uuid": "aa6002c468c4409a96fe38ef35d5e157"
   },
   "source": [
    "## 도커 이미지"
   ]
  },
  {
   "cell_type": "markdown",
   "metadata": {
    "school_cell_uuid": "3d154a5f2373493bbc88d54ccc69b2ef"
   },
   "source": [
    "도커 이미지는 가상 머신의 원본이 저장된 파일이라고 생각하면 이해하기 쉽다."
   ]
  },
  {
   "cell_type": "markdown",
   "metadata": {
    "school_cell_uuid": "118b68bc745645d5bb8986a7cf852a68"
   },
   "source": [
    "도커 이미지와 관련하여 많이 사용되는 명령어는 두 가지가 있다.\n",
    "\n",
    "* `docker images` : 현재 도커 이미지 목록 출력\n",
    "* `docker rmi` : 도커 이미지 삭제"
   ]
  },
  {
   "cell_type": "markdown",
   "metadata": {
    "school_cell_uuid": "4a893ef8759749039634c8dcdb1516d6"
   },
   "source": [
    "### docker images"
   ]
  },
  {
   "cell_type": "markdown",
   "metadata": {
    "school_cell_uuid": "0181e120a7324cbe8259724ba81e4e47"
   },
   "source": [
    "우선 `docker images` 명령은 현재 파일 시스템에 저장된 도커 이미지 목록을 출력한다.\n",
    "\n",
    "리눅스에서 도커를 사용하고 있다면 터미널을, 윈도우즈나 맥에서 도커 툴박스를 사용하고 있다면 Docker Quickstart Terminal을 시작한 후 다음과 같이 `docker images` 명령을 입력해 보자."
   ]
  },
  {
   "cell_type": "markdown",
   "metadata": {
    "collapsed": false,
    "school_cell_uuid": "faf171a1ec714d20b9d9594f6cae91f4"
   },
   "source": [
    "```\n",
    "$ docker images\n",
    "REPOSITORY                  TAG                 IMAGE ID            CREATED             SIZE\n",
    "datascienceschool/rpython   latest              758190f70e5e        6 days ago          7.711 GB\n",
    "ubuntu                      latest              a1e4ed2ac65b        7 days ago          188 MB\n",
    "```"
   ]
  },
  {
   "cell_type": "markdown",
   "metadata": {
    "school_cell_uuid": "0197d289735547668baad77df6aeb403"
   },
   "source": [
    "현재 파일 시스템에 존재하는 모든 이미지의 목록을 보여준다. \n",
    "\n",
    "이미지 관련 명령을 사용할 때는 이미지 이름이나 이미지 아이디(ID)를 명시해 주어야 한다. 이미지 이름은 `REPOSITORY`와 `TAG`를 콜론(:)으로 조합한 문자열이다. 태그(TAG)는 latest 의 경우에 생략 가능하다. 이미지 아이디는 IMAGE ID열에 명시되어 있다. \n",
    "\n",
    "예를 들어 앞의 경우 `datascienceschool/rpython:latest` 이미지와 `758190f70e5e` 이미지는 같은 이미지를 가르킨다. 이미지 아이디를 사용하는 경우 중복된 아이디가 없다면 앞의 문자 일부분만 사용해도 된다. 예를 들어 `758190f70e5e` 대신 `7581`을 사용할 수도 있다. (`7581`로 시작하는 다른 아이디가 없는 경우)"
   ]
  },
  {
   "cell_type": "markdown",
   "metadata": {
    "school_cell_uuid": "1b7e2eea22164ddea3a8eac2a7fcaf06"
   },
   "source": [
    "### docker rmi"
   ]
  },
  {
   "cell_type": "markdown",
   "metadata": {
    "school_cell_uuid": "eabc3fa7b982445180342c692eeb3a94"
   },
   "source": [
    "만약 특정한 이미지를 삭제하고자 한다면 다음과 같이 `docker rmi` 뒤에 이미지 이름 문자열이나 이미지 아이디를 추가하여 입력한다. "
   ]
  },
  {
   "cell_type": "markdown",
   "metadata": {
    "school_cell_uuid": "1640806d3b4f474792f442ffe3cf93ce"
   },
   "source": [
    "```\n",
    "$ docker rmi 758190f70e5e\n",
    "```"
   ]
  },
  {
   "cell_type": "markdown",
   "metadata": {
    "school_cell_uuid": "b5e13c9e477e4d4295966c9c9d53b841"
   },
   "source": [
    "만약 이미지를 삭제하려고 하는데 현재 해당 이미지를 복사한 컨테이너가 존재하거나 해당 이미지에 의존하는 다른 이미지가 존재하면 아래와 같이 오류 표시가 나타난다. 이 경우에는 해당 컨테이너 등을 삭제한 후 이미지를 삭제해야 한다."
   ]
  },
  {
   "cell_type": "markdown",
   "metadata": {
    "school_cell_uuid": "a69cab77c8f74cfda246d706769298ad"
   },
   "source": [
    "```\n",
    "$ docker rmi 758190f70e5e\n",
    "Failed to remove image (758190f70e5e): Error response from daemon: conflict: unable to delete 758190f70e5e (must be forced) - image is being used by stopped container 3be34f7a1cb2\n",
    "```"
   ]
  },
  {
   "cell_type": "markdown",
   "metadata": {
    "school_cell_uuid": "c1972e345f464dd8a89bbab769675454"
   },
   "source": [
    "## 도커 컨테이너"
   ]
  },
  {
   "cell_type": "markdown",
   "metadata": {
    "school_cell_uuid": "91e7a573916841b28a87494b5ec3dd00"
   },
   "source": [
    "도커 컨테이너는 이미지를 가상 파일 시스템 상에 올린 것이라고 생각하면 된다. 따라서 하나의 이미지에서 복수개의 컨테이너를 가동해도 된다. 이 경우에는 완전히 동일한 가상 컴퓨터가 복수 대 있는 것과 마찬가지가 된다."
   ]
  },
  {
   "cell_type": "markdown",
   "metadata": {
    "school_cell_uuid": "b509170babeb475ebcdefc9b83aa0e55"
   },
   "source": [
    "도커 컨테이너와 관련하여 많이 사용되는 명령어는 다음과 같다.\n",
    "\n",
    "* `docker ps -a` : 현재 도커 컨테이너 목록 출력\n",
    "* `docker run` : 도커 컨테이너 가동\n",
    "* <kbd>Ctrl</kbd>+<kbd>p</kbd>, <kbd>Ctrl</kbd>+<kbd>q</kbd> : 가동 중인 도커 컨테이너에서 나오기\n",
    "* `docker attach` : 가동 중인 도커 컨테이너 안으로 들어가기\n",
    "* `exit` : 도커 컨테이너 중지 (컨테이너 내부에서)\n",
    "* `docker stop` : 도커 컨테이너 중지  (컨테이너 외부에서)\n",
    "* `docker start` : 도커 컨테이너 재시작  (컨테이너 외부에서)\n",
    "* `docker restart` : 도커 컨테이너 중지 후 재시작  (컨테이너 외부에서)\n",
    "* `docker rm` : 도커 컨테이너 삭제\n"
   ]
  },
  {
   "cell_type": "markdown",
   "metadata": {
    "school_cell_uuid": "3cf54a2501a74dc684bf5c911188d8a3"
   },
   "source": [
    "도커 컨테이너 명령을 사용할 경우에는 컨테이너 아이디나 컨테이너 이름을 명시해야 한다."
   ]
  },
  {
   "cell_type": "markdown",
   "metadata": {
    "school_cell_uuid": "d560a2012b5242c2996a36b44f807bcc",
    "sidetitle": true
   },
   "source": [
    "그림: 도커 명령어 요약"
   ]
  },
  {
   "cell_type": "markdown",
   "metadata": {
    "school_cell_uuid": "e505cd63c6634eabbe92dfe382887d99"
   },
   "source": [
    "<img src=\"https://datascienceschool.net/upfiles/0f42cb1288794909aadb59423b364d18.png\" style=\"width:100%;\">"
   ]
  },
  {
   "cell_type": "markdown",
   "metadata": {
    "school_cell_uuid": "40055887e7b046cabc6022739e6d2b45"
   },
   "source": [
    "### docker ps -a"
   ]
  },
  {
   "cell_type": "markdown",
   "metadata": {
    "school_cell_uuid": "6fcf7072e5f54e2ba5caebe6c439c8f2"
   },
   "source": [
    "현재 존재하는 모든 도커 컨테이너 목록을 보려면 `docker ps -a` 명령을 사용한다. 만약 `-a` 옵션 없이 사용하면 가동중인 컨테이너만 보인다."
   ]
  },
  {
   "cell_type": "markdown",
   "metadata": {
    "school_cell_uuid": "f58ce4bd41004b4389e03fa97818c233"
   },
   "source": [
    "```\n",
    "$ docker ps -a\n",
    "CONTAINER ID IMAGE                     COMMAND         CREATED    STATUS                      PORTS    NAMES\n",
    "3be34f7a1cb2 datascienceschool/rpython \"/usr/bin/tini\" 5 days ago Exited (137) 15 minutes ago 8787/tcp rpython\n",
    "```"
   ]
  },
  {
   "cell_type": "markdown",
   "metadata": {
    "school_cell_uuid": "8cd648e785d443c6897c7d2ec2e14d77"
   },
   "source": [
    "도커 이미지와 마찬가지로 도커 컨테이너도 `NAMES` 열에 보인 컨테이너 이름 문자열과 `CONTAINER ID` 열에 보인 컨테이너 아이디로 특정 컨테이너를 지정할 수 있다. 컨테이너를 멈추거나 삭제하는 경우에 사용한다."
   ]
  },
  {
   "cell_type": "markdown",
   "metadata": {
    "school_cell_uuid": "cf55825ec936488d8982a95cf9846630"
   },
   "source": [
    "출력에서 주의해야 할 것은 `STATUS` 항목이다.  `STATUS` 항목이 `Up` 이면 해당 컨테이너가 현재 작동중이라는 뜻이고 웹 브라우저를 통해 Jupyter Notebook을 사용할 수 있다. 만약  `STATUS` 항목이 위의 예처럼 `Exited` 이면 현재 동작이 멈추어 있다는 의미이다. 따라서 Jupyter Notebook을 사용하려면 `docker start` 를 시키거나 `docker rm` 명령으로 삭제한 뒤에 다시 `docker run` 을 해야 한다."
   ]
  },
  {
   "cell_type": "markdown",
   "metadata": {
    "school_cell_uuid": "91e0cfb8d6b547ec959d39a71e3a8d65"
   },
   "source": [
    "### docker run"
   ]
  },
  {
   "cell_type": "markdown",
   "metadata": {
    "collapsed": true,
    "school_cell_uuid": "a2ab76a7763742cba1c725f00e9c653d"
   },
   "source": [
    "도커 컨테이너를 시작하려면 `docker run` 명령을 사용한다. 이 명령에는 많은 옵션이 오게 되는데 대표적인 옵션은 다음과 같다."
   ]
  },
  {
   "cell_type": "markdown",
   "metadata": {
    "school_cell_uuid": "0a4a0a53cc784c80bba092197681f8d9"
   },
   "source": [
    "* `-it` : 터미널을 가진 대화형으로 도커 컨테이너를 시작한다.\n",
    "* `-d` : 데몬(daemon)으로 도커 컨테이너를 시작한다.\n",
    "* `--name` : 컨테이너에 이름을 지정한다.\n",
    "* `-p` : 컨테이너와 호스트간의 포트 포워딩\n",
    "* `-v` : 컨테이너와 호스트간의 폴더 공유 "
   ]
  },
  {
   "cell_type": "markdown",
   "metadata": {
    "school_cell_uuid": "01155b5950d44ac79c697fa3983588fe"
   },
   "source": [
    "옵션 다음에는 가동할 이미지의 이름과 수행할 명령을 추가한다."
   ]
  },
  {
   "cell_type": "markdown",
   "metadata": {
    "school_cell_uuid": "0c7b5e9e54b445509dc5b7680834c187"
   },
   "source": [
    "예를 들어 `datascienceschool/rpython` 이미지를 대화형 컨테이너로 가동하는 경우 다음과 같이 입력할 수 있다."
   ]
  },
  {
   "cell_type": "markdown",
   "metadata": {
    "school_cell_uuid": "f569331768bf43b49f7283ab1052085b"
   },
   "source": [
    "```\n",
    "docker run -Pit --name rpython -p 8888:8888 -p 8787:8787 -p 6006:6006 datascienceschool/rpython\n",
    "```"
   ]
  },
  {
   "cell_type": "markdown",
   "metadata": {
    "school_cell_uuid": "ffe2cefea4e84afa87953668f2fd661f"
   },
   "source": [
    "위 명령은 `datascienceschool/rpython` 이미지를 `rpython`이란 컨테이너 이름으로 가동시키며 터미널을 가진 대화형 컨테이너를 사용하고 컨테이의 8888 포트와 8787포트를 호스트의 8888 포트 및 8787 포트와 연결하라는 의미이다. \n",
    "\n",
    "`-Pit` 옵션은 모든 포트를 열고 상호 대화적 셸 사용이 가능하게 하라는 옵션이다."
   ]
  },
  {
   "cell_type": "markdown",
   "metadata": {
    "school_cell_uuid": "aca27c05d8e0498b999dae99d84bd40d"
   },
   "source": [
    "원래 `docker run` 명령은 마지막에 `/bin/bash` 등의 명령을 주지만 `datascienceschool/rpython` 이미지의 경우 아무런 명령이 없을 경우 자동으로 `/bin/bash`를 수행하도록 만들어져 있다. `docker run` 으로 `/bin/bash` 를 수행한 경우 다음과 같이 프롬프트가 바뀌며 도커 컨테이너 안으로 들어갔음을 보여준다."
   ]
  },
  {
   "cell_type": "markdown",
   "metadata": {
    "school_cell_uuid": "0a717a25c0c94567b6e54282a3988d1b"
   },
   "source": [
    "```\n",
    "$ docker run -Pit --name rpython -p 8888:8888 -p 8787:8787 -p 6006:6006 datascienceschool/rpython\n",
    "dockeruser@377ad03459bf:~$\n",
    "```"
   ]
  },
  {
   "cell_type": "markdown",
   "metadata": {
    "school_cell_uuid": "871c5076a9534cf8834d75a9927d359c"
   },
   "source": [
    "앞의 프롬프트에서 `dockeruser`는 도커 컨테이너상의 사용자 아이디를,  `377ad03459bf`는 도커 컨테이너 아이디를 가리킨다."
   ]
  },
  {
   "cell_type": "markdown",
   "metadata": {
    "school_cell_uuid": "2238a97a91c34bacb836a437d0ce999d"
   },
   "source": [
    "### <kbd>Ctrl</kbd>+<kbd>p</kbd>, <kbd>Ctrl</kbd>+<kbd>q</kbd>"
   ]
  },
  {
   "cell_type": "markdown",
   "metadata": {
    "school_cell_uuid": "9f5aacaf1ed4459ca88cba53e9838c29"
   },
   "source": [
    "도커 컨테이너 안에서 작업을 하다가 도커 컨테이너는 정지시키지 않고 잠시 컨테이너에서 호스트로 빠져나오고 싶은 경우에는 <kbd>Ctrl</kbd>+<kbd>p</kbd>, <kbd>Ctrl</kbd>+<kbd>q</kbd> 버튼을 누른다. (이 때 호스트 컴퓨터의 프롬프트가 바로 나타나지 않으면 <kbd>Enter</kbd>키를 몇 번 친다.)"
   ]
  },
  {
   "cell_type": "markdown",
   "metadata": {
    "school_cell_uuid": "1c2a4c9b2b7244eea5d8dd540d1b035b"
   },
   "source": [
    "```dockeruser@377ad03459bf:~$``` <kbd>Ctrl</kbd>+<kbd>p</kbd>, <kbd>Ctrl</kbd>+<kbd>q</kbd>\n",
    "\n",
    "\n",
    "```user@user-PC MINGW64 ~```\n",
    "\n",
    "\n",
    "```$```"
   ]
  },
  {
   "cell_type": "markdown",
   "metadata": {
    "school_cell_uuid": "a3df9536e510428ab497a8003274f8f2"
   },
   "source": [
    "### docker attach"
   ]
  },
  {
   "cell_type": "markdown",
   "metadata": {
    "school_cell_uuid": "2c2fb6ded7f04d9c81c532cf6dd95d43"
   },
   "source": [
    "호스트 컴퓨터에서 작업을 끝낸 후 다시 빠져나왔던 도커 컨테이너로 들어가려면 `docker attach` 명령을 입력한다. 물론 명령어 뒤에 컨테이너 아이디나 이름을 인수로 입력해야 한다. (마찬가지로 컨테이너의 프롬프트가 바로 나타나지 않으면 <kbd>Enter</kbd>키를 몇 번 친다.)"
   ]
  },
  {
   "cell_type": "markdown",
   "metadata": {
    "school_cell_uuid": "408ecafef7f845758222dd56049f0e19"
   },
   "source": [
    "```\n",
    "$ docker attach rpython\n",
    "dockeruser@377ad03459bf:~$\n",
    "```"
   ]
  },
  {
   "cell_type": "markdown",
   "metadata": {
    "school_cell_uuid": "cd78f41f4b9549cfbeda72c3bb843ac1"
   },
   "source": [
    "### exit"
   ]
  },
  {
   "cell_type": "markdown",
   "metadata": {
    "school_cell_uuid": "4b57a31b88fa4927b0370b53b0469afa"
   },
   "source": [
    "만약 컨테이너 사용을 완전히 마치고 싶으면 컨테이너 안에서 `exit` 명령을 입력한다. 컨테이너를 중지하고 호스트 컴퓨터로 빠져나온다."
   ]
  },
  {
   "cell_type": "markdown",
   "metadata": {
    "school_cell_uuid": "470926bbd604424b8a92d1d9917921d7"
   },
   "source": [
    "```\n",
    "dockeruser@377ad03459bf:~$ exit\n",
    "exit\n",
    "user@user-PC MINGW64 ~\n",
    "$\n",
    "```"
   ]
  },
  {
   "cell_type": "markdown",
   "metadata": {
    "school_cell_uuid": "a33f935f25234ad6b8baed9293dab56f"
   },
   "source": [
    "### docker stop"
   ]
  },
  {
   "cell_type": "markdown",
   "metadata": {
    "school_cell_uuid": "054271afdb304a6d95485da1154b437d"
   },
   "source": [
    "컨테이너를 중지하지 않고 빠져나온 경우에 외부에서 컨테이너를 중지하고 싶으면 `docker stop` 명령을 사용한다."
   ]
  },
  {
   "cell_type": "markdown",
   "metadata": {
    "school_cell_uuid": "3b29548599b042678aae07a69762f3fa"
   },
   "source": [
    "```\n",
    "user@user-PC MINGW64 ~\n",
    "$ docker ps -a\n",
    "CONTAINER ID IMAGE                     COMMAND         CREATED        STATUS       PORTS                  NAMES\n",
    "a181562ac4d8 datascienceschool/rpython \"/usr/bin/tini\" 15 seconds ago Up 5 seconds 0.0.0.0:8787->8787/tcp rpython\n",
    "\n",
    "user@user-PC MINGW64 ~\n",
    "$ docker stop rpython\n",
    "rpython\n",
    "\n",
    "user@user-PC MINGW64 ~\n",
    "$ docker ps -a\n",
    "CONTAINER ID IMAGE                     COMMAND         CREATED        STATUS                     PORTS NAMES\n",
    "a181562ac4d8 datascienceschool/rpython \"/usr/bin/tini\" 25 seconds ago Exited (143) 7 seconds ago       rpython\n",
    "```"
   ]
  },
  {
   "cell_type": "markdown",
   "metadata": {
    "school_cell_uuid": "505f94234fa24ef890dbdd6e28330d3d"
   },
   "source": [
    "### docker start"
   ]
  },
  {
   "cell_type": "markdown",
   "metadata": {
    "school_cell_uuid": "26c090abfbdc4e2ab444c8b62e09885e"
   },
   "source": [
    "컨테이너가 중지가 중지된 상태에서 다시 시작하고 싶으면 `docker start` 명령을 사용한다."
   ]
  },
  {
   "cell_type": "markdown",
   "metadata": {
    "school_cell_uuid": "390ff1d1d36847ce82d7e4048bed0eb7"
   },
   "source": [
    "```\n",
    "user@user-PC MINGW64 ~\n",
    "$ docker ps -a\n",
    "CONTAINER ID IMAGE                     COMMAND         CREATED        STATUS                     PORTS NAMES\n",
    "a181562ac4d8 datascienceschool/rpython \"/usr/bin/tini\" 45 seconds ago Exited (143) 6 seconds ago       rpython\n",
    "\n",
    "user@user-PC MINGW64 ~\n",
    "$ docker start rpython\n",
    "rpython\n",
    "\n",
    "user@user-PC MINGW64 ~\n",
    "$ docker ps -a\n",
    "CONTAINER ID IMAGE                     COMMAND         CREATED        STATUS       PORTS                  NAMES\n",
    "a181562ac4d8 datascienceschool/rpython \"/usr/bin/tini\" 57 seconds ago Up 5 seconds 0.0.0.0:8787->8787/tcp rpython\n",
    "\n",
    "```"
   ]
  },
  {
   "cell_type": "markdown",
   "metadata": {
    "school_cell_uuid": "24cad25f99074e7d82616f08efe0762b"
   },
   "source": [
    "### docker restart"
   ]
  },
  {
   "cell_type": "markdown",
   "metadata": {
    "school_cell_uuid": "b86bf453b59244a895890f786e4f0f83"
   },
   "source": [
    "컨테이너의 상태에 관계없이 (동작 중에도) 중지한 후에 다시 시작하고 싶으면 `docker restart` 명령을 사용한다."
   ]
  },
  {
   "cell_type": "markdown",
   "metadata": {
    "school_cell_uuid": "3ee305b0244a4847ad2cd93b125d9858"
   },
   "source": [
    "```\n",
    "user@user-PC MINGW64 ~\n",
    "$ docker ps -a\n",
    "CONTAINER ID IMAGE                     COMMAND         CREATED        STATUS                     PORTS NAMES\n",
    "a181562ac4d8 datascienceschool/rpython \"/usr/bin/tini\" 53 seconds ago Up 6 seconds                     rpython\n",
    "\n",
    "user@user-PC MINGW64 ~\n",
    "$ docker restart rpython\n",
    "rpython\n",
    "\n",
    "user@user-PC MINGW64 ~\n",
    "$ docker ps -a\n",
    "CONTAINER ID IMAGE                     COMMAND         CREATED        STATUS       PORTS                  NAMES\n",
    "a181562ac4d8 datascienceschool/rpython \"/usr/bin/tini\" 54 seconds ago Up 6 seconds 0.0.0.0:8787->8787/tcp rpython\n",
    "\n",
    "```"
   ]
  },
  {
   "cell_type": "markdown",
   "metadata": {
    "school_cell_uuid": "07ce308fb2a64cabbe3c223e51ce4c0a"
   },
   "source": [
    "### docker rm"
   ]
  },
  {
   "cell_type": "markdown",
   "metadata": {
    "school_cell_uuid": "3e076ff4297649b2ae9678f271bdf6cb"
   },
   "source": [
    "컨테이너가 중지되었어도 컨테이너 자체는 계속 남아있기 때문에 같은 이름으로 컨테이너를 다시 생성하기 위해서는 해당 이름을 가진 컨테이너를 삭제해야 한다. 이 때 `docker rm` 명령을 사용한다."
   ]
  },
  {
   "cell_type": "markdown",
   "metadata": {
    "school_cell_uuid": "9f4857bee6394c288dff3c314f8cad8d"
   },
   "source": [
    "```\n",
    "user@user-PC MINGW64 ~\n",
    "$ docker rm rpython\n",
    "rpython\n",
    "\n",
    "user@user-PC MINGW64 ~\n",
    "$ docker ps -a\n",
    "CONTAINER ID        IMAGE               COMMAND             CREATED             STATUS              PORTS               NAMES\n",
    "```"
   ]
  },
  {
   "cell_type": "markdown",
   "metadata": {
    "bootstrap": {
     "panel": {
      "class": "panel-default"
     }
    },
    "school_cell_uuid": "5bc109b3aaef4f86be277f5142095977"
   },
   "source": [
    "### 연습 문제 1\n",
    "\n",
    "`datascienceschool/rpython` 도커 이미지와 컨테이너를 사용하여 다음과 같이 실행해 본다.\n",
    "\n",
    "1. 컨테이너가 현재 가동 중인지 확인한다.  (``ps`` 명령)\n",
    "1. 만약 가동 중이면 컨테이너를 중지한다.  (``stop`` 명령)\n",
    "1. 컨테이너가 중지되었는지 확인한다.  (``ps`` 명령)\n",
    "1. 컨테이너를 다시 시작한다.   (``start`` 명령)\n",
    "1. 컨테이너가 현재 가동 중인지 확인한다.  (``ps`` 명령)\n",
    "1. 컨테이너 셸 안으로 들어간다.  (``attach`` 명령)\n",
    "1. 컨테이너를 중지하지 않고 나온다.  (``ctrl-p ctrl-q`` 명령)\n",
    "1. 컨테이너를 중지한다. (``stop`` 명령)\n",
    "1. 컨테이너가 현재 가동 중인지 확인한다.  (``ps`` 명령)\n",
    "1. 컨테이너를 삭제한다. (``rm`` 명령)\n",
    "1. 컨테이너가 현재 가동 중인지 확인한다.  (``ps`` 명령)\n",
    "1. 이미지 목록을 살펴본다. (``image`` 명령)\n",
    "1. 컨테이너를 가동한다. (``run`` 명령)\n",
    "    "
   ]
  }
 ],
 "metadata": {
  "kernelspec": {
   "display_name": "Python [Root]",
   "language": "python",
   "name": "Python [Root]"
  },
  "language_info": {
   "codemirror_mode": {
    "name": "ipython",
    "version": 2
   },
   "file_extension": ".py",
   "mimetype": "text/x-python",
   "name": "python",
   "nbconvert_exporter": "python",
   "pygments_lexer": "ipython2",
   "version": "2.7.12"
  }
 },
 "nbformat": 4,
 "nbformat_minor": 0
}