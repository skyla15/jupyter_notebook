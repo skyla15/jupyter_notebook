{
 "cells": [
  {
   "cell_type": "markdown",
   "metadata": {
    "school_cell_uuid": "ed33eeef430e4a8a9b3b2f471f2f982f"
   },
   "source": [
    "# 도커 사용 팁 - 도커 가상 머신 완전 삭제하기"
   ]
  },
  {
   "cell_type": "markdown",
   "metadata": {
    "school_cell_uuid": "73d5df1cd8d54659b7033f3180ea4e03"
   },
   "source": [
    "도커 툴박스를 사용하다가 경우에 따라서는 이미지를 지우는 것이 아니라 가상머신 자체를 완전히 삭제해야 하는 경우가 있을 수 있다. 이 경우에는 다음 명령어를 사용한다.\n",
    "\n",
    "우선 도커 터미널을 시작해서 현재 설치되어 있는 가상 머신 목록을 확인한다."
   ]
  },
  {
   "cell_type": "markdown",
   "metadata": {
    "school_cell_uuid": "d87a8b7a0bf2429792172945296431ca"
   },
   "source": [
    "```\n",
    "$ docker-machine ls\n",
    "\n",
    "NAME      ACTIVE   DRIVER       STATE     URL                         SWARM   DOCKER    ERRORS\n",
    "default   *        virtualbox   Running   tcp://192.168.99.100:2376           v1.13.0\n",
    "```"
   ]
  },
  {
   "cell_type": "markdown",
   "metadata": {
    "school_cell_uuid": "70cc97fe03a14e80ab523719483e08ed"
   },
   "source": [
    "특별한 경우가 아니라면 `default`라는 이름의 가상 머신만 있을 것이다.\n",
    "\n",
    "이 가상 머신은 다음 명령으로 삭제할 수 있다. 삭제하기 전에 컨테이너의 파일을 호스트로 복사하기를 권장한다."
   ]
  },
  {
   "cell_type": "markdown",
   "metadata": {
    "school_cell_uuid": "bf729a94e99941379b5fdd5accec5461"
   },
   "source": [
    "```\n",
    "$ docker-machine rm default\n",
    "```"
   ]
  },
  {
   "cell_type": "markdown",
   "metadata": {
    "school_cell_uuid": "55340224030941aaa7935463fcdf0c68"
   },
   "source": [
    "만약 가상 머신의 이름이 `default`가 아니면 위 명령에서 이름을 해당하는 이름으로 바꾸면 된다."
   ]
  }
 ],
 "metadata": {
  "kernelspec": {
   "display_name": "Python [Root]",
   "language": "python",
   "name": "Python [Root]"
  },
  "language_info": {
   "codemirror_mode": {
    "name": "ipython",
    "version": 2
   },
   "file_extension": ".py",
   "mimetype": "text/x-python",
   "name": "python",
   "nbconvert_exporter": "python",
   "pygments_lexer": "ipython2",
   "version": "2.7.12"
  }
 },
 "nbformat": 4,
 "nbformat_minor": 0
}