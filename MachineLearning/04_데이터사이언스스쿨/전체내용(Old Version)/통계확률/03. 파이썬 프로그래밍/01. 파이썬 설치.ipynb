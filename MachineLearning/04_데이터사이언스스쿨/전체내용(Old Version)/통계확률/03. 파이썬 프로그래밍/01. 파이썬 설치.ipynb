{
 "cells": [
  {
   "cell_type": "markdown",
   "metadata": {
    "school_cell_uuid": "bedc91abb99c4cb6bc5f2338d12836a2"
   },
   "source": [
    "# 파이썬 설치"
   ]
  },
  {
   "cell_type": "markdown",
   "metadata": {
    "school_cell_uuid": "a8aca10ec77941eeb6b1b34d1883e2b9"
   },
   "source": [
    "여기에서는 사용자의 로컬 컴퓨터에 파이썬을 설치하고 사용하는 방법을 보인다."
   ]
  },
  {
   "cell_type": "markdown",
   "metadata": {
    "school_cell_uuid": "d34c324d9eb545129ac9da544383c3aa"
   },
   "source": [
    "## 파이썬 정보"
   ]
  },
  {
   "cell_type": "markdown",
   "metadata": {
    "school_cell_uuid": "13df33140eef4674b4da0c3071fd8f1e"
   },
   "source": [
    "파이썬 설치에 앞서 알아야 할 기본적인 정보를 살펴보자. "
   ]
  },
  {
   "cell_type": "markdown",
   "metadata": {
    "bootstrap": {
     "panel": {
      "class": "panel-danger",
      "heading": ""
     }
    },
    "collapsed": true,
    "school_cell_uuid": "6c573cc355bf47eea17ef43b906d5e77"
   },
   "source": [
    "## 파이썬의 종류\n",
    "\n",
    "* CPython\n",
    " * C 구현\n",
    "* jython\n",
    " * Java 구현\n",
    "* IronPython\n",
    " * .NET 구현\n",
    "* PyPy\n",
    " * 파이썬 JIT \n",
    "* Pyston\n",
    " * LLVM"
   ]
  },
  {
   "cell_type": "markdown",
   "metadata": {
    "school_cell_uuid": "526efa2cc77f4146beb5b187bbae62b3"
   },
   "source": [
    "파이썬을 설치한다는 것은 파이썬 언어를 해석할 수 있는 인터프리터(interpreter)를 설치한다는 의미이다. 인터프리터란 소스 코드를 읽고 해석하여 수행하는 어플리케이션이다. 이러한 어플리케이션도 결국은 어떤 다른 언어로 구현(만들어지다는 의미)되어야 한다. \n",
    "\n",
    "가장 널리 쓰이는 파이썬 구현은 C 언어로 만들어진 CPython으로 C/C++ 언어로 된 라이브러리를 직접 호출할 수 있기 때문에 수많은 유용한 C/C++ 라이브러리를 사용할 수 있는 장점이 있다. 수치 계산용으로는 거의 항상 CPython을 사용한다.\n",
    "\n",
    "그 외에 Java로 구현된 jython, .NET 으로 구현된 IronPython 등이 있으며 이러한 구현은 JAVA 라이브러리나 .NET 컴포넌트를 파이썬에서 직접 호출하여 사용해야 하는 경우에 쓰인다.\n",
    "\n",
    "PyPy와 Pyston은 최근 활발히 개발되고 있는 구현으로 JIT(Just-In-Time) 컴파일러를 내장하여 반복되는 코드를 빠르게 실행할 수 있도록 한다."
   ]
  },
  {
   "cell_type": "markdown",
   "metadata": {
    "bootstrap": {
     "panel": {
      "class": "panel-danger",
      "heading": ""
     }
    },
    "collapsed": true,
    "school_cell_uuid": "2ba41bc0177c48308e7bbb1491aa2471"
   },
   "source": [
    "## 파이썬의 버전\n",
    "\n",
    "* 버전 표기법\n",
    " * major.minor.micro\n",
    "* Major 버전\n",
    " * version 2\n",
    "   * 현재 최신 버전 2.7.11\n",
    "   * 더 이상의 신규 마이너 버전 없음\n",
    " * version 3\n",
    "   * 현재 최신 버전 3.5.1\n",
    "   * version 2와 하위 호환 없음\n",
    "* 버전간 차이\n",
    "  * 문자열 저장\n",
    "    * version 2는 문자열을 바이너리 형태로 저장, version 3는 유니코드 포인트로 변환하여 저장\n",
    "  * 문법 차이\n",
    "    * print 명령, 나누기 연산자(division operator) 등"
   ]
  },
  {
   "cell_type": "markdown",
   "metadata": {
    "school_cell_uuid": "930452622c804b7c9484cd5338e07af6"
   },
   "source": [
    "Python은 다른 언어와 달리 두 개의 버전이 동시에 활발하게 사용되고 있다. 그 이유는 버전 2로부터 버전 3으로 변경되며 여러가지 유용한 기능이 추가되었지만 문법이 호환되지 않기 때문에 기존에 버전 2를 사용하고 있던 사용자의 경우 버전 3으로 포팅(port)해야 하는 어려움이 있고 일부 패키지의 경우 버전 3을 지원하지 않아 이러한 패키지를 사용하는 사람은 불가피하게 버전 2를 계속 사용할 수 밖에 없기 때문이다."
   ]
  },
  {
   "cell_type": "markdown",
   "metadata": {
    "school_cell_uuid": "7a6ffd4f12fc44f5a070304d05badcae"
   },
   "source": [
    "## 기본 파이썬 설치"
   ]
  },
  {
   "cell_type": "markdown",
   "metadata": {
    "bootstrap": {
     "panel": {
      "class": "panel-danger",
      "heading": ""
     }
    },
    "school_cell_uuid": "e5cd149012ae44448d07e6198dcddf65"
   },
   "source": [
    "* 파이썬을 사용할 수 있는 최소의 설치\n",
    "* 기본적으로 인터프리터(interpreter)만 설치\n",
    "* https://www.python.org/downloads/\n",
    "* 실제로는 사용하지 않는다."
   ]
  },
  {
   "cell_type": "markdown",
   "metadata": {
    "school_cell_uuid": "01b1819a23e34719b068f91acf74da53"
   },
   "source": [
    "처음 파이썬을 사용하는 사람은 https://www.python.org/downloads/ 에서 기본 파이썬 인터프리터만 다운로드 받아 설치하기 쉽지만 이 경우 패키지 관리가 어렵고 여러가지 다양한 추가 도구를 별도로 설치해야 하기 때문에 **이렇게 설치하는 것은 권장하지 않는다.**"
   ]
  },
  {
   "cell_type": "markdown",
   "metadata": {
    "school_cell_uuid": "71d00ef1ac2f4663bcf50a699db6b350"
   },
   "source": [
    "## 파이썬 배포판(Distrubutions)"
   ]
  },
  {
   "cell_type": "markdown",
   "metadata": {
    "bootstrap": {
     "panel": {
      "class": "panel-danger",
      "heading": ""
     }
    },
    "collapsed": true,
    "school_cell_uuid": "9969ca2fb56f4099baa668d10f695e76"
   },
   "source": [
    "* 인터프리터 및 패키지(라이브러리), 패키지 관리 시스템, 콘솔(console), 강화된 인터프리터(enhanced interpreter) 등을 포함\n",
    "\n",
    "* 배포판의 종류\n",
    " * ActiveState ActivePython (commercial and community versions, including scientific computing modules)\n",
    " * pythonxy (Scientific-oriented Python Distribution based on Qt and Spyder)\n",
    " * winpython (WinPython is a portable scientific 파이썬 distribution for Windows)\n",
    " * Conceptive 파이썬 SDK (targets business, desktop and database applications)\n",
    " * Enthought Canopy (a commercial distribution for scientific computing)\n",
    " * PyIMSL Studio (a commercial distribution for numerical analysis – free for non-commercial use)\n",
    " * eGenix PyRun (a portable python runtime, complete with stdlib, frozen into a single 3.5MB - 13MB executable file)\n",
    " * Anaconda 파이썬 (a full python distribution for data management, analysis and visualization of large data sets)"
   ]
  },
  {
   "cell_type": "markdown",
   "metadata": {
    "school_cell_uuid": "4462ea7e3b814074a881dfe2ab38538e"
   },
   "source": [
    "파이썬은 기본 파이썬 인터프리터 이외에도 다양한 패키지(라이브러리)와 개발 도구를 함께 설치해 주는 배포판(distribution)으로 설치하는 것이 좋다. 다양한 배포판이 존재하면 사용하고자 하는 운영체제, 32/64 비트 지원 여부, 무료/상용 여부를 잘 고려하여 선택해야 한다."
   ]
  },
  {
   "cell_type": "markdown",
   "metadata": {
    "bootstrap": {
     "panel": {
      "class": "panel-danger",
      "heading": ""
     }
    },
    "collapsed": true,
    "school_cell_uuid": "fc7de8411741456cb1c181c1f777871f"
   },
   "source": [
    "## Continuum Anaconda \n",
    "\n",
    "* 가장 후발 주자 (Travis Oliphant 2012년 설립)\n",
    "* 2015년 현재 사실상의 표준(de facto standard)\n",
    "* 모든 플랫폼(Windows/Linux/Mac 32/64bit)에 대해 완벽한 패키지 제공\n",
    "* 모든 플랫폼에 대해 오픈 소스, 무료\n",
    "* 기업용 유지 보수 서비스 동시 제공\n",
    "* 기업 빅데이터용 특수 패키지 개발 및 판매"
   ]
  },
  {
   "cell_type": "markdown",
   "metadata": {
    "school_cell_uuid": "4f5ac78fbcfc4d07a3b7ec847cc8a066"
   },
   "source": [
    "현재 가장 널리 사용되는 파이썬 배포판은 Continuum사가 제작한 Anaconda이다. Anaconda는 여러가지 배포판 중에서 가장 늦게 발표되었음에도 불고하고 뛰어난 완성도로 인해 현재 가장 널리 사용되는 사실상의 표준(de facto standard) 배포판이 되었다.\n",
    " "
   ]
  },
  {
   "cell_type": "markdown",
   "metadata": {
    "bootstrap": {
     "panel": {
      "class": "panel-danger",
      "heading": ""
     }
    },
    "collapsed": true,
    "school_cell_uuid": "bc323ffc2f18495e927286c776b32491"
   },
   "source": [
    "## Anaconda 배포판 다운로드 및 설치\n",
    "* https://www.continuum.io/downloads\n",
    "* 파이썬 2.7, 64bit 추천\n",
    "* 원클릭 설치\n",
    "* http://conda.pydata.org/docs/get-started.html"
   ]
  },
  {
   "cell_type": "markdown",
   "metadata": {
    "school_cell_uuid": "d1c41e1b62b5476298ece7ccfa035a97"
   },
   "source": [
    "Anaconda 배포판을 설치하는 방법은 아주 쉽다. https://www.continuum.io/downloads 웹상이트에서 원하는 운영체제와 버전을 선택하여 다운로드 받은 뒤, 원클릭으로 설치할 수 있다. "
   ]
  },
  {
   "cell_type": "markdown",
   "metadata": {
    "bootstrap": {
     "panel": {
      "class": "panel-danger",
      "heading": ""
     }
    },
    "collapsed": true,
    "school_cell_uuid": "b6226c98c13b4b54a6968a3c20699510"
   },
   "source": [
    "## 설치 완료 \n",
    "* Windows 시스템의 경우\n",
    "<img src=\"https://datascienceschool.net/upfiles/1d8672490a8845f6a44af3c2a9036979.png\" style=\"width: 50%;\">"
   ]
  },
  {
   "cell_type": "markdown",
   "metadata": {
    "school_cell_uuid": "937d68f1af9f4c4d8b8af0d463ccf44f"
   },
   "source": [
    "설치가 완료되면 윈도우즈 운영체제의 경우 그림과 같이 Anaconda2(버전 2의 경우) 또는 Anaconda3(버전 3의 경우)이라는 아이콘 그룹이 생기고 그 아래에 다음과 같은 메뉴가 만들어진다.\n",
    "\n",
    "* Anaconda Prompt\n",
    "* IPython\n",
    "* Jupyter Notebook\n",
    "* Jupyter QTConsole\n",
    "* Spyder"
   ]
  },
  {
   "cell_type": "markdown",
   "metadata": {
    "school_cell_uuid": "d86edcfc25fa478aa7843fd87064ca59"
   },
   "source": [
    "## 설치 확인"
   ]
  },
  {
   "cell_type": "markdown",
   "metadata": {
    "school_cell_uuid": "306cee6a09094176a89f7a572df6a01a"
   },
   "source": [
    "일단 Anaconda Prompt를 실행하여 콘솔 창을 열고 그곳에다 다음과 같이 입력하여 설치를 확인한다."
   ]
  },
  {
   "cell_type": "markdown",
   "metadata": {
    "school_cell_uuid": "27cc5a6e9baa470699703f0112c1b27b"
   },
   "source": [
    "### conda 패키지 관리자"
   ]
  },
  {
   "cell_type": "markdown",
   "metadata": {
    "school_cell_uuid": "008852d5f880443989239fbec5c031a3"
   },
   "source": [
    "conda 는 Anaconda 배포판에서 파이썬 패키지(라이브러리)를 설치하고 관리하는 역할을 하는 프로그램이다. 원래 파이썬의 기본 패키지 관리자는 pip 라고 별도로 있지만 conda에서는 pip에 없는 다양한 기능을 제공하므로 사용이 편리하다."
   ]
  },
  {
   "cell_type": "code",
   "execution_count": 1,
   "metadata": {
    "collapsed": false,
    "school_cell_uuid": "ec183ce197b049e09097ad8217647b4a"
   },
   "outputs": [
    {
     "name": "stdout",
     "output_type": "stream",
     "text": [
      "conda 4.1.11\r\n"
     ]
    }
   ],
   "source": [
    "conda --version   # 버전 확인"
   ]
  },
  {
   "cell_type": "code",
   "execution_count": 3,
   "metadata": {
    "collapsed": false,
    "school_cell_uuid": "47aeac3d7ff44a3f8532846b2baec889",
    "scrolled": false
   },
   "outputs": [
    {
     "name": "stdout",
     "output_type": "stream",
     "text": [
      "# packages in environment at /home/dockeruser/anaconda2:\r\n",
      "#\r\n",
      "_nb_ext_conf              0.2.0                    py27_0  \r\n",
      "alabaster                 0.7.8                    py27_0  \r\n",
      "anaconda-client           1.4.0                    py27_0  \r\n",
      "anaconda                  custom                   py27_0  \r\n",
      "anaconda-navigator        1.2.1                    py27_0  \r\n",
      "arch                      3.2                       <pip>\r\n",
      "argcomplete               1.0.0                    py27_1  \r\n",
      "astropy                   1.2.1               np111py27_0  \r\n",
      "attrs                     15.2.0                   py27_0  \r\n",
      "babel                     2.3.3                    py27_0  \r\n",
      "backports                 1.0                      py27_0  \r\n",
      "backports_abc             0.4                      py27_0  \r\n",
      "bash_kernel               0.4.1                     <pip>\r\n",
      "bcolz                     0.12.1                    <pip>\r\n",
      "beautifulsoup4            4.4.1                    py27_0  \r\n",
      "bitarray                  0.8.1                    py27_0  \r\n",
      "blaze                     0.10.1                   py27_0  \r\n",
      "bokeh                     0.12.0                   py27_0  \r\n",
      "boto                      2.40.0                   py27_0  \r\n",
      "bottleneck                1.1.0               np111py27_0  \r\n",
      "bz2file                   0.98                     py27_0  \r\n",
      "cachetools                1.1.6                     <pip>\r\n",
      "cairo                     1.12.18                       6  \r\n",
      "cdecimal                  2.3                      py27_2  \r\n",
      "cffi                      1.6.0                    py27_0  \r\n",
      "chest                     0.2.3                    py27_0  \r\n",
      "click                     6.6                      py27_0  \r\n",
      "click-plugins             1.0.3                     <pip>\r\n",
      "cligj                     0.4.0                     <pip>\r\n",
      "cloudpickle               0.2.1                    py27_0  \r\n",
      "clyent                    1.2.2                    py27_0  \r\n",
      "colorama                  0.3.7                    py27_0  \r\n",
      "CommonMark                0.5.4                     <pip>\r\n",
      "conda                     4.1.11                   py27_0  \r\n",
      "conda-build               1.21.3                   py27_0  \r\n",
      "conda-env                 2.5.2                    py27_0  \r\n",
      "configobj                 5.0.6                    py27_0  \r\n",
      "configparser              3.5.0b2                  py27_1  \r\n",
      "contextlib2               0.5.3                    py27_0  \r\n",
      "cryptography              1.4                      py27_0  \r\n",
      "cssselect                 0.9.2                    py27_0  \r\n",
      "curl                      7.49.0                        0  \r\n",
      "cycler                    0.10.0                   py27_0  \r\n",
      "cyordereddict             1.0.0                     <pip>\r\n",
      "cython                    0.24                     py27_0  \r\n",
      "cytoolz                   0.8.0                    py27_0  \r\n",
      "dask                      0.10.0                   py27_0  \r\n",
      "datashape                 0.5.2                    py27_0  \r\n",
      "dateutil                  2.4.1                    py27_0  \r\n",
      "decorator                 4.0.10                   py27_0  \r\n",
      "descartes                 1.0.2                     <pip>\r\n",
      "dill                      0.2.5                    py27_0  \r\n",
      "docutils                  0.12                     py27_2  \r\n",
      "dynd-python               0.7.2                    py27_0  \r\n",
      "entrypoints               0.2.2                    py27_0  \r\n",
      "enum34                    1.1.6                    py27_0  \r\n",
      "et_xmlfile                1.0.1                    py27_0  \r\n",
      "fastcache                 1.0.2                    py27_1  \r\n",
      "feedparser                5.2.1                    py27_0  \r\n",
      "filterpy                  0.1.3                     <pip>\r\n",
      "Fiona                     1.7.0.post2               <pip>\r\n",
      "flask                     0.11.1                   py27_0  \r\n",
      "flask-cors                2.1.2                    py27_0  \r\n",
      "fontconfig                2.11.1                        6  \r\n",
      "FRB                       1.1.4                     <pip>\r\n",
      "fred                      3.1                       <pip>\r\n",
      "fredapi                   0.3.7                     <pip>\r\n",
      "freetype                  2.5.5                         1  \r\n",
      "funcsigs                  1.0.2                    py27_0  \r\n",
      "functools32               3.2.3.2                  py27_0  \r\n",
      "futures                   3.0.5                    py27_0  \r\n",
      "fysom                     2.1.2                     <pip>\r\n",
      "gensim                    0.12.4              np111py27_0  \r\n",
      "get_terminal_size         1.0.0                    py27_0  \r\n",
      "gevent                    1.1.1                    py27_0  \r\n",
      "greenlet                  0.4.10                   py27_0  \r\n",
      "grin                      1.2.1                    py27_3  \r\n",
      "h5py                      2.6.0               np111py27_2  \r\n",
      "hangulize                 0.0.7                     <pip>\r\n",
      "hdf5                      1.8.17                        0  \r\n",
      "heapdict                  1.0.0                    py27_1  \r\n",
      "hmmlearn                  0.2.0                     <pip>\r\n",
      "idna                      2.1                      py27_0  \r\n",
      "imagesize                 0.7.1                    py27_0  \r\n",
      "inflection                0.3.1                     <pip>\r\n",
      "intervaltree              2.1.0                     <pip>\r\n",
      "ipaddress                 1.0.16                   py27_0  \r\n",
      "ipykernel                 4.3.1                    py27_0  \r\n",
      "ipyparallel               5.1.1                    py27_0  \r\n",
      "ipython                   5.0.0                    py27_0  \r\n",
      "ipython_genutils          0.1.0                    py27_0  \r\n",
      "ipywidgets                4.1.1                    py27_0  \r\n",
      "itsdangerous              0.24                     py27_0  \r\n",
      "jbig                      2.1                           0  \r\n",
      "jdcal                     1.2                      py27_1  \r\n",
      "jedi                      0.9.0                    py27_1  \r\n",
      "jinja2                    2.8                      py27_1  \r\n",
      "joblib                    0.10.0                    <pip>\r\n",
      "jpeg                      8d                            1  \r\n",
      "JPype1                    0.6.1                     <pip>\r\n",
      "jsonschema                2.5.1                    py27_0  \r\n",
      "jupyter                   1.0.0                    py27_3  \r\n",
      "jupyter_client            4.3.0                    py27_0  \r\n",
      "jupyter_console           4.1.1                    py27_0  \r\n",
      "jupyter_core              4.1.0                    py27_0  \r\n",
      "Keras                     1.0.6                     <pip>\r\n",
      "konlpy                    0.4.4                     <pip>\r\n",
      "libdynd                   0.7.2                         0  \r\n",
      "libffi                    3.2.1                         0  \r\n",
      "libgfortran               3.0.0                         1  \r\n",
      "libpng                    1.6.22                        0  \r\n",
      "libsodium                 1.0.10                        0  \r\n",
      "libtiff                   4.0.6                         2  \r\n",
      "libxml2                   2.9.2                         0  \r\n",
      "libxslt                   1.1.28                        0  \r\n",
      "llvmlite                  0.11.0                   py27_0  \r\n",
      "locket                    0.2.0                    py27_1  \r\n",
      "Logbook                   1.0.0                     <pip>\r\n",
      "lxml                      3.6.0                    py27_0  \r\n",
      "markupsafe                0.23                     py27_2  \r\n",
      "matplotlib                1.5.1               np111py27_0  \r\n",
      "meld3                     1.0.2                    py27_0  \r\n",
      "mistune                   0.7.2                    py27_0  \r\n",
      "mkl                       11.3.3                        0  \r\n",
      "mkl-service               1.1.2                    py27_2  \r\n",
      "more-itertools            2.2                       <pip>\r\n",
      "mpmath                    0.19                     py27_1  \r\n",
      "multipledispatch          0.4.8                    py27_0  \r\n",
      "munch                     2.0.4                     <pip>\r\n",
      "nb_anacondacloud          1.1.0                    py27_0  \r\n",
      "nb_conda                  1.1.0                    py27_0  \r\n",
      "nb_conda_kernels          1.0.3                    py27_0  \r\n",
      "nbconvert                 4.2.0                    py27_0  \r\n",
      "nbformat                  4.0.1                    py27_0  \r\n",
      "nbpresent                 3.0.2                    py27_0  \r\n",
      "nbsphinx                  0.2.9                     <pip>\r\n",
      "ndg-httpsclient           0.4.2                     <pip>\r\n",
      "networkx                  1.11                     py27_0  \r\n",
      "nlpy                      0.0.9                     <pip>\r\n",
      "nltk                      3.2.1                    py27_0  \r\n",
      "nose                      1.3.7                    py27_1  \r\n",
      "notebook                  4.2.1                    py27_0  \r\n",
      "numba                     0.26.0              np111py27_0  \r\n",
      "numexpr                   2.6.0               np111py27_0  \r\n",
      "numpy                     1.11.1                   py27_0  \r\n",
      "numpydoc                  0.6.0                     <pip>\r\n",
      "odo                       0.5.0                    py27_1  \r\n",
      "openpyxl                  2.3.2                    py27_0  \r\n",
      "openssl                   1.0.2h                        1  \r\n",
      "pandas                    0.18.1              np111py27_0  \r\n",
      "pandas-datareader         0.2.1                     <pip>\r\n",
      "pandaSDMX                 0.4.1                     <pip>\r\n",
      "parsel                    1.0.2                    py27_0  \r\n",
      "partd                     0.3.4                    py27_0  \r\n",
      "patchelf                  0.9                           0  \r\n",
      "path.py                   8.2.1                    py27_0  \r\n",
      "pathlib2                  2.1.0                    py27_0  \r\n",
      "patsy                     0.4.1                    py27_0  \r\n",
      "pep8                      1.7.0                    py27_0  \r\n",
      "pexpect                   4.0.1                    py27_0  \r\n",
      "pickleshare               0.7.2                    py27_0  \r\n",
      "pillow                    3.2.0                    py27_1  \r\n",
      "pip                       8.1.2                    py27_0  \r\n",
      "pixman                    0.32.6                        0  \r\n",
      "ply                       3.8                      py27_0  \r\n",
      "prompt_toolkit            1.0.3                    py27_0  \r\n",
      "protobuf                  3.0.0b2                   <pip>\r\n",
      "psutil                    4.3.0                    py27_0  \r\n",
      "ptyprocess                0.5.1                    py27_0  \r\n",
      "pudb                      2016.2                    <pip>\r\n",
      "py                        1.4.31                   py27_0  \r\n",
      "pyasn1                    0.1.9                    py27_0  \r\n",
      "pyasn1-modules            0.0.8                    py27_0  \r\n",
      "pycairo                   1.10.0                   py27_0  \r\n",
      "pycosat                   0.6.1                    py27_1  \r\n",
      "pycountry                 1.20                      <pip>\r\n",
      "pycparser                 2.14                     py27_1  \r\n",
      "pycrypto                  2.6.1                    py27_4  \r\n",
      "pycurl                    7.43.0                   py27_0  \r\n",
      "pydispatcher              2.0.5                    py27_0  \r\n",
      "pydot                     1.2.2                     <pip>\r\n",
      "pydot-ng                  1.0.0.15                 py27_0  \r\n",
      "pyflakes                  1.2.3                    py27_0  \r\n",
      "pygments                  2.1.3                    py27_0  \r\n",
      "pymc                      2.3.6               np111py27_1  \r\n",
      "pymc3                     3.0                       <pip>\r\n",
      "pymongo                   3.0.3                    py27_0  \r\n",
      "pyopenssl                 0.16.0                   py27_0  \r\n",
      "pyparsing                 2.1.4                    py27_0  \r\n",
      "pyproj                    1.9.5.1                   <pip>\r\n",
      "pyqt                      4.11.4                   py27_3  \r\n",
      "pytables                  3.2.3.1             np111py27_0  \r\n",
      "pytest                    2.9.2                    py27_0  \r\n",
      "python                    2.7.12                        1  \r\n",
      "python-dateutil           2.5.3                    py27_0  \r\n",
      "pytz                      2016.4                   py27_0  \r\n",
      "pyyaml                    3.11                     py27_4  \r\n",
      "pyzmq                     15.3.0                   py27_0  \r\n",
      "qt                        4.8.7                         3  \r\n",
      "qtconsole                 4.2.1                    py27_0  \r\n",
      "qtpy                      1.0.2                    py27_0  \r\n",
      "Quandl                    3.0.1                     <pip>\r\n",
      "QuantLib-Python           1.8                       <pip>\r\n",
      "queuelib                  1.4.2                    py27_0  \r\n",
      "readline                  6.2                           2  \r\n",
      "recommonmark              0.4.0                     <pip>\r\n",
      "redis                     3.2.0                         0  \r\n",
      "redis-py                  2.10.5                   py27_0  \r\n",
      "regex                     2016.7.21                 <pip>\r\n",
      "requests                  2.10.0                   py27_0  \r\n",
      "requests-file             1.4                       <pip>\r\n",
      "rope                      0.9.4                    py27_1  \r\n",
      "rpy2                      2.8.2                     <pip>\r\n",
      "Rtree                     0.8.2                     <pip>\r\n",
      "ruamel_yaml               0.11.7                   py27_0  \r\n",
      "scikit-image              0.12.3              np111py27_1  \r\n",
      "scikit-learn              0.17.1              np111py27_2  \r\n",
      "scipy                     0.18.0              np111py27_0  \r\n",
      "scrapy                    1.1.1                    py27_0  \r\n",
      "seaborn                   0.7.0                    py27_0  \r\n",
      "service_identity          16.0.0                   py27_0  \r\n",
      "setuptools                23.0.0                   py27_0  \r\n",
      "Shapely                   1.5.16                    <pip>\r\n",
      "simplegeneric             0.8.1                    py27_1  \r\n",
      "singledispatch            3.4.0.3                  py27_0  \r\n",
      "sip                       4.16.9                   py27_0  \r\n",
      "six                       1.10.0                   py27_0  \r\n",
      "smart_open                1.3.3                    py27_0  \r\n",
      "snowballstemmer           1.2.1                    py27_0  \r\n",
      "sockjs-tornado            1.0.3                    py27_0  \r\n",
      "sortedcontainers          1.5.3                     <pip>\r\n",
      "sphinx                    1.4.1                    py27_0  \r\n",
      "sphinx_rtd_theme          0.1.9                    py27_0  \r\n",
      "spyder                    2.3.9                    py27_0  \r\n",
      "sqlalchemy                1.0.13                   py27_0  \r\n",
      "sqlite                    3.13.0                        0  \r\n",
      "ssl_match_hostname        3.4.0.2                  py27_1  \r\n",
      "statsmodels               0.6.1               np111py27_1  \r\n",
      "statsmodels               0.8.0                     <pip>\r\n",
      "supervisor                3.3.0                    py27_0  \r\n",
      "sympy                     1.0                      py27_0  \r\n",
      "TA-Lib                    0.4.9                     <pip>\r\n",
      "tensorflow                0.8.0                     <pip>\r\n",
      "terminado                 0.6                      py27_0  \r\n",
      "Theano                    0.9.0.dev2                <pip>\r\n",
      "tk                        8.5.18                        0  \r\n",
      "toolz                     0.8.0                    py27_0  \r\n",
      "tornado                   4.3                      py27_1  \r\n",
      "traitlets                 4.2.1                    py27_0  \r\n",
      "twisted                   16.3.0                   py27_0  \r\n",
      "unicodecsv                0.14.1                   py27_0  \r\n",
      "unidecode                 0.04.19                  py27_0  \r\n",
      "urwid                     1.3.1                     <pip>\r\n",
      "virtualenv                13.0.1                   py27_0  \r\n",
      "w3lib                     1.14.3                   py27_0  \r\n",
      "wbdata                    0.2.7                     <pip>\r\n",
      "wbpy                      2.0.1                     <pip>\r\n",
      "wcwidth                   0.1.7                    py27_0  \r\n",
      "werkzeug                  0.11.10                  py27_0  \r\n",
      "wheel                     0.29.0                   py27_0  \r\n",
      "xlrd                      1.0.0                    py27_0  \r\n",
      "xlsxwriter                0.9.2                    py27_0  \r\n",
      "xlwt                      1.1.2                    py27_0  \r\n",
      "xz                        5.2.2                         0  \r\n",
      "yaml                      0.1.6                         0  \r\n",
      "zeromq                    4.1.4                         0  \r\n",
      "zipline                   1.0.1                     <pip>\r\n",
      "zlib                      1.2.8                         3  \r\n",
      "zope                      1.0                      py27_0  \r\n",
      "zope.interface            4.2.0                    py27_1  \r\n"
     ]
    }
   ],
   "source": [
    "conda list  # 설치된 패키지 확인"
   ]
  },
  {
   "cell_type": "code",
   "execution_count": 4,
   "metadata": {
    "collapsed": false,
    "school_cell_uuid": "b90b6244c83e4c74a509ebb7695c8526"
   },
   "outputs": [
    {
     "name": "stdout",
     "output_type": "stream",
     "text": [
      "Fetching package metadata .......\r\n",
      "python                       1.0.1                         0  defaults        \r\n",
      "                             2.6.8                         1  defaults        \r\n",
      "                             2.6.8                         2  defaults        \r\n",
      "                             2.6.8                         3  defaults        \r\n",
      "                             2.6.8                         4  defaults        \r\n",
      "                             2.6.8                         5  defaults        \r\n",
      "                             2.6.8                         6  defaults        \r\n",
      "                             2.6.8                         7  defaults        \r\n",
      "                             2.6.9                         0  defaults        \r\n",
      "                             2.6.9                         1  defaults        \r\n",
      "                             2.7.3                         2  defaults        \r\n",
      "                             2.7.3                         3  defaults        \r\n",
      "                             2.7.3                         4  defaults        \r\n",
      "                             2.7.3                         5  defaults        \r\n",
      "                             2.7.3                         6  defaults        \r\n",
      "                             2.7.3                         7  defaults        \r\n",
      "                             2.7.4                         0  defaults        \r\n",
      "                             2.7.5                         0  defaults        \r\n",
      "                             2.7.5                         1  defaults        \r\n",
      "                             2.7.5                         2  defaults        \r\n",
      "                             2.7.5                         3  defaults        \r\n",
      "                             2.7.6                         0  defaults        \r\n",
      "                             2.7.6                         1  defaults        \r\n",
      "                             2.7.6                         2  defaults        \r\n",
      "                             2.7.7                         0  defaults        \r\n",
      "                             2.7.7                         2  defaults        \r\n",
      "                             2.7.8                         0  defaults        \r\n",
      "                             2.7.8                         1  defaults        \r\n",
      "                             2.7.9                         0  defaults        \r\n",
      "                             2.7.9                         1  defaults        \r\n",
      "                             2.7.9                        d1  defaults        [debug]\r\n",
      "                             2.7.9                         2  defaults        \r\n",
      "                             2.7.9                        d2  defaults        [debug]\r\n",
      "                             2.7.9                         3  defaults        \r\n",
      "                             2.7.10                        0  defaults        \r\n",
      "                             2.7.10                       d0  defaults        [debug]\r\n",
      "                             2.7.10                        1  defaults        \r\n",
      "                             2.7.10                        2  defaults        \r\n",
      "                             2.7.11                        0  defaults        \r\n",
      "                             2.7.11                       d0  defaults        [debug]\r\n",
      "                             2.7.11                        5  defaults        \r\n",
      "                             2.7.12                        0  defaults        \r\n",
      "                          *  2.7.12                        1  defaults        \r\n",
      "                             3.3.0                      pro0  defaults        \r\n",
      "                             3.3.0                      pro1  defaults        \r\n",
      "                             3.3.0                         2  defaults        \r\n",
      "                             3.3.0                         3  defaults        \r\n",
      "                             3.3.0                         4  defaults        \r\n",
      "                             3.3.1                         0  defaults        \r\n",
      "                             3.3.2                         0  defaults        \r\n",
      "                             3.3.2                         1  defaults        \r\n",
      "                             3.3.3                         0  defaults        \r\n",
      "                             3.3.4                         0  defaults        \r\n",
      "                             3.3.5                         0  defaults        \r\n",
      "                             3.3.5                         1  defaults        \r\n",
      "                             3.3.5                         2  defaults        \r\n",
      "                             3.3.5                         3  defaults        \r\n",
      "                             3.3.5                         4  defaults        \r\n",
      "                             3.4.0                         0  defaults        \r\n",
      "                             3.4.1                         0  defaults        \r\n",
      "                             3.4.1                         1  defaults        \r\n",
      "                             3.4.1                         2  defaults        \r\n",
      "                             3.4.1                         3  defaults        \r\n",
      "                             3.4.1                         4  defaults        \r\n",
      "                             3.4.2                         0  defaults        \r\n",
      "                             3.4.3                         0  defaults        \r\n",
      "                             3.4.3                         1  defaults        \r\n",
      "                             3.4.3                         2  defaults        \r\n",
      "                             3.4.4                         0  defaults        \r\n",
      "                             3.4.4                         5  defaults        \r\n",
      "                             3.4.5                         0  defaults        \r\n",
      "                             3.5.0rc4                      0  defaults        \r\n",
      "                             3.5.0                         0  defaults        \r\n",
      "                             3.5.0                         1  defaults        \r\n",
      "                             3.5.1                         0  defaults        \r\n",
      "                             3.5.1                         5  defaults        \r\n",
      "                             3.5.2                         0  defaults        \r\n"
     ]
    }
   ],
   "source": [
    "conda search --full-name python  # 설치 가능한 파이썬 버전 확인"
   ]
  },
  {
   "cell_type": "markdown",
   "metadata": {
    "school_cell_uuid": "c98644a3af294041937f08528720d1fb"
   },
   "source": [
    "### 파이썬 인터프리터 동작 확인"
   ]
  },
  {
   "cell_type": "markdown",
   "metadata": {
    "school_cell_uuid": "9ed882c016b640a08b87d9025c6e0e39"
   },
   "source": [
    "Anaconda Prompt를 실행하여 열린 콘솔 창에 다음과 같이 입력하여 기본 파이썬 인터프리터를 실행한다."
   ]
  },
  {
   "cell_type": "markdown",
   "metadata": {
    "school_cell_uuid": "f50ad6740b8a4be4948e45c38dafd80c"
   },
   "source": [
    "```\n",
    "$ python\n",
    "Python 2.7.11 |Anaconda custom (64-bit)| (default, Dec  6 2015, 18:08:32)\n",
    "[GCC 4.4.7 20120313 (Red Hat 4.4.7-1)] on linux2\n",
    "Type \"help\", \"copyright\", \"credits\" or \"license\" for more information.\n",
    "Anaconda is brought to you by Continuum Analytics.\n",
    "Please check out: http://continuum.io/thanks and https://anaconda.org\n",
    ">>>\n",
    ">>> exit()\n",
    "```"
   ]
  },
  {
   "cell_type": "markdown",
   "metadata": {
    "school_cell_uuid": "bd85616ef63f49c6af61cc8b8e742a4b"
   },
   "source": [
    "### IPython 콘솔 동작 확인"
   ]
  },
  {
   "cell_type": "markdown",
   "metadata": {
    "school_cell_uuid": "d21be89e83934a36b7829218687390c2"
   },
   "source": [
    "같은 콘솔 창에 다음과 같이 입력하여 기능이 강화된 파이썬 인터프리터인 IPython을 실행한다."
   ]
  },
  {
   "cell_type": "markdown",
   "metadata": {
    "school_cell_uuid": "ae85131ab09b4375aa7924f22b82e468"
   },
   "source": [
    "```\n",
    "$ ipython\n",
    "파이썬 2.7.11 |Anaconda custom (64-bit)| (default, Dec  6 2015, 18:08:32)\n",
    "Type \"copyright\", \"credits\" or \"license\" for more information.\n",
    "\n",
    "IPython 4.1.2 -- An enhanced Interactive 파이썬.\n",
    "?         -> Introduction and overview of IPython's features.\n",
    "%quickref -> Quick reference.\n",
    "help      -> 파이썬's own help system.\n",
    "object?   -> Details about 'object', use 'object??' for extra details.\n",
    "\n",
    "In [1]:\n",
    "\n",
    "In [1]: exit\n",
    "\n",
    "```"
   ]
  },
  {
   "cell_type": "markdown",
   "metadata": {
    "school_cell_uuid": "789adef27e3a4feea8cd542dabcca0e1"
   },
   "source": [
    "### Jupyter QTConsole  동작 확인"
   ]
  },
  {
   "cell_type": "markdown",
   "metadata": {
    "school_cell_uuid": "f2dd9fe1561d4f779a6f13d2de1d5915"
   },
   "source": [
    "Jupyter QTConsole은 기본 파이썬 인터프리터나 IPython과 달리 별도의 윈도우를 가지는 GUI 어플리케이션으로 메뉴에서 Jupyter QTConsole를 선택하여 실행시킨다."
   ]
  },
  {
   "cell_type": "markdown",
   "metadata": {
    "school_cell_uuid": "8b9b63d4d0244bceb7516db71f74ccdd"
   },
   "source": [
    "윈도우즈에서는 다음과 같이 실행\n",
    "\n",
    "* 모든 프로그램 > Anaconda2 > Jupyter QTConsole \n",
    "\n",
    "또는 콘솔에서 다음과 같이 입력\n",
    "\n",
    "```\n",
    "$ jupyter qtconsole &\n",
    "```\n",
    "(X-window가 없고 콘솔만 지원하는 리눅스 서버 환경에서는 실행되지 않음)\n",
    "\n",
    "\n",
    "\n"
   ]
  },
  {
   "cell_type": "markdown",
   "metadata": {
    "school_cell_uuid": "76600a3e70d54f9a83e0e4c96e62d8a9"
   },
   "source": [
    "<img src=\"https://datascienceschool.net/upfiles/1d150e89cfd54b4d9352d0c3bd849ce9.png\" style=\"width:100%;\">"
   ]
  },
  {
   "cell_type": "markdown",
   "metadata": {
    "school_cell_uuid": "789adef27e3a4feea8cd542dabcca0e1"
   },
   "source": [
    "### Jupyter Notebook  동작 확인"
   ]
  },
  {
   "cell_type": "markdown",
   "metadata": {
    "school_cell_uuid": "09070e1d5558493ca17af474f62d0cc8"
   },
   "source": [
    "Jupyter Notebook은 웹 브라우저를 사용하여 문서와 코드를 동시에 지원하는 개발 도구이다. 로컬 컴퓨터에서만 접근할 수 있는 웹서버의 형태로 구현되어 있다."
   ]
  },
  {
   "cell_type": "markdown",
   "metadata": {
    "school_cell_uuid": "ea7f759be4aa4031a3ca6e4e771336ed"
   },
   "source": [
    "윈도우즈에서는 다음과 같이 실행\n",
    "\n",
    "* 모든 프로그램 > Anaconda2 > Jupyter Notebook \n",
    "\n",
    "또는 콘솔에서 다음과 같이 입력\n",
    "\n",
    "```\n",
    "$ jupyter qtconsole &\n",
    "```\n",
    "(X-window가 없고 콘솔만 지원하는 리눅스 서버 환경에서는 실행되지 않음)\n",
    "\n",
    "\n",
    "\n"
   ]
  },
  {
   "cell_type": "markdown",
   "metadata": {
    "school_cell_uuid": "a03f1e6d0ed64448ab2af9e128f5b7f8"
   },
   "source": [
    "메뉴에서 Jupyter Notebook 을 실행하면 웹서버 프로세스가 돌아가는 콘솔창이 실행되고 동시에 http://localhost:8888/tree 주소로 웹 브라우저가 가동된다.\n",
    "\n",
    "웹서버 프로세스가 돌아가는 콘솔창을 죽이면 Jupyter Notebook 웹서버가 중지된다."
   ]
  },
  {
   "cell_type": "markdown",
   "metadata": {
    "school_cell_uuid": "76600a3e70d54f9a83e0e4c96e62d8a9"
   },
   "source": [
    "<img src=\"https://datascienceschool.net/upfiles/a54ef19c230b446cb9844c5b54a7f465.png\" style=\"width:100%;\">"
   ]
  }
 ],
 "metadata": {
  "celltoolbar": "Edit Metadata",
  "kernelspec": {
   "display_name": "Bash",
   "language": "bash",
   "name": "bash"
  },
  "language_info": {
   "codemirror_mode": "shell",
   "file_extension": ".sh",
   "mimetype": "text/x-sh",
   "name": "bash"
  }
 },
 "nbformat": 4,
 "nbformat_minor": 0
}