{
 "cells": [
  {
   "cell_type": "markdown",
   "metadata": {
    "school_cell_uuid": "b11d0fb2f4d941289edc174c8e49759a"
   },
   "source": [
    "# 데이터 분석용 Python 라이브러리 소개"
   ]
  },
  {
   "cell_type": "markdown",
   "metadata": {
    "school_cell_uuid": "02713cae5445434d8298166fb1060715"
   },
   "source": [
    "* NumPy\n",
    "\n",
    "  * 수치해석 라이브러리\n",
    "  * http://www.numpy.org/\n",
    "  * 2006, Travis Oliphant"
   ]
  },
  {
   "cell_type": "markdown",
   "metadata": {
    "school_cell_uuid": "4b229d2b57b74e888ba6ae882da4c9c2"
   },
   "source": [
    "* SciPy\n",
    "\n",
    "  * 과학기술 함수 라이브러리\n",
    "  * http://www.scipy.org/\n",
    "  * 2001, Travis Oliphant, Pearu Peterson"
   ]
  },
  {
   "cell_type": "markdown",
   "metadata": {
    "school_cell_uuid": "80bf267630274d2ab00938f91091dc79"
   },
   "source": [
    "* SymPy\n",
    "\n",
    "  * 심볼릭 연산 라이브러리\n",
    "  * http://www.sympy.org/\n",
    "  * 2006, Ondřej Čertík"
   ]
  },
  {
   "cell_type": "markdown",
   "metadata": {
    "school_cell_uuid": "493aa35ba040433d942b13100cdfa8d9"
   },
   "source": [
    "* Matplotlib\n",
    "\n",
    "  * 시각화 라이브러리, matlab 플롯 기능 구현\n",
    "  * matplotlib.org/\n",
    "  * 2002, John D. Hunter"
   ]
  },
  {
   "cell_type": "markdown",
   "metadata": {
    "school_cell_uuid": "9348355ca1534a56a06257a111ec2df8"
   },
   "source": [
    "* seaborn\n",
    "\n",
    "  * 시각화 라이브러리. 통계용 차트 및 컬러맵 추가\n",
    "  * https://stanford.edu/~mwaskom/software/seaborn/\n",
    "  * 2012, Michael Waskom"
   ]
  },
  {
   "cell_type": "markdown",
   "metadata": {
    "school_cell_uuid": "bc3eeb24bb0f459f8a8567539ce6a09d"
   },
   "source": [
    "* bokeh\n",
    "\n",
    "  * 시각화 라이브러리. 웹상에서 인터액티브 플롯 구현\n",
    "  * http://bokeh.pydata.org\n",
    "  * 2012, Peter Wang"
   ]
  },
  {
   "cell_type": "markdown",
   "metadata": {
    "school_cell_uuid": "43d9e86077bd41f59827a85d126b6a51"
   },
   "source": [
    "* pandas\n",
    "\n",
    "  * 데이터 분석 라이브러리. R의 data.frame 자료구조 구현\n",
    "  * http://pandas.pydata.org/\n",
    "  * 2008, Wes McKinney (AQR Capital Management)"
   ]
  },
  {
   "cell_type": "markdown",
   "metadata": {
    "school_cell_uuid": "096a6de306264f1cafb83345b43ce85e"
   },
   "source": [
    "* statsmodels\n",
    "\n",
    "  * 다변량 회귀 분석 및 시계열 분석 라이브러리\n",
    "  * http://statsmodels.sourceforge.net/stable/\n",
    "  * 2009, Skipper Seabold"
   ]
  },
  {
   "cell_type": "markdown",
   "metadata": {
    "school_cell_uuid": "e0ddfb2f2c39426a94389646c3cd026d"
   },
   "source": [
    "* scikit-learn\n",
    "\n",
    "  * 머신러닝 라이브러리\n",
    "  * http://scikit-learn.org\n",
    "  * 2007, David Cournapeau"
   ]
  }
 ],
 "metadata": {
  "kernelspec": {
   "display_name": "Python 2",
   "language": "python",
   "name": "python2"
  },
  "language_info": {
   "codemirror_mode": {
    "name": "ipython",
    "version": 2
   },
   "file_extension": ".py",
   "mimetype": "text/x-python",
   "name": "python",
   "nbconvert_exporter": "python",
   "pygments_lexer": "ipython2",
   "version": "2.7.11"
  }
 },
 "nbformat": 4,
 "nbformat_minor": 0
}