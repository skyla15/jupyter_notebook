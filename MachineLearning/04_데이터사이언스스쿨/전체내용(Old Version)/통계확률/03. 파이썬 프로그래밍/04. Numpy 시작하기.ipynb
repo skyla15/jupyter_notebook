{
 "cells": [
  {
   "cell_type": "markdown",
   "metadata": {
    "school_cell_uuid": "e99196032b2045179db7db7519aa8c2f"
   },
   "source": [
    "# NumPy\n"
   ]
  },
  {
   "cell_type": "markdown",
   "metadata": {
    "bootstrap": {
     "panel": {
      "class": "panel-danger",
      "heading": "요약: NumPy"
     }
    },
    "school_cell_uuid": "ab6701fcb5cb44728067474edabe6641"
   },
   "source": [
    "## NumPy란\n",
    "\n",
    "* 수치해석용 Python 라이브러리\n",
    " * C로 구현 (파이썬용 C라이브러리)\n",
    " * BLAS/LAPACK 기반\n",
    " * 빠른 수치 계산을 위한 Structured Array 제공\n",
    "* Home\n",
    " * http://www.numpy.org/\n",
    "* Documentation\n",
    " * http://docs.scipy.org/doc/\n",
    "* Tutorial\n",
    " * http://www.scipy-lectures.org/intro/numpy/index.html\n",
    " * https://docs.scipy.org/doc/numpy-dev/user/quickstart.html"
   ]
  },
  {
   "cell_type": "markdown",
   "metadata": {
    "school_cell_uuid": "1a933e536ad84319a55d1d8102fe9a61"
   },
   "source": [
    "## NumPy Array"
   ]
  },
  {
   "cell_type": "code",
   "execution_count": 1,
   "metadata": {
    "collapsed": false,
    "school_cell_uuid": "cd52af5cfe234857bd33ebe4d17c6cfa"
   },
   "outputs": [
    {
     "data": {
      "text/plain": [
       "array([0, 1, 2, 3])"
      ]
     },
     "execution_count": 1,
     "metadata": {},
     "output_type": "execute_result"
    }
   ],
   "source": [
    "import numpy as np\n",
    "a = np.array([0, 1, 2, 3])\n",
    "a"
   ]
  },
  {
   "cell_type": "markdown",
   "metadata": {
    "bootstrap": {
     "panel": {
      "class": "panel-danger",
      "heading": "요약: Python list와 NumPy array의 차이"
     }
    },
    "school_cell_uuid": "5bd68cde29a04479b9cff5eee695a3d1"
   },
   "source": [
    "### Python List vs NumPy Array \n",
    "\n",
    "* Python List\n",
    " * 여러가지 타입의 원소\n",
    " * 메모리 용량이 크고 속도가 느림\n",
    " * nesting 가능 ( 내포 )\n",
    " * 전체 연산 불가\n",
    "* NumPy Array\n",
    " * 동일 타입의 원소\n",
    " * 메모리 최적화, 계산 속도 향상\n",
    " * 크기(dimension)이 명확하게 정의 \n",
    " * 전체 연산 가능"
   ]
  },
  {
   "cell_type": "code",
   "execution_count": 3,
   "metadata": {
    "collapsed": false,
    "school_cell_uuid": "bb4000c45be043a8a2ffdbcc32766e17"
   },
   "outputs": [
    {
     "name": "stdout",
     "output_type": "stream",
     "text": [
      "1000 loops, best of 3: 1.59 ms per loop\n"
     ]
    }
   ],
   "source": [
    "L = range(1000)\n",
    "%timeit [i**2 for i in L]"
   ]
  },
  {
   "cell_type": "code",
   "execution_count": 4,
   "metadata": {
    "collapsed": false,
    "school_cell_uuid": "c93542a4cb034004b3457e387c87a542",
    "scrolled": true
   },
   "outputs": [
    {
     "name": "stdout",
     "output_type": "stream",
     "text": [
      "The slowest run took 48.93 times longer than the fastest. This could mean that an intermediate result is being cached.\n",
      "100000 loops, best of 3: 7.05 µs per loop\n"
     ]
    }
   ],
   "source": [
    "a = np.arange(1000)\n",
    "%timeit a**2"
   ]
  },
  {
   "cell_type": "code",
   "execution_count": 4,
   "metadata": {
    "collapsed": false,
    "school_cell_uuid": "de84dbad2d394ae9b3aefbb73b1d1bd0"
   },
   "outputs": [
    {
     "data": {
      "text/plain": [
       "[0, 1, 2]"
      ]
     },
     "execution_count": 4,
     "metadata": {},
     "output_type": "execute_result"
    }
   ],
   "source": [
    "L = range(3)\n",
    "L"
   ]
  },
  {
   "cell_type": "code",
   "execution_count": 5,
   "metadata": {
    "collapsed": false,
    "school_cell_uuid": "7937f6d14ca44c5ca0b66d1ff1603e31"
   },
   "outputs": [
    {
     "data": {
      "text/plain": [
       "[0, 1, 2, 0, 1, 2]"
      ]
     },
     "execution_count": 5,
     "metadata": {},
     "output_type": "execute_result"
    }
   ],
   "source": [
    "L * 2"
   ]
  },
  {
   "cell_type": "code",
   "execution_count": 6,
   "metadata": {
    "collapsed": false,
    "school_cell_uuid": "e7fc9bf5cb0b473a956caed52d8f40d6"
   },
   "outputs": [
    {
     "data": {
      "text/plain": [
       "[0, 2, 4]"
      ]
     },
     "execution_count": 6,
     "metadata": {},
     "output_type": "execute_result"
    }
   ],
   "source": [
    "[i * 2 for i in L]"
   ]
  },
  {
   "cell_type": "code",
   "execution_count": 7,
   "metadata": {
    "collapsed": false,
    "school_cell_uuid": "5f3b1286208e47e38f879f44961b2a85"
   },
   "outputs": [
    {
     "data": {
      "text/plain": [
       "array([0, 1, 2])"
      ]
     },
     "execution_count": 7,
     "metadata": {},
     "output_type": "execute_result"
    }
   ],
   "source": [
    "a = np.arange(3)\n",
    "a"
   ]
  },
  {
   "cell_type": "code",
   "execution_count": 8,
   "metadata": {
    "collapsed": false,
    "school_cell_uuid": "3fbac431657447b28b7abecc6f7a9fa8"
   },
   "outputs": [
    {
     "data": {
      "text/plain": [
       "array([0, 2, 4])"
      ]
     },
     "execution_count": 8,
     "metadata": {},
     "output_type": "execute_result"
    }
   ],
   "source": [
    "a * 2"
   ]
  },
  {
   "cell_type": "markdown",
   "metadata": {
    "school_cell_uuid": "7898d3612024463db00554e6f26f8765"
   },
   "source": [
    "### Create Array (1D)"
   ]
  },
  {
   "cell_type": "code",
   "execution_count": 9,
   "metadata": {
    "collapsed": false,
    "school_cell_uuid": "54ca919bedd94c2a86f14f1a2258ca7f"
   },
   "outputs": [
    {
     "data": {
      "text/plain": [
       "array([0, 1, 2, 3])"
      ]
     },
     "execution_count": 9,
     "metadata": {},
     "output_type": "execute_result"
    }
   ],
   "source": [
    "a = np.array([0, 1, 2, 3])\n",
    "a"
   ]
  },
  {
   "cell_type": "code",
   "execution_count": 10,
   "metadata": {
    "collapsed": false,
    "school_cell_uuid": "b9d47846d7164760b03789302564c67d"
   },
   "outputs": [
    {
     "data": {
      "text/plain": [
       "1"
      ]
     },
     "execution_count": 10,
     "metadata": {},
     "output_type": "execute_result"
    }
   ],
   "source": [
    "a.ndim"
   ]
  },
  {
   "cell_type": "code",
   "execution_count": 11,
   "metadata": {
    "collapsed": false,
    "school_cell_uuid": "1f278d9a68994458bc07b2127d6c5a8c"
   },
   "outputs": [
    {
     "data": {
      "text/plain": [
       "(4,)"
      ]
     },
     "execution_count": 11,
     "metadata": {},
     "output_type": "execute_result"
    }
   ],
   "source": [
    "a.shape"
   ]
  },
  {
   "cell_type": "code",
   "execution_count": 12,
   "metadata": {
    "collapsed": false,
    "school_cell_uuid": "aef131ff44be41d5bda65eb8a6b8d34a"
   },
   "outputs": [
    {
     "data": {
      "text/plain": [
       "4"
      ]
     },
     "execution_count": 12,
     "metadata": {},
     "output_type": "execute_result"
    }
   ],
   "source": [
    "len(a)"
   ]
  },
  {
   "cell_type": "markdown",
   "metadata": {
    "school_cell_uuid": "30191307c1584489b24210b5f9c86190"
   },
   "source": [
    "### Create Array (2D)"
   ]
  },
  {
   "cell_type": "code",
   "execution_count": 13,
   "metadata": {
    "collapsed": false,
    "school_cell_uuid": "5f0b2d70b73c4427b74b9db339e326ee"
   },
   "outputs": [
    {
     "data": {
      "text/plain": [
       "array([[0, 1, 2],\n",
       "       [3, 4, 5]])"
      ]
     },
     "execution_count": 13,
     "metadata": {},
     "output_type": "execute_result"
    }
   ],
   "source": [
    "b = np.array([[0, 1, 2], \n",
    "              [3, 4, 5]])    # 2 x 3 array\n",
    "b"
   ]
  },
  {
   "cell_type": "code",
   "execution_count": 14,
   "metadata": {
    "collapsed": false,
    "school_cell_uuid": "0d95a00e897f45138d700226e58fa6e5"
   },
   "outputs": [
    {
     "data": {
      "text/plain": [
       "2"
      ]
     },
     "execution_count": 14,
     "metadata": {},
     "output_type": "execute_result"
    }
   ],
   "source": [
    "b.ndim"
   ]
  },
  {
   "cell_type": "code",
   "execution_count": 15,
   "metadata": {
    "collapsed": false,
    "school_cell_uuid": "889945012bfb4d8a9447e0c52471b233"
   },
   "outputs": [
    {
     "data": {
      "text/plain": [
       "(2, 3)"
      ]
     },
     "execution_count": 15,
     "metadata": {},
     "output_type": "execute_result"
    }
   ],
   "source": [
    "b.shape"
   ]
  },
  {
   "cell_type": "code",
   "execution_count": 16,
   "metadata": {
    "collapsed": false,
    "school_cell_uuid": "a62033568c3e42eba3eb8f9aa96b1c1b"
   },
   "outputs": [
    {
     "data": {
      "text/plain": [
       "2"
      ]
     },
     "execution_count": 16,
     "metadata": {},
     "output_type": "execute_result"
    }
   ],
   "source": [
    "len(b)"
   ]
  },
  {
   "cell_type": "code",
   "execution_count": 17,
   "metadata": {
    "collapsed": false,
    "school_cell_uuid": "2361fad6196a46f3b90f9d3b70f89faa"
   },
   "outputs": [
    {
     "data": {
      "text/plain": [
       "array([[0],\n",
       "       [1],\n",
       "       [2],\n",
       "       [3]])"
      ]
     },
     "execution_count": 17,
     "metadata": {},
     "output_type": "execute_result"
    }
   ],
   "source": [
    "a2 = np.array([[0, 1, 2, 3]]).T\n",
    "a2"
   ]
  },
  {
   "cell_type": "code",
   "execution_count": 18,
   "metadata": {
    "collapsed": false,
    "school_cell_uuid": "f48b494577e54080923072fc59c8d426"
   },
   "outputs": [
    {
     "data": {
      "text/plain": [
       "array([[0],\n",
       "       [1],\n",
       "       [2],\n",
       "       [3]])"
      ]
     },
     "execution_count": 18,
     "metadata": {},
     "output_type": "execute_result"
    }
   ],
   "source": [
    "a3 = np.array([[0], [1], [2], [3]])\n",
    "a3"
   ]
  },
  {
   "cell_type": "code",
   "execution_count": 19,
   "metadata": {
    "collapsed": false,
    "school_cell_uuid": "a86a74ae0fdc4223bae363b3863130e1"
   },
   "outputs": [
    {
     "data": {
      "text/plain": [
       "(4, 1)"
      ]
     },
     "execution_count": 19,
     "metadata": {},
     "output_type": "execute_result"
    }
   ],
   "source": [
    "a2.shape"
   ]
  },
  {
   "cell_type": "markdown",
   "metadata": {
    "school_cell_uuid": "9fcf7bf224cf42d8899b6c6c4f1596b3"
   },
   "source": [
    "### Create Array (3D)"
   ]
  },
  {
   "cell_type": "code",
   "execution_count": 20,
   "metadata": {
    "collapsed": false,
    "school_cell_uuid": "d0bfd4d1f49f422287b9b633dfc34865"
   },
   "outputs": [
    {
     "data": {
      "text/plain": [
       "array([[[1, 2],\n",
       "        [3, 4]],\n",
       "\n",
       "       [[5, 6],\n",
       "        [7, 8]]])"
      ]
     },
     "execution_count": 20,
     "metadata": {},
     "output_type": "execute_result"
    }
   ],
   "source": [
    "c = np.array([[[1,2], \n",
    "               [3,4]], \n",
    "              [[5,6], \n",
    "               [7,8]]])\n",
    "c"
   ]
  },
  {
   "cell_type": "code",
   "execution_count": 21,
   "metadata": {
    "collapsed": false,
    "school_cell_uuid": "21089a616ada4670b7ac66b95e683786"
   },
   "outputs": [
    {
     "data": {
      "text/plain": [
       "3"
      ]
     },
     "execution_count": 21,
     "metadata": {},
     "output_type": "execute_result"
    }
   ],
   "source": [
    "c.ndim"
   ]
  },
  {
   "cell_type": "code",
   "execution_count": 22,
   "metadata": {
    "collapsed": false,
    "school_cell_uuid": "e25c347431614694866a2c5541ad2b26"
   },
   "outputs": [
    {
     "data": {
      "text/plain": [
       "(2, 2, 2)"
      ]
     },
     "execution_count": 22,
     "metadata": {},
     "output_type": "execute_result"
    }
   ],
   "source": [
    "c.shape"
   ]
  },
  {
   "cell_type": "code",
   "execution_count": 23,
   "metadata": {
    "collapsed": false,
    "school_cell_uuid": "29985650e78b467e9891b344a42f3a5d"
   },
   "outputs": [
    {
     "data": {
      "text/plain": [
       "2"
      ]
     },
     "execution_count": 23,
     "metadata": {},
     "output_type": "execute_result"
    }
   ],
   "source": [
    "len(c)"
   ]
  },
  {
   "cell_type": "markdown",
   "metadata": {
    "school_cell_uuid": "6487524d965e4774b31d8795d1b28a4f"
   },
   "source": [
    "### 1 dim vs 2 dim"
   ]
  },
  {
   "cell_type": "code",
   "execution_count": 24,
   "metadata": {
    "collapsed": false,
    "school_cell_uuid": "77f4cf036c454d008cd3140564dbe5a9"
   },
   "outputs": [
    {
     "data": {
      "text/plain": [
       "array([0, 1, 2, 3])"
      ]
     },
     "execution_count": 24,
     "metadata": {},
     "output_type": "execute_result"
    }
   ],
   "source": [
    "a = np.arange(4)\n",
    "a"
   ]
  },
  {
   "cell_type": "code",
   "execution_count": 25,
   "metadata": {
    "collapsed": false,
    "school_cell_uuid": "63161d0f290e4ef6bb99c394398a9e37"
   },
   "outputs": [
    {
     "data": {
      "text/plain": [
       "(4,)"
      ]
     },
     "execution_count": 25,
     "metadata": {},
     "output_type": "execute_result"
    }
   ],
   "source": [
    "a.shape"
   ]
  },
  {
   "cell_type": "code",
   "execution_count": 26,
   "metadata": {
    "collapsed": false,
    "school_cell_uuid": "9c96e59b1d034c66be1c6e07527048f9"
   },
   "outputs": [
    {
     "data": {
      "text/plain": [
       "array([[0, 1, 2, 3]])"
      ]
     },
     "execution_count": 26,
     "metadata": {},
     "output_type": "execute_result"
    }
   ],
   "source": [
    "b = np.array([[0, 1, 2, 3]])\n",
    "b"
   ]
  },
  {
   "cell_type": "code",
   "execution_count": 27,
   "metadata": {
    "collapsed": false,
    "school_cell_uuid": "af76b267207d4ea5ba8921f1bf99dde7"
   },
   "outputs": [
    {
     "data": {
      "text/plain": [
       "(1, 4)"
      ]
     },
     "execution_count": 27,
     "metadata": {},
     "output_type": "execute_result"
    }
   ],
   "source": [
    "b.shape"
   ]
  },
  {
   "cell_type": "code",
   "execution_count": 28,
   "metadata": {
    "collapsed": false,
    "school_cell_uuid": "8ac58526efc240a8b2c9acc8ad485368"
   },
   "outputs": [
    {
     "data": {
      "text/plain": [
       "array([[0],\n",
       "       [1],\n",
       "       [2],\n",
       "       [3]])"
      ]
     },
     "execution_count": 28,
     "metadata": {},
     "output_type": "execute_result"
    }
   ],
   "source": [
    "c = np.array([[0], [1], [2], [3]])\n",
    "c"
   ]
  },
  {
   "cell_type": "code",
   "execution_count": 29,
   "metadata": {
    "collapsed": false,
    "school_cell_uuid": "62bd62b0585349e38832f10a4fa1935c"
   },
   "outputs": [
    {
     "data": {
      "text/plain": [
       "(4, 1)"
      ]
     },
     "execution_count": 29,
     "metadata": {},
     "output_type": "execute_result"
    }
   ],
   "source": [
    "c.shape"
   ]
  },
  {
   "cell_type": "markdown",
   "metadata": {
    "school_cell_uuid": "807919d0cb1449e99babbec0e95e7550"
   },
   "source": [
    "### Transpose\n"
   ]
  },
  {
   "cell_type": "code",
   "execution_count": 30,
   "metadata": {
    "collapsed": false,
    "school_cell_uuid": "cfb90945096b48a8bf526306ea2b4ebb"
   },
   "outputs": [
    {
     "data": {
      "text/plain": [
       "array([[0, 1, 2, 3]])"
      ]
     },
     "execution_count": 30,
     "metadata": {},
     "output_type": "execute_result"
    }
   ],
   "source": [
    "a = np.array([[0, 1, 2, 3]])\n",
    "a"
   ]
  },
  {
   "cell_type": "code",
   "execution_count": 31,
   "metadata": {
    "collapsed": false,
    "school_cell_uuid": "75e8c92cffaf44e0bde3b5fc14b786f1"
   },
   "outputs": [
    {
     "data": {
      "text/plain": [
       "(1, 4)"
      ]
     },
     "execution_count": 31,
     "metadata": {},
     "output_type": "execute_result"
    }
   ],
   "source": [
    "a.shape"
   ]
  },
  {
   "cell_type": "code",
   "execution_count": 32,
   "metadata": {
    "collapsed": false,
    "school_cell_uuid": "8f694a2def624a6c93f47e6174a84cc8"
   },
   "outputs": [
    {
     "data": {
      "text/plain": [
       "array([[0],\n",
       "       [1],\n",
       "       [2],\n",
       "       [3]])"
      ]
     },
     "execution_count": 32,
     "metadata": {},
     "output_type": "execute_result"
    }
   ],
   "source": [
    "b = a.T\n",
    "b"
   ]
  },
  {
   "cell_type": "code",
   "execution_count": 33,
   "metadata": {
    "collapsed": false,
    "school_cell_uuid": "2656b7d7258d48ee8115968cd874ce9c"
   },
   "outputs": [
    {
     "data": {
      "text/plain": [
       "(4, 1)"
      ]
     },
     "execution_count": 33,
     "metadata": {},
     "output_type": "execute_result"
    }
   ],
   "source": [
    "b.shape"
   ]
  },
  {
   "cell_type": "markdown",
   "metadata": {
    "bootstrap": {
     "panel": {
      "class": "panel-danger",
      "heading": "요약: NumPy Arrary 생성 함수"
     }
    },
    "school_cell_uuid": "4dfed56a6af2479a8f79357116b193d0"
   },
   "source": [
    "### Array Creation Functions\n",
    "\n",
    "* `arange`\n",
    "* `linspace`, `logspace`\n",
    "* `zeros`, `ones`\n",
    "* `rand`, `randn`\n",
    "* `tile`"
   ]
  },
  {
   "cell_type": "code",
   "execution_count": 34,
   "metadata": {
    "collapsed": false,
    "school_cell_uuid": "e0f3476b99be4b33adf54c100076b3b3"
   },
   "outputs": [
    {
     "data": {
      "text/plain": [
       "array([0, 1, 2, 3, 4, 5, 6, 7, 8, 9])"
      ]
     },
     "execution_count": 34,
     "metadata": {},
     "output_type": "execute_result"
    }
   ],
   "source": [
    "a = np.arange(10) # 0 .. n-1  (!)\n",
    "a"
   ]
  },
  {
   "cell_type": "code",
   "execution_count": 35,
   "metadata": {
    "collapsed": false,
    "school_cell_uuid": "9f4622bb4f1c466d9fedf31f15fb3b19"
   },
   "outputs": [
    {
     "data": {
      "text/plain": [
       "array([1, 3, 5, 7])"
      ]
     },
     "execution_count": 35,
     "metadata": {},
     "output_type": "execute_result"
    }
   ],
   "source": [
    "b = np.arange(1, 9, 2) # start, end (exclusive), step\n",
    "b"
   ]
  },
  {
   "cell_type": "code",
   "execution_count": 36,
   "metadata": {
    "collapsed": false,
    "school_cell_uuid": "6cf4f244b25546c78f0ccaef98eddbdd"
   },
   "outputs": [
    {
     "data": {
      "text/plain": [
       "array([ 0. ,  0.2,  0.4,  0.6,  0.8,  1. ])"
      ]
     },
     "execution_count": 36,
     "metadata": {},
     "output_type": "execute_result"
    }
   ],
   "source": [
    "c = np.linspace(0, 1, 6)   # start, end, num-points\n",
    "c"
   ]
  },
  {
   "cell_type": "code",
   "execution_count": 37,
   "metadata": {
    "collapsed": false,
    "school_cell_uuid": "65e67330bc6c44e18823301e14d25e61"
   },
   "outputs": [
    {
     "data": {
      "text/plain": [
       "array([ 0. ,  0.2,  0.4,  0.6,  0.8])"
      ]
     },
     "execution_count": 37,
     "metadata": {},
     "output_type": "execute_result"
    }
   ],
   "source": [
    "d = np.linspace(0, 1, 5, endpoint=False)\n",
    "d"
   ]
  },
  {
   "cell_type": "code",
   "execution_count": 38,
   "metadata": {
    "collapsed": false,
    "school_cell_uuid": "cddaed73c04b4959a9aa3e5bfe265d23"
   },
   "outputs": [
    {
     "data": {
      "text/plain": [
       "array([[ 1.,  1.,  1.],\n",
       "       [ 1.,  1.,  1.],\n",
       "       [ 1.,  1.,  1.]])"
      ]
     },
     "execution_count": 38,
     "metadata": {},
     "output_type": "execute_result"
    }
   ],
   "source": [
    "a = np.ones((3, 3))  # reminder: (3, 3) is a tuple\n",
    "a"
   ]
  },
  {
   "cell_type": "code",
   "execution_count": 39,
   "metadata": {
    "collapsed": false,
    "school_cell_uuid": "2b61e92248b84010a46fb781f538095d"
   },
   "outputs": [
    {
     "data": {
      "text/plain": [
       "array([[ 0.,  0.],\n",
       "       [ 0.,  0.]])"
      ]
     },
     "execution_count": 39,
     "metadata": {},
     "output_type": "execute_result"
    }
   ],
   "source": [
    "b = np.zeros((2, 2))\n",
    "b"
   ]
  },
  {
   "cell_type": "code",
   "execution_count": 40,
   "metadata": {
    "collapsed": false,
    "school_cell_uuid": "d2ee18a2b93f4601959dec5638c38c38"
   },
   "outputs": [
    {
     "data": {
      "text/plain": [
       "array([[1, 0, 0],\n",
       "       [0, 2, 0],\n",
       "       [0, 0, 3]])"
      ]
     },
     "execution_count": 40,
     "metadata": {},
     "output_type": "execute_result"
    }
   ],
   "source": [
    "c = np.diag([1,2,3])\n",
    "c"
   ]
  },
  {
   "cell_type": "code",
   "execution_count": 41,
   "metadata": {
    "collapsed": false,
    "school_cell_uuid": "a4fe8cdd333847b2a2109335dd0c8ba0"
   },
   "outputs": [
    {
     "data": {
      "text/plain": [
       "array([[ 1.,  0.,  0.,  0.],\n",
       "       [ 0.,  1.,  0.,  0.],\n",
       "       [ 0.,  0.,  1.,  0.],\n",
       "       [ 0.,  0.,  0.,  1.]])"
      ]
     },
     "execution_count": 41,
     "metadata": {},
     "output_type": "execute_result"
    }
   ],
   "source": [
    "d = np.eye(4)\n",
    "d"
   ]
  },
  {
   "cell_type": "code",
   "execution_count": 42,
   "metadata": {
    "collapsed": false,
    "school_cell_uuid": "f0834ade5a224ea7b47754411caedee1"
   },
   "outputs": [
    {
     "data": {
      "text/plain": [
       "array([0, 1, 2])"
      ]
     },
     "execution_count": 42,
     "metadata": {},
     "output_type": "execute_result"
    }
   ],
   "source": [
    "a = np.array([0, 1, 2])\n",
    "a"
   ]
  },
  {
   "cell_type": "code",
   "execution_count": 43,
   "metadata": {
    "collapsed": false,
    "school_cell_uuid": "c20dd4e9b85a457fae6c2bfa22b36b3e"
   },
   "outputs": [
    {
     "data": {
      "text/plain": [
       "array([0, 1, 2, 0, 1, 2])"
      ]
     },
     "execution_count": 43,
     "metadata": {},
     "output_type": "execute_result"
    }
   ],
   "source": [
    "np.tile(a, 2)"
   ]
  },
  {
   "cell_type": "code",
   "execution_count": 44,
   "metadata": {
    "collapsed": false,
    "school_cell_uuid": "fbcf67f4465a4f00b7789ddad2045e8b"
   },
   "outputs": [
    {
     "data": {
      "text/plain": [
       "array([[0, 1, 2, 0, 1, 2],\n",
       "       [0, 1, 2, 0, 1, 2],\n",
       "       [0, 1, 2, 0, 1, 2]])"
      ]
     },
     "execution_count": 44,
     "metadata": {},
     "output_type": "execute_result"
    }
   ],
   "source": [
    "np.tile(a, (3, 2))"
   ]
  },
  {
   "cell_type": "code",
   "execution_count": 45,
   "metadata": {
    "collapsed": false,
    "school_cell_uuid": "4a8e36cd528642478ec15e481b7a1a69"
   },
   "outputs": [
    {
     "data": {
      "text/plain": [
       "array([[[0, 1, 2, 0, 1, 2]],\n",
       "\n",
       "       [[0, 1, 2, 0, 1, 2]]])"
      ]
     },
     "execution_count": 45,
     "metadata": {},
     "output_type": "execute_result"
    }
   ],
   "source": [
    "np.tile(a, (2, 1, 2))"
   ]
  },
  {
   "cell_type": "code",
   "execution_count": 46,
   "metadata": {
    "collapsed": false,
    "school_cell_uuid": "32183414cc044a2099daa143b10ef6a1"
   },
   "outputs": [
    {
     "data": {
      "text/plain": [
       "array([[1, 2],\n",
       "       [3, 4]])"
      ]
     },
     "execution_count": 46,
     "metadata": {},
     "output_type": "execute_result"
    }
   ],
   "source": [
    "b = np.array([[1, 2], [3, 4]])\n",
    "b"
   ]
  },
  {
   "cell_type": "code",
   "execution_count": 47,
   "metadata": {
    "collapsed": false,
    "school_cell_uuid": "7c9e6a7d40544fb6b26a820f0624fcb2"
   },
   "outputs": [
    {
     "data": {
      "text/plain": [
       "array([[1, 2, 1, 2],\n",
       "       [3, 4, 3, 4]])"
      ]
     },
     "execution_count": 47,
     "metadata": {},
     "output_type": "execute_result"
    }
   ],
   "source": [
    "np.tile(b, 2)"
   ]
  },
  {
   "cell_type": "code",
   "execution_count": 48,
   "metadata": {
    "collapsed": false,
    "school_cell_uuid": "f4b7f0b31d30411daa85e5eec45db9e7"
   },
   "outputs": [
    {
     "data": {
      "text/plain": [
       "array([[1, 2],\n",
       "       [3, 4],\n",
       "       [1, 2],\n",
       "       [3, 4]])"
      ]
     },
     "execution_count": 48,
     "metadata": {},
     "output_type": "execute_result"
    }
   ],
   "source": [
    "np.tile(b, (2, 1))"
   ]
  },
  {
   "cell_type": "markdown",
   "metadata": {
    "bootstrap": {
     "panel": {
      "class": "panel-danger",
      "heading": "요약: NumPy array의 shape 변경 함수"
     }
    },
    "school_cell_uuid": "fdece3fd3c0141a9afa701b592fccfef"
   },
   "source": [
    "### Shape Change\n",
    "\n",
    "* `reshape`\n",
    "* `flatten`, `ravel`"
   ]
  },
  {
   "cell_type": "code",
   "execution_count": 49,
   "metadata": {
    "collapsed": false,
    "school_cell_uuid": "9f6d24a132114cffb075fa2aa28eb2c2"
   },
   "outputs": [
    {
     "data": {
      "text/plain": [
       "array([ 0,  1,  2,  3,  4,  5,  6,  7,  8,  9, 10, 11, 12, 13, 14, 15, 16,\n",
       "       17, 18, 19])"
      ]
     },
     "execution_count": 49,
     "metadata": {},
     "output_type": "execute_result"
    }
   ],
   "source": [
    "a = np.arange(20)\n",
    "a"
   ]
  },
  {
   "cell_type": "code",
   "execution_count": 50,
   "metadata": {
    "collapsed": false,
    "school_cell_uuid": "114ab32381024273a337fa05714536ca"
   },
   "outputs": [
    {
     "data": {
      "text/plain": [
       "array([[ 0,  1,  2,  3,  4],\n",
       "       [ 5,  6,  7,  8,  9],\n",
       "       [10, 11, 12, 13, 14],\n",
       "       [15, 16, 17, 18, 19]])"
      ]
     },
     "execution_count": 50,
     "metadata": {},
     "output_type": "execute_result"
    }
   ],
   "source": [
    "b = np.reshape(a, (4, 5))\n",
    "b"
   ]
  },
  {
   "cell_type": "code",
   "execution_count": 51,
   "metadata": {
    "collapsed": false,
    "school_cell_uuid": "9790b7f224974560850756513e5c5649"
   },
   "outputs": [
    {
     "data": {
      "text/plain": [
       "array([[ 0,  1,  2,  3,  4],\n",
       "       [ 5,  6,  7,  8,  9],\n",
       "       [10, 11, 12, 13, 14],\n",
       "       [15, 16, 17, 18, 19]])"
      ]
     },
     "execution_count": 51,
     "metadata": {},
     "output_type": "execute_result"
    }
   ],
   "source": [
    "c = a.reshape(4,5)\n",
    "c"
   ]
  },
  {
   "cell_type": "markdown",
   "metadata": {
    "school_cell_uuid": "1d68fdf157ce4ef28f89441b0b8ca255"
   },
   "source": [
    "* 인수가 -1 \n",
    " * numpy가 나머지 인수들을 이용하여 사이즈를 맞춘다."
   ]
  },
  {
   "cell_type": "code",
   "execution_count": 52,
   "metadata": {
    "collapsed": false,
    "school_cell_uuid": "d7b621bb951e4d6e975216ba90f4bb80"
   },
   "outputs": [
    {
     "data": {
      "text/plain": [
       "array([[ 0,  1,  2,  3,  4,  5,  6,  7,  8,  9, 10, 11],\n",
       "       [12, 13, 14, 15, 16, 17, 18, 19, 20, 21, 22, 23]])"
      ]
     },
     "execution_count": 52,
     "metadata": {},
     "output_type": "execute_result"
    }
   ],
   "source": [
    "a = np.arange(24)\n",
    "a.reshape(2, 12)"
   ]
  },
  {
   "cell_type": "code",
   "execution_count": 53,
   "metadata": {
    "collapsed": false,
    "school_cell_uuid": "3c9161b5a04349b9afcf1b3747c2ca49"
   },
   "outputs": [
    {
     "data": {
      "text/plain": [
       "array([[ 0,  1,  2,  3,  4,  5,  6,  7,  8,  9, 10, 11],\n",
       "       [12, 13, 14, 15, 16, 17, 18, 19, 20, 21, 22, 23]])"
      ]
     },
     "execution_count": 53,
     "metadata": {},
     "output_type": "execute_result"
    }
   ],
   "source": [
    "a.reshape(2, -1)"
   ]
  },
  {
   "cell_type": "code",
   "execution_count": 54,
   "metadata": {
    "collapsed": false,
    "school_cell_uuid": "d04dce9ccdd84fea8d5e8f5807acf3b4"
   },
   "outputs": [
    {
     "data": {
      "text/plain": [
       "array([[ 0,  1,  2,  3,  4,  5,  6,  7,  8,  9, 10, 11],\n",
       "       [12, 13, 14, 15, 16, 17, 18, 19, 20, 21, 22, 23]])"
      ]
     },
     "execution_count": 54,
     "metadata": {},
     "output_type": "execute_result"
    }
   ],
   "source": [
    "a.reshape(-1, 12)"
   ]
  },
  {
   "cell_type": "code",
   "execution_count": 55,
   "metadata": {
    "collapsed": false,
    "school_cell_uuid": "064073c4ab2a4774a360b293bc1ffbe2"
   },
   "outputs": [
    {
     "data": {
      "text/plain": [
       "array([[ 0,  1,  2,  3,  4],\n",
       "       [ 5,  6,  7,  8,  9],\n",
       "       [10, 11, 12, 13, 14],\n",
       "       [15, 16, 17, 18, 19]])"
      ]
     },
     "execution_count": 55,
     "metadata": {},
     "output_type": "execute_result"
    }
   ],
   "source": [
    "c"
   ]
  },
  {
   "cell_type": "code",
   "execution_count": 56,
   "metadata": {
    "collapsed": false,
    "school_cell_uuid": "22c39bc2c3c04bcd87049ad12444cee0"
   },
   "outputs": [
    {
     "data": {
      "text/plain": [
       "array([ 0,  1,  2,  3,  4,  5,  6,  7,  8,  9, 10, 11, 12, 13, 14, 15, 16,\n",
       "       17, 18, 19])"
      ]
     },
     "execution_count": 56,
     "metadata": {},
     "output_type": "execute_result"
    }
   ],
   "source": [
    "d = c.flatten() # return a copy\n",
    "d"
   ]
  },
  {
   "cell_type": "code",
   "execution_count": 57,
   "metadata": {
    "collapsed": false,
    "school_cell_uuid": "3f327c0f4b3f46f5af8a47bbd2015905"
   },
   "outputs": [
    {
     "data": {
      "text/plain": [
       "True"
      ]
     },
     "execution_count": 57,
     "metadata": {},
     "output_type": "execute_result"
    }
   ],
   "source": [
    "d.base is None"
   ]
  },
  {
   "cell_type": "code",
   "execution_count": 58,
   "metadata": {
    "collapsed": false,
    "school_cell_uuid": "154983aeb2e54012a5a18604de01e266",
    "slideshow": {
     "slide_type": "-"
    }
   },
   "outputs": [
    {
     "data": {
      "text/plain": [
       "array([ 0,  1,  2,  3,  4,  5,  6,  7,  8,  9, 10, 11, 12, 13, 14, 15, 16,\n",
       "       17, 18, 19])"
      ]
     },
     "execution_count": 58,
     "metadata": {},
     "output_type": "execute_result"
    }
   ],
   "source": [
    "e = c.ravel()\n",
    "e"
   ]
  },
  {
   "cell_type": "code",
   "execution_count": 59,
   "metadata": {
    "collapsed": false,
    "school_cell_uuid": "31d763996b68465f8dcb94c896f1f6f1"
   },
   "outputs": [
    {
     "data": {
      "text/plain": [
       "array([ 0,  1,  2,  3,  4,  5,  6,  7,  8,  9, 10, 11, 12, 13, 14, 15, 16,\n",
       "       17, 18, 19])"
      ]
     },
     "execution_count": 59,
     "metadata": {},
     "output_type": "execute_result"
    }
   ],
   "source": [
    "e.base"
   ]
  },
  {
   "cell_type": "markdown",
   "metadata": {
    "bootstrap": {
     "panel": {
      "class": "panel-danger",
      "heading": "요약: Numpy stack 명령"
     }
    },
    "school_cell_uuid": "49f201b7817a4f9db252b244e3bc1149"
   },
   "source": [
    "### Stack\n",
    "* hstack\n",
    "* vstack\n",
    "* dstack"
   ]
  },
  {
   "cell_type": "code",
   "execution_count": 60,
   "metadata": {
    "collapsed": false,
    "school_cell_uuid": "4995d6134ff641f1af89dc24c9002221"
   },
   "outputs": [
    {
     "data": {
      "text/plain": [
       "array([0, 1, 2, 3, 4])"
      ]
     },
     "execution_count": 60,
     "metadata": {},
     "output_type": "execute_result"
    }
   ],
   "source": [
    "a = np.arange(5)\n",
    "a"
   ]
  },
  {
   "cell_type": "code",
   "execution_count": 61,
   "metadata": {
    "collapsed": false,
    "school_cell_uuid": "05e51a2d41664614b12b74aa2b3d0b1a"
   },
   "outputs": [
    {
     "data": {
      "text/plain": [
       "array([[ 0, 10, 20, 30, 40],\n",
       "       [ 0, 20, 40, 60, 80]])"
      ]
     },
     "execution_count": 61,
     "metadata": {},
     "output_type": "execute_result"
    }
   ],
   "source": [
    "np.vstack([a * 10, a * 20])"
   ]
  },
  {
   "cell_type": "code",
   "execution_count": 62,
   "metadata": {
    "collapsed": false,
    "school_cell_uuid": "0388665908f949ed97b1b07a2ece3c9a"
   },
   "outputs": [
    {
     "data": {
      "text/plain": [
       "array([[0],\n",
       "       [1],\n",
       "       [2],\n",
       "       [3],\n",
       "       [4]])"
      ]
     },
     "execution_count": 62,
     "metadata": {},
     "output_type": "execute_result"
    }
   ],
   "source": [
    "b = np.arange(5)[:, np.newaxis]\n",
    "b"
   ]
  },
  {
   "cell_type": "code",
   "execution_count": 63,
   "metadata": {
    "collapsed": false,
    "school_cell_uuid": "607266d4e3fd443db3cc2727c64ed781"
   },
   "outputs": [
    {
     "data": {
      "text/plain": [
       "array([[ 0,  0],\n",
       "       [10, 20],\n",
       "       [20, 40],\n",
       "       [30, 60],\n",
       "       [40, 80]])"
      ]
     },
     "execution_count": 63,
     "metadata": {},
     "output_type": "execute_result"
    }
   ],
   "source": [
    "np.hstack([b * 10, b * 20])"
   ]
  },
  {
   "cell_type": "code",
   "execution_count": 64,
   "metadata": {
    "collapsed": true,
    "school_cell_uuid": "ca2aed6bfffe44c99310b0dbe7499020"
   },
   "outputs": [],
   "source": [
    "a = np.array((1,2,3))\n",
    "b = np.array((2,3,4))"
   ]
  },
  {
   "cell_type": "code",
   "execution_count": 65,
   "metadata": {
    "collapsed": false,
    "school_cell_uuid": "d5a5969cedb4499da77e35fd3014fec0"
   },
   "outputs": [
    {
     "data": {
      "text/plain": [
       "array([1, 2, 3])"
      ]
     },
     "execution_count": 65,
     "metadata": {},
     "output_type": "execute_result"
    }
   ],
   "source": [
    "a"
   ]
  },
  {
   "cell_type": "code",
   "execution_count": 66,
   "metadata": {
    "collapsed": false,
    "school_cell_uuid": "20c5c8aacfe3446cbff11cc2a43fab7a"
   },
   "outputs": [
    {
     "data": {
      "text/plain": [
       "(3,)"
      ]
     },
     "execution_count": 66,
     "metadata": {},
     "output_type": "execute_result"
    }
   ],
   "source": [
    "a.shape"
   ]
  },
  {
   "cell_type": "code",
   "execution_count": 67,
   "metadata": {
    "collapsed": false,
    "school_cell_uuid": "19432076bda84f2fb292ea8ea7da2219"
   },
   "outputs": [
    {
     "data": {
      "text/plain": [
       "array([[[1, 2],\n",
       "        [2, 3],\n",
       "        [3, 4]]])"
      ]
     },
     "execution_count": 67,
     "metadata": {},
     "output_type": "execute_result"
    }
   ],
   "source": [
    "np.dstack((a,b))"
   ]
  },
  {
   "cell_type": "code",
   "execution_count": 68,
   "metadata": {
    "collapsed": false,
    "school_cell_uuid": "49235d1f423149bf8d18e05819a08795"
   },
   "outputs": [
    {
     "data": {
      "text/plain": [
       "array([[[1, 2]],\n",
       "\n",
       "       [[2, 3]],\n",
       "\n",
       "       [[3, 4]]])"
      ]
     },
     "execution_count": 68,
     "metadata": {},
     "output_type": "execute_result"
    }
   ],
   "source": [
    "a = np.array([[1],[2],[3]])\n",
    "b = np.array([[2],[3],[4]])\n",
    "np.dstack((a,b))"
   ]
  },
  {
   "cell_type": "markdown",
   "metadata": {
    "bootstrap": {
     "panel": {
      "class": "panel-danger",
      "heading": "요약: NumPy에서 사용 가능한 자료형"
     }
    },
    "school_cell_uuid": "568b9df2c72940b4b472dc6ea0b73243"
   },
   "source": [
    "### dtype\n",
    "* `bool`\tBoolean (True or False) stored as a byte\n",
    "* `int8`\tByte (-128 to 127)\n",
    "* `int16`\tInteger (-32768 to 32767)\n",
    "* `int32`\tInteger (-2147483648 to 2147483647)\n",
    "* `int64`\tInteger (-9223372036854775808 to 9223372036854775807)\n",
    "* `uint8`\tUnsigned integer (0 to 255)\n",
    "* `uint16`\tUnsigned integer (0 to 65535)\n",
    "* `uint32`\tUnsigned integer (0 to 4294967295)\n",
    "* `uint64`\tUnsigned integer (0 to 18446744073709551615)\n",
    "* `float16`\tHalf precision float: sign bit, 5 bits exponent, 10 bits mantissa\n",
    "* `float32`\tSingle precision float: sign bit, 8 bits exponent, 23 bits mantissa\n",
    "* `float64`\tDouble precision float: sign bit, 11 bits exponent, 52 bits mantissa\n",
    "* `S`  String"
   ]
  },
  {
   "cell_type": "code",
   "execution_count": 69,
   "metadata": {
    "collapsed": false,
    "school_cell_uuid": "43af7dc8f6c048a0b8ba465888503b23"
   },
   "outputs": [
    {
     "data": {
      "text/plain": [
       "dtype('int64')"
      ]
     },
     "execution_count": 69,
     "metadata": {},
     "output_type": "execute_result"
    }
   ],
   "source": [
    "a = np.array([1, 2, 3])\n",
    "a.dtype"
   ]
  },
  {
   "cell_type": "code",
   "execution_count": 70,
   "metadata": {
    "collapsed": false,
    "school_cell_uuid": "4623a4b244214fd5a80681cd8df2f6f6"
   },
   "outputs": [
    {
     "data": {
      "text/plain": [
       "dtype('float64')"
      ]
     },
     "execution_count": 70,
     "metadata": {},
     "output_type": "execute_result"
    }
   ],
   "source": [
    "b = np.array([1., 2., 3.])\n",
    "b.dtype"
   ]
  },
  {
   "cell_type": "code",
   "execution_count": 71,
   "metadata": {
    "collapsed": false,
    "school_cell_uuid": "93a8986892d34682b48adb49e55dc4f5"
   },
   "outputs": [
    {
     "data": {
      "text/plain": [
       "dtype('float64')"
      ]
     },
     "execution_count": 71,
     "metadata": {},
     "output_type": "execute_result"
    }
   ],
   "source": [
    "c = np.array([1, 2, 3], dtype=np.float64)\n",
    "c.dtype"
   ]
  },
  {
   "cell_type": "code",
   "execution_count": 72,
   "metadata": {
    "collapsed": false,
    "school_cell_uuid": "4294b419eadc48829bc08a5df2fb746e"
   },
   "outputs": [
    {
     "data": {
      "text/plain": [
       "dtype('complex128')"
      ]
     },
     "execution_count": 72,
     "metadata": {},
     "output_type": "execute_result"
    }
   ],
   "source": [
    "d = np.array([1+2j, 3+4j, 5+6*1j])\n",
    "d.dtype"
   ]
  },
  {
   "cell_type": "code",
   "execution_count": 73,
   "metadata": {
    "collapsed": false,
    "school_cell_uuid": "dede7520f89d447983798e26965dc34e"
   },
   "outputs": [
    {
     "data": {
      "text/plain": [
       "dtype('bool')"
      ]
     },
     "execution_count": 73,
     "metadata": {},
     "output_type": "execute_result"
    }
   ],
   "source": [
    "e = np.array([True, False, False, True])\n",
    "e.dtype"
   ]
  },
  {
   "cell_type": "code",
   "execution_count": 74,
   "metadata": {
    "collapsed": false,
    "school_cell_uuid": "67d60b4a2e5f430aa77fa04ddba9dca7"
   },
   "outputs": [
    {
     "data": {
      "text/plain": [
       "dtype('S7')"
      ]
     },
     "execution_count": 74,
     "metadata": {},
     "output_type": "execute_result"
    }
   ],
   "source": [
    "f = np.array(['Bonjour', 'Hello', 'Hallo',])\n",
    "f.dtype"
   ]
  },
  {
   "cell_type": "markdown",
   "metadata": {
    "school_cell_uuid": "21bcbb1983d840f78d133af369e26c62"
   },
   "source": [
    "* `NaN`     Not a Number\n",
    "* `Inf`     Infinity"
   ]
  },
  {
   "cell_type": "code",
   "execution_count": 75,
   "metadata": {
    "collapsed": false,
    "school_cell_uuid": "8945f27183e348cca8822cff1e4688ea",
    "slideshow": {
     "slide_type": "-"
    }
   },
   "outputs": [
    {
     "data": {
      "text/plain": [
       "array([ inf, -inf,  nan])"
      ]
     },
     "execution_count": 75,
     "metadata": {},
     "output_type": "execute_result"
    }
   ],
   "source": [
    "x = np.array([1, -1, 0]) / np.array([0, 0, 0])\n",
    "x"
   ]
  },
  {
   "cell_type": "code",
   "execution_count": 76,
   "metadata": {
    "collapsed": false,
    "school_cell_uuid": "6615b9b6e154481eab35bc9061f9cb68"
   },
   "outputs": [
    {
     "data": {
      "text/plain": [
       "inf"
      ]
     },
     "execution_count": 76,
     "metadata": {},
     "output_type": "execute_result"
    }
   ],
   "source": [
    "x[0]"
   ]
  },
  {
   "cell_type": "code",
   "execution_count": 77,
   "metadata": {
    "collapsed": false,
    "school_cell_uuid": "55f81eee21524710b3baea508c0d8266"
   },
   "outputs": [
    {
     "data": {
      "text/plain": [
       "(inf, nan)"
      ]
     },
     "execution_count": 77,
     "metadata": {},
     "output_type": "execute_result"
    }
   ],
   "source": [
    "np.inf, np.nan"
   ]
  },
  {
   "cell_type": "markdown",
   "metadata": {
    "school_cell_uuid": "a3ff068954084166825a6f7226dc0d4c"
   },
   "source": [
    "### Indexing"
   ]
  },
  {
   "cell_type": "code",
   "execution_count": 78,
   "metadata": {
    "collapsed": false,
    "school_cell_uuid": "59454ae7d08c4cab802cd7796073be3d"
   },
   "outputs": [
    {
     "data": {
      "text/plain": [
       "array([0, 1, 2, 3, 4, 5, 6, 7, 8, 9])"
      ]
     },
     "execution_count": 78,
     "metadata": {},
     "output_type": "execute_result"
    }
   ],
   "source": [
    "a = np.arange(10)\n",
    "a"
   ]
  },
  {
   "cell_type": "code",
   "execution_count": 79,
   "metadata": {
    "collapsed": false,
    "school_cell_uuid": "4997cd0101b94f5da5a785e8ec49433d"
   },
   "outputs": [
    {
     "data": {
      "text/plain": [
       "(0, 2, 9)"
      ]
     },
     "execution_count": 79,
     "metadata": {},
     "output_type": "execute_result"
    }
   ],
   "source": [
    "a[0], a[2], a[-1]"
   ]
  },
  {
   "cell_type": "code",
   "execution_count": 80,
   "metadata": {
    "collapsed": false,
    "school_cell_uuid": "2f8578fc9fc443d593b8b601357acf77"
   },
   "outputs": [
    {
     "data": {
      "text/plain": [
       "array([9, 8, 7, 6, 5, 4, 3, 2, 1, 0])"
      ]
     },
     "execution_count": 80,
     "metadata": {},
     "output_type": "execute_result"
    }
   ],
   "source": [
    "a[::-1]"
   ]
  },
  {
   "cell_type": "markdown",
   "metadata": {
    "school_cell_uuid": "4d69d94c1fb84055b2714bde666eb2b5"
   },
   "source": [
    "### Multi-dimensional Indexing"
   ]
  },
  {
   "cell_type": "code",
   "execution_count": 81,
   "metadata": {
    "collapsed": true,
    "school_cell_uuid": "1abe3b1ab876468ba78e6703eab3e9eb"
   },
   "outputs": [],
   "source": [
    "l = [[0,0,0],[0,1,0],[0,0,2]]"
   ]
  },
  {
   "cell_type": "code",
   "execution_count": 82,
   "metadata": {
    "collapsed": false,
    "school_cell_uuid": "3b2cdff178114a7b9cef49cbd0c90111"
   },
   "outputs": [
    {
     "data": {
      "text/plain": [
       "[0, 1, 0]"
      ]
     },
     "execution_count": 82,
     "metadata": {},
     "output_type": "execute_result"
    }
   ],
   "source": [
    "l[1]"
   ]
  },
  {
   "cell_type": "code",
   "execution_count": 83,
   "metadata": {
    "collapsed": false,
    "school_cell_uuid": "79d131538aa2481096684299fbd8c4a9"
   },
   "outputs": [
    {
     "data": {
      "text/plain": [
       "1"
      ]
     },
     "execution_count": 83,
     "metadata": {},
     "output_type": "execute_result"
    }
   ],
   "source": [
    "l[1][1]"
   ]
  },
  {
   "cell_type": "code",
   "execution_count": 84,
   "metadata": {
    "collapsed": false,
    "school_cell_uuid": "0fa07d98c3cb4be8a6e78cb18c96dc2f",
    "slideshow": {
     "slide_type": "-"
    }
   },
   "outputs": [
    {
     "data": {
      "text/plain": [
       "array([[0, 0, 0],\n",
       "       [0, 1, 0],\n",
       "       [0, 0, 2]])"
      ]
     },
     "execution_count": 84,
     "metadata": {},
     "output_type": "execute_result"
    }
   ],
   "source": [
    "a = np.diag(np.arange(3))\n",
    "a"
   ]
  },
  {
   "cell_type": "code",
   "execution_count": 85,
   "metadata": {
    "collapsed": false,
    "school_cell_uuid": "8edbc5553df247208459e76629ad6369"
   },
   "outputs": [
    {
     "data": {
      "text/plain": [
       "1"
      ]
     },
     "execution_count": 85,
     "metadata": {},
     "output_type": "execute_result"
    }
   ],
   "source": [
    "a[1, 1]"
   ]
  },
  {
   "cell_type": "code",
   "execution_count": 86,
   "metadata": {
    "collapsed": false,
    "school_cell_uuid": "15f82859718f4e4fbbf427efd0f14e72"
   },
   "outputs": [
    {
     "data": {
      "text/plain": [
       "array([[ 0,  0,  0],\n",
       "       [ 0,  1,  0],\n",
       "       [ 0, 10,  2]])"
      ]
     },
     "execution_count": 86,
     "metadata": {},
     "output_type": "execute_result"
    }
   ],
   "source": [
    "a[2, 1] = 10 # third line, second column\n",
    "a"
   ]
  },
  {
   "cell_type": "code",
   "execution_count": 87,
   "metadata": {
    "collapsed": false,
    "school_cell_uuid": "323ad9ff0f8f4eb481295ad98a18a4d4",
    "slideshow": {
     "slide_type": "-"
    }
   },
   "outputs": [
    {
     "data": {
      "text/plain": [
       "array([[ 0,  0,  0],\n",
       "       [ 0,  1,  0],\n",
       "       [10, 20, 30]])"
      ]
     },
     "execution_count": 87,
     "metadata": {},
     "output_type": "execute_result"
    }
   ],
   "source": [
    "a[2] = [10, 20, 30]\n",
    "a"
   ]
  },
  {
   "cell_type": "markdown",
   "metadata": {
    "school_cell_uuid": "3ca932acfd5645219439d8b99924edaa"
   },
   "source": [
    "### Slicing"
   ]
  },
  {
   "cell_type": "code",
   "execution_count": 88,
   "metadata": {
    "collapsed": false,
    "school_cell_uuid": "cd0420ee3de245bb81f9dd1712bec784"
   },
   "outputs": [
    {
     "data": {
      "text/plain": [
       "array([0, 1, 2, 3, 4, 5, 6, 7, 8, 9])"
      ]
     },
     "execution_count": 88,
     "metadata": {},
     "output_type": "execute_result"
    }
   ],
   "source": [
    "a = np.arange(10)\n",
    "a"
   ]
  },
  {
   "cell_type": "code",
   "execution_count": 89,
   "metadata": {
    "collapsed": false,
    "school_cell_uuid": "15adb4c77a9040e4bce9ce0fc081cfa1"
   },
   "outputs": [
    {
     "data": {
      "text/plain": [
       "array([2, 5, 8])"
      ]
     },
     "execution_count": 89,
     "metadata": {},
     "output_type": "execute_result"
    }
   ],
   "source": [
    "a[2:9:3] # [start:end:step]"
   ]
  },
  {
   "cell_type": "code",
   "execution_count": 90,
   "metadata": {
    "collapsed": false,
    "school_cell_uuid": "c1af0df5b0d94e56926b9838f6d34ee6"
   },
   "outputs": [
    {
     "data": {
      "text/plain": [
       "array([0, 1, 2, 3])"
      ]
     },
     "execution_count": 90,
     "metadata": {},
     "output_type": "execute_result"
    }
   ],
   "source": [
    "a[:4]"
   ]
  },
  {
   "cell_type": "code",
   "execution_count": 91,
   "metadata": {
    "collapsed": false,
    "school_cell_uuid": "91bd5e6baf1044beb05662fce0420ace"
   },
   "outputs": [
    {
     "data": {
      "text/plain": [
       "array([1, 2])"
      ]
     },
     "execution_count": 91,
     "metadata": {},
     "output_type": "execute_result"
    }
   ],
   "source": [
    "a[1:3]"
   ]
  },
  {
   "cell_type": "code",
   "execution_count": 92,
   "metadata": {
    "collapsed": false,
    "school_cell_uuid": "b67d9bf63bc940e49e17e7e97c6cfa8b"
   },
   "outputs": [
    {
     "data": {
      "text/plain": [
       "array([0, 2, 4, 6, 8])"
      ]
     },
     "execution_count": 92,
     "metadata": {},
     "output_type": "execute_result"
    }
   ],
   "source": [
    "a[::2]"
   ]
  },
  {
   "cell_type": "code",
   "execution_count": 93,
   "metadata": {
    "collapsed": false,
    "school_cell_uuid": "6a30624aa78f40fa98a445089414e1f3"
   },
   "outputs": [
    {
     "data": {
      "text/plain": [
       "array([3, 4, 5, 6, 7, 8, 9])"
      ]
     },
     "execution_count": 93,
     "metadata": {},
     "output_type": "execute_result"
    }
   ],
   "source": [
    "a[3:]"
   ]
  },
  {
   "cell_type": "markdown",
   "metadata": {
    "school_cell_uuid": "7aa457f8d0cd4a6da47bdd1d0c4198a7"
   },
   "source": [
    "### Multi-dimensional Slicing"
   ]
  },
  {
   "cell_type": "code",
   "execution_count": 94,
   "metadata": {
    "collapsed": false,
    "school_cell_uuid": "e9eb91bd791c466fb4da54570a7b2379"
   },
   "outputs": [
    {
     "data": {
      "text/plain": [
       "array([[ 0,  1,  2,  3,  4,  5],\n",
       "       [10, 11, 12, 13, 14, 15],\n",
       "       [20, 21, 22, 23, 24, 25],\n",
       "       [30, 31, 32, 33, 34, 35],\n",
       "       [40, 41, 42, 43, 44, 45],\n",
       "       [50, 51, 52, 53, 54, 55]])"
      ]
     },
     "execution_count": 94,
     "metadata": {},
     "output_type": "execute_result"
    }
   ],
   "source": [
    "a = np.arange(6) + (np.arange(6) * 10)[:, np.newaxis]\n",
    "a"
   ]
  },
  {
   "cell_type": "code",
   "execution_count": 95,
   "metadata": {
    "collapsed": false,
    "school_cell_uuid": "5d9997256be6411db996f6390e53e648",
    "slideshow": {
     "slide_type": "-"
    }
   },
   "outputs": [
    {
     "data": {
      "text/plain": [
       "array([0, 1, 2, 3, 4, 5])"
      ]
     },
     "execution_count": 95,
     "metadata": {},
     "output_type": "execute_result"
    }
   ],
   "source": [
    "a[0,:]"
   ]
  },
  {
   "cell_type": "code",
   "execution_count": 96,
   "metadata": {
    "collapsed": false,
    "school_cell_uuid": "13859b6314b74183a0592e8423d04002"
   },
   "outputs": [
    {
     "data": {
      "text/plain": [
       "array([ 0, 10, 20, 30, 40, 50])"
      ]
     },
     "execution_count": 96,
     "metadata": {},
     "output_type": "execute_result"
    }
   ],
   "source": [
    "a[:,0]"
   ]
  },
  {
   "cell_type": "markdown",
   "metadata": {
    "school_cell_uuid": "0a02d04442454fc8bf1bae3f479ff5c2"
   },
   "source": [
    "<img src=\"http://www.scipy-lectures.org/_images/numpy_indexing.png\" style=\"width:70%; margin: 0 auto 0 auto;\">"
   ]
  },
  {
   "cell_type": "markdown",
   "metadata": {
    "school_cell_uuid": "b04f978290c648dcb30a2130b56591e3"
   },
   "source": [
    "### newaxis\n",
    "* 차원 확장"
   ]
  },
  {
   "cell_type": "code",
   "execution_count": 97,
   "metadata": {
    "collapsed": false,
    "school_cell_uuid": "76182e5559dd4ecc9430f53fb84a738d"
   },
   "outputs": [
    {
     "data": {
      "text/plain": [
       "array([0, 1, 2, 3])"
      ]
     },
     "execution_count": 97,
     "metadata": {},
     "output_type": "execute_result"
    }
   ],
   "source": [
    "a = np.arange(4)\n",
    "a"
   ]
  },
  {
   "cell_type": "code",
   "execution_count": 98,
   "metadata": {
    "collapsed": false,
    "school_cell_uuid": "290ca9b33a6a45deadcd7e9c12159724"
   },
   "outputs": [
    {
     "data": {
      "text/plain": [
       "(4,)"
      ]
     },
     "execution_count": 98,
     "metadata": {},
     "output_type": "execute_result"
    }
   ],
   "source": [
    "a.shape"
   ]
  },
  {
   "cell_type": "code",
   "execution_count": 99,
   "metadata": {
    "collapsed": false,
    "school_cell_uuid": "e898e6c23ebd4439adceab7345bae213"
   },
   "outputs": [
    {
     "data": {
      "text/plain": [
       "array([[0],\n",
       "       [1],\n",
       "       [2],\n",
       "       [3]])"
      ]
     },
     "execution_count": 99,
     "metadata": {},
     "output_type": "execute_result"
    }
   ],
   "source": [
    "b = np.arange(4).reshape(4,1)\n",
    "b"
   ]
  },
  {
   "cell_type": "code",
   "execution_count": 100,
   "metadata": {
    "collapsed": false,
    "school_cell_uuid": "1b631d55a9af46dc8d692f18a2d01f2c"
   },
   "outputs": [
    {
     "data": {
      "text/plain": [
       "(4, 1)"
      ]
     },
     "execution_count": 100,
     "metadata": {},
     "output_type": "execute_result"
    }
   ],
   "source": [
    "b.shape"
   ]
  },
  {
   "cell_type": "code",
   "execution_count": 101,
   "metadata": {
    "collapsed": false,
    "school_cell_uuid": "fbfc7e385c0f47b6920a5a34b32c5f27"
   },
   "outputs": [
    {
     "data": {
      "text/plain": [
       "array([[0],\n",
       "       [1],\n",
       "       [2],\n",
       "       [3]])"
      ]
     },
     "execution_count": 101,
     "metadata": {},
     "output_type": "execute_result"
    }
   ],
   "source": [
    "c = np.arange(4)[:, np.newaxis]\n",
    "c"
   ]
  },
  {
   "cell_type": "code",
   "execution_count": 102,
   "metadata": {
    "collapsed": false,
    "school_cell_uuid": "176107e8497248db96d4b823fe188f43"
   },
   "outputs": [
    {
     "data": {
      "text/plain": [
       "(4, 1)"
      ]
     },
     "execution_count": 102,
     "metadata": {},
     "output_type": "execute_result"
    }
   ],
   "source": [
    "c.shape"
   ]
  },
  {
   "cell_type": "markdown",
   "metadata": {
    "school_cell_uuid": "65ce8dab6a2d4087aaa372f693974ab4"
   },
   "source": [
    "### View\n",
    "\n",
    "* A slicing operation creates a view on the original array, which is just a way of accessing array data. \n",
    "* Thus the original array is not copied in memory. "
   ]
  },
  {
   "cell_type": "code",
   "execution_count": 103,
   "metadata": {
    "collapsed": false,
    "school_cell_uuid": "0c474074903e454581e8e9f466d2f36b"
   },
   "outputs": [
    {
     "data": {
      "text/plain": [
       "array([0, 1, 2, 3, 4, 5, 6, 7, 8, 9])"
      ]
     },
     "execution_count": 103,
     "metadata": {},
     "output_type": "execute_result"
    }
   ],
   "source": [
    "a = np.arange(10)\n",
    "a"
   ]
  },
  {
   "cell_type": "code",
   "execution_count": 104,
   "metadata": {
    "collapsed": false,
    "school_cell_uuid": "ad57ba04e0644919a56a9ba416657a40"
   },
   "outputs": [
    {
     "data": {
      "text/plain": [
       "array([0, 2, 4, 6, 8])"
      ]
     },
     "execution_count": 104,
     "metadata": {},
     "output_type": "execute_result"
    }
   ],
   "source": [
    "b = a[::2]\n",
    "b"
   ]
  },
  {
   "cell_type": "code",
   "execution_count": 105,
   "metadata": {
    "collapsed": false,
    "school_cell_uuid": "43df3e34cce24af5a6ac047f6c304038"
   },
   "outputs": [
    {
     "data": {
      "text/plain": [
       "array([99,  1,  2,  3,  4,  5,  6,  7,  8,  9])"
      ]
     },
     "execution_count": 105,
     "metadata": {},
     "output_type": "execute_result"
    }
   ],
   "source": [
    "a[0] = 99\n",
    "a"
   ]
  },
  {
   "cell_type": "code",
   "execution_count": 106,
   "metadata": {
    "collapsed": false,
    "school_cell_uuid": "7918724921244a72ac609b9a5ceafe23"
   },
   "outputs": [
    {
     "data": {
      "text/plain": [
       "array([99,  2,  4,  6,  8])"
      ]
     },
     "execution_count": 106,
     "metadata": {},
     "output_type": "execute_result"
    }
   ],
   "source": [
    "b"
   ]
  },
  {
   "cell_type": "markdown",
   "metadata": {
    "school_cell_uuid": "13c98015fe6a4d92840e2779716a60dd"
   },
   "source": [
    "### Copy"
   ]
  },
  {
   "cell_type": "code",
   "execution_count": 107,
   "metadata": {
    "collapsed": false,
    "school_cell_uuid": "34ac4cf5fc604bdc840bce0b83587757"
   },
   "outputs": [
    {
     "data": {
      "text/plain": [
       "array([0, 1, 2, 3, 4])"
      ]
     },
     "execution_count": 107,
     "metadata": {},
     "output_type": "execute_result"
    }
   ],
   "source": [
    "a = np.arange(5)\n",
    "a"
   ]
  },
  {
   "cell_type": "code",
   "execution_count": 108,
   "metadata": {
    "collapsed": false,
    "school_cell_uuid": "8386c081c453446888d1b0b13adf702f"
   },
   "outputs": [
    {
     "data": {
      "text/plain": [
       "array([0, 1, 2, 3, 4])"
      ]
     },
     "execution_count": 108,
     "metadata": {},
     "output_type": "execute_result"
    }
   ],
   "source": [
    "b = a.copy()\n",
    "b"
   ]
  },
  {
   "cell_type": "code",
   "execution_count": 109,
   "metadata": {
    "collapsed": false,
    "school_cell_uuid": "9ecf9e4c1e264e079895cb7b99f897bc"
   },
   "outputs": [
    {
     "data": {
      "text/plain": [
       "array([99,  1,  2,  3,  4])"
      ]
     },
     "execution_count": 109,
     "metadata": {},
     "output_type": "execute_result"
    }
   ],
   "source": [
    "a[0] = 99\n",
    "a"
   ]
  },
  {
   "cell_type": "code",
   "execution_count": 110,
   "metadata": {
    "collapsed": false,
    "school_cell_uuid": "85d794adeb6b4822baec38c970c3b6be"
   },
   "outputs": [
    {
     "data": {
      "text/plain": [
       "array([0, 1, 2, 3, 4])"
      ]
     },
     "execution_count": 110,
     "metadata": {},
     "output_type": "execute_result"
    }
   ],
   "source": [
    "b"
   ]
  },
  {
   "cell_type": "markdown",
   "metadata": {
    "bootstrap": {
     "panel": {
      "class": "panel-danger",
      "heading": "요약: NumPy의 fancy 인덱싱"
     }
    },
    "school_cell_uuid": "ab8945fae6e54580918ab8c083ddb754"
   },
   "source": [
    "### Fancy indexing 팬시 인덱싱\n",
    "* Boolean Fancy Indexing\n",
    " * True인 원소만 선택 \n",
    " * 크기가 같아야 한다.\n",
    "* list\n",
    " * 또는 tuple, or array\n",
    " * 지정된 인덱스만 선택\n",
    " * 크기가 달라도 된다.\n",
    "* multi dimension에도 사용 가능\n",
    "* create copy, not view"
   ]
  },
  {
   "cell_type": "code",
   "execution_count": 111,
   "metadata": {
    "collapsed": false,
    "school_cell_uuid": "41225896b3d340419007886c76500806"
   },
   "outputs": [
    {
     "data": {
      "text/plain": [
       "array([ 0,  1,  2,  3,  4,  5,  6,  7,  8,  9, 10, 11, 12, 13, 14, 15, 16,\n",
       "       17, 18, 19])"
      ]
     },
     "execution_count": 111,
     "metadata": {},
     "output_type": "execute_result"
    }
   ],
   "source": [
    "a = np.arange(20)\n",
    "a"
   ]
  },
  {
   "cell_type": "code",
   "execution_count": 112,
   "metadata": {
    "collapsed": false,
    "school_cell_uuid": "70cfc8141bf24b75af6dea583b51acfe"
   },
   "outputs": [
    {
     "data": {
      "text/plain": [
       "array([0, 1, 0, 1, 0, 1, 0, 1, 0, 1, 0, 1, 0, 1, 0, 1, 0, 1, 0, 1])"
      ]
     },
     "execution_count": 112,
     "metadata": {},
     "output_type": "execute_result"
    }
   ],
   "source": [
    "a % 2"
   ]
  },
  {
   "cell_type": "code",
   "execution_count": 113,
   "metadata": {
    "collapsed": false,
    "school_cell_uuid": "d353f326f6a1413faa73d9f594e74f47"
   },
   "outputs": [
    {
     "data": {
      "text/plain": [
       "array([ True, False,  True, False,  True, False,  True, False,  True,\n",
       "       False,  True, False,  True, False,  True, False,  True, False,\n",
       "        True, False], dtype=bool)"
      ]
     },
     "execution_count": 113,
     "metadata": {},
     "output_type": "execute_result"
    }
   ],
   "source": [
    "idx = (a % 2) == 0\n",
    "idx"
   ]
  },
  {
   "cell_type": "code",
   "execution_count": 114,
   "metadata": {
    "collapsed": false,
    "school_cell_uuid": "e19392df78034da1aa527686cc084d35"
   },
   "outputs": [
    {
     "data": {
      "text/plain": [
       "array([ 0,  2,  4,  6,  8, 10, 12, 14, 16, 18])"
      ]
     },
     "execution_count": 114,
     "metadata": {},
     "output_type": "execute_result"
    }
   ],
   "source": [
    "a[idx]"
   ]
  },
  {
   "cell_type": "code",
   "execution_count": 115,
   "metadata": {
    "collapsed": false,
    "school_cell_uuid": "01d88669188f4844b9426ef64edbfcfb"
   },
   "outputs": [
    {
     "data": {
      "text/plain": [
       "array([ 0,  2,  4,  6,  8, 10, 12, 14, 16, 18])"
      ]
     },
     "execution_count": 115,
     "metadata": {},
     "output_type": "execute_result"
    }
   ],
   "source": [
    "a[(a % 2) == 0]"
   ]
  },
  {
   "cell_type": "code",
   "execution_count": 116,
   "metadata": {
    "collapsed": false,
    "school_cell_uuid": "7b4e09be23fd483c91a024102c5d4528"
   },
   "outputs": [
    {
     "data": {
      "text/plain": [
       "array([  0,  10,  20,  30,  40,  50,  60,  70,  80,  90, 100, 110, 120,\n",
       "       130, 140, 150, 160, 170, 180, 190, 200, 210, 220, 230, 240, 250,\n",
       "       260, 270, 280, 290, 300, 310, 320, 330, 340, 350, 360, 370, 380,\n",
       "       390, 400, 410, 420, 430, 440, 450, 460, 470, 480, 490])"
      ]
     },
     "execution_count": 116,
     "metadata": {},
     "output_type": "execute_result"
    }
   ],
   "source": [
    "a = np.arange(50) * 10\n",
    "a"
   ]
  },
  {
   "cell_type": "code",
   "execution_count": 117,
   "metadata": {
    "collapsed": false,
    "school_cell_uuid": "cefdfd0d8aed4087a80b68ec0ada5ff2"
   },
   "outputs": [
    {
     "data": {
      "text/plain": [
       "array([ 10,  30,  40, 490, 300])"
      ]
     },
     "execution_count": 117,
     "metadata": {},
     "output_type": "execute_result"
    }
   ],
   "source": [
    "idx = [1, 3, 4, -1, 30]\n",
    "a[idx]"
   ]
  },
  {
   "cell_type": "code",
   "execution_count": 118,
   "metadata": {
    "collapsed": false,
    "school_cell_uuid": "eae04d38ecf941a0abc0f453fdeb130e"
   },
   "outputs": [
    {
     "data": {
      "text/plain": [
       "array([ 10,  30,  40, 490, 300])"
      ]
     },
     "execution_count": 118,
     "metadata": {},
     "output_type": "execute_result"
    }
   ],
   "source": [
    "a[[1,3,4,-1,30]]"
   ]
  },
  {
   "cell_type": "code",
   "execution_count": 119,
   "metadata": {
    "collapsed": false,
    "school_cell_uuid": "08978b06fe7c4c8681b4931eea80f3a8"
   },
   "outputs": [
    {
     "data": {
      "text/plain": [
       "array([[ 0,  1,  2,  3,  4,  5],\n",
       "       [10, 11, 12, 13, 14, 15],\n",
       "       [20, 21, 22, 23, 24, 25],\n",
       "       [30, 31, 32, 33, 34, 35],\n",
       "       [40, 41, 42, 43, 44, 45],\n",
       "       [50, 51, 52, 53, 54, 55]])"
      ]
     },
     "execution_count": 119,
     "metadata": {},
     "output_type": "execute_result"
    }
   ],
   "source": [
    "a = np.arange(6) + (np.arange(6) * 10)[:, np.newaxis]\n",
    "a"
   ]
  },
  {
   "cell_type": "code",
   "execution_count": 120,
   "metadata": {
    "collapsed": false,
    "school_cell_uuid": "4fb9f014d8a24c9a90b5aa02606f588b"
   },
   "outputs": [
    {
     "data": {
      "text/plain": [
       "array([ 1, 12, 23, 34, 45])"
      ]
     },
     "execution_count": 120,
     "metadata": {},
     "output_type": "execute_result"
    }
   ],
   "source": [
    "a[[0,1,2,3,4],(1,2,3,4,5)]"
   ]
  },
  {
   "cell_type": "code",
   "execution_count": 121,
   "metadata": {
    "collapsed": false,
    "school_cell_uuid": "247da4f64b3d43c2ba760378bb62be27"
   },
   "outputs": [
    {
     "data": {
      "text/plain": [
       "array([[30, 32, 35],\n",
       "       [40, 42, 45],\n",
       "       [50, 52, 55]])"
      ]
     },
     "execution_count": 121,
     "metadata": {},
     "output_type": "execute_result"
    }
   ],
   "source": [
    "a[3:, [0,2,5]]"
   ]
  },
  {
   "cell_type": "markdown",
   "metadata": {
    "school_cell_uuid": "360a6ddcf435451ea6c2cae077bd7cca"
   },
   "source": [
    "## Array Operation"
   ]
  },
  {
   "cell_type": "markdown",
   "metadata": {
    "school_cell_uuid": "8487266fe3c84efea556180197164df9"
   },
   "source": [
    "### Elementwise operations"
   ]
  },
  {
   "cell_type": "code",
   "execution_count": 122,
   "metadata": {
    "collapsed": false,
    "school_cell_uuid": "528e6a297ecc4f5bae73eabcfabe66b3"
   },
   "outputs": [
    {
     "data": {
      "text/plain": [
       "array([1, 2, 3, 4])"
      ]
     },
     "execution_count": 122,
     "metadata": {},
     "output_type": "execute_result"
    }
   ],
   "source": [
    "a = np.array([1, 2, 3, 4])\n",
    "a"
   ]
  },
  {
   "cell_type": "code",
   "execution_count": 123,
   "metadata": {
    "collapsed": false,
    "school_cell_uuid": "619b7c800f4b46fab6737766f20db948"
   },
   "outputs": [
    {
     "data": {
      "text/plain": [
       "array([2, 3, 4, 5])"
      ]
     },
     "execution_count": 123,
     "metadata": {},
     "output_type": "execute_result"
    }
   ],
   "source": [
    "a + 1"
   ]
  },
  {
   "cell_type": "code",
   "execution_count": 124,
   "metadata": {
    "collapsed": false,
    "school_cell_uuid": "338175b9eec14b948f2f267e73754728"
   },
   "outputs": [
    {
     "data": {
      "text/plain": [
       "array([ 2,  4,  8, 16])"
      ]
     },
     "execution_count": 124,
     "metadata": {},
     "output_type": "execute_result"
    }
   ],
   "source": [
    "2**a"
   ]
  },
  {
   "cell_type": "code",
   "execution_count": 125,
   "metadata": {
    "collapsed": false,
    "school_cell_uuid": "12428765e357468f9dadbf694ce592d0"
   },
   "outputs": [
    {
     "data": {
      "text/plain": [
       "array([ 2.,  2.,  2.,  2.])"
      ]
     },
     "execution_count": 125,
     "metadata": {},
     "output_type": "execute_result"
    }
   ],
   "source": [
    "b = np.ones(4) + 1\n",
    "b"
   ]
  },
  {
   "cell_type": "code",
   "execution_count": 126,
   "metadata": {
    "collapsed": false,
    "school_cell_uuid": "4a1dde464cc6405abaad9adea74318f9"
   },
   "outputs": [
    {
     "data": {
      "text/plain": [
       "array([-1.,  0.,  1.,  2.])"
      ]
     },
     "execution_count": 126,
     "metadata": {},
     "output_type": "execute_result"
    }
   ],
   "source": [
    "a - b"
   ]
  },
  {
   "cell_type": "code",
   "execution_count": 127,
   "metadata": {
    "collapsed": false,
    "school_cell_uuid": "893eecf326664a8da2f24cc2a0af6aaa"
   },
   "outputs": [
    {
     "data": {
      "text/plain": [
       "array([ 3.,  4.,  5.,  6.])"
      ]
     },
     "execution_count": 127,
     "metadata": {},
     "output_type": "execute_result"
    }
   ],
   "source": [
    "a + b"
   ]
  },
  {
   "cell_type": "code",
   "execution_count": 128,
   "metadata": {
    "collapsed": false,
    "school_cell_uuid": "13317d5c6f5f49c3a68b09ea440b1d43"
   },
   "outputs": [
    {
     "data": {
      "text/plain": [
       "array([[ 1.,  1.,  1.],\n",
       "       [ 1.,  1.,  1.],\n",
       "       [ 1.,  1.,  1.]])"
      ]
     },
     "execution_count": 128,
     "metadata": {},
     "output_type": "execute_result"
    }
   ],
   "source": [
    "c = np.ones((3, 3))\n",
    "c"
   ]
  },
  {
   "cell_type": "code",
   "execution_count": 129,
   "metadata": {
    "collapsed": false,
    "school_cell_uuid": "0808c4ff465d4945bdc19c481f23cfea"
   },
   "outputs": [
    {
     "data": {
      "text/plain": [
       "array([[ 1.,  1.,  1.],\n",
       "       [ 1.,  1.,  1.],\n",
       "       [ 1.,  1.,  1.]])"
      ]
     },
     "execution_count": 129,
     "metadata": {},
     "output_type": "execute_result"
    }
   ],
   "source": [
    "c * c # element-wise, NOT Matrix product"
   ]
  },
  {
   "cell_type": "code",
   "execution_count": 130,
   "metadata": {
    "collapsed": false,
    "school_cell_uuid": "54c8f2b3106b4637a6b61a508329218e"
   },
   "outputs": [
    {
     "data": {
      "text/plain": [
       "array([[ 3.,  3.,  3.],\n",
       "       [ 3.,  3.,  3.],\n",
       "       [ 3.,  3.,  3.]])"
      ]
     },
     "execution_count": 130,
     "metadata": {},
     "output_type": "execute_result"
    }
   ],
   "source": [
    "c.dot(c) # matrix product"
   ]
  },
  {
   "cell_type": "code",
   "execution_count": 131,
   "metadata": {
    "collapsed": true,
    "school_cell_uuid": "908fac8b09f548c9a3a43a9fc7e08a30"
   },
   "outputs": [],
   "source": [
    "a = np.array([1, 2, 3, 4])\n",
    "b = np.array([4, 2, 2, 4])"
   ]
  },
  {
   "cell_type": "code",
   "execution_count": 132,
   "metadata": {
    "collapsed": false,
    "school_cell_uuid": "e36b72f9022040c9b46e9ae36654861a"
   },
   "outputs": [
    {
     "data": {
      "text/plain": [
       "array([False,  True, False,  True], dtype=bool)"
      ]
     },
     "execution_count": 132,
     "metadata": {},
     "output_type": "execute_result"
    }
   ],
   "source": [
    "a == b"
   ]
  },
  {
   "cell_type": "code",
   "execution_count": 133,
   "metadata": {
    "collapsed": false,
    "school_cell_uuid": "fcfa27fa9eff41cda8a9d065d1460a9d"
   },
   "outputs": [
    {
     "data": {
      "text/plain": [
       "array([False, False,  True, False], dtype=bool)"
      ]
     },
     "execution_count": 133,
     "metadata": {},
     "output_type": "execute_result"
    }
   ],
   "source": [
    "a > b"
   ]
  },
  {
   "cell_type": "code",
   "execution_count": 134,
   "metadata": {
    "collapsed": true,
    "school_cell_uuid": "28faefa108b245beb6b9eac7e90f7bb1"
   },
   "outputs": [],
   "source": [
    "a = np.array([1, 2, 3, 4])\n",
    "b = np.array([4, 2, 2, 4])\n",
    "c = np.array([1, 2, 3, 4])"
   ]
  },
  {
   "cell_type": "code",
   "execution_count": 135,
   "metadata": {
    "collapsed": false,
    "school_cell_uuid": "119529ebfbb24c34a28edf203f34e3b5"
   },
   "outputs": [
    {
     "data": {
      "text/plain": [
       "False"
      ]
     },
     "execution_count": 135,
     "metadata": {},
     "output_type": "execute_result"
    }
   ],
   "source": [
    "np.array_equal(a, b)"
   ]
  },
  {
   "cell_type": "code",
   "execution_count": 136,
   "metadata": {
    "collapsed": false,
    "school_cell_uuid": "8343f5ae197b424e907d4f8a4a777585"
   },
   "outputs": [
    {
     "data": {
      "text/plain": [
       "True"
      ]
     },
     "execution_count": 136,
     "metadata": {},
     "output_type": "execute_result"
    }
   ],
   "source": [
    "np.array_equal(a, c)"
   ]
  },
  {
   "cell_type": "code",
   "execution_count": 137,
   "metadata": {
    "collapsed": true,
    "school_cell_uuid": "f55f5cced913429d9e674f98e3deb468"
   },
   "outputs": [],
   "source": [
    "a = np.arange(5)"
   ]
  },
  {
   "cell_type": "code",
   "execution_count": 138,
   "metadata": {
    "collapsed": false,
    "school_cell_uuid": "d78cba4c8a234145aaee18e75c122abf"
   },
   "outputs": [
    {
     "data": {
      "text/plain": [
       "array([ 0.        ,  0.84147098,  0.90929743,  0.14112001, -0.7568025 ])"
      ]
     },
     "execution_count": 138,
     "metadata": {},
     "output_type": "execute_result"
    }
   ],
   "source": [
    "np.sin(a)"
   ]
  },
  {
   "cell_type": "code",
   "execution_count": 139,
   "metadata": {
    "collapsed": false,
    "school_cell_uuid": "cae50195daa1434db56ddb690d89d7de"
   },
   "outputs": [
    {
     "data": {
      "text/plain": [
       "array([       -inf,  0.        ,  0.69314718,  1.09861229,  1.38629436])"
      ]
     },
     "execution_count": 139,
     "metadata": {},
     "output_type": "execute_result"
    }
   ],
   "source": [
    "np.log(a)"
   ]
  },
  {
   "cell_type": "code",
   "execution_count": 140,
   "metadata": {
    "collapsed": false,
    "school_cell_uuid": "6f34030673ce48998395b8d8352dfcdc"
   },
   "outputs": [
    {
     "data": {
      "text/plain": [
       "array([  1.        ,   2.71828183,   7.3890561 ,  20.08553692,  54.59815003])"
      ]
     },
     "execution_count": 140,
     "metadata": {},
     "output_type": "execute_result"
    }
   ],
   "source": [
    "np.exp(a)"
   ]
  },
  {
   "cell_type": "code",
   "execution_count": 141,
   "metadata": {
    "collapsed": false,
    "school_cell_uuid": "fcfcd4689a10489e8e8a10afec98d242"
   },
   "outputs": [
    {
     "data": {
      "text/plain": [
       "array([       -inf,  0.        ,  0.30103   ,  0.47712125,  0.60205999])"
      ]
     },
     "execution_count": 141,
     "metadata": {},
     "output_type": "execute_result"
    }
   ],
   "source": [
    "np.log10(a)"
   ]
  },
  {
   "cell_type": "code",
   "execution_count": 142,
   "metadata": {
    "collapsed": true,
    "school_cell_uuid": "092e3c9d2e614de9b7668d9483964054"
   },
   "outputs": [],
   "source": [
    "a = np.arange(4)\n",
    "b = np.array([1, 2])"
   ]
  },
  {
   "cell_type": "code",
   "execution_count": 143,
   "metadata": {
    "collapsed": false,
    "school_cell_uuid": "b42f535c7bc04caaab8547bf325e62e5"
   },
   "outputs": [
    {
     "data": {
      "text/plain": [
       "array([0, 1, 2, 3])"
      ]
     },
     "execution_count": 143,
     "metadata": {},
     "output_type": "execute_result"
    }
   ],
   "source": [
    "a"
   ]
  },
  {
   "cell_type": "code",
   "execution_count": 144,
   "metadata": {
    "collapsed": false,
    "school_cell_uuid": "eea735fdc92144139468a7a392abece8"
   },
   "outputs": [
    {
     "data": {
      "text/plain": [
       "array([1, 2])"
      ]
     },
     "execution_count": 144,
     "metadata": {},
     "output_type": "execute_result"
    }
   ],
   "source": [
    "b"
   ]
  },
  {
   "cell_type": "code",
   "execution_count": 145,
   "metadata": {
    "collapsed": false,
    "school_cell_uuid": "7325ea11f54a4f3c8fb1387c4e1ffdfd"
   },
   "outputs": [
    {
     "ename": "ValueError",
     "evalue": "operands could not be broadcast together with shapes (4,) (2,) ",
     "output_type": "error",
     "traceback": [
      "\u001b[1;31m---------------------------------------------------------------------------\u001b[0m",
      "\u001b[1;31mValueError\u001b[0m                                Traceback (most recent call last)",
      "\u001b[1;32m<ipython-input-145-f96fb8f649b6>\u001b[0m in \u001b[0;36m<module>\u001b[1;34m()\u001b[0m\n\u001b[1;32m----> 1\u001b[1;33m \u001b[0ma\u001b[0m \u001b[1;33m+\u001b[0m \u001b[0mb\u001b[0m\u001b[1;33m\u001b[0m\u001b[0m\n\u001b[0m",
      "\u001b[1;31mValueError\u001b[0m: operands could not be broadcast together with shapes (4,) (2,) "
     ]
    }
   ],
   "source": [
    "a + b"
   ]
  },
  {
   "cell_type": "markdown",
   "metadata": {
    "school_cell_uuid": "32dae9ecbccb468d8a15be07cf1bf037"
   },
   "source": [
    "### Dimension Reduction Operation\n",
    "\n",
    "* sum\n",
    "* min, max, argmin, argmax\n",
    "* mean, median, std, var\n",
    "* all, any"
   ]
  },
  {
   "cell_type": "code",
   "execution_count": 147,
   "metadata": {
    "collapsed": false,
    "school_cell_uuid": "c6cca002ae6e473a8cf76f3d5ca8ad04"
   },
   "outputs": [
    {
     "data": {
      "text/plain": [
       "array([1, 2, 3, 4])"
      ]
     },
     "execution_count": 147,
     "metadata": {},
     "output_type": "execute_result"
    }
   ],
   "source": [
    "x = np.array([1, 2, 3, 4])\n",
    "x"
   ]
  },
  {
   "cell_type": "code",
   "execution_count": 148,
   "metadata": {
    "collapsed": false,
    "school_cell_uuid": "6184a96e358247248996bbec083f5d08"
   },
   "outputs": [
    {
     "data": {
      "text/plain": [
       "10"
      ]
     },
     "execution_count": 148,
     "metadata": {},
     "output_type": "execute_result"
    }
   ],
   "source": [
    "np.sum(x)"
   ]
  },
  {
   "cell_type": "code",
   "execution_count": 149,
   "metadata": {
    "collapsed": false,
    "school_cell_uuid": "69423dc5e1624313ad2fc51fdbe32f3b"
   },
   "outputs": [
    {
     "data": {
      "text/plain": [
       "10"
      ]
     },
     "execution_count": 149,
     "metadata": {},
     "output_type": "execute_result"
    }
   ],
   "source": [
    "x.sum()"
   ]
  },
  {
   "cell_type": "code",
   "execution_count": 150,
   "metadata": {
    "collapsed": false,
    "school_cell_uuid": "5a2f8927e7bd4c0da92d98ed0f961652"
   },
   "outputs": [
    {
     "data": {
      "text/plain": [
       "array([[1, 1],\n",
       "       [2, 2]])"
      ]
     },
     "execution_count": 150,
     "metadata": {},
     "output_type": "execute_result"
    }
   ],
   "source": [
    "x = np.array([[1, 1], [2, 2]])\n",
    "x"
   ]
  },
  {
   "cell_type": "markdown",
   "metadata": {
    "school_cell_uuid": "728f477dc8e04739a00b7a21e710c73a"
   },
   "source": [
    "<img src=\"http://www.scipy-lectures.org/_images/reductions.png\", style=\"width: 20%; margin: 0 auto 0 auto;\">"
   ]
  },
  {
   "cell_type": "code",
   "execution_count": 151,
   "metadata": {
    "collapsed": false,
    "school_cell_uuid": "b78b76e374b8470ab1ef2fdfe54178ad"
   },
   "outputs": [
    {
     "data": {
      "text/plain": [
       "6"
      ]
     },
     "execution_count": 151,
     "metadata": {},
     "output_type": "execute_result"
    }
   ],
   "source": [
    "x.sum()"
   ]
  },
  {
   "cell_type": "code",
   "execution_count": 152,
   "metadata": {
    "collapsed": false,
    "school_cell_uuid": "ebdf3e5f60e3447a9f493af747d48952"
   },
   "outputs": [
    {
     "data": {
      "text/plain": [
       "array([3, 3])"
      ]
     },
     "execution_count": 152,
     "metadata": {},
     "output_type": "execute_result"
    }
   ],
   "source": [
    "x.sum(axis=0)   # columns (first dimension)"
   ]
  },
  {
   "cell_type": "code",
   "execution_count": 153,
   "metadata": {
    "collapsed": false,
    "school_cell_uuid": "c4569b13f21a41e48dd3baedf51b2e24"
   },
   "outputs": [
    {
     "data": {
      "text/plain": [
       "array([2, 4])"
      ]
     },
     "execution_count": 153,
     "metadata": {},
     "output_type": "execute_result"
    }
   ],
   "source": [
    "x.sum(axis=1)   # rows (second dimension)"
   ]
  },
  {
   "cell_type": "code",
   "execution_count": 154,
   "metadata": {
    "collapsed": true,
    "school_cell_uuid": "c33ebcee6e9040a18dd1763c1c858a61"
   },
   "outputs": [],
   "source": [
    "x = np.array([1, 3, 2])"
   ]
  },
  {
   "cell_type": "code",
   "execution_count": 155,
   "metadata": {
    "collapsed": false,
    "school_cell_uuid": "c030a3e49d3e467682695d618d905fe4"
   },
   "outputs": [
    {
     "data": {
      "text/plain": [
       "1"
      ]
     },
     "execution_count": 155,
     "metadata": {},
     "output_type": "execute_result"
    }
   ],
   "source": [
    "x.min()"
   ]
  },
  {
   "cell_type": "code",
   "execution_count": 156,
   "metadata": {
    "collapsed": false,
    "school_cell_uuid": "28a557a13cbb4f9e9dc7a1f9008186f5"
   },
   "outputs": [
    {
     "data": {
      "text/plain": [
       "3"
      ]
     },
     "execution_count": 156,
     "metadata": {},
     "output_type": "execute_result"
    }
   ],
   "source": [
    "x.max()"
   ]
  },
  {
   "cell_type": "code",
   "execution_count": 157,
   "metadata": {
    "collapsed": false,
    "school_cell_uuid": "fb33b6077810432d89554e05475af4bc"
   },
   "outputs": [
    {
     "data": {
      "text/plain": [
       "0"
      ]
     },
     "execution_count": 157,
     "metadata": {},
     "output_type": "execute_result"
    }
   ],
   "source": [
    "x.argmin()  # index of minimum"
   ]
  },
  {
   "cell_type": "code",
   "execution_count": 158,
   "metadata": {
    "collapsed": false,
    "school_cell_uuid": "69ac4baadffd4bcc939f76911f109059"
   },
   "outputs": [
    {
     "data": {
      "text/plain": [
       "1"
      ]
     },
     "execution_count": 158,
     "metadata": {},
     "output_type": "execute_result"
    }
   ],
   "source": [
    "x.argmax()  # index of maximum"
   ]
  },
  {
   "cell_type": "code",
   "execution_count": 159,
   "metadata": {
    "collapsed": false,
    "school_cell_uuid": "7ab8246159b3436cad682f4c0d756cfd"
   },
   "outputs": [
    {
     "data": {
      "text/plain": [
       "False"
      ]
     },
     "execution_count": 159,
     "metadata": {},
     "output_type": "execute_result"
    }
   ],
   "source": [
    "np.all([True, True, False])"
   ]
  },
  {
   "cell_type": "code",
   "execution_count": 160,
   "metadata": {
    "collapsed": false,
    "school_cell_uuid": "5dbbcbe735b04029aea6a85e2a3a1b52"
   },
   "outputs": [
    {
     "data": {
      "text/plain": [
       "True"
      ]
     },
     "execution_count": 160,
     "metadata": {},
     "output_type": "execute_result"
    }
   ],
   "source": [
    "np.any([True, True, False])"
   ]
  },
  {
   "cell_type": "code",
   "execution_count": 161,
   "metadata": {
    "collapsed": false,
    "school_cell_uuid": "37baec1c27224a279129b80eb8f8d33f"
   },
   "outputs": [
    {
     "data": {
      "text/plain": [
       "array([[0, 0, 0, ..., 0, 0, 0],\n",
       "       [0, 0, 0, ..., 0, 0, 0],\n",
       "       [0, 0, 0, ..., 0, 0, 0],\n",
       "       ..., \n",
       "       [0, 0, 0, ..., 0, 0, 0],\n",
       "       [0, 0, 0, ..., 0, 0, 0],\n",
       "       [0, 0, 0, ..., 0, 0, 0]])"
      ]
     },
     "execution_count": 161,
     "metadata": {},
     "output_type": "execute_result"
    }
   ],
   "source": [
    "a = np.zeros((100, 100), dtype=np.int)\n",
    "a"
   ]
  },
  {
   "cell_type": "code",
   "execution_count": 162,
   "metadata": {
    "collapsed": false,
    "school_cell_uuid": "ca79bd7417b5495ab2086be8c954fbe3"
   },
   "outputs": [
    {
     "data": {
      "text/plain": [
       "False"
      ]
     },
     "execution_count": 162,
     "metadata": {},
     "output_type": "execute_result"
    }
   ],
   "source": [
    "np.any(a != 0)"
   ]
  },
  {
   "cell_type": "code",
   "execution_count": 163,
   "metadata": {
    "collapsed": false,
    "school_cell_uuid": "2de669172bd04e739d1d17616c22f2e3"
   },
   "outputs": [
    {
     "data": {
      "text/plain": [
       "True"
      ]
     },
     "execution_count": 163,
     "metadata": {},
     "output_type": "execute_result"
    }
   ],
   "source": [
    "np.all(a == a)"
   ]
  },
  {
   "cell_type": "code",
   "execution_count": 164,
   "metadata": {
    "collapsed": true,
    "school_cell_uuid": "676a2c31070e43a58de3ee8191a9d928"
   },
   "outputs": [],
   "source": [
    "a = np.array([1, 2, 3, 2])\n",
    "b = np.array([2, 2, 3, 2])\n",
    "c = np.array([6, 4, 4, 5])"
   ]
  },
  {
   "cell_type": "code",
   "execution_count": 165,
   "metadata": {
    "collapsed": false,
    "school_cell_uuid": "293c727360694ddbbab20520684b1e7c"
   },
   "outputs": [
    {
     "data": {
      "text/plain": [
       "True"
      ]
     },
     "execution_count": 165,
     "metadata": {},
     "output_type": "execute_result"
    }
   ],
   "source": [
    "((a <= b) & (b <= c)).all()"
   ]
  },
  {
   "cell_type": "code",
   "execution_count": 166,
   "metadata": {
    "collapsed": true,
    "school_cell_uuid": "76fb933baa7343169d3eeaba66ed8e92"
   },
   "outputs": [],
   "source": [
    "x = np.array([1, 2, 3, 1])\n",
    "y = np.array([[1, 2, 3], [5, 6, 1]])"
   ]
  },
  {
   "cell_type": "code",
   "execution_count": 167,
   "metadata": {
    "collapsed": false,
    "school_cell_uuid": "fbcaabf293a146feb6669e8633ddd613"
   },
   "outputs": [
    {
     "data": {
      "text/plain": [
       "1.75"
      ]
     },
     "execution_count": 167,
     "metadata": {},
     "output_type": "execute_result"
    }
   ],
   "source": [
    "x.mean()"
   ]
  },
  {
   "cell_type": "code",
   "execution_count": 168,
   "metadata": {
    "collapsed": false,
    "school_cell_uuid": "94763bcbd0df4d878a967c5c9330c17e"
   },
   "outputs": [
    {
     "data": {
      "text/plain": [
       "1.5"
      ]
     },
     "execution_count": 168,
     "metadata": {},
     "output_type": "execute_result"
    }
   ],
   "source": [
    "np.median(x)"
   ]
  },
  {
   "cell_type": "code",
   "execution_count": 169,
   "metadata": {
    "collapsed": false,
    "school_cell_uuid": "b915c8da8d9344bca3540927fe9f0e85"
   },
   "outputs": [
    {
     "data": {
      "text/plain": [
       "array([ 2.,  5.])"
      ]
     },
     "execution_count": 169,
     "metadata": {},
     "output_type": "execute_result"
    }
   ],
   "source": [
    "np.median(y, axis=-1) # last axis"
   ]
  },
  {
   "cell_type": "code",
   "execution_count": 170,
   "metadata": {
    "collapsed": false,
    "school_cell_uuid": "c099718527734ef7a9d8fa4a86d9b642"
   },
   "outputs": [
    {
     "data": {
      "text/plain": [
       "0.82915619758884995"
      ]
     },
     "execution_count": 170,
     "metadata": {},
     "output_type": "execute_result"
    }
   ],
   "source": [
    "x.std()          # full population standard dev."
   ]
  },
  {
   "cell_type": "markdown",
   "metadata": {
    "school_cell_uuid": "358d9500eaae445cac95192e8246c932"
   },
   "source": [
    "### Broadcasting"
   ]
  },
  {
   "cell_type": "markdown",
   "metadata": {
    "school_cell_uuid": "e87d7709e9ee42cc85898d7b9bfc8b43"
   },
   "source": [
    "<img src=\"http://www.scipy-lectures.org/_images/numpy_broadcasting.png\" style=\"width: 60%; margin: 0 auto 0 auto;\">"
   ]
  },
  {
   "cell_type": "code",
   "execution_count": 171,
   "metadata": {
    "collapsed": false,
    "school_cell_uuid": "d6034b0e14094d329539d0a7cf88ac3e"
   },
   "outputs": [
    {
     "data": {
      "text/plain": [
       "array([[ 0,  0,  0],\n",
       "       [10, 10, 10],\n",
       "       [20, 20, 20],\n",
       "       [30, 30, 30]])"
      ]
     },
     "execution_count": 171,
     "metadata": {},
     "output_type": "execute_result"
    }
   ],
   "source": [
    "a = np.tile(np.arange(0, 40, 10), (3, 1)).T\n",
    "a"
   ]
  },
  {
   "cell_type": "code",
   "execution_count": 172,
   "metadata": {
    "collapsed": false,
    "school_cell_uuid": "a7a7d5f2251d4a219a0955cca0eeccfd"
   },
   "outputs": [
    {
     "data": {
      "text/plain": [
       "array([0, 1, 2])"
      ]
     },
     "execution_count": 172,
     "metadata": {},
     "output_type": "execute_result"
    }
   ],
   "source": [
    "b = np.array([0, 1, 2])\n",
    "b"
   ]
  },
  {
   "cell_type": "code",
   "execution_count": 173,
   "metadata": {
    "collapsed": false,
    "school_cell_uuid": "d905f811799e4b19b51d4d7c1c9816cb"
   },
   "outputs": [
    {
     "data": {
      "text/plain": [
       "array([[ 0,  1,  2],\n",
       "       [10, 11, 12],\n",
       "       [20, 21, 22],\n",
       "       [30, 31, 32]])"
      ]
     },
     "execution_count": 173,
     "metadata": {},
     "output_type": "execute_result"
    }
   ],
   "source": [
    "a + b"
   ]
  },
  {
   "cell_type": "code",
   "execution_count": 174,
   "metadata": {
    "collapsed": false,
    "school_cell_uuid": "bc179ec18f274d8eb255416315cb4c5d"
   },
   "outputs": [
    {
     "data": {
      "text/plain": [
       "array([[ 0],\n",
       "       [10],\n",
       "       [20],\n",
       "       [30]])"
      ]
     },
     "execution_count": 174,
     "metadata": {},
     "output_type": "execute_result"
    }
   ],
   "source": [
    "a[:,0][:, np.newaxis]"
   ]
  },
  {
   "cell_type": "code",
   "execution_count": 175,
   "metadata": {
    "collapsed": false,
    "school_cell_uuid": "d4212a1ba4984a0284dadd264ec682ea"
   },
   "outputs": [
    {
     "data": {
      "text/plain": [
       "array([[ 0,  1,  2],\n",
       "       [10, 11, 12],\n",
       "       [20, 21, 22],\n",
       "       [30, 31, 32]])"
      ]
     },
     "execution_count": 175,
     "metadata": {},
     "output_type": "execute_result"
    }
   ],
   "source": [
    "a[:,0][:, np.newaxis] + b"
   ]
  },
  {
   "cell_type": "code",
   "execution_count": 176,
   "metadata": {
    "collapsed": false,
    "school_cell_uuid": "757656f20b29454caad811fc2bb8d6f8"
   },
   "outputs": [
    {
     "data": {
      "text/plain": [
       "array([[ 1.,  1.,  1.,  1.,  1.],\n",
       "       [ 1.,  1.,  1.,  1.,  1.],\n",
       "       [ 1.,  1.,  1.,  1.,  1.],\n",
       "       [ 1.,  1.,  1.,  1.,  1.]])"
      ]
     },
     "execution_count": 176,
     "metadata": {},
     "output_type": "execute_result"
    }
   ],
   "source": [
    "a = np.ones((4, 5))\n",
    "a"
   ]
  },
  {
   "cell_type": "code",
   "execution_count": 177,
   "metadata": {
    "collapsed": false,
    "school_cell_uuid": "da6020c8f6074ae18a6a0a56bb321fff"
   },
   "outputs": [
    {
     "data": {
      "text/plain": [
       "array([ 1.,  1.,  1.,  1.,  1.])"
      ]
     },
     "execution_count": 177,
     "metadata": {},
     "output_type": "execute_result"
    }
   ],
   "source": [
    "a[0]"
   ]
  },
  {
   "cell_type": "code",
   "execution_count": 178,
   "metadata": {
    "collapsed": false,
    "school_cell_uuid": "0aa23bb06f8b48c59b28ebb24d9d59e5"
   },
   "outputs": [
    {
     "data": {
      "text/plain": [
       "array([[ 2.,  2.,  2.,  2.,  2.],\n",
       "       [ 1.,  1.,  1.,  1.,  1.],\n",
       "       [ 1.,  1.,  1.,  1.,  1.],\n",
       "       [ 1.,  1.,  1.,  1.,  1.]])"
      ]
     },
     "execution_count": 178,
     "metadata": {},
     "output_type": "execute_result"
    }
   ],
   "source": [
    "a[0] = 2\n",
    "a"
   ]
  },
  {
   "cell_type": "code",
   "execution_count": 179,
   "metadata": {
    "collapsed": true,
    "school_cell_uuid": "5064ed546b2e4270b9c3cba0109ad344"
   },
   "outputs": [],
   "source": [
    "x, y = np.arange(5), np.arange(5)[:, np.newaxis]"
   ]
  },
  {
   "cell_type": "code",
   "execution_count": 180,
   "metadata": {
    "collapsed": false,
    "school_cell_uuid": "38a403ee9f774aa082f74ca2b8a83dd5"
   },
   "outputs": [
    {
     "data": {
      "text/plain": [
       "array([0, 1, 2, 3, 4])"
      ]
     },
     "execution_count": 180,
     "metadata": {},
     "output_type": "execute_result"
    }
   ],
   "source": [
    "x"
   ]
  },
  {
   "cell_type": "code",
   "execution_count": 181,
   "metadata": {
    "collapsed": false,
    "school_cell_uuid": "984ae2dbd1e844f78a7efe0bf867b374"
   },
   "outputs": [
    {
     "data": {
      "text/plain": [
       "array([[0],\n",
       "       [1],\n",
       "       [2],\n",
       "       [3],\n",
       "       [4]])"
      ]
     },
     "execution_count": 181,
     "metadata": {},
     "output_type": "execute_result"
    }
   ],
   "source": [
    "y"
   ]
  },
  {
   "cell_type": "code",
   "execution_count": 182,
   "metadata": {
    "collapsed": false,
    "school_cell_uuid": "da22bb99de704d0d9629043befa65500"
   },
   "outputs": [
    {
     "data": {
      "text/plain": [
       "array([[ 0.        ,  1.        ,  2.        ,  3.        ,  4.        ],\n",
       "       [ 1.        ,  1.41421356,  2.23606798,  3.16227766,  4.12310563],\n",
       "       [ 2.        ,  2.23606798,  2.82842712,  3.60555128,  4.47213595],\n",
       "       [ 3.        ,  3.16227766,  3.60555128,  4.24264069,  5.        ],\n",
       "       [ 4.        ,  4.12310563,  4.47213595,  5.        ,  5.65685425]])"
      ]
     },
     "execution_count": 182,
     "metadata": {},
     "output_type": "execute_result"
    }
   ],
   "source": [
    "distance = np.sqrt(x ** 2 + y ** 2)\n",
    "distance"
   ]
  },
  {
   "cell_type": "markdown",
   "metadata": {
    "school_cell_uuid": "929b839e13fa45d8be05ebfdf6954871"
   },
   "source": [
    "### ogrid, mgrid, meshgrid"
   ]
  },
  {
   "cell_type": "code",
   "execution_count": 183,
   "metadata": {
    "collapsed": true,
    "school_cell_uuid": "f430ea45d70140e4bd3ca0298fe56374",
    "slideshow": {
     "slide_type": "-"
    }
   },
   "outputs": [],
   "source": [
    "x, y = np.ogrid[0:3, 0:5]"
   ]
  },
  {
   "cell_type": "code",
   "execution_count": 184,
   "metadata": {
    "collapsed": false,
    "school_cell_uuid": "fdd155a25d9a4181be2acdc392a85a8d"
   },
   "outputs": [
    {
     "data": {
      "text/plain": [
       "array([[0],\n",
       "       [1],\n",
       "       [2]])"
      ]
     },
     "execution_count": 184,
     "metadata": {},
     "output_type": "execute_result"
    }
   ],
   "source": [
    "x"
   ]
  },
  {
   "cell_type": "code",
   "execution_count": 185,
   "metadata": {
    "collapsed": false,
    "school_cell_uuid": "5ce1d3bf7a9b40e59eaba022f81013cf"
   },
   "outputs": [
    {
     "data": {
      "text/plain": [
       "array([[0, 1, 2, 3, 4]])"
      ]
     },
     "execution_count": 185,
     "metadata": {},
     "output_type": "execute_result"
    }
   ],
   "source": [
    "y"
   ]
  },
  {
   "cell_type": "code",
   "execution_count": 186,
   "metadata": {
    "collapsed": false,
    "school_cell_uuid": "195d1f2cf3b34fb783bfd7e65b6ddb88"
   },
   "outputs": [
    {
     "data": {
      "text/plain": [
       "[array([[-1.],\n",
       "        [ 0.],\n",
       "        [ 1.]]), array([[-1. , -0.5,  0. ,  0.5,  1. ]])]"
      ]
     },
     "execution_count": 186,
     "metadata": {},
     "output_type": "execute_result"
    }
   ],
   "source": [
    "np.ogrid[-1:1:3j, -1:1:5j]"
   ]
  },
  {
   "cell_type": "code",
   "execution_count": 187,
   "metadata": {
    "collapsed": true,
    "school_cell_uuid": "5f5aa92e1f92441ea8bb24bb6668b9a3"
   },
   "outputs": [],
   "source": [
    "x, y = np.mgrid[0:3, 0:5]"
   ]
  },
  {
   "cell_type": "code",
   "execution_count": 188,
   "metadata": {
    "collapsed": false,
    "school_cell_uuid": "ad55183a6940438bb7228313e416ed17"
   },
   "outputs": [
    {
     "data": {
      "text/plain": [
       "array([[0, 0, 0, 0, 0],\n",
       "       [1, 1, 1, 1, 1],\n",
       "       [2, 2, 2, 2, 2]])"
      ]
     },
     "execution_count": 188,
     "metadata": {},
     "output_type": "execute_result"
    }
   ],
   "source": [
    "x"
   ]
  },
  {
   "cell_type": "code",
   "execution_count": 189,
   "metadata": {
    "collapsed": false,
    "school_cell_uuid": "5f97321fd4f148b4b60b5ca91c0cbd4f"
   },
   "outputs": [
    {
     "data": {
      "text/plain": [
       "array([[0, 1, 2, 3, 4],\n",
       "       [0, 1, 2, 3, 4],\n",
       "       [0, 1, 2, 3, 4]])"
      ]
     },
     "execution_count": 189,
     "metadata": {},
     "output_type": "execute_result"
    }
   ],
   "source": [
    "y"
   ]
  },
  {
   "cell_type": "code",
   "execution_count": 190,
   "metadata": {
    "collapsed": false,
    "school_cell_uuid": "c670db99aa984d6aa55d785a0e81642b"
   },
   "outputs": [
    {
     "data": {
      "text/plain": [
       "array([[[-1. , -1. , -1. , -1. , -1. ],\n",
       "        [ 0. ,  0. ,  0. ,  0. ,  0. ],\n",
       "        [ 1. ,  1. ,  1. ,  1. ,  1. ]],\n",
       "\n",
       "       [[-1. , -0.5,  0. ,  0.5,  1. ],\n",
       "        [-1. , -0.5,  0. ,  0.5,  1. ],\n",
       "        [-1. , -0.5,  0. ,  0.5,  1. ]]])"
      ]
     },
     "execution_count": 190,
     "metadata": {},
     "output_type": "execute_result"
    }
   ],
   "source": [
    "np.mgrid[-1:1:3j, -1:1:5j]"
   ]
  },
  {
   "cell_type": "code",
   "execution_count": 191,
   "metadata": {
    "collapsed": true,
    "school_cell_uuid": "1e41c74a6b274375a251676e0c4e581d"
   },
   "outputs": [],
   "source": [
    "X, Y = np.meshgrid(np.arange(3), np.arange(5))"
   ]
  },
  {
   "cell_type": "code",
   "execution_count": 192,
   "metadata": {
    "collapsed": false,
    "school_cell_uuid": "1da93754402a44ff9de26eb35052c9d7"
   },
   "outputs": [
    {
     "data": {
      "text/plain": [
       "array([[0, 1, 2],\n",
       "       [0, 1, 2],\n",
       "       [0, 1, 2],\n",
       "       [0, 1, 2],\n",
       "       [0, 1, 2]])"
      ]
     },
     "execution_count": 192,
     "metadata": {},
     "output_type": "execute_result"
    }
   ],
   "source": [
    "X"
   ]
  },
  {
   "cell_type": "code",
   "execution_count": 193,
   "metadata": {
    "collapsed": false,
    "school_cell_uuid": "43e745f970bb4995bdab3f5a969f54b5"
   },
   "outputs": [
    {
     "data": {
      "text/plain": [
       "array([[0, 0, 0],\n",
       "       [1, 1, 1],\n",
       "       [2, 2, 2],\n",
       "       [3, 3, 3],\n",
       "       [4, 4, 4]])"
      ]
     },
     "execution_count": 193,
     "metadata": {},
     "output_type": "execute_result"
    }
   ],
   "source": [
    "Y"
   ]
  },
  {
   "cell_type": "code",
   "execution_count": 194,
   "metadata": {
    "collapsed": false,
    "school_cell_uuid": "56b3eea02ec04c6a967c09de7b105c96"
   },
   "outputs": [
    {
     "data": {
      "text/plain": [
       "[(0, 0),\n",
       " (1, 0),\n",
       " (2, 0),\n",
       " (0, 1),\n",
       " (1, 1),\n",
       " (2, 1),\n",
       " (0, 2),\n",
       " (1, 2),\n",
       " (2, 2),\n",
       " (0, 3),\n",
       " (1, 3),\n",
       " (2, 3),\n",
       " (0, 4),\n",
       " (1, 4),\n",
       " (2, 4)]"
      ]
     },
     "execution_count": 194,
     "metadata": {},
     "output_type": "execute_result"
    }
   ],
   "source": [
    "zip(X.ravel(), Y.ravel())"
   ]
  },
  {
   "cell_type": "code",
   "execution_count": 195,
   "metadata": {
    "collapsed": false,
    "school_cell_uuid": "a4a498202a5a41889de022257f96a61f"
   },
   "outputs": [
    {
     "data": {
      "text/plain": [
       "<matplotlib.collections.PathCollection at 0x7fa534eaca90>"
      ]
     },
     "execution_count": 195,
     "metadata": {},
     "output_type": "execute_result"
    },
    {
     "data": {
      "image/svg+xml": [
       "<?xml version=\"1.0\" encoding=\"utf-8\" standalone=\"no\"?>\n",
       "<!DOCTYPE svg PUBLIC \"-//W3C//DTD SVG 1.1//EN\"\n",
       "  \"http://www.w3.org/Graphics/SVG/1.1/DTD/svg11.dtd\">\n",
       "<!-- Created with matplotlib (http://matplotlib.org/) -->\n",
       "<svg height=\"342pt\" version=\"1.1\" viewBox=\"0 0 486 342\" width=\"486pt\" xmlns=\"http://www.w3.org/2000/svg\" xmlns:xlink=\"http://www.w3.org/1999/xlink\">\n",
       " <defs>\n",
       "  <style type=\"text/css\">\n",
       "*{stroke-linecap:butt;stroke-linejoin:round;stroke-miterlimit:100000;}\n",
       "  </style>\n",
       " </defs>\n",
       " <g id=\"figure_1\">\n",
       "  <g id=\"patch_1\">\n",
       "   <path d=\"M 0 342.017969 \n",
       "L 486.151562 342.017969 \n",
       "L 486.151562 0 \n",
       "L 0 0 \n",
       "z\n",
       "\" style=\"fill:#ffffff;\"/>\n",
       "  </g>\n",
       "  <g id=\"axes_1\">\n",
       "   <g id=\"patch_2\">\n",
       "    <path d=\"M 25.601562 318.672656 \n",
       "L 472.001562 318.672656 \n",
       "L 472.001562 11.772656 \n",
       "L 25.601562 11.772656 \n",
       "z\n",
       "\" style=\"fill:#eaeaf2;\"/>\n",
       "   </g>\n",
       "   <g id=\"matplotlib.axis_1\">\n",
       "    <g id=\"xtick_1\">\n",
       "     <g id=\"line2d_1\">\n",
       "      <path clip-path=\"url(#p743fae5f6a)\" d=\"M 25.601562 318.672656 \n",
       "L 25.601562 11.772656 \n",
       "\" style=\"fill:none;stroke:#ffffff;stroke-linecap:round;\"/>\n",
       "     </g>\n",
       "     <g id=\"line2d_2\">\n",
       "      <defs>\n",
       "       <path d=\"M 0 0 \n",
       "L 0 0 \n",
       "\" id=\"m8c1562955b\" style=\"stroke:#262626;\"/>\n",
       "      </defs>\n",
       "      <g>\n",
       "       <use style=\"fill:#262626;stroke:#262626;\" x=\"25.6015625\" xlink:href=\"#m8c1562955b\" y=\"318.67265625\"/>\n",
       "      </g>\n",
       "     </g>\n",
       "     <g id=\"line2d_3\">\n",
       "      <g>\n",
       "       <use style=\"fill:#262626;stroke:#262626;\" x=\"25.6015625\" xlink:href=\"#m8c1562955b\" y=\"11.77265625\"/>\n",
       "      </g>\n",
       "     </g>\n",
       "     <g id=\"text_1\">\n",
       "      <!-- −1.5 -->\n",
       "      <defs>\n",
       "       <path d=\"M 37.25 0 \n",
       "L 28.46875 0 \n",
       "L 28.46875 56 \n",
       "Q 25.296875 52.984375 20.140625 49.953125 \n",
       "Q 14.984375 46.921875 10.890625 45.40625 \n",
       "L 10.890625 53.90625 \n",
       "Q 18.265625 57.375 23.78125 62.296875 \n",
       "Q 29.296875 67.234375 31.59375 71.875 \n",
       "L 37.25 71.875 \n",
       "z\n",
       "\" id=\"ArialMT-31\"/>\n",
       "       <path d=\"M 52.828125 31.203125 \n",
       "L 5.5625 31.203125 \n",
       "L 5.5625 39.40625 \n",
       "L 52.828125 39.40625 \n",
       "z\n",
       "\" id=\"ArialMT-2212\"/>\n",
       "       <path d=\"M 9.078125 0 \n",
       "L 9.078125 10.015625 \n",
       "L 19.09375 10.015625 \n",
       "L 19.09375 0 \n",
       "z\n",
       "\" id=\"ArialMT-2e\"/>\n",
       "       <path d=\"M 4.15625 18.75 \n",
       "L 13.375 19.53125 \n",
       "Q 14.40625 12.796875 18.140625 9.390625 \n",
       "Q 21.875 6 27.15625 6 \n",
       "Q 33.5 6 37.890625 10.78125 \n",
       "Q 42.28125 15.578125 42.28125 23.484375 \n",
       "Q 42.28125 31 38.0625 35.34375 \n",
       "Q 33.84375 39.703125 27 39.703125 \n",
       "Q 22.75 39.703125 19.328125 37.765625 \n",
       "Q 15.921875 35.84375 13.96875 32.765625 \n",
       "L 5.71875 33.84375 \n",
       "L 12.640625 70.609375 \n",
       "L 48.25 70.609375 \n",
       "L 48.25 62.203125 \n",
       "L 19.671875 62.203125 \n",
       "L 15.828125 42.96875 \n",
       "Q 22.265625 47.46875 29.34375 47.46875 \n",
       "Q 38.71875 47.46875 45.15625 40.96875 \n",
       "Q 51.609375 34.46875 51.609375 24.265625 \n",
       "Q 51.609375 14.546875 45.953125 7.46875 \n",
       "Q 39.0625 -1.21875 27.15625 -1.21875 \n",
       "Q 17.390625 -1.21875 11.203125 4.25 \n",
       "Q 5.03125 9.71875 4.15625 18.75 \n",
       "\" id=\"ArialMT-35\"/>\n",
       "      </defs>\n",
       "      <g style=\"fill:#262626;\" transform=\"translate(15.73125 332.83046875)scale(0.1 -0.1)\">\n",
       "       <use xlink:href=\"#ArialMT-2212\"/>\n",
       "       <use x=\"58.3984375\" xlink:href=\"#ArialMT-31\"/>\n",
       "       <use x=\"114.013671875\" xlink:href=\"#ArialMT-2e\"/>\n",
       "       <use x=\"141.796875\" xlink:href=\"#ArialMT-35\"/>\n",
       "      </g>\n",
       "     </g>\n",
       "    </g>\n",
       "    <g id=\"xtick_2\">\n",
       "     <g id=\"line2d_4\">\n",
       "      <path clip-path=\"url(#p743fae5f6a)\" d=\"M 100.001563 318.672656 \n",
       "L 100.001563 11.772656 \n",
       "\" style=\"fill:none;stroke:#ffffff;stroke-linecap:round;\"/>\n",
       "     </g>\n",
       "     <g id=\"line2d_5\">\n",
       "      <g>\n",
       "       <use style=\"fill:#262626;stroke:#262626;\" x=\"100.0015625\" xlink:href=\"#m8c1562955b\" y=\"318.67265625\"/>\n",
       "      </g>\n",
       "     </g>\n",
       "     <g id=\"line2d_6\">\n",
       "      <g>\n",
       "       <use style=\"fill:#262626;stroke:#262626;\" x=\"100.0015625\" xlink:href=\"#m8c1562955b\" y=\"11.77265625\"/>\n",
       "      </g>\n",
       "     </g>\n",
       "     <g id=\"text_2\">\n",
       "      <!-- −1.0 -->\n",
       "      <defs>\n",
       "       <path d=\"M 4.15625 35.296875 \n",
       "Q 4.15625 48 6.765625 55.734375 \n",
       "Q 9.375 63.484375 14.515625 67.671875 \n",
       "Q 19.671875 71.875 27.484375 71.875 \n",
       "Q 33.25 71.875 37.59375 69.546875 \n",
       "Q 41.9375 67.234375 44.765625 62.859375 \n",
       "Q 47.609375 58.5 49.21875 52.21875 \n",
       "Q 50.828125 45.953125 50.828125 35.296875 \n",
       "Q 50.828125 22.703125 48.234375 14.96875 \n",
       "Q 45.65625 7.234375 40.5 3 \n",
       "Q 35.359375 -1.21875 27.484375 -1.21875 \n",
       "Q 17.140625 -1.21875 11.234375 6.203125 \n",
       "Q 4.15625 15.140625 4.15625 35.296875 \n",
       "M 13.1875 35.296875 \n",
       "Q 13.1875 17.671875 17.3125 11.828125 \n",
       "Q 21.4375 6 27.484375 6 \n",
       "Q 33.546875 6 37.671875 11.859375 \n",
       "Q 41.796875 17.71875 41.796875 35.296875 \n",
       "Q 41.796875 52.984375 37.671875 58.78125 \n",
       "Q 33.546875 64.59375 27.390625 64.59375 \n",
       "Q 21.34375 64.59375 17.71875 59.46875 \n",
       "Q 13.1875 52.9375 13.1875 35.296875 \n",
       "\" id=\"ArialMT-30\"/>\n",
       "      </defs>\n",
       "      <g style=\"fill:#262626;\" transform=\"translate(90.13125 332.83046875)scale(0.1 -0.1)\">\n",
       "       <use xlink:href=\"#ArialMT-2212\"/>\n",
       "       <use x=\"58.3984375\" xlink:href=\"#ArialMT-31\"/>\n",
       "       <use x=\"114.013671875\" xlink:href=\"#ArialMT-2e\"/>\n",
       "       <use x=\"141.796875\" xlink:href=\"#ArialMT-30\"/>\n",
       "      </g>\n",
       "     </g>\n",
       "    </g>\n",
       "    <g id=\"xtick_3\">\n",
       "     <g id=\"line2d_7\">\n",
       "      <path clip-path=\"url(#p743fae5f6a)\" d=\"M 174.401563 318.672656 \n",
       "L 174.401563 11.772656 \n",
       "\" style=\"fill:none;stroke:#ffffff;stroke-linecap:round;\"/>\n",
       "     </g>\n",
       "     <g id=\"line2d_8\">\n",
       "      <g>\n",
       "       <use style=\"fill:#262626;stroke:#262626;\" x=\"174.4015625\" xlink:href=\"#m8c1562955b\" y=\"318.67265625\"/>\n",
       "      </g>\n",
       "     </g>\n",
       "     <g id=\"line2d_9\">\n",
       "      <g>\n",
       "       <use style=\"fill:#262626;stroke:#262626;\" x=\"174.4015625\" xlink:href=\"#m8c1562955b\" y=\"11.77265625\"/>\n",
       "      </g>\n",
       "     </g>\n",
       "     <g id=\"text_3\">\n",
       "      <!-- −0.5 -->\n",
       "      <g style=\"fill:#262626;\" transform=\"translate(164.53125 332.83046875)scale(0.1 -0.1)\">\n",
       "       <use xlink:href=\"#ArialMT-2212\"/>\n",
       "       <use x=\"58.3984375\" xlink:href=\"#ArialMT-30\"/>\n",
       "       <use x=\"114.013671875\" xlink:href=\"#ArialMT-2e\"/>\n",
       "       <use x=\"141.796875\" xlink:href=\"#ArialMT-35\"/>\n",
       "      </g>\n",
       "     </g>\n",
       "    </g>\n",
       "    <g id=\"xtick_4\">\n",
       "     <g id=\"line2d_10\">\n",
       "      <path clip-path=\"url(#p743fae5f6a)\" d=\"M 248.801562 318.672656 \n",
       "L 248.801562 11.772656 \n",
       "\" style=\"fill:none;stroke:#ffffff;stroke-linecap:round;\"/>\n",
       "     </g>\n",
       "     <g id=\"line2d_11\">\n",
       "      <g>\n",
       "       <use style=\"fill:#262626;stroke:#262626;\" x=\"248.8015625\" xlink:href=\"#m8c1562955b\" y=\"318.67265625\"/>\n",
       "      </g>\n",
       "     </g>\n",
       "     <g id=\"line2d_12\">\n",
       "      <g>\n",
       "       <use style=\"fill:#262626;stroke:#262626;\" x=\"248.8015625\" xlink:href=\"#m8c1562955b\" y=\"11.77265625\"/>\n",
       "      </g>\n",
       "     </g>\n",
       "     <g id=\"text_4\">\n",
       "      <!-- 0.0 -->\n",
       "      <g style=\"fill:#262626;\" transform=\"translate(241.8515625 332.83046875)scale(0.1 -0.1)\">\n",
       "       <use xlink:href=\"#ArialMT-30\"/>\n",
       "       <use x=\"55.615234375\" xlink:href=\"#ArialMT-2e\"/>\n",
       "       <use x=\"83.3984375\" xlink:href=\"#ArialMT-30\"/>\n",
       "      </g>\n",
       "     </g>\n",
       "    </g>\n",
       "    <g id=\"xtick_5\">\n",
       "     <g id=\"line2d_13\">\n",
       "      <path clip-path=\"url(#p743fae5f6a)\" d=\"M 323.201562 318.672656 \n",
       "L 323.201562 11.772656 \n",
       "\" style=\"fill:none;stroke:#ffffff;stroke-linecap:round;\"/>\n",
       "     </g>\n",
       "     <g id=\"line2d_14\">\n",
       "      <g>\n",
       "       <use style=\"fill:#262626;stroke:#262626;\" x=\"323.2015625\" xlink:href=\"#m8c1562955b\" y=\"318.67265625\"/>\n",
       "      </g>\n",
       "     </g>\n",
       "     <g id=\"line2d_15\">\n",
       "      <g>\n",
       "       <use style=\"fill:#262626;stroke:#262626;\" x=\"323.2015625\" xlink:href=\"#m8c1562955b\" y=\"11.77265625\"/>\n",
       "      </g>\n",
       "     </g>\n",
       "     <g id=\"text_5\">\n",
       "      <!-- 0.5 -->\n",
       "      <g style=\"fill:#262626;\" transform=\"translate(316.2515625 332.83046875)scale(0.1 -0.1)\">\n",
       "       <use xlink:href=\"#ArialMT-30\"/>\n",
       "       <use x=\"55.615234375\" xlink:href=\"#ArialMT-2e\"/>\n",
       "       <use x=\"83.3984375\" xlink:href=\"#ArialMT-35\"/>\n",
       "      </g>\n",
       "     </g>\n",
       "    </g>\n",
       "    <g id=\"xtick_6\">\n",
       "     <g id=\"line2d_16\">\n",
       "      <path clip-path=\"url(#p743fae5f6a)\" d=\"M 397.601562 318.672656 \n",
       "L 397.601562 11.772656 \n",
       "\" style=\"fill:none;stroke:#ffffff;stroke-linecap:round;\"/>\n",
       "     </g>\n",
       "     <g id=\"line2d_17\">\n",
       "      <g>\n",
       "       <use style=\"fill:#262626;stroke:#262626;\" x=\"397.6015625\" xlink:href=\"#m8c1562955b\" y=\"318.67265625\"/>\n",
       "      </g>\n",
       "     </g>\n",
       "     <g id=\"line2d_18\">\n",
       "      <g>\n",
       "       <use style=\"fill:#262626;stroke:#262626;\" x=\"397.6015625\" xlink:href=\"#m8c1562955b\" y=\"11.77265625\"/>\n",
       "      </g>\n",
       "     </g>\n",
       "     <g id=\"text_6\">\n",
       "      <!-- 1.0 -->\n",
       "      <g style=\"fill:#262626;\" transform=\"translate(390.6515625 332.83046875)scale(0.1 -0.1)\">\n",
       "       <use xlink:href=\"#ArialMT-31\"/>\n",
       "       <use x=\"55.615234375\" xlink:href=\"#ArialMT-2e\"/>\n",
       "       <use x=\"83.3984375\" xlink:href=\"#ArialMT-30\"/>\n",
       "      </g>\n",
       "     </g>\n",
       "    </g>\n",
       "    <g id=\"xtick_7\">\n",
       "     <g id=\"line2d_19\">\n",
       "      <path clip-path=\"url(#p743fae5f6a)\" d=\"M 472.001562 318.672656 \n",
       "L 472.001562 11.772656 \n",
       "\" style=\"fill:none;stroke:#ffffff;stroke-linecap:round;\"/>\n",
       "     </g>\n",
       "     <g id=\"line2d_20\">\n",
       "      <g>\n",
       "       <use style=\"fill:#262626;stroke:#262626;\" x=\"472.0015625\" xlink:href=\"#m8c1562955b\" y=\"318.67265625\"/>\n",
       "      </g>\n",
       "     </g>\n",
       "     <g id=\"line2d_21\">\n",
       "      <g>\n",
       "       <use style=\"fill:#262626;stroke:#262626;\" x=\"472.0015625\" xlink:href=\"#m8c1562955b\" y=\"11.77265625\"/>\n",
       "      </g>\n",
       "     </g>\n",
       "     <g id=\"text_7\">\n",
       "      <!-- 1.5 -->\n",
       "      <g style=\"fill:#262626;\" transform=\"translate(465.0515625 332.83046875)scale(0.1 -0.1)\">\n",
       "       <use xlink:href=\"#ArialMT-31\"/>\n",
       "       <use x=\"55.615234375\" xlink:href=\"#ArialMT-2e\"/>\n",
       "       <use x=\"83.3984375\" xlink:href=\"#ArialMT-35\"/>\n",
       "      </g>\n",
       "     </g>\n",
       "    </g>\n",
       "   </g>\n",
       "   <g id=\"matplotlib.axis_2\">\n",
       "    <g id=\"ytick_1\">\n",
       "     <g id=\"line2d_22\">\n",
       "      <path clip-path=\"url(#p743fae5f6a)\" d=\"M 25.601562 318.672656 \n",
       "L 472.001562 318.672656 \n",
       "\" style=\"fill:none;stroke:#ffffff;stroke-linecap:round;\"/>\n",
       "     </g>\n",
       "     <g id=\"line2d_23\">\n",
       "      <g>\n",
       "       <use style=\"fill:#262626;stroke:#262626;\" x=\"25.6015625\" xlink:href=\"#m8c1562955b\" y=\"318.67265625\"/>\n",
       "      </g>\n",
       "     </g>\n",
       "     <g id=\"line2d_24\">\n",
       "      <g>\n",
       "       <use style=\"fill:#262626;stroke:#262626;\" x=\"472.0015625\" xlink:href=\"#m8c1562955b\" y=\"318.67265625\"/>\n",
       "      </g>\n",
       "     </g>\n",
       "     <g id=\"text_8\">\n",
       "      <!-- −3 -->\n",
       "      <defs>\n",
       "       <path d=\"M 4.203125 18.890625 \n",
       "L 12.984375 20.0625 \n",
       "Q 14.5 12.59375 18.140625 9.296875 \n",
       "Q 21.78125 6 27 6 \n",
       "Q 33.203125 6 37.46875 10.296875 \n",
       "Q 41.75 14.59375 41.75 20.953125 \n",
       "Q 41.75 27 37.796875 30.921875 \n",
       "Q 33.84375 34.859375 27.734375 34.859375 \n",
       "Q 25.25 34.859375 21.53125 33.890625 \n",
       "L 22.515625 41.609375 \n",
       "Q 23.390625 41.5 23.921875 41.5 \n",
       "Q 29.546875 41.5 34.03125 44.421875 \n",
       "Q 38.53125 47.359375 38.53125 53.46875 \n",
       "Q 38.53125 58.296875 35.25 61.46875 \n",
       "Q 31.984375 64.65625 26.8125 64.65625 \n",
       "Q 21.6875 64.65625 18.265625 61.421875 \n",
       "Q 14.84375 58.203125 13.875 51.765625 \n",
       "L 5.078125 53.328125 \n",
       "Q 6.6875 62.15625 12.390625 67.015625 \n",
       "Q 18.109375 71.875 26.609375 71.875 \n",
       "Q 32.46875 71.875 37.390625 69.359375 \n",
       "Q 42.328125 66.84375 44.9375 62.5 \n",
       "Q 47.5625 58.15625 47.5625 53.265625 \n",
       "Q 47.5625 48.640625 45.0625 44.828125 \n",
       "Q 42.578125 41.015625 37.703125 38.765625 \n",
       "Q 44.046875 37.3125 47.5625 32.6875 \n",
       "Q 51.078125 28.078125 51.078125 21.140625 \n",
       "Q 51.078125 11.765625 44.234375 5.25 \n",
       "Q 37.40625 -1.265625 26.953125 -1.265625 \n",
       "Q 17.53125 -1.265625 11.296875 4.34375 \n",
       "Q 5.078125 9.96875 4.203125 18.890625 \n",
       "\" id=\"ArialMT-33\"/>\n",
       "      </defs>\n",
       "      <g style=\"fill:#262626;\" transform=\"translate(7.2 321.2578125)scale(0.1 -0.1)\">\n",
       "       <use xlink:href=\"#ArialMT-2212\"/>\n",
       "       <use x=\"58.3984375\" xlink:href=\"#ArialMT-33\"/>\n",
       "      </g>\n",
       "     </g>\n",
       "    </g>\n",
       "    <g id=\"ytick_2\">\n",
       "     <g id=\"line2d_25\">\n",
       "      <path clip-path=\"url(#p743fae5f6a)\" d=\"M 25.601562 267.522656 \n",
       "L 472.001562 267.522656 \n",
       "\" style=\"fill:none;stroke:#ffffff;stroke-linecap:round;\"/>\n",
       "     </g>\n",
       "     <g id=\"line2d_26\">\n",
       "      <g>\n",
       "       <use style=\"fill:#262626;stroke:#262626;\" x=\"25.6015625\" xlink:href=\"#m8c1562955b\" y=\"267.52265625\"/>\n",
       "      </g>\n",
       "     </g>\n",
       "     <g id=\"line2d_27\">\n",
       "      <g>\n",
       "       <use style=\"fill:#262626;stroke:#262626;\" x=\"472.0015625\" xlink:href=\"#m8c1562955b\" y=\"267.52265625\"/>\n",
       "      </g>\n",
       "     </g>\n",
       "     <g id=\"text_9\">\n",
       "      <!-- −2 -->\n",
       "      <defs>\n",
       "       <path d=\"M 50.34375 8.453125 \n",
       "L 50.34375 0 \n",
       "L 3.03125 0 \n",
       "Q 2.9375 3.171875 4.046875 6.109375 \n",
       "Q 5.859375 10.9375 9.828125 15.625 \n",
       "Q 13.8125 20.3125 21.34375 26.46875 \n",
       "Q 33.015625 36.03125 37.109375 41.625 \n",
       "Q 41.21875 47.21875 41.21875 52.203125 \n",
       "Q 41.21875 57.421875 37.46875 61 \n",
       "Q 33.734375 64.59375 27.734375 64.59375 \n",
       "Q 21.390625 64.59375 17.578125 60.78125 \n",
       "Q 13.765625 56.984375 13.71875 50.25 \n",
       "L 4.6875 51.171875 \n",
       "Q 5.609375 61.28125 11.65625 66.578125 \n",
       "Q 17.71875 71.875 27.9375 71.875 \n",
       "Q 38.234375 71.875 44.234375 66.15625 \n",
       "Q 50.25 60.453125 50.25 52 \n",
       "Q 50.25 47.703125 48.484375 43.546875 \n",
       "Q 46.734375 39.40625 42.65625 34.8125 \n",
       "Q 38.578125 30.21875 29.109375 22.21875 \n",
       "Q 21.1875 15.578125 18.9375 13.203125 \n",
       "Q 16.703125 10.84375 15.234375 8.453125 \n",
       "z\n",
       "\" id=\"ArialMT-32\"/>\n",
       "      </defs>\n",
       "      <g style=\"fill:#262626;\" transform=\"translate(7.2 270.1078125)scale(0.1 -0.1)\">\n",
       "       <use xlink:href=\"#ArialMT-2212\"/>\n",
       "       <use x=\"58.3984375\" xlink:href=\"#ArialMT-32\"/>\n",
       "      </g>\n",
       "     </g>\n",
       "    </g>\n",
       "    <g id=\"ytick_3\">\n",
       "     <g id=\"line2d_28\">\n",
       "      <path clip-path=\"url(#p743fae5f6a)\" d=\"M 25.601562 216.372656 \n",
       "L 472.001562 216.372656 \n",
       "\" style=\"fill:none;stroke:#ffffff;stroke-linecap:round;\"/>\n",
       "     </g>\n",
       "     <g id=\"line2d_29\">\n",
       "      <g>\n",
       "       <use style=\"fill:#262626;stroke:#262626;\" x=\"25.6015625\" xlink:href=\"#m8c1562955b\" y=\"216.37265625\"/>\n",
       "      </g>\n",
       "     </g>\n",
       "     <g id=\"line2d_30\">\n",
       "      <g>\n",
       "       <use style=\"fill:#262626;stroke:#262626;\" x=\"472.0015625\" xlink:href=\"#m8c1562955b\" y=\"216.37265625\"/>\n",
       "      </g>\n",
       "     </g>\n",
       "     <g id=\"text_10\">\n",
       "      <!-- −1 -->\n",
       "      <g style=\"fill:#262626;\" transform=\"translate(7.2 218.9578125)scale(0.1 -0.1)\">\n",
       "       <use xlink:href=\"#ArialMT-2212\"/>\n",
       "       <use x=\"58.3984375\" xlink:href=\"#ArialMT-31\"/>\n",
       "      </g>\n",
       "     </g>\n",
       "    </g>\n",
       "    <g id=\"ytick_4\">\n",
       "     <g id=\"line2d_31\">\n",
       "      <path clip-path=\"url(#p743fae5f6a)\" d=\"M 25.601562 165.222656 \n",
       "L 472.001562 165.222656 \n",
       "\" style=\"fill:none;stroke:#ffffff;stroke-linecap:round;\"/>\n",
       "     </g>\n",
       "     <g id=\"line2d_32\">\n",
       "      <g>\n",
       "       <use style=\"fill:#262626;stroke:#262626;\" x=\"25.6015625\" xlink:href=\"#m8c1562955b\" y=\"165.22265625\"/>\n",
       "      </g>\n",
       "     </g>\n",
       "     <g id=\"line2d_33\">\n",
       "      <g>\n",
       "       <use style=\"fill:#262626;stroke:#262626;\" x=\"472.0015625\" xlink:href=\"#m8c1562955b\" y=\"165.22265625\"/>\n",
       "      </g>\n",
       "     </g>\n",
       "     <g id=\"text_11\">\n",
       "      <!-- 0 -->\n",
       "      <g style=\"fill:#262626;\" transform=\"translate(13.040625 167.8078125)scale(0.1 -0.1)\">\n",
       "       <use xlink:href=\"#ArialMT-30\"/>\n",
       "      </g>\n",
       "     </g>\n",
       "    </g>\n",
       "    <g id=\"ytick_5\">\n",
       "     <g id=\"line2d_34\">\n",
       "      <path clip-path=\"url(#p743fae5f6a)\" d=\"M 25.601562 114.072656 \n",
       "L 472.001562 114.072656 \n",
       "\" style=\"fill:none;stroke:#ffffff;stroke-linecap:round;\"/>\n",
       "     </g>\n",
       "     <g id=\"line2d_35\">\n",
       "      <g>\n",
       "       <use style=\"fill:#262626;stroke:#262626;\" x=\"25.6015625\" xlink:href=\"#m8c1562955b\" y=\"114.07265625\"/>\n",
       "      </g>\n",
       "     </g>\n",
       "     <g id=\"line2d_36\">\n",
       "      <g>\n",
       "       <use style=\"fill:#262626;stroke:#262626;\" x=\"472.0015625\" xlink:href=\"#m8c1562955b\" y=\"114.07265625\"/>\n",
       "      </g>\n",
       "     </g>\n",
       "     <g id=\"text_12\">\n",
       "      <!-- 1 -->\n",
       "      <g style=\"fill:#262626;\" transform=\"translate(13.040625 116.6578125)scale(0.1 -0.1)\">\n",
       "       <use xlink:href=\"#ArialMT-31\"/>\n",
       "      </g>\n",
       "     </g>\n",
       "    </g>\n",
       "    <g id=\"ytick_6\">\n",
       "     <g id=\"line2d_37\">\n",
       "      <path clip-path=\"url(#p743fae5f6a)\" d=\"M 25.601562 62.922656 \n",
       "L 472.001562 62.922656 \n",
       "\" style=\"fill:none;stroke:#ffffff;stroke-linecap:round;\"/>\n",
       "     </g>\n",
       "     <g id=\"line2d_38\">\n",
       "      <g>\n",
       "       <use style=\"fill:#262626;stroke:#262626;\" x=\"25.6015625\" xlink:href=\"#m8c1562955b\" y=\"62.92265625\"/>\n",
       "      </g>\n",
       "     </g>\n",
       "     <g id=\"line2d_39\">\n",
       "      <g>\n",
       "       <use style=\"fill:#262626;stroke:#262626;\" x=\"472.0015625\" xlink:href=\"#m8c1562955b\" y=\"62.92265625\"/>\n",
       "      </g>\n",
       "     </g>\n",
       "     <g id=\"text_13\">\n",
       "      <!-- 2 -->\n",
       "      <g style=\"fill:#262626;\" transform=\"translate(13.040625 65.5078125)scale(0.1 -0.1)\">\n",
       "       <use xlink:href=\"#ArialMT-32\"/>\n",
       "      </g>\n",
       "     </g>\n",
       "    </g>\n",
       "    <g id=\"ytick_7\">\n",
       "     <g id=\"line2d_40\">\n",
       "      <path clip-path=\"url(#p743fae5f6a)\" d=\"M 25.601562 11.772656 \n",
       "L 472.001562 11.772656 \n",
       "\" style=\"fill:none;stroke:#ffffff;stroke-linecap:round;\"/>\n",
       "     </g>\n",
       "     <g id=\"line2d_41\">\n",
       "      <g>\n",
       "       <use style=\"fill:#262626;stroke:#262626;\" x=\"25.6015625\" xlink:href=\"#m8c1562955b\" y=\"11.77265625\"/>\n",
       "      </g>\n",
       "     </g>\n",
       "     <g id=\"line2d_42\">\n",
       "      <g>\n",
       "       <use style=\"fill:#262626;stroke:#262626;\" x=\"472.0015625\" xlink:href=\"#m8c1562955b\" y=\"11.77265625\"/>\n",
       "      </g>\n",
       "     </g>\n",
       "     <g id=\"text_14\">\n",
       "      <!-- 3 -->\n",
       "      <g style=\"fill:#262626;\" transform=\"translate(13.040625 14.3578125)scale(0.1 -0.1)\">\n",
       "       <use xlink:href=\"#ArialMT-33\"/>\n",
       "      </g>\n",
       "     </g>\n",
       "    </g>\n",
       "   </g>\n",
       "   <g id=\"PathCollection_1\">\n",
       "    <defs>\n",
       "     <path d=\"M 0 2.236068 \n",
       "C 0.593012 2.236068 1.161816 2.000462 1.581139 1.581139 \n",
       "C 2.000462 1.161816 2.236068 0.593012 2.236068 0 \n",
       "C 2.236068 -0.593012 2.000462 -1.161816 1.581139 -1.581139 \n",
       "C 1.161816 -2.000462 0.593012 -2.236068 0 -2.236068 \n",
       "C -0.593012 -2.236068 -1.161816 -2.000462 -1.581139 -1.581139 \n",
       "C -2.000462 -1.161816 -2.236068 -0.593012 -2.236068 0 \n",
       "C -2.236068 0.593012 -2.000462 1.161816 -1.581139 1.581139 \n",
       "C -1.161816 2.000462 -0.593012 2.236068 0 2.236068 \n",
       "z\n",
       "\" id=\"m827e02a804\" style=\"stroke:#000000;stroke-width:0.3;\"/>\n",
       "    </defs>\n",
       "    <g clip-path=\"url(#p743fae5f6a)\">\n",
       "     <use style=\"fill:#0000ff;stroke:#000000;stroke-width:0.3;\" x=\"100.0015625\" xlink:href=\"#m827e02a804\" y=\"267.52265625\"/>\n",
       "     <use style=\"fill:#0000ff;stroke:#000000;stroke-width:0.3;\" x=\"133.068229167\" xlink:href=\"#m827e02a804\" y=\"267.52265625\"/>\n",
       "     <use style=\"fill:#0000ff;stroke:#000000;stroke-width:0.3;\" x=\"166.134895833\" xlink:href=\"#m827e02a804\" y=\"267.52265625\"/>\n",
       "     <use style=\"fill:#0000ff;stroke:#000000;stroke-width:0.3;\" x=\"199.2015625\" xlink:href=\"#m827e02a804\" y=\"267.52265625\"/>\n",
       "     <use style=\"fill:#0000ff;stroke:#000000;stroke-width:0.3;\" x=\"232.268229167\" xlink:href=\"#m827e02a804\" y=\"267.52265625\"/>\n",
       "     <use style=\"fill:#0000ff;stroke:#000000;stroke-width:0.3;\" x=\"265.334895833\" xlink:href=\"#m827e02a804\" y=\"267.52265625\"/>\n",
       "     <use style=\"fill:#0000ff;stroke:#000000;stroke-width:0.3;\" x=\"298.4015625\" xlink:href=\"#m827e02a804\" y=\"267.52265625\"/>\n",
       "     <use style=\"fill:#0000ff;stroke:#000000;stroke-width:0.3;\" x=\"331.468229167\" xlink:href=\"#m827e02a804\" y=\"267.52265625\"/>\n",
       "     <use style=\"fill:#0000ff;stroke:#000000;stroke-width:0.3;\" x=\"364.534895833\" xlink:href=\"#m827e02a804\" y=\"267.52265625\"/>\n",
       "     <use style=\"fill:#0000ff;stroke:#000000;stroke-width:0.3;\" x=\"397.6015625\" xlink:href=\"#m827e02a804\" y=\"267.52265625\"/>\n",
       "     <use style=\"fill:#0000ff;stroke:#000000;stroke-width:0.3;\" x=\"100.0015625\" xlink:href=\"#m827e02a804\" y=\"244.789322917\"/>\n",
       "     <use style=\"fill:#0000ff;stroke:#000000;stroke-width:0.3;\" x=\"133.068229167\" xlink:href=\"#m827e02a804\" y=\"244.789322917\"/>\n",
       "     <use style=\"fill:#0000ff;stroke:#000000;stroke-width:0.3;\" x=\"166.134895833\" xlink:href=\"#m827e02a804\" y=\"244.789322917\"/>\n",
       "     <use style=\"fill:#0000ff;stroke:#000000;stroke-width:0.3;\" x=\"199.2015625\" xlink:href=\"#m827e02a804\" y=\"244.789322917\"/>\n",
       "     <use style=\"fill:#0000ff;stroke:#000000;stroke-width:0.3;\" x=\"232.268229167\" xlink:href=\"#m827e02a804\" y=\"244.789322917\"/>\n",
       "     <use style=\"fill:#0000ff;stroke:#000000;stroke-width:0.3;\" x=\"265.334895833\" xlink:href=\"#m827e02a804\" y=\"244.789322917\"/>\n",
       "     <use style=\"fill:#0000ff;stroke:#000000;stroke-width:0.3;\" x=\"298.4015625\" xlink:href=\"#m827e02a804\" y=\"244.789322917\"/>\n",
       "     <use style=\"fill:#0000ff;stroke:#000000;stroke-width:0.3;\" x=\"331.468229167\" xlink:href=\"#m827e02a804\" y=\"244.789322917\"/>\n",
       "     <use style=\"fill:#0000ff;stroke:#000000;stroke-width:0.3;\" x=\"364.534895833\" xlink:href=\"#m827e02a804\" y=\"244.789322917\"/>\n",
       "     <use style=\"fill:#0000ff;stroke:#000000;stroke-width:0.3;\" x=\"397.6015625\" xlink:href=\"#m827e02a804\" y=\"244.789322917\"/>\n",
       "     <use style=\"fill:#0000ff;stroke:#000000;stroke-width:0.3;\" x=\"100.0015625\" xlink:href=\"#m827e02a804\" y=\"222.055989583\"/>\n",
       "     <use style=\"fill:#0000ff;stroke:#000000;stroke-width:0.3;\" x=\"133.068229167\" xlink:href=\"#m827e02a804\" y=\"222.055989583\"/>\n",
       "     <use style=\"fill:#0000ff;stroke:#000000;stroke-width:0.3;\" x=\"166.134895833\" xlink:href=\"#m827e02a804\" y=\"222.055989583\"/>\n",
       "     <use style=\"fill:#0000ff;stroke:#000000;stroke-width:0.3;\" x=\"199.2015625\" xlink:href=\"#m827e02a804\" y=\"222.055989583\"/>\n",
       "     <use style=\"fill:#0000ff;stroke:#000000;stroke-width:0.3;\" x=\"232.268229167\" xlink:href=\"#m827e02a804\" y=\"222.055989583\"/>\n",
       "     <use style=\"fill:#0000ff;stroke:#000000;stroke-width:0.3;\" x=\"265.334895833\" xlink:href=\"#m827e02a804\" y=\"222.055989583\"/>\n",
       "     <use style=\"fill:#0000ff;stroke:#000000;stroke-width:0.3;\" x=\"298.4015625\" xlink:href=\"#m827e02a804\" y=\"222.055989583\"/>\n",
       "     <use style=\"fill:#0000ff;stroke:#000000;stroke-width:0.3;\" x=\"331.468229167\" xlink:href=\"#m827e02a804\" y=\"222.055989583\"/>\n",
       "     <use style=\"fill:#0000ff;stroke:#000000;stroke-width:0.3;\" x=\"364.534895833\" xlink:href=\"#m827e02a804\" y=\"222.055989583\"/>\n",
       "     <use style=\"fill:#0000ff;stroke:#000000;stroke-width:0.3;\" x=\"397.6015625\" xlink:href=\"#m827e02a804\" y=\"222.055989583\"/>\n",
       "     <use style=\"fill:#0000ff;stroke:#000000;stroke-width:0.3;\" x=\"100.0015625\" xlink:href=\"#m827e02a804\" y=\"199.32265625\"/>\n",
       "     <use style=\"fill:#0000ff;stroke:#000000;stroke-width:0.3;\" x=\"133.068229167\" xlink:href=\"#m827e02a804\" y=\"199.32265625\"/>\n",
       "     <use style=\"fill:#0000ff;stroke:#000000;stroke-width:0.3;\" x=\"166.134895833\" xlink:href=\"#m827e02a804\" y=\"199.32265625\"/>\n",
       "     <use style=\"fill:#0000ff;stroke:#000000;stroke-width:0.3;\" x=\"199.2015625\" xlink:href=\"#m827e02a804\" y=\"199.32265625\"/>\n",
       "     <use style=\"fill:#0000ff;stroke:#000000;stroke-width:0.3;\" x=\"232.268229167\" xlink:href=\"#m827e02a804\" y=\"199.32265625\"/>\n",
       "     <use style=\"fill:#0000ff;stroke:#000000;stroke-width:0.3;\" x=\"265.334895833\" xlink:href=\"#m827e02a804\" y=\"199.32265625\"/>\n",
       "     <use style=\"fill:#0000ff;stroke:#000000;stroke-width:0.3;\" x=\"298.4015625\" xlink:href=\"#m827e02a804\" y=\"199.32265625\"/>\n",
       "     <use style=\"fill:#0000ff;stroke:#000000;stroke-width:0.3;\" x=\"331.468229167\" xlink:href=\"#m827e02a804\" y=\"199.32265625\"/>\n",
       "     <use style=\"fill:#0000ff;stroke:#000000;stroke-width:0.3;\" x=\"364.534895833\" xlink:href=\"#m827e02a804\" y=\"199.32265625\"/>\n",
       "     <use style=\"fill:#0000ff;stroke:#000000;stroke-width:0.3;\" x=\"397.6015625\" xlink:href=\"#m827e02a804\" y=\"199.32265625\"/>\n",
       "     <use style=\"fill:#0000ff;stroke:#000000;stroke-width:0.3;\" x=\"100.0015625\" xlink:href=\"#m827e02a804\" y=\"176.589322917\"/>\n",
       "     <use style=\"fill:#0000ff;stroke:#000000;stroke-width:0.3;\" x=\"133.068229167\" xlink:href=\"#m827e02a804\" y=\"176.589322917\"/>\n",
       "     <use style=\"fill:#0000ff;stroke:#000000;stroke-width:0.3;\" x=\"166.134895833\" xlink:href=\"#m827e02a804\" y=\"176.589322917\"/>\n",
       "     <use style=\"fill:#0000ff;stroke:#000000;stroke-width:0.3;\" x=\"199.2015625\" xlink:href=\"#m827e02a804\" y=\"176.589322917\"/>\n",
       "     <use style=\"fill:#0000ff;stroke:#000000;stroke-width:0.3;\" x=\"232.268229167\" xlink:href=\"#m827e02a804\" y=\"176.589322917\"/>\n",
       "     <use style=\"fill:#0000ff;stroke:#000000;stroke-width:0.3;\" x=\"265.334895833\" xlink:href=\"#m827e02a804\" y=\"176.589322917\"/>\n",
       "     <use style=\"fill:#0000ff;stroke:#000000;stroke-width:0.3;\" x=\"298.4015625\" xlink:href=\"#m827e02a804\" y=\"176.589322917\"/>\n",
       "     <use style=\"fill:#0000ff;stroke:#000000;stroke-width:0.3;\" x=\"331.468229167\" xlink:href=\"#m827e02a804\" y=\"176.589322917\"/>\n",
       "     <use style=\"fill:#0000ff;stroke:#000000;stroke-width:0.3;\" x=\"364.534895833\" xlink:href=\"#m827e02a804\" y=\"176.589322917\"/>\n",
       "     <use style=\"fill:#0000ff;stroke:#000000;stroke-width:0.3;\" x=\"397.6015625\" xlink:href=\"#m827e02a804\" y=\"176.589322917\"/>\n",
       "     <use style=\"fill:#0000ff;stroke:#000000;stroke-width:0.3;\" x=\"100.0015625\" xlink:href=\"#m827e02a804\" y=\"153.855989583\"/>\n",
       "     <use style=\"fill:#0000ff;stroke:#000000;stroke-width:0.3;\" x=\"133.068229167\" xlink:href=\"#m827e02a804\" y=\"153.855989583\"/>\n",
       "     <use style=\"fill:#0000ff;stroke:#000000;stroke-width:0.3;\" x=\"166.134895833\" xlink:href=\"#m827e02a804\" y=\"153.855989583\"/>\n",
       "     <use style=\"fill:#0000ff;stroke:#000000;stroke-width:0.3;\" x=\"199.2015625\" xlink:href=\"#m827e02a804\" y=\"153.855989583\"/>\n",
       "     <use style=\"fill:#0000ff;stroke:#000000;stroke-width:0.3;\" x=\"232.268229167\" xlink:href=\"#m827e02a804\" y=\"153.855989583\"/>\n",
       "     <use style=\"fill:#0000ff;stroke:#000000;stroke-width:0.3;\" x=\"265.334895833\" xlink:href=\"#m827e02a804\" y=\"153.855989583\"/>\n",
       "     <use style=\"fill:#0000ff;stroke:#000000;stroke-width:0.3;\" x=\"298.4015625\" xlink:href=\"#m827e02a804\" y=\"153.855989583\"/>\n",
       "     <use style=\"fill:#0000ff;stroke:#000000;stroke-width:0.3;\" x=\"331.468229167\" xlink:href=\"#m827e02a804\" y=\"153.855989583\"/>\n",
       "     <use style=\"fill:#0000ff;stroke:#000000;stroke-width:0.3;\" x=\"364.534895833\" xlink:href=\"#m827e02a804\" y=\"153.855989583\"/>\n",
       "     <use style=\"fill:#0000ff;stroke:#000000;stroke-width:0.3;\" x=\"397.6015625\" xlink:href=\"#m827e02a804\" y=\"153.855989583\"/>\n",
       "     <use style=\"fill:#0000ff;stroke:#000000;stroke-width:0.3;\" x=\"100.0015625\" xlink:href=\"#m827e02a804\" y=\"131.12265625\"/>\n",
       "     <use style=\"fill:#0000ff;stroke:#000000;stroke-width:0.3;\" x=\"133.068229167\" xlink:href=\"#m827e02a804\" y=\"131.12265625\"/>\n",
       "     <use style=\"fill:#0000ff;stroke:#000000;stroke-width:0.3;\" x=\"166.134895833\" xlink:href=\"#m827e02a804\" y=\"131.12265625\"/>\n",
       "     <use style=\"fill:#0000ff;stroke:#000000;stroke-width:0.3;\" x=\"199.2015625\" xlink:href=\"#m827e02a804\" y=\"131.12265625\"/>\n",
       "     <use style=\"fill:#0000ff;stroke:#000000;stroke-width:0.3;\" x=\"232.268229167\" xlink:href=\"#m827e02a804\" y=\"131.12265625\"/>\n",
       "     <use style=\"fill:#0000ff;stroke:#000000;stroke-width:0.3;\" x=\"265.334895833\" xlink:href=\"#m827e02a804\" y=\"131.12265625\"/>\n",
       "     <use style=\"fill:#0000ff;stroke:#000000;stroke-width:0.3;\" x=\"298.4015625\" xlink:href=\"#m827e02a804\" y=\"131.12265625\"/>\n",
       "     <use style=\"fill:#0000ff;stroke:#000000;stroke-width:0.3;\" x=\"331.468229167\" xlink:href=\"#m827e02a804\" y=\"131.12265625\"/>\n",
       "     <use style=\"fill:#0000ff;stroke:#000000;stroke-width:0.3;\" x=\"364.534895833\" xlink:href=\"#m827e02a804\" y=\"131.12265625\"/>\n",
       "     <use style=\"fill:#0000ff;stroke:#000000;stroke-width:0.3;\" x=\"397.6015625\" xlink:href=\"#m827e02a804\" y=\"131.12265625\"/>\n",
       "     <use style=\"fill:#0000ff;stroke:#000000;stroke-width:0.3;\" x=\"100.0015625\" xlink:href=\"#m827e02a804\" y=\"108.389322917\"/>\n",
       "     <use style=\"fill:#0000ff;stroke:#000000;stroke-width:0.3;\" x=\"133.068229167\" xlink:href=\"#m827e02a804\" y=\"108.389322917\"/>\n",
       "     <use style=\"fill:#0000ff;stroke:#000000;stroke-width:0.3;\" x=\"166.134895833\" xlink:href=\"#m827e02a804\" y=\"108.389322917\"/>\n",
       "     <use style=\"fill:#0000ff;stroke:#000000;stroke-width:0.3;\" x=\"199.2015625\" xlink:href=\"#m827e02a804\" y=\"108.389322917\"/>\n",
       "     <use style=\"fill:#0000ff;stroke:#000000;stroke-width:0.3;\" x=\"232.268229167\" xlink:href=\"#m827e02a804\" y=\"108.389322917\"/>\n",
       "     <use style=\"fill:#0000ff;stroke:#000000;stroke-width:0.3;\" x=\"265.334895833\" xlink:href=\"#m827e02a804\" y=\"108.389322917\"/>\n",
       "     <use style=\"fill:#0000ff;stroke:#000000;stroke-width:0.3;\" x=\"298.4015625\" xlink:href=\"#m827e02a804\" y=\"108.389322917\"/>\n",
       "     <use style=\"fill:#0000ff;stroke:#000000;stroke-width:0.3;\" x=\"331.468229167\" xlink:href=\"#m827e02a804\" y=\"108.389322917\"/>\n",
       "     <use style=\"fill:#0000ff;stroke:#000000;stroke-width:0.3;\" x=\"364.534895833\" xlink:href=\"#m827e02a804\" y=\"108.389322917\"/>\n",
       "     <use style=\"fill:#0000ff;stroke:#000000;stroke-width:0.3;\" x=\"397.6015625\" xlink:href=\"#m827e02a804\" y=\"108.389322917\"/>\n",
       "     <use style=\"fill:#0000ff;stroke:#000000;stroke-width:0.3;\" x=\"100.0015625\" xlink:href=\"#m827e02a804\" y=\"85.6559895833\"/>\n",
       "     <use style=\"fill:#0000ff;stroke:#000000;stroke-width:0.3;\" x=\"133.068229167\" xlink:href=\"#m827e02a804\" y=\"85.6559895833\"/>\n",
       "     <use style=\"fill:#0000ff;stroke:#000000;stroke-width:0.3;\" x=\"166.134895833\" xlink:href=\"#m827e02a804\" y=\"85.6559895833\"/>\n",
       "     <use style=\"fill:#0000ff;stroke:#000000;stroke-width:0.3;\" x=\"199.2015625\" xlink:href=\"#m827e02a804\" y=\"85.6559895833\"/>\n",
       "     <use style=\"fill:#0000ff;stroke:#000000;stroke-width:0.3;\" x=\"232.268229167\" xlink:href=\"#m827e02a804\" y=\"85.6559895833\"/>\n",
       "     <use style=\"fill:#0000ff;stroke:#000000;stroke-width:0.3;\" x=\"265.334895833\" xlink:href=\"#m827e02a804\" y=\"85.6559895833\"/>\n",
       "     <use style=\"fill:#0000ff;stroke:#000000;stroke-width:0.3;\" x=\"298.4015625\" xlink:href=\"#m827e02a804\" y=\"85.6559895833\"/>\n",
       "     <use style=\"fill:#0000ff;stroke:#000000;stroke-width:0.3;\" x=\"331.468229167\" xlink:href=\"#m827e02a804\" y=\"85.6559895833\"/>\n",
       "     <use style=\"fill:#0000ff;stroke:#000000;stroke-width:0.3;\" x=\"364.534895833\" xlink:href=\"#m827e02a804\" y=\"85.6559895833\"/>\n",
       "     <use style=\"fill:#0000ff;stroke:#000000;stroke-width:0.3;\" x=\"397.6015625\" xlink:href=\"#m827e02a804\" y=\"85.6559895833\"/>\n",
       "     <use style=\"fill:#0000ff;stroke:#000000;stroke-width:0.3;\" x=\"100.0015625\" xlink:href=\"#m827e02a804\" y=\"62.92265625\"/>\n",
       "     <use style=\"fill:#0000ff;stroke:#000000;stroke-width:0.3;\" x=\"133.068229167\" xlink:href=\"#m827e02a804\" y=\"62.92265625\"/>\n",
       "     <use style=\"fill:#0000ff;stroke:#000000;stroke-width:0.3;\" x=\"166.134895833\" xlink:href=\"#m827e02a804\" y=\"62.92265625\"/>\n",
       "     <use style=\"fill:#0000ff;stroke:#000000;stroke-width:0.3;\" x=\"199.2015625\" xlink:href=\"#m827e02a804\" y=\"62.92265625\"/>\n",
       "     <use style=\"fill:#0000ff;stroke:#000000;stroke-width:0.3;\" x=\"232.268229167\" xlink:href=\"#m827e02a804\" y=\"62.92265625\"/>\n",
       "     <use style=\"fill:#0000ff;stroke:#000000;stroke-width:0.3;\" x=\"265.334895833\" xlink:href=\"#m827e02a804\" y=\"62.92265625\"/>\n",
       "     <use style=\"fill:#0000ff;stroke:#000000;stroke-width:0.3;\" x=\"298.4015625\" xlink:href=\"#m827e02a804\" y=\"62.92265625\"/>\n",
       "     <use style=\"fill:#0000ff;stroke:#000000;stroke-width:0.3;\" x=\"331.468229167\" xlink:href=\"#m827e02a804\" y=\"62.92265625\"/>\n",
       "     <use style=\"fill:#0000ff;stroke:#000000;stroke-width:0.3;\" x=\"364.534895833\" xlink:href=\"#m827e02a804\" y=\"62.92265625\"/>\n",
       "     <use style=\"fill:#0000ff;stroke:#000000;stroke-width:0.3;\" x=\"397.6015625\" xlink:href=\"#m827e02a804\" y=\"62.92265625\"/>\n",
       "    </g>\n",
       "   </g>\n",
       "   <g id=\"patch_3\">\n",
       "    <path d=\"M 25.601562 11.772656 \n",
       "L 472.001562 11.772656 \n",
       "\" style=\"fill:none;\"/>\n",
       "   </g>\n",
       "   <g id=\"patch_4\">\n",
       "    <path d=\"M 472.001562 318.672656 \n",
       "L 472.001562 11.772656 \n",
       "\" style=\"fill:none;\"/>\n",
       "   </g>\n",
       "   <g id=\"patch_5\">\n",
       "    <path d=\"M 25.601562 318.672656 \n",
       "L 472.001562 318.672656 \n",
       "\" style=\"fill:none;\"/>\n",
       "   </g>\n",
       "   <g id=\"patch_6\">\n",
       "    <path d=\"M 25.601562 318.672656 \n",
       "L 25.601562 11.772656 \n",
       "\" style=\"fill:none;\"/>\n",
       "   </g>\n",
       "  </g>\n",
       " </g>\n",
       " <defs>\n",
       "  <clipPath id=\"p743fae5f6a\">\n",
       "   <rect height=\"306.9\" width=\"446.4\" x=\"25.6015625\" y=\"11.77265625\"/>\n",
       "  </clipPath>\n",
       " </defs>\n",
       "</svg>\n"
      ],
      "text/plain": [
       "<matplotlib.figure.Figure at 0x7fa534ebf490>"
      ]
     },
     "metadata": {},
     "output_type": "display_data"
    }
   ],
   "source": [
    "plt.scatter(*np.vstack(np.meshgrid(np.linspace(-1,1,10), np.linspace(-2,2,10))).reshape(2,-1).tolist())"
   ]
  },
  {
   "cell_type": "markdown",
   "metadata": {
    "school_cell_uuid": "b1a1fedb38844e289a94603ab2a67832"
   },
   "source": [
    "### sort"
   ]
  },
  {
   "cell_type": "code",
   "execution_count": 196,
   "metadata": {
    "collapsed": false,
    "school_cell_uuid": "57b528aa071c42c294a9bd05791aab3f"
   },
   "outputs": [
    {
     "data": {
      "text/plain": [
       "array([[4, 3, 5],\n",
       "       [1, 2, 1]])"
      ]
     },
     "execution_count": 196,
     "metadata": {},
     "output_type": "execute_result"
    }
   ],
   "source": [
    "a = np.array([[4, 3, 5], [1, 2, 1]])\n",
    "a"
   ]
  },
  {
   "cell_type": "code",
   "execution_count": 197,
   "metadata": {
    "collapsed": false,
    "school_cell_uuid": "12cfd93c3fa54a0b9b6764eb02405dcc"
   },
   "outputs": [
    {
     "data": {
      "text/plain": [
       "array([4, 1])"
      ]
     },
     "execution_count": 197,
     "metadata": {},
     "output_type": "execute_result"
    }
   ],
   "source": [
    "a[:,0]"
   ]
  },
  {
   "cell_type": "code",
   "execution_count": 198,
   "metadata": {
    "collapsed": false,
    "school_cell_uuid": "4217013b17104eadb8b6814dd4b6498d"
   },
   "outputs": [
    {
     "data": {
      "text/plain": [
       "array([[1, 2, 1],\n",
       "       [4, 3, 5]])"
      ]
     },
     "execution_count": 198,
     "metadata": {},
     "output_type": "execute_result"
    }
   ],
   "source": [
    "b = np.sort(a, axis=0)\n",
    "b"
   ]
  },
  {
   "cell_type": "code",
   "execution_count": 199,
   "metadata": {
    "collapsed": false,
    "school_cell_uuid": "b29facff2ffa4e08963c7c7e9fd0d25f"
   },
   "outputs": [
    {
     "data": {
      "text/plain": [
       "array([[3, 4, 5],\n",
       "       [1, 1, 2]])"
      ]
     },
     "execution_count": 199,
     "metadata": {},
     "output_type": "execute_result"
    }
   ],
   "source": [
    "b = np.sort(a, axis=1)\n",
    "b"
   ]
  },
  {
   "cell_type": "code",
   "execution_count": 200,
   "metadata": {
    "collapsed": false,
    "school_cell_uuid": "abcd708aadfe4f3e9cbef4034a30a9a6"
   },
   "outputs": [
    {
     "data": {
      "text/plain": [
       "array([2, 3, 1, 0])"
      ]
     },
     "execution_count": 200,
     "metadata": {},
     "output_type": "execute_result"
    }
   ],
   "source": [
    "a = np.array([4, 3, 1, 2])\n",
    "j = np.argsort(a)\n",
    "j"
   ]
  },
  {
   "cell_type": "code",
   "execution_count": 201,
   "metadata": {
    "collapsed": false,
    "school_cell_uuid": "fd46abdbecc34781a99ab0571bc79cae"
   },
   "outputs": [
    {
     "data": {
      "text/plain": [
       "array([1, 2, 3, 4])"
      ]
     },
     "execution_count": 201,
     "metadata": {},
     "output_type": "execute_result"
    }
   ],
   "source": [
    "a[j]"
   ]
  },
  {
   "cell_type": "markdown",
   "metadata": {
    "bootstrap": {
     "panel": {
      "class": "panel-danger",
      "heading": "요약: NumPy 유니버설 함수"
     }
    },
    "school_cell_uuid": "fad6ea13a3a6405fb8c79e79b75e46b9"
   },
   "source": [
    "## Array용 수학 함수\n",
    "\n",
    "* universal function \n",
    " * 빠른 element-wise (vectorized) 연산\n",
    "* 모든 NumPy/Scipy 수학 함수는 자동으로 vectorized 연산 수행"
   ]
  },
  {
   "cell_type": "code",
   "execution_count": 202,
   "metadata": {
    "collapsed": false,
    "school_cell_uuid": "f626365a0dd5410ca1369c72b31837e8"
   },
   "outputs": [
    {
     "data": {
      "text/plain": [
       "[0, 1, 2, 3, 4, 5, 6, 7, 8, 9]"
      ]
     },
     "execution_count": 202,
     "metadata": {},
     "output_type": "execute_result"
    }
   ],
   "source": [
    "x = range(10)\n",
    "x"
   ]
  },
  {
   "cell_type": "code",
   "execution_count": 203,
   "metadata": {
    "collapsed": false,
    "school_cell_uuid": "f6a91ab618e9456f9dac34bf64426d57"
   },
   "outputs": [
    {
     "ename": "TypeError",
     "evalue": "a float is required",
     "output_type": "error",
     "traceback": [
      "\u001b[1;31m---------------------------------------------------------------------------\u001b[0m",
      "\u001b[1;31mTypeError\u001b[0m                                 Traceback (most recent call last)",
      "\u001b[1;32m<ipython-input-203-41425258536a>\u001b[0m in \u001b[0;36m<module>\u001b[1;34m()\u001b[0m\n\u001b[0;32m      1\u001b[0m \u001b[1;32mimport\u001b[0m \u001b[0mmath\u001b[0m\u001b[1;33m\u001b[0m\u001b[0m\n\u001b[1;32m----> 2\u001b[1;33m \u001b[0mmath\u001b[0m\u001b[1;33m.\u001b[0m\u001b[0mexp\u001b[0m\u001b[1;33m(\u001b[0m\u001b[0mx\u001b[0m\u001b[1;33m)\u001b[0m\u001b[1;33m\u001b[0m\u001b[0m\n\u001b[0m",
      "\u001b[1;31mTypeError\u001b[0m: a float is required"
     ]
    }
   ],
   "source": [
    "import math\n",
    "math.exp(x)    "
   ]
  },
  {
   "cell_type": "code",
   "execution_count": 205,
   "metadata": {
    "collapsed": false,
    "school_cell_uuid": "39c5f44ce3784b1eb59ca04778298385"
   },
   "outputs": [
    {
     "data": {
      "text/plain": [
       "1.0"
      ]
     },
     "execution_count": 205,
     "metadata": {},
     "output_type": "execute_result"
    }
   ],
   "source": [
    "math.exp(x[0])"
   ]
  },
  {
   "cell_type": "code",
   "execution_count": 206,
   "metadata": {
    "collapsed": false,
    "school_cell_uuid": "51b61df42f3f406b995cd8efc5521e2e"
   },
   "outputs": [
    {
     "data": {
      "text/plain": [
       "[1.0,\n",
       " 2.718281828459045,\n",
       " 7.38905609893065,\n",
       " 20.085536923187668,\n",
       " 54.598150033144236,\n",
       " 148.4131591025766,\n",
       " 403.4287934927351,\n",
       " 1096.6331584284585,\n",
       " 2980.9579870417283,\n",
       " 8103.083927575384]"
      ]
     },
     "execution_count": 206,
     "metadata": {},
     "output_type": "execute_result"
    }
   ],
   "source": [
    "[math.exp(x_i) for x_i in x]"
   ]
  },
  {
   "cell_type": "code",
   "execution_count": 207,
   "metadata": {
    "collapsed": false,
    "school_cell_uuid": "e01c044073d34c0aa1c1733c0ef9926c"
   },
   "outputs": [
    {
     "data": {
      "text/plain": [
       "array([  1.00000000e+00,   2.71828183e+00,   7.38905610e+00,\n",
       "         2.00855369e+01,   5.45981500e+01,   1.48413159e+02,\n",
       "         4.03428793e+02,   1.09663316e+03,   2.98095799e+03,\n",
       "         8.10308393e+03])"
      ]
     },
     "execution_count": 207,
     "metadata": {},
     "output_type": "execute_result"
    }
   ],
   "source": [
    "np.exp(x)"
   ]
  },
  {
   "cell_type": "markdown",
   "metadata": {
    "school_cell_uuid": "971fb67e5e0645e5aa9791c95d010319"
   },
   "source": [
    "## Random Number"
   ]
  },
  {
   "cell_type": "markdown",
   "metadata": {
    "bootstrap": {
     "panel": {
      "class": "panel-danger",
      "heading": "요약: NumPy 의 랜덤 넘버 생성 관련 함수"
     }
    },
    "school_cell_uuid": "ad7adee232304a798bf3ecb1610514a5"
   },
   "source": [
    "### `numpy.random` 서브패키지\n",
    "\n",
    "* `seed`: pseudo random 상태 설정\n",
    "* `shuffle`: 조합(combination)\n",
    "* `choice`: 순열(permutation) 및 조합(combination)\n",
    "* `rand`: uniform \n",
    "* `random_integers`: uniform integer\n",
    "* `randn`: Gaussina normal\n",
    "\n"
   ]
  },
  {
   "cell_type": "markdown",
   "metadata": {
    "school_cell_uuid": "56dad188789e4a7a917970a18190bb4a"
   },
   "source": [
    "#### seed\n",
    "\n",
    "* 컴퓨터의 랜덤 생성은 사실 랜덤이 아니다.\n",
    "* 랜덤처럼 보이지만 정해진 알고리즘에 의해 생성되는 규칙적인 순열\n",
    "* 시작점이 정해지면 랜덤 함수를 사용해도 정해진 숫자가 나온다."
   ]
  },
  {
   "cell_type": "code",
   "execution_count": 208,
   "metadata": {
    "collapsed": true,
    "school_cell_uuid": "0cb82a4151854afaa5f3dce94d32f11f",
    "slideshow": {
     "slide_type": "-"
    }
   },
   "outputs": [],
   "source": [
    "np.random.seed(0)"
   ]
  },
  {
   "cell_type": "markdown",
   "metadata": {
    "school_cell_uuid": "8dc2322198f041c194417cdaa79cd0fd"
   },
   "source": [
    "* `numpy.random.shuffle(x)`\n",
    " * Parameters:\t\n",
    "    * x : array_like\n",
    "        * The array or list to be shuffled."
   ]
  },
  {
   "cell_type": "code",
   "execution_count": 209,
   "metadata": {
    "collapsed": false,
    "school_cell_uuid": "b83a91f6397744f8b5cbce45e3e5ae98",
    "slideshow": {
     "slide_type": "-"
    }
   },
   "outputs": [
    {
     "data": {
      "text/plain": [
       "array([2, 8, 4, 9, 1, 6, 7, 3, 0, 5])"
      ]
     },
     "execution_count": 209,
     "metadata": {},
     "output_type": "execute_result"
    }
   ],
   "source": [
    "x = np.arange(10)\n",
    "np.random.shuffle(x)\n",
    "x"
   ]
  },
  {
   "cell_type": "markdown",
   "metadata": {
    "bootstrap": {
     "panel": {
      "class": "panel-danger",
      "heading": "요약: numpy.random.choice"
     }
    },
    "school_cell_uuid": "cdd56c60e7d24626985884fb6d929b83"
   },
   "source": [
    "* `numpy.random.choice(a, size=None, replace=True, p=None)`\n",
    " * Parameters:\t\n",
    "    * a : 1-D array-like or int\n",
    "        * If an ndarray, a random sample is generated from its elements. If an int, the random sample is generated as if a was np.arange(n)\n",
    "    * size : int or tuple of ints, optional\n",
    "        * Output shape. If the given shape is, e.g., (m, n, k), then m * n * k samples are drawn. Default is None, in which case a single value is returned.\n",
    "    * replace : boolean, optional\n",
    "        * Whether the sample is with or without replacement\n",
    "    * p : 1-D array-like, optional\n",
    "        * The probabilities associated with each entry in a. If not given the sample assumes a uniform distribution over all entries in a.\n",
    " * Returns:\t\n",
    "    * samples : 1-D ndarray, shape (size,)\n",
    "        * The generated random samples"
   ]
  },
  {
   "cell_type": "code",
   "execution_count": 210,
   "metadata": {
    "collapsed": false,
    "school_cell_uuid": "2e48865ae6544f338cd943430363d73a"
   },
   "outputs": [
    {
     "data": {
      "text/plain": [
       "array([1, 0, 2, 3, 4])"
      ]
     },
     "execution_count": 210,
     "metadata": {},
     "output_type": "execute_result"
    }
   ],
   "source": [
    "# same as shuffle\n",
    "np.random.choice(5, 5, replace=False)"
   ]
  },
  {
   "cell_type": "code",
   "execution_count": 211,
   "metadata": {
    "collapsed": false,
    "school_cell_uuid": "a32f594801af4328bfcaff493c3d0a1d"
   },
   "outputs": [
    {
     "data": {
      "text/plain": [
       "array([3, 1, 2])"
      ]
     },
     "execution_count": 211,
     "metadata": {},
     "output_type": "execute_result"
    }
   ],
   "source": [
    "np.random.choice(5, 3, replace=False)"
   ]
  },
  {
   "cell_type": "code",
   "execution_count": 212,
   "metadata": {
    "collapsed": false,
    "school_cell_uuid": "ec24b6cc6e2b497aa0e0e832486f027f"
   },
   "outputs": [
    {
     "data": {
      "text/plain": [
       "array([0, 1, 1, 0, 1, 4, 3, 0, 3, 0])"
      ]
     },
     "execution_count": 212,
     "metadata": {},
     "output_type": "execute_result"
    }
   ],
   "source": [
    "np.random.choice(5, 10)"
   ]
  },
  {
   "cell_type": "code",
   "execution_count": 213,
   "metadata": {
    "collapsed": false,
    "school_cell_uuid": "83e9e07e32204492b414e8970b459706"
   },
   "outputs": [
    {
     "data": {
      "text/plain": [
       "array([3, 3, 3, 3, 2, 3, 2, 3, 3, 3])"
      ]
     },
     "execution_count": 213,
     "metadata": {},
     "output_type": "execute_result"
    }
   ],
   "source": [
    "np.random.choice(5, 10, p=[0.1, 0, 0.3, 0.6, 0])"
   ]
  },
  {
   "cell_type": "code",
   "execution_count": 214,
   "metadata": {
    "collapsed": false,
    "school_cell_uuid": "c5d5b4050107456080d3994086147c33"
   },
   "outputs": [
    {
     "name": "stdout",
     "output_type": "stream",
     "text": [
      "[ 0.26455561  0.77423369  0.45615033  0.56843395  0.0187898   0.6176355\n",
      "  0.61209572  0.616934    0.94374808  0.6818203 ]\n"
     ]
    },
    {
     "data": {
      "text/plain": [
       "<matplotlib.axes._subplots.AxesSubplot at 0x7fa534e20ad0>"
      ]
     },
     "execution_count": 214,
     "metadata": {},
     "output_type": "execute_result"
    },
    {
     "data": {
      "image/svg+xml": [
       "<?xml version=\"1.0\" encoding=\"utf-8\" standalone=\"no\"?>\n",
       "<!DOCTYPE svg PUBLIC \"-//W3C//DTD SVG 1.1//EN\"\n",
       "  \"http://www.w3.org/Graphics/SVG/1.1/DTD/svg11.dtd\">\n",
       "<!-- Created with matplotlib (http://matplotlib.org/) -->\n",
       "<svg height=\"342pt\" version=\"1.1\" viewBox=\"0 0 488 342\" width=\"488pt\" xmlns=\"http://www.w3.org/2000/svg\" xmlns:xlink=\"http://www.w3.org/1999/xlink\">\n",
       " <defs>\n",
       "  <style type=\"text/css\">\n",
       "*{stroke-linecap:butt;stroke-linejoin:round;stroke-miterlimit:100000;}\n",
       "  </style>\n",
       " </defs>\n",
       " <g id=\"figure_1\">\n",
       "  <g id=\"patch_1\">\n",
       "   <path d=\"M 0 342.017969 \n",
       "L 488.65 342.017969 \n",
       "L 488.65 0 \n",
       "L 0 0 \n",
       "z\n",
       "\" style=\"fill:#ffffff;\"/>\n",
       "  </g>\n",
       "  <g id=\"axes_1\">\n",
       "   <g id=\"patch_2\">\n",
       "    <path d=\"M 28.1 318.672656 \n",
       "L 474.5 318.672656 \n",
       "L 474.5 11.772656 \n",
       "L 28.1 11.772656 \n",
       "z\n",
       "\" style=\"fill:#eaeaf2;\"/>\n",
       "   </g>\n",
       "   <g id=\"matplotlib.axis_1\">\n",
       "    <g id=\"xtick_1\">\n",
       "     <g id=\"line2d_1\">\n",
       "      <path clip-path=\"url(#p0c3962bf15)\" d=\"M 28.1 318.672656 \n",
       "L 28.1 11.772656 \n",
       "\" style=\"fill:none;stroke:#ffffff;stroke-linecap:round;\"/>\n",
       "     </g>\n",
       "     <g id=\"line2d_2\">\n",
       "      <defs>\n",
       "       <path d=\"M 0 0 \n",
       "L 0 0 \n",
       "\" id=\"m3dbb3ff0dd\" style=\"stroke:#262626;\"/>\n",
       "      </defs>\n",
       "      <g>\n",
       "       <use style=\"fill:#262626;stroke:#262626;\" x=\"28.1\" xlink:href=\"#m3dbb3ff0dd\" y=\"318.67265625\"/>\n",
       "      </g>\n",
       "     </g>\n",
       "     <g id=\"line2d_3\">\n",
       "      <g>\n",
       "       <use style=\"fill:#262626;stroke:#262626;\" x=\"28.1\" xlink:href=\"#m3dbb3ff0dd\" y=\"11.77265625\"/>\n",
       "      </g>\n",
       "     </g>\n",
       "     <g id=\"text_1\">\n",
       "      <!-- −0.2 -->\n",
       "      <defs>\n",
       "       <path d=\"M 4.15625 35.296875 \n",
       "Q 4.15625 48 6.765625 55.734375 \n",
       "Q 9.375 63.484375 14.515625 67.671875 \n",
       "Q 19.671875 71.875 27.484375 71.875 \n",
       "Q 33.25 71.875 37.59375 69.546875 \n",
       "Q 41.9375 67.234375 44.765625 62.859375 \n",
       "Q 47.609375 58.5 49.21875 52.21875 \n",
       "Q 50.828125 45.953125 50.828125 35.296875 \n",
       "Q 50.828125 22.703125 48.234375 14.96875 \n",
       "Q 45.65625 7.234375 40.5 3 \n",
       "Q 35.359375 -1.21875 27.484375 -1.21875 \n",
       "Q 17.140625 -1.21875 11.234375 6.203125 \n",
       "Q 4.15625 15.140625 4.15625 35.296875 \n",
       "M 13.1875 35.296875 \n",
       "Q 13.1875 17.671875 17.3125 11.828125 \n",
       "Q 21.4375 6 27.484375 6 \n",
       "Q 33.546875 6 37.671875 11.859375 \n",
       "Q 41.796875 17.71875 41.796875 35.296875 \n",
       "Q 41.796875 52.984375 37.671875 58.78125 \n",
       "Q 33.546875 64.59375 27.390625 64.59375 \n",
       "Q 21.34375 64.59375 17.71875 59.46875 \n",
       "Q 13.1875 52.9375 13.1875 35.296875 \n",
       "\" id=\"ArialMT-30\"/>\n",
       "       <path d=\"M 52.828125 31.203125 \n",
       "L 5.5625 31.203125 \n",
       "L 5.5625 39.40625 \n",
       "L 52.828125 39.40625 \n",
       "z\n",
       "\" id=\"ArialMT-2212\"/>\n",
       "       <path d=\"M 50.34375 8.453125 \n",
       "L 50.34375 0 \n",
       "L 3.03125 0 \n",
       "Q 2.9375 3.171875 4.046875 6.109375 \n",
       "Q 5.859375 10.9375 9.828125 15.625 \n",
       "Q 13.8125 20.3125 21.34375 26.46875 \n",
       "Q 33.015625 36.03125 37.109375 41.625 \n",
       "Q 41.21875 47.21875 41.21875 52.203125 \n",
       "Q 41.21875 57.421875 37.46875 61 \n",
       "Q 33.734375 64.59375 27.734375 64.59375 \n",
       "Q 21.390625 64.59375 17.578125 60.78125 \n",
       "Q 13.765625 56.984375 13.71875 50.25 \n",
       "L 4.6875 51.171875 \n",
       "Q 5.609375 61.28125 11.65625 66.578125 \n",
       "Q 17.71875 71.875 27.9375 71.875 \n",
       "Q 38.234375 71.875 44.234375 66.15625 \n",
       "Q 50.25 60.453125 50.25 52 \n",
       "Q 50.25 47.703125 48.484375 43.546875 \n",
       "Q 46.734375 39.40625 42.65625 34.8125 \n",
       "Q 38.578125 30.21875 29.109375 22.21875 \n",
       "Q 21.1875 15.578125 18.9375 13.203125 \n",
       "Q 16.703125 10.84375 15.234375 8.453125 \n",
       "z\n",
       "\" id=\"ArialMT-32\"/>\n",
       "       <path d=\"M 9.078125 0 \n",
       "L 9.078125 10.015625 \n",
       "L 19.09375 10.015625 \n",
       "L 19.09375 0 \n",
       "z\n",
       "\" id=\"ArialMT-2e\"/>\n",
       "      </defs>\n",
       "      <g style=\"fill:#262626;\" transform=\"translate(18.2296875 332.83046875)scale(0.1 -0.1)\">\n",
       "       <use xlink:href=\"#ArialMT-2212\"/>\n",
       "       <use x=\"58.3984375\" xlink:href=\"#ArialMT-30\"/>\n",
       "       <use x=\"114.013671875\" xlink:href=\"#ArialMT-2e\"/>\n",
       "       <use x=\"141.796875\" xlink:href=\"#ArialMT-32\"/>\n",
       "      </g>\n",
       "     </g>\n",
       "    </g>\n",
       "    <g id=\"xtick_2\">\n",
       "     <g id=\"line2d_4\">\n",
       "      <path clip-path=\"url(#p0c3962bf15)\" d=\"M 91.871429 318.672656 \n",
       "L 91.871429 11.772656 \n",
       "\" style=\"fill:none;stroke:#ffffff;stroke-linecap:round;\"/>\n",
       "     </g>\n",
       "     <g id=\"line2d_5\">\n",
       "      <g>\n",
       "       <use style=\"fill:#262626;stroke:#262626;\" x=\"91.8714285714\" xlink:href=\"#m3dbb3ff0dd\" y=\"318.67265625\"/>\n",
       "      </g>\n",
       "     </g>\n",
       "     <g id=\"line2d_6\">\n",
       "      <g>\n",
       "       <use style=\"fill:#262626;stroke:#262626;\" x=\"91.8714285714\" xlink:href=\"#m3dbb3ff0dd\" y=\"11.77265625\"/>\n",
       "      </g>\n",
       "     </g>\n",
       "     <g id=\"text_2\">\n",
       "      <!-- 0.0 -->\n",
       "      <g style=\"fill:#262626;\" transform=\"translate(84.9214285714 332.83046875)scale(0.1 -0.1)\">\n",
       "       <use xlink:href=\"#ArialMT-30\"/>\n",
       "       <use x=\"55.615234375\" xlink:href=\"#ArialMT-2e\"/>\n",
       "       <use x=\"83.3984375\" xlink:href=\"#ArialMT-30\"/>\n",
       "      </g>\n",
       "     </g>\n",
       "    </g>\n",
       "    <g id=\"xtick_3\">\n",
       "     <g id=\"line2d_7\">\n",
       "      <path clip-path=\"url(#p0c3962bf15)\" d=\"M 155.642857 318.672656 \n",
       "L 155.642857 11.772656 \n",
       "\" style=\"fill:none;stroke:#ffffff;stroke-linecap:round;\"/>\n",
       "     </g>\n",
       "     <g id=\"line2d_8\">\n",
       "      <g>\n",
       "       <use style=\"fill:#262626;stroke:#262626;\" x=\"155.642857143\" xlink:href=\"#m3dbb3ff0dd\" y=\"318.67265625\"/>\n",
       "      </g>\n",
       "     </g>\n",
       "     <g id=\"line2d_9\">\n",
       "      <g>\n",
       "       <use style=\"fill:#262626;stroke:#262626;\" x=\"155.642857143\" xlink:href=\"#m3dbb3ff0dd\" y=\"11.77265625\"/>\n",
       "      </g>\n",
       "     </g>\n",
       "     <g id=\"text_3\">\n",
       "      <!-- 0.2 -->\n",
       "      <g style=\"fill:#262626;\" transform=\"translate(148.692857143 332.83046875)scale(0.1 -0.1)\">\n",
       "       <use xlink:href=\"#ArialMT-30\"/>\n",
       "       <use x=\"55.615234375\" xlink:href=\"#ArialMT-2e\"/>\n",
       "       <use x=\"83.3984375\" xlink:href=\"#ArialMT-32\"/>\n",
       "      </g>\n",
       "     </g>\n",
       "    </g>\n",
       "    <g id=\"xtick_4\">\n",
       "     <g id=\"line2d_10\">\n",
       "      <path clip-path=\"url(#p0c3962bf15)\" d=\"M 219.414286 318.672656 \n",
       "L 219.414286 11.772656 \n",
       "\" style=\"fill:none;stroke:#ffffff;stroke-linecap:round;\"/>\n",
       "     </g>\n",
       "     <g id=\"line2d_11\">\n",
       "      <g>\n",
       "       <use style=\"fill:#262626;stroke:#262626;\" x=\"219.414285714\" xlink:href=\"#m3dbb3ff0dd\" y=\"318.67265625\"/>\n",
       "      </g>\n",
       "     </g>\n",
       "     <g id=\"line2d_12\">\n",
       "      <g>\n",
       "       <use style=\"fill:#262626;stroke:#262626;\" x=\"219.414285714\" xlink:href=\"#m3dbb3ff0dd\" y=\"11.77265625\"/>\n",
       "      </g>\n",
       "     </g>\n",
       "     <g id=\"text_4\">\n",
       "      <!-- 0.4 -->\n",
       "      <defs>\n",
       "       <path d=\"M 32.328125 0 \n",
       "L 32.328125 17.140625 \n",
       "L 1.265625 17.140625 \n",
       "L 1.265625 25.203125 \n",
       "L 33.9375 71.578125 \n",
       "L 41.109375 71.578125 \n",
       "L 41.109375 25.203125 \n",
       "L 50.78125 25.203125 \n",
       "L 50.78125 17.140625 \n",
       "L 41.109375 17.140625 \n",
       "L 41.109375 0 \n",
       "z\n",
       "M 32.328125 25.203125 \n",
       "L 32.328125 57.46875 \n",
       "L 9.90625 25.203125 \n",
       "z\n",
       "\" id=\"ArialMT-34\"/>\n",
       "      </defs>\n",
       "      <g style=\"fill:#262626;\" transform=\"translate(212.464285714 332.83046875)scale(0.1 -0.1)\">\n",
       "       <use xlink:href=\"#ArialMT-30\"/>\n",
       "       <use x=\"55.615234375\" xlink:href=\"#ArialMT-2e\"/>\n",
       "       <use x=\"83.3984375\" xlink:href=\"#ArialMT-34\"/>\n",
       "      </g>\n",
       "     </g>\n",
       "    </g>\n",
       "    <g id=\"xtick_5\">\n",
       "     <g id=\"line2d_13\">\n",
       "      <path clip-path=\"url(#p0c3962bf15)\" d=\"M 283.185714 318.672656 \n",
       "L 283.185714 11.772656 \n",
       "\" style=\"fill:none;stroke:#ffffff;stroke-linecap:round;\"/>\n",
       "     </g>\n",
       "     <g id=\"line2d_14\">\n",
       "      <g>\n",
       "       <use style=\"fill:#262626;stroke:#262626;\" x=\"283.185714286\" xlink:href=\"#m3dbb3ff0dd\" y=\"318.67265625\"/>\n",
       "      </g>\n",
       "     </g>\n",
       "     <g id=\"line2d_15\">\n",
       "      <g>\n",
       "       <use style=\"fill:#262626;stroke:#262626;\" x=\"283.185714286\" xlink:href=\"#m3dbb3ff0dd\" y=\"11.77265625\"/>\n",
       "      </g>\n",
       "     </g>\n",
       "     <g id=\"text_5\">\n",
       "      <!-- 0.6 -->\n",
       "      <defs>\n",
       "       <path d=\"M 49.75 54.046875 \n",
       "L 41.015625 53.375 \n",
       "Q 39.84375 58.546875 37.703125 60.890625 \n",
       "Q 34.125 64.65625 28.90625 64.65625 \n",
       "Q 24.703125 64.65625 21.53125 62.3125 \n",
       "Q 17.390625 59.28125 14.984375 53.46875 \n",
       "Q 12.59375 47.65625 12.5 36.921875 \n",
       "Q 15.671875 41.75 20.265625 44.09375 \n",
       "Q 24.859375 46.4375 29.890625 46.4375 \n",
       "Q 38.671875 46.4375 44.84375 39.96875 \n",
       "Q 51.03125 33.5 51.03125 23.25 \n",
       "Q 51.03125 16.5 48.125 10.71875 \n",
       "Q 45.21875 4.9375 40.140625 1.859375 \n",
       "Q 35.0625 -1.21875 28.609375 -1.21875 \n",
       "Q 17.625 -1.21875 10.6875 6.859375 \n",
       "Q 3.765625 14.9375 3.765625 33.5 \n",
       "Q 3.765625 54.25 11.421875 63.671875 \n",
       "Q 18.109375 71.875 29.4375 71.875 \n",
       "Q 37.890625 71.875 43.28125 67.140625 \n",
       "Q 48.6875 62.40625 49.75 54.046875 \n",
       "M 13.875 23.1875 \n",
       "Q 13.875 18.65625 15.796875 14.5 \n",
       "Q 17.71875 10.359375 21.1875 8.171875 \n",
       "Q 24.65625 6 28.46875 6 \n",
       "Q 34.03125 6 38.03125 10.484375 \n",
       "Q 42.046875 14.984375 42.046875 22.703125 \n",
       "Q 42.046875 30.125 38.078125 34.390625 \n",
       "Q 34.125 38.671875 28.125 38.671875 \n",
       "Q 22.171875 38.671875 18.015625 34.390625 \n",
       "Q 13.875 30.125 13.875 23.1875 \n",
       "\" id=\"ArialMT-36\"/>\n",
       "      </defs>\n",
       "      <g style=\"fill:#262626;\" transform=\"translate(276.235714286 332.83046875)scale(0.1 -0.1)\">\n",
       "       <use xlink:href=\"#ArialMT-30\"/>\n",
       "       <use x=\"55.615234375\" xlink:href=\"#ArialMT-2e\"/>\n",
       "       <use x=\"83.3984375\" xlink:href=\"#ArialMT-36\"/>\n",
       "      </g>\n",
       "     </g>\n",
       "    </g>\n",
       "    <g id=\"xtick_6\">\n",
       "     <g id=\"line2d_16\">\n",
       "      <path clip-path=\"url(#p0c3962bf15)\" d=\"M 346.957143 318.672656 \n",
       "L 346.957143 11.772656 \n",
       "\" style=\"fill:none;stroke:#ffffff;stroke-linecap:round;\"/>\n",
       "     </g>\n",
       "     <g id=\"line2d_17\">\n",
       "      <g>\n",
       "       <use style=\"fill:#262626;stroke:#262626;\" x=\"346.957142857\" xlink:href=\"#m3dbb3ff0dd\" y=\"318.67265625\"/>\n",
       "      </g>\n",
       "     </g>\n",
       "     <g id=\"line2d_18\">\n",
       "      <g>\n",
       "       <use style=\"fill:#262626;stroke:#262626;\" x=\"346.957142857\" xlink:href=\"#m3dbb3ff0dd\" y=\"11.77265625\"/>\n",
       "      </g>\n",
       "     </g>\n",
       "     <g id=\"text_6\">\n",
       "      <!-- 0.8 -->\n",
       "      <defs>\n",
       "       <path d=\"M 17.671875 38.8125 \n",
       "Q 12.203125 40.828125 9.5625 44.53125 \n",
       "Q 6.9375 48.25 6.9375 53.421875 \n",
       "Q 6.9375 61.234375 12.546875 66.546875 \n",
       "Q 18.171875 71.875 27.484375 71.875 \n",
       "Q 36.859375 71.875 42.578125 66.421875 \n",
       "Q 48.296875 60.984375 48.296875 53.171875 \n",
       "Q 48.296875 48.1875 45.671875 44.5 \n",
       "Q 43.0625 40.828125 37.75 38.8125 \n",
       "Q 44.34375 36.671875 47.78125 31.875 \n",
       "Q 51.21875 27.09375 51.21875 20.453125 \n",
       "Q 51.21875 11.28125 44.71875 5.03125 \n",
       "Q 38.234375 -1.21875 27.640625 -1.21875 \n",
       "Q 17.046875 -1.21875 10.546875 5.046875 \n",
       "Q 4.046875 11.328125 4.046875 20.703125 \n",
       "Q 4.046875 27.6875 7.59375 32.390625 \n",
       "Q 11.140625 37.109375 17.671875 38.8125 \n",
       "M 15.921875 53.71875 \n",
       "Q 15.921875 48.640625 19.1875 45.40625 \n",
       "Q 22.46875 42.1875 27.6875 42.1875 \n",
       "Q 32.765625 42.1875 36.015625 45.375 \n",
       "Q 39.265625 48.578125 39.265625 53.21875 \n",
       "Q 39.265625 58.0625 35.90625 61.359375 \n",
       "Q 32.5625 64.65625 27.59375 64.65625 \n",
       "Q 22.5625 64.65625 19.234375 61.421875 \n",
       "Q 15.921875 58.203125 15.921875 53.71875 \n",
       "M 13.09375 20.65625 \n",
       "Q 13.09375 16.890625 14.875 13.375 \n",
       "Q 16.65625 9.859375 20.171875 7.921875 \n",
       "Q 23.6875 6 27.734375 6 \n",
       "Q 34.03125 6 38.125 10.046875 \n",
       "Q 42.234375 14.109375 42.234375 20.359375 \n",
       "Q 42.234375 26.703125 38.015625 30.859375 \n",
       "Q 33.796875 35.015625 27.4375 35.015625 \n",
       "Q 21.234375 35.015625 17.15625 30.90625 \n",
       "Q 13.09375 26.8125 13.09375 20.65625 \n",
       "\" id=\"ArialMT-38\"/>\n",
       "      </defs>\n",
       "      <g style=\"fill:#262626;\" transform=\"translate(340.007142857 332.83046875)scale(0.1 -0.1)\">\n",
       "       <use xlink:href=\"#ArialMT-30\"/>\n",
       "       <use x=\"55.615234375\" xlink:href=\"#ArialMT-2e\"/>\n",
       "       <use x=\"83.3984375\" xlink:href=\"#ArialMT-38\"/>\n",
       "      </g>\n",
       "     </g>\n",
       "    </g>\n",
       "    <g id=\"xtick_7\">\n",
       "     <g id=\"line2d_19\">\n",
       "      <path clip-path=\"url(#p0c3962bf15)\" d=\"M 410.728571 318.672656 \n",
       "L 410.728571 11.772656 \n",
       "\" style=\"fill:none;stroke:#ffffff;stroke-linecap:round;\"/>\n",
       "     </g>\n",
       "     <g id=\"line2d_20\">\n",
       "      <g>\n",
       "       <use style=\"fill:#262626;stroke:#262626;\" x=\"410.728571429\" xlink:href=\"#m3dbb3ff0dd\" y=\"318.67265625\"/>\n",
       "      </g>\n",
       "     </g>\n",
       "     <g id=\"line2d_21\">\n",
       "      <g>\n",
       "       <use style=\"fill:#262626;stroke:#262626;\" x=\"410.728571429\" xlink:href=\"#m3dbb3ff0dd\" y=\"11.77265625\"/>\n",
       "      </g>\n",
       "     </g>\n",
       "     <g id=\"text_7\">\n",
       "      <!-- 1.0 -->\n",
       "      <defs>\n",
       "       <path d=\"M 37.25 0 \n",
       "L 28.46875 0 \n",
       "L 28.46875 56 \n",
       "Q 25.296875 52.984375 20.140625 49.953125 \n",
       "Q 14.984375 46.921875 10.890625 45.40625 \n",
       "L 10.890625 53.90625 \n",
       "Q 18.265625 57.375 23.78125 62.296875 \n",
       "Q 29.296875 67.234375 31.59375 71.875 \n",
       "L 37.25 71.875 \n",
       "z\n",
       "\" id=\"ArialMT-31\"/>\n",
       "      </defs>\n",
       "      <g style=\"fill:#262626;\" transform=\"translate(403.778571429 332.83046875)scale(0.1 -0.1)\">\n",
       "       <use xlink:href=\"#ArialMT-31\"/>\n",
       "       <use x=\"55.615234375\" xlink:href=\"#ArialMT-2e\"/>\n",
       "       <use x=\"83.3984375\" xlink:href=\"#ArialMT-30\"/>\n",
       "      </g>\n",
       "     </g>\n",
       "    </g>\n",
       "    <g id=\"xtick_8\">\n",
       "     <g id=\"line2d_22\">\n",
       "      <path clip-path=\"url(#p0c3962bf15)\" d=\"M 474.5 318.672656 \n",
       "L 474.5 11.772656 \n",
       "\" style=\"fill:none;stroke:#ffffff;stroke-linecap:round;\"/>\n",
       "     </g>\n",
       "     <g id=\"line2d_23\">\n",
       "      <g>\n",
       "       <use style=\"fill:#262626;stroke:#262626;\" x=\"474.5\" xlink:href=\"#m3dbb3ff0dd\" y=\"318.67265625\"/>\n",
       "      </g>\n",
       "     </g>\n",
       "     <g id=\"line2d_24\">\n",
       "      <g>\n",
       "       <use style=\"fill:#262626;stroke:#262626;\" x=\"474.5\" xlink:href=\"#m3dbb3ff0dd\" y=\"11.77265625\"/>\n",
       "      </g>\n",
       "     </g>\n",
       "     <g id=\"text_8\">\n",
       "      <!-- 1.2 -->\n",
       "      <g style=\"fill:#262626;\" transform=\"translate(467.55 332.83046875)scale(0.1 -0.1)\">\n",
       "       <use xlink:href=\"#ArialMT-31\"/>\n",
       "       <use x=\"55.615234375\" xlink:href=\"#ArialMT-2e\"/>\n",
       "       <use x=\"83.3984375\" xlink:href=\"#ArialMT-32\"/>\n",
       "      </g>\n",
       "     </g>\n",
       "    </g>\n",
       "   </g>\n",
       "   <g id=\"matplotlib.axis_2\">\n",
       "    <g id=\"ytick_1\">\n",
       "     <g id=\"line2d_25\">\n",
       "      <path clip-path=\"url(#p0c3962bf15)\" d=\"M 28.1 318.672656 \n",
       "L 474.5 318.672656 \n",
       "\" style=\"fill:none;stroke:#ffffff;stroke-linecap:round;\"/>\n",
       "     </g>\n",
       "     <g id=\"line2d_26\">\n",
       "      <g>\n",
       "       <use style=\"fill:#262626;stroke:#262626;\" x=\"28.1\" xlink:href=\"#m3dbb3ff0dd\" y=\"318.67265625\"/>\n",
       "      </g>\n",
       "     </g>\n",
       "     <g id=\"line2d_27\">\n",
       "      <g>\n",
       "       <use style=\"fill:#262626;stroke:#262626;\" x=\"474.5\" xlink:href=\"#m3dbb3ff0dd\" y=\"318.67265625\"/>\n",
       "      </g>\n",
       "     </g>\n",
       "     <g id=\"text_9\">\n",
       "      <!-- 0.0 -->\n",
       "      <g style=\"fill:#262626;\" transform=\"translate(7.2 321.2578125)scale(0.1 -0.1)\">\n",
       "       <use xlink:href=\"#ArialMT-30\"/>\n",
       "       <use x=\"55.615234375\" xlink:href=\"#ArialMT-2e\"/>\n",
       "       <use x=\"83.3984375\" xlink:href=\"#ArialMT-30\"/>\n",
       "      </g>\n",
       "     </g>\n",
       "    </g>\n",
       "    <g id=\"ytick_2\">\n",
       "     <g id=\"line2d_28\">\n",
       "      <path clip-path=\"url(#p0c3962bf15)\" d=\"M 28.1 267.522656 \n",
       "L 474.5 267.522656 \n",
       "\" style=\"fill:none;stroke:#ffffff;stroke-linecap:round;\"/>\n",
       "     </g>\n",
       "     <g id=\"line2d_29\">\n",
       "      <g>\n",
       "       <use style=\"fill:#262626;stroke:#262626;\" x=\"28.1\" xlink:href=\"#m3dbb3ff0dd\" y=\"267.52265625\"/>\n",
       "      </g>\n",
       "     </g>\n",
       "     <g id=\"line2d_30\">\n",
       "      <g>\n",
       "       <use style=\"fill:#262626;stroke:#262626;\" x=\"474.5\" xlink:href=\"#m3dbb3ff0dd\" y=\"267.52265625\"/>\n",
       "      </g>\n",
       "     </g>\n",
       "     <g id=\"text_10\">\n",
       "      <!-- 0.2 -->\n",
       "      <g style=\"fill:#262626;\" transform=\"translate(7.2 270.1078125)scale(0.1 -0.1)\">\n",
       "       <use xlink:href=\"#ArialMT-30\"/>\n",
       "       <use x=\"55.615234375\" xlink:href=\"#ArialMT-2e\"/>\n",
       "       <use x=\"83.3984375\" xlink:href=\"#ArialMT-32\"/>\n",
       "      </g>\n",
       "     </g>\n",
       "    </g>\n",
       "    <g id=\"ytick_3\">\n",
       "     <g id=\"line2d_31\">\n",
       "      <path clip-path=\"url(#p0c3962bf15)\" d=\"M 28.1 216.372656 \n",
       "L 474.5 216.372656 \n",
       "\" style=\"fill:none;stroke:#ffffff;stroke-linecap:round;\"/>\n",
       "     </g>\n",
       "     <g id=\"line2d_32\">\n",
       "      <g>\n",
       "       <use style=\"fill:#262626;stroke:#262626;\" x=\"28.1\" xlink:href=\"#m3dbb3ff0dd\" y=\"216.37265625\"/>\n",
       "      </g>\n",
       "     </g>\n",
       "     <g id=\"line2d_33\">\n",
       "      <g>\n",
       "       <use style=\"fill:#262626;stroke:#262626;\" x=\"474.5\" xlink:href=\"#m3dbb3ff0dd\" y=\"216.37265625\"/>\n",
       "      </g>\n",
       "     </g>\n",
       "     <g id=\"text_11\">\n",
       "      <!-- 0.4 -->\n",
       "      <g style=\"fill:#262626;\" transform=\"translate(7.2 218.9578125)scale(0.1 -0.1)\">\n",
       "       <use xlink:href=\"#ArialMT-30\"/>\n",
       "       <use x=\"55.615234375\" xlink:href=\"#ArialMT-2e\"/>\n",
       "       <use x=\"83.3984375\" xlink:href=\"#ArialMT-34\"/>\n",
       "      </g>\n",
       "     </g>\n",
       "    </g>\n",
       "    <g id=\"ytick_4\">\n",
       "     <g id=\"line2d_34\">\n",
       "      <path clip-path=\"url(#p0c3962bf15)\" d=\"M 28.1 165.222656 \n",
       "L 474.5 165.222656 \n",
       "\" style=\"fill:none;stroke:#ffffff;stroke-linecap:round;\"/>\n",
       "     </g>\n",
       "     <g id=\"line2d_35\">\n",
       "      <g>\n",
       "       <use style=\"fill:#262626;stroke:#262626;\" x=\"28.1\" xlink:href=\"#m3dbb3ff0dd\" y=\"165.22265625\"/>\n",
       "      </g>\n",
       "     </g>\n",
       "     <g id=\"line2d_36\">\n",
       "      <g>\n",
       "       <use style=\"fill:#262626;stroke:#262626;\" x=\"474.5\" xlink:href=\"#m3dbb3ff0dd\" y=\"165.22265625\"/>\n",
       "      </g>\n",
       "     </g>\n",
       "     <g id=\"text_12\">\n",
       "      <!-- 0.6 -->\n",
       "      <g style=\"fill:#262626;\" transform=\"translate(7.2 167.8078125)scale(0.1 -0.1)\">\n",
       "       <use xlink:href=\"#ArialMT-30\"/>\n",
       "       <use x=\"55.615234375\" xlink:href=\"#ArialMT-2e\"/>\n",
       "       <use x=\"83.3984375\" xlink:href=\"#ArialMT-36\"/>\n",
       "      </g>\n",
       "     </g>\n",
       "    </g>\n",
       "    <g id=\"ytick_5\">\n",
       "     <g id=\"line2d_37\">\n",
       "      <path clip-path=\"url(#p0c3962bf15)\" d=\"M 28.1 114.072656 \n",
       "L 474.5 114.072656 \n",
       "\" style=\"fill:none;stroke:#ffffff;stroke-linecap:round;\"/>\n",
       "     </g>\n",
       "     <g id=\"line2d_38\">\n",
       "      <g>\n",
       "       <use style=\"fill:#262626;stroke:#262626;\" x=\"28.1\" xlink:href=\"#m3dbb3ff0dd\" y=\"114.07265625\"/>\n",
       "      </g>\n",
       "     </g>\n",
       "     <g id=\"line2d_39\">\n",
       "      <g>\n",
       "       <use style=\"fill:#262626;stroke:#262626;\" x=\"474.5\" xlink:href=\"#m3dbb3ff0dd\" y=\"114.07265625\"/>\n",
       "      </g>\n",
       "     </g>\n",
       "     <g id=\"text_13\">\n",
       "      <!-- 0.8 -->\n",
       "      <g style=\"fill:#262626;\" transform=\"translate(7.2 116.6578125)scale(0.1 -0.1)\">\n",
       "       <use xlink:href=\"#ArialMT-30\"/>\n",
       "       <use x=\"55.615234375\" xlink:href=\"#ArialMT-2e\"/>\n",
       "       <use x=\"83.3984375\" xlink:href=\"#ArialMT-38\"/>\n",
       "      </g>\n",
       "     </g>\n",
       "    </g>\n",
       "    <g id=\"ytick_6\">\n",
       "     <g id=\"line2d_40\">\n",
       "      <path clip-path=\"url(#p0c3962bf15)\" d=\"M 28.1 62.922656 \n",
       "L 474.5 62.922656 \n",
       "\" style=\"fill:none;stroke:#ffffff;stroke-linecap:round;\"/>\n",
       "     </g>\n",
       "     <g id=\"line2d_41\">\n",
       "      <g>\n",
       "       <use style=\"fill:#262626;stroke:#262626;\" x=\"28.1\" xlink:href=\"#m3dbb3ff0dd\" y=\"62.92265625\"/>\n",
       "      </g>\n",
       "     </g>\n",
       "     <g id=\"line2d_42\">\n",
       "      <g>\n",
       "       <use style=\"fill:#262626;stroke:#262626;\" x=\"474.5\" xlink:href=\"#m3dbb3ff0dd\" y=\"62.92265625\"/>\n",
       "      </g>\n",
       "     </g>\n",
       "     <g id=\"text_14\">\n",
       "      <!-- 1.0 -->\n",
       "      <g style=\"fill:#262626;\" transform=\"translate(7.2 65.5078125)scale(0.1 -0.1)\">\n",
       "       <use xlink:href=\"#ArialMT-31\"/>\n",
       "       <use x=\"55.615234375\" xlink:href=\"#ArialMT-2e\"/>\n",
       "       <use x=\"83.3984375\" xlink:href=\"#ArialMT-30\"/>\n",
       "      </g>\n",
       "     </g>\n",
       "    </g>\n",
       "    <g id=\"ytick_7\">\n",
       "     <g id=\"line2d_43\">\n",
       "      <path clip-path=\"url(#p0c3962bf15)\" d=\"M 28.1 11.772656 \n",
       "L 474.5 11.772656 \n",
       "\" style=\"fill:none;stroke:#ffffff;stroke-linecap:round;\"/>\n",
       "     </g>\n",
       "     <g id=\"line2d_44\">\n",
       "      <g>\n",
       "       <use style=\"fill:#262626;stroke:#262626;\" x=\"28.1\" xlink:href=\"#m3dbb3ff0dd\" y=\"11.77265625\"/>\n",
       "      </g>\n",
       "     </g>\n",
       "     <g id=\"line2d_45\">\n",
       "      <g>\n",
       "       <use style=\"fill:#262626;stroke:#262626;\" x=\"474.5\" xlink:href=\"#m3dbb3ff0dd\" y=\"11.77265625\"/>\n",
       "      </g>\n",
       "     </g>\n",
       "     <g id=\"text_15\">\n",
       "      <!-- 1.2 -->\n",
       "      <g style=\"fill:#262626;\" transform=\"translate(7.2 14.3578125)scale(0.1 -0.1)\">\n",
       "       <use xlink:href=\"#ArialMT-31\"/>\n",
       "       <use x=\"55.615234375\" xlink:href=\"#ArialMT-2e\"/>\n",
       "       <use x=\"83.3984375\" xlink:href=\"#ArialMT-32\"/>\n",
       "      </g>\n",
       "     </g>\n",
       "    </g>\n",
       "   </g>\n",
       "   <g id=\"patch_3\">\n",
       "    <path clip-path=\"url(#p0c3962bf15)\" d=\"M 91.89453 318.672656 \n",
       "L 106.386667 318.672656 \n",
       "L 106.386667 42.948101 \n",
       "L 91.89453 42.948101 \n",
       "z\n",
       "\" style=\"fill:#4c72b0;opacity:0.4;stroke:#000000;stroke-linejoin:miter;stroke-width:0.3;\"/>\n",
       "   </g>\n",
       "   <g id=\"patch_4\">\n",
       "    <path clip-path=\"url(#p0c3962bf15)\" d=\"M 106.386667 318.672656 \n",
       "L 120.878803 318.672656 \n",
       "L 120.878803 76.710291 \n",
       "L 106.386667 76.710291 \n",
       "z\n",
       "\" style=\"fill:#4c72b0;opacity:0.4;stroke:#000000;stroke-linejoin:miter;stroke-width:0.3;\"/>\n",
       "   </g>\n",
       "   <g id=\"patch_5\">\n",
       "    <path clip-path=\"url(#p0c3962bf15)\" d=\"M 120.878803 318.672656 \n",
       "L 135.37094 318.672656 \n",
       "L 135.37094 40.697288 \n",
       "L 120.878803 40.697288 \n",
       "z\n",
       "\" style=\"fill:#4c72b0;opacity:0.4;stroke:#000000;stroke-linejoin:miter;stroke-width:0.3;\"/>\n",
       "   </g>\n",
       "   <g id=\"patch_6\">\n",
       "    <path clip-path=\"url(#p0c3962bf15)\" d=\"M 135.37094 318.672656 \n",
       "L 149.863077 318.672656 \n",
       "L 149.863077 55.890274 \n",
       "L 135.37094 55.890274 \n",
       "z\n",
       "\" style=\"fill:#4c72b0;opacity:0.4;stroke:#000000;stroke-linejoin:miter;stroke-width:0.3;\"/>\n",
       "   </g>\n",
       "   <g id=\"patch_7\">\n",
       "    <path clip-path=\"url(#p0c3962bf15)\" d=\"M 149.863077 318.672656 \n",
       "L 164.355214 318.672656 \n",
       "L 164.355214 72.208666 \n",
       "L 149.863077 72.208666 \n",
       "z\n",
       "\" style=\"fill:#4c72b0;opacity:0.4;stroke:#000000;stroke-linejoin:miter;stroke-width:0.3;\"/>\n",
       "   </g>\n",
       "   <g id=\"patch_8\">\n",
       "    <path clip-path=\"url(#p0c3962bf15)\" d=\"M 164.355214 318.672656 \n",
       "L 178.847351 318.672656 \n",
       "L 178.847351 63.205415 \n",
       "L 164.355214 63.205415 \n",
       "z\n",
       "\" style=\"fill:#4c72b0;opacity:0.4;stroke:#000000;stroke-linejoin:miter;stroke-width:0.3;\"/>\n",
       "   </g>\n",
       "   <g id=\"patch_9\">\n",
       "    <path clip-path=\"url(#p0c3962bf15)\" d=\"M 178.847351 318.672656 \n",
       "L 193.339488 318.672656 \n",
       "L 193.339488 51.951352 \n",
       "L 178.847351 51.951352 \n",
       "z\n",
       "\" style=\"fill:#4c72b0;opacity:0.4;stroke:#000000;stroke-linejoin:miter;stroke-width:0.3;\"/>\n",
       "   </g>\n",
       "   <g id=\"patch_10\">\n",
       "    <path clip-path=\"url(#p0c3962bf15)\" d=\"M 193.339488 318.672656 \n",
       "L 207.831625 318.672656 \n",
       "L 207.831625 87.401652 \n",
       "L 193.339488 87.401652 \n",
       "z\n",
       "\" style=\"fill:#4c72b0;opacity:0.4;stroke:#000000;stroke-linejoin:miter;stroke-width:0.3;\"/>\n",
       "   </g>\n",
       "   <g id=\"patch_11\">\n",
       "    <path clip-path=\"url(#p0c3962bf15)\" d=\"M 207.831625 318.672656 \n",
       "L 222.323762 318.672656 \n",
       "L 222.323762 49.700539 \n",
       "L 207.831625 49.700539 \n",
       "z\n",
       "\" style=\"fill:#4c72b0;opacity:0.4;stroke:#000000;stroke-linejoin:miter;stroke-width:0.3;\"/>\n",
       "   </g>\n",
       "   <g id=\"patch_12\">\n",
       "    <path clip-path=\"url(#p0c3962bf15)\" d=\"M 222.323762 318.672656 \n",
       "L 236.815899 318.672656 \n",
       "L 236.815899 64.893525 \n",
       "L 222.323762 64.893525 \n",
       "z\n",
       "\" style=\"fill:#4c72b0;opacity:0.4;stroke:#000000;stroke-linejoin:miter;stroke-width:0.3;\"/>\n",
       "   </g>\n",
       "   <g id=\"patch_13\">\n",
       "    <path clip-path=\"url(#p0c3962bf15)\" d=\"M 236.815899 318.672656 \n",
       "L 251.308035 318.672656 \n",
       "L 251.308035 46.32432 \n",
       "L 236.815899 46.32432 \n",
       "z\n",
       "\" style=\"fill:#4c72b0;opacity:0.4;stroke:#000000;stroke-linejoin:miter;stroke-width:0.3;\"/>\n",
       "   </g>\n",
       "   <g id=\"patch_14\">\n",
       "    <path clip-path=\"url(#p0c3962bf15)\" d=\"M 251.308035 318.672656 \n",
       "L 265.800172 318.672656 \n",
       "L 265.800172 64.893525 \n",
       "L 251.308035 64.893525 \n",
       "z\n",
       "\" style=\"fill:#4c72b0;opacity:0.4;stroke:#000000;stroke-linejoin:miter;stroke-width:0.3;\"/>\n",
       "   </g>\n",
       "   <g id=\"patch_15\">\n",
       "    <path clip-path=\"url(#p0c3962bf15)\" d=\"M 265.800172 318.672656 \n",
       "L 280.292309 318.672656 \n",
       "L 280.292309 59.266493 \n",
       "L 265.800172 59.266493 \n",
       "z\n",
       "\" style=\"fill:#4c72b0;opacity:0.4;stroke:#000000;stroke-linejoin:miter;stroke-width:0.3;\"/>\n",
       "   </g>\n",
       "   <g id=\"patch_16\">\n",
       "    <path clip-path=\"url(#p0c3962bf15)\" d=\"M 280.292309 318.672656 \n",
       "L 294.784446 318.672656 \n",
       "L 294.784446 67.707041 \n",
       "L 280.292309 67.707041 \n",
       "z\n",
       "\" style=\"fill:#4c72b0;opacity:0.4;stroke:#000000;stroke-linejoin:miter;stroke-width:0.3;\"/>\n",
       "   </g>\n",
       "   <g id=\"patch_17\">\n",
       "    <path clip-path=\"url(#p0c3962bf15)\" d=\"M 294.784446 318.672656 \n",
       "L 309.276583 318.672656 \n",
       "L 309.276583 85.713542 \n",
       "L 294.784446 85.713542 \n",
       "z\n",
       "\" style=\"fill:#4c72b0;opacity:0.4;stroke:#000000;stroke-linejoin:miter;stroke-width:0.3;\"/>\n",
       "   </g>\n",
       "   <g id=\"patch_18\">\n",
       "    <path clip-path=\"url(#p0c3962bf15)\" d=\"M 309.276583 318.672656 \n",
       "L 323.76872 318.672656 \n",
       "L 323.76872 73.334072 \n",
       "L 309.276583 73.334072 \n",
       "z\n",
       "\" style=\"fill:#4c72b0;opacity:0.4;stroke:#000000;stroke-linejoin:miter;stroke-width:0.3;\"/>\n",
       "   </g>\n",
       "   <g id=\"patch_19\">\n",
       "    <path clip-path=\"url(#p0c3962bf15)\" d=\"M 323.76872 318.672656 \n",
       "L 338.260857 318.672656 \n",
       "L 338.260857 58.141087 \n",
       "L 323.76872 58.141087 \n",
       "z\n",
       "\" style=\"fill:#4c72b0;opacity:0.4;stroke:#000000;stroke-linejoin:miter;stroke-width:0.3;\"/>\n",
       "   </g>\n",
       "   <g id=\"patch_20\">\n",
       "    <path clip-path=\"url(#p0c3962bf15)\" d=\"M 338.260857 318.672656 \n",
       "L 352.752994 318.672656 \n",
       "L 352.752994 49.700539 \n",
       "L 338.260857 49.700539 \n",
       "z\n",
       "\" style=\"fill:#4c72b0;opacity:0.4;stroke:#000000;stroke-linejoin:miter;stroke-width:0.3;\"/>\n",
       "   </g>\n",
       "   <g id=\"patch_21\">\n",
       "    <path clip-path=\"url(#p0c3962bf15)\" d=\"M 352.752994 318.672656 \n",
       "L 367.245131 318.672656 \n",
       "L 367.245131 78.398401 \n",
       "L 352.752994 78.398401 \n",
       "z\n",
       "\" style=\"fill:#4c72b0;opacity:0.4;stroke:#000000;stroke-linejoin:miter;stroke-width:0.3;\"/>\n",
       "   </g>\n",
       "   <g id=\"patch_22\">\n",
       "    <path clip-path=\"url(#p0c3962bf15)\" d=\"M 367.245131 318.672656 \n",
       "L 381.737267 318.672656 \n",
       "L 381.737267 69.957853 \n",
       "L 367.245131 69.957853 \n",
       "z\n",
       "\" style=\"fill:#4c72b0;opacity:0.4;stroke:#000000;stroke-linejoin:miter;stroke-width:0.3;\"/>\n",
       "   </g>\n",
       "   <g id=\"patch_23\">\n",
       "    <path clip-path=\"url(#p0c3962bf15)\" d=\"M 381.737267 318.672656 \n",
       "L 396.229404 318.672656 \n",
       "L 396.229404 58.141087 \n",
       "L 381.737267 58.141087 \n",
       "z\n",
       "\" style=\"fill:#4c72b0;opacity:0.4;stroke:#000000;stroke-linejoin:miter;stroke-width:0.3;\"/>\n",
       "   </g>\n",
       "   <g id=\"patch_24\">\n",
       "    <path clip-path=\"url(#p0c3962bf15)\" d=\"M 396.229404 318.672656 \n",
       "L 410.721541 318.672656 \n",
       "L 410.721541 66.581634 \n",
       "L 396.229404 66.581634 \n",
       "z\n",
       "\" style=\"fill:#4c72b0;opacity:0.4;stroke:#000000;stroke-linejoin:miter;stroke-width:0.3;\"/>\n",
       "   </g>\n",
       "   <g id=\"line2d_46\">\n",
       "    <path clip-path=\"url(#p0c3962bf15)\" d=\"M 45.377252 318.071577 \n",
       "L 48.620257 317.771717 \n",
       "L 51.863261 317.127081 \n",
       "L 55.106266 315.983405 \n",
       "L 58.34927 314.108438 \n",
       "L 61.592274 311.192746 \n",
       "L 64.835279 306.861972 \n",
       "L 68.078283 300.706158 \n",
       "L 71.321288 292.328695 \n",
       "L 74.564292 281.412159 \n",
       "L 77.807297 267.791732 \n",
       "L 81.050301 251.52113 \n",
       "L 84.293306 232.913312 \n",
       "L 87.53631 212.540785 \n",
       "L 97.265324 149.174733 \n",
       "L 100.508328 130.222731 \n",
       "L 103.751332 113.494999 \n",
       "L 106.994337 99.319421 \n",
       "L 110.237341 87.762372 \n",
       "L 113.480346 78.672993 \n",
       "L 116.72335 71.75617 \n",
       "L 119.966355 66.653091 \n",
       "L 123.209359 63.010021 \n",
       "L 126.452364 60.522823 \n",
       "L 129.695368 58.953768 \n",
       "L 132.938373 58.125237 \n",
       "L 136.181377 57.899893 \n",
       "L 139.424382 58.157982 \n",
       "L 142.667386 58.780188 \n",
       "L 149.153395 60.609248 \n",
       "L 152.396399 61.563762 \n",
       "L 155.639404 62.401867 \n",
       "L 158.882408 63.054421 \n",
       "L 162.125413 63.493321 \n",
       "L 165.368417 63.7331 \n",
       "L 171.854426 63.847007 \n",
       "L 178.340435 64.004085 \n",
       "L 181.58344 64.255034 \n",
       "L 188.069448 65.097976 \n",
       "L 194.555457 65.908962 \n",
       "L 197.798462 66.045979 \n",
       "L 201.041466 65.891866 \n",
       "L 204.284471 65.414709 \n",
       "L 207.527475 64.635753 \n",
       "L 210.77048 63.624448 \n",
       "L 220.499493 60.247642 \n",
       "L 223.742498 59.332818 \n",
       "L 226.985502 58.623032 \n",
       "L 230.228506 58.13374 \n",
       "L 233.471511 57.860108 \n",
       "L 236.714515 57.787135 \n",
       "L 239.95752 57.89721 \n",
       "L 243.200524 58.173137 \n",
       "L 246.443529 58.597155 \n",
       "L 252.929538 59.801285 \n",
       "L 259.415547 61.301095 \n",
       "L 269.14456 63.77725 \n",
       "L 275.630569 65.624809 \n",
       "L 282.116578 67.721716 \n",
       "L 288.602587 69.892972 \n",
       "L 291.845591 70.85987 \n",
       "L 295.088596 71.644171 \n",
       "L 298.3316 72.171985 \n",
       "L 301.574605 72.38701 \n",
       "L 304.817609 72.259799 \n",
       "L 308.060613 71.792535 \n",
       "L 311.303618 71.018973 \n",
       "L 314.546622 70.000428 \n",
       "L 327.51864 65.282049 \n",
       "L 330.761645 64.428456 \n",
       "L 334.004649 63.866749 \n",
       "L 337.247654 63.635043 \n",
       "L 340.490658 63.733631 \n",
       "L 343.733663 64.121404 \n",
       "L 350.219671 65.417192 \n",
       "L 353.462676 66.097756 \n",
       "L 356.70568 66.651714 \n",
       "L 359.948685 67.004706 \n",
       "L 363.191689 67.138328 \n",
       "L 369.677698 67.050555 \n",
       "L 372.920703 67.195199 \n",
       "L 376.163707 67.853489 \n",
       "L 379.406712 69.411401 \n",
       "L 382.649716 72.307465 \n",
       "L 385.892721 76.999682 \n",
       "L 389.135725 83.919416 \n",
       "L 392.378729 93.413872 \n",
       "L 395.621734 105.683158 \n",
       "L 398.864738 120.722543 \n",
       "L 402.107743 138.28358 \n",
       "L 405.350747 157.867136 \n",
       "L 415.079761 220.956503 \n",
       "L 418.322765 240.516242 \n",
       "L 421.56577 258.086324 \n",
       "L 424.808774 273.213029 \n",
       "L 428.051779 285.695202 \n",
       "L 431.294783 295.567389 \n",
       "L 434.537787 303.05088 \n",
       "L 437.780792 308.48752 \n",
       "L 441.023796 312.27186 \n",
       "L 444.266801 314.793807 \n",
       "L 447.509805 316.398323 \n",
       "L 450.75281 317.363005 \n",
       "L 453.995814 317.890095 \n",
       "L 457.238819 318.107287 \n",
       "L 457.238819 318.107287 \n",
       "\" style=\"fill:none;stroke:#4c72b0;stroke-linecap:round;stroke-width:1.75;\"/>\n",
       "   </g>\n",
       "   <g id=\"patch_25\">\n",
       "    <path d=\"M 28.1 11.772656 \n",
       "L 474.5 11.772656 \n",
       "\" style=\"fill:none;\"/>\n",
       "   </g>\n",
       "   <g id=\"patch_26\">\n",
       "    <path d=\"M 474.5 318.672656 \n",
       "L 474.5 11.772656 \n",
       "\" style=\"fill:none;\"/>\n",
       "   </g>\n",
       "   <g id=\"patch_27\">\n",
       "    <path d=\"M 28.1 318.672656 \n",
       "L 474.5 318.672656 \n",
       "\" style=\"fill:none;\"/>\n",
       "   </g>\n",
       "   <g id=\"patch_28\">\n",
       "    <path d=\"M 28.1 318.672656 \n",
       "L 28.1 11.772656 \n",
       "\" style=\"fill:none;\"/>\n",
       "   </g>\n",
       "  </g>\n",
       " </g>\n",
       " <defs>\n",
       "  <clipPath id=\"p0c3962bf15\">\n",
       "   <rect height=\"306.9\" width=\"446.4\" x=\"28.1\" y=\"11.77265625\"/>\n",
       "  </clipPath>\n",
       " </defs>\n",
       "</svg>\n"
      ],
      "text/plain": [
       "<matplotlib.figure.Figure at 0x7fa534e2b250>"
      ]
     },
     "metadata": {},
     "output_type": "display_data"
    }
   ],
   "source": [
    "\n",
    "x = np.random.rand(10000)\n",
    "print(x[:10])\n",
    "sns.distplot(x)"
   ]
  },
  {
   "cell_type": "code",
   "execution_count": 215,
   "metadata": {
    "collapsed": false,
    "school_cell_uuid": "d9715d9ede9b4d528dd75e3f19cc8f7d"
   },
   "outputs": [
    {
     "data": {
      "text/plain": [
       "array([[ 0.87423081,  0.47428492],\n",
       "       [ 0.66369491,  0.88164841],\n",
       "       [ 0.30465899,  0.89576302]])"
      ]
     },
     "execution_count": 215,
     "metadata": {},
     "output_type": "execute_result"
    }
   ],
   "source": [
    "np.random.rand(3,2)"
   ]
  },
  {
   "cell_type": "code",
   "execution_count": 216,
   "metadata": {
    "collapsed": false,
    "school_cell_uuid": "d6bcacf9ab7d481a9d50d466f2bcf521"
   },
   "outputs": [
    {
     "data": {
      "text/plain": [
       "<matplotlib.axes._subplots.AxesSubplot at 0x7fa534b701d0>"
      ]
     },
     "execution_count": 216,
     "metadata": {},
     "output_type": "execute_result"
    },
    {
     "data": {
      "image/svg+xml": [
       "<?xml version=\"1.0\" encoding=\"utf-8\" standalone=\"no\"?>\n",
       "<!DOCTYPE svg PUBLIC \"-//W3C//DTD SVG 1.1//EN\"\n",
       "  \"http://www.w3.org/Graphics/SVG/1.1/DTD/svg11.dtd\">\n",
       "<!-- Created with matplotlib (http://matplotlib.org/) -->\n",
       "<svg height=\"342pt\" version=\"1.1\" viewBox=\"0 0 501 342\" width=\"501pt\" xmlns=\"http://www.w3.org/2000/svg\" xmlns:xlink=\"http://www.w3.org/1999/xlink\">\n",
       " <defs>\n",
       "  <style type=\"text/css\">\n",
       "*{stroke-linecap:butt;stroke-linejoin:round;stroke-miterlimit:100000;}\n",
       "  </style>\n",
       " </defs>\n",
       " <g id=\"figure_1\">\n",
       "  <g id=\"patch_1\">\n",
       "   <path d=\"M 0 342.017969 \n",
       "L 501.163281 342.017969 \n",
       "L 501.163281 0 \n",
       "L 0 0 \n",
       "z\n",
       "\" style=\"fill:#ffffff;\"/>\n",
       "  </g>\n",
       "  <g id=\"axes_1\">\n",
       "   <g id=\"patch_2\">\n",
       "    <path d=\"M 39.221875 318.672656 \n",
       "L 485.621875 318.672656 \n",
       "L 485.621875 11.772656 \n",
       "L 39.221875 11.772656 \n",
       "z\n",
       "\" style=\"fill:#eaeaf2;\"/>\n",
       "   </g>\n",
       "   <g id=\"matplotlib.axis_1\">\n",
       "    <g id=\"xtick_1\">\n",
       "     <g id=\"line2d_1\">\n",
       "      <path clip-path=\"url(#pe37f178885)\" d=\"M 39.221875 318.672656 \n",
       "L 39.221875 11.772656 \n",
       "\" style=\"fill:none;stroke:#ffffff;stroke-linecap:round;\"/>\n",
       "     </g>\n",
       "     <g id=\"line2d_2\">\n",
       "      <defs>\n",
       "       <path d=\"M 0 0 \n",
       "L 0 0 \n",
       "\" id=\"mb8e48388d4\" style=\"stroke:#262626;\"/>\n",
       "      </defs>\n",
       "      <g>\n",
       "       <use style=\"fill:#262626;stroke:#262626;\" x=\"39.221875\" xlink:href=\"#mb8e48388d4\" y=\"318.67265625\"/>\n",
       "      </g>\n",
       "     </g>\n",
       "     <g id=\"line2d_3\">\n",
       "      <g>\n",
       "       <use style=\"fill:#262626;stroke:#262626;\" x=\"39.221875\" xlink:href=\"#mb8e48388d4\" y=\"11.77265625\"/>\n",
       "      </g>\n",
       "     </g>\n",
       "     <g id=\"text_1\">\n",
       "      <!-- −200 -->\n",
       "      <defs>\n",
       "       <path d=\"M 4.15625 35.296875 \n",
       "Q 4.15625 48 6.765625 55.734375 \n",
       "Q 9.375 63.484375 14.515625 67.671875 \n",
       "Q 19.671875 71.875 27.484375 71.875 \n",
       "Q 33.25 71.875 37.59375 69.546875 \n",
       "Q 41.9375 67.234375 44.765625 62.859375 \n",
       "Q 47.609375 58.5 49.21875 52.21875 \n",
       "Q 50.828125 45.953125 50.828125 35.296875 \n",
       "Q 50.828125 22.703125 48.234375 14.96875 \n",
       "Q 45.65625 7.234375 40.5 3 \n",
       "Q 35.359375 -1.21875 27.484375 -1.21875 \n",
       "Q 17.140625 -1.21875 11.234375 6.203125 \n",
       "Q 4.15625 15.140625 4.15625 35.296875 \n",
       "M 13.1875 35.296875 \n",
       "Q 13.1875 17.671875 17.3125 11.828125 \n",
       "Q 21.4375 6 27.484375 6 \n",
       "Q 33.546875 6 37.671875 11.859375 \n",
       "Q 41.796875 17.71875 41.796875 35.296875 \n",
       "Q 41.796875 52.984375 37.671875 58.78125 \n",
       "Q 33.546875 64.59375 27.390625 64.59375 \n",
       "Q 21.34375 64.59375 17.71875 59.46875 \n",
       "Q 13.1875 52.9375 13.1875 35.296875 \n",
       "\" id=\"ArialMT-30\"/>\n",
       "       <path d=\"M 52.828125 31.203125 \n",
       "L 5.5625 31.203125 \n",
       "L 5.5625 39.40625 \n",
       "L 52.828125 39.40625 \n",
       "z\n",
       "\" id=\"ArialMT-2212\"/>\n",
       "       <path d=\"M 50.34375 8.453125 \n",
       "L 50.34375 0 \n",
       "L 3.03125 0 \n",
       "Q 2.9375 3.171875 4.046875 6.109375 \n",
       "Q 5.859375 10.9375 9.828125 15.625 \n",
       "Q 13.8125 20.3125 21.34375 26.46875 \n",
       "Q 33.015625 36.03125 37.109375 41.625 \n",
       "Q 41.21875 47.21875 41.21875 52.203125 \n",
       "Q 41.21875 57.421875 37.46875 61 \n",
       "Q 33.734375 64.59375 27.734375 64.59375 \n",
       "Q 21.390625 64.59375 17.578125 60.78125 \n",
       "Q 13.765625 56.984375 13.71875 50.25 \n",
       "L 4.6875 51.171875 \n",
       "Q 5.609375 61.28125 11.65625 66.578125 \n",
       "Q 17.71875 71.875 27.9375 71.875 \n",
       "Q 38.234375 71.875 44.234375 66.15625 \n",
       "Q 50.25 60.453125 50.25 52 \n",
       "Q 50.25 47.703125 48.484375 43.546875 \n",
       "Q 46.734375 39.40625 42.65625 34.8125 \n",
       "Q 38.578125 30.21875 29.109375 22.21875 \n",
       "Q 21.1875 15.578125 18.9375 13.203125 \n",
       "Q 16.703125 10.84375 15.234375 8.453125 \n",
       "z\n",
       "\" id=\"ArialMT-32\"/>\n",
       "      </defs>\n",
       "      <g style=\"fill:#262626;\" transform=\"translate(27.96015625 332.83046875)scale(0.1 -0.1)\">\n",
       "       <use xlink:href=\"#ArialMT-2212\"/>\n",
       "       <use x=\"58.3984375\" xlink:href=\"#ArialMT-32\"/>\n",
       "       <use x=\"114.013671875\" xlink:href=\"#ArialMT-30\"/>\n",
       "       <use x=\"169.62890625\" xlink:href=\"#ArialMT-30\"/>\n",
       "      </g>\n",
       "     </g>\n",
       "    </g>\n",
       "    <g id=\"xtick_2\">\n",
       "     <g id=\"line2d_4\">\n",
       "      <path clip-path=\"url(#pe37f178885)\" d=\"M 95.021875 318.672656 \n",
       "L 95.021875 11.772656 \n",
       "\" style=\"fill:none;stroke:#ffffff;stroke-linecap:round;\"/>\n",
       "     </g>\n",
       "     <g id=\"line2d_5\">\n",
       "      <g>\n",
       "       <use style=\"fill:#262626;stroke:#262626;\" x=\"95.021875\" xlink:href=\"#mb8e48388d4\" y=\"318.67265625\"/>\n",
       "      </g>\n",
       "     </g>\n",
       "     <g id=\"line2d_6\">\n",
       "      <g>\n",
       "       <use style=\"fill:#262626;stroke:#262626;\" x=\"95.021875\" xlink:href=\"#mb8e48388d4\" y=\"11.77265625\"/>\n",
       "      </g>\n",
       "     </g>\n",
       "     <g id=\"text_2\">\n",
       "      <!-- −150 -->\n",
       "      <defs>\n",
       "       <path d=\"M 37.25 0 \n",
       "L 28.46875 0 \n",
       "L 28.46875 56 \n",
       "Q 25.296875 52.984375 20.140625 49.953125 \n",
       "Q 14.984375 46.921875 10.890625 45.40625 \n",
       "L 10.890625 53.90625 \n",
       "Q 18.265625 57.375 23.78125 62.296875 \n",
       "Q 29.296875 67.234375 31.59375 71.875 \n",
       "L 37.25 71.875 \n",
       "z\n",
       "\" id=\"ArialMT-31\"/>\n",
       "       <path d=\"M 4.15625 18.75 \n",
       "L 13.375 19.53125 \n",
       "Q 14.40625 12.796875 18.140625 9.390625 \n",
       "Q 21.875 6 27.15625 6 \n",
       "Q 33.5 6 37.890625 10.78125 \n",
       "Q 42.28125 15.578125 42.28125 23.484375 \n",
       "Q 42.28125 31 38.0625 35.34375 \n",
       "Q 33.84375 39.703125 27 39.703125 \n",
       "Q 22.75 39.703125 19.328125 37.765625 \n",
       "Q 15.921875 35.84375 13.96875 32.765625 \n",
       "L 5.71875 33.84375 \n",
       "L 12.640625 70.609375 \n",
       "L 48.25 70.609375 \n",
       "L 48.25 62.203125 \n",
       "L 19.671875 62.203125 \n",
       "L 15.828125 42.96875 \n",
       "Q 22.265625 47.46875 29.34375 47.46875 \n",
       "Q 38.71875 47.46875 45.15625 40.96875 \n",
       "Q 51.609375 34.46875 51.609375 24.265625 \n",
       "Q 51.609375 14.546875 45.953125 7.46875 \n",
       "Q 39.0625 -1.21875 27.15625 -1.21875 \n",
       "Q 17.390625 -1.21875 11.203125 4.25 \n",
       "Q 5.03125 9.71875 4.15625 18.75 \n",
       "\" id=\"ArialMT-35\"/>\n",
       "      </defs>\n",
       "      <g style=\"fill:#262626;\" transform=\"translate(83.76015625 332.83046875)scale(0.1 -0.1)\">\n",
       "       <use xlink:href=\"#ArialMT-2212\"/>\n",
       "       <use x=\"58.3984375\" xlink:href=\"#ArialMT-31\"/>\n",
       "       <use x=\"114.013671875\" xlink:href=\"#ArialMT-35\"/>\n",
       "       <use x=\"169.62890625\" xlink:href=\"#ArialMT-30\"/>\n",
       "      </g>\n",
       "     </g>\n",
       "    </g>\n",
       "    <g id=\"xtick_3\">\n",
       "     <g id=\"line2d_7\">\n",
       "      <path clip-path=\"url(#pe37f178885)\" d=\"M 150.821875 318.672656 \n",
       "L 150.821875 11.772656 \n",
       "\" style=\"fill:none;stroke:#ffffff;stroke-linecap:round;\"/>\n",
       "     </g>\n",
       "     <g id=\"line2d_8\">\n",
       "      <g>\n",
       "       <use style=\"fill:#262626;stroke:#262626;\" x=\"150.821875\" xlink:href=\"#mb8e48388d4\" y=\"318.67265625\"/>\n",
       "      </g>\n",
       "     </g>\n",
       "     <g id=\"line2d_9\">\n",
       "      <g>\n",
       "       <use style=\"fill:#262626;stroke:#262626;\" x=\"150.821875\" xlink:href=\"#mb8e48388d4\" y=\"11.77265625\"/>\n",
       "      </g>\n",
       "     </g>\n",
       "     <g id=\"text_3\">\n",
       "      <!-- −100 -->\n",
       "      <g style=\"fill:#262626;\" transform=\"translate(139.56015625 332.83046875)scale(0.1 -0.1)\">\n",
       "       <use xlink:href=\"#ArialMT-2212\"/>\n",
       "       <use x=\"58.3984375\" xlink:href=\"#ArialMT-31\"/>\n",
       "       <use x=\"114.013671875\" xlink:href=\"#ArialMT-30\"/>\n",
       "       <use x=\"169.62890625\" xlink:href=\"#ArialMT-30\"/>\n",
       "      </g>\n",
       "     </g>\n",
       "    </g>\n",
       "    <g id=\"xtick_4\">\n",
       "     <g id=\"line2d_10\">\n",
       "      <path clip-path=\"url(#pe37f178885)\" d=\"M 206.621875 318.672656 \n",
       "L 206.621875 11.772656 \n",
       "\" style=\"fill:none;stroke:#ffffff;stroke-linecap:round;\"/>\n",
       "     </g>\n",
       "     <g id=\"line2d_11\">\n",
       "      <g>\n",
       "       <use style=\"fill:#262626;stroke:#262626;\" x=\"206.621875\" xlink:href=\"#mb8e48388d4\" y=\"318.67265625\"/>\n",
       "      </g>\n",
       "     </g>\n",
       "     <g id=\"line2d_12\">\n",
       "      <g>\n",
       "       <use style=\"fill:#262626;stroke:#262626;\" x=\"206.621875\" xlink:href=\"#mb8e48388d4\" y=\"11.77265625\"/>\n",
       "      </g>\n",
       "     </g>\n",
       "     <g id=\"text_4\">\n",
       "      <!-- −50 -->\n",
       "      <g style=\"fill:#262626;\" transform=\"translate(198.140625 332.83046875)scale(0.1 -0.1)\">\n",
       "       <use xlink:href=\"#ArialMT-2212\"/>\n",
       "       <use x=\"58.3984375\" xlink:href=\"#ArialMT-35\"/>\n",
       "       <use x=\"114.013671875\" xlink:href=\"#ArialMT-30\"/>\n",
       "      </g>\n",
       "     </g>\n",
       "    </g>\n",
       "    <g id=\"xtick_5\">\n",
       "     <g id=\"line2d_13\">\n",
       "      <path clip-path=\"url(#pe37f178885)\" d=\"M 262.421875 318.672656 \n",
       "L 262.421875 11.772656 \n",
       "\" style=\"fill:none;stroke:#ffffff;stroke-linecap:round;\"/>\n",
       "     </g>\n",
       "     <g id=\"line2d_14\">\n",
       "      <g>\n",
       "       <use style=\"fill:#262626;stroke:#262626;\" x=\"262.421875\" xlink:href=\"#mb8e48388d4\" y=\"318.67265625\"/>\n",
       "      </g>\n",
       "     </g>\n",
       "     <g id=\"line2d_15\">\n",
       "      <g>\n",
       "       <use style=\"fill:#262626;stroke:#262626;\" x=\"262.421875\" xlink:href=\"#mb8e48388d4\" y=\"11.77265625\"/>\n",
       "      </g>\n",
       "     </g>\n",
       "     <g id=\"text_5\">\n",
       "      <!-- 0 -->\n",
       "      <g style=\"fill:#262626;\" transform=\"translate(259.64140625 332.83046875)scale(0.1 -0.1)\">\n",
       "       <use xlink:href=\"#ArialMT-30\"/>\n",
       "      </g>\n",
       "     </g>\n",
       "    </g>\n",
       "    <g id=\"xtick_6\">\n",
       "     <g id=\"line2d_16\">\n",
       "      <path clip-path=\"url(#pe37f178885)\" d=\"M 318.221875 318.672656 \n",
       "L 318.221875 11.772656 \n",
       "\" style=\"fill:none;stroke:#ffffff;stroke-linecap:round;\"/>\n",
       "     </g>\n",
       "     <g id=\"line2d_17\">\n",
       "      <g>\n",
       "       <use style=\"fill:#262626;stroke:#262626;\" x=\"318.221875\" xlink:href=\"#mb8e48388d4\" y=\"318.67265625\"/>\n",
       "      </g>\n",
       "     </g>\n",
       "     <g id=\"line2d_18\">\n",
       "      <g>\n",
       "       <use style=\"fill:#262626;stroke:#262626;\" x=\"318.221875\" xlink:href=\"#mb8e48388d4\" y=\"11.77265625\"/>\n",
       "      </g>\n",
       "     </g>\n",
       "     <g id=\"text_6\">\n",
       "      <!-- 50 -->\n",
       "      <g style=\"fill:#262626;\" transform=\"translate(312.6609375 332.83046875)scale(0.1 -0.1)\">\n",
       "       <use xlink:href=\"#ArialMT-35\"/>\n",
       "       <use x=\"55.615234375\" xlink:href=\"#ArialMT-30\"/>\n",
       "      </g>\n",
       "     </g>\n",
       "    </g>\n",
       "    <g id=\"xtick_7\">\n",
       "     <g id=\"line2d_19\">\n",
       "      <path clip-path=\"url(#pe37f178885)\" d=\"M 374.021875 318.672656 \n",
       "L 374.021875 11.772656 \n",
       "\" style=\"fill:none;stroke:#ffffff;stroke-linecap:round;\"/>\n",
       "     </g>\n",
       "     <g id=\"line2d_20\">\n",
       "      <g>\n",
       "       <use style=\"fill:#262626;stroke:#262626;\" x=\"374.021875\" xlink:href=\"#mb8e48388d4\" y=\"318.67265625\"/>\n",
       "      </g>\n",
       "     </g>\n",
       "     <g id=\"line2d_21\">\n",
       "      <g>\n",
       "       <use style=\"fill:#262626;stroke:#262626;\" x=\"374.021875\" xlink:href=\"#mb8e48388d4\" y=\"11.77265625\"/>\n",
       "      </g>\n",
       "     </g>\n",
       "     <g id=\"text_7\">\n",
       "      <!-- 100 -->\n",
       "      <g style=\"fill:#262626;\" transform=\"translate(365.68046875 332.83046875)scale(0.1 -0.1)\">\n",
       "       <use xlink:href=\"#ArialMT-31\"/>\n",
       "       <use x=\"55.615234375\" xlink:href=\"#ArialMT-30\"/>\n",
       "       <use x=\"111.23046875\" xlink:href=\"#ArialMT-30\"/>\n",
       "      </g>\n",
       "     </g>\n",
       "    </g>\n",
       "    <g id=\"xtick_8\">\n",
       "     <g id=\"line2d_22\">\n",
       "      <path clip-path=\"url(#pe37f178885)\" d=\"M 429.821875 318.672656 \n",
       "L 429.821875 11.772656 \n",
       "\" style=\"fill:none;stroke:#ffffff;stroke-linecap:round;\"/>\n",
       "     </g>\n",
       "     <g id=\"line2d_23\">\n",
       "      <g>\n",
       "       <use style=\"fill:#262626;stroke:#262626;\" x=\"429.821875\" xlink:href=\"#mb8e48388d4\" y=\"318.67265625\"/>\n",
       "      </g>\n",
       "     </g>\n",
       "     <g id=\"line2d_24\">\n",
       "      <g>\n",
       "       <use style=\"fill:#262626;stroke:#262626;\" x=\"429.821875\" xlink:href=\"#mb8e48388d4\" y=\"11.77265625\"/>\n",
       "      </g>\n",
       "     </g>\n",
       "     <g id=\"text_8\">\n",
       "      <!-- 150 -->\n",
       "      <g style=\"fill:#262626;\" transform=\"translate(421.48046875 332.83046875)scale(0.1 -0.1)\">\n",
       "       <use xlink:href=\"#ArialMT-31\"/>\n",
       "       <use x=\"55.615234375\" xlink:href=\"#ArialMT-35\"/>\n",
       "       <use x=\"111.23046875\" xlink:href=\"#ArialMT-30\"/>\n",
       "      </g>\n",
       "     </g>\n",
       "    </g>\n",
       "    <g id=\"xtick_9\">\n",
       "     <g id=\"line2d_25\">\n",
       "      <path clip-path=\"url(#pe37f178885)\" d=\"M 485.621875 318.672656 \n",
       "L 485.621875 11.772656 \n",
       "\" style=\"fill:none;stroke:#ffffff;stroke-linecap:round;\"/>\n",
       "     </g>\n",
       "     <g id=\"line2d_26\">\n",
       "      <g>\n",
       "       <use style=\"fill:#262626;stroke:#262626;\" x=\"485.621875\" xlink:href=\"#mb8e48388d4\" y=\"318.67265625\"/>\n",
       "      </g>\n",
       "     </g>\n",
       "     <g id=\"line2d_27\">\n",
       "      <g>\n",
       "       <use style=\"fill:#262626;stroke:#262626;\" x=\"485.621875\" xlink:href=\"#mb8e48388d4\" y=\"11.77265625\"/>\n",
       "      </g>\n",
       "     </g>\n",
       "     <g id=\"text_9\">\n",
       "      <!-- 200 -->\n",
       "      <g style=\"fill:#262626;\" transform=\"translate(477.28046875 332.83046875)scale(0.1 -0.1)\">\n",
       "       <use xlink:href=\"#ArialMT-32\"/>\n",
       "       <use x=\"55.615234375\" xlink:href=\"#ArialMT-30\"/>\n",
       "       <use x=\"111.23046875\" xlink:href=\"#ArialMT-30\"/>\n",
       "      </g>\n",
       "     </g>\n",
       "    </g>\n",
       "   </g>\n",
       "   <g id=\"matplotlib.axis_2\">\n",
       "    <g id=\"ytick_1\">\n",
       "     <g id=\"line2d_28\">\n",
       "      <path clip-path=\"url(#pe37f178885)\" d=\"M 39.221875 318.672656 \n",
       "L 485.621875 318.672656 \n",
       "\" style=\"fill:none;stroke:#ffffff;stroke-linecap:round;\"/>\n",
       "     </g>\n",
       "     <g id=\"line2d_29\">\n",
       "      <g>\n",
       "       <use style=\"fill:#262626;stroke:#262626;\" x=\"39.221875\" xlink:href=\"#mb8e48388d4\" y=\"318.67265625\"/>\n",
       "      </g>\n",
       "     </g>\n",
       "     <g id=\"line2d_30\">\n",
       "      <g>\n",
       "       <use style=\"fill:#262626;stroke:#262626;\" x=\"485.621875\" xlink:href=\"#mb8e48388d4\" y=\"318.67265625\"/>\n",
       "      </g>\n",
       "     </g>\n",
       "     <g id=\"text_10\">\n",
       "      <!-- 0.000 -->\n",
       "      <defs>\n",
       "       <path d=\"M 9.078125 0 \n",
       "L 9.078125 10.015625 \n",
       "L 19.09375 10.015625 \n",
       "L 19.09375 0 \n",
       "z\n",
       "\" id=\"ArialMT-2e\"/>\n",
       "      </defs>\n",
       "      <g style=\"fill:#262626;\" transform=\"translate(7.2 321.2578125)scale(0.1 -0.1)\">\n",
       "       <use xlink:href=\"#ArialMT-30\"/>\n",
       "       <use x=\"55.615234375\" xlink:href=\"#ArialMT-2e\"/>\n",
       "       <use x=\"83.3984375\" xlink:href=\"#ArialMT-30\"/>\n",
       "       <use x=\"139.013671875\" xlink:href=\"#ArialMT-30\"/>\n",
       "       <use x=\"194.62890625\" xlink:href=\"#ArialMT-30\"/>\n",
       "      </g>\n",
       "     </g>\n",
       "    </g>\n",
       "    <g id=\"ytick_2\">\n",
       "     <g id=\"line2d_31\">\n",
       "      <path clip-path=\"url(#pe37f178885)\" d=\"M 39.221875 257.292656 \n",
       "L 485.621875 257.292656 \n",
       "\" style=\"fill:none;stroke:#ffffff;stroke-linecap:round;\"/>\n",
       "     </g>\n",
       "     <g id=\"line2d_32\">\n",
       "      <g>\n",
       "       <use style=\"fill:#262626;stroke:#262626;\" x=\"39.221875\" xlink:href=\"#mb8e48388d4\" y=\"257.29265625\"/>\n",
       "      </g>\n",
       "     </g>\n",
       "     <g id=\"line2d_33\">\n",
       "      <g>\n",
       "       <use style=\"fill:#262626;stroke:#262626;\" x=\"485.621875\" xlink:href=\"#mb8e48388d4\" y=\"257.29265625\"/>\n",
       "      </g>\n",
       "     </g>\n",
       "     <g id=\"text_11\">\n",
       "      <!-- 0.002 -->\n",
       "      <g style=\"fill:#262626;\" transform=\"translate(7.2 259.8778125)scale(0.1 -0.1)\">\n",
       "       <use xlink:href=\"#ArialMT-30\"/>\n",
       "       <use x=\"55.615234375\" xlink:href=\"#ArialMT-2e\"/>\n",
       "       <use x=\"83.3984375\" xlink:href=\"#ArialMT-30\"/>\n",
       "       <use x=\"139.013671875\" xlink:href=\"#ArialMT-30\"/>\n",
       "       <use x=\"194.62890625\" xlink:href=\"#ArialMT-32\"/>\n",
       "      </g>\n",
       "     </g>\n",
       "    </g>\n",
       "    <g id=\"ytick_3\">\n",
       "     <g id=\"line2d_34\">\n",
       "      <path clip-path=\"url(#pe37f178885)\" d=\"M 39.221875 195.912656 \n",
       "L 485.621875 195.912656 \n",
       "\" style=\"fill:none;stroke:#ffffff;stroke-linecap:round;\"/>\n",
       "     </g>\n",
       "     <g id=\"line2d_35\">\n",
       "      <g>\n",
       "       <use style=\"fill:#262626;stroke:#262626;\" x=\"39.221875\" xlink:href=\"#mb8e48388d4\" y=\"195.91265625\"/>\n",
       "      </g>\n",
       "     </g>\n",
       "     <g id=\"line2d_36\">\n",
       "      <g>\n",
       "       <use style=\"fill:#262626;stroke:#262626;\" x=\"485.621875\" xlink:href=\"#mb8e48388d4\" y=\"195.91265625\"/>\n",
       "      </g>\n",
       "     </g>\n",
       "     <g id=\"text_12\">\n",
       "      <!-- 0.004 -->\n",
       "      <defs>\n",
       "       <path d=\"M 32.328125 0 \n",
       "L 32.328125 17.140625 \n",
       "L 1.265625 17.140625 \n",
       "L 1.265625 25.203125 \n",
       "L 33.9375 71.578125 \n",
       "L 41.109375 71.578125 \n",
       "L 41.109375 25.203125 \n",
       "L 50.78125 25.203125 \n",
       "L 50.78125 17.140625 \n",
       "L 41.109375 17.140625 \n",
       "L 41.109375 0 \n",
       "z\n",
       "M 32.328125 25.203125 \n",
       "L 32.328125 57.46875 \n",
       "L 9.90625 25.203125 \n",
       "z\n",
       "\" id=\"ArialMT-34\"/>\n",
       "      </defs>\n",
       "      <g style=\"fill:#262626;\" transform=\"translate(7.2 198.4978125)scale(0.1 -0.1)\">\n",
       "       <use xlink:href=\"#ArialMT-30\"/>\n",
       "       <use x=\"55.615234375\" xlink:href=\"#ArialMT-2e\"/>\n",
       "       <use x=\"83.3984375\" xlink:href=\"#ArialMT-30\"/>\n",
       "       <use x=\"139.013671875\" xlink:href=\"#ArialMT-30\"/>\n",
       "       <use x=\"194.62890625\" xlink:href=\"#ArialMT-34\"/>\n",
       "      </g>\n",
       "     </g>\n",
       "    </g>\n",
       "    <g id=\"ytick_4\">\n",
       "     <g id=\"line2d_37\">\n",
       "      <path clip-path=\"url(#pe37f178885)\" d=\"M 39.221875 134.532656 \n",
       "L 485.621875 134.532656 \n",
       "\" style=\"fill:none;stroke:#ffffff;stroke-linecap:round;\"/>\n",
       "     </g>\n",
       "     <g id=\"line2d_38\">\n",
       "      <g>\n",
       "       <use style=\"fill:#262626;stroke:#262626;\" x=\"39.221875\" xlink:href=\"#mb8e48388d4\" y=\"134.53265625\"/>\n",
       "      </g>\n",
       "     </g>\n",
       "     <g id=\"line2d_39\">\n",
       "      <g>\n",
       "       <use style=\"fill:#262626;stroke:#262626;\" x=\"485.621875\" xlink:href=\"#mb8e48388d4\" y=\"134.53265625\"/>\n",
       "      </g>\n",
       "     </g>\n",
       "     <g id=\"text_13\">\n",
       "      <!-- 0.006 -->\n",
       "      <defs>\n",
       "       <path d=\"M 49.75 54.046875 \n",
       "L 41.015625 53.375 \n",
       "Q 39.84375 58.546875 37.703125 60.890625 \n",
       "Q 34.125 64.65625 28.90625 64.65625 \n",
       "Q 24.703125 64.65625 21.53125 62.3125 \n",
       "Q 17.390625 59.28125 14.984375 53.46875 \n",
       "Q 12.59375 47.65625 12.5 36.921875 \n",
       "Q 15.671875 41.75 20.265625 44.09375 \n",
       "Q 24.859375 46.4375 29.890625 46.4375 \n",
       "Q 38.671875 46.4375 44.84375 39.96875 \n",
       "Q 51.03125 33.5 51.03125 23.25 \n",
       "Q 51.03125 16.5 48.125 10.71875 \n",
       "Q 45.21875 4.9375 40.140625 1.859375 \n",
       "Q 35.0625 -1.21875 28.609375 -1.21875 \n",
       "Q 17.625 -1.21875 10.6875 6.859375 \n",
       "Q 3.765625 14.9375 3.765625 33.5 \n",
       "Q 3.765625 54.25 11.421875 63.671875 \n",
       "Q 18.109375 71.875 29.4375 71.875 \n",
       "Q 37.890625 71.875 43.28125 67.140625 \n",
       "Q 48.6875 62.40625 49.75 54.046875 \n",
       "M 13.875 23.1875 \n",
       "Q 13.875 18.65625 15.796875 14.5 \n",
       "Q 17.71875 10.359375 21.1875 8.171875 \n",
       "Q 24.65625 6 28.46875 6 \n",
       "Q 34.03125 6 38.03125 10.484375 \n",
       "Q 42.046875 14.984375 42.046875 22.703125 \n",
       "Q 42.046875 30.125 38.078125 34.390625 \n",
       "Q 34.125 38.671875 28.125 38.671875 \n",
       "Q 22.171875 38.671875 18.015625 34.390625 \n",
       "Q 13.875 30.125 13.875 23.1875 \n",
       "\" id=\"ArialMT-36\"/>\n",
       "      </defs>\n",
       "      <g style=\"fill:#262626;\" transform=\"translate(7.2 137.1178125)scale(0.1 -0.1)\">\n",
       "       <use xlink:href=\"#ArialMT-30\"/>\n",
       "       <use x=\"55.615234375\" xlink:href=\"#ArialMT-2e\"/>\n",
       "       <use x=\"83.3984375\" xlink:href=\"#ArialMT-30\"/>\n",
       "       <use x=\"139.013671875\" xlink:href=\"#ArialMT-30\"/>\n",
       "       <use x=\"194.62890625\" xlink:href=\"#ArialMT-36\"/>\n",
       "      </g>\n",
       "     </g>\n",
       "    </g>\n",
       "    <g id=\"ytick_5\">\n",
       "     <g id=\"line2d_40\">\n",
       "      <path clip-path=\"url(#pe37f178885)\" d=\"M 39.221875 73.152656 \n",
       "L 485.621875 73.152656 \n",
       "\" style=\"fill:none;stroke:#ffffff;stroke-linecap:round;\"/>\n",
       "     </g>\n",
       "     <g id=\"line2d_41\">\n",
       "      <g>\n",
       "       <use style=\"fill:#262626;stroke:#262626;\" x=\"39.221875\" xlink:href=\"#mb8e48388d4\" y=\"73.15265625\"/>\n",
       "      </g>\n",
       "     </g>\n",
       "     <g id=\"line2d_42\">\n",
       "      <g>\n",
       "       <use style=\"fill:#262626;stroke:#262626;\" x=\"485.621875\" xlink:href=\"#mb8e48388d4\" y=\"73.15265625\"/>\n",
       "      </g>\n",
       "     </g>\n",
       "     <g id=\"text_14\">\n",
       "      <!-- 0.008 -->\n",
       "      <defs>\n",
       "       <path d=\"M 17.671875 38.8125 \n",
       "Q 12.203125 40.828125 9.5625 44.53125 \n",
       "Q 6.9375 48.25 6.9375 53.421875 \n",
       "Q 6.9375 61.234375 12.546875 66.546875 \n",
       "Q 18.171875 71.875 27.484375 71.875 \n",
       "Q 36.859375 71.875 42.578125 66.421875 \n",
       "Q 48.296875 60.984375 48.296875 53.171875 \n",
       "Q 48.296875 48.1875 45.671875 44.5 \n",
       "Q 43.0625 40.828125 37.75 38.8125 \n",
       "Q 44.34375 36.671875 47.78125 31.875 \n",
       "Q 51.21875 27.09375 51.21875 20.453125 \n",
       "Q 51.21875 11.28125 44.71875 5.03125 \n",
       "Q 38.234375 -1.21875 27.640625 -1.21875 \n",
       "Q 17.046875 -1.21875 10.546875 5.046875 \n",
       "Q 4.046875 11.328125 4.046875 20.703125 \n",
       "Q 4.046875 27.6875 7.59375 32.390625 \n",
       "Q 11.140625 37.109375 17.671875 38.8125 \n",
       "M 15.921875 53.71875 \n",
       "Q 15.921875 48.640625 19.1875 45.40625 \n",
       "Q 22.46875 42.1875 27.6875 42.1875 \n",
       "Q 32.765625 42.1875 36.015625 45.375 \n",
       "Q 39.265625 48.578125 39.265625 53.21875 \n",
       "Q 39.265625 58.0625 35.90625 61.359375 \n",
       "Q 32.5625 64.65625 27.59375 64.65625 \n",
       "Q 22.5625 64.65625 19.234375 61.421875 \n",
       "Q 15.921875 58.203125 15.921875 53.71875 \n",
       "M 13.09375 20.65625 \n",
       "Q 13.09375 16.890625 14.875 13.375 \n",
       "Q 16.65625 9.859375 20.171875 7.921875 \n",
       "Q 23.6875 6 27.734375 6 \n",
       "Q 34.03125 6 38.125 10.046875 \n",
       "Q 42.234375 14.109375 42.234375 20.359375 \n",
       "Q 42.234375 26.703125 38.015625 30.859375 \n",
       "Q 33.796875 35.015625 27.4375 35.015625 \n",
       "Q 21.234375 35.015625 17.15625 30.90625 \n",
       "Q 13.09375 26.8125 13.09375 20.65625 \n",
       "\" id=\"ArialMT-38\"/>\n",
       "      </defs>\n",
       "      <g style=\"fill:#262626;\" transform=\"translate(7.2 75.7378125)scale(0.1 -0.1)\">\n",
       "       <use xlink:href=\"#ArialMT-30\"/>\n",
       "       <use x=\"55.615234375\" xlink:href=\"#ArialMT-2e\"/>\n",
       "       <use x=\"83.3984375\" xlink:href=\"#ArialMT-30\"/>\n",
       "       <use x=\"139.013671875\" xlink:href=\"#ArialMT-30\"/>\n",
       "       <use x=\"194.62890625\" xlink:href=\"#ArialMT-38\"/>\n",
       "      </g>\n",
       "     </g>\n",
       "    </g>\n",
       "    <g id=\"ytick_6\">\n",
       "     <g id=\"line2d_43\">\n",
       "      <path clip-path=\"url(#pe37f178885)\" d=\"M 39.221875 11.772656 \n",
       "L 485.621875 11.772656 \n",
       "\" style=\"fill:none;stroke:#ffffff;stroke-linecap:round;\"/>\n",
       "     </g>\n",
       "     <g id=\"line2d_44\">\n",
       "      <g>\n",
       "       <use style=\"fill:#262626;stroke:#262626;\" x=\"39.221875\" xlink:href=\"#mb8e48388d4\" y=\"11.77265625\"/>\n",
       "      </g>\n",
       "     </g>\n",
       "     <g id=\"line2d_45\">\n",
       "      <g>\n",
       "       <use style=\"fill:#262626;stroke:#262626;\" x=\"485.621875\" xlink:href=\"#mb8e48388d4\" y=\"11.77265625\"/>\n",
       "      </g>\n",
       "     </g>\n",
       "     <g id=\"text_15\">\n",
       "      <!-- 0.010 -->\n",
       "      <g style=\"fill:#262626;\" transform=\"translate(7.2 14.3578125)scale(0.1 -0.1)\">\n",
       "       <use xlink:href=\"#ArialMT-30\"/>\n",
       "       <use x=\"55.615234375\" xlink:href=\"#ArialMT-2e\"/>\n",
       "       <use x=\"83.3984375\" xlink:href=\"#ArialMT-30\"/>\n",
       "       <use x=\"139.013671875\" xlink:href=\"#ArialMT-31\"/>\n",
       "       <use x=\"194.62890625\" xlink:href=\"#ArialMT-30\"/>\n",
       "      </g>\n",
       "     </g>\n",
       "    </g>\n",
       "   </g>\n",
       "   <g id=\"patch_3\">\n",
       "    <path clip-path=\"url(#pe37f178885)\" d=\"M 150.821875 318.672656 \n",
       "L 187.091875 318.672656 \n",
       "L 187.091875 243.128041 \n",
       "L 150.821875 243.128041 \n",
       "z\n",
       "\" style=\"fill:#4c72b0;opacity:0.4;stroke:#000000;stroke-linejoin:miter;stroke-width:0.3;\"/>\n",
       "   </g>\n",
       "   <g id=\"patch_4\">\n",
       "    <path clip-path=\"url(#pe37f178885)\" d=\"M 187.091875 318.672656 \n",
       "L 223.361875 318.672656 \n",
       "L 223.361875 167.583425 \n",
       "L 187.091875 167.583425 \n",
       "z\n",
       "\" style=\"fill:#4c72b0;opacity:0.4;stroke:#000000;stroke-linejoin:miter;stroke-width:0.3;\"/>\n",
       "   </g>\n",
       "   <g id=\"patch_5\">\n",
       "    <path clip-path=\"url(#pe37f178885)\" d=\"M 223.361875 318.672656 \n",
       "L 259.631875 318.672656 \n",
       "L 259.631875 299.786502 \n",
       "L 223.361875 299.786502 \n",
       "z\n",
       "\" style=\"fill:#4c72b0;opacity:0.4;stroke:#000000;stroke-linejoin:miter;stroke-width:0.3;\"/>\n",
       "   </g>\n",
       "   <g id=\"patch_6\">\n",
       "    <path clip-path=\"url(#pe37f178885)\" d=\"M 259.631875 318.672656 \n",
       "L 295.901875 318.672656 \n",
       "L 295.901875 35.380349 \n",
       "L 259.631875 35.380349 \n",
       "z\n",
       "\" style=\"fill:#4c72b0;opacity:0.4;stroke:#000000;stroke-linejoin:miter;stroke-width:0.3;\"/>\n",
       "   </g>\n",
       "   <g id=\"patch_7\">\n",
       "    <path clip-path=\"url(#pe37f178885)\" d=\"M 295.901875 318.672656 \n",
       "L 332.171875 318.672656 \n",
       "L 332.171875 54.266502 \n",
       "L 295.901875 54.266502 \n",
       "z\n",
       "\" style=\"fill:#4c72b0;opacity:0.4;stroke:#000000;stroke-linejoin:miter;stroke-width:0.3;\"/>\n",
       "   </g>\n",
       "   <g id=\"patch_8\">\n",
       "    <path clip-path=\"url(#pe37f178885)\" d=\"M 332.171875 318.672656 \n",
       "L 368.441875 318.672656 \n",
       "L 368.441875 167.583425 \n",
       "L 332.171875 167.583425 \n",
       "z\n",
       "\" style=\"fill:#4c72b0;opacity:0.4;stroke:#000000;stroke-linejoin:miter;stroke-width:0.3;\"/>\n",
       "   </g>\n",
       "   <g id=\"line2d_46\">\n",
       "    <path clip-path=\"url(#pe37f178885)\" d=\"M 71.795654 318.298425 \n",
       "L 74.753704 318.324471 \n",
       "L 77.711755 318.310835 \n",
       "L 83.627857 318.168161 \n",
       "L 89.543958 317.855004 \n",
       "L 95.46006 317.32478 \n",
       "L 101.376161 316.506163 \n",
       "L 107.292262 315.308842 \n",
       "L 110.250313 314.536069 \n",
       "L 113.208364 313.628807 \n",
       "L 116.166415 312.57266 \n",
       "L 119.124465 311.352887 \n",
       "L 122.082516 309.954506 \n",
       "L 125.040567 308.362401 \n",
       "L 127.998618 306.561471 \n",
       "L 130.956668 304.53684 \n",
       "L 133.914719 302.27418 \n",
       "L 136.87277 299.76015 \n",
       "L 139.83082 296.983004 \n",
       "L 142.788871 293.933361 \n",
       "L 145.746922 290.605136 \n",
       "L 148.704973 286.996592 \n",
       "L 151.663023 283.111476 \n",
       "L 154.621074 278.96014 \n",
       "L 157.579125 274.560568 \n",
       "L 163.495226 265.131435 \n",
       "L 172.369379 250.077095 \n",
       "L 178.28548 240.134732 \n",
       "L 181.243531 235.403683 \n",
       "L 184.201581 230.929665 \n",
       "L 187.159632 226.780926 \n",
       "L 190.117683 223.018159 \n",
       "L 193.075734 219.691118 \n",
       "L 196.033784 216.835343 \n",
       "L 198.991835 214.469175 \n",
       "L 201.949886 212.591198 \n",
       "L 204.907937 211.178301 \n",
       "L 207.865987 210.184502 \n",
       "L 210.824038 209.540701 \n",
       "L 213.782089 209.155495 \n",
       "L 222.656241 208.352558 \n",
       "L 225.614292 207.735566 \n",
       "L 228.572342 206.695741 \n",
       "L 231.530393 205.089143 \n",
       "L 234.488444 202.785262 \n",
       "L 237.446495 199.674289 \n",
       "L 240.404545 195.673875 \n",
       "L 243.362596 190.734924 \n",
       "L 246.320647 184.846037 \n",
       "L 249.278697 178.036254 \n",
       "L 252.236748 170.375864 \n",
       "L 255.194799 161.975154 \n",
       "L 258.15285 152.981131 \n",
       "L 264.068951 133.952125 \n",
       "L 269.985053 114.965485 \n",
       "L 272.943103 106.053793 \n",
       "L 275.901154 97.822015 \n",
       "L 278.859205 90.468211 \n",
       "L 281.817255 84.164606 \n",
       "L 284.775306 79.051603 \n",
       "L 287.733357 75.233368 \n",
       "L 290.691408 72.775096 \n",
       "L 293.649458 71.70204 \n",
       "L 296.607509 72.000227 \n",
       "L 299.56556 73.618789 \n",
       "L 302.523611 76.473728 \n",
       "L 305.481661 80.452905 \n",
       "L 308.439712 85.422013 \n",
       "L 311.397763 91.231249 \n",
       "L 314.355813 97.72238 \n",
       "L 317.313864 104.735889 \n",
       "L 323.229966 119.726324 \n",
       "L 335.062169 150.269888 \n",
       "L 340.97827 164.77223 \n",
       "L 346.894371 178.684834 \n",
       "L 364.642676 219.703994 \n",
       "L 379.43293 254.69209 \n",
       "L 385.349031 267.849237 \n",
       "L 388.307082 273.994567 \n",
       "L 391.265132 279.773625 \n",
       "L 394.223183 285.140011 \n",
       "L 397.181234 290.059276 \n",
       "L 400.139285 294.509992 \n",
       "L 403.097335 298.483898 \n",
       "L 406.055386 301.985205 \n",
       "L 409.013437 305.029245 \n",
       "L 411.971488 307.640624 \n",
       "L 414.929538 309.8511 \n",
       "L 417.887589 311.697367 \n",
       "L 420.84564 313.218907 \n",
       "L 423.80369 314.456047 \n",
       "L 426.761741 315.448302 \n",
       "L 429.719792 316.233055 \n",
       "L 432.677843 316.844587 \n",
       "L 435.635893 317.313435 \n",
       "L 441.551995 317.924663 \n",
       "L 447.468096 318.228478 \n",
       "L 447.468096 318.228478 \n",
       "\" style=\"fill:none;stroke:#4c72b0;stroke-linecap:round;stroke-width:1.75;\"/>\n",
       "   </g>\n",
       "   <g id=\"line2d_47\">\n",
       "    <path clip-path=\"url(#pe37f178885)\" d=\"M 358.397875 318.672656 \n",
       "L 358.397875 303.327656 \n",
       "\" style=\"fill:none;stroke:#4c72b0;stroke-linecap:round;\"/>\n",
       "   </g>\n",
       "   <g id=\"line2d_48\">\n",
       "    <path clip-path=\"url(#pe37f178885)\" d=\"M 216.665875 318.672656 \n",
       "L 216.665875 303.327656 \n",
       "\" style=\"fill:none;stroke:#4c72b0;stroke-linecap:round;\"/>\n",
       "   </g>\n",
       "   <g id=\"line2d_49\">\n",
       "    <path clip-path=\"url(#pe37f178885)\" d=\"M 326.033875 318.672656 \n",
       "L 326.033875 303.327656 \n",
       "\" style=\"fill:none;stroke:#4c72b0;stroke-linecap:round;\"/>\n",
       "   </g>\n",
       "   <g id=\"line2d_50\">\n",
       "    <path clip-path=\"url(#pe37f178885)\" d=\"M 286.973875 318.672656 \n",
       "L 286.973875 303.327656 \n",
       "\" style=\"fill:none;stroke:#4c72b0;stroke-linecap:round;\"/>\n",
       "   </g>\n",
       "   <g id=\"line2d_51\">\n",
       "    <path clip-path=\"url(#pe37f178885)\" d=\"M 220.013875 318.672656 \n",
       "L 220.013875 303.327656 \n",
       "\" style=\"fill:none;stroke:#4c72b0;stroke-linecap:round;\"/>\n",
       "   </g>\n",
       "   <g id=\"line2d_52\">\n",
       "    <path clip-path=\"url(#pe37f178885)\" d=\"M 262.421875 318.672656 \n",
       "L 262.421875 303.327656 \n",
       "\" style=\"fill:none;stroke:#4c72b0;stroke-linecap:round;\"/>\n",
       "   </g>\n",
       "   <g id=\"line2d_53\">\n",
       "    <path clip-path=\"url(#pe37f178885)\" d=\"M 297.017875 318.672656 \n",
       "L 297.017875 303.327656 \n",
       "\" style=\"fill:none;stroke:#4c72b0;stroke-linecap:round;\"/>\n",
       "   </g>\n",
       "   <g id=\"line2d_54\">\n",
       "    <path clip-path=\"url(#pe37f178885)\" d=\"M 295.901875 318.672656 \n",
       "L 295.901875 303.327656 \n",
       "\" style=\"fill:none;stroke:#4c72b0;stroke-linecap:round;\"/>\n",
       "   </g>\n",
       "   <g id=\"line2d_55\">\n",
       "    <path clip-path=\"url(#pe37f178885)\" d=\"M 294.785875 318.672656 \n",
       "L 294.785875 303.327656 \n",
       "\" style=\"fill:none;stroke:#4c72b0;stroke-linecap:round;\"/>\n",
       "   </g>\n",
       "   <g id=\"line2d_56\">\n",
       "    <path clip-path=\"url(#pe37f178885)\" d=\"M 349.469875 318.672656 \n",
       "L 349.469875 303.327656 \n",
       "\" style=\"fill:none;stroke:#4c72b0;stroke-linecap:round;\"/>\n",
       "   </g>\n",
       "   <g id=\"line2d_57\">\n",
       "    <path clip-path=\"url(#pe37f178885)\" d=\"M 309.293875 318.672656 \n",
       "L 309.293875 303.327656 \n",
       "\" style=\"fill:none;stroke:#4c72b0;stroke-linecap:round;\"/>\n",
       "   </g>\n",
       "   <g id=\"line2d_58\">\n",
       "    <path clip-path=\"url(#pe37f178885)\" d=\"M 326.033875 318.672656 \n",
       "L 326.033875 303.327656 \n",
       "\" style=\"fill:none;stroke:#4c72b0;stroke-linecap:round;\"/>\n",
       "   </g>\n",
       "   <g id=\"line2d_59\">\n",
       "    <path clip-path=\"url(#pe37f178885)\" d=\"M 361.745875 318.672656 \n",
       "L 361.745875 303.327656 \n",
       "\" style=\"fill:none;stroke:#4c72b0;stroke-linecap:round;\"/>\n",
       "   </g>\n",
       "   <g id=\"line2d_60\">\n",
       "    <path clip-path=\"url(#pe37f178885)\" d=\"M 320.453875 318.672656 \n",
       "L 320.453875 303.327656 \n",
       "\" style=\"fill:none;stroke:#4c72b0;stroke-linecap:round;\"/>\n",
       "   </g>\n",
       "   <g id=\"line2d_61\">\n",
       "    <path clip-path=\"url(#pe37f178885)\" d=\"M 319.337875 318.672656 \n",
       "L 319.337875 303.327656 \n",
       "\" style=\"fill:none;stroke:#4c72b0;stroke-linecap:round;\"/>\n",
       "   </g>\n",
       "   <g id=\"line2d_62\">\n",
       "    <path clip-path=\"url(#pe37f178885)\" d=\"M 195.461875 318.672656 \n",
       "L 195.461875 303.327656 \n",
       "\" style=\"fill:none;stroke:#4c72b0;stroke-linecap:round;\"/>\n",
       "   </g>\n",
       "   <g id=\"line2d_63\">\n",
       "    <path clip-path=\"url(#pe37f178885)\" d=\"M 298.133875 318.672656 \n",
       "L 298.133875 303.327656 \n",
       "\" style=\"fill:none;stroke:#4c72b0;stroke-linecap:round;\"/>\n",
       "   </g>\n",
       "   <g id=\"line2d_64\">\n",
       "    <path clip-path=\"url(#pe37f178885)\" d=\"M 309.293875 318.672656 \n",
       "L 309.293875 303.327656 \n",
       "\" style=\"fill:none;stroke:#4c72b0;stroke-linecap:round;\"/>\n",
       "   </g>\n",
       "   <g id=\"line2d_65\">\n",
       "    <path clip-path=\"url(#pe37f178885)\" d=\"M 222.245875 318.672656 \n",
       "L 222.245875 303.327656 \n",
       "\" style=\"fill:none;stroke:#4c72b0;stroke-linecap:round;\"/>\n",
       "   </g>\n",
       "   <g id=\"line2d_66\">\n",
       "    <path clip-path=\"url(#pe37f178885)\" d=\"M 180.953875 318.672656 \n",
       "L 180.953875 303.327656 \n",
       "\" style=\"fill:none;stroke:#4c72b0;stroke-linecap:round;\"/>\n",
       "   </g>\n",
       "   <g id=\"line2d_67\">\n",
       "    <path clip-path=\"url(#pe37f178885)\" d=\"M 295.901875 318.672656 \n",
       "L 295.901875 303.327656 \n",
       "\" style=\"fill:none;stroke:#4c72b0;stroke-linecap:round;\"/>\n",
       "   </g>\n",
       "   <g id=\"line2d_68\">\n",
       "    <path clip-path=\"url(#pe37f178885)\" d=\"M 340.541875 318.672656 \n",
       "L 340.541875 303.327656 \n",
       "\" style=\"fill:none;stroke:#4c72b0;stroke-linecap:round;\"/>\n",
       "   </g>\n",
       "   <g id=\"line2d_69\">\n",
       "    <path clip-path=\"url(#pe37f178885)\" d=\"M 280.277875 318.672656 \n",
       "L 280.277875 303.327656 \n",
       "\" style=\"fill:none;stroke:#4c72b0;stroke-linecap:round;\"/>\n",
       "   </g>\n",
       "   <g id=\"line2d_70\">\n",
       "    <path clip-path=\"url(#pe37f178885)\" d=\"M 238.985875 318.672656 \n",
       "L 238.985875 303.327656 \n",
       "\" style=\"fill:none;stroke:#4c72b0;stroke-linecap:round;\"/>\n",
       "   </g>\n",
       "   <g id=\"line2d_71\">\n",
       "    <path clip-path=\"url(#pe37f178885)\" d=\"M 314.873875 318.672656 \n",
       "L 314.873875 303.327656 \n",
       "\" style=\"fill:none;stroke:#4c72b0;stroke-linecap:round;\"/>\n",
       "   </g>\n",
       "   <g id=\"line2d_72\">\n",
       "    <path clip-path=\"url(#pe37f178885)\" d=\"M 368.441875 318.672656 \n",
       "L 368.441875 303.327656 \n",
       "\" style=\"fill:none;stroke:#4c72b0;stroke-linecap:round;\"/>\n",
       "   </g>\n",
       "   <g id=\"line2d_73\">\n",
       "    <path clip-path=\"url(#pe37f178885)\" d=\"M 268.001875 318.672656 \n",
       "L 268.001875 303.327656 \n",
       "\" style=\"fill:none;stroke:#4c72b0;stroke-linecap:round;\"/>\n",
       "   </g>\n",
       "   <g id=\"line2d_74\">\n",
       "    <path clip-path=\"url(#pe37f178885)\" d=\"M 320.453875 318.672656 \n",
       "L 320.453875 303.327656 \n",
       "\" style=\"fill:none;stroke:#4c72b0;stroke-linecap:round;\"/>\n",
       "   </g>\n",
       "   <g id=\"line2d_75\">\n",
       "    <path clip-path=\"url(#pe37f178885)\" d=\"M 268.001875 318.672656 \n",
       "L 268.001875 303.327656 \n",
       "\" style=\"fill:none;stroke:#4c72b0;stroke-linecap:round;\"/>\n",
       "   </g>\n",
       "   <g id=\"line2d_76\">\n",
       "    <path clip-path=\"url(#pe37f178885)\" d=\"M 282.509875 318.672656 \n",
       "L 282.509875 303.327656 \n",
       "\" style=\"fill:none;stroke:#4c72b0;stroke-linecap:round;\"/>\n",
       "   </g>\n",
       "   <g id=\"line2d_77\">\n",
       "    <path clip-path=\"url(#pe37f178885)\" d=\"M 193.229875 318.672656 \n",
       "L 193.229875 303.327656 \n",
       "\" style=\"fill:none;stroke:#4c72b0;stroke-linecap:round;\"/>\n",
       "   </g>\n",
       "   <g id=\"line2d_78\">\n",
       "    <path clip-path=\"url(#pe37f178885)\" d=\"M 271.349875 318.672656 \n",
       "L 271.349875 303.327656 \n",
       "\" style=\"fill:none;stroke:#4c72b0;stroke-linecap:round;\"/>\n",
       "   </g>\n",
       "   <g id=\"line2d_79\">\n",
       "    <path clip-path=\"url(#pe37f178885)\" d=\"M 305.945875 318.672656 \n",
       "L 305.945875 303.327656 \n",
       "\" style=\"fill:none;stroke:#4c72b0;stroke-linecap:round;\"/>\n",
       "   </g>\n",
       "   <g id=\"line2d_80\">\n",
       "    <path clip-path=\"url(#pe37f178885)\" d=\"M 293.669875 318.672656 \n",
       "L 293.669875 303.327656 \n",
       "\" style=\"fill:none;stroke:#4c72b0;stroke-linecap:round;\"/>\n",
       "   </g>\n",
       "   <g id=\"line2d_81\">\n",
       "    <path clip-path=\"url(#pe37f178885)\" d=\"M 205.505875 318.672656 \n",
       "L 205.505875 303.327656 \n",
       "\" style=\"fill:none;stroke:#4c72b0;stroke-linecap:round;\"/>\n",
       "   </g>\n",
       "   <g id=\"line2d_82\">\n",
       "    <path clip-path=\"url(#pe37f178885)\" d=\"M 272.465875 318.672656 \n",
       "L 272.465875 303.327656 \n",
       "\" style=\"fill:none;stroke:#4c72b0;stroke-linecap:round;\"/>\n",
       "   </g>\n",
       "   <g id=\"line2d_83\">\n",
       "    <path clip-path=\"url(#pe37f178885)\" d=\"M 276.929875 318.672656 \n",
       "L 276.929875 303.327656 \n",
       "\" style=\"fill:none;stroke:#4c72b0;stroke-linecap:round;\"/>\n",
       "   </g>\n",
       "   <g id=\"line2d_84\">\n",
       "    <path clip-path=\"url(#pe37f178885)\" d=\"M 186.533875 318.672656 \n",
       "L 186.533875 303.327656 \n",
       "\" style=\"fill:none;stroke:#4c72b0;stroke-linecap:round;\"/>\n",
       "   </g>\n",
       "   <g id=\"line2d_85\">\n",
       "    <path clip-path=\"url(#pe37f178885)\" d=\"M 299.249875 318.672656 \n",
       "L 299.249875 303.327656 \n",
       "\" style=\"fill:none;stroke:#4c72b0;stroke-linecap:round;\"/>\n",
       "   </g>\n",
       "   <g id=\"line2d_86\">\n",
       "    <path clip-path=\"url(#pe37f178885)\" d=\"M 290.321875 318.672656 \n",
       "L 290.321875 303.327656 \n",
       "\" style=\"fill:none;stroke:#4c72b0;stroke-linecap:round;\"/>\n",
       "   </g>\n",
       "   <g id=\"line2d_87\">\n",
       "    <path clip-path=\"url(#pe37f178885)\" d=\"M 353.933875 318.672656 \n",
       "L 353.933875 303.327656 \n",
       "\" style=\"fill:none;stroke:#4c72b0;stroke-linecap:round;\"/>\n",
       "   </g>\n",
       "   <g id=\"line2d_88\">\n",
       "    <path clip-path=\"url(#pe37f178885)\" d=\"M 150.821875 318.672656 \n",
       "L 150.821875 303.327656 \n",
       "\" style=\"fill:none;stroke:#4c72b0;stroke-linecap:round;\"/>\n",
       "   </g>\n",
       "   <g id=\"line2d_89\">\n",
       "    <path clip-path=\"url(#pe37f178885)\" d=\"M 358.397875 318.672656 \n",
       "L 358.397875 303.327656 \n",
       "\" style=\"fill:none;stroke:#4c72b0;stroke-linecap:round;\"/>\n",
       "   </g>\n",
       "   <g id=\"line2d_90\">\n",
       "    <path clip-path=\"url(#pe37f178885)\" d=\"M 180.953875 318.672656 \n",
       "L 180.953875 303.327656 \n",
       "\" style=\"fill:none;stroke:#4c72b0;stroke-linecap:round;\"/>\n",
       "   </g>\n",
       "   <g id=\"line2d_91\">\n",
       "    <path clip-path=\"url(#pe37f178885)\" d=\"M 207.737875 318.672656 \n",
       "L 207.737875 303.327656 \n",
       "\" style=\"fill:none;stroke:#4c72b0;stroke-linecap:round;\"/>\n",
       "   </g>\n",
       "   <g id=\"line2d_92\">\n",
       "    <path clip-path=\"url(#pe37f178885)\" d=\"M 286.973875 318.672656 \n",
       "L 286.973875 303.327656 \n",
       "\" style=\"fill:none;stroke:#4c72b0;stroke-linecap:round;\"/>\n",
       "   </g>\n",
       "   <g id=\"line2d_93\">\n",
       "    <path clip-path=\"url(#pe37f178885)\" d=\"M 362.861875 318.672656 \n",
       "L 362.861875 303.327656 \n",
       "\" style=\"fill:none;stroke:#4c72b0;stroke-linecap:round;\"/>\n",
       "   </g>\n",
       "   <g id=\"line2d_94\">\n",
       "    <path clip-path=\"url(#pe37f178885)\" d=\"M 273.581875 318.672656 \n",
       "L 273.581875 303.327656 \n",
       "\" style=\"fill:none;stroke:#4c72b0;stroke-linecap:round;\"/>\n",
       "   </g>\n",
       "   <g id=\"line2d_95\">\n",
       "    <path clip-path=\"url(#pe37f178885)\" d=\"M 218.897875 318.672656 \n",
       "L 218.897875 303.327656 \n",
       "\" style=\"fill:none;stroke:#4c72b0;stroke-linecap:round;\"/>\n",
       "   </g>\n",
       "   <g id=\"line2d_96\">\n",
       "    <path clip-path=\"url(#pe37f178885)\" d=\"M 270.233875 318.672656 \n",
       "L 270.233875 303.327656 \n",
       "\" style=\"fill:none;stroke:#4c72b0;stroke-linecap:round;\"/>\n",
       "   </g>\n",
       "   <g id=\"patch_9\">\n",
       "    <path d=\"M 39.221875 11.772656 \n",
       "L 485.621875 11.772656 \n",
       "\" style=\"fill:none;\"/>\n",
       "   </g>\n",
       "   <g id=\"patch_10\">\n",
       "    <path d=\"M 485.621875 318.672656 \n",
       "L 485.621875 11.772656 \n",
       "\" style=\"fill:none;\"/>\n",
       "   </g>\n",
       "   <g id=\"patch_11\">\n",
       "    <path d=\"M 39.221875 318.672656 \n",
       "L 485.621875 318.672656 \n",
       "\" style=\"fill:none;\"/>\n",
       "   </g>\n",
       "   <g id=\"patch_12\">\n",
       "    <path d=\"M 39.221875 318.672656 \n",
       "L 39.221875 11.772656 \n",
       "\" style=\"fill:none;\"/>\n",
       "   </g>\n",
       "  </g>\n",
       " </g>\n",
       " <defs>\n",
       "  <clipPath id=\"pe37f178885\">\n",
       "   <rect height=\"306.9\" width=\"446.4\" x=\"39.221875\" y=\"11.77265625\"/>\n",
       "  </clipPath>\n",
       " </defs>\n",
       "</svg>\n"
      ],
      "text/plain": [
       "<matplotlib.figure.Figure at 0x7fa534999450>"
      ]
     },
     "metadata": {},
     "output_type": "display_data"
    }
   ],
   "source": [
    "x = np.random.random_integers(-100, 100, 50)\n",
    "sns.distplot(x, rug=True)"
   ]
  },
  {
   "cell_type": "code",
   "execution_count": 217,
   "metadata": {
    "collapsed": false,
    "school_cell_uuid": "8220281858844a4286eb19eab4ee8796"
   },
   "outputs": [
    {
     "data": {
      "text/plain": [
       "<matplotlib.axes._subplots.AxesSubplot at 0x7fa5347d1210>"
      ]
     },
     "execution_count": 217,
     "metadata": {},
     "output_type": "execute_result"
    },
    {
     "data": {
      "image/svg+xml": [
       "<?xml version=\"1.0\" encoding=\"utf-8\" standalone=\"no\"?>\n",
       "<!DOCTYPE svg PUBLIC \"-//W3C//DTD SVG 1.1//EN\"\n",
       "  \"http://www.w3.org/Graphics/SVG/1.1/DTD/svg11.dtd\">\n",
       "<!-- Created with matplotlib (http://matplotlib.org/) -->\n",
       "<svg height=\"342pt\" version=\"1.1\" viewBox=\"0 0 490 342\" width=\"490pt\" xmlns=\"http://www.w3.org/2000/svg\" xmlns:xlink=\"http://www.w3.org/1999/xlink\">\n",
       " <defs>\n",
       "  <style type=\"text/css\">\n",
       "*{stroke-linecap:butt;stroke-linejoin:round;stroke-miterlimit:100000;}\n",
       "  </style>\n",
       " </defs>\n",
       " <g id=\"figure_1\">\n",
       "  <g id=\"patch_1\">\n",
       "   <path d=\"M 0 342.017969 \n",
       "L 490.041406 342.017969 \n",
       "L 490.041406 0 \n",
       "L 0 0 \n",
       "z\n",
       "\" style=\"fill:#ffffff;\"/>\n",
       "  </g>\n",
       "  <g id=\"axes_1\">\n",
       "   <g id=\"patch_2\">\n",
       "    <path d=\"M 33.660938 318.672656 \n",
       "L 480.060937 318.672656 \n",
       "L 480.060937 11.772656 \n",
       "L 33.660938 11.772656 \n",
       "z\n",
       "\" style=\"fill:#eaeaf2;\"/>\n",
       "   </g>\n",
       "   <g id=\"matplotlib.axis_1\">\n",
       "    <g id=\"xtick_1\">\n",
       "     <g id=\"line2d_1\">\n",
       "      <path clip-path=\"url(#p0b0046a7dc)\" d=\"M 33.660937 318.672656 \n",
       "L 33.660937 11.772656 \n",
       "\" style=\"fill:none;stroke:#ffffff;stroke-linecap:round;\"/>\n",
       "     </g>\n",
       "     <g id=\"line2d_2\">\n",
       "      <defs>\n",
       "       <path d=\"M 0 0 \n",
       "L 0 0 \n",
       "\" id=\"mbbed37cc3e\" style=\"stroke:#262626;\"/>\n",
       "      </defs>\n",
       "      <g>\n",
       "       <use style=\"fill:#262626;stroke:#262626;\" x=\"33.6609375\" xlink:href=\"#mbbed37cc3e\" y=\"318.67265625\"/>\n",
       "      </g>\n",
       "     </g>\n",
       "     <g id=\"line2d_3\">\n",
       "      <g>\n",
       "       <use style=\"fill:#262626;stroke:#262626;\" x=\"33.6609375\" xlink:href=\"#mbbed37cc3e\" y=\"11.77265625\"/>\n",
       "      </g>\n",
       "     </g>\n",
       "     <g id=\"text_1\">\n",
       "      <!-- −4 -->\n",
       "      <defs>\n",
       "       <path d=\"M 52.828125 31.203125 \n",
       "L 5.5625 31.203125 \n",
       "L 5.5625 39.40625 \n",
       "L 52.828125 39.40625 \n",
       "z\n",
       "\" id=\"ArialMT-2212\"/>\n",
       "       <path d=\"M 32.328125 0 \n",
       "L 32.328125 17.140625 \n",
       "L 1.265625 17.140625 \n",
       "L 1.265625 25.203125 \n",
       "L 33.9375 71.578125 \n",
       "L 41.109375 71.578125 \n",
       "L 41.109375 25.203125 \n",
       "L 50.78125 25.203125 \n",
       "L 50.78125 17.140625 \n",
       "L 41.109375 17.140625 \n",
       "L 41.109375 0 \n",
       "z\n",
       "M 32.328125 25.203125 \n",
       "L 32.328125 57.46875 \n",
       "L 9.90625 25.203125 \n",
       "z\n",
       "\" id=\"ArialMT-34\"/>\n",
       "      </defs>\n",
       "      <g style=\"fill:#262626;\" transform=\"translate(27.96015625 332.83046875)scale(0.1 -0.1)\">\n",
       "       <use xlink:href=\"#ArialMT-2212\"/>\n",
       "       <use x=\"58.3984375\" xlink:href=\"#ArialMT-34\"/>\n",
       "      </g>\n",
       "     </g>\n",
       "    </g>\n",
       "    <g id=\"xtick_2\">\n",
       "     <g id=\"line2d_4\">\n",
       "      <path clip-path=\"url(#p0b0046a7dc)\" d=\"M 89.460938 318.672656 \n",
       "L 89.460938 11.772656 \n",
       "\" style=\"fill:none;stroke:#ffffff;stroke-linecap:round;\"/>\n",
       "     </g>\n",
       "     <g id=\"line2d_5\">\n",
       "      <g>\n",
       "       <use style=\"fill:#262626;stroke:#262626;\" x=\"89.4609375\" xlink:href=\"#mbbed37cc3e\" y=\"318.67265625\"/>\n",
       "      </g>\n",
       "     </g>\n",
       "     <g id=\"line2d_6\">\n",
       "      <g>\n",
       "       <use style=\"fill:#262626;stroke:#262626;\" x=\"89.4609375\" xlink:href=\"#mbbed37cc3e\" y=\"11.77265625\"/>\n",
       "      </g>\n",
       "     </g>\n",
       "     <g id=\"text_2\">\n",
       "      <!-- −3 -->\n",
       "      <defs>\n",
       "       <path d=\"M 4.203125 18.890625 \n",
       "L 12.984375 20.0625 \n",
       "Q 14.5 12.59375 18.140625 9.296875 \n",
       "Q 21.78125 6 27 6 \n",
       "Q 33.203125 6 37.46875 10.296875 \n",
       "Q 41.75 14.59375 41.75 20.953125 \n",
       "Q 41.75 27 37.796875 30.921875 \n",
       "Q 33.84375 34.859375 27.734375 34.859375 \n",
       "Q 25.25 34.859375 21.53125 33.890625 \n",
       "L 22.515625 41.609375 \n",
       "Q 23.390625 41.5 23.921875 41.5 \n",
       "Q 29.546875 41.5 34.03125 44.421875 \n",
       "Q 38.53125 47.359375 38.53125 53.46875 \n",
       "Q 38.53125 58.296875 35.25 61.46875 \n",
       "Q 31.984375 64.65625 26.8125 64.65625 \n",
       "Q 21.6875 64.65625 18.265625 61.421875 \n",
       "Q 14.84375 58.203125 13.875 51.765625 \n",
       "L 5.078125 53.328125 \n",
       "Q 6.6875 62.15625 12.390625 67.015625 \n",
       "Q 18.109375 71.875 26.609375 71.875 \n",
       "Q 32.46875 71.875 37.390625 69.359375 \n",
       "Q 42.328125 66.84375 44.9375 62.5 \n",
       "Q 47.5625 58.15625 47.5625 53.265625 \n",
       "Q 47.5625 48.640625 45.0625 44.828125 \n",
       "Q 42.578125 41.015625 37.703125 38.765625 \n",
       "Q 44.046875 37.3125 47.5625 32.6875 \n",
       "Q 51.078125 28.078125 51.078125 21.140625 \n",
       "Q 51.078125 11.765625 44.234375 5.25 \n",
       "Q 37.40625 -1.265625 26.953125 -1.265625 \n",
       "Q 17.53125 -1.265625 11.296875 4.34375 \n",
       "Q 5.078125 9.96875 4.203125 18.890625 \n",
       "\" id=\"ArialMT-33\"/>\n",
       "      </defs>\n",
       "      <g style=\"fill:#262626;\" transform=\"translate(83.76015625 332.83046875)scale(0.1 -0.1)\">\n",
       "       <use xlink:href=\"#ArialMT-2212\"/>\n",
       "       <use x=\"58.3984375\" xlink:href=\"#ArialMT-33\"/>\n",
       "      </g>\n",
       "     </g>\n",
       "    </g>\n",
       "    <g id=\"xtick_3\">\n",
       "     <g id=\"line2d_7\">\n",
       "      <path clip-path=\"url(#p0b0046a7dc)\" d=\"M 145.260937 318.672656 \n",
       "L 145.260937 11.772656 \n",
       "\" style=\"fill:none;stroke:#ffffff;stroke-linecap:round;\"/>\n",
       "     </g>\n",
       "     <g id=\"line2d_8\">\n",
       "      <g>\n",
       "       <use style=\"fill:#262626;stroke:#262626;\" x=\"145.2609375\" xlink:href=\"#mbbed37cc3e\" y=\"318.67265625\"/>\n",
       "      </g>\n",
       "     </g>\n",
       "     <g id=\"line2d_9\">\n",
       "      <g>\n",
       "       <use style=\"fill:#262626;stroke:#262626;\" x=\"145.2609375\" xlink:href=\"#mbbed37cc3e\" y=\"11.77265625\"/>\n",
       "      </g>\n",
       "     </g>\n",
       "     <g id=\"text_3\">\n",
       "      <!-- −2 -->\n",
       "      <defs>\n",
       "       <path d=\"M 50.34375 8.453125 \n",
       "L 50.34375 0 \n",
       "L 3.03125 0 \n",
       "Q 2.9375 3.171875 4.046875 6.109375 \n",
       "Q 5.859375 10.9375 9.828125 15.625 \n",
       "Q 13.8125 20.3125 21.34375 26.46875 \n",
       "Q 33.015625 36.03125 37.109375 41.625 \n",
       "Q 41.21875 47.21875 41.21875 52.203125 \n",
       "Q 41.21875 57.421875 37.46875 61 \n",
       "Q 33.734375 64.59375 27.734375 64.59375 \n",
       "Q 21.390625 64.59375 17.578125 60.78125 \n",
       "Q 13.765625 56.984375 13.71875 50.25 \n",
       "L 4.6875 51.171875 \n",
       "Q 5.609375 61.28125 11.65625 66.578125 \n",
       "Q 17.71875 71.875 27.9375 71.875 \n",
       "Q 38.234375 71.875 44.234375 66.15625 \n",
       "Q 50.25 60.453125 50.25 52 \n",
       "Q 50.25 47.703125 48.484375 43.546875 \n",
       "Q 46.734375 39.40625 42.65625 34.8125 \n",
       "Q 38.578125 30.21875 29.109375 22.21875 \n",
       "Q 21.1875 15.578125 18.9375 13.203125 \n",
       "Q 16.703125 10.84375 15.234375 8.453125 \n",
       "z\n",
       "\" id=\"ArialMT-32\"/>\n",
       "      </defs>\n",
       "      <g style=\"fill:#262626;\" transform=\"translate(139.56015625 332.83046875)scale(0.1 -0.1)\">\n",
       "       <use xlink:href=\"#ArialMT-2212\"/>\n",
       "       <use x=\"58.3984375\" xlink:href=\"#ArialMT-32\"/>\n",
       "      </g>\n",
       "     </g>\n",
       "    </g>\n",
       "    <g id=\"xtick_4\">\n",
       "     <g id=\"line2d_10\">\n",
       "      <path clip-path=\"url(#p0b0046a7dc)\" d=\"M 201.060937 318.672656 \n",
       "L 201.060937 11.772656 \n",
       "\" style=\"fill:none;stroke:#ffffff;stroke-linecap:round;\"/>\n",
       "     </g>\n",
       "     <g id=\"line2d_11\">\n",
       "      <g>\n",
       "       <use style=\"fill:#262626;stroke:#262626;\" x=\"201.0609375\" xlink:href=\"#mbbed37cc3e\" y=\"318.67265625\"/>\n",
       "      </g>\n",
       "     </g>\n",
       "     <g id=\"line2d_12\">\n",
       "      <g>\n",
       "       <use style=\"fill:#262626;stroke:#262626;\" x=\"201.0609375\" xlink:href=\"#mbbed37cc3e\" y=\"11.77265625\"/>\n",
       "      </g>\n",
       "     </g>\n",
       "     <g id=\"text_4\">\n",
       "      <!-- −1 -->\n",
       "      <defs>\n",
       "       <path d=\"M 37.25 0 \n",
       "L 28.46875 0 \n",
       "L 28.46875 56 \n",
       "Q 25.296875 52.984375 20.140625 49.953125 \n",
       "Q 14.984375 46.921875 10.890625 45.40625 \n",
       "L 10.890625 53.90625 \n",
       "Q 18.265625 57.375 23.78125 62.296875 \n",
       "Q 29.296875 67.234375 31.59375 71.875 \n",
       "L 37.25 71.875 \n",
       "z\n",
       "\" id=\"ArialMT-31\"/>\n",
       "      </defs>\n",
       "      <g style=\"fill:#262626;\" transform=\"translate(195.36015625 332.83046875)scale(0.1 -0.1)\">\n",
       "       <use xlink:href=\"#ArialMT-2212\"/>\n",
       "       <use x=\"58.3984375\" xlink:href=\"#ArialMT-31\"/>\n",
       "      </g>\n",
       "     </g>\n",
       "    </g>\n",
       "    <g id=\"xtick_5\">\n",
       "     <g id=\"line2d_13\">\n",
       "      <path clip-path=\"url(#p0b0046a7dc)\" d=\"M 256.860937 318.672656 \n",
       "L 256.860937 11.772656 \n",
       "\" style=\"fill:none;stroke:#ffffff;stroke-linecap:round;\"/>\n",
       "     </g>\n",
       "     <g id=\"line2d_14\">\n",
       "      <g>\n",
       "       <use style=\"fill:#262626;stroke:#262626;\" x=\"256.8609375\" xlink:href=\"#mbbed37cc3e\" y=\"318.67265625\"/>\n",
       "      </g>\n",
       "     </g>\n",
       "     <g id=\"line2d_15\">\n",
       "      <g>\n",
       "       <use style=\"fill:#262626;stroke:#262626;\" x=\"256.8609375\" xlink:href=\"#mbbed37cc3e\" y=\"11.77265625\"/>\n",
       "      </g>\n",
       "     </g>\n",
       "     <g id=\"text_5\">\n",
       "      <!-- 0 -->\n",
       "      <defs>\n",
       "       <path d=\"M 4.15625 35.296875 \n",
       "Q 4.15625 48 6.765625 55.734375 \n",
       "Q 9.375 63.484375 14.515625 67.671875 \n",
       "Q 19.671875 71.875 27.484375 71.875 \n",
       "Q 33.25 71.875 37.59375 69.546875 \n",
       "Q 41.9375 67.234375 44.765625 62.859375 \n",
       "Q 47.609375 58.5 49.21875 52.21875 \n",
       "Q 50.828125 45.953125 50.828125 35.296875 \n",
       "Q 50.828125 22.703125 48.234375 14.96875 \n",
       "Q 45.65625 7.234375 40.5 3 \n",
       "Q 35.359375 -1.21875 27.484375 -1.21875 \n",
       "Q 17.140625 -1.21875 11.234375 6.203125 \n",
       "Q 4.15625 15.140625 4.15625 35.296875 \n",
       "M 13.1875 35.296875 \n",
       "Q 13.1875 17.671875 17.3125 11.828125 \n",
       "Q 21.4375 6 27.484375 6 \n",
       "Q 33.546875 6 37.671875 11.859375 \n",
       "Q 41.796875 17.71875 41.796875 35.296875 \n",
       "Q 41.796875 52.984375 37.671875 58.78125 \n",
       "Q 33.546875 64.59375 27.390625 64.59375 \n",
       "Q 21.34375 64.59375 17.71875 59.46875 \n",
       "Q 13.1875 52.9375 13.1875 35.296875 \n",
       "\" id=\"ArialMT-30\"/>\n",
       "      </defs>\n",
       "      <g style=\"fill:#262626;\" transform=\"translate(254.08046875 332.83046875)scale(0.1 -0.1)\">\n",
       "       <use xlink:href=\"#ArialMT-30\"/>\n",
       "      </g>\n",
       "     </g>\n",
       "    </g>\n",
       "    <g id=\"xtick_6\">\n",
       "     <g id=\"line2d_16\">\n",
       "      <path clip-path=\"url(#p0b0046a7dc)\" d=\"M 312.660937 318.672656 \n",
       "L 312.660937 11.772656 \n",
       "\" style=\"fill:none;stroke:#ffffff;stroke-linecap:round;\"/>\n",
       "     </g>\n",
       "     <g id=\"line2d_17\">\n",
       "      <g>\n",
       "       <use style=\"fill:#262626;stroke:#262626;\" x=\"312.6609375\" xlink:href=\"#mbbed37cc3e\" y=\"318.67265625\"/>\n",
       "      </g>\n",
       "     </g>\n",
       "     <g id=\"line2d_18\">\n",
       "      <g>\n",
       "       <use style=\"fill:#262626;stroke:#262626;\" x=\"312.6609375\" xlink:href=\"#mbbed37cc3e\" y=\"11.77265625\"/>\n",
       "      </g>\n",
       "     </g>\n",
       "     <g id=\"text_6\">\n",
       "      <!-- 1 -->\n",
       "      <g style=\"fill:#262626;\" transform=\"translate(309.88046875 332.83046875)scale(0.1 -0.1)\">\n",
       "       <use xlink:href=\"#ArialMT-31\"/>\n",
       "      </g>\n",
       "     </g>\n",
       "    </g>\n",
       "    <g id=\"xtick_7\">\n",
       "     <g id=\"line2d_19\">\n",
       "      <path clip-path=\"url(#p0b0046a7dc)\" d=\"M 368.460938 318.672656 \n",
       "L 368.460938 11.772656 \n",
       "\" style=\"fill:none;stroke:#ffffff;stroke-linecap:round;\"/>\n",
       "     </g>\n",
       "     <g id=\"line2d_20\">\n",
       "      <g>\n",
       "       <use style=\"fill:#262626;stroke:#262626;\" x=\"368.4609375\" xlink:href=\"#mbbed37cc3e\" y=\"318.67265625\"/>\n",
       "      </g>\n",
       "     </g>\n",
       "     <g id=\"line2d_21\">\n",
       "      <g>\n",
       "       <use style=\"fill:#262626;stroke:#262626;\" x=\"368.4609375\" xlink:href=\"#mbbed37cc3e\" y=\"11.77265625\"/>\n",
       "      </g>\n",
       "     </g>\n",
       "     <g id=\"text_7\">\n",
       "      <!-- 2 -->\n",
       "      <g style=\"fill:#262626;\" transform=\"translate(365.68046875 332.83046875)scale(0.1 -0.1)\">\n",
       "       <use xlink:href=\"#ArialMT-32\"/>\n",
       "      </g>\n",
       "     </g>\n",
       "    </g>\n",
       "    <g id=\"xtick_8\">\n",
       "     <g id=\"line2d_22\">\n",
       "      <path clip-path=\"url(#p0b0046a7dc)\" d=\"M 424.260937 318.672656 \n",
       "L 424.260937 11.772656 \n",
       "\" style=\"fill:none;stroke:#ffffff;stroke-linecap:round;\"/>\n",
       "     </g>\n",
       "     <g id=\"line2d_23\">\n",
       "      <g>\n",
       "       <use style=\"fill:#262626;stroke:#262626;\" x=\"424.2609375\" xlink:href=\"#mbbed37cc3e\" y=\"318.67265625\"/>\n",
       "      </g>\n",
       "     </g>\n",
       "     <g id=\"line2d_24\">\n",
       "      <g>\n",
       "       <use style=\"fill:#262626;stroke:#262626;\" x=\"424.2609375\" xlink:href=\"#mbbed37cc3e\" y=\"11.77265625\"/>\n",
       "      </g>\n",
       "     </g>\n",
       "     <g id=\"text_8\">\n",
       "      <!-- 3 -->\n",
       "      <g style=\"fill:#262626;\" transform=\"translate(421.48046875 332.83046875)scale(0.1 -0.1)\">\n",
       "       <use xlink:href=\"#ArialMT-33\"/>\n",
       "      </g>\n",
       "     </g>\n",
       "    </g>\n",
       "    <g id=\"xtick_9\">\n",
       "     <g id=\"line2d_25\">\n",
       "      <path clip-path=\"url(#p0b0046a7dc)\" d=\"M 480.060937 318.672656 \n",
       "L 480.060937 11.772656 \n",
       "\" style=\"fill:none;stroke:#ffffff;stroke-linecap:round;\"/>\n",
       "     </g>\n",
       "     <g id=\"line2d_26\">\n",
       "      <g>\n",
       "       <use style=\"fill:#262626;stroke:#262626;\" x=\"480.0609375\" xlink:href=\"#mbbed37cc3e\" y=\"318.67265625\"/>\n",
       "      </g>\n",
       "     </g>\n",
       "     <g id=\"line2d_27\">\n",
       "      <g>\n",
       "       <use style=\"fill:#262626;stroke:#262626;\" x=\"480.0609375\" xlink:href=\"#mbbed37cc3e\" y=\"11.77265625\"/>\n",
       "      </g>\n",
       "     </g>\n",
       "     <g id=\"text_9\">\n",
       "      <!-- 4 -->\n",
       "      <g style=\"fill:#262626;\" transform=\"translate(477.28046875 332.83046875)scale(0.1 -0.1)\">\n",
       "       <use xlink:href=\"#ArialMT-34\"/>\n",
       "      </g>\n",
       "     </g>\n",
       "    </g>\n",
       "   </g>\n",
       "   <g id=\"matplotlib.axis_2\">\n",
       "    <g id=\"ytick_1\">\n",
       "     <g id=\"line2d_28\">\n",
       "      <path clip-path=\"url(#p0b0046a7dc)\" d=\"M 33.660938 318.672656 \n",
       "L 480.060937 318.672656 \n",
       "\" style=\"fill:none;stroke:#ffffff;stroke-linecap:round;\"/>\n",
       "     </g>\n",
       "     <g id=\"line2d_29\">\n",
       "      <g>\n",
       "       <use style=\"fill:#262626;stroke:#262626;\" x=\"33.6609375\" xlink:href=\"#mbbed37cc3e\" y=\"318.67265625\"/>\n",
       "      </g>\n",
       "     </g>\n",
       "     <g id=\"line2d_30\">\n",
       "      <g>\n",
       "       <use style=\"fill:#262626;stroke:#262626;\" x=\"480.0609375\" xlink:href=\"#mbbed37cc3e\" y=\"318.67265625\"/>\n",
       "      </g>\n",
       "     </g>\n",
       "     <g id=\"text_10\">\n",
       "      <!-- 0.00 -->\n",
       "      <defs>\n",
       "       <path d=\"M 9.078125 0 \n",
       "L 9.078125 10.015625 \n",
       "L 19.09375 10.015625 \n",
       "L 19.09375 0 \n",
       "z\n",
       "\" id=\"ArialMT-2e\"/>\n",
       "      </defs>\n",
       "      <g style=\"fill:#262626;\" transform=\"translate(7.2 321.2578125)scale(0.1 -0.1)\">\n",
       "       <use xlink:href=\"#ArialMT-30\"/>\n",
       "       <use x=\"55.615234375\" xlink:href=\"#ArialMT-2e\"/>\n",
       "       <use x=\"83.3984375\" xlink:href=\"#ArialMT-30\"/>\n",
       "       <use x=\"139.013671875\" xlink:href=\"#ArialMT-30\"/>\n",
       "      </g>\n",
       "     </g>\n",
       "    </g>\n",
       "    <g id=\"ytick_2\">\n",
       "     <g id=\"line2d_31\">\n",
       "      <path clip-path=\"url(#p0b0046a7dc)\" d=\"M 33.660938 284.572656 \n",
       "L 480.060937 284.572656 \n",
       "\" style=\"fill:none;stroke:#ffffff;stroke-linecap:round;\"/>\n",
       "     </g>\n",
       "     <g id=\"line2d_32\">\n",
       "      <g>\n",
       "       <use style=\"fill:#262626;stroke:#262626;\" x=\"33.6609375\" xlink:href=\"#mbbed37cc3e\" y=\"284.57265625\"/>\n",
       "      </g>\n",
       "     </g>\n",
       "     <g id=\"line2d_33\">\n",
       "      <g>\n",
       "       <use style=\"fill:#262626;stroke:#262626;\" x=\"480.0609375\" xlink:href=\"#mbbed37cc3e\" y=\"284.57265625\"/>\n",
       "      </g>\n",
       "     </g>\n",
       "     <g id=\"text_11\">\n",
       "      <!-- 0.05 -->\n",
       "      <defs>\n",
       "       <path d=\"M 4.15625 18.75 \n",
       "L 13.375 19.53125 \n",
       "Q 14.40625 12.796875 18.140625 9.390625 \n",
       "Q 21.875 6 27.15625 6 \n",
       "Q 33.5 6 37.890625 10.78125 \n",
       "Q 42.28125 15.578125 42.28125 23.484375 \n",
       "Q 42.28125 31 38.0625 35.34375 \n",
       "Q 33.84375 39.703125 27 39.703125 \n",
       "Q 22.75 39.703125 19.328125 37.765625 \n",
       "Q 15.921875 35.84375 13.96875 32.765625 \n",
       "L 5.71875 33.84375 \n",
       "L 12.640625 70.609375 \n",
       "L 48.25 70.609375 \n",
       "L 48.25 62.203125 \n",
       "L 19.671875 62.203125 \n",
       "L 15.828125 42.96875 \n",
       "Q 22.265625 47.46875 29.34375 47.46875 \n",
       "Q 38.71875 47.46875 45.15625 40.96875 \n",
       "Q 51.609375 34.46875 51.609375 24.265625 \n",
       "Q 51.609375 14.546875 45.953125 7.46875 \n",
       "Q 39.0625 -1.21875 27.15625 -1.21875 \n",
       "Q 17.390625 -1.21875 11.203125 4.25 \n",
       "Q 5.03125 9.71875 4.15625 18.75 \n",
       "\" id=\"ArialMT-35\"/>\n",
       "      </defs>\n",
       "      <g style=\"fill:#262626;\" transform=\"translate(7.2 287.1578125)scale(0.1 -0.1)\">\n",
       "       <use xlink:href=\"#ArialMT-30\"/>\n",
       "       <use x=\"55.615234375\" xlink:href=\"#ArialMT-2e\"/>\n",
       "       <use x=\"83.3984375\" xlink:href=\"#ArialMT-30\"/>\n",
       "       <use x=\"139.013671875\" xlink:href=\"#ArialMT-35\"/>\n",
       "      </g>\n",
       "     </g>\n",
       "    </g>\n",
       "    <g id=\"ytick_3\">\n",
       "     <g id=\"line2d_34\">\n",
       "      <path clip-path=\"url(#p0b0046a7dc)\" d=\"M 33.660938 250.472656 \n",
       "L 480.060937 250.472656 \n",
       "\" style=\"fill:none;stroke:#ffffff;stroke-linecap:round;\"/>\n",
       "     </g>\n",
       "     <g id=\"line2d_35\">\n",
       "      <g>\n",
       "       <use style=\"fill:#262626;stroke:#262626;\" x=\"33.6609375\" xlink:href=\"#mbbed37cc3e\" y=\"250.47265625\"/>\n",
       "      </g>\n",
       "     </g>\n",
       "     <g id=\"line2d_36\">\n",
       "      <g>\n",
       "       <use style=\"fill:#262626;stroke:#262626;\" x=\"480.0609375\" xlink:href=\"#mbbed37cc3e\" y=\"250.47265625\"/>\n",
       "      </g>\n",
       "     </g>\n",
       "     <g id=\"text_12\">\n",
       "      <!-- 0.10 -->\n",
       "      <g style=\"fill:#262626;\" transform=\"translate(7.2 253.0578125)scale(0.1 -0.1)\">\n",
       "       <use xlink:href=\"#ArialMT-30\"/>\n",
       "       <use x=\"55.615234375\" xlink:href=\"#ArialMT-2e\"/>\n",
       "       <use x=\"83.3984375\" xlink:href=\"#ArialMT-31\"/>\n",
       "       <use x=\"139.013671875\" xlink:href=\"#ArialMT-30\"/>\n",
       "      </g>\n",
       "     </g>\n",
       "    </g>\n",
       "    <g id=\"ytick_4\">\n",
       "     <g id=\"line2d_37\">\n",
       "      <path clip-path=\"url(#p0b0046a7dc)\" d=\"M 33.660938 216.372656 \n",
       "L 480.060937 216.372656 \n",
       "\" style=\"fill:none;stroke:#ffffff;stroke-linecap:round;\"/>\n",
       "     </g>\n",
       "     <g id=\"line2d_38\">\n",
       "      <g>\n",
       "       <use style=\"fill:#262626;stroke:#262626;\" x=\"33.6609375\" xlink:href=\"#mbbed37cc3e\" y=\"216.37265625\"/>\n",
       "      </g>\n",
       "     </g>\n",
       "     <g id=\"line2d_39\">\n",
       "      <g>\n",
       "       <use style=\"fill:#262626;stroke:#262626;\" x=\"480.0609375\" xlink:href=\"#mbbed37cc3e\" y=\"216.37265625\"/>\n",
       "      </g>\n",
       "     </g>\n",
       "     <g id=\"text_13\">\n",
       "      <!-- 0.15 -->\n",
       "      <g style=\"fill:#262626;\" transform=\"translate(7.2 218.9578125)scale(0.1 -0.1)\">\n",
       "       <use xlink:href=\"#ArialMT-30\"/>\n",
       "       <use x=\"55.615234375\" xlink:href=\"#ArialMT-2e\"/>\n",
       "       <use x=\"83.3984375\" xlink:href=\"#ArialMT-31\"/>\n",
       "       <use x=\"139.013671875\" xlink:href=\"#ArialMT-35\"/>\n",
       "      </g>\n",
       "     </g>\n",
       "    </g>\n",
       "    <g id=\"ytick_5\">\n",
       "     <g id=\"line2d_40\">\n",
       "      <path clip-path=\"url(#p0b0046a7dc)\" d=\"M 33.660938 182.272656 \n",
       "L 480.060937 182.272656 \n",
       "\" style=\"fill:none;stroke:#ffffff;stroke-linecap:round;\"/>\n",
       "     </g>\n",
       "     <g id=\"line2d_41\">\n",
       "      <g>\n",
       "       <use style=\"fill:#262626;stroke:#262626;\" x=\"33.6609375\" xlink:href=\"#mbbed37cc3e\" y=\"182.27265625\"/>\n",
       "      </g>\n",
       "     </g>\n",
       "     <g id=\"line2d_42\">\n",
       "      <g>\n",
       "       <use style=\"fill:#262626;stroke:#262626;\" x=\"480.0609375\" xlink:href=\"#mbbed37cc3e\" y=\"182.27265625\"/>\n",
       "      </g>\n",
       "     </g>\n",
       "     <g id=\"text_14\">\n",
       "      <!-- 0.20 -->\n",
       "      <g style=\"fill:#262626;\" transform=\"translate(7.2 184.8578125)scale(0.1 -0.1)\">\n",
       "       <use xlink:href=\"#ArialMT-30\"/>\n",
       "       <use x=\"55.615234375\" xlink:href=\"#ArialMT-2e\"/>\n",
       "       <use x=\"83.3984375\" xlink:href=\"#ArialMT-32\"/>\n",
       "       <use x=\"139.013671875\" xlink:href=\"#ArialMT-30\"/>\n",
       "      </g>\n",
       "     </g>\n",
       "    </g>\n",
       "    <g id=\"ytick_6\">\n",
       "     <g id=\"line2d_43\">\n",
       "      <path clip-path=\"url(#p0b0046a7dc)\" d=\"M 33.660938 148.172656 \n",
       "L 480.060937 148.172656 \n",
       "\" style=\"fill:none;stroke:#ffffff;stroke-linecap:round;\"/>\n",
       "     </g>\n",
       "     <g id=\"line2d_44\">\n",
       "      <g>\n",
       "       <use style=\"fill:#262626;stroke:#262626;\" x=\"33.6609375\" xlink:href=\"#mbbed37cc3e\" y=\"148.17265625\"/>\n",
       "      </g>\n",
       "     </g>\n",
       "     <g id=\"line2d_45\">\n",
       "      <g>\n",
       "       <use style=\"fill:#262626;stroke:#262626;\" x=\"480.0609375\" xlink:href=\"#mbbed37cc3e\" y=\"148.17265625\"/>\n",
       "      </g>\n",
       "     </g>\n",
       "     <g id=\"text_15\">\n",
       "      <!-- 0.25 -->\n",
       "      <g style=\"fill:#262626;\" transform=\"translate(7.2 150.7578125)scale(0.1 -0.1)\">\n",
       "       <use xlink:href=\"#ArialMT-30\"/>\n",
       "       <use x=\"55.615234375\" xlink:href=\"#ArialMT-2e\"/>\n",
       "       <use x=\"83.3984375\" xlink:href=\"#ArialMT-32\"/>\n",
       "       <use x=\"139.013671875\" xlink:href=\"#ArialMT-35\"/>\n",
       "      </g>\n",
       "     </g>\n",
       "    </g>\n",
       "    <g id=\"ytick_7\">\n",
       "     <g id=\"line2d_46\">\n",
       "      <path clip-path=\"url(#p0b0046a7dc)\" d=\"M 33.660938 114.072656 \n",
       "L 480.060937 114.072656 \n",
       "\" style=\"fill:none;stroke:#ffffff;stroke-linecap:round;\"/>\n",
       "     </g>\n",
       "     <g id=\"line2d_47\">\n",
       "      <g>\n",
       "       <use style=\"fill:#262626;stroke:#262626;\" x=\"33.6609375\" xlink:href=\"#mbbed37cc3e\" y=\"114.07265625\"/>\n",
       "      </g>\n",
       "     </g>\n",
       "     <g id=\"line2d_48\">\n",
       "      <g>\n",
       "       <use style=\"fill:#262626;stroke:#262626;\" x=\"480.0609375\" xlink:href=\"#mbbed37cc3e\" y=\"114.07265625\"/>\n",
       "      </g>\n",
       "     </g>\n",
       "     <g id=\"text_16\">\n",
       "      <!-- 0.30 -->\n",
       "      <g style=\"fill:#262626;\" transform=\"translate(7.2 116.6578125)scale(0.1 -0.1)\">\n",
       "       <use xlink:href=\"#ArialMT-30\"/>\n",
       "       <use x=\"55.615234375\" xlink:href=\"#ArialMT-2e\"/>\n",
       "       <use x=\"83.3984375\" xlink:href=\"#ArialMT-33\"/>\n",
       "       <use x=\"139.013671875\" xlink:href=\"#ArialMT-30\"/>\n",
       "      </g>\n",
       "     </g>\n",
       "    </g>\n",
       "    <g id=\"ytick_8\">\n",
       "     <g id=\"line2d_49\">\n",
       "      <path clip-path=\"url(#p0b0046a7dc)\" d=\"M 33.660938 79.972656 \n",
       "L 480.060937 79.972656 \n",
       "\" style=\"fill:none;stroke:#ffffff;stroke-linecap:round;\"/>\n",
       "     </g>\n",
       "     <g id=\"line2d_50\">\n",
       "      <g>\n",
       "       <use style=\"fill:#262626;stroke:#262626;\" x=\"33.6609375\" xlink:href=\"#mbbed37cc3e\" y=\"79.97265625\"/>\n",
       "      </g>\n",
       "     </g>\n",
       "     <g id=\"line2d_51\">\n",
       "      <g>\n",
       "       <use style=\"fill:#262626;stroke:#262626;\" x=\"480.0609375\" xlink:href=\"#mbbed37cc3e\" y=\"79.97265625\"/>\n",
       "      </g>\n",
       "     </g>\n",
       "     <g id=\"text_17\">\n",
       "      <!-- 0.35 -->\n",
       "      <g style=\"fill:#262626;\" transform=\"translate(7.2 82.5578125)scale(0.1 -0.1)\">\n",
       "       <use xlink:href=\"#ArialMT-30\"/>\n",
       "       <use x=\"55.615234375\" xlink:href=\"#ArialMT-2e\"/>\n",
       "       <use x=\"83.3984375\" xlink:href=\"#ArialMT-33\"/>\n",
       "       <use x=\"139.013671875\" xlink:href=\"#ArialMT-35\"/>\n",
       "      </g>\n",
       "     </g>\n",
       "    </g>\n",
       "    <g id=\"ytick_9\">\n",
       "     <g id=\"line2d_52\">\n",
       "      <path clip-path=\"url(#p0b0046a7dc)\" d=\"M 33.660938 45.872656 \n",
       "L 480.060937 45.872656 \n",
       "\" style=\"fill:none;stroke:#ffffff;stroke-linecap:round;\"/>\n",
       "     </g>\n",
       "     <g id=\"line2d_53\">\n",
       "      <g>\n",
       "       <use style=\"fill:#262626;stroke:#262626;\" x=\"33.6609375\" xlink:href=\"#mbbed37cc3e\" y=\"45.87265625\"/>\n",
       "      </g>\n",
       "     </g>\n",
       "     <g id=\"line2d_54\">\n",
       "      <g>\n",
       "       <use style=\"fill:#262626;stroke:#262626;\" x=\"480.0609375\" xlink:href=\"#mbbed37cc3e\" y=\"45.87265625\"/>\n",
       "      </g>\n",
       "     </g>\n",
       "     <g id=\"text_18\">\n",
       "      <!-- 0.40 -->\n",
       "      <g style=\"fill:#262626;\" transform=\"translate(7.2 48.4578125)scale(0.1 -0.1)\">\n",
       "       <use xlink:href=\"#ArialMT-30\"/>\n",
       "       <use x=\"55.615234375\" xlink:href=\"#ArialMT-2e\"/>\n",
       "       <use x=\"83.3984375\" xlink:href=\"#ArialMT-34\"/>\n",
       "       <use x=\"139.013671875\" xlink:href=\"#ArialMT-30\"/>\n",
       "      </g>\n",
       "     </g>\n",
       "    </g>\n",
       "    <g id=\"ytick_10\">\n",
       "     <g id=\"line2d_55\">\n",
       "      <path clip-path=\"url(#p0b0046a7dc)\" d=\"M 33.660938 11.772656 \n",
       "L 480.060937 11.772656 \n",
       "\" style=\"fill:none;stroke:#ffffff;stroke-linecap:round;\"/>\n",
       "     </g>\n",
       "     <g id=\"line2d_56\">\n",
       "      <g>\n",
       "       <use style=\"fill:#262626;stroke:#262626;\" x=\"33.6609375\" xlink:href=\"#mbbed37cc3e\" y=\"11.77265625\"/>\n",
       "      </g>\n",
       "     </g>\n",
       "     <g id=\"line2d_57\">\n",
       "      <g>\n",
       "       <use style=\"fill:#262626;stroke:#262626;\" x=\"480.0609375\" xlink:href=\"#mbbed37cc3e\" y=\"11.77265625\"/>\n",
       "      </g>\n",
       "     </g>\n",
       "     <g id=\"text_19\">\n",
       "      <!-- 0.45 -->\n",
       "      <g style=\"fill:#262626;\" transform=\"translate(7.2 14.3578125)scale(0.1 -0.1)\">\n",
       "       <use xlink:href=\"#ArialMT-30\"/>\n",
       "       <use x=\"55.615234375\" xlink:href=\"#ArialMT-2e\"/>\n",
       "       <use x=\"83.3984375\" xlink:href=\"#ArialMT-34\"/>\n",
       "       <use x=\"139.013671875\" xlink:href=\"#ArialMT-35\"/>\n",
       "      </g>\n",
       "     </g>\n",
       "    </g>\n",
       "   </g>\n",
       "   <g id=\"patch_3\">\n",
       "    <path clip-path=\"url(#p0b0046a7dc)\" d=\"M 83.113842 318.672656 \n",
       "L 97.807574 318.672656 \n",
       "L 97.807574 316.082736 \n",
       "L 83.113842 316.082736 \n",
       "z\n",
       "\" style=\"fill:#4c72b0;opacity:0.4;stroke:#000000;stroke-linejoin:miter;stroke-width:0.3;\"/>\n",
       "   </g>\n",
       "   <g id=\"patch_4\">\n",
       "    <path clip-path=\"url(#p0b0046a7dc)\" d=\"M 97.807574 318.672656 \n",
       "L 112.501306 318.672656 \n",
       "L 112.501306 316.082736 \n",
       "L 97.807574 316.082736 \n",
       "z\n",
       "\" style=\"fill:#4c72b0;opacity:0.4;stroke:#000000;stroke-linejoin:miter;stroke-width:0.3;\"/>\n",
       "   </g>\n",
       "   <g id=\"patch_5\">\n",
       "    <path clip-path=\"url(#p0b0046a7dc)\" d=\"M 112.501306 318.672656 \n",
       "L 127.195038 318.672656 \n",
       "L 127.195038 300.543212 \n",
       "L 112.501306 300.543212 \n",
       "z\n",
       "\" style=\"fill:#4c72b0;opacity:0.4;stroke:#000000;stroke-linejoin:miter;stroke-width:0.3;\"/>\n",
       "   </g>\n",
       "   <g id=\"patch_6\">\n",
       "    <path clip-path=\"url(#p0b0046a7dc)\" d=\"M 127.195038 318.672656 \n",
       "L 141.88877 318.672656 \n",
       "L 141.88877 292.77345 \n",
       "L 127.195038 292.77345 \n",
       "z\n",
       "\" style=\"fill:#4c72b0;opacity:0.4;stroke:#000000;stroke-linejoin:miter;stroke-width:0.3;\"/>\n",
       "   </g>\n",
       "   <g id=\"patch_7\">\n",
       "    <path clip-path=\"url(#p0b0046a7dc)\" d=\"M 141.88877 318.672656 \n",
       "L 156.582502 318.672656 \n",
       "L 156.582502 277.233926 \n",
       "L 141.88877 277.233926 \n",
       "z\n",
       "\" style=\"fill:#4c72b0;opacity:0.4;stroke:#000000;stroke-linejoin:miter;stroke-width:0.3;\"/>\n",
       "   </g>\n",
       "   <g id=\"patch_8\">\n",
       "    <path clip-path=\"url(#p0b0046a7dc)\" d=\"M 156.582502 318.672656 \n",
       "L 171.276234 318.672656 \n",
       "L 171.276234 274.644005 \n",
       "L 156.582502 274.644005 \n",
       "z\n",
       "\" style=\"fill:#4c72b0;opacity:0.4;stroke:#000000;stroke-linejoin:miter;stroke-width:0.3;\"/>\n",
       "   </g>\n",
       "   <g id=\"patch_9\">\n",
       "    <path clip-path=\"url(#p0b0046a7dc)\" d=\"M 171.276234 318.672656 \n",
       "L 185.969966 318.672656 \n",
       "L 185.969966 215.07583 \n",
       "L 171.276234 215.07583 \n",
       "z\n",
       "\" style=\"fill:#4c72b0;opacity:0.4;stroke:#000000;stroke-linejoin:miter;stroke-width:0.3;\"/>\n",
       "   </g>\n",
       "   <g id=\"patch_10\">\n",
       "    <path clip-path=\"url(#p0b0046a7dc)\" d=\"M 185.969966 318.672656 \n",
       "L 200.663698 318.672656 \n",
       "L 200.663698 165.867338 \n",
       "L 185.969966 165.867338 \n",
       "z\n",
       "\" style=\"fill:#4c72b0;opacity:0.4;stroke:#000000;stroke-linejoin:miter;stroke-width:0.3;\"/>\n",
       "   </g>\n",
       "   <g id=\"patch_11\">\n",
       "    <path clip-path=\"url(#p0b0046a7dc)\" d=\"M 200.663698 318.672656 \n",
       "L 215.35743 318.672656 \n",
       "L 215.35743 72.630195 \n",
       "L 200.663698 72.630195 \n",
       "z\n",
       "\" style=\"fill:#4c72b0;opacity:0.4;stroke:#000000;stroke-linejoin:miter;stroke-width:0.3;\"/>\n",
       "   </g>\n",
       "   <g id=\"patch_12\">\n",
       "    <path clip-path=\"url(#p0b0046a7dc)\" d=\"M 215.35743 318.672656 \n",
       "L 230.051162 318.672656 \n",
       "L 230.051162 36.371305 \n",
       "L 215.35743 36.371305 \n",
       "z\n",
       "\" style=\"fill:#4c72b0;opacity:0.4;stroke:#000000;stroke-linejoin:miter;stroke-width:0.3;\"/>\n",
       "   </g>\n",
       "   <g id=\"patch_13\">\n",
       "    <path clip-path=\"url(#p0b0046a7dc)\" d=\"M 230.051162 318.672656 \n",
       "L 244.744894 318.672656 \n",
       "L 244.744894 49.320909 \n",
       "L 230.051162 49.320909 \n",
       "z\n",
       "\" style=\"fill:#4c72b0;opacity:0.4;stroke:#000000;stroke-linejoin:miter;stroke-width:0.3;\"/>\n",
       "   </g>\n",
       "   <g id=\"patch_14\">\n",
       "    <path clip-path=\"url(#p0b0046a7dc)\" d=\"M 244.744894 318.672656 \n",
       "L 259.438626 318.672656 \n",
       "L 259.438626 77.810036 \n",
       "L 244.744894 77.810036 \n",
       "z\n",
       "\" style=\"fill:#4c72b0;opacity:0.4;stroke:#000000;stroke-linejoin:miter;stroke-width:0.3;\"/>\n",
       "   </g>\n",
       "   <g id=\"patch_15\">\n",
       "    <path clip-path=\"url(#p0b0046a7dc)\" d=\"M 259.438626 318.672656 \n",
       "L 274.132358 318.672656 \n",
       "L 274.132358 85.579798 \n",
       "L 259.438626 85.579798 \n",
       "z\n",
       "\" style=\"fill:#4c72b0;opacity:0.4;stroke:#000000;stroke-linejoin:miter;stroke-width:0.3;\"/>\n",
       "   </g>\n",
       "   <g id=\"patch_16\">\n",
       "    <path clip-path=\"url(#p0b0046a7dc)\" d=\"M 274.132358 318.672656 \n",
       "L 288.82609 318.672656 \n",
       "L 288.82609 72.630195 \n",
       "L 274.132358 72.630195 \n",
       "z\n",
       "\" style=\"fill:#4c72b0;opacity:0.4;stroke:#000000;stroke-linejoin:miter;stroke-width:0.3;\"/>\n",
       "   </g>\n",
       "   <g id=\"patch_17\">\n",
       "    <path clip-path=\"url(#p0b0046a7dc)\" d=\"M 288.82609 318.672656 \n",
       "L 303.519822 318.672656 \n",
       "L 303.519822 121.838687 \n",
       "L 288.82609 121.838687 \n",
       "z\n",
       "\" style=\"fill:#4c72b0;opacity:0.4;stroke:#000000;stroke-linejoin:miter;stroke-width:0.3;\"/>\n",
       "   </g>\n",
       "   <g id=\"patch_18\">\n",
       "    <path clip-path=\"url(#p0b0046a7dc)\" d=\"M 303.519822 318.672656 \n",
       "L 318.213555 318.672656 \n",
       "L 318.213555 183.996782 \n",
       "L 303.519822 183.996782 \n",
       "z\n",
       "\" style=\"fill:#4c72b0;opacity:0.4;stroke:#000000;stroke-linejoin:miter;stroke-width:0.3;\"/>\n",
       "   </g>\n",
       "   <g id=\"patch_19\">\n",
       "    <path clip-path=\"url(#p0b0046a7dc)\" d=\"M 318.213555 318.672656 \n",
       "L 332.907287 318.672656 \n",
       "L 332.907287 189.176624 \n",
       "L 318.213555 189.176624 \n",
       "z\n",
       "\" style=\"fill:#4c72b0;opacity:0.4;stroke:#000000;stroke-linejoin:miter;stroke-width:0.3;\"/>\n",
       "   </g>\n",
       "   <g id=\"patch_20\">\n",
       "    <path clip-path=\"url(#p0b0046a7dc)\" d=\"M 332.907287 318.672656 \n",
       "L 347.601019 318.672656 \n",
       "L 347.601019 240.975037 \n",
       "L 332.907287 240.975037 \n",
       "z\n",
       "\" style=\"fill:#4c72b0;opacity:0.4;stroke:#000000;stroke-linejoin:miter;stroke-width:0.3;\"/>\n",
       "   </g>\n",
       "   <g id=\"patch_21\">\n",
       "    <path clip-path=\"url(#p0b0046a7dc)\" d=\"M 347.601019 318.672656 \n",
       "L 362.294751 318.672656 \n",
       "L 362.294751 261.694402 \n",
       "L 347.601019 261.694402 \n",
       "z\n",
       "\" style=\"fill:#4c72b0;opacity:0.4;stroke:#000000;stroke-linejoin:miter;stroke-width:0.3;\"/>\n",
       "   </g>\n",
       "   <g id=\"patch_22\">\n",
       "    <path clip-path=\"url(#p0b0046a7dc)\" d=\"M 362.294751 318.672656 \n",
       "L 376.988483 318.672656 \n",
       "L 376.988483 282.413767 \n",
       "L 362.294751 282.413767 \n",
       "z\n",
       "\" style=\"fill:#4c72b0;opacity:0.4;stroke:#000000;stroke-linejoin:miter;stroke-width:0.3;\"/>\n",
       "   </g>\n",
       "   <g id=\"patch_23\">\n",
       "    <path clip-path=\"url(#p0b0046a7dc)\" d=\"M 376.988483 318.672656 \n",
       "L 391.682215 318.672656 \n",
       "L 391.682215 292.77345 \n",
       "L 376.988483 292.77345 \n",
       "z\n",
       "\" style=\"fill:#4c72b0;opacity:0.4;stroke:#000000;stroke-linejoin:miter;stroke-width:0.3;\"/>\n",
       "   </g>\n",
       "   <g id=\"patch_24\">\n",
       "    <path clip-path=\"url(#p0b0046a7dc)\" d=\"M 391.682215 318.672656 \n",
       "L 406.375947 318.672656 \n",
       "L 406.375947 308.312974 \n",
       "L 391.682215 308.312974 \n",
       "z\n",
       "\" style=\"fill:#4c72b0;opacity:0.4;stroke:#000000;stroke-linejoin:miter;stroke-width:0.3;\"/>\n",
       "   </g>\n",
       "   <g id=\"patch_25\">\n",
       "    <path clip-path=\"url(#p0b0046a7dc)\" d=\"M 406.375947 318.672656 \n",
       "L 421.069679 318.672656 \n",
       "L 421.069679 308.312974 \n",
       "L 406.375947 308.312974 \n",
       "z\n",
       "\" style=\"fill:#4c72b0;opacity:0.4;stroke:#000000;stroke-linejoin:miter;stroke-width:0.3;\"/>\n",
       "   </g>\n",
       "   <g id=\"patch_26\">\n",
       "    <path clip-path=\"url(#p0b0046a7dc)\" d=\"M 421.069679 318.672656 \n",
       "L 435.763411 318.672656 \n",
       "L 435.763411 316.082736 \n",
       "L 421.069679 316.082736 \n",
       "z\n",
       "\" style=\"fill:#4c72b0;opacity:0.4;stroke:#000000;stroke-linejoin:miter;stroke-width:0.3;\"/>\n",
       "   </g>\n",
       "   <g id=\"line2d_58\">\n",
       "    <path clip-path=\"url(#p0b0046a7dc)\" d=\"M 38.901942 318.654186 \n",
       "L 52.794017 318.540691 \n",
       "L 63.213073 318.218624 \n",
       "L 73.632129 317.616282 \n",
       "L 80.578166 317.066181 \n",
       "L 87.524204 316.296365 \n",
       "L 90.997222 315.748269 \n",
       "L 94.470241 315.028529 \n",
       "L 97.943259 314.086909 \n",
       "L 101.416278 312.880567 \n",
       "L 104.889297 311.382644 \n",
       "L 108.362315 309.588923 \n",
       "L 111.835334 307.520594 \n",
       "L 115.308353 305.221733 \n",
       "L 122.25439 300.170855 \n",
       "L 132.673446 292.167045 \n",
       "L 139.619483 286.575817 \n",
       "L 143.092502 283.570177 \n",
       "L 146.56552 280.322669 \n",
       "L 150.038539 276.731868 \n",
       "L 153.511558 272.669115 \n",
       "L 156.984576 267.975703 \n",
       "L 160.457595 262.469626 \n",
       "L 163.930614 255.964477 \n",
       "L 167.403632 248.297444 \n",
       "L 170.876651 239.358523 \n",
       "L 174.34967 229.111816 \n",
       "L 177.822688 217.603165 \n",
       "L 181.295707 204.954393 \n",
       "L 184.768726 191.349649 \n",
       "L 191.714763 162.236074 \n",
       "L 198.6608 132.503219 \n",
       "L 202.133819 118.195589 \n",
       "L 205.606837 104.690471 \n",
       "L 209.079856 92.295853 \n",
       "L 212.552875 81.297927 \n",
       "L 216.025893 71.953014 \n",
       "L 219.498912 64.47363 \n",
       "L 222.971931 59.004139 \n",
       "L 226.444949 55.588012 \n",
       "L 229.917968 54.13709 \n",
       "L 233.390987 54.41806 \n",
       "L 236.864005 56.068611 \n",
       "L 240.337024 58.64571 \n",
       "L 250.75608 67.770025 \n",
       "L 254.229098 70.392304 \n",
       "L 257.702117 72.702106 \n",
       "L 264.648154 76.901231 \n",
       "L 268.121173 79.17781 \n",
       "L 271.594192 81.855678 \n",
       "L 275.06721 85.139277 \n",
       "L 278.540229 89.213891 \n",
       "L 282.013248 94.233386 \n",
       "L 285.486266 100.301888 \n",
       "L 288.959285 107.451365 \n",
       "L 292.432304 115.622065 \n",
       "L 295.905322 124.654649 \n",
       "L 302.851359 144.254513 \n",
       "L 309.797397 163.855676 \n",
       "L 313.270415 173.037402 \n",
       "L 316.743434 181.666198 \n",
       "L 320.216453 189.77611 \n",
       "L 327.16249 204.940417 \n",
       "L 337.581546 226.81877 \n",
       "L 344.527583 240.812615 \n",
       "L 348.000602 247.321424 \n",
       "L 351.47362 253.37378 \n",
       "L 354.946639 258.93207 \n",
       "L 358.419658 264.015451 \n",
       "L 361.892676 268.688351 \n",
       "L 365.365695 273.039372 \n",
       "L 372.311732 281.111293 \n",
       "L 379.25777 288.623757 \n",
       "L 382.730788 292.137206 \n",
       "L 386.203807 295.41296 \n",
       "L 389.676826 298.384767 \n",
       "L 393.149844 301.002408 \n",
       "L 396.622863 303.247365 \n",
       "L 400.095881 305.139556 \n",
       "L 403.5689 306.73296 \n",
       "L 407.041919 308.101649 \n",
       "L 413.987956 310.451162 \n",
       "L 420.933993 312.553253 \n",
       "L 427.880031 314.410848 \n",
       "L 434.826068 315.892304 \n",
       "L 441.772105 316.96466 \n",
       "L 448.718142 317.698519 \n",
       "L 455.66418 318.174607 \n",
       "L 462.610217 318.453041 \n",
       "L 473.029273 318.625697 \n",
       "L 479.97531 318.654109 \n",
       "L 479.97531 318.654109 \n",
       "\" style=\"fill:none;stroke:#4c72b0;stroke-linecap:round;stroke-width:1.75;\"/>\n",
       "   </g>\n",
       "   <g id=\"line2d_59\">\n",
       "    <path clip-path=\"url(#p0b0046a7dc)\" d=\"M 225.632233 318.672656 \n",
       "L 225.632233 303.327656 \n",
       "\" style=\"fill:none;stroke:#4c72b0;stroke-linecap:round;\"/>\n",
       "   </g>\n",
       "   <g id=\"line2d_60\">\n",
       "    <path clip-path=\"url(#p0b0046a7dc)\" d=\"M 259.902063 318.672656 \n",
       "L 259.902063 303.327656 \n",
       "\" style=\"fill:none;stroke:#4c72b0;stroke-linecap:round;\"/>\n",
       "   </g>\n",
       "   <g id=\"line2d_61\">\n",
       "    <path clip-path=\"url(#p0b0046a7dc)\" d=\"M 239.378915 318.672656 \n",
       "L 239.378915 303.327656 \n",
       "\" style=\"fill:none;stroke:#4c72b0;stroke-linecap:round;\"/>\n",
       "   </g>\n",
       "   <g id=\"line2d_62\">\n",
       "    <path clip-path=\"url(#p0b0046a7dc)\" d=\"M 247.573165 318.672656 \n",
       "L 247.573165 303.327656 \n",
       "\" style=\"fill:none;stroke:#4c72b0;stroke-linecap:round;\"/>\n",
       "   </g>\n",
       "   <g id=\"line2d_63\">\n",
       "    <path clip-path=\"url(#p0b0046a7dc)\" d=\"M 142.078871 318.672656 \n",
       "L 142.078871 303.327656 \n",
       "\" style=\"fill:none;stroke:#4c72b0;stroke-linecap:round;\"/>\n",
       "   </g>\n",
       "   <g id=\"line2d_64\">\n",
       "    <path clip-path=\"url(#p0b0046a7dc)\" d=\"M 293.740667 318.672656 \n",
       "L 293.740667 303.327656 \n",
       "\" style=\"fill:none;stroke:#4c72b0;stroke-linecap:round;\"/>\n",
       "   </g>\n",
       "   <g id=\"line2d_65\">\n",
       "    <path clip-path=\"url(#p0b0046a7dc)\" d=\"M 326.539734 318.672656 \n",
       "L 326.539734 303.327656 \n",
       "\" style=\"fill:none;stroke:#4c72b0;stroke-linecap:round;\"/>\n",
       "   </g>\n",
       "   <g id=\"line2d_66\">\n",
       "    <path clip-path=\"url(#p0b0046a7dc)\" d=\"M 226.81276 318.672656 \n",
       "L 226.81276 303.327656 \n",
       "\" style=\"fill:none;stroke:#4c72b0;stroke-linecap:round;\"/>\n",
       "   </g>\n",
       "   <g id=\"line2d_67\">\n",
       "    <path clip-path=\"url(#p0b0046a7dc)\" d=\"M 244.570437 318.672656 \n",
       "L 244.570437 303.327656 \n",
       "\" style=\"fill:none;stroke:#4c72b0;stroke-linecap:round;\"/>\n",
       "   </g>\n",
       "   <g id=\"line2d_68\">\n",
       "    <path clip-path=\"url(#p0b0046a7dc)\" d=\"M 157.251599 318.672656 \n",
       "L 157.251599 303.327656 \n",
       "\" style=\"fill:none;stroke:#4c72b0;stroke-linecap:round;\"/>\n",
       "   </g>\n",
       "   <g id=\"line2d_69\">\n",
       "    <path clip-path=\"url(#p0b0046a7dc)\" d=\"M 242.317673 318.672656 \n",
       "L 242.317673 303.327656 \n",
       "\" style=\"fill:none;stroke:#4c72b0;stroke-linecap:round;\"/>\n",
       "   </g>\n",
       "   <g id=\"line2d_70\">\n",
       "    <path clip-path=\"url(#p0b0046a7dc)\" d=\"M 207.241078 318.672656 \n",
       "L 207.241078 303.327656 \n",
       "\" style=\"fill:none;stroke:#4c72b0;stroke-linecap:round;\"/>\n",
       "   </g>\n",
       "   <g id=\"line2d_71\">\n",
       "    <path clip-path=\"url(#p0b0046a7dc)\" d=\"M 283.64006 318.672656 \n",
       "L 283.64006 303.327656 \n",
       "\" style=\"fill:none;stroke:#4c72b0;stroke-linecap:round;\"/>\n",
       "   </g>\n",
       "   <g id=\"line2d_72\">\n",
       "    <path clip-path=\"url(#p0b0046a7dc)\" d=\"M 244.301208 318.672656 \n",
       "L 244.301208 303.327656 \n",
       "\" style=\"fill:none;stroke:#4c72b0;stroke-linecap:round;\"/>\n",
       "   </g>\n",
       "   <g id=\"line2d_73\">\n",
       "    <path clip-path=\"url(#p0b0046a7dc)\" d=\"M 292.449922 318.672656 \n",
       "L 292.449922 303.327656 \n",
       "\" style=\"fill:none;stroke:#4c72b0;stroke-linecap:round;\"/>\n",
       "   </g>\n",
       "   <g id=\"line2d_74\">\n",
       "    <path clip-path=\"url(#p0b0046a7dc)\" d=\"M 208.360432 318.672656 \n",
       "L 208.360432 303.327656 \n",
       "\" style=\"fill:none;stroke:#4c72b0;stroke-linecap:round;\"/>\n",
       "   </g>\n",
       "   <g id=\"line2d_75\">\n",
       "    <path clip-path=\"url(#p0b0046a7dc)\" d=\"M 288.00289 318.672656 \n",
       "L 288.00289 303.327656 \n",
       "\" style=\"fill:none;stroke:#4c72b0;stroke-linecap:round;\"/>\n",
       "   </g>\n",
       "   <g id=\"line2d_76\">\n",
       "    <path clip-path=\"url(#p0b0046a7dc)\" d=\"M 186.450668 318.672656 \n",
       "L 186.450668 303.327656 \n",
       "\" style=\"fill:none;stroke:#4c72b0;stroke-linecap:round;\"/>\n",
       "   </g>\n",
       "   <g id=\"line2d_77\">\n",
       "    <path clip-path=\"url(#p0b0046a7dc)\" d=\"M 191.527385 318.672656 \n",
       "L 191.527385 303.327656 \n",
       "\" style=\"fill:none;stroke:#4c72b0;stroke-linecap:round;\"/>\n",
       "   </g>\n",
       "   <g id=\"line2d_78\">\n",
       "    <path clip-path=\"url(#p0b0046a7dc)\" d=\"M 386.640556 318.672656 \n",
       "L 386.640556 303.327656 \n",
       "\" style=\"fill:none;stroke:#4c72b0;stroke-linecap:round;\"/>\n",
       "   </g>\n",
       "   <g id=\"line2d_79\">\n",
       "    <path clip-path=\"url(#p0b0046a7dc)\" d=\"M 226.404511 318.672656 \n",
       "L 226.404511 303.327656 \n",
       "\" style=\"fill:none;stroke:#4c72b0;stroke-linecap:round;\"/>\n",
       "   </g>\n",
       "   <g id=\"line2d_80\">\n",
       "    <path clip-path=\"url(#p0b0046a7dc)\" d=\"M 291.669673 318.672656 \n",
       "L 291.669673 303.327656 \n",
       "\" style=\"fill:none;stroke:#4c72b0;stroke-linecap:round;\"/>\n",
       "   </g>\n",
       "   <g id=\"line2d_81\">\n",
       "    <path clip-path=\"url(#p0b0046a7dc)\" d=\"M 277.623763 318.672656 \n",
       "L 277.623763 303.327656 \n",
       "\" style=\"fill:none;stroke:#4c72b0;stroke-linecap:round;\"/>\n",
       "   </g>\n",
       "   <g id=\"line2d_82\">\n",
       "    <path clip-path=\"url(#p0b0046a7dc)\" d=\"M 255.883098 318.672656 \n",
       "L 255.883098 303.327656 \n",
       "\" style=\"fill:none;stroke:#4c72b0;stroke-linecap:round;\"/>\n",
       "   </g>\n",
       "   <g id=\"line2d_83\">\n",
       "    <path clip-path=\"url(#p0b0046a7dc)\" d=\"M 267.44726 318.672656 \n",
       "L 267.44726 303.327656 \n",
       "\" style=\"fill:none;stroke:#4c72b0;stroke-linecap:round;\"/>\n",
       "   </g>\n",
       "   <g id=\"line2d_84\">\n",
       "    <path clip-path=\"url(#p0b0046a7dc)\" d=\"M 183.057024 318.672656 \n",
       "L 183.057024 303.327656 \n",
       "\" style=\"fill:none;stroke:#4c72b0;stroke-linecap:round;\"/>\n",
       "   </g>\n",
       "   <g id=\"line2d_85\">\n",
       "    <path clip-path=\"url(#p0b0046a7dc)\" d=\"M 218.689583 318.672656 \n",
       "L 218.689583 303.327656 \n",
       "\" style=\"fill:none;stroke:#4c72b0;stroke-linecap:round;\"/>\n",
       "   </g>\n",
       "   <g id=\"line2d_86\">\n",
       "    <path clip-path=\"url(#p0b0046a7dc)\" d=\"M 235.867956 318.672656 \n",
       "L 235.867956 303.327656 \n",
       "\" style=\"fill:none;stroke:#4c72b0;stroke-linecap:round;\"/>\n",
       "   </g>\n",
       "   <g id=\"line2d_87\">\n",
       "    <path clip-path=\"url(#p0b0046a7dc)\" d=\"M 270.655777 318.672656 \n",
       "L 270.655777 303.327656 \n",
       "\" style=\"fill:none;stroke:#4c72b0;stroke-linecap:round;\"/>\n",
       "   </g>\n",
       "   <g id=\"line2d_88\">\n",
       "    <path clip-path=\"url(#p0b0046a7dc)\" d=\"M 319.299674 318.672656 \n",
       "L 319.299674 303.327656 \n",
       "\" style=\"fill:none;stroke:#4c72b0;stroke-linecap:round;\"/>\n",
       "   </g>\n",
       "   <g id=\"line2d_89\">\n",
       "    <path clip-path=\"url(#p0b0046a7dc)\" d=\"M 329.497295 318.672656 \n",
       "L 329.497295 303.327656 \n",
       "\" style=\"fill:none;stroke:#4c72b0;stroke-linecap:round;\"/>\n",
       "   </g>\n",
       "   <g id=\"line2d_90\">\n",
       "    <path clip-path=\"url(#p0b0046a7dc)\" d=\"M 383.162995 318.672656 \n",
       "L 383.162995 303.327656 \n",
       "\" style=\"fill:none;stroke:#4c72b0;stroke-linecap:round;\"/>\n",
       "   </g>\n",
       "   <g id=\"line2d_91\">\n",
       "    <path clip-path=\"url(#p0b0046a7dc)\" d=\"M 272.545551 318.672656 \n",
       "L 272.545551 303.327656 \n",
       "\" style=\"fill:none;stroke:#4c72b0;stroke-linecap:round;\"/>\n",
       "   </g>\n",
       "   <g id=\"line2d_92\">\n",
       "    <path clip-path=\"url(#p0b0046a7dc)\" d=\"M 184.753001 318.672656 \n",
       "L 184.753001 303.327656 \n",
       "\" style=\"fill:none;stroke:#4c72b0;stroke-linecap:round;\"/>\n",
       "   </g>\n",
       "   <g id=\"line2d_93\">\n",
       "    <path clip-path=\"url(#p0b0046a7dc)\" d=\"M 272.017904 318.672656 \n",
       "L 272.017904 303.327656 \n",
       "\" style=\"fill:none;stroke:#4c72b0;stroke-linecap:round;\"/>\n",
       "   </g>\n",
       "   <g id=\"line2d_94\">\n",
       "    <path clip-path=\"url(#p0b0046a7dc)\" d=\"M 222.951392 318.672656 \n",
       "L 222.951392 303.327656 \n",
       "\" style=\"fill:none;stroke:#4c72b0;stroke-linecap:round;\"/>\n",
       "   </g>\n",
       "   <g id=\"line2d_95\">\n",
       "    <path clip-path=\"url(#p0b0046a7dc)\" d=\"M 198.862956 318.672656 \n",
       "L 198.862956 303.327656 \n",
       "\" style=\"fill:none;stroke:#4c72b0;stroke-linecap:round;\"/>\n",
       "   </g>\n",
       "   <g id=\"line2d_96\">\n",
       "    <path clip-path=\"url(#p0b0046a7dc)\" d=\"M 202.873431 318.672656 \n",
       "L 202.873431 303.327656 \n",
       "\" style=\"fill:none;stroke:#4c72b0;stroke-linecap:round;\"/>\n",
       "   </g>\n",
       "   <g id=\"line2d_97\">\n",
       "    <path clip-path=\"url(#p0b0046a7dc)\" d=\"M 223.581063 318.672656 \n",
       "L 223.581063 303.327656 \n",
       "\" style=\"fill:none;stroke:#4c72b0;stroke-linecap:round;\"/>\n",
       "   </g>\n",
       "   <g id=\"line2d_98\">\n",
       "    <path clip-path=\"url(#p0b0046a7dc)\" d=\"M 305.797364 318.672656 \n",
       "L 305.797364 303.327656 \n",
       "\" style=\"fill:none;stroke:#4c72b0;stroke-linecap:round;\"/>\n",
       "   </g>\n",
       "   <g id=\"line2d_99\">\n",
       "    <path clip-path=\"url(#p0b0046a7dc)\" d=\"M 238.866929 318.672656 \n",
       "L 238.866929 303.327656 \n",
       "\" style=\"fill:none;stroke:#4c72b0;stroke-linecap:round;\"/>\n",
       "   </g>\n",
       "   <g id=\"line2d_100\">\n",
       "    <path clip-path=\"url(#p0b0046a7dc)\" d=\"M 197.239264 318.672656 \n",
       "L 197.239264 303.327656 \n",
       "\" style=\"fill:none;stroke:#4c72b0;stroke-linecap:round;\"/>\n",
       "   </g>\n",
       "   <g id=\"line2d_101\">\n",
       "    <path clip-path=\"url(#p0b0046a7dc)\" d=\"M 222.688111 318.672656 \n",
       "L 222.688111 303.327656 \n",
       "\" style=\"fill:none;stroke:#4c72b0;stroke-linecap:round;\"/>\n",
       "   </g>\n",
       "   <g id=\"line2d_102\">\n",
       "    <path clip-path=\"url(#p0b0046a7dc)\" d=\"M 217.760602 318.672656 \n",
       "L 217.760602 303.327656 \n",
       "\" style=\"fill:none;stroke:#4c72b0;stroke-linecap:round;\"/>\n",
       "   </g>\n",
       "   <g id=\"line2d_103\">\n",
       "    <path clip-path=\"url(#p0b0046a7dc)\" d=\"M 224.657855 318.672656 \n",
       "L 224.657855 303.327656 \n",
       "\" style=\"fill:none;stroke:#4c72b0;stroke-linecap:round;\"/>\n",
       "   </g>\n",
       "   <g id=\"line2d_104\">\n",
       "    <path clip-path=\"url(#p0b0046a7dc)\" d=\"M 206.295871 318.672656 \n",
       "L 206.295871 303.327656 \n",
       "\" style=\"fill:none;stroke:#4c72b0;stroke-linecap:round;\"/>\n",
       "   </g>\n",
       "   <g id=\"line2d_105\">\n",
       "    <path clip-path=\"url(#p0b0046a7dc)\" d=\"M 283.957914 318.672656 \n",
       "L 283.957914 303.327656 \n",
       "\" style=\"fill:none;stroke:#4c72b0;stroke-linecap:round;\"/>\n",
       "   </g>\n",
       "   <g id=\"line2d_106\">\n",
       "    <path clip-path=\"url(#p0b0046a7dc)\" d=\"M 257.140258 318.672656 \n",
       "L 257.140258 303.327656 \n",
       "\" style=\"fill:none;stroke:#4c72b0;stroke-linecap:round;\"/>\n",
       "   </g>\n",
       "   <g id=\"line2d_107\">\n",
       "    <path clip-path=\"url(#p0b0046a7dc)\" d=\"M 226.749245 318.672656 \n",
       "L 226.749245 303.327656 \n",
       "\" style=\"fill:none;stroke:#4c72b0;stroke-linecap:round;\"/>\n",
       "   </g>\n",
       "   <g id=\"line2d_108\">\n",
       "    <path clip-path=\"url(#p0b0046a7dc)\" d=\"M 283.709433 318.672656 \n",
       "L 283.709433 303.327656 \n",
       "\" style=\"fill:none;stroke:#4c72b0;stroke-linecap:round;\"/>\n",
       "   </g>\n",
       "   <g id=\"line2d_109\">\n",
       "    <path clip-path=\"url(#p0b0046a7dc)\" d=\"M 291.987171 318.672656 \n",
       "L 291.987171 303.327656 \n",
       "\" style=\"fill:none;stroke:#4c72b0;stroke-linecap:round;\"/>\n",
       "   </g>\n",
       "   <g id=\"line2d_110\">\n",
       "    <path clip-path=\"url(#p0b0046a7dc)\" d=\"M 307.495669 318.672656 \n",
       "L 307.495669 303.327656 \n",
       "\" style=\"fill:none;stroke:#4c72b0;stroke-linecap:round;\"/>\n",
       "   </g>\n",
       "   <g id=\"line2d_111\">\n",
       "    <path clip-path=\"url(#p0b0046a7dc)\" d=\"M 249.01276 318.672656 \n",
       "L 249.01276 303.327656 \n",
       "\" style=\"fill:none;stroke:#4c72b0;stroke-linecap:round;\"/>\n",
       "   </g>\n",
       "   <g id=\"line2d_112\">\n",
       "    <path clip-path=\"url(#p0b0046a7dc)\" d=\"M 305.637453 318.672656 \n",
       "L 305.637453 303.327656 \n",
       "\" style=\"fill:none;stroke:#4c72b0;stroke-linecap:round;\"/>\n",
       "   </g>\n",
       "   <g id=\"line2d_113\">\n",
       "    <path clip-path=\"url(#p0b0046a7dc)\" d=\"M 279.420442 318.672656 \n",
       "L 279.420442 303.327656 \n",
       "\" style=\"fill:none;stroke:#4c72b0;stroke-linecap:round;\"/>\n",
       "   </g>\n",
       "   <g id=\"line2d_114\">\n",
       "    <path clip-path=\"url(#p0b0046a7dc)\" d=\"M 298.667963 318.672656 \n",
       "L 298.667963 303.327656 \n",
       "\" style=\"fill:none;stroke:#4c72b0;stroke-linecap:round;\"/>\n",
       "   </g>\n",
       "   <g id=\"line2d_115\">\n",
       "    <path clip-path=\"url(#p0b0046a7dc)\" d=\"M 216.528038 318.672656 \n",
       "L 216.528038 303.327656 \n",
       "\" style=\"fill:none;stroke:#4c72b0;stroke-linecap:round;\"/>\n",
       "   </g>\n",
       "   <g id=\"line2d_116\">\n",
       "    <path clip-path=\"url(#p0b0046a7dc)\" d=\"M 173.831409 318.672656 \n",
       "L 173.831409 303.327656 \n",
       "\" style=\"fill:none;stroke:#4c72b0;stroke-linecap:round;\"/>\n",
       "   </g>\n",
       "   <g id=\"line2d_117\">\n",
       "    <path clip-path=\"url(#p0b0046a7dc)\" d=\"M 279.251022 318.672656 \n",
       "L 279.251022 303.327656 \n",
       "\" style=\"fill:none;stroke:#4c72b0;stroke-linecap:round;\"/>\n",
       "   </g>\n",
       "   <g id=\"line2d_118\">\n",
       "    <path clip-path=\"url(#p0b0046a7dc)\" d=\"M 281.489673 318.672656 \n",
       "L 281.489673 303.327656 \n",
       "\" style=\"fill:none;stroke:#4c72b0;stroke-linecap:round;\"/>\n",
       "   </g>\n",
       "   <g id=\"line2d_119\">\n",
       "    <path clip-path=\"url(#p0b0046a7dc)\" d=\"M 293.580693 318.672656 \n",
       "L 293.580693 303.327656 \n",
       "\" style=\"fill:none;stroke:#4c72b0;stroke-linecap:round;\"/>\n",
       "   </g>\n",
       "   <g id=\"line2d_120\">\n",
       "    <path clip-path=\"url(#p0b0046a7dc)\" d=\"M 229.071214 318.672656 \n",
       "L 229.071214 303.327656 \n",
       "\" style=\"fill:none;stroke:#4c72b0;stroke-linecap:round;\"/>\n",
       "   </g>\n",
       "   <g id=\"line2d_121\">\n",
       "    <path clip-path=\"url(#p0b0046a7dc)\" d=\"M 299.827475 318.672656 \n",
       "L 299.827475 303.327656 \n",
       "\" style=\"fill:none;stroke:#4c72b0;stroke-linecap:round;\"/>\n",
       "   </g>\n",
       "   <g id=\"line2d_122\">\n",
       "    <path clip-path=\"url(#p0b0046a7dc)\" d=\"M 132.944031 318.672656 \n",
       "L 132.944031 303.327656 \n",
       "\" style=\"fill:none;stroke:#4c72b0;stroke-linecap:round;\"/>\n",
       "   </g>\n",
       "   <g id=\"line2d_123\">\n",
       "    <path clip-path=\"url(#p0b0046a7dc)\" d=\"M 283.537586 318.672656 \n",
       "L 283.537586 303.327656 \n",
       "\" style=\"fill:none;stroke:#4c72b0;stroke-linecap:round;\"/>\n",
       "   </g>\n",
       "   <g id=\"line2d_124\">\n",
       "    <path clip-path=\"url(#p0b0046a7dc)\" d=\"M 299.509053 318.672656 \n",
       "L 299.509053 303.327656 \n",
       "\" style=\"fill:none;stroke:#4c72b0;stroke-linecap:round;\"/>\n",
       "   </g>\n",
       "   <g id=\"line2d_125\">\n",
       "    <path clip-path=\"url(#p0b0046a7dc)\" d=\"M 199.665012 318.672656 \n",
       "L 199.665012 303.327656 \n",
       "\" style=\"fill:none;stroke:#4c72b0;stroke-linecap:round;\"/>\n",
       "   </g>\n",
       "   <g id=\"line2d_126\">\n",
       "    <path clip-path=\"url(#p0b0046a7dc)\" d=\"M 312.553752 318.672656 \n",
       "L 312.553752 303.327656 \n",
       "\" style=\"fill:none;stroke:#4c72b0;stroke-linecap:round;\"/>\n",
       "   </g>\n",
       "   <g id=\"line2d_127\">\n",
       "    <path clip-path=\"url(#p0b0046a7dc)\" d=\"M 225.226922 318.672656 \n",
       "L 225.226922 303.327656 \n",
       "\" style=\"fill:none;stroke:#4c72b0;stroke-linecap:round;\"/>\n",
       "   </g>\n",
       "   <g id=\"line2d_128\">\n",
       "    <path clip-path=\"url(#p0b0046a7dc)\" d=\"M 264.728059 318.672656 \n",
       "L 264.728059 303.327656 \n",
       "\" style=\"fill:none;stroke:#4c72b0;stroke-linecap:round;\"/>\n",
       "   </g>\n",
       "   <g id=\"line2d_129\">\n",
       "    <path clip-path=\"url(#p0b0046a7dc)\" d=\"M 203.993424 318.672656 \n",
       "L 203.993424 303.327656 \n",
       "\" style=\"fill:none;stroke:#4c72b0;stroke-linecap:round;\"/>\n",
       "   </g>\n",
       "   <g id=\"line2d_130\">\n",
       "    <path clip-path=\"url(#p0b0046a7dc)\" d=\"M 220.777792 318.672656 \n",
       "L 220.777792 303.327656 \n",
       "\" style=\"fill:none;stroke:#4c72b0;stroke-linecap:round;\"/>\n",
       "   </g>\n",
       "   <g id=\"line2d_131\">\n",
       "    <path clip-path=\"url(#p0b0046a7dc)\" d=\"M 337.523919 318.672656 \n",
       "L 337.523919 303.327656 \n",
       "\" style=\"fill:none;stroke:#4c72b0;stroke-linecap:round;\"/>\n",
       "   </g>\n",
       "   <g id=\"line2d_132\">\n",
       "    <path clip-path=\"url(#p0b0046a7dc)\" d=\"M 218.60481 318.672656 \n",
       "L 218.60481 303.327656 \n",
       "\" style=\"fill:none;stroke:#4c72b0;stroke-linecap:round;\"/>\n",
       "   </g>\n",
       "   <g id=\"line2d_133\">\n",
       "    <path clip-path=\"url(#p0b0046a7dc)\" d=\"M 214.73041 318.672656 \n",
       "L 214.73041 303.327656 \n",
       "\" style=\"fill:none;stroke:#4c72b0;stroke-linecap:round;\"/>\n",
       "   </g>\n",
       "   <g id=\"line2d_134\">\n",
       "    <path clip-path=\"url(#p0b0046a7dc)\" d=\"M 225.44081 318.672656 \n",
       "L 225.44081 303.327656 \n",
       "\" style=\"fill:none;stroke:#4c72b0;stroke-linecap:round;\"/>\n",
       "   </g>\n",
       "   <g id=\"line2d_135\">\n",
       "    <path clip-path=\"url(#p0b0046a7dc)\" d=\"M 168.836087 318.672656 \n",
       "L 168.836087 303.327656 \n",
       "\" style=\"fill:none;stroke:#4c72b0;stroke-linecap:round;\"/>\n",
       "   </g>\n",
       "   <g id=\"line2d_136\">\n",
       "    <path clip-path=\"url(#p0b0046a7dc)\" d=\"M 238.331643 318.672656 \n",
       "L 238.331643 303.327656 \n",
       "\" style=\"fill:none;stroke:#4c72b0;stroke-linecap:round;\"/>\n",
       "   </g>\n",
       "   <g id=\"line2d_137\">\n",
       "    <path clip-path=\"url(#p0b0046a7dc)\" d=\"M 228.048726 318.672656 \n",
       "L 228.048726 303.327656 \n",
       "\" style=\"fill:none;stroke:#4c72b0;stroke-linecap:round;\"/>\n",
       "   </g>\n",
       "   <g id=\"line2d_138\">\n",
       "    <path clip-path=\"url(#p0b0046a7dc)\" d=\"M 171.739529 318.672656 \n",
       "L 171.739529 303.327656 \n",
       "\" style=\"fill:none;stroke:#4c72b0;stroke-linecap:round;\"/>\n",
       "   </g>\n",
       "   <g id=\"line2d_139\">\n",
       "    <path clip-path=\"url(#p0b0046a7dc)\" d=\"M 272.303101 318.672656 \n",
       "L 272.303101 303.327656 \n",
       "\" style=\"fill:none;stroke:#4c72b0;stroke-linecap:round;\"/>\n",
       "   </g>\n",
       "   <g id=\"line2d_140\">\n",
       "    <path clip-path=\"url(#p0b0046a7dc)\" d=\"M 332.824595 318.672656 \n",
       "L 332.824595 303.327656 \n",
       "\" style=\"fill:none;stroke:#4c72b0;stroke-linecap:round;\"/>\n",
       "   </g>\n",
       "   <g id=\"line2d_141\">\n",
       "    <path clip-path=\"url(#p0b0046a7dc)\" d=\"M 276.493468 318.672656 \n",
       "L 276.493468 303.327656 \n",
       "\" style=\"fill:none;stroke:#4c72b0;stroke-linecap:round;\"/>\n",
       "   </g>\n",
       "   <g id=\"line2d_142\">\n",
       "    <path clip-path=\"url(#p0b0046a7dc)\" d=\"M 260.036253 318.672656 \n",
       "L 260.036253 303.327656 \n",
       "\" style=\"fill:none;stroke:#4c72b0;stroke-linecap:round;\"/>\n",
       "   </g>\n",
       "   <g id=\"line2d_143\">\n",
       "    <path clip-path=\"url(#p0b0046a7dc)\" d=\"M 254.166696 318.672656 \n",
       "L 254.166696 303.327656 \n",
       "\" style=\"fill:none;stroke:#4c72b0;stroke-linecap:round;\"/>\n",
       "   </g>\n",
       "   <g id=\"line2d_144\">\n",
       "    <path clip-path=\"url(#p0b0046a7dc)\" d=\"M 211.322748 318.672656 \n",
       "L 211.322748 303.327656 \n",
       "\" style=\"fill:none;stroke:#4c72b0;stroke-linecap:round;\"/>\n",
       "   </g>\n",
       "   <g id=\"line2d_145\">\n",
       "    <path clip-path=\"url(#p0b0046a7dc)\" d=\"M 410.032898 318.672656 \n",
       "L 410.032898 303.327656 \n",
       "\" style=\"fill:none;stroke:#4c72b0;stroke-linecap:round;\"/>\n",
       "   </g>\n",
       "   <g id=\"line2d_146\">\n",
       "    <path clip-path=\"url(#p0b0046a7dc)\" d=\"M 198.40701 318.672656 \n",
       "L 198.40701 303.327656 \n",
       "\" style=\"fill:none;stroke:#4c72b0;stroke-linecap:round;\"/>\n",
       "   </g>\n",
       "   <g id=\"line2d_147\">\n",
       "    <path clip-path=\"url(#p0b0046a7dc)\" d=\"M 236.896084 318.672656 \n",
       "L 236.896084 303.327656 \n",
       "\" style=\"fill:none;stroke:#4c72b0;stroke-linecap:round;\"/>\n",
       "   </g>\n",
       "   <g id=\"line2d_148\">\n",
       "    <path clip-path=\"url(#p0b0046a7dc)\" d=\"M 236.836872 318.672656 \n",
       "L 236.836872 303.327656 \n",
       "\" style=\"fill:none;stroke:#4c72b0;stroke-linecap:round;\"/>\n",
       "   </g>\n",
       "   <g id=\"line2d_149\">\n",
       "    <path clip-path=\"url(#p0b0046a7dc)\" d=\"M 356.556323 318.672656 \n",
       "L 356.556323 303.327656 \n",
       "\" style=\"fill:none;stroke:#4c72b0;stroke-linecap:round;\"/>\n",
       "   </g>\n",
       "   <g id=\"line2d_150\">\n",
       "    <path clip-path=\"url(#p0b0046a7dc)\" d=\"M 177.501061 318.672656 \n",
       "L 177.501061 303.327656 \n",
       "\" style=\"fill:none;stroke:#4c72b0;stroke-linecap:round;\"/>\n",
       "   </g>\n",
       "   <g id=\"line2d_151\">\n",
       "    <path clip-path=\"url(#p0b0046a7dc)\" d=\"M 255.506882 318.672656 \n",
       "L 255.506882 303.327656 \n",
       "\" style=\"fill:none;stroke:#4c72b0;stroke-linecap:round;\"/>\n",
       "   </g>\n",
       "   <g id=\"line2d_152\">\n",
       "    <path clip-path=\"url(#p0b0046a7dc)\" d=\"M 149.227605 318.672656 \n",
       "L 149.227605 303.327656 \n",
       "\" style=\"fill:none;stroke:#4c72b0;stroke-linecap:round;\"/>\n",
       "   </g>\n",
       "   <g id=\"line2d_153\">\n",
       "    <path clip-path=\"url(#p0b0046a7dc)\" d=\"M 150.675141 318.672656 \n",
       "L 150.675141 303.327656 \n",
       "\" style=\"fill:none;stroke:#4c72b0;stroke-linecap:round;\"/>\n",
       "   </g>\n",
       "   <g id=\"line2d_154\">\n",
       "    <path clip-path=\"url(#p0b0046a7dc)\" d=\"M 117.969678 318.672656 \n",
       "L 117.969678 303.327656 \n",
       "\" style=\"fill:none;stroke:#4c72b0;stroke-linecap:round;\"/>\n",
       "   </g>\n",
       "   <g id=\"line2d_155\">\n",
       "    <path clip-path=\"url(#p0b0046a7dc)\" d=\"M 195.669542 318.672656 \n",
       "L 195.669542 303.327656 \n",
       "\" style=\"fill:none;stroke:#4c72b0;stroke-linecap:round;\"/>\n",
       "   </g>\n",
       "   <g id=\"line2d_156\">\n",
       "    <path clip-path=\"url(#p0b0046a7dc)\" d=\"M 307.104543 318.672656 \n",
       "L 307.104543 303.327656 \n",
       "\" style=\"fill:none;stroke:#4c72b0;stroke-linecap:round;\"/>\n",
       "   </g>\n",
       "   <g id=\"line2d_157\">\n",
       "    <path clip-path=\"url(#p0b0046a7dc)\" d=\"M 233.152229 318.672656 \n",
       "L 233.152229 303.327656 \n",
       "\" style=\"fill:none;stroke:#4c72b0;stroke-linecap:round;\"/>\n",
       "   </g>\n",
       "   <g id=\"line2d_158\">\n",
       "    <path clip-path=\"url(#p0b0046a7dc)\" d=\"M 328.684945 318.672656 \n",
       "L 328.684945 303.327656 \n",
       "\" style=\"fill:none;stroke:#4c72b0;stroke-linecap:round;\"/>\n",
       "   </g>\n",
       "   <g id=\"line2d_159\">\n",
       "    <path clip-path=\"url(#p0b0046a7dc)\" d=\"M 270.600383 318.672656 \n",
       "L 270.600383 303.327656 \n",
       "\" style=\"fill:none;stroke:#4c72b0;stroke-linecap:round;\"/>\n",
       "   </g>\n",
       "   <g id=\"line2d_160\">\n",
       "    <path clip-path=\"url(#p0b0046a7dc)\" d=\"M 214.094346 318.672656 \n",
       "L 214.094346 303.327656 \n",
       "\" style=\"fill:none;stroke:#4c72b0;stroke-linecap:round;\"/>\n",
       "   </g>\n",
       "   <g id=\"line2d_161\">\n",
       "    <path clip-path=\"url(#p0b0046a7dc)\" d=\"M 258.44368 318.672656 \n",
       "L 258.44368 303.327656 \n",
       "\" style=\"fill:none;stroke:#4c72b0;stroke-linecap:round;\"/>\n",
       "   </g>\n",
       "   <g id=\"line2d_162\">\n",
       "    <path clip-path=\"url(#p0b0046a7dc)\" d=\"M 248.873409 318.672656 \n",
       "L 248.873409 303.327656 \n",
       "\" style=\"fill:none;stroke:#4c72b0;stroke-linecap:round;\"/>\n",
       "   </g>\n",
       "   <g id=\"line2d_163\">\n",
       "    <path clip-path=\"url(#p0b0046a7dc)\" d=\"M 278.74752 318.672656 \n",
       "L 278.74752 303.327656 \n",
       "\" style=\"fill:none;stroke:#4c72b0;stroke-linecap:round;\"/>\n",
       "   </g>\n",
       "   <g id=\"line2d_164\">\n",
       "    <path clip-path=\"url(#p0b0046a7dc)\" d=\"M 297.77431 318.672656 \n",
       "L 297.77431 303.327656 \n",
       "\" style=\"fill:none;stroke:#4c72b0;stroke-linecap:round;\"/>\n",
       "   </g>\n",
       "   <g id=\"line2d_165\">\n",
       "    <path clip-path=\"url(#p0b0046a7dc)\" d=\"M 196.612234 318.672656 \n",
       "L 196.612234 303.327656 \n",
       "\" style=\"fill:none;stroke:#4c72b0;stroke-linecap:round;\"/>\n",
       "   </g>\n",
       "   <g id=\"line2d_166\">\n",
       "    <path clip-path=\"url(#p0b0046a7dc)\" d=\"M 366.69342 318.672656 \n",
       "L 366.69342 303.327656 \n",
       "\" style=\"fill:none;stroke:#4c72b0;stroke-linecap:round;\"/>\n",
       "   </g>\n",
       "   <g id=\"line2d_167\">\n",
       "    <path clip-path=\"url(#p0b0046a7dc)\" d=\"M 192.146461 318.672656 \n",
       "L 192.146461 303.327656 \n",
       "\" style=\"fill:none;stroke:#4c72b0;stroke-linecap:round;\"/>\n",
       "   </g>\n",
       "   <g id=\"line2d_168\">\n",
       "    <path clip-path=\"url(#p0b0046a7dc)\" d=\"M 175.132678 318.672656 \n",
       "L 175.132678 303.327656 \n",
       "\" style=\"fill:none;stroke:#4c72b0;stroke-linecap:round;\"/>\n",
       "   </g>\n",
       "   <g id=\"line2d_169\">\n",
       "    <path clip-path=\"url(#p0b0046a7dc)\" d=\"M 287.113884 318.672656 \n",
       "L 287.113884 303.327656 \n",
       "\" style=\"fill:none;stroke:#4c72b0;stroke-linecap:round;\"/>\n",
       "   </g>\n",
       "   <g id=\"line2d_170\">\n",
       "    <path clip-path=\"url(#p0b0046a7dc)\" d=\"M 130.342871 318.672656 \n",
       "L 130.342871 303.327656 \n",
       "\" style=\"fill:none;stroke:#4c72b0;stroke-linecap:round;\"/>\n",
       "   </g>\n",
       "   <g id=\"line2d_171\">\n",
       "    <path clip-path=\"url(#p0b0046a7dc)\" d=\"M 176.717875 318.672656 \n",
       "L 176.717875 303.327656 \n",
       "\" style=\"fill:none;stroke:#4c72b0;stroke-linecap:round;\"/>\n",
       "   </g>\n",
       "   <g id=\"line2d_172\">\n",
       "    <path clip-path=\"url(#p0b0046a7dc)\" d=\"M 337.202994 318.672656 \n",
       "L 337.202994 303.327656 \n",
       "\" style=\"fill:none;stroke:#4c72b0;stroke-linecap:round;\"/>\n",
       "   </g>\n",
       "   <g id=\"line2d_173\">\n",
       "    <path clip-path=\"url(#p0b0046a7dc)\" d=\"M 167.038071 318.672656 \n",
       "L 167.038071 303.327656 \n",
       "\" style=\"fill:none;stroke:#4c72b0;stroke-linecap:round;\"/>\n",
       "   </g>\n",
       "   <g id=\"line2d_174\">\n",
       "    <path clip-path=\"url(#p0b0046a7dc)\" d=\"M 331.671448 318.672656 \n",
       "L 331.671448 303.327656 \n",
       "\" style=\"fill:none;stroke:#4c72b0;stroke-linecap:round;\"/>\n",
       "   </g>\n",
       "   <g id=\"line2d_175\">\n",
       "    <path clip-path=\"url(#p0b0046a7dc)\" d=\"M 223.159299 318.672656 \n",
       "L 223.159299 303.327656 \n",
       "\" style=\"fill:none;stroke:#4c72b0;stroke-linecap:round;\"/>\n",
       "   </g>\n",
       "   <g id=\"line2d_176\">\n",
       "    <path clip-path=\"url(#p0b0046a7dc)\" d=\"M 246.679031 318.672656 \n",
       "L 246.679031 303.327656 \n",
       "\" style=\"fill:none;stroke:#4c72b0;stroke-linecap:round;\"/>\n",
       "   </g>\n",
       "   <g id=\"line2d_177\">\n",
       "    <path clip-path=\"url(#p0b0046a7dc)\" d=\"M 188.85335 318.672656 \n",
       "L 188.85335 303.327656 \n",
       "\" style=\"fill:none;stroke:#4c72b0;stroke-linecap:round;\"/>\n",
       "   </g>\n",
       "   <g id=\"line2d_178\">\n",
       "    <path clip-path=\"url(#p0b0046a7dc)\" d=\"M 214.748847 318.672656 \n",
       "L 214.748847 303.327656 \n",
       "\" style=\"fill:none;stroke:#4c72b0;stroke-linecap:round;\"/>\n",
       "   </g>\n",
       "   <g id=\"line2d_179\">\n",
       "    <path clip-path=\"url(#p0b0046a7dc)\" d=\"M 341.287575 318.672656 \n",
       "L 341.287575 303.327656 \n",
       "\" style=\"fill:none;stroke:#4c72b0;stroke-linecap:round;\"/>\n",
       "   </g>\n",
       "   <g id=\"line2d_180\">\n",
       "    <path clip-path=\"url(#p0b0046a7dc)\" d=\"M 298.487305 318.672656 \n",
       "L 298.487305 303.327656 \n",
       "\" style=\"fill:none;stroke:#4c72b0;stroke-linecap:round;\"/>\n",
       "   </g>\n",
       "   <g id=\"line2d_181\">\n",
       "    <path clip-path=\"url(#p0b0046a7dc)\" d=\"M 279.255502 318.672656 \n",
       "L 279.255502 303.327656 \n",
       "\" style=\"fill:none;stroke:#4c72b0;stroke-linecap:round;\"/>\n",
       "   </g>\n",
       "   <g id=\"line2d_182\">\n",
       "    <path clip-path=\"url(#p0b0046a7dc)\" d=\"M 156.128374 318.672656 \n",
       "L 156.128374 303.327656 \n",
       "\" style=\"fill:none;stroke:#4c72b0;stroke-linecap:round;\"/>\n",
       "   </g>\n",
       "   <g id=\"line2d_183\">\n",
       "    <path clip-path=\"url(#p0b0046a7dc)\" d=\"M 289.870125 318.672656 \n",
       "L 289.870125 303.327656 \n",
       "\" style=\"fill:none;stroke:#4c72b0;stroke-linecap:round;\"/>\n",
       "   </g>\n",
       "   <g id=\"line2d_184\">\n",
       "    <path clip-path=\"url(#p0b0046a7dc)\" d=\"M 323.64044 318.672656 \n",
       "L 323.64044 303.327656 \n",
       "\" style=\"fill:none;stroke:#4c72b0;stroke-linecap:round;\"/>\n",
       "   </g>\n",
       "   <g id=\"line2d_185\">\n",
       "    <path clip-path=\"url(#p0b0046a7dc)\" d=\"M 211.076662 318.672656 \n",
       "L 211.076662 303.327656 \n",
       "\" style=\"fill:none;stroke:#4c72b0;stroke-linecap:round;\"/>\n",
       "   </g>\n",
       "   <g id=\"line2d_186\">\n",
       "    <path clip-path=\"url(#p0b0046a7dc)\" d=\"M 296.431895 318.672656 \n",
       "L 296.431895 303.327656 \n",
       "\" style=\"fill:none;stroke:#4c72b0;stroke-linecap:round;\"/>\n",
       "   </g>\n",
       "   <g id=\"line2d_187\">\n",
       "    <path clip-path=\"url(#p0b0046a7dc)\" d=\"M 180.160625 318.672656 \n",
       "L 180.160625 303.327656 \n",
       "\" style=\"fill:none;stroke:#4c72b0;stroke-linecap:round;\"/>\n",
       "   </g>\n",
       "   <g id=\"line2d_188\">\n",
       "    <path clip-path=\"url(#p0b0046a7dc)\" d=\"M 302.650728 318.672656 \n",
       "L 302.650728 303.327656 \n",
       "\" style=\"fill:none;stroke:#4c72b0;stroke-linecap:round;\"/>\n",
       "   </g>\n",
       "   <g id=\"line2d_189\">\n",
       "    <path clip-path=\"url(#p0b0046a7dc)\" d=\"M 214.280516 318.672656 \n",
       "L 214.280516 303.327656 \n",
       "\" style=\"fill:none;stroke:#4c72b0;stroke-linecap:round;\"/>\n",
       "   </g>\n",
       "   <g id=\"line2d_190\">\n",
       "    <path clip-path=\"url(#p0b0046a7dc)\" d=\"M 206.81022 318.672656 \n",
       "L 206.81022 303.327656 \n",
       "\" style=\"fill:none;stroke:#4c72b0;stroke-linecap:round;\"/>\n",
       "   </g>\n",
       "   <g id=\"line2d_191\">\n",
       "    <path clip-path=\"url(#p0b0046a7dc)\" d=\"M 229.817639 318.672656 \n",
       "L 229.817639 303.327656 \n",
       "\" style=\"fill:none;stroke:#4c72b0;stroke-linecap:round;\"/>\n",
       "   </g>\n",
       "   <g id=\"line2d_192\">\n",
       "    <path clip-path=\"url(#p0b0046a7dc)\" d=\"M 132.647509 318.672656 \n",
       "L 132.647509 303.327656 \n",
       "\" style=\"fill:none;stroke:#4c72b0;stroke-linecap:round;\"/>\n",
       "   </g>\n",
       "   <g id=\"line2d_193\">\n",
       "    <path clip-path=\"url(#p0b0046a7dc)\" d=\"M 219.400763 318.672656 \n",
       "L 219.400763 303.327656 \n",
       "\" style=\"fill:none;stroke:#4c72b0;stroke-linecap:round;\"/>\n",
       "   </g>\n",
       "   <g id=\"line2d_194\">\n",
       "    <path clip-path=\"url(#p0b0046a7dc)\" d=\"M 189.264631 318.672656 \n",
       "L 189.264631 303.327656 \n",
       "\" style=\"fill:none;stroke:#4c72b0;stroke-linecap:round;\"/>\n",
       "   </g>\n",
       "   <g id=\"line2d_195\">\n",
       "    <path clip-path=\"url(#p0b0046a7dc)\" d=\"M 271.316 318.672656 \n",
       "L 271.316 303.327656 \n",
       "\" style=\"fill:none;stroke:#4c72b0;stroke-linecap:round;\"/>\n",
       "   </g>\n",
       "   <g id=\"line2d_196\">\n",
       "    <path clip-path=\"url(#p0b0046a7dc)\" d=\"M 359.523861 318.672656 \n",
       "L 359.523861 303.327656 \n",
       "\" style=\"fill:none;stroke:#4c72b0;stroke-linecap:round;\"/>\n",
       "   </g>\n",
       "   <g id=\"line2d_197\">\n",
       "    <path clip-path=\"url(#p0b0046a7dc)\" d=\"M 227.422358 318.672656 \n",
       "L 227.422358 303.327656 \n",
       "\" style=\"fill:none;stroke:#4c72b0;stroke-linecap:round;\"/>\n",
       "   </g>\n",
       "   <g id=\"line2d_198\">\n",
       "    <path clip-path=\"url(#p0b0046a7dc)\" d=\"M 255.237232 318.672656 \n",
       "L 255.237232 303.327656 \n",
       "\" style=\"fill:none;stroke:#4c72b0;stroke-linecap:round;\"/>\n",
       "   </g>\n",
       "   <g id=\"line2d_199\">\n",
       "    <path clip-path=\"url(#p0b0046a7dc)\" d=\"M 266.656316 318.672656 \n",
       "L 266.656316 303.327656 \n",
       "\" style=\"fill:none;stroke:#4c72b0;stroke-linecap:round;\"/>\n",
       "   </g>\n",
       "   <g id=\"line2d_200\">\n",
       "    <path clip-path=\"url(#p0b0046a7dc)\" d=\"M 265.224582 318.672656 \n",
       "L 265.224582 303.327656 \n",
       "\" style=\"fill:none;stroke:#4c72b0;stroke-linecap:round;\"/>\n",
       "   </g>\n",
       "   <g id=\"line2d_201\">\n",
       "    <path clip-path=\"url(#p0b0046a7dc)\" d=\"M 229.587554 318.672656 \n",
       "L 229.587554 303.327656 \n",
       "\" style=\"fill:none;stroke:#4c72b0;stroke-linecap:round;\"/>\n",
       "   </g>\n",
       "   <g id=\"line2d_202\">\n",
       "    <path clip-path=\"url(#p0b0046a7dc)\" d=\"M 277.81546 318.672656 \n",
       "L 277.81546 303.327656 \n",
       "\" style=\"fill:none;stroke:#4c72b0;stroke-linecap:round;\"/>\n",
       "   </g>\n",
       "   <g id=\"line2d_203\">\n",
       "    <path clip-path=\"url(#p0b0046a7dc)\" d=\"M 196.138391 318.672656 \n",
       "L 196.138391 303.327656 \n",
       "\" style=\"fill:none;stroke:#4c72b0;stroke-linecap:round;\"/>\n",
       "   </g>\n",
       "   <g id=\"line2d_204\">\n",
       "    <path clip-path=\"url(#p0b0046a7dc)\" d=\"M 314.10571 318.672656 \n",
       "L 314.10571 303.327656 \n",
       "\" style=\"fill:none;stroke:#4c72b0;stroke-linecap:round;\"/>\n",
       "   </g>\n",
       "   <g id=\"line2d_205\">\n",
       "    <path clip-path=\"url(#p0b0046a7dc)\" d=\"M 256.725945 318.672656 \n",
       "L 256.725945 303.327656 \n",
       "\" style=\"fill:none;stroke:#4c72b0;stroke-linecap:round;\"/>\n",
       "   </g>\n",
       "   <g id=\"line2d_206\">\n",
       "    <path clip-path=\"url(#p0b0046a7dc)\" d=\"M 252.097531 318.672656 \n",
       "L 252.097531 303.327656 \n",
       "\" style=\"fill:none;stroke:#4c72b0;stroke-linecap:round;\"/>\n",
       "   </g>\n",
       "   <g id=\"line2d_207\">\n",
       "    <path clip-path=\"url(#p0b0046a7dc)\" d=\"M 343.057787 318.672656 \n",
       "L 343.057787 303.327656 \n",
       "\" style=\"fill:none;stroke:#4c72b0;stroke-linecap:round;\"/>\n",
       "   </g>\n",
       "   <g id=\"line2d_208\">\n",
       "    <path clip-path=\"url(#p0b0046a7dc)\" d=\"M 231.553262 318.672656 \n",
       "L 231.553262 303.327656 \n",
       "\" style=\"fill:none;stroke:#4c72b0;stroke-linecap:round;\"/>\n",
       "   </g>\n",
       "   <g id=\"line2d_209\">\n",
       "    <path clip-path=\"url(#p0b0046a7dc)\" d=\"M 327.3349 318.672656 \n",
       "L 327.3349 303.327656 \n",
       "\" style=\"fill:none;stroke:#4c72b0;stroke-linecap:round;\"/>\n",
       "   </g>\n",
       "   <g id=\"line2d_210\">\n",
       "    <path clip-path=\"url(#p0b0046a7dc)\" d=\"M 187.441992 318.672656 \n",
       "L 187.441992 303.327656 \n",
       "\" style=\"fill:none;stroke:#4c72b0;stroke-linecap:round;\"/>\n",
       "   </g>\n",
       "   <g id=\"line2d_211\">\n",
       "    <path clip-path=\"url(#p0b0046a7dc)\" d=\"M 267.562746 318.672656 \n",
       "L 267.562746 303.327656 \n",
       "\" style=\"fill:none;stroke:#4c72b0;stroke-linecap:round;\"/>\n",
       "   </g>\n",
       "   <g id=\"line2d_212\">\n",
       "    <path clip-path=\"url(#p0b0046a7dc)\" d=\"M 271.077293 318.672656 \n",
       "L 271.077293 303.327656 \n",
       "\" style=\"fill:none;stroke:#4c72b0;stroke-linecap:round;\"/>\n",
       "   </g>\n",
       "   <g id=\"line2d_213\">\n",
       "    <path clip-path=\"url(#p0b0046a7dc)\" d=\"M 249.870928 318.672656 \n",
       "L 249.870928 303.327656 \n",
       "\" style=\"fill:none;stroke:#4c72b0;stroke-linecap:round;\"/>\n",
       "   </g>\n",
       "   <g id=\"line2d_214\">\n",
       "    <path clip-path=\"url(#p0b0046a7dc)\" d=\"M 205.217629 318.672656 \n",
       "L 205.217629 303.327656 \n",
       "\" style=\"fill:none;stroke:#4c72b0;stroke-linecap:round;\"/>\n",
       "   </g>\n",
       "   <g id=\"line2d_215\">\n",
       "    <path clip-path=\"url(#p0b0046a7dc)\" d=\"M 221.921729 318.672656 \n",
       "L 221.921729 303.327656 \n",
       "\" style=\"fill:none;stroke:#4c72b0;stroke-linecap:round;\"/>\n",
       "   </g>\n",
       "   <g id=\"line2d_216\">\n",
       "    <path clip-path=\"url(#p0b0046a7dc)\" d=\"M 285.882815 318.672656 \n",
       "L 285.882815 303.327656 \n",
       "\" style=\"fill:none;stroke:#4c72b0;stroke-linecap:round;\"/>\n",
       "   </g>\n",
       "   <g id=\"line2d_217\">\n",
       "    <path clip-path=\"url(#p0b0046a7dc)\" d=\"M 372.458115 318.672656 \n",
       "L 372.458115 303.327656 \n",
       "\" style=\"fill:none;stroke:#4c72b0;stroke-linecap:round;\"/>\n",
       "   </g>\n",
       "   <g id=\"line2d_218\">\n",
       "    <path clip-path=\"url(#p0b0046a7dc)\" d=\"M 315.991461 318.672656 \n",
       "L 315.991461 303.327656 \n",
       "\" style=\"fill:none;stroke:#4c72b0;stroke-linecap:round;\"/>\n",
       "   </g>\n",
       "   <g id=\"line2d_219\">\n",
       "    <path clip-path=\"url(#p0b0046a7dc)\" d=\"M 325.049774 318.672656 \n",
       "L 325.049774 303.327656 \n",
       "\" style=\"fill:none;stroke:#4c72b0;stroke-linecap:round;\"/>\n",
       "   </g>\n",
       "   <g id=\"line2d_220\">\n",
       "    <path clip-path=\"url(#p0b0046a7dc)\" d=\"M 225.78055 318.672656 \n",
       "L 225.78055 303.327656 \n",
       "\" style=\"fill:none;stroke:#4c72b0;stroke-linecap:round;\"/>\n",
       "   </g>\n",
       "   <g id=\"line2d_221\">\n",
       "    <path clip-path=\"url(#p0b0046a7dc)\" d=\"M 340.009979 318.672656 \n",
       "L 340.009979 303.327656 \n",
       "\" style=\"fill:none;stroke:#4c72b0;stroke-linecap:round;\"/>\n",
       "   </g>\n",
       "   <g id=\"line2d_222\">\n",
       "    <path clip-path=\"url(#p0b0046a7dc)\" d=\"M 219.143611 318.672656 \n",
       "L 219.143611 303.327656 \n",
       "\" style=\"fill:none;stroke:#4c72b0;stroke-linecap:round;\"/>\n",
       "   </g>\n",
       "   <g id=\"line2d_223\">\n",
       "    <path clip-path=\"url(#p0b0046a7dc)\" d=\"M 261.596174 318.672656 \n",
       "L 261.596174 303.327656 \n",
       "\" style=\"fill:none;stroke:#4c72b0;stroke-linecap:round;\"/>\n",
       "   </g>\n",
       "   <g id=\"line2d_224\">\n",
       "    <path clip-path=\"url(#p0b0046a7dc)\" d=\"M 322.45556 318.672656 \n",
       "L 322.45556 303.327656 \n",
       "\" style=\"fill:none;stroke:#4c72b0;stroke-linecap:round;\"/>\n",
       "   </g>\n",
       "   <g id=\"line2d_225\">\n",
       "    <path clip-path=\"url(#p0b0046a7dc)\" d=\"M 165.576829 318.672656 \n",
       "L 165.576829 303.327656 \n",
       "\" style=\"fill:none;stroke:#4c72b0;stroke-linecap:round;\"/>\n",
       "   </g>\n",
       "   <g id=\"line2d_226\">\n",
       "    <path clip-path=\"url(#p0b0046a7dc)\" d=\"M 172.080391 318.672656 \n",
       "L 172.080391 303.327656 \n",
       "\" style=\"fill:none;stroke:#4c72b0;stroke-linecap:round;\"/>\n",
       "   </g>\n",
       "   <g id=\"line2d_227\">\n",
       "    <path clip-path=\"url(#p0b0046a7dc)\" d=\"M 227.062635 318.672656 \n",
       "L 227.062635 303.327656 \n",
       "\" style=\"fill:none;stroke:#4c72b0;stroke-linecap:round;\"/>\n",
       "   </g>\n",
       "   <g id=\"line2d_228\">\n",
       "    <path clip-path=\"url(#p0b0046a7dc)\" d=\"M 342.652097 318.672656 \n",
       "L 342.652097 303.327656 \n",
       "\" style=\"fill:none;stroke:#4c72b0;stroke-linecap:round;\"/>\n",
       "   </g>\n",
       "   <g id=\"line2d_229\">\n",
       "    <path clip-path=\"url(#p0b0046a7dc)\" d=\"M 233.955963 318.672656 \n",
       "L 233.955963 303.327656 \n",
       "\" style=\"fill:none;stroke:#4c72b0;stroke-linecap:round;\"/>\n",
       "   </g>\n",
       "   <g id=\"line2d_230\">\n",
       "    <path clip-path=\"url(#p0b0046a7dc)\" d=\"M 380.633816 318.672656 \n",
       "L 380.633816 303.327656 \n",
       "\" style=\"fill:none;stroke:#4c72b0;stroke-linecap:round;\"/>\n",
       "   </g>\n",
       "   <g id=\"line2d_231\">\n",
       "    <path clip-path=\"url(#p0b0046a7dc)\" d=\"M 180.637439 318.672656 \n",
       "L 180.637439 303.327656 \n",
       "\" style=\"fill:none;stroke:#4c72b0;stroke-linecap:round;\"/>\n",
       "   </g>\n",
       "   <g id=\"line2d_232\">\n",
       "    <path clip-path=\"url(#p0b0046a7dc)\" d=\"M 186.646147 318.672656 \n",
       "L 186.646147 303.327656 \n",
       "\" style=\"fill:none;stroke:#4c72b0;stroke-linecap:round;\"/>\n",
       "   </g>\n",
       "   <g id=\"line2d_233\">\n",
       "    <path clip-path=\"url(#p0b0046a7dc)\" d=\"M 304.791443 318.672656 \n",
       "L 304.791443 303.327656 \n",
       "\" style=\"fill:none;stroke:#4c72b0;stroke-linecap:round;\"/>\n",
       "   </g>\n",
       "   <g id=\"line2d_234\">\n",
       "    <path clip-path=\"url(#p0b0046a7dc)\" d=\"M 240.917795 318.672656 \n",
       "L 240.917795 303.327656 \n",
       "\" style=\"fill:none;stroke:#4c72b0;stroke-linecap:round;\"/>\n",
       "   </g>\n",
       "   <g id=\"line2d_235\">\n",
       "    <path clip-path=\"url(#p0b0046a7dc)\" d=\"M 246.894372 318.672656 \n",
       "L 246.894372 303.327656 \n",
       "\" style=\"fill:none;stroke:#4c72b0;stroke-linecap:round;\"/>\n",
       "   </g>\n",
       "   <g id=\"line2d_236\">\n",
       "    <path clip-path=\"url(#p0b0046a7dc)\" d=\"M 254.343897 318.672656 \n",
       "L 254.343897 303.327656 \n",
       "\" style=\"fill:none;stroke:#4c72b0;stroke-linecap:round;\"/>\n",
       "   </g>\n",
       "   <g id=\"line2d_237\">\n",
       "    <path clip-path=\"url(#p0b0046a7dc)\" d=\"M 234.403799 318.672656 \n",
       "L 234.403799 303.327656 \n",
       "\" style=\"fill:none;stroke:#4c72b0;stroke-linecap:round;\"/>\n",
       "   </g>\n",
       "   <g id=\"line2d_238\">\n",
       "    <path clip-path=\"url(#p0b0046a7dc)\" d=\"M 205.013081 318.672656 \n",
       "L 205.013081 303.327656 \n",
       "\" style=\"fill:none;stroke:#4c72b0;stroke-linecap:round;\"/>\n",
       "   </g>\n",
       "   <g id=\"line2d_239\">\n",
       "    <path clip-path=\"url(#p0b0046a7dc)\" d=\"M 277.966174 318.672656 \n",
       "L 277.966174 303.327656 \n",
       "\" style=\"fill:none;stroke:#4c72b0;stroke-linecap:round;\"/>\n",
       "   </g>\n",
       "   <g id=\"line2d_240\">\n",
       "    <path clip-path=\"url(#p0b0046a7dc)\" d=\"M 235.058709 318.672656 \n",
       "L 235.058709 303.327656 \n",
       "\" style=\"fill:none;stroke:#4c72b0;stroke-linecap:round;\"/>\n",
       "   </g>\n",
       "   <g id=\"line2d_241\">\n",
       "    <path clip-path=\"url(#p0b0046a7dc)\" d=\"M 221.669045 318.672656 \n",
       "L 221.669045 303.327656 \n",
       "\" style=\"fill:none;stroke:#4c72b0;stroke-linecap:round;\"/>\n",
       "   </g>\n",
       "   <g id=\"line2d_242\">\n",
       "    <path clip-path=\"url(#p0b0046a7dc)\" d=\"M 255.708547 318.672656 \n",
       "L 255.708547 303.327656 \n",
       "\" style=\"fill:none;stroke:#4c72b0;stroke-linecap:round;\"/>\n",
       "   </g>\n",
       "   <g id=\"line2d_243\">\n",
       "    <path clip-path=\"url(#p0b0046a7dc)\" d=\"M 223.545116 318.672656 \n",
       "L 223.545116 303.327656 \n",
       "\" style=\"fill:none;stroke:#4c72b0;stroke-linecap:round;\"/>\n",
       "   </g>\n",
       "   <g id=\"line2d_244\">\n",
       "    <path clip-path=\"url(#p0b0046a7dc)\" d=\"M 219.291003 318.672656 \n",
       "L 219.291003 303.327656 \n",
       "\" style=\"fill:none;stroke:#4c72b0;stroke-linecap:round;\"/>\n",
       "   </g>\n",
       "   <g id=\"line2d_245\">\n",
       "    <path clip-path=\"url(#p0b0046a7dc)\" d=\"M 321.064395 318.672656 \n",
       "L 321.064395 303.327656 \n",
       "\" style=\"fill:none;stroke:#4c72b0;stroke-linecap:round;\"/>\n",
       "   </g>\n",
       "   <g id=\"line2d_246\">\n",
       "    <path clip-path=\"url(#p0b0046a7dc)\" d=\"M 234.729754 318.672656 \n",
       "L 234.729754 303.327656 \n",
       "\" style=\"fill:none;stroke:#4c72b0;stroke-linecap:round;\"/>\n",
       "   </g>\n",
       "   <g id=\"line2d_247\">\n",
       "    <path clip-path=\"url(#p0b0046a7dc)\" d=\"M 339.744147 318.672656 \n",
       "L 339.744147 303.327656 \n",
       "\" style=\"fill:none;stroke:#4c72b0;stroke-linecap:round;\"/>\n",
       "   </g>\n",
       "   <g id=\"line2d_248\">\n",
       "    <path clip-path=\"url(#p0b0046a7dc)\" d=\"M 222.259503 318.672656 \n",
       "L 222.259503 303.327656 \n",
       "\" style=\"fill:none;stroke:#4c72b0;stroke-linecap:round;\"/>\n",
       "   </g>\n",
       "   <g id=\"line2d_249\">\n",
       "    <path clip-path=\"url(#p0b0046a7dc)\" d=\"M 372.258646 318.672656 \n",
       "L 372.258646 303.327656 \n",
       "\" style=\"fill:none;stroke:#4c72b0;stroke-linecap:round;\"/>\n",
       "   </g>\n",
       "   <g id=\"line2d_250\">\n",
       "    <path clip-path=\"url(#p0b0046a7dc)\" d=\"M 277.021178 318.672656 \n",
       "L 277.021178 303.327656 \n",
       "\" style=\"fill:none;stroke:#4c72b0;stroke-linecap:round;\"/>\n",
       "   </g>\n",
       "   <g id=\"line2d_251\">\n",
       "    <path clip-path=\"url(#p0b0046a7dc)\" d=\"M 234.427396 318.672656 \n",
       "L 234.427396 303.327656 \n",
       "\" style=\"fill:none;stroke:#4c72b0;stroke-linecap:round;\"/>\n",
       "   </g>\n",
       "   <g id=\"line2d_252\">\n",
       "    <path clip-path=\"url(#p0b0046a7dc)\" d=\"M 242.609322 318.672656 \n",
       "L 242.609322 303.327656 \n",
       "\" style=\"fill:none;stroke:#4c72b0;stroke-linecap:round;\"/>\n",
       "   </g>\n",
       "   <g id=\"line2d_253\">\n",
       "    <path clip-path=\"url(#p0b0046a7dc)\" d=\"M 290.076756 318.672656 \n",
       "L 290.076756 303.327656 \n",
       "\" style=\"fill:none;stroke:#4c72b0;stroke-linecap:round;\"/>\n",
       "   </g>\n",
       "   <g id=\"line2d_254\">\n",
       "    <path clip-path=\"url(#p0b0046a7dc)\" d=\"M 354.105271 318.672656 \n",
       "L 354.105271 303.327656 \n",
       "\" style=\"fill:none;stroke:#4c72b0;stroke-linecap:round;\"/>\n",
       "   </g>\n",
       "   <g id=\"line2d_255\">\n",
       "    <path clip-path=\"url(#p0b0046a7dc)\" d=\"M 232.523671 318.672656 \n",
       "L 232.523671 303.327656 \n",
       "\" style=\"fill:none;stroke:#4c72b0;stroke-linecap:round;\"/>\n",
       "   </g>\n",
       "   <g id=\"line2d_256\">\n",
       "    <path clip-path=\"url(#p0b0046a7dc)\" d=\"M 330.241936 318.672656 \n",
       "L 330.241936 303.327656 \n",
       "\" style=\"fill:none;stroke:#4c72b0;stroke-linecap:round;\"/>\n",
       "   </g>\n",
       "   <g id=\"line2d_257\">\n",
       "    <path clip-path=\"url(#p0b0046a7dc)\" d=\"M 292.061393 318.672656 \n",
       "L 292.061393 303.327656 \n",
       "\" style=\"fill:none;stroke:#4c72b0;stroke-linecap:round;\"/>\n",
       "   </g>\n",
       "   <g id=\"line2d_258\">\n",
       "    <path clip-path=\"url(#p0b0046a7dc)\" d=\"M 233.509605 318.672656 \n",
       "L 233.509605 303.327656 \n",
       "\" style=\"fill:none;stroke:#4c72b0;stroke-linecap:round;\"/>\n",
       "   </g>\n",
       "   <g id=\"line2d_259\">\n",
       "    <path clip-path=\"url(#p0b0046a7dc)\" d=\"M 197.254754 318.672656 \n",
       "L 197.254754 303.327656 \n",
       "\" style=\"fill:none;stroke:#4c72b0;stroke-linecap:round;\"/>\n",
       "   </g>\n",
       "   <g id=\"line2d_260\">\n",
       "    <path clip-path=\"url(#p0b0046a7dc)\" d=\"M 400.988285 318.672656 \n",
       "L 400.988285 303.327656 \n",
       "\" style=\"fill:none;stroke:#4c72b0;stroke-linecap:round;\"/>\n",
       "   </g>\n",
       "   <g id=\"line2d_261\">\n",
       "    <path clip-path=\"url(#p0b0046a7dc)\" d=\"M 239.959144 318.672656 \n",
       "L 239.959144 303.327656 \n",
       "\" style=\"fill:none;stroke:#4c72b0;stroke-linecap:round;\"/>\n",
       "   </g>\n",
       "   <g id=\"line2d_262\">\n",
       "    <path clip-path=\"url(#p0b0046a7dc)\" d=\"M 300.323205 318.672656 \n",
       "L 300.323205 303.327656 \n",
       "\" style=\"fill:none;stroke:#4c72b0;stroke-linecap:round;\"/>\n",
       "   </g>\n",
       "   <g id=\"line2d_263\">\n",
       "    <path clip-path=\"url(#p0b0046a7dc)\" d=\"M 172.152712 318.672656 \n",
       "L 172.152712 303.327656 \n",
       "\" style=\"fill:none;stroke:#4c72b0;stroke-linecap:round;\"/>\n",
       "   </g>\n",
       "   <g id=\"line2d_264\">\n",
       "    <path clip-path=\"url(#p0b0046a7dc)\" d=\"M 225.046629 318.672656 \n",
       "L 225.046629 303.327656 \n",
       "\" style=\"fill:none;stroke:#4c72b0;stroke-linecap:round;\"/>\n",
       "   </g>\n",
       "   <g id=\"line2d_265\">\n",
       "    <path clip-path=\"url(#p0b0046a7dc)\" d=\"M 268.254228 318.672656 \n",
       "L 268.254228 303.327656 \n",
       "\" style=\"fill:none;stroke:#4c72b0;stroke-linecap:round;\"/>\n",
       "   </g>\n",
       "   <g id=\"line2d_266\">\n",
       "    <path clip-path=\"url(#p0b0046a7dc)\" d=\"M 197.835531 318.672656 \n",
       "L 197.835531 303.327656 \n",
       "\" style=\"fill:none;stroke:#4c72b0;stroke-linecap:round;\"/>\n",
       "   </g>\n",
       "   <g id=\"line2d_267\">\n",
       "    <path clip-path=\"url(#p0b0046a7dc)\" d=\"M 269.320072 318.672656 \n",
       "L 269.320072 303.327656 \n",
       "\" style=\"fill:none;stroke:#4c72b0;stroke-linecap:round;\"/>\n",
       "   </g>\n",
       "   <g id=\"line2d_268\">\n",
       "    <path clip-path=\"url(#p0b0046a7dc)\" d=\"M 292.13968 318.672656 \n",
       "L 292.13968 303.327656 \n",
       "\" style=\"fill:none;stroke:#4c72b0;stroke-linecap:round;\"/>\n",
       "   </g>\n",
       "   <g id=\"line2d_269\">\n",
       "    <path clip-path=\"url(#p0b0046a7dc)\" d=\"M 306.37549 318.672656 \n",
       "L 306.37549 303.327656 \n",
       "\" style=\"fill:none;stroke:#4c72b0;stroke-linecap:round;\"/>\n",
       "   </g>\n",
       "   <g id=\"line2d_270\">\n",
       "    <path clip-path=\"url(#p0b0046a7dc)\" d=\"M 279.497476 318.672656 \n",
       "L 279.497476 303.327656 \n",
       "\" style=\"fill:none;stroke:#4c72b0;stroke-linecap:round;\"/>\n",
       "   </g>\n",
       "   <g id=\"line2d_271\">\n",
       "    <path clip-path=\"url(#p0b0046a7dc)\" d=\"M 205.832944 318.672656 \n",
       "L 205.832944 303.327656 \n",
       "\" style=\"fill:none;stroke:#4c72b0;stroke-linecap:round;\"/>\n",
       "   </g>\n",
       "   <g id=\"line2d_272\">\n",
       "    <path clip-path=\"url(#p0b0046a7dc)\" d=\"M 339.174423 318.672656 \n",
       "L 339.174423 303.327656 \n",
       "\" style=\"fill:none;stroke:#4c72b0;stroke-linecap:round;\"/>\n",
       "   </g>\n",
       "   <g id=\"line2d_273\">\n",
       "    <path clip-path=\"url(#p0b0046a7dc)\" d=\"M 240.75371 318.672656 \n",
       "L 240.75371 303.327656 \n",
       "\" style=\"fill:none;stroke:#4c72b0;stroke-linecap:round;\"/>\n",
       "   </g>\n",
       "   <g id=\"line2d_274\">\n",
       "    <path clip-path=\"url(#p0b0046a7dc)\" d=\"M 269.8548 318.672656 \n",
       "L 269.8548 303.327656 \n",
       "\" style=\"fill:none;stroke:#4c72b0;stroke-linecap:round;\"/>\n",
       "   </g>\n",
       "   <g id=\"line2d_275\">\n",
       "    <path clip-path=\"url(#p0b0046a7dc)\" d=\"M 258.35685 318.672656 \n",
       "L 258.35685 303.327656 \n",
       "\" style=\"fill:none;stroke:#4c72b0;stroke-linecap:round;\"/>\n",
       "   </g>\n",
       "   <g id=\"line2d_276\">\n",
       "    <path clip-path=\"url(#p0b0046a7dc)\" d=\"M 317.645601 318.672656 \n",
       "L 317.645601 303.327656 \n",
       "\" style=\"fill:none;stroke:#4c72b0;stroke-linecap:round;\"/>\n",
       "   </g>\n",
       "   <g id=\"line2d_277\">\n",
       "    <path clip-path=\"url(#p0b0046a7dc)\" d=\"M 301.539644 318.672656 \n",
       "L 301.539644 303.327656 \n",
       "\" style=\"fill:none;stroke:#4c72b0;stroke-linecap:round;\"/>\n",
       "   </g>\n",
       "   <g id=\"line2d_278\">\n",
       "    <path clip-path=\"url(#p0b0046a7dc)\" d=\"M 261.70447 318.672656 \n",
       "L 261.70447 303.327656 \n",
       "\" style=\"fill:none;stroke:#4c72b0;stroke-linecap:round;\"/>\n",
       "   </g>\n",
       "   <g id=\"line2d_279\">\n",
       "    <path clip-path=\"url(#p0b0046a7dc)\" d=\"M 227.169589 318.672656 \n",
       "L 227.169589 303.327656 \n",
       "\" style=\"fill:none;stroke:#4c72b0;stroke-linecap:round;\"/>\n",
       "   </g>\n",
       "   <g id=\"line2d_280\">\n",
       "    <path clip-path=\"url(#p0b0046a7dc)\" d=\"M 269.719181 318.672656 \n",
       "L 269.719181 303.327656 \n",
       "\" style=\"fill:none;stroke:#4c72b0;stroke-linecap:round;\"/>\n",
       "   </g>\n",
       "   <g id=\"line2d_281\">\n",
       "    <path clip-path=\"url(#p0b0046a7dc)\" d=\"M 304.43443 318.672656 \n",
       "L 304.43443 303.327656 \n",
       "\" style=\"fill:none;stroke:#4c72b0;stroke-linecap:round;\"/>\n",
       "   </g>\n",
       "   <g id=\"line2d_282\">\n",
       "    <path clip-path=\"url(#p0b0046a7dc)\" d=\"M 201.087735 318.672656 \n",
       "L 201.087735 303.327656 \n",
       "\" style=\"fill:none;stroke:#4c72b0;stroke-linecap:round;\"/>\n",
       "   </g>\n",
       "   <g id=\"line2d_283\">\n",
       "    <path clip-path=\"url(#p0b0046a7dc)\" d=\"M 243.237382 318.672656 \n",
       "L 243.237382 303.327656 \n",
       "\" style=\"fill:none;stroke:#4c72b0;stroke-linecap:round;\"/>\n",
       "   </g>\n",
       "   <g id=\"line2d_284\">\n",
       "    <path clip-path=\"url(#p0b0046a7dc)\" d=\"M 233.639057 318.672656 \n",
       "L 233.639057 303.327656 \n",
       "\" style=\"fill:none;stroke:#4c72b0;stroke-linecap:round;\"/>\n",
       "   </g>\n",
       "   <g id=\"line2d_285\">\n",
       "    <path clip-path=\"url(#p0b0046a7dc)\" d=\"M 307.006488 318.672656 \n",
       "L 307.006488 303.327656 \n",
       "\" style=\"fill:none;stroke:#4c72b0;stroke-linecap:round;\"/>\n",
       "   </g>\n",
       "   <g id=\"line2d_286\">\n",
       "    <path clip-path=\"url(#p0b0046a7dc)\" d=\"M 199.80965 318.672656 \n",
       "L 199.80965 303.327656 \n",
       "\" style=\"fill:none;stroke:#4c72b0;stroke-linecap:round;\"/>\n",
       "   </g>\n",
       "   <g id=\"line2d_287\">\n",
       "    <path clip-path=\"url(#p0b0046a7dc)\" d=\"M 248.504018 318.672656 \n",
       "L 248.504018 303.327656 \n",
       "\" style=\"fill:none;stroke:#4c72b0;stroke-linecap:round;\"/>\n",
       "   </g>\n",
       "   <g id=\"line2d_288\">\n",
       "    <path clip-path=\"url(#p0b0046a7dc)\" d=\"M 232.689373 318.672656 \n",
       "L 232.689373 303.327656 \n",
       "\" style=\"fill:none;stroke:#4c72b0;stroke-linecap:round;\"/>\n",
       "   </g>\n",
       "   <g id=\"line2d_289\">\n",
       "    <path clip-path=\"url(#p0b0046a7dc)\" d=\"M 215.151434 318.672656 \n",
       "L 215.151434 303.327656 \n",
       "\" style=\"fill:none;stroke:#4c72b0;stroke-linecap:round;\"/>\n",
       "   </g>\n",
       "   <g id=\"line2d_290\">\n",
       "    <path clip-path=\"url(#p0b0046a7dc)\" d=\"M 249.664085 318.672656 \n",
       "L 249.664085 303.327656 \n",
       "\" style=\"fill:none;stroke:#4c72b0;stroke-linecap:round;\"/>\n",
       "   </g>\n",
       "   <g id=\"line2d_291\">\n",
       "    <path clip-path=\"url(#p0b0046a7dc)\" d=\"M 357.975776 318.672656 \n",
       "L 357.975776 303.327656 \n",
       "\" style=\"fill:none;stroke:#4c72b0;stroke-linecap:round;\"/>\n",
       "   </g>\n",
       "   <g id=\"line2d_292\">\n",
       "    <path clip-path=\"url(#p0b0046a7dc)\" d=\"M 122.937783 318.672656 \n",
       "L 122.937783 303.327656 \n",
       "\" style=\"fill:none;stroke:#4c72b0;stroke-linecap:round;\"/>\n",
       "   </g>\n",
       "   <g id=\"line2d_293\">\n",
       "    <path clip-path=\"url(#p0b0046a7dc)\" d=\"M 248.613918 318.672656 \n",
       "L 248.613918 303.327656 \n",
       "\" style=\"fill:none;stroke:#4c72b0;stroke-linecap:round;\"/>\n",
       "   </g>\n",
       "   <g id=\"line2d_294\">\n",
       "    <path clip-path=\"url(#p0b0046a7dc)\" d=\"M 272.348267 318.672656 \n",
       "L 272.348267 303.327656 \n",
       "\" style=\"fill:none;stroke:#4c72b0;stroke-linecap:round;\"/>\n",
       "   </g>\n",
       "   <g id=\"line2d_295\">\n",
       "    <path clip-path=\"url(#p0b0046a7dc)\" d=\"M 278.766151 318.672656 \n",
       "L 278.766151 303.327656 \n",
       "\" style=\"fill:none;stroke:#4c72b0;stroke-linecap:round;\"/>\n",
       "   </g>\n",
       "   <g id=\"line2d_296\">\n",
       "    <path clip-path=\"url(#p0b0046a7dc)\" d=\"M 201.528202 318.672656 \n",
       "L 201.528202 303.327656 \n",
       "\" style=\"fill:none;stroke:#4c72b0;stroke-linecap:round;\"/>\n",
       "   </g>\n",
       "   <g id=\"line2d_297\">\n",
       "    <path clip-path=\"url(#p0b0046a7dc)\" d=\"M 278.280197 318.672656 \n",
       "L 278.280197 303.327656 \n",
       "\" style=\"fill:none;stroke:#4c72b0;stroke-linecap:round;\"/>\n",
       "   </g>\n",
       "   <g id=\"line2d_298\">\n",
       "    <path clip-path=\"url(#p0b0046a7dc)\" d=\"M 182.936775 318.672656 \n",
       "L 182.936775 303.327656 \n",
       "\" style=\"fill:none;stroke:#4c72b0;stroke-linecap:round;\"/>\n",
       "   </g>\n",
       "   <g id=\"line2d_299\">\n",
       "    <path clip-path=\"url(#p0b0046a7dc)\" d=\"M 372.922037 318.672656 \n",
       "L 372.922037 303.327656 \n",
       "\" style=\"fill:none;stroke:#4c72b0;stroke-linecap:round;\"/>\n",
       "   </g>\n",
       "   <g id=\"line2d_300\">\n",
       "    <path clip-path=\"url(#p0b0046a7dc)\" d=\"M 213.417022 318.672656 \n",
       "L 213.417022 303.327656 \n",
       "\" style=\"fill:none;stroke:#4c72b0;stroke-linecap:round;\"/>\n",
       "   </g>\n",
       "   <g id=\"line2d_301\">\n",
       "    <path clip-path=\"url(#p0b0046a7dc)\" d=\"M 262.946638 318.672656 \n",
       "L 262.946638 303.327656 \n",
       "\" style=\"fill:none;stroke:#4c72b0;stroke-linecap:round;\"/>\n",
       "   </g>\n",
       "   <g id=\"line2d_302\">\n",
       "    <path clip-path=\"url(#p0b0046a7dc)\" d=\"M 207.18129 318.672656 \n",
       "L 207.18129 303.327656 \n",
       "\" style=\"fill:none;stroke:#4c72b0;stroke-linecap:round;\"/>\n",
       "   </g>\n",
       "   <g id=\"line2d_303\">\n",
       "    <path clip-path=\"url(#p0b0046a7dc)\" d=\"M 167.6153 318.672656 \n",
       "L 167.6153 303.327656 \n",
       "\" style=\"fill:none;stroke:#4c72b0;stroke-linecap:round;\"/>\n",
       "   </g>\n",
       "   <g id=\"line2d_304\">\n",
       "    <path clip-path=\"url(#p0b0046a7dc)\" d=\"M 233.829174 318.672656 \n",
       "L 233.829174 303.327656 \n",
       "\" style=\"fill:none;stroke:#4c72b0;stroke-linecap:round;\"/>\n",
       "   </g>\n",
       "   <g id=\"line2d_305\">\n",
       "    <path clip-path=\"url(#p0b0046a7dc)\" d=\"M 227.97855 318.672656 \n",
       "L 227.97855 303.327656 \n",
       "\" style=\"fill:none;stroke:#4c72b0;stroke-linecap:round;\"/>\n",
       "   </g>\n",
       "   <g id=\"line2d_306\">\n",
       "    <path clip-path=\"url(#p0b0046a7dc)\" d=\"M 221.189595 318.672656 \n",
       "L 221.189595 303.327656 \n",
       "\" style=\"fill:none;stroke:#4c72b0;stroke-linecap:round;\"/>\n",
       "   </g>\n",
       "   <g id=\"line2d_307\">\n",
       "    <path clip-path=\"url(#p0b0046a7dc)\" d=\"M 260.250689 318.672656 \n",
       "L 260.250689 303.327656 \n",
       "\" style=\"fill:none;stroke:#4c72b0;stroke-linecap:round;\"/>\n",
       "   </g>\n",
       "   <g id=\"line2d_308\">\n",
       "    <path clip-path=\"url(#p0b0046a7dc)\" d=\"M 191.096019 318.672656 \n",
       "L 191.096019 303.327656 \n",
       "\" style=\"fill:none;stroke:#4c72b0;stroke-linecap:round;\"/>\n",
       "   </g>\n",
       "   <g id=\"line2d_309\">\n",
       "    <path clip-path=\"url(#p0b0046a7dc)\" d=\"M 210.220718 318.672656 \n",
       "L 210.220718 303.327656 \n",
       "\" style=\"fill:none;stroke:#4c72b0;stroke-linecap:round;\"/>\n",
       "   </g>\n",
       "   <g id=\"line2d_310\">\n",
       "    <path clip-path=\"url(#p0b0046a7dc)\" d=\"M 351.847363 318.672656 \n",
       "L 351.847363 303.327656 \n",
       "\" style=\"fill:none;stroke:#4c72b0;stroke-linecap:round;\"/>\n",
       "   </g>\n",
       "   <g id=\"line2d_311\">\n",
       "    <path clip-path=\"url(#p0b0046a7dc)\" d=\"M 212.092223 318.672656 \n",
       "L 212.092223 303.327656 \n",
       "\" style=\"fill:none;stroke:#4c72b0;stroke-linecap:round;\"/>\n",
       "   </g>\n",
       "   <g id=\"line2d_312\">\n",
       "    <path clip-path=\"url(#p0b0046a7dc)\" d=\"M 205.3488 318.672656 \n",
       "L 205.3488 303.327656 \n",
       "\" style=\"fill:none;stroke:#4c72b0;stroke-linecap:round;\"/>\n",
       "   </g>\n",
       "   <g id=\"line2d_313\">\n",
       "    <path clip-path=\"url(#p0b0046a7dc)\" d=\"M 330.713843 318.672656 \n",
       "L 330.713843 303.327656 \n",
       "\" style=\"fill:none;stroke:#4c72b0;stroke-linecap:round;\"/>\n",
       "   </g>\n",
       "   <g id=\"line2d_314\">\n",
       "    <path clip-path=\"url(#p0b0046a7dc)\" d=\"M 308.685398 318.672656 \n",
       "L 308.685398 303.327656 \n",
       "\" style=\"fill:none;stroke:#4c72b0;stroke-linecap:round;\"/>\n",
       "   </g>\n",
       "   <g id=\"line2d_315\">\n",
       "    <path clip-path=\"url(#p0b0046a7dc)\" d=\"M 172.147188 318.672656 \n",
       "L 172.147188 303.327656 \n",
       "\" style=\"fill:none;stroke:#4c72b0;stroke-linecap:round;\"/>\n",
       "   </g>\n",
       "   <g id=\"line2d_316\">\n",
       "    <path clip-path=\"url(#p0b0046a7dc)\" d=\"M 230.865413 318.672656 \n",
       "L 230.865413 303.327656 \n",
       "\" style=\"fill:none;stroke:#4c72b0;stroke-linecap:round;\"/>\n",
       "   </g>\n",
       "   <g id=\"line2d_317\">\n",
       "    <path clip-path=\"url(#p0b0046a7dc)\" d=\"M 354.292443 318.672656 \n",
       "L 354.292443 303.327656 \n",
       "\" style=\"fill:none;stroke:#4c72b0;stroke-linecap:round;\"/>\n",
       "   </g>\n",
       "   <g id=\"line2d_318\">\n",
       "    <path clip-path=\"url(#p0b0046a7dc)\" d=\"M 271.756837 318.672656 \n",
       "L 271.756837 303.327656 \n",
       "\" style=\"fill:none;stroke:#4c72b0;stroke-linecap:round;\"/>\n",
       "   </g>\n",
       "   <g id=\"line2d_319\">\n",
       "    <path clip-path=\"url(#p0b0046a7dc)\" d=\"M 233.530115 318.672656 \n",
       "L 233.530115 303.327656 \n",
       "\" style=\"fill:none;stroke:#4c72b0;stroke-linecap:round;\"/>\n",
       "   </g>\n",
       "   <g id=\"line2d_320\">\n",
       "    <path clip-path=\"url(#p0b0046a7dc)\" d=\"M 177.165563 318.672656 \n",
       "L 177.165563 303.327656 \n",
       "\" style=\"fill:none;stroke:#4c72b0;stroke-linecap:round;\"/>\n",
       "   </g>\n",
       "   <g id=\"line2d_321\">\n",
       "    <path clip-path=\"url(#p0b0046a7dc)\" d=\"M 155.381343 318.672656 \n",
       "L 155.381343 303.327656 \n",
       "\" style=\"fill:none;stroke:#4c72b0;stroke-linecap:round;\"/>\n",
       "   </g>\n",
       "   <g id=\"line2d_322\">\n",
       "    <path clip-path=\"url(#p0b0046a7dc)\" d=\"M 275.570649 318.672656 \n",
       "L 275.570649 303.327656 \n",
       "\" style=\"fill:none;stroke:#4c72b0;stroke-linecap:round;\"/>\n",
       "   </g>\n",
       "   <g id=\"line2d_323\">\n",
       "    <path clip-path=\"url(#p0b0046a7dc)\" d=\"M 214.310996 318.672656 \n",
       "L 214.310996 303.327656 \n",
       "\" style=\"fill:none;stroke:#4c72b0;stroke-linecap:round;\"/>\n",
       "   </g>\n",
       "   <g id=\"line2d_324\">\n",
       "    <path clip-path=\"url(#p0b0046a7dc)\" d=\"M 151.722777 318.672656 \n",
       "L 151.722777 303.327656 \n",
       "\" style=\"fill:none;stroke:#4c72b0;stroke-linecap:round;\"/>\n",
       "   </g>\n",
       "   <g id=\"line2d_325\">\n",
       "    <path clip-path=\"url(#p0b0046a7dc)\" d=\"M 128.138728 318.672656 \n",
       "L 128.138728 303.327656 \n",
       "\" style=\"fill:none;stroke:#4c72b0;stroke-linecap:round;\"/>\n",
       "   </g>\n",
       "   <g id=\"line2d_326\">\n",
       "    <path clip-path=\"url(#p0b0046a7dc)\" d=\"M 204.47114 318.672656 \n",
       "L 204.47114 303.327656 \n",
       "\" style=\"fill:none;stroke:#4c72b0;stroke-linecap:round;\"/>\n",
       "   </g>\n",
       "   <g id=\"line2d_327\">\n",
       "    <path clip-path=\"url(#p0b0046a7dc)\" d=\"M 121.252663 318.672656 \n",
       "L 121.252663 303.327656 \n",
       "\" style=\"fill:none;stroke:#4c72b0;stroke-linecap:round;\"/>\n",
       "   </g>\n",
       "   <g id=\"line2d_328\">\n",
       "    <path clip-path=\"url(#p0b0046a7dc)\" d=\"M 248.92283 318.672656 \n",
       "L 248.92283 303.327656 \n",
       "\" style=\"fill:none;stroke:#4c72b0;stroke-linecap:round;\"/>\n",
       "   </g>\n",
       "   <g id=\"line2d_329\">\n",
       "    <path clip-path=\"url(#p0b0046a7dc)\" d=\"M 328.618955 318.672656 \n",
       "L 328.618955 303.327656 \n",
       "\" style=\"fill:none;stroke:#4c72b0;stroke-linecap:round;\"/>\n",
       "   </g>\n",
       "   <g id=\"line2d_330\">\n",
       "    <path clip-path=\"url(#p0b0046a7dc)\" d=\"M 381.147245 318.672656 \n",
       "L 381.147245 303.327656 \n",
       "\" style=\"fill:none;stroke:#4c72b0;stroke-linecap:round;\"/>\n",
       "   </g>\n",
       "   <g id=\"line2d_331\">\n",
       "    <path clip-path=\"url(#p0b0046a7dc)\" d=\"M 264.342332 318.672656 \n",
       "L 264.342332 303.327656 \n",
       "\" style=\"fill:none;stroke:#4c72b0;stroke-linecap:round;\"/>\n",
       "   </g>\n",
       "   <g id=\"line2d_332\">\n",
       "    <path clip-path=\"url(#p0b0046a7dc)\" d=\"M 237.81138 318.672656 \n",
       "L 237.81138 303.327656 \n",
       "\" style=\"fill:none;stroke:#4c72b0;stroke-linecap:round;\"/>\n",
       "   </g>\n",
       "   <g id=\"line2d_333\">\n",
       "    <path clip-path=\"url(#p0b0046a7dc)\" d=\"M 294.175545 318.672656 \n",
       "L 294.175545 303.327656 \n",
       "\" style=\"fill:none;stroke:#4c72b0;stroke-linecap:round;\"/>\n",
       "   </g>\n",
       "   <g id=\"line2d_334\">\n",
       "    <path clip-path=\"url(#p0b0046a7dc)\" d=\"M 410.412963 318.672656 \n",
       "L 410.412963 303.327656 \n",
       "\" style=\"fill:none;stroke:#4c72b0;stroke-linecap:round;\"/>\n",
       "   </g>\n",
       "   <g id=\"line2d_335\">\n",
       "    <path clip-path=\"url(#p0b0046a7dc)\" d=\"M 297.636332 318.672656 \n",
       "L 297.636332 303.327656 \n",
       "\" style=\"fill:none;stroke:#4c72b0;stroke-linecap:round;\"/>\n",
       "   </g>\n",
       "   <g id=\"line2d_336\">\n",
       "    <path clip-path=\"url(#p0b0046a7dc)\" d=\"M 295.2523 318.672656 \n",
       "L 295.2523 303.327656 \n",
       "\" style=\"fill:none;stroke:#4c72b0;stroke-linecap:round;\"/>\n",
       "   </g>\n",
       "   <g id=\"line2d_337\">\n",
       "    <path clip-path=\"url(#p0b0046a7dc)\" d=\"M 223.133052 318.672656 \n",
       "L 223.133052 303.327656 \n",
       "\" style=\"fill:none;stroke:#4c72b0;stroke-linecap:round;\"/>\n",
       "   </g>\n",
       "   <g id=\"line2d_338\">\n",
       "    <path clip-path=\"url(#p0b0046a7dc)\" d=\"M 226.559997 318.672656 \n",
       "L 226.559997 303.327656 \n",
       "\" style=\"fill:none;stroke:#4c72b0;stroke-linecap:round;\"/>\n",
       "   </g>\n",
       "   <g id=\"line2d_339\">\n",
       "    <path clip-path=\"url(#p0b0046a7dc)\" d=\"M 185.864173 318.672656 \n",
       "L 185.864173 303.327656 \n",
       "\" style=\"fill:none;stroke:#4c72b0;stroke-linecap:round;\"/>\n",
       "   </g>\n",
       "   <g id=\"line2d_340\">\n",
       "    <path clip-path=\"url(#p0b0046a7dc)\" d=\"M 323.858366 318.672656 \n",
       "L 323.858366 303.327656 \n",
       "\" style=\"fill:none;stroke:#4c72b0;stroke-linecap:round;\"/>\n",
       "   </g>\n",
       "   <g id=\"line2d_341\">\n",
       "    <path clip-path=\"url(#p0b0046a7dc)\" d=\"M 223.909057 318.672656 \n",
       "L 223.909057 303.327656 \n",
       "\" style=\"fill:none;stroke:#4c72b0;stroke-linecap:round;\"/>\n",
       "   </g>\n",
       "   <g id=\"line2d_342\">\n",
       "    <path clip-path=\"url(#p0b0046a7dc)\" d=\"M 253.590442 318.672656 \n",
       "L 253.590442 303.327656 \n",
       "\" style=\"fill:none;stroke:#4c72b0;stroke-linecap:round;\"/>\n",
       "   </g>\n",
       "   <g id=\"line2d_343\">\n",
       "    <path clip-path=\"url(#p0b0046a7dc)\" d=\"M 293.100957 318.672656 \n",
       "L 293.100957 303.327656 \n",
       "\" style=\"fill:none;stroke:#4c72b0;stroke-linecap:round;\"/>\n",
       "   </g>\n",
       "   <g id=\"line2d_344\">\n",
       "    <path clip-path=\"url(#p0b0046a7dc)\" d=\"M 250.540465 318.672656 \n",
       "L 250.540465 303.327656 \n",
       "\" style=\"fill:none;stroke:#4c72b0;stroke-linecap:round;\"/>\n",
       "   </g>\n",
       "   <g id=\"line2d_345\">\n",
       "    <path clip-path=\"url(#p0b0046a7dc)\" d=\"M 309.551356 318.672656 \n",
       "L 309.551356 303.327656 \n",
       "\" style=\"fill:none;stroke:#4c72b0;stroke-linecap:round;\"/>\n",
       "   </g>\n",
       "   <g id=\"line2d_346\">\n",
       "    <path clip-path=\"url(#p0b0046a7dc)\" d=\"M 287.819506 318.672656 \n",
       "L 287.819506 303.327656 \n",
       "\" style=\"fill:none;stroke:#4c72b0;stroke-linecap:round;\"/>\n",
       "   </g>\n",
       "   <g id=\"line2d_347\">\n",
       "    <path clip-path=\"url(#p0b0046a7dc)\" d=\"M 324.216733 318.672656 \n",
       "L 324.216733 303.327656 \n",
       "\" style=\"fill:none;stroke:#4c72b0;stroke-linecap:round;\"/>\n",
       "   </g>\n",
       "   <g id=\"line2d_348\">\n",
       "    <path clip-path=\"url(#p0b0046a7dc)\" d=\"M 357.785494 318.672656 \n",
       "L 357.785494 303.327656 \n",
       "\" style=\"fill:none;stroke:#4c72b0;stroke-linecap:round;\"/>\n",
       "   </g>\n",
       "   <g id=\"line2d_349\">\n",
       "    <path clip-path=\"url(#p0b0046a7dc)\" d=\"M 256.2648 318.672656 \n",
       "L 256.2648 303.327656 \n",
       "\" style=\"fill:none;stroke:#4c72b0;stroke-linecap:round;\"/>\n",
       "   </g>\n",
       "   <g id=\"line2d_350\">\n",
       "    <path clip-path=\"url(#p0b0046a7dc)\" d=\"M 284.14957 318.672656 \n",
       "L 284.14957 303.327656 \n",
       "\" style=\"fill:none;stroke:#4c72b0;stroke-linecap:round;\"/>\n",
       "   </g>\n",
       "   <g id=\"line2d_351\">\n",
       "    <path clip-path=\"url(#p0b0046a7dc)\" d=\"M 220.161501 318.672656 \n",
       "L 220.161501 303.327656 \n",
       "\" style=\"fill:none;stroke:#4c72b0;stroke-linecap:round;\"/>\n",
       "   </g>\n",
       "   <g id=\"line2d_352\">\n",
       "    <path clip-path=\"url(#p0b0046a7dc)\" d=\"M 296.527182 318.672656 \n",
       "L 296.527182 303.327656 \n",
       "\" style=\"fill:none;stroke:#4c72b0;stroke-linecap:round;\"/>\n",
       "   </g>\n",
       "   <g id=\"line2d_353\">\n",
       "    <path clip-path=\"url(#p0b0046a7dc)\" d=\"M 228.240755 318.672656 \n",
       "L 228.240755 303.327656 \n",
       "\" style=\"fill:none;stroke:#4c72b0;stroke-linecap:round;\"/>\n",
       "   </g>\n",
       "   <g id=\"line2d_354\">\n",
       "    <path clip-path=\"url(#p0b0046a7dc)\" d=\"M 142.069157 318.672656 \n",
       "L 142.069157 303.327656 \n",
       "\" style=\"fill:none;stroke:#4c72b0;stroke-linecap:round;\"/>\n",
       "   </g>\n",
       "   <g id=\"line2d_355\">\n",
       "    <path clip-path=\"url(#p0b0046a7dc)\" d=\"M 269.043522 318.672656 \n",
       "L 269.043522 303.327656 \n",
       "\" style=\"fill:none;stroke:#4c72b0;stroke-linecap:round;\"/>\n",
       "   </g>\n",
       "   <g id=\"line2d_356\">\n",
       "    <path clip-path=\"url(#p0b0046a7dc)\" d=\"M 308.075115 318.672656 \n",
       "L 308.075115 303.327656 \n",
       "\" style=\"fill:none;stroke:#4c72b0;stroke-linecap:round;\"/>\n",
       "   </g>\n",
       "   <g id=\"line2d_357\">\n",
       "    <path clip-path=\"url(#p0b0046a7dc)\" d=\"M 186.653235 318.672656 \n",
       "L 186.653235 303.327656 \n",
       "\" style=\"fill:none;stroke:#4c72b0;stroke-linecap:round;\"/>\n",
       "   </g>\n",
       "   <g id=\"line2d_358\">\n",
       "    <path clip-path=\"url(#p0b0046a7dc)\" d=\"M 343.886092 318.672656 \n",
       "L 343.886092 303.327656 \n",
       "\" style=\"fill:none;stroke:#4c72b0;stroke-linecap:round;\"/>\n",
       "   </g>\n",
       "   <g id=\"line2d_359\">\n",
       "    <path clip-path=\"url(#p0b0046a7dc)\" d=\"M 203.547225 318.672656 \n",
       "L 203.547225 303.327656 \n",
       "\" style=\"fill:none;stroke:#4c72b0;stroke-linecap:round;\"/>\n",
       "   </g>\n",
       "   <g id=\"line2d_360\">\n",
       "    <path clip-path=\"url(#p0b0046a7dc)\" d=\"M 351.173477 318.672656 \n",
       "L 351.173477 303.327656 \n",
       "\" style=\"fill:none;stroke:#4c72b0;stroke-linecap:round;\"/>\n",
       "   </g>\n",
       "   <g id=\"line2d_361\">\n",
       "    <path clip-path=\"url(#p0b0046a7dc)\" d=\"M 299.56195 318.672656 \n",
       "L 299.56195 303.327656 \n",
       "\" style=\"fill:none;stroke:#4c72b0;stroke-linecap:round;\"/>\n",
       "   </g>\n",
       "   <g id=\"line2d_362\">\n",
       "    <path clip-path=\"url(#p0b0046a7dc)\" d=\"M 385.726059 318.672656 \n",
       "L 385.726059 303.327656 \n",
       "\" style=\"fill:none;stroke:#4c72b0;stroke-linecap:round;\"/>\n",
       "   </g>\n",
       "   <g id=\"line2d_363\">\n",
       "    <path clip-path=\"url(#p0b0046a7dc)\" d=\"M 227.057927 318.672656 \n",
       "L 227.057927 303.327656 \n",
       "\" style=\"fill:none;stroke:#4c72b0;stroke-linecap:round;\"/>\n",
       "   </g>\n",
       "   <g id=\"line2d_364\">\n",
       "    <path clip-path=\"url(#p0b0046a7dc)\" d=\"M 243.112145 318.672656 \n",
       "L 243.112145 303.327656 \n",
       "\" style=\"fill:none;stroke:#4c72b0;stroke-linecap:round;\"/>\n",
       "   </g>\n",
       "   <g id=\"line2d_365\">\n",
       "    <path clip-path=\"url(#p0b0046a7dc)\" d=\"M 267.981753 318.672656 \n",
       "L 267.981753 303.327656 \n",
       "\" style=\"fill:none;stroke:#4c72b0;stroke-linecap:round;\"/>\n",
       "   </g>\n",
       "   <g id=\"line2d_366\">\n",
       "    <path clip-path=\"url(#p0b0046a7dc)\" d=\"M 200.831086 318.672656 \n",
       "L 200.831086 303.327656 \n",
       "\" style=\"fill:none;stroke:#4c72b0;stroke-linecap:round;\"/>\n",
       "   </g>\n",
       "   <g id=\"line2d_367\">\n",
       "    <path clip-path=\"url(#p0b0046a7dc)\" d=\"M 252.10373 318.672656 \n",
       "L 252.10373 303.327656 \n",
       "\" style=\"fill:none;stroke:#4c72b0;stroke-linecap:round;\"/>\n",
       "   </g>\n",
       "   <g id=\"line2d_368\">\n",
       "    <path clip-path=\"url(#p0b0046a7dc)\" d=\"M 213.601333 318.672656 \n",
       "L 213.601333 303.327656 \n",
       "\" style=\"fill:none;stroke:#4c72b0;stroke-linecap:round;\"/>\n",
       "   </g>\n",
       "   <g id=\"line2d_369\">\n",
       "    <path clip-path=\"url(#p0b0046a7dc)\" d=\"M 267.094768 318.672656 \n",
       "L 267.094768 303.327656 \n",
       "\" style=\"fill:none;stroke:#4c72b0;stroke-linecap:round;\"/>\n",
       "   </g>\n",
       "   <g id=\"line2d_370\">\n",
       "    <path clip-path=\"url(#p0b0046a7dc)\" d=\"M 306.279713 318.672656 \n",
       "L 306.279713 303.327656 \n",
       "\" style=\"fill:none;stroke:#4c72b0;stroke-linecap:round;\"/>\n",
       "   </g>\n",
       "   <g id=\"line2d_371\">\n",
       "    <path clip-path=\"url(#p0b0046a7dc)\" d=\"M 287.375322 318.672656 \n",
       "L 287.375322 303.327656 \n",
       "\" style=\"fill:none;stroke:#4c72b0;stroke-linecap:round;\"/>\n",
       "   </g>\n",
       "   <g id=\"line2d_372\">\n",
       "    <path clip-path=\"url(#p0b0046a7dc)\" d=\"M 267.382995 318.672656 \n",
       "L 267.382995 303.327656 \n",
       "\" style=\"fill:none;stroke:#4c72b0;stroke-linecap:round;\"/>\n",
       "   </g>\n",
       "   <g id=\"line2d_373\">\n",
       "    <path clip-path=\"url(#p0b0046a7dc)\" d=\"M 283.197487 318.672656 \n",
       "L 283.197487 303.327656 \n",
       "\" style=\"fill:none;stroke:#4c72b0;stroke-linecap:round;\"/>\n",
       "   </g>\n",
       "   <g id=\"line2d_374\">\n",
       "    <path clip-path=\"url(#p0b0046a7dc)\" d=\"M 138.751715 318.672656 \n",
       "L 138.751715 303.327656 \n",
       "\" style=\"fill:none;stroke:#4c72b0;stroke-linecap:round;\"/>\n",
       "   </g>\n",
       "   <g id=\"line2d_375\">\n",
       "    <path clip-path=\"url(#p0b0046a7dc)\" d=\"M 232.051046 318.672656 \n",
       "L 232.051046 303.327656 \n",
       "\" style=\"fill:none;stroke:#4c72b0;stroke-linecap:round;\"/>\n",
       "   </g>\n",
       "   <g id=\"line2d_376\">\n",
       "    <path clip-path=\"url(#p0b0046a7dc)\" d=\"M 307.929292 318.672656 \n",
       "L 307.929292 303.327656 \n",
       "\" style=\"fill:none;stroke:#4c72b0;stroke-linecap:round;\"/>\n",
       "   </g>\n",
       "   <g id=\"line2d_377\">\n",
       "    <path clip-path=\"url(#p0b0046a7dc)\" d=\"M 206.078445 318.672656 \n",
       "L 206.078445 303.327656 \n",
       "\" style=\"fill:none;stroke:#4c72b0;stroke-linecap:round;\"/>\n",
       "   </g>\n",
       "   <g id=\"line2d_378\">\n",
       "    <path clip-path=\"url(#p0b0046a7dc)\" d=\"M 244.653449 318.672656 \n",
       "L 244.653449 303.327656 \n",
       "\" style=\"fill:none;stroke:#4c72b0;stroke-linecap:round;\"/>\n",
       "   </g>\n",
       "   <g id=\"line2d_379\">\n",
       "    <path clip-path=\"url(#p0b0046a7dc)\" d=\"M 208.402929 318.672656 \n",
       "L 208.402929 303.327656 \n",
       "\" style=\"fill:none;stroke:#4c72b0;stroke-linecap:round;\"/>\n",
       "   </g>\n",
       "   <g id=\"line2d_380\">\n",
       "    <path clip-path=\"url(#p0b0046a7dc)\" d=\"M 322.239856 318.672656 \n",
       "L 322.239856 303.327656 \n",
       "\" style=\"fill:none;stroke:#4c72b0;stroke-linecap:round;\"/>\n",
       "   </g>\n",
       "   <g id=\"line2d_381\">\n",
       "    <path clip-path=\"url(#p0b0046a7dc)\" d=\"M 334.276613 318.672656 \n",
       "L 334.276613 303.327656 \n",
       "\" style=\"fill:none;stroke:#4c72b0;stroke-linecap:round;\"/>\n",
       "   </g>\n",
       "   <g id=\"line2d_382\">\n",
       "    <path clip-path=\"url(#p0b0046a7dc)\" d=\"M 225.134457 318.672656 \n",
       "L 225.134457 303.327656 \n",
       "\" style=\"fill:none;stroke:#4c72b0;stroke-linecap:round;\"/>\n",
       "   </g>\n",
       "   <g id=\"line2d_383\">\n",
       "    <path clip-path=\"url(#p0b0046a7dc)\" d=\"M 204.473577 318.672656 \n",
       "L 204.473577 303.327656 \n",
       "\" style=\"fill:none;stroke:#4c72b0;stroke-linecap:round;\"/>\n",
       "   </g>\n",
       "   <g id=\"line2d_384\">\n",
       "    <path clip-path=\"url(#p0b0046a7dc)\" d=\"M 359.092687 318.672656 \n",
       "L 359.092687 303.327656 \n",
       "\" style=\"fill:none;stroke:#4c72b0;stroke-linecap:round;\"/>\n",
       "   </g>\n",
       "   <g id=\"line2d_385\">\n",
       "    <path clip-path=\"url(#p0b0046a7dc)\" d=\"M 250.522632 318.672656 \n",
       "L 250.522632 303.327656 \n",
       "\" style=\"fill:none;stroke:#4c72b0;stroke-linecap:round;\"/>\n",
       "   </g>\n",
       "   <g id=\"line2d_386\">\n",
       "    <path clip-path=\"url(#p0b0046a7dc)\" d=\"M 225.294616 318.672656 \n",
       "L 225.294616 303.327656 \n",
       "\" style=\"fill:none;stroke:#4c72b0;stroke-linecap:round;\"/>\n",
       "   </g>\n",
       "   <g id=\"line2d_387\">\n",
       "    <path clip-path=\"url(#p0b0046a7dc)\" d=\"M 344.528856 318.672656 \n",
       "L 344.528856 303.327656 \n",
       "\" style=\"fill:none;stroke:#4c72b0;stroke-linecap:round;\"/>\n",
       "   </g>\n",
       "   <g id=\"line2d_388\">\n",
       "    <path clip-path=\"url(#p0b0046a7dc)\" d=\"M 156.611967 318.672656 \n",
       "L 156.611967 303.327656 \n",
       "\" style=\"fill:none;stroke:#4c72b0;stroke-linecap:round;\"/>\n",
       "   </g>\n",
       "   <g id=\"line2d_389\">\n",
       "    <path clip-path=\"url(#p0b0046a7dc)\" d=\"M 263.19555 318.672656 \n",
       "L 263.19555 303.327656 \n",
       "\" style=\"fill:none;stroke:#4c72b0;stroke-linecap:round;\"/>\n",
       "   </g>\n",
       "   <g id=\"line2d_390\">\n",
       "    <path clip-path=\"url(#p0b0046a7dc)\" d=\"M 293.584366 318.672656 \n",
       "L 293.584366 303.327656 \n",
       "\" style=\"fill:none;stroke:#4c72b0;stroke-linecap:round;\"/>\n",
       "   </g>\n",
       "   <g id=\"line2d_391\">\n",
       "    <path clip-path=\"url(#p0b0046a7dc)\" d=\"M 242.167693 318.672656 \n",
       "L 242.167693 303.327656 \n",
       "\" style=\"fill:none;stroke:#4c72b0;stroke-linecap:round;\"/>\n",
       "   </g>\n",
       "   <g id=\"line2d_392\">\n",
       "    <path clip-path=\"url(#p0b0046a7dc)\" d=\"M 244.530352 318.672656 \n",
       "L 244.530352 303.327656 \n",
       "\" style=\"fill:none;stroke:#4c72b0;stroke-linecap:round;\"/>\n",
       "   </g>\n",
       "   <g id=\"line2d_393\">\n",
       "    <path clip-path=\"url(#p0b0046a7dc)\" d=\"M 204.761195 318.672656 \n",
       "L 204.761195 303.327656 \n",
       "\" style=\"fill:none;stroke:#4c72b0;stroke-linecap:round;\"/>\n",
       "   </g>\n",
       "   <g id=\"line2d_394\">\n",
       "    <path clip-path=\"url(#p0b0046a7dc)\" d=\"M 146.863445 318.672656 \n",
       "L 146.863445 303.327656 \n",
       "\" style=\"fill:none;stroke:#4c72b0;stroke-linecap:round;\"/>\n",
       "   </g>\n",
       "   <g id=\"line2d_395\">\n",
       "    <path clip-path=\"url(#p0b0046a7dc)\" d=\"M 259.370416 318.672656 \n",
       "L 259.370416 303.327656 \n",
       "\" style=\"fill:none;stroke:#4c72b0;stroke-linecap:round;\"/>\n",
       "   </g>\n",
       "   <g id=\"line2d_396\">\n",
       "    <path clip-path=\"url(#p0b0046a7dc)\" d=\"M 279.022769 318.672656 \n",
       "L 279.022769 303.327656 \n",
       "\" style=\"fill:none;stroke:#4c72b0;stroke-linecap:round;\"/>\n",
       "   </g>\n",
       "   <g id=\"line2d_397\">\n",
       "    <path clip-path=\"url(#p0b0046a7dc)\" d=\"M 290.236286 318.672656 \n",
       "L 290.236286 303.327656 \n",
       "\" style=\"fill:none;stroke:#4c72b0;stroke-linecap:round;\"/>\n",
       "   </g>\n",
       "   <g id=\"line2d_398\">\n",
       "    <path clip-path=\"url(#p0b0046a7dc)\" d=\"M 294.809465 318.672656 \n",
       "L 294.809465 303.327656 \n",
       "\" style=\"fill:none;stroke:#4c72b0;stroke-linecap:round;\"/>\n",
       "   </g>\n",
       "   <g id=\"line2d_399\">\n",
       "    <path clip-path=\"url(#p0b0046a7dc)\" d=\"M 216.758442 318.672656 \n",
       "L 216.758442 303.327656 \n",
       "\" style=\"fill:none;stroke:#4c72b0;stroke-linecap:round;\"/>\n",
       "   </g>\n",
       "   <g id=\"line2d_400\">\n",
       "    <path clip-path=\"url(#p0b0046a7dc)\" d=\"M 247.64273 318.672656 \n",
       "L 247.64273 303.327656 \n",
       "\" style=\"fill:none;stroke:#4c72b0;stroke-linecap:round;\"/>\n",
       "   </g>\n",
       "   <g id=\"line2d_401\">\n",
       "    <path clip-path=\"url(#p0b0046a7dc)\" d=\"M 235.128827 318.672656 \n",
       "L 235.128827 303.327656 \n",
       "\" style=\"fill:none;stroke:#4c72b0;stroke-linecap:round;\"/>\n",
       "   </g>\n",
       "   <g id=\"line2d_402\">\n",
       "    <path clip-path=\"url(#p0b0046a7dc)\" d=\"M 307.56279 318.672656 \n",
       "L 307.56279 303.327656 \n",
       "\" style=\"fill:none;stroke:#4c72b0;stroke-linecap:round;\"/>\n",
       "   </g>\n",
       "   <g id=\"line2d_403\">\n",
       "    <path clip-path=\"url(#p0b0046a7dc)\" d=\"M 286.550709 318.672656 \n",
       "L 286.550709 303.327656 \n",
       "\" style=\"fill:none;stroke:#4c72b0;stroke-linecap:round;\"/>\n",
       "   </g>\n",
       "   <g id=\"line2d_404\">\n",
       "    <path clip-path=\"url(#p0b0046a7dc)\" d=\"M 225.115898 318.672656 \n",
       "L 225.115898 303.327656 \n",
       "\" style=\"fill:none;stroke:#4c72b0;stroke-linecap:round;\"/>\n",
       "   </g>\n",
       "   <g id=\"line2d_405\">\n",
       "    <path clip-path=\"url(#p0b0046a7dc)\" d=\"M 345.876424 318.672656 \n",
       "L 345.876424 303.327656 \n",
       "\" style=\"fill:none;stroke:#4c72b0;stroke-linecap:round;\"/>\n",
       "   </g>\n",
       "   <g id=\"line2d_406\">\n",
       "    <path clip-path=\"url(#p0b0046a7dc)\" d=\"M 286.001034 318.672656 \n",
       "L 286.001034 303.327656 \n",
       "\" style=\"fill:none;stroke:#4c72b0;stroke-linecap:round;\"/>\n",
       "   </g>\n",
       "   <g id=\"line2d_407\">\n",
       "    <path clip-path=\"url(#p0b0046a7dc)\" d=\"M 379.408702 318.672656 \n",
       "L 379.408702 303.327656 \n",
       "\" style=\"fill:none;stroke:#4c72b0;stroke-linecap:round;\"/>\n",
       "   </g>\n",
       "   <g id=\"line2d_408\">\n",
       "    <path clip-path=\"url(#p0b0046a7dc)\" d=\"M 319.323697 318.672656 \n",
       "L 319.323697 303.327656 \n",
       "\" style=\"fill:none;stroke:#4c72b0;stroke-linecap:round;\"/>\n",
       "   </g>\n",
       "   <g id=\"line2d_409\">\n",
       "    <path clip-path=\"url(#p0b0046a7dc)\" d=\"M 223.657586 318.672656 \n",
       "L 223.657586 303.327656 \n",
       "\" style=\"fill:none;stroke:#4c72b0;stroke-linecap:round;\"/>\n",
       "   </g>\n",
       "   <g id=\"line2d_410\">\n",
       "    <path clip-path=\"url(#p0b0046a7dc)\" d=\"M 306.461789 318.672656 \n",
       "L 306.461789 303.327656 \n",
       "\" style=\"fill:none;stroke:#4c72b0;stroke-linecap:round;\"/>\n",
       "   </g>\n",
       "   <g id=\"line2d_411\">\n",
       "    <path clip-path=\"url(#p0b0046a7dc)\" d=\"M 290.90641 318.672656 \n",
       "L 290.90641 303.327656 \n",
       "\" style=\"fill:none;stroke:#4c72b0;stroke-linecap:round;\"/>\n",
       "   </g>\n",
       "   <g id=\"line2d_412\">\n",
       "    <path clip-path=\"url(#p0b0046a7dc)\" d=\"M 308.256724 318.672656 \n",
       "L 308.256724 303.327656 \n",
       "\" style=\"fill:none;stroke:#4c72b0;stroke-linecap:round;\"/>\n",
       "   </g>\n",
       "   <g id=\"line2d_413\">\n",
       "    <path clip-path=\"url(#p0b0046a7dc)\" d=\"M 204.941441 318.672656 \n",
       "L 204.941441 303.327656 \n",
       "\" style=\"fill:none;stroke:#4c72b0;stroke-linecap:round;\"/>\n",
       "   </g>\n",
       "   <g id=\"line2d_414\">\n",
       "    <path clip-path=\"url(#p0b0046a7dc)\" d=\"M 265.396929 318.672656 \n",
       "L 265.396929 303.327656 \n",
       "\" style=\"fill:none;stroke:#4c72b0;stroke-linecap:round;\"/>\n",
       "   </g>\n",
       "   <g id=\"line2d_415\">\n",
       "    <path clip-path=\"url(#p0b0046a7dc)\" d=\"M 247.426102 318.672656 \n",
       "L 247.426102 303.327656 \n",
       "\" style=\"fill:none;stroke:#4c72b0;stroke-linecap:round;\"/>\n",
       "   </g>\n",
       "   <g id=\"line2d_416\">\n",
       "    <path clip-path=\"url(#p0b0046a7dc)\" d=\"M 221.570721 318.672656 \n",
       "L 221.570721 303.327656 \n",
       "\" style=\"fill:none;stroke:#4c72b0;stroke-linecap:round;\"/>\n",
       "   </g>\n",
       "   <g id=\"line2d_417\">\n",
       "    <path clip-path=\"url(#p0b0046a7dc)\" d=\"M 360.830659 318.672656 \n",
       "L 360.830659 303.327656 \n",
       "\" style=\"fill:none;stroke:#4c72b0;stroke-linecap:round;\"/>\n",
       "   </g>\n",
       "   <g id=\"line2d_418\">\n",
       "    <path clip-path=\"url(#p0b0046a7dc)\" d=\"M 199.801628 318.672656 \n",
       "L 199.801628 303.327656 \n",
       "\" style=\"fill:none;stroke:#4c72b0;stroke-linecap:round;\"/>\n",
       "   </g>\n",
       "   <g id=\"line2d_419\">\n",
       "    <path clip-path=\"url(#p0b0046a7dc)\" d=\"M 231.542558 318.672656 \n",
       "L 231.542558 303.327656 \n",
       "\" style=\"fill:none;stroke:#4c72b0;stroke-linecap:round;\"/>\n",
       "   </g>\n",
       "   <g id=\"line2d_420\">\n",
       "    <path clip-path=\"url(#p0b0046a7dc)\" d=\"M 256.685105 318.672656 \n",
       "L 256.685105 303.327656 \n",
       "\" style=\"fill:none;stroke:#4c72b0;stroke-linecap:round;\"/>\n",
       "   </g>\n",
       "   <g id=\"line2d_421\">\n",
       "    <path clip-path=\"url(#p0b0046a7dc)\" d=\"M 285.394411 318.672656 \n",
       "L 285.394411 303.327656 \n",
       "\" style=\"fill:none;stroke:#4c72b0;stroke-linecap:round;\"/>\n",
       "   </g>\n",
       "   <g id=\"line2d_422\">\n",
       "    <path clip-path=\"url(#p0b0046a7dc)\" d=\"M 270.178576 318.672656 \n",
       "L 270.178576 303.327656 \n",
       "\" style=\"fill:none;stroke:#4c72b0;stroke-linecap:round;\"/>\n",
       "   </g>\n",
       "   <g id=\"line2d_423\">\n",
       "    <path clip-path=\"url(#p0b0046a7dc)\" d=\"M 338.627631 318.672656 \n",
       "L 338.627631 303.327656 \n",
       "\" style=\"fill:none;stroke:#4c72b0;stroke-linecap:round;\"/>\n",
       "   </g>\n",
       "   <g id=\"line2d_424\">\n",
       "    <path clip-path=\"url(#p0b0046a7dc)\" d=\"M 358.233915 318.672656 \n",
       "L 358.233915 303.327656 \n",
       "\" style=\"fill:none;stroke:#4c72b0;stroke-linecap:round;\"/>\n",
       "   </g>\n",
       "   <g id=\"line2d_425\">\n",
       "    <path clip-path=\"url(#p0b0046a7dc)\" d=\"M 275.579295 318.672656 \n",
       "L 275.579295 303.327656 \n",
       "\" style=\"fill:none;stroke:#4c72b0;stroke-linecap:round;\"/>\n",
       "   </g>\n",
       "   <g id=\"line2d_426\">\n",
       "    <path clip-path=\"url(#p0b0046a7dc)\" d=\"M 275.717633 318.672656 \n",
       "L 275.717633 303.327656 \n",
       "\" style=\"fill:none;stroke:#4c72b0;stroke-linecap:round;\"/>\n",
       "   </g>\n",
       "   <g id=\"line2d_427\">\n",
       "    <path clip-path=\"url(#p0b0046a7dc)\" d=\"M 239.083645 318.672656 \n",
       "L 239.083645 303.327656 \n",
       "\" style=\"fill:none;stroke:#4c72b0;stroke-linecap:round;\"/>\n",
       "   </g>\n",
       "   <g id=\"line2d_428\">\n",
       "    <path clip-path=\"url(#p0b0046a7dc)\" d=\"M 185.193501 318.672656 \n",
       "L 185.193501 303.327656 \n",
       "\" style=\"fill:none;stroke:#4c72b0;stroke-linecap:round;\"/>\n",
       "   </g>\n",
       "   <g id=\"line2d_429\">\n",
       "    <path clip-path=\"url(#p0b0046a7dc)\" d=\"M 288.735032 318.672656 \n",
       "L 288.735032 303.327656 \n",
       "\" style=\"fill:none;stroke:#4c72b0;stroke-linecap:round;\"/>\n",
       "   </g>\n",
       "   <g id=\"line2d_430\">\n",
       "    <path clip-path=\"url(#p0b0046a7dc)\" d=\"M 300.195533 318.672656 \n",
       "L 300.195533 303.327656 \n",
       "\" style=\"fill:none;stroke:#4c72b0;stroke-linecap:round;\"/>\n",
       "   </g>\n",
       "   <g id=\"line2d_431\">\n",
       "    <path clip-path=\"url(#p0b0046a7dc)\" d=\"M 354.647612 318.672656 \n",
       "L 354.647612 303.327656 \n",
       "\" style=\"fill:none;stroke:#4c72b0;stroke-linecap:round;\"/>\n",
       "   </g>\n",
       "   <g id=\"line2d_432\">\n",
       "    <path clip-path=\"url(#p0b0046a7dc)\" d=\"M 228.532516 318.672656 \n",
       "L 228.532516 303.327656 \n",
       "\" style=\"fill:none;stroke:#4c72b0;stroke-linecap:round;\"/>\n",
       "   </g>\n",
       "   <g id=\"line2d_433\">\n",
       "    <path clip-path=\"url(#p0b0046a7dc)\" d=\"M 240.375341 318.672656 \n",
       "L 240.375341 303.327656 \n",
       "\" style=\"fill:none;stroke:#4c72b0;stroke-linecap:round;\"/>\n",
       "   </g>\n",
       "   <g id=\"line2d_434\">\n",
       "    <path clip-path=\"url(#p0b0046a7dc)\" d=\"M 265.722192 318.672656 \n",
       "L 265.722192 303.327656 \n",
       "\" style=\"fill:none;stroke:#4c72b0;stroke-linecap:round;\"/>\n",
       "   </g>\n",
       "   <g id=\"line2d_435\">\n",
       "    <path clip-path=\"url(#p0b0046a7dc)\" d=\"M 304.860863 318.672656 \n",
       "L 304.860863 303.327656 \n",
       "\" style=\"fill:none;stroke:#4c72b0;stroke-linecap:round;\"/>\n",
       "   </g>\n",
       "   <g id=\"line2d_436\">\n",
       "    <path clip-path=\"url(#p0b0046a7dc)\" d=\"M 337.453867 318.672656 \n",
       "L 337.453867 303.327656 \n",
       "\" style=\"fill:none;stroke:#4c72b0;stroke-linecap:round;\"/>\n",
       "   </g>\n",
       "   <g id=\"line2d_437\">\n",
       "    <path clip-path=\"url(#p0b0046a7dc)\" d=\"M 182.733314 318.672656 \n",
       "L 182.733314 303.327656 \n",
       "\" style=\"fill:none;stroke:#4c72b0;stroke-linecap:round;\"/>\n",
       "   </g>\n",
       "   <g id=\"line2d_438\">\n",
       "    <path clip-path=\"url(#p0b0046a7dc)\" d=\"M 199.687859 318.672656 \n",
       "L 199.687859 303.327656 \n",
       "\" style=\"fill:none;stroke:#4c72b0;stroke-linecap:round;\"/>\n",
       "   </g>\n",
       "   <g id=\"line2d_439\">\n",
       "    <path clip-path=\"url(#p0b0046a7dc)\" d=\"M 252.251617 318.672656 \n",
       "L 252.251617 303.327656 \n",
       "\" style=\"fill:none;stroke:#4c72b0;stroke-linecap:round;\"/>\n",
       "   </g>\n",
       "   <g id=\"line2d_440\">\n",
       "    <path clip-path=\"url(#p0b0046a7dc)\" d=\"M 236.761473 318.672656 \n",
       "L 236.761473 303.327656 \n",
       "\" style=\"fill:none;stroke:#4c72b0;stroke-linecap:round;\"/>\n",
       "   </g>\n",
       "   <g id=\"line2d_441\">\n",
       "    <path clip-path=\"url(#p0b0046a7dc)\" d=\"M 221.596334 318.672656 \n",
       "L 221.596334 303.327656 \n",
       "\" style=\"fill:none;stroke:#4c72b0;stroke-linecap:round;\"/>\n",
       "   </g>\n",
       "   <g id=\"line2d_442\">\n",
       "    <path clip-path=\"url(#p0b0046a7dc)\" d=\"M 157.497765 318.672656 \n",
       "L 157.497765 303.327656 \n",
       "\" style=\"fill:none;stroke:#4c72b0;stroke-linecap:round;\"/>\n",
       "   </g>\n",
       "   <g id=\"line2d_443\">\n",
       "    <path clip-path=\"url(#p0b0046a7dc)\" d=\"M 214.392466 318.672656 \n",
       "L 214.392466 303.327656 \n",
       "\" style=\"fill:none;stroke:#4c72b0;stroke-linecap:round;\"/>\n",
       "   </g>\n",
       "   <g id=\"line2d_444\">\n",
       "    <path clip-path=\"url(#p0b0046a7dc)\" d=\"M 281.867016 318.672656 \n",
       "L 281.867016 303.327656 \n",
       "\" style=\"fill:none;stroke:#4c72b0;stroke-linecap:round;\"/>\n",
       "   </g>\n",
       "   <g id=\"line2d_445\">\n",
       "    <path clip-path=\"url(#p0b0046a7dc)\" d=\"M 338.116103 318.672656 \n",
       "L 338.116103 303.327656 \n",
       "\" style=\"fill:none;stroke:#4c72b0;stroke-linecap:round;\"/>\n",
       "   </g>\n",
       "   <g id=\"line2d_446\">\n",
       "    <path clip-path=\"url(#p0b0046a7dc)\" d=\"M 251.301308 318.672656 \n",
       "L 251.301308 303.327656 \n",
       "\" style=\"fill:none;stroke:#4c72b0;stroke-linecap:round;\"/>\n",
       "   </g>\n",
       "   <g id=\"line2d_447\">\n",
       "    <path clip-path=\"url(#p0b0046a7dc)\" d=\"M 289.068395 318.672656 \n",
       "L 289.068395 303.327656 \n",
       "\" style=\"fill:none;stroke:#4c72b0;stroke-linecap:round;\"/>\n",
       "   </g>\n",
       "   <g id=\"line2d_448\">\n",
       "    <path clip-path=\"url(#p0b0046a7dc)\" d=\"M 234.600315 318.672656 \n",
       "L 234.600315 303.327656 \n",
       "\" style=\"fill:none;stroke:#4c72b0;stroke-linecap:round;\"/>\n",
       "   </g>\n",
       "   <g id=\"line2d_449\">\n",
       "    <path clip-path=\"url(#p0b0046a7dc)\" d=\"M 274.344491 318.672656 \n",
       "L 274.344491 303.327656 \n",
       "\" style=\"fill:none;stroke:#4c72b0;stroke-linecap:round;\"/>\n",
       "   </g>\n",
       "   <g id=\"line2d_450\">\n",
       "    <path clip-path=\"url(#p0b0046a7dc)\" d=\"M 210.588013 318.672656 \n",
       "L 210.588013 303.327656 \n",
       "\" style=\"fill:none;stroke:#4c72b0;stroke-linecap:round;\"/>\n",
       "   </g>\n",
       "   <g id=\"line2d_451\">\n",
       "    <path clip-path=\"url(#p0b0046a7dc)\" d=\"M 308.360043 318.672656 \n",
       "L 308.360043 303.327656 \n",
       "\" style=\"fill:none;stroke:#4c72b0;stroke-linecap:round;\"/>\n",
       "   </g>\n",
       "   <g id=\"line2d_452\">\n",
       "    <path clip-path=\"url(#p0b0046a7dc)\" d=\"M 259.054491 318.672656 \n",
       "L 259.054491 303.327656 \n",
       "\" style=\"fill:none;stroke:#4c72b0;stroke-linecap:round;\"/>\n",
       "   </g>\n",
       "   <g id=\"line2d_453\">\n",
       "    <path clip-path=\"url(#p0b0046a7dc)\" d=\"M 257.357669 318.672656 \n",
       "L 257.357669 303.327656 \n",
       "\" style=\"fill:none;stroke:#4c72b0;stroke-linecap:round;\"/>\n",
       "   </g>\n",
       "   <g id=\"line2d_454\">\n",
       "    <path clip-path=\"url(#p0b0046a7dc)\" d=\"M 336.112725 318.672656 \n",
       "L 336.112725 303.327656 \n",
       "\" style=\"fill:none;stroke:#4c72b0;stroke-linecap:round;\"/>\n",
       "   </g>\n",
       "   <g id=\"line2d_455\">\n",
       "    <path clip-path=\"url(#p0b0046a7dc)\" d=\"M 154.152961 318.672656 \n",
       "L 154.152961 303.327656 \n",
       "\" style=\"fill:none;stroke:#4c72b0;stroke-linecap:round;\"/>\n",
       "   </g>\n",
       "   <g id=\"line2d_456\">\n",
       "    <path clip-path=\"url(#p0b0046a7dc)\" d=\"M 229.790232 318.672656 \n",
       "L 229.790232 303.327656 \n",
       "\" style=\"fill:none;stroke:#4c72b0;stroke-linecap:round;\"/>\n",
       "   </g>\n",
       "   <g id=\"line2d_457\">\n",
       "    <path clip-path=\"url(#p0b0046a7dc)\" d=\"M 266.051575 318.672656 \n",
       "L 266.051575 303.327656 \n",
       "\" style=\"fill:none;stroke:#4c72b0;stroke-linecap:round;\"/>\n",
       "   </g>\n",
       "   <g id=\"line2d_458\">\n",
       "    <path clip-path=\"url(#p0b0046a7dc)\" d=\"M 281.417732 318.672656 \n",
       "L 281.417732 303.327656 \n",
       "\" style=\"fill:none;stroke:#4c72b0;stroke-linecap:round;\"/>\n",
       "   </g>\n",
       "   <g id=\"line2d_459\">\n",
       "    <path clip-path=\"url(#p0b0046a7dc)\" d=\"M 210.57511 318.672656 \n",
       "L 210.57511 303.327656 \n",
       "\" style=\"fill:none;stroke:#4c72b0;stroke-linecap:round;\"/>\n",
       "   </g>\n",
       "   <g id=\"line2d_460\">\n",
       "    <path clip-path=\"url(#p0b0046a7dc)\" d=\"M 182.608422 318.672656 \n",
       "L 182.608422 303.327656 \n",
       "\" style=\"fill:none;stroke:#4c72b0;stroke-linecap:round;\"/>\n",
       "   </g>\n",
       "   <g id=\"line2d_461\">\n",
       "    <path clip-path=\"url(#p0b0046a7dc)\" d=\"M 248.04252 318.672656 \n",
       "L 248.04252 303.327656 \n",
       "\" style=\"fill:none;stroke:#4c72b0;stroke-linecap:round;\"/>\n",
       "   </g>\n",
       "   <g id=\"line2d_462\">\n",
       "    <path clip-path=\"url(#p0b0046a7dc)\" d=\"M 242.092034 318.672656 \n",
       "L 242.092034 303.327656 \n",
       "\" style=\"fill:none;stroke:#4c72b0;stroke-linecap:round;\"/>\n",
       "   </g>\n",
       "   <g id=\"line2d_463\">\n",
       "    <path clip-path=\"url(#p0b0046a7dc)\" d=\"M 317.467185 318.672656 \n",
       "L 317.467185 303.327656 \n",
       "\" style=\"fill:none;stroke:#4c72b0;stroke-linecap:round;\"/>\n",
       "   </g>\n",
       "   <g id=\"line2d_464\">\n",
       "    <path clip-path=\"url(#p0b0046a7dc)\" d=\"M 179.483597 318.672656 \n",
       "L 179.483597 303.327656 \n",
       "\" style=\"fill:none;stroke:#4c72b0;stroke-linecap:round;\"/>\n",
       "   </g>\n",
       "   <g id=\"line2d_465\">\n",
       "    <path clip-path=\"url(#p0b0046a7dc)\" d=\"M 285.701599 318.672656 \n",
       "L 285.701599 303.327656 \n",
       "\" style=\"fill:none;stroke:#4c72b0;stroke-linecap:round;\"/>\n",
       "   </g>\n",
       "   <g id=\"line2d_466\">\n",
       "    <path clip-path=\"url(#p0b0046a7dc)\" d=\"M 203.561638 318.672656 \n",
       "L 203.561638 303.327656 \n",
       "\" style=\"fill:none;stroke:#4c72b0;stroke-linecap:round;\"/>\n",
       "   </g>\n",
       "   <g id=\"line2d_467\">\n",
       "    <path clip-path=\"url(#p0b0046a7dc)\" d=\"M 321.143165 318.672656 \n",
       "L 321.143165 303.327656 \n",
       "\" style=\"fill:none;stroke:#4c72b0;stroke-linecap:round;\"/>\n",
       "   </g>\n",
       "   <g id=\"line2d_468\">\n",
       "    <path clip-path=\"url(#p0b0046a7dc)\" d=\"M 361.770564 318.672656 \n",
       "L 361.770564 303.327656 \n",
       "\" style=\"fill:none;stroke:#4c72b0;stroke-linecap:round;\"/>\n",
       "   </g>\n",
       "   <g id=\"line2d_469\">\n",
       "    <path clip-path=\"url(#p0b0046a7dc)\" d=\"M 289.970368 318.672656 \n",
       "L 289.970368 303.327656 \n",
       "\" style=\"fill:none;stroke:#4c72b0;stroke-linecap:round;\"/>\n",
       "   </g>\n",
       "   <g id=\"line2d_470\">\n",
       "    <path clip-path=\"url(#p0b0046a7dc)\" d=\"M 213.874147 318.672656 \n",
       "L 213.874147 303.327656 \n",
       "\" style=\"fill:none;stroke:#4c72b0;stroke-linecap:round;\"/>\n",
       "   </g>\n",
       "   <g id=\"line2d_471\">\n",
       "    <path clip-path=\"url(#p0b0046a7dc)\" d=\"M 296.741761 318.672656 \n",
       "L 296.741761 303.327656 \n",
       "\" style=\"fill:none;stroke:#4c72b0;stroke-linecap:round;\"/>\n",
       "   </g>\n",
       "   <g id=\"line2d_472\">\n",
       "    <path clip-path=\"url(#p0b0046a7dc)\" d=\"M 221.542378 318.672656 \n",
       "L 221.542378 303.327656 \n",
       "\" style=\"fill:none;stroke:#4c72b0;stroke-linecap:round;\"/>\n",
       "   </g>\n",
       "   <g id=\"line2d_473\">\n",
       "    <path clip-path=\"url(#p0b0046a7dc)\" d=\"M 223.969152 318.672656 \n",
       "L 223.969152 303.327656 \n",
       "\" style=\"fill:none;stroke:#4c72b0;stroke-linecap:round;\"/>\n",
       "   </g>\n",
       "   <g id=\"line2d_474\">\n",
       "    <path clip-path=\"url(#p0b0046a7dc)\" d=\"M 325.709169 318.672656 \n",
       "L 325.709169 303.327656 \n",
       "\" style=\"fill:none;stroke:#4c72b0;stroke-linecap:round;\"/>\n",
       "   </g>\n",
       "   <g id=\"line2d_475\">\n",
       "    <path clip-path=\"url(#p0b0046a7dc)\" d=\"M 386.929488 318.672656 \n",
       "L 386.929488 303.327656 \n",
       "\" style=\"fill:none;stroke:#4c72b0;stroke-linecap:round;\"/>\n",
       "   </g>\n",
       "   <g id=\"line2d_476\">\n",
       "    <path clip-path=\"url(#p0b0046a7dc)\" d=\"M 267.781823 318.672656 \n",
       "L 267.781823 303.327656 \n",
       "\" style=\"fill:none;stroke:#4c72b0;stroke-linecap:round;\"/>\n",
       "   </g>\n",
       "   <g id=\"line2d_477\">\n",
       "    <path clip-path=\"url(#p0b0046a7dc)\" d=\"M 303.169409 318.672656 \n",
       "L 303.169409 303.327656 \n",
       "\" style=\"fill:none;stroke:#4c72b0;stroke-linecap:round;\"/>\n",
       "   </g>\n",
       "   <g id=\"line2d_478\">\n",
       "    <path clip-path=\"url(#p0b0046a7dc)\" d=\"M 220.980834 318.672656 \n",
       "L 220.980834 303.327656 \n",
       "\" style=\"fill:none;stroke:#4c72b0;stroke-linecap:round;\"/>\n",
       "   </g>\n",
       "   <g id=\"line2d_479\">\n",
       "    <path clip-path=\"url(#p0b0046a7dc)\" d=\"M 211.023618 318.672656 \n",
       "L 211.023618 303.327656 \n",
       "\" style=\"fill:none;stroke:#4c72b0;stroke-linecap:round;\"/>\n",
       "   </g>\n",
       "   <g id=\"line2d_480\">\n",
       "    <path clip-path=\"url(#p0b0046a7dc)\" d=\"M 235.681019 318.672656 \n",
       "L 235.681019 303.327656 \n",
       "\" style=\"fill:none;stroke:#4c72b0;stroke-linecap:round;\"/>\n",
       "   </g>\n",
       "   <g id=\"line2d_481\">\n",
       "    <path clip-path=\"url(#p0b0046a7dc)\" d=\"M 266.558443 318.672656 \n",
       "L 266.558443 303.327656 \n",
       "\" style=\"fill:none;stroke:#4c72b0;stroke-linecap:round;\"/>\n",
       "   </g>\n",
       "   <g id=\"line2d_482\">\n",
       "    <path clip-path=\"url(#p0b0046a7dc)\" d=\"M 230.165356 318.672656 \n",
       "L 230.165356 303.327656 \n",
       "\" style=\"fill:none;stroke:#4c72b0;stroke-linecap:round;\"/>\n",
       "   </g>\n",
       "   <g id=\"line2d_483\">\n",
       "    <path clip-path=\"url(#p0b0046a7dc)\" d=\"M 294.777351 318.672656 \n",
       "L 294.777351 303.327656 \n",
       "\" style=\"fill:none;stroke:#4c72b0;stroke-linecap:round;\"/>\n",
       "   </g>\n",
       "   <g id=\"line2d_484\">\n",
       "    <path clip-path=\"url(#p0b0046a7dc)\" d=\"M 231.485745 318.672656 \n",
       "L 231.485745 303.327656 \n",
       "\" style=\"fill:none;stroke:#4c72b0;stroke-linecap:round;\"/>\n",
       "   </g>\n",
       "   <g id=\"line2d_485\">\n",
       "    <path clip-path=\"url(#p0b0046a7dc)\" d=\"M 234.783473 318.672656 \n",
       "L 234.783473 303.327656 \n",
       "\" style=\"fill:none;stroke:#4c72b0;stroke-linecap:round;\"/>\n",
       "   </g>\n",
       "   <g id=\"line2d_486\">\n",
       "    <path clip-path=\"url(#p0b0046a7dc)\" d=\"M 272.491729 318.672656 \n",
       "L 272.491729 303.327656 \n",
       "\" style=\"fill:none;stroke:#4c72b0;stroke-linecap:round;\"/>\n",
       "   </g>\n",
       "   <g id=\"line2d_487\">\n",
       "    <path clip-path=\"url(#p0b0046a7dc)\" d=\"M 284.128061 318.672656 \n",
       "L 284.128061 303.327656 \n",
       "\" style=\"fill:none;stroke:#4c72b0;stroke-linecap:round;\"/>\n",
       "   </g>\n",
       "   <g id=\"line2d_488\">\n",
       "    <path clip-path=\"url(#p0b0046a7dc)\" d=\"M 260.086107 318.672656 \n",
       "L 260.086107 303.327656 \n",
       "\" style=\"fill:none;stroke:#4c72b0;stroke-linecap:round;\"/>\n",
       "   </g>\n",
       "   <g id=\"line2d_489\">\n",
       "    <path clip-path=\"url(#p0b0046a7dc)\" d=\"M 263.404198 318.672656 \n",
       "L 263.404198 303.327656 \n",
       "\" style=\"fill:none;stroke:#4c72b0;stroke-linecap:round;\"/>\n",
       "   </g>\n",
       "   <g id=\"line2d_490\">\n",
       "    <path clip-path=\"url(#p0b0046a7dc)\" d=\"M 262.648188 318.672656 \n",
       "L 262.648188 303.327656 \n",
       "\" style=\"fill:none;stroke:#4c72b0;stroke-linecap:round;\"/>\n",
       "   </g>\n",
       "   <g id=\"line2d_491\">\n",
       "    <path clip-path=\"url(#p0b0046a7dc)\" d=\"M 306.907006 318.672656 \n",
       "L 306.907006 303.327656 \n",
       "\" style=\"fill:none;stroke:#4c72b0;stroke-linecap:round;\"/>\n",
       "   </g>\n",
       "   <g id=\"line2d_492\">\n",
       "    <path clip-path=\"url(#p0b0046a7dc)\" d=\"M 204.203592 318.672656 \n",
       "L 204.203592 303.327656 \n",
       "\" style=\"fill:none;stroke:#4c72b0;stroke-linecap:round;\"/>\n",
       "   </g>\n",
       "   <g id=\"line2d_493\">\n",
       "    <path clip-path=\"url(#p0b0046a7dc)\" d=\"M 313.111077 318.672656 \n",
       "L 313.111077 303.327656 \n",
       "\" style=\"fill:none;stroke:#4c72b0;stroke-linecap:round;\"/>\n",
       "   </g>\n",
       "   <g id=\"line2d_494\">\n",
       "    <path clip-path=\"url(#p0b0046a7dc)\" d=\"M 229.406795 318.672656 \n",
       "L 229.406795 303.327656 \n",
       "\" style=\"fill:none;stroke:#4c72b0;stroke-linecap:round;\"/>\n",
       "   </g>\n",
       "   <g id=\"line2d_495\">\n",
       "    <path clip-path=\"url(#p0b0046a7dc)\" d=\"M 273.956572 318.672656 \n",
       "L 273.956572 303.327656 \n",
       "\" style=\"fill:none;stroke:#4c72b0;stroke-linecap:round;\"/>\n",
       "   </g>\n",
       "   <g id=\"line2d_496\">\n",
       "    <path clip-path=\"url(#p0b0046a7dc)\" d=\"M 220.165123 318.672656 \n",
       "L 220.165123 303.327656 \n",
       "\" style=\"fill:none;stroke:#4c72b0;stroke-linecap:round;\"/>\n",
       "   </g>\n",
       "   <g id=\"line2d_497\">\n",
       "    <path clip-path=\"url(#p0b0046a7dc)\" d=\"M 184.04734 318.672656 \n",
       "L 184.04734 303.327656 \n",
       "\" style=\"fill:none;stroke:#4c72b0;stroke-linecap:round;\"/>\n",
       "   </g>\n",
       "   <g id=\"line2d_498\">\n",
       "    <path clip-path=\"url(#p0b0046a7dc)\" d=\"M 301.066245 318.672656 \n",
       "L 301.066245 303.327656 \n",
       "\" style=\"fill:none;stroke:#4c72b0;stroke-linecap:round;\"/>\n",
       "   </g>\n",
       "   <g id=\"line2d_499\">\n",
       "    <path clip-path=\"url(#p0b0046a7dc)\" d=\"M 297.604638 318.672656 \n",
       "L 297.604638 303.327656 \n",
       "\" style=\"fill:none;stroke:#4c72b0;stroke-linecap:round;\"/>\n",
       "   </g>\n",
       "   <g id=\"line2d_500\">\n",
       "    <path clip-path=\"url(#p0b0046a7dc)\" d=\"M 269.966309 318.672656 \n",
       "L 269.966309 303.327656 \n",
       "\" style=\"fill:none;stroke:#4c72b0;stroke-linecap:round;\"/>\n",
       "   </g>\n",
       "   <g id=\"line2d_501\">\n",
       "    <path clip-path=\"url(#p0b0046a7dc)\" d=\"M 190.826748 318.672656 \n",
       "L 190.826748 303.327656 \n",
       "\" style=\"fill:none;stroke:#4c72b0;stroke-linecap:round;\"/>\n",
       "   </g>\n",
       "   <g id=\"line2d_502\">\n",
       "    <path clip-path=\"url(#p0b0046a7dc)\" d=\"M 280.930297 318.672656 \n",
       "L 280.930297 303.327656 \n",
       "\" style=\"fill:none;stroke:#4c72b0;stroke-linecap:round;\"/>\n",
       "   </g>\n",
       "   <g id=\"line2d_503\">\n",
       "    <path clip-path=\"url(#p0b0046a7dc)\" d=\"M 199.412558 318.672656 \n",
       "L 199.412558 303.327656 \n",
       "\" style=\"fill:none;stroke:#4c72b0;stroke-linecap:round;\"/>\n",
       "   </g>\n",
       "   <g id=\"line2d_504\">\n",
       "    <path clip-path=\"url(#p0b0046a7dc)\" d=\"M 181.843841 318.672656 \n",
       "L 181.843841 303.327656 \n",
       "\" style=\"fill:none;stroke:#4c72b0;stroke-linecap:round;\"/>\n",
       "   </g>\n",
       "   <g id=\"line2d_505\">\n",
       "    <path clip-path=\"url(#p0b0046a7dc)\" d=\"M 319.185023 318.672656 \n",
       "L 319.185023 303.327656 \n",
       "\" style=\"fill:none;stroke:#4c72b0;stroke-linecap:round;\"/>\n",
       "   </g>\n",
       "   <g id=\"line2d_506\">\n",
       "    <path clip-path=\"url(#p0b0046a7dc)\" d=\"M 193.041956 318.672656 \n",
       "L 193.041956 303.327656 \n",
       "\" style=\"fill:none;stroke:#4c72b0;stroke-linecap:round;\"/>\n",
       "   </g>\n",
       "   <g id=\"line2d_507\">\n",
       "    <path clip-path=\"url(#p0b0046a7dc)\" d=\"M 257.175622 318.672656 \n",
       "L 257.175622 303.327656 \n",
       "\" style=\"fill:none;stroke:#4c72b0;stroke-linecap:round;\"/>\n",
       "   </g>\n",
       "   <g id=\"line2d_508\">\n",
       "    <path clip-path=\"url(#p0b0046a7dc)\" d=\"M 293.07658 318.672656 \n",
       "L 293.07658 303.327656 \n",
       "\" style=\"fill:none;stroke:#4c72b0;stroke-linecap:round;\"/>\n",
       "   </g>\n",
       "   <g id=\"line2d_509\">\n",
       "    <path clip-path=\"url(#p0b0046a7dc)\" d=\"M 230.463871 318.672656 \n",
       "L 230.463871 303.327656 \n",
       "\" style=\"fill:none;stroke:#4c72b0;stroke-linecap:round;\"/>\n",
       "   </g>\n",
       "   <g id=\"line2d_510\">\n",
       "    <path clip-path=\"url(#p0b0046a7dc)\" d=\"M 249.556235 318.672656 \n",
       "L 249.556235 303.327656 \n",
       "\" style=\"fill:none;stroke:#4c72b0;stroke-linecap:round;\"/>\n",
       "   </g>\n",
       "   <g id=\"line2d_511\">\n",
       "    <path clip-path=\"url(#p0b0046a7dc)\" d=\"M 303.00228 318.672656 \n",
       "L 303.00228 303.327656 \n",
       "\" style=\"fill:none;stroke:#4c72b0;stroke-linecap:round;\"/>\n",
       "   </g>\n",
       "   <g id=\"line2d_512\">\n",
       "    <path clip-path=\"url(#p0b0046a7dc)\" d=\"M 306.597777 318.672656 \n",
       "L 306.597777 303.327656 \n",
       "\" style=\"fill:none;stroke:#4c72b0;stroke-linecap:round;\"/>\n",
       "   </g>\n",
       "   <g id=\"line2d_513\">\n",
       "    <path clip-path=\"url(#p0b0046a7dc)\" d=\"M 196.812718 318.672656 \n",
       "L 196.812718 303.327656 \n",
       "\" style=\"fill:none;stroke:#4c72b0;stroke-linecap:round;\"/>\n",
       "   </g>\n",
       "   <g id=\"line2d_514\">\n",
       "    <path clip-path=\"url(#p0b0046a7dc)\" d=\"M 205.687608 318.672656 \n",
       "L 205.687608 303.327656 \n",
       "\" style=\"fill:none;stroke:#4c72b0;stroke-linecap:round;\"/>\n",
       "   </g>\n",
       "   <g id=\"line2d_515\">\n",
       "    <path clip-path=\"url(#p0b0046a7dc)\" d=\"M 211.301299 318.672656 \n",
       "L 211.301299 303.327656 \n",
       "\" style=\"fill:none;stroke:#4c72b0;stroke-linecap:round;\"/>\n",
       "   </g>\n",
       "   <g id=\"line2d_516\">\n",
       "    <path clip-path=\"url(#p0b0046a7dc)\" d=\"M 283.821635 318.672656 \n",
       "L 283.821635 303.327656 \n",
       "\" style=\"fill:none;stroke:#4c72b0;stroke-linecap:round;\"/>\n",
       "   </g>\n",
       "   <g id=\"line2d_517\">\n",
       "    <path clip-path=\"url(#p0b0046a7dc)\" d=\"M 261.969529 318.672656 \n",
       "L 261.969529 303.327656 \n",
       "\" style=\"fill:none;stroke:#4c72b0;stroke-linecap:round;\"/>\n",
       "   </g>\n",
       "   <g id=\"line2d_518\">\n",
       "    <path clip-path=\"url(#p0b0046a7dc)\" d=\"M 261.72615 318.672656 \n",
       "L 261.72615 303.327656 \n",
       "\" style=\"fill:none;stroke:#4c72b0;stroke-linecap:round;\"/>\n",
       "   </g>\n",
       "   <g id=\"line2d_519\">\n",
       "    <path clip-path=\"url(#p0b0046a7dc)\" d=\"M 176.420204 318.672656 \n",
       "L 176.420204 303.327656 \n",
       "\" style=\"fill:none;stroke:#4c72b0;stroke-linecap:round;\"/>\n",
       "   </g>\n",
       "   <g id=\"line2d_520\">\n",
       "    <path clip-path=\"url(#p0b0046a7dc)\" d=\"M 275.841062 318.672656 \n",
       "L 275.841062 303.327656 \n",
       "\" style=\"fill:none;stroke:#4c72b0;stroke-linecap:round;\"/>\n",
       "   </g>\n",
       "   <g id=\"line2d_521\">\n",
       "    <path clip-path=\"url(#p0b0046a7dc)\" d=\"M 225.709621 318.672656 \n",
       "L 225.709621 303.327656 \n",
       "\" style=\"fill:none;stroke:#4c72b0;stroke-linecap:round;\"/>\n",
       "   </g>\n",
       "   <g id=\"line2d_522\">\n",
       "    <path clip-path=\"url(#p0b0046a7dc)\" d=\"M 154.573184 318.672656 \n",
       "L 154.573184 303.327656 \n",
       "\" style=\"fill:none;stroke:#4c72b0;stroke-linecap:round;\"/>\n",
       "   </g>\n",
       "   <g id=\"line2d_523\">\n",
       "    <path clip-path=\"url(#p0b0046a7dc)\" d=\"M 102.745064 318.672656 \n",
       "L 102.745064 303.327656 \n",
       "\" style=\"fill:none;stroke:#4c72b0;stroke-linecap:round;\"/>\n",
       "   </g>\n",
       "   <g id=\"line2d_524\">\n",
       "    <path clip-path=\"url(#p0b0046a7dc)\" d=\"M 328.68247 318.672656 \n",
       "L 328.68247 303.327656 \n",
       "\" style=\"fill:none;stroke:#4c72b0;stroke-linecap:round;\"/>\n",
       "   </g>\n",
       "   <g id=\"line2d_525\">\n",
       "    <path clip-path=\"url(#p0b0046a7dc)\" d=\"M 204.002455 318.672656 \n",
       "L 204.002455 303.327656 \n",
       "\" style=\"fill:none;stroke:#4c72b0;stroke-linecap:round;\"/>\n",
       "   </g>\n",
       "   <g id=\"line2d_526\">\n",
       "    <path clip-path=\"url(#p0b0046a7dc)\" d=\"M 226.159019 318.672656 \n",
       "L 226.159019 303.327656 \n",
       "\" style=\"fill:none;stroke:#4c72b0;stroke-linecap:round;\"/>\n",
       "   </g>\n",
       "   <g id=\"line2d_527\">\n",
       "    <path clip-path=\"url(#p0b0046a7dc)\" d=\"M 264.762465 318.672656 \n",
       "L 264.762465 303.327656 \n",
       "\" style=\"fill:none;stroke:#4c72b0;stroke-linecap:round;\"/>\n",
       "   </g>\n",
       "   <g id=\"line2d_528\">\n",
       "    <path clip-path=\"url(#p0b0046a7dc)\" d=\"M 238.102193 318.672656 \n",
       "L 238.102193 303.327656 \n",
       "\" style=\"fill:none;stroke:#4c72b0;stroke-linecap:round;\"/>\n",
       "   </g>\n",
       "   <g id=\"line2d_529\">\n",
       "    <path clip-path=\"url(#p0b0046a7dc)\" d=\"M 240.324632 318.672656 \n",
       "L 240.324632 303.327656 \n",
       "\" style=\"fill:none;stroke:#4c72b0;stroke-linecap:round;\"/>\n",
       "   </g>\n",
       "   <g id=\"line2d_530\">\n",
       "    <path clip-path=\"url(#p0b0046a7dc)\" d=\"M 239.763447 318.672656 \n",
       "L 239.763447 303.327656 \n",
       "\" style=\"fill:none;stroke:#4c72b0;stroke-linecap:round;\"/>\n",
       "   </g>\n",
       "   <g id=\"line2d_531\">\n",
       "    <path clip-path=\"url(#p0b0046a7dc)\" d=\"M 214.370474 318.672656 \n",
       "L 214.370474 303.327656 \n",
       "\" style=\"fill:none;stroke:#4c72b0;stroke-linecap:round;\"/>\n",
       "   </g>\n",
       "   <g id=\"line2d_532\">\n",
       "    <path clip-path=\"url(#p0b0046a7dc)\" d=\"M 205.114253 318.672656 \n",
       "L 205.114253 303.327656 \n",
       "\" style=\"fill:none;stroke:#4c72b0;stroke-linecap:round;\"/>\n",
       "   </g>\n",
       "   <g id=\"line2d_533\">\n",
       "    <path clip-path=\"url(#p0b0046a7dc)\" d=\"M 284.333442 318.672656 \n",
       "L 284.333442 303.327656 \n",
       "\" style=\"fill:none;stroke:#4c72b0;stroke-linecap:round;\"/>\n",
       "   </g>\n",
       "   <g id=\"line2d_534\">\n",
       "    <path clip-path=\"url(#p0b0046a7dc)\" d=\"M 183.611806 318.672656 \n",
       "L 183.611806 303.327656 \n",
       "\" style=\"fill:none;stroke:#4c72b0;stroke-linecap:round;\"/>\n",
       "   </g>\n",
       "   <g id=\"line2d_535\">\n",
       "    <path clip-path=\"url(#p0b0046a7dc)\" d=\"M 378.613188 318.672656 \n",
       "L 378.613188 303.327656 \n",
       "\" style=\"fill:none;stroke:#4c72b0;stroke-linecap:round;\"/>\n",
       "   </g>\n",
       "   <g id=\"line2d_536\">\n",
       "    <path clip-path=\"url(#p0b0046a7dc)\" d=\"M 265.842434 318.672656 \n",
       "L 265.842434 303.327656 \n",
       "\" style=\"fill:none;stroke:#4c72b0;stroke-linecap:round;\"/>\n",
       "   </g>\n",
       "   <g id=\"line2d_537\">\n",
       "    <path clip-path=\"url(#p0b0046a7dc)\" d=\"M 310.488899 318.672656 \n",
       "L 310.488899 303.327656 \n",
       "\" style=\"fill:none;stroke:#4c72b0;stroke-linecap:round;\"/>\n",
       "   </g>\n",
       "   <g id=\"line2d_538\">\n",
       "    <path clip-path=\"url(#p0b0046a7dc)\" d=\"M 278.309995 318.672656 \n",
       "L 278.309995 303.327656 \n",
       "\" style=\"fill:none;stroke:#4c72b0;stroke-linecap:round;\"/>\n",
       "   </g>\n",
       "   <g id=\"line2d_539\">\n",
       "    <path clip-path=\"url(#p0b0046a7dc)\" d=\"M 260.474042 318.672656 \n",
       "L 260.474042 303.327656 \n",
       "\" style=\"fill:none;stroke:#4c72b0;stroke-linecap:round;\"/>\n",
       "   </g>\n",
       "   <g id=\"line2d_540\">\n",
       "    <path clip-path=\"url(#p0b0046a7dc)\" d=\"M 227.857182 318.672656 \n",
       "L 227.857182 303.327656 \n",
       "\" style=\"fill:none;stroke:#4c72b0;stroke-linecap:round;\"/>\n",
       "   </g>\n",
       "   <g id=\"line2d_541\">\n",
       "    <path clip-path=\"url(#p0b0046a7dc)\" d=\"M 328.41511 318.672656 \n",
       "L 328.41511 303.327656 \n",
       "\" style=\"fill:none;stroke:#4c72b0;stroke-linecap:round;\"/>\n",
       "   </g>\n",
       "   <g id=\"line2d_542\">\n",
       "    <path clip-path=\"url(#p0b0046a7dc)\" d=\"M 228.646793 318.672656 \n",
       "L 228.646793 303.327656 \n",
       "\" style=\"fill:none;stroke:#4c72b0;stroke-linecap:round;\"/>\n",
       "   </g>\n",
       "   <g id=\"line2d_543\">\n",
       "    <path clip-path=\"url(#p0b0046a7dc)\" d=\"M 287.299829 318.672656 \n",
       "L 287.299829 303.327656 \n",
       "\" style=\"fill:none;stroke:#4c72b0;stroke-linecap:round;\"/>\n",
       "   </g>\n",
       "   <g id=\"line2d_544\">\n",
       "    <path clip-path=\"url(#p0b0046a7dc)\" d=\"M 181.024661 318.672656 \n",
       "L 181.024661 303.327656 \n",
       "\" style=\"fill:none;stroke:#4c72b0;stroke-linecap:round;\"/>\n",
       "   </g>\n",
       "   <g id=\"line2d_545\">\n",
       "    <path clip-path=\"url(#p0b0046a7dc)\" d=\"M 206.820688 318.672656 \n",
       "L 206.820688 303.327656 \n",
       "\" style=\"fill:none;stroke:#4c72b0;stroke-linecap:round;\"/>\n",
       "   </g>\n",
       "   <g id=\"line2d_546\">\n",
       "    <path clip-path=\"url(#p0b0046a7dc)\" d=\"M 213.406921 318.672656 \n",
       "L 213.406921 303.327656 \n",
       "\" style=\"fill:none;stroke:#4c72b0;stroke-linecap:round;\"/>\n",
       "   </g>\n",
       "   <g id=\"line2d_547\">\n",
       "    <path clip-path=\"url(#p0b0046a7dc)\" d=\"M 230.664491 318.672656 \n",
       "L 230.664491 303.327656 \n",
       "\" style=\"fill:none;stroke:#4c72b0;stroke-linecap:round;\"/>\n",
       "   </g>\n",
       "   <g id=\"line2d_548\">\n",
       "    <path clip-path=\"url(#p0b0046a7dc)\" d=\"M 246.526821 318.672656 \n",
       "L 246.526821 303.327656 \n",
       "\" style=\"fill:none;stroke:#4c72b0;stroke-linecap:round;\"/>\n",
       "   </g>\n",
       "   <g id=\"line2d_549\">\n",
       "    <path clip-path=\"url(#p0b0046a7dc)\" d=\"M 285.985268 318.672656 \n",
       "L 285.985268 303.327656 \n",
       "\" style=\"fill:none;stroke:#4c72b0;stroke-linecap:round;\"/>\n",
       "   </g>\n",
       "   <g id=\"line2d_550\">\n",
       "    <path clip-path=\"url(#p0b0046a7dc)\" d=\"M 275.679832 318.672656 \n",
       "L 275.679832 303.327656 \n",
       "\" style=\"fill:none;stroke:#4c72b0;stroke-linecap:round;\"/>\n",
       "   </g>\n",
       "   <g id=\"line2d_551\">\n",
       "    <path clip-path=\"url(#p0b0046a7dc)\" d=\"M 305.914571 318.672656 \n",
       "L 305.914571 303.327656 \n",
       "\" style=\"fill:none;stroke:#4c72b0;stroke-linecap:round;\"/>\n",
       "   </g>\n",
       "   <g id=\"line2d_552\">\n",
       "    <path clip-path=\"url(#p0b0046a7dc)\" d=\"M 264.472069 318.672656 \n",
       "L 264.472069 303.327656 \n",
       "\" style=\"fill:none;stroke:#4c72b0;stroke-linecap:round;\"/>\n",
       "   </g>\n",
       "   <g id=\"line2d_553\">\n",
       "    <path clip-path=\"url(#p0b0046a7dc)\" d=\"M 214.187648 318.672656 \n",
       "L 214.187648 303.327656 \n",
       "\" style=\"fill:none;stroke:#4c72b0;stroke-linecap:round;\"/>\n",
       "   </g>\n",
       "   <g id=\"line2d_554\">\n",
       "    <path clip-path=\"url(#p0b0046a7dc)\" d=\"M 354.016599 318.672656 \n",
       "L 354.016599 303.327656 \n",
       "\" style=\"fill:none;stroke:#4c72b0;stroke-linecap:round;\"/>\n",
       "   </g>\n",
       "   <g id=\"line2d_555\">\n",
       "    <path clip-path=\"url(#p0b0046a7dc)\" d=\"M 199.889335 318.672656 \n",
       "L 199.889335 303.327656 \n",
       "\" style=\"fill:none;stroke:#4c72b0;stroke-linecap:round;\"/>\n",
       "   </g>\n",
       "   <g id=\"line2d_556\">\n",
       "    <path clip-path=\"url(#p0b0046a7dc)\" d=\"M 268.811385 318.672656 \n",
       "L 268.811385 303.327656 \n",
       "\" style=\"fill:none;stroke:#4c72b0;stroke-linecap:round;\"/>\n",
       "   </g>\n",
       "   <g id=\"line2d_557\">\n",
       "    <path clip-path=\"url(#p0b0046a7dc)\" d=\"M 230.800219 318.672656 \n",
       "L 230.800219 303.327656 \n",
       "\" style=\"fill:none;stroke:#4c72b0;stroke-linecap:round;\"/>\n",
       "   </g>\n",
       "   <g id=\"line2d_558\">\n",
       "    <path clip-path=\"url(#p0b0046a7dc)\" d=\"M 224.979009 318.672656 \n",
       "L 224.979009 303.327656 \n",
       "\" style=\"fill:none;stroke:#4c72b0;stroke-linecap:round;\"/>\n",
       "   </g>\n",
       "   <g id=\"line2d_559\">\n",
       "    <path clip-path=\"url(#p0b0046a7dc)\" d=\"M 159.812862 318.672656 \n",
       "L 159.812862 303.327656 \n",
       "\" style=\"fill:none;stroke:#4c72b0;stroke-linecap:round;\"/>\n",
       "   </g>\n",
       "   <g id=\"line2d_560\">\n",
       "    <path clip-path=\"url(#p0b0046a7dc)\" d=\"M 249.823015 318.672656 \n",
       "L 249.823015 303.327656 \n",
       "\" style=\"fill:none;stroke:#4c72b0;stroke-linecap:round;\"/>\n",
       "   </g>\n",
       "   <g id=\"line2d_561\">\n",
       "    <path clip-path=\"url(#p0b0046a7dc)\" d=\"M 259.302533 318.672656 \n",
       "L 259.302533 303.327656 \n",
       "\" style=\"fill:none;stroke:#4c72b0;stroke-linecap:round;\"/>\n",
       "   </g>\n",
       "   <g id=\"line2d_562\">\n",
       "    <path clip-path=\"url(#p0b0046a7dc)\" d=\"M 204.165582 318.672656 \n",
       "L 204.165582 303.327656 \n",
       "\" style=\"fill:none;stroke:#4c72b0;stroke-linecap:round;\"/>\n",
       "   </g>\n",
       "   <g id=\"line2d_563\">\n",
       "    <path clip-path=\"url(#p0b0046a7dc)\" d=\"M 224.143345 318.672656 \n",
       "L 224.143345 303.327656 \n",
       "\" style=\"fill:none;stroke:#4c72b0;stroke-linecap:round;\"/>\n",
       "   </g>\n",
       "   <g id=\"line2d_564\">\n",
       "    <path clip-path=\"url(#p0b0046a7dc)\" d=\"M 272.899443 318.672656 \n",
       "L 272.899443 303.327656 \n",
       "\" style=\"fill:none;stroke:#4c72b0;stroke-linecap:round;\"/>\n",
       "   </g>\n",
       "   <g id=\"line2d_565\">\n",
       "    <path clip-path=\"url(#p0b0046a7dc)\" d=\"M 267.271534 318.672656 \n",
       "L 267.271534 303.327656 \n",
       "\" style=\"fill:none;stroke:#4c72b0;stroke-linecap:round;\"/>\n",
       "   </g>\n",
       "   <g id=\"line2d_566\">\n",
       "    <path clip-path=\"url(#p0b0046a7dc)\" d=\"M 261.432021 318.672656 \n",
       "L 261.432021 303.327656 \n",
       "\" style=\"fill:none;stroke:#4c72b0;stroke-linecap:round;\"/>\n",
       "   </g>\n",
       "   <g id=\"line2d_567\">\n",
       "    <path clip-path=\"url(#p0b0046a7dc)\" d=\"M 215.850732 318.672656 \n",
       "L 215.850732 303.327656 \n",
       "\" style=\"fill:none;stroke:#4c72b0;stroke-linecap:round;\"/>\n",
       "   </g>\n",
       "   <g id=\"line2d_568\">\n",
       "    <path clip-path=\"url(#p0b0046a7dc)\" d=\"M 252.776712 318.672656 \n",
       "L 252.776712 303.327656 \n",
       "\" style=\"fill:none;stroke:#4c72b0;stroke-linecap:round;\"/>\n",
       "   </g>\n",
       "   <g id=\"line2d_569\">\n",
       "    <path clip-path=\"url(#p0b0046a7dc)\" d=\"M 215.614965 318.672656 \n",
       "L 215.614965 303.327656 \n",
       "\" style=\"fill:none;stroke:#4c72b0;stroke-linecap:round;\"/>\n",
       "   </g>\n",
       "   <g id=\"line2d_570\">\n",
       "    <path clip-path=\"url(#p0b0046a7dc)\" d=\"M 231.431601 318.672656 \n",
       "L 231.431601 303.327656 \n",
       "\" style=\"fill:none;stroke:#4c72b0;stroke-linecap:round;\"/>\n",
       "   </g>\n",
       "   <g id=\"line2d_571\">\n",
       "    <path clip-path=\"url(#p0b0046a7dc)\" d=\"M 182.097861 318.672656 \n",
       "L 182.097861 303.327656 \n",
       "\" style=\"fill:none;stroke:#4c72b0;stroke-linecap:round;\"/>\n",
       "   </g>\n",
       "   <g id=\"line2d_572\">\n",
       "    <path clip-path=\"url(#p0b0046a7dc)\" d=\"M 257.080304 318.672656 \n",
       "L 257.080304 303.327656 \n",
       "\" style=\"fill:none;stroke:#4c72b0;stroke-linecap:round;\"/>\n",
       "   </g>\n",
       "   <g id=\"line2d_573\">\n",
       "    <path clip-path=\"url(#p0b0046a7dc)\" d=\"M 221.848719 318.672656 \n",
       "L 221.848719 303.327656 \n",
       "\" style=\"fill:none;stroke:#4c72b0;stroke-linecap:round;\"/>\n",
       "   </g>\n",
       "   <g id=\"line2d_574\">\n",
       "    <path clip-path=\"url(#p0b0046a7dc)\" d=\"M 247.810662 318.672656 \n",
       "L 247.810662 303.327656 \n",
       "\" style=\"fill:none;stroke:#4c72b0;stroke-linecap:round;\"/>\n",
       "   </g>\n",
       "   <g id=\"line2d_575\">\n",
       "    <path clip-path=\"url(#p0b0046a7dc)\" d=\"M 202.616215 318.672656 \n",
       "L 202.616215 303.327656 \n",
       "\" style=\"fill:none;stroke:#4c72b0;stroke-linecap:round;\"/>\n",
       "   </g>\n",
       "   <g id=\"line2d_576\">\n",
       "    <path clip-path=\"url(#p0b0046a7dc)\" d=\"M 271.095823 318.672656 \n",
       "L 271.095823 303.327656 \n",
       "\" style=\"fill:none;stroke:#4c72b0;stroke-linecap:round;\"/>\n",
       "   </g>\n",
       "   <g id=\"line2d_577\">\n",
       "    <path clip-path=\"url(#p0b0046a7dc)\" d=\"M 207.400284 318.672656 \n",
       "L 207.400284 303.327656 \n",
       "\" style=\"fill:none;stroke:#4c72b0;stroke-linecap:round;\"/>\n",
       "   </g>\n",
       "   <g id=\"line2d_578\">\n",
       "    <path clip-path=\"url(#p0b0046a7dc)\" d=\"M 198.191323 318.672656 \n",
       "L 198.191323 303.327656 \n",
       "\" style=\"fill:none;stroke:#4c72b0;stroke-linecap:round;\"/>\n",
       "   </g>\n",
       "   <g id=\"line2d_579\">\n",
       "    <path clip-path=\"url(#p0b0046a7dc)\" d=\"M 254.433877 318.672656 \n",
       "L 254.433877 303.327656 \n",
       "\" style=\"fill:none;stroke:#4c72b0;stroke-linecap:round;\"/>\n",
       "   </g>\n",
       "   <g id=\"line2d_580\">\n",
       "    <path clip-path=\"url(#p0b0046a7dc)\" d=\"M 201.240388 318.672656 \n",
       "L 201.240388 303.327656 \n",
       "\" style=\"fill:none;stroke:#4c72b0;stroke-linecap:round;\"/>\n",
       "   </g>\n",
       "   <g id=\"line2d_581\">\n",
       "    <path clip-path=\"url(#p0b0046a7dc)\" d=\"M 202.243679 318.672656 \n",
       "L 202.243679 303.327656 \n",
       "\" style=\"fill:none;stroke:#4c72b0;stroke-linecap:round;\"/>\n",
       "   </g>\n",
       "   <g id=\"line2d_582\">\n",
       "    <path clip-path=\"url(#p0b0046a7dc)\" d=\"M 213.131251 318.672656 \n",
       "L 213.131251 303.327656 \n",
       "\" style=\"fill:none;stroke:#4c72b0;stroke-linecap:round;\"/>\n",
       "   </g>\n",
       "   <g id=\"line2d_583\">\n",
       "    <path clip-path=\"url(#p0b0046a7dc)\" d=\"M 295.225245 318.672656 \n",
       "L 295.225245 303.327656 \n",
       "\" style=\"fill:none;stroke:#4c72b0;stroke-linecap:round;\"/>\n",
       "   </g>\n",
       "   <g id=\"line2d_584\">\n",
       "    <path clip-path=\"url(#p0b0046a7dc)\" d=\"M 194.366593 318.672656 \n",
       "L 194.366593 303.327656 \n",
       "\" style=\"fill:none;stroke:#4c72b0;stroke-linecap:round;\"/>\n",
       "   </g>\n",
       "   <g id=\"line2d_585\">\n",
       "    <path clip-path=\"url(#p0b0046a7dc)\" d=\"M 233.826188 318.672656 \n",
       "L 233.826188 303.327656 \n",
       "\" style=\"fill:none;stroke:#4c72b0;stroke-linecap:round;\"/>\n",
       "   </g>\n",
       "   <g id=\"line2d_586\">\n",
       "    <path clip-path=\"url(#p0b0046a7dc)\" d=\"M 331.158901 318.672656 \n",
       "L 331.158901 303.327656 \n",
       "\" style=\"fill:none;stroke:#4c72b0;stroke-linecap:round;\"/>\n",
       "   </g>\n",
       "   <g id=\"line2d_587\">\n",
       "    <path clip-path=\"url(#p0b0046a7dc)\" d=\"M 320.859799 318.672656 \n",
       "L 320.859799 303.327656 \n",
       "\" style=\"fill:none;stroke:#4c72b0;stroke-linecap:round;\"/>\n",
       "   </g>\n",
       "   <g id=\"line2d_588\">\n",
       "    <path clip-path=\"url(#p0b0046a7dc)\" d=\"M 206.591709 318.672656 \n",
       "L 206.591709 303.327656 \n",
       "\" style=\"fill:none;stroke:#4c72b0;stroke-linecap:round;\"/>\n",
       "   </g>\n",
       "   <g id=\"line2d_589\">\n",
       "    <path clip-path=\"url(#p0b0046a7dc)\" d=\"M 291.769763 318.672656 \n",
       "L 291.769763 303.327656 \n",
       "\" style=\"fill:none;stroke:#4c72b0;stroke-linecap:round;\"/>\n",
       "   </g>\n",
       "   <g id=\"line2d_590\">\n",
       "    <path clip-path=\"url(#p0b0046a7dc)\" d=\"M 235.10909 318.672656 \n",
       "L 235.10909 303.327656 \n",
       "\" style=\"fill:none;stroke:#4c72b0;stroke-linecap:round;\"/>\n",
       "   </g>\n",
       "   <g id=\"line2d_591\">\n",
       "    <path clip-path=\"url(#p0b0046a7dc)\" d=\"M 245.553545 318.672656 \n",
       "L 245.553545 303.327656 \n",
       "\" style=\"fill:none;stroke:#4c72b0;stroke-linecap:round;\"/>\n",
       "   </g>\n",
       "   <g id=\"line2d_592\">\n",
       "    <path clip-path=\"url(#p0b0046a7dc)\" d=\"M 251.66713 318.672656 \n",
       "L 251.66713 303.327656 \n",
       "\" style=\"fill:none;stroke:#4c72b0;stroke-linecap:round;\"/>\n",
       "   </g>\n",
       "   <g id=\"line2d_593\">\n",
       "    <path clip-path=\"url(#p0b0046a7dc)\" d=\"M 151.844234 318.672656 \n",
       "L 151.844234 303.327656 \n",
       "\" style=\"fill:none;stroke:#4c72b0;stroke-linecap:round;\"/>\n",
       "   </g>\n",
       "   <g id=\"line2d_594\">\n",
       "    <path clip-path=\"url(#p0b0046a7dc)\" d=\"M 241.295705 318.672656 \n",
       "L 241.295705 303.327656 \n",
       "\" style=\"fill:none;stroke:#4c72b0;stroke-linecap:round;\"/>\n",
       "   </g>\n",
       "   <g id=\"line2d_595\">\n",
       "    <path clip-path=\"url(#p0b0046a7dc)\" d=\"M 154.491159 318.672656 \n",
       "L 154.491159 303.327656 \n",
       "\" style=\"fill:none;stroke:#4c72b0;stroke-linecap:round;\"/>\n",
       "   </g>\n",
       "   <g id=\"line2d_596\">\n",
       "    <path clip-path=\"url(#p0b0046a7dc)\" d=\"M 240.102529 318.672656 \n",
       "L 240.102529 303.327656 \n",
       "\" style=\"fill:none;stroke:#4c72b0;stroke-linecap:round;\"/>\n",
       "   </g>\n",
       "   <g id=\"line2d_597\">\n",
       "    <path clip-path=\"url(#p0b0046a7dc)\" d=\"M 300.639097 318.672656 \n",
       "L 300.639097 303.327656 \n",
       "\" style=\"fill:none;stroke:#4c72b0;stroke-linecap:round;\"/>\n",
       "   </g>\n",
       "   <g id=\"line2d_598\">\n",
       "    <path clip-path=\"url(#p0b0046a7dc)\" d=\"M 269.517061 318.672656 \n",
       "L 269.517061 303.327656 \n",
       "\" style=\"fill:none;stroke:#4c72b0;stroke-linecap:round;\"/>\n",
       "   </g>\n",
       "   <g id=\"line2d_599\">\n",
       "    <path clip-path=\"url(#p0b0046a7dc)\" d=\"M 314.236867 318.672656 \n",
       "L 314.236867 303.327656 \n",
       "\" style=\"fill:none;stroke:#4c72b0;stroke-linecap:round;\"/>\n",
       "   </g>\n",
       "   <g id=\"line2d_600\">\n",
       "    <path clip-path=\"url(#p0b0046a7dc)\" d=\"M 219.579806 318.672656 \n",
       "L 219.579806 303.327656 \n",
       "\" style=\"fill:none;stroke:#4c72b0;stroke-linecap:round;\"/>\n",
       "   </g>\n",
       "   <g id=\"line2d_601\">\n",
       "    <path clip-path=\"url(#p0b0046a7dc)\" d=\"M 218.889471 318.672656 \n",
       "L 218.889471 303.327656 \n",
       "\" style=\"fill:none;stroke:#4c72b0;stroke-linecap:round;\"/>\n",
       "   </g>\n",
       "   <g id=\"line2d_602\">\n",
       "    <path clip-path=\"url(#p0b0046a7dc)\" d=\"M 326.421704 318.672656 \n",
       "L 326.421704 303.327656 \n",
       "\" style=\"fill:none;stroke:#4c72b0;stroke-linecap:round;\"/>\n",
       "   </g>\n",
       "   <g id=\"line2d_603\">\n",
       "    <path clip-path=\"url(#p0b0046a7dc)\" d=\"M 229.619097 318.672656 \n",
       "L 229.619097 303.327656 \n",
       "\" style=\"fill:none;stroke:#4c72b0;stroke-linecap:round;\"/>\n",
       "   </g>\n",
       "   <g id=\"line2d_604\">\n",
       "    <path clip-path=\"url(#p0b0046a7dc)\" d=\"M 271.707287 318.672656 \n",
       "L 271.707287 303.327656 \n",
       "\" style=\"fill:none;stroke:#4c72b0;stroke-linecap:round;\"/>\n",
       "   </g>\n",
       "   <g id=\"line2d_605\">\n",
       "    <path clip-path=\"url(#p0b0046a7dc)\" d=\"M 216.925847 318.672656 \n",
       "L 216.925847 303.327656 \n",
       "\" style=\"fill:none;stroke:#4c72b0;stroke-linecap:round;\"/>\n",
       "   </g>\n",
       "   <g id=\"line2d_606\">\n",
       "    <path clip-path=\"url(#p0b0046a7dc)\" d=\"M 220.047909 318.672656 \n",
       "L 220.047909 303.327656 \n",
       "\" style=\"fill:none;stroke:#4c72b0;stroke-linecap:round;\"/>\n",
       "   </g>\n",
       "   <g id=\"line2d_607\">\n",
       "    <path clip-path=\"url(#p0b0046a7dc)\" d=\"M 189.049609 318.672656 \n",
       "L 189.049609 303.327656 \n",
       "\" style=\"fill:none;stroke:#4c72b0;stroke-linecap:round;\"/>\n",
       "   </g>\n",
       "   <g id=\"line2d_608\">\n",
       "    <path clip-path=\"url(#p0b0046a7dc)\" d=\"M 285.457986 318.672656 \n",
       "L 285.457986 303.327656 \n",
       "\" style=\"fill:none;stroke:#4c72b0;stroke-linecap:round;\"/>\n",
       "   </g>\n",
       "   <g id=\"line2d_609\">\n",
       "    <path clip-path=\"url(#p0b0046a7dc)\" d=\"M 201.718817 318.672656 \n",
       "L 201.718817 303.327656 \n",
       "\" style=\"fill:none;stroke:#4c72b0;stroke-linecap:round;\"/>\n",
       "   </g>\n",
       "   <g id=\"line2d_610\">\n",
       "    <path clip-path=\"url(#p0b0046a7dc)\" d=\"M 204.431298 318.672656 \n",
       "L 204.431298 303.327656 \n",
       "\" style=\"fill:none;stroke:#4c72b0;stroke-linecap:round;\"/>\n",
       "   </g>\n",
       "   <g id=\"line2d_611\">\n",
       "    <path clip-path=\"url(#p0b0046a7dc)\" d=\"M 246.652599 318.672656 \n",
       "L 246.652599 303.327656 \n",
       "\" style=\"fill:none;stroke:#4c72b0;stroke-linecap:round;\"/>\n",
       "   </g>\n",
       "   <g id=\"line2d_612\">\n",
       "    <path clip-path=\"url(#p0b0046a7dc)\" d=\"M 326.697939 318.672656 \n",
       "L 326.697939 303.327656 \n",
       "\" style=\"fill:none;stroke:#4c72b0;stroke-linecap:round;\"/>\n",
       "   </g>\n",
       "   <g id=\"line2d_613\">\n",
       "    <path clip-path=\"url(#p0b0046a7dc)\" d=\"M 126.179786 318.672656 \n",
       "L 126.179786 303.327656 \n",
       "\" style=\"fill:none;stroke:#4c72b0;stroke-linecap:round;\"/>\n",
       "   </g>\n",
       "   <g id=\"line2d_614\">\n",
       "    <path clip-path=\"url(#p0b0046a7dc)\" d=\"M 246.510412 318.672656 \n",
       "L 246.510412 303.327656 \n",
       "\" style=\"fill:none;stroke:#4c72b0;stroke-linecap:round;\"/>\n",
       "   </g>\n",
       "   <g id=\"line2d_615\">\n",
       "    <path clip-path=\"url(#p0b0046a7dc)\" d=\"M 193.444897 318.672656 \n",
       "L 193.444897 303.327656 \n",
       "\" style=\"fill:none;stroke:#4c72b0;stroke-linecap:round;\"/>\n",
       "   </g>\n",
       "   <g id=\"line2d_616\">\n",
       "    <path clip-path=\"url(#p0b0046a7dc)\" d=\"M 249.931893 318.672656 \n",
       "L 249.931893 303.327656 \n",
       "\" style=\"fill:none;stroke:#4c72b0;stroke-linecap:round;\"/>\n",
       "   </g>\n",
       "   <g id=\"line2d_617\">\n",
       "    <path clip-path=\"url(#p0b0046a7dc)\" d=\"M 211.726396 318.672656 \n",
       "L 211.726396 303.327656 \n",
       "\" style=\"fill:none;stroke:#4c72b0;stroke-linecap:round;\"/>\n",
       "   </g>\n",
       "   <g id=\"line2d_618\">\n",
       "    <path clip-path=\"url(#p0b0046a7dc)\" d=\"M 224.036059 318.672656 \n",
       "L 224.036059 303.327656 \n",
       "\" style=\"fill:none;stroke:#4c72b0;stroke-linecap:round;\"/>\n",
       "   </g>\n",
       "   <g id=\"line2d_619\">\n",
       "    <path clip-path=\"url(#p0b0046a7dc)\" d=\"M 276.845627 318.672656 \n",
       "L 276.845627 303.327656 \n",
       "\" style=\"fill:none;stroke:#4c72b0;stroke-linecap:round;\"/>\n",
       "   </g>\n",
       "   <g id=\"line2d_620\">\n",
       "    <path clip-path=\"url(#p0b0046a7dc)\" d=\"M 296.931287 318.672656 \n",
       "L 296.931287 303.327656 \n",
       "\" style=\"fill:none;stroke:#4c72b0;stroke-linecap:round;\"/>\n",
       "   </g>\n",
       "   <g id=\"line2d_621\">\n",
       "    <path clip-path=\"url(#p0b0046a7dc)\" d=\"M 245.607198 318.672656 \n",
       "L 245.607198 303.327656 \n",
       "\" style=\"fill:none;stroke:#4c72b0;stroke-linecap:round;\"/>\n",
       "   </g>\n",
       "   <g id=\"line2d_622\">\n",
       "    <path clip-path=\"url(#p0b0046a7dc)\" d=\"M 197.566121 318.672656 \n",
       "L 197.566121 303.327656 \n",
       "\" style=\"fill:none;stroke:#4c72b0;stroke-linecap:round;\"/>\n",
       "   </g>\n",
       "   <g id=\"line2d_623\">\n",
       "    <path clip-path=\"url(#p0b0046a7dc)\" d=\"M 234.140307 318.672656 \n",
       "L 234.140307 303.327656 \n",
       "\" style=\"fill:none;stroke:#4c72b0;stroke-linecap:round;\"/>\n",
       "   </g>\n",
       "   <g id=\"line2d_624\">\n",
       "    <path clip-path=\"url(#p0b0046a7dc)\" d=\"M 347.844835 318.672656 \n",
       "L 347.844835 303.327656 \n",
       "\" style=\"fill:none;stroke:#4c72b0;stroke-linecap:round;\"/>\n",
       "   </g>\n",
       "   <g id=\"line2d_625\">\n",
       "    <path clip-path=\"url(#p0b0046a7dc)\" d=\"M 194.929829 318.672656 \n",
       "L 194.929829 303.327656 \n",
       "\" style=\"fill:none;stroke:#4c72b0;stroke-linecap:round;\"/>\n",
       "   </g>\n",
       "   <g id=\"line2d_626\">\n",
       "    <path clip-path=\"url(#p0b0046a7dc)\" d=\"M 229.906098 318.672656 \n",
       "L 229.906098 303.327656 \n",
       "\" style=\"fill:none;stroke:#4c72b0;stroke-linecap:round;\"/>\n",
       "   </g>\n",
       "   <g id=\"line2d_627\">\n",
       "    <path clip-path=\"url(#p0b0046a7dc)\" d=\"M 158.278574 318.672656 \n",
       "L 158.278574 303.327656 \n",
       "\" style=\"fill:none;stroke:#4c72b0;stroke-linecap:round;\"/>\n",
       "   </g>\n",
       "   <g id=\"line2d_628\">\n",
       "    <path clip-path=\"url(#p0b0046a7dc)\" d=\"M 251.805469 318.672656 \n",
       "L 251.805469 303.327656 \n",
       "\" style=\"fill:none;stroke:#4c72b0;stroke-linecap:round;\"/>\n",
       "   </g>\n",
       "   <g id=\"line2d_629\">\n",
       "    <path clip-path=\"url(#p0b0046a7dc)\" d=\"M 163.919938 318.672656 \n",
       "L 163.919938 303.327656 \n",
       "\" style=\"fill:none;stroke:#4c72b0;stroke-linecap:round;\"/>\n",
       "   </g>\n",
       "   <g id=\"line2d_630\">\n",
       "    <path clip-path=\"url(#p0b0046a7dc)\" d=\"M 259.756458 318.672656 \n",
       "L 259.756458 303.327656 \n",
       "\" style=\"fill:none;stroke:#4c72b0;stroke-linecap:round;\"/>\n",
       "   </g>\n",
       "   <g id=\"line2d_631\">\n",
       "    <path clip-path=\"url(#p0b0046a7dc)\" d=\"M 222.575683 318.672656 \n",
       "L 222.575683 303.327656 \n",
       "\" style=\"fill:none;stroke:#4c72b0;stroke-linecap:round;\"/>\n",
       "   </g>\n",
       "   <g id=\"line2d_632\">\n",
       "    <path clip-path=\"url(#p0b0046a7dc)\" d=\"M 161.864967 318.672656 \n",
       "L 161.864967 303.327656 \n",
       "\" style=\"fill:none;stroke:#4c72b0;stroke-linecap:round;\"/>\n",
       "   </g>\n",
       "   <g id=\"line2d_633\">\n",
       "    <path clip-path=\"url(#p0b0046a7dc)\" d=\"M 317.696587 318.672656 \n",
       "L 317.696587 303.327656 \n",
       "\" style=\"fill:none;stroke:#4c72b0;stroke-linecap:round;\"/>\n",
       "   </g>\n",
       "   <g id=\"line2d_634\">\n",
       "    <path clip-path=\"url(#p0b0046a7dc)\" d=\"M 276.557672 318.672656 \n",
       "L 276.557672 303.327656 \n",
       "\" style=\"fill:none;stroke:#4c72b0;stroke-linecap:round;\"/>\n",
       "   </g>\n",
       "   <g id=\"line2d_635\">\n",
       "    <path clip-path=\"url(#p0b0046a7dc)\" d=\"M 204.713676 318.672656 \n",
       "L 204.713676 303.327656 \n",
       "\" style=\"fill:none;stroke:#4c72b0;stroke-linecap:round;\"/>\n",
       "   </g>\n",
       "   <g id=\"line2d_636\">\n",
       "    <path clip-path=\"url(#p0b0046a7dc)\" d=\"M 189.996323 318.672656 \n",
       "L 189.996323 303.327656 \n",
       "\" style=\"fill:none;stroke:#4c72b0;stroke-linecap:round;\"/>\n",
       "   </g>\n",
       "   <g id=\"line2d_637\">\n",
       "    <path clip-path=\"url(#p0b0046a7dc)\" d=\"M 216.380026 318.672656 \n",
       "L 216.380026 303.327656 \n",
       "\" style=\"fill:none;stroke:#4c72b0;stroke-linecap:round;\"/>\n",
       "   </g>\n",
       "   <g id=\"line2d_638\">\n",
       "    <path clip-path=\"url(#p0b0046a7dc)\" d=\"M 217.828682 318.672656 \n",
       "L 217.828682 303.327656 \n",
       "\" style=\"fill:none;stroke:#4c72b0;stroke-linecap:round;\"/>\n",
       "   </g>\n",
       "   <g id=\"line2d_639\">\n",
       "    <path clip-path=\"url(#p0b0046a7dc)\" d=\"M 284.633001 318.672656 \n",
       "L 284.633001 303.327656 \n",
       "\" style=\"fill:none;stroke:#4c72b0;stroke-linecap:round;\"/>\n",
       "   </g>\n",
       "   <g id=\"line2d_640\">\n",
       "    <path clip-path=\"url(#p0b0046a7dc)\" d=\"M 286.704779 318.672656 \n",
       "L 286.704779 303.327656 \n",
       "\" style=\"fill:none;stroke:#4c72b0;stroke-linecap:round;\"/>\n",
       "   </g>\n",
       "   <g id=\"line2d_641\">\n",
       "    <path clip-path=\"url(#p0b0046a7dc)\" d=\"M 335.432878 318.672656 \n",
       "L 335.432878 303.327656 \n",
       "\" style=\"fill:none;stroke:#4c72b0;stroke-linecap:round;\"/>\n",
       "   </g>\n",
       "   <g id=\"line2d_642\">\n",
       "    <path clip-path=\"url(#p0b0046a7dc)\" d=\"M 129.504961 318.672656 \n",
       "L 129.504961 303.327656 \n",
       "\" style=\"fill:none;stroke:#4c72b0;stroke-linecap:round;\"/>\n",
       "   </g>\n",
       "   <g id=\"line2d_643\">\n",
       "    <path clip-path=\"url(#p0b0046a7dc)\" d=\"M 298.015579 318.672656 \n",
       "L 298.015579 303.327656 \n",
       "\" style=\"fill:none;stroke:#4c72b0;stroke-linecap:round;\"/>\n",
       "   </g>\n",
       "   <g id=\"line2d_644\">\n",
       "    <path clip-path=\"url(#p0b0046a7dc)\" d=\"M 323.383199 318.672656 \n",
       "L 323.383199 303.327656 \n",
       "\" style=\"fill:none;stroke:#4c72b0;stroke-linecap:round;\"/>\n",
       "   </g>\n",
       "   <g id=\"line2d_645\">\n",
       "    <path clip-path=\"url(#p0b0046a7dc)\" d=\"M 315.107144 318.672656 \n",
       "L 315.107144 303.327656 \n",
       "\" style=\"fill:none;stroke:#4c72b0;stroke-linecap:round;\"/>\n",
       "   </g>\n",
       "   <g id=\"line2d_646\">\n",
       "    <path clip-path=\"url(#p0b0046a7dc)\" d=\"M 289.907596 318.672656 \n",
       "L 289.907596 303.327656 \n",
       "\" style=\"fill:none;stroke:#4c72b0;stroke-linecap:round;\"/>\n",
       "   </g>\n",
       "   <g id=\"line2d_647\">\n",
       "    <path clip-path=\"url(#p0b0046a7dc)\" d=\"M 248.53388 318.672656 \n",
       "L 248.53388 303.327656 \n",
       "\" style=\"fill:none;stroke:#4c72b0;stroke-linecap:round;\"/>\n",
       "   </g>\n",
       "   <g id=\"line2d_648\">\n",
       "    <path clip-path=\"url(#p0b0046a7dc)\" d=\"M 342.438843 318.672656 \n",
       "L 342.438843 303.327656 \n",
       "\" style=\"fill:none;stroke:#4c72b0;stroke-linecap:round;\"/>\n",
       "   </g>\n",
       "   <g id=\"line2d_649\">\n",
       "    <path clip-path=\"url(#p0b0046a7dc)\" d=\"M 233.702726 318.672656 \n",
       "L 233.702726 303.327656 \n",
       "\" style=\"fill:none;stroke:#4c72b0;stroke-linecap:round;\"/>\n",
       "   </g>\n",
       "   <g id=\"line2d_650\">\n",
       "    <path clip-path=\"url(#p0b0046a7dc)\" d=\"M 261.907986 318.672656 \n",
       "L 261.907986 303.327656 \n",
       "\" style=\"fill:none;stroke:#4c72b0;stroke-linecap:round;\"/>\n",
       "   </g>\n",
       "   <g id=\"line2d_651\">\n",
       "    <path clip-path=\"url(#p0b0046a7dc)\" d=\"M 229.884777 318.672656 \n",
       "L 229.884777 303.327656 \n",
       "\" style=\"fill:none;stroke:#4c72b0;stroke-linecap:round;\"/>\n",
       "   </g>\n",
       "   <g id=\"line2d_652\">\n",
       "    <path clip-path=\"url(#p0b0046a7dc)\" d=\"M 329.824928 318.672656 \n",
       "L 329.824928 303.327656 \n",
       "\" style=\"fill:none;stroke:#4c72b0;stroke-linecap:round;\"/>\n",
       "   </g>\n",
       "   <g id=\"line2d_653\">\n",
       "    <path clip-path=\"url(#p0b0046a7dc)\" d=\"M 265.803634 318.672656 \n",
       "L 265.803634 303.327656 \n",
       "\" style=\"fill:none;stroke:#4c72b0;stroke-linecap:round;\"/>\n",
       "   </g>\n",
       "   <g id=\"line2d_654\">\n",
       "    <path clip-path=\"url(#p0b0046a7dc)\" d=\"M 146.394897 318.672656 \n",
       "L 146.394897 303.327656 \n",
       "\" style=\"fill:none;stroke:#4c72b0;stroke-linecap:round;\"/>\n",
       "   </g>\n",
       "   <g id=\"line2d_655\">\n",
       "    <path clip-path=\"url(#p0b0046a7dc)\" d=\"M 287.444778 318.672656 \n",
       "L 287.444778 303.327656 \n",
       "\" style=\"fill:none;stroke:#4c72b0;stroke-linecap:round;\"/>\n",
       "   </g>\n",
       "   <g id=\"line2d_656\">\n",
       "    <path clip-path=\"url(#p0b0046a7dc)\" d=\"M 269.211222 318.672656 \n",
       "L 269.211222 303.327656 \n",
       "\" style=\"fill:none;stroke:#4c72b0;stroke-linecap:round;\"/>\n",
       "   </g>\n",
       "   <g id=\"line2d_657\">\n",
       "    <path clip-path=\"url(#p0b0046a7dc)\" d=\"M 198.498334 318.672656 \n",
       "L 198.498334 303.327656 \n",
       "\" style=\"fill:none;stroke:#4c72b0;stroke-linecap:round;\"/>\n",
       "   </g>\n",
       "   <g id=\"line2d_658\">\n",
       "    <path clip-path=\"url(#p0b0046a7dc)\" d=\"M 308.637112 318.672656 \n",
       "L 308.637112 303.327656 \n",
       "\" style=\"fill:none;stroke:#4c72b0;stroke-linecap:round;\"/>\n",
       "   </g>\n",
       "   <g id=\"line2d_659\">\n",
       "    <path clip-path=\"url(#p0b0046a7dc)\" d=\"M 292.184289 318.672656 \n",
       "L 292.184289 303.327656 \n",
       "\" style=\"fill:none;stroke:#4c72b0;stroke-linecap:round;\"/>\n",
       "   </g>\n",
       "   <g id=\"line2d_660\">\n",
       "    <path clip-path=\"url(#p0b0046a7dc)\" d=\"M 328.202703 318.672656 \n",
       "L 328.202703 303.327656 \n",
       "\" style=\"fill:none;stroke:#4c72b0;stroke-linecap:round;\"/>\n",
       "   </g>\n",
       "   <g id=\"line2d_661\">\n",
       "    <path clip-path=\"url(#p0b0046a7dc)\" d=\"M 324.663768 318.672656 \n",
       "L 324.663768 303.327656 \n",
       "\" style=\"fill:none;stroke:#4c72b0;stroke-linecap:round;\"/>\n",
       "   </g>\n",
       "   <g id=\"line2d_662\">\n",
       "    <path clip-path=\"url(#p0b0046a7dc)\" d=\"M 300.215631 318.672656 \n",
       "L 300.215631 303.327656 \n",
       "\" style=\"fill:none;stroke:#4c72b0;stroke-linecap:round;\"/>\n",
       "   </g>\n",
       "   <g id=\"line2d_663\">\n",
       "    <path clip-path=\"url(#p0b0046a7dc)\" d=\"M 275.523791 318.672656 \n",
       "L 275.523791 303.327656 \n",
       "\" style=\"fill:none;stroke:#4c72b0;stroke-linecap:round;\"/>\n",
       "   </g>\n",
       "   <g id=\"line2d_664\">\n",
       "    <path clip-path=\"url(#p0b0046a7dc)\" d=\"M 193.879225 318.672656 \n",
       "L 193.879225 303.327656 \n",
       "\" style=\"fill:none;stroke:#4c72b0;stroke-linecap:round;\"/>\n",
       "   </g>\n",
       "   <g id=\"line2d_665\">\n",
       "    <path clip-path=\"url(#p0b0046a7dc)\" d=\"M 138.616617 318.672656 \n",
       "L 138.616617 303.327656 \n",
       "\" style=\"fill:none;stroke:#4c72b0;stroke-linecap:round;\"/>\n",
       "   </g>\n",
       "   <g id=\"line2d_666\">\n",
       "    <path clip-path=\"url(#p0b0046a7dc)\" d=\"M 269.938652 318.672656 \n",
       "L 269.938652 303.327656 \n",
       "\" style=\"fill:none;stroke:#4c72b0;stroke-linecap:round;\"/>\n",
       "   </g>\n",
       "   <g id=\"line2d_667\">\n",
       "    <path clip-path=\"url(#p0b0046a7dc)\" d=\"M 230.630058 318.672656 \n",
       "L 230.630058 303.327656 \n",
       "\" style=\"fill:none;stroke:#4c72b0;stroke-linecap:round;\"/>\n",
       "   </g>\n",
       "   <g id=\"line2d_668\">\n",
       "    <path clip-path=\"url(#p0b0046a7dc)\" d=\"M 348.85418 318.672656 \n",
       "L 348.85418 303.327656 \n",
       "\" style=\"fill:none;stroke:#4c72b0;stroke-linecap:round;\"/>\n",
       "   </g>\n",
       "   <g id=\"line2d_669\">\n",
       "    <path clip-path=\"url(#p0b0046a7dc)\" d=\"M 175.52366 318.672656 \n",
       "L 175.52366 303.327656 \n",
       "\" style=\"fill:none;stroke:#4c72b0;stroke-linecap:round;\"/>\n",
       "   </g>\n",
       "   <g id=\"line2d_670\">\n",
       "    <path clip-path=\"url(#p0b0046a7dc)\" d=\"M 248.487935 318.672656 \n",
       "L 248.487935 303.327656 \n",
       "\" style=\"fill:none;stroke:#4c72b0;stroke-linecap:round;\"/>\n",
       "   </g>\n",
       "   <g id=\"line2d_671\">\n",
       "    <path clip-path=\"url(#p0b0046a7dc)\" d=\"M 435.763411 318.672656 \n",
       "L 435.763411 303.327656 \n",
       "\" style=\"fill:none;stroke:#4c72b0;stroke-linecap:round;\"/>\n",
       "   </g>\n",
       "   <g id=\"line2d_672\">\n",
       "    <path clip-path=\"url(#p0b0046a7dc)\" d=\"M 243.70944 318.672656 \n",
       "L 243.70944 303.327656 \n",
       "\" style=\"fill:none;stroke:#4c72b0;stroke-linecap:round;\"/>\n",
       "   </g>\n",
       "   <g id=\"line2d_673\">\n",
       "    <path clip-path=\"url(#p0b0046a7dc)\" d=\"M 214.87517 318.672656 \n",
       "L 214.87517 303.327656 \n",
       "\" style=\"fill:none;stroke:#4c72b0;stroke-linecap:round;\"/>\n",
       "   </g>\n",
       "   <g id=\"line2d_674\">\n",
       "    <path clip-path=\"url(#p0b0046a7dc)\" d=\"M 227.422538 318.672656 \n",
       "L 227.422538 303.327656 \n",
       "\" style=\"fill:none;stroke:#4c72b0;stroke-linecap:round;\"/>\n",
       "   </g>\n",
       "   <g id=\"line2d_675\">\n",
       "    <path clip-path=\"url(#p0b0046a7dc)\" d=\"M 214.112739 318.672656 \n",
       "L 214.112739 303.327656 \n",
       "\" style=\"fill:none;stroke:#4c72b0;stroke-linecap:round;\"/>\n",
       "   </g>\n",
       "   <g id=\"line2d_676\">\n",
       "    <path clip-path=\"url(#p0b0046a7dc)\" d=\"M 240.370565 318.672656 \n",
       "L 240.370565 303.327656 \n",
       "\" style=\"fill:none;stroke:#4c72b0;stroke-linecap:round;\"/>\n",
       "   </g>\n",
       "   <g id=\"line2d_677\">\n",
       "    <path clip-path=\"url(#p0b0046a7dc)\" d=\"M 290.199832 318.672656 \n",
       "L 290.199832 303.327656 \n",
       "\" style=\"fill:none;stroke:#4c72b0;stroke-linecap:round;\"/>\n",
       "   </g>\n",
       "   <g id=\"line2d_678\">\n",
       "    <path clip-path=\"url(#p0b0046a7dc)\" d=\"M 347.748534 318.672656 \n",
       "L 347.748534 303.327656 \n",
       "\" style=\"fill:none;stroke:#4c72b0;stroke-linecap:round;\"/>\n",
       "   </g>\n",
       "   <g id=\"line2d_679\">\n",
       "    <path clip-path=\"url(#p0b0046a7dc)\" d=\"M 285.641619 318.672656 \n",
       "L 285.641619 303.327656 \n",
       "\" style=\"fill:none;stroke:#4c72b0;stroke-linecap:round;\"/>\n",
       "   </g>\n",
       "   <g id=\"line2d_680\">\n",
       "    <path clip-path=\"url(#p0b0046a7dc)\" d=\"M 266.15498 318.672656 \n",
       "L 266.15498 303.327656 \n",
       "\" style=\"fill:none;stroke:#4c72b0;stroke-linecap:round;\"/>\n",
       "   </g>\n",
       "   <g id=\"line2d_681\">\n",
       "    <path clip-path=\"url(#p0b0046a7dc)\" d=\"M 222.502865 318.672656 \n",
       "L 222.502865 303.327656 \n",
       "\" style=\"fill:none;stroke:#4c72b0;stroke-linecap:round;\"/>\n",
       "   </g>\n",
       "   <g id=\"line2d_682\">\n",
       "    <path clip-path=\"url(#p0b0046a7dc)\" d=\"M 311.298193 318.672656 \n",
       "L 311.298193 303.327656 \n",
       "\" style=\"fill:none;stroke:#4c72b0;stroke-linecap:round;\"/>\n",
       "   </g>\n",
       "   <g id=\"line2d_683\">\n",
       "    <path clip-path=\"url(#p0b0046a7dc)\" d=\"M 228.683404 318.672656 \n",
       "L 228.683404 303.327656 \n",
       "\" style=\"fill:none;stroke:#4c72b0;stroke-linecap:round;\"/>\n",
       "   </g>\n",
       "   <g id=\"line2d_684\">\n",
       "    <path clip-path=\"url(#p0b0046a7dc)\" d=\"M 275.786371 318.672656 \n",
       "L 275.786371 303.327656 \n",
       "\" style=\"fill:none;stroke:#4c72b0;stroke-linecap:round;\"/>\n",
       "   </g>\n",
       "   <g id=\"line2d_685\">\n",
       "    <path clip-path=\"url(#p0b0046a7dc)\" d=\"M 306.929564 318.672656 \n",
       "L 306.929564 303.327656 \n",
       "\" style=\"fill:none;stroke:#4c72b0;stroke-linecap:round;\"/>\n",
       "   </g>\n",
       "   <g id=\"line2d_686\">\n",
       "    <path clip-path=\"url(#p0b0046a7dc)\" d=\"M 257.638641 318.672656 \n",
       "L 257.638641 303.327656 \n",
       "\" style=\"fill:none;stroke:#4c72b0;stroke-linecap:round;\"/>\n",
       "   </g>\n",
       "   <g id=\"line2d_687\">\n",
       "    <path clip-path=\"url(#p0b0046a7dc)\" d=\"M 294.015687 318.672656 \n",
       "L 294.015687 303.327656 \n",
       "\" style=\"fill:none;stroke:#4c72b0;stroke-linecap:round;\"/>\n",
       "   </g>\n",
       "   <g id=\"line2d_688\">\n",
       "    <path clip-path=\"url(#p0b0046a7dc)\" d=\"M 258.908709 318.672656 \n",
       "L 258.908709 303.327656 \n",
       "\" style=\"fill:none;stroke:#4c72b0;stroke-linecap:round;\"/>\n",
       "   </g>\n",
       "   <g id=\"line2d_689\">\n",
       "    <path clip-path=\"url(#p0b0046a7dc)\" d=\"M 283.494078 318.672656 \n",
       "L 283.494078 303.327656 \n",
       "\" style=\"fill:none;stroke:#4c72b0;stroke-linecap:round;\"/>\n",
       "   </g>\n",
       "   <g id=\"line2d_690\">\n",
       "    <path clip-path=\"url(#p0b0046a7dc)\" d=\"M 126.494776 318.672656 \n",
       "L 126.494776 303.327656 \n",
       "\" style=\"fill:none;stroke:#4c72b0;stroke-linecap:round;\"/>\n",
       "   </g>\n",
       "   <g id=\"line2d_691\">\n",
       "    <path clip-path=\"url(#p0b0046a7dc)\" d=\"M 286.273118 318.672656 \n",
       "L 286.273118 303.327656 \n",
       "\" style=\"fill:none;stroke:#4c72b0;stroke-linecap:round;\"/>\n",
       "   </g>\n",
       "   <g id=\"line2d_692\">\n",
       "    <path clip-path=\"url(#p0b0046a7dc)\" d=\"M 261.299642 318.672656 \n",
       "L 261.299642 303.327656 \n",
       "\" style=\"fill:none;stroke:#4c72b0;stroke-linecap:round;\"/>\n",
       "   </g>\n",
       "   <g id=\"line2d_693\">\n",
       "    <path clip-path=\"url(#p0b0046a7dc)\" d=\"M 297.897891 318.672656 \n",
       "L 297.897891 303.327656 \n",
       "\" style=\"fill:none;stroke:#4c72b0;stroke-linecap:round;\"/>\n",
       "   </g>\n",
       "   <g id=\"line2d_694\">\n",
       "    <path clip-path=\"url(#p0b0046a7dc)\" d=\"M 346.747617 318.672656 \n",
       "L 346.747617 303.327656 \n",
       "\" style=\"fill:none;stroke:#4c72b0;stroke-linecap:round;\"/>\n",
       "   </g>\n",
       "   <g id=\"line2d_695\">\n",
       "    <path clip-path=\"url(#p0b0046a7dc)\" d=\"M 258.618698 318.672656 \n",
       "L 258.618698 303.327656 \n",
       "\" style=\"fill:none;stroke:#4c72b0;stroke-linecap:round;\"/>\n",
       "   </g>\n",
       "   <g id=\"line2d_696\">\n",
       "    <path clip-path=\"url(#p0b0046a7dc)\" d=\"M 197.529833 318.672656 \n",
       "L 197.529833 303.327656 \n",
       "\" style=\"fill:none;stroke:#4c72b0;stroke-linecap:round;\"/>\n",
       "   </g>\n",
       "   <g id=\"line2d_697\">\n",
       "    <path clip-path=\"url(#p0b0046a7dc)\" d=\"M 417.347309 318.672656 \n",
       "L 417.347309 303.327656 \n",
       "\" style=\"fill:none;stroke:#4c72b0;stroke-linecap:round;\"/>\n",
       "   </g>\n",
       "   <g id=\"line2d_698\">\n",
       "    <path clip-path=\"url(#p0b0046a7dc)\" d=\"M 132.372247 318.672656 \n",
       "L 132.372247 303.327656 \n",
       "\" style=\"fill:none;stroke:#4c72b0;stroke-linecap:round;\"/>\n",
       "   </g>\n",
       "   <g id=\"line2d_699\">\n",
       "    <path clip-path=\"url(#p0b0046a7dc)\" d=\"M 239.22417 318.672656 \n",
       "L 239.22417 303.327656 \n",
       "\" style=\"fill:none;stroke:#4c72b0;stroke-linecap:round;\"/>\n",
       "   </g>\n",
       "   <g id=\"line2d_700\">\n",
       "    <path clip-path=\"url(#p0b0046a7dc)\" d=\"M 252.448687 318.672656 \n",
       "L 252.448687 303.327656 \n",
       "\" style=\"fill:none;stroke:#4c72b0;stroke-linecap:round;\"/>\n",
       "   </g>\n",
       "   <g id=\"line2d_701\">\n",
       "    <path clip-path=\"url(#p0b0046a7dc)\" d=\"M 250.711804 318.672656 \n",
       "L 250.711804 303.327656 \n",
       "\" style=\"fill:none;stroke:#4c72b0;stroke-linecap:round;\"/>\n",
       "   </g>\n",
       "   <g id=\"line2d_702\">\n",
       "    <path clip-path=\"url(#p0b0046a7dc)\" d=\"M 300.256033 318.672656 \n",
       "L 300.256033 303.327656 \n",
       "\" style=\"fill:none;stroke:#4c72b0;stroke-linecap:round;\"/>\n",
       "   </g>\n",
       "   <g id=\"line2d_703\">\n",
       "    <path clip-path=\"url(#p0b0046a7dc)\" d=\"M 282.144244 318.672656 \n",
       "L 282.144244 303.327656 \n",
       "\" style=\"fill:none;stroke:#4c72b0;stroke-linecap:round;\"/>\n",
       "   </g>\n",
       "   <g id=\"line2d_704\">\n",
       "    <path clip-path=\"url(#p0b0046a7dc)\" d=\"M 367.074222 318.672656 \n",
       "L 367.074222 303.327656 \n",
       "\" style=\"fill:none;stroke:#4c72b0;stroke-linecap:round;\"/>\n",
       "   </g>\n",
       "   <g id=\"line2d_705\">\n",
       "    <path clip-path=\"url(#p0b0046a7dc)\" d=\"M 207.077304 318.672656 \n",
       "L 207.077304 303.327656 \n",
       "\" style=\"fill:none;stroke:#4c72b0;stroke-linecap:round;\"/>\n",
       "   </g>\n",
       "   <g id=\"line2d_706\">\n",
       "    <path clip-path=\"url(#p0b0046a7dc)\" d=\"M 272.581132 318.672656 \n",
       "L 272.581132 303.327656 \n",
       "\" style=\"fill:none;stroke:#4c72b0;stroke-linecap:round;\"/>\n",
       "   </g>\n",
       "   <g id=\"line2d_707\">\n",
       "    <path clip-path=\"url(#p0b0046a7dc)\" d=\"M 232.813858 318.672656 \n",
       "L 232.813858 303.327656 \n",
       "\" style=\"fill:none;stroke:#4c72b0;stroke-linecap:round;\"/>\n",
       "   </g>\n",
       "   <g id=\"line2d_708\">\n",
       "    <path clip-path=\"url(#p0b0046a7dc)\" d=\"M 261.391191 318.672656 \n",
       "L 261.391191 303.327656 \n",
       "\" style=\"fill:none;stroke:#4c72b0;stroke-linecap:round;\"/>\n",
       "   </g>\n",
       "   <g id=\"line2d_709\">\n",
       "    <path clip-path=\"url(#p0b0046a7dc)\" d=\"M 224.057497 318.672656 \n",
       "L 224.057497 303.327656 \n",
       "\" style=\"fill:none;stroke:#4c72b0;stroke-linecap:round;\"/>\n",
       "   </g>\n",
       "   <g id=\"line2d_710\">\n",
       "    <path clip-path=\"url(#p0b0046a7dc)\" d=\"M 244.913518 318.672656 \n",
       "L 244.913518 303.327656 \n",
       "\" style=\"fill:none;stroke:#4c72b0;stroke-linecap:round;\"/>\n",
       "   </g>\n",
       "   <g id=\"line2d_711\">\n",
       "    <path clip-path=\"url(#p0b0046a7dc)\" d=\"M 287.862639 318.672656 \n",
       "L 287.862639 303.327656 \n",
       "\" style=\"fill:none;stroke:#4c72b0;stroke-linecap:round;\"/>\n",
       "   </g>\n",
       "   <g id=\"line2d_712\">\n",
       "    <path clip-path=\"url(#p0b0046a7dc)\" d=\"M 240.199634 318.672656 \n",
       "L 240.199634 303.327656 \n",
       "\" style=\"fill:none;stroke:#4c72b0;stroke-linecap:round;\"/>\n",
       "   </g>\n",
       "   <g id=\"line2d_713\">\n",
       "    <path clip-path=\"url(#p0b0046a7dc)\" d=\"M 293.031685 318.672656 \n",
       "L 293.031685 303.327656 \n",
       "\" style=\"fill:none;stroke:#4c72b0;stroke-linecap:round;\"/>\n",
       "   </g>\n",
       "   <g id=\"line2d_714\">\n",
       "    <path clip-path=\"url(#p0b0046a7dc)\" d=\"M 219.967692 318.672656 \n",
       "L 219.967692 303.327656 \n",
       "\" style=\"fill:none;stroke:#4c72b0;stroke-linecap:round;\"/>\n",
       "   </g>\n",
       "   <g id=\"line2d_715\">\n",
       "    <path clip-path=\"url(#p0b0046a7dc)\" d=\"M 165.218287 318.672656 \n",
       "L 165.218287 303.327656 \n",
       "\" style=\"fill:none;stroke:#4c72b0;stroke-linecap:round;\"/>\n",
       "   </g>\n",
       "   <g id=\"line2d_716\">\n",
       "    <path clip-path=\"url(#p0b0046a7dc)\" d=\"M 184.265775 318.672656 \n",
       "L 184.265775 303.327656 \n",
       "\" style=\"fill:none;stroke:#4c72b0;stroke-linecap:round;\"/>\n",
       "   </g>\n",
       "   <g id=\"line2d_717\">\n",
       "    <path clip-path=\"url(#p0b0046a7dc)\" d=\"M 240.826194 318.672656 \n",
       "L 240.826194 303.327656 \n",
       "\" style=\"fill:none;stroke:#4c72b0;stroke-linecap:round;\"/>\n",
       "   </g>\n",
       "   <g id=\"line2d_718\">\n",
       "    <path clip-path=\"url(#p0b0046a7dc)\" d=\"M 320.09149 318.672656 \n",
       "L 320.09149 303.327656 \n",
       "\" style=\"fill:none;stroke:#4c72b0;stroke-linecap:round;\"/>\n",
       "   </g>\n",
       "   <g id=\"line2d_719\">\n",
       "    <path clip-path=\"url(#p0b0046a7dc)\" d=\"M 236.841346 318.672656 \n",
       "L 236.841346 303.327656 \n",
       "\" style=\"fill:none;stroke:#4c72b0;stroke-linecap:round;\"/>\n",
       "   </g>\n",
       "   <g id=\"line2d_720\">\n",
       "    <path clip-path=\"url(#p0b0046a7dc)\" d=\"M 290.049278 318.672656 \n",
       "L 290.049278 303.327656 \n",
       "\" style=\"fill:none;stroke:#4c72b0;stroke-linecap:round;\"/>\n",
       "   </g>\n",
       "   <g id=\"line2d_721\">\n",
       "    <path clip-path=\"url(#p0b0046a7dc)\" d=\"M 200.170151 318.672656 \n",
       "L 200.170151 303.327656 \n",
       "\" style=\"fill:none;stroke:#4c72b0;stroke-linecap:round;\"/>\n",
       "   </g>\n",
       "   <g id=\"line2d_722\">\n",
       "    <path clip-path=\"url(#p0b0046a7dc)\" d=\"M 265.109388 318.672656 \n",
       "L 265.109388 303.327656 \n",
       "\" style=\"fill:none;stroke:#4c72b0;stroke-linecap:round;\"/>\n",
       "   </g>\n",
       "   <g id=\"line2d_723\">\n",
       "    <path clip-path=\"url(#p0b0046a7dc)\" d=\"M 249.440836 318.672656 \n",
       "L 249.440836 303.327656 \n",
       "\" style=\"fill:none;stroke:#4c72b0;stroke-linecap:round;\"/>\n",
       "   </g>\n",
       "   <g id=\"line2d_724\">\n",
       "    <path clip-path=\"url(#p0b0046a7dc)\" d=\"M 230.434938 318.672656 \n",
       "L 230.434938 303.327656 \n",
       "\" style=\"fill:none;stroke:#4c72b0;stroke-linecap:round;\"/>\n",
       "   </g>\n",
       "   <g id=\"line2d_725\">\n",
       "    <path clip-path=\"url(#p0b0046a7dc)\" d=\"M 254.129465 318.672656 \n",
       "L 254.129465 303.327656 \n",
       "\" style=\"fill:none;stroke:#4c72b0;stroke-linecap:round;\"/>\n",
       "   </g>\n",
       "   <g id=\"line2d_726\">\n",
       "    <path clip-path=\"url(#p0b0046a7dc)\" d=\"M 182.600756 318.672656 \n",
       "L 182.600756 303.327656 \n",
       "\" style=\"fill:none;stroke:#4c72b0;stroke-linecap:round;\"/>\n",
       "   </g>\n",
       "   <g id=\"line2d_727\">\n",
       "    <path clip-path=\"url(#p0b0046a7dc)\" d=\"M 204.488231 318.672656 \n",
       "L 204.488231 303.327656 \n",
       "\" style=\"fill:none;stroke:#4c72b0;stroke-linecap:round;\"/>\n",
       "   </g>\n",
       "   <g id=\"line2d_728\">\n",
       "    <path clip-path=\"url(#p0b0046a7dc)\" d=\"M 325.649323 318.672656 \n",
       "L 325.649323 303.327656 \n",
       "\" style=\"fill:none;stroke:#4c72b0;stroke-linecap:round;\"/>\n",
       "   </g>\n",
       "   <g id=\"line2d_729\">\n",
       "    <path clip-path=\"url(#p0b0046a7dc)\" d=\"M 414.298763 318.672656 \n",
       "L 414.298763 303.327656 \n",
       "\" style=\"fill:none;stroke:#4c72b0;stroke-linecap:round;\"/>\n",
       "   </g>\n",
       "   <g id=\"line2d_730\">\n",
       "    <path clip-path=\"url(#p0b0046a7dc)\" d=\"M 228.251295 318.672656 \n",
       "L 228.251295 303.327656 \n",
       "\" style=\"fill:none;stroke:#4c72b0;stroke-linecap:round;\"/>\n",
       "   </g>\n",
       "   <g id=\"line2d_731\">\n",
       "    <path clip-path=\"url(#p0b0046a7dc)\" d=\"M 288.96853 318.672656 \n",
       "L 288.96853 303.327656 \n",
       "\" style=\"fill:none;stroke:#4c72b0;stroke-linecap:round;\"/>\n",
       "   </g>\n",
       "   <g id=\"line2d_732\">\n",
       "    <path clip-path=\"url(#p0b0046a7dc)\" d=\"M 208.329377 318.672656 \n",
       "L 208.329377 303.327656 \n",
       "\" style=\"fill:none;stroke:#4c72b0;stroke-linecap:round;\"/>\n",
       "   </g>\n",
       "   <g id=\"line2d_733\">\n",
       "    <path clip-path=\"url(#p0b0046a7dc)\" d=\"M 143.332361 318.672656 \n",
       "L 143.332361 303.327656 \n",
       "\" style=\"fill:none;stroke:#4c72b0;stroke-linecap:round;\"/>\n",
       "   </g>\n",
       "   <g id=\"line2d_734\">\n",
       "    <path clip-path=\"url(#p0b0046a7dc)\" d=\"M 338.312059 318.672656 \n",
       "L 338.312059 303.327656 \n",
       "\" style=\"fill:none;stroke:#4c72b0;stroke-linecap:round;\"/>\n",
       "   </g>\n",
       "   <g id=\"line2d_735\">\n",
       "    <path clip-path=\"url(#p0b0046a7dc)\" d=\"M 268.212017 318.672656 \n",
       "L 268.212017 303.327656 \n",
       "\" style=\"fill:none;stroke:#4c72b0;stroke-linecap:round;\"/>\n",
       "   </g>\n",
       "   <g id=\"line2d_736\">\n",
       "    <path clip-path=\"url(#p0b0046a7dc)\" d=\"M 204.425794 318.672656 \n",
       "L 204.425794 303.327656 \n",
       "\" style=\"fill:none;stroke:#4c72b0;stroke-linecap:round;\"/>\n",
       "   </g>\n",
       "   <g id=\"line2d_737\">\n",
       "    <path clip-path=\"url(#p0b0046a7dc)\" d=\"M 363.348903 318.672656 \n",
       "L 363.348903 303.327656 \n",
       "\" style=\"fill:none;stroke:#4c72b0;stroke-linecap:round;\"/>\n",
       "   </g>\n",
       "   <g id=\"line2d_738\">\n",
       "    <path clip-path=\"url(#p0b0046a7dc)\" d=\"M 220.410946 318.672656 \n",
       "L 220.410946 303.327656 \n",
       "\" style=\"fill:none;stroke:#4c72b0;stroke-linecap:round;\"/>\n",
       "   </g>\n",
       "   <g id=\"line2d_739\">\n",
       "    <path clip-path=\"url(#p0b0046a7dc)\" d=\"M 212.738245 318.672656 \n",
       "L 212.738245 303.327656 \n",
       "\" style=\"fill:none;stroke:#4c72b0;stroke-linecap:round;\"/>\n",
       "   </g>\n",
       "   <g id=\"line2d_740\">\n",
       "    <path clip-path=\"url(#p0b0046a7dc)\" d=\"M 166.534374 318.672656 \n",
       "L 166.534374 303.327656 \n",
       "\" style=\"fill:none;stroke:#4c72b0;stroke-linecap:round;\"/>\n",
       "   </g>\n",
       "   <g id=\"line2d_741\">\n",
       "    <path clip-path=\"url(#p0b0046a7dc)\" d=\"M 201.986865 318.672656 \n",
       "L 201.986865 303.327656 \n",
       "\" style=\"fill:none;stroke:#4c72b0;stroke-linecap:round;\"/>\n",
       "   </g>\n",
       "   <g id=\"line2d_742\">\n",
       "    <path clip-path=\"url(#p0b0046a7dc)\" d=\"M 221.6351 318.672656 \n",
       "L 221.6351 303.327656 \n",
       "\" style=\"fill:none;stroke:#4c72b0;stroke-linecap:round;\"/>\n",
       "   </g>\n",
       "   <g id=\"line2d_743\">\n",
       "    <path clip-path=\"url(#p0b0046a7dc)\" d=\"M 328.977751 318.672656 \n",
       "L 328.977751 303.327656 \n",
       "\" style=\"fill:none;stroke:#4c72b0;stroke-linecap:round;\"/>\n",
       "   </g>\n",
       "   <g id=\"line2d_744\">\n",
       "    <path clip-path=\"url(#p0b0046a7dc)\" d=\"M 258.616851 318.672656 \n",
       "L 258.616851 303.327656 \n",
       "\" style=\"fill:none;stroke:#4c72b0;stroke-linecap:round;\"/>\n",
       "   </g>\n",
       "   <g id=\"line2d_745\">\n",
       "    <path clip-path=\"url(#p0b0046a7dc)\" d=\"M 255.928464 318.672656 \n",
       "L 255.928464 303.327656 \n",
       "\" style=\"fill:none;stroke:#4c72b0;stroke-linecap:round;\"/>\n",
       "   </g>\n",
       "   <g id=\"line2d_746\">\n",
       "    <path clip-path=\"url(#p0b0046a7dc)\" d=\"M 227.16865 318.672656 \n",
       "L 227.16865 303.327656 \n",
       "\" style=\"fill:none;stroke:#4c72b0;stroke-linecap:round;\"/>\n",
       "   </g>\n",
       "   <g id=\"line2d_747\">\n",
       "    <path clip-path=\"url(#p0b0046a7dc)\" d=\"M 296.079974 318.672656 \n",
       "L 296.079974 303.327656 \n",
       "\" style=\"fill:none;stroke:#4c72b0;stroke-linecap:round;\"/>\n",
       "   </g>\n",
       "   <g id=\"line2d_748\">\n",
       "    <path clip-path=\"url(#p0b0046a7dc)\" d=\"M 330.615938 318.672656 \n",
       "L 330.615938 303.327656 \n",
       "\" style=\"fill:none;stroke:#4c72b0;stroke-linecap:round;\"/>\n",
       "   </g>\n",
       "   <g id=\"line2d_749\">\n",
       "    <path clip-path=\"url(#p0b0046a7dc)\" d=\"M 229.797919 318.672656 \n",
       "L 229.797919 303.327656 \n",
       "\" style=\"fill:none;stroke:#4c72b0;stroke-linecap:round;\"/>\n",
       "   </g>\n",
       "   <g id=\"line2d_750\">\n",
       "    <path clip-path=\"url(#p0b0046a7dc)\" d=\"M 206.094171 318.672656 \n",
       "L 206.094171 303.327656 \n",
       "\" style=\"fill:none;stroke:#4c72b0;stroke-linecap:round;\"/>\n",
       "   </g>\n",
       "   <g id=\"line2d_751\">\n",
       "    <path clip-path=\"url(#p0b0046a7dc)\" d=\"M 257.337602 318.672656 \n",
       "L 257.337602 303.327656 \n",
       "\" style=\"fill:none;stroke:#4c72b0;stroke-linecap:round;\"/>\n",
       "   </g>\n",
       "   <g id=\"line2d_752\">\n",
       "    <path clip-path=\"url(#p0b0046a7dc)\" d=\"M 244.77003 318.672656 \n",
       "L 244.77003 303.327656 \n",
       "\" style=\"fill:none;stroke:#4c72b0;stroke-linecap:round;\"/>\n",
       "   </g>\n",
       "   <g id=\"line2d_753\">\n",
       "    <path clip-path=\"url(#p0b0046a7dc)\" d=\"M 197.654875 318.672656 \n",
       "L 197.654875 303.327656 \n",
       "\" style=\"fill:none;stroke:#4c72b0;stroke-linecap:round;\"/>\n",
       "   </g>\n",
       "   <g id=\"line2d_754\">\n",
       "    <path clip-path=\"url(#p0b0046a7dc)\" d=\"M 359.322856 318.672656 \n",
       "L 359.322856 303.327656 \n",
       "\" style=\"fill:none;stroke:#4c72b0;stroke-linecap:round;\"/>\n",
       "   </g>\n",
       "   <g id=\"line2d_755\">\n",
       "    <path clip-path=\"url(#p0b0046a7dc)\" d=\"M 312.252668 318.672656 \n",
       "L 312.252668 303.327656 \n",
       "\" style=\"fill:none;stroke:#4c72b0;stroke-linecap:round;\"/>\n",
       "   </g>\n",
       "   <g id=\"line2d_756\">\n",
       "    <path clip-path=\"url(#p0b0046a7dc)\" d=\"M 244.724914 318.672656 \n",
       "L 244.724914 303.327656 \n",
       "\" style=\"fill:none;stroke:#4c72b0;stroke-linecap:round;\"/>\n",
       "   </g>\n",
       "   <g id=\"line2d_757\">\n",
       "    <path clip-path=\"url(#p0b0046a7dc)\" d=\"M 175.677729 318.672656 \n",
       "L 175.677729 303.327656 \n",
       "\" style=\"fill:none;stroke:#4c72b0;stroke-linecap:round;\"/>\n",
       "   </g>\n",
       "   <g id=\"line2d_758\">\n",
       "    <path clip-path=\"url(#p0b0046a7dc)\" d=\"M 295.273814 318.672656 \n",
       "L 295.273814 303.327656 \n",
       "\" style=\"fill:none;stroke:#4c72b0;stroke-linecap:round;\"/>\n",
       "   </g>\n",
       "   <g id=\"line2d_759\">\n",
       "    <path clip-path=\"url(#p0b0046a7dc)\" d=\"M 199.628117 318.672656 \n",
       "L 199.628117 303.327656 \n",
       "\" style=\"fill:none;stroke:#4c72b0;stroke-linecap:round;\"/>\n",
       "   </g>\n",
       "   <g id=\"line2d_760\">\n",
       "    <path clip-path=\"url(#p0b0046a7dc)\" d=\"M 222.358856 318.672656 \n",
       "L 222.358856 303.327656 \n",
       "\" style=\"fill:none;stroke:#4c72b0;stroke-linecap:round;\"/>\n",
       "   </g>\n",
       "   <g id=\"line2d_761\">\n",
       "    <path clip-path=\"url(#p0b0046a7dc)\" d=\"M 305.054751 318.672656 \n",
       "L 305.054751 303.327656 \n",
       "\" style=\"fill:none;stroke:#4c72b0;stroke-linecap:round;\"/>\n",
       "   </g>\n",
       "   <g id=\"line2d_762\">\n",
       "    <path clip-path=\"url(#p0b0046a7dc)\" d=\"M 190.202477 318.672656 \n",
       "L 190.202477 303.327656 \n",
       "\" style=\"fill:none;stroke:#4c72b0;stroke-linecap:round;\"/>\n",
       "   </g>\n",
       "   <g id=\"line2d_763\">\n",
       "    <path clip-path=\"url(#p0b0046a7dc)\" d=\"M 182.221505 318.672656 \n",
       "L 182.221505 303.327656 \n",
       "\" style=\"fill:none;stroke:#4c72b0;stroke-linecap:round;\"/>\n",
       "   </g>\n",
       "   <g id=\"line2d_764\">\n",
       "    <path clip-path=\"url(#p0b0046a7dc)\" d=\"M 300.001185 318.672656 \n",
       "L 300.001185 303.327656 \n",
       "\" style=\"fill:none;stroke:#4c72b0;stroke-linecap:round;\"/>\n",
       "   </g>\n",
       "   <g id=\"line2d_765\">\n",
       "    <path clip-path=\"url(#p0b0046a7dc)\" d=\"M 319.682186 318.672656 \n",
       "L 319.682186 303.327656 \n",
       "\" style=\"fill:none;stroke:#4c72b0;stroke-linecap:round;\"/>\n",
       "   </g>\n",
       "   <g id=\"line2d_766\">\n",
       "    <path clip-path=\"url(#p0b0046a7dc)\" d=\"M 263.782144 318.672656 \n",
       "L 263.782144 303.327656 \n",
       "\" style=\"fill:none;stroke:#4c72b0;stroke-linecap:round;\"/>\n",
       "   </g>\n",
       "   <g id=\"line2d_767\">\n",
       "    <path clip-path=\"url(#p0b0046a7dc)\" d=\"M 267.474892 318.672656 \n",
       "L 267.474892 303.327656 \n",
       "\" style=\"fill:none;stroke:#4c72b0;stroke-linecap:round;\"/>\n",
       "   </g>\n",
       "   <g id=\"line2d_768\">\n",
       "    <path clip-path=\"url(#p0b0046a7dc)\" d=\"M 251.468413 318.672656 \n",
       "L 251.468413 303.327656 \n",
       "\" style=\"fill:none;stroke:#4c72b0;stroke-linecap:round;\"/>\n",
       "   </g>\n",
       "   <g id=\"line2d_769\">\n",
       "    <path clip-path=\"url(#p0b0046a7dc)\" d=\"M 287.19657 318.672656 \n",
       "L 287.19657 303.327656 \n",
       "\" style=\"fill:none;stroke:#4c72b0;stroke-linecap:round;\"/>\n",
       "   </g>\n",
       "   <g id=\"line2d_770\">\n",
       "    <path clip-path=\"url(#p0b0046a7dc)\" d=\"M 208.885323 318.672656 \n",
       "L 208.885323 303.327656 \n",
       "\" style=\"fill:none;stroke:#4c72b0;stroke-linecap:round;\"/>\n",
       "   </g>\n",
       "   <g id=\"line2d_771\">\n",
       "    <path clip-path=\"url(#p0b0046a7dc)\" d=\"M 260.177208 318.672656 \n",
       "L 260.177208 303.327656 \n",
       "\" style=\"fill:none;stroke:#4c72b0;stroke-linecap:round;\"/>\n",
       "   </g>\n",
       "   <g id=\"line2d_772\">\n",
       "    <path clip-path=\"url(#p0b0046a7dc)\" d=\"M 274.837037 318.672656 \n",
       "L 274.837037 303.327656 \n",
       "\" style=\"fill:none;stroke:#4c72b0;stroke-linecap:round;\"/>\n",
       "   </g>\n",
       "   <g id=\"line2d_773\">\n",
       "    <path clip-path=\"url(#p0b0046a7dc)\" d=\"M 251.926272 318.672656 \n",
       "L 251.926272 303.327656 \n",
       "\" style=\"fill:none;stroke:#4c72b0;stroke-linecap:round;\"/>\n",
       "   </g>\n",
       "   <g id=\"line2d_774\">\n",
       "    <path clip-path=\"url(#p0b0046a7dc)\" d=\"M 208.516571 318.672656 \n",
       "L 208.516571 303.327656 \n",
       "\" style=\"fill:none;stroke:#4c72b0;stroke-linecap:round;\"/>\n",
       "   </g>\n",
       "   <g id=\"line2d_775\">\n",
       "    <path clip-path=\"url(#p0b0046a7dc)\" d=\"M 223.838843 318.672656 \n",
       "L 223.838843 303.327656 \n",
       "\" style=\"fill:none;stroke:#4c72b0;stroke-linecap:round;\"/>\n",
       "   </g>\n",
       "   <g id=\"line2d_776\">\n",
       "    <path clip-path=\"url(#p0b0046a7dc)\" d=\"M 285.989179 318.672656 \n",
       "L 285.989179 303.327656 \n",
       "\" style=\"fill:none;stroke:#4c72b0;stroke-linecap:round;\"/>\n",
       "   </g>\n",
       "   <g id=\"line2d_777\">\n",
       "    <path clip-path=\"url(#p0b0046a7dc)\" d=\"M 313.424162 318.672656 \n",
       "L 313.424162 303.327656 \n",
       "\" style=\"fill:none;stroke:#4c72b0;stroke-linecap:round;\"/>\n",
       "   </g>\n",
       "   <g id=\"line2d_778\">\n",
       "    <path clip-path=\"url(#p0b0046a7dc)\" d=\"M 187.948739 318.672656 \n",
       "L 187.948739 303.327656 \n",
       "\" style=\"fill:none;stroke:#4c72b0;stroke-linecap:round;\"/>\n",
       "   </g>\n",
       "   <g id=\"line2d_779\">\n",
       "    <path clip-path=\"url(#p0b0046a7dc)\" d=\"M 320.794019 318.672656 \n",
       "L 320.794019 303.327656 \n",
       "\" style=\"fill:none;stroke:#4c72b0;stroke-linecap:round;\"/>\n",
       "   </g>\n",
       "   <g id=\"line2d_780\">\n",
       "    <path clip-path=\"url(#p0b0046a7dc)\" d=\"M 205.971762 318.672656 \n",
       "L 205.971762 303.327656 \n",
       "\" style=\"fill:none;stroke:#4c72b0;stroke-linecap:round;\"/>\n",
       "   </g>\n",
       "   <g id=\"line2d_781\">\n",
       "    <path clip-path=\"url(#p0b0046a7dc)\" d=\"M 285.745986 318.672656 \n",
       "L 285.745986 303.327656 \n",
       "\" style=\"fill:none;stroke:#4c72b0;stroke-linecap:round;\"/>\n",
       "   </g>\n",
       "   <g id=\"line2d_782\">\n",
       "    <path clip-path=\"url(#p0b0046a7dc)\" d=\"M 282.634251 318.672656 \n",
       "L 282.634251 303.327656 \n",
       "\" style=\"fill:none;stroke:#4c72b0;stroke-linecap:round;\"/>\n",
       "   </g>\n",
       "   <g id=\"line2d_783\">\n",
       "    <path clip-path=\"url(#p0b0046a7dc)\" d=\"M 138.110211 318.672656 \n",
       "L 138.110211 303.327656 \n",
       "\" style=\"fill:none;stroke:#4c72b0;stroke-linecap:round;\"/>\n",
       "   </g>\n",
       "   <g id=\"line2d_784\">\n",
       "    <path clip-path=\"url(#p0b0046a7dc)\" d=\"M 307.090054 318.672656 \n",
       "L 307.090054 303.327656 \n",
       "\" style=\"fill:none;stroke:#4c72b0;stroke-linecap:round;\"/>\n",
       "   </g>\n",
       "   <g id=\"line2d_785\">\n",
       "    <path clip-path=\"url(#p0b0046a7dc)\" d=\"M 190.876174 318.672656 \n",
       "L 190.876174 303.327656 \n",
       "\" style=\"fill:none;stroke:#4c72b0;stroke-linecap:round;\"/>\n",
       "   </g>\n",
       "   <g id=\"line2d_786\">\n",
       "    <path clip-path=\"url(#p0b0046a7dc)\" d=\"M 281.776572 318.672656 \n",
       "L 281.776572 303.327656 \n",
       "\" style=\"fill:none;stroke:#4c72b0;stroke-linecap:round;\"/>\n",
       "   </g>\n",
       "   <g id=\"line2d_787\">\n",
       "    <path clip-path=\"url(#p0b0046a7dc)\" d=\"M 287.510845 318.672656 \n",
       "L 287.510845 303.327656 \n",
       "\" style=\"fill:none;stroke:#4c72b0;stroke-linecap:round;\"/>\n",
       "   </g>\n",
       "   <g id=\"line2d_788\">\n",
       "    <path clip-path=\"url(#p0b0046a7dc)\" d=\"M 228.448872 318.672656 \n",
       "L 228.448872 303.327656 \n",
       "\" style=\"fill:none;stroke:#4c72b0;stroke-linecap:round;\"/>\n",
       "   </g>\n",
       "   <g id=\"line2d_789\">\n",
       "    <path clip-path=\"url(#p0b0046a7dc)\" d=\"M 236.647645 318.672656 \n",
       "L 236.647645 303.327656 \n",
       "\" style=\"fill:none;stroke:#4c72b0;stroke-linecap:round;\"/>\n",
       "   </g>\n",
       "   <g id=\"line2d_790\">\n",
       "    <path clip-path=\"url(#p0b0046a7dc)\" d=\"M 325.718675 318.672656 \n",
       "L 325.718675 303.327656 \n",
       "\" style=\"fill:none;stroke:#4c72b0;stroke-linecap:round;\"/>\n",
       "   </g>\n",
       "   <g id=\"line2d_791\">\n",
       "    <path clip-path=\"url(#p0b0046a7dc)\" d=\"M 118.607448 318.672656 \n",
       "L 118.607448 303.327656 \n",
       "\" style=\"fill:none;stroke:#4c72b0;stroke-linecap:round;\"/>\n",
       "   </g>\n",
       "   <g id=\"line2d_792\">\n",
       "    <path clip-path=\"url(#p0b0046a7dc)\" d=\"M 192.712686 318.672656 \n",
       "L 192.712686 303.327656 \n",
       "\" style=\"fill:none;stroke:#4c72b0;stroke-linecap:round;\"/>\n",
       "   </g>\n",
       "   <g id=\"line2d_793\">\n",
       "    <path clip-path=\"url(#p0b0046a7dc)\" d=\"M 172.209307 318.672656 \n",
       "L 172.209307 303.327656 \n",
       "\" style=\"fill:none;stroke:#4c72b0;stroke-linecap:round;\"/>\n",
       "   </g>\n",
       "   <g id=\"line2d_794\">\n",
       "    <path clip-path=\"url(#p0b0046a7dc)\" d=\"M 242.05322 318.672656 \n",
       "L 242.05322 303.327656 \n",
       "\" style=\"fill:none;stroke:#4c72b0;stroke-linecap:round;\"/>\n",
       "   </g>\n",
       "   <g id=\"line2d_795\">\n",
       "    <path clip-path=\"url(#p0b0046a7dc)\" d=\"M 288.38201 318.672656 \n",
       "L 288.38201 303.327656 \n",
       "\" style=\"fill:none;stroke:#4c72b0;stroke-linecap:round;\"/>\n",
       "   </g>\n",
       "   <g id=\"line2d_796\">\n",
       "    <path clip-path=\"url(#p0b0046a7dc)\" d=\"M 230.177028 318.672656 \n",
       "L 230.177028 303.327656 \n",
       "\" style=\"fill:none;stroke:#4c72b0;stroke-linecap:round;\"/>\n",
       "   </g>\n",
       "   <g id=\"line2d_797\">\n",
       "    <path clip-path=\"url(#p0b0046a7dc)\" d=\"M 265.989609 318.672656 \n",
       "L 265.989609 303.327656 \n",
       "\" style=\"fill:none;stroke:#4c72b0;stroke-linecap:round;\"/>\n",
       "   </g>\n",
       "   <g id=\"line2d_798\">\n",
       "    <path clip-path=\"url(#p0b0046a7dc)\" d=\"M 344.780859 318.672656 \n",
       "L 344.780859 303.327656 \n",
       "\" style=\"fill:none;stroke:#4c72b0;stroke-linecap:round;\"/>\n",
       "   </g>\n",
       "   <g id=\"line2d_799\">\n",
       "    <path clip-path=\"url(#p0b0046a7dc)\" d=\"M 312.428238 318.672656 \n",
       "L 312.428238 303.327656 \n",
       "\" style=\"fill:none;stroke:#4c72b0;stroke-linecap:round;\"/>\n",
       "   </g>\n",
       "   <g id=\"line2d_800\">\n",
       "    <path clip-path=\"url(#p0b0046a7dc)\" d=\"M 282.083428 318.672656 \n",
       "L 282.083428 303.327656 \n",
       "\" style=\"fill:none;stroke:#4c72b0;stroke-linecap:round;\"/>\n",
       "   </g>\n",
       "   <g id=\"line2d_801\">\n",
       "    <path clip-path=\"url(#p0b0046a7dc)\" d=\"M 377.235243 318.672656 \n",
       "L 377.235243 303.327656 \n",
       "\" style=\"fill:none;stroke:#4c72b0;stroke-linecap:round;\"/>\n",
       "   </g>\n",
       "   <g id=\"line2d_802\">\n",
       "    <path clip-path=\"url(#p0b0046a7dc)\" d=\"M 279.425757 318.672656 \n",
       "L 279.425757 303.327656 \n",
       "\" style=\"fill:none;stroke:#4c72b0;stroke-linecap:round;\"/>\n",
       "   </g>\n",
       "   <g id=\"line2d_803\">\n",
       "    <path clip-path=\"url(#p0b0046a7dc)\" d=\"M 268.653459 318.672656 \n",
       "L 268.653459 303.327656 \n",
       "\" style=\"fill:none;stroke:#4c72b0;stroke-linecap:round;\"/>\n",
       "   </g>\n",
       "   <g id=\"line2d_804\">\n",
       "    <path clip-path=\"url(#p0b0046a7dc)\" d=\"M 233.933132 318.672656 \n",
       "L 233.933132 303.327656 \n",
       "\" style=\"fill:none;stroke:#4c72b0;stroke-linecap:round;\"/>\n",
       "   </g>\n",
       "   <g id=\"line2d_805\">\n",
       "    <path clip-path=\"url(#p0b0046a7dc)\" d=\"M 252.683018 318.672656 \n",
       "L 252.683018 303.327656 \n",
       "\" style=\"fill:none;stroke:#4c72b0;stroke-linecap:round;\"/>\n",
       "   </g>\n",
       "   <g id=\"line2d_806\">\n",
       "    <path clip-path=\"url(#p0b0046a7dc)\" d=\"M 274.979407 318.672656 \n",
       "L 274.979407 303.327656 \n",
       "\" style=\"fill:none;stroke:#4c72b0;stroke-linecap:round;\"/>\n",
       "   </g>\n",
       "   <g id=\"line2d_807\">\n",
       "    <path clip-path=\"url(#p0b0046a7dc)\" d=\"M 286.386981 318.672656 \n",
       "L 286.386981 303.327656 \n",
       "\" style=\"fill:none;stroke:#4c72b0;stroke-linecap:round;\"/>\n",
       "   </g>\n",
       "   <g id=\"line2d_808\">\n",
       "    <path clip-path=\"url(#p0b0046a7dc)\" d=\"M 243.377284 318.672656 \n",
       "L 243.377284 303.327656 \n",
       "\" style=\"fill:none;stroke:#4c72b0;stroke-linecap:round;\"/>\n",
       "   </g>\n",
       "   <g id=\"line2d_809\">\n",
       "    <path clip-path=\"url(#p0b0046a7dc)\" d=\"M 231.818813 318.672656 \n",
       "L 231.818813 303.327656 \n",
       "\" style=\"fill:none;stroke:#4c72b0;stroke-linecap:round;\"/>\n",
       "   </g>\n",
       "   <g id=\"line2d_810\">\n",
       "    <path clip-path=\"url(#p0b0046a7dc)\" d=\"M 192.401224 318.672656 \n",
       "L 192.401224 303.327656 \n",
       "\" style=\"fill:none;stroke:#4c72b0;stroke-linecap:round;\"/>\n",
       "   </g>\n",
       "   <g id=\"line2d_811\">\n",
       "    <path clip-path=\"url(#p0b0046a7dc)\" d=\"M 254.001452 318.672656 \n",
       "L 254.001452 303.327656 \n",
       "\" style=\"fill:none;stroke:#4c72b0;stroke-linecap:round;\"/>\n",
       "   </g>\n",
       "   <g id=\"line2d_812\">\n",
       "    <path clip-path=\"url(#p0b0046a7dc)\" d=\"M 234.640816 318.672656 \n",
       "L 234.640816 303.327656 \n",
       "\" style=\"fill:none;stroke:#4c72b0;stroke-linecap:round;\"/>\n",
       "   </g>\n",
       "   <g id=\"line2d_813\">\n",
       "    <path clip-path=\"url(#p0b0046a7dc)\" d=\"M 278.765821 318.672656 \n",
       "L 278.765821 303.327656 \n",
       "\" style=\"fill:none;stroke:#4c72b0;stroke-linecap:round;\"/>\n",
       "   </g>\n",
       "   <g id=\"line2d_814\">\n",
       "    <path clip-path=\"url(#p0b0046a7dc)\" d=\"M 186.923042 318.672656 \n",
       "L 186.923042 303.327656 \n",
       "\" style=\"fill:none;stroke:#4c72b0;stroke-linecap:round;\"/>\n",
       "   </g>\n",
       "   <g id=\"line2d_815\">\n",
       "    <path clip-path=\"url(#p0b0046a7dc)\" d=\"M 208.953887 318.672656 \n",
       "L 208.953887 303.327656 \n",
       "\" style=\"fill:none;stroke:#4c72b0;stroke-linecap:round;\"/>\n",
       "   </g>\n",
       "   <g id=\"line2d_816\">\n",
       "    <path clip-path=\"url(#p0b0046a7dc)\" d=\"M 310.431359 318.672656 \n",
       "L 310.431359 303.327656 \n",
       "\" style=\"fill:none;stroke:#4c72b0;stroke-linecap:round;\"/>\n",
       "   </g>\n",
       "   <g id=\"line2d_817\">\n",
       "    <path clip-path=\"url(#p0b0046a7dc)\" d=\"M 296.719907 318.672656 \n",
       "L 296.719907 303.327656 \n",
       "\" style=\"fill:none;stroke:#4c72b0;stroke-linecap:round;\"/>\n",
       "   </g>\n",
       "   <g id=\"line2d_818\">\n",
       "    <path clip-path=\"url(#p0b0046a7dc)\" d=\"M 227.094479 318.672656 \n",
       "L 227.094479 303.327656 \n",
       "\" style=\"fill:none;stroke:#4c72b0;stroke-linecap:round;\"/>\n",
       "   </g>\n",
       "   <g id=\"line2d_819\">\n",
       "    <path clip-path=\"url(#p0b0046a7dc)\" d=\"M 182.55152 318.672656 \n",
       "L 182.55152 303.327656 \n",
       "\" style=\"fill:none;stroke:#4c72b0;stroke-linecap:round;\"/>\n",
       "   </g>\n",
       "   <g id=\"line2d_820\">\n",
       "    <path clip-path=\"url(#p0b0046a7dc)\" d=\"M 240.662224 318.672656 \n",
       "L 240.662224 303.327656 \n",
       "\" style=\"fill:none;stroke:#4c72b0;stroke-linecap:round;\"/>\n",
       "   </g>\n",
       "   <g id=\"line2d_821\">\n",
       "    <path clip-path=\"url(#p0b0046a7dc)\" d=\"M 205.92663 318.672656 \n",
       "L 205.92663 303.327656 \n",
       "\" style=\"fill:none;stroke:#4c72b0;stroke-linecap:round;\"/>\n",
       "   </g>\n",
       "   <g id=\"line2d_822\">\n",
       "    <path clip-path=\"url(#p0b0046a7dc)\" d=\"M 183.42929 318.672656 \n",
       "L 183.42929 303.327656 \n",
       "\" style=\"fill:none;stroke:#4c72b0;stroke-linecap:round;\"/>\n",
       "   </g>\n",
       "   <g id=\"line2d_823\">\n",
       "    <path clip-path=\"url(#p0b0046a7dc)\" d=\"M 267.463134 318.672656 \n",
       "L 267.463134 303.327656 \n",
       "\" style=\"fill:none;stroke:#4c72b0;stroke-linecap:round;\"/>\n",
       "   </g>\n",
       "   <g id=\"line2d_824\">\n",
       "    <path clip-path=\"url(#p0b0046a7dc)\" d=\"M 177.456807 318.672656 \n",
       "L 177.456807 303.327656 \n",
       "\" style=\"fill:none;stroke:#4c72b0;stroke-linecap:round;\"/>\n",
       "   </g>\n",
       "   <g id=\"line2d_825\">\n",
       "    <path clip-path=\"url(#p0b0046a7dc)\" d=\"M 337.281676 318.672656 \n",
       "L 337.281676 303.327656 \n",
       "\" style=\"fill:none;stroke:#4c72b0;stroke-linecap:round;\"/>\n",
       "   </g>\n",
       "   <g id=\"line2d_826\">\n",
       "    <path clip-path=\"url(#p0b0046a7dc)\" d=\"M 276.845793 318.672656 \n",
       "L 276.845793 303.327656 \n",
       "\" style=\"fill:none;stroke:#4c72b0;stroke-linecap:round;\"/>\n",
       "   </g>\n",
       "   <g id=\"line2d_827\">\n",
       "    <path clip-path=\"url(#p0b0046a7dc)\" d=\"M 197.907838 318.672656 \n",
       "L 197.907838 303.327656 \n",
       "\" style=\"fill:none;stroke:#4c72b0;stroke-linecap:round;\"/>\n",
       "   </g>\n",
       "   <g id=\"line2d_828\">\n",
       "    <path clip-path=\"url(#p0b0046a7dc)\" d=\"M 302.204675 318.672656 \n",
       "L 302.204675 303.327656 \n",
       "\" style=\"fill:none;stroke:#4c72b0;stroke-linecap:round;\"/>\n",
       "   </g>\n",
       "   <g id=\"line2d_829\">\n",
       "    <path clip-path=\"url(#p0b0046a7dc)\" d=\"M 256.289604 318.672656 \n",
       "L 256.289604 303.327656 \n",
       "\" style=\"fill:none;stroke:#4c72b0;stroke-linecap:round;\"/>\n",
       "   </g>\n",
       "   <g id=\"line2d_830\">\n",
       "    <path clip-path=\"url(#p0b0046a7dc)\" d=\"M 232.490605 318.672656 \n",
       "L 232.490605 303.327656 \n",
       "\" style=\"fill:none;stroke:#4c72b0;stroke-linecap:round;\"/>\n",
       "   </g>\n",
       "   <g id=\"line2d_831\">\n",
       "    <path clip-path=\"url(#p0b0046a7dc)\" d=\"M 286.430865 318.672656 \n",
       "L 286.430865 303.327656 \n",
       "\" style=\"fill:none;stroke:#4c72b0;stroke-linecap:round;\"/>\n",
       "   </g>\n",
       "   <g id=\"line2d_832\">\n",
       "    <path clip-path=\"url(#p0b0046a7dc)\" d=\"M 227.607088 318.672656 \n",
       "L 227.607088 303.327656 \n",
       "\" style=\"fill:none;stroke:#4c72b0;stroke-linecap:round;\"/>\n",
       "   </g>\n",
       "   <g id=\"line2d_833\">\n",
       "    <path clip-path=\"url(#p0b0046a7dc)\" d=\"M 357.311204 318.672656 \n",
       "L 357.311204 303.327656 \n",
       "\" style=\"fill:none;stroke:#4c72b0;stroke-linecap:round;\"/>\n",
       "   </g>\n",
       "   <g id=\"line2d_834\">\n",
       "    <path clip-path=\"url(#p0b0046a7dc)\" d=\"M 201.343779 318.672656 \n",
       "L 201.343779 303.327656 \n",
       "\" style=\"fill:none;stroke:#4c72b0;stroke-linecap:round;\"/>\n",
       "   </g>\n",
       "   <g id=\"line2d_835\">\n",
       "    <path clip-path=\"url(#p0b0046a7dc)\" d=\"M 214.228172 318.672656 \n",
       "L 214.228172 303.327656 \n",
       "\" style=\"fill:none;stroke:#4c72b0;stroke-linecap:round;\"/>\n",
       "   </g>\n",
       "   <g id=\"line2d_836\">\n",
       "    <path clip-path=\"url(#p0b0046a7dc)\" d=\"M 235.835924 318.672656 \n",
       "L 235.835924 303.327656 \n",
       "\" style=\"fill:none;stroke:#4c72b0;stroke-linecap:round;\"/>\n",
       "   </g>\n",
       "   <g id=\"line2d_837\">\n",
       "    <path clip-path=\"url(#p0b0046a7dc)\" d=\"M 199.642023 318.672656 \n",
       "L 199.642023 303.327656 \n",
       "\" style=\"fill:none;stroke:#4c72b0;stroke-linecap:round;\"/>\n",
       "   </g>\n",
       "   <g id=\"line2d_838\">\n",
       "    <path clip-path=\"url(#p0b0046a7dc)\" d=\"M 318.734929 318.672656 \n",
       "L 318.734929 303.327656 \n",
       "\" style=\"fill:none;stroke:#4c72b0;stroke-linecap:round;\"/>\n",
       "   </g>\n",
       "   <g id=\"line2d_839\">\n",
       "    <path clip-path=\"url(#p0b0046a7dc)\" d=\"M 207.005962 318.672656 \n",
       "L 207.005962 303.327656 \n",
       "\" style=\"fill:none;stroke:#4c72b0;stroke-linecap:round;\"/>\n",
       "   </g>\n",
       "   <g id=\"line2d_840\">\n",
       "    <path clip-path=\"url(#p0b0046a7dc)\" d=\"M 248.001481 318.672656 \n",
       "L 248.001481 303.327656 \n",
       "\" style=\"fill:none;stroke:#4c72b0;stroke-linecap:round;\"/>\n",
       "   </g>\n",
       "   <g id=\"line2d_841\">\n",
       "    <path clip-path=\"url(#p0b0046a7dc)\" d=\"M 278.193167 318.672656 \n",
       "L 278.193167 303.327656 \n",
       "\" style=\"fill:none;stroke:#4c72b0;stroke-linecap:round;\"/>\n",
       "   </g>\n",
       "   <g id=\"line2d_842\">\n",
       "    <path clip-path=\"url(#p0b0046a7dc)\" d=\"M 275.979334 318.672656 \n",
       "L 275.979334 303.327656 \n",
       "\" style=\"fill:none;stroke:#4c72b0;stroke-linecap:round;\"/>\n",
       "   </g>\n",
       "   <g id=\"line2d_843\">\n",
       "    <path clip-path=\"url(#p0b0046a7dc)\" d=\"M 316.186131 318.672656 \n",
       "L 316.186131 303.327656 \n",
       "\" style=\"fill:none;stroke:#4c72b0;stroke-linecap:round;\"/>\n",
       "   </g>\n",
       "   <g id=\"line2d_844\">\n",
       "    <path clip-path=\"url(#p0b0046a7dc)\" d=\"M 192.379499 318.672656 \n",
       "L 192.379499 303.327656 \n",
       "\" style=\"fill:none;stroke:#4c72b0;stroke-linecap:round;\"/>\n",
       "   </g>\n",
       "   <g id=\"line2d_845\">\n",
       "    <path clip-path=\"url(#p0b0046a7dc)\" d=\"M 241.517576 318.672656 \n",
       "L 241.517576 303.327656 \n",
       "\" style=\"fill:none;stroke:#4c72b0;stroke-linecap:round;\"/>\n",
       "   </g>\n",
       "   <g id=\"line2d_846\">\n",
       "    <path clip-path=\"url(#p0b0046a7dc)\" d=\"M 205.258997 318.672656 \n",
       "L 205.258997 303.327656 \n",
       "\" style=\"fill:none;stroke:#4c72b0;stroke-linecap:round;\"/>\n",
       "   </g>\n",
       "   <g id=\"line2d_847\">\n",
       "    <path clip-path=\"url(#p0b0046a7dc)\" d=\"M 216.900495 318.672656 \n",
       "L 216.900495 303.327656 \n",
       "\" style=\"fill:none;stroke:#4c72b0;stroke-linecap:round;\"/>\n",
       "   </g>\n",
       "   <g id=\"line2d_848\">\n",
       "    <path clip-path=\"url(#p0b0046a7dc)\" d=\"M 213.120457 318.672656 \n",
       "L 213.120457 303.327656 \n",
       "\" style=\"fill:none;stroke:#4c72b0;stroke-linecap:round;\"/>\n",
       "   </g>\n",
       "   <g id=\"line2d_849\">\n",
       "    <path clip-path=\"url(#p0b0046a7dc)\" d=\"M 373.065771 318.672656 \n",
       "L 373.065771 303.327656 \n",
       "\" style=\"fill:none;stroke:#4c72b0;stroke-linecap:round;\"/>\n",
       "   </g>\n",
       "   <g id=\"line2d_850\">\n",
       "    <path clip-path=\"url(#p0b0046a7dc)\" d=\"M 300.08094 318.672656 \n",
       "L 300.08094 303.327656 \n",
       "\" style=\"fill:none;stroke:#4c72b0;stroke-linecap:round;\"/>\n",
       "   </g>\n",
       "   <g id=\"line2d_851\">\n",
       "    <path clip-path=\"url(#p0b0046a7dc)\" d=\"M 191.194063 318.672656 \n",
       "L 191.194063 303.327656 \n",
       "\" style=\"fill:none;stroke:#4c72b0;stroke-linecap:round;\"/>\n",
       "   </g>\n",
       "   <g id=\"line2d_852\">\n",
       "    <path clip-path=\"url(#p0b0046a7dc)\" d=\"M 214.404789 318.672656 \n",
       "L 214.404789 303.327656 \n",
       "\" style=\"fill:none;stroke:#4c72b0;stroke-linecap:round;\"/>\n",
       "   </g>\n",
       "   <g id=\"line2d_853\">\n",
       "    <path clip-path=\"url(#p0b0046a7dc)\" d=\"M 227.964651 318.672656 \n",
       "L 227.964651 303.327656 \n",
       "\" style=\"fill:none;stroke:#4c72b0;stroke-linecap:round;\"/>\n",
       "   </g>\n",
       "   <g id=\"line2d_854\">\n",
       "    <path clip-path=\"url(#p0b0046a7dc)\" d=\"M 282.894807 318.672656 \n",
       "L 282.894807 303.327656 \n",
       "\" style=\"fill:none;stroke:#4c72b0;stroke-linecap:round;\"/>\n",
       "   </g>\n",
       "   <g id=\"line2d_855\">\n",
       "    <path clip-path=\"url(#p0b0046a7dc)\" d=\"M 241.963044 318.672656 \n",
       "L 241.963044 303.327656 \n",
       "\" style=\"fill:none;stroke:#4c72b0;stroke-linecap:round;\"/>\n",
       "   </g>\n",
       "   <g id=\"line2d_856\">\n",
       "    <path clip-path=\"url(#p0b0046a7dc)\" d=\"M 322.833385 318.672656 \n",
       "L 322.833385 303.327656 \n",
       "\" style=\"fill:none;stroke:#4c72b0;stroke-linecap:round;\"/>\n",
       "   </g>\n",
       "   <g id=\"line2d_857\">\n",
       "    <path clip-path=\"url(#p0b0046a7dc)\" d=\"M 303.359092 318.672656 \n",
       "L 303.359092 303.327656 \n",
       "\" style=\"fill:none;stroke:#4c72b0;stroke-linecap:round;\"/>\n",
       "   </g>\n",
       "   <g id=\"line2d_858\">\n",
       "    <path clip-path=\"url(#p0b0046a7dc)\" d=\"M 352.360568 318.672656 \n",
       "L 352.360568 303.327656 \n",
       "\" style=\"fill:none;stroke:#4c72b0;stroke-linecap:round;\"/>\n",
       "   </g>\n",
       "   <g id=\"line2d_859\">\n",
       "    <path clip-path=\"url(#p0b0046a7dc)\" d=\"M 182.923304 318.672656 \n",
       "L 182.923304 303.327656 \n",
       "\" style=\"fill:none;stroke:#4c72b0;stroke-linecap:round;\"/>\n",
       "   </g>\n",
       "   <g id=\"line2d_860\">\n",
       "    <path clip-path=\"url(#p0b0046a7dc)\" d=\"M 316.504287 318.672656 \n",
       "L 316.504287 303.327656 \n",
       "\" style=\"fill:none;stroke:#4c72b0;stroke-linecap:round;\"/>\n",
       "   </g>\n",
       "   <g id=\"line2d_861\">\n",
       "    <path clip-path=\"url(#p0b0046a7dc)\" d=\"M 211.413412 318.672656 \n",
       "L 211.413412 303.327656 \n",
       "\" style=\"fill:none;stroke:#4c72b0;stroke-linecap:round;\"/>\n",
       "   </g>\n",
       "   <g id=\"line2d_862\">\n",
       "    <path clip-path=\"url(#p0b0046a7dc)\" d=\"M 257.396032 318.672656 \n",
       "L 257.396032 303.327656 \n",
       "\" style=\"fill:none;stroke:#4c72b0;stroke-linecap:round;\"/>\n",
       "   </g>\n",
       "   <g id=\"line2d_863\">\n",
       "    <path clip-path=\"url(#p0b0046a7dc)\" d=\"M 227.649914 318.672656 \n",
       "L 227.649914 303.327656 \n",
       "\" style=\"fill:none;stroke:#4c72b0;stroke-linecap:round;\"/>\n",
       "   </g>\n",
       "   <g id=\"line2d_864\">\n",
       "    <path clip-path=\"url(#p0b0046a7dc)\" d=\"M 178.7751 318.672656 \n",
       "L 178.7751 303.327656 \n",
       "\" style=\"fill:none;stroke:#4c72b0;stroke-linecap:round;\"/>\n",
       "   </g>\n",
       "   <g id=\"line2d_865\">\n",
       "    <path clip-path=\"url(#p0b0046a7dc)\" d=\"M 242.469907 318.672656 \n",
       "L 242.469907 303.327656 \n",
       "\" style=\"fill:none;stroke:#4c72b0;stroke-linecap:round;\"/>\n",
       "   </g>\n",
       "   <g id=\"line2d_866\">\n",
       "    <path clip-path=\"url(#p0b0046a7dc)\" d=\"M 242.353181 318.672656 \n",
       "L 242.353181 303.327656 \n",
       "\" style=\"fill:none;stroke:#4c72b0;stroke-linecap:round;\"/>\n",
       "   </g>\n",
       "   <g id=\"line2d_867\">\n",
       "    <path clip-path=\"url(#p0b0046a7dc)\" d=\"M 268.408829 318.672656 \n",
       "L 268.408829 303.327656 \n",
       "\" style=\"fill:none;stroke:#4c72b0;stroke-linecap:round;\"/>\n",
       "   </g>\n",
       "   <g id=\"line2d_868\">\n",
       "    <path clip-path=\"url(#p0b0046a7dc)\" d=\"M 184.747745 318.672656 \n",
       "L 184.747745 303.327656 \n",
       "\" style=\"fill:none;stroke:#4c72b0;stroke-linecap:round;\"/>\n",
       "   </g>\n",
       "   <g id=\"line2d_869\">\n",
       "    <path clip-path=\"url(#p0b0046a7dc)\" d=\"M 377.196986 318.672656 \n",
       "L 377.196986 303.327656 \n",
       "\" style=\"fill:none;stroke:#4c72b0;stroke-linecap:round;\"/>\n",
       "   </g>\n",
       "   <g id=\"line2d_870\">\n",
       "    <path clip-path=\"url(#p0b0046a7dc)\" d=\"M 209.953218 318.672656 \n",
       "L 209.953218 303.327656 \n",
       "\" style=\"fill:none;stroke:#4c72b0;stroke-linecap:round;\"/>\n",
       "   </g>\n",
       "   <g id=\"line2d_871\">\n",
       "    <path clip-path=\"url(#p0b0046a7dc)\" d=\"M 259.791046 318.672656 \n",
       "L 259.791046 303.327656 \n",
       "\" style=\"fill:none;stroke:#4c72b0;stroke-linecap:round;\"/>\n",
       "   </g>\n",
       "   <g id=\"line2d_872\">\n",
       "    <path clip-path=\"url(#p0b0046a7dc)\" d=\"M 270.034733 318.672656 \n",
       "L 270.034733 303.327656 \n",
       "\" style=\"fill:none;stroke:#4c72b0;stroke-linecap:round;\"/>\n",
       "   </g>\n",
       "   <g id=\"line2d_873\">\n",
       "    <path clip-path=\"url(#p0b0046a7dc)\" d=\"M 215.547561 318.672656 \n",
       "L 215.547561 303.327656 \n",
       "\" style=\"fill:none;stroke:#4c72b0;stroke-linecap:round;\"/>\n",
       "   </g>\n",
       "   <g id=\"line2d_874\">\n",
       "    <path clip-path=\"url(#p0b0046a7dc)\" d=\"M 208.478396 318.672656 \n",
       "L 208.478396 303.327656 \n",
       "\" style=\"fill:none;stroke:#4c72b0;stroke-linecap:round;\"/>\n",
       "   </g>\n",
       "   <g id=\"line2d_875\">\n",
       "    <path clip-path=\"url(#p0b0046a7dc)\" d=\"M 290.399704 318.672656 \n",
       "L 290.399704 303.327656 \n",
       "\" style=\"fill:none;stroke:#4c72b0;stroke-linecap:round;\"/>\n",
       "   </g>\n",
       "   <g id=\"line2d_876\">\n",
       "    <path clip-path=\"url(#p0b0046a7dc)\" d=\"M 220.204198 318.672656 \n",
       "L 220.204198 303.327656 \n",
       "\" style=\"fill:none;stroke:#4c72b0;stroke-linecap:round;\"/>\n",
       "   </g>\n",
       "   <g id=\"line2d_877\">\n",
       "    <path clip-path=\"url(#p0b0046a7dc)\" d=\"M 200.210847 318.672656 \n",
       "L 200.210847 303.327656 \n",
       "\" style=\"fill:none;stroke:#4c72b0;stroke-linecap:round;\"/>\n",
       "   </g>\n",
       "   <g id=\"line2d_878\">\n",
       "    <path clip-path=\"url(#p0b0046a7dc)\" d=\"M 256.391759 318.672656 \n",
       "L 256.391759 303.327656 \n",
       "\" style=\"fill:none;stroke:#4c72b0;stroke-linecap:round;\"/>\n",
       "   </g>\n",
       "   <g id=\"line2d_879\">\n",
       "    <path clip-path=\"url(#p0b0046a7dc)\" d=\"M 241.752986 318.672656 \n",
       "L 241.752986 303.327656 \n",
       "\" style=\"fill:none;stroke:#4c72b0;stroke-linecap:round;\"/>\n",
       "   </g>\n",
       "   <g id=\"line2d_880\">\n",
       "    <path clip-path=\"url(#p0b0046a7dc)\" d=\"M 310.992877 318.672656 \n",
       "L 310.992877 303.327656 \n",
       "\" style=\"fill:none;stroke:#4c72b0;stroke-linecap:round;\"/>\n",
       "   </g>\n",
       "   <g id=\"line2d_881\">\n",
       "    <path clip-path=\"url(#p0b0046a7dc)\" d=\"M 274.43442 318.672656 \n",
       "L 274.43442 303.327656 \n",
       "\" style=\"fill:none;stroke:#4c72b0;stroke-linecap:round;\"/>\n",
       "   </g>\n",
       "   <g id=\"line2d_882\">\n",
       "    <path clip-path=\"url(#p0b0046a7dc)\" d=\"M 260.919435 318.672656 \n",
       "L 260.919435 303.327656 \n",
       "\" style=\"fill:none;stroke:#4c72b0;stroke-linecap:round;\"/>\n",
       "   </g>\n",
       "   <g id=\"line2d_883\">\n",
       "    <path clip-path=\"url(#p0b0046a7dc)\" d=\"M 271.201568 318.672656 \n",
       "L 271.201568 303.327656 \n",
       "\" style=\"fill:none;stroke:#4c72b0;stroke-linecap:round;\"/>\n",
       "   </g>\n",
       "   <g id=\"line2d_884\">\n",
       "    <path clip-path=\"url(#p0b0046a7dc)\" d=\"M 405.225201 318.672656 \n",
       "L 405.225201 303.327656 \n",
       "\" style=\"fill:none;stroke:#4c72b0;stroke-linecap:round;\"/>\n",
       "   </g>\n",
       "   <g id=\"line2d_885\">\n",
       "    <path clip-path=\"url(#p0b0046a7dc)\" d=\"M 364.191357 318.672656 \n",
       "L 364.191357 303.327656 \n",
       "\" style=\"fill:none;stroke:#4c72b0;stroke-linecap:round;\"/>\n",
       "   </g>\n",
       "   <g id=\"line2d_886\">\n",
       "    <path clip-path=\"url(#p0b0046a7dc)\" d=\"M 230.897643 318.672656 \n",
       "L 230.897643 303.327656 \n",
       "\" style=\"fill:none;stroke:#4c72b0;stroke-linecap:round;\"/>\n",
       "   </g>\n",
       "   <g id=\"line2d_887\">\n",
       "    <path clip-path=\"url(#p0b0046a7dc)\" d=\"M 190.939072 318.672656 \n",
       "L 190.939072 303.327656 \n",
       "\" style=\"fill:none;stroke:#4c72b0;stroke-linecap:round;\"/>\n",
       "   </g>\n",
       "   <g id=\"line2d_888\">\n",
       "    <path clip-path=\"url(#p0b0046a7dc)\" d=\"M 314.446901 318.672656 \n",
       "L 314.446901 303.327656 \n",
       "\" style=\"fill:none;stroke:#4c72b0;stroke-linecap:round;\"/>\n",
       "   </g>\n",
       "   <g id=\"line2d_889\">\n",
       "    <path clip-path=\"url(#p0b0046a7dc)\" d=\"M 270.539572 318.672656 \n",
       "L 270.539572 303.327656 \n",
       "\" style=\"fill:none;stroke:#4c72b0;stroke-linecap:round;\"/>\n",
       "   </g>\n",
       "   <g id=\"line2d_890\">\n",
       "    <path clip-path=\"url(#p0b0046a7dc)\" d=\"M 189.910136 318.672656 \n",
       "L 189.910136 303.327656 \n",
       "\" style=\"fill:none;stroke:#4c72b0;stroke-linecap:round;\"/>\n",
       "   </g>\n",
       "   <g id=\"line2d_891\">\n",
       "    <path clip-path=\"url(#p0b0046a7dc)\" d=\"M 301.191246 318.672656 \n",
       "L 301.191246 303.327656 \n",
       "\" style=\"fill:none;stroke:#4c72b0;stroke-linecap:round;\"/>\n",
       "   </g>\n",
       "   <g id=\"line2d_892\">\n",
       "    <path clip-path=\"url(#p0b0046a7dc)\" d=\"M 312.186023 318.672656 \n",
       "L 312.186023 303.327656 \n",
       "\" style=\"fill:none;stroke:#4c72b0;stroke-linecap:round;\"/>\n",
       "   </g>\n",
       "   <g id=\"line2d_893\">\n",
       "    <path clip-path=\"url(#p0b0046a7dc)\" d=\"M 368.375563 318.672656 \n",
       "L 368.375563 303.327656 \n",
       "\" style=\"fill:none;stroke:#4c72b0;stroke-linecap:round;\"/>\n",
       "   </g>\n",
       "   <g id=\"line2d_894\">\n",
       "    <path clip-path=\"url(#p0b0046a7dc)\" d=\"M 235.948509 318.672656 \n",
       "L 235.948509 303.327656 \n",
       "\" style=\"fill:none;stroke:#4c72b0;stroke-linecap:round;\"/>\n",
       "   </g>\n",
       "   <g id=\"line2d_895\">\n",
       "    <path clip-path=\"url(#p0b0046a7dc)\" d=\"M 213.991248 318.672656 \n",
       "L 213.991248 303.327656 \n",
       "\" style=\"fill:none;stroke:#4c72b0;stroke-linecap:round;\"/>\n",
       "   </g>\n",
       "   <g id=\"line2d_896\">\n",
       "    <path clip-path=\"url(#p0b0046a7dc)\" d=\"M 366.065997 318.672656 \n",
       "L 366.065997 303.327656 \n",
       "\" style=\"fill:none;stroke:#4c72b0;stroke-linecap:round;\"/>\n",
       "   </g>\n",
       "   <g id=\"line2d_897\">\n",
       "    <path clip-path=\"url(#p0b0046a7dc)\" d=\"M 269.707633 318.672656 \n",
       "L 269.707633 303.327656 \n",
       "\" style=\"fill:none;stroke:#4c72b0;stroke-linecap:round;\"/>\n",
       "   </g>\n",
       "   <g id=\"line2d_898\">\n",
       "    <path clip-path=\"url(#p0b0046a7dc)\" d=\"M 241.600873 318.672656 \n",
       "L 241.600873 303.327656 \n",
       "\" style=\"fill:none;stroke:#4c72b0;stroke-linecap:round;\"/>\n",
       "   </g>\n",
       "   <g id=\"line2d_899\">\n",
       "    <path clip-path=\"url(#p0b0046a7dc)\" d=\"M 286.70001 318.672656 \n",
       "L 286.70001 303.327656 \n",
       "\" style=\"fill:none;stroke:#4c72b0;stroke-linecap:round;\"/>\n",
       "   </g>\n",
       "   <g id=\"line2d_900\">\n",
       "    <path clip-path=\"url(#p0b0046a7dc)\" d=\"M 249.88668 318.672656 \n",
       "L 249.88668 303.327656 \n",
       "\" style=\"fill:none;stroke:#4c72b0;stroke-linecap:round;\"/>\n",
       "   </g>\n",
       "   <g id=\"line2d_901\">\n",
       "    <path clip-path=\"url(#p0b0046a7dc)\" d=\"M 257.134292 318.672656 \n",
       "L 257.134292 303.327656 \n",
       "\" style=\"fill:none;stroke:#4c72b0;stroke-linecap:round;\"/>\n",
       "   </g>\n",
       "   <g id=\"line2d_902\">\n",
       "    <path clip-path=\"url(#p0b0046a7dc)\" d=\"M 215.568599 318.672656 \n",
       "L 215.568599 303.327656 \n",
       "\" style=\"fill:none;stroke:#4c72b0;stroke-linecap:round;\"/>\n",
       "   </g>\n",
       "   <g id=\"line2d_903\">\n",
       "    <path clip-path=\"url(#p0b0046a7dc)\" d=\"M 229.155944 318.672656 \n",
       "L 229.155944 303.327656 \n",
       "\" style=\"fill:none;stroke:#4c72b0;stroke-linecap:round;\"/>\n",
       "   </g>\n",
       "   <g id=\"line2d_904\">\n",
       "    <path clip-path=\"url(#p0b0046a7dc)\" d=\"M 240.873735 318.672656 \n",
       "L 240.873735 303.327656 \n",
       "\" style=\"fill:none;stroke:#4c72b0;stroke-linecap:round;\"/>\n",
       "   </g>\n",
       "   <g id=\"line2d_905\">\n",
       "    <path clip-path=\"url(#p0b0046a7dc)\" d=\"M 246.19903 318.672656 \n",
       "L 246.19903 303.327656 \n",
       "\" style=\"fill:none;stroke:#4c72b0;stroke-linecap:round;\"/>\n",
       "   </g>\n",
       "   <g id=\"line2d_906\">\n",
       "    <path clip-path=\"url(#p0b0046a7dc)\" d=\"M 257.749433 318.672656 \n",
       "L 257.749433 303.327656 \n",
       "\" style=\"fill:none;stroke:#4c72b0;stroke-linecap:round;\"/>\n",
       "   </g>\n",
       "   <g id=\"line2d_907\">\n",
       "    <path clip-path=\"url(#p0b0046a7dc)\" d=\"M 243.508283 318.672656 \n",
       "L 243.508283 303.327656 \n",
       "\" style=\"fill:none;stroke:#4c72b0;stroke-linecap:round;\"/>\n",
       "   </g>\n",
       "   <g id=\"line2d_908\">\n",
       "    <path clip-path=\"url(#p0b0046a7dc)\" d=\"M 176.576387 318.672656 \n",
       "L 176.576387 303.327656 \n",
       "\" style=\"fill:none;stroke:#4c72b0;stroke-linecap:round;\"/>\n",
       "   </g>\n",
       "   <g id=\"line2d_909\">\n",
       "    <path clip-path=\"url(#p0b0046a7dc)\" d=\"M 306.911547 318.672656 \n",
       "L 306.911547 303.327656 \n",
       "\" style=\"fill:none;stroke:#4c72b0;stroke-linecap:round;\"/>\n",
       "   </g>\n",
       "   <g id=\"line2d_910\">\n",
       "    <path clip-path=\"url(#p0b0046a7dc)\" d=\"M 235.660571 318.672656 \n",
       "L 235.660571 303.327656 \n",
       "\" style=\"fill:none;stroke:#4c72b0;stroke-linecap:round;\"/>\n",
       "   </g>\n",
       "   <g id=\"line2d_911\">\n",
       "    <path clip-path=\"url(#p0b0046a7dc)\" d=\"M 202.280862 318.672656 \n",
       "L 202.280862 303.327656 \n",
       "\" style=\"fill:none;stroke:#4c72b0;stroke-linecap:round;\"/>\n",
       "   </g>\n",
       "   <g id=\"line2d_912\">\n",
       "    <path clip-path=\"url(#p0b0046a7dc)\" d=\"M 191.162401 318.672656 \n",
       "L 191.162401 303.327656 \n",
       "\" style=\"fill:none;stroke:#4c72b0;stroke-linecap:round;\"/>\n",
       "   </g>\n",
       "   <g id=\"line2d_913\">\n",
       "    <path clip-path=\"url(#p0b0046a7dc)\" d=\"M 180.957572 318.672656 \n",
       "L 180.957572 303.327656 \n",
       "\" style=\"fill:none;stroke:#4c72b0;stroke-linecap:round;\"/>\n",
       "   </g>\n",
       "   <g id=\"line2d_914\">\n",
       "    <path clip-path=\"url(#p0b0046a7dc)\" d=\"M 347.6744 318.672656 \n",
       "L 347.6744 303.327656 \n",
       "\" style=\"fill:none;stroke:#4c72b0;stroke-linecap:round;\"/>\n",
       "   </g>\n",
       "   <g id=\"line2d_915\">\n",
       "    <path clip-path=\"url(#p0b0046a7dc)\" d=\"M 320.552353 318.672656 \n",
       "L 320.552353 303.327656 \n",
       "\" style=\"fill:none;stroke:#4c72b0;stroke-linecap:round;\"/>\n",
       "   </g>\n",
       "   <g id=\"line2d_916\">\n",
       "    <path clip-path=\"url(#p0b0046a7dc)\" d=\"M 275.433165 318.672656 \n",
       "L 275.433165 303.327656 \n",
       "\" style=\"fill:none;stroke:#4c72b0;stroke-linecap:round;\"/>\n",
       "   </g>\n",
       "   <g id=\"line2d_917\">\n",
       "    <path clip-path=\"url(#p0b0046a7dc)\" d=\"M 258.336553 318.672656 \n",
       "L 258.336553 303.327656 \n",
       "\" style=\"fill:none;stroke:#4c72b0;stroke-linecap:round;\"/>\n",
       "   </g>\n",
       "   <g id=\"line2d_918\">\n",
       "    <path clip-path=\"url(#p0b0046a7dc)\" d=\"M 340.314976 318.672656 \n",
       "L 340.314976 303.327656 \n",
       "\" style=\"fill:none;stroke:#4c72b0;stroke-linecap:round;\"/>\n",
       "   </g>\n",
       "   <g id=\"line2d_919\">\n",
       "    <path clip-path=\"url(#p0b0046a7dc)\" d=\"M 202.35419 318.672656 \n",
       "L 202.35419 303.327656 \n",
       "\" style=\"fill:none;stroke:#4c72b0;stroke-linecap:round;\"/>\n",
       "   </g>\n",
       "   <g id=\"line2d_920\">\n",
       "    <path clip-path=\"url(#p0b0046a7dc)\" d=\"M 209.456011 318.672656 \n",
       "L 209.456011 303.327656 \n",
       "\" style=\"fill:none;stroke:#4c72b0;stroke-linecap:round;\"/>\n",
       "   </g>\n",
       "   <g id=\"line2d_921\">\n",
       "    <path clip-path=\"url(#p0b0046a7dc)\" d=\"M 239.458948 318.672656 \n",
       "L 239.458948 303.327656 \n",
       "\" style=\"fill:none;stroke:#4c72b0;stroke-linecap:round;\"/>\n",
       "   </g>\n",
       "   <g id=\"line2d_922\">\n",
       "    <path clip-path=\"url(#p0b0046a7dc)\" d=\"M 401.498117 318.672656 \n",
       "L 401.498117 303.327656 \n",
       "\" style=\"fill:none;stroke:#4c72b0;stroke-linecap:round;\"/>\n",
       "   </g>\n",
       "   <g id=\"line2d_923\">\n",
       "    <path clip-path=\"url(#p0b0046a7dc)\" d=\"M 335.295443 318.672656 \n",
       "L 335.295443 303.327656 \n",
       "\" style=\"fill:none;stroke:#4c72b0;stroke-linecap:round;\"/>\n",
       "   </g>\n",
       "   <g id=\"line2d_924\">\n",
       "    <path clip-path=\"url(#p0b0046a7dc)\" d=\"M 254.72988 318.672656 \n",
       "L 254.72988 303.327656 \n",
       "\" style=\"fill:none;stroke:#4c72b0;stroke-linecap:round;\"/>\n",
       "   </g>\n",
       "   <g id=\"line2d_925\">\n",
       "    <path clip-path=\"url(#p0b0046a7dc)\" d=\"M 308.87828 318.672656 \n",
       "L 308.87828 303.327656 \n",
       "\" style=\"fill:none;stroke:#4c72b0;stroke-linecap:round;\"/>\n",
       "   </g>\n",
       "   <g id=\"line2d_926\">\n",
       "    <path clip-path=\"url(#p0b0046a7dc)\" d=\"M 227.276881 318.672656 \n",
       "L 227.276881 303.327656 \n",
       "\" style=\"fill:none;stroke:#4c72b0;stroke-linecap:round;\"/>\n",
       "   </g>\n",
       "   <g id=\"line2d_927\">\n",
       "    <path clip-path=\"url(#p0b0046a7dc)\" d=\"M 285.015486 318.672656 \n",
       "L 285.015486 303.327656 \n",
       "\" style=\"fill:none;stroke:#4c72b0;stroke-linecap:round;\"/>\n",
       "   </g>\n",
       "   <g id=\"line2d_928\">\n",
       "    <path clip-path=\"url(#p0b0046a7dc)\" d=\"M 220.682985 318.672656 \n",
       "L 220.682985 303.327656 \n",
       "\" style=\"fill:none;stroke:#4c72b0;stroke-linecap:round;\"/>\n",
       "   </g>\n",
       "   <g id=\"line2d_929\">\n",
       "    <path clip-path=\"url(#p0b0046a7dc)\" d=\"M 315.641901 318.672656 \n",
       "L 315.641901 303.327656 \n",
       "\" style=\"fill:none;stroke:#4c72b0;stroke-linecap:round;\"/>\n",
       "   </g>\n",
       "   <g id=\"line2d_930\">\n",
       "    <path clip-path=\"url(#p0b0046a7dc)\" d=\"M 291.851781 318.672656 \n",
       "L 291.851781 303.327656 \n",
       "\" style=\"fill:none;stroke:#4c72b0;stroke-linecap:round;\"/>\n",
       "   </g>\n",
       "   <g id=\"line2d_931\">\n",
       "    <path clip-path=\"url(#p0b0046a7dc)\" d=\"M 363.558934 318.672656 \n",
       "L 363.558934 303.327656 \n",
       "\" style=\"fill:none;stroke:#4c72b0;stroke-linecap:round;\"/>\n",
       "   </g>\n",
       "   <g id=\"line2d_932\">\n",
       "    <path clip-path=\"url(#p0b0046a7dc)\" d=\"M 265.333413 318.672656 \n",
       "L 265.333413 303.327656 \n",
       "\" style=\"fill:none;stroke:#4c72b0;stroke-linecap:round;\"/>\n",
       "   </g>\n",
       "   <g id=\"line2d_933\">\n",
       "    <path clip-path=\"url(#p0b0046a7dc)\" d=\"M 243.257786 318.672656 \n",
       "L 243.257786 303.327656 \n",
       "\" style=\"fill:none;stroke:#4c72b0;stroke-linecap:round;\"/>\n",
       "   </g>\n",
       "   <g id=\"line2d_934\">\n",
       "    <path clip-path=\"url(#p0b0046a7dc)\" d=\"M 345.688001 318.672656 \n",
       "L 345.688001 303.327656 \n",
       "\" style=\"fill:none;stroke:#4c72b0;stroke-linecap:round;\"/>\n",
       "   </g>\n",
       "   <g id=\"line2d_935\">\n",
       "    <path clip-path=\"url(#p0b0046a7dc)\" d=\"M 217.002357 318.672656 \n",
       "L 217.002357 303.327656 \n",
       "\" style=\"fill:none;stroke:#4c72b0;stroke-linecap:round;\"/>\n",
       "   </g>\n",
       "   <g id=\"line2d_936\">\n",
       "    <path clip-path=\"url(#p0b0046a7dc)\" d=\"M 218.527672 318.672656 \n",
       "L 218.527672 303.327656 \n",
       "\" style=\"fill:none;stroke:#4c72b0;stroke-linecap:round;\"/>\n",
       "   </g>\n",
       "   <g id=\"line2d_937\">\n",
       "    <path clip-path=\"url(#p0b0046a7dc)\" d=\"M 325.9916 318.672656 \n",
       "L 325.9916 303.327656 \n",
       "\" style=\"fill:none;stroke:#4c72b0;stroke-linecap:round;\"/>\n",
       "   </g>\n",
       "   <g id=\"line2d_938\">\n",
       "    <path clip-path=\"url(#p0b0046a7dc)\" d=\"M 216.642079 318.672656 \n",
       "L 216.642079 303.327656 \n",
       "\" style=\"fill:none;stroke:#4c72b0;stroke-linecap:round;\"/>\n",
       "   </g>\n",
       "   <g id=\"line2d_939\">\n",
       "    <path clip-path=\"url(#p0b0046a7dc)\" d=\"M 278.119379 318.672656 \n",
       "L 278.119379 303.327656 \n",
       "\" style=\"fill:none;stroke:#4c72b0;stroke-linecap:round;\"/>\n",
       "   </g>\n",
       "   <g id=\"line2d_940\">\n",
       "    <path clip-path=\"url(#p0b0046a7dc)\" d=\"M 211.216477 318.672656 \n",
       "L 211.216477 303.327656 \n",
       "\" style=\"fill:none;stroke:#4c72b0;stroke-linecap:round;\"/>\n",
       "   </g>\n",
       "   <g id=\"line2d_941\">\n",
       "    <path clip-path=\"url(#p0b0046a7dc)\" d=\"M 262.76836 318.672656 \n",
       "L 262.76836 303.327656 \n",
       "\" style=\"fill:none;stroke:#4c72b0;stroke-linecap:round;\"/>\n",
       "   </g>\n",
       "   <g id=\"line2d_942\">\n",
       "    <path clip-path=\"url(#p0b0046a7dc)\" d=\"M 228.068191 318.672656 \n",
       "L 228.068191 303.327656 \n",
       "\" style=\"fill:none;stroke:#4c72b0;stroke-linecap:round;\"/>\n",
       "   </g>\n",
       "   <g id=\"line2d_943\">\n",
       "    <path clip-path=\"url(#p0b0046a7dc)\" d=\"M 234.299059 318.672656 \n",
       "L 234.299059 303.327656 \n",
       "\" style=\"fill:none;stroke:#4c72b0;stroke-linecap:round;\"/>\n",
       "   </g>\n",
       "   <g id=\"line2d_944\">\n",
       "    <path clip-path=\"url(#p0b0046a7dc)\" d=\"M 332.054437 318.672656 \n",
       "L 332.054437 303.327656 \n",
       "\" style=\"fill:none;stroke:#4c72b0;stroke-linecap:round;\"/>\n",
       "   </g>\n",
       "   <g id=\"line2d_945\">\n",
       "    <path clip-path=\"url(#p0b0046a7dc)\" d=\"M 187.528672 318.672656 \n",
       "L 187.528672 303.327656 \n",
       "\" style=\"fill:none;stroke:#4c72b0;stroke-linecap:round;\"/>\n",
       "   </g>\n",
       "   <g id=\"line2d_946\">\n",
       "    <path clip-path=\"url(#p0b0046a7dc)\" d=\"M 219.620694 318.672656 \n",
       "L 219.620694 303.327656 \n",
       "\" style=\"fill:none;stroke:#4c72b0;stroke-linecap:round;\"/>\n",
       "   </g>\n",
       "   <g id=\"line2d_947\">\n",
       "    <path clip-path=\"url(#p0b0046a7dc)\" d=\"M 250.887149 318.672656 \n",
       "L 250.887149 303.327656 \n",
       "\" style=\"fill:none;stroke:#4c72b0;stroke-linecap:round;\"/>\n",
       "   </g>\n",
       "   <g id=\"line2d_948\">\n",
       "    <path clip-path=\"url(#p0b0046a7dc)\" d=\"M 321.797328 318.672656 \n",
       "L 321.797328 303.327656 \n",
       "\" style=\"fill:none;stroke:#4c72b0;stroke-linecap:round;\"/>\n",
       "   </g>\n",
       "   <g id=\"line2d_949\">\n",
       "    <path clip-path=\"url(#p0b0046a7dc)\" d=\"M 292.555762 318.672656 \n",
       "L 292.555762 303.327656 \n",
       "\" style=\"fill:none;stroke:#4c72b0;stroke-linecap:round;\"/>\n",
       "   </g>\n",
       "   <g id=\"line2d_950\">\n",
       "    <path clip-path=\"url(#p0b0046a7dc)\" d=\"M 333.159225 318.672656 \n",
       "L 333.159225 303.327656 \n",
       "\" style=\"fill:none;stroke:#4c72b0;stroke-linecap:round;\"/>\n",
       "   </g>\n",
       "   <g id=\"line2d_951\">\n",
       "    <path clip-path=\"url(#p0b0046a7dc)\" d=\"M 243.152338 318.672656 \n",
       "L 243.152338 303.327656 \n",
       "\" style=\"fill:none;stroke:#4c72b0;stroke-linecap:round;\"/>\n",
       "   </g>\n",
       "   <g id=\"line2d_952\">\n",
       "    <path clip-path=\"url(#p0b0046a7dc)\" d=\"M 242.140202 318.672656 \n",
       "L 242.140202 303.327656 \n",
       "\" style=\"fill:none;stroke:#4c72b0;stroke-linecap:round;\"/>\n",
       "   </g>\n",
       "   <g id=\"line2d_953\">\n",
       "    <path clip-path=\"url(#p0b0046a7dc)\" d=\"M 292.99747 318.672656 \n",
       "L 292.99747 303.327656 \n",
       "\" style=\"fill:none;stroke:#4c72b0;stroke-linecap:round;\"/>\n",
       "   </g>\n",
       "   <g id=\"line2d_954\">\n",
       "    <path clip-path=\"url(#p0b0046a7dc)\" d=\"M 232.87265 318.672656 \n",
       "L 232.87265 303.327656 \n",
       "\" style=\"fill:none;stroke:#4c72b0;stroke-linecap:round;\"/>\n",
       "   </g>\n",
       "   <g id=\"line2d_955\">\n",
       "    <path clip-path=\"url(#p0b0046a7dc)\" d=\"M 297.271142 318.672656 \n",
       "L 297.271142 303.327656 \n",
       "\" style=\"fill:none;stroke:#4c72b0;stroke-linecap:round;\"/>\n",
       "   </g>\n",
       "   <g id=\"line2d_956\">\n",
       "    <path clip-path=\"url(#p0b0046a7dc)\" d=\"M 238.568607 318.672656 \n",
       "L 238.568607 303.327656 \n",
       "\" style=\"fill:none;stroke:#4c72b0;stroke-linecap:round;\"/>\n",
       "   </g>\n",
       "   <g id=\"line2d_957\">\n",
       "    <path clip-path=\"url(#p0b0046a7dc)\" d=\"M 336.766929 318.672656 \n",
       "L 336.766929 303.327656 \n",
       "\" style=\"fill:none;stroke:#4c72b0;stroke-linecap:round;\"/>\n",
       "   </g>\n",
       "   <g id=\"line2d_958\">\n",
       "    <path clip-path=\"url(#p0b0046a7dc)\" d=\"M 306.638919 318.672656 \n",
       "L 306.638919 303.327656 \n",
       "\" style=\"fill:none;stroke:#4c72b0;stroke-linecap:round;\"/>\n",
       "   </g>\n",
       "   <g id=\"line2d_959\">\n",
       "    <path clip-path=\"url(#p0b0046a7dc)\" d=\"M 373.872761 318.672656 \n",
       "L 373.872761 303.327656 \n",
       "\" style=\"fill:none;stroke:#4c72b0;stroke-linecap:round;\"/>\n",
       "   </g>\n",
       "   <g id=\"line2d_960\">\n",
       "    <path clip-path=\"url(#p0b0046a7dc)\" d=\"M 218.49124 318.672656 \n",
       "L 218.49124 303.327656 \n",
       "\" style=\"fill:none;stroke:#4c72b0;stroke-linecap:round;\"/>\n",
       "   </g>\n",
       "   <g id=\"line2d_961\">\n",
       "    <path clip-path=\"url(#p0b0046a7dc)\" d=\"M 277.06802 318.672656 \n",
       "L 277.06802 303.327656 \n",
       "\" style=\"fill:none;stroke:#4c72b0;stroke-linecap:round;\"/>\n",
       "   </g>\n",
       "   <g id=\"line2d_962\">\n",
       "    <path clip-path=\"url(#p0b0046a7dc)\" d=\"M 249.506525 318.672656 \n",
       "L 249.506525 303.327656 \n",
       "\" style=\"fill:none;stroke:#4c72b0;stroke-linecap:round;\"/>\n",
       "   </g>\n",
       "   <g id=\"line2d_963\">\n",
       "    <path clip-path=\"url(#p0b0046a7dc)\" d=\"M 259.568038 318.672656 \n",
       "L 259.568038 303.327656 \n",
       "\" style=\"fill:none;stroke:#4c72b0;stroke-linecap:round;\"/>\n",
       "   </g>\n",
       "   <g id=\"line2d_964\">\n",
       "    <path clip-path=\"url(#p0b0046a7dc)\" d=\"M 336.195797 318.672656 \n",
       "L 336.195797 303.327656 \n",
       "\" style=\"fill:none;stroke:#4c72b0;stroke-linecap:round;\"/>\n",
       "   </g>\n",
       "   <g id=\"line2d_965\">\n",
       "    <path clip-path=\"url(#p0b0046a7dc)\" d=\"M 282.099928 318.672656 \n",
       "L 282.099928 303.327656 \n",
       "\" style=\"fill:none;stroke:#4c72b0;stroke-linecap:round;\"/>\n",
       "   </g>\n",
       "   <g id=\"line2d_966\">\n",
       "    <path clip-path=\"url(#p0b0046a7dc)\" d=\"M 200.355396 318.672656 \n",
       "L 200.355396 303.327656 \n",
       "\" style=\"fill:none;stroke:#4c72b0;stroke-linecap:round;\"/>\n",
       "   </g>\n",
       "   <g id=\"line2d_967\">\n",
       "    <path clip-path=\"url(#p0b0046a7dc)\" d=\"M 240.258578 318.672656 \n",
       "L 240.258578 303.327656 \n",
       "\" style=\"fill:none;stroke:#4c72b0;stroke-linecap:round;\"/>\n",
       "   </g>\n",
       "   <g id=\"line2d_968\">\n",
       "    <path clip-path=\"url(#p0b0046a7dc)\" d=\"M 195.452847 318.672656 \n",
       "L 195.452847 303.327656 \n",
       "\" style=\"fill:none;stroke:#4c72b0;stroke-linecap:round;\"/>\n",
       "   </g>\n",
       "   <g id=\"line2d_969\">\n",
       "    <path clip-path=\"url(#p0b0046a7dc)\" d=\"M 112.642981 318.672656 \n",
       "L 112.642981 303.327656 \n",
       "\" style=\"fill:none;stroke:#4c72b0;stroke-linecap:round;\"/>\n",
       "   </g>\n",
       "   <g id=\"line2d_970\">\n",
       "    <path clip-path=\"url(#p0b0046a7dc)\" d=\"M 83.113842 318.672656 \n",
       "L 83.113842 303.327656 \n",
       "\" style=\"fill:none;stroke:#4c72b0;stroke-linecap:round;\"/>\n",
       "   </g>\n",
       "   <g id=\"line2d_971\">\n",
       "    <path clip-path=\"url(#p0b0046a7dc)\" d=\"M 152.538371 318.672656 \n",
       "L 152.538371 303.327656 \n",
       "\" style=\"fill:none;stroke:#4c72b0;stroke-linecap:round;\"/>\n",
       "   </g>\n",
       "   <g id=\"line2d_972\">\n",
       "    <path clip-path=\"url(#p0b0046a7dc)\" d=\"M 372.068531 318.672656 \n",
       "L 372.068531 303.327656 \n",
       "\" style=\"fill:none;stroke:#4c72b0;stroke-linecap:round;\"/>\n",
       "   </g>\n",
       "   <g id=\"line2d_973\">\n",
       "    <path clip-path=\"url(#p0b0046a7dc)\" d=\"M 258.518901 318.672656 \n",
       "L 258.518901 303.327656 \n",
       "\" style=\"fill:none;stroke:#4c72b0;stroke-linecap:round;\"/>\n",
       "   </g>\n",
       "   <g id=\"line2d_974\">\n",
       "    <path clip-path=\"url(#p0b0046a7dc)\" d=\"M 215.779314 318.672656 \n",
       "L 215.779314 303.327656 \n",
       "\" style=\"fill:none;stroke:#4c72b0;stroke-linecap:round;\"/>\n",
       "   </g>\n",
       "   <g id=\"line2d_975\">\n",
       "    <path clip-path=\"url(#p0b0046a7dc)\" d=\"M 214.416327 318.672656 \n",
       "L 214.416327 303.327656 \n",
       "\" style=\"fill:none;stroke:#4c72b0;stroke-linecap:round;\"/>\n",
       "   </g>\n",
       "   <g id=\"line2d_976\">\n",
       "    <path clip-path=\"url(#p0b0046a7dc)\" d=\"M 331.691184 318.672656 \n",
       "L 331.691184 303.327656 \n",
       "\" style=\"fill:none;stroke:#4c72b0;stroke-linecap:round;\"/>\n",
       "   </g>\n",
       "   <g id=\"line2d_977\">\n",
       "    <path clip-path=\"url(#p0b0046a7dc)\" d=\"M 276.153899 318.672656 \n",
       "L 276.153899 303.327656 \n",
       "\" style=\"fill:none;stroke:#4c72b0;stroke-linecap:round;\"/>\n",
       "   </g>\n",
       "   <g id=\"line2d_978\">\n",
       "    <path clip-path=\"url(#p0b0046a7dc)\" d=\"M 302.737108 318.672656 \n",
       "L 302.737108 303.327656 \n",
       "\" style=\"fill:none;stroke:#4c72b0;stroke-linecap:round;\"/>\n",
       "   </g>\n",
       "   <g id=\"line2d_979\">\n",
       "    <path clip-path=\"url(#p0b0046a7dc)\" d=\"M 250.114499 318.672656 \n",
       "L 250.114499 303.327656 \n",
       "\" style=\"fill:none;stroke:#4c72b0;stroke-linecap:round;\"/>\n",
       "   </g>\n",
       "   <g id=\"line2d_980\">\n",
       "    <path clip-path=\"url(#p0b0046a7dc)\" d=\"M 211.737472 318.672656 \n",
       "L 211.737472 303.327656 \n",
       "\" style=\"fill:none;stroke:#4c72b0;stroke-linecap:round;\"/>\n",
       "   </g>\n",
       "   <g id=\"line2d_981\">\n",
       "    <path clip-path=\"url(#p0b0046a7dc)\" d=\"M 351.458678 318.672656 \n",
       "L 351.458678 303.327656 \n",
       "\" style=\"fill:none;stroke:#4c72b0;stroke-linecap:round;\"/>\n",
       "   </g>\n",
       "   <g id=\"line2d_982\">\n",
       "    <path clip-path=\"url(#p0b0046a7dc)\" d=\"M 330.836129 318.672656 \n",
       "L 330.836129 303.327656 \n",
       "\" style=\"fill:none;stroke:#4c72b0;stroke-linecap:round;\"/>\n",
       "   </g>\n",
       "   <g id=\"line2d_983\">\n",
       "    <path clip-path=\"url(#p0b0046a7dc)\" d=\"M 303.431019 318.672656 \n",
       "L 303.431019 303.327656 \n",
       "\" style=\"fill:none;stroke:#4c72b0;stroke-linecap:round;\"/>\n",
       "   </g>\n",
       "   <g id=\"line2d_984\">\n",
       "    <path clip-path=\"url(#p0b0046a7dc)\" d=\"M 326.229094 318.672656 \n",
       "L 326.229094 303.327656 \n",
       "\" style=\"fill:none;stroke:#4c72b0;stroke-linecap:round;\"/>\n",
       "   </g>\n",
       "   <g id=\"line2d_985\">\n",
       "    <path clip-path=\"url(#p0b0046a7dc)\" d=\"M 317.387625 318.672656 \n",
       "L 317.387625 303.327656 \n",
       "\" style=\"fill:none;stroke:#4c72b0;stroke-linecap:round;\"/>\n",
       "   </g>\n",
       "   <g id=\"line2d_986\">\n",
       "    <path clip-path=\"url(#p0b0046a7dc)\" d=\"M 284.001192 318.672656 \n",
       "L 284.001192 303.327656 \n",
       "\" style=\"fill:none;stroke:#4c72b0;stroke-linecap:round;\"/>\n",
       "   </g>\n",
       "   <g id=\"line2d_987\">\n",
       "    <path clip-path=\"url(#p0b0046a7dc)\" d=\"M 162.398617 318.672656 \n",
       "L 162.398617 303.327656 \n",
       "\" style=\"fill:none;stroke:#4c72b0;stroke-linecap:round;\"/>\n",
       "   </g>\n",
       "   <g id=\"line2d_988\">\n",
       "    <path clip-path=\"url(#p0b0046a7dc)\" d=\"M 226.306318 318.672656 \n",
       "L 226.306318 303.327656 \n",
       "\" style=\"fill:none;stroke:#4c72b0;stroke-linecap:round;\"/>\n",
       "   </g>\n",
       "   <g id=\"line2d_989\">\n",
       "    <path clip-path=\"url(#p0b0046a7dc)\" d=\"M 296.602258 318.672656 \n",
       "L 296.602258 303.327656 \n",
       "\" style=\"fill:none;stroke:#4c72b0;stroke-linecap:round;\"/>\n",
       "   </g>\n",
       "   <g id=\"line2d_990\">\n",
       "    <path clip-path=\"url(#p0b0046a7dc)\" d=\"M 255.92381 318.672656 \n",
       "L 255.92381 303.327656 \n",
       "\" style=\"fill:none;stroke:#4c72b0;stroke-linecap:round;\"/>\n",
       "   </g>\n",
       "   <g id=\"line2d_991\">\n",
       "    <path clip-path=\"url(#p0b0046a7dc)\" d=\"M 216.061527 318.672656 \n",
       "L 216.061527 303.327656 \n",
       "\" style=\"fill:none;stroke:#4c72b0;stroke-linecap:round;\"/>\n",
       "   </g>\n",
       "   <g id=\"line2d_992\">\n",
       "    <path clip-path=\"url(#p0b0046a7dc)\" d=\"M 204.106654 318.672656 \n",
       "L 204.106654 303.327656 \n",
       "\" style=\"fill:none;stroke:#4c72b0;stroke-linecap:round;\"/>\n",
       "   </g>\n",
       "   <g id=\"line2d_993\">\n",
       "    <path clip-path=\"url(#p0b0046a7dc)\" d=\"M 283.430524 318.672656 \n",
       "L 283.430524 303.327656 \n",
       "\" style=\"fill:none;stroke:#4c72b0;stroke-linecap:round;\"/>\n",
       "   </g>\n",
       "   <g id=\"line2d_994\">\n",
       "    <path clip-path=\"url(#p0b0046a7dc)\" d=\"M 314.293798 318.672656 \n",
       "L 314.293798 303.327656 \n",
       "\" style=\"fill:none;stroke:#4c72b0;stroke-linecap:round;\"/>\n",
       "   </g>\n",
       "   <g id=\"line2d_995\">\n",
       "    <path clip-path=\"url(#p0b0046a7dc)\" d=\"M 287.292424 318.672656 \n",
       "L 287.292424 303.327656 \n",
       "\" style=\"fill:none;stroke:#4c72b0;stroke-linecap:round;\"/>\n",
       "   </g>\n",
       "   <g id=\"line2d_996\">\n",
       "    <path clip-path=\"url(#p0b0046a7dc)\" d=\"M 235.915381 318.672656 \n",
       "L 235.915381 303.327656 \n",
       "\" style=\"fill:none;stroke:#4c72b0;stroke-linecap:round;\"/>\n",
       "   </g>\n",
       "   <g id=\"line2d_997\">\n",
       "    <path clip-path=\"url(#p0b0046a7dc)\" d=\"M 270.997832 318.672656 \n",
       "L 270.997832 303.327656 \n",
       "\" style=\"fill:none;stroke:#4c72b0;stroke-linecap:round;\"/>\n",
       "   </g>\n",
       "   <g id=\"line2d_998\">\n",
       "    <path clip-path=\"url(#p0b0046a7dc)\" d=\"M 299.207585 318.672656 \n",
       "L 299.207585 303.327656 \n",
       "\" style=\"fill:none;stroke:#4c72b0;stroke-linecap:round;\"/>\n",
       "   </g>\n",
       "   <g id=\"line2d_999\">\n",
       "    <path clip-path=\"url(#p0b0046a7dc)\" d=\"M 258.749015 318.672656 \n",
       "L 258.749015 303.327656 \n",
       "\" style=\"fill:none;stroke:#4c72b0;stroke-linecap:round;\"/>\n",
       "   </g>\n",
       "   <g id=\"line2d_1000\">\n",
       "    <path clip-path=\"url(#p0b0046a7dc)\" d=\"M 274.616427 318.672656 \n",
       "L 274.616427 303.327656 \n",
       "\" style=\"fill:none;stroke:#4c72b0;stroke-linecap:round;\"/>\n",
       "   </g>\n",
       "   <g id=\"line2d_1001\">\n",
       "    <path clip-path=\"url(#p0b0046a7dc)\" d=\"M 232.721715 318.672656 \n",
       "L 232.721715 303.327656 \n",
       "\" style=\"fill:none;stroke:#4c72b0;stroke-linecap:round;\"/>\n",
       "   </g>\n",
       "   <g id=\"line2d_1002\">\n",
       "    <path clip-path=\"url(#p0b0046a7dc)\" d=\"M 300.795321 318.672656 \n",
       "L 300.795321 303.327656 \n",
       "\" style=\"fill:none;stroke:#4c72b0;stroke-linecap:round;\"/>\n",
       "   </g>\n",
       "   <g id=\"line2d_1003\">\n",
       "    <path clip-path=\"url(#p0b0046a7dc)\" d=\"M 249.135953 318.672656 \n",
       "L 249.135953 303.327656 \n",
       "\" style=\"fill:none;stroke:#4c72b0;stroke-linecap:round;\"/>\n",
       "   </g>\n",
       "   <g id=\"line2d_1004\">\n",
       "    <path clip-path=\"url(#p0b0046a7dc)\" d=\"M 282.19372 318.672656 \n",
       "L 282.19372 303.327656 \n",
       "\" style=\"fill:none;stroke:#4c72b0;stroke-linecap:round;\"/>\n",
       "   </g>\n",
       "   <g id=\"line2d_1005\">\n",
       "    <path clip-path=\"url(#p0b0046a7dc)\" d=\"M 330.029935 318.672656 \n",
       "L 330.029935 303.327656 \n",
       "\" style=\"fill:none;stroke:#4c72b0;stroke-linecap:round;\"/>\n",
       "   </g>\n",
       "   <g id=\"line2d_1006\">\n",
       "    <path clip-path=\"url(#p0b0046a7dc)\" d=\"M 294.828006 318.672656 \n",
       "L 294.828006 303.327656 \n",
       "\" style=\"fill:none;stroke:#4c72b0;stroke-linecap:round;\"/>\n",
       "   </g>\n",
       "   <g id=\"line2d_1007\">\n",
       "    <path clip-path=\"url(#p0b0046a7dc)\" d=\"M 254.291769 318.672656 \n",
       "L 254.291769 303.327656 \n",
       "\" style=\"fill:none;stroke:#4c72b0;stroke-linecap:round;\"/>\n",
       "   </g>\n",
       "   <g id=\"line2d_1008\">\n",
       "    <path clip-path=\"url(#p0b0046a7dc)\" d=\"M 219.337799 318.672656 \n",
       "L 219.337799 303.327656 \n",
       "\" style=\"fill:none;stroke:#4c72b0;stroke-linecap:round;\"/>\n",
       "   </g>\n",
       "   <g id=\"line2d_1009\">\n",
       "    <path clip-path=\"url(#p0b0046a7dc)\" d=\"M 264.757643 318.672656 \n",
       "L 264.757643 303.327656 \n",
       "\" style=\"fill:none;stroke:#4c72b0;stroke-linecap:round;\"/>\n",
       "   </g>\n",
       "   <g id=\"line2d_1010\">\n",
       "    <path clip-path=\"url(#p0b0046a7dc)\" d=\"M 340.031849 318.672656 \n",
       "L 340.031849 303.327656 \n",
       "\" style=\"fill:none;stroke:#4c72b0;stroke-linecap:round;\"/>\n",
       "   </g>\n",
       "   <g id=\"line2d_1011\">\n",
       "    <path clip-path=\"url(#p0b0046a7dc)\" d=\"M 187.876077 318.672656 \n",
       "L 187.876077 303.327656 \n",
       "\" style=\"fill:none;stroke:#4c72b0;stroke-linecap:round;\"/>\n",
       "   </g>\n",
       "   <g id=\"line2d_1012\">\n",
       "    <path clip-path=\"url(#p0b0046a7dc)\" d=\"M 239.53674 318.672656 \n",
       "L 239.53674 303.327656 \n",
       "\" style=\"fill:none;stroke:#4c72b0;stroke-linecap:round;\"/>\n",
       "   </g>\n",
       "   <g id=\"line2d_1013\">\n",
       "    <path clip-path=\"url(#p0b0046a7dc)\" d=\"M 238.48896 318.672656 \n",
       "L 238.48896 303.327656 \n",
       "\" style=\"fill:none;stroke:#4c72b0;stroke-linecap:round;\"/>\n",
       "   </g>\n",
       "   <g id=\"line2d_1014\">\n",
       "    <path clip-path=\"url(#p0b0046a7dc)\" d=\"M 214.344868 318.672656 \n",
       "L 214.344868 303.327656 \n",
       "\" style=\"fill:none;stroke:#4c72b0;stroke-linecap:round;\"/>\n",
       "   </g>\n",
       "   <g id=\"line2d_1015\">\n",
       "    <path clip-path=\"url(#p0b0046a7dc)\" d=\"M 208.530284 318.672656 \n",
       "L 208.530284 303.327656 \n",
       "\" style=\"fill:none;stroke:#4c72b0;stroke-linecap:round;\"/>\n",
       "   </g>\n",
       "   <g id=\"line2d_1016\">\n",
       "    <path clip-path=\"url(#p0b0046a7dc)\" d=\"M 178.28376 318.672656 \n",
       "L 178.28376 303.327656 \n",
       "\" style=\"fill:none;stroke:#4c72b0;stroke-linecap:round;\"/>\n",
       "   </g>\n",
       "   <g id=\"line2d_1017\">\n",
       "    <path clip-path=\"url(#p0b0046a7dc)\" d=\"M 271.159268 318.672656 \n",
       "L 271.159268 303.327656 \n",
       "\" style=\"fill:none;stroke:#4c72b0;stroke-linecap:round;\"/>\n",
       "   </g>\n",
       "   <g id=\"line2d_1018\">\n",
       "    <path clip-path=\"url(#p0b0046a7dc)\" d=\"M 257.306416 318.672656 \n",
       "L 257.306416 303.327656 \n",
       "\" style=\"fill:none;stroke:#4c72b0;stroke-linecap:round;\"/>\n",
       "   </g>\n",
       "   <g id=\"line2d_1019\">\n",
       "    <path clip-path=\"url(#p0b0046a7dc)\" d=\"M 161.417967 318.672656 \n",
       "L 161.417967 303.327656 \n",
       "\" style=\"fill:none;stroke:#4c72b0;stroke-linecap:round;\"/>\n",
       "   </g>\n",
       "   <g id=\"line2d_1020\">\n",
       "    <path clip-path=\"url(#p0b0046a7dc)\" d=\"M 164.351236 318.672656 \n",
       "L 164.351236 303.327656 \n",
       "\" style=\"fill:none;stroke:#4c72b0;stroke-linecap:round;\"/>\n",
       "   </g>\n",
       "   <g id=\"line2d_1021\">\n",
       "    <path clip-path=\"url(#p0b0046a7dc)\" d=\"M 282.730728 318.672656 \n",
       "L 282.730728 303.327656 \n",
       "\" style=\"fill:none;stroke:#4c72b0;stroke-linecap:round;\"/>\n",
       "   </g>\n",
       "   <g id=\"line2d_1022\">\n",
       "    <path clip-path=\"url(#p0b0046a7dc)\" d=\"M 160.107247 318.672656 \n",
       "L 160.107247 303.327656 \n",
       "\" style=\"fill:none;stroke:#4c72b0;stroke-linecap:round;\"/>\n",
       "   </g>\n",
       "   <g id=\"line2d_1023\">\n",
       "    <path clip-path=\"url(#p0b0046a7dc)\" d=\"M 279.594919 318.672656 \n",
       "L 279.594919 303.327656 \n",
       "\" style=\"fill:none;stroke:#4c72b0;stroke-linecap:round;\"/>\n",
       "   </g>\n",
       "   <g id=\"line2d_1024\">\n",
       "    <path clip-path=\"url(#p0b0046a7dc)\" d=\"M 305.160621 318.672656 \n",
       "L 305.160621 303.327656 \n",
       "\" style=\"fill:none;stroke:#4c72b0;stroke-linecap:round;\"/>\n",
       "   </g>\n",
       "   <g id=\"line2d_1025\">\n",
       "    <path clip-path=\"url(#p0b0046a7dc)\" d=\"M 292.057806 318.672656 \n",
       "L 292.057806 303.327656 \n",
       "\" style=\"fill:none;stroke:#4c72b0;stroke-linecap:round;\"/>\n",
       "   </g>\n",
       "   <g id=\"line2d_1026\">\n",
       "    <path clip-path=\"url(#p0b0046a7dc)\" d=\"M 334.240816 318.672656 \n",
       "L 334.240816 303.327656 \n",
       "\" style=\"fill:none;stroke:#4c72b0;stroke-linecap:round;\"/>\n",
       "   </g>\n",
       "   <g id=\"line2d_1027\">\n",
       "    <path clip-path=\"url(#p0b0046a7dc)\" d=\"M 222.812597 318.672656 \n",
       "L 222.812597 303.327656 \n",
       "\" style=\"fill:none;stroke:#4c72b0;stroke-linecap:round;\"/>\n",
       "   </g>\n",
       "   <g id=\"line2d_1028\">\n",
       "    <path clip-path=\"url(#p0b0046a7dc)\" d=\"M 188.202485 318.672656 \n",
       "L 188.202485 303.327656 \n",
       "\" style=\"fill:none;stroke:#4c72b0;stroke-linecap:round;\"/>\n",
       "   </g>\n",
       "   <g id=\"line2d_1029\">\n",
       "    <path clip-path=\"url(#p0b0046a7dc)\" d=\"M 147.130941 318.672656 \n",
       "L 147.130941 303.327656 \n",
       "\" style=\"fill:none;stroke:#4c72b0;stroke-linecap:round;\"/>\n",
       "   </g>\n",
       "   <g id=\"line2d_1030\">\n",
       "    <path clip-path=\"url(#p0b0046a7dc)\" d=\"M 292.066234 318.672656 \n",
       "L 292.066234 303.327656 \n",
       "\" style=\"fill:none;stroke:#4c72b0;stroke-linecap:round;\"/>\n",
       "   </g>\n",
       "   <g id=\"line2d_1031\">\n",
       "    <path clip-path=\"url(#p0b0046a7dc)\" d=\"M 264.049132 318.672656 \n",
       "L 264.049132 303.327656 \n",
       "\" style=\"fill:none;stroke:#4c72b0;stroke-linecap:round;\"/>\n",
       "   </g>\n",
       "   <g id=\"line2d_1032\">\n",
       "    <path clip-path=\"url(#p0b0046a7dc)\" d=\"M 318.477051 318.672656 \n",
       "L 318.477051 303.327656 \n",
       "\" style=\"fill:none;stroke:#4c72b0;stroke-linecap:round;\"/>\n",
       "   </g>\n",
       "   <g id=\"line2d_1033\">\n",
       "    <path clip-path=\"url(#p0b0046a7dc)\" d=\"M 366.651634 318.672656 \n",
       "L 366.651634 303.327656 \n",
       "\" style=\"fill:none;stroke:#4c72b0;stroke-linecap:round;\"/>\n",
       "   </g>\n",
       "   <g id=\"line2d_1034\">\n",
       "    <path clip-path=\"url(#p0b0046a7dc)\" d=\"M 269.957674 318.672656 \n",
       "L 269.957674 303.327656 \n",
       "\" style=\"fill:none;stroke:#4c72b0;stroke-linecap:round;\"/>\n",
       "   </g>\n",
       "   <g id=\"line2d_1035\">\n",
       "    <path clip-path=\"url(#p0b0046a7dc)\" d=\"M 391.982893 318.672656 \n",
       "L 391.982893 303.327656 \n",
       "\" style=\"fill:none;stroke:#4c72b0;stroke-linecap:round;\"/>\n",
       "   </g>\n",
       "   <g id=\"line2d_1036\">\n",
       "    <path clip-path=\"url(#p0b0046a7dc)\" d=\"M 267.188066 318.672656 \n",
       "L 267.188066 303.327656 \n",
       "\" style=\"fill:none;stroke:#4c72b0;stroke-linecap:round;\"/>\n",
       "   </g>\n",
       "   <g id=\"line2d_1037\">\n",
       "    <path clip-path=\"url(#p0b0046a7dc)\" d=\"M 254.482145 318.672656 \n",
       "L 254.482145 303.327656 \n",
       "\" style=\"fill:none;stroke:#4c72b0;stroke-linecap:round;\"/>\n",
       "   </g>\n",
       "   <g id=\"line2d_1038\">\n",
       "    <path clip-path=\"url(#p0b0046a7dc)\" d=\"M 276.519275 318.672656 \n",
       "L 276.519275 303.327656 \n",
       "\" style=\"fill:none;stroke:#4c72b0;stroke-linecap:round;\"/>\n",
       "   </g>\n",
       "   <g id=\"line2d_1039\">\n",
       "    <path clip-path=\"url(#p0b0046a7dc)\" d=\"M 300.316219 318.672656 \n",
       "L 300.316219 303.327656 \n",
       "\" style=\"fill:none;stroke:#4c72b0;stroke-linecap:round;\"/>\n",
       "   </g>\n",
       "   <g id=\"line2d_1040\">\n",
       "    <path clip-path=\"url(#p0b0046a7dc)\" d=\"M 280.795472 318.672656 \n",
       "L 280.795472 303.327656 \n",
       "\" style=\"fill:none;stroke:#4c72b0;stroke-linecap:round;\"/>\n",
       "   </g>\n",
       "   <g id=\"line2d_1041\">\n",
       "    <path clip-path=\"url(#p0b0046a7dc)\" d=\"M 267.255388 318.672656 \n",
       "L 267.255388 303.327656 \n",
       "\" style=\"fill:none;stroke:#4c72b0;stroke-linecap:round;\"/>\n",
       "   </g>\n",
       "   <g id=\"line2d_1042\">\n",
       "    <path clip-path=\"url(#p0b0046a7dc)\" d=\"M 206.320976 318.672656 \n",
       "L 206.320976 303.327656 \n",
       "\" style=\"fill:none;stroke:#4c72b0;stroke-linecap:round;\"/>\n",
       "   </g>\n",
       "   <g id=\"line2d_1043\">\n",
       "    <path clip-path=\"url(#p0b0046a7dc)\" d=\"M 269.166414 318.672656 \n",
       "L 269.166414 303.327656 \n",
       "\" style=\"fill:none;stroke:#4c72b0;stroke-linecap:round;\"/>\n",
       "   </g>\n",
       "   <g id=\"line2d_1044\">\n",
       "    <path clip-path=\"url(#p0b0046a7dc)\" d=\"M 255.825154 318.672656 \n",
       "L 255.825154 303.327656 \n",
       "\" style=\"fill:none;stroke:#4c72b0;stroke-linecap:round;\"/>\n",
       "   </g>\n",
       "   <g id=\"line2d_1045\">\n",
       "    <path clip-path=\"url(#p0b0046a7dc)\" d=\"M 250.999344 318.672656 \n",
       "L 250.999344 303.327656 \n",
       "\" style=\"fill:none;stroke:#4c72b0;stroke-linecap:round;\"/>\n",
       "   </g>\n",
       "   <g id=\"line2d_1046\">\n",
       "    <path clip-path=\"url(#p0b0046a7dc)\" d=\"M 205.985349 318.672656 \n",
       "L 205.985349 303.327656 \n",
       "\" style=\"fill:none;stroke:#4c72b0;stroke-linecap:round;\"/>\n",
       "   </g>\n",
       "   <g id=\"line2d_1047\">\n",
       "    <path clip-path=\"url(#p0b0046a7dc)\" d=\"M 256.721694 318.672656 \n",
       "L 256.721694 303.327656 \n",
       "\" style=\"fill:none;stroke:#4c72b0;stroke-linecap:round;\"/>\n",
       "   </g>\n",
       "   <g id=\"line2d_1048\">\n",
       "    <path clip-path=\"url(#p0b0046a7dc)\" d=\"M 234.811868 318.672656 \n",
       "L 234.811868 303.327656 \n",
       "\" style=\"fill:none;stroke:#4c72b0;stroke-linecap:round;\"/>\n",
       "   </g>\n",
       "   <g id=\"line2d_1049\">\n",
       "    <path clip-path=\"url(#p0b0046a7dc)\" d=\"M 287.167064 318.672656 \n",
       "L 287.167064 303.327656 \n",
       "\" style=\"fill:none;stroke:#4c72b0;stroke-linecap:round;\"/>\n",
       "   </g>\n",
       "   <g id=\"line2d_1050\">\n",
       "    <path clip-path=\"url(#p0b0046a7dc)\" d=\"M 275.715355 318.672656 \n",
       "L 275.715355 303.327656 \n",
       "\" style=\"fill:none;stroke:#4c72b0;stroke-linecap:round;\"/>\n",
       "   </g>\n",
       "   <g id=\"line2d_1051\">\n",
       "    <path clip-path=\"url(#p0b0046a7dc)\" d=\"M 242.836047 318.672656 \n",
       "L 242.836047 303.327656 \n",
       "\" style=\"fill:none;stroke:#4c72b0;stroke-linecap:round;\"/>\n",
       "   </g>\n",
       "   <g id=\"line2d_1052\">\n",
       "    <path clip-path=\"url(#p0b0046a7dc)\" d=\"M 292.018908 318.672656 \n",
       "L 292.018908 303.327656 \n",
       "\" style=\"fill:none;stroke:#4c72b0;stroke-linecap:round;\"/>\n",
       "   </g>\n",
       "   <g id=\"line2d_1053\">\n",
       "    <path clip-path=\"url(#p0b0046a7dc)\" d=\"M 323.524077 318.672656 \n",
       "L 323.524077 303.327656 \n",
       "\" style=\"fill:none;stroke:#4c72b0;stroke-linecap:round;\"/>\n",
       "   </g>\n",
       "   <g id=\"line2d_1054\">\n",
       "    <path clip-path=\"url(#p0b0046a7dc)\" d=\"M 232.799334 318.672656 \n",
       "L 232.799334 303.327656 \n",
       "\" style=\"fill:none;stroke:#4c72b0;stroke-linecap:round;\"/>\n",
       "   </g>\n",
       "   <g id=\"line2d_1055\">\n",
       "    <path clip-path=\"url(#p0b0046a7dc)\" d=\"M 190.764037 318.672656 \n",
       "L 190.764037 303.327656 \n",
       "\" style=\"fill:none;stroke:#4c72b0;stroke-linecap:round;\"/>\n",
       "   </g>\n",
       "   <g id=\"line2d_1056\">\n",
       "    <path clip-path=\"url(#p0b0046a7dc)\" d=\"M 250.646602 318.672656 \n",
       "L 250.646602 303.327656 \n",
       "\" style=\"fill:none;stroke:#4c72b0;stroke-linecap:round;\"/>\n",
       "   </g>\n",
       "   <g id=\"line2d_1057\">\n",
       "    <path clip-path=\"url(#p0b0046a7dc)\" d=\"M 137.366187 318.672656 \n",
       "L 137.366187 303.327656 \n",
       "\" style=\"fill:none;stroke:#4c72b0;stroke-linecap:round;\"/>\n",
       "   </g>\n",
       "   <g id=\"line2d_1058\">\n",
       "    <path clip-path=\"url(#p0b0046a7dc)\" d=\"M 214.851046 318.672656 \n",
       "L 214.851046 303.327656 \n",
       "\" style=\"fill:none;stroke:#4c72b0;stroke-linecap:round;\"/>\n",
       "   </g>\n",
       "   <g id=\"patch_27\">\n",
       "    <path d=\"M 33.660937 11.772656 \n",
       "L 480.060937 11.772656 \n",
       "\" style=\"fill:none;\"/>\n",
       "   </g>\n",
       "   <g id=\"patch_28\">\n",
       "    <path d=\"M 480.060937 318.672656 \n",
       "L 480.060937 11.772656 \n",
       "\" style=\"fill:none;\"/>\n",
       "   </g>\n",
       "   <g id=\"patch_29\">\n",
       "    <path d=\"M 33.660937 318.672656 \n",
       "L 480.060937 318.672656 \n",
       "\" style=\"fill:none;\"/>\n",
       "   </g>\n",
       "   <g id=\"patch_30\">\n",
       "    <path d=\"M 33.660938 318.672656 \n",
       "L 33.660938 11.772656 \n",
       "\" style=\"fill:none;\"/>\n",
       "   </g>\n",
       "  </g>\n",
       " </g>\n",
       " <defs>\n",
       "  <clipPath id=\"p0b0046a7dc\">\n",
       "   <rect height=\"306.9\" width=\"446.4\" x=\"33.6609375\" y=\"11.77265625\"/>\n",
       "  </clipPath>\n",
       " </defs>\n",
       "</svg>\n"
      ],
      "text/plain": [
       "<matplotlib.figure.Figure at 0x7fa5347fa150>"
      ]
     },
     "metadata": {},
     "output_type": "display_data"
    }
   ],
   "source": [
    "x = np.random.randn(1000)\n",
    "sns.distplot(x, rug=True)"
   ]
  },
  {
   "cell_type": "code",
   "execution_count": 218,
   "metadata": {
    "collapsed": false,
    "school_cell_uuid": "4a23c751fb8746e59449cfacbc779a91"
   },
   "outputs": [
    {
     "data": {
      "text/plain": [
       "array([[-0.24084301, -0.6676534 ,  0.06900028,  0.45158204],\n",
       "       [-0.23342743, -0.33696328, -0.49507512, -0.49871364],\n",
       "       [-0.18672772,  0.24499567, -0.77532038, -0.23060432]])"
      ]
     },
     "execution_count": 218,
     "metadata": {},
     "output_type": "execute_result"
    }
   ],
   "source": [
    "np.random.randn(3,4)"
   ]
  },
  {
   "cell_type": "markdown",
   "metadata": {
    "bootstrap": {
     "panel": {
      "class": "panel-danger",
      "heading": "요약: NumPy의 랜덤 넘버 카운트 함수"
     }
    },
    "school_cell_uuid": "7be73be6d3ed42239130fb3a9f04d651"
   },
   "source": [
    "#### random number count\n",
    "\n",
    "* discrete values\n",
    " * `unique()`\n",
    " * `bincount()`\n",
    "* continuous values\n",
    " * `histogram()`"
   ]
  },
  {
   "cell_type": "code",
   "execution_count": 219,
   "metadata": {
    "collapsed": false,
    "school_cell_uuid": "9106dfd5f6be4ab1ae996ad07d9fd11b"
   },
   "outputs": [
    {
     "data": {
      "text/plain": [
       "array([ 2, 11, 34])"
      ]
     },
     "execution_count": 219,
     "metadata": {},
     "output_type": "execute_result"
    }
   ],
   "source": [
    "np.unique([11, 11, 2, 2, 34, 34])"
   ]
  },
  {
   "cell_type": "code",
   "execution_count": 220,
   "metadata": {
    "collapsed": false,
    "school_cell_uuid": "235852d31965471c941a401c0ec4e231"
   },
   "outputs": [
    {
     "data": {
      "text/plain": [
       "array([1, 2, 3])"
      ]
     },
     "execution_count": 220,
     "metadata": {},
     "output_type": "execute_result"
    }
   ],
   "source": [
    "a = np.array([[1, 1], [2, 3]])\n",
    "np.unique(a)"
   ]
  },
  {
   "cell_type": "code",
   "execution_count": 221,
   "metadata": {
    "collapsed": true,
    "school_cell_uuid": "a590c055e9a146918cb98f8a43ed12b8"
   },
   "outputs": [],
   "source": [
    "a = np.array(['a', 'b', 'b', 'c', 'a'])\n",
    "index, count = np.unique(a, return_counts=True)"
   ]
  },
  {
   "cell_type": "code",
   "execution_count": 222,
   "metadata": {
    "collapsed": false,
    "school_cell_uuid": "6808e78c5cfa459d98c011d924e42291"
   },
   "outputs": [
    {
     "data": {
      "text/plain": [
       "array([2, 2, 1])"
      ]
     },
     "execution_count": 222,
     "metadata": {},
     "output_type": "execute_result"
    }
   ],
   "source": [
    "count"
   ]
  },
  {
   "cell_type": "code",
   "execution_count": 223,
   "metadata": {
    "collapsed": false,
    "school_cell_uuid": "17de88532c2f47a08ff2029f7584d61e"
   },
   "outputs": [
    {
     "data": {
      "text/plain": [
       "array(['a', 'b', 'c'], \n",
       "      dtype='|S1')"
      ]
     },
     "execution_count": 223,
     "metadata": {},
     "output_type": "execute_result"
    }
   ],
   "source": [
    "index"
   ]
  },
  {
   "cell_type": "code",
   "execution_count": 224,
   "metadata": {
    "collapsed": false,
    "school_cell_uuid": "8d9957f0f8af43a2861af83f1df4e300"
   },
   "outputs": [
    {
     "data": {
      "text/plain": [
       "array([0, 2, 2, 2, 0, 0])"
      ]
     },
     "execution_count": 224,
     "metadata": {},
     "output_type": "execute_result"
    }
   ],
   "source": [
    "np.bincount([1, 1, 2, 2, 3, 3], minlength=6)"
   ]
  },
  {
   "cell_type": "code",
   "execution_count": 225,
   "metadata": {
    "collapsed": false,
    "school_cell_uuid": "1d2e95286a5d4443af04fe46537cecb5"
   },
   "outputs": [
    {
     "data": {
      "text/plain": [
       "(array([1, 2, 2]), array([0, 1, 2, 3]))"
      ]
     },
     "execution_count": 225,
     "metadata": {},
     "output_type": "execute_result"
    }
   ],
   "source": [
    "np.histogram([1.1, 2.5, 1.8, 2.4, 0.7], bins=[0, 1, 2, 3])"
   ]
  },
  {
   "cell_type": "code",
   "execution_count": 226,
   "metadata": {
    "collapsed": false,
    "school_cell_uuid": "3463ac0b57d94003995bc7b350a783aa"
   },
   "outputs": [
    {
     "data": {
      "text/plain": [
       "(array([0, 2, 1]), array([0, 1, 2, 3]))"
      ]
     },
     "execution_count": 226,
     "metadata": {},
     "output_type": "execute_result"
    }
   ],
   "source": [
    "np.histogram([1, 2, 1], bins=[0, 1, 2, 3])"
   ]
  },
  {
   "cell_type": "code",
   "execution_count": 227,
   "metadata": {
    "collapsed": false,
    "school_cell_uuid": "0c9f77d8c6b7436e9464ff0cbe2acf3a"
   },
   "outputs": [
    {
     "data": {
      "text/plain": [
       "(array([1, 4, 1]), array([0, 1, 2, 3]))"
      ]
     },
     "execution_count": 227,
     "metadata": {},
     "output_type": "execute_result"
    }
   ],
   "source": [
    "np.histogram([[1, 2, 1], [1, 0, 1]], bins=[0,1,2,3])"
   ]
  },
  {
   "cell_type": "code",
   "execution_count": 228,
   "metadata": {
    "collapsed": false,
    "school_cell_uuid": "2976e0f4783f4837b2a67c002c9a25f8"
   },
   "outputs": [
    {
     "data": {
      "text/plain": [
       "(array([ 0.25,  0.25,  0.25,  0.25]), array([0, 1, 2, 3, 4]))"
      ]
     },
     "execution_count": 228,
     "metadata": {},
     "output_type": "execute_result"
    }
   ],
   "source": [
    "np.histogram(np.arange(4), bins=np.arange(5), density=True)"
   ]
  }
 ],
 "metadata": {
  "celltoolbar": "Edit Metadata",
  "kernelspec": {
   "display_name": "Python 3",
   "language": "python",
   "name": "python3"
  },
  "language_info": {
   "codemirror_mode": {
    "name": "ipython",
    "version": 3
   },
   "file_extension": ".py",
   "mimetype": "text/x-python",
   "name": "python",
   "nbconvert_exporter": "python",
   "pygments_lexer": "ipython3",
   "version": "3.5.1"
  }
 },
 "nbformat": 4,
 "nbformat_minor": 0
}
