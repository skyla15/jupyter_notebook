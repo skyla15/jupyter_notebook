{
 "cells": [
  {
   "cell_type": "markdown",
   "metadata": {
    "school_cell_uuid": "f07c2bbeb20045cea0f21740fac61cea"
   },
   "source": [
    "# Python의  날짜 및 시간 관련 패키지 소개\n"
   ]
  },
  {
   "cell_type": "markdown",
   "metadata": {
    "school_cell_uuid": "f9952c486aec44f8a90430191cf06e82"
   },
   "source": [
    "* 날짜/시간 관련 패키지\n",
    "\n",
    "  * `datetime` \n",
    "    * https://docs.python.org/2/library/datetime.html\n",
    "    \n",
    "  * `time`\n",
    "    * https://docs.python.org/2/library/time.html\n",
    "    \n",
    "  * `pytz`\n",
    "    * http://pythonhosted.org/pytz/\n",
    "    \n",
    "  * `dateutil`\n",
    "    * http://dateutil.readthedocs.org/en/latest/index.html\n",
    "    "
   ]
  },
  {
   "cell_type": "markdown",
   "metadata": {
    "school_cell_uuid": "980b64a0ccbc4ac9abf649a0432053a1"
   },
   "source": [
    "## datetime 패키지\n",
    "\n",
    "* 서브 패키지\n",
    " * datetime 클래스 : 날짜+시간 복합 정보\n",
    " * date 클래스: 날짜 정보\n",
    " * time 클래스: 시간 정보\n",
    " * timedelta 클래스: 시간 차이 정보\n",
    " * tzinfo 클래스: 시간대 정보"
   ]
  },
  {
   "cell_type": "code",
   "execution_count": 1,
   "metadata": {
    "collapsed": true,
    "school_cell_uuid": "adb85f3ee1b847fcb8fa46a0586d5f6d"
   },
   "outputs": [],
   "source": [
    "import datetime"
   ]
  },
  {
   "cell_type": "markdown",
   "metadata": {
    "school_cell_uuid": "aa80ff9ec0954048b267b9c8cb308f21"
   },
   "source": [
    "### datetime.datetime 클래스\n",
    "\n",
    "* 날짜와 시간 정보를 가지는 객체\n",
    "* Class Methods\n",
    " * `now([tz])`: 현재 시각\n",
    " * `strptime(date_string, format)`: 문자열 -> datetime \n",
    " * `fromtimestamp()`: timestamp -> datetime\n",
    " * `fromordinal(ordinal)`: proleptic Gregorian ordinal (엑셀 날짜) -> datetime\n",
    " * `combine(date, time)`: date + time -> datetime"
   ]
  },
  {
   "cell_type": "markdown",
   "metadata": {
    "school_cell_uuid": "c92db140cbab4cc3b9cafc8037024001"
   },
   "source": [
    "### 현재시각"
   ]
  },
  {
   "cell_type": "code",
   "execution_count": 2,
   "metadata": {
    "collapsed": false,
    "school_cell_uuid": "80407accf98c4edfb8945457c066e828"
   },
   "outputs": [
    {
     "data": {
      "text/plain": [
       "datetime.datetime(2016, 4, 15, 11, 51, 32, 454636)"
      ]
     },
     "execution_count": 2,
     "metadata": {},
     "output_type": "execute_result"
    }
   ],
   "source": [
    "dt = datetime.datetime.now()\n",
    "dt"
   ]
  },
  {
   "cell_type": "code",
   "execution_count": 3,
   "metadata": {
    "collapsed": false,
    "school_cell_uuid": "1c7c885bd4f143d9b1c549a26e6bdcc8"
   },
   "outputs": [
    {
     "data": {
      "text/plain": [
       "datetime.datetime"
      ]
     },
     "execution_count": 3,
     "metadata": {},
     "output_type": "execute_result"
    }
   ],
   "source": [
    "type(dt)"
   ]
  },
  {
   "cell_type": "markdown",
   "metadata": {
    "school_cell_uuid": "1cab85d7be9641b098bedc192de33a7f"
   },
   "source": [
    "* Instance Attributes 속성\n",
    " * `year`, `month`, `day`, `hour`, `minute`, `second`, `microsecond`\n",
    " * `tzinfo`\n",
    "* Instance Methods 메소드\n",
    " * `weekday()`: 요일 {0:월, 1:화, 2:수, 3:목, 4:금, 5:토, 6:일}\n",
    " * `strftime(format)`: datetime -> 문자열\n",
    " * `toordinal()`: datetime -> proleptic Gregorian ordinal (엑셀 날짜)\n",
    " * `date()`: datetime -> date\n",
    " * `time()`: datetime -> time "
   ]
  },
  {
   "cell_type": "code",
   "execution_count": 4,
   "metadata": {
    "collapsed": false,
    "school_cell_uuid": "673da5fee07f4f3b954e33a2bede5e84"
   },
   "outputs": [
    {
     "data": {
      "text/plain": [
       "(2016, 4, 15, 11, 51, 32, 454636, None)"
      ]
     },
     "execution_count": 4,
     "metadata": {},
     "output_type": "execute_result"
    }
   ],
   "source": [
    "dt.year, dt.month, dt.day, dt.hour, dt.minute, dt.second, dt.microsecond, dt.tzinfo"
   ]
  },
  {
   "cell_type": "code",
   "execution_count": 5,
   "metadata": {
    "collapsed": false,
    "school_cell_uuid": "02811e2ebe554745a87679aa6babb7d9"
   },
   "outputs": [
    {
     "data": {
      "text/plain": [
       "4"
      ]
     },
     "execution_count": 5,
     "metadata": {},
     "output_type": "execute_result"
    }
   ],
   "source": [
    "dt.weekday() #  {0:월, 1:화, 2:수, 3:목, 4:금, 5:토, 6:일}"
   ]
  },
  {
   "cell_type": "markdown",
   "metadata": {
    "school_cell_uuid": "462ee80238e249a19a0eb5c7df3f4ea2"
   },
   "source": [
    "### 문자열 변환\n",
    "\n",
    "* Parsing\n",
    " * 문자열 -> datetime \n",
    " * `strptime(date_string, format)`\n",
    "* Formatting\n",
    " * datetime -> 문자열\n",
    " * `strftime(format)` "
   ]
  },
  {
   "cell_type": "code",
   "execution_count": 6,
   "metadata": {
    "collapsed": false,
    "school_cell_uuid": "99cb83c931b44161bbf5ae5c8ef48164"
   },
   "outputs": [
    {
     "data": {
      "text/plain": [
       "datetime.datetime(2015, 12, 31, 11, 32)"
      ]
     },
     "execution_count": 6,
     "metadata": {},
     "output_type": "execute_result"
    }
   ],
   "source": [
    "dt1 = datetime.datetime.strptime(\"2015-12-31 11:32\", \"%Y-%m-%d %H:%M\")\n",
    "dt1"
   ]
  },
  {
   "cell_type": "code",
   "execution_count": 7,
   "metadata": {
    "collapsed": false,
    "school_cell_uuid": "181a8542916e49e8a7da9ff81281b983"
   },
   "outputs": [
    {
     "data": {
      "text/plain": [
       "'31/12/15'"
      ]
     },
     "execution_count": 7,
     "metadata": {},
     "output_type": "execute_result"
    }
   ],
   "source": [
    "dt1.strftime(\"%d/%m/%y\")"
   ]
  },
  {
   "cell_type": "code",
   "execution_count": 8,
   "metadata": {
    "collapsed": false,
    "school_cell_uuid": "3cc117c083904592ae4eb203a3232040"
   },
   "outputs": [
    {
     "data": {
      "text/plain": [
       "'Thursday 31. December 2015'"
      ]
     },
     "execution_count": 8,
     "metadata": {},
     "output_type": "execute_result"
    }
   ],
   "source": [
    "dt1.strftime(\"%A %d. %B %Y\")"
   ]
  },
  {
   "cell_type": "markdown",
   "metadata": {
    "school_cell_uuid": "e8da2114dd0b4a619e2232138d288c92"
   },
   "source": [
    "* format 기호\n",
    " * https://docs.python.org/2/library/datetime.html#strftime-and-strptime-behavior\n",
    " * `%Y`: 년, zero-padded decimal\n",
    " * `%m`: 월, zero-padded decimal\n",
    " * `%d`: 일, zero-padded decimal\n",
    " * `%H`: 시, zero-padded decimal\n",
    " * `%M`: 분, zero-padded decimal\n",
    " * `%S`: 초, zero-padded decimal"
   ]
  },
  {
   "cell_type": "code",
   "execution_count": 9,
   "metadata": {
    "collapsed": false,
    "school_cell_uuid": "8528724653974bf2b93200fc1750d126"
   },
   "outputs": [
    {
     "name": "stdout",
     "output_type": "stream",
     "text": [
      "2015년 12월 31일 11시 32분 00초\n"
     ]
    }
   ],
   "source": [
    "s = dt1.strftime(u\"%Y년 %m월 %d일 %H시 %M분 %S초\".encode(\"utf-8\"))\n",
    "print(s)"
   ]
  },
  {
   "cell_type": "markdown",
   "metadata": {
    "school_cell_uuid": "4e7278d1672c4185bdfb3e3ce23056f6"
   },
   "source": [
    "### datetime, date, time 변환\n",
    "\n",
    "* datetime -> date 또는 time \n",
    " * `date()` 메소드 또는 `time()` 메소드\n",
    "* date + time -> datetime\n",
    " * `combine()` 메소드"
   ]
  },
  {
   "cell_type": "code",
   "execution_count": 10,
   "metadata": {
    "collapsed": false,
    "school_cell_uuid": "9ce92f660ede4df5aee8b8c7a71071a3"
   },
   "outputs": [
    {
     "data": {
      "text/plain": [
       "datetime.datetime(2016, 4, 15, 11, 51, 32, 528052)"
      ]
     },
     "execution_count": 10,
     "metadata": {},
     "output_type": "execute_result"
    }
   ],
   "source": [
    "dt = datetime.datetime.now()\n",
    "dt"
   ]
  },
  {
   "cell_type": "code",
   "execution_count": 11,
   "metadata": {
    "collapsed": false,
    "school_cell_uuid": "cca930dbc392452883fa4f3ce1c595cb"
   },
   "outputs": [
    {
     "data": {
      "text/plain": [
       "(datetime.date(2016, 4, 15), datetime.time(11, 51, 32, 528052))"
      ]
     },
     "execution_count": 11,
     "metadata": {},
     "output_type": "execute_result"
    }
   ],
   "source": [
    "dt.date(), dt.time()"
   ]
  },
  {
   "cell_type": "code",
   "execution_count": 12,
   "metadata": {
    "collapsed": false,
    "school_cell_uuid": "b31cb8959e6e430a9dabf801955a4aa0"
   },
   "outputs": [
    {
     "data": {
      "text/plain": [
       "datetime.date(2015, 12, 31)"
      ]
     },
     "execution_count": 12,
     "metadata": {},
     "output_type": "execute_result"
    }
   ],
   "source": [
    "d = datetime.date(2015, 12, 31)\n",
    "d"
   ]
  },
  {
   "cell_type": "code",
   "execution_count": 13,
   "metadata": {
    "collapsed": false,
    "school_cell_uuid": "0d909f74303b45c9a19812c93f7ea03e"
   },
   "outputs": [
    {
     "data": {
      "text/plain": [
       "datetime.time(11, 31, 29)"
      ]
     },
     "execution_count": 13,
     "metadata": {},
     "output_type": "execute_result"
    }
   ],
   "source": [
    "t = datetime.time(11, 31, 29)\n",
    "t"
   ]
  },
  {
   "cell_type": "code",
   "execution_count": 14,
   "metadata": {
    "collapsed": false,
    "school_cell_uuid": "0477738aac124386bad2b4a2280041d7"
   },
   "outputs": [
    {
     "data": {
      "text/plain": [
       "datetime.datetime(2015, 12, 31, 11, 31, 29)"
      ]
     },
     "execution_count": 14,
     "metadata": {},
     "output_type": "execute_result"
    }
   ],
   "source": [
    "datetime.datetime.combine(d, t)"
   ]
  },
  {
   "cell_type": "markdown",
   "metadata": {
    "school_cell_uuid": "f391924e97df4f5d9a43fffd332eef46"
   },
   "source": [
    "### timedelta와 날짜시간 연산\n",
    "\n",
    "* 빼기\n",
    " * datetime - datetime => timedelta\n",
    "\n",
    "* 더하기 \n",
    " * datetime + timedelta => datetime"
   ]
  },
  {
   "cell_type": "code",
   "execution_count": 15,
   "metadata": {
    "collapsed": false,
    "school_cell_uuid": "b3df625cd27e473dbd9b291b593a88db"
   },
   "outputs": [
    {
     "data": {
      "text/plain": [
       "datetime.timedelta(48, 3600)"
      ]
     },
     "execution_count": 15,
     "metadata": {},
     "output_type": "execute_result"
    }
   ],
   "source": [
    "dt1 = datetime.datetime(2016, 2, 19, 14)\n",
    "dt2 = datetime.datetime(2016, 1, 2, 13)\n",
    "td = dt1 - dt2\n",
    "td"
   ]
  },
  {
   "cell_type": "markdown",
   "metadata": {
    "school_cell_uuid": "1e2b2e1c655e4d599468902d5f0ddf2c"
   },
   "source": [
    "### timedelta 클래스\n",
    "\n",
    "* 속성\n",
    " * `days`: 일수\n",
    " * `seconds`: 초. (0 ~ 86399)\n",
    " * `microseconds`: 마이크로초 (0 and 999999)\n",
    "\n",
    "* 메소드\n",
    " * `total_seconds()`: 모든 속성을 초단위로 모아서 변환"
   ]
  },
  {
   "cell_type": "code",
   "execution_count": 16,
   "metadata": {
    "collapsed": false,
    "school_cell_uuid": "3c1af41f0ca64e75abba51389bcc28e9"
   },
   "outputs": [
    {
     "data": {
      "text/plain": [
       "(48, 3600, 0)"
      ]
     },
     "execution_count": 16,
     "metadata": {},
     "output_type": "execute_result"
    }
   ],
   "source": [
    "td.days, td.seconds, td.microseconds"
   ]
  },
  {
   "cell_type": "code",
   "execution_count": 17,
   "metadata": {
    "collapsed": false,
    "school_cell_uuid": "2e29c7937c974bbea0aeee45f480a6c2"
   },
   "outputs": [
    {
     "data": {
      "text/plain": [
       "4150800.0"
      ]
     },
     "execution_count": 17,
     "metadata": {},
     "output_type": "execute_result"
    }
   ],
   "source": [
    "td.total_seconds()"
   ]
  },
  {
   "cell_type": "markdown",
   "metadata": {
    "school_cell_uuid": "9d9595ee21bd41a9995de0c990fd9903"
   },
   "source": [
    "## time 패키지\n",
    "\n",
    "* platform C library 기반의 low 레벨 시간처리\n",
    "* https://docs.python.org/2/library/time.html"
   ]
  },
  {
   "cell_type": "markdown",
   "metadata": {
    "school_cell_uuid": "c1a3109dbabc45eba84b574df6b430ff"
   },
   "source": [
    "### sleep 함수\n",
    "\n",
    "* 일정 시간 동안 프로세스 정지"
   ]
  },
  {
   "cell_type": "code",
   "execution_count": 18,
   "metadata": {
    "collapsed": false,
    "school_cell_uuid": "01b65183932746ffb5190b2eebc31e83"
   },
   "outputs": [
    {
     "name": "stdout",
     "output_type": "stream",
     "text": [
      "start...\n",
      "1\n",
      "2\n",
      "3\n",
      "4\n",
      "finish!\n"
     ]
    }
   ],
   "source": [
    "import time\n",
    "print(\"start...\")\n",
    "time.sleep(1)\n",
    "print(1)\n",
    "time.sleep(1)\n",
    "print(2)\n",
    "time.sleep(1)\n",
    "print(3)\n",
    "time.sleep(1)\n",
    "print(4)\n",
    "time.sleep(1)\n",
    "print(\"finish!\")"
   ]
  },
  {
   "cell_type": "markdown",
   "metadata": {
    "school_cell_uuid": "40daf116188b46cf9ad74499acf9748b"
   },
   "source": [
    "### time 패키지의 시간 표시\n",
    "\n",
    "* time_struct\n",
    " * 9-tuple 내부 구조체\n",
    "* 단일 부동소수점 숫자 \n",
    " * 시간을 하나의 숫자로 표시 가능\n",
    " * time 패키지의 모든 시각은 epoch로부터 흐른 초단위 숫자로 표시\n",
    " * epoch\n",
    "  * 1970년 1월 1일 0시 기준\n"
   ]
  },
  {
   "cell_type": "markdown",
   "metadata": {
    "school_cell_uuid": "120f1899717d4bbea94bb0fc2da435e7"
   },
   "source": [
    "### time package 명령어\n",
    "* `time()`: 현재 시각을 단일 부동소수점 숫자로 반환\n",
    "* `localtime()`: 현재 시각을 time_struct로 반환\n",
    "* `mktime(ts)`: time_struct -> 단일 부동소수점 숫자 변환"
   ]
  },
  {
   "cell_type": "code",
   "execution_count": 19,
   "metadata": {
    "collapsed": false,
    "school_cell_uuid": "5142a93d9ee3433abebe8a1200e2be0d"
   },
   "outputs": [
    {
     "data": {
      "text/plain": [
       "1460721097.600416"
      ]
     },
     "execution_count": 19,
     "metadata": {},
     "output_type": "execute_result"
    }
   ],
   "source": [
    "time.time()"
   ]
  },
  {
   "cell_type": "code",
   "execution_count": 20,
   "metadata": {
    "collapsed": false,
    "school_cell_uuid": "e70c3828f80d400f9b32f2afe624cc87"
   },
   "outputs": [
    {
     "data": {
      "text/plain": [
       "time.struct_time(tm_year=2016, tm_mon=4, tm_mday=15, tm_hour=11, tm_min=51, tm_sec=37, tm_wday=4, tm_yday=106, tm_isdst=0)"
      ]
     },
     "execution_count": 20,
     "metadata": {},
     "output_type": "execute_result"
    }
   ],
   "source": [
    "ts = time.localtime()\n",
    "ts"
   ]
  },
  {
   "cell_type": "code",
   "execution_count": 21,
   "metadata": {
    "collapsed": false,
    "school_cell_uuid": "3daf85f448894f2894faf8007885843d"
   },
   "outputs": [
    {
     "data": {
      "text/plain": [
       "1460721097.0"
      ]
     },
     "execution_count": 21,
     "metadata": {},
     "output_type": "execute_result"
    }
   ],
   "source": [
    "time.mktime(ts)"
   ]
  },
  {
   "cell_type": "markdown",
   "metadata": {
    "school_cell_uuid": "f4cd5e868a134b15826cedbe7693e72a"
   },
   "source": [
    "## pytz 패키지\n",
    "* 세계 시간대 변환"
   ]
  },
  {
   "cell_type": "code",
   "execution_count": 22,
   "metadata": {
    "collapsed": true,
    "school_cell_uuid": "05771056569a4c8eb369c48d87e6720f"
   },
   "outputs": [],
   "source": [
    "import pytz"
   ]
  },
  {
   "cell_type": "code",
   "execution_count": 23,
   "metadata": {
    "collapsed": true,
    "school_cell_uuid": "510b0d9958ae473196a1cf6b1cf1a6d6"
   },
   "outputs": [],
   "source": [
    "seoul = pytz.timezone(\"Asia/Seoul\")"
   ]
  },
  {
   "cell_type": "markdown",
   "metadata": {
    "school_cell_uuid": "5859f44e591c4de0bbbc4f00498f0ed9"
   },
   "source": [
    "### datetime 객체에 시간대 정보 넣기\n",
    "* localize 메소드"
   ]
  },
  {
   "cell_type": "code",
   "execution_count": 24,
   "metadata": {
    "collapsed": false,
    "school_cell_uuid": "f10994035eb64d8381a962f750b06001"
   },
   "outputs": [
    {
     "data": {
      "text/plain": [
       "datetime.datetime(2016, 4, 15, 11, 51, 37, 656818)"
      ]
     },
     "execution_count": 24,
     "metadata": {},
     "output_type": "execute_result"
    }
   ],
   "source": [
    "t1 = datetime.datetime.now()\n",
    "t1"
   ]
  },
  {
   "cell_type": "code",
   "execution_count": 25,
   "metadata": {
    "collapsed": false,
    "school_cell_uuid": "2fc16e3a0f9b44959ce89c164990e369"
   },
   "outputs": [
    {
     "data": {
      "text/plain": [
       "datetime.datetime(2016, 4, 15, 11, 51, 37, 656818, tzinfo=<DstTzInfo 'Asia/Seoul' KST+9:00:00 STD>)"
      ]
     },
     "execution_count": 25,
     "metadata": {},
     "output_type": "execute_result"
    }
   ],
   "source": [
    "lt1 = seoul.localize(t1)\n",
    "lt1"
   ]
  },
  {
   "cell_type": "code",
   "execution_count": 26,
   "metadata": {
    "collapsed": false,
    "school_cell_uuid": "59937df5d7a64b32a85d02a6514ae488"
   },
   "outputs": [
    {
     "data": {
      "text/plain": [
       "datetime.datetime(2016, 4, 15, 11, 51, 37, 671166)"
      ]
     },
     "execution_count": 26,
     "metadata": {},
     "output_type": "execute_result"
    }
   ],
   "source": [
    "t2 = datetime.datetime.utcnow()\n",
    "t2"
   ]
  },
  {
   "cell_type": "code",
   "execution_count": 27,
   "metadata": {
    "collapsed": false,
    "school_cell_uuid": "6e6720cf8a0b48908d1325a42520fc67"
   },
   "outputs": [
    {
     "data": {
      "text/plain": [
       "datetime.datetime(2016, 4, 15, 11, 51, 37, 671166, tzinfo=<UTC>)"
      ]
     },
     "execution_count": 27,
     "metadata": {},
     "output_type": "execute_result"
    }
   ],
   "source": [
    "lt2 = pytz.utc.localize(t2)\n",
    "lt2"
   ]
  },
  {
   "cell_type": "code",
   "execution_count": 28,
   "metadata": {
    "collapsed": false,
    "school_cell_uuid": "13bfdee729134506b6ed646d80f6adf4"
   },
   "outputs": [
    {
     "data": {
      "text/plain": [
       "datetime.datetime(2016, 4, 15, 11, 51, 37, 671166, tzinfo=<UTC>)"
      ]
     },
     "execution_count": 28,
     "metadata": {},
     "output_type": "execute_result"
    }
   ],
   "source": [
    "lt2 = t2.replace(tzinfo=pytz.utc)\n",
    "lt2"
   ]
  },
  {
   "cell_type": "markdown",
   "metadata": {
    "school_cell_uuid": "565d88e37d384509aafb313ec193e3d6"
   },
   "source": [
    "### 타시간대로 변환\n",
    "* astimezone 메소드"
   ]
  },
  {
   "cell_type": "code",
   "execution_count": 29,
   "metadata": {
    "collapsed": false,
    "school_cell_uuid": "080531e967b84f10b7c4bfa2b0b18b8e"
   },
   "outputs": [
    {
     "data": {
      "text/plain": [
       "datetime.datetime(2016, 4, 14, 22, 51, 37, 691870, tzinfo=<DstTzInfo 'US/Eastern' EDT-1 day, 20:00:00 DST>)"
      ]
     },
     "execution_count": 29,
     "metadata": {},
     "output_type": "execute_result"
    }
   ],
   "source": [
    "t1 = datetime.datetime.now()\n",
    "lt1 = seoul.localize(t1)\n",
    "lt3 = lt1.astimezone(pytz.timezone(\"US/Eastern\"))\n",
    "lt3"
   ]
  },
  {
   "cell_type": "markdown",
   "metadata": {
    "school_cell_uuid": "11fb1fcf1e3142a4982ea69c036f798e"
   },
   "source": [
    "* http://www.timeanddate.com/worldclock/usa/new-york"
   ]
  },
  {
   "cell_type": "markdown",
   "metadata": {
    "school_cell_uuid": "44b0d1376a764671879e98df0fad374e"
   },
   "source": [
    "## dateutil\n",
    "\n",
    "* parse 함수\n",
    "* relativedelta 클래스"
   ]
  },
  {
   "cell_type": "markdown",
   "metadata": {
    "school_cell_uuid": "dcfd89c4f1af4d809bafbaf116ba3c6a"
   },
   "source": [
    "### `parse()` 함수\n",
    "\n",
    "* 많이 사용되는 날짜 시간 관련 문자열 형식을 스스로 판단"
   ]
  },
  {
   "cell_type": "code",
   "execution_count": 1,
   "metadata": {
    "collapsed": true,
    "school_cell_uuid": "577597143e3a413784b2e9ac74097672"
   },
   "outputs": [],
   "source": [
    "from dateutil.parser import parse"
   ]
  },
  {
   "cell_type": "code",
   "execution_count": 3,
   "metadata": {
    "collapsed": false,
    "school_cell_uuid": "05570130b4614f9b96bb48732a5dde0f"
   },
   "outputs": [
    {
     "data": {
      "text/plain": [
       "datetime.datetime(2016, 4, 16, 0, 0)"
      ]
     },
     "execution_count": 3,
     "metadata": {},
     "output_type": "execute_result"
    }
   ],
   "source": [
    "parse('2016-04-16')"
   ]
  },
  {
   "cell_type": "code",
   "execution_count": 10,
   "metadata": {
    "collapsed": false,
    "school_cell_uuid": "f56d0e0ff6ea46f596e859dbc6e63c93"
   },
   "outputs": [
    {
     "data": {
      "text/plain": [
       "datetime.datetime(2016, 4, 16, 16, 5, 32)"
      ]
     },
     "execution_count": 10,
     "metadata": {},
     "output_type": "execute_result"
    }
   ],
   "source": [
    "parse(\"Apr 16, 2016 04:05:32 PM\")"
   ]
  },
  {
   "cell_type": "code",
   "execution_count": 12,
   "metadata": {
    "collapsed": false,
    "school_cell_uuid": "4d1f316991214d5abe48ee8e5de4a1c9"
   },
   "outputs": [
    {
     "data": {
      "text/plain": [
       "datetime.datetime(2016, 6, 7, 0, 0)"
      ]
     },
     "execution_count": 12,
     "metadata": {},
     "output_type": "execute_result"
    }
   ],
   "source": [
    "parse('6/7/2016')"
   ]
  }
 ],
 "metadata": {
  "celltoolbar": "Slideshow",
  "kernelspec": {
   "display_name": "Python 2",
   "language": "python",
   "name": "python2"
  },
  "language_info": {
   "codemirror_mode": {
    "name": "ipython",
    "version": 2
   },
   "file_extension": ".py",
   "mimetype": "text/x-python",
   "name": "python",
   "nbconvert_exporter": "python",
   "pygments_lexer": "ipython2",
   "version": "2.7.11"
  }
 },
 "nbformat": 4,
 "nbformat_minor": 0
}