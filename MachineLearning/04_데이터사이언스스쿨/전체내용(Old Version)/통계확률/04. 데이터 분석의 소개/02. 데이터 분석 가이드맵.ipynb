{
 "cells": [
  {
   "cell_type": "markdown",
   "metadata": {
    "school_cell_uuid": "4c466458cbd04aaf8f38743f60c35c12"
   },
   "source": [
    "# 데이터 분석 가이드맵"
   ]
  },
  {
   "cell_type": "markdown",
   "metadata": {
    "school_cell_uuid": "3d449847c75341ac84e5c4377f5ade15"
   },
   "source": [
    "<img src=\"https://datascienceschool.net/upfiles/7fcfb4d5a74448bfbd1677dfc94e14ab.png\" style=\"width: 100%;\">"
   ]
  }
 ],
 "metadata": {
  "kernelspec": {
   "display_name": "Python [Root]",
   "language": "python",
   "name": "Python [Root]"
  },
  "language_info": {
   "codemirror_mode": {
    "name": "ipython",
    "version": 2
   },
   "file_extension": ".py",
   "mimetype": "text/x-python",
   "name": "python",
   "nbconvert_exporter": "python",
   "pygments_lexer": "ipython2",
   "version": "2.7.12"
  }
 },
 "nbformat": 4,
 "nbformat_minor": 0
}