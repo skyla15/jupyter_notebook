{
 "cells": [
  {
   "cell_type": "markdown",
   "metadata": {
    "school_cell_uuid": "cc4356cb358b4898ac5b7ae966dae554"
   },
   "source": [
    "# 확률 모형에서 적분의 의미"
   ]
  },
  {
   "cell_type": "markdown",
   "metadata": {
    "school_cell_uuid": "94e6685d82cf455f96bbbfcd987f74ec"
   },
   "source": [
    "적분(integral)을 가장 쉽게 이해하는 방법은 **x축과 함수 곡선 사이의 면적을 구하는 연산**이라고 생각하면 된다."
   ]
  },
  {
   "cell_type": "markdown",
   "metadata": {
    "school_cell_uuid": "6fab0950d94a4cdaa4924bd5f1e4017a"
   },
   "source": [
    "## 적분의 수학적 정의"
   ]
  },
  {
   "cell_type": "markdown",
   "metadata": {
    "school_cell_uuid": "afc61560cb034ec195cb40a34b4cd355"
   },
   "source": [
    "만약 함수를 $f(x)$ 라고 표기 한다면 적분은 다음과 같이 표기하고 \"$x=a$부터 $x=b$까지의 적분\"이라고 읽는다. \n",
    "\n",
    "$$ \\int_a^b f(x) dx $$"
   ]
  },
  {
   "cell_type": "markdown",
   "metadata": {
    "school_cell_uuid": "f07b1a621cdc46e390b8b6562bc4b48a"
   },
   "source": [
    "이 적분값은 다음 그림에서 색칠된 부분의 면적과 같다.\n",
    "\n",
    "<img src=\"https://datascienceschool.net/upfiles/f6c104da7e5349aaaa1d8576be4c5a50.png\" style=\"width: 50%;\">"
   ]
  },
  {
   "cell_type": "markdown",
   "metadata": {
    "school_cell_uuid": "4e449d107a0a410986b45c6d1859a393"
   },
   "source": [
    "적분의 수학적 정의는 대략 다음과 같다.\n",
    "\n",
    "$$ \\int_{a}^{b} f(x)dx \\approx \\sum_{k=1}^{n}f(x_k) \\Delta x  $$\n",
    "\n",
    "\n",
    "여기에서 $\\Delta x$는 $[a, b]$ 구간을 $n$개로 나눈 길이이고\n",
    "$$ \\Delta x =\\frac {b-a} {n} $$\n",
    "\n",
    "\n",
    "$f(x_k)$는 $\\Delta x$ 구간 사이의 임의의 값이다. 위 그림에서는 구간에서의 $f(x)$의 왼쪽값, 즉 직사각형이 시작하는 위치로 하였다."
   ]
  },
  {
   "cell_type": "markdown",
   "metadata": {
    "collapsed": true,
    "school_cell_uuid": "3187947ac35745c59a0113aaa8a14923"
   },
   "source": [
    "이 정의에서 $n$ 을 무한대로 증가시켰을 때 수렴하는 값이 바로 적분의 수학적 정의이다. $n$ 이 증가하면 면적을 이루는 직사각형의 숫자는 증가하지만 직사각형의 폭 $\\Delta x$ 는 0으로 작아진다."
   ]
  },
  {
   "cell_type": "markdown",
   "metadata": {
    "school_cell_uuid": "24252b95b75247a8a0dd62d8e47f3401"
   },
   "source": [
    "## 확률 모형에서 적분의 사용"
   ]
  },
  {
   "cell_type": "markdown",
   "metadata": {
    "school_cell_uuid": "394773a3433a401d918ad5366a1d8cdf"
   },
   "source": [
    "확률 모형과 관련된 이론에서는 다음과 같은 적분식들이 자주 나온다. 이식에서 사용된 함수 $p(x)$ 는 확률 밀도 함수(probability density function)이다.\n",
    "\n",
    "$$ \\int_{-\\infty}^{\\infty}  p(x) dx $$\n",
    "\n",
    "$$ \\int_{-\\infty}^{\\infty}  x p(x) dx $$\n"
   ]
  },
  {
   "cell_type": "markdown",
   "metadata": {
    "school_cell_uuid": "fe32109ce3244f05a942302b4f7431f8"
   },
   "source": [
    "이 적분식들의 의미를 살펴보자. 우선 위의 식을 적분의 정의에 따라 $n$ 개의 직사각형 구간으로 나누면 다음과 같다.\n",
    "\n",
    "\n",
    "$$ \\int_{-\\infty}^{\\infty}  p(x) dx \\approx \\sum_{k=1}^{\\infty} p(x_k) \\Delta x  $$"
   ]
  },
  {
   "cell_type": "markdown",
   "metadata": {
    "school_cell_uuid": "d5b02665e45a44d681453328d8172315"
   },
   "source": [
    "확률 밀도 함수에서 구간의 면적 $p(x_k) \\Delta x$ 는 해당 구간 즉 사건(event)에 대한 확률이다. 따라서 다음과 같이 쓸 수 있다.\n",
    "\n",
    "$$ \\int_{-\\infty}^{\\infty}  p(x) dx \\approx \\sum_{k=1}^{\\infty} p(x_k) \\Delta x \\approx \\sum_{k=1}^{\\infty} P(\\{x_k, x_k+\\Delta x\\})  \\approx \\sum_{k=1}^{\\infty} P_k   $$"
   ]
  },
  {
   "cell_type": "markdown",
   "metadata": {
    "school_cell_uuid": "d159eb56dbbb4fdf9ad03654426fbb2f"
   },
   "source": [
    "이 값은 확률의 정의에 따라 1이 된다.\n",
    "\n",
    "$$ \\int_{-\\infty}^{\\infty}  p(x) dx = 1 $$"
   ]
  },
  {
   "cell_type": "markdown",
   "metadata": {
    "school_cell_uuid": "91b9baebfe00417587929fd9e1cff10c"
   },
   "source": [
    "두번째 적분식은 마찬가지로 다음과 같이 볼 수 있다.\n",
    "\n",
    "$$ \\int_{-\\infty}^{\\infty}  x p(x) dx \\approx \\sum_{k=1}^{\\infty} ( P_k \\cdot x_k )  $$"
   ]
  },
  {
   "cell_type": "markdown",
   "metadata": {
    "school_cell_uuid": "dda550a49c7e4f76b57e59e968c2334a"
   },
   "source": [
    "이 식에서 $( P_k \\cdot x_k )$ 은 $k$번째 구간의 대표값 $x_k$ 에 그 구간의 확률 $P_k$ 를 곱한 것이다. \n",
    "\n",
    "확률 $P_k$ 를 일종의 가중치(weight)로 생각하면 이 값은 각 대표값에 대한 가중 평균(weighted average)로 볼 수 있다. \n",
    "\n",
    "따라서 일반적으로 생각하는 기댓값(expectation)의 정의와 일치한다.\n",
    "\n",
    "주사위의 기댓값을 다음과 같이 구하였던 것을 생각하자\n",
    "\n",
    "$$ \\dfrac{1}{6} \\cdot 1 + \\dfrac{1}{6} \\cdot 2 + \\dfrac{1}{6} \\cdot 3 + \\dfrac{1}{6} \\cdot 4 + \\dfrac{1}{6} \\cdot 5 + \\dfrac{1}{6} \\cdot 6 = \\sum P_k x_k $$"
   ]
  }
 ],
 "metadata": {
  "kernelspec": {
   "display_name": "Python 2",
   "language": "python",
   "name": "python2"
  },
  "language_info": {
   "codemirror_mode": {
    "name": "ipython",
    "version": 2
   },
   "file_extension": ".py",
   "mimetype": "text/x-python",
   "name": "python",
   "nbconvert_exporter": "python",
   "pygments_lexer": "ipython2",
   "version": "2.7.11"
  }
 },
 "nbformat": 4,
 "nbformat_minor": 0
}