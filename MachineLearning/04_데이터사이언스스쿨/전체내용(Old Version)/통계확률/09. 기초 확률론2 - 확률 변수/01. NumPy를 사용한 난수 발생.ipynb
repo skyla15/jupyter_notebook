{
 "cells": [
  {
   "cell_type": "markdown",
   "metadata": {
    "school_cell_uuid": "3f982c42a05543b1be7df7e511be3246"
   },
   "source": [
    "# NumPy를 사용한 난수 발생"
   ]
  },
  {
   "cell_type": "markdown",
   "metadata": {
    "school_cell_uuid": "daedb1a1432d41039d738327d92dc9f6"
   },
   "source": [
    "파이썬을 이용하여 난수를 발생시키거나 데이터를 무작위로 섞는 방법에 대해 알아본다."
   ]
  },
  {
   "cell_type": "markdown",
   "metadata": {
    "school_cell_uuid": "a3571434c57549968fce071cab5f166f"
   },
   "source": [
    "이런 기능들은 주로 NumPy의 random 서브패키지에서 제공한다."
   ]
  },
  {
   "cell_type": "code",
   "execution_count": 1,
   "metadata": {
    "collapsed": true,
    "school_cell_uuid": "9204c6a67b9549c188f04b2b2f3c0eeb"
   },
   "outputs": [],
   "source": [
    "import numpy as np"
   ]
  },
  {
   "cell_type": "markdown",
   "metadata": {
    "school_cell_uuid": "4388755335d6472f94fbf2e56cb892e4"
   },
   "source": [
    "## 시드 설정하기"
   ]
  },
  {
   "cell_type": "markdown",
   "metadata": {
    "school_cell_uuid": "155352cb8ec04206a8889926b61ba967"
   },
   "source": [
    "컴퓨터 프로그램에서 무작위와 관련된 모든 알고리즘은 사실 무작위가 아니라 시작 숫자를 정해 주면 그 다음에는 정해진 알고리즘에 의해 마치 난수처럼 보이는 수열을 생성한다. 다만 출력되는 숫자들 간의 상관관계가 없어 보일 뿐이다. \n",
    "\n",
    "또한 같은 알고리즘을 여러번 실행하더라도 다른 숫자가 나오도록 시작 숫자는 현재 시간 등을 사용해서 매번 바꿔준다. 이런 시작 숫자를 시드(seed)라고 한다. \n",
    "\n",
    "따라서 시드를 사람이 수동으로 설정한다면 그 다음에 만들어지는 난수들은 예측할 수 있다."
   ]
  },
  {
   "cell_type": "markdown",
   "metadata": {
    "school_cell_uuid": "bb61a3f27f534e80b893e93e2b9af486"
   },
   "source": [
    "파이썬에서 시드를 설정하는 명령은 `seed`이다. 인수로는 0과 같거나 큰 정수를 넣어준다."
   ]
  },
  {
   "cell_type": "code",
   "execution_count": 2,
   "metadata": {
    "collapsed": false,
    "school_cell_uuid": "4f8d6524f35f424286b4a4d611142313"
   },
   "outputs": [],
   "source": [
    "np.random.seed(0)"
   ]
  },
  {
   "cell_type": "markdown",
   "metadata": {
    "school_cell_uuid": "290b77b6d1ad42b4932e4095c2430ac2"
   },
   "source": [
    "이렇게 시드를 설정한 후 `rand` 명령으로 5개의 난수를 생성해 보자. 다른 난수 관련 명령어를 실행하지 말고 바로 다음 명령을 실행해야 한다."
   ]
  },
  {
   "cell_type": "code",
   "execution_count": 3,
   "metadata": {
    "collapsed": false,
    "school_cell_uuid": "7574e2342e8c4714bae82668a692ca2a",
    "scrolled": true
   },
   "outputs": [
    {
     "data": {
      "text/plain": [
       "array([ 0.5488135 ,  0.71518937,  0.60276338,  0.54488318,  0.4236548 ])"
      ]
     },
     "execution_count": 3,
     "metadata": {},
     "output_type": "execute_result"
    }
   ],
   "source": [
    "np.random.rand(5)"
   ]
  },
  {
   "cell_type": "markdown",
   "metadata": {
    "school_cell_uuid": "caa5d231bd9d4368ace5b70129add1bc"
   },
   "source": [
    "몇번 더 난수를 생성한다."
   ]
  },
  {
   "cell_type": "code",
   "execution_count": 4,
   "metadata": {
    "collapsed": false,
    "school_cell_uuid": "de1a522ed5324507bfd2b75d3fa5d452"
   },
   "outputs": [
    {
     "data": {
      "text/plain": [
       "array([ 0.64589411,  0.43758721,  0.891773  ,  0.96366276,  0.38344152,\n",
       "        0.79172504,  0.52889492,  0.56804456,  0.92559664,  0.07103606])"
      ]
     },
     "execution_count": 4,
     "metadata": {},
     "output_type": "execute_result"
    }
   ],
   "source": [
    "np.random.rand(10)"
   ]
  },
  {
   "cell_type": "code",
   "execution_count": 5,
   "metadata": {
    "collapsed": false,
    "school_cell_uuid": "90f02a6ba6f4486b8330bd77b5974144"
   },
   "outputs": [
    {
     "data": {
      "text/plain": [
       "array([ 0.0871293 ,  0.0202184 ,  0.83261985,  0.77815675,  0.87001215,\n",
       "        0.97861834,  0.79915856,  0.46147936,  0.78052918,  0.11827443])"
      ]
     },
     "execution_count": 5,
     "metadata": {},
     "output_type": "execute_result"
    }
   ],
   "source": [
    "np.random.rand(10)"
   ]
  },
  {
   "cell_type": "markdown",
   "metadata": {
    "school_cell_uuid": "dec6532c35064e7bbd7f02375ef8d824"
   },
   "source": [
    "이제 시드를 0으로 재설정하고 다시 난수를 발생시켜 본다."
   ]
  },
  {
   "cell_type": "code",
   "execution_count": 6,
   "metadata": {
    "collapsed": true,
    "school_cell_uuid": "b8faa78bf7054d7784192bd816e093d2"
   },
   "outputs": [],
   "source": [
    "np.random.seed(0)"
   ]
  },
  {
   "cell_type": "code",
   "execution_count": 7,
   "metadata": {
    "collapsed": false,
    "school_cell_uuid": "bf4ee192cd644ddfab2ac2d8ca287d70",
    "scrolled": true
   },
   "outputs": [
    {
     "data": {
      "text/plain": [
       "array([ 0.5488135 ,  0.71518937,  0.60276338,  0.54488318,  0.4236548 ])"
      ]
     },
     "execution_count": 7,
     "metadata": {},
     "output_type": "execute_result"
    }
   ],
   "source": [
    "np.random.rand(5)"
   ]
  },
  {
   "cell_type": "code",
   "execution_count": 8,
   "metadata": {
    "collapsed": false,
    "school_cell_uuid": "8c518b19a3fa4346b941418270153beb",
    "scrolled": true
   },
   "outputs": [
    {
     "data": {
      "text/plain": [
       "array([ 0.64589411,  0.43758721,  0.891773  ,  0.96366276,  0.38344152,\n",
       "        0.79172504,  0.52889492,  0.56804456,  0.92559664,  0.07103606])"
      ]
     },
     "execution_count": 8,
     "metadata": {},
     "output_type": "execute_result"
    }
   ],
   "source": [
    "np.random.rand(10)"
   ]
  },
  {
   "cell_type": "code",
   "execution_count": 9,
   "metadata": {
    "collapsed": false,
    "school_cell_uuid": "f0fe2a52f387440dbe13818a057041b3",
    "scrolled": true
   },
   "outputs": [
    {
     "data": {
      "text/plain": [
       "array([ 0.0871293 ,  0.0202184 ,  0.83261985,  0.77815675,  0.87001215,\n",
       "        0.97861834,  0.79915856,  0.46147936,  0.78052918,  0.11827443])"
      ]
     },
     "execution_count": 9,
     "metadata": {},
     "output_type": "execute_result"
    }
   ],
   "source": [
    "np.random.rand(10)"
   ]
  },
  {
   "cell_type": "markdown",
   "metadata": {
    "school_cell_uuid": "f19108f4f2be4fb5a1d06ffae539452c"
   },
   "source": [
    "아까와 같은 숫자가 나오는 것을 확인할 수 있다."
   ]
  },
  {
   "cell_type": "markdown",
   "metadata": {
    "school_cell_uuid": "5636e99b86c740bf9735ac9f4638b43a"
   },
   "source": [
    "## 기존의 데이터의 순서 바꾸기"
   ]
  },
  {
   "cell_type": "markdown",
   "metadata": {
    "school_cell_uuid": "1174c7b0b0fb4bfaa6354cc729b63825"
   },
   "source": [
    "기존에 있는 데이터의 순서를 바꾸려면 `shuffle` 명령을 사용한다."
   ]
  },
  {
   "cell_type": "code",
   "execution_count": 10,
   "metadata": {
    "collapsed": false,
    "school_cell_uuid": "54337809fac54417b262a402cc043c83"
   },
   "outputs": [
    {
     "data": {
      "text/plain": [
       "array([3, 6, 4, 5, 2, 9, 7, 8, 1, 0])"
      ]
     },
     "execution_count": 10,
     "metadata": {},
     "output_type": "execute_result"
    }
   ],
   "source": [
    "x = np.arange(10)\n",
    "np.random.shuffle(x)\n",
    "x"
   ]
  },
  {
   "cell_type": "markdown",
   "metadata": {
    "school_cell_uuid": "e33873a7680b4db3a82adcf7ff230521"
   },
   "source": [
    "## 기존의 데이터에서 샘플링하기"
   ]
  },
  {
   "cell_type": "markdown",
   "metadata": {
    "school_cell_uuid": "598c5aefaa0b45518c95e9c86b238d7d"
   },
   "source": [
    "이미 있는 데이터 집합에서 일부를 선택하는 것을 샘플링(sampling)이라고 한다. 샘플링에는 `choice` 명령을 사용한다. `choice` 명령은 다음과 같은 인수를 가질 수 있다.\n",
    "\n",
    "\n",
    "`numpy.random.choice(a, size=None, replace=True, p=None)`\n",
    "\n",
    "* a : 배열이면 원래의 데이터, 정수이면 range(a) 명령으로 데이터 생성\n",
    "* size : 정수. 샘플 숫자\n",
    "* replace : 불리언. True이면 한번 선택한 데이터를 다시 선택 가능\n",
    "* p : 배열. 각 데이터가 선택될 수 있는 확률\n"
   ]
  },
  {
   "cell_type": "code",
   "execution_count": 11,
   "metadata": {
    "collapsed": false,
    "school_cell_uuid": "195092f9d0c64f86a52e249c7128f660"
   },
   "outputs": [
    {
     "data": {
      "text/plain": [
       "array([1, 4, 0, 3, 2])"
      ]
     },
     "execution_count": 11,
     "metadata": {},
     "output_type": "execute_result"
    }
   ],
   "source": [
    "np.random.choice(5, 5, replace=False)  # shuffle 명령과 같다."
   ]
  },
  {
   "cell_type": "code",
   "execution_count": 12,
   "metadata": {
    "collapsed": false,
    "school_cell_uuid": "3c8979fa989540edb94ffab310dab17f"
   },
   "outputs": [
    {
     "data": {
      "text/plain": [
       "array([2, 1, 3])"
      ]
     },
     "execution_count": 12,
     "metadata": {},
     "output_type": "execute_result"
    }
   ],
   "source": [
    "np.random.choice(5, 3, replace=False)  # 3개만 선택"
   ]
  },
  {
   "cell_type": "code",
   "execution_count": 13,
   "metadata": {
    "collapsed": false,
    "school_cell_uuid": "f5c65dcb449942d8be803c160d0844fd"
   },
   "outputs": [
    {
     "data": {
      "text/plain": [
       "array([0, 4, 1, 4, 1, 2, 2, 0, 1, 1])"
      ]
     },
     "execution_count": 13,
     "metadata": {},
     "output_type": "execute_result"
    }
   ],
   "source": [
    "np.random.choice(5, 10) # 반복해서 10개 선택"
   ]
  },
  {
   "cell_type": "code",
   "execution_count": 14,
   "metadata": {
    "collapsed": false,
    "school_cell_uuid": "589fc9ada99f408eaf3d98e6ba35bd50"
   },
   "outputs": [
    {
     "data": {
      "text/plain": [
       "array([0, 3, 3, 2, 2, 3, 3, 2, 0, 3])"
      ]
     },
     "execution_count": 14,
     "metadata": {},
     "output_type": "execute_result"
    }
   ],
   "source": [
    "np.random.choice(5, 10, p=[0.1, 0, 0.3, 0.6, 0])  # 선택 확률을 다르게 해서 10개 선택"
   ]
  },
  {
   "cell_type": "markdown",
   "metadata": {
    "school_cell_uuid": "44ca88ce88f247eea71d8170c98ab17f"
   },
   "source": [
    "## 난수 생성"
   ]
  },
  {
   "cell_type": "markdown",
   "metadata": {
    "school_cell_uuid": "0fbfd061953b4601ba42d4140e92bdba"
   },
   "source": [
    "NumPy의 random 서브패키지에는 난수를 생성하는 명령이 4가지가 있다.\n",
    "\n",
    "* `rand`: 0부터 1사이의 균일 분포 \n",
    "* `randn`: 가우시안 표준 정규 분포\n",
    "* `randint`: 균일 분포의 정수 난수"
   ]
  },
  {
   "cell_type": "markdown",
   "metadata": {
    "school_cell_uuid": "e96902fa552f4ec1819075e81184b812"
   },
   "source": [
    "`rand` 명령은 0부터 1사이에서 균일한 확률 분포로 실수 난수를 생성한다. 숫자 인수는 생성할 난수의 크기이다. 여러개의 인수를 넣으면 해당 크기를 가진 행렬을 생성한다."
   ]
  },
  {
   "cell_type": "code",
   "execution_count": 15,
   "metadata": {
    "collapsed": false,
    "school_cell_uuid": "edaa191590d4424c991a4cd50ed92578"
   },
   "outputs": [
    {
     "data": {
      "text/plain": [
       "array([ 0.95894927,  0.65279032,  0.63505887,  0.99529957,  0.58185033,\n",
       "        0.41436859,  0.4746975 ,  0.6235101 ,  0.33800761,  0.67475232])"
      ]
     },
     "execution_count": 15,
     "metadata": {},
     "output_type": "execute_result"
    }
   ],
   "source": [
    "np.random.rand(10)"
   ]
  },
  {
   "cell_type": "code",
   "execution_count": 16,
   "metadata": {
    "collapsed": false,
    "school_cell_uuid": "257e6d1f19b44fdab7e7f786f2bf2d1f"
   },
   "outputs": [
    {
     "data": {
      "text/plain": [
       "array([[ 0.31720174,  0.77834548,  0.94957105,  0.66252687,  0.01357164],\n",
       "       [ 0.6228461 ,  0.67365963,  0.971945  ,  0.87819347,  0.50962438],\n",
       "       [ 0.05571469,  0.45115921,  0.01998767,  0.44171092,  0.97958673]])"
      ]
     },
     "execution_count": 16,
     "metadata": {},
     "output_type": "execute_result"
    }
   ],
   "source": [
    "np.random.rand(3, 5)"
   ]
  },
  {
   "cell_type": "markdown",
   "metadata": {
    "school_cell_uuid": "f02d488571cb453c8970b5b53ff29cb2"
   },
   "source": [
    "`randn` 명령은 기댓값이 0이고 표준편차가 1인 가우시안 표준 정규 분포를 따르는 난수를 생성한다. 인수 사용법은 `rand` 명령과 같다."
   ]
  },
  {
   "cell_type": "code",
   "execution_count": 17,
   "metadata": {
    "collapsed": false,
    "school_cell_uuid": "b393b3254efe47d59c0fa9f2b59b9904"
   },
   "outputs": [
    {
     "data": {
      "text/plain": [
       "array([-0.30237513, -2.2244036 ,  0.72400636,  0.35900276,  1.07612104,\n",
       "        0.19214083,  0.85292596,  0.01835718,  0.42830357,  0.99627783])"
      ]
     },
     "execution_count": 17,
     "metadata": {},
     "output_type": "execute_result"
    }
   ],
   "source": [
    "np.random.randn(10)"
   ]
  },
  {
   "cell_type": "code",
   "execution_count": 18,
   "metadata": {
    "collapsed": false,
    "school_cell_uuid": "adee3d18094e4f33b0d7a8f32a030154"
   },
   "outputs": [
    {
     "data": {
      "text/plain": [
       "array([[-0.49114966,  0.71267817,  1.11334035, -2.15367459, -0.41611148],\n",
       "       [-1.07089699,  0.22113881, -1.12305712, -1.05075796,  1.01207905],\n",
       "       [ 1.54371643, -0.40211489,  0.8647491 , -0.22686923,  0.81116027]])"
      ]
     },
     "execution_count": 18,
     "metadata": {},
     "output_type": "execute_result"
    }
   ],
   "source": [
    "np.random.randn(3, 5)"
   ]
  },
  {
   "cell_type": "markdown",
   "metadata": {
    "school_cell_uuid": "3ed798c061fc49588e1a07699c648c81"
   },
   "source": [
    "`randint` 명령은 다음과 같은 인수를 가진다.\n",
    "\n",
    "`numpy.random.randint(low, high=None, size=None)`\n",
    "\n",
    "만약 `high`를 입력하지 않으면 0과 `low`사이의 숫자를, `high`를 입력하면 `low`와 `high`는 사이의 숫자를 출력한다. `size`는 난수의 숫자이다."
   ]
  },
  {
   "cell_type": "code",
   "execution_count": 19,
   "metadata": {
    "collapsed": false,
    "school_cell_uuid": "89d766b0dad34a1e9efd1f632ae501b9"
   },
   "outputs": [
    {
     "data": {
      "text/plain": [
       "array([0, 4, 3, 6, 9, 8, 0, 8, 5, 9])"
      ]
     },
     "execution_count": 19,
     "metadata": {},
     "output_type": "execute_result"
    }
   ],
   "source": [
    "np.random.randint(10, size=10)"
   ]
  },
  {
   "cell_type": "code",
   "execution_count": 20,
   "metadata": {
    "collapsed": false,
    "school_cell_uuid": "8300e6038dca4666a922d0b9ef18c5b2"
   },
   "outputs": [
    {
     "data": {
      "text/plain": [
       "array([10, 19, 16, 15, 13, 11, 18, 10, 14, 19])"
      ]
     },
     "execution_count": 20,
     "metadata": {},
     "output_type": "execute_result"
    }
   ],
   "source": [
    "np.random.randint(10, 20, size=10)"
   ]
  },
  {
   "cell_type": "code",
   "execution_count": 21,
   "metadata": {
    "collapsed": false,
    "school_cell_uuid": "683d2572fa3d4dd6959e25dbd40cec1c"
   },
   "outputs": [
    {
     "data": {
      "text/plain": [
       "array([[16, 15, 17, 18, 18],\n",
       "       [19, 12, 18, 16, 16],\n",
       "       [19, 11, 16, 18, 18]])"
      ]
     },
     "execution_count": 21,
     "metadata": {},
     "output_type": "execute_result"
    }
   ],
   "source": [
    "np.random.randint(10, 20, size=(3,5))"
   ]
  },
  {
   "cell_type": "markdown",
   "metadata": {
    "school_cell_uuid": "6d80567ed2a9472a867cf1d2bbccfb6f"
   },
   "source": [
    "## 정수 난수 통계"
   ]
  },
  {
   "cell_type": "markdown",
   "metadata": {
    "school_cell_uuid": "05b6fc5e9d514f3fa4f1927eea6dc44e"
   },
   "source": [
    "이렇게 발생시킨 난수가 실수값이면 히스토그램 등을 사용하여 분석하면 된다. \n",
    "\n",
    "만약 난수가 정수값이면 `unique` 명령이나 `bincount` 명령으로 데이터 값을 분석할 수 있다. 이 명렬들은 random 서브패키지가 아니라 NumPy 바로 아래에 포함된 명령이다."
   ]
  },
  {
   "cell_type": "markdown",
   "metadata": {
    "school_cell_uuid": "207d493df5064b45af5eac70e2332e40"
   },
   "source": [
    "`unique` 명령은 데이터에서 중복된 값을 제거하고 중복되지 않는 값의 리스트를 출력한다. `return_counts` 인수를 True 로 설정하면 각 값을 가진 데이터 갯수도 출력한다."
   ]
  },
  {
   "cell_type": "code",
   "execution_count": 22,
   "metadata": {
    "collapsed": false,
    "school_cell_uuid": "e7448ae7264c49e8ac97ad96e40f3cab"
   },
   "outputs": [
    {
     "data": {
      "text/plain": [
       "array([ 2, 11, 34])"
      ]
     },
     "execution_count": 22,
     "metadata": {},
     "output_type": "execute_result"
    }
   ],
   "source": [
    "np.unique([11, 11, 2, 2, 34, 34])"
   ]
  },
  {
   "cell_type": "code",
   "execution_count": 23,
   "metadata": {
    "collapsed": true,
    "school_cell_uuid": "79c2907103b14088a59fdf122e3dab67"
   },
   "outputs": [],
   "source": [
    "a = np.array(['a', 'b', 'b', 'c', 'a'])\n",
    "index, count = np.unique(a, return_counts=True)"
   ]
  },
  {
   "cell_type": "code",
   "execution_count": 24,
   "metadata": {
    "collapsed": false,
    "school_cell_uuid": "6131e648511543cc87a1f4e8094b1fcd"
   },
   "outputs": [
    {
     "data": {
      "text/plain": [
       "array(['a', 'b', 'c'], \n",
       "      dtype='|S1')"
      ]
     },
     "execution_count": 24,
     "metadata": {},
     "output_type": "execute_result"
    }
   ],
   "source": [
    "index"
   ]
  },
  {
   "cell_type": "code",
   "execution_count": 25,
   "metadata": {
    "collapsed": false,
    "school_cell_uuid": "22967dfb13a9429683e1fd6aa9d6f403"
   },
   "outputs": [
    {
     "data": {
      "text/plain": [
       "array([2, 2, 1])"
      ]
     },
     "execution_count": 25,
     "metadata": {},
     "output_type": "execute_result"
    }
   ],
   "source": [
    "count"
   ]
  },
  {
   "cell_type": "markdown",
   "metadata": {
    "school_cell_uuid": "18b8cf36ccf841ddbfd0dff59390a821"
   },
   "source": [
    "그러나 `unique` 값은 데이터에 존재하는 값에 대해서만 갯수를 세므로 나올 수 있음에도 불구하고 데이터가 하나도 없는 값에 대한 정보를 주지 않는다.\n",
    "\n",
    "따라서 데이터가 주사위를 던졌을 때 나오는 수처럼 특정 범위안의 수인 경우에는 `bincount`에 `minlength` 인수를 설정하여 쓰는 것이 더 편리하다. 이 때는 0 부터 `minlength` - 1 까지의 숫자에 대해 각각 카운트를 한다. 데이터가 없을 경우에는 카운트 값이 0이 된다."
   ]
  },
  {
   "cell_type": "code",
   "execution_count": 26,
   "metadata": {
    "collapsed": false,
    "school_cell_uuid": "a8b0e11beab742bfaa0d9a4a6ec97b8c"
   },
   "outputs": [
    {
     "data": {
      "text/plain": [
       "array([0, 2, 3, 1, 0, 0])"
      ]
     },
     "execution_count": 26,
     "metadata": {},
     "output_type": "execute_result"
    }
   ],
   "source": [
    "np.bincount([1, 1, 2, 2, 2, 3], minlength=6)"
   ]
  }
 ],
 "metadata": {
  "kernelspec": {
   "display_name": "Python [Root]",
   "language": "python",
   "name": "Python [Root]"
  },
  "language_info": {
   "codemirror_mode": {
    "name": "ipython",
    "version": 2
   },
   "file_extension": ".py",
   "mimetype": "text/x-python",
   "name": "python",
   "nbconvert_exporter": "python",
   "pygments_lexer": "ipython2",
   "version": "2.7.12"
  }
 },
 "nbformat": 4,
 "nbformat_minor": 0
}