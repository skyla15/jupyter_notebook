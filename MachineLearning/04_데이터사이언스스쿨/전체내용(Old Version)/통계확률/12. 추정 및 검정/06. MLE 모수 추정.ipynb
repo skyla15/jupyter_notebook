{
 "cells": [
  {
   "cell_type": "markdown",
   "metadata": {
    "school_cell_uuid": "4fdfbfa45070417d971f82cb58abb631"
   },
   "source": [
    "# MLE 모수 추정"
   ]
  },
  {
   "cell_type": "markdown",
   "metadata": {
    "school_cell_uuid": "01be61952a13463ea52b3519a7d492d6"
   },
   "source": [
    "## 베르누이 분포의 모수 추정\n"
   ]
  },
  {
   "cell_type": "markdown",
   "metadata": {
    "school_cell_uuid": "ef16a8f67b2f4608b5046988e808b52b"
   },
   "source": [
    "\n",
    "* 각각의 시도 $x_i$에 대한 확률은 베르누이 분포\n",
    "\n",
    "$$ P(x ; \\theta ) = \\text{Bern}(x ; \\theta ) = \\theta^x (1 - \\theta)^{1-x}$$\n",
    "\n",
    "\n",
    "*  $N$개의 독립 샘플 $x_{1:N}$ 이 있는 경우, \n",
    "$$ L(\\theta ; x_{1:N}) = P(x_{1:N};\\theta) = \\prod_{i=1}^N  \\theta^{x_i} (1 - \\theta)^{1-x_i} $$\n",
    "\n",
    "* Log-Likelihood\n",
    "$$ \n",
    "\\begin{eqnarray*}\n",
    "\\log L \n",
    "&=& \\log P(x_{1:N};\\theta)  \\\\\n",
    "&=& \\sum_{i=1}^N \\big\\{ {x_i} \\log\\theta + (1-x_i)\\log(1 - \\theta) \\big\\} \\\\\n",
    "&=&  \\sum_{i=1}^N {x_i} \\log\\theta +  \\left( N-\\sum_{i=1}^N x_i \\right) \\log( 1 - \\theta ) \\\\\n",
    "\\end{eqnarray*}\n",
    "$$\n",
    "\n",
    "\n",
    "* $x = 1$(성공) 또는 $x= 0$ (실패) 이므로 \n",
    " * 전체 시도 횟수 $N$\n",
    " * 그 중 성공 횟수 $N_1 = \\sum_{i=1}^N {x_i}$\n",
    " \n",
    " \n",
    "* 따라서  Log-Likelihood는 \n",
    "$$ \n",
    "\\begin{eqnarray*}\n",
    "\\log L \n",
    "&=&  N_1 \\log\\theta  + (N-N_1) \\log(1 - \\theta) \\\\\n",
    "\\end{eqnarray*}\n",
    "$$\n",
    "\n",
    "* Log-Likelihood Derivative\n",
    "\n",
    "$$\n",
    "\\begin{eqnarray*}\n",
    "\\dfrac{\\partial \\log L}{\\partial \\theta} \n",
    "&=& \\dfrac{\\partial}{\\partial \\theta} \\big\\{ N_1 \\log\\theta  + (N-N_1) \\log(1 - \\theta)  \\big\\} = 0\\\\\n",
    "&=& \\dfrac{N_1}{\\theta}  - \\dfrac{N-N_1}{1-\\theta} = 0 \\\\\n",
    "\\end{eqnarray*}\n",
    "$$\n",
    "\n",
    "\n",
    "$$\n",
    "\\dfrac{N_1}{\\theta}  = \\dfrac{N-N_1}{1-\\theta}\n",
    "$$\n",
    "\n",
    "\n",
    "$$\n",
    "\\dfrac{1-\\theta}{\\theta} = \\dfrac{N-N_1}{N_1} \n",
    "$$\n",
    "\n",
    "\n",
    "$$\n",
    "\\dfrac{1}{\\theta} - 1 = \\dfrac{N}{N_1} - 1\n",
    "$$\n",
    "\n",
    "\n",
    "$$\n",
    "\\theta= \\dfrac{N_1}{N}\n",
    "$$"
   ]
  },
  {
   "cell_type": "code",
   "execution_count": 5,
   "metadata": {
    "collapsed": false,
    "school_cell_uuid": "3c44c74379e24b22b4518569ad872d92"
   },
   "outputs": [
    {
     "data": {
      "text/plain": [
       "0.60999999999999999"
      ]
     },
     "execution_count": 5,
     "metadata": {},
     "output_type": "execute_result"
    }
   ],
   "source": [
    "np.random.seed(0)\n",
    "theta0 = 0.6\n",
    "x = sp.stats.bernoulli(theta0).rvs(1000)\n",
    "N0, N1 = np.bincount(x, minlength=2)\n",
    "N = N0 + N1\n",
    "theta = N1/N\n",
    "theta"
   ]
  },
  {
   "cell_type": "markdown",
   "metadata": {
    "school_cell_uuid": "c734a7cba5304960aa4b0f2300719df9"
   },
   "source": [
    "## 카테고리 분포의 모수 추정"
   ]
  },
  {
   "cell_type": "markdown",
   "metadata": {
    "school_cell_uuid": "9f37bddc4f8c4da1ae4d7176880a1dab"
   },
   "source": [
    "\n",
    "* 각각의 시도 $x_i$에 대한 확률은 카테고리 분포\n",
    "\n",
    "$$ P(x ; \\theta ) = \\text{Cat}(x ; \\theta) = \\prod_{k=1}^K \\theta_k^{x_k} $$\n",
    "\n",
    "$$ \\sum_{k=1}^K \\theta_k = 1 $$\n",
    "\n",
    "\n",
    "*  $N$개의 독립 샘플 $x_{1:N}$ 이 있는 경우, \n",
    "$$ L(\\theta ; x_{1:N}) = P(x_{1:N};\\theta) = \\prod_{i=1}^N \\prod_{k=1}^K \\theta_k^{x_{i,k}} $$\n",
    "\n",
    "* Log-Likelihood\n",
    "$$ \n",
    "\\begin{eqnarray*}\n",
    "\\log L \n",
    "&=& \\log P(x_{1:N};\\theta)  \\\\\n",
    "&=& \\sum_{i=1}^N \\sum_{k=1}^K  {x_{i,k}} \\log\\theta_k \\\\\n",
    "&=& \\sum_{k=1}^K \\log\\theta_k \\sum_{i=1}^N {x_{i,k}}  \n",
    "\\end{eqnarray*}\n",
    "$$\n",
    "\n",
    "\n",
    "* $x_k$가 나온 횟수 $N_k = \\sum_{i=1}^N {x_{i,k}}$이라고 표시\n",
    "\n",
    " \n",
    "* 따라서  Log-Likelihood는 \n",
    "$$ \n",
    "\\begin{eqnarray*}\n",
    "\\log L \n",
    "&=& \\sum_{k=1}^K \\log\\theta_k  N_k  \n",
    "\\end{eqnarray*}\n",
    "$$\n",
    "\n",
    "* 추가 조건\n",
    "$$ \\sum_{k=1}^K \\theta_k = 1 $$\n",
    "\n",
    "\n",
    "* Log-Likelihood Derivative with Lagrange multiplier\n",
    "\n",
    "$$\n",
    "\\begin{eqnarray*}\n",
    "\\dfrac{\\partial \\log L}{\\partial \\theta_k} \n",
    "&=& \\dfrac{\\partial}{\\partial \\theta_k} \\left\\{ \\sum_{k=1}^K \\log\\theta_k N_k  + \\lambda \\left(1- \\sum_{k=1}^K \\theta_k\\right)  \\right\\} = 0 \\\\\n",
    "\\dfrac{\\partial \\log L}{\\partial \\lambda} \n",
    "&=& \\dfrac{\\partial}{\\partial \\lambda} \\left\\{ \\sum_{k=1}^K \\log\\theta_k N_k  + \\lambda \\left(1- \\sum_{k=1}^K \\theta_k \\right)  \\right\\} = 0\\\\\n",
    "\\end{eqnarray*}\n",
    "$$\n",
    "\n",
    "\n",
    "$$\n",
    "\\dfrac{N_1}{\\theta_1}  = \\dfrac{N_2}{\\theta_2} = \\cdots = \\dfrac{N_K}{\\theta_K} = \\lambda\n",
    "$$\n",
    "\n",
    "\n",
    "$$\n",
    "\\sum_{k=1}^K N_k = N  \n",
    "$$\n",
    "\n",
    "\n",
    "$$\n",
    "\\lambda \\sum_{k=1}^K \\theta_k  = \\lambda = N\n",
    "$$\n",
    "\n",
    "$$\n",
    "\\theta_k = \\dfrac{N_k}{N}\n",
    "$$\n"
   ]
  },
  {
   "cell_type": "code",
   "execution_count": 6,
   "metadata": {
    "collapsed": false,
    "school_cell_uuid": "b5ddc0e3a0dd44d2842fa87201180038"
   },
   "outputs": [
    {
     "data": {
      "text/plain": [
       "array([ 0.098,  0.317,  0.585])"
      ]
     },
     "execution_count": 6,
     "metadata": {},
     "output_type": "execute_result"
    }
   ],
   "source": [
    "np.random.seed(0)\n",
    "theta0 = np.array([0.1, 0.3, 0.6])\n",
    "x = np.random.choice(np.arange(3), 1000, p=theta0)\n",
    "N0, N1, N2 = np.bincount(x, minlength=3)\n",
    "N = N0 + N1 + N2\n",
    "theta = np.array([N0, N1, N2]) / N\n",
    "theta"
   ]
  },
  {
   "cell_type": "markdown",
   "metadata": {
    "school_cell_uuid": "a40dfb91479a41b4aee39770da08b2d8"
   },
   "source": [
    "## 정규 분포의 모수 추정"
   ]
  },
  {
   "cell_type": "markdown",
   "metadata": {
    "school_cell_uuid": "766687d07ce5406eb5fd023bf9bcfded"
   },
   "source": [
    "\n",
    "* 각각의 시도 $x_i$에 대한 확률밀도는 가우시안 정규 분포\n",
    "\n",
    "$$ p(x ; \\theta ) = N(x ; \\mu, \\sigma^2) = \\dfrac{1}{\\sqrt{2\\pi\\sigma^2}} \\exp \\left(-\\dfrac{(x-\\mu)^2}{2\\sigma^2}\\right) $$\n",
    "\n",
    "\n",
    "\n",
    "*  $N$개의 독립 샘플 $x_{1:N}$ 이 있는 경우, \n",
    "$$ L(\\theta;x_{1:N}) = p(x_{1:N};\\theta) = \\prod_{i=1}^N  \\dfrac{1}{\\sqrt{2\\pi\\sigma^2}} \\exp \\left(-\\dfrac{(x_i-\\mu)^2}{2\\sigma^2}\\right)$$\n",
    "\n",
    "* Log-Likelihood\n",
    "$$ \n",
    "\\begin{eqnarray*}\n",
    "\\log L \n",
    "&=& \\log p(x_{1:N};\\theta)  \\\\\n",
    "&=& \\sum_{i=1}^N \\left\\{ -\\dfrac{1}{2}\\log(2\\pi\\sigma^2) - \\dfrac{(x_i-\\mu)^2}{2\\sigma^2} \\right\\} \\\\\n",
    "&=& -\\dfrac{N}{2} \\log(2\\pi\\sigma^2) - \\dfrac{1}{2\\sigma^2}\\sum_{i=1}^N (x_i-\\mu)^2\n",
    "\\end{eqnarray*}\n",
    "$$\n",
    "\n",
    "* Log-Likelihood Derivative\n",
    "\n",
    "$$\n",
    "\\begin{eqnarray*}\n",
    "\\dfrac{\\partial \\log L}{\\partial \\mu} \n",
    "&=& \\dfrac{\\partial}{\\partial \\mu} \\left\\{ \\dfrac{N}{2} \\log(2\\pi\\sigma^2) + \\dfrac{1}{2\\sigma^2}\\sum_{i=1}^N (x_i-\\mu)^2  \\right\\} = 0 \\\\\n",
    "\\dfrac{\\partial \\log L}{\\partial \\sigma^2} \n",
    "&=& \\dfrac{\\partial}{\\partial \\sigma^2} \\left\\{ \\dfrac{N}{2} \\log(2\\pi\\sigma^2) + \\dfrac{1}{2\\sigma^2}\\sum_{i=1}^N (x_i-\\mu)^2 \\right\\} = 0\\\\\n",
    "\\end{eqnarray*}\n",
    "$$\n",
    "\n",
    "\n",
    "$$\n",
    "\\dfrac{2}{2\\sigma^2}\\sum_{i=1}^N (x_i-\\mu) = 0\n",
    "$$\n",
    "\n",
    "$$\n",
    "N \\mu = \\sum_{i=1}^N x_i\n",
    "$$\n",
    "\n",
    "$$\n",
    "\\mu = \\dfrac{1}{N}\\sum_{i=1}^N x_i = \\bar{x}\n",
    "$$\n",
    "\n",
    "\n",
    "\n",
    "$$\n",
    "\\dfrac{N}{2\\sigma^2 } -  \\dfrac{1}{2(\\sigma^2)^2}\\sum_{i=1}^N (x_i-\\mu)^2  = 0\n",
    "$$\n",
    "\n",
    "\n",
    "$$\n",
    "\\sigma^2  =  \\dfrac{1}{N}\\sum_{i=1}^N (x_i-\\mu)^2 = \\dfrac{1}{N}\\sum_{i=1}^N (x_i-\\bar{x})^2 = s^2\n",
    "$$\n"
   ]
  },
  {
   "cell_type": "code",
   "execution_count": 7,
   "metadata": {
    "collapsed": false,
    "school_cell_uuid": "5682c5b07c7f495d8f54cbba9e449119"
   },
   "outputs": [
    {
     "data": {
      "text/plain": [
       "(0.90948658501960922, 1.9750540913890255)"
      ]
     },
     "execution_count": 7,
     "metadata": {},
     "output_type": "execute_result"
    }
   ],
   "source": [
    "np.random.seed(0)\n",
    "mu0 = 1\n",
    "sigma0 = 2\n",
    "x = sp.stats.norm(mu0, sigma0).rvs(1000)\n",
    "xbar = x.mean()\n",
    "s2 = x.std(ddof=1)\n",
    "xbar, s2"
   ]
  },
  {
   "cell_type": "markdown",
   "metadata": {
    "school_cell_uuid": "b36b88e2a4f9434c822149ab65ce3d1c"
   },
   "source": [
    "## 다변수 정규 분포의 모수 추정"
   ]
  },
  {
   "cell_type": "markdown",
   "metadata": {
    "school_cell_uuid": "f21efa3643884adda30fa00a4e1d8923"
   },
   "source": [
    "#### MLE for Multivariate Gaussian Normal Distribution\n",
    "\n",
    "* 각각의 시도 $x_i$에 대한 확률은 다변수 정규 분포\n",
    "\n",
    "$$ p(x ; \\theta ) = N(x ; \\mu, \\Sigma) = \\dfrac{1}{(2\\pi)^{D/2} |\\Sigma|^{1/2}} \\exp \\left( -\\dfrac{1}{2} (x-\\mu)^T \\Sigma^{-1} (x-\\mu) \\right) $$\n",
    "\n",
    "\n",
    "\n",
    "*  $N$개의 독립 샘플 $x_{1:N}$ 이 있는 경우, \n",
    "$$ L(\\theta;x_{1:N}) = p(x_{1:N};\\theta) = \\prod_{i=1}^N  \\dfrac{1}{(2\\pi)^{D/2} |\\Sigma|^{1/2}} \\exp \\left( -\\dfrac{1}{2} (x_i-\\mu)^T \\Sigma^{-1} (x_i-\\mu) \\right)$$\n",
    "\n",
    "* Log-Likelihood\n",
    "$$ \n",
    "\\begin{eqnarray*}\n",
    "\\log L \n",
    "&=& \\log P(x_{1:N};\\theta)  \\\\\n",
    "&=& \\sum_{i=1}^N \\left\\{ -\\log((2\\pi)^{D/2} |\\Sigma|^{1/2}) - \\dfrac{1}{2} (x-\\mu)^T \\Sigma^{-1} (x-\\mu) \\right\\} \\\\\n",
    "&=& C -\\dfrac{N}{2} \\log|\\Sigma| - \\dfrac{1}{2} \\sum (x-\\mu)^T \\Sigma^{-1} (x-\\mu) \n",
    "\\end{eqnarray*}\n",
    "$$\n",
    "\n",
    "\n",
    "* precision matrix $\\Lambda = \\Sigma^{-1}$\n",
    "\n",
    "$$ \n",
    "\\begin{eqnarray*}\n",
    "\\log L \n",
    "&=& C + \\dfrac{N}{2} \\log|\\Lambda| - \\dfrac{1}{2} \\sum(x-\\mu)^T \\Lambda (x-\\mu) \n",
    "\\end{eqnarray*}\n",
    "$$\n",
    "\n",
    "\n",
    "$$ \\dfrac{\\partial L}{\\partial \\mu} = -  \\dfrac{\\partial}{\\partial \\mu}  \\sum_{i=1}^N (x_i-\\mu)^T \\Lambda (x_i-\\mu) =  \\sum_{i=1}^N 2\\Lambda (x_i - \\mu) = 0 $$\n",
    "$$ \\mu = \\dfrac{1}{N}\\sum_{i=1}^N x_i $$\n",
    "\n",
    "$$ \\dfrac{\\partial L}{\\partial \\Lambda} = \\dfrac{\\partial}{\\partial \\Lambda} \\dfrac{N}{2} \\log|\\Lambda| - \\dfrac{\\partial}{\\partial \\Lambda}  \\dfrac{1}{2} \\sum_{i=1}^N \\text{tr}( (x_i-\\mu)(x_i-\\mu)^T\\Lambda) =0  $$\n",
    "\n",
    "$$ \\dfrac{N}{2} \\Lambda^{-T} = \\dfrac{1}{2}\\sum_{i=1}^N (x_i-\\mu)(x_i-\\mu)^T $$ \n",
    "\n",
    "$$ \\Sigma = \\dfrac{1}{N}\\sum_{i=1}^N (x_i-\\mu)(x_i-\\mu)^T $$ "
   ]
  },
  {
   "cell_type": "code",
   "execution_count": 8,
   "metadata": {
    "collapsed": false,
    "school_cell_uuid": "6acd2cab75364b498f2b056e06b31a4d"
   },
   "outputs": [
    {
     "name": "stdout",
     "output_type": "stream",
     "text": [
      "[-0.0126996   0.95720206]\n",
      "[[ 0.96100921  0.16283508]\n",
      " [ 0.16283508  3.80507694]]\n"
     ]
    }
   ],
   "source": [
    "np.random.seed(0)\n",
    "mu0 = np.array([0, 1])\n",
    "sigma0 = np.array([[1, 0.2], [0.2, 4]])\n",
    "x = sp.stats.multivariate_normal(mu0, sigma0).rvs(1000)\n",
    "xbar = x.mean(axis=0)\n",
    "S2 = np.cov(x, rowvar=0)\n",
    "print(xbar)\n",
    "print(S2)"
   ]
  }
 ],
 "metadata": {
  "kernelspec": {
   "display_name": "Python [Root]",
   "language": "python",
   "name": "Python [Root]"
  },
  "language_info": {
   "codemirror_mode": {
    "name": "ipython",
    "version": 2
   },
   "file_extension": ".py",
   "mimetype": "text/x-python",
   "name": "python",
   "nbconvert_exporter": "python",
   "pygments_lexer": "ipython2",
   "version": "2.7.12"
  }
 },
 "nbformat": 4,
 "nbformat_minor": 0
}