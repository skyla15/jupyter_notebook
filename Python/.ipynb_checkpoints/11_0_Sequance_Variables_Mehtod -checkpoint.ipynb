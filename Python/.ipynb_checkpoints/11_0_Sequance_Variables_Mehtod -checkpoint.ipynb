{
 "cells": [
  {
   "cell_type": "markdown",
   "metadata": {},
   "source": [
    "## 반복가능한 객체( Iterable Object)와 시퀀스 객체(Sequence Object)\n",
    "\n",
    "1. Iterable Object : 문자열 / 리스트 / 튜플 / range / dictionary / set \n",
    "2. Sequence Object : 문자열 / 리스트 / 튜플 / range ( 반복 가능 / 순서 O )   \n",
    "2.1. 언패킹 연산자(\\*) 사용 가능     \n",
    "2.2. __range 객체 ➤ + 연산자 사용 불가능 / ➤ 리스트 / 튜플로 만들어서 연결__  \n",
    "2.3. \\_\\_getitem\\_\\_(idx) 메소드 : 시퀀스 객체를 인덱스로 불러올 때 호출되는 메소드  "
   ]
  },
  {
   "cell_type": "markdown",
   "metadata": {},
   "source": [
    "<img src=\"./p_images/39반복가능한객체.jpg\" height='40%' width='40%' align =left>\n",
    " "
   ]
  },
  {
   "cell_type": "code",
   "execution_count": 3,
   "metadata": {},
   "outputs": [
    {
     "ename": "TypeError",
     "evalue": "unsupported operand type(s) for +: 'range' and 'range'",
     "output_type": "error",
     "traceback": [
      "\u001b[0;31m---------------------------------------------------------------------------\u001b[0m",
      "\u001b[0;31mTypeError\u001b[0m                                 Traceback (most recent call last)",
      "\u001b[0;32m<ipython-input-3-10070d6d6168>\u001b[0m in \u001b[0;36m<module>\u001b[0;34m\u001b[0m\n\u001b[0;32m----> 1\u001b[0;31m \u001b[0mrange\u001b[0m\u001b[0;34m(\u001b[0m\u001b[0;36m0\u001b[0m\u001b[0;34m,\u001b[0m\u001b[0;36m10\u001b[0m\u001b[0;34m)\u001b[0m \u001b[0;34m+\u001b[0m \u001b[0mrange\u001b[0m\u001b[0;34m(\u001b[0m\u001b[0;36m10\u001b[0m\u001b[0;34m,\u001b[0m \u001b[0;36m20\u001b[0m\u001b[0;34m)\u001b[0m   \u001b[0;31m# error\u001b[0m\u001b[0;34m\u001b[0m\u001b[0;34m\u001b[0m\u001b[0m\n\u001b[0m",
      "\u001b[0;31mTypeError\u001b[0m: unsupported operand type(s) for +: 'range' and 'range'"
     ]
    }
   ],
   "source": [
    "range(0,10) + range(10, 20)   # error "
   ]
  },
  {
   "cell_type": "code",
   "execution_count": 2,
   "metadata": {},
   "outputs": [
    {
     "data": {
      "text/plain": [
       "[0, 1, 2, 3, 4, 5, 6, 7, 8, 9, 10, 11, 12, 13, 14, 15, 16, 17, 18, 19]"
      ]
     },
     "execution_count": 2,
     "metadata": {},
     "output_type": "execute_result"
    }
   ],
   "source": [
    "list(range(0,10)) +  list(range(10,20))"
   ]
  },
  {
   "cell_type": "markdown",
   "metadata": {},
   "source": [
    "# 반복한 객체와 이터레이터 \n",
    "\n",
    "1. 이터레이터(iterator) : 값을 차례로 꺼낼 수 있는 객체 \n",
    "1.1. \\_\\_iter\\_\\_() : 이터레이터 생성 \n",
    "1.2. \\_\\_next\\_\\_() : 이터레이터 내의 다음 객체 생성 \n",
    "\n",
    "2. 반복 가능한 객체 : \\_\\_iter\\_\\_() 사용 가능한 객체 \n",
    "\n",
    "3. 지연평가(lazy evaluation) \n",
    "3.1. 어떤 연속된 큰 값을 사용 시, 미리 값을 만들 경우 메모리 성능에 불리함.\n",
    "     \\_\\_iter\\_\\_()를 통해 얻어진 반복 가능한 객체는 \\_\\_next\\_\\_()를 통해 \n",
    "     필요한 시점에 값을 만들어 사용  \n"
   ]
  },
  {
   "cell_type": "markdown",
   "metadata": {},
   "source": [
    "# slice 객체\n",
    "- 시퀀스객체(slice객체) \n",
    "- 시퀀스객체.\\_\\_getitem\\_\\_(slice객체) "
   ]
  },
  {
   "cell_type": "code",
   "execution_count": 6,
   "metadata": {},
   "outputs": [
    {
     "name": "stdout",
     "output_type": "stream",
     "text": [
      "[3, 5]\n"
     ]
    }
   ],
   "source": [
    "s = slice(2,5,2)\n",
    "print([1,2,3,4,5,6].__getitem__(s))"
   ]
  },
  {
   "cell_type": "markdown",
   "metadata": {},
   "source": [
    "## 참고 del"
   ]
  },
  {
   "cell_type": "code",
   "execution_count": 10,
   "metadata": {},
   "outputs": [
    {
     "name": "stdout",
     "output_type": "stream",
     "text": [
      "[3, 4, 5]\n"
     ]
    }
   ],
   "source": [
    "a = [1,2,3,4,5]\n",
    "del a[0:len(a)-3]\n",
    "print(a)"
   ]
  },
  {
   "cell_type": "markdown",
   "metadata": {},
   "source": [
    "## 시퀀스 객체 ( List / Tuple / Range ) \n",
    "### 공통 연산 \n",
    "- in\n",
    "- not in\n",
    "- \\+ / * / \n",
    "- s[i] / \n",
    "- s[slice object] / \n",
    "- len(s) \n",
    "- min(s) / max(s)\n",
    "- s.index()\n",
    "- s.count(x)"
   ]
  },
  {
   "cell_type": "markdown",
   "metadata": {},
   "source": [
    "## 1. Tuple \n",
    "- tuple.count(X) \n",
    "- tuple.index(X) "
   ]
  },
  {
   "cell_type": "markdown",
   "metadata": {},
   "source": [
    "## 2. Set \n",
    "- A.add(X) : 셋에 x값 추가\n",
    "- A.update(B), A |= B : A에 B를 추가 (합집함)\n",
    "- A.union(B), A | B : A와 B의 합집합 \n",
    "- A.intersection(B), A & B : A와 B 교집합 복사본 반환\n",
    "- A.difference(B) : A - B 집합연산, 복사본 반환\n",
    "- A.clear()\n",
    "- A.discard(x) : x값 제거, 반환값 없음\n",
    "- A.remove(x) : x값 제거, x없을 경우 KeyError\n",
    "- A.pop() : 무작위 항목 제거, 반 비어있을 경우 KeyError"
   ]
  },
  {
   "cell_type": "code",
   "execution_count": 1,
   "metadata": {},
   "outputs": [
    {
     "name": "stdout",
     "output_type": "stream",
     "text": [
      "{1, 2, 3} {3, 4, 5, 6}\n"
     ]
    }
   ],
   "source": [
    "A = set([1, 2, 3])\n",
    "B = {3, 4, 5, 6}\n",
    "print(A, B)"
   ]
  },
  {
   "cell_type": "markdown",
   "metadata": {},
   "source": [
    "### 2.1. set.add(element) "
   ]
  },
  {
   "cell_type": "code",
   "execution_count": 2,
   "metadata": {},
   "outputs": [
    {
     "data": {
      "text/plain": [
       "{1, 2, 3, 7}"
      ]
     },
     "execution_count": 2,
     "metadata": {},
     "output_type": "execute_result"
    }
   ],
   "source": [
    "A.add(7)     # A에 원소 추가 \n",
    "A"
   ]
  },
  {
   "cell_type": "markdown",
   "metadata": {},
   "source": [
    "### 2.2. 집합에 집합 추가 \n",
    "- set1.update(set2)  \n",
    "- set1 |= set2"
   ]
  },
  {
   "cell_type": "code",
   "execution_count": 3,
   "metadata": {},
   "outputs": [
    {
     "name": "stdout",
     "output_type": "stream",
     "text": [
      "{1, 2, 3, 4, 5, 6, 7}\n",
      "{1, 2, 3, 4, 5, 6, 7}\n"
     ]
    }
   ],
   "source": [
    "A.update(B)  # A에 B를 추가 \n",
    "print( A )\n",
    "A |= B\n",
    "print( A )\n"
   ]
  },
  {
   "cell_type": "markdown",
   "metadata": {},
   "source": [
    "### 2.3. 합집합 : 연산값은 새로운 집합 \n",
    "- set1.union(set2) \n",
    "- set1 | set 2 "
   ]
  },
  {
   "cell_type": "code",
   "execution_count": 4,
   "metadata": {},
   "outputs": [
    {
     "name": "stdout",
     "output_type": "stream",
     "text": [
      "{1, 2, 3, 4, 5, 6}\n",
      "{1, 2, 3, 4, 5, 6}\n"
     ]
    }
   ],
   "source": [
    "A = {1, 2, 3}\n",
    "print( A.union(B) )   # 합집합 복사본. A, B는 그대로 있음 \n",
    "print( A | B )"
   ]
  },
  {
   "cell_type": "markdown",
   "metadata": {},
   "source": [
    "### 2.4. 교집합 : 연산값은 새로운 집합\n",
    "- set1.intersection(set2)"
   ]
  },
  {
   "cell_type": "code",
   "execution_count": 5,
   "metadata": {},
   "outputs": [
    {
     "name": "stdout",
     "output_type": "stream",
     "text": [
      "{3}\n",
      "{3}\n"
     ]
    }
   ],
   "source": [
    "print( A.intersection(B) )\n",
    "print( A & B )        # 교집합 복사본. A, B는 그대로 있음    "
   ]
  },
  {
   "cell_type": "markdown",
   "metadata": {},
   "source": [
    "### 2.5. 차집합 : 연산값은 새로운 집합\n",
    "- set1.difference(set2)\n",
    "- set1 - set2"
   ]
  },
  {
   "cell_type": "code",
   "execution_count": 6,
   "metadata": {},
   "outputs": [
    {
     "name": "stdout",
     "output_type": "stream",
     "text": [
      "{1, 2}\n",
      "{1, 2}\n"
     ]
    }
   ],
   "source": [
    "print( A.difference(B) )\n",
    "print( A - B )       # 차집합 복사본. A, B는 그대로 있음"
   ]
  },
  {
   "cell_type": "markdown",
   "metadata": {},
   "source": [
    "### 2.6. 원소 삭제 \n",
    "- set.discard(element) "
   ]
  },
  {
   "cell_type": "code",
   "execution_count": 7,
   "metadata": {},
   "outputs": [
    {
     "name": "stdout",
     "output_type": "stream",
     "text": [
      "{2, 3}\n"
     ]
    }
   ],
   "source": [
    "A.discard(1)         # 원소 삭제, 반환값 없음 \n",
    "print(A)"
   ]
  },
  {
   "cell_type": "markdown",
   "metadata": {},
   "source": [
    "### 2.7. 원소 삭제 / 원소 없는 경우 KeyError "
   ]
  },
  {
   "cell_type": "code",
   "execution_count": 8,
   "metadata": {},
   "outputs": [
    {
     "name": "stdout",
     "output_type": "stream",
     "text": [
      "None\n"
     ]
    },
    {
     "ename": "KeyError",
     "evalue": "2",
     "output_type": "error",
     "traceback": [
      "\u001b[0;31m---------------------------------------------------------------------------\u001b[0m",
      "\u001b[0;31mKeyError\u001b[0m                                  Traceback (most recent call last)",
      "\u001b[0;32m<ipython-input-8-021f7d6f6e1c>\u001b[0m in \u001b[0;36m<module>\u001b[0;34m\u001b[0m\n\u001b[1;32m      1\u001b[0m \u001b[0mprint\u001b[0m\u001b[0;34m(\u001b[0m\u001b[0mA\u001b[0m\u001b[0;34m.\u001b[0m\u001b[0mremove\u001b[0m\u001b[0;34m(\u001b[0m\u001b[0;36m2\u001b[0m\u001b[0;34m)\u001b[0m\u001b[0;34m)\u001b[0m  \u001b[0;31m# 원소 삭제, 값 없을 경우 keyError\u001b[0m\u001b[0;34m\u001b[0m\u001b[0;34m\u001b[0m\u001b[0m\n\u001b[0;32m----> 2\u001b[0;31m \u001b[0mprint\u001b[0m\u001b[0;34m(\u001b[0m\u001b[0mA\u001b[0m\u001b[0;34m.\u001b[0m\u001b[0mremove\u001b[0m\u001b[0;34m(\u001b[0m\u001b[0;36m2\u001b[0m\u001b[0;34m)\u001b[0m\u001b[0;34m)\u001b[0m  \u001b[0;31m# KeyError !\u001b[0m\u001b[0;34m\u001b[0m\u001b[0;34m\u001b[0m\u001b[0m\n\u001b[0m\u001b[1;32m      3\u001b[0m \u001b[0mprint\u001b[0m\u001b[0;34m(\u001b[0m\u001b[0mA\u001b[0m\u001b[0;34m)\u001b[0m\u001b[0;34m\u001b[0m\u001b[0;34m\u001b[0m\u001b[0m\n",
      "\u001b[0;31mKeyError\u001b[0m: 2"
     ]
    }
   ],
   "source": [
    "print(A.remove(2))  # 원소 삭제, 값 없을 경우 keyError\n",
    "print(A.remove(2))  # KeyError !\n",
    "print(A)"
   ]
  },
  {
   "cell_type": "markdown",
   "metadata": {},
   "source": [
    "### 2.8. 무작위 값 반환 / 원소 없는 경우 KeyError "
   ]
  },
  {
   "cell_type": "code",
   "execution_count": 9,
   "metadata": {},
   "outputs": [
    {
     "name": "stdout",
     "output_type": "stream",
     "text": [
      "3\n"
     ]
    }
   ],
   "source": [
    "print( (A|B).pop() )    # 무작위값 반환, 공집합인 경우 Key Error ! "
   ]
  },
  {
   "cell_type": "markdown",
   "metadata": {},
   "source": [
    "### 2.9. 기본 배열로 집합 함수 구현하기 "
   ]
  },
  {
   "cell_type": "code",
   "execution_count": 15,
   "metadata": {},
   "outputs": [
    {
     "name": "stdout",
     "output_type": "stream",
     "text": [
      "[1, 2, 4, 6]\n",
      "\n",
      "[1, 3, 5, 7]\n",
      "\n",
      "[3, 5, 7, 1, 2, 4, 6]\n",
      "\n",
      "[2, 4, 6]\n",
      "\n",
      "[1]\n"
     ]
    }
   ],
   "source": [
    "def set(arr):\n",
    "    new_set = list()\n",
    "    for e in arr:\n",
    "        if e not in new_set:\n",
    "            new_set.append(e)\n",
    "    return new_set\n",
    "\n",
    "def sum(base, other):\n",
    "    return [x for x in other if x not in base] + base\n",
    "\n",
    "def complement(base, other):\n",
    "    return [x for x in base if x not in other]\n",
    "\n",
    "def intersect(base ,other):\n",
    "    return [x for x in base if x in other]\n",
    "\n",
    "setA = set([1,2,4,6,6])\n",
    "setB = set([1,3,5,7,7])\n",
    "sumAB = sum(setA, setB)\n",
    "complementAB = complement(setA, setB)\n",
    "intersectAB = intersect(setA, setB)\n",
    "print(setA, setB, sumAB, complementAB, intersectAB, sep='\\n\\n')"
   ]
  },
  {
   "cell_type": "markdown",
   "metadata": {},
   "source": [
    "\n",
    "\n",
    "\n",
    "\n",
    "## 3. Dictionary \n",
    "- items() 와 keys() 메소드에서 set 연산 사용 가능 /. values()에서는 사용 불가능 \n",
    "- 항목접근 : O(1) \n",
    "- D.setDefault(key, default) : 딕셔너리의 키값이 있는 지 확실하지 않은 경우 사용, key가 있는 경우 default값 추가, 없는 경우 key, default 추가 \n",
    "- D.update(B) : 딕셔너리 A에 딕셔너리 B의 값들 추가 \n",
    "- D.get(key) : key의 value 반환 \n",
    "- D.pop(key) : 딕셔너리 key항목 제거, 반환 \n",
    "- D.popitem() : 딕셔너리에서 임의의 키쌍 제거, 반환 \n",
    "\n",
    "- 딕셔너리 뷰 \n",
    "    - D.items() \n",
    "    - D.values()\n",
    "    - D.keys() "
   ]
  },
  {
   "cell_type": "markdown",
   "metadata": {},
   "source": [
    "### 3.1. from collections import OrderedDict \n",
    "- 키와 값들을 입력 순서대로 저장해줌 \n",
    "- 기본 dict도 현재는 입력 순서대로 저장이 됨 "
   ]
  },
  {
   "cell_type": "code",
   "execution_count": 10,
   "metadata": {},
   "outputs": [
    {
     "name": "stdout",
     "output_type": "stream",
     "text": [
      "OrderedDict([('third', 3), ('second', 2), ('first', 1)])\n",
      "{'third': 3, 'second': 2, 'first': 1}\n"
     ]
    }
   ],
   "source": [
    "from collections import OrderedDict\n",
    "keys = 'third', 'second', 'first'\n",
    "values = 3, 2, 1\n",
    "ordered_dict = OrderedDict(zip(keys, values))\n",
    "ordinary_dict = dict(zip(keys, values))\n",
    "print(ordered_dict)\n",
    "print(ordinary_dict)"
   ]
  },
  {
   "cell_type": "markdown",
   "metadata": {},
   "source": [
    "### 3.2. 딕셔너리와 sorted(시퀀스 객체, key = 함수 ) "
   ]
  },
  {
   "cell_type": "code",
   "execution_count": null,
   "metadata": {},
   "outputs": [],
   "source": [
    "print(sorted([('Dave', 'b', 1), ('Peter', 'a', 2), ('James', 'c', 3)], key = lambda s : s[2]))\n",
    "print(sorted('This is how we do it'.split(), key = str.lower))\n",
    "list.remove()"
   ]
  },
  {
   "cell_type": "markdown",
   "metadata": {},
   "source": [
    "## 4. List \n",
    "- insert(index, obj)\n",
    "- append()\n",
    "- remove(element)\n",
    "- extend(list)\n",
    "- list.reverse()\n",
    "- count(element)\n",
    "- index(element)\n",
    "- list.sort(key = None, reverse=False)  # \n",
    "    - 기본값 : 오림차순, 반환값없이 바로 처리\n",
    "    - sort() uses “ASCIIbetical order” rather than actual alphabetical order for sorting strings.\n",
    "    - If you need to sort the values in regular alphabetical order, pass str. lower for the key keyword argument in the sort() method call."
   ]
  },
  {
   "cell_type": "code",
   "execution_count": 2,
   "metadata": {},
   "outputs": [
    {
     "data": {
      "text/plain": [
       "[4, 3, 2, 1]"
      ]
     },
     "execution_count": 2,
     "metadata": {},
     "output_type": "execute_result"
    }
   ],
   "source": [
    "a = list([1,2,3,4]) \n",
    "a.reverse()\n",
    "a"
   ]
  },
  {
   "cell_type": "code",
   "execution_count": null,
   "metadata": {},
   "outputs": [],
   "source": []
  }
 ],
 "metadata": {
  "kernelspec": {
   "display_name": "Python 3",
   "language": "python",
   "name": "python3"
  },
  "language_info": {
   "codemirror_mode": {
    "name": "ipython",
    "version": 3
   },
   "file_extension": ".py",
   "mimetype": "text/x-python",
   "name": "python",
   "nbconvert_exporter": "python",
   "pygments_lexer": "ipython3",
   "version": "3.7.6"
  }
 },
 "nbformat": 4,
 "nbformat_minor": 4
}
