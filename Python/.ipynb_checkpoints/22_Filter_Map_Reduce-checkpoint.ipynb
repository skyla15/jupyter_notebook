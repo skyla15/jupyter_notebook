{
 "cells": [
  {
   "cell_type": "markdown",
   "metadata": {},
   "source": [
    "##  1. map( 함수 , 반복가능객체 ) \n",
    "- 원본 리스트/튜플 변경하지 않고 새로운 맵 객체 생성 "
   ]
  },
  {
   "cell_type": "code",
   "execution_count": 7,
   "metadata": {},
   "outputs": [
    {
     "name": "stdout",
     "output_type": "stream",
     "text": [
      "[1, 2, 3, 4, 5] [1, 2, 3, 4, 5]\n"
     ]
    }
   ],
   "source": [
    "x = [1, 2, 3, 4, 5]\n",
    "a1 = [None]*len(x)\n",
    "for i in range(len(x)):\n",
    "    a1[i] = int(x[i]) \n",
    "    \n",
    "a2 = list(map(int, x))\n",
    "print( a1 , a2 )"
   ]
  },
  {
   "cell_type": "markdown",
   "metadata": {},
   "source": [
    "## 2. map( 함수, 반복 가능 객체1, 반복 가능 객체2, ...) \n",
    "- 반환값 : map object "
   ]
  },
  {
   "cell_type": "code",
   "execution_count": 2,
   "metadata": {},
   "outputs": [
    {
     "name": "stdout",
     "output_type": "stream",
     "text": [
      "[1, 2, 3, 4, 5]\n",
      "[10, 20, 30, 40, 50]\n",
      "[10, 40, 90, 160, 250]\n"
     ]
    }
   ],
   "source": [
    "a = [1,2,3,4,5]\n",
    "b = [10,20,30,40,50]\n",
    "map_a_b = map((lambda a, b : a * b), a, b)\n",
    "print(a, b, list(map_a_b), sep = '\\n')"
   ]
  },
  {
   "cell_type": "markdown",
   "metadata": {},
   "source": [
    "## 2. filter(함수, 반복 가능 객체)  \n",
    "- 반환값 : filter객체 \n",
    "- 함수(x in 반복가능 개체) == True, return x\n",
    "- 함수 = None이면, 반복 가능 개체에서 True인 것들만 돌려줌"
   ]
  },
  {
   "cell_type": "code",
   "execution_count": 4,
   "metadata": {},
   "outputs": [
    {
     "name": "stdout",
     "output_type": "stream",
     "text": [
      "<filter object at 0x7fddf53acf90>\n",
      "[6, 7, 8, 9]\n"
     ]
    }
   ],
   "source": [
    "def f(x):\n",
    "    return x > 5 and x < 10\n",
    "\n",
    "a = [12,3,4,5,6,7,8,9,10]\n",
    "print(list(filter(f,a)))"
   ]
  },
  {
   "cell_type": "markdown",
   "metadata": {},
   "source": [
    "## 3. reduce(집계 함수, 순회 가능한 데이터, 초깃값 = None)\n",
    "- 집계함수 : 2개의 인자를 받음 \n",
    "    - 첫번째 인자 : 누적자 ( accumulator )\n",
    "    - 두번째 인자 : 현재값 ( current value )\n",
    "- 데이터 그룹핑 / 집계 등 \n",
    "- from functools import reduce  \n",
    "| 참고 : https://www.daleseo.com/python-functools-reduce/"
   ]
  },
  {
   "cell_type": "markdown",
   "metadata": {},
   "source": [
    "___"
   ]
  },
  {
   "cell_type": "code",
   "execution_count": 14,
   "metadata": {},
   "outputs": [
    {
     "name": "stdout",
     "output_type": "stream",
     "text": [
      "55\n"
     ]
    },
    {
     "data": {
      "text/plain": [
       "{'M': ['Brett Holland', 'Michael Jenkins'],\n",
       " 'F': ['Madison Martinez', 'Karen Rodriguez']}"
      ]
     },
     "execution_count": 14,
     "metadata": {},
     "output_type": "execute_result"
    }
   ],
   "source": [
    "from functools import reduce\n",
    "a = [1,2,3,4,5,6,7,8,9,10]\n",
    "reduced_a = reduce((lambda x,y : x+y), a, 0)\n",
    "print(reduced_a)"
   ]
  },
  {
   "cell_type": "markdown",
   "metadata": {},
   "source": [
    "### 3.1 reduce 함수 제대로 사용하기 "
   ]
  },
  {
   "cell_type": "code",
   "execution_count": 6,
   "metadata": {
    "scrolled": true
   },
   "outputs": [
    {
     "name": "stdout",
     "output_type": "stream",
     "text": [
      "['gregorythomas@gmail.com', 'hintoncynthia@hotmail.com', 'wwagner@gmail.com', 'daniel79@gmail.com']\n",
      "185\n",
      "{'M': ['Brett Holland', 'Michael Jenkins'], 'F': ['Madison Martinez', 'Karen Rodriguez']}\n"
     ]
    }
   ],
   "source": [
    "from functools import reduce\n",
    "\n",
    "users = [\n",
    "    {'mail': 'gregorythomas@gmail.com', \n",
    "     'name': 'Brett Holland', \n",
    "     'sex': 'M', \n",
    "     'age': 73},\n",
    " {'mail': 'hintoncynthia@hotmail.com', \n",
    "  'name': 'Madison Martinez', \n",
    "  'sex': 'F', \n",
    "  'age': 29},\n",
    " {'mail': 'wwagner@gmail.com', \n",
    "  'name': 'Michael Jenkins', \n",
    "  'sex': 'M', \n",
    "  'age': 51},\n",
    " {'mail': 'daniel79@gmail.com', \n",
    "  'name': 'Karen Rodriguez', \n",
    "  'sex': 'F', \n",
    "  'age': 32} \n",
    "]\n",
    "\n",
    "\n",
    "def names_by_sex(x, y):\n",
    "    ''' \n",
    "    x : { } < 초깃값\n",
    "    y : current element \n",
    "    '''\n",
    "    sex = y['sex']\n",
    "    if sex not in x:\n",
    "        # 초기값 x = {}\n",
    "        # x = {'M' : [], 'F' : [] }\n",
    "        x[sex] = []\n",
    "    x[sex].append(y['name'])\n",
    "    return x\n",
    "    \n",
    "print( reduce(names_by_sex, users, {}) )\n",
    "\n",
    "\n",
    "print(\n",
    "    reduce(lambda acc, cur: acc + [cur[\"mail\"]], users, []),\n",
    "    reduce(lambda acc, cur: acc + cur[\"age\"], users, 0),\n",
    "    sep = '\\n'\n",
    ")\n",
    "\n",
    "#### 따라가보기 \n",
    "# - reduce(lambda acc, cur: acc + [cur[\"mail\"]], users, [])   \n",
    "# 1) [] + [ 'gregorythomas@gmail.com' ]   \n",
    "# 2) [] + [ 'gregorythomas@gmail.com' ] + [ 'hintoncynthia@hotmail.com',  ]  \n",
    "# 3) [] + [ 'gregorythomas@gmail.com' ] + [ 'hintoncynthia@hotmail.com',  ] + ,[wwagner@gmail.com']"
   ]
  },
  {
   "cell_type": "markdown",
   "metadata": {},
   "source": [
    "### 3.2. Reduce 함수 "
   ]
  },
  {
   "cell_type": "code",
   "execution_count": null,
   "metadata": {},
   "outputs": [],
   "source": [
    "def reduce(function, iterable, initializer = None):\n",
    "    it = iter(iterable)\n",
    "    if initializer is None:\n",
    "        initializer = next(it)\n",
    "    else:\n",
    "        value = initializer\n",
    "    for element in it:\n",
    "        value = function(value, element)\n",
    "    return value"
   ]
  },
  {
   "cell_type": "code",
   "execution_count": null,
   "metadata": {},
   "outputs": [],
   "source": []
  }
 ],
 "metadata": {
  "kernelspec": {
   "display_name": "Python 3",
   "language": "python",
   "name": "python3"
  },
  "language_info": {
   "codemirror_mode": {
    "name": "ipython",
    "version": 3
   },
   "file_extension": ".py",
   "mimetype": "text/x-python",
   "name": "python",
   "nbconvert_exporter": "python",
   "pygments_lexer": "ipython3",
   "version": "3.7.6"
  }
 },
 "nbformat": 4,
 "nbformat_minor": 4
}
