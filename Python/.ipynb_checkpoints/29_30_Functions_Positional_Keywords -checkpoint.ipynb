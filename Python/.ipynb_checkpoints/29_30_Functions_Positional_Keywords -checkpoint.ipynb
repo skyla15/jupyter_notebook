{
 "cells": [
  {
   "cell_type": "markdown",
   "metadata": {},
   "source": [
    "# 함수의 매개변수는 기본적으로 튜플로 들어감!!!!!!!!!\n",
    "## 함수에서 값을 여러개 반환하기 \n",
    "- 반환값의 형태 달라도 상관 없음 "
   ]
  },
  {
   "cell_type": "code",
   "execution_count": 8,
   "metadata": {},
   "outputs": [
    {
     "name": "stdout",
     "output_type": "stream",
     "text": [
      "[1, 2, 3] 3\n"
     ]
    }
   ],
   "source": [
    "def fun():\n",
    "    a = list([1,2,3])\n",
    "    b = 3 \n",
    "    return a, b \n",
    "\n",
    "a, b = fun()\n",
    "print(a, b)   # 리스트, 정수 반환 "
   ]
  },
  {
   "cell_type": "markdown",
   "metadata": {},
   "source": [
    "## Positional Arguments(고정인수) 함수와 리스트 언패킹 사용 \n",
    "- 인수를 순서대로 넣는 방식 < 인수의 위치/갯수 정해져있음 > \n",
    "- 함수의 매개변수는 튜플형식으로 받아짐\n",
    "- 위치 인수 사용 : 리스트, 튜플 언패킹 사용 가능 \n",
    "- 함수(*시퀀스 객체) \n",
    "    - ex) 함수(*리스트), 함수(*튜플) "
   ]
  },
  {
   "cell_type": "code",
   "execution_count": 1,
   "metadata": {},
   "outputs": [
    {
     "name": "stdout",
     "output_type": "stream",
     "text": [
      "10 20 30\n",
      "40 50 60\n"
     ]
    }
   ],
   "source": [
    "def print_numbers(a,b,c):\n",
    "    print(a,b,c)\n",
    "\n",
    "x = [10, 20, 30]\n",
    "print_numbers(*x)          # unpacking한 인수들을 print_numbers로 매개변수로 보냄 \n",
    "print_numbers(*[40,50,60]) # unpacking한 인수들을 print_numbers로 매개변수로 보냄"
   ]
  },
  {
   "cell_type": "markdown",
   "metadata": {},
   "source": [
    "## Variable Argument 함수 ( 가변인수 함수, 매개변수의 갯수 가변적 )   \n",
    "- 함수의 매개변수 앞에 *를 붙여 사용 \n",
    "- 가변 인수 함수 호출 시, 리스트/튜플 언패킹하여 호출"
   ]
  },
  {
   "cell_type": "code",
   "execution_count": 5,
   "metadata": {},
   "outputs": [
    {
     "name": "stdout",
     "output_type": "stream",
     "text": [
      "10 20 30 40 \n",
      "10 20 30 \n"
     ]
    }
   ],
   "source": [
    "def print_numbers(*args):\n",
    "    for arg in args:\n",
    "        print(arg, end = ' ')\n",
    "    print()\n",
    "    \n",
    "print_numbers(10, 20, 30, 40)\n",
    "print_numbers(10, 20, 30)"
   ]
  },
  {
   "cell_type": "markdown",
   "metadata": {},
   "source": [
    "## 고정 인수와 가변 인수 함께 사용하기 \n",
    "- 함수(고정 매개변수, 가변 매개변수) \n",
    "- 순서!!!!"
   ]
  },
  {
   "cell_type": "code",
   "execution_count": 7,
   "metadata": {},
   "outputs": [
    {
     "name": "stdout",
     "output_type": "stream",
     "text": [
      "positional :  10\n",
      "variable   :  (20, 30, 40)\n"
     ]
    }
   ],
   "source": [
    "def print_numbers(a, *args):\n",
    "    print('positional : ', a)\n",
    "    print('variable   : ', args)\n",
    "    \n",
    "print_numbers(10,20,30,40)"
   ]
  },
  {
   "cell_type": "markdown",
   "metadata": {},
   "source": [
    "## Keywords Arguments 함수 ( 1 )\n",
    "- 함수(key1, key2, ... )\n",
    "- 함수(key1 = value1, key2 = value2, key3 = value3... ) "
   ]
  },
  {
   "cell_type": "code",
   "execution_count": 9,
   "metadata": {},
   "outputs": [
    {
     "name": "stdout",
     "output_type": "stream",
     "text": [
      "이름 :  김철수\n",
      "나이 :  20\n",
      "주소 :  길동이 옆 집\n"
     ]
    }
   ],
   "source": [
    "def personal_info(name, age, address):\n",
    "    print('이름 : ', name)\n",
    "    print('나이 : ', age)\n",
    "    print('주소 : ', address)\n",
    "    \n",
    "personal_info(name = '김철수', age = 20, address = '길동이 옆 집')"
   ]
  },
  {
   "cell_type": "markdown",
   "metadata": {},
   "source": [
    "## 딕셔너리와 * (Asterisk)\n",
    "- *딕셔너리  : 키워드 언패킹 \n",
    "- **딕셔너리 => 키워드 : 값, 키워드 매개변수에 사용 "
   ]
  },
  {
   "cell_type": "code",
   "execution_count": 22,
   "metadata": {},
   "outputs": [
    {
     "name": "stdout",
     "output_type": "stream",
     "text": [
      "name age address\n",
      "name age address ['name', 'age', 'address']\n"
     ]
    }
   ],
   "source": [
    "x = {'name': '홍길동', 'age': 30, 'address': '서울시 용산구 이촌동'}\n",
    "print(*x)\n",
    "l = list([*x])\n",
    "print( *l, l )"
   ]
  },
  {
   "cell_type": "markdown",
   "metadata": {},
   "source": [
    "## Keywords Arguments와 딕셔너리 "
   ]
  },
  {
   "cell_type": "code",
   "execution_count": 55,
   "metadata": {
    "scrolled": true
   },
   "outputs": [
    {
     "name": "stdout",
     "output_type": "stream",
     "text": [
      "이름:  name\n",
      "나이:  age\n",
      "주소:  address\n",
      "이름:  홍길동\n",
      "나이:  30\n",
      "주소:  서울시 용산구 이촌동\n"
     ]
    }
   ],
   "source": [
    "def person(name, age, address):\n",
    "    print('이름: ', name)\n",
    "    print('나이: ', age)\n",
    "    print('주소: ', address)\n",
    "\n",
    "\n",
    "x = {'name': '홍길동', 'age': 30, 'address': '서울시 용산구 이촌동'}\n",
    "person(*x)   # 키워드만 매개변수로 넘김 \n",
    "person(**x)  # 키워드-값을 매개변수로 넘김 "
   ]
  },
  {
   "cell_type": "markdown",
   "metadata": {},
   "source": [
    "## Keyword Arguments를 이용한 가변인수 함수 ( 1 )\n",
    "### 고정인수와 키워드 인수 같이 사용하기\n",
    "- 함수(**kwargs)\n",
    "- 함수(고정인수변수, 키워드변수) \n",
    "- 호출 => \n",
    "   - 함수( 변수, **딕셔너리) "
   ]
  },
  {
   "cell_type": "code",
   "execution_count": 59,
   "metadata": {},
   "outputs": [
    {
     "name": "stdout",
     "output_type": "stream",
     "text": [
      "Positional\n",
      "{'name': '홍길동', 'age': 30, 'address': '서울시 용산구 이촌동'}\n"
     ]
    }
   ],
   "source": [
    "def personal_info(a, **kwargs):\n",
    "    print(a)\n",
    "    print(kwargs)\n",
    "\n",
    "x = {'name': '홍길동', 'age': 30, 'address': '서울시 용산구 이촌동'}\n",
    "personal_info('Positional', **x)"
   ]
  },
  {
   "cell_type": "markdown",
   "metadata": {},
   "source": [
    "## Keyword Arguments를 이용한 가변인수 함수 ( 2 ) \n",
    "### 매개변수의 키를 이용 "
   ]
  },
  {
   "cell_type": "code",
   "execution_count": 60,
   "metadata": {},
   "outputs": [
    {
     "name": "stdout",
     "output_type": "stream",
     "text": [
      "이름:  홍길동\n",
      "나이:  30\n",
      "주소:  서울시 용산구 이촌동\n"
     ]
    }
   ],
   "source": [
    "def personal_info(**kwargs):\n",
    "    if 'name' in kwargs:    # in으로 딕셔너리 안에 특정 키가 있는지 확인\n",
    "        print('이름: ', kwargs['name'])\n",
    "    if 'age' in kwargs:\n",
    "        print('나이: ', kwargs['age'])\n",
    "    if 'address' in kwargs:\n",
    "        print('주소: ', kwargs['address'])\n",
    "        \n",
    "x = {'name': '홍길동', 'age': 30, 'address': '서울시 용산구 이촌동'}\n",
    "personal_info(**x)"
   ]
  },
  {
   "cell_type": "markdown",
   "metadata": {},
   "source": [
    "## 연습문제 \n",
    "표준 입력으로 국어, 영어, 수학, 과학 점수가 입력됩니다. \n",
    "다음 소스 코드를 완성하여 가장 높은 점수, 가장 낮은 점수, 평균 점수가 출력되게 만드세요. \n",
    "평균 점수는 실수로 출력되어야 합니다.\n",
    "\n",
    "입력\n",
    "76 82 89 84\n",
    "결과\n",
    "낮은 점수: 76.00, 높은 점수: 89.00, 평균 점수: 82.75\n",
    "낮은 점수: 82.00, 높은 점수: 84.00, 평균 점수: 83.00\n",
    "\n",
    "입력\n",
    "89 92 73 83\n",
    "결과\n",
    "낮은 점수: 73.00, 높은 점수: 92.00, 평균 점수: 84.25\n",
    "낮은 점수: 83.00, 높은 점수: 92.00, 평균 점수: 87.50\n",
    "\n",
    "\n",
    "~~~python3\n",
    "korean, english, mathematics, science = map(int, input().split())\n",
    "\n",
    "________________\n",
    "________________\n",
    "________________\n",
    "________________\n",
    "\n",
    "min_score, max_score = get_min_max_score(korean, english, mathematics, science)\n",
    "average_score = get_average(korean=korean, english=english,\n",
    "                            mathematics=mathematics, science=science)\n",
    "print('낮은 점수: {0:.2f}, 높은 점수: {1:.2f}, 평균 점수: {2:.2f}'\n",
    "      .format(min_score, max_score, average_score))\n",
    " \n",
    "min_score, max_score = get_min_max_score(english, science)\n",
    "average_score = get_average(english=english, science=science)\n",
    "print('낮은 점수: {0:.2f}, 높은 점수: {1:.2f}, 평균 점수: {2:.2f}'\n",
    "      .format(min_score, max_score, average_score))\n",
    "~~~      \n",
    "       \n",
    "       \n"
   ]
  }
 ],
 "metadata": {
  "kernelspec": {
   "display_name": "Python 3",
   "language": "python",
   "name": "python3"
  },
  "language_info": {
   "codemirror_mode": {
    "name": "ipython",
    "version": 3
   },
   "file_extension": ".py",
   "mimetype": "text/x-python",
   "name": "python",
   "nbconvert_exporter": "python",
   "pygments_lexer": "ipython3",
   "version": "3.7.6"
  }
 },
 "nbformat": 4,
 "nbformat_minor": 4
}
