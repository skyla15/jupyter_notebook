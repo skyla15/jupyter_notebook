{
 "cells": [
  {
   "cell_type": "markdown",
   "metadata": {},
   "source": [
    "# 1. Reduce(함수, 반복가능 객체, 초깃값 = None) \n",
    "- 아래의 테크닉 계속 공부 "
   ]
  },
  {
   "cell_type": "code",
   "execution_count": 73,
   "metadata": {},
   "outputs": [],
   "source": [
    "def reduce(function, iterable, initializer = None):\n",
    "    it = iter(iterable)\n",
    "    if initializer is None:\n",
    "        initializer = next(it)\n",
    "    else:\n",
    "        value = initializer\n",
    "    for element in it:\n",
    "        value = function(value, element)\n",
    "    return value"
   ]
  },
  {
   "cell_type": "markdown",
   "metadata": {},
   "source": [
    "사용 방법"
   ]
  },
  {
   "cell_type": "code",
   "execution_count": 81,
   "metadata": {},
   "outputs": [
    {
     "name": "stdout",
     "output_type": "stream",
     "text": [
      "{'M': ['Brett Holland'], 'F': ['Madison Martinez', 'Karen Rodriguez']}\n",
      "['gregorythomas@gmail.com', 'hintoncynthia@hotmail.com', 'daniel79@gmail.com']\n"
     ]
    }
   ],
   "source": [
    "users = [\n",
    "    {'mail': 'gregorythomas@gmail.com',\n",
    "     'name': 'Brett Holland',\n",
    "     'sex': 'M',\n",
    "     'age': 73},\n",
    " {'mail': 'hintoncynthia@hotmail.com',\n",
    "  'name': 'Madison Martinez',\n",
    "  'sex': 'F',\n",
    "  'age': 29},\n",
    " {'mail': 'daniel79@gmail.com', \n",
    "  'name': 'Karen Rodriguez', \n",
    "  'sex': 'F', \n",
    "  'age': 32} \n",
    "]\n",
    "\n",
    "\n",
    "def names_by_sex(x, y):\n",
    "    ''' \n",
    "    x : { } < 초깃값\n",
    "    y : current element \n",
    "    '''\n",
    "    sex = y['sex']\n",
    "    if sex not in x:\n",
    "        # 초기값 x = {}\n",
    "        # x = {'M' : [], 'F' : [] }\n",
    "        x[sex] = []\n",
    "    x[sex].append(y['name'])\n",
    "    return x\n",
    "    \n",
    "print( reduce(names_by_sex, users, {}) )\n",
    "print( reduce(lambda x, y : x + [ y['mail'] ] , users, []) )"
   ]
  },
  {
   "cell_type": "markdown",
   "metadata": {},
   "source": [
    "# 2. filter(함수, 반복 가능 개체)\n",
    "- 함수(x in 반복가능 개체) == True, return x\n",
    "- 함수 = None이면, 반복 가능 개체에서 True인 것들만 돌려줌 "
   ]
  },
  {
   "cell_type": "code",
   "execution_count": 64,
   "metadata": {},
   "outputs": [
    {
     "data": {
      "text/plain": [
       "NoneType"
      ]
     },
     "execution_count": 64,
     "metadata": {},
     "output_type": "execute_result"
    }
   ],
   "source": [
    "countries = [\"\", \"Argentina\", \"\", \"\", \"Brazil\", \"Chile\", \"\", \"Colombia\", \"\"]\n",
    "list(filter(None, countries))"
   ]
  },
  {
   "cell_type": "code",
   "execution_count": 84,
   "metadata": {},
   "outputs": [
    {
     "name": "stdout",
     "output_type": "stream",
     "text": [
      "[1, 2, 3, 4, 5]\n"
     ]
    }
   ],
   "source": [
    "arr = [1,2,3,4,5,6,7,8,9,10]\n",
    "filtered_arr = filter(lambda x : x < 6, arr)\n",
    "print( list(filtered_arr) )"
   ]
  },
  {
   "cell_type": "markdown",
   "metadata": {},
   "source": [
    "# 3. Map(함수, 반복 가능 객체1, 반복 가능 객체2, 반복 가능 객체3, 반복 가능 객체4...)"
   ]
  },
  {
   "cell_type": "code",
   "execution_count": 111,
   "metadata": {},
   "outputs": [
    {
     "name": "stdout",
     "output_type": "stream",
     "text": [
      "[{'a': 1}, {'b': 2}, {'c': 3}]\n",
      "{'a': 1, 'b': 2, 'c': 3}\n",
      "[1, 2, 3, 4, 5]\n",
      "[10, 20, 30, 40, 50]\n",
      "[10, 40, 90, 160, 250]\n"
     ]
    }
   ],
   "source": [
    "keys = ['a', 'b', 'c']\n",
    "vals = [1,2,3]\n",
    "\n",
    "val_key = map(lambda x,y : dict([(x ,y)]), keys, vals)\n",
    "print(val_key_list)\n",
    "\n",
    "print(dict(zip(keys, vals)))\n",
    "\n",
    "a = [1,2,3,4,5]\n",
    "b = [10,20,30,40,50]\n",
    "map_a_b = map((lambda a, b : a * b), a, b)\n",
    "print(a, b, list(map_a_b), sep = '\\n')"
   ]
  },
  {
   "cell_type": "markdown",
   "metadata": {},
   "source": [
    "# 4. Lambda \n",
    "- 익명함수, 힙 메모리에서 동적 생성 \n",
    "- 가비지 컬렉터를 사용하는 파이썬에는 매우 메모리나 속도적으로나 효율적임 "
   ]
  }
 ],
 "metadata": {
  "kernelspec": {
   "display_name": "Python 3",
   "language": "python",
   "name": "python3"
  },
  "language_info": {
   "codemirror_mode": {
    "name": "ipython",
    "version": 3
   },
   "file_extension": ".py",
   "mimetype": "text/x-python",
   "name": "python",
   "nbconvert_exporter": "python",
   "pygments_lexer": "ipython3",
   "version": "3.7.6"
  }
 },
 "nbformat": 4,
 "nbformat_minor": 4
}
