{
 "cells": [
  {
   "cell_type": "markdown",
   "metadata": {},
   "source": [
    "# 1. 상속\n",
    "## 1.1. 상속 관계\n",
    "### 1.1.1. is-a 관계\n",
    "- B = A 관계\n",
    "- '학생'은 '사람'이다 "
   ]
  },
  {
   "cell_type": "code",
   "execution_count": 21,
   "metadata": {},
   "outputs": [],
   "source": [
    "class Person:\n",
    "    def greeting(self):\n",
    "        print('안녕하세요.')\n",
    "\n",
    "class Student(Person):\n",
    "    def study(self):\n",
    "        print('공부하기')"
   ]
  },
  {
   "cell_type": "markdown",
   "metadata": {},
   "source": [
    "### 1.1.2. has-a 관계 ➤ 객체합성을 사용할 것\n",
    "- 현재는 사용하지 않는 문법\n",
    "- 경찰은 총을 갖고있다"
   ]
  },
  {
   "cell_type": "code",
   "execution_count": 22,
   "metadata": {},
   "outputs": [],
   "source": [
    "class Gun:\n",
    "  pass\n",
    "\n",
    "class Police(Gun):\n",
    "  pass"
   ]
  },
  {
   "cell_type": "markdown",
   "metadata": {},
   "source": [
    "### 1.1.3. 객체합성 \n",
    "\n",
    "- has-a 관계를 객체 합성을 이용하여 해결\n",
    "- 소유 대상을 클래스로 상속하는 것이 아닌, 클래스 변수를 has-a 관계에 있는 클래스를 인스턴스화하여 사용 \n",
    "- A police has a Gun "
   ]
  },
  {
   "cell_type": "code",
   "execution_count": 23,
   "metadata": {},
   "outputs": [],
   "source": [
    "class Gun:\n",
    "    def __init__(self, kind):\n",
    "        self.kind = kind\n",
    "\n",
    "    def bang(self):\n",
    "        print('빵야빵야')\n",
    "\n",
    "# 객체합성\n",
    "class Police():\n",
    "    def __init__(self, gun_kind=''):\n",
    "        if gun_kind:\n",
    "            self.gun = Gun(gun_kind) # Gun클래스의 인스턴스객체를 생성하여 Police의 인스턴스 멤버로 할당한다.)\n",
    "        else:\n",
    "            self.gun = None #gun이라는 인스턴스 멤버는 있지만 값은 없는 상태\n",
    "\n",
    "    def get_gun(self, gun_kind):\n",
    "        self.gun = Gun(gun_kind)\n",
    "\n",
    "    def shoot(self):\n",
    "        if self.gun:\n",
    "            self.gun.bang()\n",
    "        else:\n",
    "            print('당신에게는 총이 없습니다.')"
   ]
  },
  {
   "cell_type": "markdown",
   "metadata": {},
   "source": [
    "### 1.1.4. 다중상속\n",
    "- 파이썬의 다중상속 사용 시, 클래스의 목록 중, 왼쪽에서 오른쪽 순서로 메소드를 찾음"
   ]
  },
  {
   "cell_type": "code",
   "execution_count": 32,
   "metadata": {},
   "outputs": [
    {
     "name": "stdout",
     "output_type": "stream",
     "text": [
      "안녕하세요_1\n",
      "인간\n"
     ]
    }
   ],
   "source": [
    "class Person:\n",
    "    def __init__(self):\n",
    "        print('안녕하세요_1')\n",
    "        \n",
    "    def greetings(self):\n",
    "        print('인간')\n",
    "\n",
    "class University:\n",
    "    def __init__(self):\n",
    "        print('안녕하세요_2')\n",
    "        \n",
    "    def greetings(self):\n",
    "        print('대학교')\n",
    "\n",
    "class Undergraduate(Person, University):\n",
    "       pass\n",
    "\n",
    "james = Undergraduate()\n",
    "james.greetings()      # 인간이 실행이 됨 \n",
    "# 1) Person.greeting() \n",
    "# 2) University.greeting()"
   ]
  },
  {
   "cell_type": "markdown",
   "metadata": {},
   "source": [
    "### 1.1.5. 다이아몬드 상속과 파이썬의 메서드 탐색 순서(Method Resolution Order, MRO)\n",
    "- 파이썬은 왼쪽 -> 오른쪽 순으로 다중 상속의 클래스 목록을 탐색\n",
    "- 클래스.\\_\\_mro\\_\\_ : 메소드 탐색 순서 확인 가능 "
   ]
  },
  {
   "cell_type": "code",
   "execution_count": 37,
   "metadata": {},
   "outputs": [
    {
     "name": "stdout",
     "output_type": "stream",
     "text": [
      "안녕하세요. B입니다.\n"
     ]
    }
   ],
   "source": [
    "class A:\n",
    "    def greeting(self):\n",
    "        print('안녕하세요. A입니다.')\n",
    "        \n",
    "class B(A):\n",
    "    def greeting(self):\n",
    "        print('안녕하세요. B입니다.')\n",
    "        \n",
    "class C(A):\n",
    "    def greeting(self):\n",
    "        print('안녕하세요. C입니다.')\n",
    "        \n",
    "class D(B, C):\n",
    "    pass\n",
    "\n",
    "x = D()\n",
    "x.greeting()"
   ]
  },
  {
   "cell_type": "code",
   "execution_count": 39,
   "metadata": {},
   "outputs": [
    {
     "data": {
      "text/plain": [
       "[__main__.D, __main__.B, __main__.C, __main__.A, object]"
      ]
     },
     "execution_count": 39,
     "metadata": {},
     "output_type": "execute_result"
    }
   ],
   "source": [
    "D.mro()"
   ]
  },
  {
   "cell_type": "markdown",
   "metadata": {},
   "source": [
    "## 1.2. super()\n",
    "- super().\\_\\_init__() 없이 부모 클래스의 속성/메소드 사용시 에러(부모 인스턴스 생성이 안되었기 때문에)\n",
    "- 자식클래스에 \\_\\_init__() 메소드가 없다면 부모클래스의 \\_\\_init__()이 실행됨"
   ]
  },
  {
   "cell_type": "code",
   "execution_count": 16,
   "metadata": {},
   "outputs": [
    {
     "name": "stdout",
     "output_type": "stream",
     "text": [
      "Student __init__\n",
      "Person __init__\n"
     ]
    }
   ],
   "source": [
    "class Person:\n",
    "    def __init__(self):\n",
    "        print('Person __init__')\n",
    "        self.hello = '안녕하세요.'\n",
    "\n",
    "\n",
    "class Student(Person):\n",
    "    def __init__(self):\n",
    "        print('Student __init__')\n",
    "        super().__init__()  # super()로 기반 클래스의 __init__ 메서드 호출\n",
    "        self.school = '파이썬 코딩 도장'\n",
    "\n",
    "\n",
    "james = Student()"
   ]
  },
  {
   "cell_type": "markdown",
   "metadata": {},
   "source": [
    "## 1.3. 추상클래스 \n",
    "- 메소드의 목록만 가진 클래스로, 자식 클래스에서 구현해야 할 메소드를 정해줄 때 사용 \n",
    "- abc.ABCmeta \n",
    "- @abc.abstractmethod "
   ]
  },
  {
   "cell_type": "code",
   "execution_count": 18,
   "metadata": {},
   "outputs": [],
   "source": [
    "from abc import *                                 \n",
    "                                                  \n",
    "class 추상클래스이름(metaclass=ABCMeta):              \n",
    "    @abstractmethod                               \n",
    "    def 메서드이름(self):                            \n",
    "        코드   "
   ]
  },
  {
   "cell_type": "markdown",
   "metadata": {},
   "source": [
    "- 아래의 클래스가 구현이 안되어 있으므로 에러 \n",
    "    - go_to_school()\n",
    "    - study()\n",
    "    "
   ]
  },
  {
   "cell_type": "code",
   "execution_count": 19,
   "metadata": {},
   "outputs": [
    {
     "ename": "TypeError",
     "evalue": "Can't instantiate abstract class Student with abstract methods go_to_school",
     "output_type": "error",
     "traceback": [
      "\u001b[0;31m---------------------------------------------------------------------------\u001b[0m",
      "\u001b[0;31mTypeError\u001b[0m                                 Traceback (most recent call last)",
      "\u001b[0;32m<ipython-input-19-bb86182e6fbc>\u001b[0m in \u001b[0;36m<module>\u001b[0;34m\u001b[0m\n\u001b[1;32m     15\u001b[0m \u001b[0;34m\u001b[0m\u001b[0m\n\u001b[1;32m     16\u001b[0m \u001b[0;34m\u001b[0m\u001b[0m\n\u001b[0;32m---> 17\u001b[0;31m \u001b[0mjames\u001b[0m \u001b[0;34m=\u001b[0m \u001b[0mStudent\u001b[0m\u001b[0;34m(\u001b[0m\u001b[0;34m)\u001b[0m\u001b[0;34m\u001b[0m\u001b[0;34m\u001b[0m\u001b[0m\n\u001b[0m",
      "\u001b[0;31mTypeError\u001b[0m: Can't instantiate abstract class Student with abstract methods go_to_school"
     ]
    }
   ],
   "source": [
    "from abc import *\n",
    "\n",
    "class StudentBase(metaclass=ABCMeta):\n",
    "    @abstractmethod\n",
    "    def study(self):\n",
    "        pass\n",
    "\n",
    "    @abstractmethod\n",
    "    def go_to_school(self):\n",
    "        pass\n",
    "\n",
    "class Student(StudentBase):\n",
    "    def study(self):\n",
    "        print('공부하기')\n",
    "\n",
    "\n",
    "james = Student()"
   ]
  },
  {
   "cell_type": "code",
   "execution_count": null,
   "metadata": {},
   "outputs": [],
   "source": []
  }
 ],
 "metadata": {
  "kernelspec": {
   "display_name": "Python 3",
   "language": "python",
   "name": "python3"
  },
  "language_info": {
   "codemirror_mode": {
    "name": "ipython",
    "version": 3
   },
   "file_extension": ".py",
   "mimetype": "text/x-python",
   "name": "python",
   "nbconvert_exporter": "python",
   "pygments_lexer": "ipython3",
   "version": "3.7.6"
  }
 },
 "nbformat": 4,
 "nbformat_minor": 4
}
