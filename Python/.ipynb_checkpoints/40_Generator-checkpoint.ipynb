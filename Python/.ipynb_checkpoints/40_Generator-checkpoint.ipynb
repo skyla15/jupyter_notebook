{
 "cells": [
  {
   "cell_type": "markdown",
   "metadata": {},
   "source": [
    "# 이터레이터와 제너레이터 "
   ]
  },
  {
   "cell_type": "markdown",
   "metadata": {},
   "source": [
    "## 1. 제너레이터 : 이터레이터 생성함수 ( 모든 제너레이터는 이터레이터 )"
   ]
  },
  {
   "cell_type": "markdown",
   "metadata": {},
   "source": [
    "- 이터레이터를 생성해주는 함수 \n",
    "    - 이터레이터 : \\_\\_iter\\_\\_, \\_\\_next\\_\\_ 를 구현\n",
    "        - 이터레이터의 경우 \\_\\_next\\_\\_()에서 StopIteration 을 직접 발생\n",
    "    - 제너레이터 : yield 키워드만 있으면 됨 \n",
    "        - 이터레이터를 생성해주는 함수 \n",
    "        - yield에 지정된 값이 이터레이터의 \\_\\_next\\_\\_() 함수의 반환값으로 나옴 \n",
    "        - StopIteration 조건 필요없이 자동으로 발생 \n",
    "        - 제너레이터 객체에서 \\_\\_next\\_\\_()메소드를 호출 시 마다, yield까지 코드를 실행. 다시 호출 시 yield 이후부터의 다음 yield까지 코드 실행 "
   ]
  },
  {
   "cell_type": "markdown",
   "metadata": {},
   "source": [
    "- 제너레이터 사용이 필요한 경우 \n",
    "    - 파일을 한 줄씩 읽어올 경우 \n",
    "    - 큰 리스트의 값을 가져와야하는 경우 등 "
   ]
  },
  {
   "cell_type": "markdown",
   "metadata": {},
   "source": [
    "## 2. yield와 return "
   ]
  },
  {
   "cell_type": "markdown",
   "metadata": {},
   "source": [
    "- yield \n",
    "    - 제너레이터 객체를 호출할 경우, next() 구문에 의해 yield까지 호출이 되어 반환값을 받고, 제너레이터 객체는 휴지 상태에 들어감.\n",
    "    - 이 휴지상태동안 제너레이터의 \"\"상태\"\"는  메모리 상에서 계속 유지가 되기 때문에, 로컬 변수가 계속 유지가 됨 \n",
    "    - 다시 제너레이터 객체가 호출이 되면 __yield 이후 구문부터 다시 다음 yield구문을 만날 때까지 호출__이 되고 더이상 yield를 통해 값을 반환할 수 없을 때 StopIteration 에러를 호출. "
   ]
  },
  {
   "cell_type": "markdown",
   "metadata": {},
   "source": [
    "    \n",
    "- return \n",
    "    - 일반 함수가 호출이 되면 첫 번째행부터 시작하여 return, exception, 마지막 구문까지 실행이 된 후, caller에게 함수에 대한 것을 반환.\n",
    "    - 이렇게 반환이 된 함수는 메모리 상에서 로컬변수와 함께 해제가 되고 함수를 다시 호출 시 메모리에 다시 이 값들을 올리면서 처음 값부터 재실행이 된다.\n",
    "        - 자신의 스코프를 메모리에서 해제"
   ]
  },
  {
   "cell_type": "markdown",
   "metadata": {},
   "source": [
    "## 3. 제너레이터 표현식과 리스트 표현식 \n",
    "- 리스트 :    [ 표현식 ]\n",
    "- 제너레이터 : ( 표현식 )\n",
    "- 아래의 예에서 제너레이터와 리스트의 메모리 공간 사용 효율 그리고 속도를 확인할 수 있음 "
   ]
  },
  {
   "cell_type": "code",
   "execution_count": 25,
   "metadata": {},
   "outputs": [
    {
     "name": "stdout",
     "output_type": "stream",
     "text": [
      "list :  536\n",
      "list :  4280\n",
      "gen  :  128\n",
      "gen  :  128\n"
     ]
    }
   ],
   "source": [
    "import sys\n",
    "print( 'list : ', sys.getsizeof( [i for i in range(100) if i % 2] ) )    # list\n",
    "print( 'list : ', sys.getsizeof( [i for i in range(1000) if i % 2] ) )  # generator \n",
    "print( 'gen  : ', sys.getsizeof( (i for i in range(100) if i % 2)) )\n",
    "print( 'gen  : ', sys.getsizeof( (i for i in range(1000) if i % 2)) )"
   ]
  },
  {
   "cell_type": "code",
   "execution_count": 60,
   "metadata": {},
   "outputs": [
    {
     "name": "stdout",
     "output_type": "stream",
     "text": [
      "sleep...\n",
      "0\n",
      "sleep...\n",
      "1\n",
      "sleep...\n",
      "2\n",
      "sleep...\n",
      "3\n",
      "sleep...\n",
      "4\n"
     ]
    }
   ],
   "source": [
    "import time\n",
    "def sleep_func(x):\n",
    "    print(\"sleep...\")\n",
    "    time.sleep(1)\n",
    "    return x\n",
    "\n",
    "gen = (sleep_func(x) for x in range(5))\n",
    "\n",
    "for i in gen:\n",
    "    print(i)\n",
    "    \n",
    "# gen = (sleep_func(x) for x in range(5)) : 제너레이터만 선언, sleep_func 실행 안하였음 \n",
    "# i = 0 : print(0) -> gen 실행 -> sleep(1) -> x 가져옴 \n",
    "# i = 1 : print(1) -> gen 실행 -> sleep(1) -> x 가져옴 \n",
    "# ..."
   ]
  },
  {
   "cell_type": "code",
   "execution_count": 64,
   "metadata": {},
   "outputs": [
    {
     "name": "stdout",
     "output_type": "stream",
     "text": [
      "sleep...\n",
      "sleep...\n",
      "sleep...\n",
      "sleep...\n",
      "sleep...\n",
      "0\n",
      "1\n",
      "2\n",
      "3\n",
      "4\n"
     ]
    }
   ],
   "source": [
    "list = [sleep_func(x) for x in range(5)]\n",
    "\n",
    "for i in list:\n",
    "    print(i)\n",
    "    \n",
    "# 리스트 선언 시, range(5)만큼 sleep_func(x) 실행하여 값을 미리 리스트에 다 저장 \n",
    "# x = 0 -> sleep_func(0) -> list[0] = 0\n",
    "# x = 1 -> sleep_func(1) -> list[1] = 1\n",
    "# x = 2 -> sleep_func(2) -> list[2] = 2 \n",
    "# ... "
   ]
  },
  {
   "cell_type": "markdown",
   "metadata": {},
   "source": [
    "## 4. 제너레이터 만들기"
   ]
  },
  {
   "cell_type": "code",
   "execution_count": 38,
   "metadata": {},
   "outputs": [
    {
     "name": "stdout",
     "output_type": "stream",
     "text": [
      "<class 'generator'>\n",
      "1\n"
     ]
    }
   ],
   "source": [
    "def gen():\n",
    "    yield 1\n",
    "\n",
    "a = gen()\n",
    "print( type(a) )\n",
    "print( next(a) )"
   ]
  },
  {
   "cell_type": "code",
   "execution_count": 37,
   "metadata": {},
   "outputs": [
    {
     "name": "stdout",
     "output_type": "stream",
     "text": [
      "1\n",
      "2\n",
      "3\n"
     ]
    }
   ],
   "source": [
    "def gen2():\n",
    "    yield 1\n",
    "    yield 2\n",
    "    yield 3\n",
    "\n",
    "b = gen2()\n",
    "for i in b:\n",
    "    print(i)"
   ]
  },
  {
   "cell_type": "markdown",
   "metadata": {},
   "source": [
    "upper_generator(lowers)는 함수가 아닌 제너레이터 객체임 "
   ]
  },
  {
   "cell_type": "code",
   "execution_count": 53,
   "metadata": {},
   "outputs": [
    {
     "name": "stdout",
     "output_type": "stream",
     "text": [
      "['apple', 'pear', 'grape', 'oragne']\n",
      "apple\n",
      "pear\n",
      "grape\n",
      "oragne\n"
     ]
    },
    {
     "data": {
      "text/plain": [
       "'ORAGNE'"
      ]
     },
     "execution_count": 53,
     "metadata": {},
     "output_type": "execute_result"
    }
   ],
   "source": [
    "def upper_generator(lowers):             # 제너레이터 \n",
    "    print(lowers)\n",
    "    for word in lowers:\n",
    "        print(word)\n",
    "        yield word.upper()\n",
    "\n",
    "lowers = ['apple', 'pear', 'grape', 'oragne'] \n",
    "upper_gen = upper_generator(lowers)      # 제너레이터 객체 생성 \n",
    "next(upper_gen) \n",
    "next(upper_gen)\n",
    "next(upper_gen)\n",
    "next(upper_gen)"
   ]
  },
  {
   "cell_type": "code",
   "execution_count": 43,
   "metadata": {},
   "outputs": [
    {
     "name": "stdout",
     "output_type": "stream",
     "text": [
      "APPLE\n",
      "APPLE\n",
      "PEAR\n",
      "GRAPE\n",
      "ORAGNE\n"
     ]
    }
   ],
   "source": [
    "for word in upper_generator(lowers):  \n",
    "    print(word)"
   ]
  },
  {
   "cell_type": "code",
   "execution_count": 33,
   "metadata": {},
   "outputs": [
    {
     "name": "stdout",
     "output_type": "stream",
     "text": [
      "0\n",
      "1\n",
      "2\n"
     ]
    }
   ],
   "source": [
    "def numer_generator(stop):\n",
    "    n = 0\n",
    "    while n < stop:\n",
    "        yield n\n",
    "        n += 1\n",
    "\n",
    "for i in number_generator(3):\n",
    "    print(i)"
   ]
  },
  {
   "cell_type": "markdown",
   "metadata": {},
   "source": [
    "### 제너레이터 동작 illustration "
   ]
  },
  {
   "cell_type": "code",
   "execution_count": 54,
   "metadata": {},
   "outputs": [
    {
     "name": "stdout",
     "output_type": "stream",
     "text": [
      "0\n",
      "1\n",
      "2\n"
     ]
    }
   ],
   "source": [
    "def number_generator():\n",
    "    yield 0    # 0을 함수 바깥으로 전달하면서 코드 실행을 함수 바깥에 양보\n",
    "    yield 1    # 1을 함수 바깥으로 전달하면서 코드 실행을 함수 바깥에 양보\n",
    "    yield 2    # 2를 함수 바깥으로 전달하면서 코드 실행을 함수 바깥에 양보\n",
    " \n",
    "g = number_generator()\n",
    " \n",
    "a = next(g)    # yield를 사용하여 함수 바깥으로 전달한 값은 next의 반환값으로 나옴\n",
    "print(a)       # 0\n",
    " \n",
    "b = next(g)\n",
    "print(b)       # 1\n",
    " \n",
    "c = next(g)\n",
    "print(c)       # 2"
   ]
  },
  {
   "cell_type": "markdown",
   "metadata": {},
   "source": [
    "<img src = \"./p_images/40제너레이터.jpg\" height=\"60%\" width=\"60%\" align=\"left\">\n",
    "                                                         "
   ]
  },
  {
   "cell_type": "code",
   "execution_count": null,
   "metadata": {},
   "outputs": [],
   "source": []
  }
 ],
 "metadata": {
  "kernelspec": {
   "display_name": "Python 3",
   "language": "python",
   "name": "python3"
  },
  "language_info": {
   "codemirror_mode": {
    "name": "ipython",
    "version": 3
   },
   "file_extension": ".py",
   "mimetype": "text/x-python",
   "name": "python",
   "nbconvert_exporter": "python",
   "pygments_lexer": "ipython3",
   "version": "3.7.6"
  }
 },
 "nbformat": 4,
 "nbformat_minor": 4
}
