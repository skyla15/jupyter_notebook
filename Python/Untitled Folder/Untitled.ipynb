{
 "cells": [
  {
   "cell_type": "code",
   "execution_count": 4,
   "metadata": {},
   "outputs": [
    {
     "name": "stdout",
     "output_type": "stream",
     "text": [
      "Requirement already satisfied: beautifulsoup4 in /Users/jaeyeopchung/opt/anaconda3/lib/python3.7/site-packages (4.8.2)\r\n",
      "Requirement already satisfied: soupsieve>=1.2 in /Users/jaeyeopchung/opt/anaconda3/lib/python3.7/site-packages (from beautifulsoup4) (1.9.5)\r\n"
     ]
    }
   ],
   "source": [
    "!pip install beautifulsoup4"
   ]
  },
  {
   "cell_type": "code",
   "execution_count": 5,
   "metadata": {},
   "outputs": [
    {
     "ename": "SyntaxError",
     "evalue": "invalid syntax (<ipython-input-5-07cfefd7a6f8>, line 30)",
     "output_type": "error",
     "traceback": [
      "\u001b[0;36m  File \u001b[0;32m\"<ipython-input-5-07cfefd7a6f8>\"\u001b[0;36m, line \u001b[0;32m30\u001b[0m\n\u001b[0;31m    Colored by Color Scripter\u001b[0m\n\u001b[0m             ^\u001b[0m\n\u001b[0;31mSyntaxError\u001b[0m\u001b[0;31m:\u001b[0m invalid syntax\n"
     ]
    }
   ],
   "source": [
    "#  ㅠ ㅍhttp://xxxamam.com/page?id=21952\n",
    "        \n",
    "from bs4 import BeautifulSoup as bs\n",
    "from urllib.request import urlopen\n",
    "from urllib.parse import quote_plus\n",
    " \n",
    "baseUrl = 'http://xxxamam.com/page?id=21952'\n",
    "\n",
    "crawl_num = int(input('크롤링할 갯수 입력(최대 50개): '))\n",
    " \n",
    "url = baseUrl + quote_plus(plusUrl) # 한글 검색 자동 변환\n",
    "html = urlopen(url)\n",
    "soup = bs(html, \"html.parser\")\n",
    "img = soup.find_all(class_='_img')\n",
    " \n",
    "n = 1\n",
    "for i in img:\n",
    "    print(n)\n",
    "    imgUrl = i['data-source']\n",
    "    with urlopen(imgUrl) as f:\n",
    "        with open('./images/img' + str(n)+'.jpg','wb') as h: # w - write b - binary\n",
    "            img = f.read()\n",
    "            h.write(img)\n",
    "    n += 1\n",
    "    if n > crawl_num:\n",
    "        break\n",
    "    \n",
    "    \n",
    "print('Image Crawling is done.')\n",
    "Colored by Color Scripter"
   ]
  },
  {
   "cell_type": "code",
   "execution_count": null,
   "metadata": {},
   "outputs": [],
   "source": []
  }
 ],
 "metadata": {
  "kernelspec": {
   "display_name": "Python 3",
   "language": "python",
   "name": "python3"
  },
  "language_info": {
   "codemirror_mode": {
    "name": "ipython",
    "version": 3
   },
   "file_extension": ".py",
   "mimetype": "text/x-python",
   "name": "python",
   "nbconvert_exporter": "python",
   "pygments_lexer": "ipython3",
   "version": "3.7.6"
  }
 },
 "nbformat": 4,
 "nbformat_minor": 4
}
