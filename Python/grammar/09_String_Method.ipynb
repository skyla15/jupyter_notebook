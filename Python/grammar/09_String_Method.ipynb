{
 "cells": [
  {
   "cell_type": "markdown",
   "metadata": {},
   "source": [
    "#  1.String Methods \n",
    "1. string.replace\n",
    "2. string.maketrans('바꿀 문자 집합', '대응되는 새 문자 집합') \n",
    "3. string.split('기준문자열') \n",
    "4. '구분문자'.join(리스트)\n",
    "5. string.upper() \n",
    "    / lower() / strip('기준문자') / rstrip('기준문자') / lstrip('기준문자')\n",
    "    \n",
    "6. string.ljust() / center() / rjust() \n",
    "7. string.find('문자') / rfind('문자')\n",
    "8. string.index('문자')\n",
    "9. string.count('문자열') "
   ]
  },
  {
   "cell_type": "markdown",
   "metadata": {},
   "source": [
    "### 1) 문자열.replace('바꿀 문자열', '새로운 문자열') "
   ]
  },
  {
   "cell_type": "code",
   "execution_count": 5,
   "metadata": {},
   "outputs": [
    {
     "data": {
      "text/plain": [
       "'Hello World!'"
      ]
     },
     "execution_count": 5,
     "metadata": {},
     "output_type": "execute_result"
    }
   ],
   "source": [
    "'Hello World!'.replace('world', 'Python')"
   ]
  },
  {
   "cell_type": "markdown",
   "metadata": {},
   "source": [
    "### 2) 문자열.maketrans('바꿀 문자 집합', '대응 되는 새문자 집합')"
   ]
  },
  {
   "cell_type": "code",
   "execution_count": 3,
   "metadata": {},
   "outputs": [
    {
     "data": {
      "text/plain": [
       "{97: 49, 101: 50, 105: 51, 111: 52, 117: 53}"
      ]
     },
     "execution_count": 3,
     "metadata": {},
     "output_type": "execute_result"
    }
   ],
   "source": [
    "'apple'.maketrans('aeiou', '12345')"
   ]
  },
  {
   "cell_type": "markdown",
   "metadata": {},
   "source": [
    "### 3) 문자열.split('기준문자열') \n",
    "- 반환값 : 리스트 \n",
    "- 기준문자열 미지정 시 : 공백 "
   ]
  },
  {
   "cell_type": "code",
   "execution_count": 2,
   "metadata": {},
   "outputs": [
    {
     "data": {
      "text/plain": [
       "['I', 'like', 'hello', 'world!']"
      ]
     },
     "execution_count": 2,
     "metadata": {},
     "output_type": "execute_result"
    }
   ],
   "source": [
    "l = 'I like hello world!'.split()\n",
    "l"
   ]
  },
  {
   "cell_type": "markdown",
   "metadata": {},
   "source": [
    "### 4) '구분문자열'.join(리스트) "
   ]
  },
  {
   "cell_type": "code",
   "execution_count": 4,
   "metadata": {},
   "outputs": [
    {
     "data": {
      "text/plain": [
       "'I-like-hello-world!'"
      ]
     },
     "execution_count": 4,
     "metadata": {},
     "output_type": "execute_result"
    }
   ],
   "source": [
    "'-'.join(l)"
   ]
  },
  {
   "cell_type": "markdown",
   "metadata": {},
   "source": [
    "### 5) upper(), lower(), lstrip(), rstrip(), strip() \n",
    "- strip('지울 문자 집합) "
   ]
  },
  {
   "cell_type": "code",
   "execution_count": 1,
   "metadata": {},
   "outputs": [
    {
     "name": "stdout",
     "output_type": "stream",
     "text": [
      "1)  -/_PYTHON - -/_python - -/_python -\n",
      "2)  -/_python - : -/_python \n",
      "3)  -/_python - : python -\n",
      "4)  -/_python - : /_python \n"
     ]
    }
   ],
   "source": [
    "p = '-/_python -'\n",
    "print('1) ', p.upper(), p.lower(), p.strip())  \n",
    "print('2) ', p, ':', p.rstrip('-'))\n",
    "print('3) ', p, ':', p.lstrip('_/-^'))\n",
    "print('4) ', p, ':', p.strip('-'))\n"
   ]
  },
  {
   "cell_type": "markdown",
   "metadata": {},
   "source": [
    "### 6) strip응용 \n",
    "- 문자열.strip(string.punctuation + ' ') : 구두점, 특수문자 + 공백 삭제  "
   ]
  },
  {
   "cell_type": "code",
   "execution_count": 2,
   "metadata": {},
   "outputs": [
    {
     "data": {
      "text/plain": [
       "'Hi! This is Jay speaking'"
      ]
     },
     "execution_count": 2,
     "metadata": {},
     "output_type": "execute_result"
    }
   ],
   "source": [
    "import string\n",
    "'/Hi! This is Jay speaking~!/'.strip(string.punctuation + '/')"
   ]
  },
  {
   "cell_type": "markdown",
   "metadata": {},
   "source": [
    "### 7) 문자열 정렬 \n",
    "- str.ljust(길이)\n",
    "- str.rjust(길이)\n",
    "- str.center(길이) "
   ]
  },
  {
   "cell_type": "code",
   "execution_count": 17,
   "metadata": {},
   "outputs": [
    {
     "name": "stdout",
     "output_type": "stream",
     "text": [
      "| Hello!     |   Hello!   |     Hello! |\n"
     ]
    }
   ],
   "source": [
    "print('|', 'Hello!'.ljust(10), '|', 'Hello!'.center(10), '|', 'Hello!'.rjust(10), '|')"
   ]
  },
  {
   "cell_type": "markdown",
   "metadata": {},
   "source": [
    "### 8) Methond Chaining "
   ]
  },
  {
   "cell_type": "code",
   "execution_count": 9,
   "metadata": {},
   "outputs": [
    {
     "name": "stdout",
     "output_type": "stream",
     "text": [
      "|     PYTHON |\n"
     ]
    }
   ],
   "source": [
    "print('|', 'python'.rjust(10).upper(), '|')"
   ]
  },
  {
   "cell_type": "markdown",
   "metadata": {},
   "source": [
    "### 9) string.rfind('찾을 문자열') / string.find('찾을 문자열')\n",
    "- rfind : 문자열의 오른쪽부터 문자 탐색 \n",
    "- find  : 문자열의 왼쪽부터 문자 탐색 \n",
    "- 반환값 : 인덱스 / 매치 없을 경우 -1 "
   ]
  },
  {
   "cell_type": "code",
   "execution_count": 4,
   "metadata": {
    "scrolled": true
   },
   "outputs": [
    {
     "name": "stdout",
     "output_type": "stream",
     "text": [
      "12 2\n"
     ]
    }
   ],
   "source": [
    "print('apple pineapple'.rfind('pl'), 'apple pineappe'.find('pl'))"
   ]
  },
  {
   "cell_type": "markdown",
   "metadata": {},
   "source": [
    "### 10) string.index('문자') \n",
    "- 문자가 시작되는 첫 인덱스 반환 "
   ]
  },
  {
   "cell_type": "code",
   "execution_count": 5,
   "metadata": {},
   "outputs": [
    {
     "data": {
      "text/plain": [
       "2"
      ]
     },
     "execution_count": 5,
     "metadata": {},
     "output_type": "execute_result"
    }
   ],
   "source": [
    "'apple pineapple'.index('pl')"
   ]
  },
  {
   "cell_type": "markdown",
   "metadata": {},
   "source": [
    "### 11) string.count('문자')\n",
    "- 해당 문자의 갯수 반환 "
   ]
  },
  {
   "cell_type": "code",
   "execution_count": 6,
   "metadata": {},
   "outputs": [
    {
     "data": {
      "text/plain": [
       "2"
      ]
     },
     "execution_count": 6,
     "metadata": {},
     "output_type": "execute_result"
    }
   ],
   "source": [
    "'apple pineapple'.count('apple')"
   ]
  }
 ],
 "metadata": {
  "kernelspec": {
   "display_name": "Python 3",
   "language": "python",
   "name": "python3"
  },
  "language_info": {
   "codemirror_mode": {
    "name": "ipython",
    "version": 3
   },
   "file_extension": ".py",
   "mimetype": "text/x-python",
   "name": "python",
   "nbconvert_exporter": "python",
   "pygments_lexer": "ipython3",
   "version": "3.7.6"
  }
 },
 "nbformat": 4,
 "nbformat_minor": 4
}
