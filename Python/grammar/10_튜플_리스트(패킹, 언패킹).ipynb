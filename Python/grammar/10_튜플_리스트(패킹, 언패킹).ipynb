{
 "cells": [
  {
   "cell_type": "markdown",
   "metadata": {},
   "source": [
    "## 패킹 - 대입문\n",
    "- 여러 데이터를 하나의 변수에 묶기 \n",
    "- 대입문에서의 패킹 시, 괄호를 생략하는 경우가 많음 "
   ]
  },
  {
   "cell_type": "code",
   "execution_count": 1,
   "metadata": {},
   "outputs": [
    {
     "name": "stdout",
     "output_type": "stream",
     "text": [
      "(1, 2, 3) [1, 2, 3] (1, 2, 3)\n"
     ]
    }
   ],
   "source": [
    "x = 1, 2, 3     # 튜플 \n",
    "y = [1, 2, 3]\n",
    "z = (1, 2, 3)\n",
    "print(x , y, z)"
   ]
  },
  {
   "cell_type": "markdown",
   "metadata": {},
   "source": [
    "## 언패킹 \n",
    "- 시퀀스 길이가 일치해야함 \n",
    "- 언패킹 연산자(*)를 이용해서 남은 요소를 받을 수 있음 \n",
    "- 이 외의 함수의 인자(튜플)들 또한 언패킹을 이용해서 값을 받음 "
   ]
  },
  {
   "cell_type": "code",
   "execution_count": 2,
   "metadata": {},
   "outputs": [
    {
     "name": "stdout",
     "output_type": "stream",
     "text": [
      "1 2 [3, 4, 5]\n"
     ]
    }
   ],
   "source": [
    "x = 1, 2, 3, 4, 5,\n",
    "a, b, *rest = x\n",
    "print(a, b, rest)"
   ]
  },
  {
   "cell_type": "markdown",
   "metadata": {},
   "source": [
    "###  List Comprehension \n",
    "- [ 식 for 변수 in 시퀀스 if문 ]"
   ]
  },
  {
   "cell_type": "code",
   "execution_count": 3,
   "metadata": {},
   "outputs": [
    {
     "data": {
      "text/plain": [
       "[1, 2, 3, 2, 4, 6]"
      ]
     },
     "execution_count": 3,
     "metadata": {},
     "output_type": "execute_result"
    }
   ],
   "source": [
    "a = [ i * j for i in range(1, 3) for j in range(1, 4) ]\n",
    "a"
   ]
  },
  {
   "cell_type": "markdown",
   "metadata": {},
   "source": [
    "### 요소가 1개 들어있는 튜플 만들기 \n",
    "- ( ,) \n",
    "- tuple() "
   ]
  },
  {
   "cell_type": "code",
   "execution_count": 12,
   "metadata": {},
   "outputs": [
    {
     "name": "stdout",
     "output_type": "stream",
     "text": [
      "<class 'int'> <class 'tuple'> <class 'tuple'>\n"
     ]
    }
   ],
   "source": [
    "print( type( (1) ), type( (1, ) ), type( tuple() ))"
   ]
  }
 ],
 "metadata": {
  "kernelspec": {
   "display_name": "Python 3",
   "language": "python",
   "name": "python3"
  },
  "language_info": {
   "codemirror_mode": {
    "name": "ipython",
    "version": 3
   },
   "file_extension": ".py",
   "mimetype": "text/x-python",
   "name": "python",
   "nbconvert_exporter": "python",
   "pygments_lexer": "ipython3",
   "version": "3.7.6"
  }
 },
 "nbformat": 4,
 "nbformat_minor": 4
}
