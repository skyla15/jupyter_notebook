{
 "cells": [
  {
   "cell_type": "markdown",
   "metadata": {},
   "source": [
    "## 디렉토리 내 모든 파일 읽어오기 < import os > \n",
    "- os.listdir(디렉토리 경로) \n",
    "- 반환값 : 경로 내 모든 파일/폴더 리스트형태로 변환 "
   ]
  },
  {
   "cell_type": "code",
   "execution_count": 2,
   "metadata": {},
   "outputs": [
    {
     "name": "stdout",
     "output_type": "stream",
     "text": [
      "['27_practice.txt', '10_튜플_리스트(패킹, 언패킹).ipynb', '12_25_Dictionary.ipynb', '27_File.ipynb', '09_String_Method.ipynb', '.ipynb_checkpoints', '22_Filter_Map_Reduce.ipynb', '0_11_Sequance_Variables_Mehtod .ipynb', '24_String_Format.ipynb']\n"
     ]
    }
   ],
   "source": [
    "import os \n",
    "file_names = os.listdir('./') # 현재 디렉토리.\n",
    "print(file_names)"
   ]
  },
  {
   "cell_type": "markdown",
   "metadata": {},
   "source": [
    "## f = open('파일이름', '모드', encoding = '' ) as alias \n",
    "- 파일 열기, 모드(r:읽기, w:쓰기, r+:읽고 쓰기, b:바이너리, 인코딩)\n",
    "- f.close()"
   ]
  },
  {
   "cell_type": "markdown",
   "metadata": {},
   "source": [
    "## 파일.read()  \n",
    "- 파일 전체를 문자열로 반환 "
   ]
  },
  {
   "cell_type": "code",
   "execution_count": 3,
   "metadata": {},
   "outputs": [
    {
     "name": "stdout",
     "output_type": "stream",
     "text": [
      "These are tough times for everyone,\n",
      "but, trust me, it's really not a good time\n",
      "to be a celebrity, why?\n",
      "Everyone wants a selfie, everybody.\n",
      "That's not good, we must keep social distancing,\n",
      "so I follow specific rules.\n",
      "Six feet away, no touching.\n",
      "Check it out, sir!\n",
      "Sir, what's your name?\n",
      "Kevin. Kevin.\n",
      "\n",
      "To. Dear Friends \n",
      "Okay, you may have a selfie with me,but you must stay six feet away and no touching! No, I'm good. No, no, you can have a selfie! You can have a selfie with me, but we have to keep our distance. No, I'm good. Do you know who I am? Not really. Tough time to be a celebrity.\n"
     ]
    }
   ],
   "source": [
    "with open ('27_practice.txt', 'r') as f:\n",
    "    a = f.read()\n",
    "print(a.split())                     # 개행 문자 안보임 "
   ]
  },
  {
   "cell_type": "markdown",
   "metadata": {},
   "source": [
    "## 파일.readlines() \n",
    "- 리스트에 한줄씩 '리스트'로 저장\n",
    "- 반복문 필요 없이, 각 줄을 리스트에 저장 "
   ]
  },
  {
   "cell_type": "code",
   "execution_count": 15,
   "metadata": {},
   "outputs": [
    {
     "name": "stdout",
     "output_type": "stream",
     "text": [
      "['These are tough times for everyone,\\n', \"but, trust me, it's really not a good time\\n\", 'to be a celebrity, why?\\n', 'Everyone wants a selfie, everybody.\\n', \"That's not good, we must keep social distancing,\\n\", 'so I follow specific rules.\\n', 'Six feet away, no touching.\\n', 'Check it out, sir!\\n', \"Sir, what's your name?\\n\", 'Kevin. Kevin.\\n', '\\n', 'To. Dear Friends \\n', \"Okay, you may have a selfie with me,but you must stay six feet away and no touching! No, I'm good. No, no, you can have a selfie! You can have a selfie with me, but we have to keep our distance. No, I'm good. Do you know who I am? Not really. Tough time to be a celebrity.\"]\n"
     ]
    }
   ],
   "source": [
    "with open('27_practice.txt', 'r') as f:\n",
    "    lines = f.readlines()              # 한 줄씩 읽음 \n",
    "    print(lines)"
   ]
  },
  {
   "cell_type": "markdown",
   "metadata": {},
   "source": [
    "## 파일.readline() \n",
    "- 파일의 내용을 한 줄을 읽음  \n",
    "- 빈 문자열 '' 반환 시, 파일의 끝 도달 \n",
    "- 빈 줄은 '\\n'은 빈 문자열로 표현 \n",
    "- 반복문을 통해 입력 필요 "
   ]
  },
  {
   "cell_type": "code",
   "execution_count": 1,
   "metadata": {},
   "outputs": [
    {
     "name": "stdout",
     "output_type": "stream",
     "text": [
      "['These', 'are', 'tough', 'times', 'for', 'everyone,', 'but,', 'trust', 'me,', \"it's\", 'really', 'not', 'a', 'good', 'time', 'to', 'be', 'a', 'celebrity,', 'why?', 'Everyone', 'wants', 'a', 'selfie,', 'everybody.', \"That's\", 'not', 'good,', 'we', 'must', 'keep', 'social', 'distancing,', 'so', 'I', 'follow', 'specific', 'rules.', 'Six', 'feet', 'away,', 'no', 'touching.', 'Check', 'it', 'out,', 'sir!', 'Sir,', \"what's\", 'your', 'name?', 'Kevin.', 'Kevin.', 'To.', 'Dear', 'Friends', 'Okay,', 'you', 'may', 'have', 'a', 'selfie', 'with', 'me,but', 'you', 'must', 'stay', 'six', 'feet', 'away', 'and', 'no', 'touching!', 'No,', \"I'm\", 'good.', 'No,', 'no,', 'you', 'can', 'have', 'a', 'selfie!', 'You', 'can', 'have', 'a', 'selfie', 'with', 'me,', 'but', 'we', 'have', 'to', 'keep', 'our', 'distance.', 'No,', \"I'm\", 'good.', 'Do', 'you', 'know', 'who', 'I', 'am?', 'Not', 'really.', 'Tough', 'time', 'to', 'be', 'a', 'celebrity.']\n"
     ]
    }
   ],
   "source": [
    "line_list = list()\n",
    "with open('27_practice.txt', 'r') as f:\n",
    "    line = None \n",
    "    while line != '': \n",
    "        line = f.readline()            # 한 줄 읽기\n",
    "        line_list.extend(line.split()) # 읽고 리스트에 split으로 저장 \n",
    "print(line_list)"
   ]
  },
  {
   "cell_type": "code",
   "execution_count": 4,
   "metadata": {},
   "outputs": [
    {
     "data": {
      "text/plain": [
       "<function str.lower()>"
      ]
     },
     "execution_count": 4,
     "metadata": {},
     "output_type": "execute_result"
    }
   ],
   "source": [
    "'The Apple'.lower"
   ]
  },
  {
   "cell_type": "markdown",
   "metadata": {},
   "source": []
  },
  {
   "cell_type": "markdown",
   "metadata": {},
   "source": [
    "##  "
   ]
  }
 ],
 "metadata": {
  "kernelspec": {
   "display_name": "Python 3",
   "language": "python",
   "name": "python3"
  },
  "language_info": {
   "codemirror_mode": {
    "name": "ipython",
    "version": 3
   },
   "file_extension": ".py",
   "mimetype": "text/x-python",
   "name": "python",
   "nbconvert_exporter": "python",
   "pygments_lexer": "ipython3",
   "version": "3.7.6"
  }
 },
 "nbformat": 4,
 "nbformat_minor": 4
}
