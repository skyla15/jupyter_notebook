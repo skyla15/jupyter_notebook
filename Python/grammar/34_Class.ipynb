{
 "cells": [
  {
   "cell_type": "markdown",
   "metadata": {},
   "source": [
    "# Class  \n",
    "## 1 인스턴스와 객체  \n",
    "- 객체    : 객체만 지칭 시 객체(Object)  \n",
    "- 인스턴스 : 클래스와 연관지어 말할 경우 인스턴스(Instance)  \n",
    "- 객체 a,b는 list의 instance"
   ]
  },
  {
   "cell_type": "code",
   "execution_count": 46,
   "metadata": {},
   "outputs": [],
   "source": [
    "a = list(range(10))  \n",
    "b = list(range(10))"
   ]
  },
  {
   "cell_type": "markdown",
   "metadata": {},
   "source": [
    "## 1.1 isinstance(instance, class)\n",
    "- 정수, 실수 등의 자료형 등을 판단할 경우 ( isinstace(a, int) ) 등 "
   ]
  },
  {
   "cell_type": "code",
   "execution_count": 47,
   "metadata": {},
   "outputs": [
    {
     "name": "stdout",
     "output_type": "stream",
     "text": [
      "True\n",
      "False\n"
     ]
    }
   ],
   "source": [
    "print( isinstance(a, list) ) # True\n",
    "print( isinstance(a, dict) ) # False"
   ]
  },
  {
   "cell_type": "markdown",
   "metadata": {},
   "source": [
    "## 1.2 \\_\\_slot\\_\\_ \n",
    "- 파이썬의 클래스 \"속성\"을 관리하는 딕셔너리 속성은 런타임에도 \"임의의 속성을 추가할 수 있지만\" 이로 인해 \"더 많은 메모리\"를 사용 \n",
    "- \\_\\_slots__를 통해 임의의 속성이 추가되는 것을 막고 클래스의 속성들을 set로 관리함으로써 메모리를 절약할 수 있다."
   ]
  },
  {
   "cell_type": "code",
   "execution_count": 48,
   "metadata": {},
   "outputs": [
    {
     "name": "stdout",
     "output_type": "stream",
     "text": [
      "{'fo': 'foo_instnace0', 'foo': 'foo_instance'}\n",
      "foo_instance\n"
     ]
    }
   ],
   "source": [
    "class foo:\n",
    "    pass \n",
    "\n",
    "def main():\n",
    "    foo1 = foo()\n",
    "    foo1.fo = 'foo_instnace0'\n",
    "    foo1.foo = 'foo_instance'\n",
    "    print( foo1.__dict__ )  # {'foo': 'foo-instance0', 'foo_instance'}\n",
    "    print( foo1.foo      )  # foo\n",
    "    \n",
    "main()"
   ]
  },
  {
   "cell_type": "code",
   "execution_count": 49,
   "metadata": {},
   "outputs": [
    {
     "ename": "AttributeError",
     "evalue": "'not_foo' object has no attribute '__dict__'",
     "output_type": "error",
     "traceback": [
      "\u001b[0;31m---------------------------------------------------------------------------\u001b[0m",
      "\u001b[0;31mAttributeError\u001b[0m                            Traceback (most recent call last)",
      "\u001b[0;32m<ipython-input-49-33bd2a98f74f>\u001b[0m in \u001b[0;36m<module>\u001b[0;34m\u001b[0m\n\u001b[1;32m      4\u001b[0m \u001b[0mfoo2\u001b[0m \u001b[0;34m=\u001b[0m \u001b[0mnot_foo\u001b[0m\u001b[0;34m(\u001b[0m\u001b[0;34m)\u001b[0m\u001b[0;34m\u001b[0m\u001b[0;34m\u001b[0m\u001b[0m\n\u001b[1;32m      5\u001b[0m \u001b[0mfoo2\u001b[0m\u001b[0;34m.\u001b[0m\u001b[0mfoo\u001b[0m \u001b[0;34m=\u001b[0m \u001b[0;34m'foo2'\u001b[0m\u001b[0;34m\u001b[0m\u001b[0;34m\u001b[0m\u001b[0m\n\u001b[0;32m----> 6\u001b[0;31m \u001b[0mprint\u001b[0m\u001b[0;34m(\u001b[0m \u001b[0mfoo2\u001b[0m\u001b[0;34m.\u001b[0m\u001b[0m__dict__\u001b[0m \u001b[0;34m)\u001b[0m  \u001b[0;31m# not_foo' object has no attribute '__dict__'\u001b[0m\u001b[0;34m\u001b[0m\u001b[0;34m\u001b[0m\u001b[0m\n\u001b[0m",
      "\u001b[0;31mAttributeError\u001b[0m: 'not_foo' object has no attribute '__dict__'"
     ]
    }
   ],
   "source": [
    "class not_foo:\n",
    "    __slots__ = [ 'foo', 'foo1' ]\n",
    "\n",
    "foo2 = not_foo()\n",
    "foo2.foo = 'foo2'\n",
    "print( foo2.__dict__ )  # not_foo' object has no attribute '__dict__'"
   ]
  },
  {
   "cell_type": "markdown",
   "metadata": {},
   "source": [
    "## 1.3. 비공개 메소드 / 속성  \n",
    "- 비공개 속성은 \"클래스 안의 메소드\"를 통해서만 접근 가능 \n",
    "- 비공개 속성 : self.\\_\\_속성 = value"
   ]
  },
  {
   "cell_type": "code",
   "execution_count": 50,
   "metadata": {},
   "outputs": [
    {
     "ename": "AttributeError",
     "evalue": "'Person' object has no attribute '__greetings'",
     "output_type": "error",
     "traceback": [
      "\u001b[0;31m---------------------------------------------------------------------------\u001b[0m",
      "\u001b[0;31mAttributeError\u001b[0m                            Traceback (most recent call last)",
      "\u001b[0;32m<ipython-input-50-75851671afc7>\u001b[0m in \u001b[0;36m<module>\u001b[0;34m\u001b[0m\n\u001b[1;32m     14\u001b[0m \u001b[0;34m\u001b[0m\u001b[0m\n\u001b[1;32m     15\u001b[0m \u001b[0mjames\u001b[0m \u001b[0;34m=\u001b[0m \u001b[0mPerson\u001b[0m\u001b[0;34m(\u001b[0m\u001b[0;34m)\u001b[0m\u001b[0;34m\u001b[0m\u001b[0;34m\u001b[0m\u001b[0m\n\u001b[0;32m---> 16\u001b[0;31m \u001b[0mjames\u001b[0m\u001b[0;34m.\u001b[0m\u001b[0m__greetings\u001b[0m\u001b[0;34m(\u001b[0m\u001b[0;34m)\u001b[0m \u001b[0;31m# 'Person' object has no attribute '__greetings'\u001b[0m\u001b[0;34m\u001b[0m\u001b[0;34m\u001b[0m\u001b[0m\n\u001b[0m",
      "\u001b[0;31mAttributeError\u001b[0m: 'Person' object has no attribute '__greetings'"
     ]
    }
   ],
   "source": [
    "class Person:\n",
    "    def __init__(self, name='james', age=13, address='station', wallet=1000):\n",
    "        self.name = name\n",
    "        self.age = age\n",
    "        self.address = address\n",
    "        self.__wallet = wallet  # 변수 앞에 __를 붙여서 비공개 속성으로 만듦\n",
    "\n",
    "    def pay(self, amount):\n",
    "        self.__wallet -= amount  # 비공개 속성은 클래스 안의 메서드에서만 접근할 수 있음\n",
    "        print('이제 {0}원 남았네요.'.format(self.__wallet))\n",
    "\n",
    "    def __greeting(self):\n",
    "        print('Hello')\n",
    "\n",
    "james = Person() \n",
    "james.__greetings() # 'Person' object has no attribute '__greetings'"
   ]
  },
  {
   "cell_type": "code",
   "execution_count": 51,
   "metadata": {},
   "outputs": [
    {
     "ename": "AttributeError",
     "evalue": "'Person' object has no attribute '__wallet'",
     "output_type": "error",
     "traceback": [
      "\u001b[0;31m---------------------------------------------------------------------------\u001b[0m",
      "\u001b[0;31mAttributeError\u001b[0m                            Traceback (most recent call last)",
      "\u001b[0;32m<ipython-input-51-4fd3c5b6d1ca>\u001b[0m in \u001b[0;36m<module>\u001b[0;34m\u001b[0m\n\u001b[0;32m----> 1\u001b[0;31m \u001b[0mjames\u001b[0m\u001b[0;34m.\u001b[0m\u001b[0m__wallet\u001b[0m      \u001b[0;31m# 'Person' object has no attribute '__wallet'\u001b[0m\u001b[0;34m\u001b[0m\u001b[0;34m\u001b[0m\u001b[0m\n\u001b[0m",
      "\u001b[0;31mAttributeError\u001b[0m: 'Person' object has no attribute '__wallet'"
     ]
    }
   ],
   "source": [
    "james.__wallet      # 'Person' object has no attribute '__wallet'"
   ]
  },
  {
   "cell_type": "markdown",
   "metadata": {},
   "source": [
    "## 1.4. 정적 메소드, 인스턴스 메소드, 클래스 메소드\n",
    "- 인스턴스 메소드 : \n",
    "    - 인스턴스 변수와 같이 하나의 인스턴스에만 한정된 데이터를 생성, 변경, 참조 \n",
    "    - 인스턴스 자신을 self 인자로 전달하여 호출하는 것 \n",
    "- 정적 메소드 : @staticmehthod \n",
    "    - 클래스 네임스페이스에 있을 뿐 일반 함수와 같이 호출이 가능한 메소드, 단지 클래스와 연관된 함수를 정의하여 사용 \n",
    "    - 인스턴스 속성 접근 불가능\n",
    "    - 속성 접근이 필요없는 경우 사용 ex) 계산기의 계산 메소드 등의 유틸리티 메소드 \n",
    "- 클래스 메소드 : @classmethod\n",
    "    - 모든 인스턴스가 공유하는 \"클래스 변수\"와 같은 데이터를 생성, 변경, 참조 \n",
    "    - 인스턴스 속성 접근 가능\n",
    "    - 클래스를 통해 호출이 되고, cls가 인자로 전달이 됨."
   ]
  },
  {
   "cell_type": "markdown",
   "metadata": {},
   "source": [
    "### - 클래스 메소드 \n",
    "- __class_name : 모든 인스턴스가 공유하는 속성 \n",
    "- 클래스 메소드를 호출하여 클래스 속성을 변경 "
   ]
  },
  {
   "cell_type": "code",
   "execution_count": 42,
   "metadata": {},
   "outputs": [],
   "source": [
    "class Student:\n",
    "    \n",
    "    school_name = \"Great High School\"\n",
    "    __class_name = \"A\"  # 클래스 변수 정보은닉 (Information hiding)\n",
    "    \n",
    "    @classmethod  # 클래스메서드로 지정\n",
    "    def get_class_name(cls):  # 클래스변수 __class_name 의 접근자\n",
    "        return cls.__class_name\n",
    "    \n",
    "    @classmethod  # 클래스메서드로 지정    \n",
    "    def set_class_name(cls, class_name):  # 클래스변수 __class_name 의 설정자\n",
    "        cls.__class_name = class_name\n",
    "        return cls.__class_name\n",
    "    \n",
    "    def __init__(self):\n",
    "        self.class_name = Student.get_class_name()\n",
    "        print(\"One student entrance into school\")\n",
    "        print(\"Class : {}\".format(self.class_name))\n",
    "        \n",
    "    def study(self):\n",
    "        print(\"I have to study\")"
   ]
  },
  {
   "cell_type": "markdown",
   "metadata": {},
   "source": [
    "- 인스턴스 생성없이 \n",
    "- 클래스를 통해 클래스 메소드 호출 "
   ]
  },
  {
   "cell_type": "code",
   "execution_count": 43,
   "metadata": {},
   "outputs": [
    {
     "data": {
      "text/plain": [
       "'A'"
      ]
     },
     "execution_count": 43,
     "metadata": {},
     "output_type": "execute_result"
    }
   ],
   "source": [
    "Student.get_class_name()  # get_class_name 의 인수 cls 는 self 와 비슷한 기능이지만, 인스턴스가 아닌 클래스가 인자로 들어간다."
   ]
  },
  {
   "cell_type": "code",
   "execution_count": 44,
   "metadata": {},
   "outputs": [
    {
     "data": {
      "text/plain": [
       "'B'"
      ]
     },
     "execution_count": 44,
     "metadata": {},
     "output_type": "execute_result"
    }
   ],
   "source": [
    "Student.set_class_name(\"B\")"
   ]
  },
  {
   "cell_type": "markdown",
   "metadata": {},
   "source": [
    "- 생성자를 통해, 클래스 변수가 변경된 것을 확인 가능 \n",
    "- 모든 인스턴스는 이 클래스 변수를 공유"
   ]
  },
  {
   "cell_type": "code",
   "execution_count": 45,
   "metadata": {},
   "outputs": [
    {
     "data": {
      "text/plain": [
       "'B'"
      ]
     },
     "execution_count": 45,
     "metadata": {},
     "output_type": "execute_result"
    }
   ],
   "source": [
    "Student.get_class_name()"
   ]
  },
  {
   "cell_type": "markdown",
   "metadata": {},
   "source": [
    "### - 정적 메소드\n",
    "- 보통 정적 메서드는 인스턴스 속성, 인스턴스 메서드가 필요 없을 때 사용합니다.\n"
   ]
  },
  {
   "cell_type": "code",
   "execution_count": 31,
   "metadata": {},
   "outputs": [],
   "source": [
    "class Calc:\n",
    "    @staticmethod\n",
    "    def add(a, b):\n",
    "        print(a + b)\n",
    "\n",
    "    @staticmethod\n",
    "    def mul(a, b):\n",
    "        print(a * b)"
   ]
  }
 ],
 "metadata": {
  "kernelspec": {
   "display_name": "Python 3",
   "language": "python",
   "name": "python3"
  },
  "language_info": {
   "codemirror_mode": {
    "name": "ipython",
    "version": 3
   },
   "file_extension": ".py",
   "mimetype": "text/x-python",
   "name": "python",
   "nbconvert_exporter": "python",
   "pygments_lexer": "ipython3",
   "version": "3.7.6"
  }
 },
 "nbformat": 4,
 "nbformat_minor": 4
}
