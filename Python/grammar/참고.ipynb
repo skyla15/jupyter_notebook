{
 "cells": [
  {
   "cell_type": "markdown",
   "metadata": {},
   "source": [
    "파이썬에서 list comprehension의 형태는 보통\n",
    "\n",
    "a = [i for i in range(10) if i >= 5]\n",
    "\n",
    "와 같다. 그런데 여기에 else문을 넣으려면 위의 구문의 순서가 약간 달라진다.\n",
    "\n",
    "a = [i if i>= 5 else 'None' for i in range(10)]\n",
    "\n",
    "for와 if의 순서가 뒤바뀐다. 아래를 보면 기존과 동일한 방식으로 사용하면 에러가 나는 것을 확인할 수 있다."
   ]
  }
 ],
 "metadata": {
  "kernelspec": {
   "display_name": "Python 3",
   "language": "python",
   "name": "python3"
  },
  "language_info": {
   "codemirror_mode": {
    "name": "ipython",
    "version": 3
   },
   "file_extension": ".py",
   "mimetype": "text/x-python",
   "name": "python",
   "nbconvert_exporter": "python",
   "pygments_lexer": "ipython3",
   "version": "3.7.6"
  }
 },
 "nbformat": 4,
 "nbformat_minor": 4
}
