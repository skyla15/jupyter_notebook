{
 "cells": [
  {
   "cell_type": "markdown",
   "metadata": {},
   "source": [
    "## 1. Math Module"
   ]
  },
  {
   "cell_type": "markdown",
   "metadata": {},
   "source": [
    "### 1.1. 함수 \n",
    "    - factorial(x)  : x의 계승\n",
    "    - gcd(a, b)     : a,b 최대 공약수\n",
    "    - floor(x)      : x의 소수점 아래 버림\n",
    "    - ceil(x)       : x의 소수점 아래 올림\n",
    "    - pow(x,y)      : x의 y승 ( x**y )\n",
    "    - sqrt(x)       : x의 제곱근\n",
    "    - log(x, base)  : base를 밑으로하는 x의 로그"
   ]
  },
  {
   "cell_type": "markdown",
   "metadata": {},
   "source": [
    "### 1.2. 상수 \n",
    "    - pi            : 원주율\n",
    "    - e             : 자연상수(e)\n",
    "    - inf           : 양의 무한대"
   ]
  },
  {
   "cell_type": "code",
   "execution_count": 4,
   "metadata": {},
   "outputs": [
    {
     "name": "stdout",
     "output_type": "stream",
     "text": [
      "gcd(21,28) :     7\n",
      "floor(math.e) :  2\n",
      "ceil(math.e)  :  3\n"
     ]
    }
   ],
   "source": [
    "import math\n",
    "print( 'gcd(21,28) :    ', math.gcd(21, 28)  )    # 21과 28의 최대공약수         / 7\n",
    "print( 'floor(math.e) : ', math.floor(math.e))  # 자연상수의 소수점 아래를 버림   / 2\n",
    "print( 'ceil(math.e)  : ', math.ceil(math.e) ) # 자연상수의 소수점 아래를 올림   / 3\n"
   ]
  },
  {
   "cell_type": "markdown",
   "metadata": {},
   "source": [
    "## 2. Random Module "
   ]
  },
  {
   "cell_type": "markdown",
   "metadata": {},
   "source": [
    "### 2.1. 함수 "
   ]
  },
  {
   "cell_type": "markdown",
   "metadata": {},
   "source": [
    "- Rnadom 정수 / 실수 \n",
    "    - randint(a,b)  : a이상 b이하 정수\n",
    "    - seed(a=None)  : 난수 seed 'a' 설정 / a 없을 경우 시스템 시간 사용  \n",
    "                      seed값을 동일하게 설정하면 난수 발생순서가 동일하게 발생   \n",
    "    - random()      : 0이상 1미만 실수 \n",
    "\n",
    "- 시퀀스 객체 사용 \n",
    "    - choice(seq)   : seq 임의 요소 무작위 선택\n",
    "\n",
    "    - sample(seq, k): seq 임의 요소 K개 무작위 선택\n",
    "    - shuffle(seq)  : seq 무작위 shuffle\n",
    "\n",
    "- random.random() : return a random acutual number between 0 and 1\n",
    "- random.randrange(n,m) : return a random nubmer between n and m"
   ]
  },
  {
   "cell_type": "code",
   "execution_count": 8,
   "metadata": {},
   "outputs": [
    {
     "name": "stdout",
     "output_type": "stream",
     "text": [
      "돼지\n",
      "돼지\n",
      "False\n",
      "['곰', '여우', '고양이']\n",
      "Original S :  ['고양이', '곰', '돼지', '여우', '담비']\n",
      "Shuffled S :  None\n"
     ]
    }
   ],
   "source": [
    "import random\n",
    "S = ['고양이', '곰', '돼지', '여우', '담비']\n",
    "print(S[random.randint(0,len(S)-1)])\n",
    "print(random.choice(S))     # S에서 1개 무작위 선택\n",
    "print(random.choice([True,False]))\n",
    "print(random.sample(S, 3))  # S에서 3개 무작위 선택\n",
    "print('Original S : ', S)\n",
    "print('Shuffled S : ', random.shuffle(S))"
   ]
  },
  {
   "cell_type": "markdown",
   "metadata": {},
   "source": [
    "## 3. itertools "
   ]
  },
  {
   "cell_type": "markdown",
   "metadata": {},
   "source": [
    "### 3.1. 함수 \n",
    "- product(seq1, seq2, ...)  : 여러 시퀀스들의 곱집합 \n",
    "- permutations(p, r)        : p 시퀀스의 요소 r개를 나열하는 순열 ( pPr ) \n",
    "- combinations(p, r)        : p 시퀀스의 요소 r개를 선택하는 조합 ( pCr )\n",
    "- combinations_with_replacement(p,r) : p 시퀀스의 요소 r개를 중복 허용 선택하는 조합 ( p∏r ) "
   ]
  },
  {
   "cell_type": "markdown",
   "metadata": {},
   "source": [
    "###### product"
   ]
  },
  {
   "cell_type": "code",
   "execution_count": 10,
   "metadata": {},
   "outputs": [
    {
     "name": "stdout",
     "output_type": "stream",
     "text": [
      "[('사막', '곰'),\n",
      " ('사막', '고양이'),\n",
      " ('사막', '여우'),\n",
      " ('북극', '곰'),\n",
      " ('북극', '고양이'),\n",
      " ('북극', '여우')]\n"
     ]
    }
   ],
   "source": [
    "import itertools\n",
    "from pprint import pprint\n",
    "S1 = ['사막', '북극']\n",
    "S2 = ['곰', '고양이', '여우']\n",
    "S3 =list( itertools.product(S1, S2) )\n",
    "pprint(S3)"
   ]
  },
  {
   "cell_type": "markdown",
   "metadata": {},
   "source": [
    "###### permutations"
   ]
  },
  {
   "cell_type": "code",
   "execution_count": 11,
   "metadata": {},
   "outputs": [
    {
     "name": "stdout",
     "output_type": "stream",
     "text": [
      "[('곰', '고양이'),\n",
      " ('곰', '여우'),\n",
      " ('고양이', '곰'),\n",
      " ('고양이', '여우'),\n",
      " ('여우', '곰'),\n",
      " ('여우', '고양이')]\n"
     ]
    }
   ],
   "source": [
    "pprint(list(itertools.permutations(S2, 2)))"
   ]
  },
  {
   "cell_type": "markdown",
   "metadata": {},
   "source": [
    "###### combinations"
   ]
  },
  {
   "cell_type": "code",
   "execution_count": 14,
   "metadata": {},
   "outputs": [
    {
     "name": "stdout",
     "output_type": "stream",
     "text": [
      "[('곰', '고양이'), ('곰', '여우'), ('고양이', '여우')]\n"
     ]
    }
   ],
   "source": [
    "pprint(list(itertools.combinations(S2, 2)))"
   ]
  },
  {
   "cell_type": "markdown",
   "metadata": {},
   "source": [
    "###### combinations_with_replacement"
   ]
  },
  {
   "cell_type": "code",
   "execution_count": 15,
   "metadata": {},
   "outputs": [
    {
     "name": "stdout",
     "output_type": "stream",
     "text": [
      "[('곰', '곰'),\n",
      " ('곰', '고양이'),\n",
      " ('곰', '여우'),\n",
      " ('고양이', '고양이'),\n",
      " ('고양이', '여우'),\n",
      " ('여우', '여우')]\n"
     ]
    }
   ],
   "source": [
    "pprint(list(itertools.combinations_with_replacement(S2, 2)))"
   ]
  },
  {
   "cell_type": "code",
   "execution_count": null,
   "metadata": {},
   "outputs": [],
   "source": []
  }
 ],
 "metadata": {
  "kernelspec": {
   "display_name": "Python 3",
   "language": "python",
   "name": "python3"
  },
  "language_info": {
   "codemirror_mode": {
    "name": "ipython",
    "version": 3
   },
   "file_extension": ".py",
   "mimetype": "text/x-python",
   "name": "python",
   "nbconvert_exporter": "python",
   "pygments_lexer": "ipython3",
   "version": "3.7.6"
  }
 },
 "nbformat": 4,
 "nbformat_minor": 4
}
