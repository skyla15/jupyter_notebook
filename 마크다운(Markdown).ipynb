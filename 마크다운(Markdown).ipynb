{
 "cells": [
  {
   "cell_type": "markdown",
   "metadata": {
    "toc-hr-collapsed": true
   },
   "source": [
    "# 마크다운(Markdown) 사용법"
   ]
  },
  {
   "cell_type": "markdown",
   "metadata": {},
   "source": [
    "## 1. 마크다운이란?\n",
    "\n",
    "Markdown은 텍스트 기반의 마크업언어로 2004년 존그루버에 의해 만들어졌으며 쉽게 쓰고 읽을 수 있으며 HTML로 변환이 가능하다. 특수기호와 문자를 이용한 매우 간단한 구조의 문법을 사용하여 웹에서도 보다 빠르게 컨텐츠를 작성하고 보다 직관적으로 인식할 수 있다. 마크다운이 최근 각광받기 시작한 이유는 깃헙(https://github.com) 덕분이다. 깃헙의 저장소Repository에 관한 정보를 기록하는 README.md는 깃헙을 사용하는 사람이라면 누구나 가장 먼저 접하게 되는 마크다운 문서였다. 마크다운을 통해서 설치방법, 소스코드 설명, 이슈 등을 간단하게 기록하고 가독성을 높일 수 있다는 강점이 부각되면서 점점 여러 곳으로 퍼져가게 된다."
   ]
  },
  {
   "cell_type": "markdown",
   "metadata": {},
   "source": [
    "### 1.1 마크다운 장점\n",
    "\n",
    "1. 간결하다.\n",
    "1. 별도의 도구없이 작성가능하다.\n",
    "1. 다양한 형태로 변환이 가능하다.\n",
    "1. 텍스트(Text)로 저장되기 때문에 용량이 적어 보관이 용이하다.\n",
    "1. 텍스트파일이기 때문에 버전관리시스템을 이용하여 변경이력을 관리할 수 있다.\n",
    "1. 지원하는 프로그램과 플랫폼이 다양하다."
   ]
  },
  {
   "cell_type": "markdown",
   "metadata": {},
   "source": [
    "### 1.2 마크다운 단점\n",
    "\n",
    "1. 표준이 없다.\n",
    "1. 표준이 없기 때문에 도구에 따라서 변환방식이나 생성물이 다르다.\n",
    "1. 모든 HTML 마크업을 대신하지 못한다."
   ]
  },
  {
   "cell_type": "markdown",
   "metadata": {},
   "source": [
    "### 1.3 자주쓰는 단축키 사용\n",
    "- ESC : 셀 편집모드\n",
    "- Enter : 글자 편집모드\n",
    "- Shift + Enter : 셀 실행하며 새로운 셀 추가\n",
    "- Ctrl + Enter : 셀 실행\n",
    "- 셀편집모드 (ESC) 에서\n",
    " - Y : 언어 코드 모드\n",
    " - M : 마크 다운 모드\n",
    " - B : 선택된 셀 아래에 셀 추가\n",
    " - A : 선택된 셀 위에 셀 추가"
   ]
  },
  {
   "cell_type": "markdown",
   "metadata": {},
   "source": [
    "---"
   ]
  },
  {
   "cell_type": "markdown",
   "metadata": {},
   "source": [
    "## 2. 문서 골격 잡기\n",
    "  \n",
    "### 2.1 Header \n",
    "__`#` 기호__와 __개수__를 통해 간단히 사용가능 (1~6까지 지원)\n",
    "<pre style=\"background: rgb(230, 230, 230); padding: 0.5rem;\">\n",
    "    # header1\n",
    "    ## header2\n",
    "    ### header3\n",
    "    #### header4\n",
    "    ##### header5\n",
    "    ###### header6\n",
    "</pre>"
   ]
  },
  {
   "cell_type": "markdown",
   "metadata": {},
   "source": [
    "# header1\n",
    "## header2\n",
    "### header3\n",
    "#### header4\n",
    "##### header5\n",
    "###### 제목입니다."
   ]
  },
  {
   "cell_type": "markdown",
   "metadata": {},
   "source": [
    "### 2.1 리스트 작성\n",
    "__`+` 기호__ 또는 __숫자 + .__과 __들여쓰기__를 통해 간단히 사용가능  \n",
    "\n",
    "<pre style=\"background: rgb(230, 230, 230); padding: 0.5rem;\">+ 목록1</pre>\n",
    " \n",
    "+ 목록1  \n",
    "\n",
    "<pre style=\"background: rgb(230, 230, 230); padding: 0.5rem;\">\n",
    "+ 목록1\n",
    "    + 목록1-1</pre>\n",
    "+ 목록1\n",
    "    + 목록1-1\n",
    "    \n",
    "<pre style=\"background: rgb(230, 230, 230); padding: 0.5rem;\">\n",
    "+ 목록1\n",
    "    + 목록1-1\n",
    "        + 목록1-1-1\n",
    "    + 목록1-2\n",
    "        + 목록1-2-1</pre>  \n"
   ]
  },
  {
   "cell_type": "markdown",
   "metadata": {},
   "source": [
    "+ 목록1\n",
    "    + 목록1-1\n",
    "        + 목록1-1-1\n",
    "    + 목록1-2\n",
    "        + 목록1-2-1  "
   ]
  },
  {
   "cell_type": "markdown",
   "metadata": {},
   "source": [
    "        \n",
    "<pre style=\"background: rgb(230, 230, 230); padding: 0.5rem;\">\n",
    "1. 목록\n",
    "    1. 목록\n",
    "        1. 목록\n",
    "            1. 목록\n",
    "</pre>"
   ]
  },
  {
   "cell_type": "markdown",
   "metadata": {},
   "source": [
    "1. 목록\n",
    "    1. 목록\n",
    "        1. 목록\n",
    "            1. 목록"
   ]
  },
  {
   "cell_type": "markdown",
   "metadata": {},
   "source": [
    "### 2.3 구분선 쓰기\n",
    "\n",
    "__`---`__(하이픈 기호 세개 이상)을 입력하면 구분선이 추가된다. \n"
   ]
  },
  {
   "cell_type": "markdown",
   "metadata": {},
   "source": [
    "---\n",
    "-----\n",
    "---------\n",
    "-----------------------------------------------\n",
    "-------"
   ]
  },
  {
   "cell_type": "markdown",
   "metadata": {},
   "source": [
    "---\n",
    "## 3. 내용 쓰기\n",
    "\n",
    "### 3.1 New Line\n",
    "    한 줄 개행은 Enter로 되지 않는다. __2번의 space(공백)__를 쓰면 줄바꿈이 가능하다. "
   ]
  },
  {
   "cell_type": "markdown",
   "metadata": {},
   "source": [
    "안녕하세요.\n",
    "파이썬입니다..\n",
    "\n",
    "안녕하세요.  \n",
    "파이썬입니다."
   ]
  },
  {
   "cell_type": "markdown",
   "metadata": {},
   "source": [
    "### 3.2 강조하기\n",
    "+ ### 3.2.1 Bold\n",
    "강조할 내용을 `_`(언더스코어) 두개로 감싼다.  \n",
    "`__ 강조 내용__` "
   ]
  },
  {
   "cell_type": "markdown",
   "metadata": {},
   "source": [
    "안녕하세요. __파이썬__입니다."
   ]
  },
  {
   "cell_type": "markdown",
   "metadata": {},
   "source": [
    "+ ### 3.2.2 인용구쓰기\n",
    "문장 앞에 `>`를 쓰면 인용구처럼 쓸 수 있다."
   ]
  },
  {
   "cell_type": "markdown",
   "metadata": {},
   "source": [
    "> Hello World!"
   ]
  },
  {
   "cell_type": "markdown",
   "metadata": {},
   "source": [
    "    여러개의 >를 사용할 수 있고, 다른 기능과 섞어서 사용할 수도 있다."
   ]
  },
  {
   "cell_type": "markdown",
   "metadata": {},
   "source": [
    ">Hi\n",
    ">> __Bye__\n",
    ">>> # 123\n",
    ">>> + one\n",
    "    + two\n",
    "        + three"
   ]
  },
  {
   "cell_type": "markdown",
   "metadata": {},
   "source": [
    "### 3.3 Code 쓰기\n",
    "    마크다운에서 특수문자들은 특별한 기능을 제공하기 때문에 코드에 사용되는 특수문자들이 왜곡 표시될 수 있다.  \n",
    " __예시__  \n",
    ">작성코드 -> `__init__(self, x):`  \n",
    ">  \n",
    ">결과 -> __init__(self, x):  \n",
    "  \n",
    "+ ### 3-3-1 inline으로 쓰기\n",
    "<pre style=\"background: rgb(230, 230, 230); padding: 0.5rem; display:inline-block;\">` [code] `</pre>를 통해 사용가능 (키보드 ~ 표시에 있는 점)<br>\n",
    "\n"
   ]
  },
  {
   "cell_type": "markdown",
   "metadata": {},
   "source": [
    "__init__(): 메서드는 초기화할 때 사용된다.  \n",
    "` __init__():` 메서드는 초기화할 때 사용된다."
   ]
  },
  {
   "cell_type": "markdown",
   "metadata": {},
   "source": [
    "+ ### 3-3-2 block으로 쓰기 \n",
    "<pre style=\"background: rgb(230, 230, 230); padding: 0.5rem; display:inline-block;\">``` [code] ```</pre> 세 개의 점을 통해 사용가능"
   ]
  },
  {
   "cell_type": "markdown",
   "metadata": {},
   "source": [
    "```\n",
    "def __init__(self, x):\n",
    "    self.x = x\n",
    "```"
   ]
  },
  {
   "cell_type": "markdown",
   "metadata": {},
   "source": [
    "  \n",
    "### 3.4 Link 걸기\n",
    "기본적으로 url을 쓰면 링크가 활성화된다.  \n",
    "www.naver.com  \n",
    "  \n",
    "만약 주소의 이름을 명시하고 싶다면 다음 형식을 쓰면된다.  \n",
    "  \n",
    "  `[사용할 이름](url)`  \n",
    "\n"
   ]
  },
  {
   "cell_type": "markdown",
   "metadata": {},
   "source": [
    "<실습>\n",
    "[네이버](https://www.naver.com/)"
   ]
  },
  {
   "cell_type": "markdown",
   "metadata": {},
   "source": [
    "### 3.5 이미지 올리기\n",
    "링크를 걸었던 형식 앞에 !만 붙이면 된다.  \n",
    "`![이미지 이름](이미지 주소)`  \n"
   ]
  },
  {
   "cell_type": "markdown",
   "metadata": {},
   "source": [
    "<실습>  \n",
    "![주피터](https://upload.wikimedia.org/wikipedia/commons/thumb/3/38/Jupyter_logo.svg/250px-Jupyter_logo.svg.png)"
   ]
  },
  {
   "cell_type": "markdown",
   "metadata": {},
   "source": [
    "### 3.6 특수문자 사용하기\n",
    "사용이 안되는 특수문자는 다음 사이트를 참고하세요.  \n",
    "http://ccambo.blogspot.com/2017/04/markdown_5.html"
   ]
  },
  {
   "cell_type": "markdown",
   "metadata": {},
   "source": [
    "---\n",
    "## 4. 수식 쓰기\n",
    "\n",
    "수식을 입려할 때는 `$`표시를 사용한다.  \n",
    "※ __1개__를 사용하면 `inline` , __2개__를 사용하면 `block+가운데` 정렬이 된다.\n",
    "\n",
    "[참조](https://math.meta.stackexchange.com/questions/5020/mathjax-basic-tutorial-and-quick-reference) "
   ]
  },
  {
   "cell_type": "markdown",
   "metadata": {},
   "source": [
    "<실습>  \n",
    "$f(x) = x^2$"
   ]
  },
  {
   "cell_type": "markdown",
   "metadata": {},
   "source": [
    "$$f(x) = x^2$$"
   ]
  },
  {
   "cell_type": "markdown",
   "metadata": {},
   "source": [
    "$$\\sum_{i=0}^n i^2 = \\frac{(n^2+n)(2n+1)}{6}$$"
   ]
  },
  {
   "cell_type": "markdown",
   "metadata": {},
   "source": [
    "---"
   ]
  },
  {
   "cell_type": "markdown",
   "metadata": {},
   "source": [
    "## 5. html 및 표 작성\n",
    "\n",
    "+ HTML문법도 사용 가능하다.\n",
    "+ 표를 작성하고 싶다면 다음 사이트를 확인해보세요.\n",
    "    + http://www.tablesgenerator.com/markdown_tables#"
   ]
  },
  {
   "cell_type": "markdown",
   "metadata": {},
   "source": [
    "| \\\\ \t| 1 \t| 2 \t| 3 \t| 4 \t|\n",
    "|----\t|---\t|---\t|---\t|---\t|\n",
    "| 1  \t| A \t| B \t| C \t| D \t|\n",
    "| 2  \t| E \t| F \t| G \t| H \t|\n",
    "| 3  \t| I \t| J \t| K \t| L \t|"
   ]
  },
  {
   "cell_type": "markdown",
   "metadata": {},
   "source": [
    "| \\\\ \t| 1  \t| 2  \t| 3 \t| 4 \t|\n",
    "|----\t|----\t|----\t|---\t|---\t|\n",
    "| 1  \t| 가 \t| 나 \t| C \t| D \t|\n",
    "| 2  \t| E  \t| F  \t| G \t| H \t|\n",
    "| 3  \t| I  \t| J  \t| K \t| L \t|"
   ]
  }
 ],
 "metadata": {
  "kernelspec": {
   "display_name": "Python 3",
   "language": "python",
   "name": "python3"
  },
  "language_info": {
   "codemirror_mode": {
    "name": "ipython",
    "version": 3
   },
   "file_extension": ".py",
   "mimetype": "text/x-python",
   "name": "python",
   "nbconvert_exporter": "python",
   "pygments_lexer": "ipython3",
   "version": "3.7.6"
  },
  "toc-autonumbering": false,
  "toc-showmarkdowntxt": false,
  "toc-showtags": false
 },
 "nbformat": 4,
 "nbformat_minor": 4
}
